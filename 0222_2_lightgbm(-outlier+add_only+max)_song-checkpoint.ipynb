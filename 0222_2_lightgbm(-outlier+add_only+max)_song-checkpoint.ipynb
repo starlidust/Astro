{
 "cells": [
  {
   "cell_type": "markdown",
   "metadata": {},
   "source": [
    "# Tune_lgb\n",
    "* 제출결과 : "
   ]
  },
  {
   "cell_type": "code",
   "execution_count": 1,
   "metadata": {
    "ExecuteTime": {
     "end_time": "2020-02-21T14:13:05.640000Z",
     "start_time": "2020-02-21T14:13:04.287000Z"
    }
   },
   "outputs": [
    {
     "data": {
      "text/html": [
       "<style>.container {width:100% !important; }</style>"
      ],
      "text/plain": [
       "<IPython.core.display.HTML object>"
      ]
     },
     "metadata": {},
     "output_type": "display_data"
    }
   ],
   "source": [
    "import pandas as pd\n",
    "import numpy as np\n",
    "import matplotlib.pyplot as plt\n",
    "import seaborn as sns\n",
    "\n",
    "from sklearn.ensemble import RandomForestClassifier\n",
    "from sklearn.model_selection import train_test_split\n",
    "from sklearn.metrics import confusion_matrix\n",
    "from sklearn.metrics import log_loss\n",
    "# from imblearn.combine import SMOTEENN\n",
    "import lightgbm as lgb\n",
    "\n",
    "from IPython.core.display import display, HTML\n",
    "display(HTML('<style>.container {width:100% !important; }</style>'))"
   ]
  },
  {
   "cell_type": "code",
   "execution_count": 2,
   "metadata": {
    "ExecuteTime": {
     "end_time": "2020-02-21T14:13:06.584000Z",
     "start_time": "2020-02-21T14:13:05.641000Z"
    }
   },
   "outputs": [],
   "source": [
    "path = \"./data/\" \n",
    "train_df = pd.read_csv(path+'train.csv',index_col=0)\n",
    "test_df = pd.read_csv(path+'test.csv',index_col=0)\n",
    "sample_submission_df = pd.read_csv(path+'sample_submission.csv',index_col=0)\n",
    "pd.options.display.max_columns = 30"
   ]
  },
  {
   "cell_type": "markdown",
   "metadata": {},
   "source": [
    "## 전처리\n",
    " - 이상치 확인 및 처리"
   ]
  },
  {
   "cell_type": "code",
   "execution_count": 3,
   "metadata": {
    "ExecuteTime": {
     "end_time": "2020-02-21T14:13:06.805000Z",
     "start_time": "2020-02-21T14:13:06.586000Z"
    }
   },
   "outputs": [
    {
     "data": {
      "text/html": [
       "<div>\n",
       "<style scoped>\n",
       "    .dataframe tbody tr th:only-of-type {\n",
       "        vertical-align: middle;\n",
       "    }\n",
       "\n",
       "    .dataframe tbody tr th {\n",
       "        vertical-align: top;\n",
       "    }\n",
       "\n",
       "    .dataframe thead th {\n",
       "        text-align: right;\n",
       "    }\n",
       "</style>\n",
       "<table border=\"1\" class=\"dataframe\">\n",
       "  <thead>\n",
       "    <tr style=\"text-align: right;\">\n",
       "      <th></th>\n",
       "      <th>fiberID</th>\n",
       "      <th>psfMag_u</th>\n",
       "      <th>psfMag_g</th>\n",
       "      <th>psfMag_r</th>\n",
       "      <th>psfMag_i</th>\n",
       "      <th>psfMag_z</th>\n",
       "      <th>fiberMag_u</th>\n",
       "      <th>fiberMag_g</th>\n",
       "      <th>fiberMag_r</th>\n",
       "      <th>fiberMag_i</th>\n",
       "      <th>fiberMag_z</th>\n",
       "      <th>petroMag_u</th>\n",
       "      <th>petroMag_g</th>\n",
       "      <th>petroMag_r</th>\n",
       "      <th>petroMag_i</th>\n",
       "      <th>petroMag_z</th>\n",
       "      <th>modelMag_u</th>\n",
       "      <th>modelMag_g</th>\n",
       "      <th>modelMag_r</th>\n",
       "      <th>modelMag_i</th>\n",
       "      <th>modelMag_z</th>\n",
       "    </tr>\n",
       "  </thead>\n",
       "  <tbody>\n",
       "    <tr>\n",
       "      <td>count</td>\n",
       "      <td>199991.000000</td>\n",
       "      <td>1.999910e+05</td>\n",
       "      <td>199991.000000</td>\n",
       "      <td>199991.000000</td>\n",
       "      <td>199991.000000</td>\n",
       "      <td>199991.000000</td>\n",
       "      <td>1.999910e+05</td>\n",
       "      <td>199991.000000</td>\n",
       "      <td>199991.000000</td>\n",
       "      <td>199991.000000</td>\n",
       "      <td>199991.000000</td>\n",
       "      <td>199991.000000</td>\n",
       "      <td>199991.000000</td>\n",
       "      <td>199991.000000</td>\n",
       "      <td>199991.000000</td>\n",
       "      <td>199991.000000</td>\n",
       "      <td>199991.000000</td>\n",
       "      <td>199991.000000</td>\n",
       "      <td>199991.000000</td>\n",
       "      <td>199991.000000</td>\n",
       "      <td>199991.000000</td>\n",
       "    </tr>\n",
       "    <tr>\n",
       "      <td>mean</td>\n",
       "      <td>360.830152</td>\n",
       "      <td>-6.750146e+00</td>\n",
       "      <td>18.675373</td>\n",
       "      <td>18.401235</td>\n",
       "      <td>18.043495</td>\n",
       "      <td>17.663526</td>\n",
       "      <td>1.084986e+01</td>\n",
       "      <td>19.072693</td>\n",
       "      <td>19.134483</td>\n",
       "      <td>18.183331</td>\n",
       "      <td>18.000882</td>\n",
       "      <td>21.837903</td>\n",
       "      <td>18.454136</td>\n",
       "      <td>18.481525</td>\n",
       "      <td>17.686617</td>\n",
       "      <td>17.699207</td>\n",
       "      <td>20.110991</td>\n",
       "      <td>18.544375</td>\n",
       "      <td>18.181544</td>\n",
       "      <td>17.692395</td>\n",
       "      <td>17.189281</td>\n",
       "    </tr>\n",
       "    <tr>\n",
       "      <td>std</td>\n",
       "      <td>225.305890</td>\n",
       "      <td>1.187678e+04</td>\n",
       "      <td>155.423024</td>\n",
       "      <td>127.128078</td>\n",
       "      <td>116.622194</td>\n",
       "      <td>123.735298</td>\n",
       "      <td>4.172116e+03</td>\n",
       "      <td>749.256162</td>\n",
       "      <td>90.049058</td>\n",
       "      <td>122.378972</td>\n",
       "      <td>145.862346</td>\n",
       "      <td>789.472333</td>\n",
       "      <td>154.376277</td>\n",
       "      <td>97.240448</td>\n",
       "      <td>145.730872</td>\n",
       "      <td>142.691880</td>\n",
       "      <td>122.299062</td>\n",
       "      <td>161.728183</td>\n",
       "      <td>133.984475</td>\n",
       "      <td>131.183416</td>\n",
       "      <td>133.685138</td>\n",
       "    </tr>\n",
       "    <tr>\n",
       "      <td>min</td>\n",
       "      <td>1.000000</td>\n",
       "      <td>-5.310802e+06</td>\n",
       "      <td>-40022.466071</td>\n",
       "      <td>-27184.795793</td>\n",
       "      <td>-26566.310827</td>\n",
       "      <td>-24878.828280</td>\n",
       "      <td>-1.864766e+06</td>\n",
       "      <td>-215882.917191</td>\n",
       "      <td>-21802.656144</td>\n",
       "      <td>-20208.516262</td>\n",
       "      <td>-26505.602101</td>\n",
       "      <td>-24463.431833</td>\n",
       "      <td>-25958.752324</td>\n",
       "      <td>-23948.588523</td>\n",
       "      <td>-40438.184078</td>\n",
       "      <td>-30070.729379</td>\n",
       "      <td>-26236.578659</td>\n",
       "      <td>-36902.402336</td>\n",
       "      <td>-36439.638493</td>\n",
       "      <td>-38969.416822</td>\n",
       "      <td>-26050.710196</td>\n",
       "    </tr>\n",
       "    <tr>\n",
       "      <td>25%</td>\n",
       "      <td>174.000000</td>\n",
       "      <td>1.965259e+01</td>\n",
       "      <td>18.701180</td>\n",
       "      <td>18.048572</td>\n",
       "      <td>17.747663</td>\n",
       "      <td>17.425523</td>\n",
       "      <td>1.994040e+01</td>\n",
       "      <td>18.902851</td>\n",
       "      <td>18.259352</td>\n",
       "      <td>17.903615</td>\n",
       "      <td>17.606148</td>\n",
       "      <td>19.247795</td>\n",
       "      <td>18.113933</td>\n",
       "      <td>17.479794</td>\n",
       "      <td>17.050294</td>\n",
       "      <td>16.804705</td>\n",
       "      <td>19.266214</td>\n",
       "      <td>18.076120</td>\n",
       "      <td>17.423425</td>\n",
       "      <td>16.977671</td>\n",
       "      <td>16.705774</td>\n",
       "    </tr>\n",
       "    <tr>\n",
       "      <td>50%</td>\n",
       "      <td>349.000000</td>\n",
       "      <td>2.087136e+01</td>\n",
       "      <td>19.904235</td>\n",
       "      <td>19.454492</td>\n",
       "      <td>19.043895</td>\n",
       "      <td>18.611799</td>\n",
       "      <td>2.104910e+01</td>\n",
       "      <td>20.069038</td>\n",
       "      <td>19.631419</td>\n",
       "      <td>19.188763</td>\n",
       "      <td>18.710967</td>\n",
       "      <td>20.366848</td>\n",
       "      <td>19.586559</td>\n",
       "      <td>19.182789</td>\n",
       "      <td>18.693370</td>\n",
       "      <td>18.174592</td>\n",
       "      <td>20.406840</td>\n",
       "      <td>19.547674</td>\n",
       "      <td>19.143156</td>\n",
       "      <td>18.641756</td>\n",
       "      <td>18.100997</td>\n",
       "    </tr>\n",
       "    <tr>\n",
       "      <td>75%</td>\n",
       "      <td>526.000000</td>\n",
       "      <td>2.216043e+01</td>\n",
       "      <td>21.150297</td>\n",
       "      <td>20.515936</td>\n",
       "      <td>20.073528</td>\n",
       "      <td>19.883760</td>\n",
       "      <td>2.233754e+01</td>\n",
       "      <td>21.385830</td>\n",
       "      <td>20.773911</td>\n",
       "      <td>20.331419</td>\n",
       "      <td>20.133179</td>\n",
       "      <td>21.797480</td>\n",
       "      <td>21.004397</td>\n",
       "      <td>20.457491</td>\n",
       "      <td>20.019112</td>\n",
       "      <td>19.807652</td>\n",
       "      <td>21.992898</td>\n",
       "      <td>20.962386</td>\n",
       "      <td>20.408140</td>\n",
       "      <td>19.968846</td>\n",
       "      <td>19.819554</td>\n",
       "    </tr>\n",
       "    <tr>\n",
       "      <td>max</td>\n",
       "      <td>1000.000000</td>\n",
       "      <td>1.877392e+04</td>\n",
       "      <td>3538.984910</td>\n",
       "      <td>3048.110913</td>\n",
       "      <td>4835.218639</td>\n",
       "      <td>9823.740407</td>\n",
       "      <td>4.870154e+03</td>\n",
       "      <td>248077.513380</td>\n",
       "      <td>12084.735440</td>\n",
       "      <td>8059.638535</td>\n",
       "      <td>18358.921741</td>\n",
       "      <td>298771.019041</td>\n",
       "      <td>12139.815877</td>\n",
       "      <td>7003.136546</td>\n",
       "      <td>9772.190537</td>\n",
       "      <td>17403.789263</td>\n",
       "      <td>14488.251976</td>\n",
       "      <td>10582.058590</td>\n",
       "      <td>12237.951703</td>\n",
       "      <td>4062.499371</td>\n",
       "      <td>7420.534172</td>\n",
       "    </tr>\n",
       "  </tbody>\n",
       "</table>\n",
       "</div>"
      ],
      "text/plain": [
       "             fiberID      psfMag_u       psfMag_g       psfMag_r  \\\n",
       "count  199991.000000  1.999910e+05  199991.000000  199991.000000   \n",
       "mean      360.830152 -6.750146e+00      18.675373      18.401235   \n",
       "std       225.305890  1.187678e+04     155.423024     127.128078   \n",
       "min         1.000000 -5.310802e+06  -40022.466071  -27184.795793   \n",
       "25%       174.000000  1.965259e+01      18.701180      18.048572   \n",
       "50%       349.000000  2.087136e+01      19.904235      19.454492   \n",
       "75%       526.000000  2.216043e+01      21.150297      20.515936   \n",
       "max      1000.000000  1.877392e+04    3538.984910    3048.110913   \n",
       "\n",
       "            psfMag_i       psfMag_z    fiberMag_u     fiberMag_g  \\\n",
       "count  199991.000000  199991.000000  1.999910e+05  199991.000000   \n",
       "mean       18.043495      17.663526  1.084986e+01      19.072693   \n",
       "std       116.622194     123.735298  4.172116e+03     749.256162   \n",
       "min    -26566.310827  -24878.828280 -1.864766e+06 -215882.917191   \n",
       "25%        17.747663      17.425523  1.994040e+01      18.902851   \n",
       "50%        19.043895      18.611799  2.104910e+01      20.069038   \n",
       "75%        20.073528      19.883760  2.233754e+01      21.385830   \n",
       "max      4835.218639    9823.740407  4.870154e+03  248077.513380   \n",
       "\n",
       "          fiberMag_r     fiberMag_i     fiberMag_z     petroMag_u  \\\n",
       "count  199991.000000  199991.000000  199991.000000  199991.000000   \n",
       "mean       19.134483      18.183331      18.000882      21.837903   \n",
       "std        90.049058     122.378972     145.862346     789.472333   \n",
       "min    -21802.656144  -20208.516262  -26505.602101  -24463.431833   \n",
       "25%        18.259352      17.903615      17.606148      19.247795   \n",
       "50%        19.631419      19.188763      18.710967      20.366848   \n",
       "75%        20.773911      20.331419      20.133179      21.797480   \n",
       "max     12084.735440    8059.638535   18358.921741  298771.019041   \n",
       "\n",
       "          petroMag_g     petroMag_r     petroMag_i     petroMag_z  \\\n",
       "count  199991.000000  199991.000000  199991.000000  199991.000000   \n",
       "mean       18.454136      18.481525      17.686617      17.699207   \n",
       "std       154.376277      97.240448     145.730872     142.691880   \n",
       "min    -25958.752324  -23948.588523  -40438.184078  -30070.729379   \n",
       "25%        18.113933      17.479794      17.050294      16.804705   \n",
       "50%        19.586559      19.182789      18.693370      18.174592   \n",
       "75%        21.004397      20.457491      20.019112      19.807652   \n",
       "max     12139.815877    7003.136546    9772.190537   17403.789263   \n",
       "\n",
       "          modelMag_u     modelMag_g     modelMag_r     modelMag_i  \\\n",
       "count  199991.000000  199991.000000  199991.000000  199991.000000   \n",
       "mean       20.110991      18.544375      18.181544      17.692395   \n",
       "std       122.299062     161.728183     133.984475     131.183416   \n",
       "min    -26236.578659  -36902.402336  -36439.638493  -38969.416822   \n",
       "25%        19.266214      18.076120      17.423425      16.977671   \n",
       "50%        20.406840      19.547674      19.143156      18.641756   \n",
       "75%        21.992898      20.962386      20.408140      19.968846   \n",
       "max     14488.251976   10582.058590   12237.951703    4062.499371   \n",
       "\n",
       "          modelMag_z  \n",
       "count  199991.000000  \n",
       "mean       17.189281  \n",
       "std       133.685138  \n",
       "min    -26050.710196  \n",
       "25%        16.705774  \n",
       "50%        18.100997  \n",
       "75%        19.819554  \n",
       "max      7420.534172  "
      ]
     },
     "execution_count": 3,
     "metadata": {},
     "output_type": "execute_result"
    }
   ],
   "source": [
    "train_df.describe()"
   ]
  },
  {
   "cell_type": "code",
   "execution_count": 4,
   "metadata": {
    "ExecuteTime": {
     "end_time": "2020-02-21T14:13:06.812000Z",
     "start_time": "2020-02-21T14:13:06.807000Z"
    }
   },
   "outputs": [],
   "source": [
    "def del_outlier(data, min=0, max=60):\n",
    "    up_idx_t=()\n",
    "    dw_idx_t=()\n",
    "    train_light = data.iloc[:,2:]\n",
    "    for i in range(len(train_light.columns)):\n",
    "        col = train_light.columns[i]\n",
    "        up_idx_t+=tuple(data[data[col]>max].index)\n",
    "        dw_idx_t+=tuple(data[data[col]<min].index)\n",
    "    del_idx = set(up_idx_t+dw_idx_t)\n",
    "    \n",
    "    return data[~data.index.isin(del_idx)]"
   ]
  },
  {
   "cell_type": "code",
   "execution_count": 5,
   "metadata": {
    "ExecuteTime": {
     "end_time": "2020-02-21T14:13:06.932000Z",
     "start_time": "2020-02-21T14:13:06.814000Z"
    }
   },
   "outputs": [],
   "source": [
    "train_df = del_outlier(train_df, min=-20, max=40)"
   ]
  },
  {
   "cell_type": "code",
   "execution_count": 6,
   "metadata": {
    "ExecuteTime": {
     "end_time": "2020-02-21T14:13:07.158000Z",
     "start_time": "2020-02-21T14:13:06.933000Z"
    }
   },
   "outputs": [
    {
     "data": {
      "text/html": [
       "<div>\n",
       "<style scoped>\n",
       "    .dataframe tbody tr th:only-of-type {\n",
       "        vertical-align: middle;\n",
       "    }\n",
       "\n",
       "    .dataframe tbody tr th {\n",
       "        vertical-align: top;\n",
       "    }\n",
       "\n",
       "    .dataframe thead th {\n",
       "        text-align: right;\n",
       "    }\n",
       "</style>\n",
       "<table border=\"1\" class=\"dataframe\">\n",
       "  <thead>\n",
       "    <tr style=\"text-align: right;\">\n",
       "      <th></th>\n",
       "      <th>fiberID</th>\n",
       "      <th>psfMag_u</th>\n",
       "      <th>psfMag_g</th>\n",
       "      <th>psfMag_r</th>\n",
       "      <th>psfMag_i</th>\n",
       "      <th>psfMag_z</th>\n",
       "      <th>fiberMag_u</th>\n",
       "      <th>fiberMag_g</th>\n",
       "      <th>fiberMag_r</th>\n",
       "      <th>fiberMag_i</th>\n",
       "      <th>fiberMag_z</th>\n",
       "      <th>petroMag_u</th>\n",
       "      <th>petroMag_g</th>\n",
       "      <th>petroMag_r</th>\n",
       "      <th>petroMag_i</th>\n",
       "      <th>petroMag_z</th>\n",
       "      <th>modelMag_u</th>\n",
       "      <th>modelMag_g</th>\n",
       "      <th>modelMag_r</th>\n",
       "      <th>modelMag_i</th>\n",
       "      <th>modelMag_z</th>\n",
       "    </tr>\n",
       "  </thead>\n",
       "  <tbody>\n",
       "    <tr>\n",
       "      <td>count</td>\n",
       "      <td>199628.000000</td>\n",
       "      <td>199628.000000</td>\n",
       "      <td>199628.000000</td>\n",
       "      <td>199628.000000</td>\n",
       "      <td>199628.000000</td>\n",
       "      <td>199628.000000</td>\n",
       "      <td>199628.000000</td>\n",
       "      <td>199628.000000</td>\n",
       "      <td>199628.000000</td>\n",
       "      <td>199628.000000</td>\n",
       "      <td>199628.000000</td>\n",
       "      <td>199628.000000</td>\n",
       "      <td>199628.000000</td>\n",
       "      <td>199628.000000</td>\n",
       "      <td>199628.000000</td>\n",
       "      <td>199628.000000</td>\n",
       "      <td>199628.000000</td>\n",
       "      <td>199628.000000</td>\n",
       "      <td>199628.000000</td>\n",
       "      <td>199628.000000</td>\n",
       "      <td>199628.000000</td>\n",
       "    </tr>\n",
       "    <tr>\n",
       "      <td>mean</td>\n",
       "      <td>360.903350</td>\n",
       "      <td>20.981239</td>\n",
       "      <td>19.858791</td>\n",
       "      <td>19.285653</td>\n",
       "      <td>18.870895</td>\n",
       "      <td>18.611078</td>\n",
       "      <td>21.170523</td>\n",
       "      <td>20.089204</td>\n",
       "      <td>19.505105</td>\n",
       "      <td>19.087210</td>\n",
       "      <td>18.828255</td>\n",
       "      <td>20.704087</td>\n",
       "      <td>19.597613</td>\n",
       "      <td>19.006255</td>\n",
       "      <td>18.603519</td>\n",
       "      <td>18.390767</td>\n",
       "      <td>20.728641</td>\n",
       "      <td>19.528982</td>\n",
       "      <td>18.939000</td>\n",
       "      <td>18.519929</td>\n",
       "      <td>18.275409</td>\n",
       "    </tr>\n",
       "    <tr>\n",
       "      <td>std</td>\n",
       "      <td>225.356086</td>\n",
       "      <td>2.075093</td>\n",
       "      <td>1.857924</td>\n",
       "      <td>1.703280</td>\n",
       "      <td>1.622303</td>\n",
       "      <td>1.678630</td>\n",
       "      <td>1.965511</td>\n",
       "      <td>1.841122</td>\n",
       "      <td>1.703609</td>\n",
       "      <td>1.624830</td>\n",
       "      <td>1.676144</td>\n",
       "      <td>2.357206</td>\n",
       "      <td>2.054633</td>\n",
       "      <td>1.927493</td>\n",
       "      <td>1.870967</td>\n",
       "      <td>2.007038</td>\n",
       "      <td>2.182877</td>\n",
       "      <td>1.955100</td>\n",
       "      <td>1.858653</td>\n",
       "      <td>1.794436</td>\n",
       "      <td>1.861080</td>\n",
       "    </tr>\n",
       "    <tr>\n",
       "      <td>min</td>\n",
       "      <td>1.000000</td>\n",
       "      <td>-12.978725</td>\n",
       "      <td>2.741681</td>\n",
       "      <td>-11.043026</td>\n",
       "      <td>-6.406284</td>\n",
       "      <td>1.762241</td>\n",
       "      <td>-10.838092</td>\n",
       "      <td>-8.294703</td>\n",
       "      <td>11.795394</td>\n",
       "      <td>10.646672</td>\n",
       "      <td>8.049850</td>\n",
       "      <td>-18.750419</td>\n",
       "      <td>-18.969308</td>\n",
       "      <td>-19.989825</td>\n",
       "      <td>-15.223252</td>\n",
       "      <td>-17.035990</td>\n",
       "      <td>3.444448</td>\n",
       "      <td>12.498143</td>\n",
       "      <td>10.286917</td>\n",
       "      <td>11.337467</td>\n",
       "      <td>10.977328</td>\n",
       "    </tr>\n",
       "    <tr>\n",
       "      <td>25%</td>\n",
       "      <td>174.000000</td>\n",
       "      <td>19.651883</td>\n",
       "      <td>18.700224</td>\n",
       "      <td>18.048186</td>\n",
       "      <td>17.746876</td>\n",
       "      <td>17.424860</td>\n",
       "      <td>19.941032</td>\n",
       "      <td>18.903275</td>\n",
       "      <td>18.259596</td>\n",
       "      <td>17.904522</td>\n",
       "      <td>17.606784</td>\n",
       "      <td>19.248338</td>\n",
       "      <td>18.114027</td>\n",
       "      <td>17.480567</td>\n",
       "      <td>17.051256</td>\n",
       "      <td>16.805130</td>\n",
       "      <td>19.265055</td>\n",
       "      <td>18.075231</td>\n",
       "      <td>17.422828</td>\n",
       "      <td>16.977476</td>\n",
       "      <td>16.704970</td>\n",
       "    </tr>\n",
       "    <tr>\n",
       "      <td>50%</td>\n",
       "      <td>349.000000</td>\n",
       "      <td>20.869253</td>\n",
       "      <td>19.902826</td>\n",
       "      <td>19.453564</td>\n",
       "      <td>19.042466</td>\n",
       "      <td>18.609989</td>\n",
       "      <td>21.048078</td>\n",
       "      <td>20.068673</td>\n",
       "      <td>19.632065</td>\n",
       "      <td>19.189730</td>\n",
       "      <td>18.711210</td>\n",
       "      <td>20.365782</td>\n",
       "      <td>19.584974</td>\n",
       "      <td>19.182760</td>\n",
       "      <td>18.694139</td>\n",
       "      <td>18.173448</td>\n",
       "      <td>20.404240</td>\n",
       "      <td>19.545558</td>\n",
       "      <td>19.142608</td>\n",
       "      <td>18.641789</td>\n",
       "      <td>18.099917</td>\n",
       "    </tr>\n",
       "    <tr>\n",
       "      <td>75%</td>\n",
       "      <td>526.000000</td>\n",
       "      <td>22.155843</td>\n",
       "      <td>21.146616</td>\n",
       "      <td>20.514075</td>\n",
       "      <td>20.072422</td>\n",
       "      <td>19.882411</td>\n",
       "      <td>22.335305</td>\n",
       "      <td>21.384493</td>\n",
       "      <td>20.773867</td>\n",
       "      <td>20.332052</td>\n",
       "      <td>20.133502</td>\n",
       "      <td>21.792790</td>\n",
       "      <td>21.001517</td>\n",
       "      <td>20.456134</td>\n",
       "      <td>20.018369</td>\n",
       "      <td>19.806288</td>\n",
       "      <td>21.987570</td>\n",
       "      <td>20.959655</td>\n",
       "      <td>20.407032</td>\n",
       "      <td>19.968273</td>\n",
       "      <td>19.818616</td>\n",
       "    </tr>\n",
       "    <tr>\n",
       "      <td>max</td>\n",
       "      <td>1000.000000</td>\n",
       "      <td>38.142419</td>\n",
       "      <td>39.411617</td>\n",
       "      <td>37.348717</td>\n",
       "      <td>34.963620</td>\n",
       "      <td>32.130146</td>\n",
       "      <td>39.182814</td>\n",
       "      <td>37.745406</td>\n",
       "      <td>30.160957</td>\n",
       "      <td>32.171369</td>\n",
       "      <td>36.498179</td>\n",
       "      <td>39.979165</td>\n",
       "      <td>39.969025</td>\n",
       "      <td>39.977525</td>\n",
       "      <td>39.237553</td>\n",
       "      <td>39.794471</td>\n",
       "      <td>39.238248</td>\n",
       "      <td>39.129788</td>\n",
       "      <td>33.666494</td>\n",
       "      <td>32.740051</td>\n",
       "      <td>34.930633</td>\n",
       "    </tr>\n",
       "  </tbody>\n",
       "</table>\n",
       "</div>"
      ],
      "text/plain": [
       "             fiberID       psfMag_u       psfMag_g       psfMag_r  \\\n",
       "count  199628.000000  199628.000000  199628.000000  199628.000000   \n",
       "mean      360.903350      20.981239      19.858791      19.285653   \n",
       "std       225.356086       2.075093       1.857924       1.703280   \n",
       "min         1.000000     -12.978725       2.741681     -11.043026   \n",
       "25%       174.000000      19.651883      18.700224      18.048186   \n",
       "50%       349.000000      20.869253      19.902826      19.453564   \n",
       "75%       526.000000      22.155843      21.146616      20.514075   \n",
       "max      1000.000000      38.142419      39.411617      37.348717   \n",
       "\n",
       "            psfMag_i       psfMag_z     fiberMag_u     fiberMag_g  \\\n",
       "count  199628.000000  199628.000000  199628.000000  199628.000000   \n",
       "mean       18.870895      18.611078      21.170523      20.089204   \n",
       "std         1.622303       1.678630       1.965511       1.841122   \n",
       "min        -6.406284       1.762241     -10.838092      -8.294703   \n",
       "25%        17.746876      17.424860      19.941032      18.903275   \n",
       "50%        19.042466      18.609989      21.048078      20.068673   \n",
       "75%        20.072422      19.882411      22.335305      21.384493   \n",
       "max        34.963620      32.130146      39.182814      37.745406   \n",
       "\n",
       "          fiberMag_r     fiberMag_i     fiberMag_z     petroMag_u  \\\n",
       "count  199628.000000  199628.000000  199628.000000  199628.000000   \n",
       "mean       19.505105      19.087210      18.828255      20.704087   \n",
       "std         1.703609       1.624830       1.676144       2.357206   \n",
       "min        11.795394      10.646672       8.049850     -18.750419   \n",
       "25%        18.259596      17.904522      17.606784      19.248338   \n",
       "50%        19.632065      19.189730      18.711210      20.365782   \n",
       "75%        20.773867      20.332052      20.133502      21.792790   \n",
       "max        30.160957      32.171369      36.498179      39.979165   \n",
       "\n",
       "          petroMag_g     petroMag_r     petroMag_i     petroMag_z  \\\n",
       "count  199628.000000  199628.000000  199628.000000  199628.000000   \n",
       "mean       19.597613      19.006255      18.603519      18.390767   \n",
       "std         2.054633       1.927493       1.870967       2.007038   \n",
       "min       -18.969308     -19.989825     -15.223252     -17.035990   \n",
       "25%        18.114027      17.480567      17.051256      16.805130   \n",
       "50%        19.584974      19.182760      18.694139      18.173448   \n",
       "75%        21.001517      20.456134      20.018369      19.806288   \n",
       "max        39.969025      39.977525      39.237553      39.794471   \n",
       "\n",
       "          modelMag_u     modelMag_g     modelMag_r     modelMag_i  \\\n",
       "count  199628.000000  199628.000000  199628.000000  199628.000000   \n",
       "mean       20.728641      19.528982      18.939000      18.519929   \n",
       "std         2.182877       1.955100       1.858653       1.794436   \n",
       "min         3.444448      12.498143      10.286917      11.337467   \n",
       "25%        19.265055      18.075231      17.422828      16.977476   \n",
       "50%        20.404240      19.545558      19.142608      18.641789   \n",
       "75%        21.987570      20.959655      20.407032      19.968273   \n",
       "max        39.238248      39.129788      33.666494      32.740051   \n",
       "\n",
       "          modelMag_z  \n",
       "count  199628.000000  \n",
       "mean       18.275409  \n",
       "std         1.861080  \n",
       "min        10.977328  \n",
       "25%        16.704970  \n",
       "50%        18.099917  \n",
       "75%        19.818616  \n",
       "max        34.930633  "
      ]
     },
     "execution_count": 6,
     "metadata": {},
     "output_type": "execute_result"
    }
   ],
   "source": [
    "train_df.describe()"
   ]
  },
  {
   "cell_type": "code",
   "execution_count": 7,
   "metadata": {
    "ExecuteTime": {
     "end_time": "2020-02-21T14:13:07.164000Z",
     "start_time": "2020-02-21T14:13:07.159000Z"
    }
   },
   "outputs": [
    {
     "data": {
      "text/plain": [
       "Index(['type', 'fiberID', 'psfMag_u', 'psfMag_g', 'psfMag_r', 'psfMag_i',\n",
       "       'psfMag_z', 'fiberMag_u', 'fiberMag_g', 'fiberMag_r', 'fiberMag_i',\n",
       "       'fiberMag_z', 'petroMag_u', 'petroMag_g', 'petroMag_r', 'petroMag_i',\n",
       "       'petroMag_z', 'modelMag_u', 'modelMag_g', 'modelMag_r', 'modelMag_i',\n",
       "       'modelMag_z'],\n",
       "      dtype='object')"
      ]
     },
     "execution_count": 7,
     "metadata": {},
     "output_type": "execute_result"
    }
   ],
   "source": [
    "train_df.columns"
   ]
  },
  {
   "cell_type": "markdown",
   "metadata": {},
   "source": [
    "## DATA Setting"
   ]
  },
  {
   "cell_type": "code",
   "execution_count": 8,
   "metadata": {
    "ExecuteTime": {
     "end_time": "2020-02-21T14:13:07.270000Z",
     "start_time": "2020-02-21T14:13:07.166000Z"
    }
   },
   "outputs": [],
   "source": [
    "column_number = {}\n",
    "number_columns = {}\n",
    "for i, column in enumerate(sample_submission_df.columns):\n",
    "    column_number[column] = i\n",
    "    number_columns[i] = column\n",
    "    \n",
    "    \n",
    "def to_number(x, dic):\n",
    "    return dic[x]\n",
    "\n",
    "train_df['type_num'] = train_df['type'].apply(lambda x: to_number(x, column_number))\n"
   ]
  },
  {
   "cell_type": "code",
   "execution_count": 9,
   "metadata": {
    "ExecuteTime": {
     "end_time": "2020-02-21T14:13:07.277000Z",
     "start_time": "2020-02-21T14:13:07.272000Z"
    }
   },
   "outputs": [],
   "source": [
    "def add_minus_feature_all(data,test = False):\n",
    "    from itertools import combinations\n",
    "    n = 0\n",
    "    for count in range(5,21,5):\n",
    "        s = 2\n",
    "        if test == True :\n",
    "            s = 1\n",
    "        selected = data.columns[s:].values[n:count]\n",
    "        mag = str.split(selected[0],'_')[0]\n",
    "        for combi in list(combinations(selected,2)):\n",
    "            name_1st = str.split(combi[0],'_')[1]\n",
    "            name_2nd = str.split(combi[1],'_')[1]\n",
    "            data[mag+\"_\"+name_1st+\"-\"+name_2nd] = data[combi[0]]-data[combi[1]]\n",
    "        n=count\n",
    "    return data"
   ]
  },
  {
   "cell_type": "code",
   "execution_count": 10,
   "metadata": {
    "ExecuteTime": {
     "end_time": "2020-02-21T14:13:07.287000Z",
     "start_time": "2020-02-21T14:13:07.279000Z"
    }
   },
   "outputs": [],
   "source": [
    "def add_minus_feature(data,test = False):\n",
    "    '''\n",
    "    근접변수에 대해서만 컬럼생성 ex) 'fiberMag_u-g', 'fiberMag_g-r', 'fiberMag_r-i', 'fiberMag_i-z'\n",
    "    각 mag에서 가장 높은값의 filter를 받아오는 \"~~mag_MAX\"생성\n",
    "    결과 38개로 증가 \n",
    "    '''\n",
    "    from itertools import combinations\n",
    "    n = 0\n",
    "    m = 0\n",
    "    for count in range(5,21,5):\n",
    "        s = 2\n",
    "        if test == True :\n",
    "            s = 1\n",
    "        selected = data.columns[s:].values[n:count]\n",
    "        mag = str.split(selected[0],'_')[0]\n",
    "        data[mag+\"_MAX\"] = data[selected].apply(lambda x : str.split(np.argmax(x),'_')[1],axis = 1)\n",
    "        for i in range(0,len(selected)):        \n",
    "            if i>0: \n",
    "                name_1st = str.split(m,'_')[1]\n",
    "                name_2nd = str.split(selected[i],'_')[1]\n",
    "                data[mag+\"_\"+name_1st+\"-\"+name_2nd] = data[m]-data[selected[i]]\n",
    "            m = selected[i]    \n",
    "        n=count\n",
    "    return data"
   ]
  },
  {
   "cell_type": "code",
   "execution_count": 11,
   "metadata": {
    "ExecuteTime": {
     "end_time": "2020-02-21T14:14:27.498000Z",
     "start_time": "2020-02-21T14:13:07.289000Z"
    }
   },
   "outputs": [
    {
     "name": "stderr",
     "output_type": "stream",
     "text": [
      "G:\\Anaconda3\\lib\\site-packages\\numpy\\core\\fromnumeric.py:56: FutureWarning: \n",
      "The current behaviour of 'Series.argmax' is deprecated, use 'idxmax'\n",
      "instead.\n",
      "The behavior of 'argmax' will be corrected to return the positional\n",
      "maximum in the future. For now, use 'series.values.argmax' or\n",
      "'np.argmax(np.array(values))' to get the position of the maximum\n",
      "row.\n",
      "  return getattr(obj, method)(*args, **kwds)\n"
     ]
    }
   ],
   "source": [
    "train_df = add_minus_feature(train_df)\n",
    "test_df = add_minus_feature(test_df,True)"
   ]
  },
  {
   "cell_type": "code",
   "execution_count": 12,
   "metadata": {
    "ExecuteTime": {
     "end_time": "2020-02-21T14:14:27.503000Z",
     "start_time": "2020-02-21T14:14:27.499000Z"
    }
   },
   "outputs": [],
   "source": [
    "def label_encode(data):\n",
    "    '''\n",
    "    각 mag에서 가장 높은값의 filter를 labelencoding \n",
    "    '''\n",
    "    from sklearn.preprocessing import LabelEncoder\n",
    "    le = LabelEncoder()\n",
    "    taget_cols = ['psfMag_MAX','fiberMag_MAX','petroMag_MAX','modelMag_MAX']\n",
    "    for col in taget_cols:\n",
    "        data[col] = le.fit_transform(data[col])\n",
    "    return data"
   ]
  },
  {
   "cell_type": "code",
   "execution_count": 13,
   "metadata": {
    "ExecuteTime": {
     "end_time": "2020-02-21T14:14:27.662000Z",
     "start_time": "2020-02-21T14:14:27.504000Z"
    }
   },
   "outputs": [],
   "source": [
    "train_df = label_encode(train_df)\n",
    "test_df = label_encode(test_df)"
   ]
  },
  {
   "cell_type": "code",
   "execution_count": 14,
   "metadata": {
    "ExecuteTime": {
     "end_time": "2020-02-21T14:14:27.666000Z",
     "start_time": "2020-02-21T14:14:27.663000Z"
    }
   },
   "outputs": [],
   "source": [
    "# train_df.drop(columns=['psfMag_u', 'psfMag_g', 'psfMag_r', 'psfMag_i',\n",
    "#        'psfMag_z', 'fiberMag_u', 'fiberMag_g', 'fiberMag_r', 'fiberMag_i',\n",
    "#        'fiberMag_z', 'petroMag_u', 'petroMag_g', 'petroMag_r', 'petroMag_i',\n",
    "#        'petroMag_z', 'modelMag_u', 'modelMag_g', 'modelMag_r', 'modelMag_i',\n",
    "#        'modelMag_z'], inplace=True)\n",
    "\n",
    "# test_df.drop(columns=['psfMag_u', 'psfMag_g', 'psfMag_r', 'psfMag_i',\n",
    "#        'psfMag_z', 'fiberMag_u', 'fiberMag_g', 'fiberMag_r', 'fiberMag_i',\n",
    "#        'fiberMag_z', 'petroMag_u', 'petroMag_g', 'petroMag_r', 'petroMag_i',\n",
    "#        'petroMag_z', 'modelMag_u', 'modelMag_g', 'modelMag_r', 'modelMag_i',\n",
    "#        'modelMag_z'], inplace=True)"
   ]
  },
  {
   "cell_type": "code",
   "execution_count": 15,
   "metadata": {
    "ExecuteTime": {
     "end_time": "2020-02-21T14:14:27.771000Z",
     "start_time": "2020-02-21T14:14:27.668000Z"
    }
   },
   "outputs": [],
   "source": [
    "train_X = train_df.drop(columns=['type', 'type_num', 'fiberID'], axis=1)\n",
    "train_y = train_df['type_num']\n",
    "test_X = test_df.drop(columns=['fiberID'], axis=1)"
   ]
  },
  {
   "cell_type": "code",
   "execution_count": 16,
   "metadata": {
    "ExecuteTime": {
     "end_time": "2020-02-21T14:14:27.801000Z",
     "start_time": "2020-02-21T14:14:27.772000Z"
    },
    "scrolled": true
   },
   "outputs": [
    {
     "data": {
      "text/html": [
       "<div>\n",
       "<style scoped>\n",
       "    .dataframe tbody tr th:only-of-type {\n",
       "        vertical-align: middle;\n",
       "    }\n",
       "\n",
       "    .dataframe tbody tr th {\n",
       "        vertical-align: top;\n",
       "    }\n",
       "\n",
       "    .dataframe thead th {\n",
       "        text-align: right;\n",
       "    }\n",
       "</style>\n",
       "<table border=\"1\" class=\"dataframe\">\n",
       "  <thead>\n",
       "    <tr style=\"text-align: right;\">\n",
       "      <th></th>\n",
       "      <th>psfMag_u</th>\n",
       "      <th>psfMag_g</th>\n",
       "      <th>psfMag_r</th>\n",
       "      <th>psfMag_i</th>\n",
       "      <th>psfMag_z</th>\n",
       "      <th>fiberMag_u</th>\n",
       "      <th>fiberMag_g</th>\n",
       "      <th>fiberMag_r</th>\n",
       "      <th>fiberMag_i</th>\n",
       "      <th>fiberMag_z</th>\n",
       "      <th>petroMag_u</th>\n",
       "      <th>petroMag_g</th>\n",
       "      <th>petroMag_r</th>\n",
       "      <th>petroMag_i</th>\n",
       "      <th>petroMag_z</th>\n",
       "      <th>...</th>\n",
       "      <th>fiberMag_MAX</th>\n",
       "      <th>fiberMag_u-g</th>\n",
       "      <th>fiberMag_g-r</th>\n",
       "      <th>fiberMag_r-i</th>\n",
       "      <th>fiberMag_i-z</th>\n",
       "      <th>petroMag_MAX</th>\n",
       "      <th>petroMag_u-g</th>\n",
       "      <th>petroMag_g-r</th>\n",
       "      <th>petroMag_r-i</th>\n",
       "      <th>petroMag_i-z</th>\n",
       "      <th>modelMag_MAX</th>\n",
       "      <th>modelMag_u-g</th>\n",
       "      <th>modelMag_g-r</th>\n",
       "      <th>modelMag_r-i</th>\n",
       "      <th>modelMag_i-z</th>\n",
       "    </tr>\n",
       "    <tr>\n",
       "      <th>id</th>\n",
       "      <th></th>\n",
       "      <th></th>\n",
       "      <th></th>\n",
       "      <th></th>\n",
       "      <th></th>\n",
       "      <th></th>\n",
       "      <th></th>\n",
       "      <th></th>\n",
       "      <th></th>\n",
       "      <th></th>\n",
       "      <th></th>\n",
       "      <th></th>\n",
       "      <th></th>\n",
       "      <th></th>\n",
       "      <th></th>\n",
       "      <th></th>\n",
       "      <th></th>\n",
       "      <th></th>\n",
       "      <th></th>\n",
       "      <th></th>\n",
       "      <th></th>\n",
       "      <th></th>\n",
       "      <th></th>\n",
       "      <th></th>\n",
       "      <th></th>\n",
       "      <th></th>\n",
       "      <th></th>\n",
       "      <th></th>\n",
       "      <th></th>\n",
       "      <th></th>\n",
       "      <th></th>\n",
       "    </tr>\n",
       "  </thead>\n",
       "  <tbody>\n",
       "    <tr>\n",
       "      <td>0</td>\n",
       "      <td>23.198224</td>\n",
       "      <td>21.431953</td>\n",
       "      <td>21.314148</td>\n",
       "      <td>21.176553</td>\n",
       "      <td>21.171444</td>\n",
       "      <td>22.581309</td>\n",
       "      <td>21.644453</td>\n",
       "      <td>21.657571</td>\n",
       "      <td>21.387653</td>\n",
       "      <td>21.572827</td>\n",
       "      <td>22.504317</td>\n",
       "      <td>21.431636</td>\n",
       "      <td>21.478312</td>\n",
       "      <td>21.145409</td>\n",
       "      <td>20.422446</td>\n",
       "      <td>...</td>\n",
       "      <td>3</td>\n",
       "      <td>0.936856</td>\n",
       "      <td>-0.013118</td>\n",
       "      <td>0.269918</td>\n",
       "      <td>-0.185174</td>\n",
       "      <td>3</td>\n",
       "      <td>1.072682</td>\n",
       "      <td>-0.046676</td>\n",
       "      <td>0.332902</td>\n",
       "      <td>0.722964</td>\n",
       "      <td>3</td>\n",
       "      <td>1.283708</td>\n",
       "      <td>0.101347</td>\n",
       "      <td>0.343582</td>\n",
       "      <td>-0.126735</td>\n",
       "    </tr>\n",
       "    <tr>\n",
       "      <td>1</td>\n",
       "      <td>21.431355</td>\n",
       "      <td>20.708104</td>\n",
       "      <td>20.678850</td>\n",
       "      <td>20.703420</td>\n",
       "      <td>20.473229</td>\n",
       "      <td>21.868797</td>\n",
       "      <td>21.029773</td>\n",
       "      <td>20.967054</td>\n",
       "      <td>20.937731</td>\n",
       "      <td>21.063646</td>\n",
       "      <td>21.360701</td>\n",
       "      <td>20.778968</td>\n",
       "      <td>20.889705</td>\n",
       "      <td>20.639812</td>\n",
       "      <td>20.646660</td>\n",
       "      <td>...</td>\n",
       "      <td>3</td>\n",
       "      <td>0.839024</td>\n",
       "      <td>0.062718</td>\n",
       "      <td>0.029324</td>\n",
       "      <td>-0.125915</td>\n",
       "      <td>3</td>\n",
       "      <td>0.581734</td>\n",
       "      <td>-0.110737</td>\n",
       "      <td>0.249893</td>\n",
       "      <td>-0.006847</td>\n",
       "      <td>3</td>\n",
       "      <td>0.734428</td>\n",
       "      <td>0.004602</td>\n",
       "      <td>0.060537</td>\n",
       "      <td>0.181074</td>\n",
       "    </tr>\n",
       "    <tr>\n",
       "      <td>2</td>\n",
       "      <td>17.851451</td>\n",
       "      <td>16.727898</td>\n",
       "      <td>16.679677</td>\n",
       "      <td>16.694640</td>\n",
       "      <td>16.641788</td>\n",
       "      <td>18.171890</td>\n",
       "      <td>17.033098</td>\n",
       "      <td>16.999682</td>\n",
       "      <td>17.095999</td>\n",
       "      <td>17.076449</td>\n",
       "      <td>17.867253</td>\n",
       "      <td>16.738784</td>\n",
       "      <td>16.688874</td>\n",
       "      <td>16.744210</td>\n",
       "      <td>16.808006</td>\n",
       "      <td>...</td>\n",
       "      <td>3</td>\n",
       "      <td>1.138792</td>\n",
       "      <td>0.033416</td>\n",
       "      <td>-0.096317</td>\n",
       "      <td>0.019550</td>\n",
       "      <td>3</td>\n",
       "      <td>1.128468</td>\n",
       "      <td>0.049910</td>\n",
       "      <td>-0.055336</td>\n",
       "      <td>-0.063796</td>\n",
       "      <td>3</td>\n",
       "      <td>1.120628</td>\n",
       "      <td>0.056186</td>\n",
       "      <td>-0.018929</td>\n",
       "      <td>-0.028751</td>\n",
       "    </tr>\n",
       "    <tr>\n",
       "      <td>3</td>\n",
       "      <td>20.789900</td>\n",
       "      <td>20.040371</td>\n",
       "      <td>19.926909</td>\n",
       "      <td>19.843840</td>\n",
       "      <td>19.463270</td>\n",
       "      <td>21.039030</td>\n",
       "      <td>20.317165</td>\n",
       "      <td>20.217898</td>\n",
       "      <td>20.073852</td>\n",
       "      <td>19.794505</td>\n",
       "      <td>20.433907</td>\n",
       "      <td>19.993727</td>\n",
       "      <td>19.985531</td>\n",
       "      <td>19.750917</td>\n",
       "      <td>19.455117</td>\n",
       "      <td>...</td>\n",
       "      <td>3</td>\n",
       "      <td>0.721865</td>\n",
       "      <td>0.099267</td>\n",
       "      <td>0.144046</td>\n",
       "      <td>0.279347</td>\n",
       "      <td>3</td>\n",
       "      <td>0.440180</td>\n",
       "      <td>0.008197</td>\n",
       "      <td>0.234614</td>\n",
       "      <td>0.295800</td>\n",
       "      <td>3</td>\n",
       "      <td>0.769012</td>\n",
       "      <td>0.111901</td>\n",
       "      <td>0.131685</td>\n",
       "      <td>0.205258</td>\n",
       "    </tr>\n",
       "    <tr>\n",
       "      <td>4</td>\n",
       "      <td>26.454969</td>\n",
       "      <td>23.058767</td>\n",
       "      <td>21.471406</td>\n",
       "      <td>19.504961</td>\n",
       "      <td>18.389096</td>\n",
       "      <td>25.700632</td>\n",
       "      <td>23.629122</td>\n",
       "      <td>21.742750</td>\n",
       "      <td>19.861718</td>\n",
       "      <td>18.810375</td>\n",
       "      <td>25.859229</td>\n",
       "      <td>22.426929</td>\n",
       "      <td>21.673551</td>\n",
       "      <td>19.610012</td>\n",
       "      <td>18.376141</td>\n",
       "      <td>...</td>\n",
       "      <td>3</td>\n",
       "      <td>2.071510</td>\n",
       "      <td>1.886372</td>\n",
       "      <td>1.881032</td>\n",
       "      <td>1.051343</td>\n",
       "      <td>3</td>\n",
       "      <td>3.432300</td>\n",
       "      <td>0.753377</td>\n",
       "      <td>2.063539</td>\n",
       "      <td>1.233871</td>\n",
       "      <td>3</td>\n",
       "      <td>1.729059</td>\n",
       "      <td>1.672651</td>\n",
       "      <td>1.988012</td>\n",
       "      <td>1.111675</td>\n",
       "    </tr>\n",
       "  </tbody>\n",
       "</table>\n",
       "<p>5 rows × 40 columns</p>\n",
       "</div>"
      ],
      "text/plain": [
       "     psfMag_u   psfMag_g   psfMag_r   psfMag_i   psfMag_z  fiberMag_u  \\\n",
       "id                                                                      \n",
       "0   23.198224  21.431953  21.314148  21.176553  21.171444   22.581309   \n",
       "1   21.431355  20.708104  20.678850  20.703420  20.473229   21.868797   \n",
       "2   17.851451  16.727898  16.679677  16.694640  16.641788   18.171890   \n",
       "3   20.789900  20.040371  19.926909  19.843840  19.463270   21.039030   \n",
       "4   26.454969  23.058767  21.471406  19.504961  18.389096   25.700632   \n",
       "\n",
       "    fiberMag_g  fiberMag_r  fiberMag_i  fiberMag_z  petroMag_u  petroMag_g  \\\n",
       "id                                                                           \n",
       "0    21.644453   21.657571   21.387653   21.572827   22.504317   21.431636   \n",
       "1    21.029773   20.967054   20.937731   21.063646   21.360701   20.778968   \n",
       "2    17.033098   16.999682   17.095999   17.076449   17.867253   16.738784   \n",
       "3    20.317165   20.217898   20.073852   19.794505   20.433907   19.993727   \n",
       "4    23.629122   21.742750   19.861718   18.810375   25.859229   22.426929   \n",
       "\n",
       "    petroMag_r  petroMag_i  petroMag_z  ...  fiberMag_MAX  fiberMag_u-g  \\\n",
       "id                                      ...                               \n",
       "0    21.478312   21.145409   20.422446  ...             3      0.936856   \n",
       "1    20.889705   20.639812   20.646660  ...             3      0.839024   \n",
       "2    16.688874   16.744210   16.808006  ...             3      1.138792   \n",
       "3    19.985531   19.750917   19.455117  ...             3      0.721865   \n",
       "4    21.673551   19.610012   18.376141  ...             3      2.071510   \n",
       "\n",
       "    fiberMag_g-r  fiberMag_r-i  fiberMag_i-z  petroMag_MAX  petroMag_u-g  \\\n",
       "id                                                                         \n",
       "0      -0.013118      0.269918     -0.185174             3      1.072682   \n",
       "1       0.062718      0.029324     -0.125915             3      0.581734   \n",
       "2       0.033416     -0.096317      0.019550             3      1.128468   \n",
       "3       0.099267      0.144046      0.279347             3      0.440180   \n",
       "4       1.886372      1.881032      1.051343             3      3.432300   \n",
       "\n",
       "    petroMag_g-r  petroMag_r-i  petroMag_i-z  modelMag_MAX  modelMag_u-g  \\\n",
       "id                                                                         \n",
       "0      -0.046676      0.332902      0.722964             3      1.283708   \n",
       "1      -0.110737      0.249893     -0.006847             3      0.734428   \n",
       "2       0.049910     -0.055336     -0.063796             3      1.120628   \n",
       "3       0.008197      0.234614      0.295800             3      0.769012   \n",
       "4       0.753377      2.063539      1.233871             3      1.729059   \n",
       "\n",
       "    modelMag_g-r  modelMag_r-i  modelMag_i-z  \n",
       "id                                            \n",
       "0       0.101347      0.343582     -0.126735  \n",
       "1       0.004602      0.060537      0.181074  \n",
       "2       0.056186     -0.018929     -0.028751  \n",
       "3       0.111901      0.131685      0.205258  \n",
       "4       1.672651      1.988012      1.111675  \n",
       "\n",
       "[5 rows x 40 columns]"
      ]
     },
     "execution_count": 16,
     "metadata": {},
     "output_type": "execute_result"
    }
   ],
   "source": [
    "train_X.head()"
   ]
  },
  {
   "cell_type": "code",
   "execution_count": 17,
   "metadata": {
    "ExecuteTime": {
     "end_time": "2020-02-21T14:14:27.814000Z",
     "start_time": "2020-02-21T14:14:27.806000Z"
    },
    "scrolled": true
   },
   "outputs": [
    {
     "data": {
      "text/plain": [
       "Index(['psfMag_u', 'psfMag_g', 'psfMag_r', 'psfMag_i', 'psfMag_z',\n",
       "       'fiberMag_u', 'fiberMag_g', 'fiberMag_r', 'fiberMag_i', 'fiberMag_z',\n",
       "       'petroMag_u', 'petroMag_g', 'petroMag_r', 'petroMag_i', 'petroMag_z',\n",
       "       'modelMag_u', 'modelMag_g', 'modelMag_r', 'modelMag_i', 'modelMag_z',\n",
       "       'psfMag_MAX', 'psfMag_u-g', 'psfMag_g-r', 'psfMag_r-i', 'psfMag_i-z',\n",
       "       'fiberMag_MAX', 'fiberMag_u-g', 'fiberMag_g-r', 'fiberMag_r-i',\n",
       "       'fiberMag_i-z', 'petroMag_MAX', 'petroMag_u-g', 'petroMag_g-r',\n",
       "       'petroMag_r-i', 'petroMag_i-z', 'modelMag_MAX', 'modelMag_u-g',\n",
       "       'modelMag_g-r', 'modelMag_r-i', 'modelMag_i-z'],\n",
       "      dtype='object')"
      ]
     },
     "execution_count": 17,
     "metadata": {},
     "output_type": "execute_result"
    }
   ],
   "source": [
    "train_X.columns"
   ]
  },
  {
   "cell_type": "code",
   "execution_count": 18,
   "metadata": {
    "ExecuteTime": {
     "end_time": "2020-02-21T14:14:27.822000Z",
     "start_time": "2020-02-21T14:14:27.817000Z"
    }
   },
   "outputs": [],
   "source": [
    "# X_samp, y_samp = SMOTEENN(random_state=1059).fit_sample(train_X, train_y)\n",
    "# X_samp.shape, y_samp.shape"
   ]
  },
  {
   "cell_type": "code",
   "execution_count": 19,
   "metadata": {
    "ExecuteTime": {
     "end_time": "2020-02-21T14:14:27.979000Z",
     "start_time": "2020-02-21T14:14:27.830000Z"
    }
   },
   "outputs": [],
   "source": [
    "X_train, X_test, y_train, y_test = train_test_split(train_X, train_y, test_size=0.4, random_state=1059,stratify = train_y)"
   ]
  },
  {
   "cell_type": "code",
   "execution_count": 20,
   "metadata": {
    "ExecuteTime": {
     "end_time": "2020-02-21T14:14:27.987000Z",
     "start_time": "2020-02-21T14:14:27.980000Z"
    }
   },
   "outputs": [],
   "source": [
    "#3번 0219 \n",
    "train_ds = lgb.Dataset(X_train, label = y_train, categorical_feature=['psfMag_MAX', 'fiberMag_MAX', 'petroMag_MAX', 'modelMag_MAX'])\n",
    "test_ds = lgb.Dataset(X_test, label = y_test, categorical_feature=['psfMag_MAX', 'fiberMag_MAX', 'petroMag_MAX', 'modelMag_MAX']) \n",
    "\n",
    "params = {\n",
    "    'boosting_type': 'dart',\n",
    "    'objective': 'multiclass',\n",
    "    'num_class': train_y.nunique(),\n",
    "    'metric': {'multi_logloss','multi_logloss'},\n",
    "    'class_weight': None, \n",
    "    'colsample_bytree': 1.0,\n",
    "    'learning_rate': 0.01,\n",
    "    'max_depth': 11,\n",
    "    'min_child_samples': 20,\n",
    "    'min_child_weight': 0.001,\n",
    "    'min_split_gain': 0.0,\n",
    "    'n_jobs': -1,\n",
    "    'num_leaves': 21, \n",
    "    'random_state': 1059,\n",
    "    'reg_alpha': 0.0,\n",
    "    'reg_lambda': 0.0,\n",
    "    'subsample': 1.0, \n",
    "    'subsample_for_bin': 200000,\n",
    "    'subsample_freq': 0,\n",
    "}"
   ]
  },
  {
   "cell_type": "markdown",
   "metadata": {},
   "source": [
    "## Modeling"
   ]
  },
  {
   "cell_type": "code",
   "execution_count": 21,
   "metadata": {
    "ExecuteTime": {
     "end_time": "2020-02-21T17:54:10.705000Z",
     "start_time": "2020-02-21T14:14:27.988000Z"
    },
    "scrolled": true
   },
   "outputs": [
    {
     "name": "stderr",
     "output_type": "stream",
     "text": [
      "G:\\Anaconda3\\lib\\site-packages\\lightgbm\\basic.py:1291: UserWarning: Using categorical_feature in Dataset.\n",
      "  warnings.warn('Using categorical_feature in Dataset.')\n",
      "G:\\Anaconda3\\lib\\site-packages\\lightgbm\\callback.py:188: UserWarning: Early stopping is not available in dart mode\n",
      "  warnings.warn('Early stopping is not available in dart mode')\n"
     ]
    },
    {
     "name": "stdout",
     "output_type": "stream",
     "text": [
      "[50]\tTrain's multi_logloss: 1.69293\tTest's multi_logloss: 1.70021\n",
      "[100]\tTrain's multi_logloss: 1.66711\tTest's multi_logloss: 1.67442\n",
      "[150]\tTrain's multi_logloss: 1.5413\tTest's multi_logloss: 1.54947\n",
      "[200]\tTrain's multi_logloss: 1.45696\tTest's multi_logloss: 1.46581\n",
      "[250]\tTrain's multi_logloss: 1.32481\tTest's multi_logloss: 1.33471\n",
      "[300]\tTrain's multi_logloss: 1.28183\tTest's multi_logloss: 1.29242\n",
      "[350]\tTrain's multi_logloss: 1.18928\tTest's multi_logloss: 1.20088\n",
      "[400]\tTrain's multi_logloss: 1.11025\tTest's multi_logloss: 1.12279\n",
      "[450]\tTrain's multi_logloss: 1.10797\tTest's multi_logloss: 1.12065\n",
      "[500]\tTrain's multi_logloss: 1.00783\tTest's multi_logloss: 1.02177\n",
      "[550]\tTrain's multi_logloss: 0.970926\tTest's multi_logloss: 0.985413\n",
      "[600]\tTrain's multi_logloss: 0.979092\tTest's multi_logloss: 0.993535\n",
      "[650]\tTrain's multi_logloss: 0.905756\tTest's multi_logloss: 0.921177\n",
      "[700]\tTrain's multi_logloss: 0.861374\tTest's multi_logloss: 0.877523\n",
      "[750]\tTrain's multi_logloss: 0.831357\tTest's multi_logloss: 0.848145\n",
      "[800]\tTrain's multi_logloss: 0.744303\tTest's multi_logloss: 0.762875\n",
      "[850]\tTrain's multi_logloss: 0.706582\tTest's multi_logloss: 0.726229\n",
      "[900]\tTrain's multi_logloss: 0.664784\tTest's multi_logloss: 0.685554\n",
      "[950]\tTrain's multi_logloss: 0.641184\tTest's multi_logloss: 0.662678\n",
      "[1000]\tTrain's multi_logloss: 0.618536\tTest's multi_logloss: 0.640716\n",
      "[1050]\tTrain's multi_logloss: 0.603933\tTest's multi_logloss: 0.626668\n",
      "[1100]\tTrain's multi_logloss: 0.590847\tTest's multi_logloss: 0.614162\n",
      "[1150]\tTrain's multi_logloss: 0.560272\tTest's multi_logloss: 0.584676\n",
      "[1200]\tTrain's multi_logloss: 0.543891\tTest's multi_logloss: 0.569084\n",
      "[1250]\tTrain's multi_logloss: 0.528339\tTest's multi_logloss: 0.554355\n",
      "[1300]\tTrain's multi_logloss: 0.501322\tTest's multi_logloss: 0.528727\n",
      "[1350]\tTrain's multi_logloss: 0.492684\tTest's multi_logloss: 0.520802\n",
      "[1400]\tTrain's multi_logloss: 0.482134\tTest's multi_logloss: 0.51104\n",
      "[1450]\tTrain's multi_logloss: 0.463651\tTest's multi_logloss: 0.493753\n",
      "[1500]\tTrain's multi_logloss: 0.445649\tTest's multi_logloss: 0.477067\n",
      "[1550]\tTrain's multi_logloss: 0.43707\tTest's multi_logloss: 0.469361\n",
      "[1600]\tTrain's multi_logloss: 0.425701\tTest's multi_logloss: 0.459135\n",
      "[1650]\tTrain's multi_logloss: 0.422504\tTest's multi_logloss: 0.45648\n",
      "[1700]\tTrain's multi_logloss: 0.414478\tTest's multi_logloss: 0.449463\n",
      "[1750]\tTrain's multi_logloss: 0.407835\tTest's multi_logloss: 0.443682\n",
      "[1800]\tTrain's multi_logloss: 0.39824\tTest's multi_logloss: 0.435375\n",
      "[1850]\tTrain's multi_logloss: 0.391935\tTest's multi_logloss: 0.430035\n",
      "[1900]\tTrain's multi_logloss: 0.384218\tTest's multi_logloss: 0.423537\n",
      "[1950]\tTrain's multi_logloss: 0.378573\tTest's multi_logloss: 0.419013\n",
      "[2000]\tTrain's multi_logloss: 0.372716\tTest's multi_logloss: 0.414332\n",
      "[2050]\tTrain's multi_logloss: 0.368055\tTest's multi_logloss: 0.410718\n",
      "[2100]\tTrain's multi_logloss: 0.361926\tTest's multi_logloss: 0.405946\n",
      "[2150]\tTrain's multi_logloss: 0.358631\tTest's multi_logloss: 0.403576\n",
      "[2200]\tTrain's multi_logloss: 0.357501\tTest's multi_logloss: 0.402961\n",
      "[2250]\tTrain's multi_logloss: 0.352788\tTest's multi_logloss: 0.399577\n",
      "[2300]\tTrain's multi_logloss: 0.34938\tTest's multi_logloss: 0.397221\n",
      "[2350]\tTrain's multi_logloss: 0.347841\tTest's multi_logloss: 0.396335\n",
      "[2400]\tTrain's multi_logloss: 0.344057\tTest's multi_logloss: 0.393772\n",
      "[2450]\tTrain's multi_logloss: 0.341762\tTest's multi_logloss: 0.392357\n",
      "[2500]\tTrain's multi_logloss: 0.339714\tTest's multi_logloss: 0.391114\n",
      "[2550]\tTrain's multi_logloss: 0.335107\tTest's multi_logloss: 0.388042\n",
      "[2600]\tTrain's multi_logloss: 0.331002\tTest's multi_logloss: 0.385399\n",
      "[2650]\tTrain's multi_logloss: 0.329226\tTest's multi_logloss: 0.384478\n",
      "[2700]\tTrain's multi_logloss: 0.326989\tTest's multi_logloss: 0.383268\n",
      "[2750]\tTrain's multi_logloss: 0.325085\tTest's multi_logloss: 0.382322\n",
      "[2800]\tTrain's multi_logloss: 0.321678\tTest's multi_logloss: 0.380353\n",
      "[2850]\tTrain's multi_logloss: 0.319741\tTest's multi_logloss: 0.379433\n",
      "[2900]\tTrain's multi_logloss: 0.317726\tTest's multi_logloss: 0.37849\n",
      "[2950]\tTrain's multi_logloss: 0.316359\tTest's multi_logloss: 0.377918\n",
      "[3000]\tTrain's multi_logloss: 0.315606\tTest's multi_logloss: 0.377767\n",
      "[3050]\tTrain's multi_logloss: 0.312761\tTest's multi_logloss: 0.376364\n",
      "[3100]\tTrain's multi_logloss: 0.31035\tTest's multi_logloss: 0.375275\n",
      "[3150]\tTrain's multi_logloss: 0.308739\tTest's multi_logloss: 0.37466\n",
      "[3200]\tTrain's multi_logloss: 0.307284\tTest's multi_logloss: 0.374113\n",
      "[3250]\tTrain's multi_logloss: 0.30478\tTest's multi_logloss: 0.373058\n",
      "[3300]\tTrain's multi_logloss: 0.304188\tTest's multi_logloss: 0.372982\n",
      "[3350]\tTrain's multi_logloss: 0.303733\tTest's multi_logloss: 0.373005\n",
      "[3400]\tTrain's multi_logloss: 0.302835\tTest's multi_logloss: 0.372769\n",
      "[3450]\tTrain's multi_logloss: 0.301474\tTest's multi_logloss: 0.372282\n",
      "[3500]\tTrain's multi_logloss: 0.299415\tTest's multi_logloss: 0.37148\n",
      "[3550]\tTrain's multi_logloss: 0.297584\tTest's multi_logloss: 0.370883\n",
      "[3600]\tTrain's multi_logloss: 0.29644\tTest's multi_logloss: 0.370595\n",
      "[3650]\tTrain's multi_logloss: 0.295589\tTest's multi_logloss: 0.370454\n",
      "[3700]\tTrain's multi_logloss: 0.29412\tTest's multi_logloss: 0.369992\n",
      "[3750]\tTrain's multi_logloss: 0.293291\tTest's multi_logloss: 0.369845\n",
      "[3800]\tTrain's multi_logloss: 0.292437\tTest's multi_logloss: 0.369686\n",
      "[3850]\tTrain's multi_logloss: 0.290199\tTest's multi_logloss: 0.368901\n",
      "[3900]\tTrain's multi_logloss: 0.289153\tTest's multi_logloss: 0.368711\n",
      "[3950]\tTrain's multi_logloss: 0.288225\tTest's multi_logloss: 0.368539\n",
      "[4000]\tTrain's multi_logloss: 0.286681\tTest's multi_logloss: 0.368133\n",
      "[4050]\tTrain's multi_logloss: 0.285118\tTest's multi_logloss: 0.367749\n",
      "[4100]\tTrain's multi_logloss: 0.284489\tTest's multi_logloss: 0.367718\n",
      "[4150]\tTrain's multi_logloss: 0.283033\tTest's multi_logloss: 0.367369\n",
      "[4200]\tTrain's multi_logloss: 0.281797\tTest's multi_logloss: 0.367141\n",
      "[4250]\tTrain's multi_logloss: 0.280883\tTest's multi_logloss: 0.367016\n",
      "[4300]\tTrain's multi_logloss: 0.279073\tTest's multi_logloss: 0.36659\n",
      "[4350]\tTrain's multi_logloss: 0.278328\tTest's multi_logloss: 0.36653\n",
      "[4400]\tTrain's multi_logloss: 0.277273\tTest's multi_logloss: 0.366346\n",
      "[4450]\tTrain's multi_logloss: 0.276933\tTest's multi_logloss: 0.366402\n",
      "[4500]\tTrain's multi_logloss: 0.275868\tTest's multi_logloss: 0.366218\n",
      "[4550]\tTrain's multi_logloss: 0.275447\tTest's multi_logloss: 0.366292\n",
      "[4600]\tTrain's multi_logloss: 0.274399\tTest's multi_logloss: 0.366112\n",
      "[4650]\tTrain's multi_logloss: 0.273846\tTest's multi_logloss: 0.366083\n",
      "[4700]\tTrain's multi_logloss: 0.272366\tTest's multi_logloss: 0.365826\n",
      "[4750]\tTrain's multi_logloss: 0.271203\tTest's multi_logloss: 0.365677\n",
      "[4800]\tTrain's multi_logloss: 0.27007\tTest's multi_logloss: 0.365515\n",
      "[4850]\tTrain's multi_logloss: 0.268846\tTest's multi_logloss: 0.365329\n",
      "[4900]\tTrain's multi_logloss: 0.267958\tTest's multi_logloss: 0.36525\n",
      "[4950]\tTrain's multi_logloss: 0.267559\tTest's multi_logloss: 0.365288\n",
      "[5000]\tTrain's multi_logloss: 0.266673\tTest's multi_logloss: 0.365184\n",
      "[5050]\tTrain's multi_logloss: 0.266284\tTest's multi_logloss: 0.365227\n",
      "[5100]\tTrain's multi_logloss: 0.265636\tTest's multi_logloss: 0.365198\n",
      "[5150]\tTrain's multi_logloss: 0.264327\tTest's multi_logloss: 0.365006\n",
      "[5200]\tTrain's multi_logloss: 0.263204\tTest's multi_logloss: 0.364884\n",
      "[5250]\tTrain's multi_logloss: 0.262625\tTest's multi_logloss: 0.364894\n",
      "[5300]\tTrain's multi_logloss: 0.261532\tTest's multi_logloss: 0.364779\n",
      "[5350]\tTrain's multi_logloss: 0.260748\tTest's multi_logloss: 0.364726\n",
      "[5400]\tTrain's multi_logloss: 0.260196\tTest's multi_logloss: 0.364744\n",
      "[5450]\tTrain's multi_logloss: 0.259123\tTest's multi_logloss: 0.364658\n",
      "[5500]\tTrain's multi_logloss: 0.257846\tTest's multi_logloss: 0.364531\n",
      "[5550]\tTrain's multi_logloss: 0.257112\tTest's multi_logloss: 0.364494\n",
      "[5600]\tTrain's multi_logloss: 0.2563\tTest's multi_logloss: 0.364464\n",
      "[5650]\tTrain's multi_logloss: 0.255388\tTest's multi_logloss: 0.364407\n",
      "[5700]\tTrain's multi_logloss: 0.25505\tTest's multi_logloss: 0.36446\n",
      "[5750]\tTrain's multi_logloss: 0.254136\tTest's multi_logloss: 0.364382\n",
      "[5800]\tTrain's multi_logloss: 0.253137\tTest's multi_logloss: 0.36431\n",
      "[5850]\tTrain's multi_logloss: 0.25237\tTest's multi_logloss: 0.364277\n",
      "[5900]\tTrain's multi_logloss: 0.250879\tTest's multi_logloss: 0.364122\n"
     ]
    },
    {
     "name": "stdout",
     "output_type": "stream",
     "text": [
      "[5950]\tTrain's multi_logloss: 0.249995\tTest's multi_logloss: 0.364089\n",
      "[6000]\tTrain's multi_logloss: 0.249089\tTest's multi_logloss: 0.364062\n",
      "[6050]\tTrain's multi_logloss: 0.248485\tTest's multi_logloss: 0.364054\n",
      "[6100]\tTrain's multi_logloss: 0.24759\tTest's multi_logloss: 0.364001\n",
      "[6150]\tTrain's multi_logloss: 0.246588\tTest's multi_logloss: 0.363949\n",
      "[6200]\tTrain's multi_logloss: 0.245843\tTest's multi_logloss: 0.363937\n",
      "[6250]\tTrain's multi_logloss: 0.244796\tTest's multi_logloss: 0.363912\n",
      "[6300]\tTrain's multi_logloss: 0.243918\tTest's multi_logloss: 0.363895\n",
      "[6350]\tTrain's multi_logloss: 0.242864\tTest's multi_logloss: 0.363899\n",
      "[6400]\tTrain's multi_logloss: 0.241564\tTest's multi_logloss: 0.363878\n",
      "[6450]\tTrain's multi_logloss: 0.240712\tTest's multi_logloss: 0.363872\n",
      "[6500]\tTrain's multi_logloss: 0.239825\tTest's multi_logloss: 0.36388\n",
      "[6550]\tTrain's multi_logloss: 0.239373\tTest's multi_logloss: 0.363893\n",
      "[6600]\tTrain's multi_logloss: 0.23834\tTest's multi_logloss: 0.363898\n",
      "[6650]\tTrain's multi_logloss: 0.237522\tTest's multi_logloss: 0.363902\n",
      "[6700]\tTrain's multi_logloss: 0.236607\tTest's multi_logloss: 0.363888\n",
      "[6750]\tTrain's multi_logloss: 0.236034\tTest's multi_logloss: 0.363925\n",
      "[6800]\tTrain's multi_logloss: 0.234942\tTest's multi_logloss: 0.363943\n",
      "[6850]\tTrain's multi_logloss: 0.23389\tTest's multi_logloss: 0.363947\n",
      "[6900]\tTrain's multi_logloss: 0.233044\tTest's multi_logloss: 0.363951\n",
      "[6950]\tTrain's multi_logloss: 0.232238\tTest's multi_logloss: 0.363972\n",
      "[7000]\tTrain's multi_logloss: 0.231193\tTest's multi_logloss: 0.363977\n"
     ]
    }
   ],
   "source": [
    "evaluation_results = {}\n",
    "lgmb_model = lgb.train(params, train_ds,num_boost_round= 7000, \n",
    "                       valid_sets = [train_ds,test_ds], valid_names=['Train', 'Test'],\n",
    "                       evals_result=evaluation_results,\n",
    "                       verbose_eval=50, early_stopping_rounds=100)"
   ]
  },
  {
   "cell_type": "code",
   "execution_count": 22,
   "metadata": {
    "ExecuteTime": {
     "end_time": "2020-02-21T17:54:11.063000Z",
     "start_time": "2020-02-21T17:54:10.707000Z"
    }
   },
   "outputs": [
    {
     "data": {
      "image/png": "[encoded data removed]",
      "text/plain": [
       "<Figure size 1080x288 with 2 Axes>"
      ]
     },
     "metadata": {
      "needs_background": "light"
     },
     "output_type": "display_data"
    }
   ],
   "source": [
    "fig, axs = plt.subplots(1, 2, figsize=[15, 4])\n",
    "\n",
    "# Plot the log loss during training\n",
    "axs[0].plot(evaluation_results['Train']['multi_logloss'], label='Train')\n",
    "axs[0].plot(evaluation_results['Test']['multi_logloss'], label='Test')\n",
    "axs[0].set_ylabel('Log loss')\n",
    "axs[0].set_xlabel('Boosting round')\n",
    "axs[0].set_title('Training performance')\n",
    "axs[0].legend()\n",
    "\n",
    "# Plot feature importance\n",
    "importances = pd.DataFrame({'features': lgmb_model.feature_name(), \n",
    "                            'importance': lgmb_model.feature_importance()}).sort_values('importance', ascending=False).head(10)\n",
    "axs[1].bar(x=np.arange(len(importances)), height=importances['importance'])\n",
    "axs[1].set_xticks(np.arange(len(importances)))\n",
    "axs[1].set_xticklabels(importances['features'])\n",
    "axs[1].set_ylabel('Feature importance (# times used to split)')\n",
    "axs[1].set_title('Feature importance')\n",
    "plt.xticks(rotation=45)\n",
    "\n",
    "plt.show()"
   ]
  },
  {
   "cell_type": "code",
   "execution_count": 23,
   "metadata": {
    "ExecuteTime": {
     "end_time": "2020-02-21T18:05:27.631000Z",
     "start_time": "2020-02-21T17:54:11.067000Z"
    }
   },
   "outputs": [],
   "source": [
    "train_y_pred = lgmb_model.predict(X_test)\n",
    "real_y_pred = lgmb_model.predict(test_X)"
   ]
  },
  {
   "cell_type": "code",
   "execution_count": 24,
   "metadata": {
    "ExecuteTime": {
     "end_time": "2020-02-21T18:05:27.826000Z",
     "start_time": "2020-02-21T18:05:27.633000Z"
    },
    "scrolled": true
   },
   "outputs": [
    {
     "data": {
      "text/plain": [
       "0.3639766577680732"
      ]
     },
     "execution_count": 24,
     "metadata": {},
     "output_type": "execute_result"
    }
   ],
   "source": [
    "#log_loss\n",
    "log_loss(y_test,train_y_pred,labels= list(set(y_test)))"
   ]
  },
  {
   "cell_type": "code",
   "execution_count": 25,
   "metadata": {
    "ExecuteTime": {
     "end_time": "2020-02-21T18:05:27.856000Z",
     "start_time": "2020-02-21T18:05:27.829000Z"
    },
    "scrolled": false
   },
   "outputs": [
    {
     "data": {
      "text/html": [
       "<div>\n",
       "<style scoped>\n",
       "    .dataframe tbody tr th:only-of-type {\n",
       "        vertical-align: middle;\n",
       "    }\n",
       "\n",
       "    .dataframe tbody tr th {\n",
       "        vertical-align: top;\n",
       "    }\n",
       "\n",
       "    .dataframe thead th {\n",
       "        text-align: right;\n",
       "    }\n",
       "</style>\n",
       "<table border=\"1\" class=\"dataframe\">\n",
       "  <thead>\n",
       "    <tr style=\"text-align: right;\">\n",
       "      <th></th>\n",
       "      <th>importance</th>\n",
       "    </tr>\n",
       "  </thead>\n",
       "  <tbody>\n",
       "    <tr>\n",
       "      <td>modelMag_r-i</td>\n",
       "      <td>124368</td>\n",
       "    </tr>\n",
       "    <tr>\n",
       "      <td>modelMag_g-r</td>\n",
       "      <td>113273</td>\n",
       "    </tr>\n",
       "    <tr>\n",
       "      <td>psfMag_g-r</td>\n",
       "      <td>110470</td>\n",
       "    </tr>\n",
       "    <tr>\n",
       "      <td>fiberMag_g-r</td>\n",
       "      <td>103029</td>\n",
       "    </tr>\n",
       "    <tr>\n",
       "      <td>psfMag_u-g</td>\n",
       "      <td>98217</td>\n",
       "    </tr>\n",
       "    <tr>\n",
       "      <td>modelMag_u-g</td>\n",
       "      <td>95721</td>\n",
       "    </tr>\n",
       "    <tr>\n",
       "      <td>fiberMag_u-g</td>\n",
       "      <td>95513</td>\n",
       "    </tr>\n",
       "    <tr>\n",
       "      <td>modelMag_i-z</td>\n",
       "      <td>92252</td>\n",
       "    </tr>\n",
       "    <tr>\n",
       "      <td>fiberMag_r-i</td>\n",
       "      <td>91925</td>\n",
       "    </tr>\n",
       "    <tr>\n",
       "      <td>psfMag_r</td>\n",
       "      <td>89459</td>\n",
       "    </tr>\n",
       "  </tbody>\n",
       "</table>\n",
       "</div>"
      ],
      "text/plain": [
       "              importance\n",
       "modelMag_r-i      124368\n",
       "modelMag_g-r      113273\n",
       "psfMag_g-r        110470\n",
       "fiberMag_g-r      103029\n",
       "psfMag_u-g         98217\n",
       "modelMag_u-g       95721\n",
       "fiberMag_u-g       95513\n",
       "modelMag_i-z       92252\n",
       "fiberMag_r-i       91925\n",
       "psfMag_r           89459"
      ]
     },
     "execution_count": 25,
     "metadata": {},
     "output_type": "execute_result"
    }
   ],
   "source": [
    "feature_df = pd.DataFrame(lgmb_model.feature_importance(), index= train_X.columns,columns= ['importance']).sort_values('importance',ascending = False)\n",
    "feature_df.head(10)"
   ]
  },
  {
   "cell_type": "code",
   "execution_count": 26,
   "metadata": {
    "ExecuteTime": {
     "end_time": "2020-02-21T18:05:28.284000Z",
     "start_time": "2020-02-21T18:05:27.857000Z"
    }
   },
   "outputs": [],
   "source": [
    "submission = pd.DataFrame(data=real_y_pred, columns=sample_submission_df.columns, index=sample_submission_df.index)\n",
    "submission.to_csv(f'submission_lightbgm_sam_tune_outlier_add_only({log_loss(y_test,train_y_pred,labels= list(set(y_test)))}).csv', index=True)"
   ]
  },
  {
   "cell_type": "markdown",
   "metadata": {},
   "source": [
    "## Gridsearch_cv"
   ]
  },
  {
   "cell_type": "code",
   "execution_count": 27,
   "metadata": {
    "ExecuteTime": {
     "end_time": "2020-02-21T18:05:28.289000Z",
     "start_time": "2020-02-21T18:05:28.285000Z"
    }
   },
   "outputs": [],
   "source": [
    "# from sklearn.feature_selection import SelectKBest\n",
    "# model_kbest = SelectKBest()\n",
    "# from sklearn.pipeline import Pipeline"
   ]
  },
  {
   "cell_type": "code",
   "execution_count": 28,
   "metadata": {
    "ExecuteTime": {
     "end_time": "2020-02-21T18:05:28.295000Z",
     "start_time": "2020-02-21T18:05:28.291000Z"
    }
   },
   "outputs": [],
   "source": [
    "# #최적의 변수를 찾기 위한 KBest 함수 불러오기\n",
    "# #파이프라인 구축\n",
    "# pipe_lgbm = Pipeline([('lgbm',lgbm_c)])\n",
    "# #파라미터 생성\n",
    "# params_lgbm = {\n",
    "#           \"lgbm__max_depth\": [15,20,25],\n",
    "#          \"lgbm__learning_rate\": [0.001],\n",
    "#          \"lgbm__num_leaves\": [15,20,25],\n",
    "#          \"lgbm__n_estimators\": [200,300,400,500],\n",
    "#          \"lgbm__random_state\": [42]}"
   ]
  },
  {
   "cell_type": "code",
   "execution_count": 29,
   "metadata": {
    "ExecuteTime": {
     "end_time": "2020-02-21T18:05:28.302000Z",
     "start_time": "2020-02-21T18:05:28.297000Z"
    }
   },
   "outputs": [],
   "source": [
    "# #최적의 파라미터 탐색\n",
    "# from sklearn.model_selection import GridSearchCV\n",
    "# grid_search = GridSearchCV(pipe_lgbm, param_grid = params_lgbm,\n",
    "# #                           cv=3, n_jobs=-1, verbose=10)"
   ]
  },
  {
   "cell_type": "code",
   "execution_count": 30,
   "metadata": {
    "ExecuteTime": {
     "end_time": "2020-02-21T18:05:28.309000Z",
     "start_time": "2020-02-21T18:05:28.304000Z"
    }
   },
   "outputs": [],
   "source": [
    "# grid_search.fit(X_train, y_train)"
   ]
  },
  {
   "cell_type": "code",
   "execution_count": 31,
   "metadata": {
    "ExecuteTime": {
     "end_time": "2020-02-21T18:05:28.315000Z",
     "start_time": "2020-02-21T18:05:28.311000Z"
    }
   },
   "outputs": [],
   "source": [
    "# lgbm_grid = grid_search.best_estimator_\n",
    "# lgbm_grid"
   ]
  },
  {
   "cell_type": "code",
   "execution_count": null,
   "metadata": {},
   "outputs": [],
   "source": []
  }
 ],
 "metadata": {
  "kernelspec": {
   "display_name": "Python 3",
   "language": "python",
   "name": "python3"
  },
  "language_info": {
   "codemirror_mode": {
    "name": "ipython",
    "version": 3
   },
   "file_extension": ".py",
   "mimetype": "text/x-python",
   "name": "python",
   "nbconvert_exporter": "python",
   "pygments_lexer": "ipython3",
   "version": "3.6.9"
  },
  "varInspector": {
   "cols": {
    "lenName": 16,
    "lenType": 16,
    "lenVar": 40
   },
   "kernels_config": {
    "python": {
     "delete_cmd_postfix": "",
     "delete_cmd_prefix": "del ",
     "library": "var_list.py",
     "varRefreshCmd": "print(var_dic_list())"
    },
    "r": {
     "delete_cmd_postfix": ") ",
     "delete_cmd_prefix": "rm(",
     "library": "var_list.r",
     "varRefreshCmd": "cat(var_dic_list()) "
    }
   },
   "types_to_exclude": [
    "module",
    "function",
    "builtin_function_or_method",
    "instance",
    "_Feature"
   ],
   "window_display": false
  }
 },
 "nbformat": 4,
 "nbformat_minor": 2
}
