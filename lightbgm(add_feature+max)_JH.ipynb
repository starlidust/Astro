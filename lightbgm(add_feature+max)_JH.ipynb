{
 "cells": [
  {
   "cell_type": "markdown",
   "metadata": {},
   "source": [
    "# Add_feature 1\n",
    "* 기존변수 + 추가변수 모든 조합으로 사용\n",
    "* 각 mag에서 max인 filter 변수추가\n",
    "* category_features 사용위해 lgb.train사용\n",
    "* 제출결과 : 오히려 노이즈가 추가된 느낌"
   ]
  },
  {
   "cell_type": "code",
   "execution_count": 1,
   "metadata": {
    "ExecuteTime": {
     "end_time": "2020-02-15T06:51:13.647366Z",
     "start_time": "2020-02-15T06:51:09.993983Z"
    }
   },
   "outputs": [
    {
     "name": "stderr",
     "output_type": "stream",
     "text": [
      "C:\\Users\\starl\\Anaconda3\\lib\\site-packages\\sklearn\\ensemble\\weight_boosting.py:29: DeprecationWarning: numpy.core.umath_tests is an internal NumPy module and should not be imported. It will be removed in a future NumPy release.\n",
      "  from numpy.core.umath_tests import inner1d\n"
     ]
    }
   ],
   "source": [
    "import pandas as pd\n",
    "import numpy as np\n",
    "import matplotlib.pyplot as plt\n",
    "import seaborn as sns\n",
    "\n",
    "from sklearn.ensemble import RandomForestClassifier\n",
    "from sklearn.model_selection import train_test_split\n",
    "from sklearn.metrics import confusion_matrix\n",
    "from sklearn.metrics import log_loss\n",
    "import lightgbm as lgb"
   ]
  },
  {
   "cell_type": "code",
   "execution_count": 2,
   "metadata": {
    "ExecuteTime": {
     "end_time": "2020-02-15T06:51:13.659361Z",
     "start_time": "2020-02-15T06:51:13.656360Z"
    }
   },
   "outputs": [],
   "source": [
    "# from google.colab import drive\n",
    "# drive.mount('/content/drive')"
   ]
  },
  {
   "cell_type": "code",
   "execution_count": 3,
   "metadata": {
    "ExecuteTime": {
     "end_time": "2020-02-15T06:51:13.691352Z",
     "start_time": "2020-02-15T06:51:13.667353Z"
    }
   },
   "outputs": [],
   "source": [
    "# #colab용\n",
    "# import os\n",
    "# os.chdir('/content/drive/My Drive/Colab Notebooks/Dacon/천체관측/')"
   ]
  },
  {
   "cell_type": "code",
   "execution_count": 4,
   "metadata": {
    "ExecuteTime": {
     "end_time": "2020-02-15T06:51:15.473296Z",
     "start_time": "2020-02-15T06:51:13.698351Z"
    }
   },
   "outputs": [],
   "source": [
    "# path = \"/content/drive/My Drive/Colab Notebooks/Dacon/천체관측/data/\" #colab\n",
    "path = \"./data/\" #local\n",
    "train_df = pd.read_csv(path+'train.csv',index_col=0)\n",
    "test_df = pd.read_csv(path+'test.csv',index_col=0)\n",
    "sample_submission_df = pd.read_csv(path+'sample_submission.csv',index_col=0)\n",
    "pd.options.display.max_columns = 30"
   ]
  },
  {
   "cell_type": "code",
   "execution_count": 5,
   "metadata": {
    "ExecuteTime": {
     "end_time": "2020-02-15T06:51:17.067317Z",
     "start_time": "2020-02-15T06:51:17.015329Z"
    }
   },
   "outputs": [
    {
     "data": {
      "text/html": [
       "<div>\n",
       "<style scoped>\n",
       "    .dataframe tbody tr th:only-of-type {\n",
       "        vertical-align: middle;\n",
       "    }\n",
       "\n",
       "    .dataframe tbody tr th {\n",
       "        vertical-align: top;\n",
       "    }\n",
       "\n",
       "    .dataframe thead th {\n",
       "        text-align: right;\n",
       "    }\n",
       "</style>\n",
       "<table border=\"1\" class=\"dataframe\">\n",
       "  <thead>\n",
       "    <tr style=\"text-align: right;\">\n",
       "      <th></th>\n",
       "      <th>type</th>\n",
       "      <th>fiberID</th>\n",
       "      <th>psfMag_u</th>\n",
       "      <th>psfMag_g</th>\n",
       "      <th>psfMag_r</th>\n",
       "      <th>psfMag_i</th>\n",
       "      <th>psfMag_z</th>\n",
       "      <th>fiberMag_u</th>\n",
       "      <th>fiberMag_g</th>\n",
       "      <th>fiberMag_r</th>\n",
       "      <th>fiberMag_i</th>\n",
       "      <th>fiberMag_z</th>\n",
       "      <th>petroMag_u</th>\n",
       "      <th>petroMag_g</th>\n",
       "      <th>petroMag_r</th>\n",
       "      <th>petroMag_i</th>\n",
       "      <th>petroMag_z</th>\n",
       "      <th>modelMag_u</th>\n",
       "      <th>modelMag_g</th>\n",
       "      <th>modelMag_r</th>\n",
       "      <th>modelMag_i</th>\n",
       "      <th>modelMag_z</th>\n",
       "    </tr>\n",
       "    <tr>\n",
       "      <th>id</th>\n",
       "      <th></th>\n",
       "      <th></th>\n",
       "      <th></th>\n",
       "      <th></th>\n",
       "      <th></th>\n",
       "      <th></th>\n",
       "      <th></th>\n",
       "      <th></th>\n",
       "      <th></th>\n",
       "      <th></th>\n",
       "      <th></th>\n",
       "      <th></th>\n",
       "      <th></th>\n",
       "      <th></th>\n",
       "      <th></th>\n",
       "      <th></th>\n",
       "      <th></th>\n",
       "      <th></th>\n",
       "      <th></th>\n",
       "      <th></th>\n",
       "      <th></th>\n",
       "      <th></th>\n",
       "    </tr>\n",
       "  </thead>\n",
       "  <tbody>\n",
       "    <tr>\n",
       "      <th>0</th>\n",
       "      <td>QSO</td>\n",
       "      <td>601</td>\n",
       "      <td>23.198224</td>\n",
       "      <td>21.431953</td>\n",
       "      <td>21.314148</td>\n",
       "      <td>21.176553</td>\n",
       "      <td>21.171444</td>\n",
       "      <td>22.581309</td>\n",
       "      <td>21.644453</td>\n",
       "      <td>21.657571</td>\n",
       "      <td>21.387653</td>\n",
       "      <td>21.572827</td>\n",
       "      <td>22.504317</td>\n",
       "      <td>21.431636</td>\n",
       "      <td>21.478312</td>\n",
       "      <td>21.145409</td>\n",
       "      <td>20.422446</td>\n",
       "      <td>22.749241</td>\n",
       "      <td>21.465534</td>\n",
       "      <td>21.364187</td>\n",
       "      <td>21.020605</td>\n",
       "      <td>21.147340</td>\n",
       "    </tr>\n",
       "    <tr>\n",
       "      <th>1</th>\n",
       "      <td>QSO</td>\n",
       "      <td>788</td>\n",
       "      <td>21.431355</td>\n",
       "      <td>20.708104</td>\n",
       "      <td>20.678850</td>\n",
       "      <td>20.703420</td>\n",
       "      <td>20.473229</td>\n",
       "      <td>21.868797</td>\n",
       "      <td>21.029773</td>\n",
       "      <td>20.967054</td>\n",
       "      <td>20.937731</td>\n",
       "      <td>21.063646</td>\n",
       "      <td>21.360701</td>\n",
       "      <td>20.778968</td>\n",
       "      <td>20.889705</td>\n",
       "      <td>20.639812</td>\n",
       "      <td>20.646660</td>\n",
       "      <td>21.492955</td>\n",
       "      <td>20.758527</td>\n",
       "      <td>20.753925</td>\n",
       "      <td>20.693389</td>\n",
       "      <td>20.512314</td>\n",
       "    </tr>\n",
       "    <tr>\n",
       "      <th>2</th>\n",
       "      <td>QSO</td>\n",
       "      <td>427</td>\n",
       "      <td>17.851451</td>\n",
       "      <td>16.727898</td>\n",
       "      <td>16.679677</td>\n",
       "      <td>16.694640</td>\n",
       "      <td>16.641788</td>\n",
       "      <td>18.171890</td>\n",
       "      <td>17.033098</td>\n",
       "      <td>16.999682</td>\n",
       "      <td>17.095999</td>\n",
       "      <td>17.076449</td>\n",
       "      <td>17.867253</td>\n",
       "      <td>16.738784</td>\n",
       "      <td>16.688874</td>\n",
       "      <td>16.744210</td>\n",
       "      <td>16.808006</td>\n",
       "      <td>17.818063</td>\n",
       "      <td>16.697434</td>\n",
       "      <td>16.641249</td>\n",
       "      <td>16.660177</td>\n",
       "      <td>16.688928</td>\n",
       "    </tr>\n",
       "    <tr>\n",
       "      <th>3</th>\n",
       "      <td>QSO</td>\n",
       "      <td>864</td>\n",
       "      <td>20.789900</td>\n",
       "      <td>20.040371</td>\n",
       "      <td>19.926909</td>\n",
       "      <td>19.843840</td>\n",
       "      <td>19.463270</td>\n",
       "      <td>21.039030</td>\n",
       "      <td>20.317165</td>\n",
       "      <td>20.217898</td>\n",
       "      <td>20.073852</td>\n",
       "      <td>19.794505</td>\n",
       "      <td>20.433907</td>\n",
       "      <td>19.993727</td>\n",
       "      <td>19.985531</td>\n",
       "      <td>19.750917</td>\n",
       "      <td>19.455117</td>\n",
       "      <td>20.770711</td>\n",
       "      <td>20.001699</td>\n",
       "      <td>19.889798</td>\n",
       "      <td>19.758113</td>\n",
       "      <td>19.552855</td>\n",
       "    </tr>\n",
       "    <tr>\n",
       "      <th>4</th>\n",
       "      <td>STAR_RED_DWARF</td>\n",
       "      <td>612</td>\n",
       "      <td>26.454969</td>\n",
       "      <td>23.058767</td>\n",
       "      <td>21.471406</td>\n",
       "      <td>19.504961</td>\n",
       "      <td>18.389096</td>\n",
       "      <td>25.700632</td>\n",
       "      <td>23.629122</td>\n",
       "      <td>21.742750</td>\n",
       "      <td>19.861718</td>\n",
       "      <td>18.810375</td>\n",
       "      <td>25.859229</td>\n",
       "      <td>22.426929</td>\n",
       "      <td>21.673551</td>\n",
       "      <td>19.610012</td>\n",
       "      <td>18.376141</td>\n",
       "      <td>24.877052</td>\n",
       "      <td>23.147993</td>\n",
       "      <td>21.475342</td>\n",
       "      <td>19.487330</td>\n",
       "      <td>18.375655</td>\n",
       "    </tr>\n",
       "  </tbody>\n",
       "</table>\n",
       "</div>"
      ],
      "text/plain": [
       "              type  fiberID   psfMag_u   psfMag_g   psfMag_r   psfMag_i  \\\n",
       "id                                                                        \n",
       "0              QSO      601  23.198224  21.431953  21.314148  21.176553   \n",
       "1              QSO      788  21.431355  20.708104  20.678850  20.703420   \n",
       "2              QSO      427  17.851451  16.727898  16.679677  16.694640   \n",
       "3              QSO      864  20.789900  20.040371  19.926909  19.843840   \n",
       "4   STAR_RED_DWARF      612  26.454969  23.058767  21.471406  19.504961   \n",
       "\n",
       "     psfMag_z  fiberMag_u  fiberMag_g  fiberMag_r  fiberMag_i  fiberMag_z  \\\n",
       "id                                                                          \n",
       "0   21.171444   22.581309   21.644453   21.657571   21.387653   21.572827   \n",
       "1   20.473229   21.868797   21.029773   20.967054   20.937731   21.063646   \n",
       "2   16.641788   18.171890   17.033098   16.999682   17.095999   17.076449   \n",
       "3   19.463270   21.039030   20.317165   20.217898   20.073852   19.794505   \n",
       "4   18.389096   25.700632   23.629122   21.742750   19.861718   18.810375   \n",
       "\n",
       "    petroMag_u  petroMag_g  petroMag_r  petroMag_i  petroMag_z  modelMag_u  \\\n",
       "id                                                                           \n",
       "0    22.504317   21.431636   21.478312   21.145409   20.422446   22.749241   \n",
       "1    21.360701   20.778968   20.889705   20.639812   20.646660   21.492955   \n",
       "2    17.867253   16.738784   16.688874   16.744210   16.808006   17.818063   \n",
       "3    20.433907   19.993727   19.985531   19.750917   19.455117   20.770711   \n",
       "4    25.859229   22.426929   21.673551   19.610012   18.376141   24.877052   \n",
       "\n",
       "    modelMag_g  modelMag_r  modelMag_i  modelMag_z  \n",
       "id                                                  \n",
       "0    21.465534   21.364187   21.020605   21.147340  \n",
       "1    20.758527   20.753925   20.693389   20.512314  \n",
       "2    16.697434   16.641249   16.660177   16.688928  \n",
       "3    20.001699   19.889798   19.758113   19.552855  \n",
       "4    23.147993   21.475342   19.487330   18.375655  "
      ]
     },
     "execution_count": 5,
     "metadata": {},
     "output_type": "execute_result"
    }
   ],
   "source": [
    "train_df.head()"
   ]
  },
  {
   "cell_type": "markdown",
   "metadata": {},
   "source": [
    "## DATA Setting"
   ]
  },
  {
   "cell_type": "code",
   "execution_count": 5,
   "metadata": {
    "ExecuteTime": {
     "end_time": "2020-02-13T08:35:19.600421Z",
     "start_time": "2020-02-13T08:35:19.512390Z"
    }
   },
   "outputs": [],
   "source": [
    "column_number = {}\n",
    "number_columns = {}\n",
    "for i, column in enumerate(sample_submission_df.columns):\n",
    "    column_number[column] = i\n",
    "    number_columns[i] = column\n",
    "    \n",
    "    \n",
    "def to_number(x, dic):\n",
    "    return dic[x]\n",
    "\n",
    "train_df['type_num'] = train_df['type'].apply(lambda x: to_number(x, column_number))\n"
   ]
  },
  {
   "cell_type": "code",
   "execution_count": 6,
   "metadata": {
    "ExecuteTime": {
     "end_time": "2020-02-13T08:35:19.730421Z",
     "start_time": "2020-02-13T08:35:19.725428Z"
    }
   },
   "outputs": [],
   "source": [
    "def add_minus_feature_all(data,test = False):\n",
    "    '''\n",
    "    combination으로 모든 변수들의 조합에 대해서 컬럼생성 \n",
    "    각 mag에서 가장 높은값의 filter를 받아오는 \"~~mag_MAX\"생성\n",
    "    결과 64개로 증가\n",
    "    '''\n",
    "    from itertools import combinations\n",
    "    n = 0\n",
    "    for count in range(5,21,5):\n",
    "        s = 2\n",
    "        if test == True :\n",
    "            s = 1\n",
    "        selected = data.columns[s:].values[n:count]\n",
    "        mag = str.split(selected[0],'_')[0]\n",
    "        data[mag+\"_MAX\"] = data[selected].apply(lambda x : str.split(np.argmax(x),'_')[1],axis = 1)\n",
    "        for combi in list(combinations(selected,2)):\n",
    "            name_1st = str.split(combi[0],'_')[1]\n",
    "            name_2nd = str.split(combi[1],'_')[1]\n",
    "            data[mag+\"_\"+name_1st+\"-\"+name_2nd] = data[combi[0]]-data[combi[1]]\n",
    "        n=count\n",
    "    return data"
   ]
  },
  {
   "cell_type": "code",
   "execution_count": 7,
   "metadata": {
    "ExecuteTime": {
     "end_time": "2020-02-13T08:35:19.853430Z",
     "start_time": "2020-02-13T08:35:19.847416Z"
    }
   },
   "outputs": [],
   "source": [
    "def add_minus_feature(data,test = False):\n",
    "    '''\n",
    "    근접변수에 대해서만 컬럼생성 ex) 'fiberMag_u-g', 'fiberMag_g-r', 'fiberMag_r-i', 'fiberMag_i-z'\n",
    "    각 mag에서 가장 높은값의 filter를 받아오는 \"~~mag_MAX\"생성\n",
    "    결과 38개로 증가 \n",
    "    '''\n",
    "    from itertools import combinations\n",
    "    n = 0\n",
    "    m = 0\n",
    "    for count in range(5,21,5):\n",
    "        s = 2\n",
    "        if test == True :\n",
    "            s = 1\n",
    "        selected = data.columns[s:].values[n:count]\n",
    "        mag = str.split(selected[0],'_')[0]\n",
    "        data[mag+\"_MAX\"] = data[selected].apply(lambda x : str.split(np.argmax(x),'_')[1],axis = 1)\n",
    "        for i in range(0,len(selected)):        \n",
    "            if i>0: \n",
    "                name_1st = str.split(m,'_')[1]\n",
    "                name_2nd = str.split(selected[i],'_')[1]\n",
    "                data[mag+\"_\"+name_1st+\"-\"+name_2nd] = data[m]-data[selected[i]]\n",
    "            m = selected[i]    \n",
    "        n=count\n",
    "    return data"
   ]
  },
  {
   "cell_type": "code",
   "execution_count": 8,
   "metadata": {
    "ExecuteTime": {
     "end_time": "2020-02-13T08:36:31.289243Z",
     "start_time": "2020-02-13T08:35:36.477745Z"
    }
   },
   "outputs": [
    {
     "name": "stderr",
     "output_type": "stream",
     "text": [
      "C:\\Users\\starl\\Anaconda3\\lib\\site-packages\\numpy\\core\\fromnumeric.py:61: FutureWarning: 'argmax' is deprecated, use 'idxmax' instead. The behavior of 'argmax'\n",
      "will be corrected to return the positional maximum in the future.\n",
      "Use 'series.values.argmax' to get the position of the maximum now.\n",
      "  return bound(*args, **kwds)\n"
     ]
    }
   ],
   "source": [
    "train_df = add_minus_feature_all(train_df)\n",
    "test_df = add_minus_feature_all(test_df,True)"
   ]
  },
  {
   "cell_type": "code",
   "execution_count": 9,
   "metadata": {
    "ExecuteTime": {
     "end_time": "2020-02-13T08:36:31.667223Z",
     "start_time": "2020-02-13T08:36:31.663223Z"
    }
   },
   "outputs": [],
   "source": [
    "def label_encode(data):\n",
    "    '''\n",
    "    각 mag에서 가장 높은값의 filter를 labelencoding \n",
    "    '''\n",
    "    from sklearn.preprocessing import LabelEncoder\n",
    "    le = LabelEncoder()\n",
    "    taget_cols = ['psfMag_MAX','fiberMag_MAX','petroMag_MAX','modelMag_MAX']\n",
    "    for col in taget_cols:\n",
    "        data[col] = le.fit_transform(data[col])\n",
    "    return data"
   ]
  },
  {
   "cell_type": "code",
   "execution_count": 10,
   "metadata": {
    "ExecuteTime": {
     "end_time": "2020-02-13T08:36:32.360229Z",
     "start_time": "2020-02-13T08:36:31.988213Z"
    }
   },
   "outputs": [],
   "source": [
    "train_df = label_encode(train_df)\n",
    "test_df = label_encode(test_df)"
   ]
  },
  {
   "cell_type": "code",
   "execution_count": 11,
   "metadata": {
    "ExecuteTime": {
     "end_time": "2020-02-13T08:36:32.843213Z",
     "start_time": "2020-02-13T08:36:32.681192Z"
    }
   },
   "outputs": [],
   "source": [
    "train_X = train_df.drop(columns=['type', 'type_num'], axis=1)\n",
    "train_y = train_df['type_num']\n",
    "test_X = test_df"
   ]
  },
  {
   "cell_type": "code",
   "execution_count": 12,
   "metadata": {
    "ExecuteTime": {
     "end_time": "2020-02-13T08:36:33.535193Z",
     "start_time": "2020-02-13T08:36:33.330172Z"
    }
   },
   "outputs": [],
   "source": [
    "X_train, X_test, y_train, y_test = train_test_split(train_X, train_y, test_size=0.3, random_state=42,stratify = train_y)"
   ]
  },
  {
   "cell_type": "code",
   "execution_count": 13,
   "metadata": {
    "ExecuteTime": {
     "end_time": "2020-02-13T08:36:34.220160Z",
     "start_time": "2020-02-13T08:36:34.215146Z"
    }
   },
   "outputs": [],
   "source": [
    "train_ds = lgb.Dataset(X_train, label = y_train, categorical_feature=['fiberID'])\n",
    "test_ds = lgb.Dataset(X_test, label = y_test, categorical_feature=['fiberID']) "
   ]
  },
  {
   "cell_type": "code",
   "execution_count": 14,
   "metadata": {
    "ExecuteTime": {
     "end_time": "2020-02-13T08:36:34.917140Z",
     "start_time": "2020-02-13T08:36:34.911124Z"
    }
   },
   "outputs": [],
   "source": [
    "params = {\n",
    "    'boosting_type': 'gbdt',\n",
    "    'objective': 'multiclass',\n",
    "    'num_class': train_y.nunique(),\n",
    "    'metric': {'multi_logloss','multi_logloss'},\n",
    "    'num_leaves': 25,\n",
    "    'learning_rate': 0.005,\n",
    "    'max_depth' : 12,\n",
    "    'random_state' : 42\n",
    "}"
   ]
  },
  {
   "cell_type": "markdown",
   "metadata": {},
   "source": [
    "## Modeling"
   ]
  },
  {
   "cell_type": "code",
   "execution_count": 15,
   "metadata": {
    "ExecuteTime": {
     "end_time": "2020-02-13T08:49:19.630001Z",
     "start_time": "2020-02-13T08:36:35.603104Z"
    }
   },
   "outputs": [
    {
     "name": "stderr",
     "output_type": "stream",
     "text": [
      "C:\\Users\\starl\\Anaconda3\\lib\\site-packages\\lightgbm\\basic.py:1291: UserWarning: Using categorical_feature in Dataset.\n",
      "  warnings.warn('Using categorical_feature in Dataset.')\n"
     ]
    },
    {
     "name": "stdout",
     "output_type": "stream",
     "text": [
      "Training until validation scores don't improve for 100 rounds\n",
      "[100]\tTrain's multi_logloss: 1.28723\tTest's multi_logloss: 1.30876\n",
      "[200]\tTrain's multi_logloss: 0.902324\tTest's multi_logloss: 0.936736\n",
      "[300]\tTrain's multi_logloss: 0.686321\tTest's multi_logloss: 0.733237\n",
      "[400]\tTrain's multi_logloss: 0.553224\tTest's multi_logloss: 0.61126\n",
      "[500]\tTrain's multi_logloss: 0.466323\tTest's multi_logloss: 0.535647\n",
      "[600]\tTrain's multi_logloss: 0.408226\tTest's multi_logloss: 0.488293\n",
      "[700]\tTrain's multi_logloss: 0.367309\tTest's multi_logloss: 0.45725\n",
      "[800]\tTrain's multi_logloss: 0.336538\tTest's multi_logloss: 0.436793\n",
      "[900]\tTrain's multi_logloss: 0.312962\tTest's multi_logloss: 0.423787\n",
      "[1000]\tTrain's multi_logloss: 0.293692\tTest's multi_logloss: 0.414907\n",
      "[1100]\tTrain's multi_logloss: 0.277665\tTest's multi_logloss: 0.408963\n",
      "[1200]\tTrain's multi_logloss: 0.264353\tTest's multi_logloss: 0.405093\n",
      "[1300]\tTrain's multi_logloss: 0.252506\tTest's multi_logloss: 0.402585\n",
      "[1400]\tTrain's multi_logloss: 0.241998\tTest's multi_logloss: 0.400676\n",
      "[1500]\tTrain's multi_logloss: 0.232478\tTest's multi_logloss: 0.399573\n",
      "[1600]\tTrain's multi_logloss: 0.224104\tTest's multi_logloss: 0.39889\n",
      "[1700]\tTrain's multi_logloss: 0.216398\tTest's multi_logloss: 0.398646\n",
      "[1800]\tTrain's multi_logloss: 0.209258\tTest's multi_logloss: 0.398655\n",
      "Early stopping, best iteration is:\n",
      "[1785]\tTrain's multi_logloss: 0.210299\tTest's multi_logloss: 0.398621\n"
     ]
    }
   ],
   "source": [
    "evaluation_results = {}\n",
    "lgmb_model = lgb.train(params, train_ds,num_boost_round= 20000, \n",
    "                       valid_sets = [train_ds,test_ds], valid_names=['Train', 'Test'],\n",
    "                       evals_result=evaluation_results,\n",
    "                       verbose_eval=100, early_stopping_rounds=100)"
   ]
  },
  {
   "cell_type": "code",
   "execution_count": 16,
   "metadata": {
    "ExecuteTime": {
     "end_time": "2020-02-13T08:49:20.824640Z",
     "start_time": "2020-02-13T08:49:20.353964Z"
    }
   },
   "outputs": [
    {
     "data": {
      "image/png": "[encoded data removed]",
      "text/plain": [
       "<Figure size 1080x288 with 2 Axes>"
      ]
     },
     "metadata": {},
     "output_type": "display_data"
    }
   ],
   "source": [
    "fig, axs = plt.subplots(1, 2, figsize=[15, 4])\n",
    "\n",
    "# Plot the log loss during training\n",
    "axs[0].plot(evaluation_results['Train']['multi_logloss'], label='Train')\n",
    "axs[0].plot(evaluation_results['Test']['multi_logloss'], label='Test')\n",
    "axs[0].set_ylabel('Log loss')\n",
    "axs[0].set_xlabel('Boosting round')\n",
    "axs[0].set_title('Training performance')\n",
    "axs[0].legend()\n",
    "\n",
    "# Plot feature importance\n",
    "importances = pd.DataFrame({'features': lgmb_model.feature_name(), \n",
    "                            'importance': lgmb_model.feature_importance()}).sort_values('importance', ascending=False).head(10)\n",
    "axs[1].bar(x=np.arange(len(importances)), height=importances['importance'])\n",
    "axs[1].set_xticks(np.arange(len(importances)))\n",
    "axs[1].set_xticklabels(importances['features'])\n",
    "axs[1].set_ylabel('Feature importance (# times used to split)')\n",
    "axs[1].set_title('Feature importance')\n",
    "plt.xticks(rotation=45)\n",
    "\n",
    "plt.show()"
   ]
  },
  {
   "cell_type": "code",
   "execution_count": 17,
   "metadata": {
    "ExecuteTime": {
     "end_time": "2020-02-13T08:54:12.434369Z",
     "start_time": "2020-02-13T08:49:21.500620Z"
    }
   },
   "outputs": [],
   "source": [
    "train_y_pred = lgmb_model.predict(X_test)\n",
    "real_y_pred = lgmb_model.predict(test_X)"
   ]
  },
  {
   "cell_type": "code",
   "execution_count": 18,
   "metadata": {
    "ExecuteTime": {
     "end_time": "2020-02-13T08:54:13.255298Z",
     "start_time": "2020-02-13T08:54:13.251298Z"
    }
   },
   "outputs": [
    {
     "data": {
      "text/plain": [
       "(59998, 19)"
      ]
     },
     "execution_count": 18,
     "metadata": {},
     "output_type": "execute_result"
    }
   ],
   "source": [
    "train_y_pred.shape"
   ]
  },
  {
   "cell_type": "code",
   "execution_count": 19,
   "metadata": {
    "ExecuteTime": {
     "end_time": "2020-02-13T08:54:14.042232Z",
     "start_time": "2020-02-13T08:54:13.979296Z"
    },
    "scrolled": true
   },
   "outputs": [
    {
     "data": {
      "text/plain": [
       "0.3986205968510819"
      ]
     },
     "execution_count": 19,
     "metadata": {},
     "output_type": "execute_result"
    }
   ],
   "source": [
    "#log_loss\n",
    "log_loss(y_test,train_y_pred,labels= list(set(y_test)))"
   ]
  },
  {
   "cell_type": "code",
   "execution_count": 20,
   "metadata": {
    "ExecuteTime": {
     "end_time": "2020-02-13T08:54:14.774258Z",
     "start_time": "2020-02-13T08:54:14.762258Z"
    }
   },
   "outputs": [
    {
     "data": {
      "text/plain": [
       "array([201010,   9102,  17495,  20711,  15970,  13304,   8873,  11726,\n",
       "        14684,  12668,   8479,   9317,   8417,   9769,  10575,   9863,\n",
       "         9592,  11146,   9435,   9514,  14895,    207,  15145,   8603,\n",
       "         5490,   4555,  15927,   7935,   5805,  12112,   7969,  11959,\n",
       "          255,  12864,   8522,   4887,   5814,  16949,   9035,   5947,\n",
       "        12284,  11437,  12906,    513,  13730,   7192,   5199,   4445,\n",
       "        11716,   5729,   5046,  10676,   5976,   8490,    193,  14856,\n",
       "         8359,   6335,   4226,  14738,   8991,   4798,  17429,   9430,\n",
       "        12737])"
      ]
     },
     "execution_count": 20,
     "metadata": {},
     "output_type": "execute_result"
    }
   ],
   "source": [
    "lgmb_model.feature_importance()"
   ]
  },
  {
   "cell_type": "markdown",
   "metadata": {},
   "source": [
    "### feature_importance"
   ]
  },
  {
   "cell_type": "code",
   "execution_count": 21,
   "metadata": {
    "ExecuteTime": {
     "end_time": "2020-02-13T08:54:15.527427Z",
     "start_time": "2020-02-13T08:54:15.497427Z"
    }
   },
   "outputs": [
    {
     "data": {
      "text/html": [
       "<div>\n",
       "<style scoped>\n",
       "    .dataframe tbody tr th:only-of-type {\n",
       "        vertical-align: middle;\n",
       "    }\n",
       "\n",
       "    .dataframe tbody tr th {\n",
       "        vertical-align: top;\n",
       "    }\n",
       "\n",
       "    .dataframe thead th {\n",
       "        text-align: right;\n",
       "    }\n",
       "</style>\n",
       "<table border=\"1\" class=\"dataframe\">\n",
       "  <thead>\n",
       "    <tr style=\"text-align: right;\">\n",
       "      <th></th>\n",
       "      <th>importance</th>\n",
       "    </tr>\n",
       "  </thead>\n",
       "  <tbody>\n",
       "    <tr>\n",
       "      <th>fiberID</th>\n",
       "      <td>201010</td>\n",
       "    </tr>\n",
       "    <tr>\n",
       "      <th>psfMag_r</th>\n",
       "      <td>20711</td>\n",
       "    </tr>\n",
       "    <tr>\n",
       "      <th>psfMag_g</th>\n",
       "      <td>17495</td>\n",
       "    </tr>\n",
       "    <tr>\n",
       "      <th>modelMag_r-i</th>\n",
       "      <td>17429</td>\n",
       "    </tr>\n",
       "    <tr>\n",
       "      <th>fiberMag_g-r</th>\n",
       "      <td>16949</td>\n",
       "    </tr>\n",
       "    <tr>\n",
       "      <th>psfMag_i</th>\n",
       "      <td>15970</td>\n",
       "    </tr>\n",
       "    <tr>\n",
       "      <th>psfMag_g-r</th>\n",
       "      <td>15927</td>\n",
       "    </tr>\n",
       "    <tr>\n",
       "      <th>psfMag_u-g</th>\n",
       "      <td>15145</td>\n",
       "    </tr>\n",
       "    <tr>\n",
       "      <th>modelMag_z</th>\n",
       "      <td>14895</td>\n",
       "    </tr>\n",
       "    <tr>\n",
       "      <th>modelMag_u-g</th>\n",
       "      <td>14856</td>\n",
       "    </tr>\n",
       "  </tbody>\n",
       "</table>\n",
       "</div>"
      ],
      "text/plain": [
       "              importance\n",
       "fiberID           201010\n",
       "psfMag_r           20711\n",
       "psfMag_g           17495\n",
       "modelMag_r-i       17429\n",
       "fiberMag_g-r       16949\n",
       "psfMag_i           15970\n",
       "psfMag_g-r         15927\n",
       "psfMag_u-g         15145\n",
       "modelMag_z         14895\n",
       "modelMag_u-g       14856"
      ]
     },
     "execution_count": 21,
     "metadata": {},
     "output_type": "execute_result"
    }
   ],
   "source": [
    "pi_df = pd.DataFrame(lgmb_model.feature_importance(), index= train_X.columns,columns= ['importance']).sort_values('importance',ascending = False)\n",
    "pi_df.head(10)"
   ]
  },
  {
   "cell_type": "markdown",
   "metadata": {},
   "source": [
    "### 예측결과에 대해\n",
    "* 12번이 모두 6번으로 몰림\n",
    "중간예측 : 0,2,7,11\n",
    "망한예측 : 12,17"
   ]
  },
  {
   "cell_type": "code",
   "execution_count": 22,
   "metadata": {
    "ExecuteTime": {
     "end_time": "2020-02-13T08:54:16.317133Z",
     "start_time": "2020-02-13T08:54:16.267134Z"
    }
   },
   "outputs": [],
   "source": [
    "cm_result = pd.DataFrame(confusion_matrix(y_test,np.argmax(train_y_pred,axis = 1)))"
   ]
  },
  {
   "cell_type": "code",
   "execution_count": 23,
   "metadata": {
    "ExecuteTime": {
     "end_time": "2020-02-13T08:54:17.081110Z",
     "start_time": "2020-02-13T08:54:17.064110Z"
    }
   },
   "outputs": [
    {
     "data": {
      "text/html": [
       "<div>\n",
       "<style scoped>\n",
       "    .dataframe tbody tr th:only-of-type {\n",
       "        vertical-align: middle;\n",
       "    }\n",
       "\n",
       "    .dataframe tbody tr th {\n",
       "        vertical-align: top;\n",
       "    }\n",
       "\n",
       "    .dataframe thead th {\n",
       "        text-align: right;\n",
       "    }\n",
       "</style>\n",
       "<table border=\"1\" class=\"dataframe\">\n",
       "  <thead>\n",
       "    <tr style=\"text-align: right;\">\n",
       "      <th></th>\n",
       "      <th>0</th>\n",
       "      <th>1</th>\n",
       "      <th>2</th>\n",
       "      <th>3</th>\n",
       "      <th>4</th>\n",
       "      <th>5</th>\n",
       "      <th>6</th>\n",
       "      <th>7</th>\n",
       "      <th>8</th>\n",
       "      <th>9</th>\n",
       "      <th>10</th>\n",
       "      <th>11</th>\n",
       "      <th>12</th>\n",
       "      <th>13</th>\n",
       "      <th>14</th>\n",
       "      <th>15</th>\n",
       "      <th>16</th>\n",
       "      <th>17</th>\n",
       "      <th>18</th>\n",
       "    </tr>\n",
       "  </thead>\n",
       "  <tbody>\n",
       "    <tr>\n",
       "      <th>0</th>\n",
       "      <td>234</td>\n",
       "      <td>0</td>\n",
       "      <td>0</td>\n",
       "      <td>0</td>\n",
       "      <td>17</td>\n",
       "      <td>58</td>\n",
       "      <td>5</td>\n",
       "      <td>169</td>\n",
       "      <td>60</td>\n",
       "      <td>0</td>\n",
       "      <td>0</td>\n",
       "      <td>17</td>\n",
       "      <td>0</td>\n",
       "      <td>1</td>\n",
       "      <td>17</td>\n",
       "      <td>10</td>\n",
       "      <td>0</td>\n",
       "      <td>0</td>\n",
       "      <td>60</td>\n",
       "    </tr>\n",
       "    <tr>\n",
       "      <th>1</th>\n",
       "      <td>2</td>\n",
       "      <td>1881</td>\n",
       "      <td>0</td>\n",
       "      <td>0</td>\n",
       "      <td>0</td>\n",
       "      <td>0</td>\n",
       "      <td>1</td>\n",
       "      <td>3</td>\n",
       "      <td>13</td>\n",
       "      <td>0</td>\n",
       "      <td>3</td>\n",
       "      <td>4</td>\n",
       "      <td>0</td>\n",
       "      <td>0</td>\n",
       "      <td>0</td>\n",
       "      <td>0</td>\n",
       "      <td>6</td>\n",
       "      <td>0</td>\n",
       "      <td>39</td>\n",
       "    </tr>\n",
       "    <tr>\n",
       "      <th>2</th>\n",
       "      <td>0</td>\n",
       "      <td>0</td>\n",
       "      <td>71</td>\n",
       "      <td>70</td>\n",
       "      <td>0</td>\n",
       "      <td>0</td>\n",
       "      <td>0</td>\n",
       "      <td>0</td>\n",
       "      <td>0</td>\n",
       "      <td>1</td>\n",
       "      <td>8</td>\n",
       "      <td>0</td>\n",
       "      <td>0</td>\n",
       "      <td>0</td>\n",
       "      <td>0</td>\n",
       "      <td>0</td>\n",
       "      <td>0</td>\n",
       "      <td>0</td>\n",
       "      <td>0</td>\n",
       "    </tr>\n",
       "    <tr>\n",
       "      <th>3</th>\n",
       "      <td>0</td>\n",
       "      <td>0</td>\n",
       "      <td>32</td>\n",
       "      <td>650</td>\n",
       "      <td>0</td>\n",
       "      <td>0</td>\n",
       "      <td>1</td>\n",
       "      <td>0</td>\n",
       "      <td>0</td>\n",
       "      <td>1</td>\n",
       "      <td>85</td>\n",
       "      <td>0</td>\n",
       "      <td>0</td>\n",
       "      <td>0</td>\n",
       "      <td>0</td>\n",
       "      <td>0</td>\n",
       "      <td>0</td>\n",
       "      <td>0</td>\n",
       "      <td>0</td>\n",
       "    </tr>\n",
       "    <tr>\n",
       "      <th>4</th>\n",
       "      <td>1</td>\n",
       "      <td>0</td>\n",
       "      <td>0</td>\n",
       "      <td>0</td>\n",
       "      <td>4248</td>\n",
       "      <td>24</td>\n",
       "      <td>1</td>\n",
       "      <td>0</td>\n",
       "      <td>9</td>\n",
       "      <td>0</td>\n",
       "      <td>0</td>\n",
       "      <td>11</td>\n",
       "      <td>0</td>\n",
       "      <td>0</td>\n",
       "      <td>0</td>\n",
       "      <td>92</td>\n",
       "      <td>0</td>\n",
       "      <td>0</td>\n",
       "      <td>0</td>\n",
       "    </tr>\n",
       "    <tr>\n",
       "      <th>5</th>\n",
       "      <td>26</td>\n",
       "      <td>0</td>\n",
       "      <td>1</td>\n",
       "      <td>0</td>\n",
       "      <td>152</td>\n",
       "      <td>3628</td>\n",
       "      <td>2</td>\n",
       "      <td>77</td>\n",
       "      <td>61</td>\n",
       "      <td>0</td>\n",
       "      <td>0</td>\n",
       "      <td>4</td>\n",
       "      <td>0</td>\n",
       "      <td>0</td>\n",
       "      <td>0</td>\n",
       "      <td>84</td>\n",
       "      <td>0</td>\n",
       "      <td>0</td>\n",
       "      <td>15</td>\n",
       "    </tr>\n",
       "    <tr>\n",
       "      <th>6</th>\n",
       "      <td>3</td>\n",
       "      <td>23</td>\n",
       "      <td>0</td>\n",
       "      <td>0</td>\n",
       "      <td>12</td>\n",
       "      <td>1</td>\n",
       "      <td>10897</td>\n",
       "      <td>5</td>\n",
       "      <td>89</td>\n",
       "      <td>1</td>\n",
       "      <td>0</td>\n",
       "      <td>55</td>\n",
       "      <td>0</td>\n",
       "      <td>84</td>\n",
       "      <td>20</td>\n",
       "      <td>14</td>\n",
       "      <td>0</td>\n",
       "      <td>0</td>\n",
       "      <td>0</td>\n",
       "    </tr>\n",
       "    <tr>\n",
       "      <th>7</th>\n",
       "      <td>145</td>\n",
       "      <td>0</td>\n",
       "      <td>0</td>\n",
       "      <td>0</td>\n",
       "      <td>0</td>\n",
       "      <td>193</td>\n",
       "      <td>1</td>\n",
       "      <td>685</td>\n",
       "      <td>21</td>\n",
       "      <td>0</td>\n",
       "      <td>0</td>\n",
       "      <td>3</td>\n",
       "      <td>0</td>\n",
       "      <td>0</td>\n",
       "      <td>0</td>\n",
       "      <td>1</td>\n",
       "      <td>0</td>\n",
       "      <td>0</td>\n",
       "      <td>347</td>\n",
       "    </tr>\n",
       "    <tr>\n",
       "      <th>8</th>\n",
       "      <td>9</td>\n",
       "      <td>10</td>\n",
       "      <td>1</td>\n",
       "      <td>7</td>\n",
       "      <td>35</td>\n",
       "      <td>231</td>\n",
       "      <td>122</td>\n",
       "      <td>35</td>\n",
       "      <td>13089</td>\n",
       "      <td>0</td>\n",
       "      <td>12</td>\n",
       "      <td>248</td>\n",
       "      <td>0</td>\n",
       "      <td>71</td>\n",
       "      <td>74</td>\n",
       "      <td>9</td>\n",
       "      <td>15</td>\n",
       "      <td>0</td>\n",
       "      <td>936</td>\n",
       "    </tr>\n",
       "    <tr>\n",
       "      <th>9</th>\n",
       "      <td>0</td>\n",
       "      <td>0</td>\n",
       "      <td>0</td>\n",
       "      <td>0</td>\n",
       "      <td>0</td>\n",
       "      <td>0</td>\n",
       "      <td>0</td>\n",
       "      <td>0</td>\n",
       "      <td>8</td>\n",
       "      <td>30</td>\n",
       "      <td>0</td>\n",
       "      <td>0</td>\n",
       "      <td>0</td>\n",
       "      <td>0</td>\n",
       "      <td>0</td>\n",
       "      <td>0</td>\n",
       "      <td>0</td>\n",
       "      <td>0</td>\n",
       "      <td>0</td>\n",
       "    </tr>\n",
       "    <tr>\n",
       "      <th>10</th>\n",
       "      <td>0</td>\n",
       "      <td>0</td>\n",
       "      <td>7</td>\n",
       "      <td>127</td>\n",
       "      <td>0</td>\n",
       "      <td>0</td>\n",
       "      <td>1</td>\n",
       "      <td>0</td>\n",
       "      <td>2</td>\n",
       "      <td>0</td>\n",
       "      <td>3987</td>\n",
       "      <td>0</td>\n",
       "      <td>0</td>\n",
       "      <td>0</td>\n",
       "      <td>0</td>\n",
       "      <td>0</td>\n",
       "      <td>1</td>\n",
       "      <td>0</td>\n",
       "      <td>0</td>\n",
       "    </tr>\n",
       "    <tr>\n",
       "      <th>11</th>\n",
       "      <td>6</td>\n",
       "      <td>29</td>\n",
       "      <td>0</td>\n",
       "      <td>4</td>\n",
       "      <td>127</td>\n",
       "      <td>40</td>\n",
       "      <td>98</td>\n",
       "      <td>18</td>\n",
       "      <td>407</td>\n",
       "      <td>0</td>\n",
       "      <td>18</td>\n",
       "      <td>487</td>\n",
       "      <td>0</td>\n",
       "      <td>336</td>\n",
       "      <td>64</td>\n",
       "      <td>59</td>\n",
       "      <td>9</td>\n",
       "      <td>0</td>\n",
       "      <td>272</td>\n",
       "    </tr>\n",
       "    <tr>\n",
       "      <th>12</th>\n",
       "      <td>0</td>\n",
       "      <td>0</td>\n",
       "      <td>0</td>\n",
       "      <td>0</td>\n",
       "      <td>0</td>\n",
       "      <td>0</td>\n",
       "      <td>0</td>\n",
       "      <td>1</td>\n",
       "      <td>1</td>\n",
       "      <td>0</td>\n",
       "      <td>0</td>\n",
       "      <td>0</td>\n",
       "      <td>0</td>\n",
       "      <td>0</td>\n",
       "      <td>0</td>\n",
       "      <td>0</td>\n",
       "      <td>0</td>\n",
       "      <td>0</td>\n",
       "      <td>2</td>\n",
       "    </tr>\n",
       "    <tr>\n",
       "      <th>13</th>\n",
       "      <td>1</td>\n",
       "      <td>0</td>\n",
       "      <td>0</td>\n",
       "      <td>0</td>\n",
       "      <td>1</td>\n",
       "      <td>8</td>\n",
       "      <td>193</td>\n",
       "      <td>6</td>\n",
       "      <td>302</td>\n",
       "      <td>0</td>\n",
       "      <td>2</td>\n",
       "      <td>132</td>\n",
       "      <td>0</td>\n",
       "      <td>1237</td>\n",
       "      <td>2</td>\n",
       "      <td>0</td>\n",
       "      <td>0</td>\n",
       "      <td>1</td>\n",
       "      <td>255</td>\n",
       "    </tr>\n",
       "    <tr>\n",
       "      <th>14</th>\n",
       "      <td>6</td>\n",
       "      <td>0</td>\n",
       "      <td>0</td>\n",
       "      <td>0</td>\n",
       "      <td>0</td>\n",
       "      <td>0</td>\n",
       "      <td>17</td>\n",
       "      <td>1</td>\n",
       "      <td>33</td>\n",
       "      <td>0</td>\n",
       "      <td>0</td>\n",
       "      <td>35</td>\n",
       "      <td>0</td>\n",
       "      <td>2</td>\n",
       "      <td>883</td>\n",
       "      <td>0</td>\n",
       "      <td>0</td>\n",
       "      <td>0</td>\n",
       "      <td>0</td>\n",
       "    </tr>\n",
       "    <tr>\n",
       "      <th>15</th>\n",
       "      <td>0</td>\n",
       "      <td>0</td>\n",
       "      <td>0</td>\n",
       "      <td>0</td>\n",
       "      <td>98</td>\n",
       "      <td>33</td>\n",
       "      <td>0</td>\n",
       "      <td>0</td>\n",
       "      <td>0</td>\n",
       "      <td>0</td>\n",
       "      <td>0</td>\n",
       "      <td>5</td>\n",
       "      <td>0</td>\n",
       "      <td>0</td>\n",
       "      <td>0</td>\n",
       "      <td>4253</td>\n",
       "      <td>0</td>\n",
       "      <td>0</td>\n",
       "      <td>0</td>\n",
       "    </tr>\n",
       "    <tr>\n",
       "      <th>16</th>\n",
       "      <td>0</td>\n",
       "      <td>5</td>\n",
       "      <td>0</td>\n",
       "      <td>0</td>\n",
       "      <td>0</td>\n",
       "      <td>0</td>\n",
       "      <td>0</td>\n",
       "      <td>0</td>\n",
       "      <td>1</td>\n",
       "      <td>0</td>\n",
       "      <td>0</td>\n",
       "      <td>7</td>\n",
       "      <td>0</td>\n",
       "      <td>0</td>\n",
       "      <td>0</td>\n",
       "      <td>0</td>\n",
       "      <td>333</td>\n",
       "      <td>0</td>\n",
       "      <td>0</td>\n",
       "    </tr>\n",
       "    <tr>\n",
       "      <th>17</th>\n",
       "      <td>0</td>\n",
       "      <td>1</td>\n",
       "      <td>1</td>\n",
       "      <td>4</td>\n",
       "      <td>0</td>\n",
       "      <td>0</td>\n",
       "      <td>1</td>\n",
       "      <td>4</td>\n",
       "      <td>1</td>\n",
       "      <td>0</td>\n",
       "      <td>0</td>\n",
       "      <td>3</td>\n",
       "      <td>0</td>\n",
       "      <td>2</td>\n",
       "      <td>0</td>\n",
       "      <td>0</td>\n",
       "      <td>0</td>\n",
       "      <td>0</td>\n",
       "      <td>1</td>\n",
       "    </tr>\n",
       "    <tr>\n",
       "      <th>18</th>\n",
       "      <td>105</td>\n",
       "      <td>8</td>\n",
       "      <td>0</td>\n",
       "      <td>0</td>\n",
       "      <td>0</td>\n",
       "      <td>99</td>\n",
       "      <td>0</td>\n",
       "      <td>390</td>\n",
       "      <td>425</td>\n",
       "      <td>0</td>\n",
       "      <td>0</td>\n",
       "      <td>7</td>\n",
       "      <td>0</td>\n",
       "      <td>8</td>\n",
       "      <td>0</td>\n",
       "      <td>2</td>\n",
       "      <td>0</td>\n",
       "      <td>0</td>\n",
       "      <td>5484</td>\n",
       "    </tr>\n",
       "  </tbody>\n",
       "</table>\n",
       "</div>"
      ],
      "text/plain": [
       "     0     1   2    3     4     5      6    7      8   9     10   11  12  \\\n",
       "0   234     0   0    0    17    58      5  169     60   0     0   17   0   \n",
       "1     2  1881   0    0     0     0      1    3     13   0     3    4   0   \n",
       "2     0     0  71   70     0     0      0    0      0   1     8    0   0   \n",
       "3     0     0  32  650     0     0      1    0      0   1    85    0   0   \n",
       "4     1     0   0    0  4248    24      1    0      9   0     0   11   0   \n",
       "5    26     0   1    0   152  3628      2   77     61   0     0    4   0   \n",
       "6     3    23   0    0    12     1  10897    5     89   1     0   55   0   \n",
       "7   145     0   0    0     0   193      1  685     21   0     0    3   0   \n",
       "8     9    10   1    7    35   231    122   35  13089   0    12  248   0   \n",
       "9     0     0   0    0     0     0      0    0      8  30     0    0   0   \n",
       "10    0     0   7  127     0     0      1    0      2   0  3987    0   0   \n",
       "11    6    29   0    4   127    40     98   18    407   0    18  487   0   \n",
       "12    0     0   0    0     0     0      0    1      1   0     0    0   0   \n",
       "13    1     0   0    0     1     8    193    6    302   0     2  132   0   \n",
       "14    6     0   0    0     0     0     17    1     33   0     0   35   0   \n",
       "15    0     0   0    0    98    33      0    0      0   0     0    5   0   \n",
       "16    0     5   0    0     0     0      0    0      1   0     0    7   0   \n",
       "17    0     1   1    4     0     0      1    4      1   0     0    3   0   \n",
       "18  105     8   0    0     0    99      0  390    425   0     0    7   0   \n",
       "\n",
       "      13   14    15   16  17    18  \n",
       "0      1   17    10    0   0    60  \n",
       "1      0    0     0    6   0    39  \n",
       "2      0    0     0    0   0     0  \n",
       "3      0    0     0    0   0     0  \n",
       "4      0    0    92    0   0     0  \n",
       "5      0    0    84    0   0    15  \n",
       "6     84   20    14    0   0     0  \n",
       "7      0    0     1    0   0   347  \n",
       "8     71   74     9   15   0   936  \n",
       "9      0    0     0    0   0     0  \n",
       "10     0    0     0    1   0     0  \n",
       "11   336   64    59    9   0   272  \n",
       "12     0    0     0    0   0     2  \n",
       "13  1237    2     0    0   1   255  \n",
       "14     2  883     0    0   0     0  \n",
       "15     0    0  4253    0   0     0  \n",
       "16     0    0     0  333   0     0  \n",
       "17     2    0     0    0   0     1  \n",
       "18     8    0     2    0   0  5484  "
      ]
     },
     "execution_count": 23,
     "metadata": {},
     "output_type": "execute_result"
    }
   ],
   "source": [
    "cm_result"
   ]
  },
  {
   "cell_type": "code",
   "execution_count": 24,
   "metadata": {
    "ExecuteTime": {
     "end_time": "2020-02-13T08:54:18.693062Z",
     "start_time": "2020-02-13T08:54:17.833087Z"
    },
    "scrolled": false
   },
   "outputs": [
    {
     "data": {
      "image/png": "[encoded data removed]",
      "text/plain": [
       "<Figure size 1080x1080 with 2 Axes>"
      ]
     },
     "metadata": {},
     "output_type": "display_data"
    }
   ],
   "source": [
    "plt.figure(figsize =(15,15))\n",
    "sns.heatmap(cm_result/np.sum(cm_result),annot = True, cmap ='RdYlGn',fmt='.1%')\n",
    "plt.ylabel(\"real\",fontsize=20)\n",
    "plt.xlabel(\"predict\",fontsize=20)\n",
    "plt.show()"
   ]
  },
  {
   "cell_type": "markdown",
   "metadata": {},
   "source": [
    "# REAL"
   ]
  },
  {
   "cell_type": "code",
   "execution_count": 25,
   "metadata": {
    "ExecuteTime": {
     "end_time": "2020-02-13T08:54:19.436039Z",
     "start_time": "2020-02-13T08:54:19.434039Z"
    }
   },
   "outputs": [],
   "source": [
    "train_ds = lgb.Dataset(train_X, label = train_y, categorical_feature=['fiberID'])"
   ]
  },
  {
   "cell_type": "code",
   "execution_count": 26,
   "metadata": {
    "ExecuteTime": {
     "end_time": "2020-02-13T09:14:18.934128Z",
     "start_time": "2020-02-13T08:54:20.172016Z"
    }
   },
   "outputs": [
    {
     "name": "stderr",
     "output_type": "stream",
     "text": [
      "C:\\Users\\starl\\Anaconda3\\lib\\site-packages\\lightgbm\\basic.py:1291: UserWarning: Using categorical_feature in Dataset.\n",
      "  warnings.warn('Using categorical_feature in Dataset.')\n"
     ]
    }
   ],
   "source": [
    "lgmb_model = lgb.train(params, train_ds,num_boost_round= 2000, verbose_eval=100)"
   ]
  },
  {
   "cell_type": "code",
   "execution_count": 27,
   "metadata": {
    "ExecuteTime": {
     "end_time": "2020-02-13T09:15:06.306907Z",
     "start_time": "2020-02-13T09:14:19.779103Z"
    }
   },
   "outputs": [],
   "source": [
    "y_pred = lgmb_model.predict(test_X)"
   ]
  },
  {
   "cell_type": "code",
   "execution_count": 28,
   "metadata": {
    "ExecuteTime": {
     "end_time": "2020-02-13T09:15:07.139003Z",
     "start_time": "2020-02-13T09:15:07.134988Z"
    }
   },
   "outputs": [
    {
     "data": {
      "text/plain": [
       "array([[3.53545140e-05, 9.03321890e-05, 5.65347454e-05, ...,\n",
       "        2.72950426e-05, 6.48077983e-06, 2.91884340e-04],\n",
       "       [1.87566600e-04, 3.95066547e-04, 2.77534308e-05, ...,\n",
       "        6.16387325e-05, 6.24627547e-06, 1.38925110e-03],\n",
       "       [9.08740053e-05, 3.36812094e-05, 1.92700112e-06, ...,\n",
       "        4.26210914e-06, 4.46250391e-07, 9.64597295e-05],\n",
       "       ...,\n",
       "       [1.97358609e-04, 4.40022627e-04, 2.04703239e-05, ...,\n",
       "        4.52759230e-05, 4.53049812e-06, 7.84361867e-02],\n",
       "       [4.52241407e-06, 8.52978246e-06, 5.59510035e-07, ...,\n",
       "        1.23751502e-06, 1.26027579e-07, 2.95155142e-04],\n",
       "       [4.18475320e-04, 6.93865309e-06, 4.77519820e-07, ...,\n",
       "        1.05617042e-06, 1.05999950e-07, 6.25015879e-05]])"
      ]
     },
     "execution_count": 28,
     "metadata": {},
     "output_type": "execute_result"
    }
   ],
   "source": [
    "y_pred"
   ]
  },
  {
   "cell_type": "code",
   "execution_count": 29,
   "metadata": {
    "ExecuteTime": {
     "end_time": "2020-02-13T09:15:08.287954Z",
     "start_time": "2020-02-13T09:15:07.928964Z"
    }
   },
   "outputs": [],
   "source": [
    "submission = pd.DataFrame(data=y_pred, columns=sample_submission_df.columns, index=sample_submission_df.index)\n",
    "submission.to_csv('./submisson/submission.csv', index=True)"
   ]
  },
  {
   "cell_type": "code",
   "execution_count": null,
   "metadata": {},
   "outputs": [],
   "source": []
  }
 ],
 "metadata": {
  "kernelspec": {
   "display_name": "Python 3",
   "language": "python",
   "name": "python3"
  },
  "language_info": {
   "codemirror_mode": {
    "name": "ipython",
    "version": 3
   },
   "file_extension": ".py",
   "mimetype": "text/x-python",
   "name": "python",
   "nbconvert_exporter": "python",
   "pygments_lexer": "ipython3",
   "version": "3.6.5"
  },
  "varInspector": {
   "cols": {
    "lenName": 16,
    "lenType": 16,
    "lenVar": 40
   },
   "kernels_config": {
    "python": {
     "delete_cmd_postfix": "",
     "delete_cmd_prefix": "del ",
     "library": "var_list.py",
     "varRefreshCmd": "print(var_dic_list())"
    },
    "r": {
     "delete_cmd_postfix": ") ",
     "delete_cmd_prefix": "rm(",
     "library": "var_list.r",
     "varRefreshCmd": "cat(var_dic_list()) "
    }
   },
   "types_to_exclude": [
    "module",
    "function",
    "builtin_function_or_method",
    "instance",
    "_Feature"
   ],
   "window_display": false
  }
 },
 "nbformat": 4,
 "nbformat_minor": 2
}
