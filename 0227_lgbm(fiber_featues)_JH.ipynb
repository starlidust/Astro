{
 "cells": [
  {
   "cell_type": "markdown",
   "metadata": {},
   "source": [
    "# add_features\n",
    "* 새로 만들어본 변수들을 잡다하게 넣어본다 "
   ]
  },
  {
   "cell_type": "code",
   "execution_count": 1,
   "metadata": {
    "ExecuteTime": {
     "end_time": "2020-02-27T06:06:40.355448Z",
     "start_time": "2020-02-27T06:06:38.980491Z"
    }
   },
   "outputs": [],
   "source": [
    "import pandas as pd\n",
    "import numpy as np\n",
    "import matplotlib.pyplot as plt\n",
    "import seaborn as sns\n",
    "\n",
    "from sklearn.ensemble import RandomForestClassifier\n",
    "from sklearn.model_selection import train_test_split\n",
    "from sklearn.metrics import confusion_matrix\n",
    "from sklearn.metrics import log_loss\n",
    "\n",
    "\n",
    "import lightgbm as lgb\n",
    "from sklearn.model_selection import KFold, StratifiedKFold, RandomizedSearchCV, GridSearchCV"
   ]
  },
  {
   "cell_type": "code",
   "execution_count": 2,
   "metadata": {
    "ExecuteTime": {
     "end_time": "2020-02-27T06:06:40.372448Z",
     "start_time": "2020-02-27T06:06:40.368449Z"
    }
   },
   "outputs": [],
   "source": [
    "# from google.colab import drive\n",
    "# drive.mount('/content/drive')"
   ]
  },
  {
   "cell_type": "code",
   "execution_count": 3,
   "metadata": {
    "ExecuteTime": {
     "end_time": "2020-02-27T06:06:40.402447Z",
     "start_time": "2020-02-27T06:06:40.384448Z"
    }
   },
   "outputs": [],
   "source": [
    "# #colab용\n",
    "# import os\n",
    "# os.chdir('/content/drive/My Drive/Colab Notebooks/Dacon/천체관측/')"
   ]
  },
  {
   "cell_type": "code",
   "execution_count": 4,
   "metadata": {
    "ExecuteTime": {
     "end_time": "2020-02-27T06:06:42.353387Z",
     "start_time": "2020-02-27T06:06:40.732437Z"
    }
   },
   "outputs": [],
   "source": [
    "path = \"./data/\"\n",
    "train_df = pd.read_csv(path+'train.csv',index_col=0)\n",
    "test_df = pd.read_csv(path+'test.csv',index_col=0)\n",
    "sample_submission_df = pd.read_csv(path+'sample_submission.csv',index_col=0)\n",
    "pd.options.display.max_columns = 30"
   ]
  },
  {
   "cell_type": "code",
   "execution_count": 5,
   "metadata": {
    "ExecuteTime": {
     "end_time": "2020-02-27T06:06:42.497382Z",
     "start_time": "2020-02-27T06:06:42.491382Z"
    }
   },
   "outputs": [
    {
     "data": {
      "text/plain": [
       "((199991, 22), (10009, 21))"
      ]
     },
     "execution_count": 5,
     "metadata": {},
     "output_type": "execute_result"
    }
   ],
   "source": [
    "train_df.shape, test_df.shape"
   ]
  },
  {
   "cell_type": "markdown",
   "metadata": {},
   "source": [
    "## DATA Setting"
   ]
  },
  {
   "cell_type": "code",
   "execution_count": 6,
   "metadata": {
    "ExecuteTime": {
     "end_time": "2020-02-27T06:07:20.039226Z",
     "start_time": "2020-02-27T06:07:20.036226Z"
    }
   },
   "outputs": [],
   "source": [
    "def del_outlier(data, min=0, max=60):\n",
    "    up_idx_t=()\n",
    "    dw_idx_t=()\n",
    "    train_light = data.iloc[:,2:]\n",
    "    for i in range(len(train_light.columns)):\n",
    "        col = train_light.columns[i]\n",
    "        up_idx_t+=tuple(data[data[col]>max].index)\n",
    "        dw_idx_t+=tuple(data[data[col]<min].index)\n",
    "    del_idx = set(up_idx_t+dw_idx_t)\n",
    "    \n",
    "    return data[~data.index.isin(del_idx)]"
   ]
  },
  {
   "cell_type": "code",
   "execution_count": 7,
   "metadata": {
    "ExecuteTime": {
     "end_time": "2020-02-27T06:07:20.602208Z",
     "start_time": "2020-02-27T06:07:20.500212Z"
    }
   },
   "outputs": [],
   "source": [
    "train_df = del_outlier(train_df, min=-60, max=60)"
   ]
  },
  {
   "cell_type": "code",
   "execution_count": 8,
   "metadata": {
    "ExecuteTime": {
     "end_time": "2020-02-27T06:07:21.096194Z",
     "start_time": "2020-02-27T06:07:21.092193Z"
    }
   },
   "outputs": [
    {
     "data": {
      "text/plain": [
       "(199805, 22)"
      ]
     },
     "execution_count": 8,
     "metadata": {},
     "output_type": "execute_result"
    }
   ],
   "source": [
    "train_df.shape"
   ]
  },
  {
   "cell_type": "code",
   "execution_count": 9,
   "metadata": {
    "ExecuteTime": {
     "end_time": "2020-02-27T06:07:21.894168Z",
     "start_time": "2020-02-27T06:07:21.756172Z"
    }
   },
   "outputs": [],
   "source": [
    "column_number = {}\n",
    "number_columns = {}\n",
    "for i, column in enumerate(sample_submission_df.columns):\n",
    "    column_number[column] = i\n",
    "    number_columns[i] = column\n",
    "    \n",
    "    \n",
    "def to_number(x, dic):\n",
    "    return dic[x]\n",
    "\n",
    "train_df['type_num'] = train_df['type'].apply(lambda x: to_number(x, column_number))\n"
   ]
  },
  {
   "cell_type": "code",
   "execution_count": 10,
   "metadata": {
    "ExecuteTime": {
     "end_time": "2020-02-27T06:07:23.563120Z",
     "start_time": "2020-02-27T06:07:23.557118Z"
    }
   },
   "outputs": [],
   "source": [
    "def add_minus_feature(data,test = False):\n",
    "    '''\n",
    "    근접변수에 대해서만 컬럼생성 ex) 'fiberMag_u-g', 'fiberMag_g-r', 'fiberMag_r-i', 'fiberMag_i-z'\n",
    "    각 mag에서 가장 높은값의 filter를 받아오는 \"~~mag_MAX\"생성\n",
    "    결과 38개로 증가 \n",
    "    '''\n",
    "    from itertools import combinations\n",
    "    n = 0\n",
    "    m = 0\n",
    "    for count in range(5,21,5):\n",
    "        s = 2\n",
    "        if test == True :\n",
    "            s = 1\n",
    "        selected = data.columns[s:].values[n:count]\n",
    "        mag = str.split(selected[0],'_')[0]\n",
    "#         data[mag+\"_MAX\"] = data[selected].apply(lambda x : str.split(np.argmax(x),'_')[1],axis = 1)\n",
    "        for i in range(0,len(selected)):        \n",
    "            if i>0: \n",
    "                name_1st = str.split(m,'_')[1]\n",
    "                name_2nd = str.split(selected[i],'_')[1]\n",
    "                data[mag+\"_\"+name_1st+\"-\"+name_2nd] = data[m]-data[selected[i]]\n",
    "            m = selected[i]    \n",
    "        n=count\n",
    "    return data"
   ]
  },
  {
   "cell_type": "code",
   "execution_count": 12,
   "metadata": {
    "ExecuteTime": {
     "end_time": "2020-02-27T06:09:41.985105Z",
     "start_time": "2020-02-27T06:09:41.980101Z"
    }
   },
   "outputs": [],
   "source": [
    "def add_minus_feature_all(data,test = False):\n",
    "    '''\n",
    "    combination으로 모든 변수들의 조합에 대해서 컬럼생성 \n",
    "    각 mag에서 가장 높은값의 filter를 받아오는 \"~~mag_MAX\"생성\n",
    "    결과 64개로 증가\n",
    "    '''\n",
    "    from itertools import combinations\n",
    "    n = 0\n",
    "    for count in range(5,21,5):\n",
    "        s = 2\n",
    "        if test == True :\n",
    "            s = 1\n",
    "        selected = data.columns[s:].values[n:count]\n",
    "        mag = str.split(selected[0],'_')[0]\n",
    "#         data[mag+\"_MAX\"] = data[selected].apply(lambda x : str.split(np.argmax(x),'_')[1],axis = 1)\n",
    "        for combi in list(combinations(selected,2)):\n",
    "            name_1st = str.split(combi[0],'_')[1]\n",
    "            name_2nd = str.split(combi[1],'_')[1]\n",
    "            data[mag+\"_\"+name_1st+\"-\"+name_2nd] = data[combi[0]]-data[combi[1]]\n",
    "        n=count\n",
    "    return data"
   ]
  },
  {
   "cell_type": "code",
   "execution_count": 13,
   "metadata": {
    "ExecuteTime": {
     "end_time": "2020-02-27T06:09:42.550083Z",
     "start_time": "2020-02-27T06:09:42.331090Z"
    }
   },
   "outputs": [],
   "source": [
    "train_df = add_minus_feature_all(train_df)\n",
    "test_df = add_minus_feature_all(test_df,True)"
   ]
  },
  {
   "cell_type": "code",
   "execution_count": 14,
   "metadata": {
    "ExecuteTime": {
     "end_time": "2020-02-27T06:09:45.594990Z",
     "start_time": "2020-02-27T06:09:45.588995Z"
    }
   },
   "outputs": [],
   "source": [
    "def fiberID_agg(data):\n",
    "    '''\n",
    "    fiberID는 1~1000까지 숫자로 구성되어있는 카테고리 변수다.\n",
    "    numeric한 변수가 아니기때문에 이를 이용한 변수 생성이 필요하다 판단되어\n",
    "    ugriz밴드를 기반으로 통계적 수치 median, std를 산출한다\n",
    "    '''\n",
    "    ori_name = [\"psfMag\",\"fiberMag\",\"petroMag\",\"modelMag\"]\n",
    "    add_name = [\"u\",\"g\",\"r\",\"i\",\"z\"]\n",
    "    \n",
    "    for add in add_name:\n",
    "        selected = list(map(lambda x : x+\"_\"+add,ori_name))\n",
    "        columns = data[selected].columns \n",
    "        columns = list(columns)\n",
    "        columns.append(\"fiberID\")\n",
    "\n",
    "        #dictinary_set\n",
    "#         mean_dict = dict(data[columns].groupby(\"fiberID\").mean().mean(axis = 1))\n",
    "#         min_dict = dict(data[columns].groupby(\"fiberID\").min().min(axis = 1))\n",
    "#         max_dict = dict(data[columns].groupby(\"fiberID\").max().max(axis = 1))\n",
    "        median_dict = dict(data[columns].groupby(\"fiberID\").median().median(axis = 1))\n",
    "        std_dict = dict(data[columns].groupby(\"fiberID\").std().std(axis = 1))\n",
    "\n",
    "        #save\n",
    "#         data[\"mean_\"+add] = data.fiberID.apply(lambda x : mean_dict.get(x))\n",
    "#         data[\"min_\"+add] = data.fiberID.apply(lambda x : min_dict.get(x))\n",
    "#         data[\"max_\"+add] = data.fiberID.apply(lambda x : max_dict.get(x))\n",
    "        data[\"median_\"+add] = data.fiberID.apply(lambda x : median_dict.get(x))\n",
    "        data[\"std_\"+add] = data.fiberID.apply(lambda x : std_dict.get(x))\n",
    "    return data"
   ]
  },
  {
   "cell_type": "code",
   "execution_count": 15,
   "metadata": {
    "ExecuteTime": {
     "end_time": "2020-02-27T06:09:48.529899Z",
     "start_time": "2020-02-27T06:09:46.040976Z"
    }
   },
   "outputs": [],
   "source": [
    "train_df = fiberID_agg(train_df)\n",
    "test_df = fiberID_agg(test_df)"
   ]
  },
  {
   "cell_type": "code",
   "execution_count": null,
   "metadata": {},
   "outputs": [],
   "source": [
    "train_df.shape, test_df.shape"
   ]
  },
  {
   "cell_type": "code",
   "execution_count": 19,
   "metadata": {
    "ExecuteTime": {
     "end_time": "2020-02-27T06:10:31.396258Z",
     "start_time": "2020-02-27T06:10:31.317260Z"
    }
   },
   "outputs": [],
   "source": [
    "train_X = train_df.drop(columns=['type', 'type_num','fiberID'], axis=1)\n",
    "train_y = train_df['type_num']\n",
    "test_X = test_df.drop('fiberID',axis = 1)"
   ]
  },
  {
   "cell_type": "code",
   "execution_count": 20,
   "metadata": {
    "ExecuteTime": {
     "end_time": "2020-02-27T06:10:32.817214Z",
     "start_time": "2020-02-27T06:10:32.557222Z"
    }
   },
   "outputs": [],
   "source": [
    "X_train, X_test, y_train, y_test = train_test_split(train_X, train_y, test_size=0.3, random_state=42,stratify = train_y)"
   ]
  },
  {
   "cell_type": "markdown",
   "metadata": {},
   "source": [
    "## Modeling_train"
   ]
  },
  {
   "cell_type": "code",
   "execution_count": 21,
   "metadata": {
    "ExecuteTime": {
     "end_time": "2020-02-27T06:10:42.690373Z",
     "start_time": "2020-02-27T06:10:42.676373Z"
    }
   },
   "outputs": [],
   "source": [
    "train_ds = lgb.Dataset(X_train, label = y_train)\n",
    "test_ds = lgb.Dataset(X_test, label = y_test) "
   ]
  },
  {
   "cell_type": "code",
   "execution_count": 52,
   "metadata": {
    "ExecuteTime": {
     "end_time": "2020-02-27T09:23:38.276277Z",
     "start_time": "2020-02-27T09:23:38.251277Z"
    }
   },
   "outputs": [],
   "source": [
    "params = {\n",
    "    'boosting_type': 'gbdt',\n",
    "    'objective': 'multiclass',\n",
    "    'num_class': train_y.nunique(),\n",
    "    'metric': {'multi_logloss','multi_logloss'},   \n",
    "    'num_leaves': 255,\n",
    "    'min_child_samples': 40,\n",
    "    'max_depth': 8,\n",
    "    'learning_rate': 0.01,\n",
    "    'lambda_l2': 3,\n",
    "    'lambda_l1': 9\n",
    "}\n"
   ]
  },
  {
   "cell_type": "code",
   "execution_count": 53,
   "metadata": {
    "ExecuteTime": {
     "end_time": "2020-02-27T11:08:28.196834Z",
     "start_time": "2020-02-27T09:23:39.280384Z"
    },
    "scrolled": true
   },
   "outputs": [
    {
     "name": "stdout",
     "output_type": "stream",
     "text": [
      "Training until validation scores don't improve for 100 rounds\n",
      "[100]\tTrain's multi_logloss: 0.901662\tTest's multi_logloss: 0.919039\n",
      "[200]\tTrain's multi_logloss: 0.562613\tTest's multi_logloss: 0.587311\n",
      "[300]\tTrain's multi_logloss: 0.431393\tTest's multi_logloss: 0.462028\n",
      "[400]\tTrain's multi_logloss: 0.372944\tTest's multi_logloss: 0.408878\n",
      "[500]\tTrain's multi_logloss: 0.34056\tTest's multi_logloss: 0.382969\n",
      "[600]\tTrain's multi_logloss: 0.320746\tTest's multi_logloss: 0.369717\n",
      "[700]\tTrain's multi_logloss: 0.307263\tTest's multi_logloss: 0.362238\n",
      "[800]\tTrain's multi_logloss: 0.296358\tTest's multi_logloss: 0.357561\n",
      "[900]\tTrain's multi_logloss: 0.287249\tTest's multi_logloss: 0.354359\n",
      "[1000]\tTrain's multi_logloss: 0.278871\tTest's multi_logloss: 0.352116\n",
      "[1100]\tTrain's multi_logloss: 0.270994\tTest's multi_logloss: 0.350509\n",
      "[1200]\tTrain's multi_logloss: 0.263572\tTest's multi_logloss: 0.349363\n",
      "[1300]\tTrain's multi_logloss: 0.25673\tTest's multi_logloss: 0.348669\n",
      "[1400]\tTrain's multi_logloss: 0.25019\tTest's multi_logloss: 0.348096\n",
      "[1500]\tTrain's multi_logloss: 0.24379\tTest's multi_logloss: 0.347623\n",
      "[1600]\tTrain's multi_logloss: 0.237764\tTest's multi_logloss: 0.347351\n",
      "[1700]\tTrain's multi_logloss: 0.232057\tTest's multi_logloss: 0.347161\n",
      "[1800]\tTrain's multi_logloss: 0.226628\tTest's multi_logloss: 0.347097\n",
      "Early stopping, best iteration is:\n",
      "[1785]\tTrain's multi_logloss: 0.227423\tTest's multi_logloss: 0.347091\n"
     ]
    }
   ],
   "source": [
    "evaluation_results = {}\n",
    "lgmb_model = lgb.train(params, train_ds,num_boost_round= 2000, \n",
    "                       valid_sets = [train_ds,test_ds], valid_names=['Train', 'Test'],\n",
    "                       evals_result=evaluation_results,\n",
    "                       verbose_eval=100, early_stopping_rounds=100)"
   ]
  },
  {
   "cell_type": "code",
   "execution_count": 54,
   "metadata": {
    "ExecuteTime": {
     "end_time": "2020-02-27T11:08:29.279801Z",
     "start_time": "2020-02-27T11:08:28.989810Z"
    }
   },
   "outputs": [
    {
     "data": {
      "image/png": "[encoded data removed]",
      "text/plain": [
       "<Figure size 1080x288 with 2 Axes>"
      ]
     },
     "metadata": {},
     "output_type": "display_data"
    }
   ],
   "source": [
    "fig, axs = plt.subplots(1, 2, figsize=[15, 4])\n",
    "\n",
    "# Plot the log loss during training\n",
    "axs[0].plot(evaluation_results['Train']['multi_logloss'], label='Train')\n",
    "axs[0].plot(evaluation_results['Test']['multi_logloss'], label='Test')\n",
    "axs[0].set_ylabel('Log loss')\n",
    "axs[0].set_xlabel('Boosting round')\n",
    "axs[0].set_title('Training performance')\n",
    "axs[0].legend()\n",
    "\n",
    "# Plot feature importance\n",
    "importances = pd.DataFrame({'features': lgmb_model.feature_name(), \n",
    "                            'importance': lgmb_model.feature_importance()}).sort_values('importance', ascending=False).head(10)\n",
    "axs[1].bar(x=np.arange(len(importances)), height=importances['importance'])\n",
    "axs[1].set_xticks(np.arange(len(importances)))\n",
    "axs[1].set_xticklabels(importances['features'])\n",
    "axs[1].set_ylabel('Feature importance (# times used to split)')\n",
    "axs[1].set_title('Feature importance')\n",
    "plt.xticks(rotation=45)\n",
    "\n",
    "plt.show()"
   ]
  },
  {
   "cell_type": "code",
   "execution_count": 55,
   "metadata": {
    "ExecuteTime": {
     "end_time": "2020-02-27T11:14:58.417811Z",
     "start_time": "2020-02-27T11:08:30.016778Z"
    }
   },
   "outputs": [],
   "source": [
    "train_y_pred = lgmb_model.predict(X_test)\n",
    "real_y_pred = lgmb_model.predict(test_X)"
   ]
  },
  {
   "cell_type": "code",
   "execution_count": 56,
   "metadata": {
    "ExecuteTime": {
     "end_time": "2020-02-27T11:14:59.181788Z",
     "start_time": "2020-02-27T11:14:59.176788Z"
    }
   },
   "outputs": [
    {
     "data": {
      "text/plain": [
       "(59942, 19)"
      ]
     },
     "execution_count": 56,
     "metadata": {},
     "output_type": "execute_result"
    }
   ],
   "source": [
    "train_y_pred.shape"
   ]
  },
  {
   "cell_type": "code",
   "execution_count": 57,
   "metadata": {
    "ExecuteTime": {
     "end_time": "2020-02-27T11:14:59.929764Z",
     "start_time": "2020-02-27T11:14:59.860767Z"
    },
    "scrolled": true
   },
   "outputs": [
    {
     "data": {
      "text/plain": [
       "0.34647101022793164"
      ]
     },
     "execution_count": 57,
     "metadata": {},
     "output_type": "execute_result"
    }
   ],
   "source": [
    "#log_loss\n",
    "log_loss(y_test,train_y_pred,labels= list(set(y_test)))"
   ]
  },
  {
   "cell_type": "code",
   "execution_count": 58,
   "metadata": {
    "ExecuteTime": {
     "end_time": "2020-02-27T11:15:00.659742Z",
     "start_time": "2020-02-27T11:15:00.646742Z"
    }
   },
   "outputs": [
    {
     "data": {
      "text/plain": [
       "array([14665, 18295, 25157, 22405, 19807, 15093, 15912, 14683, 18442,\n",
       "       16091, 16296, 12765, 15787, 16657, 16677, 15188, 13106, 13911,\n",
       "       14659, 18576, 26890, 14974, 10764,  9771, 28082, 13138, 10511,\n",
       "       25175, 14710, 26166, 26139, 13391, 10031, 11287, 22749, 12773,\n",
       "       10500, 23294, 17549, 26393, 25079, 14089, 11613, 11168, 18383,\n",
       "       12020, 12121, 23525, 14364, 24997, 25908, 12000,  9775,  9897,\n",
       "       20801, 12858, 10115, 22612, 16801, 26920, 32562, 40816, 23005,\n",
       "       39214, 22377, 39524, 21021, 37135, 28995, 38768])"
      ]
     },
     "execution_count": 58,
     "metadata": {},
     "output_type": "execute_result"
    }
   ],
   "source": [
    "lgmb_model.feature_importance()"
   ]
  },
  {
   "cell_type": "markdown",
   "metadata": {},
   "source": [
    "### feature_importance"
   ]
  },
  {
   "cell_type": "code",
   "execution_count": 59,
   "metadata": {
    "ExecuteTime": {
     "end_time": "2020-02-27T11:15:01.354720Z",
     "start_time": "2020-02-27T11:15:01.335721Z"
    }
   },
   "outputs": [
    {
     "data": {
      "text/html": [
       "<div>\n",
       "<style scoped>\n",
       "    .dataframe tbody tr th:only-of-type {\n",
       "        vertical-align: middle;\n",
       "    }\n",
       "\n",
       "    .dataframe tbody tr th {\n",
       "        vertical-align: top;\n",
       "    }\n",
       "\n",
       "    .dataframe thead th {\n",
       "        text-align: right;\n",
       "    }\n",
       "</style>\n",
       "<table border=\"1\" class=\"dataframe\">\n",
       "  <thead>\n",
       "    <tr style=\"text-align: right;\">\n",
       "      <th></th>\n",
       "      <th>importance</th>\n",
       "    </tr>\n",
       "  </thead>\n",
       "  <tbody>\n",
       "    <tr>\n",
       "      <th>std_u</th>\n",
       "      <td>40816</td>\n",
       "    </tr>\n",
       "    <tr>\n",
       "      <th>std_r</th>\n",
       "      <td>39524</td>\n",
       "    </tr>\n",
       "    <tr>\n",
       "      <th>std_g</th>\n",
       "      <td>39214</td>\n",
       "    </tr>\n",
       "    <tr>\n",
       "      <th>std_z</th>\n",
       "      <td>38768</td>\n",
       "    </tr>\n",
       "    <tr>\n",
       "      <th>std_i</th>\n",
       "      <td>37135</td>\n",
       "    </tr>\n",
       "    <tr>\n",
       "      <th>median_u</th>\n",
       "      <td>32562</td>\n",
       "    </tr>\n",
       "    <tr>\n",
       "      <th>median_z</th>\n",
       "      <td>28995</td>\n",
       "    </tr>\n",
       "    <tr>\n",
       "      <th>psfMag_g-r</th>\n",
       "      <td>28082</td>\n",
       "    </tr>\n",
       "    <tr>\n",
       "      <th>modelMag_i-z</th>\n",
       "      <td>26920</td>\n",
       "    </tr>\n",
       "    <tr>\n",
       "      <th>psfMag_u-g</th>\n",
       "      <td>26890</td>\n",
       "    </tr>\n",
       "    <tr>\n",
       "      <th>fiberMag_i-z</th>\n",
       "      <td>26393</td>\n",
       "    </tr>\n",
       "    <tr>\n",
       "      <th>psfMag_i-z</th>\n",
       "      <td>26166</td>\n",
       "    </tr>\n",
       "    <tr>\n",
       "      <th>fiberMag_u-g</th>\n",
       "      <td>26139</td>\n",
       "    </tr>\n",
       "    <tr>\n",
       "      <th>modelMag_u-g</th>\n",
       "      <td>25908</td>\n",
       "    </tr>\n",
       "    <tr>\n",
       "      <th>psfMag_r-i</th>\n",
       "      <td>25175</td>\n",
       "    </tr>\n",
       "    <tr>\n",
       "      <th>psfMag_r</th>\n",
       "      <td>25157</td>\n",
       "    </tr>\n",
       "    <tr>\n",
       "      <th>petroMag_u-g</th>\n",
       "      <td>25079</td>\n",
       "    </tr>\n",
       "    <tr>\n",
       "      <th>petroMag_i-z</th>\n",
       "      <td>24997</td>\n",
       "    </tr>\n",
       "    <tr>\n",
       "      <th>petroMag_r-i</th>\n",
       "      <td>23525</td>\n",
       "    </tr>\n",
       "    <tr>\n",
       "      <th>fiberMag_r-i</th>\n",
       "      <td>23294</td>\n",
       "    </tr>\n",
       "    <tr>\n",
       "      <th>median_g</th>\n",
       "      <td>23005</td>\n",
       "    </tr>\n",
       "    <tr>\n",
       "      <th>fiberMag_g-r</th>\n",
       "      <td>22749</td>\n",
       "    </tr>\n",
       "    <tr>\n",
       "      <th>modelMag_r-i</th>\n",
       "      <td>22612</td>\n",
       "    </tr>\n",
       "    <tr>\n",
       "      <th>psfMag_i</th>\n",
       "      <td>22405</td>\n",
       "    </tr>\n",
       "    <tr>\n",
       "      <th>median_r</th>\n",
       "      <td>22377</td>\n",
       "    </tr>\n",
       "    <tr>\n",
       "      <th>median_i</th>\n",
       "      <td>21021</td>\n",
       "    </tr>\n",
       "    <tr>\n",
       "      <th>modelMag_g-r</th>\n",
       "      <td>20801</td>\n",
       "    </tr>\n",
       "    <tr>\n",
       "      <th>psfMag_z</th>\n",
       "      <td>19807</td>\n",
       "    </tr>\n",
       "    <tr>\n",
       "      <th>modelMag_z</th>\n",
       "      <td>18576</td>\n",
       "    </tr>\n",
       "    <tr>\n",
       "      <th>fiberMag_i</th>\n",
       "      <td>18442</td>\n",
       "    </tr>\n",
       "    <tr>\n",
       "      <th>...</th>\n",
       "      <td>...</td>\n",
       "    </tr>\n",
       "    <tr>\n",
       "      <th>modelMag_u</th>\n",
       "      <td>15188</td>\n",
       "    </tr>\n",
       "    <tr>\n",
       "      <th>fiberMag_u</th>\n",
       "      <td>15093</td>\n",
       "    </tr>\n",
       "    <tr>\n",
       "      <th>psfMag_u-r</th>\n",
       "      <td>14974</td>\n",
       "    </tr>\n",
       "    <tr>\n",
       "      <th>psfMag_r-z</th>\n",
       "      <td>14710</td>\n",
       "    </tr>\n",
       "    <tr>\n",
       "      <th>fiberMag_r</th>\n",
       "      <td>14683</td>\n",
       "    </tr>\n",
       "    <tr>\n",
       "      <th>psfMag_u</th>\n",
       "      <td>14665</td>\n",
       "    </tr>\n",
       "    <tr>\n",
       "      <th>modelMag_i</th>\n",
       "      <td>14659</td>\n",
       "    </tr>\n",
       "    <tr>\n",
       "      <th>petroMag_r-z</th>\n",
       "      <td>14364</td>\n",
       "    </tr>\n",
       "    <tr>\n",
       "      <th>petroMag_u-r</th>\n",
       "      <td>14089</td>\n",
       "    </tr>\n",
       "    <tr>\n",
       "      <th>modelMag_r</th>\n",
       "      <td>13911</td>\n",
       "    </tr>\n",
       "    <tr>\n",
       "      <th>fiberMag_u-r</th>\n",
       "      <td>13391</td>\n",
       "    </tr>\n",
       "    <tr>\n",
       "      <th>psfMag_g-i</th>\n",
       "      <td>13138</td>\n",
       "    </tr>\n",
       "    <tr>\n",
       "      <th>modelMag_g</th>\n",
       "      <td>13106</td>\n",
       "    </tr>\n",
       "    <tr>\n",
       "      <th>modelMag_g-i</th>\n",
       "      <td>12858</td>\n",
       "    </tr>\n",
       "    <tr>\n",
       "      <th>fiberMag_g-i</th>\n",
       "      <td>12773</td>\n",
       "    </tr>\n",
       "    <tr>\n",
       "      <th>petroMag_g</th>\n",
       "      <td>12765</td>\n",
       "    </tr>\n",
       "    <tr>\n",
       "      <th>petroMag_g-z</th>\n",
       "      <td>12121</td>\n",
       "    </tr>\n",
       "    <tr>\n",
       "      <th>petroMag_g-i</th>\n",
       "      <td>12020</td>\n",
       "    </tr>\n",
       "    <tr>\n",
       "      <th>modelMag_u-r</th>\n",
       "      <td>12000</td>\n",
       "    </tr>\n",
       "    <tr>\n",
       "      <th>petroMag_u-i</th>\n",
       "      <td>11613</td>\n",
       "    </tr>\n",
       "    <tr>\n",
       "      <th>fiberMag_u-z</th>\n",
       "      <td>11287</td>\n",
       "    </tr>\n",
       "    <tr>\n",
       "      <th>petroMag_u-z</th>\n",
       "      <td>11168</td>\n",
       "    </tr>\n",
       "    <tr>\n",
       "      <th>psfMag_u-i</th>\n",
       "      <td>10764</td>\n",
       "    </tr>\n",
       "    <tr>\n",
       "      <th>psfMag_g-z</th>\n",
       "      <td>10511</td>\n",
       "    </tr>\n",
       "    <tr>\n",
       "      <th>fiberMag_g-z</th>\n",
       "      <td>10500</td>\n",
       "    </tr>\n",
       "    <tr>\n",
       "      <th>modelMag_g-z</th>\n",
       "      <td>10115</td>\n",
       "    </tr>\n",
       "    <tr>\n",
       "      <th>fiberMag_u-i</th>\n",
       "      <td>10031</td>\n",
       "    </tr>\n",
       "    <tr>\n",
       "      <th>modelMag_u-z</th>\n",
       "      <td>9897</td>\n",
       "    </tr>\n",
       "    <tr>\n",
       "      <th>modelMag_u-i</th>\n",
       "      <td>9775</td>\n",
       "    </tr>\n",
       "    <tr>\n",
       "      <th>psfMag_u-z</th>\n",
       "      <td>9771</td>\n",
       "    </tr>\n",
       "  </tbody>\n",
       "</table>\n",
       "<p>70 rows × 1 columns</p>\n",
       "</div>"
      ],
      "text/plain": [
       "              importance\n",
       "std_u              40816\n",
       "std_r              39524\n",
       "std_g              39214\n",
       "std_z              38768\n",
       "std_i              37135\n",
       "median_u           32562\n",
       "median_z           28995\n",
       "psfMag_g-r         28082\n",
       "modelMag_i-z       26920\n",
       "psfMag_u-g         26890\n",
       "fiberMag_i-z       26393\n",
       "psfMag_i-z         26166\n",
       "fiberMag_u-g       26139\n",
       "modelMag_u-g       25908\n",
       "psfMag_r-i         25175\n",
       "psfMag_r           25157\n",
       "petroMag_u-g       25079\n",
       "petroMag_i-z       24997\n",
       "petroMag_r-i       23525\n",
       "fiberMag_r-i       23294\n",
       "median_g           23005\n",
       "fiberMag_g-r       22749\n",
       "modelMag_r-i       22612\n",
       "psfMag_i           22405\n",
       "median_r           22377\n",
       "median_i           21021\n",
       "modelMag_g-r       20801\n",
       "psfMag_z           19807\n",
       "modelMag_z         18576\n",
       "fiberMag_i         18442\n",
       "...                  ...\n",
       "modelMag_u         15188\n",
       "fiberMag_u         15093\n",
       "psfMag_u-r         14974\n",
       "psfMag_r-z         14710\n",
       "fiberMag_r         14683\n",
       "psfMag_u           14665\n",
       "modelMag_i         14659\n",
       "petroMag_r-z       14364\n",
       "petroMag_u-r       14089\n",
       "modelMag_r         13911\n",
       "fiberMag_u-r       13391\n",
       "psfMag_g-i         13138\n",
       "modelMag_g         13106\n",
       "modelMag_g-i       12858\n",
       "fiberMag_g-i       12773\n",
       "petroMag_g         12765\n",
       "petroMag_g-z       12121\n",
       "petroMag_g-i       12020\n",
       "modelMag_u-r       12000\n",
       "petroMag_u-i       11613\n",
       "fiberMag_u-z       11287\n",
       "petroMag_u-z       11168\n",
       "psfMag_u-i         10764\n",
       "psfMag_g-z         10511\n",
       "fiberMag_g-z       10500\n",
       "modelMag_g-z       10115\n",
       "fiberMag_u-i       10031\n",
       "modelMag_u-z        9897\n",
       "modelMag_u-i        9775\n",
       "psfMag_u-z          9771\n",
       "\n",
       "[70 rows x 1 columns]"
      ]
     },
     "execution_count": 59,
     "metadata": {},
     "output_type": "execute_result"
    }
   ],
   "source": [
    "pi_df = pd.DataFrame(lgmb_model.feature_importance(), index= train_X.columns,columns= ['importance']).sort_values('importance',ascending = False)\n",
    "pi_df"
   ]
  },
  {
   "cell_type": "markdown",
   "metadata": {},
   "source": [
    "### 예측결과에 대해\n",
    "* 12번이 모두 6번으로 몰림\n",
    "중간예측 : 0,2,7,11\n",
    "망한예측 : 12,17"
   ]
  },
  {
   "cell_type": "code",
   "execution_count": 63,
   "metadata": {
    "ExecuteTime": {
     "end_time": "2020-02-27T11:20:05.029365Z",
     "start_time": "2020-02-27T11:20:04.979366Z"
    }
   },
   "outputs": [],
   "source": [
    "cm_result = pd.DataFrame(confusion_matrix(y_test,np.argmax(train_y_pred,axis = 1)))"
   ]
  },
  {
   "cell_type": "code",
   "execution_count": 64,
   "metadata": {
    "ExecuteTime": {
     "end_time": "2020-02-27T11:20:05.052364Z",
     "start_time": "2020-02-27T11:20:05.031365Z"
    }
   },
   "outputs": [
    {
     "data": {
      "text/html": [
       "<div>\n",
       "<style scoped>\n",
       "    .dataframe tbody tr th:only-of-type {\n",
       "        vertical-align: middle;\n",
       "    }\n",
       "\n",
       "    .dataframe tbody tr th {\n",
       "        vertical-align: top;\n",
       "    }\n",
       "\n",
       "    .dataframe thead th {\n",
       "        text-align: right;\n",
       "    }\n",
       "</style>\n",
       "<table border=\"1\" class=\"dataframe\">\n",
       "  <thead>\n",
       "    <tr style=\"text-align: right;\">\n",
       "      <th></th>\n",
       "      <th>0</th>\n",
       "      <th>1</th>\n",
       "      <th>2</th>\n",
       "      <th>3</th>\n",
       "      <th>4</th>\n",
       "      <th>5</th>\n",
       "      <th>6</th>\n",
       "      <th>7</th>\n",
       "      <th>8</th>\n",
       "      <th>9</th>\n",
       "      <th>10</th>\n",
       "      <th>11</th>\n",
       "      <th>12</th>\n",
       "      <th>13</th>\n",
       "      <th>14</th>\n",
       "      <th>15</th>\n",
       "      <th>16</th>\n",
       "      <th>17</th>\n",
       "      <th>18</th>\n",
       "    </tr>\n",
       "  </thead>\n",
       "  <tbody>\n",
       "    <tr>\n",
       "      <th>0</th>\n",
       "      <td>312</td>\n",
       "      <td>0</td>\n",
       "      <td>0</td>\n",
       "      <td>0</td>\n",
       "      <td>14</td>\n",
       "      <td>41</td>\n",
       "      <td>2</td>\n",
       "      <td>134</td>\n",
       "      <td>45</td>\n",
       "      <td>0</td>\n",
       "      <td>0</td>\n",
       "      <td>31</td>\n",
       "      <td>0</td>\n",
       "      <td>1</td>\n",
       "      <td>28</td>\n",
       "      <td>4</td>\n",
       "      <td>0</td>\n",
       "      <td>0</td>\n",
       "      <td>36</td>\n",
       "    </tr>\n",
       "    <tr>\n",
       "      <th>1</th>\n",
       "      <td>0</td>\n",
       "      <td>1881</td>\n",
       "      <td>0</td>\n",
       "      <td>0</td>\n",
       "      <td>0</td>\n",
       "      <td>1</td>\n",
       "      <td>1</td>\n",
       "      <td>4</td>\n",
       "      <td>11</td>\n",
       "      <td>0</td>\n",
       "      <td>1</td>\n",
       "      <td>4</td>\n",
       "      <td>0</td>\n",
       "      <td>0</td>\n",
       "      <td>0</td>\n",
       "      <td>0</td>\n",
       "      <td>1</td>\n",
       "      <td>0</td>\n",
       "      <td>47</td>\n",
       "    </tr>\n",
       "    <tr>\n",
       "      <th>2</th>\n",
       "      <td>0</td>\n",
       "      <td>0</td>\n",
       "      <td>77</td>\n",
       "      <td>66</td>\n",
       "      <td>0</td>\n",
       "      <td>0</td>\n",
       "      <td>0</td>\n",
       "      <td>0</td>\n",
       "      <td>0</td>\n",
       "      <td>0</td>\n",
       "      <td>7</td>\n",
       "      <td>0</td>\n",
       "      <td>0</td>\n",
       "      <td>0</td>\n",
       "      <td>0</td>\n",
       "      <td>0</td>\n",
       "      <td>0</td>\n",
       "      <td>0</td>\n",
       "      <td>0</td>\n",
       "    </tr>\n",
       "    <tr>\n",
       "      <th>3</th>\n",
       "      <td>1</td>\n",
       "      <td>0</td>\n",
       "      <td>34</td>\n",
       "      <td>630</td>\n",
       "      <td>0</td>\n",
       "      <td>0</td>\n",
       "      <td>0</td>\n",
       "      <td>0</td>\n",
       "      <td>1</td>\n",
       "      <td>0</td>\n",
       "      <td>102</td>\n",
       "      <td>0</td>\n",
       "      <td>0</td>\n",
       "      <td>0</td>\n",
       "      <td>0</td>\n",
       "      <td>0</td>\n",
       "      <td>0</td>\n",
       "      <td>0</td>\n",
       "      <td>0</td>\n",
       "    </tr>\n",
       "    <tr>\n",
       "      <th>4</th>\n",
       "      <td>1</td>\n",
       "      <td>0</td>\n",
       "      <td>0</td>\n",
       "      <td>0</td>\n",
       "      <td>4250</td>\n",
       "      <td>41</td>\n",
       "      <td>0</td>\n",
       "      <td>0</td>\n",
       "      <td>6</td>\n",
       "      <td>0</td>\n",
       "      <td>0</td>\n",
       "      <td>12</td>\n",
       "      <td>0</td>\n",
       "      <td>0</td>\n",
       "      <td>0</td>\n",
       "      <td>75</td>\n",
       "      <td>0</td>\n",
       "      <td>0</td>\n",
       "      <td>0</td>\n",
       "    </tr>\n",
       "    <tr>\n",
       "      <th>5</th>\n",
       "      <td>27</td>\n",
       "      <td>0</td>\n",
       "      <td>0</td>\n",
       "      <td>0</td>\n",
       "      <td>122</td>\n",
       "      <td>3708</td>\n",
       "      <td>0</td>\n",
       "      <td>62</td>\n",
       "      <td>40</td>\n",
       "      <td>0</td>\n",
       "      <td>0</td>\n",
       "      <td>4</td>\n",
       "      <td>0</td>\n",
       "      <td>0</td>\n",
       "      <td>0</td>\n",
       "      <td>72</td>\n",
       "      <td>0</td>\n",
       "      <td>0</td>\n",
       "      <td>13</td>\n",
       "    </tr>\n",
       "    <tr>\n",
       "      <th>6</th>\n",
       "      <td>1</td>\n",
       "      <td>35</td>\n",
       "      <td>0</td>\n",
       "      <td>0</td>\n",
       "      <td>9</td>\n",
       "      <td>3</td>\n",
       "      <td>10887</td>\n",
       "      <td>4</td>\n",
       "      <td>65</td>\n",
       "      <td>3</td>\n",
       "      <td>1</td>\n",
       "      <td>60</td>\n",
       "      <td>0</td>\n",
       "      <td>86</td>\n",
       "      <td>15</td>\n",
       "      <td>14</td>\n",
       "      <td>0</td>\n",
       "      <td>0</td>\n",
       "      <td>1</td>\n",
       "    </tr>\n",
       "    <tr>\n",
       "      <th>7</th>\n",
       "      <td>159</td>\n",
       "      <td>0</td>\n",
       "      <td>0</td>\n",
       "      <td>0</td>\n",
       "      <td>0</td>\n",
       "      <td>202</td>\n",
       "      <td>0</td>\n",
       "      <td>732</td>\n",
       "      <td>19</td>\n",
       "      <td>0</td>\n",
       "      <td>0</td>\n",
       "      <td>2</td>\n",
       "      <td>0</td>\n",
       "      <td>0</td>\n",
       "      <td>0</td>\n",
       "      <td>1</td>\n",
       "      <td>0</td>\n",
       "      <td>0</td>\n",
       "      <td>281</td>\n",
       "    </tr>\n",
       "    <tr>\n",
       "      <th>8</th>\n",
       "      <td>20</td>\n",
       "      <td>11</td>\n",
       "      <td>1</td>\n",
       "      <td>1</td>\n",
       "      <td>28</td>\n",
       "      <td>203</td>\n",
       "      <td>84</td>\n",
       "      <td>31</td>\n",
       "      <td>13352</td>\n",
       "      <td>1</td>\n",
       "      <td>15</td>\n",
       "      <td>165</td>\n",
       "      <td>0</td>\n",
       "      <td>73</td>\n",
       "      <td>65</td>\n",
       "      <td>15</td>\n",
       "      <td>13</td>\n",
       "      <td>0</td>\n",
       "      <td>815</td>\n",
       "    </tr>\n",
       "    <tr>\n",
       "      <th>9</th>\n",
       "      <td>0</td>\n",
       "      <td>0</td>\n",
       "      <td>0</td>\n",
       "      <td>0</td>\n",
       "      <td>0</td>\n",
       "      <td>0</td>\n",
       "      <td>0</td>\n",
       "      <td>0</td>\n",
       "      <td>3</td>\n",
       "      <td>35</td>\n",
       "      <td>0</td>\n",
       "      <td>0</td>\n",
       "      <td>0</td>\n",
       "      <td>0</td>\n",
       "      <td>0</td>\n",
       "      <td>0</td>\n",
       "      <td>0</td>\n",
       "      <td>0</td>\n",
       "      <td>0</td>\n",
       "    </tr>\n",
       "    <tr>\n",
       "      <th>10</th>\n",
       "      <td>0</td>\n",
       "      <td>0</td>\n",
       "      <td>7</td>\n",
       "      <td>107</td>\n",
       "      <td>0</td>\n",
       "      <td>0</td>\n",
       "      <td>1</td>\n",
       "      <td>0</td>\n",
       "      <td>1</td>\n",
       "      <td>0</td>\n",
       "      <td>4004</td>\n",
       "      <td>3</td>\n",
       "      <td>0</td>\n",
       "      <td>0</td>\n",
       "      <td>0</td>\n",
       "      <td>0</td>\n",
       "      <td>1</td>\n",
       "      <td>0</td>\n",
       "      <td>0</td>\n",
       "    </tr>\n",
       "    <tr>\n",
       "      <th>11</th>\n",
       "      <td>9</td>\n",
       "      <td>25</td>\n",
       "      <td>0</td>\n",
       "      <td>1</td>\n",
       "      <td>133</td>\n",
       "      <td>44</td>\n",
       "      <td>60</td>\n",
       "      <td>15</td>\n",
       "      <td>355</td>\n",
       "      <td>1</td>\n",
       "      <td>21</td>\n",
       "      <td>609</td>\n",
       "      <td>0</td>\n",
       "      <td>255</td>\n",
       "      <td>99</td>\n",
       "      <td>38</td>\n",
       "      <td>9</td>\n",
       "      <td>0</td>\n",
       "      <td>286</td>\n",
       "    </tr>\n",
       "    <tr>\n",
       "      <th>12</th>\n",
       "      <td>0</td>\n",
       "      <td>0</td>\n",
       "      <td>0</td>\n",
       "      <td>0</td>\n",
       "      <td>0</td>\n",
       "      <td>0</td>\n",
       "      <td>0</td>\n",
       "      <td>2</td>\n",
       "      <td>0</td>\n",
       "      <td>0</td>\n",
       "      <td>0</td>\n",
       "      <td>0</td>\n",
       "      <td>0</td>\n",
       "      <td>0</td>\n",
       "      <td>0</td>\n",
       "      <td>0</td>\n",
       "      <td>0</td>\n",
       "      <td>0</td>\n",
       "      <td>2</td>\n",
       "    </tr>\n",
       "    <tr>\n",
       "      <th>13</th>\n",
       "      <td>0</td>\n",
       "      <td>0</td>\n",
       "      <td>0</td>\n",
       "      <td>0</td>\n",
       "      <td>0</td>\n",
       "      <td>3</td>\n",
       "      <td>165</td>\n",
       "      <td>5</td>\n",
       "      <td>262</td>\n",
       "      <td>0</td>\n",
       "      <td>2</td>\n",
       "      <td>150</td>\n",
       "      <td>0</td>\n",
       "      <td>1294</td>\n",
       "      <td>2</td>\n",
       "      <td>0</td>\n",
       "      <td>0</td>\n",
       "      <td>0</td>\n",
       "      <td>255</td>\n",
       "    </tr>\n",
       "    <tr>\n",
       "      <th>14</th>\n",
       "      <td>3</td>\n",
       "      <td>0</td>\n",
       "      <td>0</td>\n",
       "      <td>0</td>\n",
       "      <td>0</td>\n",
       "      <td>0</td>\n",
       "      <td>0</td>\n",
       "      <td>0</td>\n",
       "      <td>23</td>\n",
       "      <td>0</td>\n",
       "      <td>0</td>\n",
       "      <td>17</td>\n",
       "      <td>0</td>\n",
       "      <td>0</td>\n",
       "      <td>932</td>\n",
       "      <td>0</td>\n",
       "      <td>1</td>\n",
       "      <td>0</td>\n",
       "      <td>0</td>\n",
       "    </tr>\n",
       "    <tr>\n",
       "      <th>15</th>\n",
       "      <td>0</td>\n",
       "      <td>0</td>\n",
       "      <td>0</td>\n",
       "      <td>0</td>\n",
       "      <td>94</td>\n",
       "      <td>45</td>\n",
       "      <td>0</td>\n",
       "      <td>0</td>\n",
       "      <td>0</td>\n",
       "      <td>0</td>\n",
       "      <td>0</td>\n",
       "      <td>5</td>\n",
       "      <td>0</td>\n",
       "      <td>0</td>\n",
       "      <td>0</td>\n",
       "      <td>4245</td>\n",
       "      <td>0</td>\n",
       "      <td>0</td>\n",
       "      <td>0</td>\n",
       "    </tr>\n",
       "    <tr>\n",
       "      <th>16</th>\n",
       "      <td>0</td>\n",
       "      <td>10</td>\n",
       "      <td>0</td>\n",
       "      <td>0</td>\n",
       "      <td>0</td>\n",
       "      <td>0</td>\n",
       "      <td>0</td>\n",
       "      <td>0</td>\n",
       "      <td>0</td>\n",
       "      <td>0</td>\n",
       "      <td>0</td>\n",
       "      <td>6</td>\n",
       "      <td>0</td>\n",
       "      <td>0</td>\n",
       "      <td>0</td>\n",
       "      <td>0</td>\n",
       "      <td>330</td>\n",
       "      <td>0</td>\n",
       "      <td>0</td>\n",
       "    </tr>\n",
       "    <tr>\n",
       "      <th>17</th>\n",
       "      <td>0</td>\n",
       "      <td>0</td>\n",
       "      <td>0</td>\n",
       "      <td>3</td>\n",
       "      <td>0</td>\n",
       "      <td>0</td>\n",
       "      <td>2</td>\n",
       "      <td>3</td>\n",
       "      <td>3</td>\n",
       "      <td>0</td>\n",
       "      <td>0</td>\n",
       "      <td>1</td>\n",
       "      <td>0</td>\n",
       "      <td>5</td>\n",
       "      <td>0</td>\n",
       "      <td>0</td>\n",
       "      <td>0</td>\n",
       "      <td>0</td>\n",
       "      <td>1</td>\n",
       "    </tr>\n",
       "    <tr>\n",
       "      <th>18</th>\n",
       "      <td>100</td>\n",
       "      <td>5</td>\n",
       "      <td>0</td>\n",
       "      <td>0</td>\n",
       "      <td>0</td>\n",
       "      <td>83</td>\n",
       "      <td>3</td>\n",
       "      <td>370</td>\n",
       "      <td>374</td>\n",
       "      <td>0</td>\n",
       "      <td>0</td>\n",
       "      <td>13</td>\n",
       "      <td>0</td>\n",
       "      <td>11</td>\n",
       "      <td>0</td>\n",
       "      <td>1</td>\n",
       "      <td>0</td>\n",
       "      <td>0</td>\n",
       "      <td>5566</td>\n",
       "    </tr>\n",
       "  </tbody>\n",
       "</table>\n",
       "</div>"
      ],
      "text/plain": [
       "     0     1   2    3     4     5      6    7      8   9     10   11  12  \\\n",
       "0   312     0   0    0    14    41      2  134     45   0     0   31   0   \n",
       "1     0  1881   0    0     0     1      1    4     11   0     1    4   0   \n",
       "2     0     0  77   66     0     0      0    0      0   0     7    0   0   \n",
       "3     1     0  34  630     0     0      0    0      1   0   102    0   0   \n",
       "4     1     0   0    0  4250    41      0    0      6   0     0   12   0   \n",
       "5    27     0   0    0   122  3708      0   62     40   0     0    4   0   \n",
       "6     1    35   0    0     9     3  10887    4     65   3     1   60   0   \n",
       "7   159     0   0    0     0   202      0  732     19   0     0    2   0   \n",
       "8    20    11   1    1    28   203     84   31  13352   1    15  165   0   \n",
       "9     0     0   0    0     0     0      0    0      3  35     0    0   0   \n",
       "10    0     0   7  107     0     0      1    0      1   0  4004    3   0   \n",
       "11    9    25   0    1   133    44     60   15    355   1    21  609   0   \n",
       "12    0     0   0    0     0     0      0    2      0   0     0    0   0   \n",
       "13    0     0   0    0     0     3    165    5    262   0     2  150   0   \n",
       "14    3     0   0    0     0     0      0    0     23   0     0   17   0   \n",
       "15    0     0   0    0    94    45      0    0      0   0     0    5   0   \n",
       "16    0    10   0    0     0     0      0    0      0   0     0    6   0   \n",
       "17    0     0   0    3     0     0      2    3      3   0     0    1   0   \n",
       "18  100     5   0    0     0    83      3  370    374   0     0   13   0   \n",
       "\n",
       "      13   14    15   16  17    18  \n",
       "0      1   28     4    0   0    36  \n",
       "1      0    0     0    1   0    47  \n",
       "2      0    0     0    0   0     0  \n",
       "3      0    0     0    0   0     0  \n",
       "4      0    0    75    0   0     0  \n",
       "5      0    0    72    0   0    13  \n",
       "6     86   15    14    0   0     1  \n",
       "7      0    0     1    0   0   281  \n",
       "8     73   65    15   13   0   815  \n",
       "9      0    0     0    0   0     0  \n",
       "10     0    0     0    1   0     0  \n",
       "11   255   99    38    9   0   286  \n",
       "12     0    0     0    0   0     2  \n",
       "13  1294    2     0    0   0   255  \n",
       "14     0  932     0    1   0     0  \n",
       "15     0    0  4245    0   0     0  \n",
       "16     0    0     0  330   0     0  \n",
       "17     5    0     0    0   0     1  \n",
       "18    11    0     1    0   0  5566  "
      ]
     },
     "execution_count": 64,
     "metadata": {},
     "output_type": "execute_result"
    }
   ],
   "source": [
    "cm_result"
   ]
  },
  {
   "cell_type": "code",
   "execution_count": 65,
   "metadata": {
    "ExecuteTime": {
     "end_time": "2020-02-27T11:20:06.063332Z",
     "start_time": "2020-02-27T11:20:05.054363Z"
    },
    "scrolled": false
   },
   "outputs": [
    {
     "data": {
      "image/png": "[encoded data removed]",
      "text/plain": [
       "<Figure size 1080x1080 with 2 Axes>"
      ]
     },
     "metadata": {},
     "output_type": "display_data"
    }
   ],
   "source": [
    "plt.figure(figsize =(15,15))\n",
    "sns.heatmap(cm_result/np.sum(cm_result),annot = True, cmap ='RdYlGn',fmt='.1%')\n",
    "plt.ylabel(\"real\",fontsize=20)\n",
    "plt.xlabel(\"predict\",fontsize=20)\n",
    "plt.show()"
   ]
  },
  {
   "cell_type": "markdown",
   "metadata": {},
   "source": [
    "## Modeling_classification\n",
    "* cv_number1\n",
    "param = {'num_leaves': 255,\n",
    " 'min_child_samples': 40,\n",
    " 'max_depth': 8,\n",
    " 'learning_rate': 0.05,\n",
    " 'lambda_l2': 3,\n",
    " 'lambda_l1': 9\n",
    "}   \n",
    "-> 결과 : 0.349561 \n",
    "* cv_number2\n",
    "param = {'num_leaves': 127, 'min_child_samples': 50, 'max_depth': 8, 'learning_rate': 0.01, 'lambda_l2': 7, 'lambda_l1': 9}  \n",
    "  -> 결과 : 0.3612851294\t"
   ]
  },
  {
   "cell_type": "code",
   "execution_count": 66,
   "metadata": {
    "ExecuteTime": {
     "end_time": "2020-02-27T11:20:06.106331Z",
     "start_time": "2020-02-27T11:20:06.089332Z"
    }
   },
   "outputs": [],
   "source": [
    "param = {'num_leaves': 255,\n",
    " 'min_child_samples': 40,\n",
    " 'max_depth': 8,\n",
    " 'learning_rate': 0.05,\n",
    " 'lambda_l2': 3,\n",
    " 'lambda_l1': 9\n",
    "}\n"
   ]
  },
  {
   "cell_type": "code",
   "execution_count": 67,
   "metadata": {
    "ExecuteTime": {
     "end_time": "2020-02-27T11:20:06.141330Z",
     "start_time": "2020-02-27T11:20:06.112331Z"
    }
   },
   "outputs": [],
   "source": [
    "lgbm_c = lgb.LGBMClassifier(num_leaves = 127, min_child_samples = 50,\n",
    "                            max_depth = 8, learning_rate = 0.01,\n",
    "                            lambda_l2 = 7, lambda_l1 = 9,\n",
    "                            n_estimators=2000, random_state = 42)"
   ]
  },
  {
   "cell_type": "code",
   "execution_count": 68,
   "metadata": {
    "ExecuteTime": {
     "end_time": "2020-02-27T13:08:17.033236Z",
     "start_time": "2020-02-27T11:20:06.145330Z"
    }
   },
   "outputs": [
    {
     "name": "stdout",
     "output_type": "stream",
     "text": [
      "Training until validation scores don't improve for 100 rounds\n",
      "[100]\ttrain's multi_logloss: 0.908659\tvalid's multi_logloss: 0.924561\n",
      "[200]\ttrain's multi_logloss: 0.568311\tvalid's multi_logloss: 0.591111\n",
      "[300]\ttrain's multi_logloss: 0.436327\tvalid's multi_logloss: 0.46471\n",
      "[400]\ttrain's multi_logloss: 0.377413\tvalid's multi_logloss: 0.411104\n",
      "[500]\ttrain's multi_logloss: 0.344893\tvalid's multi_logloss: 0.38478\n",
      "[600]\ttrain's multi_logloss: 0.324985\tvalid's multi_logloss: 0.371194\n",
      "[700]\ttrain's multi_logloss: 0.311433\tvalid's multi_logloss: 0.363581\n",
      "[800]\ttrain's multi_logloss: 0.30076\tvalid's multi_logloss: 0.358827\n",
      "[900]\ttrain's multi_logloss: 0.29162\tvalid's multi_logloss: 0.355474\n",
      "[1000]\ttrain's multi_logloss: 0.283303\tvalid's multi_logloss: 0.353137\n",
      "[1100]\ttrain's multi_logloss: 0.275561\tvalid's multi_logloss: 0.351567\n",
      "[1200]\ttrain's multi_logloss: 0.268541\tvalid's multi_logloss: 0.35042\n",
      "[1300]\ttrain's multi_logloss: 0.261864\tvalid's multi_logloss: 0.349636\n",
      "[1400]\ttrain's multi_logloss: 0.255611\tvalid's multi_logloss: 0.349074\n",
      "[1500]\ttrain's multi_logloss: 0.249483\tvalid's multi_logloss: 0.348498\n",
      "[1600]\ttrain's multi_logloss: 0.243761\tvalid's multi_logloss: 0.34808\n",
      "[1700]\ttrain's multi_logloss: 0.238203\tvalid's multi_logloss: 0.347918\n",
      "[1800]\ttrain's multi_logloss: 0.232902\tvalid's multi_logloss: 0.347832\n",
      "[1900]\ttrain's multi_logloss: 0.227661\tvalid's multi_logloss: 0.347748\n",
      "Early stopping, best iteration is:\n",
      "[1867]\ttrain's multi_logloss: 0.229331\tvalid's multi_logloss: 0.347743\n"
     ]
    },
    {
     "data": {
      "text/plain": [
       "LGBMClassifier(boosting_type='gbdt', class_weight=None, colsample_bytree=1.0,\n",
       "               importance_type='split', lambda_l1=9, lambda_l2=7,\n",
       "               learning_rate=0.01, max_depth=8, min_child_samples=50,\n",
       "               min_child_weight=0.001, min_split_gain=0.0, n_estimators=2000,\n",
       "               n_jobs=-1, num_leaves=127, objective=None, random_state=42,\n",
       "               reg_alpha=0.0, reg_lambda=0.0, silent=True, subsample=1.0,\n",
       "               subsample_for_bin=200000, subsample_freq=0)"
      ]
     },
     "execution_count": 68,
     "metadata": {},
     "output_type": "execute_result"
    }
   ],
   "source": [
    "lgbm_c.fit(X_train, y_train, eval_set = [(X_train,y_train),(X_test, y_test)],eval_names= ['train','valid'], \n",
    "           eval_metric = 'logloss', verbose = 100, early_stopping_rounds = 100)"
   ]
  },
  {
   "cell_type": "code",
   "execution_count": 69,
   "metadata": {
    "ExecuteTime": {
     "end_time": "2020-02-27T13:14:37.470912Z",
     "start_time": "2020-02-27T13:08:17.036236Z"
    },
    "scrolled": true
   },
   "outputs": [
    {
     "data": {
      "text/plain": [
       "0.3471234196482347"
      ]
     },
     "execution_count": 69,
     "metadata": {},
     "output_type": "execute_result"
    }
   ],
   "source": [
    "train_y_pred = lgbm_c.predict_proba(X_test)\n",
    "\n",
    "from sklearn.metrics import log_loss\n",
    "#log_loss\n",
    "log_loss(y_test,train_y_pred,labels= list(set(y_test)))"
   ]
  },
  {
   "cell_type": "code",
   "execution_count": 70,
   "metadata": {
    "ExecuteTime": {
     "end_time": "2020-02-27T13:14:37.484912Z",
     "start_time": "2020-02-27T13:14:37.473912Z"
    }
   },
   "outputs": [
    {
     "data": {
      "text/plain": [
       "array([[1.31563611e-03, 5.33445316e-05, 2.58854694e-05, ...,\n",
       "        3.82898128e-05, 6.75176534e-05, 1.36672005e-04],\n",
       "       [1.34961142e-03, 5.00179786e-04, 4.84167738e-05, ...,\n",
       "        9.58912188e-05, 1.14034306e-04, 2.01920681e-01],\n",
       "       [2.24540394e-05, 1.45998675e-05, 5.21171815e-06, ...,\n",
       "        9.48418730e-06, 1.10913513e-05, 2.36966584e-05],\n",
       "       ...,\n",
       "       [9.39117621e-05, 8.81802864e-05, 3.29389372e-04, ...,\n",
       "        2.74520886e-04, 3.82960961e-05, 6.77078462e-05],\n",
       "       [1.20070431e-05, 7.21139844e-06, 2.20521787e-06, ...,\n",
       "        2.83316870e-06, 3.48955775e-06, 8.44899671e-05],\n",
       "       [5.31177770e-04, 6.27349271e-05, 1.95376160e-05, ...,\n",
       "        3.24789337e-05, 5.25590239e-05, 1.05534776e-02]])"
      ]
     },
     "execution_count": 70,
     "metadata": {},
     "output_type": "execute_result"
    }
   ],
   "source": [
    "train_y_pred"
   ]
  },
  {
   "cell_type": "code",
   "execution_count": 71,
   "metadata": {
    "ExecuteTime": {
     "end_time": "2020-02-27T13:15:41.515071Z",
     "start_time": "2020-02-27T13:14:37.499912Z"
    }
   },
   "outputs": [],
   "source": [
    "test_y_pred = lgbm_c.predict_proba(test_X)"
   ]
  },
  {
   "cell_type": "code",
   "execution_count": 72,
   "metadata": {
    "ExecuteTime": {
     "end_time": "2020-02-27T13:15:41.523071Z",
     "start_time": "2020-02-27T13:15:41.519071Z"
    }
   },
   "outputs": [
    {
     "data": {
      "text/plain": [
       "array([[1.49428999e-04, 1.49128902e-04, 8.06266891e-04, ...,\n",
       "        4.26356702e-04, 2.53977465e-03, 3.08218556e-04],\n",
       "       [4.74922508e-04, 3.63820296e-04, 8.61993701e-05, ...,\n",
       "        1.47194649e-04, 3.23931311e-04, 6.91718428e-04],\n",
       "       [7.76745466e-05, 3.00136662e-05, 7.84838319e-06, ...,\n",
       "        1.51160624e-05, 3.12536420e-05, 1.05120902e-04],\n",
       "       ...,\n",
       "       [1.38910071e-04, 1.00300867e-04, 1.60297001e-05, ...,\n",
       "        2.63165678e-05, 3.81973904e-05, 7.80437716e-03],\n",
       "       [1.59439585e-05, 2.76872012e-05, 2.26168597e-06, ...,\n",
       "        4.06594158e-06, 3.58307084e-06, 2.53038799e-04],\n",
       "       [8.02599326e-04, 3.37260325e-05, 1.02942262e-05, ...,\n",
       "        1.95515096e-05, 1.56343696e-05, 1.50952977e-04]])"
      ]
     },
     "execution_count": 72,
     "metadata": {},
     "output_type": "execute_result"
    }
   ],
   "source": [
    "test_y_pred"
   ]
  },
  {
   "cell_type": "markdown",
   "metadata": {},
   "source": [
    "### feature_importance"
   ]
  },
  {
   "cell_type": "code",
   "execution_count": 73,
   "metadata": {
    "ExecuteTime": {
     "end_time": "2020-02-27T13:15:41.612069Z",
     "start_time": "2020-02-27T13:15:41.524072Z"
    },
    "scrolled": true
   },
   "outputs": [
    {
     "data": {
      "text/html": [
       "<div>\n",
       "<style scoped>\n",
       "    .dataframe tbody tr th:only-of-type {\n",
       "        vertical-align: middle;\n",
       "    }\n",
       "\n",
       "    .dataframe tbody tr th {\n",
       "        vertical-align: top;\n",
       "    }\n",
       "\n",
       "    .dataframe thead th {\n",
       "        text-align: right;\n",
       "    }\n",
       "</style>\n",
       "<table border=\"1\" class=\"dataframe\">\n",
       "  <thead>\n",
       "    <tr style=\"text-align: right;\">\n",
       "      <th></th>\n",
       "      <th>importance</th>\n",
       "    </tr>\n",
       "  </thead>\n",
       "  <tbody>\n",
       "    <tr>\n",
       "      <th>std_u</th>\n",
       "      <td>41646</td>\n",
       "    </tr>\n",
       "    <tr>\n",
       "      <th>std_g</th>\n",
       "      <td>41082</td>\n",
       "    </tr>\n",
       "    <tr>\n",
       "      <th>std_r</th>\n",
       "      <td>40443</td>\n",
       "    </tr>\n",
       "    <tr>\n",
       "      <th>std_z</th>\n",
       "      <td>39730</td>\n",
       "    </tr>\n",
       "    <tr>\n",
       "      <th>std_i</th>\n",
       "      <td>38542</td>\n",
       "    </tr>\n",
       "    <tr>\n",
       "      <th>median_u</th>\n",
       "      <td>34179</td>\n",
       "    </tr>\n",
       "    <tr>\n",
       "      <th>median_z</th>\n",
       "      <td>30401</td>\n",
       "    </tr>\n",
       "    <tr>\n",
       "      <th>psfMag_g-r</th>\n",
       "      <td>29503</td>\n",
       "    </tr>\n",
       "    <tr>\n",
       "      <th>psfMag_u-g</th>\n",
       "      <td>28287</td>\n",
       "    </tr>\n",
       "    <tr>\n",
       "      <th>modelMag_i-z</th>\n",
       "      <td>27838</td>\n",
       "    </tr>\n",
       "    <tr>\n",
       "      <th>fiberMag_u-g</th>\n",
       "      <td>27501</td>\n",
       "    </tr>\n",
       "    <tr>\n",
       "      <th>fiberMag_i-z</th>\n",
       "      <td>27426</td>\n",
       "    </tr>\n",
       "    <tr>\n",
       "      <th>petroMag_u-g</th>\n",
       "      <td>26948</td>\n",
       "    </tr>\n",
       "    <tr>\n",
       "      <th>modelMag_u-g</th>\n",
       "      <td>26294</td>\n",
       "    </tr>\n",
       "    <tr>\n",
       "      <th>psfMag_i-z</th>\n",
       "      <td>26257</td>\n",
       "    </tr>\n",
       "    <tr>\n",
       "      <th>psfMag_r-i</th>\n",
       "      <td>26078</td>\n",
       "    </tr>\n",
       "    <tr>\n",
       "      <th>petroMag_i-z</th>\n",
       "      <td>25763</td>\n",
       "    </tr>\n",
       "    <tr>\n",
       "      <th>psfMag_r</th>\n",
       "      <td>25034</td>\n",
       "    </tr>\n",
       "    <tr>\n",
       "      <th>petroMag_r-i</th>\n",
       "      <td>24790</td>\n",
       "    </tr>\n",
       "    <tr>\n",
       "      <th>fiberMag_r-i</th>\n",
       "      <td>23950</td>\n",
       "    </tr>\n",
       "    <tr>\n",
       "      <th>median_g</th>\n",
       "      <td>23684</td>\n",
       "    </tr>\n",
       "    <tr>\n",
       "      <th>psfMag_i</th>\n",
       "      <td>23427</td>\n",
       "    </tr>\n",
       "    <tr>\n",
       "      <th>fiberMag_g-r</th>\n",
       "      <td>23103</td>\n",
       "    </tr>\n",
       "    <tr>\n",
       "      <th>median_r</th>\n",
       "      <td>22977</td>\n",
       "    </tr>\n",
       "    <tr>\n",
       "      <th>modelMag_r-i</th>\n",
       "      <td>22762</td>\n",
       "    </tr>\n",
       "    <tr>\n",
       "      <th>median_i</th>\n",
       "      <td>21732</td>\n",
       "    </tr>\n",
       "    <tr>\n",
       "      <th>modelMag_g-r</th>\n",
       "      <td>21043</td>\n",
       "    </tr>\n",
       "    <tr>\n",
       "      <th>psfMag_z</th>\n",
       "      <td>20223</td>\n",
       "    </tr>\n",
       "    <tr>\n",
       "      <th>psfMag_g</th>\n",
       "      <td>18979</td>\n",
       "    </tr>\n",
       "    <tr>\n",
       "      <th>fiberMag_i</th>\n",
       "      <td>18915</td>\n",
       "    </tr>\n",
       "    <tr>\n",
       "      <th>...</th>\n",
       "      <td>...</td>\n",
       "    </tr>\n",
       "    <tr>\n",
       "      <th>fiberMag_u</th>\n",
       "      <td>15677</td>\n",
       "    </tr>\n",
       "    <tr>\n",
       "      <th>modelMag_u</th>\n",
       "      <td>15613</td>\n",
       "    </tr>\n",
       "    <tr>\n",
       "      <th>psfMag_u</th>\n",
       "      <td>15542</td>\n",
       "    </tr>\n",
       "    <tr>\n",
       "      <th>fiberMag_r</th>\n",
       "      <td>15355</td>\n",
       "    </tr>\n",
       "    <tr>\n",
       "      <th>psfMag_u-r</th>\n",
       "      <td>15108</td>\n",
       "    </tr>\n",
       "    <tr>\n",
       "      <th>modelMag_i</th>\n",
       "      <td>15107</td>\n",
       "    </tr>\n",
       "    <tr>\n",
       "      <th>psfMag_r-z</th>\n",
       "      <td>14905</td>\n",
       "    </tr>\n",
       "    <tr>\n",
       "      <th>modelMag_r</th>\n",
       "      <td>14388</td>\n",
       "    </tr>\n",
       "    <tr>\n",
       "      <th>petroMag_u-r</th>\n",
       "      <td>14307</td>\n",
       "    </tr>\n",
       "    <tr>\n",
       "      <th>petroMag_r-z</th>\n",
       "      <td>14291</td>\n",
       "    </tr>\n",
       "    <tr>\n",
       "      <th>psfMag_g-i</th>\n",
       "      <td>13642</td>\n",
       "    </tr>\n",
       "    <tr>\n",
       "      <th>fiberMag_u-r</th>\n",
       "      <td>13563</td>\n",
       "    </tr>\n",
       "    <tr>\n",
       "      <th>fiberMag_g-i</th>\n",
       "      <td>13545</td>\n",
       "    </tr>\n",
       "    <tr>\n",
       "      <th>petroMag_g</th>\n",
       "      <td>13091</td>\n",
       "    </tr>\n",
       "    <tr>\n",
       "      <th>modelMag_g</th>\n",
       "      <td>12777</td>\n",
       "    </tr>\n",
       "    <tr>\n",
       "      <th>modelMag_g-i</th>\n",
       "      <td>12735</td>\n",
       "    </tr>\n",
       "    <tr>\n",
       "      <th>modelMag_u-r</th>\n",
       "      <td>12600</td>\n",
       "    </tr>\n",
       "    <tr>\n",
       "      <th>petroMag_g-z</th>\n",
       "      <td>12428</td>\n",
       "    </tr>\n",
       "    <tr>\n",
       "      <th>petroMag_g-i</th>\n",
       "      <td>12268</td>\n",
       "    </tr>\n",
       "    <tr>\n",
       "      <th>petroMag_u-z</th>\n",
       "      <td>12194</td>\n",
       "    </tr>\n",
       "    <tr>\n",
       "      <th>petroMag_u-i</th>\n",
       "      <td>11971</td>\n",
       "    </tr>\n",
       "    <tr>\n",
       "      <th>psfMag_u-i</th>\n",
       "      <td>11211</td>\n",
       "    </tr>\n",
       "    <tr>\n",
       "      <th>fiberMag_g-z</th>\n",
       "      <td>11161</td>\n",
       "    </tr>\n",
       "    <tr>\n",
       "      <th>fiberMag_u-z</th>\n",
       "      <td>10955</td>\n",
       "    </tr>\n",
       "    <tr>\n",
       "      <th>psfMag_g-z</th>\n",
       "      <td>10712</td>\n",
       "    </tr>\n",
       "    <tr>\n",
       "      <th>fiberMag_u-i</th>\n",
       "      <td>10376</td>\n",
       "    </tr>\n",
       "    <tr>\n",
       "      <th>modelMag_u-i</th>\n",
       "      <td>10267</td>\n",
       "    </tr>\n",
       "    <tr>\n",
       "      <th>modelMag_u-z</th>\n",
       "      <td>10238</td>\n",
       "    </tr>\n",
       "    <tr>\n",
       "      <th>modelMag_g-z</th>\n",
       "      <td>10042</td>\n",
       "    </tr>\n",
       "    <tr>\n",
       "      <th>psfMag_u-z</th>\n",
       "      <td>9831</td>\n",
       "    </tr>\n",
       "  </tbody>\n",
       "</table>\n",
       "<p>70 rows × 1 columns</p>\n",
       "</div>"
      ],
      "text/plain": [
       "              importance\n",
       "std_u              41646\n",
       "std_g              41082\n",
       "std_r              40443\n",
       "std_z              39730\n",
       "std_i              38542\n",
       "median_u           34179\n",
       "median_z           30401\n",
       "psfMag_g-r         29503\n",
       "psfMag_u-g         28287\n",
       "modelMag_i-z       27838\n",
       "fiberMag_u-g       27501\n",
       "fiberMag_i-z       27426\n",
       "petroMag_u-g       26948\n",
       "modelMag_u-g       26294\n",
       "psfMag_i-z         26257\n",
       "psfMag_r-i         26078\n",
       "petroMag_i-z       25763\n",
       "psfMag_r           25034\n",
       "petroMag_r-i       24790\n",
       "fiberMag_r-i       23950\n",
       "median_g           23684\n",
       "psfMag_i           23427\n",
       "fiberMag_g-r       23103\n",
       "median_r           22977\n",
       "modelMag_r-i       22762\n",
       "median_i           21732\n",
       "modelMag_g-r       21043\n",
       "psfMag_z           20223\n",
       "psfMag_g           18979\n",
       "fiberMag_i         18915\n",
       "...                  ...\n",
       "fiberMag_u         15677\n",
       "modelMag_u         15613\n",
       "psfMag_u           15542\n",
       "fiberMag_r         15355\n",
       "psfMag_u-r         15108\n",
       "modelMag_i         15107\n",
       "psfMag_r-z         14905\n",
       "modelMag_r         14388\n",
       "petroMag_u-r       14307\n",
       "petroMag_r-z       14291\n",
       "psfMag_g-i         13642\n",
       "fiberMag_u-r       13563\n",
       "fiberMag_g-i       13545\n",
       "petroMag_g         13091\n",
       "modelMag_g         12777\n",
       "modelMag_g-i       12735\n",
       "modelMag_u-r       12600\n",
       "petroMag_g-z       12428\n",
       "petroMag_g-i       12268\n",
       "petroMag_u-z       12194\n",
       "petroMag_u-i       11971\n",
       "psfMag_u-i         11211\n",
       "fiberMag_g-z       11161\n",
       "fiberMag_u-z       10955\n",
       "psfMag_g-z         10712\n",
       "fiberMag_u-i       10376\n",
       "modelMag_u-i       10267\n",
       "modelMag_u-z       10238\n",
       "modelMag_g-z       10042\n",
       "psfMag_u-z          9831\n",
       "\n",
       "[70 rows x 1 columns]"
      ]
     },
     "execution_count": 73,
     "metadata": {},
     "output_type": "execute_result"
    }
   ],
   "source": [
    "pi_df = pd.DataFrame(lgbm_c.feature_importances_, index= train_X.columns,columns= ['importance']).sort_values('importance',ascending = False)\n",
    "pi_df"
   ]
  },
  {
   "cell_type": "markdown",
   "metadata": {},
   "source": [
    "### 예측결과에 대해\n",
    "잘된예측 : 1,3,4,5,6,8,9,10,14,15,16,18  \n",
    "중간예측 : 0,2,7,13  \n",
    "망한예측 : 11,12,17"
   ]
  },
  {
   "cell_type": "code",
   "execution_count": 74,
   "metadata": {
    "ExecuteTime": {
     "end_time": "2020-02-27T13:22:08.106530Z",
     "start_time": "2020-02-27T13:15:41.613068Z"
    }
   },
   "outputs": [],
   "source": [
    "train_y_pred = lgbm_c.predict(X_test)"
   ]
  },
  {
   "cell_type": "code",
   "execution_count": 75,
   "metadata": {
    "ExecuteTime": {
     "end_time": "2020-02-27T13:22:08.115530Z",
     "start_time": "2020-02-27T13:22:08.109530Z"
    }
   },
   "outputs": [
    {
     "data": {
      "text/plain": [
       "(59942,)"
      ]
     },
     "execution_count": 75,
     "metadata": {},
     "output_type": "execute_result"
    }
   ],
   "source": [
    "train_y_pred.shape"
   ]
  },
  {
   "cell_type": "code",
   "execution_count": 76,
   "metadata": {
    "ExecuteTime": {
     "end_time": "2020-02-27T13:22:08.272526Z",
     "start_time": "2020-02-27T13:22:08.117530Z"
    }
   },
   "outputs": [],
   "source": [
    "cm_result = pd.DataFrame(confusion_matrix(y_test,train_y_pred))"
   ]
  },
  {
   "cell_type": "code",
   "execution_count": 77,
   "metadata": {
    "ExecuteTime": {
     "end_time": "2020-02-27T13:22:08.292524Z",
     "start_time": "2020-02-27T13:22:08.274526Z"
    }
   },
   "outputs": [
    {
     "data": {
      "text/html": [
       "<div>\n",
       "<style scoped>\n",
       "    .dataframe tbody tr th:only-of-type {\n",
       "        vertical-align: middle;\n",
       "    }\n",
       "\n",
       "    .dataframe tbody tr th {\n",
       "        vertical-align: top;\n",
       "    }\n",
       "\n",
       "    .dataframe thead th {\n",
       "        text-align: right;\n",
       "    }\n",
       "</style>\n",
       "<table border=\"1\" class=\"dataframe\">\n",
       "  <thead>\n",
       "    <tr style=\"text-align: right;\">\n",
       "      <th></th>\n",
       "      <th>0</th>\n",
       "      <th>1</th>\n",
       "      <th>2</th>\n",
       "      <th>3</th>\n",
       "      <th>4</th>\n",
       "      <th>5</th>\n",
       "      <th>6</th>\n",
       "      <th>7</th>\n",
       "      <th>8</th>\n",
       "      <th>9</th>\n",
       "      <th>10</th>\n",
       "      <th>11</th>\n",
       "      <th>12</th>\n",
       "      <th>13</th>\n",
       "      <th>14</th>\n",
       "      <th>15</th>\n",
       "      <th>16</th>\n",
       "      <th>17</th>\n",
       "      <th>18</th>\n",
       "    </tr>\n",
       "  </thead>\n",
       "  <tbody>\n",
       "    <tr>\n",
       "      <th>0</th>\n",
       "      <td>306</td>\n",
       "      <td>0</td>\n",
       "      <td>0</td>\n",
       "      <td>0</td>\n",
       "      <td>13</td>\n",
       "      <td>44</td>\n",
       "      <td>2</td>\n",
       "      <td>139</td>\n",
       "      <td>43</td>\n",
       "      <td>0</td>\n",
       "      <td>0</td>\n",
       "      <td>31</td>\n",
       "      <td>0</td>\n",
       "      <td>1</td>\n",
       "      <td>28</td>\n",
       "      <td>5</td>\n",
       "      <td>0</td>\n",
       "      <td>0</td>\n",
       "      <td>36</td>\n",
       "    </tr>\n",
       "    <tr>\n",
       "      <th>1</th>\n",
       "      <td>0</td>\n",
       "      <td>1883</td>\n",
       "      <td>0</td>\n",
       "      <td>0</td>\n",
       "      <td>0</td>\n",
       "      <td>1</td>\n",
       "      <td>0</td>\n",
       "      <td>4</td>\n",
       "      <td>10</td>\n",
       "      <td>0</td>\n",
       "      <td>1</td>\n",
       "      <td>3</td>\n",
       "      <td>0</td>\n",
       "      <td>0</td>\n",
       "      <td>0</td>\n",
       "      <td>0</td>\n",
       "      <td>1</td>\n",
       "      <td>0</td>\n",
       "      <td>48</td>\n",
       "    </tr>\n",
       "    <tr>\n",
       "      <th>2</th>\n",
       "      <td>0</td>\n",
       "      <td>0</td>\n",
       "      <td>79</td>\n",
       "      <td>62</td>\n",
       "      <td>0</td>\n",
       "      <td>0</td>\n",
       "      <td>0</td>\n",
       "      <td>0</td>\n",
       "      <td>0</td>\n",
       "      <td>1</td>\n",
       "      <td>8</td>\n",
       "      <td>0</td>\n",
       "      <td>0</td>\n",
       "      <td>0</td>\n",
       "      <td>0</td>\n",
       "      <td>0</td>\n",
       "      <td>0</td>\n",
       "      <td>0</td>\n",
       "      <td>0</td>\n",
       "    </tr>\n",
       "    <tr>\n",
       "      <th>3</th>\n",
       "      <td>1</td>\n",
       "      <td>0</td>\n",
       "      <td>32</td>\n",
       "      <td>633</td>\n",
       "      <td>0</td>\n",
       "      <td>0</td>\n",
       "      <td>0</td>\n",
       "      <td>0</td>\n",
       "      <td>1</td>\n",
       "      <td>0</td>\n",
       "      <td>101</td>\n",
       "      <td>0</td>\n",
       "      <td>0</td>\n",
       "      <td>0</td>\n",
       "      <td>0</td>\n",
       "      <td>0</td>\n",
       "      <td>0</td>\n",
       "      <td>0</td>\n",
       "      <td>0</td>\n",
       "    </tr>\n",
       "    <tr>\n",
       "      <th>4</th>\n",
       "      <td>2</td>\n",
       "      <td>0</td>\n",
       "      <td>0</td>\n",
       "      <td>0</td>\n",
       "      <td>4248</td>\n",
       "      <td>40</td>\n",
       "      <td>0</td>\n",
       "      <td>0</td>\n",
       "      <td>6</td>\n",
       "      <td>0</td>\n",
       "      <td>0</td>\n",
       "      <td>10</td>\n",
       "      <td>0</td>\n",
       "      <td>0</td>\n",
       "      <td>0</td>\n",
       "      <td>79</td>\n",
       "      <td>0</td>\n",
       "      <td>0</td>\n",
       "      <td>0</td>\n",
       "    </tr>\n",
       "    <tr>\n",
       "      <th>5</th>\n",
       "      <td>28</td>\n",
       "      <td>0</td>\n",
       "      <td>0</td>\n",
       "      <td>0</td>\n",
       "      <td>125</td>\n",
       "      <td>3700</td>\n",
       "      <td>0</td>\n",
       "      <td>66</td>\n",
       "      <td>44</td>\n",
       "      <td>0</td>\n",
       "      <td>0</td>\n",
       "      <td>4</td>\n",
       "      <td>0</td>\n",
       "      <td>0</td>\n",
       "      <td>0</td>\n",
       "      <td>73</td>\n",
       "      <td>0</td>\n",
       "      <td>0</td>\n",
       "      <td>8</td>\n",
       "    </tr>\n",
       "    <tr>\n",
       "      <th>6</th>\n",
       "      <td>1</td>\n",
       "      <td>35</td>\n",
       "      <td>0</td>\n",
       "      <td>0</td>\n",
       "      <td>9</td>\n",
       "      <td>3</td>\n",
       "      <td>10892</td>\n",
       "      <td>4</td>\n",
       "      <td>63</td>\n",
       "      <td>2</td>\n",
       "      <td>1</td>\n",
       "      <td>59</td>\n",
       "      <td>0</td>\n",
       "      <td>86</td>\n",
       "      <td>15</td>\n",
       "      <td>13</td>\n",
       "      <td>0</td>\n",
       "      <td>0</td>\n",
       "      <td>1</td>\n",
       "    </tr>\n",
       "    <tr>\n",
       "      <th>7</th>\n",
       "      <td>154</td>\n",
       "      <td>0</td>\n",
       "      <td>0</td>\n",
       "      <td>0</td>\n",
       "      <td>0</td>\n",
       "      <td>202</td>\n",
       "      <td>0</td>\n",
       "      <td>728</td>\n",
       "      <td>18</td>\n",
       "      <td>0</td>\n",
       "      <td>0</td>\n",
       "      <td>2</td>\n",
       "      <td>0</td>\n",
       "      <td>0</td>\n",
       "      <td>0</td>\n",
       "      <td>1</td>\n",
       "      <td>0</td>\n",
       "      <td>0</td>\n",
       "      <td>291</td>\n",
       "    </tr>\n",
       "    <tr>\n",
       "      <th>8</th>\n",
       "      <td>21</td>\n",
       "      <td>10</td>\n",
       "      <td>2</td>\n",
       "      <td>1</td>\n",
       "      <td>26</td>\n",
       "      <td>208</td>\n",
       "      <td>83</td>\n",
       "      <td>30</td>\n",
       "      <td>13341</td>\n",
       "      <td>1</td>\n",
       "      <td>13</td>\n",
       "      <td>171</td>\n",
       "      <td>0</td>\n",
       "      <td>70</td>\n",
       "      <td>64</td>\n",
       "      <td>16</td>\n",
       "      <td>14</td>\n",
       "      <td>0</td>\n",
       "      <td>822</td>\n",
       "    </tr>\n",
       "    <tr>\n",
       "      <th>9</th>\n",
       "      <td>0</td>\n",
       "      <td>0</td>\n",
       "      <td>0</td>\n",
       "      <td>0</td>\n",
       "      <td>0</td>\n",
       "      <td>0</td>\n",
       "      <td>0</td>\n",
       "      <td>0</td>\n",
       "      <td>2</td>\n",
       "      <td>36</td>\n",
       "      <td>0</td>\n",
       "      <td>0</td>\n",
       "      <td>0</td>\n",
       "      <td>0</td>\n",
       "      <td>0</td>\n",
       "      <td>0</td>\n",
       "      <td>0</td>\n",
       "      <td>0</td>\n",
       "      <td>0</td>\n",
       "    </tr>\n",
       "    <tr>\n",
       "      <th>10</th>\n",
       "      <td>0</td>\n",
       "      <td>0</td>\n",
       "      <td>8</td>\n",
       "      <td>106</td>\n",
       "      <td>0</td>\n",
       "      <td>0</td>\n",
       "      <td>1</td>\n",
       "      <td>0</td>\n",
       "      <td>1</td>\n",
       "      <td>0</td>\n",
       "      <td>4003</td>\n",
       "      <td>4</td>\n",
       "      <td>0</td>\n",
       "      <td>0</td>\n",
       "      <td>0</td>\n",
       "      <td>0</td>\n",
       "      <td>1</td>\n",
       "      <td>0</td>\n",
       "      <td>0</td>\n",
       "    </tr>\n",
       "    <tr>\n",
       "      <th>11</th>\n",
       "      <td>6</td>\n",
       "      <td>25</td>\n",
       "      <td>0</td>\n",
       "      <td>1</td>\n",
       "      <td>133</td>\n",
       "      <td>44</td>\n",
       "      <td>61</td>\n",
       "      <td>15</td>\n",
       "      <td>364</td>\n",
       "      <td>1</td>\n",
       "      <td>21</td>\n",
       "      <td>607</td>\n",
       "      <td>0</td>\n",
       "      <td>255</td>\n",
       "      <td>102</td>\n",
       "      <td>38</td>\n",
       "      <td>8</td>\n",
       "      <td>0</td>\n",
       "      <td>279</td>\n",
       "    </tr>\n",
       "    <tr>\n",
       "      <th>12</th>\n",
       "      <td>0</td>\n",
       "      <td>0</td>\n",
       "      <td>0</td>\n",
       "      <td>0</td>\n",
       "      <td>0</td>\n",
       "      <td>0</td>\n",
       "      <td>0</td>\n",
       "      <td>2</td>\n",
       "      <td>0</td>\n",
       "      <td>0</td>\n",
       "      <td>0</td>\n",
       "      <td>0</td>\n",
       "      <td>0</td>\n",
       "      <td>0</td>\n",
       "      <td>0</td>\n",
       "      <td>0</td>\n",
       "      <td>0</td>\n",
       "      <td>0</td>\n",
       "      <td>2</td>\n",
       "    </tr>\n",
       "    <tr>\n",
       "      <th>13</th>\n",
       "      <td>0</td>\n",
       "      <td>0</td>\n",
       "      <td>0</td>\n",
       "      <td>0</td>\n",
       "      <td>0</td>\n",
       "      <td>3</td>\n",
       "      <td>169</td>\n",
       "      <td>5</td>\n",
       "      <td>258</td>\n",
       "      <td>0</td>\n",
       "      <td>2</td>\n",
       "      <td>144</td>\n",
       "      <td>0</td>\n",
       "      <td>1297</td>\n",
       "      <td>2</td>\n",
       "      <td>0</td>\n",
       "      <td>0</td>\n",
       "      <td>0</td>\n",
       "      <td>258</td>\n",
       "    </tr>\n",
       "    <tr>\n",
       "      <th>14</th>\n",
       "      <td>4</td>\n",
       "      <td>0</td>\n",
       "      <td>0</td>\n",
       "      <td>0</td>\n",
       "      <td>0</td>\n",
       "      <td>0</td>\n",
       "      <td>1</td>\n",
       "      <td>1</td>\n",
       "      <td>20</td>\n",
       "      <td>0</td>\n",
       "      <td>0</td>\n",
       "      <td>17</td>\n",
       "      <td>0</td>\n",
       "      <td>0</td>\n",
       "      <td>932</td>\n",
       "      <td>0</td>\n",
       "      <td>1</td>\n",
       "      <td>0</td>\n",
       "      <td>0</td>\n",
       "    </tr>\n",
       "    <tr>\n",
       "      <th>15</th>\n",
       "      <td>0</td>\n",
       "      <td>0</td>\n",
       "      <td>0</td>\n",
       "      <td>0</td>\n",
       "      <td>95</td>\n",
       "      <td>46</td>\n",
       "      <td>1</td>\n",
       "      <td>0</td>\n",
       "      <td>0</td>\n",
       "      <td>0</td>\n",
       "      <td>0</td>\n",
       "      <td>4</td>\n",
       "      <td>0</td>\n",
       "      <td>0</td>\n",
       "      <td>0</td>\n",
       "      <td>4243</td>\n",
       "      <td>0</td>\n",
       "      <td>0</td>\n",
       "      <td>0</td>\n",
       "    </tr>\n",
       "    <tr>\n",
       "      <th>16</th>\n",
       "      <td>0</td>\n",
       "      <td>10</td>\n",
       "      <td>0</td>\n",
       "      <td>0</td>\n",
       "      <td>0</td>\n",
       "      <td>0</td>\n",
       "      <td>0</td>\n",
       "      <td>0</td>\n",
       "      <td>0</td>\n",
       "      <td>0</td>\n",
       "      <td>0</td>\n",
       "      <td>6</td>\n",
       "      <td>0</td>\n",
       "      <td>0</td>\n",
       "      <td>0</td>\n",
       "      <td>0</td>\n",
       "      <td>330</td>\n",
       "      <td>0</td>\n",
       "      <td>0</td>\n",
       "    </tr>\n",
       "    <tr>\n",
       "      <th>17</th>\n",
       "      <td>0</td>\n",
       "      <td>0</td>\n",
       "      <td>0</td>\n",
       "      <td>3</td>\n",
       "      <td>0</td>\n",
       "      <td>0</td>\n",
       "      <td>2</td>\n",
       "      <td>3</td>\n",
       "      <td>3</td>\n",
       "      <td>0</td>\n",
       "      <td>0</td>\n",
       "      <td>1</td>\n",
       "      <td>0</td>\n",
       "      <td>5</td>\n",
       "      <td>0</td>\n",
       "      <td>0</td>\n",
       "      <td>0</td>\n",
       "      <td>0</td>\n",
       "      <td>1</td>\n",
       "    </tr>\n",
       "    <tr>\n",
       "      <th>18</th>\n",
       "      <td>98</td>\n",
       "      <td>5</td>\n",
       "      <td>0</td>\n",
       "      <td>0</td>\n",
       "      <td>0</td>\n",
       "      <td>84</td>\n",
       "      <td>3</td>\n",
       "      <td>365</td>\n",
       "      <td>375</td>\n",
       "      <td>0</td>\n",
       "      <td>0</td>\n",
       "      <td>10</td>\n",
       "      <td>0</td>\n",
       "      <td>13</td>\n",
       "      <td>0</td>\n",
       "      <td>1</td>\n",
       "      <td>0</td>\n",
       "      <td>0</td>\n",
       "      <td>5572</td>\n",
       "    </tr>\n",
       "  </tbody>\n",
       "</table>\n",
       "</div>"
      ],
      "text/plain": [
       "     0     1   2    3     4     5      6    7      8   9     10   11  12  \\\n",
       "0   306     0   0    0    13    44      2  139     43   0     0   31   0   \n",
       "1     0  1883   0    0     0     1      0    4     10   0     1    3   0   \n",
       "2     0     0  79   62     0     0      0    0      0   1     8    0   0   \n",
       "3     1     0  32  633     0     0      0    0      1   0   101    0   0   \n",
       "4     2     0   0    0  4248    40      0    0      6   0     0   10   0   \n",
       "5    28     0   0    0   125  3700      0   66     44   0     0    4   0   \n",
       "6     1    35   0    0     9     3  10892    4     63   2     1   59   0   \n",
       "7   154     0   0    0     0   202      0  728     18   0     0    2   0   \n",
       "8    21    10   2    1    26   208     83   30  13341   1    13  171   0   \n",
       "9     0     0   0    0     0     0      0    0      2  36     0    0   0   \n",
       "10    0     0   8  106     0     0      1    0      1   0  4003    4   0   \n",
       "11    6    25   0    1   133    44     61   15    364   1    21  607   0   \n",
       "12    0     0   0    0     0     0      0    2      0   0     0    0   0   \n",
       "13    0     0   0    0     0     3    169    5    258   0     2  144   0   \n",
       "14    4     0   0    0     0     0      1    1     20   0     0   17   0   \n",
       "15    0     0   0    0    95    46      1    0      0   0     0    4   0   \n",
       "16    0    10   0    0     0     0      0    0      0   0     0    6   0   \n",
       "17    0     0   0    3     0     0      2    3      3   0     0    1   0   \n",
       "18   98     5   0    0     0    84      3  365    375   0     0   10   0   \n",
       "\n",
       "      13   14    15   16  17    18  \n",
       "0      1   28     5    0   0    36  \n",
       "1      0    0     0    1   0    48  \n",
       "2      0    0     0    0   0     0  \n",
       "3      0    0     0    0   0     0  \n",
       "4      0    0    79    0   0     0  \n",
       "5      0    0    73    0   0     8  \n",
       "6     86   15    13    0   0     1  \n",
       "7      0    0     1    0   0   291  \n",
       "8     70   64    16   14   0   822  \n",
       "9      0    0     0    0   0     0  \n",
       "10     0    0     0    1   0     0  \n",
       "11   255  102    38    8   0   279  \n",
       "12     0    0     0    0   0     2  \n",
       "13  1297    2     0    0   0   258  \n",
       "14     0  932     0    1   0     0  \n",
       "15     0    0  4243    0   0     0  \n",
       "16     0    0     0  330   0     0  \n",
       "17     5    0     0    0   0     1  \n",
       "18    13    0     1    0   0  5572  "
      ]
     },
     "execution_count": 77,
     "metadata": {},
     "output_type": "execute_result"
    }
   ],
   "source": [
    "cm_result"
   ]
  },
  {
   "cell_type": "code",
   "execution_count": 78,
   "metadata": {
    "ExecuteTime": {
     "end_time": "2020-02-27T13:22:09.684505Z",
     "start_time": "2020-02-27T13:22:08.294525Z"
    },
    "scrolled": false
   },
   "outputs": [
    {
     "data": {
      "image/png": "[encoded data removed]",
      "text/plain": [
       "<Figure size 1080x1080 with 2 Axes>"
      ]
     },
     "metadata": {},
     "output_type": "display_data"
    }
   ],
   "source": [
    "plt.figure(figsize =(15,15))\n",
    "sns.heatmap(cm_result/np.sum(cm_result),annot = True, cmap ='RdYlGn',fmt='.1%')\n",
    "plt.ylabel(\"real\",fontsize=20)\n",
    "plt.xlabel(\"predict\",fontsize=20)\n",
    "plt.show()"
   ]
  },
  {
   "cell_type": "markdown",
   "metadata": {},
   "source": [
    "# REAL"
   ]
  },
  {
   "cell_type": "code",
   "execution_count": 79,
   "metadata": {
    "ExecuteTime": {
     "end_time": "2020-02-27T13:22:09.690505Z",
     "start_time": "2020-02-27T13:22:09.685505Z"
    }
   },
   "outputs": [],
   "source": [
    "lgbm_c = lgb.LGBMClassifier(num_leaves = 255, min_child_samples = 40,\n",
    "                            max_depth = 8, learning_rate = 0.1,\n",
    "                            lambda_l2 = 3, lambda_l1 = 9,\n",
    "                            n_estimators=2000, random_state = 42)"
   ]
  },
  {
   "cell_type": "code",
   "execution_count": 80,
   "metadata": {
    "ExecuteTime": {
     "end_time": "2020-02-27T14:07:15.091032Z",
     "start_time": "2020-02-27T13:22:09.692505Z"
    },
    "scrolled": true
   },
   "outputs": [
    {
     "name": "stdout",
     "output_type": "stream",
     "text": [
      "Training until validation scores don't improve for 100 rounds\n",
      "[100]\tvalid's multi_logloss: 0.285407\n",
      "[200]\tvalid's multi_logloss: 0.227648\n",
      "[300]\tvalid's multi_logloss: 0.189003\n",
      "[400]\tvalid's multi_logloss: 0.162886\n",
      "[500]\tvalid's multi_logloss: 0.144597\n",
      "[600]\tvalid's multi_logloss: 0.131756\n",
      "[700]\tvalid's multi_logloss: 0.122472\n",
      "[800]\tvalid's multi_logloss: 0.115364\n",
      "[900]\tvalid's multi_logloss: 0.109897\n",
      "[1000]\tvalid's multi_logloss: 0.105758\n",
      "[1100]\tvalid's multi_logloss: 0.103106\n",
      "[1200]\tvalid's multi_logloss: 0.102158\n",
      "[1300]\tvalid's multi_logloss: 0.102158\n",
      "[1400]\tvalid's multi_logloss: 0.102158\n",
      "[1500]\tvalid's multi_logloss: 0.102158\n",
      "[1600]\tvalid's multi_logloss: 0.102158\n",
      "[1700]\tvalid's multi_logloss: 0.102158\n",
      "[1800]\tvalid's multi_logloss: 0.102158\n",
      "[1900]\tvalid's multi_logloss: 0.102158\n",
      "[2000]\tvalid's multi_logloss: 0.102158\n",
      "Did not meet early stopping. Best iteration is:\n",
      "[1514]\tvalid's multi_logloss: 0.102158\n"
     ]
    },
    {
     "data": {
      "text/plain": [
       "LGBMClassifier(boosting_type='gbdt', class_weight=None, colsample_bytree=1.0,\n",
       "               importance_type='split', lambda_l1=9, lambda_l2=3,\n",
       "               learning_rate=0.1, max_depth=8, min_child_samples=40,\n",
       "               min_child_weight=0.001, min_split_gain=0.0, n_estimators=2000,\n",
       "               n_jobs=-1, num_leaves=255, objective=None, random_state=42,\n",
       "               reg_alpha=0.0, reg_lambda=0.0, silent=True, subsample=1.0,\n",
       "               subsample_for_bin=200000, subsample_freq=0)"
      ]
     },
     "execution_count": 80,
     "metadata": {},
     "output_type": "execute_result"
    }
   ],
   "source": [
    "lgbm_c.fit(train_X, train_y, eval_set = [(train_X, train_y)],eval_names= 'valid', \n",
    "           eval_metric = 'logloss', verbose = 100, early_stopping_rounds = 100)"
   ]
  },
  {
   "cell_type": "code",
   "execution_count": 81,
   "metadata": {
    "ExecuteTime": {
     "end_time": "2020-02-27T14:16:08.306569Z",
     "start_time": "2020-02-27T14:07:15.096032Z"
    }
   },
   "outputs": [],
   "source": [
    "f_train_y_pred = lgbm_c.predict_proba(train_X)"
   ]
  },
  {
   "cell_type": "code",
   "execution_count": 82,
   "metadata": {
    "ExecuteTime": {
     "end_time": "2020-02-27T14:16:38.248127Z",
     "start_time": "2020-02-27T14:16:08.344567Z"
    }
   },
   "outputs": [],
   "source": [
    "y_pred = lgbm_c.predict_proba(test_X)"
   ]
  },
  {
   "cell_type": "code",
   "execution_count": 83,
   "metadata": {
    "ExecuteTime": {
     "end_time": "2020-02-27T14:16:38.264126Z",
     "start_time": "2020-02-27T14:16:38.254127Z"
    }
   },
   "outputs": [
    {
     "data": {
      "text/plain": [
       "array([[7.02066627e-05, 8.46609326e-05, 7.65102581e-04, ...,\n",
       "        3.12926973e-04, 7.56246023e-04, 9.28747248e-05],\n",
       "       [4.20955151e-04, 2.29178539e-04, 5.80874078e-05, ...,\n",
       "        1.24690235e-04, 2.94878260e-04, 4.34145150e-04],\n",
       "       [4.20554303e-05, 1.14723963e-05, 4.52067420e-06, ...,\n",
       "        9.56024187e-06, 1.44621885e-05, 1.82810417e-05],\n",
       "       ...,\n",
       "       [3.83456554e-06, 3.97975593e-06, 1.04321750e-06, ...,\n",
       "        1.29557789e-06, 1.32956399e-06, 2.44513928e-04],\n",
       "       [3.49646671e-06, 4.15343179e-06, 6.63310269e-07, ...,\n",
       "        1.29013171e-06, 9.45386651e-07, 3.78771988e-05],\n",
       "       [4.65865279e-04, 1.14555170e-05, 5.55352109e-06, ...,\n",
       "        7.29212355e-06, 6.14390797e-06, 1.03810699e-05]])"
      ]
     },
     "execution_count": 83,
     "metadata": {},
     "output_type": "execute_result"
    }
   ],
   "source": [
    "y_pred"
   ]
  },
  {
   "cell_type": "code",
   "execution_count": 84,
   "metadata": {
    "ExecuteTime": {
     "end_time": "2020-02-27T14:18:11.915147Z",
     "start_time": "2020-02-27T14:18:11.506160Z"
    }
   },
   "outputs": [],
   "source": [
    "submission = pd.DataFrame(data=y_pred, columns=sample_submission_df.columns, index=sample_submission_df.index)\n",
    "submission.to_csv('./submisson/submission.csv', index=True)"
   ]
  },
  {
   "cell_type": "code",
   "execution_count": null,
   "metadata": {},
   "outputs": [],
   "source": []
  }
 ],
 "metadata": {
  "kernelspec": {
   "display_name": "Python 3",
   "language": "python",
   "name": "python3"
  },
  "language_info": {
   "codemirror_mode": {
    "name": "ipython",
    "version": 3
   },
   "file_extension": ".py",
   "mimetype": "text/x-python",
   "name": "python",
   "nbconvert_exporter": "python",
   "pygments_lexer": "ipython3",
   "version": "3.6.5"
  },
  "varInspector": {
   "cols": {
    "lenName": 16,
    "lenType": 16,
    "lenVar": 40
   },
   "kernels_config": {
    "python": {
     "delete_cmd_postfix": "",
     "delete_cmd_prefix": "del ",
     "library": "var_list.py",
     "varRefreshCmd": "print(var_dic_list())"
    },
    "r": {
     "delete_cmd_postfix": ") ",
     "delete_cmd_prefix": "rm(",
     "library": "var_list.r",
     "varRefreshCmd": "cat(var_dic_list()) "
    }
   },
   "types_to_exclude": [
    "module",
    "function",
    "builtin_function_or_method",
    "instance",
    "_Feature"
   ],
   "window_display": false
  }
 },
 "nbformat": 4,
 "nbformat_minor": 2
}
