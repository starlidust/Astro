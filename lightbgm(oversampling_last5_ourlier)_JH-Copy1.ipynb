{
 "cells": [
  {
   "cell_type": "markdown",
   "metadata": {},
   "source": [
    "# out_fiberID\n",
    "* 기존변수 + u-g,g-r,r-i,i-z만 추가변수로 사용\n",
    "* fiber_ID를 제외하고 진행해봄\n",
    "* 제출결과 : 0.4076887978\n",
    "-> oversample자체가 다소 overfitting되는듯"
   ]
  },
  {
   "cell_type": "code",
   "execution_count": 3,
   "metadata": {
    "ExecuteTime": {
     "end_time": "2020-02-24T12:49:13.768676Z",
     "start_time": "2020-02-24T12:49:11.223752Z"
    }
   },
   "outputs": [],
   "source": [
    "import pandas as pd\n",
    "import numpy as np\n",
    "import matplotlib.pyplot as plt\n",
    "import seaborn as sns\n",
    "\n",
    "from sklearn.ensemble import RandomForestClassifier\n",
    "from sklearn.model_selection import train_test_split\n",
    "from sklearn.metrics import confusion_matrix\n",
    "from sklearn.metrics import log_loss\n",
    "\n",
    "\n",
    "import lightgbm as lgb\n",
    "from sklearn.model_selection import KFold"
   ]
  },
  {
   "cell_type": "code",
   "execution_count": 4,
   "metadata": {
    "ExecuteTime": {
     "end_time": "2020-02-24T12:49:13.786674Z",
     "start_time": "2020-02-24T12:49:13.782674Z"
    }
   },
   "outputs": [],
   "source": [
    "# from google.colab import drive\n",
    "# drive.mount('/content/drive')"
   ]
  },
  {
   "cell_type": "code",
   "execution_count": 5,
   "metadata": {
    "ExecuteTime": {
     "end_time": "2020-02-24T12:49:13.831674Z",
     "start_time": "2020-02-24T12:49:13.812675Z"
    }
   },
   "outputs": [],
   "source": [
    "# #colab용\n",
    "# import os\n",
    "# os.chdir('/content/drive/My Drive/Colab Notebooks/Dacon/천체관측/')"
   ]
  },
  {
   "cell_type": "code",
   "execution_count": 6,
   "metadata": {
    "ExecuteTime": {
     "end_time": "2020-02-24T12:49:17.283565Z",
     "start_time": "2020-02-24T12:49:13.841672Z"
    }
   },
   "outputs": [],
   "source": [
    "# path = \"/content/drive/My Drive/Colab Notebooks/Dacon/천체관측/data/\" #colab\n",
    "path = \"./data/\" #local\n",
    "train_df = pd.read_csv(path+'train.csv',index_col=0)\n",
    "test_df = pd.read_csv(path+'test.csv',index_col=0)\n",
    "sample_submission_df = pd.read_csv(path+'sample_submission.csv',index_col=0)\n",
    "pd.options.display.max_columns = 30"
   ]
  },
  {
   "cell_type": "markdown",
   "metadata": {},
   "source": [
    "### outlier"
   ]
  },
  {
   "cell_type": "code",
   "execution_count": 7,
   "metadata": {
    "ExecuteTime": {
     "end_time": "2020-02-24T12:49:17.487560Z",
     "start_time": "2020-02-24T12:49:17.482561Z"
    }
   },
   "outputs": [],
   "source": [
    "def del_outlier(data, min=0, max=60):\n",
    "    up_idx_t=()\n",
    "    dw_idx_t=()\n",
    "    train_light = data.iloc[:,2:]\n",
    "    for i in range(len(train_light.columns)):\n",
    "        col = train_light.columns[i]\n",
    "        up_idx_t+=tuple(data[data[col]>max].index)\n",
    "        dw_idx_t+=tuple(data[data[col]<min].index)\n",
    "    del_idx = set(up_idx_t+dw_idx_t)\n",
    "    \n",
    "    return data[~data.index.isin(del_idx)]"
   ]
  },
  {
   "cell_type": "code",
   "execution_count": 8,
   "metadata": {
    "ExecuteTime": {
     "end_time": "2020-02-24T12:49:17.921546Z",
     "start_time": "2020-02-24T12:49:17.660554Z"
    }
   },
   "outputs": [],
   "source": [
    "train_df = del_outlier(train_df, min=-60, max=60)"
   ]
  },
  {
   "cell_type": "markdown",
   "metadata": {},
   "source": [
    "### oversampling"
   ]
  },
  {
   "cell_type": "code",
   "execution_count": 9,
   "metadata": {
    "ExecuteTime": {
     "end_time": "2020-02-24T12:49:46.645539Z",
     "start_time": "2020-02-24T12:49:46.144555Z"
    }
   },
   "outputs": [
    {
     "data": {
      "text/plain": [
       "(197951, 22)"
      ]
     },
     "execution_count": 9,
     "metadata": {},
     "output_type": "execute_result"
    }
   ],
   "source": [
    "# 전부를 오버샘플링하지 않고 하위 5개만 오버샘플림을 징행한다\n",
    "last5 = train_df.type.value_counts().tail().index\n",
    "last5_df = train_df[train_df.type.apply(lambda x : x in last5)]\n",
    "not_last5_df = train_df[train_df.type.apply(lambda x : x not in last5)]\n",
    "not_last5_df.shape"
   ]
  },
  {
   "cell_type": "code",
   "execution_count": 10,
   "metadata": {
    "ExecuteTime": {
     "end_time": "2020-02-24T12:49:46.885532Z",
     "start_time": "2020-02-24T12:49:46.870533Z"
    }
   },
   "outputs": [
    {
     "data": {
      "text/plain": [
       "STAR_SUB_DWARF        1154\n",
       "STAR_BROWN_DWARF       500\n",
       "SKY                    126\n",
       "SERENDIPITY_MANUAL      61\n",
       "STAR_PN                 13\n",
       "Name: type, dtype: int64"
      ]
     },
     "execution_count": 10,
     "metadata": {},
     "output_type": "execute_result"
    }
   ],
   "source": [
    "last5_df.type.value_counts()"
   ]
  },
  {
   "cell_type": "code",
   "execution_count": 11,
   "metadata": {
    "ExecuteTime": {
     "end_time": "2020-02-24T12:49:47.142524Z",
     "start_time": "2020-02-24T12:49:47.102524Z"
    }
   },
   "outputs": [
    {
     "data": {
      "text/html": [
       "<div>\n",
       "<style scoped>\n",
       "    .dataframe tbody tr th:only-of-type {\n",
       "        vertical-align: middle;\n",
       "    }\n",
       "\n",
       "    .dataframe tbody tr th {\n",
       "        vertical-align: top;\n",
       "    }\n",
       "\n",
       "    .dataframe thead th {\n",
       "        text-align: right;\n",
       "    }\n",
       "</style>\n",
       "<table border=\"1\" class=\"dataframe\">\n",
       "  <thead>\n",
       "    <tr style=\"text-align: right;\">\n",
       "      <th></th>\n",
       "      <th>type</th>\n",
       "      <th>fiberID</th>\n",
       "      <th>psfMag_u</th>\n",
       "      <th>psfMag_g</th>\n",
       "      <th>psfMag_r</th>\n",
       "      <th>psfMag_i</th>\n",
       "      <th>psfMag_z</th>\n",
       "      <th>fiberMag_u</th>\n",
       "      <th>fiberMag_g</th>\n",
       "      <th>fiberMag_r</th>\n",
       "      <th>fiberMag_i</th>\n",
       "      <th>fiberMag_z</th>\n",
       "      <th>petroMag_u</th>\n",
       "      <th>petroMag_g</th>\n",
       "      <th>petroMag_r</th>\n",
       "      <th>petroMag_i</th>\n",
       "      <th>petroMag_z</th>\n",
       "      <th>modelMag_u</th>\n",
       "      <th>modelMag_g</th>\n",
       "      <th>modelMag_r</th>\n",
       "      <th>modelMag_i</th>\n",
       "      <th>modelMag_z</th>\n",
       "    </tr>\n",
       "    <tr>\n",
       "      <th>id</th>\n",
       "      <th></th>\n",
       "      <th></th>\n",
       "      <th></th>\n",
       "      <th></th>\n",
       "      <th></th>\n",
       "      <th></th>\n",
       "      <th></th>\n",
       "      <th></th>\n",
       "      <th></th>\n",
       "      <th></th>\n",
       "      <th></th>\n",
       "      <th></th>\n",
       "      <th></th>\n",
       "      <th></th>\n",
       "      <th></th>\n",
       "      <th></th>\n",
       "      <th></th>\n",
       "      <th></th>\n",
       "      <th></th>\n",
       "      <th></th>\n",
       "      <th></th>\n",
       "      <th></th>\n",
       "    </tr>\n",
       "  </thead>\n",
       "  <tbody>\n",
       "    <tr>\n",
       "      <th>130</th>\n",
       "      <td>STAR_BROWN_DWARF</td>\n",
       "      <td>307</td>\n",
       "      <td>24.000698</td>\n",
       "      <td>24.130331</td>\n",
       "      <td>22.397570</td>\n",
       "      <td>19.683266</td>\n",
       "      <td>17.899966</td>\n",
       "      <td>22.140558</td>\n",
       "      <td>23.953209</td>\n",
       "      <td>22.395944</td>\n",
       "      <td>20.004330</td>\n",
       "      <td>18.254870</td>\n",
       "      <td>23.335455</td>\n",
       "      <td>23.888990</td>\n",
       "      <td>22.326547</td>\n",
       "      <td>19.869744</td>\n",
       "      <td>17.979923</td>\n",
       "      <td>23.455427</td>\n",
       "      <td>24.435867</td>\n",
       "      <td>21.982169</td>\n",
       "      <td>19.627870</td>\n",
       "      <td>17.862923</td>\n",
       "    </tr>\n",
       "    <tr>\n",
       "      <th>178</th>\n",
       "      <td>STAR_SUB_DWARF</td>\n",
       "      <td>473</td>\n",
       "      <td>22.513232</td>\n",
       "      <td>20.303728</td>\n",
       "      <td>18.669804</td>\n",
       "      <td>17.335240</td>\n",
       "      <td>16.620192</td>\n",
       "      <td>22.980001</td>\n",
       "      <td>20.680711</td>\n",
       "      <td>18.988550</td>\n",
       "      <td>17.660633</td>\n",
       "      <td>16.957475</td>\n",
       "      <td>22.713534</td>\n",
       "      <td>20.378224</td>\n",
       "      <td>18.760992</td>\n",
       "      <td>17.400832</td>\n",
       "      <td>16.655114</td>\n",
       "      <td>23.064942</td>\n",
       "      <td>20.272060</td>\n",
       "      <td>18.684383</td>\n",
       "      <td>17.331097</td>\n",
       "      <td>16.615294</td>\n",
       "    </tr>\n",
       "    <tr>\n",
       "      <th>233</th>\n",
       "      <td>STAR_SUB_DWARF</td>\n",
       "      <td>18</td>\n",
       "      <td>25.281941</td>\n",
       "      <td>21.123560</td>\n",
       "      <td>19.451201</td>\n",
       "      <td>18.191930</td>\n",
       "      <td>17.539610</td>\n",
       "      <td>25.319303</td>\n",
       "      <td>21.542624</td>\n",
       "      <td>19.770037</td>\n",
       "      <td>18.532062</td>\n",
       "      <td>17.800853</td>\n",
       "      <td>25.219737</td>\n",
       "      <td>21.223090</td>\n",
       "      <td>19.524615</td>\n",
       "      <td>18.261213</td>\n",
       "      <td>17.567673</td>\n",
       "      <td>24.509561</td>\n",
       "      <td>21.291082</td>\n",
       "      <td>19.455164</td>\n",
       "      <td>18.196549</td>\n",
       "      <td>17.504771</td>\n",
       "    </tr>\n",
       "    <tr>\n",
       "      <th>374</th>\n",
       "      <td>STAR_BROWN_DWARF</td>\n",
       "      <td>454</td>\n",
       "      <td>24.500492</td>\n",
       "      <td>25.904337</td>\n",
       "      <td>23.313455</td>\n",
       "      <td>20.724750</td>\n",
       "      <td>18.827761</td>\n",
       "      <td>24.477704</td>\n",
       "      <td>24.866447</td>\n",
       "      <td>24.107851</td>\n",
       "      <td>21.187014</td>\n",
       "      <td>19.167432</td>\n",
       "      <td>23.176587</td>\n",
       "      <td>25.175837</td>\n",
       "      <td>24.938311</td>\n",
       "      <td>20.913233</td>\n",
       "      <td>18.823344</td>\n",
       "      <td>25.447687</td>\n",
       "      <td>25.691341</td>\n",
       "      <td>23.336237</td>\n",
       "      <td>20.731457</td>\n",
       "      <td>18.868444</td>\n",
       "    </tr>\n",
       "    <tr>\n",
       "      <th>693</th>\n",
       "      <td>SKY</td>\n",
       "      <td>296</td>\n",
       "      <td>23.037785</td>\n",
       "      <td>24.284405</td>\n",
       "      <td>23.731336</td>\n",
       "      <td>23.368552</td>\n",
       "      <td>21.608077</td>\n",
       "      <td>22.862479</td>\n",
       "      <td>25.740279</td>\n",
       "      <td>24.637647</td>\n",
       "      <td>23.034074</td>\n",
       "      <td>22.069032</td>\n",
       "      <td>23.458058</td>\n",
       "      <td>27.641061</td>\n",
       "      <td>25.728314</td>\n",
       "      <td>24.174830</td>\n",
       "      <td>23.510288</td>\n",
       "      <td>22.021153</td>\n",
       "      <td>25.627174</td>\n",
       "      <td>24.336437</td>\n",
       "      <td>23.670336</td>\n",
       "      <td>21.695816</td>\n",
       "    </tr>\n",
       "  </tbody>\n",
       "</table>\n",
       "</div>"
      ],
      "text/plain": [
       "                 type  fiberID   psfMag_u   psfMag_g   psfMag_r   psfMag_i  \\\n",
       "id                                                                           \n",
       "130  STAR_BROWN_DWARF      307  24.000698  24.130331  22.397570  19.683266   \n",
       "178    STAR_SUB_DWARF      473  22.513232  20.303728  18.669804  17.335240   \n",
       "233    STAR_SUB_DWARF       18  25.281941  21.123560  19.451201  18.191930   \n",
       "374  STAR_BROWN_DWARF      454  24.500492  25.904337  23.313455  20.724750   \n",
       "693               SKY      296  23.037785  24.284405  23.731336  23.368552   \n",
       "\n",
       "      psfMag_z  fiberMag_u  fiberMag_g  fiberMag_r  fiberMag_i  fiberMag_z  \\\n",
       "id                                                                           \n",
       "130  17.899966   22.140558   23.953209   22.395944   20.004330   18.254870   \n",
       "178  16.620192   22.980001   20.680711   18.988550   17.660633   16.957475   \n",
       "233  17.539610   25.319303   21.542624   19.770037   18.532062   17.800853   \n",
       "374  18.827761   24.477704   24.866447   24.107851   21.187014   19.167432   \n",
       "693  21.608077   22.862479   25.740279   24.637647   23.034074   22.069032   \n",
       "\n",
       "     petroMag_u  petroMag_g  petroMag_r  petroMag_i  petroMag_z  modelMag_u  \\\n",
       "id                                                                            \n",
       "130   23.335455   23.888990   22.326547   19.869744   17.979923   23.455427   \n",
       "178   22.713534   20.378224   18.760992   17.400832   16.655114   23.064942   \n",
       "233   25.219737   21.223090   19.524615   18.261213   17.567673   24.509561   \n",
       "374   23.176587   25.175837   24.938311   20.913233   18.823344   25.447687   \n",
       "693   23.458058   27.641061   25.728314   24.174830   23.510288   22.021153   \n",
       "\n",
       "     modelMag_g  modelMag_r  modelMag_i  modelMag_z  \n",
       "id                                                   \n",
       "130   24.435867   21.982169   19.627870   17.862923  \n",
       "178   20.272060   18.684383   17.331097   16.615294  \n",
       "233   21.291082   19.455164   18.196549   17.504771  \n",
       "374   25.691341   23.336237   20.731457   18.868444  \n",
       "693   25.627174   24.336437   23.670336   21.695816  "
      ]
     },
     "execution_count": 11,
     "metadata": {},
     "output_type": "execute_result"
    }
   ],
   "source": [
    "last5_df.head()"
   ]
  },
  {
   "cell_type": "code",
   "execution_count": 12,
   "metadata": {
    "ExecuteTime": {
     "end_time": "2020-02-24T12:49:48.287488Z",
     "start_time": "2020-02-24T12:49:47.652513Z"
    }
   },
   "outputs": [
    {
     "data": {
      "text/plain": [
       "<matplotlib.legend.Legend at 0x1b1801feeb8>"
      ]
     },
     "execution_count": 12,
     "metadata": {},
     "output_type": "execute_result"
    },
    {
     "data": {
      "image/png": "[encoded data removed]",
      "text/plain": [
       "<Figure size 432x288 with 1 Axes>"
      ]
     },
     "metadata": {},
     "output_type": "display_data"
    }
   ],
   "source": [
    "#범위축소해서 비교\n",
    "s_train_df = last5_df[(last5_df.psfMag_u>10)&(last5_df.psfMag_u<30)]\n",
    "s_train_df = s_train_df[(s_train_df.psfMag_g>10)&(s_train_df.psfMag_g<30)]\n",
    "\n",
    "sns.scatterplot(x= 'psfMag_u', y= 'modelMag_u', hue = 'type', data = s_train_df)\n",
    "plt.legend(bbox_to_anchor=(1.04,1), loc=\"upper left\")"
   ]
  },
  {
   "cell_type": "code",
   "execution_count": 13,
   "metadata": {
    "ExecuteTime": {
     "end_time": "2020-02-24T12:50:01.579663Z",
     "start_time": "2020-02-24T12:49:48.568480Z"
    }
   },
   "outputs": [
    {
     "name": "stderr",
     "output_type": "stream",
     "text": [
      "Using TensorFlow backend.\n",
      "C:\\Users\\starl\\Anaconda3\\lib\\site-packages\\tensorflow\\python\\framework\\dtypes.py:493: FutureWarning: Passing (type, 1) or '1type' as a synonym of type is deprecated; in a future version of numpy, it will be understood as (type, (1,)) / '(1,)type'.\n",
      "  _np_qint8 = np.dtype([(\"qint8\", np.int8, 1)])\n",
      "C:\\Users\\starl\\Anaconda3\\lib\\site-packages\\tensorflow\\python\\framework\\dtypes.py:494: FutureWarning: Passing (type, 1) or '1type' as a synonym of type is deprecated; in a future version of numpy, it will be understood as (type, (1,)) / '(1,)type'.\n",
      "  _np_quint8 = np.dtype([(\"quint8\", np.uint8, 1)])\n",
      "C:\\Users\\starl\\Anaconda3\\lib\\site-packages\\tensorflow\\python\\framework\\dtypes.py:495: FutureWarning: Passing (type, 1) or '1type' as a synonym of type is deprecated; in a future version of numpy, it will be understood as (type, (1,)) / '(1,)type'.\n",
      "  _np_qint16 = np.dtype([(\"qint16\", np.int16, 1)])\n",
      "C:\\Users\\starl\\Anaconda3\\lib\\site-packages\\tensorflow\\python\\framework\\dtypes.py:496: FutureWarning: Passing (type, 1) or '1type' as a synonym of type is deprecated; in a future version of numpy, it will be understood as (type, (1,)) / '(1,)type'.\n",
      "  _np_quint16 = np.dtype([(\"quint16\", np.uint16, 1)])\n",
      "C:\\Users\\starl\\Anaconda3\\lib\\site-packages\\tensorflow\\python\\framework\\dtypes.py:497: FutureWarning: Passing (type, 1) or '1type' as a synonym of type is deprecated; in a future version of numpy, it will be understood as (type, (1,)) / '(1,)type'.\n",
      "  _np_qint32 = np.dtype([(\"qint32\", np.int32, 1)])\n",
      "C:\\Users\\starl\\Anaconda3\\lib\\site-packages\\tensorflow\\python\\framework\\dtypes.py:502: FutureWarning: Passing (type, 1) or '1type' as a synonym of type is deprecated; in a future version of numpy, it will be understood as (type, (1,)) / '(1,)type'.\n",
      "  np_resource = np.dtype([(\"resource\", np.ubyte, 1)])\n"
     ]
    },
    {
     "data": {
      "text/plain": [
       "(1854, 21)"
      ]
     },
     "execution_count": 13,
     "metadata": {},
     "output_type": "execute_result"
    }
   ],
   "source": [
    "from imblearn.over_sampling import SMOTE\n",
    "\n",
    "sm = SMOTE(random_state=42)\n",
    "\n",
    "y = last5_df.type\n",
    "X = last5_df.drop('type',axis = 1)\n",
    "\n",
    "X.shape"
   ]
  },
  {
   "cell_type": "code",
   "execution_count": 14,
   "metadata": {
    "ExecuteTime": {
     "end_time": "2020-02-24T12:50:01.975649Z",
     "start_time": "2020-02-24T12:50:01.896653Z"
    }
   },
   "outputs": [],
   "source": [
    "resample_X, resample_y = sm.fit_resample(X,y)"
   ]
  },
  {
   "cell_type": "code",
   "execution_count": 15,
   "metadata": {
    "ExecuteTime": {
     "end_time": "2020-02-24T12:50:02.304641Z",
     "start_time": "2020-02-24T12:50:02.299640Z"
    }
   },
   "outputs": [
    {
     "data": {
      "text/plain": [
       "(5770, 21)"
      ]
     },
     "execution_count": 15,
     "metadata": {},
     "output_type": "execute_result"
    }
   ],
   "source": [
    "resample_X.shape"
   ]
  },
  {
   "cell_type": "code",
   "execution_count": 16,
   "metadata": {
    "ExecuteTime": {
     "end_time": "2020-02-24T12:50:02.800625Z",
     "start_time": "2020-02-24T12:50:02.785625Z"
    }
   },
   "outputs": [],
   "source": [
    "new_train_last5 = pd.concat([resample_X,resample_y],axis = 1)\n",
    "new_train_last5 = new_train_last5[train_df.columns]"
   ]
  },
  {
   "cell_type": "code",
   "execution_count": 17,
   "metadata": {
    "ExecuteTime": {
     "end_time": "2020-02-24T12:50:04.081681Z",
     "start_time": "2020-02-24T12:50:03.180691Z"
    }
   },
   "outputs": [
    {
     "data": {
      "text/plain": [
       "<matplotlib.legend.Legend at 0x1b18027a208>"
      ]
     },
     "execution_count": 17,
     "metadata": {},
     "output_type": "execute_result"
    },
    {
     "data": {
      "image/png": "[encoded data removed]",
      "text/plain": [
       "<Figure size 432x288 with 1 Axes>"
      ]
     },
     "metadata": {},
     "output_type": "display_data"
    }
   ],
   "source": [
    "#범위축소해서 비교\n",
    "s_train_df = new_train_last5[(new_train_last5.psfMag_u>10)&(new_train_last5.psfMag_u<30)]\n",
    "s_train_df = s_train_df[(s_train_df.psfMag_g>10)&(s_train_df.psfMag_g<30)]\n",
    "\n",
    "sns.scatterplot(x= 'psfMag_u', y= 'psfMag_g', hue = 'type', data = s_train_df)\n",
    "plt.legend(bbox_to_anchor=(1.04,1), loc=\"upper left\")"
   ]
  },
  {
   "cell_type": "code",
   "execution_count": 18,
   "metadata": {
    "ExecuteTime": {
     "end_time": "2020-02-24T12:50:04.547669Z",
     "start_time": "2020-02-24T12:50:04.486668Z"
    }
   },
   "outputs": [
    {
     "data": {
      "text/plain": [
       "(203721, 22)"
      ]
     },
     "execution_count": 18,
     "metadata": {},
     "output_type": "execute_result"
    }
   ],
   "source": [
    "#concat oversample + 기존\n",
    "new_train = pd.concat([not_last5_df,new_train_last5])\n",
    "new_train.shape"
   ]
  },
  {
   "cell_type": "markdown",
   "metadata": {},
   "source": [
    "## DATA Setting"
   ]
  },
  {
   "cell_type": "code",
   "execution_count": 19,
   "metadata": {
    "ExecuteTime": {
     "end_time": "2020-02-24T12:50:05.115988Z",
     "start_time": "2020-02-24T12:50:04.986992Z"
    }
   },
   "outputs": [],
   "source": [
    "column_number = {}\n",
    "number_columns = {}\n",
    "for i, column in enumerate(sample_submission_df.columns):\n",
    "    column_number[column] = i\n",
    "    number_columns[i] = column\n",
    "    \n",
    "    \n",
    "def to_number(x, dic):\n",
    "    return dic[x]\n",
    "\n",
    "new_train['type_num'] = new_train['type'].apply(lambda x: to_number(x, column_number))\n"
   ]
  },
  {
   "cell_type": "code",
   "execution_count": 20,
   "metadata": {
    "ExecuteTime": {
     "end_time": "2020-02-24T12:50:05.532976Z",
     "start_time": "2020-02-24T12:50:05.524975Z"
    }
   },
   "outputs": [],
   "source": [
    "def add_minus_feature_all(data,test = False):\n",
    "    '''\n",
    "    combination으로 모든 변수들의 조합에 대해서 컬럼생성 \n",
    "    각 mag에서 가장 높은값의 filter를 받아오는 \"~~mag_MAX\"생성\n",
    "    결과 64개로 증가\n",
    "    '''\n",
    "    from itertools import combinations\n",
    "    n = 0\n",
    "    for count in range(5,21,5):\n",
    "        s = 2\n",
    "        if test == True :\n",
    "            s = 1\n",
    "        selected = data.columns[s:].values[n:count]\n",
    "        mag = str.split(selected[0],'_')[0]\n",
    "#         data[mag+\"_MAX\"] = data[selected].apply(lambda x : str.split(np.argmax(x),'_')[1],axis = 1)\n",
    "        for combi in list(combinations(selected,2)):\n",
    "            name_1st = str.split(combi[0],'_')[1]\n",
    "            name_2nd = str.split(combi[1],'_')[1]\n",
    "            data[mag+\"_\"+name_1st+\"-\"+name_2nd] = data[combi[0]]-data[combi[1]]\n",
    "        n=count\n",
    "    return data"
   ]
  },
  {
   "cell_type": "code",
   "execution_count": 21,
   "metadata": {
    "ExecuteTime": {
     "end_time": "2020-02-24T12:50:05.966963Z",
     "start_time": "2020-02-24T12:50:05.961962Z"
    }
   },
   "outputs": [],
   "source": [
    "def add_minus_feature(data,test = False):\n",
    "    '''\n",
    "    근접변수에 대해서만 컬럼생성 ex) 'fiberMag_u-g', 'fiberMag_g-r', 'fiberMag_r-i', 'fiberMag_i-z'\n",
    "    각 mag에서 가장 높은값의 filter를 받아오는 \"~~mag_MAX\"생성\n",
    "    결과 38개로 증가 \n",
    "    '''\n",
    "    from itertools import combinations\n",
    "    n = 0\n",
    "    m = 0\n",
    "    for count in range(5,21,5):\n",
    "        s = 2\n",
    "        if test == True :\n",
    "            s = 1\n",
    "        selected = data.columns[s:].values[n:count]\n",
    "        mag = str.split(selected[0],'_')[0]\n",
    "#         data[mag+\"_MAX\"] = data[selected].apply(lambda x : str.split(np.argmax(x),'_')[1],axis = 1)\n",
    "        for i in range(0,len(selected)):        \n",
    "            if i>0: \n",
    "                name_1st = str.split(m,'_')[1]\n",
    "                name_2nd = str.split(selected[i],'_')[1]\n",
    "                data[mag+\"_\"+name_1st+\"-\"+name_2nd] = data[m]-data[selected[i]]\n",
    "            m = selected[i]    \n",
    "        n=count\n",
    "    return data"
   ]
  },
  {
   "cell_type": "code",
   "execution_count": 22,
   "metadata": {
    "ExecuteTime": {
     "end_time": "2020-02-24T12:50:06.723939Z",
     "start_time": "2020-02-24T12:50:06.392952Z"
    }
   },
   "outputs": [],
   "source": [
    "train_df = add_minus_feature_all(new_train)\n",
    "test_df = add_minus_feature_all(test_df,True)"
   ]
  },
  {
   "cell_type": "code",
   "execution_count": 23,
   "metadata": {
    "ExecuteTime": {
     "end_time": "2020-02-24T12:50:07.746908Z",
     "start_time": "2020-02-24T12:50:07.736908Z"
    }
   },
   "outputs": [
    {
     "data": {
      "text/plain": [
       "((203721, 63), (10009, 61))"
      ]
     },
     "execution_count": 23,
     "metadata": {},
     "output_type": "execute_result"
    }
   ],
   "source": [
    "train_df.shape,test_df.shape"
   ]
  },
  {
   "cell_type": "code",
   "execution_count": 24,
   "metadata": {
    "ExecuteTime": {
     "end_time": "2020-02-24T12:50:08.744878Z",
     "start_time": "2020-02-24T12:50:08.734876Z"
    }
   },
   "outputs": [
    {
     "data": {
      "text/plain": [
       "Index(['type', 'fiberID', 'psfMag_u', 'psfMag_g', 'psfMag_r', 'psfMag_i',\n",
       "       'psfMag_z', 'fiberMag_u', 'fiberMag_g', 'fiberMag_r', 'fiberMag_i',\n",
       "       'fiberMag_z', 'petroMag_u', 'petroMag_g', 'petroMag_r', 'petroMag_i',\n",
       "       'petroMag_z', 'modelMag_u', 'modelMag_g', 'modelMag_r', 'modelMag_i',\n",
       "       'modelMag_z', 'type_num', 'psfMag_u-g', 'psfMag_u-r', 'psfMag_u-i',\n",
       "       'psfMag_u-z', 'psfMag_g-r', 'psfMag_g-i', 'psfMag_g-z', 'psfMag_r-i',\n",
       "       'psfMag_r-z', 'psfMag_i-z', 'fiberMag_u-g', 'fiberMag_u-r',\n",
       "       'fiberMag_u-i', 'fiberMag_u-z', 'fiberMag_g-r', 'fiberMag_g-i',\n",
       "       'fiberMag_g-z', 'fiberMag_r-i', 'fiberMag_r-z', 'fiberMag_i-z',\n",
       "       'petroMag_u-g', 'petroMag_u-r', 'petroMag_u-i', 'petroMag_u-z',\n",
       "       'petroMag_g-r', 'petroMag_g-i', 'petroMag_g-z', 'petroMag_r-i',\n",
       "       'petroMag_r-z', 'petroMag_i-z', 'modelMag_u-g', 'modelMag_u-r',\n",
       "       'modelMag_u-i', 'modelMag_u-z', 'modelMag_g-r', 'modelMag_g-i',\n",
       "       'modelMag_g-z', 'modelMag_r-i', 'modelMag_r-z', 'modelMag_i-z'],\n",
       "      dtype='object')"
      ]
     },
     "execution_count": 24,
     "metadata": {},
     "output_type": "execute_result"
    }
   ],
   "source": [
    "train_df.columns"
   ]
  },
  {
   "cell_type": "code",
   "execution_count": 25,
   "metadata": {
    "ExecuteTime": {
     "end_time": "2020-02-24T12:50:10.147971Z",
     "start_time": "2020-02-24T12:50:09.710954Z"
    }
   },
   "outputs": [],
   "source": [
    "train_X = train_df.drop(columns=['type', 'type_num','fiberID'], axis=1)\n",
    "train_y = train_df['type_num']\n",
    "test_X = test_df.drop(columns = ['fiberID'])"
   ]
  },
  {
   "cell_type": "code",
   "execution_count": 26,
   "metadata": {
    "ExecuteTime": {
     "end_time": "2020-02-24T12:50:11.667167Z",
     "start_time": "2020-02-24T12:50:11.108975Z"
    }
   },
   "outputs": [],
   "source": [
    "X_train, X_test, y_train, y_test = train_test_split(train_X, train_y, test_size=0.3, random_state=42,stratify = train_y)"
   ]
  },
  {
   "cell_type": "code",
   "execution_count": 27,
   "metadata": {
    "ExecuteTime": {
     "end_time": "2020-02-24T12:50:12.771845Z",
     "start_time": "2020-02-24T12:50:12.759845Z"
    }
   },
   "outputs": [],
   "source": [
    "train_ds = lgb.Dataset(X_train, label = y_train)\n",
    "test_ds = lgb.Dataset(X_test, label = y_test) "
   ]
  },
  {
   "cell_type": "code",
   "execution_count": 28,
   "metadata": {
    "ExecuteTime": {
     "end_time": "2020-02-24T12:50:13.901316Z",
     "start_time": "2020-02-24T12:50:13.895314Z"
    }
   },
   "outputs": [],
   "source": [
    "params = {\n",
    "    'boosting_type': 'gbdt',\n",
    "    'objective': 'multiclass',\n",
    "    'num_class': train_y.nunique(),\n",
    "    'metric': {'multi_logloss','multi_logloss'},\n",
    "    'num_leaves': 25,\n",
    "    'learning_rate': 0.05,\n",
    "    'max_depth' : 12,\n",
    "    'random_state' : 42\n",
    "}"
   ]
  },
  {
   "cell_type": "markdown",
   "metadata": {},
   "source": [
    "## Modeling"
   ]
  },
  {
   "cell_type": "code",
   "execution_count": 29,
   "metadata": {
    "ExecuteTime": {
     "end_time": "2020-02-24T13:09:34.435365Z",
     "start_time": "2020-02-24T12:50:15.100277Z"
    }
   },
   "outputs": [
    {
     "name": "stdout",
     "output_type": "stream",
     "text": [
      "Training until validation scores don't improve for 100 rounds\n",
      "[100]\tTrain's multi_logloss: 0.346598\tTest's multi_logloss: 0.404945\n",
      "[200]\tTrain's multi_logloss: 0.2803\tTest's multi_logloss: 0.372847\n",
      "[300]\tTrain's multi_logloss: 0.247673\tTest's multi_logloss: 0.368054\n",
      "[400]\tTrain's multi_logloss: 0.222093\tTest's multi_logloss: 0.367294\n",
      "[500]\tTrain's multi_logloss: 0.201516\tTest's multi_logloss: 0.367967\n",
      "Early stopping, best iteration is:\n",
      "[408]\tTrain's multi_logloss: 0.220255\tTest's multi_logloss: 0.367247\n"
     ]
    }
   ],
   "source": [
    "evaluation_results = {}\n",
    "lgmb_model = lgb.train(params, train_ds,num_boost_round= 2000, \n",
    "                       valid_sets = [train_ds,test_ds], valid_names=['Train', 'Test'],\n",
    "                       evals_result=evaluation_results,\n",
    "                       verbose_eval=100, early_stopping_rounds=100)"
   ]
  },
  {
   "cell_type": "code",
   "execution_count": 30,
   "metadata": {
    "ExecuteTime": {
     "end_time": "2020-02-24T13:09:36.032312Z",
     "start_time": "2020-02-24T13:09:35.562326Z"
    }
   },
   "outputs": [
    {
     "data": {
      "image/png": "[encoded data removed]",
      "text/plain": [
       "<Figure size 1080x288 with 2 Axes>"
      ]
     },
     "metadata": {},
     "output_type": "display_data"
    }
   ],
   "source": [
    "fig, axs = plt.subplots(1, 2, figsize=[15, 4])\n",
    "\n",
    "# Plot the log loss during training\n",
    "axs[0].plot(evaluation_results['Train']['multi_logloss'], label='Train')\n",
    "axs[0].plot(evaluation_results['Test']['multi_logloss'], label='Test')\n",
    "axs[0].set_ylabel('Log loss')\n",
    "axs[0].set_xlabel('Boosting round')\n",
    "axs[0].set_title('Training performance')\n",
    "axs[0].legend()\n",
    "\n",
    "# Plot feature importance\n",
    "importances = pd.DataFrame({'features': lgmb_model.feature_name(), \n",
    "                            'importance': lgmb_model.feature_importance()}).sort_values('importance', ascending=False).head(10)\n",
    "axs[1].bar(x=np.arange(len(importances)), height=importances['importance'])\n",
    "axs[1].set_xticks(np.arange(len(importances)))\n",
    "axs[1].set_xticklabels(importances['features'])\n",
    "axs[1].set_ylabel('Feature importance (# times used to split)')\n",
    "axs[1].set_title('Feature importance')\n",
    "plt.xticks(rotation=45)\n",
    "\n",
    "plt.show()"
   ]
  },
  {
   "cell_type": "code",
   "execution_count": 31,
   "metadata": {
    "ExecuteTime": {
     "end_time": "2020-02-24T13:10:54.459088Z",
     "start_time": "2020-02-24T13:09:37.162276Z"
    }
   },
   "outputs": [],
   "source": [
    "train_y_pred = lgmb_model.predict(X_test)\n",
    "real_y_pred = lgmb_model.predict(test_X)"
   ]
  },
  {
   "cell_type": "code",
   "execution_count": 32,
   "metadata": {
    "ExecuteTime": {
     "end_time": "2020-02-24T13:10:55.747047Z",
     "start_time": "2020-02-24T13:10:55.741047Z"
    }
   },
   "outputs": [
    {
     "data": {
      "text/plain": [
       "(61117, 19)"
      ]
     },
     "execution_count": 32,
     "metadata": {},
     "output_type": "execute_result"
    }
   ],
   "source": [
    "train_y_pred.shape"
   ]
  },
  {
   "cell_type": "code",
   "execution_count": 33,
   "metadata": {
    "ExecuteTime": {
     "end_time": "2020-02-24T13:10:57.054009Z",
     "start_time": "2020-02-24T13:10:56.916013Z"
    },
    "scrolled": true
   },
   "outputs": [
    {
     "data": {
      "text/plain": [
       "0.3672470908046061"
      ]
     },
     "execution_count": 33,
     "metadata": {},
     "output_type": "execute_result"
    }
   ],
   "source": [
    "#log_loss\n",
    "log_loss(y_test,train_y_pred,labels= list(set(y_test)))"
   ]
  },
  {
   "cell_type": "code",
   "execution_count": 34,
   "metadata": {
    "ExecuteTime": {
     "end_time": "2020-02-24T13:10:58.187999Z",
     "start_time": "2020-02-24T13:10:58.176484Z"
    }
   },
   "outputs": [
    {
     "data": {
      "text/plain": [
       "array([2959, 3808, 4353, 4434, 3114, 2983, 3231, 2760, 3974, 2819, 3507,\n",
       "       2277, 2760, 3071, 2765, 3112, 2569, 2548, 2364, 3541, 4483, 3050,\n",
       "       2094, 1743, 4672, 2335, 2093, 3888, 2825, 4440, 4304, 3036, 1919,\n",
       "       2380, 4498, 2580, 1972, 3994, 3152, 4147, 3760, 2629, 2032, 2310,\n",
       "       3787, 2349, 2255, 3550, 2449, 3900, 4245, 2703, 1854, 1874, 4519,\n",
       "       2258, 2064, 3855, 3139, 3962])"
      ]
     },
     "execution_count": 34,
     "metadata": {},
     "output_type": "execute_result"
    }
   ],
   "source": [
    "lgmb_model.feature_importance()"
   ]
  },
  {
   "cell_type": "markdown",
   "metadata": {},
   "source": [
    "### feature_importance"
   ]
  },
  {
   "cell_type": "code",
   "execution_count": 35,
   "metadata": {
    "ExecuteTime": {
     "end_time": "2020-02-24T13:10:59.465957Z",
     "start_time": "2020-02-24T13:10:59.456957Z"
    }
   },
   "outputs": [
    {
     "data": {
      "text/html": [
       "<div>\n",
       "<style scoped>\n",
       "    .dataframe tbody tr th:only-of-type {\n",
       "        vertical-align: middle;\n",
       "    }\n",
       "\n",
       "    .dataframe tbody tr th {\n",
       "        vertical-align: top;\n",
       "    }\n",
       "\n",
       "    .dataframe thead th {\n",
       "        text-align: right;\n",
       "    }\n",
       "</style>\n",
       "<table border=\"1\" class=\"dataframe\">\n",
       "  <thead>\n",
       "    <tr style=\"text-align: right;\">\n",
       "      <th></th>\n",
       "      <th>importance</th>\n",
       "    </tr>\n",
       "  </thead>\n",
       "  <tbody>\n",
       "    <tr>\n",
       "      <th>psfMag_g-r</th>\n",
       "      <td>4672</td>\n",
       "    </tr>\n",
       "    <tr>\n",
       "      <th>modelMag_g-r</th>\n",
       "      <td>4519</td>\n",
       "    </tr>\n",
       "    <tr>\n",
       "      <th>fiberMag_g-r</th>\n",
       "      <td>4498</td>\n",
       "    </tr>\n",
       "    <tr>\n",
       "      <th>psfMag_u-g</th>\n",
       "      <td>4483</td>\n",
       "    </tr>\n",
       "    <tr>\n",
       "      <th>psfMag_i-z</th>\n",
       "      <td>4440</td>\n",
       "    </tr>\n",
       "    <tr>\n",
       "      <th>psfMag_i</th>\n",
       "      <td>4434</td>\n",
       "    </tr>\n",
       "    <tr>\n",
       "      <th>psfMag_r</th>\n",
       "      <td>4353</td>\n",
       "    </tr>\n",
       "    <tr>\n",
       "      <th>fiberMag_u-g</th>\n",
       "      <td>4304</td>\n",
       "    </tr>\n",
       "    <tr>\n",
       "      <th>modelMag_u-g</th>\n",
       "      <td>4245</td>\n",
       "    </tr>\n",
       "    <tr>\n",
       "      <th>fiberMag_i-z</th>\n",
       "      <td>4147</td>\n",
       "    </tr>\n",
       "  </tbody>\n",
       "</table>\n",
       "</div>"
      ],
      "text/plain": [
       "              importance\n",
       "psfMag_g-r          4672\n",
       "modelMag_g-r        4519\n",
       "fiberMag_g-r        4498\n",
       "psfMag_u-g          4483\n",
       "psfMag_i-z          4440\n",
       "psfMag_i            4434\n",
       "psfMag_r            4353\n",
       "fiberMag_u-g        4304\n",
       "modelMag_u-g        4245\n",
       "fiberMag_i-z        4147"
      ]
     },
     "execution_count": 35,
     "metadata": {},
     "output_type": "execute_result"
    }
   ],
   "source": [
    "pi_df = pd.DataFrame(lgmb_model.feature_importance(), index= train_X.columns,columns= ['importance']).sort_values('importance',ascending = False)\n",
    "pi_df.head(10)"
   ]
  },
  {
   "cell_type": "markdown",
   "metadata": {},
   "source": [
    "### 예측결과에 대해\n",
    "* 12번이 모두 6번으로 몰림\n",
    "중간예측 : 0(STAR_WHITE_DWARF-2160),2(STAR_BROWN_DWARF-500),7(SERENDIPITY_DISTANT-4654),11(ROSAT_D-6580)\n",
    "망한예측 : 12(STAR_PN-13),17(SERENDIPITY_MANUAL-61)"
   ]
  },
  {
   "cell_type": "code",
   "execution_count": 36,
   "metadata": {
    "ExecuteTime": {
     "end_time": "2020-02-24T13:11:00.698921Z",
     "start_time": "2020-02-24T13:11:00.627920Z"
    }
   },
   "outputs": [],
   "source": [
    "cm_result = pd.DataFrame(confusion_matrix(y_test,np.argmax(train_y_pred,axis = 1)))"
   ]
  },
  {
   "cell_type": "code",
   "execution_count": 37,
   "metadata": {
    "ExecuteTime": {
     "end_time": "2020-02-24T13:11:01.961880Z",
     "start_time": "2020-02-24T13:11:01.950885Z"
    }
   },
   "outputs": [
    {
     "data": {
      "text/plain": [
       "{0: 'STAR_WHITE_DWARF',\n",
       " 1: 'STAR_CATY_VAR',\n",
       " 2: 'STAR_BROWN_DWARF',\n",
       " 3: 'SERENDIPITY_RED',\n",
       " 4: 'REDDEN_STD',\n",
       " 5: 'STAR_BHB',\n",
       " 6: 'GALAXY',\n",
       " 7: 'SERENDIPITY_DISTANT',\n",
       " 8: 'QSO',\n",
       " 9: 'SKY',\n",
       " 10: 'STAR_RED_DWARF',\n",
       " 11: 'ROSAT_D',\n",
       " 12: 'STAR_PN',\n",
       " 13: 'SERENDIPITY_FIRST',\n",
       " 14: 'STAR_CARBON',\n",
       " 15: 'SPECTROPHOTO_STD',\n",
       " 16: 'STAR_SUB_DWARF',\n",
       " 17: 'SERENDIPITY_MANUAL',\n",
       " 18: 'SERENDIPITY_BLUE'}"
      ]
     },
     "execution_count": 37,
     "metadata": {},
     "output_type": "execute_result"
    }
   ],
   "source": [
    "number_columns"
   ]
  },
  {
   "cell_type": "code",
   "execution_count": 38,
   "metadata": {
    "ExecuteTime": {
     "end_time": "2020-02-24T13:11:03.211845Z",
     "start_time": "2020-02-24T13:11:03.162843Z"
    }
   },
   "outputs": [
    {
     "data": {
      "text/plain": [
       "QSO                    49643\n",
       "GALAXY                 37281\n",
       "SERENDIPITY_BLUE       21753\n",
       "SPECTROPHOTO_STD       14629\n",
       "REDDEN_STD             14615\n",
       "STAR_RED_DWARF         13748\n",
       "STAR_BHB               13493\n",
       "SERENDIPITY_FIRST       7126\n",
       "ROSAT_D                 6532\n",
       "STAR_CATY_VAR           6505\n",
       "SERENDIPITY_DISTANT     4652\n",
       "STAR_CARBON             3255\n",
       "SERENDIPITY_RED         2560\n",
       "STAR_WHITE_DWARF        2159\n",
       "SKY                     1154\n",
       "STAR_BROWN_DWARF        1154\n",
       "STAR_SUB_DWARF          1154\n",
       "STAR_PN                 1154\n",
       "SERENDIPITY_MANUAL      1154\n",
       "Name: type, dtype: int64"
      ]
     },
     "execution_count": 38,
     "metadata": {},
     "output_type": "execute_result"
    }
   ],
   "source": [
    "train_df.type.value_counts()"
   ]
  },
  {
   "cell_type": "code",
   "execution_count": 39,
   "metadata": {
    "ExecuteTime": {
     "end_time": "2020-02-24T13:11:04.446806Z",
     "start_time": "2020-02-24T13:11:04.422804Z"
    }
   },
   "outputs": [
    {
     "data": {
      "text/html": [
       "<div>\n",
       "<style scoped>\n",
       "    .dataframe tbody tr th:only-of-type {\n",
       "        vertical-align: middle;\n",
       "    }\n",
       "\n",
       "    .dataframe tbody tr th {\n",
       "        vertical-align: top;\n",
       "    }\n",
       "\n",
       "    .dataframe thead th {\n",
       "        text-align: right;\n",
       "    }\n",
       "</style>\n",
       "<table border=\"1\" class=\"dataframe\">\n",
       "  <thead>\n",
       "    <tr style=\"text-align: right;\">\n",
       "      <th></th>\n",
       "      <th>0</th>\n",
       "      <th>1</th>\n",
       "      <th>2</th>\n",
       "      <th>3</th>\n",
       "      <th>4</th>\n",
       "      <th>5</th>\n",
       "      <th>6</th>\n",
       "      <th>7</th>\n",
       "      <th>8</th>\n",
       "      <th>9</th>\n",
       "      <th>10</th>\n",
       "      <th>11</th>\n",
       "      <th>12</th>\n",
       "      <th>13</th>\n",
       "      <th>14</th>\n",
       "      <th>15</th>\n",
       "      <th>16</th>\n",
       "      <th>17</th>\n",
       "      <th>18</th>\n",
       "    </tr>\n",
       "  </thead>\n",
       "  <tbody>\n",
       "    <tr>\n",
       "      <th>0</th>\n",
       "      <td>292</td>\n",
       "      <td>0</td>\n",
       "      <td>0</td>\n",
       "      <td>0</td>\n",
       "      <td>17</td>\n",
       "      <td>45</td>\n",
       "      <td>2</td>\n",
       "      <td>136</td>\n",
       "      <td>60</td>\n",
       "      <td>0</td>\n",
       "      <td>0</td>\n",
       "      <td>25</td>\n",
       "      <td>2</td>\n",
       "      <td>0</td>\n",
       "      <td>25</td>\n",
       "      <td>6</td>\n",
       "      <td>0</td>\n",
       "      <td>0</td>\n",
       "      <td>38</td>\n",
       "    </tr>\n",
       "    <tr>\n",
       "      <th>1</th>\n",
       "      <td>1</td>\n",
       "      <td>1880</td>\n",
       "      <td>0</td>\n",
       "      <td>0</td>\n",
       "      <td>0</td>\n",
       "      <td>1</td>\n",
       "      <td>1</td>\n",
       "      <td>3</td>\n",
       "      <td>13</td>\n",
       "      <td>0</td>\n",
       "      <td>1</td>\n",
       "      <td>4</td>\n",
       "      <td>0</td>\n",
       "      <td>0</td>\n",
       "      <td>0</td>\n",
       "      <td>0</td>\n",
       "      <td>3</td>\n",
       "      <td>1</td>\n",
       "      <td>44</td>\n",
       "    </tr>\n",
       "    <tr>\n",
       "      <th>2</th>\n",
       "      <td>0</td>\n",
       "      <td>0</td>\n",
       "      <td>284</td>\n",
       "      <td>49</td>\n",
       "      <td>0</td>\n",
       "      <td>0</td>\n",
       "      <td>0</td>\n",
       "      <td>0</td>\n",
       "      <td>0</td>\n",
       "      <td>0</td>\n",
       "      <td>12</td>\n",
       "      <td>0</td>\n",
       "      <td>0</td>\n",
       "      <td>0</td>\n",
       "      <td>0</td>\n",
       "      <td>0</td>\n",
       "      <td>0</td>\n",
       "      <td>1</td>\n",
       "      <td>0</td>\n",
       "    </tr>\n",
       "    <tr>\n",
       "      <th>3</th>\n",
       "      <td>2</td>\n",
       "      <td>0</td>\n",
       "      <td>56</td>\n",
       "      <td>614</td>\n",
       "      <td>0</td>\n",
       "      <td>0</td>\n",
       "      <td>0</td>\n",
       "      <td>0</td>\n",
       "      <td>2</td>\n",
       "      <td>0</td>\n",
       "      <td>92</td>\n",
       "      <td>1</td>\n",
       "      <td>0</td>\n",
       "      <td>0</td>\n",
       "      <td>0</td>\n",
       "      <td>0</td>\n",
       "      <td>0</td>\n",
       "      <td>1</td>\n",
       "      <td>0</td>\n",
       "    </tr>\n",
       "    <tr>\n",
       "      <th>4</th>\n",
       "      <td>2</td>\n",
       "      <td>0</td>\n",
       "      <td>0</td>\n",
       "      <td>0</td>\n",
       "      <td>4238</td>\n",
       "      <td>28</td>\n",
       "      <td>0</td>\n",
       "      <td>0</td>\n",
       "      <td>17</td>\n",
       "      <td>0</td>\n",
       "      <td>0</td>\n",
       "      <td>8</td>\n",
       "      <td>0</td>\n",
       "      <td>0</td>\n",
       "      <td>0</td>\n",
       "      <td>92</td>\n",
       "      <td>0</td>\n",
       "      <td>0</td>\n",
       "      <td>0</td>\n",
       "    </tr>\n",
       "    <tr>\n",
       "      <th>5</th>\n",
       "      <td>23</td>\n",
       "      <td>0</td>\n",
       "      <td>0</td>\n",
       "      <td>0</td>\n",
       "      <td>144</td>\n",
       "      <td>3670</td>\n",
       "      <td>1</td>\n",
       "      <td>65</td>\n",
       "      <td>52</td>\n",
       "      <td>0</td>\n",
       "      <td>0</td>\n",
       "      <td>1</td>\n",
       "      <td>0</td>\n",
       "      <td>0</td>\n",
       "      <td>0</td>\n",
       "      <td>80</td>\n",
       "      <td>0</td>\n",
       "      <td>0</td>\n",
       "      <td>12</td>\n",
       "    </tr>\n",
       "    <tr>\n",
       "      <th>6</th>\n",
       "      <td>2</td>\n",
       "      <td>23</td>\n",
       "      <td>0</td>\n",
       "      <td>0</td>\n",
       "      <td>6</td>\n",
       "      <td>3</td>\n",
       "      <td>10930</td>\n",
       "      <td>1</td>\n",
       "      <td>72</td>\n",
       "      <td>4</td>\n",
       "      <td>0</td>\n",
       "      <td>50</td>\n",
       "      <td>1</td>\n",
       "      <td>74</td>\n",
       "      <td>7</td>\n",
       "      <td>9</td>\n",
       "      <td>0</td>\n",
       "      <td>1</td>\n",
       "      <td>1</td>\n",
       "    </tr>\n",
       "    <tr>\n",
       "      <th>7</th>\n",
       "      <td>194</td>\n",
       "      <td>0</td>\n",
       "      <td>0</td>\n",
       "      <td>0</td>\n",
       "      <td>0</td>\n",
       "      <td>185</td>\n",
       "      <td>0</td>\n",
       "      <td>706</td>\n",
       "      <td>34</td>\n",
       "      <td>0</td>\n",
       "      <td>0</td>\n",
       "      <td>3</td>\n",
       "      <td>1</td>\n",
       "      <td>0</td>\n",
       "      <td>0</td>\n",
       "      <td>0</td>\n",
       "      <td>0</td>\n",
       "      <td>3</td>\n",
       "      <td>270</td>\n",
       "    </tr>\n",
       "    <tr>\n",
       "      <th>8</th>\n",
       "      <td>17</td>\n",
       "      <td>6</td>\n",
       "      <td>2</td>\n",
       "      <td>3</td>\n",
       "      <td>28</td>\n",
       "      <td>254</td>\n",
       "      <td>93</td>\n",
       "      <td>31</td>\n",
       "      <td>12938</td>\n",
       "      <td>2</td>\n",
       "      <td>8</td>\n",
       "      <td>175</td>\n",
       "      <td>1</td>\n",
       "      <td>55</td>\n",
       "      <td>53</td>\n",
       "      <td>13</td>\n",
       "      <td>9</td>\n",
       "      <td>3</td>\n",
       "      <td>1202</td>\n",
       "    </tr>\n",
       "    <tr>\n",
       "      <th>9</th>\n",
       "      <td>0</td>\n",
       "      <td>0</td>\n",
       "      <td>0</td>\n",
       "      <td>0</td>\n",
       "      <td>0</td>\n",
       "      <td>0</td>\n",
       "      <td>0</td>\n",
       "      <td>0</td>\n",
       "      <td>3</td>\n",
       "      <td>343</td>\n",
       "      <td>0</td>\n",
       "      <td>0</td>\n",
       "      <td>0</td>\n",
       "      <td>0</td>\n",
       "      <td>0</td>\n",
       "      <td>0</td>\n",
       "      <td>0</td>\n",
       "      <td>0</td>\n",
       "      <td>0</td>\n",
       "    </tr>\n",
       "    <tr>\n",
       "      <th>10</th>\n",
       "      <td>0</td>\n",
       "      <td>0</td>\n",
       "      <td>6</td>\n",
       "      <td>98</td>\n",
       "      <td>0</td>\n",
       "      <td>0</td>\n",
       "      <td>0</td>\n",
       "      <td>0</td>\n",
       "      <td>0</td>\n",
       "      <td>0</td>\n",
       "      <td>4016</td>\n",
       "      <td>3</td>\n",
       "      <td>0</td>\n",
       "      <td>0</td>\n",
       "      <td>0</td>\n",
       "      <td>0</td>\n",
       "      <td>0</td>\n",
       "      <td>1</td>\n",
       "      <td>0</td>\n",
       "    </tr>\n",
       "    <tr>\n",
       "      <th>11</th>\n",
       "      <td>12</td>\n",
       "      <td>15</td>\n",
       "      <td>0</td>\n",
       "      <td>1</td>\n",
       "      <td>116</td>\n",
       "      <td>44</td>\n",
       "      <td>59</td>\n",
       "      <td>12</td>\n",
       "      <td>421</td>\n",
       "      <td>1</td>\n",
       "      <td>16</td>\n",
       "      <td>587</td>\n",
       "      <td>0</td>\n",
       "      <td>277</td>\n",
       "      <td>82</td>\n",
       "      <td>49</td>\n",
       "      <td>11</td>\n",
       "      <td>1</td>\n",
       "      <td>256</td>\n",
       "    </tr>\n",
       "    <tr>\n",
       "      <th>12</th>\n",
       "      <td>0</td>\n",
       "      <td>0</td>\n",
       "      <td>0</td>\n",
       "      <td>0</td>\n",
       "      <td>0</td>\n",
       "      <td>0</td>\n",
       "      <td>0</td>\n",
       "      <td>1</td>\n",
       "      <td>1</td>\n",
       "      <td>0</td>\n",
       "      <td>0</td>\n",
       "      <td>0</td>\n",
       "      <td>344</td>\n",
       "      <td>0</td>\n",
       "      <td>0</td>\n",
       "      <td>0</td>\n",
       "      <td>0</td>\n",
       "      <td>0</td>\n",
       "      <td>0</td>\n",
       "    </tr>\n",
       "    <tr>\n",
       "      <th>13</th>\n",
       "      <td>0</td>\n",
       "      <td>0</td>\n",
       "      <td>0</td>\n",
       "      <td>0</td>\n",
       "      <td>1</td>\n",
       "      <td>4</td>\n",
       "      <td>168</td>\n",
       "      <td>2</td>\n",
       "      <td>322</td>\n",
       "      <td>0</td>\n",
       "      <td>1</td>\n",
       "      <td>119</td>\n",
       "      <td>1</td>\n",
       "      <td>1286</td>\n",
       "      <td>1</td>\n",
       "      <td>0</td>\n",
       "      <td>0</td>\n",
       "      <td>5</td>\n",
       "      <td>228</td>\n",
       "    </tr>\n",
       "    <tr>\n",
       "      <th>14</th>\n",
       "      <td>3</td>\n",
       "      <td>0</td>\n",
       "      <td>0</td>\n",
       "      <td>0</td>\n",
       "      <td>0</td>\n",
       "      <td>0</td>\n",
       "      <td>4</td>\n",
       "      <td>0</td>\n",
       "      <td>12</td>\n",
       "      <td>0</td>\n",
       "      <td>0</td>\n",
       "      <td>25</td>\n",
       "      <td>0</td>\n",
       "      <td>1</td>\n",
       "      <td>930</td>\n",
       "      <td>0</td>\n",
       "      <td>1</td>\n",
       "      <td>0</td>\n",
       "      <td>0</td>\n",
       "    </tr>\n",
       "    <tr>\n",
       "      <th>15</th>\n",
       "      <td>0</td>\n",
       "      <td>0</td>\n",
       "      <td>0</td>\n",
       "      <td>0</td>\n",
       "      <td>85</td>\n",
       "      <td>31</td>\n",
       "      <td>3</td>\n",
       "      <td>0</td>\n",
       "      <td>1</td>\n",
       "      <td>0</td>\n",
       "      <td>0</td>\n",
       "      <td>5</td>\n",
       "      <td>0</td>\n",
       "      <td>0</td>\n",
       "      <td>0</td>\n",
       "      <td>4264</td>\n",
       "      <td>0</td>\n",
       "      <td>0</td>\n",
       "      <td>0</td>\n",
       "    </tr>\n",
       "    <tr>\n",
       "      <th>16</th>\n",
       "      <td>0</td>\n",
       "      <td>10</td>\n",
       "      <td>0</td>\n",
       "      <td>0</td>\n",
       "      <td>0</td>\n",
       "      <td>0</td>\n",
       "      <td>0</td>\n",
       "      <td>0</td>\n",
       "      <td>2</td>\n",
       "      <td>0</td>\n",
       "      <td>1</td>\n",
       "      <td>9</td>\n",
       "      <td>0</td>\n",
       "      <td>0</td>\n",
       "      <td>0</td>\n",
       "      <td>0</td>\n",
       "      <td>324</td>\n",
       "      <td>0</td>\n",
       "      <td>0</td>\n",
       "    </tr>\n",
       "    <tr>\n",
       "      <th>17</th>\n",
       "      <td>2</td>\n",
       "      <td>1</td>\n",
       "      <td>0</td>\n",
       "      <td>9</td>\n",
       "      <td>0</td>\n",
       "      <td>1</td>\n",
       "      <td>3</td>\n",
       "      <td>7</td>\n",
       "      <td>21</td>\n",
       "      <td>0</td>\n",
       "      <td>15</td>\n",
       "      <td>13</td>\n",
       "      <td>0</td>\n",
       "      <td>18</td>\n",
       "      <td>0</td>\n",
       "      <td>0</td>\n",
       "      <td>0</td>\n",
       "      <td>239</td>\n",
       "      <td>17</td>\n",
       "    </tr>\n",
       "    <tr>\n",
       "      <th>18</th>\n",
       "      <td>91</td>\n",
       "      <td>5</td>\n",
       "      <td>0</td>\n",
       "      <td>0</td>\n",
       "      <td>0</td>\n",
       "      <td>93</td>\n",
       "      <td>1</td>\n",
       "      <td>376</td>\n",
       "      <td>511</td>\n",
       "      <td>0</td>\n",
       "      <td>0</td>\n",
       "      <td>14</td>\n",
       "      <td>0</td>\n",
       "      <td>0</td>\n",
       "      <td>0</td>\n",
       "      <td>0</td>\n",
       "      <td>0</td>\n",
       "      <td>1</td>\n",
       "      <td>5434</td>\n",
       "    </tr>\n",
       "  </tbody>\n",
       "</table>\n",
       "</div>"
      ],
      "text/plain": [
       "     0     1    2    3     4     5      6    7      8    9     10   11   12  \\\n",
       "0   292     0    0    0    17    45      2  136     60    0     0   25    2   \n",
       "1     1  1880    0    0     0     1      1    3     13    0     1    4    0   \n",
       "2     0     0  284   49     0     0      0    0      0    0    12    0    0   \n",
       "3     2     0   56  614     0     0      0    0      2    0    92    1    0   \n",
       "4     2     0    0    0  4238    28      0    0     17    0     0    8    0   \n",
       "5    23     0    0    0   144  3670      1   65     52    0     0    1    0   \n",
       "6     2    23    0    0     6     3  10930    1     72    4     0   50    1   \n",
       "7   194     0    0    0     0   185      0  706     34    0     0    3    1   \n",
       "8    17     6    2    3    28   254     93   31  12938    2     8  175    1   \n",
       "9     0     0    0    0     0     0      0    0      3  343     0    0    0   \n",
       "10    0     0    6   98     0     0      0    0      0    0  4016    3    0   \n",
       "11   12    15    0    1   116    44     59   12    421    1    16  587    0   \n",
       "12    0     0    0    0     0     0      0    1      1    0     0    0  344   \n",
       "13    0     0    0    0     1     4    168    2    322    0     1  119    1   \n",
       "14    3     0    0    0     0     0      4    0     12    0     0   25    0   \n",
       "15    0     0    0    0    85    31      3    0      1    0     0    5    0   \n",
       "16    0    10    0    0     0     0      0    0      2    0     1    9    0   \n",
       "17    2     1    0    9     0     1      3    7     21    0    15   13    0   \n",
       "18   91     5    0    0     0    93      1  376    511    0     0   14    0   \n",
       "\n",
       "      13   14    15   16   17    18  \n",
       "0      0   25     6    0    0    38  \n",
       "1      0    0     0    3    1    44  \n",
       "2      0    0     0    0    1     0  \n",
       "3      0    0     0    0    1     0  \n",
       "4      0    0    92    0    0     0  \n",
       "5      0    0    80    0    0    12  \n",
       "6     74    7     9    0    1     1  \n",
       "7      0    0     0    0    3   270  \n",
       "8     55   53    13    9    3  1202  \n",
       "9      0    0     0    0    0     0  \n",
       "10     0    0     0    0    1     0  \n",
       "11   277   82    49   11    1   256  \n",
       "12     0    0     0    0    0     0  \n",
       "13  1286    1     0    0    5   228  \n",
       "14     1  930     0    1    0     0  \n",
       "15     0    0  4264    0    0     0  \n",
       "16     0    0     0  324    0     0  \n",
       "17    18    0     0    0  239    17  \n",
       "18     0    0     0    0    1  5434  "
      ]
     },
     "execution_count": 39,
     "metadata": {},
     "output_type": "execute_result"
    }
   ],
   "source": [
    "cm_result"
   ]
  },
  {
   "cell_type": "code",
   "execution_count": 40,
   "metadata": {
    "ExecuteTime": {
     "end_time": "2020-02-24T13:11:07.493709Z",
     "start_time": "2020-02-24T13:11:05.659766Z"
    },
    "scrolled": false
   },
   "outputs": [
    {
     "data": {
      "image/png": "[encoded data removed]",
      "text/plain": [
       "<Figure size 1080x1080 with 2 Axes>"
      ]
     },
     "metadata": {},
     "output_type": "display_data"
    }
   ],
   "source": [
    "plt.figure(figsize =(15,15))\n",
    "sns.heatmap(cm_result/np.sum(cm_result),annot = True, cmap ='RdYlGn',fmt='.1%')\n",
    "plt.ylabel(\"real\",fontsize=20)\n",
    "plt.xlabel(\"predict\",fontsize=20)\n",
    "plt.show()"
   ]
  },
  {
   "cell_type": "markdown",
   "metadata": {},
   "source": [
    "# REAL"
   ]
  },
  {
   "cell_type": "code",
   "execution_count": 53,
   "metadata": {
    "ExecuteTime": {
     "end_time": "2020-02-22T04:24:36.315001Z",
     "start_time": "2020-02-22T04:24:36.312001Z"
    }
   },
   "outputs": [],
   "source": [
    "train_ds = lgb.Dataset(train_X, label = train_y)"
   ]
  },
  {
   "cell_type": "code",
   "execution_count": 54,
   "metadata": {
    "ExecuteTime": {
     "end_time": "2020-02-22T04:43:10.180671Z",
     "start_time": "2020-02-22T04:24:37.006985Z"
    }
   },
   "outputs": [],
   "source": [
    "lgmb_model = lgb.train(params, train_ds,num_boost_round= 2000, verbose_eval=100)"
   ]
  },
  {
   "cell_type": "code",
   "execution_count": 58,
   "metadata": {
    "ExecuteTime": {
     "end_time": "2020-02-22T05:01:20.303215Z",
     "start_time": "2020-02-22T04:45:29.825938Z"
    }
   },
   "outputs": [],
   "source": [
    "train_y_pred = lgmb_model.predict(train_X)"
   ]
  },
  {
   "cell_type": "code",
   "execution_count": 55,
   "metadata": {
    "ExecuteTime": {
     "end_time": "2020-02-22T04:44:00.321978Z",
     "start_time": "2020-02-22T04:43:10.773432Z"
    }
   },
   "outputs": [],
   "source": [
    "y_pred = lgmb_model.predict(test_X)"
   ]
  },
  {
   "cell_type": "code",
   "execution_count": 56,
   "metadata": {
    "ExecuteTime": {
     "end_time": "2020-02-22T04:44:00.856957Z",
     "start_time": "2020-02-22T04:44:00.852957Z"
    }
   },
   "outputs": [
    {
     "data": {
      "text/plain": [
       "array([[7.75352905e-08, 2.04337802e-09, 8.80555199e-08, ...,\n",
       "        2.11017374e-11, 4.79872924e-06, 8.15108115e-07],\n",
       "       [2.51551946e-07, 3.28640225e-09, 5.93130507e-12, ...,\n",
       "        1.13039935e-12, 6.99342332e-08, 1.17483804e-05],\n",
       "       [5.86530156e-07, 6.05323749e-07, 1.01369548e-10, ...,\n",
       "        1.20643657e-13, 2.69449961e-07, 8.73648702e-07],\n",
       "       ...,\n",
       "       [1.03809095e-05, 3.89636624e-06, 1.35536943e-11, ...,\n",
       "        5.64255703e-12, 4.28368326e-08, 6.57230913e-02],\n",
       "       [3.67830715e-08, 8.38926875e-10, 2.31616043e-12, ...,\n",
       "        5.50590290e-13, 1.73811230e-09, 2.54733375e-04],\n",
       "       [8.42248612e-06, 5.04463750e-11, 3.21133107e-12, ...,\n",
       "        6.64575761e-14, 2.91624900e-10, 5.19790721e-07]])"
      ]
     },
     "execution_count": 56,
     "metadata": {},
     "output_type": "execute_result"
    }
   ],
   "source": [
    "y_pred"
   ]
  },
  {
   "cell_type": "code",
   "execution_count": 57,
   "metadata": {
    "ExecuteTime": {
     "end_time": "2020-02-22T04:44:01.733000Z",
     "start_time": "2020-02-22T04:44:01.345941Z"
    }
   },
   "outputs": [],
   "source": [
    "submission = pd.DataFrame(data=y_pred, columns=sample_submission_df.columns, index=sample_submission_df.index)\n",
    "submission.to_csv('./submisson/submission.csv', index=True)"
   ]
  },
  {
   "cell_type": "code",
   "execution_count": null,
   "metadata": {},
   "outputs": [],
   "source": []
  }
 ],
 "metadata": {
  "kernelspec": {
   "display_name": "Python 3",
   "language": "python",
   "name": "python3"
  },
  "language_info": {
   "codemirror_mode": {
    "name": "ipython",
    "version": 3
   },
   "file_extension": ".py",
   "mimetype": "text/x-python",
   "name": "python",
   "nbconvert_exporter": "python",
   "pygments_lexer": "ipython3",
   "version": "3.6.5"
  },
  "varInspector": {
   "cols": {
    "lenName": 16,
    "lenType": 16,
    "lenVar": 40
   },
   "kernels_config": {
    "python": {
     "delete_cmd_postfix": "",
     "delete_cmd_prefix": "del ",
     "library": "var_list.py",
     "varRefreshCmd": "print(var_dic_list())"
    },
    "r": {
     "delete_cmd_postfix": ") ",
     "delete_cmd_prefix": "rm(",
     "library": "var_list.r",
     "varRefreshCmd": "cat(var_dic_list()) "
    }
   },
   "types_to_exclude": [
    "module",
    "function",
    "builtin_function_or_method",
    "instance",
    "_Feature"
   ],
   "window_display": false
  }
 },
 "nbformat": 4,
 "nbformat_minor": 2
}
