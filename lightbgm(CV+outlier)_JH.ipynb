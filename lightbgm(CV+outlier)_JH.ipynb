{
 "cells": [
  {
   "cell_type": "markdown",
   "metadata": {},
   "source": [
    "# out_fiberID\n",
    "* 기존변수 + u-g,g-r,r-i,i-z만 추가변수로 사용\n",
    "* fiber_ID를 제외하고 진행해봄\n",
    "* 제출결과 : 0.3793087274 \n",
    "-> fiberID를 제외해서 0.02상승"
   ]
  },
  {
   "cell_type": "code",
   "execution_count": 1,
   "metadata": {
    "ExecuteTime": {
     "end_time": "2020-02-23T07:32:34.384426Z",
     "start_time": "2020-02-23T07:32:31.626853Z"
    }
   },
   "outputs": [],
   "source": [
    "import pandas as pd\n",
    "import numpy as np\n",
    "import matplotlib.pyplot as plt\n",
    "import seaborn as sns\n",
    "\n",
    "from sklearn.ensemble import RandomForestClassifier\n",
    "from sklearn.model_selection import train_test_split\n",
    "from sklearn.metrics import confusion_matrix\n",
    "from sklearn.metrics import log_loss\n",
    "\n",
    "\n",
    "import lightgbm as lgb\n",
    "from sklearn.model_selection import KFold, StratifiedKFold, RandomizedSearchCV, GridSearchCV"
   ]
  },
  {
   "cell_type": "code",
   "execution_count": 2,
   "metadata": {
    "ExecuteTime": {
     "end_time": "2020-02-23T07:32:34.400429Z",
     "start_time": "2020-02-23T07:32:34.397414Z"
    }
   },
   "outputs": [],
   "source": [
    "# from google.colab import drive\n",
    "# drive.mount('/content/drive')"
   ]
  },
  {
   "cell_type": "code",
   "execution_count": 3,
   "metadata": {
    "ExecuteTime": {
     "end_time": "2020-02-23T07:32:34.429422Z",
     "start_time": "2020-02-23T07:32:34.412429Z"
    }
   },
   "outputs": [],
   "source": [
    "# #colab용\n",
    "# import os\n",
    "# os.chdir('/content/drive/My Drive/Colab Notebooks/Dacon/천체관측/')"
   ]
  },
  {
   "cell_type": "code",
   "execution_count": 4,
   "metadata": {
    "ExecuteTime": {
     "end_time": "2020-02-23T07:32:35.830695Z",
     "start_time": "2020-02-23T07:32:34.443412Z"
    }
   },
   "outputs": [],
   "source": [
    "# path = \"/content/drive/My Drive/Colab Notebooks/Dacon/천체관측/data/\" #colab\n",
    "path = \"./data/\" #local\n",
    "train_df = pd.read_csv(path+'train.csv',index_col=0)\n",
    "test_df = pd.read_csv(path+'test.csv',index_col=0)\n",
    "sample_submission_df = pd.read_csv(path+'sample_submission.csv',index_col=0)\n",
    "pd.options.display.max_columns = 30"
   ]
  },
  {
   "cell_type": "code",
   "execution_count": 5,
   "metadata": {
    "ExecuteTime": {
     "end_time": "2020-02-23T07:32:35.952665Z",
     "start_time": "2020-02-23T07:32:35.947665Z"
    }
   },
   "outputs": [
    {
     "data": {
      "text/plain": [
       "((199991, 22), (10009, 21))"
      ]
     },
     "execution_count": 5,
     "metadata": {},
     "output_type": "execute_result"
    }
   ],
   "source": [
    "train_df.shape, test_df.shape"
   ]
  },
  {
   "cell_type": "markdown",
   "metadata": {},
   "source": [
    "## DATA Setting"
   ]
  },
  {
   "cell_type": "code",
   "execution_count": 6,
   "metadata": {
    "ExecuteTime": {
     "end_time": "2020-02-23T07:32:36.072661Z",
     "start_time": "2020-02-23T07:32:36.068679Z"
    }
   },
   "outputs": [],
   "source": [
    "def del_outlier(data, min=0, max=60):\n",
    "    up_idx_t=()\n",
    "    dw_idx_t=()\n",
    "    train_light = data.iloc[:,2:]\n",
    "    for i in range(len(train_light.columns)):\n",
    "        col = train_light.columns[i]\n",
    "        up_idx_t+=tuple(data[data[col]>max].index)\n",
    "        dw_idx_t+=tuple(data[data[col]<min].index)\n",
    "    del_idx = set(up_idx_t+dw_idx_t)\n",
    "    \n",
    "    return data[~data.index.isin(del_idx)]"
   ]
  },
  {
   "cell_type": "code",
   "execution_count": 7,
   "metadata": {
    "ExecuteTime": {
     "end_time": "2020-02-23T07:32:36.270669Z",
     "start_time": "2020-02-23T07:32:36.189657Z"
    }
   },
   "outputs": [],
   "source": [
    "train_df = del_outlier(train_df, min=-60, max=60)"
   ]
  },
  {
   "cell_type": "code",
   "execution_count": 8,
   "metadata": {
    "ExecuteTime": {
     "end_time": "2020-02-23T07:32:36.398661Z",
     "start_time": "2020-02-23T07:32:36.393653Z"
    }
   },
   "outputs": [
    {
     "data": {
      "text/plain": [
       "(199805, 22)"
      ]
     },
     "execution_count": 8,
     "metadata": {},
     "output_type": "execute_result"
    }
   ],
   "source": [
    "train_df.shape"
   ]
  },
  {
   "cell_type": "code",
   "execution_count": 9,
   "metadata": {
    "ExecuteTime": {
     "end_time": "2020-02-23T07:32:36.638670Z",
     "start_time": "2020-02-23T07:32:36.513651Z"
    }
   },
   "outputs": [],
   "source": [
    "column_number = {}\n",
    "number_columns = {}\n",
    "for i, column in enumerate(sample_submission_df.columns):\n",
    "    column_number[column] = i\n",
    "    number_columns[i] = column\n",
    "    \n",
    "    \n",
    "def to_number(x, dic):\n",
    "    return dic[x]\n",
    "\n",
    "train_df['type_num'] = train_df['type'].apply(lambda x: to_number(x, column_number))\n"
   ]
  },
  {
   "cell_type": "code",
   "execution_count": 10,
   "metadata": {
    "ExecuteTime": {
     "end_time": "2020-02-23T07:32:36.757640Z",
     "start_time": "2020-02-23T07:32:36.752640Z"
    }
   },
   "outputs": [],
   "source": [
    "def add_minus_feature_all(data,test = False):\n",
    "    '''\n",
    "    combination으로 모든 변수들의 조합에 대해서 컬럼생성 \n",
    "    각 mag에서 가장 높은값의 filter를 받아오는 \"~~mag_MAX\"생성\n",
    "    결과 64개로 증가\n",
    "    '''\n",
    "    from itertools import combinations\n",
    "    n = 0\n",
    "    for count in range(5,21,5):\n",
    "        s = 2\n",
    "        if test == True :\n",
    "            s = 1\n",
    "        selected = data.columns[s:].values[n:count]\n",
    "        mag = str.split(selected[0],'_')[0]\n",
    "#         data[mag+\"_MAX\"] = data[selected].apply(lambda x : str.split(np.argmax(x),'_')[1],axis = 1)\n",
    "        for combi in list(combinations(selected,2)):\n",
    "            name_1st = str.split(combi[0],'_')[1]\n",
    "            name_2nd = str.split(combi[1],'_')[1]\n",
    "            data[mag+\"_\"+name_1st+\"-\"+name_2nd] = data[combi[0]]-data[combi[1]]\n",
    "        n=count\n",
    "    return data"
   ]
  },
  {
   "cell_type": "code",
   "execution_count": 11,
   "metadata": {
    "ExecuteTime": {
     "end_time": "2020-02-23T07:32:36.881651Z",
     "start_time": "2020-02-23T07:32:36.876640Z"
    }
   },
   "outputs": [],
   "source": [
    "def add_minus_feature(data,test = False):\n",
    "    '''\n",
    "    근접변수에 대해서만 컬럼생성 ex) 'fiberMag_u-g', 'fiberMag_g-r', 'fiberMag_r-i', 'fiberMag_i-z'\n",
    "    각 mag에서 가장 높은값의 filter를 받아오는 \"~~mag_MAX\"생성\n",
    "    결과 38개로 증가 \n",
    "    '''\n",
    "    from itertools import combinations\n",
    "    n = 0\n",
    "    m = 0\n",
    "    for count in range(5,21,5):\n",
    "        s = 2\n",
    "        if test == True :\n",
    "            s = 1\n",
    "        selected = data.columns[s:].values[n:count]\n",
    "        mag = str.split(selected[0],'_')[0]\n",
    "#         data[mag+\"_MAX\"] = data[selected].apply(lambda x : str.split(np.argmax(x),'_')[1],axis = 1)\n",
    "        for i in range(0,len(selected)):        \n",
    "            if i>0: \n",
    "                name_1st = str.split(m,'_')[1]\n",
    "                name_2nd = str.split(selected[i],'_')[1]\n",
    "                data[mag+\"_\"+name_1st+\"-\"+name_2nd] = data[m]-data[selected[i]]\n",
    "            m = selected[i]    \n",
    "        n=count\n",
    "    return data"
   ]
  },
  {
   "cell_type": "code",
   "execution_count": 12,
   "metadata": {
    "ExecuteTime": {
     "end_time": "2020-02-23T07:32:37.189431Z",
     "start_time": "2020-02-23T07:32:37.003632Z"
    }
   },
   "outputs": [],
   "source": [
    "train_df = add_minus_feature_all(train_df)\n",
    "test_df = add_minus_feature_all(test_df,True)"
   ]
  },
  {
   "cell_type": "code",
   "execution_count": 13,
   "metadata": {
    "ExecuteTime": {
     "end_time": "2020-02-23T07:32:37.540421Z",
     "start_time": "2020-02-23T07:32:37.535420Z"
    }
   },
   "outputs": [
    {
     "data": {
      "text/plain": [
       "((199805, 63), (10009, 61))"
      ]
     },
     "execution_count": 13,
     "metadata": {},
     "output_type": "execute_result"
    }
   ],
   "source": [
    "train_df.shape,test_df.shape"
   ]
  },
  {
   "cell_type": "code",
   "execution_count": 14,
   "metadata": {
    "ExecuteTime": {
     "end_time": "2020-02-23T07:32:37.884423Z",
     "start_time": "2020-02-23T07:32:37.879409Z"
    }
   },
   "outputs": [
    {
     "data": {
      "text/plain": [
       "Index(['type', 'fiberID', 'psfMag_u', 'psfMag_g', 'psfMag_r', 'psfMag_i',\n",
       "       'psfMag_z', 'fiberMag_u', 'fiberMag_g', 'fiberMag_r', 'fiberMag_i',\n",
       "       'fiberMag_z', 'petroMag_u', 'petroMag_g', 'petroMag_r', 'petroMag_i',\n",
       "       'petroMag_z', 'modelMag_u', 'modelMag_g', 'modelMag_r', 'modelMag_i',\n",
       "       'modelMag_z', 'type_num', 'psfMag_u-g', 'psfMag_u-r', 'psfMag_u-i',\n",
       "       'psfMag_u-z', 'psfMag_g-r', 'psfMag_g-i', 'psfMag_g-z', 'psfMag_r-i',\n",
       "       'psfMag_r-z', 'psfMag_i-z', 'fiberMag_u-g', 'fiberMag_u-r',\n",
       "       'fiberMag_u-i', 'fiberMag_u-z', 'fiberMag_g-r', 'fiberMag_g-i',\n",
       "       'fiberMag_g-z', 'fiberMag_r-i', 'fiberMag_r-z', 'fiberMag_i-z',\n",
       "       'petroMag_u-g', 'petroMag_u-r', 'petroMag_u-i', 'petroMag_u-z',\n",
       "       'petroMag_g-r', 'petroMag_g-i', 'petroMag_g-z', 'petroMag_r-i',\n",
       "       'petroMag_r-z', 'petroMag_i-z', 'modelMag_u-g', 'modelMag_u-r',\n",
       "       'modelMag_u-i', 'modelMag_u-z', 'modelMag_g-r', 'modelMag_g-i',\n",
       "       'modelMag_g-z', 'modelMag_r-i', 'modelMag_r-z', 'modelMag_i-z'],\n",
       "      dtype='object')"
      ]
     },
     "execution_count": 14,
     "metadata": {},
     "output_type": "execute_result"
    }
   ],
   "source": [
    "train_df.columns"
   ]
  },
  {
   "cell_type": "markdown",
   "metadata": {},
   "source": [
    "### CV"
   ]
  },
  {
   "cell_type": "code",
   "execution_count": 52,
   "metadata": {
    "ExecuteTime": {
     "end_time": "2020-02-23T13:39:24.389108Z",
     "start_time": "2020-02-23T13:39:24.312109Z"
    }
   },
   "outputs": [],
   "source": [
    "X = train_df.drop(columns=['type', 'type_num','fiberID'], axis=1)\n",
    "y = train_df['type_num']\n",
    "test_X = test_df.drop(columns = ['fiberID'])"
   ]
  },
  {
   "cell_type": "code",
   "execution_count": 53,
   "metadata": {
    "ExecuteTime": {
     "end_time": "2020-02-23T13:39:25.067091Z",
     "start_time": "2020-02-23T13:39:25.060087Z"
    }
   },
   "outputs": [],
   "source": [
    "folds = 3\n",
    "Fold = StratifiedKFold(n_splits=folds, shuffle=True,random_state=42)\n",
    "kfold =KFold(n_splits=folds, shuffle=True,random_state=42)"
   ]
  },
  {
   "cell_type": "code",
   "execution_count": 57,
   "metadata": {
    "ExecuteTime": {
     "end_time": "2020-02-23T13:41:47.562736Z",
     "start_time": "2020-02-23T13:41:47.553735Z"
    }
   },
   "outputs": [
    {
     "data": {
      "text/plain": [
       "9"
      ]
     },
     "execution_count": 57,
     "metadata": {},
     "output_type": "execute_result"
    }
   ],
   "source": [
    "2^11"
   ]
  },
  {
   "cell_type": "code",
   "execution_count": 54,
   "metadata": {
    "ExecuteTime": {
     "end_time": "2020-02-23T13:39:25.732067Z",
     "start_time": "2020-02-23T13:39:25.727066Z"
    }
   },
   "outputs": [],
   "source": [
    "params = {\"max_depth\" : (7,8,9,10),\n",
    "         \"learning_rate\": (0.01,0.05, 0.1),\n",
    "         \"num_leaves\": (127,255,511,1023),\n",
    "         \"min_child_samples\": (30,40,50),\n",
    "         \"lambda_l1\": (0,3,5,7,9),\n",
    "         \"lambda_l2\": (0,3,5,7,9)}"
   ]
  },
  {
   "cell_type": "code",
   "execution_count": 55,
   "metadata": {
    "ExecuteTime": {
     "end_time": "2020-02-23T13:39:26.377048Z",
     "start_time": "2020-02-23T13:39:26.369046Z"
    }
   },
   "outputs": [],
   "source": [
    "defaut_lgbmc = lgb.LGBMClassifier(n_estimators=2000,random_state=1029,objective =\"multiclass\",class_weight = 'balanced')"
   ]
  },
  {
   "cell_type": "code",
   "execution_count": 56,
   "metadata": {
    "ExecuteTime": {
     "end_time": "2020-02-23T13:39:27.007027Z",
     "start_time": "2020-02-23T13:39:27.003027Z"
    }
   },
   "outputs": [],
   "source": [
    "random_search  = RandomizedSearchCV(defaut_lgbmc,param_distributions=params, cv=5, verbose =100 ,n_iter = 10)"
   ]
  },
  {
   "cell_type": "code",
   "execution_count": 43,
   "metadata": {
    "ExecuteTime": {
     "end_time": "2020-02-23T12:01:49.563764Z",
     "start_time": "2020-02-23T08:19:27.003356Z"
    },
    "scrolled": false
   },
   "outputs": [
    {
     "name": "stdout",
     "output_type": "stream",
     "text": [
      "0 start\n",
      "Fitting 2 folds for each of 2 candidates, totalling 4 fits\n",
      "[Parallel(n_jobs=1)]: Using backend SequentialBackend with 1 concurrent workers.\n",
      "[CV] num_leaves=1023, min_child_samples=30, max_depth=7, learning_rate=0.1, lambda_l2=5, lambda_l1=5 \n",
      "Training until validation scores don't improve for 100 rounds\n",
      "[100]\ttrain's multi_logloss: 0.418105\tval's multi_logloss: 0.422927\n",
      "[200]\ttrain's multi_logloss: 0.361815\tval's multi_logloss: 0.366202\n",
      "[300]\ttrain's multi_logloss: 0.3333\tval's multi_logloss: 0.337554\n",
      "[400]\ttrain's multi_logloss: 0.316688\tval's multi_logloss: 0.320975\n",
      "[500]\ttrain's multi_logloss: 0.305841\tval's multi_logloss: 0.310139\n",
      "[600]\ttrain's multi_logloss: 0.298565\tval's multi_logloss: 0.302898\n",
      "[700]\ttrain's multi_logloss: 0.293548\tval's multi_logloss: 0.297803\n",
      "[800]\ttrain's multi_logloss: 0.289792\tval's multi_logloss: 0.293963\n",
      "[900]\ttrain's multi_logloss: 0.2872\tval's multi_logloss: 0.291397\n",
      "[1000]\ttrain's multi_logloss: 0.285606\tval's multi_logloss: 0.289797\n",
      "[1100]\ttrain's multi_logloss: 0.284753\tval's multi_logloss: 0.288928\n",
      "[1200]\ttrain's multi_logloss: 0.284249\tval's multi_logloss: 0.28839\n",
      "[1300]\ttrain's multi_logloss: 0.284236\tval's multi_logloss: 0.288373\n",
      "Early stopping, best iteration is:\n",
      "[1207]\ttrain's multi_logloss: 0.284235\tval's multi_logloss: 0.288372\n",
      "[CV]  num_leaves=1023, min_child_samples=30, max_depth=7, learning_rate=0.1, lambda_l2=5, lambda_l1=5, score=0.861, total= 5.6min\n",
      "[Parallel(n_jobs=1)]: Done   1 out of   1 | elapsed:  5.6min remaining:    0.0s\n",
      "[CV] num_leaves=1023, min_child_samples=30, max_depth=7, learning_rate=0.1, lambda_l2=5, lambda_l1=5 \n",
      "Training until validation scores don't improve for 100 rounds\n",
      "[100]\ttrain's multi_logloss: 0.418555\tval's multi_logloss: 0.421279\n",
      "[200]\ttrain's multi_logloss: 0.364273\tval's multi_logloss: 0.365768\n",
      "[300]\ttrain's multi_logloss: 0.335248\tval's multi_logloss: 0.33664\n",
      "[400]\ttrain's multi_logloss: 0.317625\tval's multi_logloss: 0.318534\n",
      "[500]\ttrain's multi_logloss: 0.306207\tval's multi_logloss: 0.307017\n",
      "[600]\ttrain's multi_logloss: 0.298546\tval's multi_logloss: 0.299379\n",
      "[700]\ttrain's multi_logloss: 0.293095\tval's multi_logloss: 0.293903\n",
      "[800]\ttrain's multi_logloss: 0.289099\tval's multi_logloss: 0.289806\n",
      "[900]\ttrain's multi_logloss: 0.286281\tval's multi_logloss: 0.286966\n",
      "[1000]\ttrain's multi_logloss: 0.284277\tval's multi_logloss: 0.284877\n",
      "[1100]\ttrain's multi_logloss: 0.282907\tval's multi_logloss: 0.283406\n",
      "[1200]\ttrain's multi_logloss: 0.281645\tval's multi_logloss: 0.282064\n",
      "[1300]\ttrain's multi_logloss: 0.281217\tval's multi_logloss: 0.281637\n",
      "Early stopping, best iteration is:\n",
      "[1271]\ttrain's multi_logloss: 0.281217\tval's multi_logloss: 0.281637\n",
      "[CV]  num_leaves=1023, min_child_samples=30, max_depth=7, learning_rate=0.1, lambda_l2=5, lambda_l1=5, score=0.862, total= 5.9min\n",
      "[Parallel(n_jobs=1)]: Done   2 out of   2 | elapsed: 11.6min remaining:    0.0s\n",
      "[CV] num_leaves=255, min_child_samples=40, max_depth=10, learning_rate=0.01, lambda_l2=3, lambda_l1=9 \n",
      "Training until validation scores don't improve for 100 rounds\n",
      "[100]\ttrain's multi_logloss: 1.14288\tval's multi_logloss: 1.14656\n",
      "[200]\ttrain's multi_logloss: 0.744571\tval's multi_logloss: 0.749295\n",
      "[300]\ttrain's multi_logloss: 0.588128\tval's multi_logloss: 0.593283\n",
      "[400]\ttrain's multi_logloss: 0.516112\tval's multi_logloss: 0.521308\n",
      "[500]\ttrain's multi_logloss: 0.476838\tval's multi_logloss: 0.481997\n",
      "[600]\ttrain's multi_logloss: 0.45228\tval's multi_logloss: 0.457342\n",
      "[700]\ttrain's multi_logloss: 0.434929\tval's multi_logloss: 0.439911\n",
      "[800]\ttrain's multi_logloss: 0.422272\tval's multi_logloss: 0.427324\n",
      "[900]\ttrain's multi_logloss: 0.412101\tval's multi_logloss: 0.41737\n",
      "[1000]\ttrain's multi_logloss: 0.40355\tval's multi_logloss: 0.408835\n",
      "[1100]\ttrain's multi_logloss: 0.396057\tval's multi_logloss: 0.40149\n",
      "[1200]\ttrain's multi_logloss: 0.389651\tval's multi_logloss: 0.395163\n",
      "[1300]\ttrain's multi_logloss: 0.384176\tval's multi_logloss: 0.389794\n",
      "[1400]\ttrain's multi_logloss: 0.379486\tval's multi_logloss: 0.385092\n",
      "[1500]\ttrain's multi_logloss: 0.375269\tval's multi_logloss: 0.3809\n",
      "[1600]\ttrain's multi_logloss: 0.371484\tval's multi_logloss: 0.377022\n",
      "[1700]\ttrain's multi_logloss: 0.368089\tval's multi_logloss: 0.373632\n",
      "[1800]\ttrain's multi_logloss: 0.364973\tval's multi_logloss: 0.370469\n",
      "[1900]\ttrain's multi_logloss: 0.36218\tval's multi_logloss: 0.367646\n",
      "[2000]\ttrain's multi_logloss: 0.359546\tval's multi_logloss: 0.36495\n",
      "Did not meet early stopping. Best iteration is:\n",
      "[2000]\ttrain's multi_logloss: 0.359546\tval's multi_logloss: 0.36495\n",
      "[CV]  num_leaves=255, min_child_samples=40, max_depth=10, learning_rate=0.01, lambda_l2=3, lambda_l1=9, score=0.851, total=14.7min\n",
      "[Parallel(n_jobs=1)]: Done   3 out of   3 | elapsed: 26.2min remaining:    0.0s\n",
      "[CV] num_leaves=255, min_child_samples=40, max_depth=10, learning_rate=0.01, lambda_l2=3, lambda_l1=9 \n",
      "Training until validation scores don't improve for 100 rounds\n",
      "[100]\ttrain's multi_logloss: 1.14518\tval's multi_logloss: 1.14806\n",
      "[200]\ttrain's multi_logloss: 0.746507\tval's multi_logloss: 0.750497\n",
      "[300]\ttrain's multi_logloss: 0.589968\tval's multi_logloss: 0.594309\n",
      "[400]\ttrain's multi_logloss: 0.517177\tval's multi_logloss: 0.521233\n",
      "[500]\ttrain's multi_logloss: 0.478567\tval's multi_logloss: 0.482289\n",
      "[600]\ttrain's multi_logloss: 0.454161\tval's multi_logloss: 0.457618\n",
      "[700]\ttrain's multi_logloss: 0.436974\tval's multi_logloss: 0.440152\n",
      "[800]\ttrain's multi_logloss: 0.424055\tval's multi_logloss: 0.427011\n",
      "[900]\ttrain's multi_logloss: 0.413741\tval's multi_logloss: 0.416467\n",
      "[1000]\ttrain's multi_logloss: 0.405141\tval's multi_logloss: 0.407716\n",
      "[1100]\ttrain's multi_logloss: 0.397893\tval's multi_logloss: 0.400343\n",
      "[1200]\ttrain's multi_logloss: 0.391628\tval's multi_logloss: 0.394011\n",
      "[1300]\ttrain's multi_logloss: 0.386317\tval's multi_logloss: 0.388572\n",
      "[1400]\ttrain's multi_logloss: 0.381668\tval's multi_logloss: 0.383788\n",
      "[1500]\ttrain's multi_logloss: 0.377413\tval's multi_logloss: 0.379476\n",
      "[1600]\ttrain's multi_logloss: 0.373591\tval's multi_logloss: 0.375609\n",
      "[1700]\ttrain's multi_logloss: 0.370004\tval's multi_logloss: 0.371916\n",
      "[1800]\ttrain's multi_logloss: 0.366872\tval's multi_logloss: 0.36871\n",
      "[1900]\ttrain's multi_logloss: 0.363889\tval's multi_logloss: 0.365654\n",
      "[2000]\ttrain's multi_logloss: 0.361069\tval's multi_logloss: 0.362744\n",
      "Did not meet early stopping. Best iteration is:\n",
      "[2000]\ttrain's multi_logloss: 0.361069\tval's multi_logloss: 0.362744\n",
      "[CV]  num_leaves=255, min_child_samples=40, max_depth=10, learning_rate=0.01, lambda_l2=3, lambda_l1=9, score=0.853, total=14.9min\n",
      "[Parallel(n_jobs=1)]: Done   4 out of   4 | elapsed: 41.2min remaining:    0.0s\n",
      "[Parallel(n_jobs=1)]: Done   4 out of   4 | elapsed: 41.2min finished\n",
      "Training until validation scores don't improve for 100 rounds\n",
      "[100]\ttrain's multi_logloss: 0.399165\tval's multi_logloss: 0.402662\n",
      "[200]\ttrain's multi_logloss: 0.32646\tval's multi_logloss: 0.32995\n",
      "[300]\ttrain's multi_logloss: 0.280479\tval's multi_logloss: 0.283557\n",
      "[400]\ttrain's multi_logloss: 0.247269\tval's multi_logloss: 0.25029\n",
      "[500]\ttrain's multi_logloss: 0.223008\tval's multi_logloss: 0.226063\n",
      "[600]\ttrain's multi_logloss: 0.204435\tval's multi_logloss: 0.207442\n",
      "[700]\ttrain's multi_logloss: 0.189867\tval's multi_logloss: 0.192875\n",
      "[800]\ttrain's multi_logloss: 0.178527\tval's multi_logloss: 0.181471\n",
      "[900]\ttrain's multi_logloss: 0.169356\tval's multi_logloss: 0.172268\n",
      "[1000]\ttrain's multi_logloss: 0.161803\tval's multi_logloss: 0.164755\n",
      "[1100]\ttrain's multi_logloss: 0.155443\tval's multi_logloss: 0.158307\n",
      "[1200]\ttrain's multi_logloss: 0.150167\tval's multi_logloss: 0.152987\n",
      "[1300]\ttrain's multi_logloss: 0.145621\tval's multi_logloss: 0.148307\n",
      "[1400]\ttrain's multi_logloss: 0.14192\tval's multi_logloss: 0.144525\n",
      "[1500]\ttrain's multi_logloss: 0.138893\tval's multi_logloss: 0.14149\n",
      "[1600]\ttrain's multi_logloss: 0.136285\tval's multi_logloss: 0.138872\n",
      "[1700]\ttrain's multi_logloss: 0.134056\tval's multi_logloss: 0.136627\n",
      "[1800]\ttrain's multi_logloss: 0.1319\tval's multi_logloss: 0.134412\n",
      "[1900]\ttrain's multi_logloss: 0.130546\tval's multi_logloss: 0.133043\n",
      "[2000]\ttrain's multi_logloss: 0.129738\tval's multi_logloss: 0.132223\n",
      "Did not meet early stopping. Best iteration is:\n",
      "[2000]\ttrain's multi_logloss: 0.129738\tval's multi_logloss: 0.132223\n"
     ]
    },
    {
     "name": "stdout",
     "output_type": "stream",
     "text": [
      "1 start\n",
      "Fitting 2 folds for each of 2 candidates, totalling 4 fits\n",
      "[Parallel(n_jobs=1)]: Using backend SequentialBackend with 1 concurrent workers.\n",
      "[CV] num_leaves=511, min_child_samples=50, max_depth=10, learning_rate=0.05, lambda_l2=0, lambda_l1=3 \n",
      "Training until validation scores don't improve for 100 rounds\n",
      "[100]\ttrain's multi_logloss: 0.439785\tval's multi_logloss: 0.436849\n",
      "[200]\ttrain's multi_logloss: 0.357114\tval's multi_logloss: 0.354975\n",
      "[300]\ttrain's multi_logloss: 0.317675\tval's multi_logloss: 0.316391\n",
      "[400]\ttrain's multi_logloss: 0.295327\tval's multi_logloss: 0.294383\n",
      "[500]\ttrain's multi_logloss: 0.281595\tval's multi_logloss: 0.281288\n",
      "[600]\ttrain's multi_logloss: 0.27333\tval's multi_logloss: 0.273284\n",
      "[700]\ttrain's multi_logloss: 0.267588\tval's multi_logloss: 0.26771\n",
      "[800]\ttrain's multi_logloss: 0.263427\tval's multi_logloss: 0.263661\n",
      "[900]\ttrain's multi_logloss: 0.260408\tval's multi_logloss: 0.260606\n",
      "[1000]\ttrain's multi_logloss: 0.258156\tval's multi_logloss: 0.258372\n",
      "[1100]\ttrain's multi_logloss: 0.256419\tval's multi_logloss: 0.256697\n",
      "[1200]\ttrain's multi_logloss: 0.255127\tval's multi_logloss: 0.255427\n",
      "[1300]\ttrain's multi_logloss: 0.254075\tval's multi_logloss: 0.254365\n",
      "[1400]\ttrain's multi_logloss: 0.253282\tval's multi_logloss: 0.25354\n",
      "[1500]\ttrain's multi_logloss: 0.252629\tval's multi_logloss: 0.252888\n",
      "[1600]\ttrain's multi_logloss: 0.252116\tval's multi_logloss: 0.252364\n",
      "[1700]\ttrain's multi_logloss: 0.251648\tval's multi_logloss: 0.25192\n",
      "[1800]\ttrain's multi_logloss: 0.251219\tval's multi_logloss: 0.25151\n",
      "[1900]\ttrain's multi_logloss: 0.250943\tval's multi_logloss: 0.251235\n",
      "[2000]\ttrain's multi_logloss: 0.250689\tval's multi_logloss: 0.251001\n",
      "Did not meet early stopping. Best iteration is:\n",
      "[2000]\ttrain's multi_logloss: 0.250689\tval's multi_logloss: 0.251001\n",
      "[CV]  num_leaves=511, min_child_samples=50, max_depth=10, learning_rate=0.05, lambda_l2=0, lambda_l1=3, score=0.866, total=10.8min\n",
      "[Parallel(n_jobs=1)]: Done   1 out of   1 | elapsed: 10.8min remaining:    0.0s\n",
      "[CV] num_leaves=511, min_child_samples=50, max_depth=10, learning_rate=0.05, lambda_l2=0, lambda_l1=3 \n",
      "Training until validation scores don't improve for 100 rounds\n",
      "[100]\ttrain's multi_logloss: 0.43953\tval's multi_logloss: 0.436841\n",
      "[200]\ttrain's multi_logloss: 0.357364\tval's multi_logloss: 0.356442\n",
      "[300]\ttrain's multi_logloss: 0.316987\tval's multi_logloss: 0.31655\n",
      "[400]\ttrain's multi_logloss: 0.294316\tval's multi_logloss: 0.294066\n",
      "[500]\ttrain's multi_logloss: 0.280781\tval's multi_logloss: 0.280861\n",
      "[600]\ttrain's multi_logloss: 0.271977\tval's multi_logloss: 0.272134\n",
      "[700]\ttrain's multi_logloss: 0.266157\tval's multi_logloss: 0.266143\n",
      "[800]\ttrain's multi_logloss: 0.261788\tval's multi_logloss: 0.261651\n",
      "[900]\ttrain's multi_logloss: 0.258659\tval's multi_logloss: 0.258437\n",
      "[1000]\ttrain's multi_logloss: 0.256353\tval's multi_logloss: 0.256029\n",
      "[1100]\ttrain's multi_logloss: 0.254637\tval's multi_logloss: 0.25423\n",
      "[1200]\ttrain's multi_logloss: 0.253262\tval's multi_logloss: 0.25282\n",
      "[1300]\ttrain's multi_logloss: 0.2522\tval's multi_logloss: 0.251698\n",
      "[1400]\ttrain's multi_logloss: 0.251276\tval's multi_logloss: 0.250786\n",
      "[1500]\ttrain's multi_logloss: 0.250578\tval's multi_logloss: 0.250066\n",
      "[1600]\ttrain's multi_logloss: 0.250035\tval's multi_logloss: 0.249428\n",
      "[1700]\ttrain's multi_logloss: 0.249585\tval's multi_logloss: 0.248919\n",
      "[1800]\ttrain's multi_logloss: 0.24919\tval's multi_logloss: 0.248491\n",
      "[1900]\ttrain's multi_logloss: 0.248897\tval's multi_logloss: 0.248153\n",
      "[2000]\ttrain's multi_logloss: 0.248661\tval's multi_logloss: 0.247905\n",
      "Did not meet early stopping. Best iteration is:\n",
      "[2000]\ttrain's multi_logloss: 0.248661\tval's multi_logloss: 0.247905\n",
      "[CV]  num_leaves=511, min_child_samples=50, max_depth=10, learning_rate=0.05, lambda_l2=0, lambda_l1=3, score=0.866, total=14.8min\n",
      "[Parallel(n_jobs=1)]: Done   2 out of   2 | elapsed: 25.6min remaining:    0.0s\n",
      "[CV] num_leaves=1023, min_child_samples=50, max_depth=9, learning_rate=0.05, lambda_l2=0, lambda_l1=5 \n",
      "Training until validation scores don't improve for 100 rounds\n",
      "[100]\ttrain's multi_logloss: 0.464149\tval's multi_logloss: 0.460273\n",
      "[200]\ttrain's multi_logloss: 0.387009\tval's multi_logloss: 0.383774\n",
      "[300]\ttrain's multi_logloss: 0.351725\tval's multi_logloss: 0.348563\n",
      "[400]\ttrain's multi_logloss: 0.330661\tval's multi_logloss: 0.327641\n",
      "[500]\ttrain's multi_logloss: 0.316471\tval's multi_logloss: 0.313855\n",
      "[600]\ttrain's multi_logloss: 0.307128\tval's multi_logloss: 0.304827\n",
      "[700]\ttrain's multi_logloss: 0.300419\tval's multi_logloss: 0.298371\n",
      "[800]\ttrain's multi_logloss: 0.295626\tval's multi_logloss: 0.293686\n",
      "[900]\ttrain's multi_logloss: 0.291854\tval's multi_logloss: 0.289993\n",
      "[1000]\ttrain's multi_logloss: 0.288911\tval's multi_logloss: 0.287101\n",
      "[1100]\ttrain's multi_logloss: 0.286611\tval's multi_logloss: 0.284821\n",
      "[1200]\ttrain's multi_logloss: 0.28467\tval's multi_logloss: 0.28293\n",
      "[1300]\ttrain's multi_logloss: 0.283139\tval's multi_logloss: 0.281401\n",
      "[1400]\ttrain's multi_logloss: 0.281991\tval's multi_logloss: 0.280284\n",
      "[1500]\ttrain's multi_logloss: 0.28106\tval's multi_logloss: 0.279383\n",
      "[1600]\ttrain's multi_logloss: 0.280231\tval's multi_logloss: 0.278571\n",
      "[1700]\ttrain's multi_logloss: 0.279574\tval's multi_logloss: 0.27796\n",
      "[1800]\ttrain's multi_logloss: 0.27924\tval's multi_logloss: 0.277637\n",
      "[1900]\ttrain's multi_logloss: 0.278943\tval's multi_logloss: 0.277356\n",
      "[2000]\ttrain's multi_logloss: 0.278878\tval's multi_logloss: 0.277296\n",
      "Did not meet early stopping. Best iteration is:\n",
      "[1923]\ttrain's multi_logloss: 0.278878\tval's multi_logloss: 0.277296\n",
      "[CV]  num_leaves=1023, min_child_samples=50, max_depth=9, learning_rate=0.05, lambda_l2=0, lambda_l1=5, score=0.863, total=13.1min\n",
      "[Parallel(n_jobs=1)]: Done   3 out of   3 | elapsed: 38.7min remaining:    0.0s\n",
      "[CV] num_leaves=1023, min_child_samples=50, max_depth=9, learning_rate=0.05, lambda_l2=0, lambda_l1=5 \n",
      "Training until validation scores don't improve for 100 rounds\n",
      "[100]\ttrain's multi_logloss: 0.464116\tval's multi_logloss: 0.461145\n",
      "[200]\ttrain's multi_logloss: 0.387311\tval's multi_logloss: 0.386273\n",
      "[300]\ttrain's multi_logloss: 0.351434\tval's multi_logloss: 0.351201\n",
      "[400]\ttrain's multi_logloss: 0.329914\tval's multi_logloss: 0.329971\n",
      "[500]\ttrain's multi_logloss: 0.315658\tval's multi_logloss: 0.316107\n",
      "[600]\ttrain's multi_logloss: 0.305671\tval's multi_logloss: 0.306374\n",
      "[700]\ttrain's multi_logloss: 0.298612\tval's multi_logloss: 0.299208\n",
      "[800]\ttrain's multi_logloss: 0.293473\tval's multi_logloss: 0.294049\n",
      "[900]\ttrain's multi_logloss: 0.289604\tval's multi_logloss: 0.290176\n",
      "[1000]\ttrain's multi_logloss: 0.286583\tval's multi_logloss: 0.28706\n",
      "[1100]\ttrain's multi_logloss: 0.284185\tval's multi_logloss: 0.284609\n",
      "[1200]\ttrain's multi_logloss: 0.282306\tval's multi_logloss: 0.282725\n",
      "[1300]\ttrain's multi_logloss: 0.280868\tval's multi_logloss: 0.281287\n",
      "[1400]\ttrain's multi_logloss: 0.279648\tval's multi_logloss: 0.280071\n",
      "[1500]\ttrain's multi_logloss: 0.278727\tval's multi_logloss: 0.279093\n",
      "[1600]\ttrain's multi_logloss: 0.277893\tval's multi_logloss: 0.27824\n",
      "[1700]\ttrain's multi_logloss: 0.277239\tval's multi_logloss: 0.277526\n",
      "[1800]\ttrain's multi_logloss: 0.276689\tval's multi_logloss: 0.276934\n",
      "[1900]\ttrain's multi_logloss: 0.276337\tval's multi_logloss: 0.276604\n",
      "[2000]\ttrain's multi_logloss: 0.276319\tval's multi_logloss: 0.276585\n",
      "Did not meet early stopping. Best iteration is:\n",
      "[2000]\ttrain's multi_logloss: 0.276319\tval's multi_logloss: 0.276585\n",
      "[CV]  num_leaves=1023, min_child_samples=50, max_depth=9, learning_rate=0.05, lambda_l2=0, lambda_l1=5, score=0.863, total=16.8min\n",
      "[Parallel(n_jobs=1)]: Done   4 out of   4 | elapsed: 55.5min remaining:    0.0s\n",
      "[Parallel(n_jobs=1)]: Done   4 out of   4 | elapsed: 55.5min finished\n",
      "Training until validation scores don't improve for 100 rounds\n",
      "[100]\ttrain's multi_logloss: 0.40798\tval's multi_logloss: 0.405338\n",
      "[200]\ttrain's multi_logloss: 0.313851\tval's multi_logloss: 0.312627\n",
      "[300]\ttrain's multi_logloss: 0.253192\tval's multi_logloss: 0.253029\n",
      "[400]\ttrain's multi_logloss: 0.210806\tval's multi_logloss: 0.210971\n",
      "[500]\ttrain's multi_logloss: 0.181823\tval's multi_logloss: 0.182206\n",
      "[600]\ttrain's multi_logloss: 0.160581\tval's multi_logloss: 0.161187\n",
      "[700]\ttrain's multi_logloss: 0.144498\tval's multi_logloss: 0.145208\n",
      "[800]\ttrain's multi_logloss: 0.131841\tval's multi_logloss: 0.132558\n"
     ]
    },
    {
     "name": "stdout",
     "output_type": "stream",
     "text": [
      "[900]\ttrain's multi_logloss: 0.1215\tval's multi_logloss: 0.122134\n",
      "[1000]\ttrain's multi_logloss: 0.113104\tval's multi_logloss: 0.11372\n",
      "[1100]\ttrain's multi_logloss: 0.106327\tval's multi_logloss: 0.106891\n",
      "[1200]\ttrain's multi_logloss: 0.100712\tval's multi_logloss: 0.101241\n",
      "[1300]\ttrain's multi_logloss: 0.0960584\tval's multi_logloss: 0.09655\n",
      "[1400]\ttrain's multi_logloss: 0.0921609\tval's multi_logloss: 0.0925854\n",
      "[1500]\ttrain's multi_logloss: 0.0888516\tval's multi_logloss: 0.0892409\n",
      "[1600]\ttrain's multi_logloss: 0.0858237\tval's multi_logloss: 0.0862053\n",
      "[1700]\ttrain's multi_logloss: 0.0833091\tval's multi_logloss: 0.0836819\n",
      "[1800]\ttrain's multi_logloss: 0.0810297\tval's multi_logloss: 0.0814026\n",
      "[1900]\ttrain's multi_logloss: 0.0791222\tval's multi_logloss: 0.0794735\n",
      "[2000]\ttrain's multi_logloss: 0.07736\tval's multi_logloss: 0.0776853\n",
      "Did not meet early stopping. Best iteration is:\n",
      "[2000]\ttrain's multi_logloss: 0.07736\tval's multi_logloss: 0.0776853\n",
      "2 start\n",
      "Fitting 2 folds for each of 2 candidates, totalling 4 fits\n",
      "[Parallel(n_jobs=1)]: Using backend SequentialBackend with 1 concurrent workers.\n",
      "[CV] num_leaves=1023, min_child_samples=40, max_depth=9, learning_rate=0.1, lambda_l2=0, lambda_l1=3 \n",
      "Training until validation scores don't improve for 100 rounds\n",
      "[100]\ttrain's multi_logloss: 0.366767\tval's multi_logloss: 0.364712\n",
      "[200]\ttrain's multi_logloss: 0.303969\tval's multi_logloss: 0.300983\n",
      "[300]\ttrain's multi_logloss: 0.279402\tval's multi_logloss: 0.276067\n",
      "[400]\ttrain's multi_logloss: 0.268473\tval's multi_logloss: 0.264779\n",
      "[500]\ttrain's multi_logloss: 0.262355\tval's multi_logloss: 0.258534\n",
      "[600]\ttrain's multi_logloss: 0.258752\tval's multi_logloss: 0.254967\n",
      "[700]\ttrain's multi_logloss: 0.256416\tval's multi_logloss: 0.252627\n",
      "[800]\ttrain's multi_logloss: 0.254938\tval's multi_logloss: 0.251124\n",
      "[900]\ttrain's multi_logloss: 0.254008\tval's multi_logloss: 0.250199\n",
      "[1000]\ttrain's multi_logloss: 0.253339\tval's multi_logloss: 0.249559\n",
      "[1100]\ttrain's multi_logloss: 0.253242\tval's multi_logloss: 0.249449\n",
      "Early stopping, best iteration is:\n",
      "[1026]\ttrain's multi_logloss: 0.253242\tval's multi_logloss: 0.249449\n",
      "[CV]  num_leaves=1023, min_child_samples=40, max_depth=9, learning_rate=0.1, lambda_l2=0, lambda_l1=3, score=0.865, total= 8.6min\n",
      "[Parallel(n_jobs=1)]: Done   1 out of   1 | elapsed:  8.6min remaining:    0.0s\n",
      "[CV] num_leaves=1023, min_child_samples=40, max_depth=9, learning_rate=0.1, lambda_l2=0, lambda_l1=3 \n",
      "Training until validation scores don't improve for 100 rounds\n",
      "[100]\ttrain's multi_logloss: 0.368045\tval's multi_logloss: 0.366025\n",
      "[200]\ttrain's multi_logloss: 0.304056\tval's multi_logloss: 0.302019\n",
      "[300]\ttrain's multi_logloss: 0.278751\tval's multi_logloss: 0.277044\n",
      "[400]\ttrain's multi_logloss: 0.266512\tval's multi_logloss: 0.265125\n",
      "[500]\ttrain's multi_logloss: 0.259905\tval's multi_logloss: 0.258841\n",
      "[600]\ttrain's multi_logloss: 0.255945\tval's multi_logloss: 0.255054\n",
      "[700]\ttrain's multi_logloss: 0.253397\tval's multi_logloss: 0.252682\n",
      "[800]\ttrain's multi_logloss: 0.251856\tval's multi_logloss: 0.251225\n",
      "[900]\ttrain's multi_logloss: 0.250728\tval's multi_logloss: 0.250246\n",
      "[1000]\ttrain's multi_logloss: 0.250028\tval's multi_logloss: 0.249622\n",
      "[1100]\ttrain's multi_logloss: 0.249596\tval's multi_logloss: 0.249243\n",
      "Early stopping, best iteration is:\n",
      "[1080]\ttrain's multi_logloss: 0.249594\tval's multi_logloss: 0.249242\n",
      "[CV]  num_leaves=1023, min_child_samples=40, max_depth=9, learning_rate=0.1, lambda_l2=0, lambda_l1=3, score=0.865, total= 9.6min\n",
      "[Parallel(n_jobs=1)]: Done   2 out of   2 | elapsed: 18.2min remaining:    0.0s\n",
      "[CV] num_leaves=1023, min_child_samples=30, max_depth=7, learning_rate=0.01, lambda_l2=9, lambda_l1=0 \n",
      "Training until validation scores don't improve for 100 rounds\n",
      "[100]\ttrain's multi_logloss: 1.14734\tval's multi_logloss: 1.14633\n",
      "[200]\ttrain's multi_logloss: 0.745099\tval's multi_logloss: 0.743893\n",
      "[300]\ttrain's multi_logloss: 0.587458\tval's multi_logloss: 0.58659\n",
      "[400]\ttrain's multi_logloss: 0.515908\tval's multi_logloss: 0.515088\n",
      "[500]\ttrain's multi_logloss: 0.478219\tval's multi_logloss: 0.477123\n",
      "[600]\ttrain's multi_logloss: 0.454916\tval's multi_logloss: 0.453835\n",
      "[700]\ttrain's multi_logloss: 0.438648\tval's multi_logloss: 0.437694\n",
      "[800]\ttrain's multi_logloss: 0.426721\tval's multi_logloss: 0.425856\n",
      "[900]\ttrain's multi_logloss: 0.416001\tval's multi_logloss: 0.415001\n",
      "[1000]\ttrain's multi_logloss: 0.406835\tval's multi_logloss: 0.405904\n",
      "[1100]\ttrain's multi_logloss: 0.399015\tval's multi_logloss: 0.398096\n",
      "[1200]\ttrain's multi_logloss: 0.391847\tval's multi_logloss: 0.390879\n",
      "[1300]\ttrain's multi_logloss: 0.384628\tval's multi_logloss: 0.38375\n",
      "[1400]\ttrain's multi_logloss: 0.378449\tval's multi_logloss: 0.377723\n",
      "[1500]\ttrain's multi_logloss: 0.372441\tval's multi_logloss: 0.371745\n",
      "[1600]\ttrain's multi_logloss: 0.366524\tval's multi_logloss: 0.36582\n",
      "[1700]\ttrain's multi_logloss: 0.36093\tval's multi_logloss: 0.360219\n",
      "[1800]\ttrain's multi_logloss: 0.355935\tval's multi_logloss: 0.355168\n",
      "[1900]\ttrain's multi_logloss: 0.351418\tval's multi_logloss: 0.35051\n",
      "[2000]\ttrain's multi_logloss: 0.346761\tval's multi_logloss: 0.345791\n",
      "Did not meet early stopping. Best iteration is:\n",
      "[2000]\ttrain's multi_logloss: 0.346761\tval's multi_logloss: 0.345791\n",
      "[CV]  num_leaves=1023, min_child_samples=30, max_depth=7, learning_rate=0.01, lambda_l2=9, lambda_l1=0, score=0.855, total=24.0min\n",
      "[Parallel(n_jobs=1)]: Done   3 out of   3 | elapsed: 42.2min remaining:    0.0s\n",
      "[CV] num_leaves=1023, min_child_samples=30, max_depth=7, learning_rate=0.01, lambda_l2=9, lambda_l1=0 \n",
      "Training until validation scores don't improve for 100 rounds\n",
      "[100]\ttrain's multi_logloss: 1.14843\tval's multi_logloss: 1.14795\n",
      "[200]\ttrain's multi_logloss: 0.746119\tval's multi_logloss: 0.74513\n",
      "[300]\ttrain's multi_logloss: 0.587261\tval's multi_logloss: 0.586213\n",
      "[400]\ttrain's multi_logloss: 0.515243\tval's multi_logloss: 0.514157\n",
      "[500]\ttrain's multi_logloss: 0.477212\tval's multi_logloss: 0.47599\n",
      "[600]\ttrain's multi_logloss: 0.4546\tval's multi_logloss: 0.453314\n",
      "[700]\ttrain's multi_logloss: 0.439658\tval's multi_logloss: 0.4381\n",
      "[800]\ttrain's multi_logloss: 0.428264\tval's multi_logloss: 0.426574\n",
      "[900]\ttrain's multi_logloss: 0.417341\tval's multi_logloss: 0.415489\n",
      "[1000]\ttrain's multi_logloss: 0.408217\tval's multi_logloss: 0.406246\n",
      "[1100]\ttrain's multi_logloss: 0.400101\tval's multi_logloss: 0.398077\n",
      "[1200]\ttrain's multi_logloss: 0.392477\tval's multi_logloss: 0.390432\n",
      "[1300]\ttrain's multi_logloss: 0.385313\tval's multi_logloss: 0.38321\n",
      "[1400]\ttrain's multi_logloss: 0.378802\tval's multi_logloss: 0.376562\n",
      "[1500]\ttrain's multi_logloss: 0.372642\tval's multi_logloss: 0.370276\n",
      "[1600]\ttrain's multi_logloss: 0.366664\tval's multi_logloss: 0.364301\n",
      "[1700]\ttrain's multi_logloss: 0.36126\tval's multi_logloss: 0.358746\n",
      "[1800]\ttrain's multi_logloss: 0.356094\tval's multi_logloss: 0.353432\n",
      "[1900]\ttrain's multi_logloss: 0.350953\tval's multi_logloss: 0.348227\n",
      "[2000]\ttrain's multi_logloss: 0.346072\tval's multi_logloss: 0.34337\n",
      "Did not meet early stopping. Best iteration is:\n",
      "[2000]\ttrain's multi_logloss: 0.346072\tval's multi_logloss: 0.34337\n",
      "[CV]  num_leaves=1023, min_child_samples=30, max_depth=7, learning_rate=0.01, lambda_l2=9, lambda_l1=0, score=0.856, total=24.2min\n",
      "[Parallel(n_jobs=1)]: Done   4 out of   4 | elapsed: 66.4min remaining:    0.0s\n",
      "[Parallel(n_jobs=1)]: Done   4 out of   4 | elapsed: 66.4min finished\n",
      "Training until validation scores don't improve for 100 rounds\n",
      "[100]\ttrain's multi_logloss: 0.331519\tval's multi_logloss: 0.32922\n",
      "[200]\ttrain's multi_logloss: 0.231523\tval's multi_logloss: 0.22797\n",
      "[300]\ttrain's multi_logloss: 0.177954\tval's multi_logloss: 0.174283\n",
      "[400]\ttrain's multi_logloss: 0.146045\tval's multi_logloss: 0.142362\n",
      "[500]\ttrain's multi_logloss: 0.125192\tval's multi_logloss: 0.12164\n",
      "[600]\ttrain's multi_logloss: 0.110845\tval's multi_logloss: 0.107617\n",
      "[700]\ttrain's multi_logloss: 0.100532\tval's multi_logloss: 0.0975651\n",
      "[800]\ttrain's multi_logloss: 0.0932501\tval's multi_logloss: 0.0904946\n",
      "[900]\ttrain's multi_logloss: 0.0874878\tval's multi_logloss: 0.084976\n",
      "[1000]\ttrain's multi_logloss: 0.0831942\tval's multi_logloss: 0.0808086\n",
      "[1100]\ttrain's multi_logloss: 0.0796013\tval's multi_logloss: 0.0773407\n",
      "[1200]\ttrain's multi_logloss: 0.076821\tval's multi_logloss: 0.0746821\n"
     ]
    },
    {
     "name": "stdout",
     "output_type": "stream",
     "text": [
      "[1300]\ttrain's multi_logloss: 0.0745527\tval's multi_logloss: 0.0725261\n",
      "[1400]\ttrain's multi_logloss: 0.0727093\tval's multi_logloss: 0.0707404\n",
      "[1500]\ttrain's multi_logloss: 0.0715164\tval's multi_logloss: 0.0696133\n",
      "[1600]\ttrain's multi_logloss: 0.0707123\tval's multi_logloss: 0.0688601\n",
      "[1700]\ttrain's multi_logloss: 0.0699631\tval's multi_logloss: 0.0681532\n",
      "[1800]\ttrain's multi_logloss: 0.0695999\tval's multi_logloss: 0.0678082\n",
      "Early stopping, best iteration is:\n",
      "[1759]\ttrain's multi_logloss: 0.0695999\tval's multi_logloss: 0.0678082\n"
     ]
    }
   ],
   "source": [
    "#와 3시간.. fold = 3,cv =5, n_iter =2 \n",
    "for fold, (train_ids, val_ids) in enumerate(Fold.split(X,y)):\n",
    "    print(fold, \"start\")\n",
    "    eval_set = [(X.iloc[train_ids], y.iloc[train_ids]),(X.iloc[val_ids], y.iloc[val_ids])]\n",
    "    eval_names = ['train','val']\n",
    "    random_search.fit(X, y, eval_set = eval_set, eval_names = eval_names, early_stopping_rounds = 100,verbose = 100)"
   ]
  },
  {
   "cell_type": "code",
   "execution_count": 44,
   "metadata": {
    "ExecuteTime": {
     "end_time": "2020-02-23T12:26:15.794809Z",
     "start_time": "2020-02-23T12:26:15.790809Z"
    }
   },
   "outputs": [],
   "source": [
    "params2 = random_search.best_params_"
   ]
  },
  {
   "cell_type": "code",
   "execution_count": 45,
   "metadata": {
    "ExecuteTime": {
     "end_time": "2020-02-23T12:26:18.459309Z",
     "start_time": "2020-02-23T12:26:18.444296Z"
    }
   },
   "outputs": [
    {
     "data": {
      "text/plain": [
       "{'num_leaves': 1023,\n",
       " 'min_child_samples': 40,\n",
       " 'max_depth': 9,\n",
       " 'learning_rate': 0.1,\n",
       " 'lambda_l2': 0,\n",
       " 'lambda_l1': 3}"
      ]
     },
     "execution_count": 45,
     "metadata": {},
     "output_type": "execute_result"
    }
   ],
   "source": [
    "params2"
   ]
  },
  {
   "cell_type": "code",
   "execution_count": 46,
   "metadata": {
    "ExecuteTime": {
     "end_time": "2020-02-23T12:26:24.653631Z",
     "start_time": "2020-02-23T12:26:24.648631Z"
    }
   },
   "outputs": [],
   "source": [
    "gmodel = random_search.best_estimator_"
   ]
  },
  {
   "cell_type": "code",
   "execution_count": 47,
   "metadata": {
    "ExecuteTime": {
     "end_time": "2020-02-23T12:26:25.348556Z",
     "start_time": "2020-02-23T12:26:25.343546Z"
    }
   },
   "outputs": [
    {
     "data": {
      "text/plain": [
       "LGBMClassifier(boosting_type='gbdt', class_weight='balanced',\n",
       "               colsample_bytree=1.0, importance_type='split', lambda_l1=3,\n",
       "               lambda_l2=0, learning_rate=0.1, max_depth=9,\n",
       "               min_child_samples=40, min_child_weight=0.001, min_split_gain=0.0,\n",
       "               n_estimators=2000, n_jobs=-1, num_leaves=1023,\n",
       "               objective='multiclass', random_state=1029, reg_alpha=0.0,\n",
       "               reg_lambda=0.0, silent=True, subsample=1.0,\n",
       "               subsample_for_bin=200000, subsample_freq=0)"
      ]
     },
     "execution_count": 47,
     "metadata": {},
     "output_type": "execute_result"
    }
   ],
   "source": [
    "gmodel"
   ]
  },
  {
   "cell_type": "code",
   "execution_count": 48,
   "metadata": {
    "ExecuteTime": {
     "end_time": "2020-02-23T12:47:29.710522Z",
     "start_time": "2020-02-23T12:26:26.968196Z"
    }
   },
   "outputs": [
    {
     "data": {
      "text/plain": [
       "LGBMClassifier(boosting_type='gbdt', class_weight='balanced',\n",
       "               colsample_bytree=1.0, importance_type='split', lambda_l1=3,\n",
       "               lambda_l2=0, learning_rate=0.1, max_depth=9,\n",
       "               min_child_samples=40, min_child_weight=0.001, min_split_gain=0.0,\n",
       "               n_estimators=2000, n_jobs=-1, num_leaves=1023,\n",
       "               objective='multiclass', random_state=1029, reg_alpha=0.0,\n",
       "               reg_lambda=0.0, silent=True, subsample=1.0,\n",
       "               subsample_for_bin=200000, subsample_freq=0)"
      ]
     },
     "execution_count": 48,
     "metadata": {},
     "output_type": "execute_result"
    }
   ],
   "source": [
    "gmodel.fit(X,y)"
   ]
  },
  {
   "cell_type": "code",
   "execution_count": 49,
   "metadata": {
    "ExecuteTime": {
     "end_time": "2020-02-23T12:48:14.841025Z",
     "start_time": "2020-02-23T12:47:30.682973Z"
    }
   },
   "outputs": [],
   "source": [
    "y_pred = gmodel.predict_proba(test_X)"
   ]
  },
  {
   "cell_type": "code",
   "execution_count": 50,
   "metadata": {
    "ExecuteTime": {
     "end_time": "2020-02-23T12:48:15.751065Z",
     "start_time": "2020-02-23T12:48:15.739063Z"
    }
   },
   "outputs": [
    {
     "data": {
      "text/plain": [
       "array([[2.35583178e-05, 2.06124297e-05, 6.15106766e-05, ...,\n",
       "        1.31041538e-04, 1.54679612e-04, 2.29873919e-05],\n",
       "       [7.98886474e-05, 6.71206251e-05, 7.70500723e-06, ...,\n",
       "        5.25065976e-05, 6.04471483e-05, 8.65629305e-05],\n",
       "       [1.50800218e-05, 2.41174122e-06, 3.97773548e-07, ...,\n",
       "        1.95714026e-06, 4.39013894e-06, 3.13118895e-06],\n",
       "       ...,\n",
       "       [5.34015004e-05, 1.32591143e-04, 7.00782471e-06, ...,\n",
       "        1.32663784e-05, 2.01321806e-05, 6.22334042e-02],\n",
       "       [2.59124873e-06, 2.53303517e-06, 4.72557051e-07, ...,\n",
       "        4.61696693e-07, 1.80796863e-06, 1.14154966e-04],\n",
       "       [6.24877089e-05, 9.74950612e-07, 6.08538955e-07, ...,\n",
       "        1.28538947e-06, 1.47364012e-06, 4.24914262e-06]])"
      ]
     },
     "execution_count": 50,
     "metadata": {},
     "output_type": "execute_result"
    }
   ],
   "source": [
    "y_pred"
   ]
  },
  {
   "cell_type": "markdown",
   "metadata": {},
   "source": [
    "## Modeling"
   ]
  },
  {
   "cell_type": "code",
   "execution_count": null,
   "metadata": {
    "ExecuteTime": {
     "start_time": "2020-02-22T04:19:43.152Z"
    }
   },
   "outputs": [],
   "source": [
    "fig, axs = plt.subplots(1, 2, figsize=[15, 4])\n",
    "\n",
    "# Plot the log loss during training\n",
    "axs[0].plot(evaluation_results['Train']['multi_logloss'], label='Train')\n",
    "axs[0].plot(evaluation_results['Test']['multi_logloss'], label='Test')\n",
    "axs[0].set_ylabel('Log loss')\n",
    "axs[0].set_xlabel('Boosting round')\n",
    "axs[0].set_title('Training performance')\n",
    "axs[0].legend()\n",
    "\n",
    "# Plot feature importance\n",
    "importances = pd.DataFrame({'features': lgmb_model.feature_name(), \n",
    "                            'importance': lgmb_model.feature_importance()}).sort_values('importance', ascending=False).head(10)\n",
    "axs[1].bar(x=np.arange(len(importances)), height=importances['importance'])\n",
    "axs[1].set_xticks(np.arange(len(importances)))\n",
    "axs[1].set_xticklabels(importances['features'])\n",
    "axs[1].set_ylabel('Feature importance (# times used to split)')\n",
    "axs[1].set_title('Feature importance')\n",
    "plt.xticks(rotation=45)\n",
    "\n",
    "plt.show()"
   ]
  },
  {
   "cell_type": "code",
   "execution_count": null,
   "metadata": {
    "ExecuteTime": {
     "start_time": "2020-02-22T04:19:43.582Z"
    }
   },
   "outputs": [],
   "source": [
    "train_y_pred = lgmb_model.predict(X_test)\n",
    "real_y_pred = lgmb_model.predict(test_X)"
   ]
  },
  {
   "cell_type": "code",
   "execution_count": null,
   "metadata": {
    "ExecuteTime": {
     "start_time": "2020-02-22T04:19:43.889Z"
    }
   },
   "outputs": [],
   "source": [
    "train_y_pred.shape"
   ]
  },
  {
   "cell_type": "code",
   "execution_count": null,
   "metadata": {
    "ExecuteTime": {
     "start_time": "2020-02-22T04:19:44.098Z"
    },
    "scrolled": true
   },
   "outputs": [],
   "source": [
    "#log_loss\n",
    "log_loss(y_test,train_y_pred,labels= list(set(y_test)))"
   ]
  },
  {
   "cell_type": "code",
   "execution_count": null,
   "metadata": {
    "ExecuteTime": {
     "start_time": "2020-02-22T04:19:44.376Z"
    }
   },
   "outputs": [],
   "source": [
    "lgmb_model.feature_importance()"
   ]
  },
  {
   "cell_type": "markdown",
   "metadata": {},
   "source": [
    "### feature_importance"
   ]
  },
  {
   "cell_type": "code",
   "execution_count": null,
   "metadata": {
    "ExecuteTime": {
     "start_time": "2020-02-22T04:19:45.136Z"
    }
   },
   "outputs": [],
   "source": [
    "pi_df = pd.DataFrame(lgmb_model.feature_importance(), index= train_X.columns,columns= ['importance']).sort_values('importance',ascending = False)\n",
    "pi_df.head(10)"
   ]
  },
  {
   "cell_type": "markdown",
   "metadata": {},
   "source": [
    "### 예측결과에 대해\n",
    "* 12번이 모두 6번으로 몰림\n",
    "중간예측 : 0(STAR_WHITE_DWARF-2160),2(STAR_BROWN_DWARF-500),7(SERENDIPITY_DISTANT-4654),11(ROSAT_D-6580)\n",
    "망한예측 : 12(STAR_PN-13),17(SERENDIPITY_MANUAL-61)"
   ]
  },
  {
   "cell_type": "code",
   "execution_count": null,
   "metadata": {
    "ExecuteTime": {
     "start_time": "2020-02-22T04:19:45.746Z"
    }
   },
   "outputs": [],
   "source": [
    "cm_result = pd.DataFrame(confusion_matrix(y_test,np.argmax(train_y_pred,axis = 1)))"
   ]
  },
  {
   "cell_type": "code",
   "execution_count": null,
   "metadata": {
    "ExecuteTime": {
     "start_time": "2020-02-22T04:19:45.952Z"
    }
   },
   "outputs": [],
   "source": [
    "number_columns"
   ]
  },
  {
   "cell_type": "code",
   "execution_count": null,
   "metadata": {
    "ExecuteTime": {
     "start_time": "2020-02-22T04:19:46.144Z"
    }
   },
   "outputs": [],
   "source": [
    "train_df.type.value_counts()"
   ]
  },
  {
   "cell_type": "code",
   "execution_count": null,
   "metadata": {
    "ExecuteTime": {
     "start_time": "2020-02-22T04:19:46.329Z"
    }
   },
   "outputs": [],
   "source": [
    "cm_result"
   ]
  },
  {
   "cell_type": "code",
   "execution_count": null,
   "metadata": {
    "ExecuteTime": {
     "start_time": "2020-02-22T04:19:46.509Z"
    },
    "scrolled": false
   },
   "outputs": [],
   "source": [
    "plt.figure(figsize =(15,15))\n",
    "sns.heatmap(cm_result/np.sum(cm_result),annot = True, cmap ='RdYlGn',fmt='.1%')\n",
    "plt.ylabel(\"real\",fontsize=20)\n",
    "plt.xlabel(\"predict\",fontsize=20)\n",
    "plt.show()"
   ]
  },
  {
   "cell_type": "markdown",
   "metadata": {},
   "source": [
    "# REAL"
   ]
  },
  {
   "cell_type": "code",
   "execution_count": null,
   "metadata": {
    "ExecuteTime": {
     "start_time": "2020-02-22T04:19:46.866Z"
    }
   },
   "outputs": [],
   "source": [
    "train_ds = lgb.Dataset(train_X, label = train_y)"
   ]
  },
  {
   "cell_type": "code",
   "execution_count": null,
   "metadata": {
    "ExecuteTime": {
     "start_time": "2020-02-22T04:19:47.243Z"
    }
   },
   "outputs": [],
   "source": [
    "lgmb_model = lgb.train(params, train_ds,num_boost_round= 2000, verbose_eval=100)"
   ]
  },
  {
   "cell_type": "code",
   "execution_count": null,
   "metadata": {
    "ExecuteTime": {
     "start_time": "2020-02-22T04:19:47.449Z"
    }
   },
   "outputs": [],
   "source": [
    "y_pred = lgmb_model.predict(test_X)"
   ]
  },
  {
   "cell_type": "code",
   "execution_count": null,
   "metadata": {
    "ExecuteTime": {
     "start_time": "2020-02-22T04:19:47.642Z"
    }
   },
   "outputs": [],
   "source": [
    "y_pred"
   ]
  },
  {
   "cell_type": "code",
   "execution_count": 51,
   "metadata": {
    "ExecuteTime": {
     "end_time": "2020-02-23T13:37:35.215625Z",
     "start_time": "2020-02-23T13:37:34.793519Z"
    }
   },
   "outputs": [],
   "source": [
    "submission = pd.DataFrame(data=y_pred, columns=sample_submission_df.columns, index=sample_submission_df.index)\n",
    "submission.to_csv('./submisson/submission.csv', index=True)"
   ]
  },
  {
   "cell_type": "code",
   "execution_count": null,
   "metadata": {},
   "outputs": [],
   "source": []
  }
 ],
 "metadata": {
  "kernelspec": {
   "display_name": "Python 3",
   "language": "python",
   "name": "python3"
  },
  "language_info": {
   "codemirror_mode": {
    "name": "ipython",
    "version": 3
   },
   "file_extension": ".py",
   "mimetype": "text/x-python",
   "name": "python",
   "nbconvert_exporter": "python",
   "pygments_lexer": "ipython3",
   "version": "3.6.5"
  },
  "varInspector": {
   "cols": {
    "lenName": 16,
    "lenType": 16,
    "lenVar": 40
   },
   "kernels_config": {
    "python": {
     "delete_cmd_postfix": "",
     "delete_cmd_prefix": "del ",
     "library": "var_list.py",
     "varRefreshCmd": "print(var_dic_list())"
    },
    "r": {
     "delete_cmd_postfix": ") ",
     "delete_cmd_prefix": "rm(",
     "library": "var_list.r",
     "varRefreshCmd": "cat(var_dic_list()) "
    }
   },
   "types_to_exclude": [
    "module",
    "function",
    "builtin_function_or_method",
    "instance",
    "_Feature"
   ],
   "window_display": false
  }
 },
 "nbformat": 4,
 "nbformat_minor": 2
}
