{
 "cells": [
  {
   "cell_type": "markdown",
   "metadata": {},
   "source": [
    "# Tune_lgb\n",
    "* 제출결과 : 0.3913216698"
   ]
  },
  {
   "cell_type": "code",
   "execution_count": 1,
   "metadata": {
    "ExecuteTime": {
     "end_time": "2020-02-06T09:35:08.557353Z",
     "start_time": "2020-02-06T09:35:06.135632Z"
    }
   },
   "outputs": [],
   "source": [
    "import pandas as pd\n",
    "import numpy as np\n",
    "import matplotlib.pyplot as plt\n",
    "import seaborn as sns\n",
    "\n",
    "from sklearn.ensemble import RandomForestClassifier\n",
    "from sklearn.model_selection import train_test_split\n",
    "from sklearn.metrics import confusion_matrix\n",
    "from sklearn.metrics import log_loss\n",
    "import lightgbm as lgb"
   ]
  },
  {
   "cell_type": "code",
   "execution_count": 2,
   "metadata": {},
   "outputs": [],
   "source": [
    "path = \"./data/\" \n",
    "train_df = pd.read_csv(path+'train.csv',index_col=0)\n",
    "test_df = pd.read_csv(path+'test.csv',index_col=0)\n",
    "sample_submission_df = pd.read_csv(path+'sample_submission.csv',index_col=0)\n",
    "pd.options.display.max_columns = 30"
   ]
  },
  {
   "cell_type": "markdown",
   "metadata": {},
   "source": [
    "## DATA Setting"
   ]
  },
  {
   "cell_type": "code",
   "execution_count": 3,
   "metadata": {
    "ExecuteTime": {
     "end_time": "2020-02-06T09:35:10.256315Z",
     "start_time": "2020-02-06T09:35:10.165303Z"
    }
   },
   "outputs": [],
   "source": [
    "column_number = {}\n",
    "number_columns = {}\n",
    "for i, column in enumerate(sample_submission_df.columns):\n",
    "    column_number[column] = i\n",
    "    number_columns[i] = column\n",
    "    \n",
    "    \n",
    "def to_number(x, dic):\n",
    "    return dic[x]\n",
    "\n",
    "train_df['type_num'] = train_df['type'].apply(lambda x: to_number(x, column_number))\n"
   ]
  },
  {
   "cell_type": "code",
   "execution_count": 4,
   "metadata": {},
   "outputs": [],
   "source": [
    "def add_minus_feature(data,test = False):\n",
    "    from itertools import combinations\n",
    "    n = 0\n",
    "    for count in range(5,21,5):\n",
    "        s = 2\n",
    "        if test == True :\n",
    "            s = 1\n",
    "        selected = data.columns[s:].values[n:count]\n",
    "        mag = str.split(selected[0],'_')[0]\n",
    "        for combi in list(combinations(selected,2)):\n",
    "            name_1st = str.split(combi[0],'_')[1]\n",
    "            name_2nd = str.split(combi[1],'_')[1]\n",
    "            data[mag+\"_\"+name_1st+\"-\"+name_2nd] = data[combi[0]]-data[combi[1]]\n",
    "        n=count\n",
    "    return data"
   ]
  },
  {
   "cell_type": "code",
   "execution_count": 5,
   "metadata": {},
   "outputs": [],
   "source": [
    "train_df = add_minus_feature(train_df)\n",
    "test_df = add_minus_feature(test_df,True)"
   ]
  },
  {
   "cell_type": "code",
   "execution_count": 6,
   "metadata": {
    "ExecuteTime": {
     "end_time": "2020-02-06T09:35:10.285298Z",
     "start_time": "2020-02-06T09:35:10.258300Z"
    }
   },
   "outputs": [],
   "source": [
    "train_X = train_df.drop(columns=['type', 'type_num'], axis=1)\n",
    "train_y = train_df['type_num']\n",
    "test_X = test_df"
   ]
  },
  {
   "cell_type": "code",
   "execution_count": 7,
   "metadata": {
    "scrolled": true
   },
   "outputs": [
    {
     "data": {
      "text/html": [
       "<div>\n",
       "<style scoped>\n",
       "    .dataframe tbody tr th:only-of-type {\n",
       "        vertical-align: middle;\n",
       "    }\n",
       "\n",
       "    .dataframe tbody tr th {\n",
       "        vertical-align: top;\n",
       "    }\n",
       "\n",
       "    .dataframe thead th {\n",
       "        text-align: right;\n",
       "    }\n",
       "</style>\n",
       "<table border=\"1\" class=\"dataframe\">\n",
       "  <thead>\n",
       "    <tr style=\"text-align: right;\">\n",
       "      <th></th>\n",
       "      <th>fiberID</th>\n",
       "      <th>psfMag_u</th>\n",
       "      <th>psfMag_g</th>\n",
       "      <th>psfMag_r</th>\n",
       "      <th>psfMag_i</th>\n",
       "      <th>psfMag_z</th>\n",
       "      <th>fiberMag_u</th>\n",
       "      <th>fiberMag_g</th>\n",
       "      <th>fiberMag_r</th>\n",
       "      <th>fiberMag_i</th>\n",
       "      <th>fiberMag_z</th>\n",
       "      <th>petroMag_u</th>\n",
       "      <th>petroMag_g</th>\n",
       "      <th>petroMag_r</th>\n",
       "      <th>petroMag_i</th>\n",
       "      <th>...</th>\n",
       "      <th>petroMag_g-i</th>\n",
       "      <th>petroMag_g-z</th>\n",
       "      <th>petroMag_r-i</th>\n",
       "      <th>petroMag_r-z</th>\n",
       "      <th>petroMag_i-z</th>\n",
       "      <th>modelMag_u-g</th>\n",
       "      <th>modelMag_u-r</th>\n",
       "      <th>modelMag_u-i</th>\n",
       "      <th>modelMag_u-z</th>\n",
       "      <th>modelMag_g-r</th>\n",
       "      <th>modelMag_g-i</th>\n",
       "      <th>modelMag_g-z</th>\n",
       "      <th>modelMag_r-i</th>\n",
       "      <th>modelMag_r-z</th>\n",
       "      <th>modelMag_i-z</th>\n",
       "    </tr>\n",
       "    <tr>\n",
       "      <th>id</th>\n",
       "      <th></th>\n",
       "      <th></th>\n",
       "      <th></th>\n",
       "      <th></th>\n",
       "      <th></th>\n",
       "      <th></th>\n",
       "      <th></th>\n",
       "      <th></th>\n",
       "      <th></th>\n",
       "      <th></th>\n",
       "      <th></th>\n",
       "      <th></th>\n",
       "      <th></th>\n",
       "      <th></th>\n",
       "      <th></th>\n",
       "      <th></th>\n",
       "      <th></th>\n",
       "      <th></th>\n",
       "      <th></th>\n",
       "      <th></th>\n",
       "      <th></th>\n",
       "      <th></th>\n",
       "      <th></th>\n",
       "      <th></th>\n",
       "      <th></th>\n",
       "      <th></th>\n",
       "      <th></th>\n",
       "      <th></th>\n",
       "      <th></th>\n",
       "      <th></th>\n",
       "      <th></th>\n",
       "    </tr>\n",
       "  </thead>\n",
       "  <tbody>\n",
       "    <tr>\n",
       "      <td>0</td>\n",
       "      <td>601</td>\n",
       "      <td>23.198224</td>\n",
       "      <td>21.431953</td>\n",
       "      <td>21.314148</td>\n",
       "      <td>21.176553</td>\n",
       "      <td>21.171444</td>\n",
       "      <td>22.581309</td>\n",
       "      <td>21.644453</td>\n",
       "      <td>21.657571</td>\n",
       "      <td>21.387653</td>\n",
       "      <td>21.572827</td>\n",
       "      <td>22.504317</td>\n",
       "      <td>21.431636</td>\n",
       "      <td>21.478312</td>\n",
       "      <td>21.145409</td>\n",
       "      <td>...</td>\n",
       "      <td>0.286226</td>\n",
       "      <td>1.009190</td>\n",
       "      <td>0.332902</td>\n",
       "      <td>1.055866</td>\n",
       "      <td>0.722964</td>\n",
       "      <td>1.283708</td>\n",
       "      <td>1.385054</td>\n",
       "      <td>1.728637</td>\n",
       "      <td>1.601901</td>\n",
       "      <td>0.101347</td>\n",
       "      <td>0.444929</td>\n",
       "      <td>0.318194</td>\n",
       "      <td>0.343582</td>\n",
       "      <td>0.216847</td>\n",
       "      <td>-0.126735</td>\n",
       "    </tr>\n",
       "    <tr>\n",
       "      <td>1</td>\n",
       "      <td>788</td>\n",
       "      <td>21.431355</td>\n",
       "      <td>20.708104</td>\n",
       "      <td>20.678850</td>\n",
       "      <td>20.703420</td>\n",
       "      <td>20.473229</td>\n",
       "      <td>21.868797</td>\n",
       "      <td>21.029773</td>\n",
       "      <td>20.967054</td>\n",
       "      <td>20.937731</td>\n",
       "      <td>21.063646</td>\n",
       "      <td>21.360701</td>\n",
       "      <td>20.778968</td>\n",
       "      <td>20.889705</td>\n",
       "      <td>20.639812</td>\n",
       "      <td>...</td>\n",
       "      <td>0.139156</td>\n",
       "      <td>0.132308</td>\n",
       "      <td>0.249893</td>\n",
       "      <td>0.243045</td>\n",
       "      <td>-0.006847</td>\n",
       "      <td>0.734428</td>\n",
       "      <td>0.739030</td>\n",
       "      <td>0.799566</td>\n",
       "      <td>0.980641</td>\n",
       "      <td>0.004602</td>\n",
       "      <td>0.065138</td>\n",
       "      <td>0.246213</td>\n",
       "      <td>0.060537</td>\n",
       "      <td>0.241611</td>\n",
       "      <td>0.181074</td>\n",
       "    </tr>\n",
       "    <tr>\n",
       "      <td>2</td>\n",
       "      <td>427</td>\n",
       "      <td>17.851451</td>\n",
       "      <td>16.727898</td>\n",
       "      <td>16.679677</td>\n",
       "      <td>16.694640</td>\n",
       "      <td>16.641788</td>\n",
       "      <td>18.171890</td>\n",
       "      <td>17.033098</td>\n",
       "      <td>16.999682</td>\n",
       "      <td>17.095999</td>\n",
       "      <td>17.076449</td>\n",
       "      <td>17.867253</td>\n",
       "      <td>16.738784</td>\n",
       "      <td>16.688874</td>\n",
       "      <td>16.744210</td>\n",
       "      <td>...</td>\n",
       "      <td>-0.005426</td>\n",
       "      <td>-0.069222</td>\n",
       "      <td>-0.055336</td>\n",
       "      <td>-0.119132</td>\n",
       "      <td>-0.063796</td>\n",
       "      <td>1.120628</td>\n",
       "      <td>1.176814</td>\n",
       "      <td>1.157885</td>\n",
       "      <td>1.129134</td>\n",
       "      <td>0.056186</td>\n",
       "      <td>0.037257</td>\n",
       "      <td>0.008506</td>\n",
       "      <td>-0.018929</td>\n",
       "      <td>-0.047680</td>\n",
       "      <td>-0.028751</td>\n",
       "    </tr>\n",
       "    <tr>\n",
       "      <td>3</td>\n",
       "      <td>864</td>\n",
       "      <td>20.789900</td>\n",
       "      <td>20.040371</td>\n",
       "      <td>19.926909</td>\n",
       "      <td>19.843840</td>\n",
       "      <td>19.463270</td>\n",
       "      <td>21.039030</td>\n",
       "      <td>20.317165</td>\n",
       "      <td>20.217898</td>\n",
       "      <td>20.073852</td>\n",
       "      <td>19.794505</td>\n",
       "      <td>20.433907</td>\n",
       "      <td>19.993727</td>\n",
       "      <td>19.985531</td>\n",
       "      <td>19.750917</td>\n",
       "      <td>...</td>\n",
       "      <td>0.242810</td>\n",
       "      <td>0.538610</td>\n",
       "      <td>0.234614</td>\n",
       "      <td>0.530413</td>\n",
       "      <td>0.295800</td>\n",
       "      <td>0.769012</td>\n",
       "      <td>0.880913</td>\n",
       "      <td>1.012598</td>\n",
       "      <td>1.217856</td>\n",
       "      <td>0.111901</td>\n",
       "      <td>0.243586</td>\n",
       "      <td>0.448844</td>\n",
       "      <td>0.131685</td>\n",
       "      <td>0.336943</td>\n",
       "      <td>0.205258</td>\n",
       "    </tr>\n",
       "    <tr>\n",
       "      <td>4</td>\n",
       "      <td>612</td>\n",
       "      <td>26.454969</td>\n",
       "      <td>23.058767</td>\n",
       "      <td>21.471406</td>\n",
       "      <td>19.504961</td>\n",
       "      <td>18.389096</td>\n",
       "      <td>25.700632</td>\n",
       "      <td>23.629122</td>\n",
       "      <td>21.742750</td>\n",
       "      <td>19.861718</td>\n",
       "      <td>18.810375</td>\n",
       "      <td>25.859229</td>\n",
       "      <td>22.426929</td>\n",
       "      <td>21.673551</td>\n",
       "      <td>19.610012</td>\n",
       "      <td>...</td>\n",
       "      <td>2.816917</td>\n",
       "      <td>4.050788</td>\n",
       "      <td>2.063539</td>\n",
       "      <td>3.297411</td>\n",
       "      <td>1.233871</td>\n",
       "      <td>1.729059</td>\n",
       "      <td>3.401710</td>\n",
       "      <td>5.389723</td>\n",
       "      <td>6.501398</td>\n",
       "      <td>1.672651</td>\n",
       "      <td>3.660663</td>\n",
       "      <td>4.772338</td>\n",
       "      <td>1.988012</td>\n",
       "      <td>3.099688</td>\n",
       "      <td>1.111675</td>\n",
       "    </tr>\n",
       "  </tbody>\n",
       "</table>\n",
       "<p>5 rows × 61 columns</p>\n",
       "</div>"
      ],
      "text/plain": [
       "    fiberID   psfMag_u   psfMag_g   psfMag_r   psfMag_i   psfMag_z  \\\n",
       "id                                                                   \n",
       "0       601  23.198224  21.431953  21.314148  21.176553  21.171444   \n",
       "1       788  21.431355  20.708104  20.678850  20.703420  20.473229   \n",
       "2       427  17.851451  16.727898  16.679677  16.694640  16.641788   \n",
       "3       864  20.789900  20.040371  19.926909  19.843840  19.463270   \n",
       "4       612  26.454969  23.058767  21.471406  19.504961  18.389096   \n",
       "\n",
       "    fiberMag_u  fiberMag_g  fiberMag_r  fiberMag_i  fiberMag_z  petroMag_u  \\\n",
       "id                                                                           \n",
       "0    22.581309   21.644453   21.657571   21.387653   21.572827   22.504317   \n",
       "1    21.868797   21.029773   20.967054   20.937731   21.063646   21.360701   \n",
       "2    18.171890   17.033098   16.999682   17.095999   17.076449   17.867253   \n",
       "3    21.039030   20.317165   20.217898   20.073852   19.794505   20.433907   \n",
       "4    25.700632   23.629122   21.742750   19.861718   18.810375   25.859229   \n",
       "\n",
       "    petroMag_g  petroMag_r  petroMag_i  ...  petroMag_g-i  petroMag_g-z  \\\n",
       "id                                      ...                               \n",
       "0    21.431636   21.478312   21.145409  ...      0.286226      1.009190   \n",
       "1    20.778968   20.889705   20.639812  ...      0.139156      0.132308   \n",
       "2    16.738784   16.688874   16.744210  ...     -0.005426     -0.069222   \n",
       "3    19.993727   19.985531   19.750917  ...      0.242810      0.538610   \n",
       "4    22.426929   21.673551   19.610012  ...      2.816917      4.050788   \n",
       "\n",
       "    petroMag_r-i  petroMag_r-z  petroMag_i-z  modelMag_u-g  modelMag_u-r  \\\n",
       "id                                                                         \n",
       "0       0.332902      1.055866      0.722964      1.283708      1.385054   \n",
       "1       0.249893      0.243045     -0.006847      0.734428      0.739030   \n",
       "2      -0.055336     -0.119132     -0.063796      1.120628      1.176814   \n",
       "3       0.234614      0.530413      0.295800      0.769012      0.880913   \n",
       "4       2.063539      3.297411      1.233871      1.729059      3.401710   \n",
       "\n",
       "    modelMag_u-i  modelMag_u-z  modelMag_g-r  modelMag_g-i  modelMag_g-z  \\\n",
       "id                                                                         \n",
       "0       1.728637      1.601901      0.101347      0.444929      0.318194   \n",
       "1       0.799566      0.980641      0.004602      0.065138      0.246213   \n",
       "2       1.157885      1.129134      0.056186      0.037257      0.008506   \n",
       "3       1.012598      1.217856      0.111901      0.243586      0.448844   \n",
       "4       5.389723      6.501398      1.672651      3.660663      4.772338   \n",
       "\n",
       "    modelMag_r-i  modelMag_r-z  modelMag_i-z  \n",
       "id                                            \n",
       "0       0.343582      0.216847     -0.126735  \n",
       "1       0.060537      0.241611      0.181074  \n",
       "2      -0.018929     -0.047680     -0.028751  \n",
       "3       0.131685      0.336943      0.205258  \n",
       "4       1.988012      3.099688      1.111675  \n",
       "\n",
       "[5 rows x 61 columns]"
      ]
     },
     "execution_count": 7,
     "metadata": {},
     "output_type": "execute_result"
    }
   ],
   "source": [
    "train_X.head()"
   ]
  },
  {
   "cell_type": "code",
   "execution_count": 8,
   "metadata": {
    "scrolled": true
   },
   "outputs": [
    {
     "data": {
      "text/plain": [
       "Index(['fiberID', 'psfMag_u', 'psfMag_g', 'psfMag_r', 'psfMag_i', 'psfMag_z',\n",
       "       'fiberMag_u', 'fiberMag_g', 'fiberMag_r', 'fiberMag_i', 'fiberMag_z',\n",
       "       'petroMag_u', 'petroMag_g', 'petroMag_r', 'petroMag_i', 'petroMag_z',\n",
       "       'modelMag_u', 'modelMag_g', 'modelMag_r', 'modelMag_i', 'modelMag_z',\n",
       "       'psfMag_u-g', 'psfMag_u-r', 'psfMag_u-i', 'psfMag_u-z', 'psfMag_g-r',\n",
       "       'psfMag_g-i', 'psfMag_g-z', 'psfMag_r-i', 'psfMag_r-z', 'psfMag_i-z',\n",
       "       'fiberMag_u-g', 'fiberMag_u-r', 'fiberMag_u-i', 'fiberMag_u-z',\n",
       "       'fiberMag_g-r', 'fiberMag_g-i', 'fiberMag_g-z', 'fiberMag_r-i',\n",
       "       'fiberMag_r-z', 'fiberMag_i-z', 'petroMag_u-g', 'petroMag_u-r',\n",
       "       'petroMag_u-i', 'petroMag_u-z', 'petroMag_g-r', 'petroMag_g-i',\n",
       "       'petroMag_g-z', 'petroMag_r-i', 'petroMag_r-z', 'petroMag_i-z',\n",
       "       'modelMag_u-g', 'modelMag_u-r', 'modelMag_u-i', 'modelMag_u-z',\n",
       "       'modelMag_g-r', 'modelMag_g-i', 'modelMag_g-z', 'modelMag_r-i',\n",
       "       'modelMag_r-z', 'modelMag_i-z'],\n",
       "      dtype='object')"
      ]
     },
     "execution_count": 8,
     "metadata": {},
     "output_type": "execute_result"
    }
   ],
   "source": [
    "train_X.columns"
   ]
  },
  {
   "cell_type": "code",
   "execution_count": 9,
   "metadata": {},
   "outputs": [],
   "source": [
    "## u-g, g-r, r-i, i-z 만 남기는게 좋지 않을까????\n",
    "train_X.drop(['psfMag_u-r','psfMag_u-i','psfMag_u-z','psfMag_g-i','psfMag_g-z','psfMag_r-z',\n",
    "             'fiberMag_u-r','fiberMag_u-i','fiberMag_u-z','fiberMag_g-i','fiberMag_g-z','fiberMag_r-z',\n",
    "             'petroMag_u-r','petroMag_u-i','petroMag_u-z','petroMag_g-i','petroMag_g-z','petroMag_r-z',\n",
    "             'modelMag_u-r','modelMag_u-i','modelMag_u-z','modelMag_g-i','modelMag_g-z','modelMag_r-z'] ,axis=1, inplace=True)\n",
    "\n",
    "test_X.drop(['psfMag_u-r','psfMag_u-i','psfMag_u-z','psfMag_g-i','psfMag_g-z','psfMag_r-z',\n",
    "             'fiberMag_u-r','fiberMag_u-i','fiberMag_u-z','fiberMag_g-i','fiberMag_g-z','fiberMag_r-z',\n",
    "             'petroMag_u-r','petroMag_u-i','petroMag_u-z','petroMag_g-i','petroMag_g-z','petroMag_r-z',\n",
    "             'modelMag_u-r','modelMag_u-i','modelMag_u-z','modelMag_g-i','modelMag_g-z','modelMag_r-z'] ,axis=1, inplace=True)"
   ]
  },
  {
   "cell_type": "code",
   "execution_count": 10,
   "metadata": {
    "ExecuteTime": {
     "end_time": "2020-02-06T09:35:10.454305Z",
     "start_time": "2020-02-06T09:35:10.287298Z"
    }
   },
   "outputs": [],
   "source": [
    "X_train, X_test, y_train, y_test = train_test_split(train_X, train_y, test_size=0.3, random_state=42,stratify = train_y)"
   ]
  },
  {
   "cell_type": "code",
   "execution_count": 11,
   "metadata": {},
   "outputs": [],
   "source": [
    "train_ds = lgb.Dataset(X_train, label = y_train, categorical_feature=['fiberID'])\n",
    "test_ds = lgb.Dataset(X_test, label = y_test, categorical_feature=['fiberID']) "
   ]
  },
  {
   "cell_type": "code",
   "execution_count": 13,
   "metadata": {},
   "outputs": [],
   "source": [
    "params = {\n",
    "    'boosting_type': 'dart',\n",
    "    'objective': 'multiclass',\n",
    "    'num_class': train_y.nunique(),\n",
    "    'metric': {'multi_logloss','multi_logloss'},\n",
    "    'num_leaves': 25,\n",
    "    'learning_rate': 0.01,\n",
    "    'max_depth' : 12,\n",
    "    'random_state' : 80\n",
    "}"
   ]
  },
  {
   "cell_type": "markdown",
   "metadata": {},
   "source": [
    "## Modeling"
   ]
  },
  {
   "cell_type": "code",
   "execution_count": 14,
   "metadata": {},
   "outputs": [
    {
     "name": "stderr",
     "output_type": "stream",
     "text": [
      "C:\\Anaconda3\\lib\\site-packages\\lightgbm\\basic.py:1243: UserWarning: Using categorical_feature in Dataset.\n",
      "  warnings.warn('Using categorical_feature in Dataset.')\n",
      "C:\\Anaconda3\\lib\\site-packages\\lightgbm\\callback.py:192: UserWarning: Early stopping is not available in dart mode\n",
      "  warnings.warn('Early stopping is not available in dart mode')\n"
     ]
    },
    {
     "name": "stdout",
     "output_type": "stream",
     "text": [
      "[100]\tTrain's multi_logloss: 1.88784\tTest's multi_logloss: 1.89678\n",
      "[200]\tTrain's multi_logloss: 1.49316\tTest's multi_logloss: 1.50838\n",
      "[300]\tTrain's multi_logloss: 1.17537\tTest's multi_logloss: 1.19768\n",
      "[400]\tTrain's multi_logloss: 1.05307\tTest's multi_logloss: 1.07958\n",
      "[500]\tTrain's multi_logloss: 0.927004\tTest's multi_logloss: 0.959547\n",
      "[600]\tTrain's multi_logloss: 0.836488\tTest's multi_logloss: 0.873357\n",
      "[700]\tTrain's multi_logloss: 0.738691\tTest's multi_logloss: 0.780911\n",
      "[800]\tTrain's multi_logloss: 0.665796\tTest's multi_logloss: 0.713273\n",
      "[900]\tTrain's multi_logloss: 0.619425\tTest's multi_logloss: 0.671484\n",
      "[1000]\tTrain's multi_logloss: 0.552305\tTest's multi_logloss: 0.611053\n",
      "[1100]\tTrain's multi_logloss: 0.517252\tTest's multi_logloss: 0.581266\n",
      "[1200]\tTrain's multi_logloss: 0.485497\tTest's multi_logloss: 0.554592\n",
      "[1300]\tTrain's multi_logloss: 0.470032\tTest's multi_logloss: 0.542546\n",
      "[1400]\tTrain's multi_logloss: 0.429973\tTest's multi_logloss: 0.508951\n",
      "[1500]\tTrain's multi_logloss: 0.4066\tTest's multi_logloss: 0.491076\n",
      "[1600]\tTrain's multi_logloss: 0.38105\tTest's multi_logloss: 0.472029\n",
      "[1700]\tTrain's multi_logloss: 0.356747\tTest's multi_logloss: 0.455216\n",
      "[1800]\tTrain's multi_logloss: 0.340793\tTest's multi_logloss: 0.445336\n",
      "[1900]\tTrain's multi_logloss: 0.325186\tTest's multi_logloss: 0.435873\n",
      "[2000]\tTrain's multi_logloss: 0.312608\tTest's multi_logloss: 0.428888\n",
      "[2100]\tTrain's multi_logloss: 0.296736\tTest's multi_logloss: 0.420102\n",
      "[2200]\tTrain's multi_logloss: 0.286505\tTest's multi_logloss: 0.415543\n",
      "[2300]\tTrain's multi_logloss: 0.279713\tTest's multi_logloss: 0.4131\n",
      "[2400]\tTrain's multi_logloss: 0.269844\tTest's multi_logloss: 0.409122\n",
      "[2500]\tTrain's multi_logloss: 0.259755\tTest's multi_logloss: 0.405458\n",
      "[2600]\tTrain's multi_logloss: 0.25038\tTest's multi_logloss: 0.402588\n",
      "[2700]\tTrain's multi_logloss: 0.244664\tTest's multi_logloss: 0.401347\n",
      "[2800]\tTrain's multi_logloss: 0.236465\tTest's multi_logloss: 0.399306\n",
      "[2900]\tTrain's multi_logloss: 0.229981\tTest's multi_logloss: 0.398121\n",
      "[3000]\tTrain's multi_logloss: 0.225661\tTest's multi_logloss: 0.397621\n",
      "[3100]\tTrain's multi_logloss: 0.219049\tTest's multi_logloss: 0.396554\n",
      "[3200]\tTrain's multi_logloss: 0.21191\tTest's multi_logloss: 0.395629\n",
      "[3300]\tTrain's multi_logloss: 0.206949\tTest's multi_logloss: 0.395512\n",
      "[3400]\tTrain's multi_logloss: 0.201442\tTest's multi_logloss: 0.395273\n",
      "[3500]\tTrain's multi_logloss: 0.198276\tTest's multi_logloss: 0.395347\n",
      "[3600]\tTrain's multi_logloss: 0.192856\tTest's multi_logloss: 0.39532\n",
      "[3700]\tTrain's multi_logloss: 0.190266\tTest's multi_logloss: 0.395478\n",
      "[3800]\tTrain's multi_logloss: 0.186991\tTest's multi_logloss: 0.395576\n",
      "[3900]\tTrain's multi_logloss: 0.184297\tTest's multi_logloss: 0.395651\n",
      "[4000]\tTrain's multi_logloss: 0.181199\tTest's multi_logloss: 0.395792\n",
      "[4100]\tTrain's multi_logloss: 0.17782\tTest's multi_logloss: 0.395999\n",
      "[4200]\tTrain's multi_logloss: 0.173012\tTest's multi_logloss: 0.3965\n",
      "[4300]\tTrain's multi_logloss: 0.168901\tTest's multi_logloss: 0.396974\n",
      "[4400]\tTrain's multi_logloss: 0.166479\tTest's multi_logloss: 0.397342\n",
      "[4500]\tTrain's multi_logloss: 0.164465\tTest's multi_logloss: 0.397724\n",
      "[4600]\tTrain's multi_logloss: 0.160747\tTest's multi_logloss: 0.398453\n",
      "[4700]\tTrain's multi_logloss: 0.158511\tTest's multi_logloss: 0.398963\n",
      "[4800]\tTrain's multi_logloss: 0.156462\tTest's multi_logloss: 0.399317\n",
      "[4900]\tTrain's multi_logloss: 0.152861\tTest's multi_logloss: 0.400284\n",
      "[5000]\tTrain's multi_logloss: 0.150205\tTest's multi_logloss: 0.400926\n"
     ]
    }
   ],
   "source": [
    "evaluation_results = {}\n",
    "lgmb_model = lgb.train(params, train_ds,num_boost_round= 5000, \n",
    "                       valid_sets = [train_ds,test_ds], valid_names=['Train', 'Test'],\n",
    "                       evals_result=evaluation_results,\n",
    "                       verbose_eval=100, early_stopping_rounds=100)"
   ]
  },
  {
   "cell_type": "code",
   "execution_count": 15,
   "metadata": {
    "ExecuteTime": {
     "end_time": "2020-02-06T09:38:57.273204Z",
     "start_time": "2020-02-06T09:35:10.455302Z"
    }
   },
   "outputs": [
    {
     "data": {
      "image/png": "[encoded data removed]",
      "text/plain": [
       "<Figure size 1080x288 with 2 Axes>"
      ]
     },
     "metadata": {},
     "output_type": "display_data"
    }
   ],
   "source": [
    "fig, axs = plt.subplots(1, 2, figsize=[15, 4])\n",
    "\n",
    "# Plot the log loss during training\n",
    "axs[0].plot(evaluation_results['Train']['multi_logloss'], label='Train')\n",
    "axs[0].plot(evaluation_results['Test']['multi_logloss'], label='Test')\n",
    "axs[0].set_ylabel('Log loss')\n",
    "axs[0].set_xlabel('Boosting round')\n",
    "axs[0].set_title('Training performance')\n",
    "axs[0].legend()\n",
    "\n",
    "# Plot feature importance\n",
    "importances = pd.DataFrame({'features': lgmb_model.feature_name(), \n",
    "                            'importance': lgmb_model.feature_importance()}).sort_values('importance', ascending=False).head(10)\n",
    "axs[1].bar(x=np.arange(len(importances)), height=importances['importance'])\n",
    "axs[1].set_xticks(np.arange(len(importances)))\n",
    "axs[1].set_xticklabels(importances['features'])\n",
    "axs[1].set_ylabel('Feature importance (# times used to split)')\n",
    "axs[1].set_title('Feature importance')\n",
    "plt.xticks(rotation=45)\n",
    "\n",
    "plt.show()"
   ]
  },
  {
   "cell_type": "code",
   "execution_count": null,
   "metadata": {},
   "outputs": [],
   "source": [
    "train_y_pred = lgmb_model.predict(X_test)\n",
    "real_y_pred = lgmb_model.predict(test_X)"
   ]
  },
  {
   "cell_type": "code",
   "execution_count": null,
   "metadata": {
    "ExecuteTime": {
     "end_time": "2020-02-06T09:41:33.000315Z",
     "start_time": "2020-02-06T09:38:57.281190Z"
    },
    "scrolled": true
   },
   "outputs": [],
   "source": [
    "#log_loss\n",
    "log_loss(y_test,train_y_pred,labels= list(set(y_test)))"
   ]
  },
  {
   "cell_type": "code",
   "execution_count": null,
   "metadata": {
    "ExecuteTime": {
     "end_time": "2020-02-06T09:43:54.575901Z",
     "start_time": "2020-02-06T09:41:33.001315Z"
    },
    "scrolled": false
   },
   "outputs": [],
   "source": [
    "feature_df = pd.DataFrame(lgmb_model.feature_importance(), index= train_X.columns,columns= ['importance']).sort_values('importance',ascending = False)\n",
    "feature_df.head(10)"
   ]
  },
  {
   "cell_type": "markdown",
   "metadata": {},
   "source": [
    "## Gridsearch_cv"
   ]
  },
  {
   "cell_type": "code",
   "execution_count": 11,
   "metadata": {},
   "outputs": [],
   "source": [
    "# from sklearn.feature_selection import SelectKBest\n",
    "# model_kbest = SelectKBest()\n",
    "# from sklearn.pipeline import Pipeline"
   ]
  },
  {
   "cell_type": "code",
   "execution_count": 12,
   "metadata": {},
   "outputs": [
    {
     "ename": "NameError",
     "evalue": "name 'lgbm' is not defined",
     "output_type": "error",
     "traceback": [
      "\u001b[1;31m---------------------------------------------------------------------------\u001b[0m",
      "\u001b[1;31mNameError\u001b[0m                                 Traceback (most recent call last)",
      "\u001b[1;32m<ipython-input-12-c1fdb810f6b0>\u001b[0m in \u001b[0;36m<module>\u001b[1;34m()\u001b[0m\n\u001b[0;32m      1\u001b[0m \u001b[1;31m#최적의 변수를 찾기 위한 KBest 함수 불러오기\u001b[0m\u001b[1;33m\u001b[0m\u001b[1;33m\u001b[0m\u001b[0m\n\u001b[0;32m      2\u001b[0m \u001b[1;31m#파이프라인 구축\u001b[0m\u001b[1;33m\u001b[0m\u001b[1;33m\u001b[0m\u001b[0m\n\u001b[1;32m----> 3\u001b[1;33m \u001b[0mpipe_lgbm\u001b[0m \u001b[1;33m=\u001b[0m \u001b[0mPipeline\u001b[0m\u001b[1;33m(\u001b[0m\u001b[1;33m[\u001b[0m\u001b[1;33m(\u001b[0m\u001b[1;34m\"kbest\"\u001b[0m\u001b[1;33m,\u001b[0m \u001b[0mmodel_kbest\u001b[0m\u001b[1;33m)\u001b[0m\u001b[1;33m,\u001b[0m\u001b[1;33m(\u001b[0m\u001b[1;34m'lgbm'\u001b[0m\u001b[1;33m,\u001b[0m\u001b[0mlgbm\u001b[0m\u001b[1;33m)\u001b[0m\u001b[1;33m]\u001b[0m\u001b[1;33m)\u001b[0m\u001b[1;33m\u001b[0m\u001b[0m\n\u001b[0m\u001b[0;32m      4\u001b[0m \u001b[1;31m#파라미터 생성\u001b[0m\u001b[1;33m\u001b[0m\u001b[1;33m\u001b[0m\u001b[0m\n\u001b[0;32m      5\u001b[0m params_lgbm = {\"kbest__k\":[163],\n",
      "\u001b[1;31mNameError\u001b[0m: name 'lgbm' is not defined"
     ]
    }
   ],
   "source": [
    "# #최적의 변수를 찾기 위한 KBest 함수 불러오기\n",
    "# #파이프라인 구축\n",
    "# pipe_lgbm = Pipeline([('lgbm',lgbm_c)])\n",
    "# #파라미터 생성\n",
    "# params_lgbm = {\n",
    "#           \"lgbm__max_depth\": [15,20,25],\n",
    "#          \"lgbm__learning_rate\": [0.001],\n",
    "#          \"lgbm__num_leaves\": [15,20,25],\n",
    "#          \"lgbm__n_estimators\": [200,300,400,500],\n",
    "#          \"lgbm__random_state\": [42]}"
   ]
  },
  {
   "cell_type": "code",
   "execution_count": null,
   "metadata": {},
   "outputs": [],
   "source": [
    "# #최적의 파라미터 탐색\n",
    "# from sklearn.model_selection import GridSearchCV\n",
    "# grid_search = GridSearchCV(pipe_lgbm, param_grid = params_lgbm,\n",
    "# #                           cv=3, n_jobs=-1, verbose=10)"
   ]
  },
  {
   "cell_type": "code",
   "execution_count": null,
   "metadata": {},
   "outputs": [],
   "source": [
    "# grid_search.fit(X_train, y_train)"
   ]
  },
  {
   "cell_type": "code",
   "execution_count": null,
   "metadata": {},
   "outputs": [],
   "source": [
    "# lgbm_grid = grid_search.best_estimator_\n",
    "# lgbm_grid"
   ]
  },
  {
   "cell_type": "code",
   "execution_count": null,
   "metadata": {},
   "outputs": [],
   "source": []
  }
 ],
 "metadata": {
  "kernelspec": {
   "display_name": "Python 3",
   "language": "python",
   "name": "python3"
  },
  "language_info": {
   "codemirror_mode": {
    "name": "ipython",
    "version": 3
   },
   "file_extension": ".py",
   "mimetype": "text/x-python",
   "name": "python",
   "nbconvert_exporter": "python",
   "pygments_lexer": "ipython3",
   "version": "3.6.4"
  },
  "varInspector": {
   "cols": {
    "lenName": 16,
    "lenType": 16,
    "lenVar": 40
   },
   "kernels_config": {
    "python": {
     "delete_cmd_postfix": "",
     "delete_cmd_prefix": "del ",
     "library": "var_list.py",
     "varRefreshCmd": "print(var_dic_list())"
    },
    "r": {
     "delete_cmd_postfix": ") ",
     "delete_cmd_prefix": "rm(",
     "library": "var_list.r",
     "varRefreshCmd": "cat(var_dic_list()) "
    }
   },
   "types_to_exclude": [
    "module",
    "function",
    "builtin_function_or_method",
    "instance",
    "_Feature"
   ],
   "window_display": false
  }
 },
 "nbformat": 4,
 "nbformat_minor": 2
}
