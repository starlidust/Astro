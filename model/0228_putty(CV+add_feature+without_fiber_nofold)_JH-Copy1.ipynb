{
 "cells": [
  {
   "cell_type": "markdown",
   "metadata": {},
   "source": [
    "# out_fiberID\n",
    "* cv를 추가변수사용해서 진행"
   ]
  },
  {
   "cell_type": "code",
   "execution_count": 56,
   "metadata": {
    "ExecuteTime": {
     "end_time": "2020-02-28T03:51:21.626020Z",
     "start_time": "2020-02-28T03:51:21.622020Z"
    }
   },
   "outputs": [],
   "source": [
    "import pandas as pd\n",
    "import numpy as np\n",
    "import matplotlib.pyplot as plt\n",
    "import seaborn as sns\n",
    "\n",
    "from sklearn.ensemble import RandomForestClassifier\n",
    "from sklearn.model_selection import train_test_split\n",
    "from sklearn.metrics import confusion_matrix\n",
    "from sklearn.metrics import log_loss\n",
    "\n",
    "\n",
    "import lightgbm as lgb\n",
    "from sklearn.model_selection import KFold, StratifiedKFold, RandomizedSearchCV, GridSearchCV"
   ]
  },
  {
   "cell_type": "code",
   "execution_count": 2,
   "metadata": {
    "ExecuteTime": {
     "end_time": "2020-02-28T02:09:55.698923Z",
     "start_time": "2020-02-28T02:09:55.696923Z"
    }
   },
   "outputs": [],
   "source": [
    "# from google.colab import drive\n",
    "# drive.mount('/content/drive')"
   ]
  },
  {
   "cell_type": "code",
   "execution_count": 3,
   "metadata": {
    "ExecuteTime": {
     "end_time": "2020-02-28T02:09:55.729922Z",
     "start_time": "2020-02-28T02:09:55.699923Z"
    }
   },
   "outputs": [],
   "source": [
    "# #colab용\n",
    "# import os\n",
    "# os.chdir('/content/drive/My Drive/Colab Notebooks/Dacon/천체관측/')"
   ]
  },
  {
   "cell_type": "code",
   "execution_count": 4,
   "metadata": {
    "ExecuteTime": {
     "end_time": "2020-02-28T02:09:57.167878Z",
     "start_time": "2020-02-28T02:09:55.730922Z"
    }
   },
   "outputs": [],
   "source": [
    "# path = \"/content/drive/My Drive/Colab Notebooks/Dacon/천체관측/data/\" #colab\n",
    "path = \"./data/\" #local\n",
    "train_df = pd.read_csv(path+'train.csv',index_col=0)\n",
    "test_df = pd.read_csv(path+'test.csv',index_col=0)\n",
    "sample_submission_df = pd.read_csv(path+'sample_submission.csv',index_col=0)\n",
    "pd.options.display.max_columns = 30"
   ]
  },
  {
   "cell_type": "code",
   "execution_count": 5,
   "metadata": {
    "ExecuteTime": {
     "end_time": "2020-02-28T02:09:57.175877Z",
     "start_time": "2020-02-28T02:09:57.168877Z"
    }
   },
   "outputs": [
    {
     "data": {
      "text/plain": [
       "((199991, 22), (10009, 21))"
      ]
     },
     "execution_count": 5,
     "metadata": {},
     "output_type": "execute_result"
    }
   ],
   "source": [
    "train_df.shape, test_df.shape"
   ]
  },
  {
   "cell_type": "markdown",
   "metadata": {},
   "source": [
    "## DATA Setting"
   ]
  },
  {
   "cell_type": "code",
   "execution_count": 6,
   "metadata": {
    "ExecuteTime": {
     "end_time": "2020-02-28T02:09:57.204877Z",
     "start_time": "2020-02-28T02:09:57.178878Z"
    }
   },
   "outputs": [],
   "source": [
    "def del_outlier(data, min=0, max=60):\n",
    "    up_idx_t=()\n",
    "    dw_idx_t=()\n",
    "    train_light = data.iloc[:,2:]\n",
    "    for i in range(len(train_light.columns)):\n",
    "        col = train_light.columns[i]\n",
    "        up_idx_t+=tuple(data[data[col]>max].index)\n",
    "        dw_idx_t+=tuple(data[data[col]<min].index)\n",
    "    del_idx = set(up_idx_t+dw_idx_t)\n",
    "    \n",
    "    return data[~data.index.isin(del_idx)]"
   ]
  },
  {
   "cell_type": "code",
   "execution_count": 7,
   "metadata": {
    "ExecuteTime": {
     "end_time": "2020-02-28T02:09:57.331872Z",
     "start_time": "2020-02-28T02:09:57.205876Z"
    }
   },
   "outputs": [],
   "source": [
    "train_df = del_outlier(train_df, min=-60, max=60)"
   ]
  },
  {
   "cell_type": "code",
   "execution_count": 8,
   "metadata": {
    "ExecuteTime": {
     "end_time": "2020-02-28T02:09:57.337873Z",
     "start_time": "2020-02-28T02:09:57.332872Z"
    }
   },
   "outputs": [
    {
     "data": {
      "text/plain": [
       "(199805, 22)"
      ]
     },
     "execution_count": 8,
     "metadata": {},
     "output_type": "execute_result"
    }
   ],
   "source": [
    "train_df.shape"
   ]
  },
  {
   "cell_type": "code",
   "execution_count": 9,
   "metadata": {
    "ExecuteTime": {
     "end_time": "2020-02-28T02:09:57.497867Z",
     "start_time": "2020-02-28T02:09:57.338873Z"
    }
   },
   "outputs": [],
   "source": [
    "column_number = {}\n",
    "number_columns = {}\n",
    "for i, column in enumerate(sample_submission_df.columns):\n",
    "    column_number[column] = i\n",
    "    number_columns[i] = column\n",
    "    \n",
    "    \n",
    "def to_number(x, dic):\n",
    "    return dic[x]\n",
    "\n",
    "train_df['type_num'] = train_df['type'].apply(lambda x: to_number(x, column_number))\n"
   ]
  },
  {
   "cell_type": "code",
   "execution_count": 10,
   "metadata": {
    "ExecuteTime": {
     "end_time": "2020-02-28T02:09:57.502868Z",
     "start_time": "2020-02-28T02:09:57.498867Z"
    }
   },
   "outputs": [],
   "source": [
    "def add_minus_feature_all(data,test = False):\n",
    "    '''\n",
    "    combination으로 모든 변수들의 조합에 대해서 컬럼생성 \n",
    "    각 mag에서 가장 높은값의 filter를 받아오는 \"~~mag_MAX\"생성\n",
    "    결과 64개로 증가\n",
    "    '''\n",
    "    from itertools import combinations\n",
    "    n = 0\n",
    "    for count in range(5,21,5):\n",
    "        s = 2\n",
    "        if test == True :\n",
    "            s = 1\n",
    "        selected = data.columns[s:].values[n:count]\n",
    "        mag = str.split(selected[0],'_')[0]\n",
    "#         data[mag+\"_MAX\"] = data[selected].apply(lambda x : str.split(np.argmax(x),'_')[1],axis = 1)\n",
    "        for combi in list(combinations(selected,2)):\n",
    "            name_1st = str.split(combi[0],'_')[1]\n",
    "            name_2nd = str.split(combi[1],'_')[1]\n",
    "            data[mag+\"_\"+name_1st+\"-\"+name_2nd] = data[combi[0]]-data[combi[1]]\n",
    "        n=count\n",
    "    return data"
   ]
  },
  {
   "cell_type": "code",
   "execution_count": 11,
   "metadata": {
    "ExecuteTime": {
     "end_time": "2020-02-28T02:09:57.536866Z",
     "start_time": "2020-02-28T02:09:57.503869Z"
    }
   },
   "outputs": [],
   "source": [
    "def add_minus_feature(data,test = False):\n",
    "    '''\n",
    "    근접변수에 대해서만 컬럼생성 ex) 'fiberMag_u-g', 'fiberMag_g-r', 'fiberMag_r-i', 'fiberMag_i-z'\n",
    "    각 mag에서 가장 높은값의 filter를 받아오는 \"~~mag_MAX\"생성\n",
    "    결과 38개로 증가 \n",
    "    '''\n",
    "    from itertools import combinations\n",
    "    n = 0\n",
    "    m = 0\n",
    "    for count in range(5,21,5):\n",
    "        s = 2\n",
    "        if test == True :\n",
    "            s = 1\n",
    "        selected = data.columns[s:].values[n:count]\n",
    "        mag = str.split(selected[0],'_')[0]\n",
    "#         data[mag+\"_MAX\"] = data[selected].apply(lambda x : str.split(np.argmax(x),'_')[1],axis = 1)\n",
    "        for i in range(0,len(selected)):        \n",
    "            if i>0: \n",
    "                name_1st = str.split(m,'_')[1]\n",
    "                name_2nd = str.split(selected[i],'_')[1]\n",
    "                data[mag+\"_\"+name_1st+\"-\"+name_2nd] = data[m]-data[selected[i]]\n",
    "            m = selected[i]    \n",
    "        n=count\n",
    "    return data"
   ]
  },
  {
   "cell_type": "code",
   "execution_count": 12,
   "metadata": {
    "ExecuteTime": {
     "end_time": "2020-02-28T02:09:57.750860Z",
     "start_time": "2020-02-28T02:09:57.537866Z"
    }
   },
   "outputs": [],
   "source": [
    "train_df = add_minus_feature_all(train_df)\n",
    "test_df = add_minus_feature_all(test_df,True)"
   ]
  },
  {
   "cell_type": "code",
   "execution_count": 13,
   "metadata": {
    "ExecuteTime": {
     "end_time": "2020-02-28T02:09:57.755860Z",
     "start_time": "2020-02-28T02:09:57.751859Z"
    }
   },
   "outputs": [],
   "source": [
    "def PCA_feature(data):\n",
    "    '''\n",
    "    각 ugriz밴드 끼리 PCA를 통해 추가변수 생성 시도\n",
    "    '''\n",
    "    from sklearn.decomposition import PCA\n",
    "    pca = PCA(1)\n",
    "    \n",
    "    ori_name = [\"psfMag\",\"fiberMag\",\"petroMag\",\"modelMag\"]\n",
    "    add_name = [\"u\",\"g\",\"r\",\"i\",\"z\"]\n",
    "    \n",
    "    for add in add_name:\n",
    "        selected = list(map(lambda x : x+\"_\"+add,ori_name))\n",
    "        data['PCA_'+add] = pca.fit_transform(data[selected])\n",
    "    return data"
   ]
  },
  {
   "cell_type": "code",
   "execution_count": 14,
   "metadata": {
    "ExecuteTime": {
     "end_time": "2020-02-28T02:09:59.455806Z",
     "start_time": "2020-02-28T02:09:57.758859Z"
    }
   },
   "outputs": [],
   "source": [
    "train_df = PCA_feature(train_df)\n",
    "test_df = PCA_feature(test_df)"
   ]
  },
  {
   "cell_type": "code",
   "execution_count": 15,
   "metadata": {
    "ExecuteTime": {
     "end_time": "2020-02-28T02:09:59.463807Z",
     "start_time": "2020-02-28T02:09:59.456808Z"
    }
   },
   "outputs": [],
   "source": [
    "def fiberID_agg(data):\n",
    "    '''\n",
    "    fiberID는 1~1000까지 숫자로 구성되어있는 카테고리 변수다.\n",
    "    numeric한 변수가 아니기때문에 이를 이용한 변수 생성이 필요하다 판단되어\n",
    "    ugriz밴드를 기반으로 통계적 수치 median, std를 산출한다\n",
    "    '''\n",
    "    ori_name = [\"psfMag\",\"fiberMag\",\"petroMag\",\"modelMag\"]\n",
    "    add_name = [\"u\",\"g\",\"r\",\"i\",\"z\"]\n",
    "    \n",
    "    for add in add_name:\n",
    "        selected = list(map(lambda x : x+\"_\"+add,ori_name))\n",
    "        columns = data[selected].columns \n",
    "        columns = list(columns)\n",
    "        columns.append(\"fiberID\")\n",
    "\n",
    "        #dictinary_set\n",
    "#         mean_dict = dict(data[columns].groupby(\"fiberID\").mean().mean(axis = 1))\n",
    "#         min_dict = dict(data[columns].groupby(\"fiberID\").min().min(axis = 1))\n",
    "#         max_dict = dict(data[columns].groupby(\"fiberID\").max().max(axis = 1))\n",
    "        median_dict = dict(data[columns].groupby(\"fiberID\").median().median(axis = 1))\n",
    "        std_dict = dict(data[columns].groupby(\"fiberID\").std().std(axis = 1))\n",
    "\n",
    "        #save\n",
    "#         data[\"mean_\"+add] = data.fiberID.apply(lambda x : mean_dict.get(x))\n",
    "#         data[\"min_\"+add] = data.fiberID.apply(lambda x : min_dict.get(x))\n",
    "#         data[\"max_\"+add] = data.fiberID.apply(lambda x : max_dict.get(x))\n",
    "        data[\"median_\"+add] = data.fiberID.apply(lambda x : median_dict.get(x))\n",
    "        data[\"std_\"+add] = data.fiberID.apply(lambda x : std_dict.get(x))\n",
    "    return data"
   ]
  },
  {
   "cell_type": "code",
   "execution_count": 16,
   "metadata": {
    "ExecuteTime": {
     "end_time": "2020-02-28T02:10:01.312749Z",
     "start_time": "2020-02-28T02:09:59.465807Z"
    }
   },
   "outputs": [],
   "source": [
    "train_df = fiberID_agg(train_df)\n",
    "test_df = fiberID_agg(test_df)"
   ]
  },
  {
   "cell_type": "code",
   "execution_count": 17,
   "metadata": {
    "ExecuteTime": {
     "end_time": "2020-02-28T02:10:01.318751Z",
     "start_time": "2020-02-28T02:10:01.313750Z"
    }
   },
   "outputs": [
    {
     "data": {
      "text/plain": [
       "((199805, 78), (10009, 76))"
      ]
     },
     "execution_count": 17,
     "metadata": {},
     "output_type": "execute_result"
    }
   ],
   "source": [
    "train_df.shape,test_df.shape"
   ]
  },
  {
   "cell_type": "code",
   "execution_count": 18,
   "metadata": {
    "ExecuteTime": {
     "end_time": "2020-02-28T02:10:01.349748Z",
     "start_time": "2020-02-28T02:10:01.319750Z"
    }
   },
   "outputs": [
    {
     "data": {
      "text/plain": [
       "Index(['type', 'fiberID', 'psfMag_u', 'psfMag_g', 'psfMag_r', 'psfMag_i',\n",
       "       'psfMag_z', 'fiberMag_u', 'fiberMag_g', 'fiberMag_r', 'fiberMag_i',\n",
       "       'fiberMag_z', 'petroMag_u', 'petroMag_g', 'petroMag_r', 'petroMag_i',\n",
       "       'petroMag_z', 'modelMag_u', 'modelMag_g', 'modelMag_r', 'modelMag_i',\n",
       "       'modelMag_z', 'type_num', 'psfMag_u-g', 'psfMag_u-r', 'psfMag_u-i',\n",
       "       'psfMag_u-z', 'psfMag_g-r', 'psfMag_g-i', 'psfMag_g-z', 'psfMag_r-i',\n",
       "       'psfMag_r-z', 'psfMag_i-z', 'fiberMag_u-g', 'fiberMag_u-r',\n",
       "       'fiberMag_u-i', 'fiberMag_u-z', 'fiberMag_g-r', 'fiberMag_g-i',\n",
       "       'fiberMag_g-z', 'fiberMag_r-i', 'fiberMag_r-z', 'fiberMag_i-z',\n",
       "       'petroMag_u-g', 'petroMag_u-r', 'petroMag_u-i', 'petroMag_u-z',\n",
       "       'petroMag_g-r', 'petroMag_g-i', 'petroMag_g-z', 'petroMag_r-i',\n",
       "       'petroMag_r-z', 'petroMag_i-z', 'modelMag_u-g', 'modelMag_u-r',\n",
       "       'modelMag_u-i', 'modelMag_u-z', 'modelMag_g-r', 'modelMag_g-i',\n",
       "       'modelMag_g-z', 'modelMag_r-i', 'modelMag_r-z', 'modelMag_i-z', 'PCA_u',\n",
       "       'PCA_g', 'PCA_r', 'PCA_i', 'PCA_z', 'median_u', 'std_u', 'median_g',\n",
       "       'std_g', 'median_r', 'std_r', 'median_i', 'std_i', 'median_z', 'std_z'],\n",
       "      dtype='object')"
      ]
     },
     "execution_count": 18,
     "metadata": {},
     "output_type": "execute_result"
    }
   ],
   "source": [
    "train_df.columns"
   ]
  },
  {
   "cell_type": "markdown",
   "metadata": {},
   "source": [
    "### CV"
   ]
  },
  {
   "cell_type": "code",
   "execution_count": 19,
   "metadata": {
    "ExecuteTime": {
     "end_time": "2020-02-28T02:10:01.596741Z",
     "start_time": "2020-02-28T02:10:01.350749Z"
    }
   },
   "outputs": [],
   "source": [
    "train_X = train_df.drop(columns=['type', 'type_num','fiberID'], axis=1)\n",
    "train_y = train_df['type_num']\n",
    "test_X = test_df.drop(columns = ['fiberID'])"
   ]
  },
  {
   "cell_type": "code",
   "execution_count": 20,
   "metadata": {
    "ExecuteTime": {
     "end_time": "2020-02-28T02:10:01.600742Z",
     "start_time": "2020-02-28T02:10:01.597741Z"
    }
   },
   "outputs": [],
   "source": [
    "import sklearn\n",
    "logloss = sklearn.metrics.make_scorer(log_loss,needs_proba=True, labels=train_y)"
   ]
  },
  {
   "cell_type": "code",
   "execution_count": 21,
   "metadata": {
    "ExecuteTime": {
     "end_time": "2020-02-28T02:10:01.879732Z",
     "start_time": "2020-02-28T02:10:01.602742Z"
    }
   },
   "outputs": [],
   "source": [
    "X_train, X_test, y_train, y_test = train_test_split(train_X, train_y, test_size=0.3, random_state=42,stratify = train_y)"
   ]
  },
  {
   "cell_type": "code",
   "execution_count": 22,
   "metadata": {
    "ExecuteTime": {
     "end_time": "2020-02-28T02:10:01.884733Z",
     "start_time": "2020-02-28T02:10:01.880732Z"
    }
   },
   "outputs": [],
   "source": [
    "params = {\"max_depth\" : (7,8,9),\n",
    "         \"learning_rate\": (0.01,0.05, 0.1),\n",
    "         \"num_leaves\": (127,255,511),\n",
    "         \"min_child_samples\": (30,40,50),\n",
    "         \"lambda_l1\": (0,3,5,7,9),\n",
    "         \"lambda_l2\": (0,3,5,7,9)}"
   ]
  },
  {
   "cell_type": "code",
   "execution_count": 26,
   "metadata": {
    "ExecuteTime": {
     "end_time": "2020-02-28T03:00:30.095429Z",
     "start_time": "2020-02-28T03:00:30.092428Z"
    }
   },
   "outputs": [],
   "source": [
    "defaut_lgbmc = lgb.LGBMClassifier(n_estimators=2000,random_state=1029,objective =\"multiclass\",class_weight = 'balanced')"
   ]
  },
  {
   "cell_type": "code",
   "execution_count": 27,
   "metadata": {
    "ExecuteTime": {
     "end_time": "2020-02-28T03:00:31.421389Z",
     "start_time": "2020-02-28T03:00:31.417388Z"
    }
   },
   "outputs": [],
   "source": [
    "random_search  = RandomizedSearchCV(defaut_lgbmc,param_distributions=params, cv=3, verbose =100 ,n_iter = 30,scoring=logloss,random_state = 1029) #server\n",
    "# random_search  = RandomizedSearchCV(defaut_lgbmc,param_distributions=params, cv=2, verbose =100 ,n_iter = 2,scoring=logloss) #local"
   ]
  },
  {
   "cell_type": "code",
   "execution_count": 28,
   "metadata": {
    "ExecuteTime": {
     "end_time": "2020-02-28T03:01:18.368941Z",
     "start_time": "2020-02-28T03:00:33.458325Z"
    }
   },
   "outputs": [
    {
     "name": "stdout",
     "output_type": "stream",
     "text": [
      "Fitting 2 folds for each of 2 candidates, totalling 4 fits\n",
      "[Parallel(n_jobs=1)]: Using backend SequentialBackend with 1 concurrent workers.\n",
      "[CV] num_leaves=255, min_child_samples=30, max_depth=8, learning_rate=0.01, lambda_l2=9, lambda_l1=5 \n",
      "Training until validation scores don't improve for 100 rounds\n",
      "Did not meet early stopping. Best iteration is:\n",
      "[10]\ttrain's multi_logloss: 2.45509\tval's multi_logloss: 2.45878\n",
      "[CV]  num_leaves=255, min_child_samples=30, max_depth=8, learning_rate=0.01, lambda_l2=9, lambda_l1=5, score=2.458, total=   6.7s\n",
      "[Parallel(n_jobs=1)]: Done   1 out of   1 | elapsed:    6.6s remaining:    0.0s\n",
      "[CV] num_leaves=255, min_child_samples=30, max_depth=8, learning_rate=0.01, lambda_l2=9, lambda_l1=5 \n",
      "Training until validation scores don't improve for 100 rounds\n",
      "Did not meet early stopping. Best iteration is:\n",
      "[10]\ttrain's multi_logloss: 2.45427\tval's multi_logloss: 2.45819\n",
      "[CV]  num_leaves=255, min_child_samples=30, max_depth=8, learning_rate=0.01, lambda_l2=9, lambda_l1=5, score=2.457, total=   6.3s\n",
      "[Parallel(n_jobs=1)]: Done   2 out of   2 | elapsed:   12.9s remaining:    0.0s\n",
      "[CV] num_leaves=511, min_child_samples=50, max_depth=9, learning_rate=0.05, lambda_l2=9, lambda_l1=0 \n",
      "Training until validation scores don't improve for 100 rounds\n",
      "Did not meet early stopping. Best iteration is:\n",
      "[10]\ttrain's multi_logloss: 1.54586\tval's multi_logloss: 1.55884\n",
      "[CV]  num_leaves=511, min_child_samples=50, max_depth=9, learning_rate=0.05, lambda_l2=9, lambda_l1=0, score=1.556, total=   9.9s\n",
      "[Parallel(n_jobs=1)]: Done   3 out of   3 | elapsed:   22.8s remaining:    0.0s\n",
      "[CV] num_leaves=511, min_child_samples=50, max_depth=9, learning_rate=0.05, lambda_l2=9, lambda_l1=0 \n",
      "Training until validation scores don't improve for 100 rounds\n",
      "Did not meet early stopping. Best iteration is:\n",
      "[10]\ttrain's multi_logloss: 1.54793\tval's multi_logloss: 1.56116\n",
      "[CV]  num_leaves=511, min_child_samples=50, max_depth=9, learning_rate=0.05, lambda_l2=9, lambda_l1=0, score=1.559, total=  11.0s\n",
      "[Parallel(n_jobs=1)]: Done   4 out of   4 | elapsed:   33.8s remaining:    0.0s\n",
      "[Parallel(n_jobs=1)]: Done   4 out of   4 | elapsed:   33.8s finished\n",
      "Training until validation scores don't improve for 100 rounds\n",
      "Did not meet early stopping. Best iteration is:\n",
      "[10]\ttrain's multi_logloss: 2.44031\tval's multi_logloss: 2.44538\n"
     ]
    },
    {
     "data": {
      "text/plain": [
       "RandomizedSearchCV(cv=2, error_score=nan,\n",
       "                   estimator=LGBMClassifier(boosting_type='gbdt',\n",
       "                                            class_weight='balanced',\n",
       "                                            colsample_bytree=1.0,\n",
       "                                            importance_type='split',\n",
       "                                            learning_rate=0.1, max_depth=-1,\n",
       "                                            min_child_samples=20,\n",
       "                                            min_child_weight=0.001,\n",
       "                                            min_split_gain=0.0, n_estimators=10,\n",
       "                                            n_jobs=-1, num_leaves=31,\n",
       "                                            objective='multiclass',\n",
       "                                            random_state=1029, reg_alpha=0.0,\n",
       "                                            reg_la...\n",
       "6          8\n",
       "7          5\n",
       "8          8\n",
       "9          1\n",
       "10         8\n",
       "11         8\n",
       "12         7\n",
       "13         5\n",
       "14         5\n",
       "15         8\n",
       "16        18\n",
       "17        18\n",
       "18         6\n",
       "19        18\n",
       "20        15\n",
       "21         4\n",
       "22         5\n",
       "23         8\n",
       "24        18\n",
       "25         1\n",
       "26        10\n",
       "27         8\n",
       "28         6\n",
       "29         6\n",
       "          ..\n",
       "199961     6\n",
       "199962    14\n",
       "199963     8\n",
       "199964     5\n",
       "199965     8\n",
       "199966    13\n",
       "199967    15\n",
       "199968     6\n",
       "199969     0\n",
       "199970    10\n",
       "199971    14\n",
       "199972     8\n",
       "199973     6\n",
       "199974    18\n",
       "199975     8\n",
       "199976    15\n",
       "199977     6\n",
       "199978    13\n",
       "199979     4\n",
       "199980     8\n",
       "199981     8\n",
       "199982     3\n",
       "199983    15\n",
       "199984    18\n",
       "199985     7\n",
       "199986     8\n",
       "199987     6\n",
       "199988    10\n",
       "199989     6\n",
       "199990     8\n",
       "Name: type_num, Length: 199805, dtype: int64),\n",
       "                   verbose=100)"
      ]
     },
     "execution_count": 28,
     "metadata": {},
     "output_type": "execute_result"
    }
   ],
   "source": [
    "#와 3시간.. fold = 3,cv =5, n_iter =2 \n",
    "# for fold, (train_ids, val_ids) in enumerate(Fold.split(X,y)):\n",
    "#     print(\"★\", fold, \"start\")\n",
    "#     eval_set = [(X.iloc[train_ids], y.iloc[train_ids]),(X.iloc[val_ids], y.iloc[val_ids])]\n",
    "eval_set = [(X_train,y_train),(X_test,y_test)]\n",
    "eval_names = ['train','val']\n",
    "random_search.fit(X_train, y_train, eval_set = eval_set, eval_names = eval_names, early_stopping_rounds = 100,verbose = 100)"
   ]
  },
  {
   "cell_type": "code",
   "execution_count": 29,
   "metadata": {
    "ExecuteTime": {
     "end_time": "2020-02-28T03:01:19.607904Z",
     "start_time": "2020-02-28T03:01:19.601903Z"
    }
   },
   "outputs": [],
   "source": [
    "best_params = random_search.best_params_\n",
    "best_score = random_search.best_score_\n",
    "best_model = random_search.best_estimator_\n",
    "\n",
    "with open('best_params.txt', 'w' ) as best:\n",
    "    best.write(\"best_params : \" + str(best_params) + \"\\n\")\n",
    "    best.write(\"best_score : \" + str(best_score)+\"\\n\")\n",
    "    best.write(\"best_model : \" + str(best_model)+\"\\n\")"
   ]
  },
  {
   "cell_type": "code",
   "execution_count": 30,
   "metadata": {
    "ExecuteTime": {
     "end_time": "2020-02-28T03:01:20.805866Z",
     "start_time": "2020-02-28T03:01:20.785866Z"
    }
   },
   "outputs": [
    {
     "data": {
      "text/plain": [
       "{'num_leaves': 255,\n",
       " 'min_child_samples': 30,\n",
       " 'max_depth': 8,\n",
       " 'learning_rate': 0.01,\n",
       " 'lambda_l2': 9,\n",
       " 'lambda_l1': 5}"
      ]
     },
     "execution_count": 30,
     "metadata": {},
     "output_type": "execute_result"
    }
   ],
   "source": [
    "best_params"
   ]
  },
  {
   "cell_type": "code",
   "execution_count": 31,
   "metadata": {
    "ExecuteTime": {
     "end_time": "2020-02-28T03:01:22.046829Z",
     "start_time": "2020-02-28T03:01:22.042828Z"
    }
   },
   "outputs": [
    {
     "data": {
      "text/plain": [
       "2.457508159891783"
      ]
     },
     "execution_count": 31,
     "metadata": {},
     "output_type": "execute_result"
    }
   ],
   "source": [
    "best_score"
   ]
  },
  {
   "cell_type": "code",
   "execution_count": 32,
   "metadata": {
    "ExecuteTime": {
     "end_time": "2020-02-28T03:01:23.150794Z",
     "start_time": "2020-02-28T03:01:23.146794Z"
    }
   },
   "outputs": [
    {
     "data": {
      "text/plain": [
       "LGBMClassifier(boosting_type='gbdt', class_weight='balanced',\n",
       "               colsample_bytree=1.0, importance_type='split', lambda_l1=5,\n",
       "               lambda_l2=9, learning_rate=0.01, max_depth=8,\n",
       "               min_child_samples=30, min_child_weight=0.001, min_split_gain=0.0,\n",
       "               n_estimators=10, n_jobs=-1, num_leaves=255,\n",
       "               objective='multiclass', random_state=1029, reg_alpha=0.0,\n",
       "               reg_lambda=0.0, silent=True, subsample=1.0,\n",
       "               subsample_for_bin=200000, subsample_freq=0)"
      ]
     },
     "execution_count": 32,
     "metadata": {},
     "output_type": "execute_result"
    }
   ],
   "source": [
    "best_model"
   ]
  },
  {
   "cell_type": "code",
   "execution_count": 33,
   "metadata": {
    "ExecuteTime": {
     "end_time": "2020-02-28T03:01:24.246761Z",
     "start_time": "2020-02-28T03:01:24.243760Z"
    }
   },
   "outputs": [],
   "source": [
    "gmodel = best_model"
   ]
  },
  {
   "cell_type": "code",
   "execution_count": 34,
   "metadata": {
    "ExecuteTime": {
     "end_time": "2020-02-28T03:01:36.958368Z",
     "start_time": "2020-02-28T03:01:25.347726Z"
    }
   },
   "outputs": [
    {
     "data": {
      "text/plain": [
       "LGBMClassifier(boosting_type='gbdt', class_weight='balanced',\n",
       "               colsample_bytree=1.0, importance_type='split', lambda_l1=5,\n",
       "               lambda_l2=9, learning_rate=0.01, max_depth=8,\n",
       "               min_child_samples=30, min_child_weight=0.001, min_split_gain=0.0,\n",
       "               n_estimators=10, n_jobs=-1, num_leaves=255,\n",
       "               objective='multiclass', random_state=1029, reg_alpha=0.0,\n",
       "               reg_lambda=0.0, silent=True, subsample=1.0,\n",
       "               subsample_for_bin=200000, subsample_freq=0)"
      ]
     },
     "execution_count": 34,
     "metadata": {},
     "output_type": "execute_result"
    }
   ],
   "source": [
    "gmodel.fit(train_X,train_y)"
   ]
  },
  {
   "cell_type": "markdown",
   "metadata": {},
   "source": [
    "### FINAL CV"
   ]
  },
  {
   "cell_type": "code",
   "execution_count": 57,
   "metadata": {
    "ExecuteTime": {
     "end_time": "2020-02-28T03:53:40.335746Z",
     "start_time": "2020-02-28T03:51:26.046884Z"
    }
   },
   "outputs": [
    {
     "name": "stdout",
     "output_type": "stream",
     "text": [
      "★ Fold 1\n",
      "Training until validation scores don't improve for 100 rounds\n",
      "Did not meet early stopping. Best iteration is:\n",
      "[10]\ttrain's multi_logloss: 2.43827\tval's multi_logloss: 2.43693\n",
      "★ Fold 2\n",
      "Training until validation scores don't improve for 100 rounds\n",
      "Did not meet early stopping. Best iteration is:\n",
      "[10]\ttrain's multi_logloss: 2.43762\tval's multi_logloss: 2.43951\n",
      "★ Fold 3\n",
      "Training until validation scores don't improve for 100 rounds\n",
      "Did not meet early stopping. Best iteration is:\n",
      "[10]\ttrain's multi_logloss: 2.43823\tval's multi_logloss: 2.43709\n",
      "★ Fold 4\n",
      "Training until validation scores don't improve for 100 rounds\n",
      "Did not meet early stopping. Best iteration is:\n",
      "[10]\ttrain's multi_logloss: 2.43808\tval's multi_logloss: 2.43768\n",
      "★ Fold 5\n",
      "Training until validation scores don't improve for 100 rounds\n",
      "Did not meet early stopping. Best iteration is:\n",
      "[10]\ttrain's multi_logloss: 2.4378\tval's multi_logloss: 2.43878\n",
      "oof log_loss:  2.4379977600339395\n"
     ]
    }
   ],
   "source": [
    "kf = StratifiedKFold(n_splits = 5, shuffle = True, random_state = 42)\n",
    "oof_pred = np.zeros((len(train_X), train_y.nunique()))\n",
    "y_pred = np.zeros((len(test_X), train_y.nunique()))\n",
    "\n",
    "for fold, (train_ids, val_ids) in enumerate(kf.split(train_X,train_y)):\n",
    "    print('★ Fold {}'.format(fold + 1))\n",
    "    X_train, X_val = train_X.iloc[train_ids],train_X.iloc[val_ids]\n",
    "    y_train, y_val = train_y.iloc[train_ids],train_y.iloc[val_ids]\n",
    "\n",
    "    eval_set = [(X_train, y_train),(X_val, y_val)]\n",
    "    eval_names = ['train','val']\n",
    "    gmodel.fit(train_X,train_y, eval_set = eval_set, eval_names = eval_names, \n",
    "               early_stopping_rounds= 100, verbose = 100)\n",
    "    oof_pred[val_ids] = gmodel.predict_proba(X_val)\n",
    "    y_pred += gmodel.predict_proba(test_X)/5\n",
    "loss_score = log_loss(train_y,oof_pred,labels= list(set(train_y)))\n",
    "print(\"oof log_loss: \",loss_score)"
   ]
  },
  {
   "cell_type": "code",
   "execution_count": 58,
   "metadata": {
    "ExecuteTime": {
     "end_time": "2020-02-28T03:53:57.551215Z",
     "start_time": "2020-02-28T03:53:57.299223Z"
    }
   },
   "outputs": [],
   "source": [
    "cm_result = pd.DataFrame(confusion_matrix(train_y,np.argmax(oof_pred,axis =1)))"
   ]
  },
  {
   "cell_type": "code",
   "execution_count": 59,
   "metadata": {
    "ExecuteTime": {
     "end_time": "2020-02-28T03:54:00.239134Z",
     "start_time": "2020-02-28T03:53:59.154166Z"
    }
   },
   "outputs": [
    {
     "data": {
      "image/png": "[encoded data removed]",
      "text/plain": [
       "<Figure size 1080x1080 with 2 Axes>"
      ]
     },
     "metadata": {},
     "output_type": "display_data"
    }
   ],
   "source": [
    "plt.figure(figsize =(15,15))\n",
    "sns.heatmap(cm_result/np.sum(cm_result),annot = True, cmap ='RdYlGn',fmt='.1%')\n",
    "plt.ylabel(\"real\",fontsize=20)\n",
    "plt.xlabel(\"predict\",fontsize=20)\n",
    "plt.show()"
   ]
  },
  {
   "cell_type": "code",
   "execution_count": 60,
   "metadata": {
    "ExecuteTime": {
     "end_time": "2020-02-28T03:54:01.917081Z",
     "start_time": "2020-02-28T03:54:01.899082Z"
    }
   },
   "outputs": [],
   "source": [
    "result = pd.Series(np.argmax(oof_pred,axis =1)).value_counts()\n",
    "names = []\n",
    "for i in result.index:\n",
    "    names.append(number_columns[i])\n",
    "result.index = names"
   ]
  },
  {
   "cell_type": "code",
   "execution_count": 61,
   "metadata": {
    "ExecuteTime": {
     "end_time": "2020-02-28T03:54:03.535031Z",
     "start_time": "2020-02-28T03:54:03.528031Z"
    }
   },
   "outputs": [
    {
     "data": {
      "text/plain": [
       "QSO                    39800\n",
       "GALAXY                 34985\n",
       "SERENDIPITY_BLUE       23443\n",
       "REDDEN_STD             15921\n",
       "SPECTROPHOTO_STD       15065\n",
       "STAR_BHB               13048\n",
       "STAR_RED_DWARF         12694\n",
       "SERENDIPITY_FIRST      10096\n",
       "STAR_CATY_VAR           6466\n",
       "STAR_WHITE_DWARF        6052\n",
       "SERENDIPITY_DISTANT     5800\n",
       "ROSAT_D                 5505\n",
       "STAR_CARBON             4583\n",
       "SERENDIPITY_RED         3023\n",
       "STAR_SUB_DWARF          1340\n",
       "STAR_BROWN_DWARF        1183\n",
       "SERENDIPITY_MANUAL       486\n",
       "SKY                      207\n",
       "STAR_PN                  108\n",
       "dtype: int64"
      ]
     },
     "execution_count": 61,
     "metadata": {},
     "output_type": "execute_result"
    }
   ],
   "source": [
    "result"
   ]
  },
  {
   "cell_type": "code",
   "execution_count": null,
   "metadata": {
    "ExecuteTime": {
     "end_time": "2020-02-28T03:01:53.059872Z",
     "start_time": "2020-02-28T03:00:32.728Z"
    }
   },
   "outputs": [],
   "source": [
    "submission = pd.DataFrame(data=y_pred, columns=sample_submission_df.columns, index=sample_submission_df.index)\n",
    "submission.to_csv('submission.csv', index=True)"
   ]
  },
  {
   "cell_type": "markdown",
   "metadata": {},
   "source": [
    "## Modeling"
   ]
  },
  {
   "cell_type": "code",
   "execution_count": null,
   "metadata": {},
   "outputs": [],
   "source": []
  }
 ],
 "metadata": {
  "kernelspec": {
   "display_name": "Python 3",
   "language": "python",
   "name": "python3"
  },
  "language_info": {
   "codemirror_mode": {
    "name": "ipython",
    "version": 3
   },
   "file_extension": ".py",
   "mimetype": "text/x-python",
   "name": "python",
   "nbconvert_exporter": "python",
   "pygments_lexer": "ipython3",
   "version": "3.6.5"
  },
  "varInspector": {
   "cols": {
    "lenName": 16,
    "lenType": 16,
    "lenVar": 40
   },
   "kernels_config": {
    "python": {
     "delete_cmd_postfix": "",
     "delete_cmd_prefix": "del ",
     "library": "var_list.py",
     "varRefreshCmd": "print(var_dic_list())"
    },
    "r": {
     "delete_cmd_postfix": ") ",
     "delete_cmd_prefix": "rm(",
     "library": "var_list.r",
     "varRefreshCmd": "cat(var_dic_list()) "
    }
   },
   "types_to_exclude": [
    "module",
    "function",
    "builtin_function_or_method",
    "instance",
    "_Feature"
   ],
   "window_display": false
  }
 },
 "nbformat": 4,
 "nbformat_minor": 2
}
