{
 "cells": [
  {
   "cell_type": "markdown",
   "metadata": {},
   "source": [
    "# Tune_lgb\n",
    "* 제출결과 : "
   ]
  },
  {
   "cell_type": "code",
   "execution_count": 1,
   "metadata": {
    "ExecuteTime": {
     "end_time": "2020-02-28T02:35:22.865000Z",
     "start_time": "2020-02-28T02:35:20.184000Z"
    }
   },
   "outputs": [
    {
     "data": {
      "text/html": [
       "<style>.container {width:100% !important; }</style>"
      ],
      "text/plain": [
       "<IPython.core.display.HTML object>"
      ]
     },
     "metadata": {},
     "output_type": "display_data"
    }
   ],
   "source": [
    "import pandas as pd\n",
    "import numpy as np\n",
    "import matplotlib.pyplot as plt\n",
    "import seaborn as sns\n",
    "\n",
    "from sklearn.ensemble import RandomForestClassifier\n",
    "from sklearn.model_selection import train_test_split\n",
    "from sklearn.metrics import confusion_matrix\n",
    "from sklearn.metrics import log_loss\n",
    "import lightgbm as lgb\n",
    "\n",
    "from IPython.core.display import display, HTML\n",
    "display(HTML('<style>.container {width:100% !important; }</style>'))"
   ]
  },
  {
   "cell_type": "code",
   "execution_count": 2,
   "metadata": {
    "ExecuteTime": {
     "end_time": "2020-02-28T02:35:23.785000Z",
     "start_time": "2020-02-28T02:35:22.871000Z"
    }
   },
   "outputs": [],
   "source": [
    "path = \"./data/\" \n",
    "train_df = pd.read_csv(path+'train.csv',index_col=0)\n",
    "test_df = pd.read_csv(path+'test.csv',index_col=0)\n",
    "sample_submission_df = pd.read_csv(path+'sample_submission.csv',index_col=0)\n",
    "pd.options.display.max_columns = 30"
   ]
  },
  {
   "cell_type": "markdown",
   "metadata": {},
   "source": [
    "## 전처리\n",
    " - 이상치 확인 및 처리"
   ]
  },
  {
   "cell_type": "code",
   "execution_count": 3,
   "metadata": {
    "ExecuteTime": {
     "end_time": "2020-02-28T02:35:24.042000Z",
     "start_time": "2020-02-28T02:35:23.830000Z"
    }
   },
   "outputs": [
    {
     "data": {
      "text/html": [
       "<div>\n",
       "<style scoped>\n",
       "    .dataframe tbody tr th:only-of-type {\n",
       "        vertical-align: middle;\n",
       "    }\n",
       "\n",
       "    .dataframe tbody tr th {\n",
       "        vertical-align: top;\n",
       "    }\n",
       "\n",
       "    .dataframe thead th {\n",
       "        text-align: right;\n",
       "    }\n",
       "</style>\n",
       "<table border=\"1\" class=\"dataframe\">\n",
       "  <thead>\n",
       "    <tr style=\"text-align: right;\">\n",
       "      <th></th>\n",
       "      <th>fiberID</th>\n",
       "      <th>psfMag_u</th>\n",
       "      <th>psfMag_g</th>\n",
       "      <th>psfMag_r</th>\n",
       "      <th>psfMag_i</th>\n",
       "      <th>psfMag_z</th>\n",
       "      <th>fiberMag_u</th>\n",
       "      <th>fiberMag_g</th>\n",
       "      <th>fiberMag_r</th>\n",
       "      <th>fiberMag_i</th>\n",
       "      <th>fiberMag_z</th>\n",
       "      <th>petroMag_u</th>\n",
       "      <th>petroMag_g</th>\n",
       "      <th>petroMag_r</th>\n",
       "      <th>petroMag_i</th>\n",
       "      <th>petroMag_z</th>\n",
       "      <th>modelMag_u</th>\n",
       "      <th>modelMag_g</th>\n",
       "      <th>modelMag_r</th>\n",
       "      <th>modelMag_i</th>\n",
       "      <th>modelMag_z</th>\n",
       "    </tr>\n",
       "  </thead>\n",
       "  <tbody>\n",
       "    <tr>\n",
       "      <td>count</td>\n",
       "      <td>199991.000000</td>\n",
       "      <td>1.999910e+05</td>\n",
       "      <td>199991.000000</td>\n",
       "      <td>199991.000000</td>\n",
       "      <td>199991.000000</td>\n",
       "      <td>199991.000000</td>\n",
       "      <td>1.999910e+05</td>\n",
       "      <td>199991.000000</td>\n",
       "      <td>199991.000000</td>\n",
       "      <td>199991.000000</td>\n",
       "      <td>199991.000000</td>\n",
       "      <td>199991.000000</td>\n",
       "      <td>199991.000000</td>\n",
       "      <td>199991.000000</td>\n",
       "      <td>199991.000000</td>\n",
       "      <td>199991.000000</td>\n",
       "      <td>199991.000000</td>\n",
       "      <td>199991.000000</td>\n",
       "      <td>199991.000000</td>\n",
       "      <td>199991.000000</td>\n",
       "      <td>199991.000000</td>\n",
       "    </tr>\n",
       "    <tr>\n",
       "      <td>mean</td>\n",
       "      <td>360.830152</td>\n",
       "      <td>-6.750146e+00</td>\n",
       "      <td>18.675373</td>\n",
       "      <td>18.401235</td>\n",
       "      <td>18.043495</td>\n",
       "      <td>17.663526</td>\n",
       "      <td>1.084986e+01</td>\n",
       "      <td>19.072693</td>\n",
       "      <td>19.134483</td>\n",
       "      <td>18.183331</td>\n",
       "      <td>18.000882</td>\n",
       "      <td>21.837903</td>\n",
       "      <td>18.454136</td>\n",
       "      <td>18.481525</td>\n",
       "      <td>17.686617</td>\n",
       "      <td>17.699207</td>\n",
       "      <td>20.110991</td>\n",
       "      <td>18.544375</td>\n",
       "      <td>18.181544</td>\n",
       "      <td>17.692395</td>\n",
       "      <td>17.189281</td>\n",
       "    </tr>\n",
       "    <tr>\n",
       "      <td>std</td>\n",
       "      <td>225.305890</td>\n",
       "      <td>1.187678e+04</td>\n",
       "      <td>155.423024</td>\n",
       "      <td>127.128078</td>\n",
       "      <td>116.622194</td>\n",
       "      <td>123.735298</td>\n",
       "      <td>4.172116e+03</td>\n",
       "      <td>749.256162</td>\n",
       "      <td>90.049058</td>\n",
       "      <td>122.378972</td>\n",
       "      <td>145.862346</td>\n",
       "      <td>789.472333</td>\n",
       "      <td>154.376277</td>\n",
       "      <td>97.240448</td>\n",
       "      <td>145.730872</td>\n",
       "      <td>142.691880</td>\n",
       "      <td>122.299062</td>\n",
       "      <td>161.728183</td>\n",
       "      <td>133.984475</td>\n",
       "      <td>131.183416</td>\n",
       "      <td>133.685138</td>\n",
       "    </tr>\n",
       "    <tr>\n",
       "      <td>min</td>\n",
       "      <td>1.000000</td>\n",
       "      <td>-5.310802e+06</td>\n",
       "      <td>-40022.466071</td>\n",
       "      <td>-27184.795793</td>\n",
       "      <td>-26566.310827</td>\n",
       "      <td>-24878.828280</td>\n",
       "      <td>-1.864766e+06</td>\n",
       "      <td>-215882.917191</td>\n",
       "      <td>-21802.656144</td>\n",
       "      <td>-20208.516262</td>\n",
       "      <td>-26505.602101</td>\n",
       "      <td>-24463.431833</td>\n",
       "      <td>-25958.752324</td>\n",
       "      <td>-23948.588523</td>\n",
       "      <td>-40438.184078</td>\n",
       "      <td>-30070.729379</td>\n",
       "      <td>-26236.578659</td>\n",
       "      <td>-36902.402336</td>\n",
       "      <td>-36439.638493</td>\n",
       "      <td>-38969.416822</td>\n",
       "      <td>-26050.710196</td>\n",
       "    </tr>\n",
       "    <tr>\n",
       "      <td>25%</td>\n",
       "      <td>174.000000</td>\n",
       "      <td>1.965259e+01</td>\n",
       "      <td>18.701180</td>\n",
       "      <td>18.048572</td>\n",
       "      <td>17.747663</td>\n",
       "      <td>17.425523</td>\n",
       "      <td>1.994040e+01</td>\n",
       "      <td>18.902851</td>\n",
       "      <td>18.259352</td>\n",
       "      <td>17.903615</td>\n",
       "      <td>17.606148</td>\n",
       "      <td>19.247795</td>\n",
       "      <td>18.113933</td>\n",
       "      <td>17.479794</td>\n",
       "      <td>17.050294</td>\n",
       "      <td>16.804705</td>\n",
       "      <td>19.266214</td>\n",
       "      <td>18.076120</td>\n",
       "      <td>17.423425</td>\n",
       "      <td>16.977671</td>\n",
       "      <td>16.705774</td>\n",
       "    </tr>\n",
       "    <tr>\n",
       "      <td>50%</td>\n",
       "      <td>349.000000</td>\n",
       "      <td>2.087136e+01</td>\n",
       "      <td>19.904235</td>\n",
       "      <td>19.454492</td>\n",
       "      <td>19.043895</td>\n",
       "      <td>18.611799</td>\n",
       "      <td>2.104910e+01</td>\n",
       "      <td>20.069038</td>\n",
       "      <td>19.631419</td>\n",
       "      <td>19.188763</td>\n",
       "      <td>18.710967</td>\n",
       "      <td>20.366848</td>\n",
       "      <td>19.586559</td>\n",
       "      <td>19.182789</td>\n",
       "      <td>18.693370</td>\n",
       "      <td>18.174592</td>\n",
       "      <td>20.406840</td>\n",
       "      <td>19.547674</td>\n",
       "      <td>19.143156</td>\n",
       "      <td>18.641756</td>\n",
       "      <td>18.100997</td>\n",
       "    </tr>\n",
       "    <tr>\n",
       "      <td>75%</td>\n",
       "      <td>526.000000</td>\n",
       "      <td>2.216043e+01</td>\n",
       "      <td>21.150297</td>\n",
       "      <td>20.515936</td>\n",
       "      <td>20.073528</td>\n",
       "      <td>19.883760</td>\n",
       "      <td>2.233754e+01</td>\n",
       "      <td>21.385830</td>\n",
       "      <td>20.773911</td>\n",
       "      <td>20.331419</td>\n",
       "      <td>20.133179</td>\n",
       "      <td>21.797480</td>\n",
       "      <td>21.004397</td>\n",
       "      <td>20.457491</td>\n",
       "      <td>20.019112</td>\n",
       "      <td>19.807652</td>\n",
       "      <td>21.992898</td>\n",
       "      <td>20.962386</td>\n",
       "      <td>20.408140</td>\n",
       "      <td>19.968846</td>\n",
       "      <td>19.819554</td>\n",
       "    </tr>\n",
       "    <tr>\n",
       "      <td>max</td>\n",
       "      <td>1000.000000</td>\n",
       "      <td>1.877392e+04</td>\n",
       "      <td>3538.984910</td>\n",
       "      <td>3048.110913</td>\n",
       "      <td>4835.218639</td>\n",
       "      <td>9823.740407</td>\n",
       "      <td>4.870154e+03</td>\n",
       "      <td>248077.513380</td>\n",
       "      <td>12084.735440</td>\n",
       "      <td>8059.638535</td>\n",
       "      <td>18358.921741</td>\n",
       "      <td>298771.019041</td>\n",
       "      <td>12139.815877</td>\n",
       "      <td>7003.136546</td>\n",
       "      <td>9772.190537</td>\n",
       "      <td>17403.789263</td>\n",
       "      <td>14488.251976</td>\n",
       "      <td>10582.058590</td>\n",
       "      <td>12237.951703</td>\n",
       "      <td>4062.499371</td>\n",
       "      <td>7420.534172</td>\n",
       "    </tr>\n",
       "  </tbody>\n",
       "</table>\n",
       "</div>"
      ],
      "text/plain": [
       "             fiberID      psfMag_u       psfMag_g       psfMag_r  \\\n",
       "count  199991.000000  1.999910e+05  199991.000000  199991.000000   \n",
       "mean      360.830152 -6.750146e+00      18.675373      18.401235   \n",
       "std       225.305890  1.187678e+04     155.423024     127.128078   \n",
       "min         1.000000 -5.310802e+06  -40022.466071  -27184.795793   \n",
       "25%       174.000000  1.965259e+01      18.701180      18.048572   \n",
       "50%       349.000000  2.087136e+01      19.904235      19.454492   \n",
       "75%       526.000000  2.216043e+01      21.150297      20.515936   \n",
       "max      1000.000000  1.877392e+04    3538.984910    3048.110913   \n",
       "\n",
       "            psfMag_i       psfMag_z    fiberMag_u     fiberMag_g  \\\n",
       "count  199991.000000  199991.000000  1.999910e+05  199991.000000   \n",
       "mean       18.043495      17.663526  1.084986e+01      19.072693   \n",
       "std       116.622194     123.735298  4.172116e+03     749.256162   \n",
       "min    -26566.310827  -24878.828280 -1.864766e+06 -215882.917191   \n",
       "25%        17.747663      17.425523  1.994040e+01      18.902851   \n",
       "50%        19.043895      18.611799  2.104910e+01      20.069038   \n",
       "75%        20.073528      19.883760  2.233754e+01      21.385830   \n",
       "max      4835.218639    9823.740407  4.870154e+03  248077.513380   \n",
       "\n",
       "          fiberMag_r     fiberMag_i     fiberMag_z     petroMag_u  \\\n",
       "count  199991.000000  199991.000000  199991.000000  199991.000000   \n",
       "mean       19.134483      18.183331      18.000882      21.837903   \n",
       "std        90.049058     122.378972     145.862346     789.472333   \n",
       "min    -21802.656144  -20208.516262  -26505.602101  -24463.431833   \n",
       "25%        18.259352      17.903615      17.606148      19.247795   \n",
       "50%        19.631419      19.188763      18.710967      20.366848   \n",
       "75%        20.773911      20.331419      20.133179      21.797480   \n",
       "max     12084.735440    8059.638535   18358.921741  298771.019041   \n",
       "\n",
       "          petroMag_g     petroMag_r     petroMag_i     petroMag_z  \\\n",
       "count  199991.000000  199991.000000  199991.000000  199991.000000   \n",
       "mean       18.454136      18.481525      17.686617      17.699207   \n",
       "std       154.376277      97.240448     145.730872     142.691880   \n",
       "min    -25958.752324  -23948.588523  -40438.184078  -30070.729379   \n",
       "25%        18.113933      17.479794      17.050294      16.804705   \n",
       "50%        19.586559      19.182789      18.693370      18.174592   \n",
       "75%        21.004397      20.457491      20.019112      19.807652   \n",
       "max     12139.815877    7003.136546    9772.190537   17403.789263   \n",
       "\n",
       "          modelMag_u     modelMag_g     modelMag_r     modelMag_i  \\\n",
       "count  199991.000000  199991.000000  199991.000000  199991.000000   \n",
       "mean       20.110991      18.544375      18.181544      17.692395   \n",
       "std       122.299062     161.728183     133.984475     131.183416   \n",
       "min    -26236.578659  -36902.402336  -36439.638493  -38969.416822   \n",
       "25%        19.266214      18.076120      17.423425      16.977671   \n",
       "50%        20.406840      19.547674      19.143156      18.641756   \n",
       "75%        21.992898      20.962386      20.408140      19.968846   \n",
       "max     14488.251976   10582.058590   12237.951703    4062.499371   \n",
       "\n",
       "          modelMag_z  \n",
       "count  199991.000000  \n",
       "mean       17.189281  \n",
       "std       133.685138  \n",
       "min    -26050.710196  \n",
       "25%        16.705774  \n",
       "50%        18.100997  \n",
       "75%        19.819554  \n",
       "max      7420.534172  "
      ]
     },
     "execution_count": 3,
     "metadata": {},
     "output_type": "execute_result"
    }
   ],
   "source": [
    "train_df.describe()"
   ]
  },
  {
   "cell_type": "code",
   "execution_count": 4,
   "metadata": {
    "ExecuteTime": {
     "end_time": "2020-02-28T02:35:24.083000Z",
     "start_time": "2020-02-28T02:35:24.078000Z"
    }
   },
   "outputs": [],
   "source": [
    "def del_outlier(data, min=0, max=60):\n",
    "    up_idx_t=()\n",
    "    dw_idx_t=()\n",
    "    train_light = data.iloc[:,2:]\n",
    "    for i in range(len(train_light.columns)):\n",
    "        col = train_light.columns[i]\n",
    "        up_idx_t+=tuple(data[data[col]>max].index)\n",
    "        dw_idx_t+=tuple(data[data[col]<min].index)\n",
    "    del_idx = set(up_idx_t+dw_idx_t)\n",
    "    \n",
    "    return data[~data.index.isin(del_idx)]"
   ]
  },
  {
   "cell_type": "code",
   "execution_count": 5,
   "metadata": {
    "ExecuteTime": {
     "end_time": "2020-02-28T02:35:24.211000Z",
     "start_time": "2020-02-28T02:35:24.119000Z"
    }
   },
   "outputs": [],
   "source": [
    "train_df = del_outlier(train_df, min=-40, max=40)"
   ]
  },
  {
   "cell_type": "code",
   "execution_count": 6,
   "metadata": {
    "ExecuteTime": {
     "end_time": "2020-02-28T02:35:24.460000Z",
     "start_time": "2020-02-28T02:35:24.249000Z"
    }
   },
   "outputs": [
    {
     "data": {
      "text/html": [
       "<div>\n",
       "<style scoped>\n",
       "    .dataframe tbody tr th:only-of-type {\n",
       "        vertical-align: middle;\n",
       "    }\n",
       "\n",
       "    .dataframe tbody tr th {\n",
       "        vertical-align: top;\n",
       "    }\n",
       "\n",
       "    .dataframe thead th {\n",
       "        text-align: right;\n",
       "    }\n",
       "</style>\n",
       "<table border=\"1\" class=\"dataframe\">\n",
       "  <thead>\n",
       "    <tr style=\"text-align: right;\">\n",
       "      <th></th>\n",
       "      <th>fiberID</th>\n",
       "      <th>psfMag_u</th>\n",
       "      <th>psfMag_g</th>\n",
       "      <th>psfMag_r</th>\n",
       "      <th>psfMag_i</th>\n",
       "      <th>psfMag_z</th>\n",
       "      <th>fiberMag_u</th>\n",
       "      <th>fiberMag_g</th>\n",
       "      <th>fiberMag_r</th>\n",
       "      <th>fiberMag_i</th>\n",
       "      <th>fiberMag_z</th>\n",
       "      <th>petroMag_u</th>\n",
       "      <th>petroMag_g</th>\n",
       "      <th>petroMag_r</th>\n",
       "      <th>petroMag_i</th>\n",
       "      <th>petroMag_z</th>\n",
       "      <th>modelMag_u</th>\n",
       "      <th>modelMag_g</th>\n",
       "      <th>modelMag_r</th>\n",
       "      <th>modelMag_i</th>\n",
       "      <th>modelMag_z</th>\n",
       "    </tr>\n",
       "  </thead>\n",
       "  <tbody>\n",
       "    <tr>\n",
       "      <td>count</td>\n",
       "      <td>199646.000000</td>\n",
       "      <td>199646.000000</td>\n",
       "      <td>199646.000000</td>\n",
       "      <td>199646.000000</td>\n",
       "      <td>199646.000000</td>\n",
       "      <td>199646.000000</td>\n",
       "      <td>199646.000000</td>\n",
       "      <td>199646.000000</td>\n",
       "      <td>199646.000000</td>\n",
       "      <td>199646.000000</td>\n",
       "      <td>199646.000000</td>\n",
       "      <td>199646.000000</td>\n",
       "      <td>199646.000000</td>\n",
       "      <td>199646.000000</td>\n",
       "      <td>199646.000000</td>\n",
       "      <td>199646.000000</td>\n",
       "      <td>199646.000000</td>\n",
       "      <td>199646.000000</td>\n",
       "      <td>199646.000000</td>\n",
       "      <td>199646.000000</td>\n",
       "      <td>199646.000000</td>\n",
       "    </tr>\n",
       "    <tr>\n",
       "      <td>mean</td>\n",
       "      <td>360.906179</td>\n",
       "      <td>20.981482</td>\n",
       "      <td>19.858757</td>\n",
       "      <td>19.285847</td>\n",
       "      <td>18.870981</td>\n",
       "      <td>18.611269</td>\n",
       "      <td>21.170671</td>\n",
       "      <td>20.089208</td>\n",
       "      <td>19.505094</td>\n",
       "      <td>19.087129</td>\n",
       "      <td>18.828211</td>\n",
       "      <td>20.702285</td>\n",
       "      <td>19.597224</td>\n",
       "      <td>19.005508</td>\n",
       "      <td>18.602769</td>\n",
       "      <td>18.390198</td>\n",
       "      <td>20.728887</td>\n",
       "      <td>19.529152</td>\n",
       "      <td>18.939032</td>\n",
       "      <td>18.519976</td>\n",
       "      <td>18.275557</td>\n",
       "    </tr>\n",
       "    <tr>\n",
       "      <td>std</td>\n",
       "      <td>225.353069</td>\n",
       "      <td>2.075314</td>\n",
       "      <td>1.858574</td>\n",
       "      <td>1.703859</td>\n",
       "      <td>1.623027</td>\n",
       "      <td>1.679114</td>\n",
       "      <td>1.965779</td>\n",
       "      <td>1.841201</td>\n",
       "      <td>1.704064</td>\n",
       "      <td>1.624881</td>\n",
       "      <td>1.676159</td>\n",
       "      <td>2.377376</td>\n",
       "      <td>2.062031</td>\n",
       "      <td>1.936239</td>\n",
       "      <td>1.880032</td>\n",
       "      <td>2.014094</td>\n",
       "      <td>2.183187</td>\n",
       "      <td>1.955486</td>\n",
       "      <td>1.858617</td>\n",
       "      <td>1.794479</td>\n",
       "      <td>1.861357</td>\n",
       "    </tr>\n",
       "    <tr>\n",
       "      <td>min</td>\n",
       "      <td>1.000000</td>\n",
       "      <td>-12.978725</td>\n",
       "      <td>2.741681</td>\n",
       "      <td>-11.043026</td>\n",
       "      <td>-6.406284</td>\n",
       "      <td>1.762241</td>\n",
       "      <td>-10.838092</td>\n",
       "      <td>-8.294703</td>\n",
       "      <td>8.231789</td>\n",
       "      <td>10.646672</td>\n",
       "      <td>8.049850</td>\n",
       "      <td>-39.027146</td>\n",
       "      <td>-39.777921</td>\n",
       "      <td>-35.878812</td>\n",
       "      <td>-34.494076</td>\n",
       "      <td>-26.350259</td>\n",
       "      <td>3.444448</td>\n",
       "      <td>12.498143</td>\n",
       "      <td>10.286917</td>\n",
       "      <td>11.337467</td>\n",
       "      <td>10.977328</td>\n",
       "    </tr>\n",
       "    <tr>\n",
       "      <td>25%</td>\n",
       "      <td>174.000000</td>\n",
       "      <td>19.652024</td>\n",
       "      <td>18.700219</td>\n",
       "      <td>18.048259</td>\n",
       "      <td>17.746887</td>\n",
       "      <td>17.424948</td>\n",
       "      <td>19.941100</td>\n",
       "      <td>18.903197</td>\n",
       "      <td>18.259535</td>\n",
       "      <td>17.904322</td>\n",
       "      <td>17.606707</td>\n",
       "      <td>19.248189</td>\n",
       "      <td>18.113991</td>\n",
       "      <td>17.480514</td>\n",
       "      <td>17.051210</td>\n",
       "      <td>16.805092</td>\n",
       "      <td>19.265102</td>\n",
       "      <td>18.075284</td>\n",
       "      <td>17.423002</td>\n",
       "      <td>16.977550</td>\n",
       "      <td>16.705145</td>\n",
       "    </tr>\n",
       "    <tr>\n",
       "      <td>50%</td>\n",
       "      <td>349.000000</td>\n",
       "      <td>20.869344</td>\n",
       "      <td>19.902848</td>\n",
       "      <td>19.453620</td>\n",
       "      <td>19.042646</td>\n",
       "      <td>18.610118</td>\n",
       "      <td>21.048108</td>\n",
       "      <td>20.068700</td>\n",
       "      <td>19.632022</td>\n",
       "      <td>19.189659</td>\n",
       "      <td>18.711177</td>\n",
       "      <td>20.365697</td>\n",
       "      <td>19.585031</td>\n",
       "      <td>19.182702</td>\n",
       "      <td>18.693982</td>\n",
       "      <td>18.173468</td>\n",
       "      <td>20.404358</td>\n",
       "      <td>19.545613</td>\n",
       "      <td>19.142608</td>\n",
       "      <td>18.641821</td>\n",
       "      <td>18.100075</td>\n",
       "    </tr>\n",
       "    <tr>\n",
       "      <td>75%</td>\n",
       "      <td>526.000000</td>\n",
       "      <td>22.156051</td>\n",
       "      <td>21.146719</td>\n",
       "      <td>20.514248</td>\n",
       "      <td>20.072455</td>\n",
       "      <td>19.882456</td>\n",
       "      <td>22.335637</td>\n",
       "      <td>21.384566</td>\n",
       "      <td>20.773926</td>\n",
       "      <td>20.331987</td>\n",
       "      <td>20.133465</td>\n",
       "      <td>21.792793</td>\n",
       "      <td>21.001815</td>\n",
       "      <td>20.456142</td>\n",
       "      <td>20.018379</td>\n",
       "      <td>19.806313</td>\n",
       "      <td>21.987909</td>\n",
       "      <td>20.959696</td>\n",
       "      <td>20.407039</td>\n",
       "      <td>19.968263</td>\n",
       "      <td>19.818701</td>\n",
       "    </tr>\n",
       "    <tr>\n",
       "      <td>max</td>\n",
       "      <td>1000.000000</td>\n",
       "      <td>38.142419</td>\n",
       "      <td>39.411617</td>\n",
       "      <td>37.348717</td>\n",
       "      <td>34.963620</td>\n",
       "      <td>32.130146</td>\n",
       "      <td>39.182814</td>\n",
       "      <td>37.745406</td>\n",
       "      <td>30.961793</td>\n",
       "      <td>32.171369</td>\n",
       "      <td>36.498179</td>\n",
       "      <td>39.979165</td>\n",
       "      <td>39.969025</td>\n",
       "      <td>39.977525</td>\n",
       "      <td>39.237553</td>\n",
       "      <td>39.794471</td>\n",
       "      <td>39.238248</td>\n",
       "      <td>39.129788</td>\n",
       "      <td>33.666494</td>\n",
       "      <td>32.740051</td>\n",
       "      <td>34.930633</td>\n",
       "    </tr>\n",
       "  </tbody>\n",
       "</table>\n",
       "</div>"
      ],
      "text/plain": [
       "             fiberID       psfMag_u       psfMag_g       psfMag_r  \\\n",
       "count  199646.000000  199646.000000  199646.000000  199646.000000   \n",
       "mean      360.906179      20.981482      19.858757      19.285847   \n",
       "std       225.353069       2.075314       1.858574       1.703859   \n",
       "min         1.000000     -12.978725       2.741681     -11.043026   \n",
       "25%       174.000000      19.652024      18.700219      18.048259   \n",
       "50%       349.000000      20.869344      19.902848      19.453620   \n",
       "75%       526.000000      22.156051      21.146719      20.514248   \n",
       "max      1000.000000      38.142419      39.411617      37.348717   \n",
       "\n",
       "            psfMag_i       psfMag_z     fiberMag_u     fiberMag_g  \\\n",
       "count  199646.000000  199646.000000  199646.000000  199646.000000   \n",
       "mean       18.870981      18.611269      21.170671      20.089208   \n",
       "std         1.623027       1.679114       1.965779       1.841201   \n",
       "min        -6.406284       1.762241     -10.838092      -8.294703   \n",
       "25%        17.746887      17.424948      19.941100      18.903197   \n",
       "50%        19.042646      18.610118      21.048108      20.068700   \n",
       "75%        20.072455      19.882456      22.335637      21.384566   \n",
       "max        34.963620      32.130146      39.182814      37.745406   \n",
       "\n",
       "          fiberMag_r     fiberMag_i     fiberMag_z     petroMag_u  \\\n",
       "count  199646.000000  199646.000000  199646.000000  199646.000000   \n",
       "mean       19.505094      19.087129      18.828211      20.702285   \n",
       "std         1.704064       1.624881       1.676159       2.377376   \n",
       "min         8.231789      10.646672       8.049850     -39.027146   \n",
       "25%        18.259535      17.904322      17.606707      19.248189   \n",
       "50%        19.632022      19.189659      18.711177      20.365697   \n",
       "75%        20.773926      20.331987      20.133465      21.792793   \n",
       "max        30.961793      32.171369      36.498179      39.979165   \n",
       "\n",
       "          petroMag_g     petroMag_r     petroMag_i     petroMag_z  \\\n",
       "count  199646.000000  199646.000000  199646.000000  199646.000000   \n",
       "mean       19.597224      19.005508      18.602769      18.390198   \n",
       "std         2.062031       1.936239       1.880032       2.014094   \n",
       "min       -39.777921     -35.878812     -34.494076     -26.350259   \n",
       "25%        18.113991      17.480514      17.051210      16.805092   \n",
       "50%        19.585031      19.182702      18.693982      18.173468   \n",
       "75%        21.001815      20.456142      20.018379      19.806313   \n",
       "max        39.969025      39.977525      39.237553      39.794471   \n",
       "\n",
       "          modelMag_u     modelMag_g     modelMag_r     modelMag_i  \\\n",
       "count  199646.000000  199646.000000  199646.000000  199646.000000   \n",
       "mean       20.728887      19.529152      18.939032      18.519976   \n",
       "std         2.183187       1.955486       1.858617       1.794479   \n",
       "min         3.444448      12.498143      10.286917      11.337467   \n",
       "25%        19.265102      18.075284      17.423002      16.977550   \n",
       "50%        20.404358      19.545613      19.142608      18.641821   \n",
       "75%        21.987909      20.959696      20.407039      19.968263   \n",
       "max        39.238248      39.129788      33.666494      32.740051   \n",
       "\n",
       "          modelMag_z  \n",
       "count  199646.000000  \n",
       "mean       18.275557  \n",
       "std         1.861357  \n",
       "min        10.977328  \n",
       "25%        16.705145  \n",
       "50%        18.100075  \n",
       "75%        19.818701  \n",
       "max        34.930633  "
      ]
     },
     "execution_count": 6,
     "metadata": {},
     "output_type": "execute_result"
    }
   ],
   "source": [
    "train_df.describe()"
   ]
  },
  {
   "cell_type": "code",
   "execution_count": 7,
   "metadata": {
    "ExecuteTime": {
     "end_time": "2020-02-28T02:35:24.504000Z",
     "start_time": "2020-02-28T02:35:24.500000Z"
    }
   },
   "outputs": [
    {
     "data": {
      "text/plain": [
       "Index(['type', 'fiberID', 'psfMag_u', 'psfMag_g', 'psfMag_r', 'psfMag_i',\n",
       "       'psfMag_z', 'fiberMag_u', 'fiberMag_g', 'fiberMag_r', 'fiberMag_i',\n",
       "       'fiberMag_z', 'petroMag_u', 'petroMag_g', 'petroMag_r', 'petroMag_i',\n",
       "       'petroMag_z', 'modelMag_u', 'modelMag_g', 'modelMag_r', 'modelMag_i',\n",
       "       'modelMag_z'],\n",
       "      dtype='object')"
      ]
     },
     "execution_count": 7,
     "metadata": {},
     "output_type": "execute_result"
    }
   ],
   "source": [
    "train_df.columns"
   ]
  },
  {
   "cell_type": "markdown",
   "metadata": {},
   "source": [
    "## DATA Setting"
   ]
  },
  {
   "cell_type": "code",
   "execution_count": 8,
   "metadata": {
    "ExecuteTime": {
     "end_time": "2020-02-28T02:35:24.633000Z",
     "start_time": "2020-02-28T02:35:24.542000Z"
    }
   },
   "outputs": [],
   "source": [
    "column_number = {}\n",
    "number_columns = {}\n",
    "for i, column in enumerate(sample_submission_df.columns):\n",
    "    column_number[column] = i\n",
    "    number_columns[i] = column\n",
    "    \n",
    "    \n",
    "def to_number(x, dic):\n",
    "    return dic[x]\n",
    "\n",
    "train_df['type_num'] = train_df['type'].apply(lambda x: to_number(x, column_number))\n"
   ]
  },
  {
   "cell_type": "code",
   "execution_count": 9,
   "metadata": {
    "ExecuteTime": {
     "end_time": "2020-02-28T02:35:24.679000Z",
     "start_time": "2020-02-28T02:35:24.672000Z"
    }
   },
   "outputs": [],
   "source": [
    "def add_minus_feature_all(data,test = False):\n",
    "    '''\n",
    "    combination으로 모든 변수들의 조합에 대해서 컬럼생성 \n",
    "    각 mag에서 가장 높은값의 filter를 받아오는 \"~~mag_MAX\"생성\n",
    "    결과 64개로 증가\n",
    "    '''\n",
    "    from itertools import combinations\n",
    "    n = 0\n",
    "    for count in range(5,21,5):\n",
    "        s = 2\n",
    "        if test == True :\n",
    "            s = 1\n",
    "        selected = data.columns[s:].values[n:count]\n",
    "        mag = str.split(selected[0],'_')[0]\n",
    "        data[mag+\"_MAX\"] = data[selected].apply(lambda x : str.split(np.argmax(x),'_')[1],axis = 1)\n",
    "        for combi in list(combinations(selected,2)):\n",
    "            name_1st = str.split(combi[0],'_')[1]\n",
    "            name_2nd = str.split(combi[1],'_')[1]\n",
    "            data[mag+\"_\"+name_1st+\"-\"+name_2nd] = data[combi[0]]-data[combi[1]]\n",
    "        n=count\n",
    "    return data"
   ]
  },
  {
   "cell_type": "code",
   "execution_count": 10,
   "metadata": {
    "ExecuteTime": {
     "end_time": "2020-02-28T02:35:24.735000Z",
     "start_time": "2020-02-28T02:35:24.718000Z"
    }
   },
   "outputs": [],
   "source": [
    "def add_minus_feature(data,test = False):\n",
    "    '''\n",
    "    근접변수에 대해서만 컬럼생성 ex) 'fiberMag_u-g', 'fiberMag_g-r', 'fiberMag_r-i', 'fiberMag_i-z'\n",
    "    각 mag에서 가장 높은값의 filter를 받아오는 \"~~mag_MAX\"생성\n",
    "    결과 38개로 증가 \n",
    "    '''\n",
    "    from itertools import combinations\n",
    "    n = 0\n",
    "    m = 0\n",
    "    for count in range(5,21,5):\n",
    "        s = 2\n",
    "        if test == True :\n",
    "            s = 1\n",
    "        selected = data.columns[s:].values[n:count]\n",
    "        mag = str.split(selected[0],'_')[0]\n",
    "        data[mag+\"_MAX\"] = data[selected].apply(lambda x : str.split(np.argmax(x),'_')[1],axis = 1)\n",
    "        for i in range(0,len(selected)):        \n",
    "            if i>0: \n",
    "                name_1st = str.split(m,'_')[1]\n",
    "                name_2nd = str.split(selected[i],'_')[1]\n",
    "                data[mag+\"_\"+name_1st+\"-\"+name_2nd] = data[m]-data[selected[i]]\n",
    "            m = selected[i]    \n",
    "        n=count\n",
    "    return data"
   ]
  },
  {
   "cell_type": "code",
   "execution_count": 11,
   "metadata": {
    "ExecuteTime": {
     "end_time": "2020-02-28T02:36:38.071000Z",
     "start_time": "2020-02-28T02:35:24.773000Z"
    }
   },
   "outputs": [
    {
     "name": "stderr",
     "output_type": "stream",
     "text": [
      "G:\\Anaconda3\\lib\\site-packages\\numpy\\core\\fromnumeric.py:56: FutureWarning: \n",
      "The current behaviour of 'Series.argmax' is deprecated, use 'idxmax'\n",
      "instead.\n",
      "The behavior of 'argmax' will be corrected to return the positional\n",
      "maximum in the future. For now, use 'series.values.argmax' or\n",
      "'np.argmax(np.array(values))' to get the position of the maximum\n",
      "row.\n",
      "  return getattr(obj, method)(*args, **kwds)\n"
     ]
    }
   ],
   "source": [
    "train_df = add_minus_feature(train_df)\n",
    "test_df = add_minus_feature(test_df,True)"
   ]
  },
  {
   "cell_type": "code",
   "execution_count": 12,
   "metadata": {
    "ExecuteTime": {
     "end_time": "2020-02-28T02:36:38.207000Z",
     "start_time": "2020-02-28T02:36:38.204000Z"
    }
   },
   "outputs": [],
   "source": [
    "def label_encode(data):\n",
    "    '''\n",
    "    각 mag에서 가장 높은값의 filter를 labelencoding \n",
    "    '''\n",
    "    from sklearn.preprocessing import LabelEncoder\n",
    "    le = LabelEncoder()\n",
    "    taget_cols = ['psfMag_MAX','fiberMag_MAX','petroMag_MAX','modelMag_MAX']\n",
    "    for col in taget_cols:\n",
    "        data[col] = le.fit_transform(data[col])\n",
    "    return data"
   ]
  },
  {
   "cell_type": "code",
   "execution_count": 13,
   "metadata": {
    "ExecuteTime": {
     "end_time": "2020-02-28T02:36:38.456000Z",
     "start_time": "2020-02-28T02:36:38.336000Z"
    }
   },
   "outputs": [],
   "source": [
    "train_df = label_encode(train_df)\n",
    "test_df = label_encode(test_df)"
   ]
  },
  {
   "cell_type": "code",
   "execution_count": 14,
   "metadata": {
    "ExecuteTime": {
     "end_time": "2020-02-28T02:36:38.570000Z",
     "start_time": "2020-02-28T02:36:38.567000Z"
    }
   },
   "outputs": [],
   "source": [
    "# train_df.drop(columns=['psfMag_u', 'psfMag_g', 'psfMag_r', 'psfMag_i',\n",
    "#        'psfMag_z', 'fiberMag_u', 'fiberMag_g', 'fiberMag_r', 'fiberMag_i',\n",
    "#        'fiberMag_z', 'petroMag_u', 'petroMag_g', 'petroMag_r', 'petroMag_i',\n",
    "#        'petroMag_z', 'modelMag_u', 'modelMag_g', 'modelMag_r', 'modelMag_i',\n",
    "#        'modelMag_z'], inplace=True)\n",
    "\n",
    "# test_df.drop(columns=['psfMag_u', 'psfMag_g', 'psfMag_r', 'psfMag_i',\n",
    "#        'psfMag_z', 'fiberMag_u', 'fiberMag_g', 'fiberMag_r', 'fiberMag_i',\n",
    "#        'fiberMag_z', 'petroMag_u', 'petroMag_g', 'petroMag_r', 'petroMag_i',\n",
    "#        'petroMag_z', 'modelMag_u', 'modelMag_g', 'modelMag_r', 'modelMag_i',\n",
    "#        'modelMag_z'], inplace=True)"
   ]
  },
  {
   "cell_type": "code",
   "execution_count": 15,
   "metadata": {
    "ExecuteTime": {
     "end_time": "2020-02-28T02:36:38.757000Z",
     "start_time": "2020-02-28T02:36:38.682000Z"
    }
   },
   "outputs": [],
   "source": [
    "train_X = train_df.drop(columns=['type', 'type_num'], axis=1)\n",
    "train_y = train_df['type_num']"
   ]
  },
  {
   "cell_type": "code",
   "execution_count": 16,
   "metadata": {
    "ExecuteTime": {
     "end_time": "2020-02-28T02:36:38.911000Z",
     "start_time": "2020-02-28T02:36:38.907000Z"
    },
    "scrolled": true
   },
   "outputs": [
    {
     "data": {
      "text/plain": [
       "Index(['fiberID', 'psfMag_u', 'psfMag_g', 'psfMag_r', 'psfMag_i', 'psfMag_z',\n",
       "       'fiberMag_u', 'fiberMag_g', 'fiberMag_r', 'fiberMag_i', 'fiberMag_z',\n",
       "       'petroMag_u', 'petroMag_g', 'petroMag_r', 'petroMag_i', 'petroMag_z',\n",
       "       'modelMag_u', 'modelMag_g', 'modelMag_r', 'modelMag_i', 'modelMag_z',\n",
       "       'psfMag_MAX', 'psfMag_u-g', 'psfMag_g-r', 'psfMag_r-i', 'psfMag_i-z',\n",
       "       'fiberMag_MAX', 'fiberMag_u-g', 'fiberMag_g-r', 'fiberMag_r-i',\n",
       "       'fiberMag_i-z', 'petroMag_MAX', 'petroMag_u-g', 'petroMag_g-r',\n",
       "       'petroMag_r-i', 'petroMag_i-z', 'modelMag_MAX', 'modelMag_u-g',\n",
       "       'modelMag_g-r', 'modelMag_r-i', 'modelMag_i-z'],\n",
       "      dtype='object')"
      ]
     },
     "execution_count": 16,
     "metadata": {},
     "output_type": "execute_result"
    }
   ],
   "source": [
    "train_X.columns"
   ]
  },
  {
   "cell_type": "code",
   "execution_count": 17,
   "metadata": {
    "ExecuteTime": {
     "end_time": "2020-02-28T02:36:39.066000Z",
     "start_time": "2020-02-28T02:36:39.064000Z"
    }
   },
   "outputs": [],
   "source": [
    "# ## u-g, g-r, r-i, i-z 만 남기는게 좋지 않을까????\n",
    "# train_X.drop(['psfMag_u-r','psfMag_u-i','psfMag_u-z','psfMag_g-i','psfMag_g-z','psfMag_r-z',\n",
    "#              'fiberMag_u-r','fiberMag_u-i','fiberMag_u-z','fiberMag_g-i','fiberMag_g-z','fiberMag_r-z',\n",
    "#              'petroMag_u-r','petroMag_u-i','petroMag_u-z','petroMag_g-i','petroMag_g-z','petroMag_r-z',\n",
    "#              'modelMag_u-r','modelMag_u-i','modelMag_u-z','modelMag_g-i','modelMag_g-z','modelMag_r-z'] ,axis=1, inplace=True)\n",
    "\n",
    "# test_X.drop(['psfMag_u-r','psfMag_u-i','psfMag_u-z','psfMag_g-i','psfMag_g-z','psfMag_r-z',\n",
    "#              'fiberMag_u-r','fiberMag_u-i','fiberMag_u-z','fiberMag_g-i','fiberMag_g-z','fiberMag_r-z',\n",
    "#              'petroMag_u-r','petroMag_u-i','petroMag_u-z','petroMag_g-i','petroMag_g-z','petroMag_r-z',\n",
    "#              'modelMag_u-r','modelMag_u-i','modelMag_u-z','modelMag_g-i','modelMag_g-z','modelMag_r-z'] ,axis=1, inplace=True)"
   ]
  },
  {
   "cell_type": "code",
   "execution_count": 18,
   "metadata": {
    "ExecuteTime": {
     "end_time": "2020-02-28T02:36:39.376000Z",
     "start_time": "2020-02-28T02:36:39.219000Z"
    }
   },
   "outputs": [],
   "source": [
    "X_train, X_test, y_train, y_test = train_test_split(train_X, train_y, test_size=0.3, random_state=1059,stratify = train_y)"
   ]
  },
  {
   "cell_type": "markdown",
   "metadata": {},
   "source": [
    "## Modeling"
   ]
  },
  {
   "cell_type": "code",
   "execution_count": 23,
   "metadata": {
    "ExecuteTime": {
     "end_time": "2020-02-28T02:54:28.831000Z",
     "start_time": "2020-02-28T02:54:28.817000Z"
    }
   },
   "outputs": [],
   "source": [
    "# fit a lightGBM model to the data\n",
    "model = lgb.LGBMClassifier(\n",
    "    bagging_fraction= 0.85,\n",
    "    bagging_freq= 20,\n",
    "    feature_fraction= 0.85,\n",
    "    learning_rate= 0.003,\n",
    "    max_depth= 9,\n",
    "    metric= ['multi_logloss', 'multi_logloss'],\n",
    "    n_estimators= 10000,\n",
    "    num_leaves= 300,\n",
    "    objective= 'multiclass',\n",
    "    random_state= 1059,\n",
    "    reg_alpha= 0.0,\n",
    "    reg_lambda= 0.0,\n",
    "    num_class= [train_y.nunique()],\n",
    "    subsample_for_bin= 50000\n",
    "    )"
   ]
  },
  {
   "cell_type": "code",
   "execution_count": 24,
   "metadata": {
    "ExecuteTime": {
     "end_time": "2020-02-28T03:18:49.880000Z",
     "start_time": "2020-02-28T02:54:29.122000Z"
    },
    "scrolled": true
   },
   "outputs": [
    {
     "name": "stdout",
     "output_type": "stream",
     "text": [
      "Training until validation scores don't improve for 100 rounds\n",
      "[50]\tTrain's multi_logloss: 1.79277\tTest's multi_logloss: 1.8091\n",
      "[100]\tTrain's multi_logloss: 1.50159\tTest's multi_logloss: 1.52627\n",
      "[150]\tTrain's multi_logloss: 1.29312\tTest's multi_logloss: 1.32369\n",
      "[200]\tTrain's multi_logloss: 1.13217\tTest's multi_logloss: 1.16766\n",
      "[250]\tTrain's multi_logloss: 1.00366\tTest's multi_logloss: 1.0434\n",
      "[300]\tTrain's multi_logloss: 0.898475\tTest's multi_logloss: 0.941877\n",
      "[350]\tTrain's multi_logloss: 0.810712\tTest's multi_logloss: 0.857607\n",
      "[400]\tTrain's multi_logloss: 0.736566\tTest's multi_logloss: 0.786657\n",
      "[450]\tTrain's multi_logloss: 0.673546\tTest's multi_logloss: 0.726668\n",
      "[500]\tTrain's multi_logloss: 0.619881\tTest's multi_logloss: 0.675846\n",
      "[550]\tTrain's multi_logloss: 0.573679\tTest's multi_logloss: 0.632418\n",
      "[600]\tTrain's multi_logloss: 0.533862\tTest's multi_logloss: 0.595255\n",
      "[650]\tTrain's multi_logloss: 0.499321\tTest's multi_logloss: 0.563255\n",
      "[700]\tTrain's multi_logloss: 0.469215\tTest's multi_logloss: 0.535692\n",
      "[750]\tTrain's multi_logloss: 0.44285\tTest's multi_logloss: 0.511868\n",
      "[800]\tTrain's multi_logloss: 0.419757\tTest's multi_logloss: 0.491227\n",
      "[850]\tTrain's multi_logloss: 0.399514\tTest's multi_logloss: 0.473289\n",
      "[900]\tTrain's multi_logloss: 0.381621\tTest's multi_logloss: 0.457697\n",
      "[950]\tTrain's multi_logloss: 0.366036\tTest's multi_logloss: 0.44416\n",
      "[1000]\tTrain's multi_logloss: 0.352069\tTest's multi_logloss: 0.432263\n",
      "[1050]\tTrain's multi_logloss: 0.339556\tTest's multi_logloss: 0.421858\n",
      "[1100]\tTrain's multi_logloss: 0.32846\tTest's multi_logloss: 0.412744\n",
      "[1150]\tTrain's multi_logloss: 0.318548\tTest's multi_logloss: 0.404712\n",
      "[1200]\tTrain's multi_logloss: 0.30957\tTest's multi_logloss: 0.397671\n",
      "[1250]\tTrain's multi_logloss: 0.301521\tTest's multi_logloss: 0.391477\n",
      "[1300]\tTrain's multi_logloss: 0.294202\tTest's multi_logloss: 0.385969\n",
      "[1350]\tTrain's multi_logloss: 0.287433\tTest's multi_logloss: 0.381111\n",
      "[1400]\tTrain's multi_logloss: 0.281375\tTest's multi_logloss: 0.376788\n",
      "[1450]\tTrain's multi_logloss: 0.275709\tTest's multi_logloss: 0.372909\n",
      "[1500]\tTrain's multi_logloss: 0.270318\tTest's multi_logloss: 0.369467\n",
      "[1550]\tTrain's multi_logloss: 0.265365\tTest's multi_logloss: 0.366375\n",
      "[1600]\tTrain's multi_logloss: 0.260661\tTest's multi_logloss: 0.363547\n",
      "[1650]\tTrain's multi_logloss: 0.256193\tTest's multi_logloss: 0.361053\n",
      "[1700]\tTrain's multi_logloss: 0.252156\tTest's multi_logloss: 0.358787\n",
      "[1750]\tTrain's multi_logloss: 0.248433\tTest's multi_logloss: 0.35682\n",
      "[1800]\tTrain's multi_logloss: 0.244644\tTest's multi_logloss: 0.354986\n",
      "[1850]\tTrain's multi_logloss: 0.241208\tTest's multi_logloss: 0.353369\n",
      "[1900]\tTrain's multi_logloss: 0.237826\tTest's multi_logloss: 0.351871\n",
      "[1950]\tTrain's multi_logloss: 0.23463\tTest's multi_logloss: 0.350548\n",
      "[2000]\tTrain's multi_logloss: 0.231502\tTest's multi_logloss: 0.349338\n",
      "[2050]\tTrain's multi_logloss: 0.228573\tTest's multi_logloss: 0.348284\n",
      "[2100]\tTrain's multi_logloss: 0.225618\tTest's multi_logloss: 0.34733\n",
      "[2150]\tTrain's multi_logloss: 0.22293\tTest's multi_logloss: 0.346492\n",
      "[2200]\tTrain's multi_logloss: 0.219921\tTest's multi_logloss: 0.345682\n",
      "[2250]\tTrain's multi_logloss: 0.217435\tTest's multi_logloss: 0.344939\n",
      "[2300]\tTrain's multi_logloss: 0.214953\tTest's multi_logloss: 0.34428\n",
      "[2350]\tTrain's multi_logloss: 0.21234\tTest's multi_logloss: 0.343684\n",
      "[2400]\tTrain's multi_logloss: 0.209766\tTest's multi_logloss: 0.343141\n",
      "[2450]\tTrain's multi_logloss: 0.207469\tTest's multi_logloss: 0.342674\n",
      "[2500]\tTrain's multi_logloss: 0.205363\tTest's multi_logloss: 0.342203\n",
      "[2550]\tTrain's multi_logloss: 0.203158\tTest's multi_logloss: 0.341802\n",
      "[2600]\tTrain's multi_logloss: 0.201052\tTest's multi_logloss: 0.341459\n",
      "[2650]\tTrain's multi_logloss: 0.198742\tTest's multi_logloss: 0.34107\n",
      "[2700]\tTrain's multi_logloss: 0.196751\tTest's multi_logloss: 0.340818\n",
      "[2750]\tTrain's multi_logloss: 0.194656\tTest's multi_logloss: 0.340563\n",
      "[2800]\tTrain's multi_logloss: 0.192622\tTest's multi_logloss: 0.340316\n",
      "[2850]\tTrain's multi_logloss: 0.190824\tTest's multi_logloss: 0.340131\n",
      "[2900]\tTrain's multi_logloss: 0.188867\tTest's multi_logloss: 0.339927\n",
      "[2950]\tTrain's multi_logloss: 0.187023\tTest's multi_logloss: 0.339779\n",
      "[3000]\tTrain's multi_logloss: 0.184927\tTest's multi_logloss: 0.339643\n",
      "[3050]\tTrain's multi_logloss: 0.182998\tTest's multi_logloss: 0.339498\n",
      "[3100]\tTrain's multi_logloss: 0.181158\tTest's multi_logloss: 0.339384\n",
      "[3150]\tTrain's multi_logloss: 0.179283\tTest's multi_logloss: 0.339272\n",
      "[3200]\tTrain's multi_logloss: 0.177439\tTest's multi_logloss: 0.339216\n",
      "[3250]\tTrain's multi_logloss: 0.175674\tTest's multi_logloss: 0.339176\n",
      "[3300]\tTrain's multi_logloss: 0.173904\tTest's multi_logloss: 0.339133\n",
      "[3350]\tTrain's multi_logloss: 0.172369\tTest's multi_logloss: 0.339139\n",
      "[3400]\tTrain's multi_logloss: 0.170676\tTest's multi_logloss: 0.339095\n",
      "[3450]\tTrain's multi_logloss: 0.1688\tTest's multi_logloss: 0.339085\n",
      "[3500]\tTrain's multi_logloss: 0.166979\tTest's multi_logloss: 0.339137\n",
      "Early stopping, best iteration is:\n",
      "[3432]\tTrain's multi_logloss: 0.169501\tTest's multi_logloss: 0.339066\n",
      "\n",
      "LGBMClassifier(bagging_fraction=0.85, bagging_freq=20, boosting_type='gbdt',\n",
      "               class_weight=None, colsample_bytree=1.0, feature_fraction=0.85,\n",
      "               importance_type='split', learning_rate=0.003, max_depth=9,\n",
      "               metric=['multi_logloss', 'multi_logloss'], min_child_samples=20,\n",
      "               min_child_weight=0.001, min_split_gain=0.0, n_estimators=10000,\n",
      "               n_jobs=-1, num_class=[19], num_leaves=300,\n",
      "               objective='multiclass', random_state=1059, reg_alpha=0.0,\n",
      "               reg_lambda=0.0, silent=True, subsample=1.0,\n",
      "               subsample_for_bin=50000, subsample_freq=0)\n"
     ]
    }
   ],
   "source": [
    "model.fit(X_train, y_train,\n",
    "          sample_weight=None, init_score=None, eval_set=[(X_train, y_train),(X_test, y_test)], eval_names=['Train', 'Test'],\n",
    "          eval_sample_weight=None, eval_class_weight=None, eval_init_score=None,\n",
    "          eval_metric='logloss', early_stopping_rounds=100, verbose=50,\n",
    "          feature_name='auto', callbacks=None, categorical_feature=['psfMag_MAX', 'fiberMag_MAX', 'petroMag_MAX', 'modelMag_MAX']\n",
    "         )\n",
    "print(); print(model)"
   ]
  },
  {
   "cell_type": "code",
   "execution_count": 25,
   "metadata": {
    "ExecuteTime": {
     "end_time": "2020-02-28T03:25:47.635000Z",
     "start_time": "2020-02-28T03:18:50.112000Z"
    }
   },
   "outputs": [],
   "source": [
    "# make predictions\n",
    "train_y_pred = model.predict_proba(X_test)\n",
    "real_y_pred = model.predict_proba(test_df)"
   ]
  },
  {
   "cell_type": "code",
   "execution_count": 26,
   "metadata": {
    "ExecuteTime": {
     "end_time": "2020-02-28T03:25:47.918000Z",
     "start_time": "2020-02-28T03:25:47.879000Z"
    }
   },
   "outputs": [
    {
     "data": {
      "text/plain": [
       "0.33906587682700123"
      ]
     },
     "execution_count": 26,
     "metadata": {},
     "output_type": "execute_result"
    }
   ],
   "source": [
    "#log_loss\n",
    "log_loss(y_test,train_y_pred,labels= list(set(y_test)))"
   ]
  },
  {
   "cell_type": "code",
   "execution_count": 27,
   "metadata": {
    "ExecuteTime": {
     "end_time": "2020-02-28T03:25:48.218000Z",
     "start_time": "2020-02-28T03:25:48.182000Z"
    }
   },
   "outputs": [
    {
     "data": {
      "text/html": [
       "<div>\n",
       "<style scoped>\n",
       "    .dataframe tbody tr th:only-of-type {\n",
       "        vertical-align: middle;\n",
       "    }\n",
       "\n",
       "    .dataframe tbody tr th {\n",
       "        vertical-align: top;\n",
       "    }\n",
       "\n",
       "    .dataframe thead th {\n",
       "        text-align: right;\n",
       "    }\n",
       "</style>\n",
       "<table border=\"1\" class=\"dataframe\">\n",
       "  <thead>\n",
       "    <tr style=\"text-align: right;\">\n",
       "      <th></th>\n",
       "      <th>importance</th>\n",
       "    </tr>\n",
       "  </thead>\n",
       "  <tbody>\n",
       "    <tr>\n",
       "      <td>fiberID</td>\n",
       "      <td>541455</td>\n",
       "    </tr>\n",
       "    <tr>\n",
       "      <td>modelMag_r-i</td>\n",
       "      <td>415984</td>\n",
       "    </tr>\n",
       "    <tr>\n",
       "      <td>psfMag_u-g</td>\n",
       "      <td>396400</td>\n",
       "    </tr>\n",
       "    <tr>\n",
       "      <td>modelMag_u-g</td>\n",
       "      <td>391454</td>\n",
       "    </tr>\n",
       "    <tr>\n",
       "      <td>modelMag_g-r</td>\n",
       "      <td>373388</td>\n",
       "    </tr>\n",
       "    <tr>\n",
       "      <td>modelMag_i-z</td>\n",
       "      <td>367571</td>\n",
       "    </tr>\n",
       "    <tr>\n",
       "      <td>fiberMag_r-i</td>\n",
       "      <td>366746</td>\n",
       "    </tr>\n",
       "    <tr>\n",
       "      <td>fiberMag_g-r</td>\n",
       "      <td>360904</td>\n",
       "    </tr>\n",
       "    <tr>\n",
       "      <td>psfMag_r-i</td>\n",
       "      <td>359496</td>\n",
       "    </tr>\n",
       "    <tr>\n",
       "      <td>psfMag_g-r</td>\n",
       "      <td>354596</td>\n",
       "    </tr>\n",
       "  </tbody>\n",
       "</table>\n",
       "</div>"
      ],
      "text/plain": [
       "              importance\n",
       "fiberID           541455\n",
       "modelMag_r-i      415984\n",
       "psfMag_u-g        396400\n",
       "modelMag_u-g      391454\n",
       "modelMag_g-r      373388\n",
       "modelMag_i-z      367571\n",
       "fiberMag_r-i      366746\n",
       "fiberMag_g-r      360904\n",
       "psfMag_r-i        359496\n",
       "psfMag_g-r        354596"
      ]
     },
     "execution_count": 27,
     "metadata": {},
     "output_type": "execute_result"
    }
   ],
   "source": [
    "feature_df = pd.DataFrame(model.feature_importances_, index= train_X.columns,columns= ['importance']).sort_values('importance',ascending = False)\n",
    "feature_df.head(10)"
   ]
  },
  {
   "cell_type": "code",
   "execution_count": 29,
   "metadata": {
    "ExecuteTime": {
     "end_time": "2020-02-28T02:34:28.544000Z",
     "start_time": "2020-02-28T02:34:28.122000Z"
    }
   },
   "outputs": [],
   "source": [
    "submission = pd.DataFrame(data=real_y_pred, columns=sample_submission_df.columns, index=sample_submission_df.index)\n",
    "loss_v=log_loss(y_test,train_y_pred,labels= list(set(y_test)))\n",
    "submission.to_csv(f'submission_lightbgm_cv_10000iter_({loss_v}).csv', index=True)"
   ]
  },
  {
   "cell_type": "code",
   "execution_count": null,
   "metadata": {},
   "outputs": [],
   "source": []
  },
  {
   "cell_type": "code",
   "execution_count": null,
   "metadata": {},
   "outputs": [],
   "source": []
  },
  {
   "cell_type": "code",
   "execution_count": null,
   "metadata": {},
   "outputs": [],
   "source": []
  },
  {
   "cell_type": "code",
   "execution_count": null,
   "metadata": {},
   "outputs": [],
   "source": []
  },
  {
   "cell_type": "code",
   "execution_count": null,
   "metadata": {},
   "outputs": [],
   "source": []
  },
  {
   "cell_type": "code",
   "execution_count": 331,
   "metadata": {
    "ExecuteTime": {
     "end_time": "2020-02-26T18:46:21.805800Z",
     "start_time": "2020-02-26T18:46:21.781800Z"
    }
   },
   "outputs": [],
   "source": [
    "# #최적의 변수를 찾기 위한 KBest 함수 불러오기\n",
    "# from sklearn.feature_selection import SelectKBest\n",
    "# model_kbest = SelectKBest()\n",
    "from sklearn.pipeline import Pipeline\n",
    "lgbm_c = lgb.LGBMClassifier()\n",
    "#파이프라인 구축\n",
    "pipe_lgbm = Pipeline([('lgbm',lgbm_c)])\n",
    "#파라미터 생성\n",
    "params_lgbm = {\n",
    "    \"lgbm__max_depth\": [9,10],\n",
    "    \"lgbm__learning_rate\": [0.001, 0.003],\n",
    "    \"lgbm__num_leaves\": [300,500],\n",
    "    \"lgbm__n_estimators\": [500,1500],\n",
    "    \"lgbm__random_state\": [1059],\n",
    "    \"lgbm__subsample_for_bin\": [50000,200000],\n",
    "    \"lgbm__objective\": ['multiclass'],\n",
    "    \"lgbm__num_class\": [train_y.nunique()],\n",
    "    \"lgbm__metric\": [['multi_logloss','multi_logloss']],\n",
    "    \"lgbm__reg_alpha\": [0.0, 1.0],\n",
    "    \"lgbm__reg_lambda\": [0.0, 1.0],\n",
    "    \"lgbm__feature_fraction\": [0.85], \n",
    "    \"lgbm__bagging_fraction\": [0.85], \n",
    "    \"lgbm__bagging_freq\": [20],\n",
    "}"
   ]
  },
  {
   "cell_type": "code",
   "execution_count": 332,
   "metadata": {
    "ExecuteTime": {
     "end_time": "2020-02-26T18:46:22.853800Z",
     "start_time": "2020-02-26T18:46:22.842800Z"
    }
   },
   "outputs": [],
   "source": [
    "#최적의 파라미터 탐색\n",
    "from sklearn.model_selection import GridSearchCV\n",
    "grid_search = GridSearchCV(pipe_lgbm, param_grid = params_lgbm,\n",
    "                          cv=2, n_jobs=-1, verbose=10)"
   ]
  },
  {
   "cell_type": "code",
   "execution_count": 333,
   "metadata": {
    "ExecuteTime": {
     "end_time": "2020-02-27T13:59:44.132800Z",
     "start_time": "2020-02-26T18:46:23.523800Z"
    }
   },
   "outputs": [
    {
     "name": "stdout",
     "output_type": "stream",
     "text": [
      "Fitting 2 folds for each of 128 candidates, totalling 256 fits\n"
     ]
    },
    {
     "name": "stderr",
     "output_type": "stream",
     "text": [
      "[Parallel(n_jobs=-1)]: Using backend LokyBackend with 4 concurrent workers.\n",
      "[Parallel(n_jobs=-1)]: Done   5 tasks      | elapsed: 20.1min\n",
      "[Parallel(n_jobs=-1)]: Done  10 tasks      | elapsed: 27.0min\n",
      "[Parallel(n_jobs=-1)]: Done  17 tasks      | elapsed: 45.5min\n",
      "[Parallel(n_jobs=-1)]: Done  24 tasks      | elapsed: 53.6min\n",
      "[Parallel(n_jobs=-1)]: Done  33 tasks      | elapsed: 103.3min\n",
      "[Parallel(n_jobs=-1)]: Done  42 tasks      | elapsed: 144.2min\n",
      "[Parallel(n_jobs=-1)]: Done  53 tasks      | elapsed: 219.0min\n",
      "[Parallel(n_jobs=-1)]: Done  64 tasks      | elapsed: 262.3min\n",
      "[Parallel(n_jobs=-1)]: Done  77 tasks      | elapsed: 290.7min\n",
      "[Parallel(n_jobs=-1)]: Done  90 tasks      | elapsed: 324.0min\n",
      "[Parallel(n_jobs=-1)]: Done 105 tasks      | elapsed: 411.9min\n",
      "[Parallel(n_jobs=-1)]: Done 120 tasks      | elapsed: 507.6min\n",
      "[Parallel(n_jobs=-1)]: Done 137 tasks      | elapsed: 566.5min\n",
      "[Parallel(n_jobs=-1)]: Done 154 tasks      | elapsed: 601.2min\n",
      "[Parallel(n_jobs=-1)]: Done 173 tasks      | elapsed: 714.0min\n",
      "[Parallel(n_jobs=-1)]: Done 192 tasks      | elapsed: 828.6min\n",
      "[Parallel(n_jobs=-1)]: Done 213 tasks      | elapsed: 877.0min\n",
      "[Parallel(n_jobs=-1)]: Done 234 tasks      | elapsed: 991.9min\n",
      "[Parallel(n_jobs=-1)]: Done 256 out of 256 | elapsed: 1139.9min finished\n"
     ]
    },
    {
     "data": {
      "text/plain": [
       "Pipeline(memory=None,\n",
       "         steps=[('lgbm',\n",
       "                 LGBMClassifier(bagging_fraction=0.85, bagging_freq=20,\n",
       "                                boosting_type='gbdt', class_weight=None,\n",
       "                                colsample_bytree=1.0, feature_fraction=0.85,\n",
       "                                importance_type='split', learning_rate=0.003,\n",
       "                                max_depth=10,\n",
       "                                metric=['multi_logloss', 'multi_logloss'],\n",
       "                                min_child_samples=20, min_child_weight=0.001,\n",
       "                                min_split_gain=0.0, n_estimators=1500,\n",
       "                                n_jobs=-1, num_class=19, num_leaves=300,\n",
       "                                objective='multiclass', random_state=1059,\n",
       "                                reg_alpha=0.0, reg_lambda=0.0, silent=True,\n",
       "                                subsample=1.0, subsample_for_bin=200000,\n",
       "                                subsample_freq=0))],\n",
       "         verbose=False)"
      ]
     },
     "execution_count": 333,
     "metadata": {},
     "output_type": "execute_result"
    }
   ],
   "source": [
    "grid_search.fit(X_train, y_train)\n",
    "lgbm_grid = grid_search.best_estimator_\n",
    "lgbm_grid"
   ]
  },
  {
   "cell_type": "code",
   "execution_count": 334,
   "metadata": {
    "ExecuteTime": {
     "end_time": "2020-02-27T13:59:44.824800Z",
     "start_time": "2020-02-27T13:59:44.761800Z"
    }
   },
   "outputs": [
    {
     "name": "stdout",
     "output_type": "stream",
     "text": [
      "0.8783559448165321\n"
     ]
    }
   ],
   "source": [
    "print(grid_search.best_score_)"
   ]
  },
  {
   "cell_type": "code",
   "execution_count": 341,
   "metadata": {
    "ExecuteTime": {
     "end_time": "2020-02-27T14:03:40.347800Z",
     "start_time": "2020-02-27T14:03:40.334800Z"
    }
   },
   "outputs": [
    {
     "data": {
      "text/plain": [
       "{'lgbm__bagging_fraction': 0.85,\n",
       " 'lgbm__bagging_freq': 20,\n",
       " 'lgbm__feature_fraction': 0.85,\n",
       " 'lgbm__learning_rate': 0.001,\n",
       " 'lgbm__max_depth': 9,\n",
       " 'lgbm__metric': ['multi_logloss', 'multi_logloss'],\n",
       " 'lgbm__n_estimators': 500,\n",
       " 'lgbm__num_class': 19,\n",
       " 'lgbm__num_leaves': 300,\n",
       " 'lgbm__objective': 'multiclass',\n",
       " 'lgbm__random_state': 1059,\n",
       " 'lgbm__reg_alpha': 0.0,\n",
       " 'lgbm__reg_lambda': 0.0,\n",
       " 'lgbm__subsample_for_bin': 50000}"
      ]
     },
     "execution_count": 341,
     "metadata": {},
     "output_type": "execute_result"
    }
   ],
   "source": [
    "grid_search.best_params_"
   ]
  }
 ],
 "metadata": {
  "kernelspec": {
   "display_name": "Python 3",
   "language": "python",
   "name": "python3"
  },
  "language_info": {
   "codemirror_mode": {
    "name": "ipython",
    "version": 3
   },
   "file_extension": ".py",
   "mimetype": "text/x-python",
   "name": "python",
   "nbconvert_exporter": "python",
   "pygments_lexer": "ipython3",
   "version": "3.6.9"
  },
  "varInspector": {
   "cols": {
    "lenName": 16,
    "lenType": 16,
    "lenVar": 40
   },
   "kernels_config": {
    "python": {
     "delete_cmd_postfix": "",
     "delete_cmd_prefix": "del ",
     "library": "var_list.py",
     "varRefreshCmd": "print(var_dic_list())"
    },
    "r": {
     "delete_cmd_postfix": ") ",
     "delete_cmd_prefix": "rm(",
     "library": "var_list.r",
     "varRefreshCmd": "cat(var_dic_list()) "
    }
   },
   "position": {
    "height": "524px",
    "left": "1167px",
    "right": "20px",
    "top": "120px",
    "width": "350px"
   },
   "types_to_exclude": [
    "module",
    "function",
    "builtin_function_or_method",
    "instance",
    "_Feature"
   ],
   "window_display": false
  }
 },
 "nbformat": 4,
 "nbformat_minor": 2
}
