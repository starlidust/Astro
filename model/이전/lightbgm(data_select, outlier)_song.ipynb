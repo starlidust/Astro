{
 "cells": [
  {
   "cell_type": "markdown",
   "metadata": {},
   "source": [
    "# Tune_lgb\n",
    "* 제출결과 : 0.4080269355"
   ]
  },
  {
   "cell_type": "code",
   "execution_count": 1,
   "metadata": {
    "ExecuteTime": {
     "end_time": "2020-02-15T12:21:00.269000Z",
     "start_time": "2020-02-15T12:20:48.047000Z"
    }
   },
   "outputs": [],
   "source": [
    "import pandas as pd\n",
    "import numpy as np\n",
    "import matplotlib.pyplot as plt\n",
    "import seaborn as sns\n",
    "\n",
    "from sklearn.ensemble import RandomForestClassifier\n",
    "from sklearn.model_selection import train_test_split\n",
    "from sklearn.metrics import confusion_matrix\n",
    "from sklearn.metrics import log_loss\n",
    "import lightgbm as lgb"
   ]
  },
  {
   "cell_type": "code",
   "execution_count": 2,
   "metadata": {
    "ExecuteTime": {
     "end_time": "2020-02-15T12:21:01.273000Z",
     "start_time": "2020-02-15T12:21:00.275000Z"
    }
   },
   "outputs": [],
   "source": [
    "path = \"./data/\" \n",
    "train_df = pd.read_csv(path+'train.csv',index_col=0)\n",
    "test_df = pd.read_csv(path+'test.csv',index_col=0)\n",
    "sample_submission_df = pd.read_csv(path+'sample_submission.csv',index_col=0)\n",
    "pd.options.display.max_columns = 30"
   ]
  },
  {
   "cell_type": "markdown",
   "metadata": {},
   "source": [
    "## 전처리\n",
    " - 이상치 확인 및 처리"
   ]
  },
  {
   "cell_type": "code",
   "execution_count": 3,
   "metadata": {
    "ExecuteTime": {
     "end_time": "2020-02-15T12:21:01.560000Z",
     "start_time": "2020-02-15T12:21:01.316000Z"
    }
   },
   "outputs": [
    {
     "data": {
      "text/html": [
       "<div>\n",
       "<style scoped>\n",
       "    .dataframe tbody tr th:only-of-type {\n",
       "        vertical-align: middle;\n",
       "    }\n",
       "\n",
       "    .dataframe tbody tr th {\n",
       "        vertical-align: top;\n",
       "    }\n",
       "\n",
       "    .dataframe thead th {\n",
       "        text-align: right;\n",
       "    }\n",
       "</style>\n",
       "<table border=\"1\" class=\"dataframe\">\n",
       "  <thead>\n",
       "    <tr style=\"text-align: right;\">\n",
       "      <th></th>\n",
       "      <th>fiberID</th>\n",
       "      <th>psfMag_u</th>\n",
       "      <th>psfMag_g</th>\n",
       "      <th>psfMag_r</th>\n",
       "      <th>psfMag_i</th>\n",
       "      <th>psfMag_z</th>\n",
       "      <th>fiberMag_u</th>\n",
       "      <th>fiberMag_g</th>\n",
       "      <th>fiberMag_r</th>\n",
       "      <th>fiberMag_i</th>\n",
       "      <th>fiberMag_z</th>\n",
       "      <th>petroMag_u</th>\n",
       "      <th>petroMag_g</th>\n",
       "      <th>petroMag_r</th>\n",
       "      <th>petroMag_i</th>\n",
       "      <th>petroMag_z</th>\n",
       "      <th>modelMag_u</th>\n",
       "      <th>modelMag_g</th>\n",
       "      <th>modelMag_r</th>\n",
       "      <th>modelMag_i</th>\n",
       "      <th>modelMag_z</th>\n",
       "    </tr>\n",
       "  </thead>\n",
       "  <tbody>\n",
       "    <tr>\n",
       "      <td>count</td>\n",
       "      <td>199991.000000</td>\n",
       "      <td>1.999910e+05</td>\n",
       "      <td>199991.000000</td>\n",
       "      <td>199991.000000</td>\n",
       "      <td>199991.000000</td>\n",
       "      <td>199991.000000</td>\n",
       "      <td>1.999910e+05</td>\n",
       "      <td>199991.000000</td>\n",
       "      <td>199991.000000</td>\n",
       "      <td>199991.000000</td>\n",
       "      <td>199991.000000</td>\n",
       "      <td>199991.000000</td>\n",
       "      <td>199991.000000</td>\n",
       "      <td>199991.000000</td>\n",
       "      <td>199991.000000</td>\n",
       "      <td>199991.000000</td>\n",
       "      <td>199991.000000</td>\n",
       "      <td>199991.000000</td>\n",
       "      <td>199991.000000</td>\n",
       "      <td>199991.000000</td>\n",
       "      <td>199991.000000</td>\n",
       "    </tr>\n",
       "    <tr>\n",
       "      <td>mean</td>\n",
       "      <td>360.830152</td>\n",
       "      <td>-6.750146e+00</td>\n",
       "      <td>18.675373</td>\n",
       "      <td>18.401235</td>\n",
       "      <td>18.043495</td>\n",
       "      <td>17.663526</td>\n",
       "      <td>1.084986e+01</td>\n",
       "      <td>19.072693</td>\n",
       "      <td>19.134483</td>\n",
       "      <td>18.183331</td>\n",
       "      <td>18.000882</td>\n",
       "      <td>21.837903</td>\n",
       "      <td>18.454136</td>\n",
       "      <td>18.481525</td>\n",
       "      <td>17.686617</td>\n",
       "      <td>17.699207</td>\n",
       "      <td>20.110991</td>\n",
       "      <td>18.544375</td>\n",
       "      <td>18.181544</td>\n",
       "      <td>17.692395</td>\n",
       "      <td>17.189281</td>\n",
       "    </tr>\n",
       "    <tr>\n",
       "      <td>std</td>\n",
       "      <td>225.305890</td>\n",
       "      <td>1.187678e+04</td>\n",
       "      <td>155.423024</td>\n",
       "      <td>127.128078</td>\n",
       "      <td>116.622194</td>\n",
       "      <td>123.735298</td>\n",
       "      <td>4.172116e+03</td>\n",
       "      <td>749.256162</td>\n",
       "      <td>90.049058</td>\n",
       "      <td>122.378972</td>\n",
       "      <td>145.862346</td>\n",
       "      <td>789.472333</td>\n",
       "      <td>154.376277</td>\n",
       "      <td>97.240448</td>\n",
       "      <td>145.730872</td>\n",
       "      <td>142.691880</td>\n",
       "      <td>122.299062</td>\n",
       "      <td>161.728183</td>\n",
       "      <td>133.984475</td>\n",
       "      <td>131.183416</td>\n",
       "      <td>133.685138</td>\n",
       "    </tr>\n",
       "    <tr>\n",
       "      <td>min</td>\n",
       "      <td>1.000000</td>\n",
       "      <td>-5.310802e+06</td>\n",
       "      <td>-40022.466071</td>\n",
       "      <td>-27184.795793</td>\n",
       "      <td>-26566.310827</td>\n",
       "      <td>-24878.828280</td>\n",
       "      <td>-1.864766e+06</td>\n",
       "      <td>-215882.917191</td>\n",
       "      <td>-21802.656144</td>\n",
       "      <td>-20208.516262</td>\n",
       "      <td>-26505.602101</td>\n",
       "      <td>-24463.431833</td>\n",
       "      <td>-25958.752324</td>\n",
       "      <td>-23948.588523</td>\n",
       "      <td>-40438.184078</td>\n",
       "      <td>-30070.729379</td>\n",
       "      <td>-26236.578659</td>\n",
       "      <td>-36902.402336</td>\n",
       "      <td>-36439.638493</td>\n",
       "      <td>-38969.416822</td>\n",
       "      <td>-26050.710196</td>\n",
       "    </tr>\n",
       "    <tr>\n",
       "      <td>25%</td>\n",
       "      <td>174.000000</td>\n",
       "      <td>1.965259e+01</td>\n",
       "      <td>18.701180</td>\n",
       "      <td>18.048572</td>\n",
       "      <td>17.747663</td>\n",
       "      <td>17.425523</td>\n",
       "      <td>1.994040e+01</td>\n",
       "      <td>18.902851</td>\n",
       "      <td>18.259352</td>\n",
       "      <td>17.903615</td>\n",
       "      <td>17.606148</td>\n",
       "      <td>19.247795</td>\n",
       "      <td>18.113933</td>\n",
       "      <td>17.479794</td>\n",
       "      <td>17.050294</td>\n",
       "      <td>16.804705</td>\n",
       "      <td>19.266214</td>\n",
       "      <td>18.076120</td>\n",
       "      <td>17.423425</td>\n",
       "      <td>16.977671</td>\n",
       "      <td>16.705774</td>\n",
       "    </tr>\n",
       "    <tr>\n",
       "      <td>50%</td>\n",
       "      <td>349.000000</td>\n",
       "      <td>2.087136e+01</td>\n",
       "      <td>19.904235</td>\n",
       "      <td>19.454492</td>\n",
       "      <td>19.043895</td>\n",
       "      <td>18.611799</td>\n",
       "      <td>2.104910e+01</td>\n",
       "      <td>20.069038</td>\n",
       "      <td>19.631419</td>\n",
       "      <td>19.188763</td>\n",
       "      <td>18.710967</td>\n",
       "      <td>20.366848</td>\n",
       "      <td>19.586559</td>\n",
       "      <td>19.182789</td>\n",
       "      <td>18.693370</td>\n",
       "      <td>18.174592</td>\n",
       "      <td>20.406840</td>\n",
       "      <td>19.547674</td>\n",
       "      <td>19.143156</td>\n",
       "      <td>18.641756</td>\n",
       "      <td>18.100997</td>\n",
       "    </tr>\n",
       "    <tr>\n",
       "      <td>75%</td>\n",
       "      <td>526.000000</td>\n",
       "      <td>2.216043e+01</td>\n",
       "      <td>21.150297</td>\n",
       "      <td>20.515936</td>\n",
       "      <td>20.073528</td>\n",
       "      <td>19.883760</td>\n",
       "      <td>2.233754e+01</td>\n",
       "      <td>21.385830</td>\n",
       "      <td>20.773911</td>\n",
       "      <td>20.331419</td>\n",
       "      <td>20.133179</td>\n",
       "      <td>21.797480</td>\n",
       "      <td>21.004397</td>\n",
       "      <td>20.457491</td>\n",
       "      <td>20.019112</td>\n",
       "      <td>19.807652</td>\n",
       "      <td>21.992898</td>\n",
       "      <td>20.962386</td>\n",
       "      <td>20.408140</td>\n",
       "      <td>19.968846</td>\n",
       "      <td>19.819554</td>\n",
       "    </tr>\n",
       "    <tr>\n",
       "      <td>max</td>\n",
       "      <td>1000.000000</td>\n",
       "      <td>1.877392e+04</td>\n",
       "      <td>3538.984910</td>\n",
       "      <td>3048.110913</td>\n",
       "      <td>4835.218639</td>\n",
       "      <td>9823.740407</td>\n",
       "      <td>4.870154e+03</td>\n",
       "      <td>248077.513380</td>\n",
       "      <td>12084.735440</td>\n",
       "      <td>8059.638535</td>\n",
       "      <td>18358.921741</td>\n",
       "      <td>298771.019041</td>\n",
       "      <td>12139.815877</td>\n",
       "      <td>7003.136546</td>\n",
       "      <td>9772.190537</td>\n",
       "      <td>17403.789263</td>\n",
       "      <td>14488.251976</td>\n",
       "      <td>10582.058590</td>\n",
       "      <td>12237.951703</td>\n",
       "      <td>4062.499371</td>\n",
       "      <td>7420.534172</td>\n",
       "    </tr>\n",
       "  </tbody>\n",
       "</table>\n",
       "</div>"
      ],
      "text/plain": [
       "             fiberID      psfMag_u       psfMag_g       psfMag_r  \\\n",
       "count  199991.000000  1.999910e+05  199991.000000  199991.000000   \n",
       "mean      360.830152 -6.750146e+00      18.675373      18.401235   \n",
       "std       225.305890  1.187678e+04     155.423024     127.128078   \n",
       "min         1.000000 -5.310802e+06  -40022.466071  -27184.795793   \n",
       "25%       174.000000  1.965259e+01      18.701180      18.048572   \n",
       "50%       349.000000  2.087136e+01      19.904235      19.454492   \n",
       "75%       526.000000  2.216043e+01      21.150297      20.515936   \n",
       "max      1000.000000  1.877392e+04    3538.984910    3048.110913   \n",
       "\n",
       "            psfMag_i       psfMag_z    fiberMag_u     fiberMag_g  \\\n",
       "count  199991.000000  199991.000000  1.999910e+05  199991.000000   \n",
       "mean       18.043495      17.663526  1.084986e+01      19.072693   \n",
       "std       116.622194     123.735298  4.172116e+03     749.256162   \n",
       "min    -26566.310827  -24878.828280 -1.864766e+06 -215882.917191   \n",
       "25%        17.747663      17.425523  1.994040e+01      18.902851   \n",
       "50%        19.043895      18.611799  2.104910e+01      20.069038   \n",
       "75%        20.073528      19.883760  2.233754e+01      21.385830   \n",
       "max      4835.218639    9823.740407  4.870154e+03  248077.513380   \n",
       "\n",
       "          fiberMag_r     fiberMag_i     fiberMag_z     petroMag_u  \\\n",
       "count  199991.000000  199991.000000  199991.000000  199991.000000   \n",
       "mean       19.134483      18.183331      18.000882      21.837903   \n",
       "std        90.049058     122.378972     145.862346     789.472333   \n",
       "min    -21802.656144  -20208.516262  -26505.602101  -24463.431833   \n",
       "25%        18.259352      17.903615      17.606148      19.247795   \n",
       "50%        19.631419      19.188763      18.710967      20.366848   \n",
       "75%        20.773911      20.331419      20.133179      21.797480   \n",
       "max     12084.735440    8059.638535   18358.921741  298771.019041   \n",
       "\n",
       "          petroMag_g     petroMag_r     petroMag_i     petroMag_z  \\\n",
       "count  199991.000000  199991.000000  199991.000000  199991.000000   \n",
       "mean       18.454136      18.481525      17.686617      17.699207   \n",
       "std       154.376277      97.240448     145.730872     142.691880   \n",
       "min    -25958.752324  -23948.588523  -40438.184078  -30070.729379   \n",
       "25%        18.113933      17.479794      17.050294      16.804705   \n",
       "50%        19.586559      19.182789      18.693370      18.174592   \n",
       "75%        21.004397      20.457491      20.019112      19.807652   \n",
       "max     12139.815877    7003.136546    9772.190537   17403.789263   \n",
       "\n",
       "          modelMag_u     modelMag_g     modelMag_r     modelMag_i  \\\n",
       "count  199991.000000  199991.000000  199991.000000  199991.000000   \n",
       "mean       20.110991      18.544375      18.181544      17.692395   \n",
       "std       122.299062     161.728183     133.984475     131.183416   \n",
       "min    -26236.578659  -36902.402336  -36439.638493  -38969.416822   \n",
       "25%        19.266214      18.076120      17.423425      16.977671   \n",
       "50%        20.406840      19.547674      19.143156      18.641756   \n",
       "75%        21.992898      20.962386      20.408140      19.968846   \n",
       "max     14488.251976   10582.058590   12237.951703    4062.499371   \n",
       "\n",
       "          modelMag_z  \n",
       "count  199991.000000  \n",
       "mean       17.189281  \n",
       "std       133.685138  \n",
       "min    -26050.710196  \n",
       "25%        16.705774  \n",
       "50%        18.100997  \n",
       "75%        19.819554  \n",
       "max      7420.534172  "
      ]
     },
     "execution_count": 3,
     "metadata": {},
     "output_type": "execute_result"
    }
   ],
   "source": [
    "train_df.describe()"
   ]
  },
  {
   "cell_type": "code",
   "execution_count": null,
   "metadata": {},
   "outputs": [],
   "source": [
    "train_cols = list(train_df.columns)\n",
    "test_cols = list(test_df.columns)\n",
    "train_cols.remove('fiberID')\n",
    "test_cols.remove('fiberID')"
   ]
  },
  {
   "cell_type": "code",
   "execution_count": 4,
   "metadata": {
    "ExecuteTime": {
     "end_time": "2020-02-15T12:21:01.899000Z",
     "start_time": "2020-02-15T12:21:01.599000Z"
    }
   },
   "outputs": [
    {
     "data": {
      "text/html": [
       "<div>\n",
       "<style scoped>\n",
       "    .dataframe tbody tr th:only-of-type {\n",
       "        vertical-align: middle;\n",
       "    }\n",
       "\n",
       "    .dataframe tbody tr th {\n",
       "        vertical-align: top;\n",
       "    }\n",
       "\n",
       "    .dataframe thead th {\n",
       "        text-align: right;\n",
       "    }\n",
       "</style>\n",
       "<table border=\"1\" class=\"dataframe\">\n",
       "  <thead>\n",
       "    <tr style=\"text-align: right;\">\n",
       "      <th></th>\n",
       "      <th>fiberID</th>\n",
       "      <th>psfMag_u</th>\n",
       "      <th>psfMag_g</th>\n",
       "      <th>psfMag_r</th>\n",
       "      <th>psfMag_i</th>\n",
       "      <th>psfMag_z</th>\n",
       "      <th>fiberMag_u</th>\n",
       "      <th>fiberMag_g</th>\n",
       "      <th>fiberMag_r</th>\n",
       "      <th>fiberMag_i</th>\n",
       "      <th>fiberMag_z</th>\n",
       "      <th>petroMag_u</th>\n",
       "      <th>petroMag_g</th>\n",
       "      <th>petroMag_r</th>\n",
       "      <th>petroMag_i</th>\n",
       "      <th>petroMag_z</th>\n",
       "      <th>modelMag_u</th>\n",
       "      <th>modelMag_g</th>\n",
       "      <th>modelMag_r</th>\n",
       "      <th>modelMag_i</th>\n",
       "      <th>modelMag_z</th>\n",
       "    </tr>\n",
       "  </thead>\n",
       "  <tbody>\n",
       "    <tr>\n",
       "      <td>count</td>\n",
       "      <td>199697.000000</td>\n",
       "      <td>199697.000000</td>\n",
       "      <td>199697.000000</td>\n",
       "      <td>199697.000000</td>\n",
       "      <td>199697.000000</td>\n",
       "      <td>199697.000000</td>\n",
       "      <td>199697.000000</td>\n",
       "      <td>199697.000000</td>\n",
       "      <td>199697.000000</td>\n",
       "      <td>199697.000000</td>\n",
       "      <td>199697.000000</td>\n",
       "      <td>199697.000000</td>\n",
       "      <td>199697.000000</td>\n",
       "      <td>199697.000000</td>\n",
       "      <td>199697.000000</td>\n",
       "      <td>199697.000000</td>\n",
       "      <td>199697.000000</td>\n",
       "      <td>199697.000000</td>\n",
       "      <td>199697.000000</td>\n",
       "      <td>199697.000000</td>\n",
       "      <td>199697.000000</td>\n",
       "    </tr>\n",
       "    <tr>\n",
       "      <td>mean</td>\n",
       "      <td>360.874350</td>\n",
       "      <td>20.983094</td>\n",
       "      <td>19.860055</td>\n",
       "      <td>19.287135</td>\n",
       "      <td>18.871784</td>\n",
       "      <td>18.611798</td>\n",
       "      <td>21.171765</td>\n",
       "      <td>20.089979</td>\n",
       "      <td>19.505460</td>\n",
       "      <td>19.087575</td>\n",
       "      <td>18.828454</td>\n",
       "      <td>20.715385</td>\n",
       "      <td>19.601733</td>\n",
       "      <td>19.009403</td>\n",
       "      <td>18.607002</td>\n",
       "      <td>18.393912</td>\n",
       "      <td>20.729677</td>\n",
       "      <td>19.529822</td>\n",
       "      <td>18.939292</td>\n",
       "      <td>18.520247</td>\n",
       "      <td>18.275956</td>\n",
       "    </tr>\n",
       "    <tr>\n",
       "      <td>std</td>\n",
       "      <td>225.338389</td>\n",
       "      <td>2.076050</td>\n",
       "      <td>1.858809</td>\n",
       "      <td>1.708900</td>\n",
       "      <td>1.624607</td>\n",
       "      <td>1.679593</td>\n",
       "      <td>1.968099</td>\n",
       "      <td>1.839076</td>\n",
       "      <td>1.704002</td>\n",
       "      <td>1.626124</td>\n",
       "      <td>1.675707</td>\n",
       "      <td>2.383398</td>\n",
       "      <td>2.060176</td>\n",
       "      <td>1.927077</td>\n",
       "      <td>1.882266</td>\n",
       "      <td>2.010126</td>\n",
       "      <td>2.185102</td>\n",
       "      <td>1.957901</td>\n",
       "      <td>1.859077</td>\n",
       "      <td>1.795770</td>\n",
       "      <td>1.863383</td>\n",
       "    </tr>\n",
       "    <tr>\n",
       "      <td>min</td>\n",
       "      <td>1.000000</td>\n",
       "      <td>3.419618</td>\n",
       "      <td>2.741681</td>\n",
       "      <td>11.017885</td>\n",
       "      <td>5.917322</td>\n",
       "      <td>1.762241</td>\n",
       "      <td>4.357522</td>\n",
       "      <td>7.251943</td>\n",
       "      <td>11.795394</td>\n",
       "      <td>10.646672</td>\n",
       "      <td>8.049850</td>\n",
       "      <td>0.333675</td>\n",
       "      <td>0.615563</td>\n",
       "      <td>0.028206</td>\n",
       "      <td>0.189286</td>\n",
       "      <td>0.643462</td>\n",
       "      <td>3.444448</td>\n",
       "      <td>12.498143</td>\n",
       "      <td>11.802798</td>\n",
       "      <td>11.337467</td>\n",
       "      <td>10.977328</td>\n",
       "    </tr>\n",
       "    <tr>\n",
       "      <td>25%</td>\n",
       "      <td>174.000000</td>\n",
       "      <td>19.652593</td>\n",
       "      <td>18.701216</td>\n",
       "      <td>18.048595</td>\n",
       "      <td>17.747433</td>\n",
       "      <td>17.425547</td>\n",
       "      <td>19.941515</td>\n",
       "      <td>18.903740</td>\n",
       "      <td>18.259925</td>\n",
       "      <td>17.904882</td>\n",
       "      <td>17.607045</td>\n",
       "      <td>19.249224</td>\n",
       "      <td>18.114737</td>\n",
       "      <td>17.480845</td>\n",
       "      <td>17.051621</td>\n",
       "      <td>16.805642</td>\n",
       "      <td>19.265565</td>\n",
       "      <td>18.075524</td>\n",
       "      <td>17.423104</td>\n",
       "      <td>16.977679</td>\n",
       "      <td>16.705228</td>\n",
       "    </tr>\n",
       "    <tr>\n",
       "      <td>50%</td>\n",
       "      <td>349.000000</td>\n",
       "      <td>20.870010</td>\n",
       "      <td>19.903478</td>\n",
       "      <td>19.454000</td>\n",
       "      <td>19.043298</td>\n",
       "      <td>18.610658</td>\n",
       "      <td>21.048838</td>\n",
       "      <td>20.069213</td>\n",
       "      <td>19.632532</td>\n",
       "      <td>19.189974</td>\n",
       "      <td>18.711668</td>\n",
       "      <td>20.366856</td>\n",
       "      <td>19.585937</td>\n",
       "      <td>19.183328</td>\n",
       "      <td>18.694502</td>\n",
       "      <td>18.173647</td>\n",
       "      <td>20.404863</td>\n",
       "      <td>19.546293</td>\n",
       "      <td>19.142662</td>\n",
       "      <td>18.641781</td>\n",
       "      <td>18.099978</td>\n",
       "    </tr>\n",
       "    <tr>\n",
       "      <td>75%</td>\n",
       "      <td>526.000000</td>\n",
       "      <td>22.157429</td>\n",
       "      <td>21.148013</td>\n",
       "      <td>20.514530</td>\n",
       "      <td>20.072756</td>\n",
       "      <td>19.882833</td>\n",
       "      <td>22.336558</td>\n",
       "      <td>21.384892</td>\n",
       "      <td>20.773994</td>\n",
       "      <td>20.332066</td>\n",
       "      <td>20.133477</td>\n",
       "      <td>21.795189</td>\n",
       "      <td>21.002340</td>\n",
       "      <td>20.456388</td>\n",
       "      <td>20.018662</td>\n",
       "      <td>19.806619</td>\n",
       "      <td>21.988473</td>\n",
       "      <td>20.960192</td>\n",
       "      <td>20.407073</td>\n",
       "      <td>19.968310</td>\n",
       "      <td>19.818966</td>\n",
       "    </tr>\n",
       "    <tr>\n",
       "      <td>max</td>\n",
       "      <td>1000.000000</td>\n",
       "      <td>53.410871</td>\n",
       "      <td>42.148184</td>\n",
       "      <td>54.501228</td>\n",
       "      <td>44.939457</td>\n",
       "      <td>40.757824</td>\n",
       "      <td>54.055822</td>\n",
       "      <td>37.745406</td>\n",
       "      <td>31.928244</td>\n",
       "      <td>42.002047</td>\n",
       "      <td>33.603395</td>\n",
       "      <td>58.298437</td>\n",
       "      <td>54.192909</td>\n",
       "      <td>55.633809</td>\n",
       "      <td>59.835880</td>\n",
       "      <td>57.578250</td>\n",
       "      <td>49.487277</td>\n",
       "      <td>59.987842</td>\n",
       "      <td>33.666494</td>\n",
       "      <td>45.783550</td>\n",
       "      <td>48.276514</td>\n",
       "    </tr>\n",
       "  </tbody>\n",
       "</table>\n",
       "</div>"
      ],
      "text/plain": [
       "             fiberID       psfMag_u       psfMag_g       psfMag_r  \\\n",
       "count  199697.000000  199697.000000  199697.000000  199697.000000   \n",
       "mean      360.874350      20.983094      19.860055      19.287135   \n",
       "std       225.338389       2.076050       1.858809       1.708900   \n",
       "min         1.000000       3.419618       2.741681      11.017885   \n",
       "25%       174.000000      19.652593      18.701216      18.048595   \n",
       "50%       349.000000      20.870010      19.903478      19.454000   \n",
       "75%       526.000000      22.157429      21.148013      20.514530   \n",
       "max      1000.000000      53.410871      42.148184      54.501228   \n",
       "\n",
       "            psfMag_i       psfMag_z     fiberMag_u     fiberMag_g  \\\n",
       "count  199697.000000  199697.000000  199697.000000  199697.000000   \n",
       "mean       18.871784      18.611798      21.171765      20.089979   \n",
       "std         1.624607       1.679593       1.968099       1.839076   \n",
       "min         5.917322       1.762241       4.357522       7.251943   \n",
       "25%        17.747433      17.425547      19.941515      18.903740   \n",
       "50%        19.043298      18.610658      21.048838      20.069213   \n",
       "75%        20.072756      19.882833      22.336558      21.384892   \n",
       "max        44.939457      40.757824      54.055822      37.745406   \n",
       "\n",
       "          fiberMag_r     fiberMag_i     fiberMag_z     petroMag_u  \\\n",
       "count  199697.000000  199697.000000  199697.000000  199697.000000   \n",
       "mean       19.505460      19.087575      18.828454      20.715385   \n",
       "std         1.704002       1.626124       1.675707       2.383398   \n",
       "min        11.795394      10.646672       8.049850       0.333675   \n",
       "25%        18.259925      17.904882      17.607045      19.249224   \n",
       "50%        19.632532      19.189974      18.711668      20.366856   \n",
       "75%        20.773994      20.332066      20.133477      21.795189   \n",
       "max        31.928244      42.002047      33.603395      58.298437   \n",
       "\n",
       "          petroMag_g     petroMag_r     petroMag_i     petroMag_z  \\\n",
       "count  199697.000000  199697.000000  199697.000000  199697.000000   \n",
       "mean       19.601733      19.009403      18.607002      18.393912   \n",
       "std         2.060176       1.927077       1.882266       2.010126   \n",
       "min         0.615563       0.028206       0.189286       0.643462   \n",
       "25%        18.114737      17.480845      17.051621      16.805642   \n",
       "50%        19.585937      19.183328      18.694502      18.173647   \n",
       "75%        21.002340      20.456388      20.018662      19.806619   \n",
       "max        54.192909      55.633809      59.835880      57.578250   \n",
       "\n",
       "          modelMag_u     modelMag_g     modelMag_r     modelMag_i  \\\n",
       "count  199697.000000  199697.000000  199697.000000  199697.000000   \n",
       "mean       20.729677      19.529822      18.939292      18.520247   \n",
       "std         2.185102       1.957901       1.859077       1.795770   \n",
       "min         3.444448      12.498143      11.802798      11.337467   \n",
       "25%        19.265565      18.075524      17.423104      16.977679   \n",
       "50%        20.404863      19.546293      19.142662      18.641781   \n",
       "75%        21.988473      20.960192      20.407073      19.968310   \n",
       "max        49.487277      59.987842      33.666494      45.783550   \n",
       "\n",
       "          modelMag_z  \n",
       "count  199697.000000  \n",
       "mean       18.275956  \n",
       "std         1.863383  \n",
       "min        10.977328  \n",
       "25%        16.705228  \n",
       "50%        18.099978  \n",
       "75%        19.818966  \n",
       "max        48.276514  "
      ]
     },
     "execution_count": 4,
     "metadata": {},
     "output_type": "execute_result"
    }
   ],
   "source": [
    "up_idx_t=()\n",
    "dw_idx_t=()\n",
    "train_light = train_df.iloc[:,1:]\n",
    "for i in range(len(train_light.columns)):\n",
    "    col = train_light.columns[i]\n",
    "    up_idx_t+=tuple(train_df[train_df[col]>60].index)\n",
    "    dw_idx_t+=tuple(train_df[train_df[col]<0].index)\n",
    "del_idx = set(up_idx_t+dw_idx_t)\n",
    "train_df[~train_df.index.isin(del_idx)].describe()"
   ]
  },
  {
   "cell_type": "code",
   "execution_count": 5,
   "metadata": {
    "ExecuteTime": {
     "end_time": "2020-02-15T12:21:01.979000Z",
     "start_time": "2020-02-15T12:21:01.951000Z"
    }
   },
   "outputs": [],
   "source": [
    "train_df = train_df[~train_df.index.isin(del_idx)]"
   ]
  },
  {
   "cell_type": "code",
   "execution_count": 6,
   "metadata": {
    "ExecuteTime": {
     "end_time": "2020-02-15T12:21:02.032000Z",
     "start_time": "2020-02-15T12:21:02.028000Z"
    }
   },
   "outputs": [
    {
     "data": {
      "text/plain": [
       "Index(['type', 'fiberID', 'psfMag_u', 'psfMag_g', 'psfMag_r', 'psfMag_i',\n",
       "       'psfMag_z', 'fiberMag_u', 'fiberMag_g', 'fiberMag_r', 'fiberMag_i',\n",
       "       'fiberMag_z', 'petroMag_u', 'petroMag_g', 'petroMag_r', 'petroMag_i',\n",
       "       'petroMag_z', 'modelMag_u', 'modelMag_g', 'modelMag_r', 'modelMag_i',\n",
       "       'modelMag_z'],\n",
       "      dtype='object')"
      ]
     },
     "execution_count": 6,
     "metadata": {},
     "output_type": "execute_result"
    }
   ],
   "source": [
    "train_df.columns"
   ]
  },
  {
   "cell_type": "markdown",
   "metadata": {},
   "source": [
    "## DATA Setting"
   ]
  },
  {
   "cell_type": "code",
   "execution_count": 7,
   "metadata": {
    "ExecuteTime": {
     "end_time": "2020-02-15T12:21:17.070000Z",
     "start_time": "2020-02-15T12:21:16.988000Z"
    }
   },
   "outputs": [],
   "source": [
    "column_number = {}\n",
    "number_columns = {}\n",
    "for i, column in enumerate(sample_submission_df.columns):\n",
    "    column_number[column] = i\n",
    "    number_columns[i] = column\n",
    "    \n",
    "    \n",
    "def to_number(x, dic):\n",
    "    return dic[x]\n",
    "\n",
    "train_df['type_num'] = train_df['type'].apply(lambda x: to_number(x, column_number))\n"
   ]
  },
  {
   "cell_type": "code",
   "execution_count": 8,
   "metadata": {
    "ExecuteTime": {
     "end_time": "2020-02-15T12:21:17.146000Z",
     "start_time": "2020-02-15T12:21:17.140000Z"
    }
   },
   "outputs": [],
   "source": [
    "def add_minus_feature(data,test = False):\n",
    "    from itertools import combinations\n",
    "    n = 0\n",
    "    for count in range(5,21,5):\n",
    "        s = 2\n",
    "        if test == True :\n",
    "            s = 1\n",
    "        selected = data.columns[s:].values[n:count]\n",
    "        mag = str.split(selected[0],'_')[0]\n",
    "        for combi in list(combinations(selected,2)):\n",
    "            name_1st = str.split(combi[0],'_')[1]\n",
    "            name_2nd = str.split(combi[1],'_')[1]\n",
    "            data[mag+\"_\"+name_1st+\"-\"+name_2nd] = data[combi[0]]-data[combi[1]]\n",
    "        n=count\n",
    "    return data"
   ]
  },
  {
   "cell_type": "code",
   "execution_count": 9,
   "metadata": {
    "ExecuteTime": {
     "end_time": "2020-02-15T12:21:17.567000Z",
     "start_time": "2020-02-15T12:21:17.324000Z"
    }
   },
   "outputs": [],
   "source": [
    "train_df = add_minus_feature(train_df)\n",
    "test_df = add_minus_feature(test_df,True)"
   ]
  },
  {
   "cell_type": "code",
   "execution_count": 10,
   "metadata": {
    "ExecuteTime": {
     "end_time": "2020-02-15T12:21:18.064000Z",
     "start_time": "2020-02-15T12:21:17.925000Z"
    }
   },
   "outputs": [],
   "source": [
    "train_X = train_df.drop(columns=['type', 'type_num'], axis=1)\n",
    "train_y = train_df['type_num']\n",
    "test_X = test_df"
   ]
  },
  {
   "cell_type": "code",
   "execution_count": 11,
   "metadata": {
    "ExecuteTime": {
     "end_time": "2020-02-15T12:21:19.471000Z",
     "start_time": "2020-02-15T12:21:19.443000Z"
    },
    "scrolled": true
   },
   "outputs": [
    {
     "data": {
      "text/html": [
       "<div>\n",
       "<style scoped>\n",
       "    .dataframe tbody tr th:only-of-type {\n",
       "        vertical-align: middle;\n",
       "    }\n",
       "\n",
       "    .dataframe tbody tr th {\n",
       "        vertical-align: top;\n",
       "    }\n",
       "\n",
       "    .dataframe thead th {\n",
       "        text-align: right;\n",
       "    }\n",
       "</style>\n",
       "<table border=\"1\" class=\"dataframe\">\n",
       "  <thead>\n",
       "    <tr style=\"text-align: right;\">\n",
       "      <th></th>\n",
       "      <th>fiberID</th>\n",
       "      <th>psfMag_u</th>\n",
       "      <th>psfMag_g</th>\n",
       "      <th>psfMag_r</th>\n",
       "      <th>psfMag_i</th>\n",
       "      <th>psfMag_z</th>\n",
       "      <th>fiberMag_u</th>\n",
       "      <th>fiberMag_g</th>\n",
       "      <th>fiberMag_r</th>\n",
       "      <th>fiberMag_i</th>\n",
       "      <th>fiberMag_z</th>\n",
       "      <th>petroMag_u</th>\n",
       "      <th>petroMag_g</th>\n",
       "      <th>petroMag_r</th>\n",
       "      <th>petroMag_i</th>\n",
       "      <th>...</th>\n",
       "      <th>petroMag_g-i</th>\n",
       "      <th>petroMag_g-z</th>\n",
       "      <th>petroMag_r-i</th>\n",
       "      <th>petroMag_r-z</th>\n",
       "      <th>petroMag_i-z</th>\n",
       "      <th>modelMag_u-g</th>\n",
       "      <th>modelMag_u-r</th>\n",
       "      <th>modelMag_u-i</th>\n",
       "      <th>modelMag_u-z</th>\n",
       "      <th>modelMag_g-r</th>\n",
       "      <th>modelMag_g-i</th>\n",
       "      <th>modelMag_g-z</th>\n",
       "      <th>modelMag_r-i</th>\n",
       "      <th>modelMag_r-z</th>\n",
       "      <th>modelMag_i-z</th>\n",
       "    </tr>\n",
       "    <tr>\n",
       "      <th>id</th>\n",
       "      <th></th>\n",
       "      <th></th>\n",
       "      <th></th>\n",
       "      <th></th>\n",
       "      <th></th>\n",
       "      <th></th>\n",
       "      <th></th>\n",
       "      <th></th>\n",
       "      <th></th>\n",
       "      <th></th>\n",
       "      <th></th>\n",
       "      <th></th>\n",
       "      <th></th>\n",
       "      <th></th>\n",
       "      <th></th>\n",
       "      <th></th>\n",
       "      <th></th>\n",
       "      <th></th>\n",
       "      <th></th>\n",
       "      <th></th>\n",
       "      <th></th>\n",
       "      <th></th>\n",
       "      <th></th>\n",
       "      <th></th>\n",
       "      <th></th>\n",
       "      <th></th>\n",
       "      <th></th>\n",
       "      <th></th>\n",
       "      <th></th>\n",
       "      <th></th>\n",
       "      <th></th>\n",
       "    </tr>\n",
       "  </thead>\n",
       "  <tbody>\n",
       "    <tr>\n",
       "      <td>0</td>\n",
       "      <td>601</td>\n",
       "      <td>23.198224</td>\n",
       "      <td>21.431953</td>\n",
       "      <td>21.314148</td>\n",
       "      <td>21.176553</td>\n",
       "      <td>21.171444</td>\n",
       "      <td>22.581309</td>\n",
       "      <td>21.644453</td>\n",
       "      <td>21.657571</td>\n",
       "      <td>21.387653</td>\n",
       "      <td>21.572827</td>\n",
       "      <td>22.504317</td>\n",
       "      <td>21.431636</td>\n",
       "      <td>21.478312</td>\n",
       "      <td>21.145409</td>\n",
       "      <td>...</td>\n",
       "      <td>0.286226</td>\n",
       "      <td>1.009190</td>\n",
       "      <td>0.332902</td>\n",
       "      <td>1.055866</td>\n",
       "      <td>0.722964</td>\n",
       "      <td>1.283708</td>\n",
       "      <td>1.385054</td>\n",
       "      <td>1.728637</td>\n",
       "      <td>1.601901</td>\n",
       "      <td>0.101347</td>\n",
       "      <td>0.444929</td>\n",
       "      <td>0.318194</td>\n",
       "      <td>0.343582</td>\n",
       "      <td>0.216847</td>\n",
       "      <td>-0.126735</td>\n",
       "    </tr>\n",
       "    <tr>\n",
       "      <td>1</td>\n",
       "      <td>788</td>\n",
       "      <td>21.431355</td>\n",
       "      <td>20.708104</td>\n",
       "      <td>20.678850</td>\n",
       "      <td>20.703420</td>\n",
       "      <td>20.473229</td>\n",
       "      <td>21.868797</td>\n",
       "      <td>21.029773</td>\n",
       "      <td>20.967054</td>\n",
       "      <td>20.937731</td>\n",
       "      <td>21.063646</td>\n",
       "      <td>21.360701</td>\n",
       "      <td>20.778968</td>\n",
       "      <td>20.889705</td>\n",
       "      <td>20.639812</td>\n",
       "      <td>...</td>\n",
       "      <td>0.139156</td>\n",
       "      <td>0.132308</td>\n",
       "      <td>0.249893</td>\n",
       "      <td>0.243045</td>\n",
       "      <td>-0.006847</td>\n",
       "      <td>0.734428</td>\n",
       "      <td>0.739030</td>\n",
       "      <td>0.799566</td>\n",
       "      <td>0.980641</td>\n",
       "      <td>0.004602</td>\n",
       "      <td>0.065138</td>\n",
       "      <td>0.246213</td>\n",
       "      <td>0.060537</td>\n",
       "      <td>0.241611</td>\n",
       "      <td>0.181074</td>\n",
       "    </tr>\n",
       "    <tr>\n",
       "      <td>2</td>\n",
       "      <td>427</td>\n",
       "      <td>17.851451</td>\n",
       "      <td>16.727898</td>\n",
       "      <td>16.679677</td>\n",
       "      <td>16.694640</td>\n",
       "      <td>16.641788</td>\n",
       "      <td>18.171890</td>\n",
       "      <td>17.033098</td>\n",
       "      <td>16.999682</td>\n",
       "      <td>17.095999</td>\n",
       "      <td>17.076449</td>\n",
       "      <td>17.867253</td>\n",
       "      <td>16.738784</td>\n",
       "      <td>16.688874</td>\n",
       "      <td>16.744210</td>\n",
       "      <td>...</td>\n",
       "      <td>-0.005426</td>\n",
       "      <td>-0.069222</td>\n",
       "      <td>-0.055336</td>\n",
       "      <td>-0.119132</td>\n",
       "      <td>-0.063796</td>\n",
       "      <td>1.120628</td>\n",
       "      <td>1.176814</td>\n",
       "      <td>1.157885</td>\n",
       "      <td>1.129134</td>\n",
       "      <td>0.056186</td>\n",
       "      <td>0.037257</td>\n",
       "      <td>0.008506</td>\n",
       "      <td>-0.018929</td>\n",
       "      <td>-0.047680</td>\n",
       "      <td>-0.028751</td>\n",
       "    </tr>\n",
       "    <tr>\n",
       "      <td>3</td>\n",
       "      <td>864</td>\n",
       "      <td>20.789900</td>\n",
       "      <td>20.040371</td>\n",
       "      <td>19.926909</td>\n",
       "      <td>19.843840</td>\n",
       "      <td>19.463270</td>\n",
       "      <td>21.039030</td>\n",
       "      <td>20.317165</td>\n",
       "      <td>20.217898</td>\n",
       "      <td>20.073852</td>\n",
       "      <td>19.794505</td>\n",
       "      <td>20.433907</td>\n",
       "      <td>19.993727</td>\n",
       "      <td>19.985531</td>\n",
       "      <td>19.750917</td>\n",
       "      <td>...</td>\n",
       "      <td>0.242810</td>\n",
       "      <td>0.538610</td>\n",
       "      <td>0.234614</td>\n",
       "      <td>0.530413</td>\n",
       "      <td>0.295800</td>\n",
       "      <td>0.769012</td>\n",
       "      <td>0.880913</td>\n",
       "      <td>1.012598</td>\n",
       "      <td>1.217856</td>\n",
       "      <td>0.111901</td>\n",
       "      <td>0.243586</td>\n",
       "      <td>0.448844</td>\n",
       "      <td>0.131685</td>\n",
       "      <td>0.336943</td>\n",
       "      <td>0.205258</td>\n",
       "    </tr>\n",
       "    <tr>\n",
       "      <td>4</td>\n",
       "      <td>612</td>\n",
       "      <td>26.454969</td>\n",
       "      <td>23.058767</td>\n",
       "      <td>21.471406</td>\n",
       "      <td>19.504961</td>\n",
       "      <td>18.389096</td>\n",
       "      <td>25.700632</td>\n",
       "      <td>23.629122</td>\n",
       "      <td>21.742750</td>\n",
       "      <td>19.861718</td>\n",
       "      <td>18.810375</td>\n",
       "      <td>25.859229</td>\n",
       "      <td>22.426929</td>\n",
       "      <td>21.673551</td>\n",
       "      <td>19.610012</td>\n",
       "      <td>...</td>\n",
       "      <td>2.816917</td>\n",
       "      <td>4.050788</td>\n",
       "      <td>2.063539</td>\n",
       "      <td>3.297411</td>\n",
       "      <td>1.233871</td>\n",
       "      <td>1.729059</td>\n",
       "      <td>3.401710</td>\n",
       "      <td>5.389723</td>\n",
       "      <td>6.501398</td>\n",
       "      <td>1.672651</td>\n",
       "      <td>3.660663</td>\n",
       "      <td>4.772338</td>\n",
       "      <td>1.988012</td>\n",
       "      <td>3.099688</td>\n",
       "      <td>1.111675</td>\n",
       "    </tr>\n",
       "  </tbody>\n",
       "</table>\n",
       "<p>5 rows × 61 columns</p>\n",
       "</div>"
      ],
      "text/plain": [
       "    fiberID   psfMag_u   psfMag_g   psfMag_r   psfMag_i   psfMag_z  \\\n",
       "id                                                                   \n",
       "0       601  23.198224  21.431953  21.314148  21.176553  21.171444   \n",
       "1       788  21.431355  20.708104  20.678850  20.703420  20.473229   \n",
       "2       427  17.851451  16.727898  16.679677  16.694640  16.641788   \n",
       "3       864  20.789900  20.040371  19.926909  19.843840  19.463270   \n",
       "4       612  26.454969  23.058767  21.471406  19.504961  18.389096   \n",
       "\n",
       "    fiberMag_u  fiberMag_g  fiberMag_r  fiberMag_i  fiberMag_z  petroMag_u  \\\n",
       "id                                                                           \n",
       "0    22.581309   21.644453   21.657571   21.387653   21.572827   22.504317   \n",
       "1    21.868797   21.029773   20.967054   20.937731   21.063646   21.360701   \n",
       "2    18.171890   17.033098   16.999682   17.095999   17.076449   17.867253   \n",
       "3    21.039030   20.317165   20.217898   20.073852   19.794505   20.433907   \n",
       "4    25.700632   23.629122   21.742750   19.861718   18.810375   25.859229   \n",
       "\n",
       "    petroMag_g  petroMag_r  petroMag_i  ...  petroMag_g-i  petroMag_g-z  \\\n",
       "id                                      ...                               \n",
       "0    21.431636   21.478312   21.145409  ...      0.286226      1.009190   \n",
       "1    20.778968   20.889705   20.639812  ...      0.139156      0.132308   \n",
       "2    16.738784   16.688874   16.744210  ...     -0.005426     -0.069222   \n",
       "3    19.993727   19.985531   19.750917  ...      0.242810      0.538610   \n",
       "4    22.426929   21.673551   19.610012  ...      2.816917      4.050788   \n",
       "\n",
       "    petroMag_r-i  petroMag_r-z  petroMag_i-z  modelMag_u-g  modelMag_u-r  \\\n",
       "id                                                                         \n",
       "0       0.332902      1.055866      0.722964      1.283708      1.385054   \n",
       "1       0.249893      0.243045     -0.006847      0.734428      0.739030   \n",
       "2      -0.055336     -0.119132     -0.063796      1.120628      1.176814   \n",
       "3       0.234614      0.530413      0.295800      0.769012      0.880913   \n",
       "4       2.063539      3.297411      1.233871      1.729059      3.401710   \n",
       "\n",
       "    modelMag_u-i  modelMag_u-z  modelMag_g-r  modelMag_g-i  modelMag_g-z  \\\n",
       "id                                                                         \n",
       "0       1.728637      1.601901      0.101347      0.444929      0.318194   \n",
       "1       0.799566      0.980641      0.004602      0.065138      0.246213   \n",
       "2       1.157885      1.129134      0.056186      0.037257      0.008506   \n",
       "3       1.012598      1.217856      0.111901      0.243586      0.448844   \n",
       "4       5.389723      6.501398      1.672651      3.660663      4.772338   \n",
       "\n",
       "    modelMag_r-i  modelMag_r-z  modelMag_i-z  \n",
       "id                                            \n",
       "0       0.343582      0.216847     -0.126735  \n",
       "1       0.060537      0.241611      0.181074  \n",
       "2      -0.018929     -0.047680     -0.028751  \n",
       "3       0.131685      0.336943      0.205258  \n",
       "4       1.988012      3.099688      1.111675  \n",
       "\n",
       "[5 rows x 61 columns]"
      ]
     },
     "execution_count": 11,
     "metadata": {},
     "output_type": "execute_result"
    }
   ],
   "source": [
    "train_X.head()"
   ]
  },
  {
   "cell_type": "code",
   "execution_count": 29,
   "metadata": {
    "ExecuteTime": {
     "end_time": "2020-02-15T09:50:32.111000Z",
     "start_time": "2020-02-15T09:50:32.103000Z"
    },
    "scrolled": true
   },
   "outputs": [
    {
     "data": {
      "text/plain": [
       "Index(['fiberID', 'psfMag_u', 'psfMag_g', 'psfMag_r', 'psfMag_i', 'psfMag_z',\n",
       "       'fiberMag_u', 'fiberMag_g', 'fiberMag_r', 'fiberMag_i', 'fiberMag_z',\n",
       "       'petroMag_u', 'petroMag_g', 'petroMag_r', 'petroMag_i', 'petroMag_z',\n",
       "       'modelMag_u', 'modelMag_g', 'modelMag_r', 'modelMag_i', 'modelMag_z',\n",
       "       'psfMag_u-g', 'psfMag_u-r', 'psfMag_u-i', 'psfMag_u-z', 'psfMag_g-r',\n",
       "       'psfMag_g-i', 'psfMag_g-z', 'psfMag_r-i', 'psfMag_r-z', 'psfMag_i-z',\n",
       "       'fiberMag_u-g', 'fiberMag_u-r', 'fiberMag_u-i', 'fiberMag_u-z',\n",
       "       'fiberMag_g-r', 'fiberMag_g-i', 'fiberMag_g-z', 'fiberMag_r-i',\n",
       "       'fiberMag_r-z', 'fiberMag_i-z', 'petroMag_u-g', 'petroMag_u-r',\n",
       "       'petroMag_u-i', 'petroMag_u-z', 'petroMag_g-r', 'petroMag_g-i',\n",
       "       'petroMag_g-z', 'petroMag_r-i', 'petroMag_r-z', 'petroMag_i-z',\n",
       "       'modelMag_u-g', 'modelMag_u-r', 'modelMag_u-i', 'modelMag_u-z',\n",
       "       'modelMag_g-r', 'modelMag_g-i', 'modelMag_g-z', 'modelMag_r-i',\n",
       "       'modelMag_r-z', 'modelMag_i-z'],\n",
       "      dtype='object')"
      ]
     },
     "execution_count": 29,
     "metadata": {},
     "output_type": "execute_result"
    }
   ],
   "source": [
    "train_X.columns"
   ]
  },
  {
   "cell_type": "code",
   "execution_count": 30,
   "metadata": {
    "ExecuteTime": {
     "end_time": "2020-02-15T09:50:33.242000Z",
     "start_time": "2020-02-15T09:50:33.202000Z"
    }
   },
   "outputs": [],
   "source": [
    "## u-g, g-r, r-i, i-z 만 남기는게 좋지 않을까????\n",
    "train_X.drop(['psfMag_u-r','psfMag_u-i','psfMag_u-z','psfMag_g-i','psfMag_g-z','psfMag_r-z',\n",
    "             'fiberMag_u-r','fiberMag_u-i','fiberMag_u-z','fiberMag_g-i','fiberMag_g-z','fiberMag_r-z',\n",
    "             'petroMag_u-r','petroMag_u-i','petroMag_u-z','petroMag_g-i','petroMag_g-z','petroMag_r-z',\n",
    "             'modelMag_u-r','modelMag_u-i','modelMag_u-z','modelMag_g-i','modelMag_g-z','modelMag_r-z'] ,axis=1, inplace=True)\n",
    "\n",
    "test_X.drop(['psfMag_u-r','psfMag_u-i','psfMag_u-z','psfMag_g-i','psfMag_g-z','psfMag_r-z',\n",
    "             'fiberMag_u-r','fiberMag_u-i','fiberMag_u-z','fiberMag_g-i','fiberMag_g-z','fiberMag_r-z',\n",
    "             'petroMag_u-r','petroMag_u-i','petroMag_u-z','petroMag_g-i','petroMag_g-z','petroMag_r-z',\n",
    "             'modelMag_u-r','modelMag_u-i','modelMag_u-z','modelMag_g-i','modelMag_g-z','modelMag_r-z'] ,axis=1, inplace=True)"
   ]
  },
  {
   "cell_type": "code",
   "execution_count": 31,
   "metadata": {
    "ExecuteTime": {
     "end_time": "2020-02-15T09:50:34.517000Z",
     "start_time": "2020-02-15T09:50:34.345000Z"
    }
   },
   "outputs": [],
   "source": [
    "X_train, X_test, y_train, y_test = train_test_split(train_X, train_y, test_size=0.3, random_state=42,stratify = train_y)"
   ]
  },
  {
   "cell_type": "code",
   "execution_count": 32,
   "metadata": {
    "ExecuteTime": {
     "end_time": "2020-02-15T09:50:35.626000Z",
     "start_time": "2020-02-15T09:50:35.623000Z"
    }
   },
   "outputs": [],
   "source": [
    "train_ds = lgb.Dataset(X_train, label = y_train, categorical_feature=['fiberID'])\n",
    "test_ds = lgb.Dataset(X_test, label = y_test, categorical_feature=['fiberID']) "
   ]
  },
  {
   "cell_type": "code",
   "execution_count": 15,
   "metadata": {
    "ExecuteTime": {
     "end_time": "2020-02-15T08:00:53.807000Z",
     "start_time": "2020-02-15T08:00:53.767000Z"
    }
   },
   "outputs": [],
   "source": [
    "#1번\n",
    "params = {\n",
    "    'boosting_type': 'dart',\n",
    "    'objective': 'multiclass',\n",
    "    'num_class': train_y.nunique(),\n",
    "    'metric': {'multi_logloss','multi_logloss'},\n",
    "    'num_leaves': 25,\n",
    "    'learning_rate': 0.01,\n",
    "    'max_depth' : 12,\n",
    "    'random_state' : 80\n",
    "}"
   ]
  },
  {
   "cell_type": "code",
   "execution_count": 33,
   "metadata": {
    "ExecuteTime": {
     "end_time": "2020-02-15T09:50:36.813000Z",
     "start_time": "2020-02-15T09:50:36.803000Z"
    }
   },
   "outputs": [],
   "source": [
    "#2번\n",
    "params = {\n",
    "    'boosting_type': 'dart',\n",
    "    'objective': 'multiclass',\n",
    "    'num_class': train_y.nunique(),\n",
    "    'metric': {'multi_logloss','multi_logloss'},\n",
    "    'num_leaves': 25,\n",
    "    'learning_rate': 0.01,\n",
    "    'max_depth' : 9,\n",
    "    'random_state' : 1029\n",
    "}"
   ]
  },
  {
   "cell_type": "markdown",
   "metadata": {},
   "source": [
    "## Modeling"
   ]
  },
  {
   "cell_type": "code",
   "execution_count": 34,
   "metadata": {
    "ExecuteTime": {
     "end_time": "2020-02-15T11:39:47.846000Z",
     "start_time": "2020-02-15T09:50:49.696000Z"
    },
    "scrolled": false
   },
   "outputs": [
    {
     "name": "stderr",
     "output_type": "stream",
     "text": [
      "G:\\Anaconda3\\lib\\site-packages\\lightgbm\\basic.py:1291: UserWarning: Using categorical_feature in Dataset.\n",
      "  warnings.warn('Using categorical_feature in Dataset.')\n",
      "G:\\Anaconda3\\lib\\site-packages\\lightgbm\\callback.py:188: UserWarning: Early stopping is not available in dart mode\n",
      "  warnings.warn('Early stopping is not available in dart mode')\n"
     ]
    },
    {
     "name": "stdout",
     "output_type": "stream",
     "text": [
      "[100]\tTrain's multi_logloss: 1.56227\tTest's multi_logloss: 1.57445\n",
      "[200]\tTrain's multi_logloss: 1.38921\tTest's multi_logloss: 1.40325\n",
      "[300]\tTrain's multi_logloss: 1.35288\tTest's multi_logloss: 1.368\n",
      "[400]\tTrain's multi_logloss: 1.11477\tTest's multi_logloss: 1.13418\n",
      "[500]\tTrain's multi_logloss: 1.00219\tTest's multi_logloss: 1.02456\n",
      "[600]\tTrain's multi_logloss: 0.917712\tTest's multi_logloss: 0.943272\n",
      "[700]\tTrain's multi_logloss: 0.857374\tTest's multi_logloss: 0.886096\n",
      "[800]\tTrain's multi_logloss: 0.796715\tTest's multi_logloss: 0.828813\n",
      "[900]\tTrain's multi_logloss: 0.729645\tTest's multi_logloss: 0.765468\n",
      "[1000]\tTrain's multi_logloss: 0.65279\tTest's multi_logloss: 0.694298\n",
      "[1100]\tTrain's multi_logloss: 0.575718\tTest's multi_logloss: 0.623722\n",
      "[1200]\tTrain's multi_logloss: 0.547212\tTest's multi_logloss: 0.599332\n",
      "[1300]\tTrain's multi_logloss: 0.510096\tTest's multi_logloss: 0.567627\n",
      "[1400]\tTrain's multi_logloss: 0.475626\tTest's multi_logloss: 0.538672\n",
      "[1500]\tTrain's multi_logloss: 0.434064\tTest's multi_logloss: 0.504293\n",
      "[1600]\tTrain's multi_logloss: 0.404156\tTest's multi_logloss: 0.481272\n",
      "[1700]\tTrain's multi_logloss: 0.388066\tTest's multi_logloss: 0.470293\n",
      "[1800]\tTrain's multi_logloss: 0.372725\tTest's multi_logloss: 0.459997\n",
      "[1900]\tTrain's multi_logloss: 0.35251\tTest's multi_logloss: 0.4462\n",
      "[2000]\tTrain's multi_logloss: 0.333986\tTest's multi_logloss: 0.434123\n",
      "[2100]\tTrain's multi_logloss: 0.315579\tTest's multi_logloss: 0.423028\n",
      "[2200]\tTrain's multi_logloss: 0.298718\tTest's multi_logloss: 0.414491\n",
      "[2300]\tTrain's multi_logloss: 0.287569\tTest's multi_logloss: 0.409531\n",
      "[2400]\tTrain's multi_logloss: 0.280948\tTest's multi_logloss: 0.407383\n",
      "[2500]\tTrain's multi_logloss: 0.275169\tTest's multi_logloss: 0.405474\n",
      "[2600]\tTrain's multi_logloss: 0.264988\tTest's multi_logloss: 0.40149\n",
      "[2700]\tTrain's multi_logloss: 0.256909\tTest's multi_logloss: 0.39904\n",
      "[2800]\tTrain's multi_logloss: 0.250029\tTest's multi_logloss: 0.397219\n",
      "[2900]\tTrain's multi_logloss: 0.241988\tTest's multi_logloss: 0.39501\n",
      "[3000]\tTrain's multi_logloss: 0.235438\tTest's multi_logloss: 0.393691\n",
      "[3100]\tTrain's multi_logloss: 0.230584\tTest's multi_logloss: 0.393135\n",
      "[3200]\tTrain's multi_logloss: 0.225416\tTest's multi_logloss: 0.392507\n",
      "[3300]\tTrain's multi_logloss: 0.217728\tTest's multi_logloss: 0.39145\n",
      "[3400]\tTrain's multi_logloss: 0.213825\tTest's multi_logloss: 0.391454\n",
      "[3500]\tTrain's multi_logloss: 0.208905\tTest's multi_logloss: 0.391324\n",
      "[3600]\tTrain's multi_logloss: 0.204538\tTest's multi_logloss: 0.391182\n",
      "[3700]\tTrain's multi_logloss: 0.199927\tTest's multi_logloss: 0.391197\n",
      "[3800]\tTrain's multi_logloss: 0.195464\tTest's multi_logloss: 0.391293\n",
      "[3900]\tTrain's multi_logloss: 0.19161\tTest's multi_logloss: 0.391573\n",
      "[4000]\tTrain's multi_logloss: 0.187503\tTest's multi_logloss: 0.391835\n",
      "[4100]\tTrain's multi_logloss: 0.18491\tTest's multi_logloss: 0.392264\n",
      "[4200]\tTrain's multi_logloss: 0.181541\tTest's multi_logloss: 0.392613\n",
      "[4300]\tTrain's multi_logloss: 0.178089\tTest's multi_logloss: 0.393141\n",
      "[4400]\tTrain's multi_logloss: 0.173757\tTest's multi_logloss: 0.39377\n",
      "[4500]\tTrain's multi_logloss: 0.171134\tTest's multi_logloss: 0.394368\n",
      "[4600]\tTrain's multi_logloss: 0.168575\tTest's multi_logloss: 0.394964\n",
      "[4700]\tTrain's multi_logloss: 0.164722\tTest's multi_logloss: 0.395743\n",
      "[4800]\tTrain's multi_logloss: 0.162435\tTest's multi_logloss: 0.396364\n",
      "[4900]\tTrain's multi_logloss: 0.160826\tTest's multi_logloss: 0.396781\n",
      "[5000]\tTrain's multi_logloss: 0.157448\tTest's multi_logloss: 0.397701\n"
     ]
    }
   ],
   "source": [
    "evaluation_results = {}\n",
    "lgmb_model = lgb.train(params, train_ds,num_boost_round= 5000, \n",
    "                       valid_sets = [train_ds,test_ds], valid_names=['Train', 'Test'],\n",
    "                       evals_result=evaluation_results,\n",
    "                       verbose_eval=100, early_stopping_rounds=100)"
   ]
  },
  {
   "cell_type": "code",
   "execution_count": null,
   "metadata": {},
   "outputs": [],
   "source": []
  },
  {
   "cell_type": "code",
   "execution_count": 35,
   "metadata": {
    "ExecuteTime": {
     "end_time": "2020-02-15T11:39:49.183000Z",
     "start_time": "2020-02-15T11:39:48.846000Z"
    }
   },
   "outputs": [
    {
     "data": {
      "image/png": "[encoded data removed]",
      "text/plain": [
       "<Figure size 1080x288 with 2 Axes>"
      ]
     },
     "metadata": {
      "needs_background": "light"
     },
     "output_type": "display_data"
    }
   ],
   "source": [
    "fig, axs = plt.subplots(1, 2, figsize=[15, 4])\n",
    "\n",
    "# Plot the log loss during training\n",
    "axs[0].plot(evaluation_results['Train']['multi_logloss'], label='Train')\n",
    "axs[0].plot(evaluation_results['Test']['multi_logloss'], label='Test')\n",
    "axs[0].set_ylabel('Log loss')\n",
    "axs[0].set_xlabel('Boosting round')\n",
    "axs[0].set_title('Training performance')\n",
    "axs[0].legend()\n",
    "\n",
    "# Plot feature importance\n",
    "importances = pd.DataFrame({'features': lgmb_model.feature_name(), \n",
    "                            'importance': lgmb_model.feature_importance()}).sort_values('importance', ascending=False).head(10)\n",
    "axs[1].bar(x=np.arange(len(importances)), height=importances['importance'])\n",
    "axs[1].set_xticks(np.arange(len(importances)))\n",
    "axs[1].set_xticklabels(importances['features'])\n",
    "axs[1].set_ylabel('Feature importance (# times used to split)')\n",
    "axs[1].set_title('Feature importance')\n",
    "plt.xticks(rotation=45)\n",
    "\n",
    "plt.show()"
   ]
  },
  {
   "cell_type": "code",
   "execution_count": 36,
   "metadata": {
    "ExecuteTime": {
     "end_time": "2020-02-15T11:45:00.971000Z",
     "start_time": "2020-02-15T11:39:50.204000Z"
    }
   },
   "outputs": [],
   "source": [
    "train_y_pred = lgmb_model.predict(X_test)\n",
    "real_y_pred = lgmb_model.predict(test_X)"
   ]
  },
  {
   "cell_type": "code",
   "execution_count": 37,
   "metadata": {
    "ExecuteTime": {
     "end_time": "2020-02-15T11:45:02.361000Z",
     "start_time": "2020-02-15T11:45:02.040000Z"
    },
    "scrolled": true
   },
   "outputs": [
    {
     "data": {
      "text/plain": [
       "0.3977012222858325"
      ]
     },
     "execution_count": 37,
     "metadata": {},
     "output_type": "execute_result"
    }
   ],
   "source": [
    "#log_loss\n",
    "log_loss(y_test,train_y_pred,labels= list(set(y_test)))"
   ]
  },
  {
   "cell_type": "code",
   "execution_count": 38,
   "metadata": {
    "ExecuteTime": {
     "end_time": "2020-02-15T11:45:03.468000Z",
     "start_time": "2020-02-15T11:45:03.429000Z"
    },
    "scrolled": false
   },
   "outputs": [
    {
     "data": {
      "text/html": [
       "<div>\n",
       "<style scoped>\n",
       "    .dataframe tbody tr th:only-of-type {\n",
       "        vertical-align: middle;\n",
       "    }\n",
       "\n",
       "    .dataframe tbody tr th {\n",
       "        vertical-align: top;\n",
       "    }\n",
       "\n",
       "    .dataframe thead th {\n",
       "        text-align: right;\n",
       "    }\n",
       "</style>\n",
       "<table border=\"1\" class=\"dataframe\">\n",
       "  <thead>\n",
       "    <tr style=\"text-align: right;\">\n",
       "      <th></th>\n",
       "      <th>importance</th>\n",
       "    </tr>\n",
       "  </thead>\n",
       "  <tbody>\n",
       "    <tr>\n",
       "      <td>fiberID</td>\n",
       "      <td>450830</td>\n",
       "    </tr>\n",
       "    <tr>\n",
       "      <td>modelMag_r-i</td>\n",
       "      <td>92738</td>\n",
       "    </tr>\n",
       "    <tr>\n",
       "      <td>modelMag_g-r</td>\n",
       "      <td>85551</td>\n",
       "    </tr>\n",
       "    <tr>\n",
       "      <td>fiberMag_r-i</td>\n",
       "      <td>81414</td>\n",
       "    </tr>\n",
       "    <tr>\n",
       "      <td>fiberMag_g-r</td>\n",
       "      <td>75320</td>\n",
       "    </tr>\n",
       "    <tr>\n",
       "      <td>modelMag_i-z</td>\n",
       "      <td>74878</td>\n",
       "    </tr>\n",
       "    <tr>\n",
       "      <td>psfMag_g-r</td>\n",
       "      <td>72550</td>\n",
       "    </tr>\n",
       "    <tr>\n",
       "      <td>psfMag_r</td>\n",
       "      <td>71720</td>\n",
       "    </tr>\n",
       "    <tr>\n",
       "      <td>modelMag_u-g</td>\n",
       "      <td>69291</td>\n",
       "    </tr>\n",
       "    <tr>\n",
       "      <td>psfMag_u-g</td>\n",
       "      <td>63834</td>\n",
       "    </tr>\n",
       "  </tbody>\n",
       "</table>\n",
       "</div>"
      ],
      "text/plain": [
       "              importance\n",
       "fiberID           450830\n",
       "modelMag_r-i       92738\n",
       "modelMag_g-r       85551\n",
       "fiberMag_r-i       81414\n",
       "fiberMag_g-r       75320\n",
       "modelMag_i-z       74878\n",
       "psfMag_g-r         72550\n",
       "psfMag_r           71720\n",
       "modelMag_u-g       69291\n",
       "psfMag_u-g         63834"
      ]
     },
     "execution_count": 38,
     "metadata": {},
     "output_type": "execute_result"
    }
   ],
   "source": [
    "feature_df = pd.DataFrame(lgmb_model.feature_importance(), index= train_X.columns,columns= ['importance']).sort_values('importance',ascending = False)\n",
    "feature_df.head(10)"
   ]
  },
  {
   "cell_type": "code",
   "execution_count": 39,
   "metadata": {
    "ExecuteTime": {
     "end_time": "2020-02-15T11:45:04.949000Z",
     "start_time": "2020-02-15T11:45:04.527000Z"
    }
   },
   "outputs": [],
   "source": [
    "submission = pd.DataFrame(data=real_y_pred, columns=sample_submission_df.columns, index=sample_submission_df.index)\n",
    "submission.to_csv('submission.csv', index=True)"
   ]
  },
  {
   "cell_type": "code",
   "execution_count": null,
   "metadata": {},
   "outputs": [],
   "source": [
    "lightbgm(data_select, outlair)"
   ]
  },
  {
   "cell_type": "markdown",
   "metadata": {},
   "source": [
    "## Gridsearch_cv"
   ]
  },
  {
   "cell_type": "code",
   "execution_count": null,
   "metadata": {
    "ExecuteTime": {
     "end_time": "2020-02-15T09:49:40.021000Z",
     "start_time": "2020-02-15T08:00:49.530Z"
    }
   },
   "outputs": [],
   "source": [
    "# from sklearn.feature_selection import SelectKBest\n",
    "# model_kbest = SelectKBest()\n",
    "# from sklearn.pipeline import Pipeline"
   ]
  },
  {
   "cell_type": "code",
   "execution_count": null,
   "metadata": {
    "ExecuteTime": {
     "end_time": "2020-02-15T09:49:40.023000Z",
     "start_time": "2020-02-15T08:00:49.534Z"
    }
   },
   "outputs": [],
   "source": [
    "# #최적의 변수를 찾기 위한 KBest 함수 불러오기\n",
    "# #파이프라인 구축\n",
    "# pipe_lgbm = Pipeline([('lgbm',lgbm_c)])\n",
    "# #파라미터 생성\n",
    "# params_lgbm = {\n",
    "#           \"lgbm__max_depth\": [15,20,25],\n",
    "#          \"lgbm__learning_rate\": [0.001],\n",
    "#          \"lgbm__num_leaves\": [15,20,25],\n",
    "#          \"lgbm__n_estimators\": [200,300,400,500],\n",
    "#          \"lgbm__random_state\": [42]}"
   ]
  },
  {
   "cell_type": "code",
   "execution_count": null,
   "metadata": {
    "ExecuteTime": {
     "end_time": "2020-02-15T09:49:40.025000Z",
     "start_time": "2020-02-15T08:00:49.537Z"
    }
   },
   "outputs": [],
   "source": [
    "# #최적의 파라미터 탐색\n",
    "# from sklearn.model_selection import GridSearchCV\n",
    "# grid_search = GridSearchCV(pipe_lgbm, param_grid = params_lgbm,\n",
    "# #                           cv=3, n_jobs=-1, verbose=10)"
   ]
  },
  {
   "cell_type": "code",
   "execution_count": null,
   "metadata": {
    "ExecuteTime": {
     "end_time": "2020-02-15T09:49:40.026000Z",
     "start_time": "2020-02-15T08:00:49.540Z"
    }
   },
   "outputs": [],
   "source": [
    "# grid_search.fit(X_train, y_train)"
   ]
  },
  {
   "cell_type": "code",
   "execution_count": null,
   "metadata": {
    "ExecuteTime": {
     "end_time": "2020-02-15T09:49:40.027000Z",
     "start_time": "2020-02-15T08:00:49.543Z"
    }
   },
   "outputs": [],
   "source": [
    "# lgbm_grid = grid_search.best_estimator_\n",
    "# lgbm_grid"
   ]
  },
  {
   "cell_type": "code",
   "execution_count": null,
   "metadata": {},
   "outputs": [],
   "source": []
  }
 ],
 "metadata": {
  "kernelspec": {
   "display_name": "Python 3",
   "language": "python",
   "name": "python3"
  },
  "language_info": {
   "codemirror_mode": {
    "name": "ipython",
    "version": 3
   },
   "file_extension": ".py",
   "mimetype": "text/x-python",
   "name": "python",
   "nbconvert_exporter": "python",
   "pygments_lexer": "ipython3",
   "version": "3.6.5"
  },
  "varInspector": {
   "cols": {
    "lenName": 16,
    "lenType": 16,
    "lenVar": 40
   },
   "kernels_config": {
    "python": {
     "delete_cmd_postfix": "",
     "delete_cmd_prefix": "del ",
     "library": "var_list.py",
     "varRefreshCmd": "print(var_dic_list())"
    },
    "r": {
     "delete_cmd_postfix": ") ",
     "delete_cmd_prefix": "rm(",
     "library": "var_list.r",
     "varRefreshCmd": "cat(var_dic_list()) "
    }
   },
   "types_to_exclude": [
    "module",
    "function",
    "builtin_function_or_method",
    "instance",
    "_Feature"
   ],
   "window_display": false
  }
 },
 "nbformat": 4,
 "nbformat_minor": 2
}
