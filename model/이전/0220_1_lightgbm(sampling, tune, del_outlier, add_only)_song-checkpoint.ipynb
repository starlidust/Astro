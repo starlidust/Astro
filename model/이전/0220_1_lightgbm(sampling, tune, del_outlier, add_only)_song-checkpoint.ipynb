{
 "cells": [
  {
   "cell_type": "markdown",
   "metadata": {},
   "source": [
    "# Tune_lgb\n",
    "* 제출결과 : "
   ]
  },
  {
   "cell_type": "code",
   "execution_count": 2,
   "metadata": {
    "ExecuteTime": {
     "end_time": "2020-02-20T04:48:32.594000Z",
     "start_time": "2020-02-20T04:48:31.358000Z"
    }
   },
   "outputs": [
    {
     "data": {
      "text/html": [
       "<style>.container {width:100% !important; }</style>"
      ],
      "text/plain": [
       "<IPython.core.display.HTML object>"
      ]
     },
     "metadata": {},
     "output_type": "display_data"
    }
   ],
   "source": [
    "import pandas as pd\n",
    "import numpy as np\n",
    "import matplotlib.pyplot as plt\n",
    "import seaborn as sns\n",
    "\n",
    "from sklearn.ensemble import RandomForestClassifier\n",
    "from sklearn.model_selection import train_test_split\n",
    "from sklearn.metrics import confusion_matrix\n",
    "from sklearn.metrics import log_loss\n",
    "from imblearn.combine import SMOTEENN\n",
    "import lightgbm as lgb\n",
    "\n",
    "from IPython.core.display import display, HTML\n",
    "display(HTML('<style>.container {width:100% !important; }</style>'))"
   ]
  },
  {
   "cell_type": "code",
   "execution_count": 3,
   "metadata": {
    "ExecuteTime": {
     "end_time": "2020-02-20T04:48:33.772000Z",
     "start_time": "2020-02-20T04:48:32.607000Z"
    }
   },
   "outputs": [],
   "source": [
    "path = \"./data/\" \n",
    "train_df = pd.read_csv(path+'train.csv',index_col=0)\n",
    "test_df = pd.read_csv(path+'test.csv',index_col=0)\n",
    "sample_submission_df = pd.read_csv(path+'sample_submission.csv',index_col=0)\n",
    "pd.options.display.max_columns = 30"
   ]
  },
  {
   "cell_type": "markdown",
   "metadata": {},
   "source": [
    "## 전처리\n",
    " - 이상치 확인 및 처리"
   ]
  },
  {
   "cell_type": "code",
   "execution_count": 4,
   "metadata": {
    "ExecuteTime": {
     "end_time": "2020-02-20T04:48:34.089000Z",
     "start_time": "2020-02-20T04:48:33.855000Z"
    }
   },
   "outputs": [
    {
     "data": {
      "text/html": [
       "<div>\n",
       "<style scoped>\n",
       "    .dataframe tbody tr th:only-of-type {\n",
       "        vertical-align: middle;\n",
       "    }\n",
       "\n",
       "    .dataframe tbody tr th {\n",
       "        vertical-align: top;\n",
       "    }\n",
       "\n",
       "    .dataframe thead th {\n",
       "        text-align: right;\n",
       "    }\n",
       "</style>\n",
       "<table border=\"1\" class=\"dataframe\">\n",
       "  <thead>\n",
       "    <tr style=\"text-align: right;\">\n",
       "      <th></th>\n",
       "      <th>fiberID</th>\n",
       "      <th>psfMag_u</th>\n",
       "      <th>psfMag_g</th>\n",
       "      <th>psfMag_r</th>\n",
       "      <th>psfMag_i</th>\n",
       "      <th>psfMag_z</th>\n",
       "      <th>fiberMag_u</th>\n",
       "      <th>fiberMag_g</th>\n",
       "      <th>fiberMag_r</th>\n",
       "      <th>fiberMag_i</th>\n",
       "      <th>fiberMag_z</th>\n",
       "      <th>petroMag_u</th>\n",
       "      <th>petroMag_g</th>\n",
       "      <th>petroMag_r</th>\n",
       "      <th>petroMag_i</th>\n",
       "      <th>petroMag_z</th>\n",
       "      <th>modelMag_u</th>\n",
       "      <th>modelMag_g</th>\n",
       "      <th>modelMag_r</th>\n",
       "      <th>modelMag_i</th>\n",
       "      <th>modelMag_z</th>\n",
       "    </tr>\n",
       "  </thead>\n",
       "  <tbody>\n",
       "    <tr>\n",
       "      <td>count</td>\n",
       "      <td>199991.000000</td>\n",
       "      <td>1.999910e+05</td>\n",
       "      <td>199991.000000</td>\n",
       "      <td>199991.000000</td>\n",
       "      <td>199991.000000</td>\n",
       "      <td>199991.000000</td>\n",
       "      <td>1.999910e+05</td>\n",
       "      <td>199991.000000</td>\n",
       "      <td>199991.000000</td>\n",
       "      <td>199991.000000</td>\n",
       "      <td>199991.000000</td>\n",
       "      <td>199991.000000</td>\n",
       "      <td>199991.000000</td>\n",
       "      <td>199991.000000</td>\n",
       "      <td>199991.000000</td>\n",
       "      <td>199991.000000</td>\n",
       "      <td>199991.000000</td>\n",
       "      <td>199991.000000</td>\n",
       "      <td>199991.000000</td>\n",
       "      <td>199991.000000</td>\n",
       "      <td>199991.000000</td>\n",
       "    </tr>\n",
       "    <tr>\n",
       "      <td>mean</td>\n",
       "      <td>360.830152</td>\n",
       "      <td>-6.750146e+00</td>\n",
       "      <td>18.675373</td>\n",
       "      <td>18.401235</td>\n",
       "      <td>18.043495</td>\n",
       "      <td>17.663526</td>\n",
       "      <td>1.084986e+01</td>\n",
       "      <td>19.072693</td>\n",
       "      <td>19.134483</td>\n",
       "      <td>18.183331</td>\n",
       "      <td>18.000882</td>\n",
       "      <td>21.837903</td>\n",
       "      <td>18.454136</td>\n",
       "      <td>18.481525</td>\n",
       "      <td>17.686617</td>\n",
       "      <td>17.699207</td>\n",
       "      <td>20.110991</td>\n",
       "      <td>18.544375</td>\n",
       "      <td>18.181544</td>\n",
       "      <td>17.692395</td>\n",
       "      <td>17.189281</td>\n",
       "    </tr>\n",
       "    <tr>\n",
       "      <td>std</td>\n",
       "      <td>225.305890</td>\n",
       "      <td>1.187678e+04</td>\n",
       "      <td>155.423024</td>\n",
       "      <td>127.128078</td>\n",
       "      <td>116.622194</td>\n",
       "      <td>123.735298</td>\n",
       "      <td>4.172116e+03</td>\n",
       "      <td>749.256162</td>\n",
       "      <td>90.049058</td>\n",
       "      <td>122.378972</td>\n",
       "      <td>145.862346</td>\n",
       "      <td>789.472333</td>\n",
       "      <td>154.376277</td>\n",
       "      <td>97.240448</td>\n",
       "      <td>145.730872</td>\n",
       "      <td>142.691880</td>\n",
       "      <td>122.299062</td>\n",
       "      <td>161.728183</td>\n",
       "      <td>133.984475</td>\n",
       "      <td>131.183416</td>\n",
       "      <td>133.685138</td>\n",
       "    </tr>\n",
       "    <tr>\n",
       "      <td>min</td>\n",
       "      <td>1.000000</td>\n",
       "      <td>-5.310802e+06</td>\n",
       "      <td>-40022.466071</td>\n",
       "      <td>-27184.795793</td>\n",
       "      <td>-26566.310827</td>\n",
       "      <td>-24878.828280</td>\n",
       "      <td>-1.864766e+06</td>\n",
       "      <td>-215882.917191</td>\n",
       "      <td>-21802.656144</td>\n",
       "      <td>-20208.516262</td>\n",
       "      <td>-26505.602101</td>\n",
       "      <td>-24463.431833</td>\n",
       "      <td>-25958.752324</td>\n",
       "      <td>-23948.588523</td>\n",
       "      <td>-40438.184078</td>\n",
       "      <td>-30070.729379</td>\n",
       "      <td>-26236.578659</td>\n",
       "      <td>-36902.402336</td>\n",
       "      <td>-36439.638493</td>\n",
       "      <td>-38969.416822</td>\n",
       "      <td>-26050.710196</td>\n",
       "    </tr>\n",
       "    <tr>\n",
       "      <td>25%</td>\n",
       "      <td>174.000000</td>\n",
       "      <td>1.965259e+01</td>\n",
       "      <td>18.701180</td>\n",
       "      <td>18.048572</td>\n",
       "      <td>17.747663</td>\n",
       "      <td>17.425523</td>\n",
       "      <td>1.994040e+01</td>\n",
       "      <td>18.902851</td>\n",
       "      <td>18.259352</td>\n",
       "      <td>17.903615</td>\n",
       "      <td>17.606148</td>\n",
       "      <td>19.247795</td>\n",
       "      <td>18.113933</td>\n",
       "      <td>17.479794</td>\n",
       "      <td>17.050294</td>\n",
       "      <td>16.804705</td>\n",
       "      <td>19.266214</td>\n",
       "      <td>18.076120</td>\n",
       "      <td>17.423425</td>\n",
       "      <td>16.977671</td>\n",
       "      <td>16.705774</td>\n",
       "    </tr>\n",
       "    <tr>\n",
       "      <td>50%</td>\n",
       "      <td>349.000000</td>\n",
       "      <td>2.087136e+01</td>\n",
       "      <td>19.904235</td>\n",
       "      <td>19.454492</td>\n",
       "      <td>19.043895</td>\n",
       "      <td>18.611799</td>\n",
       "      <td>2.104910e+01</td>\n",
       "      <td>20.069038</td>\n",
       "      <td>19.631419</td>\n",
       "      <td>19.188763</td>\n",
       "      <td>18.710967</td>\n",
       "      <td>20.366848</td>\n",
       "      <td>19.586559</td>\n",
       "      <td>19.182789</td>\n",
       "      <td>18.693370</td>\n",
       "      <td>18.174592</td>\n",
       "      <td>20.406840</td>\n",
       "      <td>19.547674</td>\n",
       "      <td>19.143156</td>\n",
       "      <td>18.641756</td>\n",
       "      <td>18.100997</td>\n",
       "    </tr>\n",
       "    <tr>\n",
       "      <td>75%</td>\n",
       "      <td>526.000000</td>\n",
       "      <td>2.216043e+01</td>\n",
       "      <td>21.150297</td>\n",
       "      <td>20.515936</td>\n",
       "      <td>20.073528</td>\n",
       "      <td>19.883760</td>\n",
       "      <td>2.233754e+01</td>\n",
       "      <td>21.385830</td>\n",
       "      <td>20.773911</td>\n",
       "      <td>20.331419</td>\n",
       "      <td>20.133179</td>\n",
       "      <td>21.797480</td>\n",
       "      <td>21.004397</td>\n",
       "      <td>20.457491</td>\n",
       "      <td>20.019112</td>\n",
       "      <td>19.807652</td>\n",
       "      <td>21.992898</td>\n",
       "      <td>20.962386</td>\n",
       "      <td>20.408140</td>\n",
       "      <td>19.968846</td>\n",
       "      <td>19.819554</td>\n",
       "    </tr>\n",
       "    <tr>\n",
       "      <td>max</td>\n",
       "      <td>1000.000000</td>\n",
       "      <td>1.877392e+04</td>\n",
       "      <td>3538.984910</td>\n",
       "      <td>3048.110913</td>\n",
       "      <td>4835.218639</td>\n",
       "      <td>9823.740407</td>\n",
       "      <td>4.870154e+03</td>\n",
       "      <td>248077.513380</td>\n",
       "      <td>12084.735440</td>\n",
       "      <td>8059.638535</td>\n",
       "      <td>18358.921741</td>\n",
       "      <td>298771.019041</td>\n",
       "      <td>12139.815877</td>\n",
       "      <td>7003.136546</td>\n",
       "      <td>9772.190537</td>\n",
       "      <td>17403.789263</td>\n",
       "      <td>14488.251976</td>\n",
       "      <td>10582.058590</td>\n",
       "      <td>12237.951703</td>\n",
       "      <td>4062.499371</td>\n",
       "      <td>7420.534172</td>\n",
       "    </tr>\n",
       "  </tbody>\n",
       "</table>\n",
       "</div>"
      ],
      "text/plain": [
       "             fiberID      psfMag_u       psfMag_g       psfMag_r  \\\n",
       "count  199991.000000  1.999910e+05  199991.000000  199991.000000   \n",
       "mean      360.830152 -6.750146e+00      18.675373      18.401235   \n",
       "std       225.305890  1.187678e+04     155.423024     127.128078   \n",
       "min         1.000000 -5.310802e+06  -40022.466071  -27184.795793   \n",
       "25%       174.000000  1.965259e+01      18.701180      18.048572   \n",
       "50%       349.000000  2.087136e+01      19.904235      19.454492   \n",
       "75%       526.000000  2.216043e+01      21.150297      20.515936   \n",
       "max      1000.000000  1.877392e+04    3538.984910    3048.110913   \n",
       "\n",
       "            psfMag_i       psfMag_z    fiberMag_u     fiberMag_g  \\\n",
       "count  199991.000000  199991.000000  1.999910e+05  199991.000000   \n",
       "mean       18.043495      17.663526  1.084986e+01      19.072693   \n",
       "std       116.622194     123.735298  4.172116e+03     749.256162   \n",
       "min    -26566.310827  -24878.828280 -1.864766e+06 -215882.917191   \n",
       "25%        17.747663      17.425523  1.994040e+01      18.902851   \n",
       "50%        19.043895      18.611799  2.104910e+01      20.069038   \n",
       "75%        20.073528      19.883760  2.233754e+01      21.385830   \n",
       "max      4835.218639    9823.740407  4.870154e+03  248077.513380   \n",
       "\n",
       "          fiberMag_r     fiberMag_i     fiberMag_z     petroMag_u  \\\n",
       "count  199991.000000  199991.000000  199991.000000  199991.000000   \n",
       "mean       19.134483      18.183331      18.000882      21.837903   \n",
       "std        90.049058     122.378972     145.862346     789.472333   \n",
       "min    -21802.656144  -20208.516262  -26505.602101  -24463.431833   \n",
       "25%        18.259352      17.903615      17.606148      19.247795   \n",
       "50%        19.631419      19.188763      18.710967      20.366848   \n",
       "75%        20.773911      20.331419      20.133179      21.797480   \n",
       "max     12084.735440    8059.638535   18358.921741  298771.019041   \n",
       "\n",
       "          petroMag_g     petroMag_r     petroMag_i     petroMag_z  \\\n",
       "count  199991.000000  199991.000000  199991.000000  199991.000000   \n",
       "mean       18.454136      18.481525      17.686617      17.699207   \n",
       "std       154.376277      97.240448     145.730872     142.691880   \n",
       "min    -25958.752324  -23948.588523  -40438.184078  -30070.729379   \n",
       "25%        18.113933      17.479794      17.050294      16.804705   \n",
       "50%        19.586559      19.182789      18.693370      18.174592   \n",
       "75%        21.004397      20.457491      20.019112      19.807652   \n",
       "max     12139.815877    7003.136546    9772.190537   17403.789263   \n",
       "\n",
       "          modelMag_u     modelMag_g     modelMag_r     modelMag_i  \\\n",
       "count  199991.000000  199991.000000  199991.000000  199991.000000   \n",
       "mean       20.110991      18.544375      18.181544      17.692395   \n",
       "std       122.299062     161.728183     133.984475     131.183416   \n",
       "min    -26236.578659  -36902.402336  -36439.638493  -38969.416822   \n",
       "25%        19.266214      18.076120      17.423425      16.977671   \n",
       "50%        20.406840      19.547674      19.143156      18.641756   \n",
       "75%        21.992898      20.962386      20.408140      19.968846   \n",
       "max     14488.251976   10582.058590   12237.951703    4062.499371   \n",
       "\n",
       "          modelMag_z  \n",
       "count  199991.000000  \n",
       "mean       17.189281  \n",
       "std       133.685138  \n",
       "min    -26050.710196  \n",
       "25%        16.705774  \n",
       "50%        18.100997  \n",
       "75%        19.819554  \n",
       "max      7420.534172  "
      ]
     },
     "execution_count": 4,
     "metadata": {},
     "output_type": "execute_result"
    }
   ],
   "source": [
    "train_df.describe()"
   ]
  },
  {
   "cell_type": "code",
   "execution_count": 5,
   "metadata": {
    "ExecuteTime": {
     "end_time": "2020-02-20T04:48:34.174000Z",
     "start_time": "2020-02-20T04:48:34.170000Z"
    }
   },
   "outputs": [],
   "source": [
    "def del_outlier(data, min=0, max=60):\n",
    "    up_idx_t=()\n",
    "    dw_idx_t=()\n",
    "    train_light = data.iloc[:,2:]\n",
    "    for i in range(len(train_light.columns)):\n",
    "        col = train_light.columns[i]\n",
    "        up_idx_t+=tuple(data[data[col]>max].index)\n",
    "        dw_idx_t+=tuple(data[data[col]<min].index)\n",
    "    del_idx = set(up_idx_t+dw_idx_t)\n",
    "    \n",
    "    return data[~data.index.isin(del_idx)]"
   ]
  },
  {
   "cell_type": "code",
   "execution_count": 6,
   "metadata": {
    "ExecuteTime": {
     "end_time": "2020-02-20T04:48:34.335000Z",
     "start_time": "2020-02-20T04:48:34.253000Z"
    }
   },
   "outputs": [],
   "source": [
    "train_df = del_outlier(train_df, min=-20, max=40)"
   ]
  },
  {
   "cell_type": "code",
   "execution_count": 7,
   "metadata": {
    "ExecuteTime": {
     "end_time": "2020-02-20T04:48:34.634000Z",
     "start_time": "2020-02-20T04:48:34.416000Z"
    }
   },
   "outputs": [
    {
     "data": {
      "text/html": [
       "<div>\n",
       "<style scoped>\n",
       "    .dataframe tbody tr th:only-of-type {\n",
       "        vertical-align: middle;\n",
       "    }\n",
       "\n",
       "    .dataframe tbody tr th {\n",
       "        vertical-align: top;\n",
       "    }\n",
       "\n",
       "    .dataframe thead th {\n",
       "        text-align: right;\n",
       "    }\n",
       "</style>\n",
       "<table border=\"1\" class=\"dataframe\">\n",
       "  <thead>\n",
       "    <tr style=\"text-align: right;\">\n",
       "      <th></th>\n",
       "      <th>fiberID</th>\n",
       "      <th>psfMag_u</th>\n",
       "      <th>psfMag_g</th>\n",
       "      <th>psfMag_r</th>\n",
       "      <th>psfMag_i</th>\n",
       "      <th>psfMag_z</th>\n",
       "      <th>fiberMag_u</th>\n",
       "      <th>fiberMag_g</th>\n",
       "      <th>fiberMag_r</th>\n",
       "      <th>fiberMag_i</th>\n",
       "      <th>fiberMag_z</th>\n",
       "      <th>petroMag_u</th>\n",
       "      <th>petroMag_g</th>\n",
       "      <th>petroMag_r</th>\n",
       "      <th>petroMag_i</th>\n",
       "      <th>petroMag_z</th>\n",
       "      <th>modelMag_u</th>\n",
       "      <th>modelMag_g</th>\n",
       "      <th>modelMag_r</th>\n",
       "      <th>modelMag_i</th>\n",
       "      <th>modelMag_z</th>\n",
       "    </tr>\n",
       "  </thead>\n",
       "  <tbody>\n",
       "    <tr>\n",
       "      <td>count</td>\n",
       "      <td>199628.000000</td>\n",
       "      <td>199628.000000</td>\n",
       "      <td>199628.000000</td>\n",
       "      <td>199628.000000</td>\n",
       "      <td>199628.000000</td>\n",
       "      <td>199628.000000</td>\n",
       "      <td>199628.000000</td>\n",
       "      <td>199628.000000</td>\n",
       "      <td>199628.000000</td>\n",
       "      <td>199628.000000</td>\n",
       "      <td>199628.000000</td>\n",
       "      <td>199628.000000</td>\n",
       "      <td>199628.000000</td>\n",
       "      <td>199628.000000</td>\n",
       "      <td>199628.000000</td>\n",
       "      <td>199628.000000</td>\n",
       "      <td>199628.000000</td>\n",
       "      <td>199628.000000</td>\n",
       "      <td>199628.000000</td>\n",
       "      <td>199628.000000</td>\n",
       "      <td>199628.000000</td>\n",
       "    </tr>\n",
       "    <tr>\n",
       "      <td>mean</td>\n",
       "      <td>360.903350</td>\n",
       "      <td>20.981239</td>\n",
       "      <td>19.858791</td>\n",
       "      <td>19.285653</td>\n",
       "      <td>18.870895</td>\n",
       "      <td>18.611078</td>\n",
       "      <td>21.170523</td>\n",
       "      <td>20.089204</td>\n",
       "      <td>19.505105</td>\n",
       "      <td>19.087210</td>\n",
       "      <td>18.828255</td>\n",
       "      <td>20.704087</td>\n",
       "      <td>19.597613</td>\n",
       "      <td>19.006255</td>\n",
       "      <td>18.603519</td>\n",
       "      <td>18.390767</td>\n",
       "      <td>20.728641</td>\n",
       "      <td>19.528982</td>\n",
       "      <td>18.939000</td>\n",
       "      <td>18.519929</td>\n",
       "      <td>18.275409</td>\n",
       "    </tr>\n",
       "    <tr>\n",
       "      <td>std</td>\n",
       "      <td>225.356086</td>\n",
       "      <td>2.075093</td>\n",
       "      <td>1.857924</td>\n",
       "      <td>1.703280</td>\n",
       "      <td>1.622303</td>\n",
       "      <td>1.678630</td>\n",
       "      <td>1.965511</td>\n",
       "      <td>1.841122</td>\n",
       "      <td>1.703609</td>\n",
       "      <td>1.624830</td>\n",
       "      <td>1.676144</td>\n",
       "      <td>2.357206</td>\n",
       "      <td>2.054633</td>\n",
       "      <td>1.927493</td>\n",
       "      <td>1.870967</td>\n",
       "      <td>2.007038</td>\n",
       "      <td>2.182877</td>\n",
       "      <td>1.955100</td>\n",
       "      <td>1.858653</td>\n",
       "      <td>1.794436</td>\n",
       "      <td>1.861080</td>\n",
       "    </tr>\n",
       "    <tr>\n",
       "      <td>min</td>\n",
       "      <td>1.000000</td>\n",
       "      <td>-12.978725</td>\n",
       "      <td>2.741681</td>\n",
       "      <td>-11.043026</td>\n",
       "      <td>-6.406284</td>\n",
       "      <td>1.762241</td>\n",
       "      <td>-10.838092</td>\n",
       "      <td>-8.294703</td>\n",
       "      <td>11.795394</td>\n",
       "      <td>10.646672</td>\n",
       "      <td>8.049850</td>\n",
       "      <td>-18.750419</td>\n",
       "      <td>-18.969308</td>\n",
       "      <td>-19.989825</td>\n",
       "      <td>-15.223252</td>\n",
       "      <td>-17.035990</td>\n",
       "      <td>3.444448</td>\n",
       "      <td>12.498143</td>\n",
       "      <td>10.286917</td>\n",
       "      <td>11.337467</td>\n",
       "      <td>10.977328</td>\n",
       "    </tr>\n",
       "    <tr>\n",
       "      <td>25%</td>\n",
       "      <td>174.000000</td>\n",
       "      <td>19.651883</td>\n",
       "      <td>18.700224</td>\n",
       "      <td>18.048186</td>\n",
       "      <td>17.746876</td>\n",
       "      <td>17.424860</td>\n",
       "      <td>19.941032</td>\n",
       "      <td>18.903275</td>\n",
       "      <td>18.259596</td>\n",
       "      <td>17.904522</td>\n",
       "      <td>17.606784</td>\n",
       "      <td>19.248338</td>\n",
       "      <td>18.114027</td>\n",
       "      <td>17.480567</td>\n",
       "      <td>17.051256</td>\n",
       "      <td>16.805130</td>\n",
       "      <td>19.265055</td>\n",
       "      <td>18.075231</td>\n",
       "      <td>17.422828</td>\n",
       "      <td>16.977476</td>\n",
       "      <td>16.704970</td>\n",
       "    </tr>\n",
       "    <tr>\n",
       "      <td>50%</td>\n",
       "      <td>349.000000</td>\n",
       "      <td>20.869253</td>\n",
       "      <td>19.902826</td>\n",
       "      <td>19.453564</td>\n",
       "      <td>19.042466</td>\n",
       "      <td>18.609989</td>\n",
       "      <td>21.048078</td>\n",
       "      <td>20.068673</td>\n",
       "      <td>19.632065</td>\n",
       "      <td>19.189730</td>\n",
       "      <td>18.711210</td>\n",
       "      <td>20.365782</td>\n",
       "      <td>19.584974</td>\n",
       "      <td>19.182760</td>\n",
       "      <td>18.694139</td>\n",
       "      <td>18.173448</td>\n",
       "      <td>20.404240</td>\n",
       "      <td>19.545558</td>\n",
       "      <td>19.142608</td>\n",
       "      <td>18.641789</td>\n",
       "      <td>18.099917</td>\n",
       "    </tr>\n",
       "    <tr>\n",
       "      <td>75%</td>\n",
       "      <td>526.000000</td>\n",
       "      <td>22.155843</td>\n",
       "      <td>21.146616</td>\n",
       "      <td>20.514075</td>\n",
       "      <td>20.072422</td>\n",
       "      <td>19.882411</td>\n",
       "      <td>22.335305</td>\n",
       "      <td>21.384493</td>\n",
       "      <td>20.773867</td>\n",
       "      <td>20.332052</td>\n",
       "      <td>20.133502</td>\n",
       "      <td>21.792790</td>\n",
       "      <td>21.001517</td>\n",
       "      <td>20.456134</td>\n",
       "      <td>20.018369</td>\n",
       "      <td>19.806288</td>\n",
       "      <td>21.987570</td>\n",
       "      <td>20.959655</td>\n",
       "      <td>20.407032</td>\n",
       "      <td>19.968273</td>\n",
       "      <td>19.818616</td>\n",
       "    </tr>\n",
       "    <tr>\n",
       "      <td>max</td>\n",
       "      <td>1000.000000</td>\n",
       "      <td>38.142419</td>\n",
       "      <td>39.411617</td>\n",
       "      <td>37.348717</td>\n",
       "      <td>34.963620</td>\n",
       "      <td>32.130146</td>\n",
       "      <td>39.182814</td>\n",
       "      <td>37.745406</td>\n",
       "      <td>30.160957</td>\n",
       "      <td>32.171369</td>\n",
       "      <td>36.498179</td>\n",
       "      <td>39.979165</td>\n",
       "      <td>39.969025</td>\n",
       "      <td>39.977525</td>\n",
       "      <td>39.237553</td>\n",
       "      <td>39.794471</td>\n",
       "      <td>39.238248</td>\n",
       "      <td>39.129788</td>\n",
       "      <td>33.666494</td>\n",
       "      <td>32.740051</td>\n",
       "      <td>34.930633</td>\n",
       "    </tr>\n",
       "  </tbody>\n",
       "</table>\n",
       "</div>"
      ],
      "text/plain": [
       "             fiberID       psfMag_u       psfMag_g       psfMag_r  \\\n",
       "count  199628.000000  199628.000000  199628.000000  199628.000000   \n",
       "mean      360.903350      20.981239      19.858791      19.285653   \n",
       "std       225.356086       2.075093       1.857924       1.703280   \n",
       "min         1.000000     -12.978725       2.741681     -11.043026   \n",
       "25%       174.000000      19.651883      18.700224      18.048186   \n",
       "50%       349.000000      20.869253      19.902826      19.453564   \n",
       "75%       526.000000      22.155843      21.146616      20.514075   \n",
       "max      1000.000000      38.142419      39.411617      37.348717   \n",
       "\n",
       "            psfMag_i       psfMag_z     fiberMag_u     fiberMag_g  \\\n",
       "count  199628.000000  199628.000000  199628.000000  199628.000000   \n",
       "mean       18.870895      18.611078      21.170523      20.089204   \n",
       "std         1.622303       1.678630       1.965511       1.841122   \n",
       "min        -6.406284       1.762241     -10.838092      -8.294703   \n",
       "25%        17.746876      17.424860      19.941032      18.903275   \n",
       "50%        19.042466      18.609989      21.048078      20.068673   \n",
       "75%        20.072422      19.882411      22.335305      21.384493   \n",
       "max        34.963620      32.130146      39.182814      37.745406   \n",
       "\n",
       "          fiberMag_r     fiberMag_i     fiberMag_z     petroMag_u  \\\n",
       "count  199628.000000  199628.000000  199628.000000  199628.000000   \n",
       "mean       19.505105      19.087210      18.828255      20.704087   \n",
       "std         1.703609       1.624830       1.676144       2.357206   \n",
       "min        11.795394      10.646672       8.049850     -18.750419   \n",
       "25%        18.259596      17.904522      17.606784      19.248338   \n",
       "50%        19.632065      19.189730      18.711210      20.365782   \n",
       "75%        20.773867      20.332052      20.133502      21.792790   \n",
       "max        30.160957      32.171369      36.498179      39.979165   \n",
       "\n",
       "          petroMag_g     petroMag_r     petroMag_i     petroMag_z  \\\n",
       "count  199628.000000  199628.000000  199628.000000  199628.000000   \n",
       "mean       19.597613      19.006255      18.603519      18.390767   \n",
       "std         2.054633       1.927493       1.870967       2.007038   \n",
       "min       -18.969308     -19.989825     -15.223252     -17.035990   \n",
       "25%        18.114027      17.480567      17.051256      16.805130   \n",
       "50%        19.584974      19.182760      18.694139      18.173448   \n",
       "75%        21.001517      20.456134      20.018369      19.806288   \n",
       "max        39.969025      39.977525      39.237553      39.794471   \n",
       "\n",
       "          modelMag_u     modelMag_g     modelMag_r     modelMag_i  \\\n",
       "count  199628.000000  199628.000000  199628.000000  199628.000000   \n",
       "mean       20.728641      19.528982      18.939000      18.519929   \n",
       "std         2.182877       1.955100       1.858653       1.794436   \n",
       "min         3.444448      12.498143      10.286917      11.337467   \n",
       "25%        19.265055      18.075231      17.422828      16.977476   \n",
       "50%        20.404240      19.545558      19.142608      18.641789   \n",
       "75%        21.987570      20.959655      20.407032      19.968273   \n",
       "max        39.238248      39.129788      33.666494      32.740051   \n",
       "\n",
       "          modelMag_z  \n",
       "count  199628.000000  \n",
       "mean       18.275409  \n",
       "std         1.861080  \n",
       "min        10.977328  \n",
       "25%        16.704970  \n",
       "50%        18.099917  \n",
       "75%        19.818616  \n",
       "max        34.930633  "
      ]
     },
     "execution_count": 7,
     "metadata": {},
     "output_type": "execute_result"
    }
   ],
   "source": [
    "train_df.describe()"
   ]
  },
  {
   "cell_type": "code",
   "execution_count": 8,
   "metadata": {
    "ExecuteTime": {
     "end_time": "2020-02-20T04:48:34.715000Z",
     "start_time": "2020-02-20T04:48:34.710000Z"
    }
   },
   "outputs": [
    {
     "data": {
      "text/plain": [
       "Index(['type', 'fiberID', 'psfMag_u', 'psfMag_g', 'psfMag_r', 'psfMag_i',\n",
       "       'psfMag_z', 'fiberMag_u', 'fiberMag_g', 'fiberMag_r', 'fiberMag_i',\n",
       "       'fiberMag_z', 'petroMag_u', 'petroMag_g', 'petroMag_r', 'petroMag_i',\n",
       "       'petroMag_z', 'modelMag_u', 'modelMag_g', 'modelMag_r', 'modelMag_i',\n",
       "       'modelMag_z'],\n",
       "      dtype='object')"
      ]
     },
     "execution_count": 8,
     "metadata": {},
     "output_type": "execute_result"
    }
   ],
   "source": [
    "train_df.columns"
   ]
  },
  {
   "cell_type": "markdown",
   "metadata": {},
   "source": [
    "## DATA Setting"
   ]
  },
  {
   "cell_type": "code",
   "execution_count": 9,
   "metadata": {
    "ExecuteTime": {
     "end_time": "2020-02-20T04:48:34.874000Z",
     "start_time": "2020-02-20T04:48:34.794000Z"
    }
   },
   "outputs": [],
   "source": [
    "column_number = {}\n",
    "number_columns = {}\n",
    "for i, column in enumerate(sample_submission_df.columns):\n",
    "    column_number[column] = i\n",
    "    number_columns[i] = column\n",
    "    \n",
    "    \n",
    "def to_number(x, dic):\n",
    "    return dic[x]\n",
    "\n",
    "train_df['type_num'] = train_df['type'].apply(lambda x: to_number(x, column_number))\n"
   ]
  },
  {
   "cell_type": "code",
   "execution_count": 10,
   "metadata": {
    "ExecuteTime": {
     "end_time": "2020-02-20T04:48:34.959000Z",
     "start_time": "2020-02-20T04:48:34.953000Z"
    }
   },
   "outputs": [],
   "source": [
    "def add_minus_feature_all(data,test = False):\n",
    "    from itertools import combinations\n",
    "    n = 0\n",
    "    for count in range(5,21,5):\n",
    "        s = 2\n",
    "        if test == True :\n",
    "            s = 1\n",
    "        selected = data.columns[s:].values[n:count]\n",
    "        mag = str.split(selected[0],'_')[0]\n",
    "        for combi in list(combinations(selected,2)):\n",
    "            name_1st = str.split(combi[0],'_')[1]\n",
    "            name_2nd = str.split(combi[1],'_')[1]\n",
    "            data[mag+\"_\"+name_1st+\"-\"+name_2nd] = data[combi[0]]-data[combi[1]]\n",
    "        n=count\n",
    "    return data"
   ]
  },
  {
   "cell_type": "code",
   "execution_count": 11,
   "metadata": {
    "ExecuteTime": {
     "end_time": "2020-02-20T04:48:35.047000Z",
     "start_time": "2020-02-20T04:48:35.040000Z"
    }
   },
   "outputs": [],
   "source": [
    "def add_minus_feature(data,test = False):\n",
    "    '''\n",
    "    근접변수에 대해서만 컬럼생성 ex) 'fiberMag_u-g', 'fiberMag_g-r', 'fiberMag_r-i', 'fiberMag_i-z'\n",
    "    각 mag에서 가장 높은값의 filter를 받아오는 \"~~mag_MAX\"생성\n",
    "    결과 38개로 증가 \n",
    "    '''\n",
    "    from itertools import combinations\n",
    "    n = 0\n",
    "    m = 0\n",
    "    for count in range(5,21,5):\n",
    "        s = 2\n",
    "        if test == True :\n",
    "            s = 1\n",
    "        selected = data.columns[s:].values[n:count]\n",
    "        mag = str.split(selected[0],'_')[0]\n",
    "#         data[mag+\"_MAX\"] = data[selected].apply(lambda x : str.split(np.argmax(x),'_')[1],axis = 1)\n",
    "        for i in range(0,len(selected)):        \n",
    "            if i>0: \n",
    "                name_1st = str.split(m,'_')[1]\n",
    "                name_2nd = str.split(selected[i],'_')[1]\n",
    "                data[mag+\"_\"+name_1st+\"-\"+name_2nd] = data[m]-data[selected[i]]\n",
    "            m = selected[i]    \n",
    "        n=count\n",
    "    return data"
   ]
  },
  {
   "cell_type": "code",
   "execution_count": 12,
   "metadata": {
    "ExecuteTime": {
     "end_time": "2020-02-20T04:48:35.259000Z",
     "start_time": "2020-02-20T04:48:35.129000Z"
    }
   },
   "outputs": [],
   "source": [
    "train_df = add_minus_feature(train_df)\n",
    "test_df = add_minus_feature(test_df,True)"
   ]
  },
  {
   "cell_type": "code",
   "execution_count": 13,
   "metadata": {
    "ExecuteTime": {
     "end_time": "2020-02-20T04:48:35.586000Z",
     "start_time": "2020-02-20T04:48:35.583000Z"
    }
   },
   "outputs": [],
   "source": [
    "# train_df.drop(columns=['psfMag_u', 'psfMag_g', 'psfMag_r', 'psfMag_i',\n",
    "#        'psfMag_z', 'fiberMag_u', 'fiberMag_g', 'fiberMag_r', 'fiberMag_i',\n",
    "#        'fiberMag_z', 'petroMag_u', 'petroMag_g', 'petroMag_r', 'petroMag_i',\n",
    "#        'petroMag_z', 'modelMag_u', 'modelMag_g', 'modelMag_r', 'modelMag_i',\n",
    "#        'modelMag_z'], inplace=True)\n",
    "\n",
    "# test_df.drop(columns=['psfMag_u', 'psfMag_g', 'psfMag_r', 'psfMag_i',\n",
    "#        'psfMag_z', 'fiberMag_u', 'fiberMag_g', 'fiberMag_r', 'fiberMag_i',\n",
    "#        'fiberMag_z', 'petroMag_u', 'petroMag_g', 'petroMag_r', 'petroMag_i',\n",
    "#        'petroMag_z', 'modelMag_u', 'modelMag_g', 'modelMag_r', 'modelMag_i',\n",
    "#        'modelMag_z'], inplace=True)"
   ]
  },
  {
   "cell_type": "code",
   "execution_count": 14,
   "metadata": {
    "ExecuteTime": {
     "end_time": "2020-02-20T04:48:35.953000Z",
     "start_time": "2020-02-20T04:48:35.865000Z"
    }
   },
   "outputs": [],
   "source": [
    "train_X = train_df.drop(columns=['type', 'type_num', 'fiberID'], axis=1)\n",
    "train_y = train_df['type_num']\n",
    "test_X = test_df.drop(columns=['fiberID'], axis=1)"
   ]
  },
  {
   "cell_type": "code",
   "execution_count": 15,
   "metadata": {
    "ExecuteTime": {
     "end_time": "2020-02-20T04:48:36.346000Z",
     "start_time": "2020-02-20T04:48:36.309000Z"
    },
    "scrolled": true
   },
   "outputs": [
    {
     "data": {
      "text/html": [
       "<div>\n",
       "<style scoped>\n",
       "    .dataframe tbody tr th:only-of-type {\n",
       "        vertical-align: middle;\n",
       "    }\n",
       "\n",
       "    .dataframe tbody tr th {\n",
       "        vertical-align: top;\n",
       "    }\n",
       "\n",
       "    .dataframe thead th {\n",
       "        text-align: right;\n",
       "    }\n",
       "</style>\n",
       "<table border=\"1\" class=\"dataframe\">\n",
       "  <thead>\n",
       "    <tr style=\"text-align: right;\">\n",
       "      <th></th>\n",
       "      <th>psfMag_u</th>\n",
       "      <th>psfMag_g</th>\n",
       "      <th>psfMag_r</th>\n",
       "      <th>psfMag_i</th>\n",
       "      <th>psfMag_z</th>\n",
       "      <th>fiberMag_u</th>\n",
       "      <th>fiberMag_g</th>\n",
       "      <th>fiberMag_r</th>\n",
       "      <th>fiberMag_i</th>\n",
       "      <th>fiberMag_z</th>\n",
       "      <th>petroMag_u</th>\n",
       "      <th>petroMag_g</th>\n",
       "      <th>petroMag_r</th>\n",
       "      <th>petroMag_i</th>\n",
       "      <th>petroMag_z</th>\n",
       "      <th>...</th>\n",
       "      <th>psfMag_g-r</th>\n",
       "      <th>psfMag_r-i</th>\n",
       "      <th>psfMag_i-z</th>\n",
       "      <th>fiberMag_u-g</th>\n",
       "      <th>fiberMag_g-r</th>\n",
       "      <th>fiberMag_r-i</th>\n",
       "      <th>fiberMag_i-z</th>\n",
       "      <th>petroMag_u-g</th>\n",
       "      <th>petroMag_g-r</th>\n",
       "      <th>petroMag_r-i</th>\n",
       "      <th>petroMag_i-z</th>\n",
       "      <th>modelMag_u-g</th>\n",
       "      <th>modelMag_g-r</th>\n",
       "      <th>modelMag_r-i</th>\n",
       "      <th>modelMag_i-z</th>\n",
       "    </tr>\n",
       "    <tr>\n",
       "      <th>id</th>\n",
       "      <th></th>\n",
       "      <th></th>\n",
       "      <th></th>\n",
       "      <th></th>\n",
       "      <th></th>\n",
       "      <th></th>\n",
       "      <th></th>\n",
       "      <th></th>\n",
       "      <th></th>\n",
       "      <th></th>\n",
       "      <th></th>\n",
       "      <th></th>\n",
       "      <th></th>\n",
       "      <th></th>\n",
       "      <th></th>\n",
       "      <th></th>\n",
       "      <th></th>\n",
       "      <th></th>\n",
       "      <th></th>\n",
       "      <th></th>\n",
       "      <th></th>\n",
       "      <th></th>\n",
       "      <th></th>\n",
       "      <th></th>\n",
       "      <th></th>\n",
       "      <th></th>\n",
       "      <th></th>\n",
       "      <th></th>\n",
       "      <th></th>\n",
       "      <th></th>\n",
       "      <th></th>\n",
       "    </tr>\n",
       "  </thead>\n",
       "  <tbody>\n",
       "    <tr>\n",
       "      <td>0</td>\n",
       "      <td>23.198224</td>\n",
       "      <td>21.431953</td>\n",
       "      <td>21.314148</td>\n",
       "      <td>21.176553</td>\n",
       "      <td>21.171444</td>\n",
       "      <td>22.581309</td>\n",
       "      <td>21.644453</td>\n",
       "      <td>21.657571</td>\n",
       "      <td>21.387653</td>\n",
       "      <td>21.572827</td>\n",
       "      <td>22.504317</td>\n",
       "      <td>21.431636</td>\n",
       "      <td>21.478312</td>\n",
       "      <td>21.145409</td>\n",
       "      <td>20.422446</td>\n",
       "      <td>...</td>\n",
       "      <td>0.117805</td>\n",
       "      <td>0.137595</td>\n",
       "      <td>0.005109</td>\n",
       "      <td>0.936856</td>\n",
       "      <td>-0.013118</td>\n",
       "      <td>0.269918</td>\n",
       "      <td>-0.185174</td>\n",
       "      <td>1.072682</td>\n",
       "      <td>-0.046676</td>\n",
       "      <td>0.332902</td>\n",
       "      <td>0.722964</td>\n",
       "      <td>1.283708</td>\n",
       "      <td>0.101347</td>\n",
       "      <td>0.343582</td>\n",
       "      <td>-0.126735</td>\n",
       "    </tr>\n",
       "    <tr>\n",
       "      <td>1</td>\n",
       "      <td>21.431355</td>\n",
       "      <td>20.708104</td>\n",
       "      <td>20.678850</td>\n",
       "      <td>20.703420</td>\n",
       "      <td>20.473229</td>\n",
       "      <td>21.868797</td>\n",
       "      <td>21.029773</td>\n",
       "      <td>20.967054</td>\n",
       "      <td>20.937731</td>\n",
       "      <td>21.063646</td>\n",
       "      <td>21.360701</td>\n",
       "      <td>20.778968</td>\n",
       "      <td>20.889705</td>\n",
       "      <td>20.639812</td>\n",
       "      <td>20.646660</td>\n",
       "      <td>...</td>\n",
       "      <td>0.029254</td>\n",
       "      <td>-0.024570</td>\n",
       "      <td>0.230191</td>\n",
       "      <td>0.839024</td>\n",
       "      <td>0.062718</td>\n",
       "      <td>0.029324</td>\n",
       "      <td>-0.125915</td>\n",
       "      <td>0.581734</td>\n",
       "      <td>-0.110737</td>\n",
       "      <td>0.249893</td>\n",
       "      <td>-0.006847</td>\n",
       "      <td>0.734428</td>\n",
       "      <td>0.004602</td>\n",
       "      <td>0.060537</td>\n",
       "      <td>0.181074</td>\n",
       "    </tr>\n",
       "    <tr>\n",
       "      <td>2</td>\n",
       "      <td>17.851451</td>\n",
       "      <td>16.727898</td>\n",
       "      <td>16.679677</td>\n",
       "      <td>16.694640</td>\n",
       "      <td>16.641788</td>\n",
       "      <td>18.171890</td>\n",
       "      <td>17.033098</td>\n",
       "      <td>16.999682</td>\n",
       "      <td>17.095999</td>\n",
       "      <td>17.076449</td>\n",
       "      <td>17.867253</td>\n",
       "      <td>16.738784</td>\n",
       "      <td>16.688874</td>\n",
       "      <td>16.744210</td>\n",
       "      <td>16.808006</td>\n",
       "      <td>...</td>\n",
       "      <td>0.048221</td>\n",
       "      <td>-0.014963</td>\n",
       "      <td>0.052852</td>\n",
       "      <td>1.138792</td>\n",
       "      <td>0.033416</td>\n",
       "      <td>-0.096317</td>\n",
       "      <td>0.019550</td>\n",
       "      <td>1.128468</td>\n",
       "      <td>0.049910</td>\n",
       "      <td>-0.055336</td>\n",
       "      <td>-0.063796</td>\n",
       "      <td>1.120628</td>\n",
       "      <td>0.056186</td>\n",
       "      <td>-0.018929</td>\n",
       "      <td>-0.028751</td>\n",
       "    </tr>\n",
       "    <tr>\n",
       "      <td>3</td>\n",
       "      <td>20.789900</td>\n",
       "      <td>20.040371</td>\n",
       "      <td>19.926909</td>\n",
       "      <td>19.843840</td>\n",
       "      <td>19.463270</td>\n",
       "      <td>21.039030</td>\n",
       "      <td>20.317165</td>\n",
       "      <td>20.217898</td>\n",
       "      <td>20.073852</td>\n",
       "      <td>19.794505</td>\n",
       "      <td>20.433907</td>\n",
       "      <td>19.993727</td>\n",
       "      <td>19.985531</td>\n",
       "      <td>19.750917</td>\n",
       "      <td>19.455117</td>\n",
       "      <td>...</td>\n",
       "      <td>0.113462</td>\n",
       "      <td>0.083069</td>\n",
       "      <td>0.380569</td>\n",
       "      <td>0.721865</td>\n",
       "      <td>0.099267</td>\n",
       "      <td>0.144046</td>\n",
       "      <td>0.279347</td>\n",
       "      <td>0.440180</td>\n",
       "      <td>0.008197</td>\n",
       "      <td>0.234614</td>\n",
       "      <td>0.295800</td>\n",
       "      <td>0.769012</td>\n",
       "      <td>0.111901</td>\n",
       "      <td>0.131685</td>\n",
       "      <td>0.205258</td>\n",
       "    </tr>\n",
       "    <tr>\n",
       "      <td>4</td>\n",
       "      <td>26.454969</td>\n",
       "      <td>23.058767</td>\n",
       "      <td>21.471406</td>\n",
       "      <td>19.504961</td>\n",
       "      <td>18.389096</td>\n",
       "      <td>25.700632</td>\n",
       "      <td>23.629122</td>\n",
       "      <td>21.742750</td>\n",
       "      <td>19.861718</td>\n",
       "      <td>18.810375</td>\n",
       "      <td>25.859229</td>\n",
       "      <td>22.426929</td>\n",
       "      <td>21.673551</td>\n",
       "      <td>19.610012</td>\n",
       "      <td>18.376141</td>\n",
       "      <td>...</td>\n",
       "      <td>1.587361</td>\n",
       "      <td>1.966445</td>\n",
       "      <td>1.115864</td>\n",
       "      <td>2.071510</td>\n",
       "      <td>1.886372</td>\n",
       "      <td>1.881032</td>\n",
       "      <td>1.051343</td>\n",
       "      <td>3.432300</td>\n",
       "      <td>0.753377</td>\n",
       "      <td>2.063539</td>\n",
       "      <td>1.233871</td>\n",
       "      <td>1.729059</td>\n",
       "      <td>1.672651</td>\n",
       "      <td>1.988012</td>\n",
       "      <td>1.111675</td>\n",
       "    </tr>\n",
       "  </tbody>\n",
       "</table>\n",
       "<p>5 rows × 36 columns</p>\n",
       "</div>"
      ],
      "text/plain": [
       "     psfMag_u   psfMag_g   psfMag_r   psfMag_i   psfMag_z  fiberMag_u  \\\n",
       "id                                                                      \n",
       "0   23.198224  21.431953  21.314148  21.176553  21.171444   22.581309   \n",
       "1   21.431355  20.708104  20.678850  20.703420  20.473229   21.868797   \n",
       "2   17.851451  16.727898  16.679677  16.694640  16.641788   18.171890   \n",
       "3   20.789900  20.040371  19.926909  19.843840  19.463270   21.039030   \n",
       "4   26.454969  23.058767  21.471406  19.504961  18.389096   25.700632   \n",
       "\n",
       "    fiberMag_g  fiberMag_r  fiberMag_i  fiberMag_z  petroMag_u  petroMag_g  \\\n",
       "id                                                                           \n",
       "0    21.644453   21.657571   21.387653   21.572827   22.504317   21.431636   \n",
       "1    21.029773   20.967054   20.937731   21.063646   21.360701   20.778968   \n",
       "2    17.033098   16.999682   17.095999   17.076449   17.867253   16.738784   \n",
       "3    20.317165   20.217898   20.073852   19.794505   20.433907   19.993727   \n",
       "4    23.629122   21.742750   19.861718   18.810375   25.859229   22.426929   \n",
       "\n",
       "    petroMag_r  petroMag_i  petroMag_z  ...  psfMag_g-r  psfMag_r-i  \\\n",
       "id                                      ...                           \n",
       "0    21.478312   21.145409   20.422446  ...    0.117805    0.137595   \n",
       "1    20.889705   20.639812   20.646660  ...    0.029254   -0.024570   \n",
       "2    16.688874   16.744210   16.808006  ...    0.048221   -0.014963   \n",
       "3    19.985531   19.750917   19.455117  ...    0.113462    0.083069   \n",
       "4    21.673551   19.610012   18.376141  ...    1.587361    1.966445   \n",
       "\n",
       "    psfMag_i-z  fiberMag_u-g  fiberMag_g-r  fiberMag_r-i  fiberMag_i-z  \\\n",
       "id                                                                       \n",
       "0     0.005109      0.936856     -0.013118      0.269918     -0.185174   \n",
       "1     0.230191      0.839024      0.062718      0.029324     -0.125915   \n",
       "2     0.052852      1.138792      0.033416     -0.096317      0.019550   \n",
       "3     0.380569      0.721865      0.099267      0.144046      0.279347   \n",
       "4     1.115864      2.071510      1.886372      1.881032      1.051343   \n",
       "\n",
       "    petroMag_u-g  petroMag_g-r  petroMag_r-i  petroMag_i-z  modelMag_u-g  \\\n",
       "id                                                                         \n",
       "0       1.072682     -0.046676      0.332902      0.722964      1.283708   \n",
       "1       0.581734     -0.110737      0.249893     -0.006847      0.734428   \n",
       "2       1.128468      0.049910     -0.055336     -0.063796      1.120628   \n",
       "3       0.440180      0.008197      0.234614      0.295800      0.769012   \n",
       "4       3.432300      0.753377      2.063539      1.233871      1.729059   \n",
       "\n",
       "    modelMag_g-r  modelMag_r-i  modelMag_i-z  \n",
       "id                                            \n",
       "0       0.101347      0.343582     -0.126735  \n",
       "1       0.004602      0.060537      0.181074  \n",
       "2       0.056186     -0.018929     -0.028751  \n",
       "3       0.111901      0.131685      0.205258  \n",
       "4       1.672651      1.988012      1.111675  \n",
       "\n",
       "[5 rows x 36 columns]"
      ]
     },
     "execution_count": 15,
     "metadata": {},
     "output_type": "execute_result"
    }
   ],
   "source": [
    "train_X.head()"
   ]
  },
  {
   "cell_type": "code",
   "execution_count": 16,
   "metadata": {
    "ExecuteTime": {
     "end_time": "2020-02-20T04:48:36.716000Z",
     "start_time": "2020-02-20T04:48:36.709000Z"
    },
    "scrolled": true
   },
   "outputs": [
    {
     "data": {
      "text/plain": [
       "Index(['psfMag_u', 'psfMag_g', 'psfMag_r', 'psfMag_i', 'psfMag_z',\n",
       "       'fiberMag_u', 'fiberMag_g', 'fiberMag_r', 'fiberMag_i', 'fiberMag_z',\n",
       "       'petroMag_u', 'petroMag_g', 'petroMag_r', 'petroMag_i', 'petroMag_z',\n",
       "       'modelMag_u', 'modelMag_g', 'modelMag_r', 'modelMag_i', 'modelMag_z',\n",
       "       'psfMag_u-g', 'psfMag_g-r', 'psfMag_r-i', 'psfMag_i-z', 'fiberMag_u-g',\n",
       "       'fiberMag_g-r', 'fiberMag_r-i', 'fiberMag_i-z', 'petroMag_u-g',\n",
       "       'petroMag_g-r', 'petroMag_r-i', 'petroMag_i-z', 'modelMag_u-g',\n",
       "       'modelMag_g-r', 'modelMag_r-i', 'modelMag_i-z'],\n",
       "      dtype='object')"
      ]
     },
     "execution_count": 16,
     "metadata": {},
     "output_type": "execute_result"
    }
   ],
   "source": [
    "train_X.columns"
   ]
  },
  {
   "cell_type": "code",
   "execution_count": 18,
   "metadata": {
    "ExecuteTime": {
     "end_time": "2020-02-20T05:00:13.657000Z",
     "start_time": "2020-02-20T04:50:47.018000Z"
    }
   },
   "outputs": [],
   "source": [
    "X_samp, y_samp = SMOTEENN(random_state=1059).fit_sample(train_X, train_y)"
   ]
  },
  {
   "cell_type": "code",
   "execution_count": 20,
   "metadata": {
    "ExecuteTime": {
     "end_time": "2020-02-20T05:09:04.834000Z",
     "start_time": "2020-02-20T05:09:04.830000Z"
    }
   },
   "outputs": [
    {
     "data": {
      "text/plain": [
       "((901170, 36), (901170,))"
      ]
     },
     "execution_count": 20,
     "metadata": {},
     "output_type": "execute_result"
    }
   ],
   "source": [
    "X_samp.shape, y_samp.shape"
   ]
  },
  {
   "cell_type": "code",
   "execution_count": 21,
   "metadata": {
    "ExecuteTime": {
     "end_time": "2020-02-20T05:09:25.281000Z",
     "start_time": "2020-02-20T05:09:24.522000Z"
    }
   },
   "outputs": [],
   "source": [
    "X_train, X_test, y_train, y_test = train_test_split(X_samp, y_samp, test_size=0.3, random_state=59,stratify = y_samp)"
   ]
  },
  {
   "cell_type": "code",
   "execution_count": 24,
   "metadata": {
    "ExecuteTime": {
     "end_time": "2020-02-20T05:09:43.026000Z",
     "start_time": "2020-02-20T05:09:43.009000Z"
    }
   },
   "outputs": [],
   "source": [
    "#3번 0219 \n",
    "train_ds = lgb.Dataset(X_train, label = y_train)\n",
    "test_ds = lgb.Dataset(X_test, label = y_test) \n",
    "\n",
    "params = {\n",
    "    'boosting_type': 'gbdt',\n",
    "    'objective': 'multiclass',\n",
    "    'num_class': train_y.nunique(),\n",
    "    'metric': {'multi_logloss','multi_logloss'},\n",
    "    'class_weight': None, \n",
    "    'colsample_bytree': 1.0,\n",
    "    'learning_rate': 0.01,\n",
    "    'max_depth': 11,\n",
    "    'min_child_samples': 20,\n",
    "    'min_child_weight': 0.001,\n",
    "    'min_split_gain': 0.0,\n",
    "    'n_jobs': -1,\n",
    "    'num_leaves': 21, \n",
    "    'random_state': 1059,\n",
    "    'reg_alpha': 0.0,\n",
    "    'reg_lambda': 0.0,\n",
    "    'subsample': 1.0, \n",
    "    'subsample_for_bin': 200000,\n",
    "    'subsample_freq': 0,\n",
    "}"
   ]
  },
  {
   "cell_type": "markdown",
   "metadata": {},
   "source": [
    "## Modeling"
   ]
  },
  {
   "cell_type": "code",
   "execution_count": 26,
   "metadata": {
    "ExecuteTime": {
     "end_time": "2020-02-20T06:51:27.322000Z",
     "start_time": "2020-02-20T06:03:14.531000Z"
    },
    "scrolled": true
   },
   "outputs": [
    {
     "name": "stdout",
     "output_type": "stream",
     "text": [
      "Training until validation scores don't improve for 100 rounds\n",
      "[50]\tTrain's multi_logloss: 1.51313\tTest's multi_logloss: 1.51477\n",
      "[100]\tTrain's multi_logloss: 1.02601\tTest's multi_logloss: 1.02846\n",
      "[150]\tTrain's multi_logloss: 0.759466\tTest's multi_logloss: 0.762488\n",
      "[200]\tTrain's multi_logloss: 0.597371\tTest's multi_logloss: 0.60113\n",
      "[250]\tTrain's multi_logloss: 0.493939\tTest's multi_logloss: 0.498237\n",
      "[300]\tTrain's multi_logloss: 0.425409\tTest's multi_logloss: 0.43022\n",
      "[350]\tTrain's multi_logloss: 0.378441\tTest's multi_logloss: 0.38381\n",
      "[400]\tTrain's multi_logloss: 0.345018\tTest's multi_logloss: 0.351002\n",
      "[450]\tTrain's multi_logloss: 0.320541\tTest's multi_logloss: 0.327048\n",
      "[500]\tTrain's multi_logloss: 0.301762\tTest's multi_logloss: 0.308895\n",
      "[550]\tTrain's multi_logloss: 0.286971\tTest's multi_logloss: 0.294826\n",
      "[600]\tTrain's multi_logloss: 0.2751\tTest's multi_logloss: 0.283606\n",
      "[650]\tTrain's multi_logloss: 0.26538\tTest's multi_logloss: 0.27446\n",
      "[700]\tTrain's multi_logloss: 0.257158\tTest's multi_logloss: 0.266813\n",
      "[750]\tTrain's multi_logloss: 0.25016\tTest's multi_logloss: 0.260431\n",
      "[800]\tTrain's multi_logloss: 0.243949\tTest's multi_logloss: 0.254807\n",
      "[850]\tTrain's multi_logloss: 0.238566\tTest's multi_logloss: 0.249978\n",
      "[900]\tTrain's multi_logloss: 0.233833\tTest's multi_logloss: 0.245786\n",
      "[950]\tTrain's multi_logloss: 0.22945\tTest's multi_logloss: 0.241927\n",
      "[1000]\tTrain's multi_logloss: 0.225286\tTest's multi_logloss: 0.238365\n",
      "[1050]\tTrain's multi_logloss: 0.221502\tTest's multi_logloss: 0.235129\n",
      "[1100]\tTrain's multi_logloss: 0.217923\tTest's multi_logloss: 0.232059\n",
      "[1150]\tTrain's multi_logloss: 0.214533\tTest's multi_logloss: 0.229137\n",
      "[1200]\tTrain's multi_logloss: 0.211379\tTest's multi_logloss: 0.226438\n",
      "[1250]\tTrain's multi_logloss: 0.208288\tTest's multi_logloss: 0.223799\n",
      "[1300]\tTrain's multi_logloss: 0.205302\tTest's multi_logloss: 0.221236\n",
      "[1350]\tTrain's multi_logloss: 0.202449\tTest's multi_logloss: 0.218789\n",
      "[1400]\tTrain's multi_logloss: 0.199742\tTest's multi_logloss: 0.216497\n",
      "[1450]\tTrain's multi_logloss: 0.197106\tTest's multi_logloss: 0.214277\n",
      "[1500]\tTrain's multi_logloss: 0.194533\tTest's multi_logloss: 0.212068\n",
      "[1550]\tTrain's multi_logloss: 0.192128\tTest's multi_logloss: 0.210015\n",
      "[1600]\tTrain's multi_logloss: 0.189817\tTest's multi_logloss: 0.20805\n",
      "[1650]\tTrain's multi_logloss: 0.187467\tTest's multi_logloss: 0.206075\n",
      "[1700]\tTrain's multi_logloss: 0.185135\tTest's multi_logloss: 0.204153\n",
      "[1750]\tTrain's multi_logloss: 0.182957\tTest's multi_logloss: 0.202342\n",
      "[1800]\tTrain's multi_logloss: 0.180796\tTest's multi_logloss: 0.200534\n",
      "[1850]\tTrain's multi_logloss: 0.178697\tTest's multi_logloss: 0.198753\n",
      "[1900]\tTrain's multi_logloss: 0.176686\tTest's multi_logloss: 0.19706\n",
      "[1950]\tTrain's multi_logloss: 0.174699\tTest's multi_logloss: 0.195389\n",
      "[2000]\tTrain's multi_logloss: 0.172768\tTest's multi_logloss: 0.193786\n",
      "[2050]\tTrain's multi_logloss: 0.170961\tTest's multi_logloss: 0.192266\n",
      "[2100]\tTrain's multi_logloss: 0.169109\tTest's multi_logloss: 0.190709\n",
      "[2150]\tTrain's multi_logloss: 0.167287\tTest's multi_logloss: 0.18917\n",
      "[2200]\tTrain's multi_logloss: 0.16554\tTest's multi_logloss: 0.187695\n",
      "[2250]\tTrain's multi_logloss: 0.163822\tTest's multi_logloss: 0.186253\n",
      "[2300]\tTrain's multi_logloss: 0.162145\tTest's multi_logloss: 0.184857\n",
      "[2350]\tTrain's multi_logloss: 0.160491\tTest's multi_logloss: 0.183462\n",
      "[2400]\tTrain's multi_logloss: 0.158888\tTest's multi_logloss: 0.18211\n",
      "[2450]\tTrain's multi_logloss: 0.157333\tTest's multi_logloss: 0.180814\n",
      "[2500]\tTrain's multi_logloss: 0.155811\tTest's multi_logloss: 0.179534\n",
      "[2550]\tTrain's multi_logloss: 0.154329\tTest's multi_logloss: 0.178299\n",
      "[2600]\tTrain's multi_logloss: 0.152901\tTest's multi_logloss: 0.177122\n",
      "[2650]\tTrain's multi_logloss: 0.151494\tTest's multi_logloss: 0.175956\n",
      "[2700]\tTrain's multi_logloss: 0.150131\tTest's multi_logloss: 0.174817\n",
      "Did not meet early stopping. Best iteration is:\n",
      "[2700]\tTrain's multi_logloss: 0.150131\tTest's multi_logloss: 0.174817\n"
     ]
    }
   ],
   "source": [
    "evaluation_results = {}\n",
    "lgmb_model = lgb.train(params, train_ds,num_boost_round= 2700, \n",
    "                       valid_sets = [train_ds,test_ds], valid_names=['Train', 'Test'],\n",
    "                       evals_result=evaluation_results,\n",
    "                       verbose_eval=50, early_stopping_rounds=100)"
   ]
  },
  {
   "cell_type": "code",
   "execution_count": 27,
   "metadata": {
    "ExecuteTime": {
     "end_time": "2020-02-20T06:51:28.606000Z",
     "start_time": "2020-02-20T06:51:28.001000Z"
    }
   },
   "outputs": [
    {
     "data": {
      "image/png": "[encoded data removed]",
      "text/plain": [
       "<Figure size 1080x288 with 2 Axes>"
      ]
     },
     "metadata": {
      "needs_background": "light"
     },
     "output_type": "display_data"
    }
   ],
   "source": [
    "fig, axs = plt.subplots(1, 2, figsize=[15, 4])\n",
    "\n",
    "# Plot the log loss during training\n",
    "axs[0].plot(evaluation_results['Train']['multi_logloss'], label='Train')\n",
    "axs[0].plot(evaluation_results['Test']['multi_logloss'], label='Test')\n",
    "axs[0].set_ylabel('Log loss')\n",
    "axs[0].set_xlabel('Boosting round')\n",
    "axs[0].set_title('Training performance')\n",
    "axs[0].legend()\n",
    "\n",
    "# Plot feature importance\n",
    "importances = pd.DataFrame({'features': lgmb_model.feature_name(), \n",
    "                            'importance': lgmb_model.feature_importance()}).sort_values('importance', ascending=False).head(10)\n",
    "axs[1].bar(x=np.arange(len(importances)), height=importances['importance'])\n",
    "axs[1].set_xticks(np.arange(len(importances)))\n",
    "axs[1].set_xticklabels(importances['features'])\n",
    "axs[1].set_ylabel('Feature importance (# times used to split)')\n",
    "axs[1].set_title('Feature importance')\n",
    "plt.xticks(rotation=45)\n",
    "\n",
    "plt.show()"
   ]
  },
  {
   "cell_type": "code",
   "execution_count": 28,
   "metadata": {
    "ExecuteTime": {
     "end_time": "2020-02-20T07:00:53.289000Z",
     "start_time": "2020-02-20T06:51:29.333000Z"
    }
   },
   "outputs": [],
   "source": [
    "train_y_pred = lgmb_model.predict(X_test)\n",
    "real_y_pred = lgmb_model.predict(test_X)"
   ]
  },
  {
   "cell_type": "code",
   "execution_count": 29,
   "metadata": {
    "ExecuteTime": {
     "end_time": "2020-02-20T07:00:54.302000Z",
     "start_time": "2020-02-20T07:00:54.050000Z"
    },
    "scrolled": true
   },
   "outputs": [
    {
     "data": {
      "text/plain": [
       "0.1748170425567616"
      ]
     },
     "execution_count": 29,
     "metadata": {},
     "output_type": "execute_result"
    }
   ],
   "source": [
    "#log_loss\n",
    "log_loss(y_test,train_y_pred,labels= list(set(y_test)))"
   ]
  },
  {
   "cell_type": "code",
   "execution_count": 30,
   "metadata": {
    "ExecuteTime": {
     "end_time": "2020-02-20T07:00:55.057000Z",
     "start_time": "2020-02-20T07:00:55.031000Z"
    },
    "scrolled": false
   },
   "outputs": [
    {
     "data": {
      "text/html": [
       "<div>\n",
       "<style scoped>\n",
       "    .dataframe tbody tr th:only-of-type {\n",
       "        vertical-align: middle;\n",
       "    }\n",
       "\n",
       "    .dataframe tbody tr th {\n",
       "        vertical-align: top;\n",
       "    }\n",
       "\n",
       "    .dataframe thead th {\n",
       "        text-align: right;\n",
       "    }\n",
       "</style>\n",
       "<table border=\"1\" class=\"dataframe\">\n",
       "  <thead>\n",
       "    <tr style=\"text-align: right;\">\n",
       "      <th></th>\n",
       "      <th>importance</th>\n",
       "    </tr>\n",
       "  </thead>\n",
       "  <tbody>\n",
       "    <tr>\n",
       "      <td>fiberMag_u-g</td>\n",
       "      <td>38111</td>\n",
       "    </tr>\n",
       "    <tr>\n",
       "      <td>modelMag_u-g</td>\n",
       "      <td>37925</td>\n",
       "    </tr>\n",
       "    <tr>\n",
       "      <td>psfMag_u-g</td>\n",
       "      <td>37209</td>\n",
       "    </tr>\n",
       "    <tr>\n",
       "      <td>petroMag_u-g</td>\n",
       "      <td>36659</td>\n",
       "    </tr>\n",
       "    <tr>\n",
       "      <td>psfMag_g-r</td>\n",
       "      <td>36080</td>\n",
       "    </tr>\n",
       "    <tr>\n",
       "      <td>modelMag_r-i</td>\n",
       "      <td>36045</td>\n",
       "    </tr>\n",
       "    <tr>\n",
       "      <td>fiberMag_g-r</td>\n",
       "      <td>35221</td>\n",
       "    </tr>\n",
       "    <tr>\n",
       "      <td>psfMag_i-z</td>\n",
       "      <td>34736</td>\n",
       "    </tr>\n",
       "    <tr>\n",
       "      <td>modelMag_i-z</td>\n",
       "      <td>33491</td>\n",
       "    </tr>\n",
       "    <tr>\n",
       "      <td>fiberMag_i-z</td>\n",
       "      <td>33277</td>\n",
       "    </tr>\n",
       "  </tbody>\n",
       "</table>\n",
       "</div>"
      ],
      "text/plain": [
       "              importance\n",
       "fiberMag_u-g       38111\n",
       "modelMag_u-g       37925\n",
       "psfMag_u-g         37209\n",
       "petroMag_u-g       36659\n",
       "psfMag_g-r         36080\n",
       "modelMag_r-i       36045\n",
       "fiberMag_g-r       35221\n",
       "psfMag_i-z         34736\n",
       "modelMag_i-z       33491\n",
       "fiberMag_i-z       33277"
      ]
     },
     "execution_count": 30,
     "metadata": {},
     "output_type": "execute_result"
    }
   ],
   "source": [
    "feature_df = pd.DataFrame(lgmb_model.feature_importance(), index= train_X.columns,columns= ['importance']).sort_values('importance',ascending = False)\n",
    "feature_df.head(10)"
   ]
  },
  {
   "cell_type": "code",
   "execution_count": 31,
   "metadata": {
    "ExecuteTime": {
     "end_time": "2020-02-20T07:00:56.325000Z",
     "start_time": "2020-02-20T07:00:55.777000Z"
    }
   },
   "outputs": [],
   "source": [
    "submission = pd.DataFrame(data=real_y_pred, columns=sample_submission_df.columns, index=sample_submission_df.index)\n",
    "submission.to_csv(f'submission_lightbgm_sam_tune_outlier_add_only({log_loss(y_test,train_y_pred,labels= list(set(y_test)))}).csv', index=True)"
   ]
  },
  {
   "cell_type": "markdown",
   "metadata": {},
   "source": [
    "## Gridsearch_cv"
   ]
  },
  {
   "cell_type": "code",
   "execution_count": null,
   "metadata": {
    "ExecuteTime": {
     "end_time": "2020-02-18T19:51:37.413000Z",
     "start_time": "2020-02-18T19:51:19.033Z"
    }
   },
   "outputs": [],
   "source": [
    "# from sklearn.feature_selection import SelectKBest\n",
    "# model_kbest = SelectKBest()\n",
    "# from sklearn.pipeline import Pipeline"
   ]
  },
  {
   "cell_type": "code",
   "execution_count": null,
   "metadata": {
    "ExecuteTime": {
     "end_time": "2020-02-18T19:51:37.414000Z",
     "start_time": "2020-02-18T19:51:19.034Z"
    }
   },
   "outputs": [],
   "source": [
    "# #최적의 변수를 찾기 위한 KBest 함수 불러오기\n",
    "# #파이프라인 구축\n",
    "# pipe_lgbm = Pipeline([('lgbm',lgbm_c)])\n",
    "# #파라미터 생성\n",
    "# params_lgbm = {\n",
    "#           \"lgbm__max_depth\": [15,20,25],\n",
    "#          \"lgbm__learning_rate\": [0.001],\n",
    "#          \"lgbm__num_leaves\": [15,20,25],\n",
    "#          \"lgbm__n_estimators\": [200,300,400,500],\n",
    "#          \"lgbm__random_state\": [42]}"
   ]
  },
  {
   "cell_type": "code",
   "execution_count": null,
   "metadata": {
    "ExecuteTime": {
     "end_time": "2020-02-18T19:51:37.415000Z",
     "start_time": "2020-02-18T19:51:19.036Z"
    }
   },
   "outputs": [],
   "source": [
    "# #최적의 파라미터 탐색\n",
    "# from sklearn.model_selection import GridSearchCV\n",
    "# grid_search = GridSearchCV(pipe_lgbm, param_grid = params_lgbm,\n",
    "# #                           cv=3, n_jobs=-1, verbose=10)"
   ]
  },
  {
   "cell_type": "code",
   "execution_count": null,
   "metadata": {
    "ExecuteTime": {
     "end_time": "2020-02-18T19:51:37.416000Z",
     "start_time": "2020-02-18T19:51:19.038Z"
    }
   },
   "outputs": [],
   "source": [
    "# grid_search.fit(X_train, y_train)"
   ]
  },
  {
   "cell_type": "code",
   "execution_count": null,
   "metadata": {
    "ExecuteTime": {
     "end_time": "2020-02-18T19:51:37.417000Z",
     "start_time": "2020-02-18T19:51:19.040Z"
    }
   },
   "outputs": [],
   "source": [
    "# lgbm_grid = grid_search.best_estimator_\n",
    "# lgbm_grid"
   ]
  },
  {
   "cell_type": "code",
   "execution_count": null,
   "metadata": {},
   "outputs": [],
   "source": []
  }
 ],
 "metadata": {
  "kernelspec": {
   "display_name": "Python 3",
   "language": "python",
   "name": "python3"
  },
  "language_info": {
   "codemirror_mode": {
    "name": "ipython",
    "version": 3
   },
   "file_extension": ".py",
   "mimetype": "text/x-python",
   "name": "python",
   "nbconvert_exporter": "python",
   "pygments_lexer": "ipython3",
   "version": "3.6.9"
  },
  "varInspector": {
   "cols": {
    "lenName": 16,
    "lenType": 16,
    "lenVar": 40
   },
   "kernels_config": {
    "python": {
     "delete_cmd_postfix": "",
     "delete_cmd_prefix": "del ",
     "library": "var_list.py",
     "varRefreshCmd": "print(var_dic_list())"
    },
    "r": {
     "delete_cmd_postfix": ") ",
     "delete_cmd_prefix": "rm(",
     "library": "var_list.r",
     "varRefreshCmd": "cat(var_dic_list()) "
    }
   },
   "types_to_exclude": [
    "module",
    "function",
    "builtin_function_or_method",
    "instance",
    "_Feature"
   ],
   "window_display": false
  }
 },
 "nbformat": 4,
 "nbformat_minor": 2
}
