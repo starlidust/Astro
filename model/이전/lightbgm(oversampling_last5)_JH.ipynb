{
 "cells": [
  {
   "cell_type": "markdown",
   "metadata": {},
   "source": [
    "# out_fiberID\n",
    "* 기존변수 + u-g,g-r,r-i,i-z만 추가변수로 사용\n",
    "* fiber_ID를 제외하고 진행해봄\n",
    "* 제출결과 : 0.4076887978\n",
    "-> oversample자체가 다소 overfitting되는듯"
   ]
  },
  {
   "cell_type": "code",
   "execution_count": 1,
   "metadata": {
    "ExecuteTime": {
     "end_time": "2020-02-22T04:10:43.925431Z",
     "start_time": "2020-02-22T04:10:40.209578Z"
    }
   },
   "outputs": [],
   "source": [
    "import pandas as pd\n",
    "import numpy as np\n",
    "import matplotlib.pyplot as plt\n",
    "import seaborn as sns\n",
    "\n",
    "from sklearn.ensemble import RandomForestClassifier\n",
    "from sklearn.model_selection import train_test_split\n",
    "from sklearn.metrics import confusion_matrix\n",
    "from sklearn.metrics import log_loss\n",
    "\n",
    "\n",
    "import lightgbm as lgb\n",
    "from sklearn.model_selection import KFold"
   ]
  },
  {
   "cell_type": "code",
   "execution_count": 2,
   "metadata": {
    "ExecuteTime": {
     "end_time": "2020-02-22T04:10:43.937431Z",
     "start_time": "2020-02-22T04:10:43.934430Z"
    }
   },
   "outputs": [],
   "source": [
    "# from google.colab import drive\n",
    "# drive.mount('/content/drive')"
   ]
  },
  {
   "cell_type": "code",
   "execution_count": 3,
   "metadata": {
    "ExecuteTime": {
     "end_time": "2020-02-22T04:10:43.972429Z",
     "start_time": "2020-02-22T04:10:43.944430Z"
    }
   },
   "outputs": [],
   "source": [
    "# #colab용\n",
    "# import os\n",
    "# os.chdir('/content/drive/My Drive/Colab Notebooks/Dacon/천체관측/')"
   ]
  },
  {
   "cell_type": "code",
   "execution_count": 71,
   "metadata": {
    "ExecuteTime": {
     "end_time": "2020-02-22T05:27:46.846804Z",
     "start_time": "2020-02-22T05:27:45.212140Z"
    }
   },
   "outputs": [],
   "source": [
    "# path = \"/content/drive/My Drive/Colab Notebooks/Dacon/천체관측/data/\" #colab\n",
    "path = \"./data/\" #local\n",
    "train_df = pd.read_csv(path+'train.csv',index_col=0)\n",
    "test_df = pd.read_csv(path+'test.csv',index_col=0)\n",
    "sample_submission_df = pd.read_csv(path+'sample_submission.csv',index_col=0)\n",
    "pd.options.display.max_columns = 30"
   ]
  },
  {
   "cell_type": "markdown",
   "metadata": {},
   "source": [
    "### oversampling"
   ]
  },
  {
   "cell_type": "code",
   "execution_count": 72,
   "metadata": {
    "ExecuteTime": {
     "end_time": "2020-02-22T05:27:49.242222Z",
     "start_time": "2020-02-22T05:27:48.957242Z"
    }
   },
   "outputs": [
    {
     "data": {
      "text/plain": [
       "(198136, 22)"
      ]
     },
     "execution_count": 72,
     "metadata": {},
     "output_type": "execute_result"
    }
   ],
   "source": [
    "# 전부를 오버샘플링하지 않고 하위 5개만 오버샘플림을 징행한다\n",
    "last5 = train_df.type.value_counts().tail().index\n",
    "last5_df = train_df[train_df.type.apply(lambda x : x in last5)]\n",
    "not_last5_df = train_df[train_df.type.apply(lambda x : x not in last5)]\n",
    "not_last5_df.shape"
   ]
  },
  {
   "cell_type": "code",
   "execution_count": 73,
   "metadata": {
    "ExecuteTime": {
     "end_time": "2020-02-22T05:27:50.438272Z",
     "start_time": "2020-02-22T05:27:50.431273Z"
    }
   },
   "outputs": [
    {
     "data": {
      "text/plain": [
       "STAR_SUB_DWARF        1154\n",
       "STAR_BROWN_DWARF       500\n",
       "SKY                    127\n",
       "SERENDIPITY_MANUAL      61\n",
       "STAR_PN                 13\n",
       "Name: type, dtype: int64"
      ]
     },
     "execution_count": 73,
     "metadata": {},
     "output_type": "execute_result"
    }
   ],
   "source": [
    "last5_df.type.value_counts()"
   ]
  },
  {
   "cell_type": "code",
   "execution_count": 80,
   "metadata": {
    "ExecuteTime": {
     "end_time": "2020-02-22T05:30:08.649583Z",
     "start_time": "2020-02-22T05:30:08.628576Z"
    }
   },
   "outputs": [
    {
     "data": {
      "text/html": [
       "<div>\n",
       "<style scoped>\n",
       "    .dataframe tbody tr th:only-of-type {\n",
       "        vertical-align: middle;\n",
       "    }\n",
       "\n",
       "    .dataframe tbody tr th {\n",
       "        vertical-align: top;\n",
       "    }\n",
       "\n",
       "    .dataframe thead th {\n",
       "        text-align: right;\n",
       "    }\n",
       "</style>\n",
       "<table border=\"1\" class=\"dataframe\">\n",
       "  <thead>\n",
       "    <tr style=\"text-align: right;\">\n",
       "      <th></th>\n",
       "      <th>type</th>\n",
       "      <th>fiberID</th>\n",
       "      <th>psfMag_u</th>\n",
       "      <th>psfMag_g</th>\n",
       "      <th>psfMag_r</th>\n",
       "      <th>psfMag_i</th>\n",
       "      <th>psfMag_z</th>\n",
       "      <th>fiberMag_u</th>\n",
       "      <th>fiberMag_g</th>\n",
       "      <th>fiberMag_r</th>\n",
       "      <th>fiberMag_i</th>\n",
       "      <th>fiberMag_z</th>\n",
       "      <th>petroMag_u</th>\n",
       "      <th>petroMag_g</th>\n",
       "      <th>petroMag_r</th>\n",
       "      <th>petroMag_i</th>\n",
       "      <th>petroMag_z</th>\n",
       "      <th>modelMag_u</th>\n",
       "      <th>modelMag_g</th>\n",
       "      <th>modelMag_r</th>\n",
       "      <th>modelMag_i</th>\n",
       "      <th>modelMag_z</th>\n",
       "    </tr>\n",
       "    <tr>\n",
       "      <th>id</th>\n",
       "      <th></th>\n",
       "      <th></th>\n",
       "      <th></th>\n",
       "      <th></th>\n",
       "      <th></th>\n",
       "      <th></th>\n",
       "      <th></th>\n",
       "      <th></th>\n",
       "      <th></th>\n",
       "      <th></th>\n",
       "      <th></th>\n",
       "      <th></th>\n",
       "      <th></th>\n",
       "      <th></th>\n",
       "      <th></th>\n",
       "      <th></th>\n",
       "      <th></th>\n",
       "      <th></th>\n",
       "      <th></th>\n",
       "      <th></th>\n",
       "      <th></th>\n",
       "      <th></th>\n",
       "    </tr>\n",
       "  </thead>\n",
       "  <tbody>\n",
       "    <tr>\n",
       "      <th>130</th>\n",
       "      <td>STAR_BROWN_DWARF</td>\n",
       "      <td>307</td>\n",
       "      <td>24.000698</td>\n",
       "      <td>24.130331</td>\n",
       "      <td>22.397570</td>\n",
       "      <td>19.683266</td>\n",
       "      <td>17.899966</td>\n",
       "      <td>22.140558</td>\n",
       "      <td>23.953209</td>\n",
       "      <td>22.395944</td>\n",
       "      <td>20.004330</td>\n",
       "      <td>18.254870</td>\n",
       "      <td>23.335455</td>\n",
       "      <td>23.888990</td>\n",
       "      <td>22.326547</td>\n",
       "      <td>19.869744</td>\n",
       "      <td>17.979923</td>\n",
       "      <td>23.455427</td>\n",
       "      <td>24.435867</td>\n",
       "      <td>21.982169</td>\n",
       "      <td>19.627870</td>\n",
       "      <td>17.862923</td>\n",
       "    </tr>\n",
       "    <tr>\n",
       "      <th>178</th>\n",
       "      <td>STAR_SUB_DWARF</td>\n",
       "      <td>473</td>\n",
       "      <td>22.513232</td>\n",
       "      <td>20.303728</td>\n",
       "      <td>18.669804</td>\n",
       "      <td>17.335240</td>\n",
       "      <td>16.620192</td>\n",
       "      <td>22.980001</td>\n",
       "      <td>20.680711</td>\n",
       "      <td>18.988550</td>\n",
       "      <td>17.660633</td>\n",
       "      <td>16.957475</td>\n",
       "      <td>22.713534</td>\n",
       "      <td>20.378224</td>\n",
       "      <td>18.760992</td>\n",
       "      <td>17.400832</td>\n",
       "      <td>16.655114</td>\n",
       "      <td>23.064942</td>\n",
       "      <td>20.272060</td>\n",
       "      <td>18.684383</td>\n",
       "      <td>17.331097</td>\n",
       "      <td>16.615294</td>\n",
       "    </tr>\n",
       "    <tr>\n",
       "      <th>233</th>\n",
       "      <td>STAR_SUB_DWARF</td>\n",
       "      <td>18</td>\n",
       "      <td>25.281941</td>\n",
       "      <td>21.123560</td>\n",
       "      <td>19.451201</td>\n",
       "      <td>18.191930</td>\n",
       "      <td>17.539610</td>\n",
       "      <td>25.319303</td>\n",
       "      <td>21.542624</td>\n",
       "      <td>19.770037</td>\n",
       "      <td>18.532062</td>\n",
       "      <td>17.800853</td>\n",
       "      <td>25.219737</td>\n",
       "      <td>21.223090</td>\n",
       "      <td>19.524615</td>\n",
       "      <td>18.261213</td>\n",
       "      <td>17.567673</td>\n",
       "      <td>24.509561</td>\n",
       "      <td>21.291082</td>\n",
       "      <td>19.455164</td>\n",
       "      <td>18.196549</td>\n",
       "      <td>17.504771</td>\n",
       "    </tr>\n",
       "    <tr>\n",
       "      <th>374</th>\n",
       "      <td>STAR_BROWN_DWARF</td>\n",
       "      <td>454</td>\n",
       "      <td>24.500492</td>\n",
       "      <td>25.904337</td>\n",
       "      <td>23.313455</td>\n",
       "      <td>20.724750</td>\n",
       "      <td>18.827761</td>\n",
       "      <td>24.477704</td>\n",
       "      <td>24.866447</td>\n",
       "      <td>24.107851</td>\n",
       "      <td>21.187014</td>\n",
       "      <td>19.167432</td>\n",
       "      <td>23.176587</td>\n",
       "      <td>25.175837</td>\n",
       "      <td>24.938311</td>\n",
       "      <td>20.913233</td>\n",
       "      <td>18.823344</td>\n",
       "      <td>25.447687</td>\n",
       "      <td>25.691341</td>\n",
       "      <td>23.336237</td>\n",
       "      <td>20.731457</td>\n",
       "      <td>18.868444</td>\n",
       "    </tr>\n",
       "    <tr>\n",
       "      <th>693</th>\n",
       "      <td>SKY</td>\n",
       "      <td>296</td>\n",
       "      <td>23.037785</td>\n",
       "      <td>24.284405</td>\n",
       "      <td>23.731336</td>\n",
       "      <td>23.368552</td>\n",
       "      <td>21.608077</td>\n",
       "      <td>22.862479</td>\n",
       "      <td>25.740279</td>\n",
       "      <td>24.637647</td>\n",
       "      <td>23.034074</td>\n",
       "      <td>22.069032</td>\n",
       "      <td>23.458058</td>\n",
       "      <td>27.641061</td>\n",
       "      <td>25.728314</td>\n",
       "      <td>24.174830</td>\n",
       "      <td>23.510288</td>\n",
       "      <td>22.021153</td>\n",
       "      <td>25.627174</td>\n",
       "      <td>24.336437</td>\n",
       "      <td>23.670336</td>\n",
       "      <td>21.695816</td>\n",
       "    </tr>\n",
       "  </tbody>\n",
       "</table>\n",
       "</div>"
      ],
      "text/plain": [
       "                 type  fiberID   psfMag_u   psfMag_g   psfMag_r   psfMag_i  \\\n",
       "id                                                                           \n",
       "130  STAR_BROWN_DWARF      307  24.000698  24.130331  22.397570  19.683266   \n",
       "178    STAR_SUB_DWARF      473  22.513232  20.303728  18.669804  17.335240   \n",
       "233    STAR_SUB_DWARF       18  25.281941  21.123560  19.451201  18.191930   \n",
       "374  STAR_BROWN_DWARF      454  24.500492  25.904337  23.313455  20.724750   \n",
       "693               SKY      296  23.037785  24.284405  23.731336  23.368552   \n",
       "\n",
       "      psfMag_z  fiberMag_u  fiberMag_g  fiberMag_r  fiberMag_i  fiberMag_z  \\\n",
       "id                                                                           \n",
       "130  17.899966   22.140558   23.953209   22.395944   20.004330   18.254870   \n",
       "178  16.620192   22.980001   20.680711   18.988550   17.660633   16.957475   \n",
       "233  17.539610   25.319303   21.542624   19.770037   18.532062   17.800853   \n",
       "374  18.827761   24.477704   24.866447   24.107851   21.187014   19.167432   \n",
       "693  21.608077   22.862479   25.740279   24.637647   23.034074   22.069032   \n",
       "\n",
       "     petroMag_u  petroMag_g  petroMag_r  petroMag_i  petroMag_z  modelMag_u  \\\n",
       "id                                                                            \n",
       "130   23.335455   23.888990   22.326547   19.869744   17.979923   23.455427   \n",
       "178   22.713534   20.378224   18.760992   17.400832   16.655114   23.064942   \n",
       "233   25.219737   21.223090   19.524615   18.261213   17.567673   24.509561   \n",
       "374   23.176587   25.175837   24.938311   20.913233   18.823344   25.447687   \n",
       "693   23.458058   27.641061   25.728314   24.174830   23.510288   22.021153   \n",
       "\n",
       "     modelMag_g  modelMag_r  modelMag_i  modelMag_z  \n",
       "id                                                   \n",
       "130   24.435867   21.982169   19.627870   17.862923  \n",
       "178   20.272060   18.684383   17.331097   16.615294  \n",
       "233   21.291082   19.455164   18.196549   17.504771  \n",
       "374   25.691341   23.336237   20.731457   18.868444  \n",
       "693   25.627174   24.336437   23.670336   21.695816  "
      ]
     },
     "execution_count": 80,
     "metadata": {},
     "output_type": "execute_result"
    }
   ],
   "source": [
    "last5_df.head()"
   ]
  },
  {
   "cell_type": "code",
   "execution_count": 98,
   "metadata": {
    "ExecuteTime": {
     "end_time": "2020-02-22T05:32:34.707307Z",
     "start_time": "2020-02-22T05:32:34.433320Z"
    }
   },
   "outputs": [
    {
     "data": {
      "text/plain": [
       "<matplotlib.legend.Legend at 0x1d824042f98>"
      ]
     },
     "execution_count": 98,
     "metadata": {},
     "output_type": "execute_result"
    },
    {
     "data": {
      "image/png": "[encoded data removed]",
      "text/plain": [
       "<Figure size 432x288 with 1 Axes>"
      ]
     },
     "metadata": {},
     "output_type": "display_data"
    }
   ],
   "source": [
    "#범위축소해서 비교\n",
    "s_train_df = last5_df[(last5_df.psfMag_u>10)&(last5_df.psfMag_u<30)]\n",
    "s_train_df = s_train_df[(s_train_df.psfMag_g>10)&(s_train_df.psfMag_g<30)]\n",
    "\n",
    "sns.scatterplot(x= 'psfMag_u', y= 'modelMag_u', hue = 'type', data = s_train_df)\n",
    "plt.legend(bbox_to_anchor=(1.04,1), loc=\"upper left\")"
   ]
  },
  {
   "cell_type": "code",
   "execution_count": 75,
   "metadata": {
    "ExecuteTime": {
     "end_time": "2020-02-22T05:28:06.755179Z",
     "start_time": "2020-02-22T05:28:06.749178Z"
    }
   },
   "outputs": [
    {
     "data": {
      "text/plain": [
       "(1855, 21)"
      ]
     },
     "execution_count": 75,
     "metadata": {},
     "output_type": "execute_result"
    }
   ],
   "source": [
    "from imblearn.over_sampling import SMOTE\n",
    "\n",
    "sm = SMOTE(random_state=42)\n",
    "\n",
    "y = last5_df.type\n",
    "X = last5_df.drop('type',axis = 1)\n",
    "\n",
    "X.shape"
   ]
  },
  {
   "cell_type": "code",
   "execution_count": 76,
   "metadata": {
    "ExecuteTime": {
     "end_time": "2020-02-22T05:28:07.303176Z",
     "start_time": "2020-02-22T05:28:07.276162Z"
    }
   },
   "outputs": [],
   "source": [
    "resample_X, resample_y = sm.fit_resample(X,y)"
   ]
  },
  {
   "cell_type": "code",
   "execution_count": 77,
   "metadata": {
    "ExecuteTime": {
     "end_time": "2020-02-22T05:28:08.430169Z",
     "start_time": "2020-02-22T05:28:08.422168Z"
    }
   },
   "outputs": [
    {
     "data": {
      "text/plain": [
       "(5770, 21)"
      ]
     },
     "execution_count": 77,
     "metadata": {},
     "output_type": "execute_result"
    }
   ],
   "source": [
    "resample_X.shape"
   ]
  },
  {
   "cell_type": "code",
   "execution_count": 78,
   "metadata": {
    "ExecuteTime": {
     "end_time": "2020-02-22T05:28:10.195300Z",
     "start_time": "2020-02-22T05:28:10.187290Z"
    }
   },
   "outputs": [],
   "source": [
    "new_train_last5 = pd.concat([resample_X,resample_y],axis = 1)\n",
    "new_train_last5 = new_train_last5[train_df.columns]"
   ]
  },
  {
   "cell_type": "code",
   "execution_count": 79,
   "metadata": {
    "ExecuteTime": {
     "end_time": "2020-02-22T05:28:11.517160Z",
     "start_time": "2020-02-22T05:28:11.045166Z"
    }
   },
   "outputs": [
    {
     "data": {
      "text/plain": [
       "<matplotlib.legend.Legend at 0x1d801928550>"
      ]
     },
     "execution_count": 79,
     "metadata": {},
     "output_type": "execute_result"
    },
    {
     "data": {
      "image/png": "[encoded data removed]",
      "text/plain": [
       "<Figure size 432x288 with 1 Axes>"
      ]
     },
     "metadata": {},
     "output_type": "display_data"
    }
   ],
   "source": [
    "#범위축소해서 비교\n",
    "s_train_df = new_train_last5[(new_train_last5.psfMag_u>10)&(new_train_last5.psfMag_u<30)]\n",
    "s_train_df = s_train_df[(s_train_df.psfMag_g>10)&(s_train_df.psfMag_g<30)]\n",
    "\n",
    "sns.scatterplot(x= 'psfMag_u', y= 'psfMag_g', hue = 'type', data = s_train_df)\n",
    "plt.legend(bbox_to_anchor=(1.04,1), loc=\"upper left\")"
   ]
  },
  {
   "cell_type": "code",
   "execution_count": 26,
   "metadata": {
    "ExecuteTime": {
     "end_time": "2020-02-22T04:18:15.046035Z",
     "start_time": "2020-02-22T04:18:15.014020Z"
    }
   },
   "outputs": [
    {
     "data": {
      "text/plain": [
       "(203906, 22)"
      ]
     },
     "execution_count": 26,
     "metadata": {},
     "output_type": "execute_result"
    }
   ],
   "source": [
    "#concat oversample + 기존\n",
    "new_train = pd.concat([not_last5_df,new_train_last5])\n",
    "new_train.shape"
   ]
  },
  {
   "cell_type": "markdown",
   "metadata": {},
   "source": [
    "## DATA Setting"
   ]
  },
  {
   "cell_type": "code",
   "execution_count": 28,
   "metadata": {
    "ExecuteTime": {
     "end_time": "2020-02-22T04:19:00.865554Z",
     "start_time": "2020-02-22T04:19:00.770565Z"
    }
   },
   "outputs": [],
   "source": [
    "column_number = {}\n",
    "number_columns = {}\n",
    "for i, column in enumerate(sample_submission_df.columns):\n",
    "    column_number[column] = i\n",
    "    number_columns[i] = column\n",
    "    \n",
    "    \n",
    "def to_number(x, dic):\n",
    "    return dic[x]\n",
    "\n",
    "new_train['type_num'] = new_train['type'].apply(lambda x: to_number(x, column_number))\n"
   ]
  },
  {
   "cell_type": "code",
   "execution_count": 29,
   "metadata": {
    "ExecuteTime": {
     "end_time": "2020-02-22T04:19:01.258237Z",
     "start_time": "2020-02-22T04:19:01.252237Z"
    }
   },
   "outputs": [],
   "source": [
    "def add_minus_feature_all(data,test = False):\n",
    "    '''\n",
    "    combination으로 모든 변수들의 조합에 대해서 컬럼생성 \n",
    "    각 mag에서 가장 높은값의 filter를 받아오는 \"~~mag_MAX\"생성\n",
    "    결과 64개로 증가\n",
    "    '''\n",
    "    from itertools import combinations\n",
    "    n = 0\n",
    "    for count in range(5,21,5):\n",
    "        s = 2\n",
    "        if test == True :\n",
    "            s = 1\n",
    "        selected = data.columns[s:].values[n:count]\n",
    "        mag = str.split(selected[0],'_')[0]\n",
    "#         data[mag+\"_MAX\"] = data[selected].apply(lambda x : str.split(np.argmax(x),'_')[1],axis = 1)\n",
    "        for combi in list(combinations(selected,2)):\n",
    "            name_1st = str.split(combi[0],'_')[1]\n",
    "            name_2nd = str.split(combi[1],'_')[1]\n",
    "            data[mag+\"_\"+name_1st+\"-\"+name_2nd] = data[combi[0]]-data[combi[1]]\n",
    "        n=count\n",
    "    return data"
   ]
  },
  {
   "cell_type": "code",
   "execution_count": 30,
   "metadata": {
    "ExecuteTime": {
     "end_time": "2020-02-22T04:19:01.808839Z",
     "start_time": "2020-02-22T04:19:01.803829Z"
    }
   },
   "outputs": [],
   "source": [
    "def add_minus_feature(data,test = False):\n",
    "    '''\n",
    "    근접변수에 대해서만 컬럼생성 ex) 'fiberMag_u-g', 'fiberMag_g-r', 'fiberMag_r-i', 'fiberMag_i-z'\n",
    "    각 mag에서 가장 높은값의 filter를 받아오는 \"~~mag_MAX\"생성\n",
    "    결과 38개로 증가 \n",
    "    '''\n",
    "    from itertools import combinations\n",
    "    n = 0\n",
    "    m = 0\n",
    "    for count in range(5,21,5):\n",
    "        s = 2\n",
    "        if test == True :\n",
    "            s = 1\n",
    "        selected = data.columns[s:].values[n:count]\n",
    "        mag = str.split(selected[0],'_')[0]\n",
    "#         data[mag+\"_MAX\"] = data[selected].apply(lambda x : str.split(np.argmax(x),'_')[1],axis = 1)\n",
    "        for i in range(0,len(selected)):        \n",
    "            if i>0: \n",
    "                name_1st = str.split(m,'_')[1]\n",
    "                name_2nd = str.split(selected[i],'_')[1]\n",
    "                data[mag+\"_\"+name_1st+\"-\"+name_2nd] = data[m]-data[selected[i]]\n",
    "            m = selected[i]    \n",
    "        n=count\n",
    "    return data"
   ]
  },
  {
   "cell_type": "code",
   "execution_count": 31,
   "metadata": {
    "ExecuteTime": {
     "end_time": "2020-02-22T04:19:02.854995Z",
     "start_time": "2020-02-22T04:19:02.618971Z"
    }
   },
   "outputs": [],
   "source": [
    "train_df = add_minus_feature_all(new_train)\n",
    "test_df = add_minus_feature_all(test_df,True)"
   ]
  },
  {
   "cell_type": "code",
   "execution_count": 32,
   "metadata": {
    "ExecuteTime": {
     "end_time": "2020-02-22T04:19:03.465339Z",
     "start_time": "2020-02-22T04:19:03.461340Z"
    }
   },
   "outputs": [
    {
     "data": {
      "text/plain": [
       "((203906, 63), (10009, 61))"
      ]
     },
     "execution_count": 32,
     "metadata": {},
     "output_type": "execute_result"
    }
   ],
   "source": [
    "train_df.shape,test_df.shape"
   ]
  },
  {
   "cell_type": "code",
   "execution_count": 33,
   "metadata": {
    "ExecuteTime": {
     "end_time": "2020-02-22T04:19:04.754632Z",
     "start_time": "2020-02-22T04:19:04.750634Z"
    }
   },
   "outputs": [
    {
     "data": {
      "text/plain": [
       "Index(['type', 'fiberID', 'psfMag_u', 'psfMag_g', 'psfMag_r', 'psfMag_i',\n",
       "       'psfMag_z', 'fiberMag_u', 'fiberMag_g', 'fiberMag_r', 'fiberMag_i',\n",
       "       'fiberMag_z', 'petroMag_u', 'petroMag_g', 'petroMag_r', 'petroMag_i',\n",
       "       'petroMag_z', 'modelMag_u', 'modelMag_g', 'modelMag_r', 'modelMag_i',\n",
       "       'modelMag_z', 'type_num', 'psfMag_u-g', 'psfMag_u-r', 'psfMag_u-i',\n",
       "       'psfMag_u-z', 'psfMag_g-r', 'psfMag_g-i', 'psfMag_g-z', 'psfMag_r-i',\n",
       "       'psfMag_r-z', 'psfMag_i-z', 'fiberMag_u-g', 'fiberMag_u-r',\n",
       "       'fiberMag_u-i', 'fiberMag_u-z', 'fiberMag_g-r', 'fiberMag_g-i',\n",
       "       'fiberMag_g-z', 'fiberMag_r-i', 'fiberMag_r-z', 'fiberMag_i-z',\n",
       "       'petroMag_u-g', 'petroMag_u-r', 'petroMag_u-i', 'petroMag_u-z',\n",
       "       'petroMag_g-r', 'petroMag_g-i', 'petroMag_g-z', 'petroMag_r-i',\n",
       "       'petroMag_r-z', 'petroMag_i-z', 'modelMag_u-g', 'modelMag_u-r',\n",
       "       'modelMag_u-i', 'modelMag_u-z', 'modelMag_g-r', 'modelMag_g-i',\n",
       "       'modelMag_g-z', 'modelMag_r-i', 'modelMag_r-z', 'modelMag_i-z'],\n",
       "      dtype='object')"
      ]
     },
     "execution_count": 33,
     "metadata": {},
     "output_type": "execute_result"
    }
   ],
   "source": [
    "train_df.columns"
   ]
  },
  {
   "cell_type": "code",
   "execution_count": 37,
   "metadata": {
    "ExecuteTime": {
     "end_time": "2020-02-22T04:19:40.615397Z",
     "start_time": "2020-02-22T04:19:40.439400Z"
    }
   },
   "outputs": [],
   "source": [
    "train_X = train_df.drop(columns=['type', 'type_num','fiberID'], axis=1)\n",
    "train_y = train_df['type_num']\n",
    "test_X = test_df.drop(columns = ['fiberID'])"
   ]
  },
  {
   "cell_type": "code",
   "execution_count": 38,
   "metadata": {
    "ExecuteTime": {
     "end_time": "2020-02-22T04:19:41.288401Z",
     "start_time": "2020-02-22T04:19:41.050382Z"
    }
   },
   "outputs": [],
   "source": [
    "X_train, X_test, y_train, y_test = train_test_split(train_X, train_y, test_size=0.3, random_state=42,stratify = train_y)"
   ]
  },
  {
   "cell_type": "code",
   "execution_count": 39,
   "metadata": {
    "ExecuteTime": {
     "end_time": "2020-02-22T04:19:41.790359Z",
     "start_time": "2020-02-22T04:19:41.787358Z"
    }
   },
   "outputs": [],
   "source": [
    "train_ds = lgb.Dataset(X_train, label = y_train)\n",
    "test_ds = lgb.Dataset(X_test, label = y_test) "
   ]
  },
  {
   "cell_type": "code",
   "execution_count": 40,
   "metadata": {
    "ExecuteTime": {
     "end_time": "2020-02-22T04:19:42.286347Z",
     "start_time": "2020-02-22T04:19:42.280344Z"
    }
   },
   "outputs": [],
   "source": [
    "params = {\n",
    "    'boosting_type': 'gbdt',\n",
    "    'objective': 'multiclass',\n",
    "    'num_class': train_y.nunique(),\n",
    "    'metric': {'multi_logloss','multi_logloss'},\n",
    "    'num_leaves': 25,\n",
    "    'learning_rate': 0.05,\n",
    "    'max_depth' : 12,\n",
    "    'random_state' : 42\n",
    "}"
   ]
  },
  {
   "cell_type": "markdown",
   "metadata": {},
   "source": [
    "## Modeling"
   ]
  },
  {
   "cell_type": "code",
   "execution_count": 41,
   "metadata": {
    "ExecuteTime": {
     "end_time": "2020-02-22T04:23:42.491034Z",
     "start_time": "2020-02-22T04:19:42.785328Z"
    }
   },
   "outputs": [
    {
     "name": "stdout",
     "output_type": "stream",
     "text": [
      "Training until validation scores don't improve for 100 rounds\n",
      "[100]\tTrain's multi_logloss: 0.347028\tTest's multi_logloss: 0.405815\n",
      "[200]\tTrain's multi_logloss: 0.280994\tTest's multi_logloss: 0.373331\n",
      "[300]\tTrain's multi_logloss: 0.248401\tTest's multi_logloss: 0.369138\n",
      "[400]\tTrain's multi_logloss: 0.222806\tTest's multi_logloss: 0.367913\n",
      "[500]\tTrain's multi_logloss: 0.20224\tTest's multi_logloss: 0.368537\n",
      "Early stopping, best iteration is:\n",
      "[406]\tTrain's multi_logloss: 0.221425\tTest's multi_logloss: 0.367903\n"
     ]
    }
   ],
   "source": [
    "evaluation_results = {}\n",
    "lgmb_model = lgb.train(params, train_ds,num_boost_round= 2000, \n",
    "                       valid_sets = [train_ds,test_ds], valid_names=['Train', 'Test'],\n",
    "                       evals_result=evaluation_results,\n",
    "                       verbose_eval=100, early_stopping_rounds=100)"
   ]
  },
  {
   "cell_type": "code",
   "execution_count": 42,
   "metadata": {
    "ExecuteTime": {
     "end_time": "2020-02-22T04:23:43.291644Z",
     "start_time": "2020-02-22T04:23:43.047652Z"
    }
   },
   "outputs": [
    {
     "data": {
      "image/png": "[encoded data removed]",
      "text/plain": [
       "<Figure size 1080x288 with 2 Axes>"
      ]
     },
     "metadata": {},
     "output_type": "display_data"
    }
   ],
   "source": [
    "fig, axs = plt.subplots(1, 2, figsize=[15, 4])\n",
    "\n",
    "# Plot the log loss during training\n",
    "axs[0].plot(evaluation_results['Train']['multi_logloss'], label='Train')\n",
    "axs[0].plot(evaluation_results['Test']['multi_logloss'], label='Test')\n",
    "axs[0].set_ylabel('Log loss')\n",
    "axs[0].set_xlabel('Boosting round')\n",
    "axs[0].set_title('Training performance')\n",
    "axs[0].legend()\n",
    "\n",
    "# Plot feature importance\n",
    "importances = pd.DataFrame({'features': lgmb_model.feature_name(), \n",
    "                            'importance': lgmb_model.feature_importance()}).sort_values('importance', ascending=False).head(10)\n",
    "axs[1].bar(x=np.arange(len(importances)), height=importances['importance'])\n",
    "axs[1].set_xticks(np.arange(len(importances)))\n",
    "axs[1].set_xticklabels(importances['features'])\n",
    "axs[1].set_ylabel('Feature importance (# times used to split)')\n",
    "axs[1].set_title('Feature importance')\n",
    "plt.xticks(rotation=45)\n",
    "\n",
    "plt.show()"
   ]
  },
  {
   "cell_type": "code",
   "execution_count": 43,
   "metadata": {
    "ExecuteTime": {
     "end_time": "2020-02-22T04:24:29.298623Z",
     "start_time": "2020-02-22T04:23:43.785629Z"
    }
   },
   "outputs": [],
   "source": [
    "train_y_pred = lgmb_model.predict(X_test)\n",
    "real_y_pred = lgmb_model.predict(test_X)"
   ]
  },
  {
   "cell_type": "code",
   "execution_count": 44,
   "metadata": {
    "ExecuteTime": {
     "end_time": "2020-02-22T04:24:29.830904Z",
     "start_time": "2020-02-22T04:24:29.827903Z"
    }
   },
   "outputs": [
    {
     "data": {
      "text/plain": [
       "(61172, 19)"
      ]
     },
     "execution_count": 44,
     "metadata": {},
     "output_type": "execute_result"
    }
   ],
   "source": [
    "train_y_pred.shape"
   ]
  },
  {
   "cell_type": "code",
   "execution_count": 45,
   "metadata": {
    "ExecuteTime": {
     "end_time": "2020-02-22T04:24:30.886871Z",
     "start_time": "2020-02-22T04:24:30.771875Z"
    },
    "scrolled": true
   },
   "outputs": [
    {
     "data": {
      "text/plain": [
       "0.36790324073099373"
      ]
     },
     "execution_count": 45,
     "metadata": {},
     "output_type": "execute_result"
    }
   ],
   "source": [
    "#log_loss\n",
    "log_loss(y_test,train_y_pred,labels= list(set(y_test)))"
   ]
  },
  {
   "cell_type": "code",
   "execution_count": 46,
   "metadata": {
    "ExecuteTime": {
     "end_time": "2020-02-22T04:24:31.558071Z",
     "start_time": "2020-02-22T04:24:31.551071Z"
    }
   },
   "outputs": [
    {
     "data": {
      "text/plain": [
       "array([2845, 3625, 4315, 4243, 3254, 3141, 3134, 3337, 3681, 2930, 3296,\n",
       "       2540, 2711, 3246, 2835, 2937, 2524, 2404, 2489, 3205, 4463, 2923,\n",
       "       2118, 1936, 4604, 2754, 2189, 4018, 2777, 4501, 4139, 3128, 2001,\n",
       "       2015, 4082, 2585, 2039, 3976, 3322, 4119, 4214, 2849, 2140, 1952,\n",
       "       3666, 2271, 1903, 3467, 2512, 3875, 4084, 2471, 2074, 1796, 4422,\n",
       "       2265, 1921, 4025, 2906, 3942])"
      ]
     },
     "execution_count": 46,
     "metadata": {},
     "output_type": "execute_result"
    }
   ],
   "source": [
    "lgmb_model.feature_importance()"
   ]
  },
  {
   "cell_type": "markdown",
   "metadata": {},
   "source": [
    "### feature_importance"
   ]
  },
  {
   "cell_type": "code",
   "execution_count": 47,
   "metadata": {
    "ExecuteTime": {
     "end_time": "2020-02-22T04:24:32.125053Z",
     "start_time": "2020-02-22T04:24:32.112053Z"
    }
   },
   "outputs": [
    {
     "data": {
      "text/html": [
       "<div>\n",
       "<style scoped>\n",
       "    .dataframe tbody tr th:only-of-type {\n",
       "        vertical-align: middle;\n",
       "    }\n",
       "\n",
       "    .dataframe tbody tr th {\n",
       "        vertical-align: top;\n",
       "    }\n",
       "\n",
       "    .dataframe thead th {\n",
       "        text-align: right;\n",
       "    }\n",
       "</style>\n",
       "<table border=\"1\" class=\"dataframe\">\n",
       "  <thead>\n",
       "    <tr style=\"text-align: right;\">\n",
       "      <th></th>\n",
       "      <th>importance</th>\n",
       "    </tr>\n",
       "  </thead>\n",
       "  <tbody>\n",
       "    <tr>\n",
       "      <th>psfMag_g-r</th>\n",
       "      <td>4604</td>\n",
       "    </tr>\n",
       "    <tr>\n",
       "      <th>psfMag_i-z</th>\n",
       "      <td>4501</td>\n",
       "    </tr>\n",
       "    <tr>\n",
       "      <th>psfMag_u-g</th>\n",
       "      <td>4463</td>\n",
       "    </tr>\n",
       "    <tr>\n",
       "      <th>modelMag_g-r</th>\n",
       "      <td>4422</td>\n",
       "    </tr>\n",
       "    <tr>\n",
       "      <th>psfMag_r</th>\n",
       "      <td>4315</td>\n",
       "    </tr>\n",
       "    <tr>\n",
       "      <th>psfMag_i</th>\n",
       "      <td>4243</td>\n",
       "    </tr>\n",
       "    <tr>\n",
       "      <th>petroMag_u-g</th>\n",
       "      <td>4214</td>\n",
       "    </tr>\n",
       "    <tr>\n",
       "      <th>fiberMag_u-g</th>\n",
       "      <td>4139</td>\n",
       "    </tr>\n",
       "    <tr>\n",
       "      <th>fiberMag_i-z</th>\n",
       "      <td>4119</td>\n",
       "    </tr>\n",
       "    <tr>\n",
       "      <th>modelMag_u-g</th>\n",
       "      <td>4084</td>\n",
       "    </tr>\n",
       "  </tbody>\n",
       "</table>\n",
       "</div>"
      ],
      "text/plain": [
       "              importance\n",
       "psfMag_g-r          4604\n",
       "psfMag_i-z          4501\n",
       "psfMag_u-g          4463\n",
       "modelMag_g-r        4422\n",
       "psfMag_r            4315\n",
       "psfMag_i            4243\n",
       "petroMag_u-g        4214\n",
       "fiberMag_u-g        4139\n",
       "fiberMag_i-z        4119\n",
       "modelMag_u-g        4084"
      ]
     },
     "execution_count": 47,
     "metadata": {},
     "output_type": "execute_result"
    }
   ],
   "source": [
    "pi_df = pd.DataFrame(lgmb_model.feature_importance(), index= train_X.columns,columns= ['importance']).sort_values('importance',ascending = False)\n",
    "pi_df.head(10)"
   ]
  },
  {
   "cell_type": "markdown",
   "metadata": {},
   "source": [
    "### 예측결과에 대해\n",
    "* 12번이 모두 6번으로 몰림\n",
    "중간예측 : 0(STAR_WHITE_DWARF-2160),2(STAR_BROWN_DWARF-500),7(SERENDIPITY_DISTANT-4654),11(ROSAT_D-6580)\n",
    "망한예측 : 12(STAR_PN-13),17(SERENDIPITY_MANUAL-61)"
   ]
  },
  {
   "cell_type": "code",
   "execution_count": 48,
   "metadata": {
    "ExecuteTime": {
     "end_time": "2020-02-22T04:24:32.685061Z",
     "start_time": "2020-02-22T04:24:32.631059Z"
    }
   },
   "outputs": [],
   "source": [
    "cm_result = pd.DataFrame(confusion_matrix(y_test,np.argmax(train_y_pred,axis = 1)))"
   ]
  },
  {
   "cell_type": "code",
   "execution_count": 49,
   "metadata": {
    "ExecuteTime": {
     "end_time": "2020-02-22T04:24:33.230062Z",
     "start_time": "2020-02-22T04:24:33.227062Z"
    }
   },
   "outputs": [
    {
     "data": {
      "text/plain": [
       "{0: 'STAR_WHITE_DWARF',\n",
       " 1: 'STAR_CATY_VAR',\n",
       " 2: 'STAR_BROWN_DWARF',\n",
       " 3: 'SERENDIPITY_RED',\n",
       " 4: 'REDDEN_STD',\n",
       " 5: 'STAR_BHB',\n",
       " 6: 'GALAXY',\n",
       " 7: 'SERENDIPITY_DISTANT',\n",
       " 8: 'QSO',\n",
       " 9: 'SKY',\n",
       " 10: 'STAR_RED_DWARF',\n",
       " 11: 'ROSAT_D',\n",
       " 12: 'STAR_PN',\n",
       " 13: 'SERENDIPITY_FIRST',\n",
       " 14: 'STAR_CARBON',\n",
       " 15: 'SPECTROPHOTO_STD',\n",
       " 16: 'STAR_SUB_DWARF',\n",
       " 17: 'SERENDIPITY_MANUAL',\n",
       " 18: 'SERENDIPITY_BLUE'}"
      ]
     },
     "execution_count": 49,
     "metadata": {},
     "output_type": "execute_result"
    }
   ],
   "source": [
    "number_columns"
   ]
  },
  {
   "cell_type": "code",
   "execution_count": 50,
   "metadata": {
    "ExecuteTime": {
     "end_time": "2020-02-22T04:24:33.778045Z",
     "start_time": "2020-02-22T04:24:33.748046Z"
    }
   },
   "outputs": [
    {
     "data": {
      "text/plain": [
       "QSO                    49680\n",
       "GALAXY                 37347\n",
       "SERENDIPITY_BLUE       21760\n",
       "SPECTROPHOTO_STD       14630\n",
       "REDDEN_STD             14618\n",
       "STAR_RED_DWARF         13750\n",
       "STAR_BHB               13500\n",
       "SERENDIPITY_FIRST       7132\n",
       "ROSAT_D                 6580\n",
       "STAR_CATY_VAR           6506\n",
       "SERENDIPITY_DISTANT     4654\n",
       "STAR_CARBON             3257\n",
       "SERENDIPITY_RED         2562\n",
       "STAR_WHITE_DWARF        2160\n",
       "STAR_BROWN_DWARF        1154\n",
       "SKY                     1154\n",
       "STAR_PN                 1154\n",
       "SERENDIPITY_MANUAL      1154\n",
       "STAR_SUB_DWARF          1154\n",
       "Name: type, dtype: int64"
      ]
     },
     "execution_count": 50,
     "metadata": {},
     "output_type": "execute_result"
    }
   ],
   "source": [
    "train_df.type.value_counts()"
   ]
  },
  {
   "cell_type": "code",
   "execution_count": 51,
   "metadata": {
    "ExecuteTime": {
     "end_time": "2020-02-22T04:24:34.373028Z",
     "start_time": "2020-02-22T04:24:34.356028Z"
    }
   },
   "outputs": [
    {
     "data": {
      "text/html": [
       "<div>\n",
       "<style scoped>\n",
       "    .dataframe tbody tr th:only-of-type {\n",
       "        vertical-align: middle;\n",
       "    }\n",
       "\n",
       "    .dataframe tbody tr th {\n",
       "        vertical-align: top;\n",
       "    }\n",
       "\n",
       "    .dataframe thead th {\n",
       "        text-align: right;\n",
       "    }\n",
       "</style>\n",
       "<table border=\"1\" class=\"dataframe\">\n",
       "  <thead>\n",
       "    <tr style=\"text-align: right;\">\n",
       "      <th></th>\n",
       "      <th>0</th>\n",
       "      <th>1</th>\n",
       "      <th>2</th>\n",
       "      <th>3</th>\n",
       "      <th>4</th>\n",
       "      <th>5</th>\n",
       "      <th>6</th>\n",
       "      <th>7</th>\n",
       "      <th>8</th>\n",
       "      <th>9</th>\n",
       "      <th>10</th>\n",
       "      <th>11</th>\n",
       "      <th>12</th>\n",
       "      <th>13</th>\n",
       "      <th>14</th>\n",
       "      <th>15</th>\n",
       "      <th>16</th>\n",
       "      <th>17</th>\n",
       "      <th>18</th>\n",
       "    </tr>\n",
       "  </thead>\n",
       "  <tbody>\n",
       "    <tr>\n",
       "      <th>0</th>\n",
       "      <td>319</td>\n",
       "      <td>0</td>\n",
       "      <td>0</td>\n",
       "      <td>0</td>\n",
       "      <td>18</td>\n",
       "      <td>65</td>\n",
       "      <td>2</td>\n",
       "      <td>102</td>\n",
       "      <td>61</td>\n",
       "      <td>0</td>\n",
       "      <td>0</td>\n",
       "      <td>19</td>\n",
       "      <td>3</td>\n",
       "      <td>0</td>\n",
       "      <td>17</td>\n",
       "      <td>8</td>\n",
       "      <td>0</td>\n",
       "      <td>0</td>\n",
       "      <td>34</td>\n",
       "    </tr>\n",
       "    <tr>\n",
       "      <th>1</th>\n",
       "      <td>0</td>\n",
       "      <td>1881</td>\n",
       "      <td>0</td>\n",
       "      <td>0</td>\n",
       "      <td>0</td>\n",
       "      <td>2</td>\n",
       "      <td>1</td>\n",
       "      <td>1</td>\n",
       "      <td>16</td>\n",
       "      <td>0</td>\n",
       "      <td>1</td>\n",
       "      <td>3</td>\n",
       "      <td>0</td>\n",
       "      <td>0</td>\n",
       "      <td>0</td>\n",
       "      <td>0</td>\n",
       "      <td>3</td>\n",
       "      <td>0</td>\n",
       "      <td>44</td>\n",
       "    </tr>\n",
       "    <tr>\n",
       "      <th>2</th>\n",
       "      <td>0</td>\n",
       "      <td>0</td>\n",
       "      <td>279</td>\n",
       "      <td>54</td>\n",
       "      <td>0</td>\n",
       "      <td>0</td>\n",
       "      <td>0</td>\n",
       "      <td>0</td>\n",
       "      <td>0</td>\n",
       "      <td>0</td>\n",
       "      <td>12</td>\n",
       "      <td>0</td>\n",
       "      <td>0</td>\n",
       "      <td>0</td>\n",
       "      <td>0</td>\n",
       "      <td>0</td>\n",
       "      <td>0</td>\n",
       "      <td>1</td>\n",
       "      <td>0</td>\n",
       "    </tr>\n",
       "    <tr>\n",
       "      <th>3</th>\n",
       "      <td>0</td>\n",
       "      <td>0</td>\n",
       "      <td>59</td>\n",
       "      <td>611</td>\n",
       "      <td>0</td>\n",
       "      <td>0</td>\n",
       "      <td>0</td>\n",
       "      <td>0</td>\n",
       "      <td>3</td>\n",
       "      <td>0</td>\n",
       "      <td>95</td>\n",
       "      <td>0</td>\n",
       "      <td>0</td>\n",
       "      <td>0</td>\n",
       "      <td>0</td>\n",
       "      <td>0</td>\n",
       "      <td>0</td>\n",
       "      <td>1</td>\n",
       "      <td>0</td>\n",
       "    </tr>\n",
       "    <tr>\n",
       "      <th>4</th>\n",
       "      <td>0</td>\n",
       "      <td>0</td>\n",
       "      <td>0</td>\n",
       "      <td>0</td>\n",
       "      <td>4252</td>\n",
       "      <td>31</td>\n",
       "      <td>0</td>\n",
       "      <td>0</td>\n",
       "      <td>10</td>\n",
       "      <td>0</td>\n",
       "      <td>0</td>\n",
       "      <td>10</td>\n",
       "      <td>0</td>\n",
       "      <td>0</td>\n",
       "      <td>0</td>\n",
       "      <td>82</td>\n",
       "      <td>0</td>\n",
       "      <td>0</td>\n",
       "      <td>1</td>\n",
       "    </tr>\n",
       "    <tr>\n",
       "      <th>5</th>\n",
       "      <td>23</td>\n",
       "      <td>0</td>\n",
       "      <td>0</td>\n",
       "      <td>0</td>\n",
       "      <td>138</td>\n",
       "      <td>3681</td>\n",
       "      <td>2</td>\n",
       "      <td>54</td>\n",
       "      <td>58</td>\n",
       "      <td>0</td>\n",
       "      <td>0</td>\n",
       "      <td>5</td>\n",
       "      <td>0</td>\n",
       "      <td>0</td>\n",
       "      <td>0</td>\n",
       "      <td>79</td>\n",
       "      <td>0</td>\n",
       "      <td>0</td>\n",
       "      <td>10</td>\n",
       "    </tr>\n",
       "    <tr>\n",
       "      <th>6</th>\n",
       "      <td>2</td>\n",
       "      <td>12</td>\n",
       "      <td>0</td>\n",
       "      <td>0</td>\n",
       "      <td>8</td>\n",
       "      <td>0</td>\n",
       "      <td>10950</td>\n",
       "      <td>1</td>\n",
       "      <td>71</td>\n",
       "      <td>1</td>\n",
       "      <td>0</td>\n",
       "      <td>56</td>\n",
       "      <td>1</td>\n",
       "      <td>83</td>\n",
       "      <td>9</td>\n",
       "      <td>7</td>\n",
       "      <td>0</td>\n",
       "      <td>3</td>\n",
       "      <td>0</td>\n",
       "    </tr>\n",
       "    <tr>\n",
       "      <th>7</th>\n",
       "      <td>195</td>\n",
       "      <td>0</td>\n",
       "      <td>0</td>\n",
       "      <td>0</td>\n",
       "      <td>0</td>\n",
       "      <td>205</td>\n",
       "      <td>0</td>\n",
       "      <td>702</td>\n",
       "      <td>31</td>\n",
       "      <td>0</td>\n",
       "      <td>1</td>\n",
       "      <td>1</td>\n",
       "      <td>3</td>\n",
       "      <td>0</td>\n",
       "      <td>0</td>\n",
       "      <td>0</td>\n",
       "      <td>0</td>\n",
       "      <td>1</td>\n",
       "      <td>257</td>\n",
       "    </tr>\n",
       "    <tr>\n",
       "      <th>8</th>\n",
       "      <td>17</td>\n",
       "      <td>9</td>\n",
       "      <td>3</td>\n",
       "      <td>2</td>\n",
       "      <td>39</td>\n",
       "      <td>254</td>\n",
       "      <td>106</td>\n",
       "      <td>23</td>\n",
       "      <td>12950</td>\n",
       "      <td>3</td>\n",
       "      <td>9</td>\n",
       "      <td>182</td>\n",
       "      <td>2</td>\n",
       "      <td>38</td>\n",
       "      <td>69</td>\n",
       "      <td>7</td>\n",
       "      <td>14</td>\n",
       "      <td>2</td>\n",
       "      <td>1175</td>\n",
       "    </tr>\n",
       "    <tr>\n",
       "      <th>9</th>\n",
       "      <td>0</td>\n",
       "      <td>0</td>\n",
       "      <td>0</td>\n",
       "      <td>0</td>\n",
       "      <td>0</td>\n",
       "      <td>0</td>\n",
       "      <td>0</td>\n",
       "      <td>0</td>\n",
       "      <td>0</td>\n",
       "      <td>346</td>\n",
       "      <td>0</td>\n",
       "      <td>0</td>\n",
       "      <td>0</td>\n",
       "      <td>0</td>\n",
       "      <td>0</td>\n",
       "      <td>0</td>\n",
       "      <td>0</td>\n",
       "      <td>0</td>\n",
       "      <td>0</td>\n",
       "    </tr>\n",
       "    <tr>\n",
       "      <th>10</th>\n",
       "      <td>0</td>\n",
       "      <td>1</td>\n",
       "      <td>7</td>\n",
       "      <td>111</td>\n",
       "      <td>0</td>\n",
       "      <td>0</td>\n",
       "      <td>2</td>\n",
       "      <td>0</td>\n",
       "      <td>3</td>\n",
       "      <td>0</td>\n",
       "      <td>3997</td>\n",
       "      <td>1</td>\n",
       "      <td>0</td>\n",
       "      <td>0</td>\n",
       "      <td>0</td>\n",
       "      <td>0</td>\n",
       "      <td>0</td>\n",
       "      <td>3</td>\n",
       "      <td>0</td>\n",
       "    </tr>\n",
       "    <tr>\n",
       "      <th>11</th>\n",
       "      <td>13</td>\n",
       "      <td>18</td>\n",
       "      <td>1</td>\n",
       "      <td>0</td>\n",
       "      <td>127</td>\n",
       "      <td>25</td>\n",
       "      <td>72</td>\n",
       "      <td>12</td>\n",
       "      <td>420</td>\n",
       "      <td>0</td>\n",
       "      <td>17</td>\n",
       "      <td>591</td>\n",
       "      <td>0</td>\n",
       "      <td>274</td>\n",
       "      <td>92</td>\n",
       "      <td>59</td>\n",
       "      <td>10</td>\n",
       "      <td>2</td>\n",
       "      <td>241</td>\n",
       "    </tr>\n",
       "    <tr>\n",
       "      <th>12</th>\n",
       "      <td>0</td>\n",
       "      <td>0</td>\n",
       "      <td>0</td>\n",
       "      <td>0</td>\n",
       "      <td>0</td>\n",
       "      <td>0</td>\n",
       "      <td>0</td>\n",
       "      <td>1</td>\n",
       "      <td>0</td>\n",
       "      <td>0</td>\n",
       "      <td>0</td>\n",
       "      <td>0</td>\n",
       "      <td>345</td>\n",
       "      <td>0</td>\n",
       "      <td>0</td>\n",
       "      <td>0</td>\n",
       "      <td>0</td>\n",
       "      <td>0</td>\n",
       "      <td>0</td>\n",
       "    </tr>\n",
       "    <tr>\n",
       "      <th>13</th>\n",
       "      <td>0</td>\n",
       "      <td>0</td>\n",
       "      <td>0</td>\n",
       "      <td>0</td>\n",
       "      <td>0</td>\n",
       "      <td>3</td>\n",
       "      <td>178</td>\n",
       "      <td>6</td>\n",
       "      <td>332</td>\n",
       "      <td>0</td>\n",
       "      <td>2</td>\n",
       "      <td>109</td>\n",
       "      <td>0</td>\n",
       "      <td>1272</td>\n",
       "      <td>0</td>\n",
       "      <td>0</td>\n",
       "      <td>0</td>\n",
       "      <td>4</td>\n",
       "      <td>234</td>\n",
       "    </tr>\n",
       "    <tr>\n",
       "      <th>14</th>\n",
       "      <td>3</td>\n",
       "      <td>0</td>\n",
       "      <td>0</td>\n",
       "      <td>0</td>\n",
       "      <td>1</td>\n",
       "      <td>0</td>\n",
       "      <td>3</td>\n",
       "      <td>0</td>\n",
       "      <td>18</td>\n",
       "      <td>0</td>\n",
       "      <td>1</td>\n",
       "      <td>33</td>\n",
       "      <td>0</td>\n",
       "      <td>2</td>\n",
       "      <td>916</td>\n",
       "      <td>0</td>\n",
       "      <td>0</td>\n",
       "      <td>0</td>\n",
       "      <td>0</td>\n",
       "    </tr>\n",
       "    <tr>\n",
       "      <th>15</th>\n",
       "      <td>0</td>\n",
       "      <td>0</td>\n",
       "      <td>0</td>\n",
       "      <td>0</td>\n",
       "      <td>86</td>\n",
       "      <td>35</td>\n",
       "      <td>2</td>\n",
       "      <td>0</td>\n",
       "      <td>3</td>\n",
       "      <td>0</td>\n",
       "      <td>0</td>\n",
       "      <td>1</td>\n",
       "      <td>0</td>\n",
       "      <td>0</td>\n",
       "      <td>0</td>\n",
       "      <td>4262</td>\n",
       "      <td>0</td>\n",
       "      <td>0</td>\n",
       "      <td>0</td>\n",
       "    </tr>\n",
       "    <tr>\n",
       "      <th>16</th>\n",
       "      <td>0</td>\n",
       "      <td>7</td>\n",
       "      <td>0</td>\n",
       "      <td>0</td>\n",
       "      <td>0</td>\n",
       "      <td>0</td>\n",
       "      <td>1</td>\n",
       "      <td>0</td>\n",
       "      <td>1</td>\n",
       "      <td>0</td>\n",
       "      <td>1</td>\n",
       "      <td>13</td>\n",
       "      <td>0</td>\n",
       "      <td>0</td>\n",
       "      <td>0</td>\n",
       "      <td>0</td>\n",
       "      <td>323</td>\n",
       "      <td>0</td>\n",
       "      <td>0</td>\n",
       "    </tr>\n",
       "    <tr>\n",
       "      <th>17</th>\n",
       "      <td>1</td>\n",
       "      <td>1</td>\n",
       "      <td>1</td>\n",
       "      <td>7</td>\n",
       "      <td>1</td>\n",
       "      <td>2</td>\n",
       "      <td>8</td>\n",
       "      <td>10</td>\n",
       "      <td>14</td>\n",
       "      <td>0</td>\n",
       "      <td>6</td>\n",
       "      <td>15</td>\n",
       "      <td>0</td>\n",
       "      <td>16</td>\n",
       "      <td>1</td>\n",
       "      <td>0</td>\n",
       "      <td>0</td>\n",
       "      <td>252</td>\n",
       "      <td>11</td>\n",
       "    </tr>\n",
       "    <tr>\n",
       "      <th>18</th>\n",
       "      <td>94</td>\n",
       "      <td>9</td>\n",
       "      <td>0</td>\n",
       "      <td>0</td>\n",
       "      <td>0</td>\n",
       "      <td>102</td>\n",
       "      <td>0</td>\n",
       "      <td>380</td>\n",
       "      <td>491</td>\n",
       "      <td>0</td>\n",
       "      <td>0</td>\n",
       "      <td>9</td>\n",
       "      <td>1</td>\n",
       "      <td>2</td>\n",
       "      <td>0</td>\n",
       "      <td>0</td>\n",
       "      <td>0</td>\n",
       "      <td>0</td>\n",
       "      <td>5440</td>\n",
       "    </tr>\n",
       "  </tbody>\n",
       "</table>\n",
       "</div>"
      ],
      "text/plain": [
       "     0     1    2    3     4     5      6    7      8    9     10   11   12  \\\n",
       "0   319     0    0    0    18    65      2  102     61    0     0   19    3   \n",
       "1     0  1881    0    0     0     2      1    1     16    0     1    3    0   \n",
       "2     0     0  279   54     0     0      0    0      0    0    12    0    0   \n",
       "3     0     0   59  611     0     0      0    0      3    0    95    0    0   \n",
       "4     0     0    0    0  4252    31      0    0     10    0     0   10    0   \n",
       "5    23     0    0    0   138  3681      2   54     58    0     0    5    0   \n",
       "6     2    12    0    0     8     0  10950    1     71    1     0   56    1   \n",
       "7   195     0    0    0     0   205      0  702     31    0     1    1    3   \n",
       "8    17     9    3    2    39   254    106   23  12950    3     9  182    2   \n",
       "9     0     0    0    0     0     0      0    0      0  346     0    0    0   \n",
       "10    0     1    7  111     0     0      2    0      3    0  3997    1    0   \n",
       "11   13    18    1    0   127    25     72   12    420    0    17  591    0   \n",
       "12    0     0    0    0     0     0      0    1      0    0     0    0  345   \n",
       "13    0     0    0    0     0     3    178    6    332    0     2  109    0   \n",
       "14    3     0    0    0     1     0      3    0     18    0     1   33    0   \n",
       "15    0     0    0    0    86    35      2    0      3    0     0    1    0   \n",
       "16    0     7    0    0     0     0      1    0      1    0     1   13    0   \n",
       "17    1     1    1    7     1     2      8   10     14    0     6   15    0   \n",
       "18   94     9    0    0     0   102      0  380    491    0     0    9    1   \n",
       "\n",
       "      13   14    15   16   17    18  \n",
       "0      0   17     8    0    0    34  \n",
       "1      0    0     0    3    0    44  \n",
       "2      0    0     0    0    1     0  \n",
       "3      0    0     0    0    1     0  \n",
       "4      0    0    82    0    0     1  \n",
       "5      0    0    79    0    0    10  \n",
       "6     83    9     7    0    3     0  \n",
       "7      0    0     0    0    1   257  \n",
       "8     38   69     7   14    2  1175  \n",
       "9      0    0     0    0    0     0  \n",
       "10     0    0     0    0    3     0  \n",
       "11   274   92    59   10    2   241  \n",
       "12     0    0     0    0    0     0  \n",
       "13  1272    0     0    0    4   234  \n",
       "14     2  916     0    0    0     0  \n",
       "15     0    0  4262    0    0     0  \n",
       "16     0    0     0  323    0     0  \n",
       "17    16    1     0    0  252    11  \n",
       "18     2    0     0    0    0  5440  "
      ]
     },
     "execution_count": 51,
     "metadata": {},
     "output_type": "execute_result"
    }
   ],
   "source": [
    "cm_result"
   ]
  },
  {
   "cell_type": "code",
   "execution_count": 52,
   "metadata": {
    "ExecuteTime": {
     "end_time": "2020-02-22T04:24:35.812999Z",
     "start_time": "2020-02-22T04:24:34.890013Z"
    },
    "scrolled": false
   },
   "outputs": [
    {
     "data": {
      "image/png": "[encoded data removed]",
      "text/plain": [
       "<Figure size 1080x1080 with 2 Axes>"
      ]
     },
     "metadata": {},
     "output_type": "display_data"
    }
   ],
   "source": [
    "plt.figure(figsize =(15,15))\n",
    "sns.heatmap(cm_result/np.sum(cm_result),annot = True, cmap ='RdYlGn',fmt='.1%')\n",
    "plt.ylabel(\"real\",fontsize=20)\n",
    "plt.xlabel(\"predict\",fontsize=20)\n",
    "plt.show()"
   ]
  },
  {
   "cell_type": "markdown",
   "metadata": {},
   "source": [
    "# REAL"
   ]
  },
  {
   "cell_type": "code",
   "execution_count": 53,
   "metadata": {
    "ExecuteTime": {
     "end_time": "2020-02-22T04:24:36.315001Z",
     "start_time": "2020-02-22T04:24:36.312001Z"
    }
   },
   "outputs": [],
   "source": [
    "train_ds = lgb.Dataset(train_X, label = train_y)"
   ]
  },
  {
   "cell_type": "code",
   "execution_count": 54,
   "metadata": {
    "ExecuteTime": {
     "end_time": "2020-02-22T04:43:10.180671Z",
     "start_time": "2020-02-22T04:24:37.006985Z"
    }
   },
   "outputs": [],
   "source": [
    "lgmb_model = lgb.train(params, train_ds,num_boost_round= 2000, verbose_eval=100)"
   ]
  },
  {
   "cell_type": "code",
   "execution_count": 58,
   "metadata": {
    "ExecuteTime": {
     "end_time": "2020-02-22T05:01:20.303215Z",
     "start_time": "2020-02-22T04:45:29.825938Z"
    }
   },
   "outputs": [],
   "source": [
    "train_y_pred = lgmb_model.predict(train_X)"
   ]
  },
  {
   "cell_type": "code",
   "execution_count": 55,
   "metadata": {
    "ExecuteTime": {
     "end_time": "2020-02-22T04:44:00.321978Z",
     "start_time": "2020-02-22T04:43:10.773432Z"
    }
   },
   "outputs": [],
   "source": [
    "y_pred = lgmb_model.predict(test_X)"
   ]
  },
  {
   "cell_type": "code",
   "execution_count": 56,
   "metadata": {
    "ExecuteTime": {
     "end_time": "2020-02-22T04:44:00.856957Z",
     "start_time": "2020-02-22T04:44:00.852957Z"
    }
   },
   "outputs": [
    {
     "data": {
      "text/plain": [
       "array([[7.75352905e-08, 2.04337802e-09, 8.80555199e-08, ...,\n",
       "        2.11017374e-11, 4.79872924e-06, 8.15108115e-07],\n",
       "       [2.51551946e-07, 3.28640225e-09, 5.93130507e-12, ...,\n",
       "        1.13039935e-12, 6.99342332e-08, 1.17483804e-05],\n",
       "       [5.86530156e-07, 6.05323749e-07, 1.01369548e-10, ...,\n",
       "        1.20643657e-13, 2.69449961e-07, 8.73648702e-07],\n",
       "       ...,\n",
       "       [1.03809095e-05, 3.89636624e-06, 1.35536943e-11, ...,\n",
       "        5.64255703e-12, 4.28368326e-08, 6.57230913e-02],\n",
       "       [3.67830715e-08, 8.38926875e-10, 2.31616043e-12, ...,\n",
       "        5.50590290e-13, 1.73811230e-09, 2.54733375e-04],\n",
       "       [8.42248612e-06, 5.04463750e-11, 3.21133107e-12, ...,\n",
       "        6.64575761e-14, 2.91624900e-10, 5.19790721e-07]])"
      ]
     },
     "execution_count": 56,
     "metadata": {},
     "output_type": "execute_result"
    }
   ],
   "source": [
    "y_pred"
   ]
  },
  {
   "cell_type": "code",
   "execution_count": 57,
   "metadata": {
    "ExecuteTime": {
     "end_time": "2020-02-22T04:44:01.733000Z",
     "start_time": "2020-02-22T04:44:01.345941Z"
    }
   },
   "outputs": [],
   "source": [
    "submission = pd.DataFrame(data=y_pred, columns=sample_submission_df.columns, index=sample_submission_df.index)\n",
    "submission.to_csv('./submisson/submission.csv', index=True)"
   ]
  },
  {
   "cell_type": "code",
   "execution_count": null,
   "metadata": {},
   "outputs": [],
   "source": []
  }
 ],
 "metadata": {
  "kernelspec": {
   "display_name": "Python 3",
   "language": "python",
   "name": "python3"
  },
  "language_info": {
   "codemirror_mode": {
    "name": "ipython",
    "version": 3
   },
   "file_extension": ".py",
   "mimetype": "text/x-python",
   "name": "python",
   "nbconvert_exporter": "python",
   "pygments_lexer": "ipython3",
   "version": "3.6.5"
  },
  "varInspector": {
   "cols": {
    "lenName": 16,
    "lenType": 16,
    "lenVar": 40
   },
   "kernels_config": {
    "python": {
     "delete_cmd_postfix": "",
     "delete_cmd_prefix": "del ",
     "library": "var_list.py",
     "varRefreshCmd": "print(var_dic_list())"
    },
    "r": {
     "delete_cmd_postfix": ") ",
     "delete_cmd_prefix": "rm(",
     "library": "var_list.r",
     "varRefreshCmd": "cat(var_dic_list()) "
    }
   },
   "types_to_exclude": [
    "module",
    "function",
    "builtin_function_or_method",
    "instance",
    "_Feature"
   ],
   "window_display": false
  }
 },
 "nbformat": 4,
 "nbformat_minor": 2
}
