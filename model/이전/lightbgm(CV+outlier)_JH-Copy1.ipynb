{
 "cells": [
  {
   "cell_type": "markdown",
   "metadata": {},
   "source": [
    "# out_fiberID\n",
    "* 기존변수 + u-g,g-r,r-i,i-z만 추가변수로 사용\n",
    "* fiber_ID를 제외하고 진행해봄\n",
    "* 제출결과 : 0.3793087274 \n",
    "-> fiberID를 제외해서 0.02상승"
   ]
  },
  {
   "cell_type": "code",
   "execution_count": 1,
   "metadata": {
    "ExecuteTime": {
     "end_time": "2020-02-23T07:32:34.384426Z",
     "start_time": "2020-02-23T07:32:31.626853Z"
    }
   },
   "outputs": [],
   "source": [
    "import pandas as pd\n",
    "import numpy as np\n",
    "import matplotlib.pyplot as plt\n",
    "import seaborn as sns\n",
    "\n",
    "from sklearn.ensemble import RandomForestClassifier\n",
    "from sklearn.model_selection import train_test_split\n",
    "from sklearn.metrics import confusion_matrix\n",
    "from sklearn.metrics import log_loss\n",
    "\n",
    "\n",
    "import lightgbm as lgb\n",
    "from sklearn.model_selection import KFold, StratifiedKFold, RandomizedSearchCV, GridSearchCV"
   ]
  },
  {
   "cell_type": "code",
   "execution_count": 2,
   "metadata": {
    "ExecuteTime": {
     "end_time": "2020-02-23T07:32:34.400429Z",
     "start_time": "2020-02-23T07:32:34.397414Z"
    }
   },
   "outputs": [],
   "source": [
    "# from google.colab import drive\n",
    "# drive.mount('/content/drive')"
   ]
  },
  {
   "cell_type": "code",
   "execution_count": 3,
   "metadata": {
    "ExecuteTime": {
     "end_time": "2020-02-23T07:32:34.429422Z",
     "start_time": "2020-02-23T07:32:34.412429Z"
    }
   },
   "outputs": [],
   "source": [
    "# #colab용\n",
    "# import os\n",
    "# os.chdir('/content/drive/My Drive/Colab Notebooks/Dacon/천체관측/')"
   ]
  },
  {
   "cell_type": "code",
   "execution_count": 4,
   "metadata": {
    "ExecuteTime": {
     "end_time": "2020-02-23T07:32:35.830695Z",
     "start_time": "2020-02-23T07:32:34.443412Z"
    }
   },
   "outputs": [],
   "source": [
    "# path = \"/content/drive/My Drive/Colab Notebooks/Dacon/천체관측/data/\" #colab\n",
    "path = \"./data/\" #local\n",
    "train_df = pd.read_csv(path+'train.csv',index_col=0)\n",
    "test_df = pd.read_csv(path+'test.csv',index_col=0)\n",
    "sample_submission_df = pd.read_csv(path+'sample_submission.csv',index_col=0)\n",
    "pd.options.display.max_columns = 30"
   ]
  },
  {
   "cell_type": "code",
   "execution_count": 5,
   "metadata": {
    "ExecuteTime": {
     "end_time": "2020-02-23T07:32:35.952665Z",
     "start_time": "2020-02-23T07:32:35.947665Z"
    }
   },
   "outputs": [
    {
     "data": {
      "text/plain": [
       "((199991, 22), (10009, 21))"
      ]
     },
     "execution_count": 5,
     "metadata": {},
     "output_type": "execute_result"
    }
   ],
   "source": [
    "train_df.shape, test_df.shape"
   ]
  },
  {
   "cell_type": "code",
   "execution_count": null,
   "metadata": {},
   "outputs": [],
   "source": []
  },
  {
   "cell_type": "code",
   "execution_count": null,
   "metadata": {},
   "outputs": [],
   "source": []
  },
  {
   "cell_type": "markdown",
   "metadata": {},
   "source": [
    "## DATA Setting"
   ]
  },
  {
   "cell_type": "code",
   "execution_count": 6,
   "metadata": {
    "ExecuteTime": {
     "end_time": "2020-02-23T07:32:36.072661Z",
     "start_time": "2020-02-23T07:32:36.068679Z"
    }
   },
   "outputs": [],
   "source": [
    "#민강 시도중 min= -20, max = 30\n",
    "def del_outlier(data, min=0, max=60):\n",
    "    up_idx_t=()\n",
    "    dw_idx_t=()\n",
    "    train_light = data.iloc[:,2:]\n",
    "    for i in range(len(train_light.columns)):\n",
    "        col = train_light.columns[i]\n",
    "        up_idx_t+=tuple(data[data[col]>max].index)\n",
    "        dw_idx_t+=tuple(data[data[col]<min].index)\n",
    "    del_idx = set(up_idx_t+dw_idx_t)\n",
    "    \n",
    "    return data[~data.index.isin(del_idx)]"
   ]
  },
  {
   "cell_type": "code",
   "execution_count": 7,
   "metadata": {
    "ExecuteTime": {
     "end_time": "2020-02-23T07:32:36.270669Z",
     "start_time": "2020-02-23T07:32:36.189657Z"
    }
   },
   "outputs": [],
   "source": [
    "train_df = del_outlier(train_df, min=-60, max=60)"
   ]
  },
  {
   "cell_type": "code",
   "execution_count": 8,
   "metadata": {
    "ExecuteTime": {
     "end_time": "2020-02-23T07:32:36.398661Z",
     "start_time": "2020-02-23T07:32:36.393653Z"
    }
   },
   "outputs": [
    {
     "data": {
      "text/plain": [
       "(199805, 22)"
      ]
     },
     "execution_count": 8,
     "metadata": {},
     "output_type": "execute_result"
    }
   ],
   "source": [
    "train_df.shape"
   ]
  },
  {
   "cell_type": "code",
   "execution_count": 9,
   "metadata": {
    "ExecuteTime": {
     "end_time": "2020-02-23T07:32:36.638670Z",
     "start_time": "2020-02-23T07:32:36.513651Z"
    }
   },
   "outputs": [],
   "source": [
    "column_number = {}\n",
    "number_columns = {}\n",
    "for i, column in enumerate(sample_submission_df.columns):\n",
    "    column_number[column] = i\n",
    "    number_columns[i] = column\n",
    "    \n",
    "    \n",
    "def to_number(x, dic):\n",
    "    return dic[x]\n",
    "\n",
    "train_df['type_num'] = train_df['type'].apply(lambda x: to_number(x, column_number))\n"
   ]
  },
  {
   "cell_type": "code",
   "execution_count": 10,
   "metadata": {
    "ExecuteTime": {
     "end_time": "2020-02-23T07:32:36.757640Z",
     "start_time": "2020-02-23T07:32:36.752640Z"
    }
   },
   "outputs": [],
   "source": [
    "def add_minus_feature_all(data,test = False):\n",
    "    '''\n",
    "    combination으로 모든 변수들의 조합에 대해서 컬럼생성 \n",
    "    각 mag에서 가장 높은값의 filter를 받아오는 \"~~mag_MAX\"생성\n",
    "    결과 64개로 증가\n",
    "    '''\n",
    "    from itertools import combinations\n",
    "    n = 0\n",
    "    for count in range(5,21,5):\n",
    "        s = 2\n",
    "        if test == True :\n",
    "            s = 1\n",
    "        selected = data.columns[s:].values[n:count]\n",
    "        mag = str.split(selected[0],'_')[0]\n",
    "#         data[mag+\"_MAX\"] = data[selected].apply(lambda x : str.split(np.argmax(x),'_')[1],axis = 1)\n",
    "        for combi in list(combinations(selected,2)):\n",
    "            name_1st = str.split(combi[0],'_')[1]\n",
    "            name_2nd = str.split(combi[1],'_')[1]\n",
    "            data[mag+\"_\"+name_1st+\"-\"+name_2nd] = data[combi[0]]-data[combi[1]]\n",
    "        n=count\n",
    "    return data"
   ]
  },
  {
   "cell_type": "code",
   "execution_count": 11,
   "metadata": {
    "ExecuteTime": {
     "end_time": "2020-02-23T07:32:36.881651Z",
     "start_time": "2020-02-23T07:32:36.876640Z"
    }
   },
   "outputs": [],
   "source": [
    "def add_minus_feature(data,test = False):\n",
    "    '''\n",
    "    근접변수에 대해서만 컬럼생성 ex) 'fiberMag_u-g', 'fiberMag_g-r', 'fiberMag_r-i', 'fiberMag_i-z'\n",
    "    각 mag에서 가장 높은값의 filter를 받아오는 \"~~mag_MAX\"생성\n",
    "    결과 38개로 증가 \n",
    "    '''\n",
    "    from itertools import combinations\n",
    "    n = 0\n",
    "    m = 0\n",
    "    for count in range(5,21,5):\n",
    "        s = 2\n",
    "        if test == True :\n",
    "            s = 1\n",
    "        selected = data.columns[s:].values[n:count]\n",
    "        mag = str.split(selected[0],'_')[0]\n",
    "#         data[mag+\"_MAX\"] = data[selected].apply(lambda x : str.split(np.argmax(x),'_')[1],axis = 1)\n",
    "        for i in range(0,len(selected)):        \n",
    "            if i>0: \n",
    "                name_1st = str.split(m,'_')[1]\n",
    "                name_2nd = str.split(selected[i],'_')[1]\n",
    "                data[mag+\"_\"+name_1st+\"-\"+name_2nd] = data[m]-data[selected[i]]\n",
    "            m = selected[i]    \n",
    "        n=count\n",
    "    return data"
   ]
  },
  {
   "cell_type": "code",
   "execution_count": 12,
   "metadata": {
    "ExecuteTime": {
     "end_time": "2020-02-23T07:32:37.189431Z",
     "start_time": "2020-02-23T07:32:37.003632Z"
    }
   },
   "outputs": [],
   "source": [
    "train_df = add_minus_feature_all(train_df)\n",
    "test_df = add_minus_feature_all(test_df,True)"
   ]
  },
  {
   "cell_type": "code",
   "execution_count": 13,
   "metadata": {
    "ExecuteTime": {
     "end_time": "2020-02-23T07:32:37.540421Z",
     "start_time": "2020-02-23T07:32:37.535420Z"
    }
   },
   "outputs": [
    {
     "data": {
      "text/plain": [
       "((199805, 63), (10009, 61))"
      ]
     },
     "execution_count": 13,
     "metadata": {},
     "output_type": "execute_result"
    }
   ],
   "source": [
    "train_df.shape,test_df.shape"
   ]
  },
  {
   "cell_type": "code",
   "execution_count": 14,
   "metadata": {
    "ExecuteTime": {
     "end_time": "2020-02-23T07:32:37.884423Z",
     "start_time": "2020-02-23T07:32:37.879409Z"
    }
   },
   "outputs": [
    {
     "data": {
      "text/plain": [
       "Index(['type', 'fiberID', 'psfMag_u', 'psfMag_g', 'psfMag_r', 'psfMag_i',\n",
       "       'psfMag_z', 'fiberMag_u', 'fiberMag_g', 'fiberMag_r', 'fiberMag_i',\n",
       "       'fiberMag_z', 'petroMag_u', 'petroMag_g', 'petroMag_r', 'petroMag_i',\n",
       "       'petroMag_z', 'modelMag_u', 'modelMag_g', 'modelMag_r', 'modelMag_i',\n",
       "       'modelMag_z', 'type_num', 'psfMag_u-g', 'psfMag_u-r', 'psfMag_u-i',\n",
       "       'psfMag_u-z', 'psfMag_g-r', 'psfMag_g-i', 'psfMag_g-z', 'psfMag_r-i',\n",
       "       'psfMag_r-z', 'psfMag_i-z', 'fiberMag_u-g', 'fiberMag_u-r',\n",
       "       'fiberMag_u-i', 'fiberMag_u-z', 'fiberMag_g-r', 'fiberMag_g-i',\n",
       "       'fiberMag_g-z', 'fiberMag_r-i', 'fiberMag_r-z', 'fiberMag_i-z',\n",
       "       'petroMag_u-g', 'petroMag_u-r', 'petroMag_u-i', 'petroMag_u-z',\n",
       "       'petroMag_g-r', 'petroMag_g-i', 'petroMag_g-z', 'petroMag_r-i',\n",
       "       'petroMag_r-z', 'petroMag_i-z', 'modelMag_u-g', 'modelMag_u-r',\n",
       "       'modelMag_u-i', 'modelMag_u-z', 'modelMag_g-r', 'modelMag_g-i',\n",
       "       'modelMag_g-z', 'modelMag_r-i', 'modelMag_r-z', 'modelMag_i-z'],\n",
       "      dtype='object')"
      ]
     },
     "execution_count": 14,
     "metadata": {},
     "output_type": "execute_result"
    }
   ],
   "source": [
    "train_df.columns"
   ]
  },
  {
   "cell_type": "markdown",
   "metadata": {},
   "source": [
    "### CV"
   ]
  },
  {
   "cell_type": "code",
   "execution_count": 58,
   "metadata": {
    "ExecuteTime": {
     "end_time": "2020-02-23T13:44:43.325752Z",
     "start_time": "2020-02-23T13:44:43.251753Z"
    }
   },
   "outputs": [],
   "source": [
    "X = train_df.drop(columns=['type', 'type_num','fiberID'], axis=1)\n",
    "y = train_df['type_num']\n",
    "test_X = test_df.drop(columns = ['fiberID'])"
   ]
  },
  {
   "cell_type": "code",
   "execution_count": 59,
   "metadata": {
    "ExecuteTime": {
     "end_time": "2020-02-23T13:44:44.140725Z",
     "start_time": "2020-02-23T13:44:44.134726Z"
    }
   },
   "outputs": [],
   "source": [
    "folds = 3\n",
    "Fold = StratifiedKFold(n_splits=folds, shuffle=True,random_state=42)\n",
    "kfold =KFold(n_splits=folds, shuffle=True,random_state=42)"
   ]
  },
  {
   "cell_type": "code",
   "execution_count": 60,
   "metadata": {
    "ExecuteTime": {
     "end_time": "2020-02-23T13:44:45.015699Z",
     "start_time": "2020-02-23T13:44:45.007699Z"
    }
   },
   "outputs": [],
   "source": [
    "params = {\"max_depth\" : (7,8,9),\n",
    "         \"learning_rate\": (0.01,0.05, 0.1),\n",
    "         \"num_leaves\": (127,255,511),\n",
    "         \"min_child_samples\": (30,40,50),\n",
    "         \"lambda_l1\": (0,3,5,7,9),\n",
    "         \"lambda_l2\": (0,3,5,7,9)}"
   ]
  },
  {
   "cell_type": "code",
   "execution_count": 61,
   "metadata": {
    "ExecuteTime": {
     "end_time": "2020-02-23T13:44:45.836676Z",
     "start_time": "2020-02-23T13:44:45.831675Z"
    }
   },
   "outputs": [],
   "source": [
    "defaut_lgbmc = lgb.LGBMClassifier(n_estimators=2000,random_state=1029,objective =\"multiclass\",class_weight = 'balanced')"
   ]
  },
  {
   "cell_type": "code",
   "execution_count": 62,
   "metadata": {
    "ExecuteTime": {
     "end_time": "2020-02-23T13:44:46.632653Z",
     "start_time": "2020-02-23T13:44:46.621650Z"
    }
   },
   "outputs": [],
   "source": [
    "random_search  = RandomizedSearchCV(defaut_lgbmc,param_distributions=params, cv=5, verbose =100 ,n_iter = 10)"
   ]
  },
  {
   "cell_type": "code",
   "execution_count": null,
   "metadata": {
    "ExecuteTime": {
     "start_time": "2020-02-23T13:44:47.519Z"
    },
    "scrolled": false
   },
   "outputs": [
    {
     "name": "stdout",
     "output_type": "stream",
     "text": [
      "0 start\n",
      "Fitting 5 folds for each of 10 candidates, totalling 50 fits\n",
      "[Parallel(n_jobs=1)]: Using backend SequentialBackend with 1 concurrent workers.\n",
      "[CV] num_leaves=127, min_child_samples=40, max_depth=7, learning_rate=0.05, lambda_l2=3, lambda_l1=9 \n",
      "Training until validation scores don't improve for 100 rounds\n",
      "[100]\ttrain's multi_logloss: 0.485788\tval's multi_logloss: 0.490045\n",
      "[200]\ttrain's multi_logloss: 0.416739\tval's multi_logloss: 0.42083\n",
      "[300]\ttrain's multi_logloss: 0.384112\tval's multi_logloss: 0.388309\n",
      "[400]\ttrain's multi_logloss: 0.361398\tval's multi_logloss: 0.365617\n",
      "[500]\ttrain's multi_logloss: 0.344106\tval's multi_logloss: 0.348333\n",
      "[600]\ttrain's multi_logloss: 0.329958\tval's multi_logloss: 0.334375\n",
      "[700]\ttrain's multi_logloss: 0.318895\tval's multi_logloss: 0.323518\n",
      "[800]\ttrain's multi_logloss: 0.309794\tval's multi_logloss: 0.314552\n",
      "[900]\ttrain's multi_logloss: 0.302154\tval's multi_logloss: 0.306934\n",
      "[1000]\ttrain's multi_logloss: 0.295802\tval's multi_logloss: 0.300624\n",
      "[1100]\ttrain's multi_logloss: 0.290289\tval's multi_logloss: 0.295242\n",
      "[1200]\ttrain's multi_logloss: 0.285544\tval's multi_logloss: 0.290648\n",
      "[1300]\ttrain's multi_logloss: 0.281477\tval's multi_logloss: 0.286623\n",
      "[1400]\ttrain's multi_logloss: 0.27782\tval's multi_logloss: 0.283033\n",
      "[1500]\ttrain's multi_logloss: 0.274592\tval's multi_logloss: 0.27979\n",
      "[1600]\ttrain's multi_logloss: 0.271783\tval's multi_logloss: 0.277041\n",
      "[1700]\ttrain's multi_logloss: 0.269452\tval's multi_logloss: 0.274777\n",
      "[1800]\ttrain's multi_logloss: 0.267445\tval's multi_logloss: 0.2728\n",
      "[1900]\ttrain's multi_logloss: 0.265843\tval's multi_logloss: 0.271233\n",
      "[2000]\ttrain's multi_logloss: 0.264423\tval's multi_logloss: 0.269803\n",
      "Did not meet early stopping. Best iteration is:\n",
      "[2000]\ttrain's multi_logloss: 0.264423\tval's multi_logloss: 0.269803\n",
      "[CV]  num_leaves=127, min_child_samples=40, max_depth=7, learning_rate=0.05, lambda_l2=3, lambda_l1=9, score=0.858, total=23.6min\n",
      "[Parallel(n_jobs=1)]: Done   1 out of   1 | elapsed: 23.6min remaining:    0.0s\n",
      "[CV] num_leaves=127, min_child_samples=40, max_depth=7, learning_rate=0.05, lambda_l2=3, lambda_l1=9 \n",
      "Training until validation scores don't improve for 100 rounds\n",
      "[100]\ttrain's multi_logloss: 0.486968\tval's multi_logloss: 0.492183\n",
      "[200]\ttrain's multi_logloss: 0.418125\tval's multi_logloss: 0.422542\n",
      "[300]\ttrain's multi_logloss: 0.384468\tval's multi_logloss: 0.388714\n",
      "[400]\ttrain's multi_logloss: 0.361898\tval's multi_logloss: 0.365726\n",
      "[500]\ttrain's multi_logloss: 0.344868\tval's multi_logloss: 0.348659\n",
      "[600]\ttrain's multi_logloss: 0.33131\tval's multi_logloss: 0.334918\n",
      "[700]\ttrain's multi_logloss: 0.320179\tval's multi_logloss: 0.323721\n",
      "[800]\ttrain's multi_logloss: 0.310784\tval's multi_logloss: 0.314282\n",
      "[900]\ttrain's multi_logloss: 0.303026\tval's multi_logloss: 0.306583\n",
      "[1000]\ttrain's multi_logloss: 0.296601\tval's multi_logloss: 0.300123\n",
      "[1100]\ttrain's multi_logloss: 0.291012\tval's multi_logloss: 0.294439\n",
      "[1200]\ttrain's multi_logloss: 0.286388\tval's multi_logloss: 0.289804\n",
      "[1300]\ttrain's multi_logloss: 0.282272\tval's multi_logloss: 0.285706\n",
      "[1400]\ttrain's multi_logloss: 0.278556\tval's multi_logloss: 0.281969\n",
      "[1500]\ttrain's multi_logloss: 0.275271\tval's multi_logloss: 0.278651\n",
      "[1600]\ttrain's multi_logloss: 0.272625\tval's multi_logloss: 0.276038\n",
      "[1700]\ttrain's multi_logloss: 0.270417\tval's multi_logloss: 0.273869\n",
      "[1800]\ttrain's multi_logloss: 0.268667\tval's multi_logloss: 0.272092\n",
      "[1900]\ttrain's multi_logloss: 0.267021\tval's multi_logloss: 0.270428\n",
      "[2000]\ttrain's multi_logloss: 0.26563\tval's multi_logloss: 0.26899\n",
      "Did not meet early stopping. Best iteration is:\n",
      "[2000]\ttrain's multi_logloss: 0.26563\tval's multi_logloss: 0.26899\n",
      "[CV]  num_leaves=127, min_child_samples=40, max_depth=7, learning_rate=0.05, lambda_l2=3, lambda_l1=9, score=0.858, total=23.9min\n",
      "[Parallel(n_jobs=1)]: Done   2 out of   2 | elapsed: 47.5min remaining:    0.0s\n",
      "[CV] num_leaves=127, min_child_samples=40, max_depth=7, learning_rate=0.05, lambda_l2=3, lambda_l1=9 \n",
      "Training until validation scores don't improve for 100 rounds\n",
      "[100]\ttrain's multi_logloss: 0.487272\tval's multi_logloss: 0.490715\n",
      "[200]\ttrain's multi_logloss: 0.417302\tval's multi_logloss: 0.42019\n",
      "[300]\ttrain's multi_logloss: 0.384542\tval's multi_logloss: 0.387015\n",
      "[400]\ttrain's multi_logloss: 0.361833\tval's multi_logloss: 0.364317\n",
      "[500]\ttrain's multi_logloss: 0.344343\tval's multi_logloss: 0.346606\n",
      "[600]\ttrain's multi_logloss: 0.330663\tval's multi_logloss: 0.332767\n",
      "[700]\ttrain's multi_logloss: 0.319252\tval's multi_logloss: 0.321358\n",
      "[800]\ttrain's multi_logloss: 0.310123\tval's multi_logloss: 0.312336\n",
      "[900]\ttrain's multi_logloss: 0.302347\tval's multi_logloss: 0.304612\n",
      "[1000]\ttrain's multi_logloss: 0.295851\tval's multi_logloss: 0.298143\n",
      "[1100]\ttrain's multi_logloss: 0.290158\tval's multi_logloss: 0.292518\n",
      "[1200]\ttrain's multi_logloss: 0.285168\tval's multi_logloss: 0.287628\n",
      "[1300]\ttrain's multi_logloss: 0.280837\tval's multi_logloss: 0.283322\n",
      "[1400]\ttrain's multi_logloss: 0.277225\tval's multi_logloss: 0.279717\n",
      "[1500]\ttrain's multi_logloss: 0.27417\tval's multi_logloss: 0.276645\n",
      "[1600]\ttrain's multi_logloss: 0.271393\tval's multi_logloss: 0.273885\n",
      "[1700]\ttrain's multi_logloss: 0.26923\tval's multi_logloss: 0.271687\n",
      "[1800]\ttrain's multi_logloss: 0.26747\tval's multi_logloss: 0.269941\n",
      "[1900]\ttrain's multi_logloss: 0.265863\tval's multi_logloss: 0.268302\n",
      "[2000]\ttrain's multi_logloss: 0.264381\tval's multi_logloss: 0.266805\n",
      "Did not meet early stopping. Best iteration is:\n",
      "[2000]\ttrain's multi_logloss: 0.264381\tval's multi_logloss: 0.266805\n",
      "[CV]  num_leaves=127, min_child_samples=40, max_depth=7, learning_rate=0.05, lambda_l2=3, lambda_l1=9, score=0.858, total=23.9min\n",
      "[Parallel(n_jobs=1)]: Done   3 out of   3 | elapsed: 71.4min remaining:    0.0s\n",
      "[CV] num_leaves=127, min_child_samples=40, max_depth=7, learning_rate=0.05, lambda_l2=3, lambda_l1=9 \n",
      "Training until validation scores don't improve for 100 rounds\n",
      "[100]\ttrain's multi_logloss: 0.48776\tval's multi_logloss: 0.492475\n",
      "[200]\ttrain's multi_logloss: 0.417923\tval's multi_logloss: 0.42253\n",
      "[300]\ttrain's multi_logloss: 0.385029\tval's multi_logloss: 0.389151\n",
      "[400]\ttrain's multi_logloss: 0.361975\tval's multi_logloss: 0.365784\n",
      "[500]\ttrain's multi_logloss: 0.344619\tval's multi_logloss: 0.348047\n",
      "[600]\ttrain's multi_logloss: 0.330594\tval's multi_logloss: 0.33387\n",
      "[700]\ttrain's multi_logloss: 0.31908\tval's multi_logloss: 0.322187\n",
      "[800]\ttrain's multi_logloss: 0.309514\tval's multi_logloss: 0.312596\n",
      "[900]\ttrain's multi_logloss: 0.301746\tval's multi_logloss: 0.304838\n",
      "[1000]\ttrain's multi_logloss: 0.295263\tval's multi_logloss: 0.298336\n",
      "[1100]\ttrain's multi_logloss: 0.289405\tval's multi_logloss: 0.292342\n",
      "[1200]\ttrain's multi_logloss: 0.284596\tval's multi_logloss: 0.28753\n",
      "[1300]\ttrain's multi_logloss: 0.280306\tval's multi_logloss: 0.283222\n",
      "[1400]\ttrain's multi_logloss: 0.276722\tval's multi_logloss: 0.279587\n",
      "[1500]\ttrain's multi_logloss: 0.273547\tval's multi_logloss: 0.276343\n",
      "[1600]\ttrain's multi_logloss: 0.270831\tval's multi_logloss: 0.273586\n",
      "[1700]\ttrain's multi_logloss: 0.268606\tval's multi_logloss: 0.271308\n",
      "[1800]\ttrain's multi_logloss: 0.266596\tval's multi_logloss: 0.269288\n",
      "[1900]\ttrain's multi_logloss: 0.26494\tval's multi_logloss: 0.267625\n",
      "[2000]\ttrain's multi_logloss: 0.263329\tval's multi_logloss: 0.266026\n",
      "Did not meet early stopping. Best iteration is:\n",
      "[2000]\ttrain's multi_logloss: 0.263329\tval's multi_logloss: 0.266026\n",
      "[CV]  num_leaves=127, min_child_samples=40, max_depth=7, learning_rate=0.05, lambda_l2=3, lambda_l1=9, score=0.859, total=24.2min\n",
      "[Parallel(n_jobs=1)]: Done   4 out of   4 | elapsed: 95.6min remaining:    0.0s\n",
      "[CV] num_leaves=127, min_child_samples=40, max_depth=7, learning_rate=0.05, lambda_l2=3, lambda_l1=9 \n",
      "Training until validation scores don't improve for 100 rounds\n",
      "[100]\ttrain's multi_logloss: 0.487525\tval's multi_logloss: 0.491813\n",
      "[200]\ttrain's multi_logloss: 0.417315\tval's multi_logloss: 0.421054\n",
      "[300]\ttrain's multi_logloss: 0.384831\tval's multi_logloss: 0.388182\n",
      "[400]\ttrain's multi_logloss: 0.362236\tval's multi_logloss: 0.365189\n",
      "[500]\ttrain's multi_logloss: 0.344641\tval's multi_logloss: 0.347263\n",
      "[600]\ttrain's multi_logloss: 0.330825\tval's multi_logloss: 0.333396\n",
      "[700]\ttrain's multi_logloss: 0.319555\tval's multi_logloss: 0.322027\n"
     ]
    },
    {
     "name": "stdout",
     "output_type": "stream",
     "text": [
      "[800]\ttrain's multi_logloss: 0.310099\tval's multi_logloss: 0.312429\n",
      "[900]\ttrain's multi_logloss: 0.302287\tval's multi_logloss: 0.304552\n",
      "[1000]\ttrain's multi_logloss: 0.295991\tval's multi_logloss: 0.298211\n",
      "[1100]\ttrain's multi_logloss: 0.290387\tval's multi_logloss: 0.292543\n",
      "[1200]\ttrain's multi_logloss: 0.285757\tval's multi_logloss: 0.287865\n",
      "[1300]\ttrain's multi_logloss: 0.281664\tval's multi_logloss: 0.283731\n",
      "[1400]\ttrain's multi_logloss: 0.278105\tval's multi_logloss: 0.280147\n",
      "[1500]\ttrain's multi_logloss: 0.27489\tval's multi_logloss: 0.276829\n",
      "[1600]\ttrain's multi_logloss: 0.272201\tval's multi_logloss: 0.274083\n",
      "[1700]\ttrain's multi_logloss: 0.270154\tval's multi_logloss: 0.272042\n",
      "[1800]\ttrain's multi_logloss: 0.268204\tval's multi_logloss: 0.270078\n",
      "[1900]\ttrain's multi_logloss: 0.266509\tval's multi_logloss: 0.268392\n",
      "[2000]\ttrain's multi_logloss: 0.265098\tval's multi_logloss: 0.266955\n",
      "Did not meet early stopping. Best iteration is:\n",
      "[2000]\ttrain's multi_logloss: 0.265098\tval's multi_logloss: 0.266955\n",
      "[CV]  num_leaves=127, min_child_samples=40, max_depth=7, learning_rate=0.05, lambda_l2=3, lambda_l1=9, score=0.859, total=23.6min\n",
      "[Parallel(n_jobs=1)]: Done   5 out of   5 | elapsed: 119.2min remaining:    0.0s\n",
      "[CV] num_leaves=511, min_child_samples=40, max_depth=9, learning_rate=0.05, lambda_l2=0, lambda_l1=7 \n",
      "Training until validation scores don't improve for 100 rounds\n",
      "[100]\ttrain's multi_logloss: 0.451728\tval's multi_logloss: 0.455965\n",
      "[200]\ttrain's multi_logloss: 0.373738\tval's multi_logloss: 0.378054\n",
      "[300]\ttrain's multi_logloss: 0.333049\tval's multi_logloss: 0.338078\n",
      "[400]\ttrain's multi_logloss: 0.306216\tval's multi_logloss: 0.311316\n",
      "[500]\ttrain's multi_logloss: 0.286987\tval's multi_logloss: 0.291916\n",
      "[600]\ttrain's multi_logloss: 0.272658\tval's multi_logloss: 0.277746\n",
      "[700]\ttrain's multi_logloss: 0.262199\tval's multi_logloss: 0.26726\n",
      "[800]\ttrain's multi_logloss: 0.253867\tval's multi_logloss: 0.258934\n",
      "[900]\ttrain's multi_logloss: 0.247102\tval's multi_logloss: 0.252308\n",
      "[1000]\ttrain's multi_logloss: 0.241759\tval's multi_logloss: 0.247027\n",
      "[1100]\ttrain's multi_logloss: 0.237408\tval's multi_logloss: 0.242714\n",
      "[1200]\ttrain's multi_logloss: 0.233725\tval's multi_logloss: 0.239067\n",
      "[1300]\ttrain's multi_logloss: 0.230659\tval's multi_logloss: 0.236025\n",
      "[1400]\ttrain's multi_logloss: 0.228063\tval's multi_logloss: 0.233468\n",
      "[1500]\ttrain's multi_logloss: 0.22583\tval's multi_logloss: 0.231251\n",
      "[1600]\ttrain's multi_logloss: 0.223899\tval's multi_logloss: 0.229347\n",
      "[1700]\ttrain's multi_logloss: 0.222419\tval's multi_logloss: 0.227879\n",
      "[1800]\ttrain's multi_logloss: 0.221243\tval's multi_logloss: 0.226667\n",
      "[1900]\ttrain's multi_logloss: 0.220261\tval's multi_logloss: 0.225698\n",
      "[2000]\ttrain's multi_logloss: 0.219736\tval's multi_logloss: 0.225167\n",
      "Did not meet early stopping. Best iteration is:\n",
      "[2000]\ttrain's multi_logloss: 0.219736\tval's multi_logloss: 0.225167\n",
      "[CV]  num_leaves=511, min_child_samples=40, max_depth=9, learning_rate=0.05, lambda_l2=0, lambda_l1=7, score=0.863, total=24.6min\n",
      "[Parallel(n_jobs=1)]: Done   6 out of   6 | elapsed: 143.8min remaining:    0.0s\n",
      "[CV] num_leaves=511, min_child_samples=40, max_depth=9, learning_rate=0.05, lambda_l2=0, lambda_l1=7 \n",
      "Training until validation scores don't improve for 100 rounds\n",
      "[100]\ttrain's multi_logloss: 0.452347\tval's multi_logloss: 0.457116\n",
      "[200]\ttrain's multi_logloss: 0.374328\tval's multi_logloss: 0.378234\n",
      "[300]\ttrain's multi_logloss: 0.334016\tval's multi_logloss: 0.337578\n",
      "[400]\ttrain's multi_logloss: 0.306787\tval's multi_logloss: 0.310324\n",
      "[500]\ttrain's multi_logloss: 0.286816\tval's multi_logloss: 0.290175\n",
      "[600]\ttrain's multi_logloss: 0.272822\tval's multi_logloss: 0.276109\n",
      "[700]\ttrain's multi_logloss: 0.261963\tval's multi_logloss: 0.265239\n",
      "[800]\ttrain's multi_logloss: 0.253465\tval's multi_logloss: 0.256638\n",
      "[900]\ttrain's multi_logloss: 0.246681\tval's multi_logloss: 0.249804\n",
      "[1000]\ttrain's multi_logloss: 0.241181\tval's multi_logloss: 0.244271\n",
      "[1100]\ttrain's multi_logloss: 0.23676\tval's multi_logloss: 0.239856\n",
      "[1200]\ttrain's multi_logloss: 0.232949\tval's multi_logloss: 0.236008\n",
      "[1300]\ttrain's multi_logloss: 0.229806\tval's multi_logloss: 0.23284\n",
      "[1400]\ttrain's multi_logloss: 0.227102\tval's multi_logloss: 0.230107\n",
      "[1500]\ttrain's multi_logloss: 0.224928\tval's multi_logloss: 0.227933\n",
      "[1600]\ttrain's multi_logloss: 0.223076\tval's multi_logloss: 0.226082\n",
      "[1700]\ttrain's multi_logloss: 0.221678\tval's multi_logloss: 0.224703\n",
      "[1800]\ttrain's multi_logloss: 0.220406\tval's multi_logloss: 0.223382\n",
      "[1900]\ttrain's multi_logloss: 0.219257\tval's multi_logloss: 0.22219\n",
      "[2000]\ttrain's multi_logloss: 0.218186\tval's multi_logloss: 0.221085\n",
      "Did not meet early stopping. Best iteration is:\n",
      "[2000]\ttrain's multi_logloss: 0.218186\tval's multi_logloss: 0.221085\n",
      "[CV]  num_leaves=511, min_child_samples=40, max_depth=9, learning_rate=0.05, lambda_l2=0, lambda_l1=7, score=0.862, total=24.3min\n",
      "[Parallel(n_jobs=1)]: Done   7 out of   7 | elapsed: 168.1min remaining:    0.0s\n",
      "[CV] num_leaves=511, min_child_samples=40, max_depth=9, learning_rate=0.05, lambda_l2=0, lambda_l1=7 \n",
      "Training until validation scores don't improve for 100 rounds\n",
      "[100]\ttrain's multi_logloss: 0.453172\tval's multi_logloss: 0.456451\n",
      "[200]\ttrain's multi_logloss: 0.373903\tval's multi_logloss: 0.376319\n",
      "[300]\ttrain's multi_logloss: 0.333525\tval's multi_logloss: 0.335907\n",
      "[400]\ttrain's multi_logloss: 0.306232\tval's multi_logloss: 0.308387\n",
      "[500]\ttrain's multi_logloss: 0.287031\tval's multi_logloss: 0.289276\n",
      "[600]\ttrain's multi_logloss: 0.272555\tval's multi_logloss: 0.274803\n",
      "[700]\ttrain's multi_logloss: 0.261329\tval's multi_logloss: 0.263535\n",
      "[800]\ttrain's multi_logloss: 0.252963\tval's multi_logloss: 0.255117\n",
      "[900]\ttrain's multi_logloss: 0.24625\tval's multi_logloss: 0.248445\n",
      "[1000]\ttrain's multi_logloss: 0.240781\tval's multi_logloss: 0.242939\n",
      "[1100]\ttrain's multi_logloss: 0.236312\tval's multi_logloss: 0.238411\n",
      "[1200]\ttrain's multi_logloss: 0.232603\tval's multi_logloss: 0.234675\n",
      "[1300]\ttrain's multi_logloss: 0.229496\tval's multi_logloss: 0.231573\n",
      "[1400]\ttrain's multi_logloss: 0.226876\tval's multi_logloss: 0.228944\n",
      "[1500]\ttrain's multi_logloss: 0.224617\tval's multi_logloss: 0.226704\n",
      "[1600]\ttrain's multi_logloss: 0.222745\tval's multi_logloss: 0.224824\n",
      "[1700]\ttrain's multi_logloss: 0.221084\tval's multi_logloss: 0.223184\n",
      "[1800]\ttrain's multi_logloss: 0.219782\tval's multi_logloss: 0.221904\n",
      "[1900]\ttrain's multi_logloss: 0.218641\tval's multi_logloss: 0.220789\n",
      "[2000]\ttrain's multi_logloss: 0.217501\tval's multi_logloss: 0.219648\n",
      "Did not meet early stopping. Best iteration is:\n",
      "[2000]\ttrain's multi_logloss: 0.217501\tval's multi_logloss: 0.219648\n",
      "[CV]  num_leaves=511, min_child_samples=40, max_depth=9, learning_rate=0.05, lambda_l2=0, lambda_l1=7, score=0.862, total=25.8min\n",
      "[Parallel(n_jobs=1)]: Done   8 out of   8 | elapsed: 194.0min remaining:    0.0s\n",
      "[CV] num_leaves=511, min_child_samples=40, max_depth=9, learning_rate=0.05, lambda_l2=0, lambda_l1=7 \n",
      "Training until validation scores don't improve for 100 rounds\n",
      "[100]\ttrain's multi_logloss: 0.452319\tval's multi_logloss: 0.456292\n",
      "[200]\ttrain's multi_logloss: 0.37433\tval's multi_logloss: 0.378037\n",
      "[300]\ttrain's multi_logloss: 0.334604\tval's multi_logloss: 0.338174\n",
      "[400]\ttrain's multi_logloss: 0.30645\tval's multi_logloss: 0.309732\n",
      "[500]\ttrain's multi_logloss: 0.286644\tval's multi_logloss: 0.289803\n",
      "[600]\ttrain's multi_logloss: 0.272029\tval's multi_logloss: 0.275136\n",
      "[700]\ttrain's multi_logloss: 0.260826\tval's multi_logloss: 0.26382\n",
      "[800]\ttrain's multi_logloss: 0.252271\tval's multi_logloss: 0.255168\n",
      "[900]\ttrain's multi_logloss: 0.245447\tval's multi_logloss: 0.248286\n",
      "[1000]\ttrain's multi_logloss: 0.240139\tval's multi_logloss: 0.24292\n",
      "[1100]\ttrain's multi_logloss: 0.235478\tval's multi_logloss: 0.238269\n",
      "[1200]\ttrain's multi_logloss: 0.231738\tval's multi_logloss: 0.234475\n",
      "[1300]\ttrain's multi_logloss: 0.228482\tval's multi_logloss: 0.231234\n",
      "[1400]\ttrain's multi_logloss: 0.225732\tval's multi_logloss: 0.2284\n",
      "[1500]\ttrain's multi_logloss: 0.223421\tval's multi_logloss: 0.226039\n",
      "[1600]\ttrain's multi_logloss: 0.221506\tval's multi_logloss: 0.224093\n",
      "[1700]\ttrain's multi_logloss: 0.220048\tval's multi_logloss: 0.222605\n",
      "[1800]\ttrain's multi_logloss: 0.218758\tval's multi_logloss: 0.221324\n"
     ]
    },
    {
     "name": "stdout",
     "output_type": "stream",
     "text": [
      "[1900]\ttrain's multi_logloss: 0.217492\tval's multi_logloss: 0.220086\n",
      "[2000]\ttrain's multi_logloss: 0.216402\tval's multi_logloss: 0.218991\n",
      "Did not meet early stopping. Best iteration is:\n",
      "[2000]\ttrain's multi_logloss: 0.216402\tval's multi_logloss: 0.218991\n",
      "[CV]  num_leaves=511, min_child_samples=40, max_depth=9, learning_rate=0.05, lambda_l2=0, lambda_l1=7, score=0.864, total=24.4min\n",
      "[Parallel(n_jobs=1)]: Done   9 out of   9 | elapsed: 218.4min remaining:    0.0s\n",
      "[CV] num_leaves=511, min_child_samples=40, max_depth=9, learning_rate=0.05, lambda_l2=0, lambda_l1=7 \n",
      "Training until validation scores don't improve for 100 rounds\n",
      "[100]\ttrain's multi_logloss: 0.452735\tval's multi_logloss: 0.456206\n",
      "[200]\ttrain's multi_logloss: 0.374315\tval's multi_logloss: 0.376992\n",
      "[300]\ttrain's multi_logloss: 0.333844\tval's multi_logloss: 0.336202\n",
      "[400]\ttrain's multi_logloss: 0.306062\tval's multi_logloss: 0.308178\n",
      "[500]\ttrain's multi_logloss: 0.286458\tval's multi_logloss: 0.288552\n",
      "[600]\ttrain's multi_logloss: 0.272538\tval's multi_logloss: 0.274327\n",
      "[700]\ttrain's multi_logloss: 0.261762\tval's multi_logloss: 0.263365\n",
      "[800]\ttrain's multi_logloss: 0.253398\tval's multi_logloss: 0.254892\n",
      "[900]\ttrain's multi_logloss: 0.246722\tval's multi_logloss: 0.248186\n",
      "[1000]\ttrain's multi_logloss: 0.241289\tval's multi_logloss: 0.24276\n",
      "[1100]\ttrain's multi_logloss: 0.236915\tval's multi_logloss: 0.238425\n",
      "[1200]\ttrain's multi_logloss: 0.233245\tval's multi_logloss: 0.234727\n",
      "[1300]\ttrain's multi_logloss: 0.229938\tval's multi_logloss: 0.231419\n",
      "[1400]\ttrain's multi_logloss: 0.227187\tval's multi_logloss: 0.228674\n",
      "[1500]\ttrain's multi_logloss: 0.224992\tval's multi_logloss: 0.226445\n",
      "[1600]\ttrain's multi_logloss: 0.223086\tval's multi_logloss: 0.224518\n",
      "[1700]\ttrain's multi_logloss: 0.221476\tval's multi_logloss: 0.222905\n",
      "[1800]\ttrain's multi_logloss: 0.220323\tval's multi_logloss: 0.221757\n",
      "[1900]\ttrain's multi_logloss: 0.21923\tval's multi_logloss: 0.220659\n",
      "[2000]\ttrain's multi_logloss: 0.218374\tval's multi_logloss: 0.219802\n",
      "Did not meet early stopping. Best iteration is:\n",
      "[2000]\ttrain's multi_logloss: 0.218374\tval's multi_logloss: 0.219802\n",
      "[CV]  num_leaves=511, min_child_samples=40, max_depth=9, learning_rate=0.05, lambda_l2=0, lambda_l1=7, score=0.863, total=12.9min\n",
      "[Parallel(n_jobs=1)]: Done  10 out of  10 | elapsed: 231.3min remaining:    0.0s\n",
      "[CV] num_leaves=511, min_child_samples=40, max_depth=9, learning_rate=0.05, lambda_l2=7, lambda_l1=3 \n",
      "Training until validation scores don't improve for 100 rounds\n",
      "[100]\ttrain's multi_logloss: 0.445347\tval's multi_logloss: 0.449662\n",
      "[200]\ttrain's multi_logloss: 0.365528\tval's multi_logloss: 0.369855\n",
      "[300]\ttrain's multi_logloss: 0.317419\tval's multi_logloss: 0.322224\n",
      "[400]\ttrain's multi_logloss: 0.282004\tval's multi_logloss: 0.286891\n",
      "[500]\ttrain's multi_logloss: 0.255823\tval's multi_logloss: 0.260888\n",
      "[600]\ttrain's multi_logloss: 0.235865\tval's multi_logloss: 0.240689\n",
      "[700]\ttrain's multi_logloss: 0.220585\tval's multi_logloss: 0.225557\n",
      "[800]\ttrain's multi_logloss: 0.208507\tval's multi_logloss: 0.213521\n",
      "[900]\ttrain's multi_logloss: 0.198691\tval's multi_logloss: 0.203749\n",
      "[1000]\ttrain's multi_logloss: 0.190761\tval's multi_logloss: 0.195801\n",
      "[1100]\ttrain's multi_logloss: 0.184117\tval's multi_logloss: 0.189269\n",
      "[1200]\ttrain's multi_logloss: 0.178636\tval's multi_logloss: 0.183799\n",
      "[1300]\ttrain's multi_logloss: 0.173745\tval's multi_logloss: 0.178885\n",
      "[1400]\ttrain's multi_logloss: 0.169607\tval's multi_logloss: 0.174693\n",
      "[1500]\ttrain's multi_logloss: 0.165949\tval's multi_logloss: 0.170991\n",
      "[1600]\ttrain's multi_logloss: 0.162752\tval's multi_logloss: 0.167745\n",
      "[1700]\ttrain's multi_logloss: 0.160122\tval's multi_logloss: 0.165056\n",
      "[1800]\ttrain's multi_logloss: 0.157837\tval's multi_logloss: 0.162743\n",
      "[1900]\ttrain's multi_logloss: 0.155807\tval's multi_logloss: 0.160702\n",
      "[2000]\ttrain's multi_logloss: 0.154081\tval's multi_logloss: 0.158932\n",
      "Did not meet early stopping. Best iteration is:\n",
      "[2000]\ttrain's multi_logloss: 0.154081\tval's multi_logloss: 0.158932\n",
      "[CV]  num_leaves=511, min_child_samples=40, max_depth=9, learning_rate=0.05, lambda_l2=7, lambda_l1=3, score=0.866, total=17.3min\n",
      "[Parallel(n_jobs=1)]: Done  11 out of  11 | elapsed: 248.6min remaining:    0.0s\n",
      "[CV] num_leaves=511, min_child_samples=40, max_depth=9, learning_rate=0.05, lambda_l2=7, lambda_l1=3 \n",
      "Training until validation scores don't improve for 100 rounds\n",
      "[100]\ttrain's multi_logloss: 0.445829\tval's multi_logloss: 0.450408\n",
      "[200]\ttrain's multi_logloss: 0.366207\tval's multi_logloss: 0.369972\n",
      "[300]\ttrain's multi_logloss: 0.318235\tval's multi_logloss: 0.321853\n",
      "[400]\ttrain's multi_logloss: 0.283752\tval's multi_logloss: 0.287319\n",
      "[500]\ttrain's multi_logloss: 0.257546\tval's multi_logloss: 0.261084\n",
      "[600]\ttrain's multi_logloss: 0.237063\tval's multi_logloss: 0.240585\n",
      "[700]\ttrain's multi_logloss: 0.221044\tval's multi_logloss: 0.224496\n",
      "[800]\ttrain's multi_logloss: 0.208612\tval's multi_logloss: 0.212007\n",
      "[900]\ttrain's multi_logloss: 0.198311\tval's multi_logloss: 0.201615\n",
      "[1000]\ttrain's multi_logloss: 0.189753\tval's multi_logloss: 0.193002\n",
      "[1100]\ttrain's multi_logloss: 0.183063\tval's multi_logloss: 0.186273\n",
      "[1200]\ttrain's multi_logloss: 0.177383\tval's multi_logloss: 0.180552\n",
      "[1300]\ttrain's multi_logloss: 0.172832\tval's multi_logloss: 0.176002\n",
      "[1400]\ttrain's multi_logloss: 0.168597\tval's multi_logloss: 0.171747\n",
      "[1500]\ttrain's multi_logloss: 0.164839\tval's multi_logloss: 0.167939\n",
      "[1600]\ttrain's multi_logloss: 0.16181\tval's multi_logloss: 0.164898\n",
      "[1700]\ttrain's multi_logloss: 0.159082\tval's multi_logloss: 0.162154\n",
      "[1800]\ttrain's multi_logloss: 0.156682\tval's multi_logloss: 0.1597\n",
      "[1900]\ttrain's multi_logloss: 0.154595\tval's multi_logloss: 0.157608\n",
      "[2000]\ttrain's multi_logloss: 0.152721\tval's multi_logloss: 0.155706\n",
      "Did not meet early stopping. Best iteration is:\n",
      "[2000]\ttrain's multi_logloss: 0.152721\tval's multi_logloss: 0.155706\n",
      "[CV]  num_leaves=511, min_child_samples=40, max_depth=9, learning_rate=0.05, lambda_l2=7, lambda_l1=3, score=0.867, total=17.6min\n",
      "[Parallel(n_jobs=1)]: Done  12 out of  12 | elapsed: 266.2min remaining:    0.0s\n",
      "[CV] num_leaves=511, min_child_samples=40, max_depth=9, learning_rate=0.05, lambda_l2=7, lambda_l1=3 \n",
      "Training until validation scores don't improve for 100 rounds\n",
      "[100]\ttrain's multi_logloss: 0.447242\tval's multi_logloss: 0.450361\n",
      "[200]\ttrain's multi_logloss: 0.366049\tval's multi_logloss: 0.368198\n",
      "[300]\ttrain's multi_logloss: 0.317829\tval's multi_logloss: 0.319604\n",
      "[400]\ttrain's multi_logloss: 0.28137\tval's multi_logloss: 0.283053\n",
      "[500]\ttrain's multi_logloss: 0.254562\tval's multi_logloss: 0.256169\n",
      "[600]\ttrain's multi_logloss: 0.234908\tval's multi_logloss: 0.236493\n",
      "[700]\ttrain's multi_logloss: 0.219334\tval's multi_logloss: 0.220797\n",
      "[800]\ttrain's multi_logloss: 0.207333\tval's multi_logloss: 0.208727\n",
      "[900]\ttrain's multi_logloss: 0.197132\tval's multi_logloss: 0.198476\n",
      "[1000]\ttrain's multi_logloss: 0.189166\tval's multi_logloss: 0.190417\n",
      "[1100]\ttrain's multi_logloss: 0.182802\tval's multi_logloss: 0.184088\n",
      "[1200]\ttrain's multi_logloss: 0.176959\tval's multi_logloss: 0.178225\n",
      "[1300]\ttrain's multi_logloss: 0.172327\tval's multi_logloss: 0.17354\n",
      "[1400]\ttrain's multi_logloss: 0.168221\tval's multi_logloss: 0.16936\n",
      "[1500]\ttrain's multi_logloss: 0.164811\tval's multi_logloss: 0.165864\n",
      "[1600]\ttrain's multi_logloss: 0.161826\tval's multi_logloss: 0.162833\n",
      "[1700]\ttrain's multi_logloss: 0.159327\tval's multi_logloss: 0.160342\n",
      "[1800]\ttrain's multi_logloss: 0.157075\tval's multi_logloss: 0.15808\n",
      "[1900]\ttrain's multi_logloss: 0.155027\tval's multi_logloss: 0.156028\n",
      "[2000]\ttrain's multi_logloss: 0.153318\tval's multi_logloss: 0.15428\n",
      "Did not meet early stopping. Best iteration is:\n",
      "[2000]\ttrain's multi_logloss: 0.153318\tval's multi_logloss: 0.15428\n",
      "[CV]  num_leaves=511, min_child_samples=40, max_depth=9, learning_rate=0.05, lambda_l2=7, lambda_l1=3, score=0.868, total=17.7min\n",
      "[Parallel(n_jobs=1)]: Done  13 out of  13 | elapsed: 283.9min remaining:    0.0s\n",
      "[CV] num_leaves=511, min_child_samples=40, max_depth=9, learning_rate=0.05, lambda_l2=7, lambda_l1=3 \n",
      "Training until validation scores don't improve for 100 rounds\n",
      "[100]\ttrain's multi_logloss: 0.446765\tval's multi_logloss: 0.450996\n",
      "[200]\ttrain's multi_logloss: 0.366574\tval's multi_logloss: 0.370782\n"
     ]
    },
    {
     "name": "stdout",
     "output_type": "stream",
     "text": [
      "[300]\ttrain's multi_logloss: 0.319519\tval's multi_logloss: 0.323407\n",
      "[400]\ttrain's multi_logloss: 0.283141\tval's multi_logloss: 0.286933\n",
      "[500]\ttrain's multi_logloss: 0.255919\tval's multi_logloss: 0.25954\n",
      "[600]\ttrain's multi_logloss: 0.235663\tval's multi_logloss: 0.238877\n",
      "[700]\ttrain's multi_logloss: 0.220097\tval's multi_logloss: 0.223221\n",
      "[800]\ttrain's multi_logloss: 0.207731\tval's multi_logloss: 0.210767\n",
      "[900]\ttrain's multi_logloss: 0.19726\tval's multi_logloss: 0.200125\n",
      "[1000]\ttrain's multi_logloss: 0.188908\tval's multi_logloss: 0.191567\n",
      "[1100]\ttrain's multi_logloss: 0.181933\tval's multi_logloss: 0.184475\n",
      "[1200]\ttrain's multi_logloss: 0.176333\tval's multi_logloss: 0.178801\n",
      "[1300]\ttrain's multi_logloss: 0.171302\tval's multi_logloss: 0.173694\n",
      "[1400]\ttrain's multi_logloss: 0.167221\tval's multi_logloss: 0.169499\n",
      "[1500]\ttrain's multi_logloss: 0.163736\tval's multi_logloss: 0.16595\n",
      "[1600]\ttrain's multi_logloss: 0.160844\tval's multi_logloss: 0.163012\n",
      "[1700]\ttrain's multi_logloss: 0.158038\tval's multi_logloss: 0.160171\n",
      "[1800]\ttrain's multi_logloss: 0.155673\tval's multi_logloss: 0.157762\n",
      "[1900]\ttrain's multi_logloss: 0.153654\tval's multi_logloss: 0.155676\n",
      "[2000]\ttrain's multi_logloss: 0.151834\tval's multi_logloss: 0.15382\n",
      "Did not meet early stopping. Best iteration is:\n",
      "[2000]\ttrain's multi_logloss: 0.151834\tval's multi_logloss: 0.15382\n",
      "[CV]  num_leaves=511, min_child_samples=40, max_depth=9, learning_rate=0.05, lambda_l2=7, lambda_l1=3, score=0.869, total=17.7min\n",
      "[Parallel(n_jobs=1)]: Done  14 out of  14 | elapsed: 301.5min remaining:    0.0s\n",
      "[CV] num_leaves=511, min_child_samples=40, max_depth=9, learning_rate=0.05, lambda_l2=7, lambda_l1=3 \n",
      "Training until validation scores don't improve for 100 rounds\n",
      "[100]\ttrain's multi_logloss: 0.445829\tval's multi_logloss: 0.449498\n",
      "[200]\ttrain's multi_logloss: 0.365536\tval's multi_logloss: 0.368491\n",
      "[300]\ttrain's multi_logloss: 0.317536\tval's multi_logloss: 0.320314\n",
      "[400]\ttrain's multi_logloss: 0.282754\tval's multi_logloss: 0.285184\n",
      "[500]\ttrain's multi_logloss: 0.255841\tval's multi_logloss: 0.258093\n",
      "[600]\ttrain's multi_logloss: 0.235845\tval's multi_logloss: 0.238022\n",
      "[700]\ttrain's multi_logloss: 0.21992\tval's multi_logloss: 0.222153\n",
      "[800]\ttrain's multi_logloss: 0.207345\tval's multi_logloss: 0.209721\n",
      "[900]\ttrain's multi_logloss: 0.197614\tval's multi_logloss: 0.19992\n",
      "[1000]\ttrain's multi_logloss: 0.18975\tval's multi_logloss: 0.191933\n",
      "[1100]\ttrain's multi_logloss: 0.183034\tval's multi_logloss: 0.185233\n",
      "[1200]\ttrain's multi_logloss: 0.177332\tval's multi_logloss: 0.179532\n",
      "[1300]\ttrain's multi_logloss: 0.172467\tval's multi_logloss: 0.174652\n",
      "[1400]\ttrain's multi_logloss: 0.168349\tval's multi_logloss: 0.170477\n",
      "[1500]\ttrain's multi_logloss: 0.164732\tval's multi_logloss: 0.166757\n",
      "[1600]\ttrain's multi_logloss: 0.161631\tval's multi_logloss: 0.163635\n",
      "[1700]\ttrain's multi_logloss: 0.158905\tval's multi_logloss: 0.160859\n",
      "[1800]\ttrain's multi_logloss: 0.156554\tval's multi_logloss: 0.158449\n",
      "[1900]\ttrain's multi_logloss: 0.154626\tval's multi_logloss: 0.156469\n",
      "[2000]\ttrain's multi_logloss: 0.152851\tval's multi_logloss: 0.154663\n",
      "Did not meet early stopping. Best iteration is:\n",
      "[2000]\ttrain's multi_logloss: 0.152851\tval's multi_logloss: 0.154663\n",
      "[CV]  num_leaves=511, min_child_samples=40, max_depth=9, learning_rate=0.05, lambda_l2=7, lambda_l1=3, score=0.870, total=17.7min\n",
      "[Parallel(n_jobs=1)]: Done  15 out of  15 | elapsed: 319.2min remaining:    0.0s\n",
      "[CV] num_leaves=127, min_child_samples=30, max_depth=7, learning_rate=0.01, lambda_l2=7, lambda_l1=3 \n",
      "Training until validation scores don't improve for 100 rounds\n",
      "[100]\ttrain's multi_logloss: 1.13971\tval's multi_logloss: 1.14335\n",
      "[200]\ttrain's multi_logloss: 0.739618\tval's multi_logloss: 0.743862\n",
      "[300]\ttrain's multi_logloss: 0.583185\tval's multi_logloss: 0.587603\n",
      "[400]\ttrain's multi_logloss: 0.512115\tval's multi_logloss: 0.51663\n",
      "[500]\ttrain's multi_logloss: 0.473872\tval's multi_logloss: 0.478386\n",
      "[600]\ttrain's multi_logloss: 0.450555\tval's multi_logloss: 0.455049\n",
      "[700]\ttrain's multi_logloss: 0.434524\tval's multi_logloss: 0.439017\n",
      "[800]\ttrain's multi_logloss: 0.421816\tval's multi_logloss: 0.426297\n",
      "[900]\ttrain's multi_logloss: 0.410872\tval's multi_logloss: 0.415303\n",
      "[1000]\ttrain's multi_logloss: 0.401501\tval's multi_logloss: 0.405869\n",
      "[1100]\ttrain's multi_logloss: 0.393112\tval's multi_logloss: 0.397372\n",
      "[1200]\ttrain's multi_logloss: 0.385249\tval's multi_logloss: 0.389554\n",
      "[1300]\ttrain's multi_logloss: 0.377376\tval's multi_logloss: 0.381704\n",
      "[1400]\ttrain's multi_logloss: 0.369581\tval's multi_logloss: 0.373926\n",
      "[1500]\ttrain's multi_logloss: 0.362143\tval's multi_logloss: 0.36644\n",
      "[1600]\ttrain's multi_logloss: 0.355091\tval's multi_logloss: 0.359438\n",
      "[1700]\ttrain's multi_logloss: 0.348573\tval's multi_logloss: 0.352951\n",
      "[1800]\ttrain's multi_logloss: 0.342612\tval's multi_logloss: 0.347021\n",
      "[1900]\ttrain's multi_logloss: 0.336848\tval's multi_logloss: 0.341392\n",
      "[2000]\ttrain's multi_logloss: 0.331242\tval's multi_logloss: 0.335871\n",
      "Did not meet early stopping. Best iteration is:\n",
      "[2000]\ttrain's multi_logloss: 0.331242\tval's multi_logloss: 0.335871\n",
      "[CV]  num_leaves=127, min_child_samples=30, max_depth=7, learning_rate=0.01, lambda_l2=7, lambda_l1=3, score=0.853, total=17.7min\n",
      "[Parallel(n_jobs=1)]: Done  16 out of  16 | elapsed: 336.9min remaining:    0.0s\n",
      "[CV] num_leaves=127, min_child_samples=30, max_depth=7, learning_rate=0.01, lambda_l2=7, lambda_l1=3 \n",
      "Training until validation scores don't improve for 100 rounds\n",
      "[100]\ttrain's multi_logloss: 1.13946\tval's multi_logloss: 1.1432\n",
      "[200]\ttrain's multi_logloss: 0.740202\tval's multi_logloss: 0.744739\n",
      "[300]\ttrain's multi_logloss: 0.583829\tval's multi_logloss: 0.588498\n",
      "[400]\ttrain's multi_logloss: 0.513104\tval's multi_logloss: 0.517801\n",
      "[500]\ttrain's multi_logloss: 0.475096\tval's multi_logloss: 0.479861\n",
      "[600]\ttrain's multi_logloss: 0.452059\tval's multi_logloss: 0.456591\n",
      "[700]\ttrain's multi_logloss: 0.436037\tval's multi_logloss: 0.440232\n",
      "[800]\ttrain's multi_logloss: 0.423571\tval's multi_logloss: 0.427709\n",
      "[900]\ttrain's multi_logloss: 0.412141\tval's multi_logloss: 0.416234\n",
      "[1000]\ttrain's multi_logloss: 0.402006\tval's multi_logloss: 0.406052\n",
      "[1100]\ttrain's multi_logloss: 0.393595\tval's multi_logloss: 0.397577\n",
      "[1200]\ttrain's multi_logloss: 0.38568\tval's multi_logloss: 0.389578\n",
      "[1300]\ttrain's multi_logloss: 0.377982\tval's multi_logloss: 0.381899\n",
      "[1400]\ttrain's multi_logloss: 0.370181\tval's multi_logloss: 0.374104\n",
      "[1500]\ttrain's multi_logloss: 0.36308\tval's multi_logloss: 0.366914\n",
      "[1600]\ttrain's multi_logloss: 0.35628\tval's multi_logloss: 0.360026\n",
      "[1700]\ttrain's multi_logloss: 0.349988\tval's multi_logloss: 0.353686\n",
      "[1800]\ttrain's multi_logloss: 0.343847\tval's multi_logloss: 0.347429\n",
      "[1900]\ttrain's multi_logloss: 0.338144\tval's multi_logloss: 0.341715\n",
      "[2000]\ttrain's multi_logloss: 0.332388\tval's multi_logloss: 0.335931\n",
      "Did not meet early stopping. Best iteration is:\n",
      "[2000]\ttrain's multi_logloss: 0.332388\tval's multi_logloss: 0.335931\n",
      "[CV]  num_leaves=127, min_child_samples=30, max_depth=7, learning_rate=0.01, lambda_l2=7, lambda_l1=3, score=0.853, total=17.5min\n",
      "[Parallel(n_jobs=1)]: Done  17 out of  17 | elapsed: 354.4min remaining:    0.0s\n",
      "[CV] num_leaves=127, min_child_samples=30, max_depth=7, learning_rate=0.01, lambda_l2=7, lambda_l1=3 \n",
      "Training until validation scores don't improve for 100 rounds\n",
      "[100]\ttrain's multi_logloss: 1.13999\tval's multi_logloss: 1.14265\n",
      "[200]\ttrain's multi_logloss: 0.740526\tval's multi_logloss: 0.74392\n",
      "[300]\ttrain's multi_logloss: 0.584613\tval's multi_logloss: 0.587819\n",
      "[400]\ttrain's multi_logloss: 0.513637\tval's multi_logloss: 0.516781\n",
      "[500]\ttrain's multi_logloss: 0.475854\tval's multi_logloss: 0.479069\n",
      "[600]\ttrain's multi_logloss: 0.452665\tval's multi_logloss: 0.455613\n",
      "[700]\ttrain's multi_logloss: 0.43645\tval's multi_logloss: 0.439103\n",
      "[800]\ttrain's multi_logloss: 0.423384\tval's multi_logloss: 0.42583\n",
      "[900]\ttrain's multi_logloss: 0.411257\tval's multi_logloss: 0.413724\n",
      "[1000]\ttrain's multi_logloss: 0.401338\tval's multi_logloss: 0.403888\n",
      "[1100]\ttrain's multi_logloss: 0.392816\tval's multi_logloss: 0.395323\n",
      "[1200]\ttrain's multi_logloss: 0.384764\tval's multi_logloss: 0.387268\n",
      "[1300]\ttrain's multi_logloss: 0.376847\tval's multi_logloss: 0.379228\n",
      "[1400]\ttrain's multi_logloss: 0.368989\tval's multi_logloss: 0.371295\n"
     ]
    },
    {
     "name": "stdout",
     "output_type": "stream",
     "text": [
      "[1500]\ttrain's multi_logloss: 0.361681\tval's multi_logloss: 0.363772\n",
      "[1600]\ttrain's multi_logloss: 0.35488\tval's multi_logloss: 0.356912\n",
      "[1700]\ttrain's multi_logloss: 0.348513\tval's multi_logloss: 0.350478\n",
      "[1800]\ttrain's multi_logloss: 0.342372\tval's multi_logloss: 0.344239\n",
      "[1900]\ttrain's multi_logloss: 0.336237\tval's multi_logloss: 0.338154\n",
      "[2000]\ttrain's multi_logloss: 0.330512\tval's multi_logloss: 0.33233\n",
      "Did not meet early stopping. Best iteration is:\n",
      "[2000]\ttrain's multi_logloss: 0.330512\tval's multi_logloss: 0.33233\n",
      "[CV]  num_leaves=127, min_child_samples=30, max_depth=7, learning_rate=0.01, lambda_l2=7, lambda_l1=3, score=0.854, total=17.3min\n",
      "[Parallel(n_jobs=1)]: Done  18 out of  18 | elapsed: 371.7min remaining:    0.0s\n",
      "[CV] num_leaves=127, min_child_samples=30, max_depth=7, learning_rate=0.01, lambda_l2=7, lambda_l1=3 \n",
      "Training until validation scores don't improve for 100 rounds\n",
      "[100]\ttrain's multi_logloss: 1.14032\tval's multi_logloss: 1.14386\n",
      "[200]\ttrain's multi_logloss: 0.739714\tval's multi_logloss: 0.743942\n",
      "[300]\ttrain's multi_logloss: 0.584133\tval's multi_logloss: 0.588147\n",
      "[400]\ttrain's multi_logloss: 0.513639\tval's multi_logloss: 0.517936\n",
      "[500]\ttrain's multi_logloss: 0.475698\tval's multi_logloss: 0.480098\n",
      "[600]\ttrain's multi_logloss: 0.452539\tval's multi_logloss: 0.456784\n",
      "[700]\ttrain's multi_logloss: 0.43646\tval's multi_logloss: 0.440677\n",
      "[800]\ttrain's multi_logloss: 0.423749\tval's multi_logloss: 0.427952\n",
      "[900]\ttrain's multi_logloss: 0.412203\tval's multi_logloss: 0.416548\n",
      "[1000]\ttrain's multi_logloss: 0.402364\tval's multi_logloss: 0.406743\n",
      "[1100]\ttrain's multi_logloss: 0.393727\tval's multi_logloss: 0.39801\n",
      "[1200]\ttrain's multi_logloss: 0.385615\tval's multi_logloss: 0.389674\n",
      "[1300]\ttrain's multi_logloss: 0.377848\tval's multi_logloss: 0.381797\n",
      "[1400]\ttrain's multi_logloss: 0.370286\tval's multi_logloss: 0.3742\n",
      "[1500]\ttrain's multi_logloss: 0.363037\tval's multi_logloss: 0.366936\n",
      "[1600]\ttrain's multi_logloss: 0.356068\tval's multi_logloss: 0.359949\n",
      "[1700]\ttrain's multi_logloss: 0.349397\tval's multi_logloss: 0.353134\n",
      "[1800]\ttrain's multi_logloss: 0.342996\tval's multi_logloss: 0.346655\n",
      "[1900]\ttrain's multi_logloss: 0.337046\tval's multi_logloss: 0.340578\n",
      "[2000]\ttrain's multi_logloss: 0.331259\tval's multi_logloss: 0.3347\n",
      "Did not meet early stopping. Best iteration is:\n",
      "[2000]\ttrain's multi_logloss: 0.331259\tval's multi_logloss: 0.3347\n",
      "[CV]  num_leaves=127, min_child_samples=30, max_depth=7, learning_rate=0.01, lambda_l2=7, lambda_l1=3, score=0.856, total=17.2min\n",
      "[Parallel(n_jobs=1)]: Done  19 out of  19 | elapsed: 388.9min remaining:    0.0s\n",
      "[CV] num_leaves=127, min_child_samples=30, max_depth=7, learning_rate=0.01, lambda_l2=7, lambda_l1=3 \n",
      "Training until validation scores don't improve for 100 rounds\n",
      "[100]\ttrain's multi_logloss: 1.14091\tval's multi_logloss: 1.14376\n",
      "[200]\ttrain's multi_logloss: 0.742253\tval's multi_logloss: 0.746161\n",
      "[300]\ttrain's multi_logloss: 0.585018\tval's multi_logloss: 0.588934\n",
      "[400]\ttrain's multi_logloss: 0.513811\tval's multi_logloss: 0.517822\n",
      "[500]\ttrain's multi_logloss: 0.475334\tval's multi_logloss: 0.47953\n",
      "[600]\ttrain's multi_logloss: 0.451863\tval's multi_logloss: 0.456002\n",
      "[700]\ttrain's multi_logloss: 0.435944\tval's multi_logloss: 0.439945\n",
      "[800]\ttrain's multi_logloss: 0.423226\tval's multi_logloss: 0.427111\n",
      "[900]\ttrain's multi_logloss: 0.411402\tval's multi_logloss: 0.415148\n",
      "[1000]\ttrain's multi_logloss: 0.401656\tval's multi_logloss: 0.405238\n",
      "[1100]\ttrain's multi_logloss: 0.392883\tval's multi_logloss: 0.396339\n",
      "[1200]\ttrain's multi_logloss: 0.3845\tval's multi_logloss: 0.387841\n",
      "[1300]\ttrain's multi_logloss: 0.376104\tval's multi_logloss: 0.379251\n",
      "[1400]\ttrain's multi_logloss: 0.368674\tval's multi_logloss: 0.371684\n",
      "[1500]\ttrain's multi_logloss: 0.361665\tval's multi_logloss: 0.364531\n",
      "[1600]\ttrain's multi_logloss: 0.354781\tval's multi_logloss: 0.357558\n",
      "[1700]\ttrain's multi_logloss: 0.348337\tval's multi_logloss: 0.351097\n",
      "[1800]\ttrain's multi_logloss: 0.341935\tval's multi_logloss: 0.344582\n",
      "[1900]\ttrain's multi_logloss: 0.336063\tval's multi_logloss: 0.338663\n",
      "[2000]\ttrain's multi_logloss: 0.330388\tval's multi_logloss: 0.333007\n",
      "Did not meet early stopping. Best iteration is:\n",
      "[2000]\ttrain's multi_logloss: 0.330388\tval's multi_logloss: 0.333007\n",
      "[CV]  num_leaves=127, min_child_samples=30, max_depth=7, learning_rate=0.01, lambda_l2=7, lambda_l1=3, score=0.855, total=17.4min\n",
      "[Parallel(n_jobs=1)]: Done  20 out of  20 | elapsed: 406.3min remaining:    0.0s\n",
      "[CV] num_leaves=127, min_child_samples=30, max_depth=8, learning_rate=0.05, lambda_l2=7, lambda_l1=0 \n",
      "Training until validation scores don't improve for 100 rounds\n",
      "[100]\ttrain's multi_logloss: 0.441192\tval's multi_logloss: 0.445585\n",
      "[200]\ttrain's multi_logloss: 0.36432\tval's multi_logloss: 0.368131\n",
      "[300]\ttrain's multi_logloss: 0.31966\tval's multi_logloss: 0.323354\n",
      "[400]\ttrain's multi_logloss: 0.284557\tval's multi_logloss: 0.288406\n",
      "[500]\ttrain's multi_logloss: 0.258834\tval's multi_logloss: 0.262738\n",
      "[600]\ttrain's multi_logloss: 0.236619\tval's multi_logloss: 0.24068\n",
      "[700]\ttrain's multi_logloss: 0.21775\tval's multi_logloss: 0.221606\n",
      "[800]\ttrain's multi_logloss: 0.201429\tval's multi_logloss: 0.205296\n",
      "[900]\ttrain's multi_logloss: 0.188997\tval's multi_logloss: 0.192746\n",
      "[1000]\ttrain's multi_logloss: 0.179071\tval's multi_logloss: 0.182965\n",
      "[1100]\ttrain's multi_logloss: 0.169488\tval's multi_logloss: 0.173451\n",
      "[1200]\ttrain's multi_logloss: 0.162095\tval's multi_logloss: 0.166162\n",
      "[1300]\ttrain's multi_logloss: 0.155115\tval's multi_logloss: 0.159202\n",
      "[1400]\ttrain's multi_logloss: 0.14946\tval's multi_logloss: 0.153537\n",
      "[1500]\ttrain's multi_logloss: 0.144272\tval's multi_logloss: 0.148318\n",
      "[1600]\ttrain's multi_logloss: 0.139436\tval's multi_logloss: 0.14355\n",
      "[1700]\ttrain's multi_logloss: 0.135403\tval's multi_logloss: 0.139364\n",
      "[1800]\ttrain's multi_logloss: 0.131877\tval's multi_logloss: 0.135786\n",
      "[1900]\ttrain's multi_logloss: 0.128576\tval's multi_logloss: 0.132408\n",
      "[2000]\ttrain's multi_logloss: 0.125725\tval's multi_logloss: 0.129518\n",
      "Did not meet early stopping. Best iteration is:\n",
      "[2000]\ttrain's multi_logloss: 0.125725\tval's multi_logloss: 0.129518\n",
      "[CV]  num_leaves=127, min_child_samples=30, max_depth=8, learning_rate=0.05, lambda_l2=7, lambda_l1=0, score=0.869, total=23.5min\n",
      "[Parallel(n_jobs=1)]: Done  21 out of  21 | elapsed: 429.9min remaining:    0.0s\n",
      "[CV] num_leaves=127, min_child_samples=30, max_depth=8, learning_rate=0.05, lambda_l2=7, lambda_l1=0 \n",
      "Training until validation scores don't improve for 100 rounds\n",
      "[100]\ttrain's multi_logloss: 0.442004\tval's multi_logloss: 0.445839\n",
      "[200]\ttrain's multi_logloss: 0.366862\tval's multi_logloss: 0.370064\n",
      "[300]\ttrain's multi_logloss: 0.321544\tval's multi_logloss: 0.32443\n",
      "[400]\ttrain's multi_logloss: 0.286808\tval's multi_logloss: 0.289596\n",
      "[500]\ttrain's multi_logloss: 0.259684\tval's multi_logloss: 0.262236\n",
      "[600]\ttrain's multi_logloss: 0.238084\tval's multi_logloss: 0.240506\n",
      "[700]\ttrain's multi_logloss: 0.219588\tval's multi_logloss: 0.221817\n",
      "[800]\ttrain's multi_logloss: 0.20366\tval's multi_logloss: 0.205768\n",
      "[900]\ttrain's multi_logloss: 0.19046\tval's multi_logloss: 0.192578\n",
      "[1000]\ttrain's multi_logloss: 0.179552\tval's multi_logloss: 0.181836\n",
      "[1100]\ttrain's multi_logloss: 0.169727\tval's multi_logloss: 0.1721\n",
      "[1200]\ttrain's multi_logloss: 0.162039\tval's multi_logloss: 0.164412\n",
      "[1300]\ttrain's multi_logloss: 0.155637\tval's multi_logloss: 0.157979\n",
      "[1400]\ttrain's multi_logloss: 0.14982\tval's multi_logloss: 0.152234\n",
      "[1500]\ttrain's multi_logloss: 0.144632\tval's multi_logloss: 0.147083\n",
      "[1600]\ttrain's multi_logloss: 0.139655\tval's multi_logloss: 0.14215\n",
      "[1700]\ttrain's multi_logloss: 0.13529\tval's multi_logloss: 0.137843\n",
      "[1800]\ttrain's multi_logloss: 0.131059\tval's multi_logloss: 0.133602\n",
      "[1900]\ttrain's multi_logloss: 0.127484\tval's multi_logloss: 0.130013\n",
      "[2000]\ttrain's multi_logloss: 0.124625\tval's multi_logloss: 0.127107\n",
      "Did not meet early stopping. Best iteration is:\n",
      "[2000]\ttrain's multi_logloss: 0.124625\tval's multi_logloss: 0.127107\n",
      "[CV]  num_leaves=127, min_child_samples=30, max_depth=8, learning_rate=0.05, lambda_l2=7, lambda_l1=0, score=0.871, total=23.4min\n",
      "[Parallel(n_jobs=1)]: Done  22 out of  22 | elapsed: 453.3min remaining:    0.0s\n",
      "[CV] num_leaves=127, min_child_samples=30, max_depth=8, learning_rate=0.05, lambda_l2=7, lambda_l1=0 \n"
     ]
    },
    {
     "name": "stdout",
     "output_type": "stream",
     "text": [
      "Training until validation scores don't improve for 100 rounds\n",
      "[100]\ttrain's multi_logloss: 0.442856\tval's multi_logloss: 0.44584\n",
      "[200]\ttrain's multi_logloss: 0.364787\tval's multi_logloss: 0.366628\n",
      "[300]\ttrain's multi_logloss: 0.319887\tval's multi_logloss: 0.321319\n",
      "[400]\ttrain's multi_logloss: 0.284003\tval's multi_logloss: 0.284958\n",
      "[500]\ttrain's multi_logloss: 0.256317\tval's multi_logloss: 0.25721\n",
      "[600]\ttrain's multi_logloss: 0.234781\tval's multi_logloss: 0.235515\n",
      "[700]\ttrain's multi_logloss: 0.21729\tval's multi_logloss: 0.218075\n",
      "[800]\ttrain's multi_logloss: 0.202127\tval's multi_logloss: 0.202905\n",
      "[900]\ttrain's multi_logloss: 0.18918\tval's multi_logloss: 0.190031\n",
      "[1000]\ttrain's multi_logloss: 0.178771\tval's multi_logloss: 0.179701\n",
      "[1100]\ttrain's multi_logloss: 0.169441\tval's multi_logloss: 0.170315\n",
      "[1200]\ttrain's multi_logloss: 0.161751\tval's multi_logloss: 0.162536\n",
      "[1300]\ttrain's multi_logloss: 0.155218\tval's multi_logloss: 0.156006\n",
      "[1400]\ttrain's multi_logloss: 0.14863\tval's multi_logloss: 0.149423\n",
      "[1500]\ttrain's multi_logloss: 0.14331\tval's multi_logloss: 0.144061\n",
      "[1600]\ttrain's multi_logloss: 0.138612\tval's multi_logloss: 0.139363\n",
      "[1700]\ttrain's multi_logloss: 0.134182\tval's multi_logloss: 0.134937\n",
      "[1800]\ttrain's multi_logloss: 0.130546\tval's multi_logloss: 0.131272\n",
      "[1900]\ttrain's multi_logloss: 0.127458\tval's multi_logloss: 0.12807\n",
      "[2000]\ttrain's multi_logloss: 0.124531\tval's multi_logloss: 0.125124\n",
      "Did not meet early stopping. Best iteration is:\n",
      "[2000]\ttrain's multi_logloss: 0.124531\tval's multi_logloss: 0.125124\n",
      "[CV]  num_leaves=127, min_child_samples=30, max_depth=8, learning_rate=0.05, lambda_l2=7, lambda_l1=0, score=0.871, total=23.6min\n",
      "[Parallel(n_jobs=1)]: Done  23 out of  23 | elapsed: 476.9min remaining:    0.0s\n",
      "[CV] num_leaves=127, min_child_samples=30, max_depth=8, learning_rate=0.05, lambda_l2=7, lambda_l1=0 \n",
      "Training until validation scores don't improve for 100 rounds\n",
      "[100]\ttrain's multi_logloss: 0.442392\tval's multi_logloss: 0.446471\n",
      "[200]\ttrain's multi_logloss: 0.366619\tval's multi_logloss: 0.370119\n",
      "[300]\ttrain's multi_logloss: 0.322256\tval's multi_logloss: 0.325303\n",
      "[400]\ttrain's multi_logloss: 0.285597\tval's multi_logloss: 0.288492\n",
      "[500]\ttrain's multi_logloss: 0.258162\tval's multi_logloss: 0.261079\n",
      "[600]\ttrain's multi_logloss: 0.235266\tval's multi_logloss: 0.238143\n",
      "[700]\ttrain's multi_logloss: 0.217408\tval's multi_logloss: 0.220264\n",
      "[800]\ttrain's multi_logloss: 0.202553\tval's multi_logloss: 0.205288\n",
      "[900]\ttrain's multi_logloss: 0.18851\tval's multi_logloss: 0.191166\n",
      "[1000]\ttrain's multi_logloss: 0.178584\tval's multi_logloss: 0.181311\n",
      "[1100]\ttrain's multi_logloss: 0.169107\tval's multi_logloss: 0.171676\n",
      "[1200]\ttrain's multi_logloss: 0.160956\tval's multi_logloss: 0.16339\n",
      "[1300]\ttrain's multi_logloss: 0.15318\tval's multi_logloss: 0.155568\n",
      "[1400]\ttrain's multi_logloss: 0.14733\tval's multi_logloss: 0.149631\n",
      "[1500]\ttrain's multi_logloss: 0.142135\tval's multi_logloss: 0.144373\n",
      "[1600]\ttrain's multi_logloss: 0.137523\tval's multi_logloss: 0.139665\n",
      "[1700]\ttrain's multi_logloss: 0.13366\tval's multi_logloss: 0.135765\n",
      "[1800]\ttrain's multi_logloss: 0.130358\tval's multi_logloss: 0.132527\n",
      "[1900]\ttrain's multi_logloss: 0.127224\tval's multi_logloss: 0.129317\n",
      "[2000]\ttrain's multi_logloss: 0.124123\tval's multi_logloss: 0.126062\n",
      "Did not meet early stopping. Best iteration is:\n",
      "[2000]\ttrain's multi_logloss: 0.124123\tval's multi_logloss: 0.126062\n",
      "[CV]  num_leaves=127, min_child_samples=30, max_depth=8, learning_rate=0.05, lambda_l2=7, lambda_l1=0, score=0.872, total=23.6min\n",
      "[Parallel(n_jobs=1)]: Done  24 out of  24 | elapsed: 500.5min remaining:    0.0s\n",
      "[CV] num_leaves=127, min_child_samples=30, max_depth=8, learning_rate=0.05, lambda_l2=7, lambda_l1=0 \n",
      "Training until validation scores don't improve for 100 rounds\n",
      "[100]\ttrain's multi_logloss: 0.441684\tval's multi_logloss: 0.444936\n",
      "[200]\ttrain's multi_logloss: 0.365731\tval's multi_logloss: 0.368262\n",
      "[300]\ttrain's multi_logloss: 0.319671\tval's multi_logloss: 0.322034\n",
      "[400]\ttrain's multi_logloss: 0.285071\tval's multi_logloss: 0.286887\n",
      "[500]\ttrain's multi_logloss: 0.258528\tval's multi_logloss: 0.25986\n",
      "[600]\ttrain's multi_logloss: 0.234585\tval's multi_logloss: 0.235869\n",
      "[700]\ttrain's multi_logloss: 0.216198\tval's multi_logloss: 0.217389\n",
      "[800]\ttrain's multi_logloss: 0.201208\tval's multi_logloss: 0.202296\n",
      "[900]\ttrain's multi_logloss: 0.188581\tval's multi_logloss: 0.189585\n",
      "[1000]\ttrain's multi_logloss: 0.177527\tval's multi_logloss: 0.178394\n",
      "[1100]\ttrain's multi_logloss: 0.168229\tval's multi_logloss: 0.169024\n",
      "[1200]\ttrain's multi_logloss: 0.16055\tval's multi_logloss: 0.161307\n",
      "[1300]\ttrain's multi_logloss: 0.153738\tval's multi_logloss: 0.154429\n",
      "[1400]\ttrain's multi_logloss: 0.147755\tval's multi_logloss: 0.148343\n",
      "[1500]\ttrain's multi_logloss: 0.142749\tval's multi_logloss: 0.143249\n",
      "[1600]\ttrain's multi_logloss: 0.13823\tval's multi_logloss: 0.138671\n",
      "[1700]\ttrain's multi_logloss: 0.134022\tval's multi_logloss: 0.134293\n",
      "[1800]\ttrain's multi_logloss: 0.130525\tval's multi_logloss: 0.130702\n",
      "[1900]\ttrain's multi_logloss: 0.127433\tval's multi_logloss: 0.127541\n",
      "[2000]\ttrain's multi_logloss: 0.124522\tval's multi_logloss: 0.124456\n",
      "Did not meet early stopping. Best iteration is:\n",
      "[2000]\ttrain's multi_logloss: 0.124522\tval's multi_logloss: 0.124456\n",
      "[CV]  num_leaves=127, min_child_samples=30, max_depth=8, learning_rate=0.05, lambda_l2=7, lambda_l1=0, score=0.873, total=23.9min\n",
      "[Parallel(n_jobs=1)]: Done  25 out of  25 | elapsed: 524.4min remaining:    0.0s\n",
      "[CV] num_leaves=255, min_child_samples=50, max_depth=9, learning_rate=0.01, lambda_l2=0, lambda_l1=0 \n",
      "Training until validation scores don't improve for 100 rounds\n",
      "[100]\ttrain's multi_logloss: 1.06867\tval's multi_logloss: 1.07268\n",
      "[200]\ttrain's multi_logloss: 0.663478\tval's multi_logloss: 0.668068\n",
      "[300]\ttrain's multi_logloss: 0.504726\tval's multi_logloss: 0.509296\n",
      "[400]\ttrain's multi_logloss: 0.432631\tval's multi_logloss: 0.437132\n",
      "[500]\ttrain's multi_logloss: 0.393328\tval's multi_logloss: 0.397818\n",
      "[600]\ttrain's multi_logloss: 0.367988\tval's multi_logloss: 0.372529\n",
      "[700]\ttrain's multi_logloss: 0.350066\tval's multi_logloss: 0.354685\n",
      "[800]\ttrain's multi_logloss: 0.334972\tval's multi_logloss: 0.33946\n",
      "[900]\ttrain's multi_logloss: 0.322372\tval's multi_logloss: 0.326741\n",
      "[1000]\ttrain's multi_logloss: 0.310836\tval's multi_logloss: 0.315133\n",
      "[1100]\ttrain's multi_logloss: 0.300226\tval's multi_logloss: 0.304358\n",
      "[1200]\ttrain's multi_logloss: 0.290034\tval's multi_logloss: 0.294167\n",
      "[1300]\ttrain's multi_logloss: 0.280288\tval's multi_logloss: 0.284409\n",
      "[1400]\ttrain's multi_logloss: 0.271133\tval's multi_logloss: 0.275221\n",
      "[1500]\ttrain's multi_logloss: 0.2619\tval's multi_logloss: 0.265989\n",
      "[1600]\ttrain's multi_logloss: 0.252553\tval's multi_logloss: 0.256612\n",
      "[1700]\ttrain's multi_logloss: 0.243743\tval's multi_logloss: 0.247726\n",
      "[1800]\ttrain's multi_logloss: 0.235274\tval's multi_logloss: 0.239234\n",
      "[1900]\ttrain's multi_logloss: 0.227288\tval's multi_logloss: 0.231118\n",
      "[2000]\ttrain's multi_logloss: 0.2203\tval's multi_logloss: 0.224082\n",
      "Did not meet early stopping. Best iteration is:\n",
      "[2000]\ttrain's multi_logloss: 0.2203\tval's multi_logloss: 0.224082\n",
      "[CV]  num_leaves=255, min_child_samples=50, max_depth=9, learning_rate=0.01, lambda_l2=0, lambda_l1=0, score=0.861, total=34.6min\n",
      "[Parallel(n_jobs=1)]: Done  26 out of  26 | elapsed: 559.0min remaining:    0.0s\n",
      "[CV] num_leaves=255, min_child_samples=50, max_depth=9, learning_rate=0.01, lambda_l2=0, lambda_l1=0 \n",
      "Training until validation scores don't improve for 100 rounds\n",
      "[100]\ttrain's multi_logloss: 1.06764\tval's multi_logloss: 1.07147\n",
      "[200]\ttrain's multi_logloss: 0.663136\tval's multi_logloss: 0.667148\n",
      "[300]\ttrain's multi_logloss: 0.504444\tval's multi_logloss: 0.508253\n",
      "[400]\ttrain's multi_logloss: 0.432993\tval's multi_logloss: 0.436815\n",
      "[500]\ttrain's multi_logloss: 0.394531\tval's multi_logloss: 0.398144\n",
      "[600]\ttrain's multi_logloss: 0.369404\tval's multi_logloss: 0.37302\n",
      "[700]\ttrain's multi_logloss: 0.351988\tval's multi_logloss: 0.355637\n",
      "[800]\ttrain's multi_logloss: 0.337818\tval's multi_logloss: 0.341679\n",
      "[900]\ttrain's multi_logloss: 0.325826\tval's multi_logloss: 0.32973\n",
      "[1000]\ttrain's multi_logloss: 0.314652\tval's multi_logloss: 0.318594\n",
      "[1100]\ttrain's multi_logloss: 0.30458\tval's multi_logloss: 0.308498\n"
     ]
    },
    {
     "name": "stdout",
     "output_type": "stream",
     "text": [
      "[1200]\ttrain's multi_logloss: 0.294411\tval's multi_logloss: 0.298247\n",
      "[1300]\ttrain's multi_logloss: 0.284194\tval's multi_logloss: 0.288071\n",
      "[1400]\ttrain's multi_logloss: 0.274354\tval's multi_logloss: 0.278156\n",
      "[1500]\ttrain's multi_logloss: 0.264542\tval's multi_logloss: 0.268366\n",
      "[1600]\ttrain's multi_logloss: 0.255068\tval's multi_logloss: 0.258942\n",
      "[1700]\ttrain's multi_logloss: 0.246606\tval's multi_logloss: 0.250556\n",
      "[1800]\ttrain's multi_logloss: 0.238557\tval's multi_logloss: 0.242443\n",
      "[1900]\ttrain's multi_logloss: 0.23076\tval's multi_logloss: 0.23459\n",
      "[2000]\ttrain's multi_logloss: 0.223294\tval's multi_logloss: 0.227047\n",
      "Did not meet early stopping. Best iteration is:\n",
      "[2000]\ttrain's multi_logloss: 0.223294\tval's multi_logloss: 0.227047\n",
      "[CV]  num_leaves=255, min_child_samples=50, max_depth=9, learning_rate=0.01, lambda_l2=0, lambda_l1=0, score=0.864, total=35.3min\n",
      "[Parallel(n_jobs=1)]: Done  27 out of  27 | elapsed: 594.3min remaining:    0.0s\n",
      "[CV] num_leaves=255, min_child_samples=50, max_depth=9, learning_rate=0.01, lambda_l2=0, lambda_l1=0 \n",
      "Training until validation scores don't improve for 100 rounds\n",
      "[100]\ttrain's multi_logloss: 1.06959\tval's multi_logloss: 1.07297\n",
      "[200]\ttrain's multi_logloss: 0.664943\tval's multi_logloss: 0.668557\n",
      "[300]\ttrain's multi_logloss: 0.506467\tval's multi_logloss: 0.509478\n",
      "[400]\ttrain's multi_logloss: 0.434681\tval's multi_logloss: 0.437026\n",
      "[500]\ttrain's multi_logloss: 0.395433\tval's multi_logloss: 0.397276\n",
      "[600]\ttrain's multi_logloss: 0.369857\tval's multi_logloss: 0.371198\n",
      "[700]\ttrain's multi_logloss: 0.350898\tval's multi_logloss: 0.352103\n",
      "[800]\ttrain's multi_logloss: 0.336065\tval's multi_logloss: 0.337238\n",
      "[900]\ttrain's multi_logloss: 0.323481\tval's multi_logloss: 0.324566\n",
      "[1000]\ttrain's multi_logloss: 0.312346\tval's multi_logloss: 0.313325\n",
      "[1100]\ttrain's multi_logloss: 0.301967\tval's multi_logloss: 0.30288\n",
      "[1200]\ttrain's multi_logloss: 0.292103\tval's multi_logloss: 0.292939\n",
      "[1300]\ttrain's multi_logloss: 0.282532\tval's multi_logloss: 0.283184\n",
      "[1400]\ttrain's multi_logloss: 0.272776\tval's multi_logloss: 0.273227\n",
      "[1500]\ttrain's multi_logloss: 0.26312\tval's multi_logloss: 0.263388\n",
      "[1600]\ttrain's multi_logloss: 0.253859\tval's multi_logloss: 0.25413\n",
      "[1700]\ttrain's multi_logloss: 0.244995\tval's multi_logloss: 0.245256\n",
      "[1800]\ttrain's multi_logloss: 0.237224\tval's multi_logloss: 0.237456\n",
      "[1900]\ttrain's multi_logloss: 0.229595\tval's multi_logloss: 0.22989\n",
      "[2000]\ttrain's multi_logloss: 0.222558\tval's multi_logloss: 0.222847\n",
      "Did not meet early stopping. Best iteration is:\n",
      "[2000]\ttrain's multi_logloss: 0.222558\tval's multi_logloss: 0.222847\n",
      "[CV]  num_leaves=255, min_child_samples=50, max_depth=9, learning_rate=0.01, lambda_l2=0, lambda_l1=0, score=0.863, total=77.2min\n",
      "[Parallel(n_jobs=1)]: Done  28 out of  28 | elapsed: 671.5min remaining:    0.0s\n",
      "[CV] num_leaves=255, min_child_samples=50, max_depth=9, learning_rate=0.01, lambda_l2=0, lambda_l1=0 \n",
      "Training until validation scores don't improve for 100 rounds\n",
      "[100]\ttrain's multi_logloss: 1.0679\tval's multi_logloss: 1.07147\n",
      "[200]\ttrain's multi_logloss: 0.664027\tval's multi_logloss: 0.668065\n",
      "[300]\ttrain's multi_logloss: 0.506191\tval's multi_logloss: 0.510384\n",
      "[400]\ttrain's multi_logloss: 0.433919\tval's multi_logloss: 0.437982\n",
      "[500]\ttrain's multi_logloss: 0.394436\tval's multi_logloss: 0.398667\n",
      "[600]\ttrain's multi_logloss: 0.36903\tval's multi_logloss: 0.373276\n",
      "[700]\ttrain's multi_logloss: 0.350966\tval's multi_logloss: 0.355262\n",
      "[800]\ttrain's multi_logloss: 0.336351\tval's multi_logloss: 0.340546\n",
      "[900]\ttrain's multi_logloss: 0.323887\tval's multi_logloss: 0.328153\n",
      "[1000]\ttrain's multi_logloss: 0.31347\tval's multi_logloss: 0.317649\n",
      "[1100]\ttrain's multi_logloss: 0.302821\tval's multi_logloss: 0.306743\n",
      "[1200]\ttrain's multi_logloss: 0.292566\tval's multi_logloss: 0.296368\n",
      "[1300]\ttrain's multi_logloss: 0.282854\tval's multi_logloss: 0.286528\n",
      "[1400]\ttrain's multi_logloss: 0.273077\tval's multi_logloss: 0.276663\n",
      "[1500]\ttrain's multi_logloss: 0.263846\tval's multi_logloss: 0.267479\n",
      "[1600]\ttrain's multi_logloss: 0.254965\tval's multi_logloss: 0.258596\n",
      "[1700]\ttrain's multi_logloss: 0.246425\tval's multi_logloss: 0.250081\n",
      "[1800]\ttrain's multi_logloss: 0.238241\tval's multi_logloss: 0.241852\n",
      "[1900]\ttrain's multi_logloss: 0.230315\tval's multi_logloss: 0.233913\n",
      "[2000]\ttrain's multi_logloss: 0.222959\tval's multi_logloss: 0.22649\n",
      "Did not meet early stopping. Best iteration is:\n",
      "[2000]\ttrain's multi_logloss: 0.222959\tval's multi_logloss: 0.22649\n",
      "[CV]  num_leaves=255, min_child_samples=50, max_depth=9, learning_rate=0.01, lambda_l2=0, lambda_l1=0, score=0.864, total=85.5min\n",
      "[Parallel(n_jobs=1)]: Done  29 out of  29 | elapsed: 757.0min remaining:    0.0s\n",
      "[CV] num_leaves=255, min_child_samples=50, max_depth=9, learning_rate=0.01, lambda_l2=0, lambda_l1=0 \n",
      "Training until validation scores don't improve for 100 rounds\n",
      "[100]\ttrain's multi_logloss: 1.06837\tval's multi_logloss: 1.07128\n",
      "[200]\ttrain's multi_logloss: 0.664502\tval's multi_logloss: 0.667676\n",
      "[300]\ttrain's multi_logloss: 0.506084\tval's multi_logloss: 0.509048\n",
      "[400]\ttrain's multi_logloss: 0.433083\tval's multi_logloss: 0.43593\n",
      "[500]\ttrain's multi_logloss: 0.393111\tval's multi_logloss: 0.395656\n",
      "[600]\ttrain's multi_logloss: 0.367382\tval's multi_logloss: 0.369826\n",
      "[700]\ttrain's multi_logloss: 0.348986\tval's multi_logloss: 0.351493\n",
      "[800]\ttrain's multi_logloss: 0.333997\tval's multi_logloss: 0.33649\n",
      "[900]\ttrain's multi_logloss: 0.321117\tval's multi_logloss: 0.323371\n",
      "[1000]\ttrain's multi_logloss: 0.310506\tval's multi_logloss: 0.312836\n",
      "[1100]\ttrain's multi_logloss: 0.299341\tval's multi_logloss: 0.301346\n",
      "[1200]\ttrain's multi_logloss: 0.289515\tval's multi_logloss: 0.291269\n",
      "[1300]\ttrain's multi_logloss: 0.280303\tval's multi_logloss: 0.281925\n",
      "[1400]\ttrain's multi_logloss: 0.271225\tval's multi_logloss: 0.272736\n",
      "[1500]\ttrain's multi_logloss: 0.262396\tval's multi_logloss: 0.263726\n",
      "[1600]\ttrain's multi_logloss: 0.253426\tval's multi_logloss: 0.254725\n",
      "[1700]\ttrain's multi_logloss: 0.244928\tval's multi_logloss: 0.246103\n",
      "[1800]\ttrain's multi_logloss: 0.237327\tval's multi_logloss: 0.238442\n",
      "[1900]\ttrain's multi_logloss: 0.229437\tval's multi_logloss: 0.230321\n",
      "[2000]\ttrain's multi_logloss: 0.222258\tval's multi_logloss: 0.222989\n",
      "Did not meet early stopping. Best iteration is:\n",
      "[2000]\ttrain's multi_logloss: 0.222258\tval's multi_logloss: 0.222989\n",
      "[CV]  num_leaves=255, min_child_samples=50, max_depth=9, learning_rate=0.01, lambda_l2=0, lambda_l1=0, score=0.865, total=86.1min\n",
      "[Parallel(n_jobs=1)]: Done  30 out of  30 | elapsed: 843.0min remaining:    0.0s\n",
      "[CV] num_leaves=127, min_child_samples=30, max_depth=9, learning_rate=0.01, lambda_l2=3, lambda_l1=0 \n",
      "Training until validation scores don't improve for 100 rounds\n",
      "[100]\ttrain's multi_logloss: 1.08968\tval's multi_logloss: 1.09341\n",
      "[200]\ttrain's multi_logloss: 0.682859\tval's multi_logloss: 0.687276\n",
      "[300]\ttrain's multi_logloss: 0.522702\tval's multi_logloss: 0.526989\n",
      "[400]\ttrain's multi_logloss: 0.450611\tval's multi_logloss: 0.455081\n",
      "[500]\ttrain's multi_logloss: 0.411121\tval's multi_logloss: 0.415488\n",
      "[600]\ttrain's multi_logloss: 0.385833\tval's multi_logloss: 0.390016\n",
      "[700]\ttrain's multi_logloss: 0.367674\tval's multi_logloss: 0.371798\n",
      "[800]\ttrain's multi_logloss: 0.353313\tval's multi_logloss: 0.357548\n",
      "[900]\ttrain's multi_logloss: 0.340998\tval's multi_logloss: 0.34521\n",
      "[1000]\ttrain's multi_logloss: 0.32903\tval's multi_logloss: 0.333292\n",
      "[1100]\ttrain's multi_logloss: 0.318313\tval's multi_logloss: 0.322628\n",
      "[1200]\ttrain's multi_logloss: 0.308368\tval's multi_logloss: 0.312715\n",
      "[1300]\ttrain's multi_logloss: 0.298565\tval's multi_logloss: 0.302958\n",
      "[1400]\ttrain's multi_logloss: 0.289531\tval's multi_logloss: 0.293949\n",
      "[1500]\ttrain's multi_logloss: 0.281116\tval's multi_logloss: 0.285699\n",
      "[1600]\ttrain's multi_logloss: 0.272695\tval's multi_logloss: 0.277353\n",
      "[1700]\ttrain's multi_logloss: 0.264848\tval's multi_logloss: 0.269537\n",
      "[1800]\ttrain's multi_logloss: 0.257168\tval's multi_logloss: 0.261934\n",
      "[1900]\ttrain's multi_logloss: 0.249699\tval's multi_logloss: 0.254435\n",
      "[2000]\ttrain's multi_logloss: 0.242738\tval's multi_logloss: 0.247362\n",
      "Did not meet early stopping. Best iteration is:\n",
      "[2000]\ttrain's multi_logloss: 0.242738\tval's multi_logloss: 0.247362\n",
      "[CV]  num_leaves=127, min_child_samples=30, max_depth=9, learning_rate=0.01, lambda_l2=3, lambda_l1=0, score=0.860, total=53.6min\n",
      "[Parallel(n_jobs=1)]: Done  31 out of  31 | elapsed: 896.6min remaining:    0.0s\n",
      "[CV] num_leaves=127, min_child_samples=30, max_depth=9, learning_rate=0.01, lambda_l2=3, lambda_l1=0 \n"
     ]
    },
    {
     "name": "stdout",
     "output_type": "stream",
     "text": [
      "Training until validation scores don't improve for 100 rounds\n",
      "[100]\ttrain's multi_logloss: 1.08905\tval's multi_logloss: 1.09263\n",
      "[200]\ttrain's multi_logloss: 0.682529\tval's multi_logloss: 0.686569\n",
      "[300]\ttrain's multi_logloss: 0.52327\tval's multi_logloss: 0.527239\n",
      "[400]\ttrain's multi_logloss: 0.451376\tval's multi_logloss: 0.455202\n",
      "[500]\ttrain's multi_logloss: 0.412167\tval's multi_logloss: 0.415465\n",
      "[600]\ttrain's multi_logloss: 0.38695\tval's multi_logloss: 0.389708\n",
      "[700]\ttrain's multi_logloss: 0.369663\tval's multi_logloss: 0.372255\n",
      "[800]\ttrain's multi_logloss: 0.355867\tval's multi_logloss: 0.35848\n",
      "[900]\ttrain's multi_logloss: 0.343303\tval's multi_logloss: 0.34597\n",
      "[1000]\ttrain's multi_logloss: 0.331077\tval's multi_logloss: 0.333685\n",
      "[1100]\ttrain's multi_logloss: 0.319778\tval's multi_logloss: 0.322427\n",
      "[1200]\ttrain's multi_logloss: 0.309616\tval's multi_logloss: 0.312244\n",
      "[1300]\ttrain's multi_logloss: 0.300383\tval's multi_logloss: 0.303172\n",
      "[1400]\ttrain's multi_logloss: 0.291664\tval's multi_logloss: 0.29461\n",
      "[1500]\ttrain's multi_logloss: 0.282633\tval's multi_logloss: 0.285648\n",
      "[1600]\ttrain's multi_logloss: 0.274205\tval's multi_logloss: 0.277206\n",
      "[1700]\ttrain's multi_logloss: 0.266202\tval's multi_logloss: 0.269162\n",
      "[1800]\ttrain's multi_logloss: 0.258205\tval's multi_logloss: 0.261112\n",
      "[1900]\ttrain's multi_logloss: 0.250913\tval's multi_logloss: 0.253755\n",
      "[2000]\ttrain's multi_logloss: 0.244185\tval's multi_logloss: 0.246995\n",
      "Did not meet early stopping. Best iteration is:\n",
      "[2000]\ttrain's multi_logloss: 0.244185\tval's multi_logloss: 0.246995\n",
      "[CV]  num_leaves=127, min_child_samples=30, max_depth=9, learning_rate=0.01, lambda_l2=3, lambda_l1=0, score=0.862, total=52.7min\n",
      "[Parallel(n_jobs=1)]: Done  32 out of  32 | elapsed: 949.3min remaining:    0.0s\n",
      "[CV] num_leaves=127, min_child_samples=30, max_depth=9, learning_rate=0.01, lambda_l2=3, lambda_l1=0 \n",
      "Training until validation scores don't improve for 100 rounds\n",
      "[100]\ttrain's multi_logloss: 1.08987\tval's multi_logloss: 1.09323\n",
      "[200]\ttrain's multi_logloss: 0.683885\tval's multi_logloss: 0.6878\n",
      "[300]\ttrain's multi_logloss: 0.524843\tval's multi_logloss: 0.528317\n",
      "[400]\ttrain's multi_logloss: 0.452561\tval's multi_logloss: 0.455444\n",
      "[500]\ttrain's multi_logloss: 0.412813\tval's multi_logloss: 0.415016\n",
      "[600]\ttrain's multi_logloss: 0.387328\tval's multi_logloss: 0.388919\n",
      "[700]\ttrain's multi_logloss: 0.368574\tval's multi_logloss: 0.369898\n",
      "[800]\ttrain's multi_logloss: 0.354454\tval's multi_logloss: 0.355506\n",
      "[900]\ttrain's multi_logloss: 0.34168\tval's multi_logloss: 0.342527\n",
      "[1000]\ttrain's multi_logloss: 0.330813\tval's multi_logloss: 0.331568\n",
      "[1100]\ttrain's multi_logloss: 0.320549\tval's multi_logloss: 0.321357\n",
      "[1200]\ttrain's multi_logloss: 0.310565\tval's multi_logloss: 0.311281\n",
      "[1300]\ttrain's multi_logloss: 0.300594\tval's multi_logloss: 0.301223\n",
      "[1400]\ttrain's multi_logloss: 0.290907\tval's multi_logloss: 0.291382\n",
      "[1500]\ttrain's multi_logloss: 0.28231\tval's multi_logloss: 0.282581\n",
      "[1600]\ttrain's multi_logloss: 0.273819\tval's multi_logloss: 0.274035\n",
      "[1700]\ttrain's multi_logloss: 0.266549\tval's multi_logloss: 0.266786\n",
      "[1800]\ttrain's multi_logloss: 0.259584\tval's multi_logloss: 0.259806\n",
      "[1900]\ttrain's multi_logloss: 0.25271\tval's multi_logloss: 0.252865\n",
      "[2000]\ttrain's multi_logloss: 0.246232\tval's multi_logloss: 0.246259\n",
      "Did not meet early stopping. Best iteration is:\n",
      "[2000]\ttrain's multi_logloss: 0.246232\tval's multi_logloss: 0.246259\n",
      "[CV]  num_leaves=127, min_child_samples=30, max_depth=9, learning_rate=0.01, lambda_l2=3, lambda_l1=0, score=0.861, total=71.9min\n",
      "[Parallel(n_jobs=1)]: Done  33 out of  33 | elapsed: 1021.2min remaining:    0.0s\n",
      "[CV] num_leaves=127, min_child_samples=30, max_depth=9, learning_rate=0.01, lambda_l2=3, lambda_l1=0 \n",
      "Training until validation scores don't improve for 100 rounds\n",
      "[100]\ttrain's multi_logloss: 1.08972\tval's multi_logloss: 1.09304\n",
      "[200]\ttrain's multi_logloss: 0.683001\tval's multi_logloss: 0.686754\n",
      "[300]\ttrain's multi_logloss: 0.524037\tval's multi_logloss: 0.528066\n",
      "[400]\ttrain's multi_logloss: 0.451463\tval's multi_logloss: 0.455652\n",
      "[500]\ttrain's multi_logloss: 0.411608\tval's multi_logloss: 0.415668\n",
      "[600]\ttrain's multi_logloss: 0.386401\tval's multi_logloss: 0.390202\n",
      "[700]\ttrain's multi_logloss: 0.368424\tval's multi_logloss: 0.372017\n",
      "[800]\ttrain's multi_logloss: 0.354457\tval's multi_logloss: 0.358221\n",
      "[900]\ttrain's multi_logloss: 0.341948\tval's multi_logloss: 0.345535\n",
      "[1000]\ttrain's multi_logloss: 0.330571\tval's multi_logloss: 0.334081\n",
      "[1100]\ttrain's multi_logloss: 0.319955\tval's multi_logloss: 0.323428\n",
      "[1200]\ttrain's multi_logloss: 0.310076\tval's multi_logloss: 0.31341\n",
      "[1300]\ttrain's multi_logloss: 0.300253\tval's multi_logloss: 0.303561\n",
      "[1400]\ttrain's multi_logloss: 0.290341\tval's multi_logloss: 0.293639\n",
      "[1500]\ttrain's multi_logloss: 0.28152\tval's multi_logloss: 0.284907\n",
      "[1600]\ttrain's multi_logloss: 0.273332\tval's multi_logloss: 0.276731\n",
      "[1700]\ttrain's multi_logloss: 0.265701\tval's multi_logloss: 0.269154\n",
      "[1800]\ttrain's multi_logloss: 0.258277\tval's multi_logloss: 0.26178\n",
      "[1900]\ttrain's multi_logloss: 0.251208\tval's multi_logloss: 0.254711\n",
      "[2000]\ttrain's multi_logloss: 0.244446\tval's multi_logloss: 0.247851\n",
      "Did not meet early stopping. Best iteration is:\n",
      "[2000]\ttrain's multi_logloss: 0.244446\tval's multi_logloss: 0.247851\n",
      "[CV]  num_leaves=127, min_child_samples=30, max_depth=9, learning_rate=0.01, lambda_l2=3, lambda_l1=0, score=0.863, total=101.9min\n",
      "[Parallel(n_jobs=1)]: Done  34 out of  34 | elapsed: 1123.1min remaining:    0.0s\n",
      "[CV] num_leaves=127, min_child_samples=30, max_depth=9, learning_rate=0.01, lambda_l2=3, lambda_l1=0 \n",
      "Training until validation scores don't improve for 100 rounds\n",
      "[100]\ttrain's multi_logloss: 1.09036\tval's multi_logloss: 1.09375\n",
      "[200]\ttrain's multi_logloss: 0.683889\tval's multi_logloss: 0.687788\n",
      "[300]\ttrain's multi_logloss: 0.524286\tval's multi_logloss: 0.527928\n",
      "[400]\ttrain's multi_logloss: 0.450906\tval's multi_logloss: 0.454358\n"
     ]
    }
   ],
   "source": [
    "#와 3시간.. fold = 3,cv =5, n_iter =2 \n",
    "for fold, (train_ids, val_ids) in enumerate(Fold.split(X,y)):\n",
    "    print(\"★\", fold, \"start\")\n",
    "    eval_set = [(X.iloc[train_ids], y.iloc[train_ids]),(X.iloc[val_ids], y.iloc[val_ids])]\n",
    "    eval_names = ['train','val']\n",
    "    random_search.fit(X, y, eval_set = eval_set, eval_names = eval_names, early_stopping_rounds = 100,verbose = 100)"
   ]
  },
  {
   "cell_type": "code",
   "execution_count": null,
   "metadata": {
    "ExecuteTime": {
     "start_time": "2020-02-23T23:45:31.787Z"
    }
   },
   "outputs": [],
   "source": [
    "params2 = random_search.best_params_"
   ]
  },
  {
   "cell_type": "code",
   "execution_count": null,
   "metadata": {
    "ExecuteTime": {
     "start_time": "2020-02-23T23:45:31.792Z"
    }
   },
   "outputs": [],
   "source": [
    "params2"
   ]
  },
  {
   "cell_type": "code",
   "execution_count": null,
   "metadata": {
    "ExecuteTime": {
     "start_time": "2020-02-24T08:04:36.177Z"
    }
   },
   "outputs": [],
   "source": [
    "random_search.best_scores_"
   ]
  },
  {
   "cell_type": "code",
   "execution_count": null,
   "metadata": {
    "ExecuteTime": {
     "start_time": "2020-02-23T23:45:31.794Z"
    }
   },
   "outputs": [],
   "source": [
    "gmodel = random_search.best_estimator_"
   ]
  },
  {
   "cell_type": "code",
   "execution_count": null,
   "metadata": {
    "ExecuteTime": {
     "start_time": "2020-02-23T23:45:31.796Z"
    }
   },
   "outputs": [],
   "source": [
    "gmodel"
   ]
  },
  {
   "cell_type": "code",
   "execution_count": null,
   "metadata": {
    "ExecuteTime": {
     "start_time": "2020-02-23T23:45:31.798Z"
    }
   },
   "outputs": [],
   "source": [
    "gmodel.fit(X,y)"
   ]
  },
  {
   "cell_type": "code",
   "execution_count": null,
   "metadata": {
    "ExecuteTime": {
     "start_time": "2020-02-23T23:45:31.800Z"
    }
   },
   "outputs": [],
   "source": [
    "y_pred = gmodel.predict_proba(test_X)"
   ]
  },
  {
   "cell_type": "code",
   "execution_count": null,
   "metadata": {
    "ExecuteTime": {
     "start_time": "2020-02-23T23:45:31.808Z"
    }
   },
   "outputs": [],
   "source": [
    "y_pred"
   ]
  },
  {
   "cell_type": "code",
   "execution_count": null,
   "metadata": {
    "ExecuteTime": {
     "start_time": "2020-02-23T23:45:34.612Z"
    }
   },
   "outputs": [],
   "source": [
    "submission = pd.DataFrame(data=y_pred, columns=sample_submission_df.columns, index=sample_submission_df.index)\n",
    "submission.to_csv('./submisson/submission.csv', index=True)"
   ]
  },
  {
   "cell_type": "markdown",
   "metadata": {},
   "source": [
    "## Modeling"
   ]
  },
  {
   "cell_type": "code",
   "execution_count": null,
   "metadata": {
    "ExecuteTime": {
     "start_time": "2020-02-22T04:19:43.152Z"
    }
   },
   "outputs": [],
   "source": [
    "fig, axs = plt.subplots(1, 2, figsize=[15, 4])\n",
    "\n",
    "# Plot the log loss during training\n",
    "axs[0].plot(evaluation_results['Train']['multi_logloss'], label='Train')\n",
    "axs[0].plot(evaluation_results['Test']['multi_logloss'], label='Test')\n",
    "axs[0].set_ylabel('Log loss')\n",
    "axs[0].set_xlabel('Boosting round')\n",
    "axs[0].set_title('Training performance')\n",
    "axs[0].legend()\n",
    "\n",
    "# Plot feature importance\n",
    "importances = pd.DataFrame({'features': lgmb_model.feature_name(), \n",
    "                            'importance': lgmb_model.feature_importance()}).sort_values('importance', ascending=False).head(10)\n",
    "axs[1].bar(x=np.arange(len(importances)), height=importances['importance'])\n",
    "axs[1].set_xticks(np.arange(len(importances)))\n",
    "axs[1].set_xticklabels(importances['features'])\n",
    "axs[1].set_ylabel('Feature importance (# times used to split)')\n",
    "axs[1].set_title('Feature importance')\n",
    "plt.xticks(rotation=45)\n",
    "\n",
    "plt.show()"
   ]
  },
  {
   "cell_type": "code",
   "execution_count": null,
   "metadata": {
    "ExecuteTime": {
     "start_time": "2020-02-22T04:19:43.582Z"
    }
   },
   "outputs": [],
   "source": [
    "train_y_pred = lgmb_model.predict(X_test)\n",
    "real_y_pred = lgmb_model.predict(test_X)"
   ]
  },
  {
   "cell_type": "code",
   "execution_count": null,
   "metadata": {
    "ExecuteTime": {
     "start_time": "2020-02-22T04:19:43.889Z"
    }
   },
   "outputs": [],
   "source": [
    "train_y_pred.shape"
   ]
  },
  {
   "cell_type": "code",
   "execution_count": null,
   "metadata": {
    "ExecuteTime": {
     "start_time": "2020-02-22T04:19:44.098Z"
    },
    "scrolled": true
   },
   "outputs": [],
   "source": [
    "#log_loss\n",
    "log_loss(y_test,train_y_pred,labels= list(set(y_test)))"
   ]
  },
  {
   "cell_type": "code",
   "execution_count": null,
   "metadata": {
    "ExecuteTime": {
     "start_time": "2020-02-22T04:19:44.376Z"
    }
   },
   "outputs": [],
   "source": [
    "lgmb_model.feature_importance()"
   ]
  },
  {
   "cell_type": "markdown",
   "metadata": {},
   "source": [
    "### feature_importance"
   ]
  },
  {
   "cell_type": "code",
   "execution_count": null,
   "metadata": {
    "ExecuteTime": {
     "start_time": "2020-02-22T04:19:45.136Z"
    }
   },
   "outputs": [],
   "source": [
    "pi_df = pd.DataFrame(lgmb_model.feature_importance(), index= train_X.columns,columns= ['importance']).sort_values('importance',ascending = False)\n",
    "pi_df.head(10)"
   ]
  },
  {
   "cell_type": "markdown",
   "metadata": {},
   "source": [
    "### 예측결과에 대해\n",
    "* 12번이 모두 6번으로 몰림\n",
    "중간예측 : 0(STAR_WHITE_DWARF-2160),2(STAR_BROWN_DWARF-500),7(SERENDIPITY_DISTANT-4654),11(ROSAT_D-6580)\n",
    "망한예측 : 12(STAR_PN-13),17(SERENDIPITY_MANUAL-61)"
   ]
  },
  {
   "cell_type": "code",
   "execution_count": null,
   "metadata": {
    "ExecuteTime": {
     "start_time": "2020-02-22T04:19:45.746Z"
    }
   },
   "outputs": [],
   "source": [
    "cm_result = pd.DataFrame(confusion_matrix(y_test,np.argmax(train_y_pred,axis = 1)))"
   ]
  },
  {
   "cell_type": "code",
   "execution_count": null,
   "metadata": {
    "ExecuteTime": {
     "start_time": "2020-02-22T04:19:45.952Z"
    }
   },
   "outputs": [],
   "source": [
    "number_columns"
   ]
  },
  {
   "cell_type": "code",
   "execution_count": null,
   "metadata": {
    "ExecuteTime": {
     "start_time": "2020-02-22T04:19:46.144Z"
    }
   },
   "outputs": [],
   "source": [
    "train_df.type.value_counts()"
   ]
  },
  {
   "cell_type": "code",
   "execution_count": null,
   "metadata": {
    "ExecuteTime": {
     "start_time": "2020-02-22T04:19:46.329Z"
    }
   },
   "outputs": [],
   "source": [
    "cm_result"
   ]
  },
  {
   "cell_type": "code",
   "execution_count": null,
   "metadata": {
    "ExecuteTime": {
     "start_time": "2020-02-22T04:19:46.509Z"
    },
    "scrolled": false
   },
   "outputs": [],
   "source": [
    "plt.figure(figsize =(15,15))\n",
    "sns.heatmap(cm_result/np.sum(cm_result),annot = True, cmap ='RdYlGn',fmt='.1%')\n",
    "plt.ylabel(\"real\",fontsize=20)\n",
    "plt.xlabel(\"predict\",fontsize=20)\n",
    "plt.show()"
   ]
  },
  {
   "cell_type": "markdown",
   "metadata": {},
   "source": [
    "# REAL"
   ]
  },
  {
   "cell_type": "code",
   "execution_count": null,
   "metadata": {
    "ExecuteTime": {
     "start_time": "2020-02-22T04:19:46.866Z"
    }
   },
   "outputs": [],
   "source": [
    "train_ds = lgb.Dataset(train_X, label = train_y)"
   ]
  },
  {
   "cell_type": "code",
   "execution_count": null,
   "metadata": {
    "ExecuteTime": {
     "start_time": "2020-02-22T04:19:47.243Z"
    }
   },
   "outputs": [],
   "source": [
    "lgmb_model = lgb.train(params, train_ds,num_boost_round= 2000, verbose_eval=100)"
   ]
  },
  {
   "cell_type": "code",
   "execution_count": null,
   "metadata": {
    "ExecuteTime": {
     "start_time": "2020-02-22T04:19:47.449Z"
    }
   },
   "outputs": [],
   "source": [
    "y_pred = lgmb_model.predict(test_X)"
   ]
  },
  {
   "cell_type": "code",
   "execution_count": null,
   "metadata": {
    "ExecuteTime": {
     "start_time": "2020-02-22T04:19:47.642Z"
    }
   },
   "outputs": [],
   "source": [
    "y_pred"
   ]
  },
  {
   "cell_type": "code",
   "execution_count": 51,
   "metadata": {
    "ExecuteTime": {
     "end_time": "2020-02-23T13:37:35.215625Z",
     "start_time": "2020-02-23T13:37:34.793519Z"
    }
   },
   "outputs": [],
   "source": [
    "submission = pd.DataFrame(data=y_pred, columns=sample_submission_df.columns, index=sample_submission_df.index)\n",
    "submission.to_csv('./submisson/submission.csv', index=True)"
   ]
  },
  {
   "cell_type": "code",
   "execution_count": null,
   "metadata": {},
   "outputs": [],
   "source": []
  }
 ],
 "metadata": {
  "kernelspec": {
   "display_name": "Python 3",
   "language": "python",
   "name": "python3"
  },
  "language_info": {
   "codemirror_mode": {
    "name": "ipython",
    "version": 3
   },
   "file_extension": ".py",
   "mimetype": "text/x-python",
   "name": "python",
   "nbconvert_exporter": "python",
   "pygments_lexer": "ipython3",
   "version": "3.6.5"
  },
  "varInspector": {
   "cols": {
    "lenName": 16,
    "lenType": 16,
    "lenVar": 40
   },
   "kernels_config": {
    "python": {
     "delete_cmd_postfix": "",
     "delete_cmd_prefix": "del ",
     "library": "var_list.py",
     "varRefreshCmd": "print(var_dic_list())"
    },
    "r": {
     "delete_cmd_postfix": ") ",
     "delete_cmd_prefix": "rm(",
     "library": "var_list.r",
     "varRefreshCmd": "cat(var_dic_list()) "
    }
   },
   "types_to_exclude": [
    "module",
    "function",
    "builtin_function_or_method",
    "instance",
    "_Feature"
   ],
   "window_display": false
  }
 },
 "nbformat": 4,
 "nbformat_minor": 2
}
