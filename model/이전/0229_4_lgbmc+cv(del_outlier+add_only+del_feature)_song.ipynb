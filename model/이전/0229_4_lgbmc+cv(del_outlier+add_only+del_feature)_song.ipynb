{
 "cells": [
  {
   "cell_type": "markdown",
   "metadata": {},
   "source": [
    "# Tune_lgb\n",
    "* 제출결과 : "
   ]
  },
  {
   "cell_type": "code",
   "execution_count": 38,
   "metadata": {
    "ExecuteTime": {
     "end_time": "2020-02-29T08:04:42.982000Z",
     "start_time": "2020-02-29T08:04:42.976000Z"
    }
   },
   "outputs": [
    {
     "data": {
      "text/html": [
       "<style>.container {width:100% !important; }</style>"
      ],
      "text/plain": [
       "<IPython.core.display.HTML object>"
      ]
     },
     "metadata": {},
     "output_type": "display_data"
    }
   ],
   "source": [
    "import pandas as pd\n",
    "import numpy as np\n",
    "import matplotlib.pyplot as plt\n",
    "import seaborn as sns\n",
    "\n",
    "from sklearn.ensemble import RandomForestClassifier\n",
    "from sklearn.model_selection import train_test_split\n",
    "from sklearn.metrics import confusion_matrix\n",
    "from sklearn.metrics import log_loss\n",
    "import lightgbm as lgb\n",
    "\n",
    "from IPython.core.display import display, HTML\n",
    "display(HTML('<style>.container {width:100% !important; }</style>'))"
   ]
  },
  {
   "cell_type": "code",
   "execution_count": 96,
   "metadata": {
    "ExecuteTime": {
     "end_time": "2020-02-29T13:18:23.599000Z",
     "start_time": "2020-02-29T13:18:22.574000Z"
    }
   },
   "outputs": [],
   "source": [
    "path = \"./data/\" \n",
    "train_df = pd.read_csv(path+'train.csv',index_col=0)\n",
    "test_df = pd.read_csv(path+'test.csv',index_col=0)\n",
    "sample_submission_df = pd.read_csv(path+'sample_submission.csv',index_col=0)\n",
    "pd.options.display.max_columns = 30"
   ]
  },
  {
   "cell_type": "markdown",
   "metadata": {},
   "source": [
    "## 전처리\n",
    " - 이상치 확인 및 처리"
   ]
  },
  {
   "cell_type": "code",
   "execution_count": 97,
   "metadata": {
    "ExecuteTime": {
     "end_time": "2020-02-29T13:18:24.053000Z",
     "start_time": "2020-02-29T13:18:23.824000Z"
    }
   },
   "outputs": [
    {
     "data": {
      "text/html": [
       "<div>\n",
       "<style scoped>\n",
       "    .dataframe tbody tr th:only-of-type {\n",
       "        vertical-align: middle;\n",
       "    }\n",
       "\n",
       "    .dataframe tbody tr th {\n",
       "        vertical-align: top;\n",
       "    }\n",
       "\n",
       "    .dataframe thead th {\n",
       "        text-align: right;\n",
       "    }\n",
       "</style>\n",
       "<table border=\"1\" class=\"dataframe\">\n",
       "  <thead>\n",
       "    <tr style=\"text-align: right;\">\n",
       "      <th></th>\n",
       "      <th>fiberID</th>\n",
       "      <th>psfMag_u</th>\n",
       "      <th>psfMag_g</th>\n",
       "      <th>psfMag_r</th>\n",
       "      <th>psfMag_i</th>\n",
       "      <th>psfMag_z</th>\n",
       "      <th>fiberMag_u</th>\n",
       "      <th>fiberMag_g</th>\n",
       "      <th>fiberMag_r</th>\n",
       "      <th>fiberMag_i</th>\n",
       "      <th>fiberMag_z</th>\n",
       "      <th>petroMag_u</th>\n",
       "      <th>petroMag_g</th>\n",
       "      <th>petroMag_r</th>\n",
       "      <th>petroMag_i</th>\n",
       "      <th>petroMag_z</th>\n",
       "      <th>modelMag_u</th>\n",
       "      <th>modelMag_g</th>\n",
       "      <th>modelMag_r</th>\n",
       "      <th>modelMag_i</th>\n",
       "      <th>modelMag_z</th>\n",
       "    </tr>\n",
       "  </thead>\n",
       "  <tbody>\n",
       "    <tr>\n",
       "      <td>count</td>\n",
       "      <td>199991.000000</td>\n",
       "      <td>1.999910e+05</td>\n",
       "      <td>199991.000000</td>\n",
       "      <td>199991.000000</td>\n",
       "      <td>199991.000000</td>\n",
       "      <td>199991.000000</td>\n",
       "      <td>1.999910e+05</td>\n",
       "      <td>199991.000000</td>\n",
       "      <td>199991.000000</td>\n",
       "      <td>199991.000000</td>\n",
       "      <td>199991.000000</td>\n",
       "      <td>199991.000000</td>\n",
       "      <td>199991.000000</td>\n",
       "      <td>199991.000000</td>\n",
       "      <td>199991.000000</td>\n",
       "      <td>199991.000000</td>\n",
       "      <td>199991.000000</td>\n",
       "      <td>199991.000000</td>\n",
       "      <td>199991.000000</td>\n",
       "      <td>199991.000000</td>\n",
       "      <td>199991.000000</td>\n",
       "    </tr>\n",
       "    <tr>\n",
       "      <td>mean</td>\n",
       "      <td>360.830152</td>\n",
       "      <td>-6.750146e+00</td>\n",
       "      <td>18.675373</td>\n",
       "      <td>18.401235</td>\n",
       "      <td>18.043495</td>\n",
       "      <td>17.663526</td>\n",
       "      <td>1.084986e+01</td>\n",
       "      <td>19.072693</td>\n",
       "      <td>19.134483</td>\n",
       "      <td>18.183331</td>\n",
       "      <td>18.000882</td>\n",
       "      <td>21.837903</td>\n",
       "      <td>18.454136</td>\n",
       "      <td>18.481525</td>\n",
       "      <td>17.686617</td>\n",
       "      <td>17.699207</td>\n",
       "      <td>20.110991</td>\n",
       "      <td>18.544375</td>\n",
       "      <td>18.181544</td>\n",
       "      <td>17.692395</td>\n",
       "      <td>17.189281</td>\n",
       "    </tr>\n",
       "    <tr>\n",
       "      <td>std</td>\n",
       "      <td>225.305890</td>\n",
       "      <td>1.187678e+04</td>\n",
       "      <td>155.423024</td>\n",
       "      <td>127.128078</td>\n",
       "      <td>116.622194</td>\n",
       "      <td>123.735298</td>\n",
       "      <td>4.172116e+03</td>\n",
       "      <td>749.256162</td>\n",
       "      <td>90.049058</td>\n",
       "      <td>122.378972</td>\n",
       "      <td>145.862346</td>\n",
       "      <td>789.472333</td>\n",
       "      <td>154.376277</td>\n",
       "      <td>97.240448</td>\n",
       "      <td>145.730872</td>\n",
       "      <td>142.691880</td>\n",
       "      <td>122.299062</td>\n",
       "      <td>161.728183</td>\n",
       "      <td>133.984475</td>\n",
       "      <td>131.183416</td>\n",
       "      <td>133.685138</td>\n",
       "    </tr>\n",
       "    <tr>\n",
       "      <td>min</td>\n",
       "      <td>1.000000</td>\n",
       "      <td>-5.310802e+06</td>\n",
       "      <td>-40022.466071</td>\n",
       "      <td>-27184.795793</td>\n",
       "      <td>-26566.310827</td>\n",
       "      <td>-24878.828280</td>\n",
       "      <td>-1.864766e+06</td>\n",
       "      <td>-215882.917191</td>\n",
       "      <td>-21802.656144</td>\n",
       "      <td>-20208.516262</td>\n",
       "      <td>-26505.602101</td>\n",
       "      <td>-24463.431833</td>\n",
       "      <td>-25958.752324</td>\n",
       "      <td>-23948.588523</td>\n",
       "      <td>-40438.184078</td>\n",
       "      <td>-30070.729379</td>\n",
       "      <td>-26236.578659</td>\n",
       "      <td>-36902.402336</td>\n",
       "      <td>-36439.638493</td>\n",
       "      <td>-38969.416822</td>\n",
       "      <td>-26050.710196</td>\n",
       "    </tr>\n",
       "    <tr>\n",
       "      <td>25%</td>\n",
       "      <td>174.000000</td>\n",
       "      <td>1.965259e+01</td>\n",
       "      <td>18.701180</td>\n",
       "      <td>18.048572</td>\n",
       "      <td>17.747663</td>\n",
       "      <td>17.425523</td>\n",
       "      <td>1.994040e+01</td>\n",
       "      <td>18.902851</td>\n",
       "      <td>18.259352</td>\n",
       "      <td>17.903615</td>\n",
       "      <td>17.606148</td>\n",
       "      <td>19.247795</td>\n",
       "      <td>18.113933</td>\n",
       "      <td>17.479794</td>\n",
       "      <td>17.050294</td>\n",
       "      <td>16.804705</td>\n",
       "      <td>19.266214</td>\n",
       "      <td>18.076120</td>\n",
       "      <td>17.423425</td>\n",
       "      <td>16.977671</td>\n",
       "      <td>16.705774</td>\n",
       "    </tr>\n",
       "    <tr>\n",
       "      <td>50%</td>\n",
       "      <td>349.000000</td>\n",
       "      <td>2.087136e+01</td>\n",
       "      <td>19.904235</td>\n",
       "      <td>19.454492</td>\n",
       "      <td>19.043895</td>\n",
       "      <td>18.611799</td>\n",
       "      <td>2.104910e+01</td>\n",
       "      <td>20.069038</td>\n",
       "      <td>19.631419</td>\n",
       "      <td>19.188763</td>\n",
       "      <td>18.710967</td>\n",
       "      <td>20.366848</td>\n",
       "      <td>19.586559</td>\n",
       "      <td>19.182789</td>\n",
       "      <td>18.693370</td>\n",
       "      <td>18.174592</td>\n",
       "      <td>20.406840</td>\n",
       "      <td>19.547674</td>\n",
       "      <td>19.143156</td>\n",
       "      <td>18.641756</td>\n",
       "      <td>18.100997</td>\n",
       "    </tr>\n",
       "    <tr>\n",
       "      <td>75%</td>\n",
       "      <td>526.000000</td>\n",
       "      <td>2.216043e+01</td>\n",
       "      <td>21.150297</td>\n",
       "      <td>20.515936</td>\n",
       "      <td>20.073528</td>\n",
       "      <td>19.883760</td>\n",
       "      <td>2.233754e+01</td>\n",
       "      <td>21.385830</td>\n",
       "      <td>20.773911</td>\n",
       "      <td>20.331419</td>\n",
       "      <td>20.133179</td>\n",
       "      <td>21.797480</td>\n",
       "      <td>21.004397</td>\n",
       "      <td>20.457491</td>\n",
       "      <td>20.019112</td>\n",
       "      <td>19.807652</td>\n",
       "      <td>21.992898</td>\n",
       "      <td>20.962386</td>\n",
       "      <td>20.408140</td>\n",
       "      <td>19.968846</td>\n",
       "      <td>19.819554</td>\n",
       "    </tr>\n",
       "    <tr>\n",
       "      <td>max</td>\n",
       "      <td>1000.000000</td>\n",
       "      <td>1.877392e+04</td>\n",
       "      <td>3538.984910</td>\n",
       "      <td>3048.110913</td>\n",
       "      <td>4835.218639</td>\n",
       "      <td>9823.740407</td>\n",
       "      <td>4.870154e+03</td>\n",
       "      <td>248077.513380</td>\n",
       "      <td>12084.735440</td>\n",
       "      <td>8059.638535</td>\n",
       "      <td>18358.921741</td>\n",
       "      <td>298771.019041</td>\n",
       "      <td>12139.815877</td>\n",
       "      <td>7003.136546</td>\n",
       "      <td>9772.190537</td>\n",
       "      <td>17403.789263</td>\n",
       "      <td>14488.251976</td>\n",
       "      <td>10582.058590</td>\n",
       "      <td>12237.951703</td>\n",
       "      <td>4062.499371</td>\n",
       "      <td>7420.534172</td>\n",
       "    </tr>\n",
       "  </tbody>\n",
       "</table>\n",
       "</div>"
      ],
      "text/plain": [
       "             fiberID      psfMag_u       psfMag_g       psfMag_r  \\\n",
       "count  199991.000000  1.999910e+05  199991.000000  199991.000000   \n",
       "mean      360.830152 -6.750146e+00      18.675373      18.401235   \n",
       "std       225.305890  1.187678e+04     155.423024     127.128078   \n",
       "min         1.000000 -5.310802e+06  -40022.466071  -27184.795793   \n",
       "25%       174.000000  1.965259e+01      18.701180      18.048572   \n",
       "50%       349.000000  2.087136e+01      19.904235      19.454492   \n",
       "75%       526.000000  2.216043e+01      21.150297      20.515936   \n",
       "max      1000.000000  1.877392e+04    3538.984910    3048.110913   \n",
       "\n",
       "            psfMag_i       psfMag_z    fiberMag_u     fiberMag_g  \\\n",
       "count  199991.000000  199991.000000  1.999910e+05  199991.000000   \n",
       "mean       18.043495      17.663526  1.084986e+01      19.072693   \n",
       "std       116.622194     123.735298  4.172116e+03     749.256162   \n",
       "min    -26566.310827  -24878.828280 -1.864766e+06 -215882.917191   \n",
       "25%        17.747663      17.425523  1.994040e+01      18.902851   \n",
       "50%        19.043895      18.611799  2.104910e+01      20.069038   \n",
       "75%        20.073528      19.883760  2.233754e+01      21.385830   \n",
       "max      4835.218639    9823.740407  4.870154e+03  248077.513380   \n",
       "\n",
       "          fiberMag_r     fiberMag_i     fiberMag_z     petroMag_u  \\\n",
       "count  199991.000000  199991.000000  199991.000000  199991.000000   \n",
       "mean       19.134483      18.183331      18.000882      21.837903   \n",
       "std        90.049058     122.378972     145.862346     789.472333   \n",
       "min    -21802.656144  -20208.516262  -26505.602101  -24463.431833   \n",
       "25%        18.259352      17.903615      17.606148      19.247795   \n",
       "50%        19.631419      19.188763      18.710967      20.366848   \n",
       "75%        20.773911      20.331419      20.133179      21.797480   \n",
       "max     12084.735440    8059.638535   18358.921741  298771.019041   \n",
       "\n",
       "          petroMag_g     petroMag_r     petroMag_i     petroMag_z  \\\n",
       "count  199991.000000  199991.000000  199991.000000  199991.000000   \n",
       "mean       18.454136      18.481525      17.686617      17.699207   \n",
       "std       154.376277      97.240448     145.730872     142.691880   \n",
       "min    -25958.752324  -23948.588523  -40438.184078  -30070.729379   \n",
       "25%        18.113933      17.479794      17.050294      16.804705   \n",
       "50%        19.586559      19.182789      18.693370      18.174592   \n",
       "75%        21.004397      20.457491      20.019112      19.807652   \n",
       "max     12139.815877    7003.136546    9772.190537   17403.789263   \n",
       "\n",
       "          modelMag_u     modelMag_g     modelMag_r     modelMag_i  \\\n",
       "count  199991.000000  199991.000000  199991.000000  199991.000000   \n",
       "mean       20.110991      18.544375      18.181544      17.692395   \n",
       "std       122.299062     161.728183     133.984475     131.183416   \n",
       "min    -26236.578659  -36902.402336  -36439.638493  -38969.416822   \n",
       "25%        19.266214      18.076120      17.423425      16.977671   \n",
       "50%        20.406840      19.547674      19.143156      18.641756   \n",
       "75%        21.992898      20.962386      20.408140      19.968846   \n",
       "max     14488.251976   10582.058590   12237.951703    4062.499371   \n",
       "\n",
       "          modelMag_z  \n",
       "count  199991.000000  \n",
       "mean       17.189281  \n",
       "std       133.685138  \n",
       "min    -26050.710196  \n",
       "25%        16.705774  \n",
       "50%        18.100997  \n",
       "75%        19.819554  \n",
       "max      7420.534172  "
      ]
     },
     "execution_count": 97,
     "metadata": {},
     "output_type": "execute_result"
    }
   ],
   "source": [
    "train_df.describe()"
   ]
  },
  {
   "cell_type": "code",
   "execution_count": 98,
   "metadata": {
    "ExecuteTime": {
     "end_time": "2020-02-29T13:18:24.534000Z",
     "start_time": "2020-02-29T13:18:24.425000Z"
    }
   },
   "outputs": [],
   "source": [
    "def del_outlier(data, min=0, max=60):\n",
    "    up_idx_t=()\n",
    "    dw_idx_t=()\n",
    "    train_light = data.iloc[:,2:]\n",
    "    for i in range(len(train_light.columns)):\n",
    "        col = train_light.columns[i]\n",
    "        up_idx_t+=tuple(data[data[col]>max].index)\n",
    "        dw_idx_t+=tuple(data[data[col]<min].index)\n",
    "    del_idx = set(up_idx_t+dw_idx_t)\n",
    "    \n",
    "    return data[~data.index.isin(del_idx)]"
   ]
  },
  {
   "cell_type": "code",
   "execution_count": 99,
   "metadata": {
    "ExecuteTime": {
     "end_time": "2020-02-29T13:18:24.721000Z",
     "start_time": "2020-02-29T13:18:24.635000Z"
    }
   },
   "outputs": [],
   "source": [
    "train_df = del_outlier(train_df, min=-60, max=60)"
   ]
  },
  {
   "cell_type": "code",
   "execution_count": 100,
   "metadata": {
    "ExecuteTime": {
     "end_time": "2020-02-29T13:18:25.038000Z",
     "start_time": "2020-02-29T13:18:24.817000Z"
    }
   },
   "outputs": [
    {
     "data": {
      "text/html": [
       "<div>\n",
       "<style scoped>\n",
       "    .dataframe tbody tr th:only-of-type {\n",
       "        vertical-align: middle;\n",
       "    }\n",
       "\n",
       "    .dataframe tbody tr th {\n",
       "        vertical-align: top;\n",
       "    }\n",
       "\n",
       "    .dataframe thead th {\n",
       "        text-align: right;\n",
       "    }\n",
       "</style>\n",
       "<table border=\"1\" class=\"dataframe\">\n",
       "  <thead>\n",
       "    <tr style=\"text-align: right;\">\n",
       "      <th></th>\n",
       "      <th>fiberID</th>\n",
       "      <th>psfMag_u</th>\n",
       "      <th>psfMag_g</th>\n",
       "      <th>psfMag_r</th>\n",
       "      <th>psfMag_i</th>\n",
       "      <th>psfMag_z</th>\n",
       "      <th>fiberMag_u</th>\n",
       "      <th>fiberMag_g</th>\n",
       "      <th>fiberMag_r</th>\n",
       "      <th>fiberMag_i</th>\n",
       "      <th>fiberMag_z</th>\n",
       "      <th>petroMag_u</th>\n",
       "      <th>petroMag_g</th>\n",
       "      <th>petroMag_r</th>\n",
       "      <th>petroMag_i</th>\n",
       "      <th>petroMag_z</th>\n",
       "      <th>modelMag_u</th>\n",
       "      <th>modelMag_g</th>\n",
       "      <th>modelMag_r</th>\n",
       "      <th>modelMag_i</th>\n",
       "      <th>modelMag_z</th>\n",
       "    </tr>\n",
       "  </thead>\n",
       "  <tbody>\n",
       "    <tr>\n",
       "      <td>count</td>\n",
       "      <td>199805.000000</td>\n",
       "      <td>199805.000000</td>\n",
       "      <td>199805.000000</td>\n",
       "      <td>199805.000000</td>\n",
       "      <td>199805.000000</td>\n",
       "      <td>199805.000000</td>\n",
       "      <td>199805.000000</td>\n",
       "      <td>199805.000000</td>\n",
       "      <td>199805.000000</td>\n",
       "      <td>199805.000000</td>\n",
       "      <td>199805.000000</td>\n",
       "      <td>199805.000000</td>\n",
       "      <td>199805.000000</td>\n",
       "      <td>199805.000000</td>\n",
       "      <td>199805.000000</td>\n",
       "      <td>199805.000000</td>\n",
       "      <td>199805.000000</td>\n",
       "      <td>199805.000000</td>\n",
       "      <td>199805.000000</td>\n",
       "      <td>199805.000000</td>\n",
       "      <td>199805.000000</td>\n",
       "    </tr>\n",
       "    <tr>\n",
       "      <td>mean</td>\n",
       "      <td>360.874257</td>\n",
       "      <td>20.984096</td>\n",
       "      <td>19.860971</td>\n",
       "      <td>19.286994</td>\n",
       "      <td>18.872327</td>\n",
       "      <td>18.612319</td>\n",
       "      <td>21.171538</td>\n",
       "      <td>20.089746</td>\n",
       "      <td>19.505260</td>\n",
       "      <td>19.087316</td>\n",
       "      <td>18.828446</td>\n",
       "      <td>20.710347</td>\n",
       "      <td>19.600430</td>\n",
       "      <td>19.005845</td>\n",
       "      <td>18.605146</td>\n",
       "      <td>18.391528</td>\n",
       "      <td>20.731087</td>\n",
       "      <td>19.530585</td>\n",
       "      <td>18.939735</td>\n",
       "      <td>18.520452</td>\n",
       "      <td>18.276576</td>\n",
       "    </tr>\n",
       "    <tr>\n",
       "      <td>std</td>\n",
       "      <td>225.326886</td>\n",
       "      <td>2.084378</td>\n",
       "      <td>1.868696</td>\n",
       "      <td>1.721250</td>\n",
       "      <td>1.628469</td>\n",
       "      <td>1.684458</td>\n",
       "      <td>1.982522</td>\n",
       "      <td>1.842191</td>\n",
       "      <td>1.706138</td>\n",
       "      <td>1.626217</td>\n",
       "      <td>1.676483</td>\n",
       "      <td>2.441525</td>\n",
       "      <td>2.098483</td>\n",
       "      <td>1.971022</td>\n",
       "      <td>1.906945</td>\n",
       "      <td>2.056474</td>\n",
       "      <td>2.187267</td>\n",
       "      <td>1.959114</td>\n",
       "      <td>1.859963</td>\n",
       "      <td>1.796639</td>\n",
       "      <td>1.864622</td>\n",
       "    </tr>\n",
       "    <tr>\n",
       "      <td>min</td>\n",
       "      <td>1.000000</td>\n",
       "      <td>-12.978725</td>\n",
       "      <td>-19.537079</td>\n",
       "      <td>-43.795556</td>\n",
       "      <td>-6.406284</td>\n",
       "      <td>-6.793444</td>\n",
       "      <td>-55.669722</td>\n",
       "      <td>-8.294703</td>\n",
       "      <td>-11.531777</td>\n",
       "      <td>10.646672</td>\n",
       "      <td>8.049850</td>\n",
       "      <td>-50.847000</td>\n",
       "      <td>-52.501232</td>\n",
       "      <td>-56.256807</td>\n",
       "      <td>-34.494076</td>\n",
       "      <td>-45.646493</td>\n",
       "      <td>3.444448</td>\n",
       "      <td>12.498143</td>\n",
       "      <td>10.286917</td>\n",
       "      <td>11.337467</td>\n",
       "      <td>10.977328</td>\n",
       "    </tr>\n",
       "    <tr>\n",
       "      <td>25%</td>\n",
       "      <td>174.000000</td>\n",
       "      <td>19.652802</td>\n",
       "      <td>18.701527</td>\n",
       "      <td>18.048615</td>\n",
       "      <td>17.747666</td>\n",
       "      <td>17.425886</td>\n",
       "      <td>19.941482</td>\n",
       "      <td>18.903532</td>\n",
       "      <td>18.259827</td>\n",
       "      <td>17.904548</td>\n",
       "      <td>17.607016</td>\n",
       "      <td>19.248446</td>\n",
       "      <td>18.114513</td>\n",
       "      <td>17.480249</td>\n",
       "      <td>17.051207</td>\n",
       "      <td>16.805175</td>\n",
       "      <td>19.265847</td>\n",
       "      <td>18.075890</td>\n",
       "      <td>17.423282</td>\n",
       "      <td>16.977685</td>\n",
       "      <td>16.705562</td>\n",
       "    </tr>\n",
       "    <tr>\n",
       "      <td>50%</td>\n",
       "      <td>349.000000</td>\n",
       "      <td>20.870785</td>\n",
       "      <td>19.903867</td>\n",
       "      <td>19.454103</td>\n",
       "      <td>19.043575</td>\n",
       "      <td>18.611026</td>\n",
       "      <td>21.049142</td>\n",
       "      <td>20.069213</td>\n",
       "      <td>19.632080</td>\n",
       "      <td>19.189421</td>\n",
       "      <td>18.711351</td>\n",
       "      <td>20.366762</td>\n",
       "      <td>19.586264</td>\n",
       "      <td>19.182726</td>\n",
       "      <td>18.693855</td>\n",
       "      <td>18.173881</td>\n",
       "      <td>20.405706</td>\n",
       "      <td>19.546802</td>\n",
       "      <td>19.142725</td>\n",
       "      <td>18.641701</td>\n",
       "      <td>18.100568</td>\n",
       "    </tr>\n",
       "    <tr>\n",
       "      <td>75%</td>\n",
       "      <td>526.000000</td>\n",
       "      <td>22.158644</td>\n",
       "      <td>21.148771</td>\n",
       "      <td>20.515044</td>\n",
       "      <td>20.072993</td>\n",
       "      <td>19.883188</td>\n",
       "      <td>22.336839</td>\n",
       "      <td>21.385460</td>\n",
       "      <td>20.773880</td>\n",
       "      <td>20.331692</td>\n",
       "      <td>20.133244</td>\n",
       "      <td>21.795629</td>\n",
       "      <td>21.002840</td>\n",
       "      <td>20.456383</td>\n",
       "      <td>20.018679</td>\n",
       "      <td>19.806769</td>\n",
       "      <td>21.990515</td>\n",
       "      <td>20.960706</td>\n",
       "      <td>20.407299</td>\n",
       "      <td>19.968434</td>\n",
       "      <td>19.819179</td>\n",
       "    </tr>\n",
       "    <tr>\n",
       "      <td>max</td>\n",
       "      <td>1000.000000</td>\n",
       "      <td>53.410871</td>\n",
       "      <td>54.250456</td>\n",
       "      <td>54.501228</td>\n",
       "      <td>49.883443</td>\n",
       "      <td>42.136572</td>\n",
       "      <td>54.055822</td>\n",
       "      <td>37.745406</td>\n",
       "      <td>32.574603</td>\n",
       "      <td>42.002047</td>\n",
       "      <td>36.498179</td>\n",
       "      <td>58.298437</td>\n",
       "      <td>58.042137</td>\n",
       "      <td>55.633809</td>\n",
       "      <td>59.835880</td>\n",
       "      <td>57.578250</td>\n",
       "      <td>49.487277</td>\n",
       "      <td>59.987842</td>\n",
       "      <td>33.666494</td>\n",
       "      <td>45.783550</td>\n",
       "      <td>48.276514</td>\n",
       "    </tr>\n",
       "  </tbody>\n",
       "</table>\n",
       "</div>"
      ],
      "text/plain": [
       "             fiberID       psfMag_u       psfMag_g       psfMag_r  \\\n",
       "count  199805.000000  199805.000000  199805.000000  199805.000000   \n",
       "mean      360.874257      20.984096      19.860971      19.286994   \n",
       "std       225.326886       2.084378       1.868696       1.721250   \n",
       "min         1.000000     -12.978725     -19.537079     -43.795556   \n",
       "25%       174.000000      19.652802      18.701527      18.048615   \n",
       "50%       349.000000      20.870785      19.903867      19.454103   \n",
       "75%       526.000000      22.158644      21.148771      20.515044   \n",
       "max      1000.000000      53.410871      54.250456      54.501228   \n",
       "\n",
       "            psfMag_i       psfMag_z     fiberMag_u     fiberMag_g  \\\n",
       "count  199805.000000  199805.000000  199805.000000  199805.000000   \n",
       "mean       18.872327      18.612319      21.171538      20.089746   \n",
       "std         1.628469       1.684458       1.982522       1.842191   \n",
       "min        -6.406284      -6.793444     -55.669722      -8.294703   \n",
       "25%        17.747666      17.425886      19.941482      18.903532   \n",
       "50%        19.043575      18.611026      21.049142      20.069213   \n",
       "75%        20.072993      19.883188      22.336839      21.385460   \n",
       "max        49.883443      42.136572      54.055822      37.745406   \n",
       "\n",
       "          fiberMag_r     fiberMag_i     fiberMag_z     petroMag_u  \\\n",
       "count  199805.000000  199805.000000  199805.000000  199805.000000   \n",
       "mean       19.505260      19.087316      18.828446      20.710347   \n",
       "std         1.706138       1.626217       1.676483       2.441525   \n",
       "min       -11.531777      10.646672       8.049850     -50.847000   \n",
       "25%        18.259827      17.904548      17.607016      19.248446   \n",
       "50%        19.632080      19.189421      18.711351      20.366762   \n",
       "75%        20.773880      20.331692      20.133244      21.795629   \n",
       "max        32.574603      42.002047      36.498179      58.298437   \n",
       "\n",
       "          petroMag_g     petroMag_r     petroMag_i     petroMag_z  \\\n",
       "count  199805.000000  199805.000000  199805.000000  199805.000000   \n",
       "mean       19.600430      19.005845      18.605146      18.391528   \n",
       "std         2.098483       1.971022       1.906945       2.056474   \n",
       "min       -52.501232     -56.256807     -34.494076     -45.646493   \n",
       "25%        18.114513      17.480249      17.051207      16.805175   \n",
       "50%        19.586264      19.182726      18.693855      18.173881   \n",
       "75%        21.002840      20.456383      20.018679      19.806769   \n",
       "max        58.042137      55.633809      59.835880      57.578250   \n",
       "\n",
       "          modelMag_u     modelMag_g     modelMag_r     modelMag_i  \\\n",
       "count  199805.000000  199805.000000  199805.000000  199805.000000   \n",
       "mean       20.731087      19.530585      18.939735      18.520452   \n",
       "std         2.187267       1.959114       1.859963       1.796639   \n",
       "min         3.444448      12.498143      10.286917      11.337467   \n",
       "25%        19.265847      18.075890      17.423282      16.977685   \n",
       "50%        20.405706      19.546802      19.142725      18.641701   \n",
       "75%        21.990515      20.960706      20.407299      19.968434   \n",
       "max        49.487277      59.987842      33.666494      45.783550   \n",
       "\n",
       "          modelMag_z  \n",
       "count  199805.000000  \n",
       "mean       18.276576  \n",
       "std         1.864622  \n",
       "min        10.977328  \n",
       "25%        16.705562  \n",
       "50%        18.100568  \n",
       "75%        19.819179  \n",
       "max        48.276514  "
      ]
     },
     "execution_count": 100,
     "metadata": {},
     "output_type": "execute_result"
    }
   ],
   "source": [
    "train_df.describe()"
   ]
  },
  {
   "cell_type": "code",
   "execution_count": 101,
   "metadata": {
    "ExecuteTime": {
     "end_time": "2020-02-29T13:18:25.126000Z",
     "start_time": "2020-02-29T13:18:25.122000Z"
    }
   },
   "outputs": [
    {
     "data": {
      "text/plain": [
       "Index(['type', 'fiberID', 'psfMag_u', 'psfMag_g', 'psfMag_r', 'psfMag_i',\n",
       "       'psfMag_z', 'fiberMag_u', 'fiberMag_g', 'fiberMag_r', 'fiberMag_i',\n",
       "       'fiberMag_z', 'petroMag_u', 'petroMag_g', 'petroMag_r', 'petroMag_i',\n",
       "       'petroMag_z', 'modelMag_u', 'modelMag_g', 'modelMag_r', 'modelMag_i',\n",
       "       'modelMag_z'],\n",
       "      dtype='object')"
      ]
     },
     "execution_count": 101,
     "metadata": {},
     "output_type": "execute_result"
    }
   ],
   "source": [
    "train_df.columns"
   ]
  },
  {
   "cell_type": "markdown",
   "metadata": {},
   "source": [
    "## DATA Setting"
   ]
  },
  {
   "cell_type": "code",
   "execution_count": 102,
   "metadata": {
    "ExecuteTime": {
     "end_time": "2020-02-29T13:18:25.406000Z",
     "start_time": "2020-02-29T13:18:25.311000Z"
    }
   },
   "outputs": [],
   "source": [
    "column_number = {}\n",
    "number_columns = {}\n",
    "for i, column in enumerate(sample_submission_df.columns):\n",
    "    column_number[column] = i\n",
    "    number_columns[i] = column\n",
    "    \n",
    "    \n",
    "def to_number(x, dic):\n",
    "    return dic[x]\n",
    "\n",
    "train_df['type_num'] = train_df['type'].apply(lambda x: to_number(x, column_number))\n"
   ]
  },
  {
   "cell_type": "code",
   "execution_count": 103,
   "metadata": {
    "ExecuteTime": {
     "end_time": "2020-02-29T13:18:25.918000Z",
     "start_time": "2020-02-29T13:18:25.875000Z"
    }
   },
   "outputs": [],
   "source": [
    "def add_minus_feature_all(data,test = False):\n",
    "    '''\n",
    "    combination으로 모든 변수들의 조합에 대해서 컬럼생성 \n",
    "    각 mag에서 가장 높은값의 filter를 받아오는 \"~~mag_MAX\"생성\n",
    "    결과 64개로 증가\n",
    "    '''\n",
    "    from itertools import combinations\n",
    "    n = 0\n",
    "    for count in range(5,21,5):\n",
    "        s = 2\n",
    "        if test == True :\n",
    "            s = 1\n",
    "        selected = data.columns[s:].values[n:count]\n",
    "        mag = str.split(selected[0],'_')[0]\n",
    "        data[mag+\"_MAX\"] = data[selected].apply(lambda x : str.split(np.argmax(x),'_')[1],axis = 1)\n",
    "        for combi in list(combinations(selected,2)):\n",
    "            name_1st = str.split(combi[0],'_')[1]\n",
    "            name_2nd = str.split(combi[1],'_')[1]\n",
    "            data[mag+\"_\"+name_1st+\"-\"+name_2nd] = data[combi[0]]-data[combi[1]]\n",
    "        n=count\n",
    "    return data"
   ]
  },
  {
   "cell_type": "code",
   "execution_count": 104,
   "metadata": {
    "ExecuteTime": {
     "end_time": "2020-02-29T13:18:26.379000Z",
     "start_time": "2020-02-29T13:18:26.370000Z"
    }
   },
   "outputs": [],
   "source": [
    "def add_minus_feature(data,test = False):\n",
    "    '''\n",
    "    근접변수에 대해서만 컬럼생성 ex) 'fiberMag_u-g', 'fiberMag_g-r', 'fiberMag_r-i', 'fiberMag_i-z'\n",
    "    각 mag에서 가장 높은값의 filter를 받아오는 \"~~mag_MAX\"생성\n",
    "    결과 38개로 증가 \n",
    "    '''\n",
    "    from itertools import combinations\n",
    "    n = 0\n",
    "    m = 0\n",
    "    for count in range(5,21,5):\n",
    "        s = 2\n",
    "        if test == True :\n",
    "            s = 1\n",
    "        selected = data.columns[s:].values[n:count]\n",
    "        mag = str.split(selected[0],'_')[0]\n",
    "#         data[mag+\"_MAX\"] = data[selected].apply(lambda x : str.split(np.argmax(x),'_')[1],axis = 1)\n",
    "        for i in range(0,len(selected)):        \n",
    "            if i>0: \n",
    "                name_1st = str.split(m,'_')[1]\n",
    "                name_2nd = str.split(selected[i],'_')[1]\n",
    "                data[mag+\"_\"+name_1st+\"-\"+name_2nd] = data[m]-data[selected[i]]\n",
    "            m = selected[i]    \n",
    "        n=count\n",
    "    return data"
   ]
  },
  {
   "cell_type": "code",
   "execution_count": 105,
   "metadata": {
    "ExecuteTime": {
     "end_time": "2020-02-29T13:18:26.944000Z",
     "start_time": "2020-02-29T13:18:26.815000Z"
    }
   },
   "outputs": [],
   "source": [
    "train_df = add_minus_feature(train_df)\n",
    "test_df = add_minus_feature(test_df,True)"
   ]
  },
  {
   "cell_type": "code",
   "execution_count": 106,
   "metadata": {
    "ExecuteTime": {
     "end_time": "2020-02-29T13:18:27.143000Z",
     "start_time": "2020-02-29T13:18:27.139000Z"
    }
   },
   "outputs": [],
   "source": [
    "def label_encode(data):\n",
    "    '''\n",
    "    각 mag에서 가장 높은값의 filter를 labelencoding \n",
    "    '''\n",
    "    from sklearn.preprocessing import LabelEncoder\n",
    "    le = LabelEncoder()\n",
    "    taget_cols = ['psfMag_MAX','fiberMag_MAX','petroMag_MAX','modelMag_MAX']\n",
    "    for col in taget_cols:\n",
    "        data[col] = le.fit_transform(data[col])\n",
    "    return data"
   ]
  },
  {
   "cell_type": "code",
   "execution_count": 107,
   "metadata": {
    "ExecuteTime": {
     "end_time": "2020-02-29T13:18:27.351000Z",
     "start_time": "2020-02-29T13:18:27.349000Z"
    }
   },
   "outputs": [],
   "source": [
    "# train_df = label_encode(train_df)\n",
    "# test_df = label_encode(test_df)"
   ]
  },
  {
   "cell_type": "code",
   "execution_count": 108,
   "metadata": {
    "ExecuteTime": {
     "end_time": "2020-02-29T13:18:27.596000Z",
     "start_time": "2020-02-29T13:18:27.593000Z"
    }
   },
   "outputs": [],
   "source": [
    "# train_df.drop(columns=['psfMag_u', 'psfMag_g', 'psfMag_r', 'psfMag_i',\n",
    "#        'psfMag_z', 'fiberMag_u', 'fiberMag_g', 'fiberMag_r', 'fiberMag_i',\n",
    "#        'fiberMag_z', 'petroMag_u', 'petroMag_g', 'petroMag_r', 'petroMag_i',\n",
    "#        'petroMag_z', 'modelMag_u', 'modelMag_g', 'modelMag_r', 'modelMag_i',\n",
    "#        'modelMag_z'], inplace=True)\n",
    "\n",
    "# test_df.drop(columns=['psfMag_u', 'psfMag_g', 'psfMag_r', 'psfMag_i',\n",
    "#        'psfMag_z', 'fiberMag_u', 'fiberMag_g', 'fiberMag_r', 'fiberMag_i',\n",
    "#        'fiberMag_z', 'petroMag_u', 'petroMag_g', 'petroMag_r', 'petroMag_i',\n",
    "#        'petroMag_z', 'modelMag_u', 'modelMag_g', 'modelMag_r', 'modelMag_i',\n",
    "#        'modelMag_z'], inplace=True)\n"
   ]
  },
  {
   "cell_type": "code",
   "execution_count": 109,
   "metadata": {
    "ExecuteTime": {
     "end_time": "2020-02-29T13:18:28.026000Z",
     "start_time": "2020-02-29T13:18:27.929000Z"
    }
   },
   "outputs": [],
   "source": [
    "train_X = train_df.drop(columns=['type', 'type_num'], axis=1)\n",
    "train_y = train_df['type_num']"
   ]
  },
  {
   "cell_type": "code",
   "execution_count": 110,
   "metadata": {
    "ExecuteTime": {
     "end_time": "2020-02-29T13:18:28.278000Z",
     "start_time": "2020-02-29T13:18:28.269000Z"
    },
    "scrolled": true
   },
   "outputs": [
    {
     "data": {
      "text/plain": [
       "Index(['fiberID', 'psfMag_u', 'psfMag_g', 'psfMag_r', 'psfMag_i', 'psfMag_z',\n",
       "       'fiberMag_u', 'fiberMag_g', 'fiberMag_r', 'fiberMag_i', 'fiberMag_z',\n",
       "       'petroMag_u', 'petroMag_g', 'petroMag_r', 'petroMag_i', 'petroMag_z',\n",
       "       'modelMag_u', 'modelMag_g', 'modelMag_r', 'modelMag_i', 'modelMag_z',\n",
       "       'psfMag_u-g', 'psfMag_g-r', 'psfMag_r-i', 'psfMag_i-z', 'fiberMag_u-g',\n",
       "       'fiberMag_g-r', 'fiberMag_r-i', 'fiberMag_i-z', 'petroMag_u-g',\n",
       "       'petroMag_g-r', 'petroMag_r-i', 'petroMag_i-z', 'modelMag_u-g',\n",
       "       'modelMag_g-r', 'modelMag_r-i', 'modelMag_i-z'],\n",
       "      dtype='object')"
      ]
     },
     "execution_count": 110,
     "metadata": {},
     "output_type": "execute_result"
    }
   ],
   "source": [
    "train_X.columns"
   ]
  },
  {
   "cell_type": "code",
   "execution_count": 111,
   "metadata": {
    "ExecuteTime": {
     "end_time": "2020-02-29T13:18:28.528000Z",
     "start_time": "2020-02-29T13:18:28.520000Z"
    }
   },
   "outputs": [],
   "source": [
    "# ## u-g, g-r, r-i, i-z 만 남기는게 좋지 않을까????\n",
    "# train_X.drop(['psfMag_u-r','psfMag_u-i','psfMag_u-z','psfMag_g-i','psfMag_g-z','psfMag_r-z',\n",
    "#              'fiberMag_u-r','fiberMag_u-i','fiberMag_u-z','fiberMag_g-i','fiberMag_g-z','fiberMag_r-z',\n",
    "#              'petroMag_u-r','petroMag_u-i','petroMag_u-z','petroMag_g-i','petroMag_g-z','petroMag_r-z',\n",
    "#              'modelMag_u-r','modelMag_u-i','modelMag_u-z','modelMag_g-i','modelMag_g-z','modelMag_r-z'] ,axis=1, inplace=True)\n",
    "\n",
    "# test_X.drop(['psfMag_u-r','psfMag_u-i','psfMag_u-z','psfMag_g-i','psfMag_g-z','psfMag_r-z',\n",
    "#              'fiberMag_u-r','fiberMag_u-i','fiberMag_u-z','fiberMag_g-i','fiberMag_g-z','fiberMag_r-z',\n",
    "#              'petroMag_u-r','petroMag_u-i','petroMag_u-z','petroMag_g-i','petroMag_g-z','petroMag_r-z',\n",
    "#              'modelMag_u-r','modelMag_u-i','modelMag_u-z','modelMag_g-i','modelMag_g-z','modelMag_r-z'] ,axis=1, inplace=True)"
   ]
  },
  {
   "cell_type": "code",
   "execution_count": 112,
   "metadata": {
    "ExecuteTime": {
     "end_time": "2020-02-29T13:18:28.949000Z",
     "start_time": "2020-02-29T13:18:28.793000Z"
    }
   },
   "outputs": [],
   "source": [
    "X_train, X_test, y_train, y_test = train_test_split(train_X, train_y, test_size=0.35, random_state=1059,stratify = train_y)"
   ]
  },
  {
   "cell_type": "markdown",
   "metadata": {},
   "source": [
    "## Modeling"
   ]
  },
  {
   "cell_type": "code",
   "execution_count": 124,
   "metadata": {
    "ExecuteTime": {
     "end_time": "2020-02-29T13:53:17.019000Z",
     "start_time": "2020-02-29T13:53:17.003000Z"
    }
   },
   "outputs": [],
   "source": [
    "# fit a lightGBM model to the data\n",
    "model = lgb.LGBMClassifier(\n",
    "    learning_rate= 0.0032,\n",
    "    max_depth= 5,\n",
    "    num_leaves= 25,\n",
    "    metric= ['multi_logloss', 'multi_logloss'],\n",
    "    n_estimators= 10000,\n",
    "    objective= 'multiclass',\n",
    "    num_class= [train_y.nunique()],\n",
    "    random_state= 1059,\n",
    "    reg_alpha= 0.0,\n",
    "    reg_lambda= 0.0,\n",
    "    subsample_for_bin= 30000,\n",
    "    bagging_fraction= 0.85,\n",
    "    bagging_freq= 20,\n",
    "    feature_fraction= 0.85,\n",
    "    )"
   ]
  },
  {
   "cell_type": "code",
   "execution_count": 125,
   "metadata": {
    "ExecuteTime": {
     "end_time": "2020-02-29T14:14:28.769000Z",
     "start_time": "2020-02-29T13:53:17.291000Z"
    },
    "scrolled": false
   },
   "outputs": [
    {
     "name": "stdout",
     "output_type": "stream",
     "text": [
      "Training until validation scores don't improve for 100 rounds\n",
      "[100]\tTrain's multi_logloss: 1.52993\tTest's multi_logloss: 1.53649\n",
      "[200]\tTrain's multi_logloss: 1.17614\tTest's multi_logloss: 1.18538\n",
      "[300]\tTrain's multi_logloss: 0.953827\tTest's multi_logloss: 0.964877\n",
      "[400]\tTrain's multi_logloss: 0.800619\tTest's multi_logloss: 0.813227\n",
      "[500]\tTrain's multi_logloss: 0.691369\tTest's multi_logloss: 0.705452\n",
      "[600]\tTrain's multi_logloss: 0.611252\tTest's multi_logloss: 0.626865\n",
      "[700]\tTrain's multi_logloss: 0.5516\tTest's multi_logloss: 0.568663\n",
      "[800]\tTrain's multi_logloss: 0.50661\tTest's multi_logloss: 0.525091\n",
      "[900]\tTrain's multi_logloss: 0.472011\tTest's multi_logloss: 0.491847\n",
      "[1000]\tTrain's multi_logloss: 0.445129\tTest's multi_logloss: 0.466305\n",
      "[1100]\tTrain's multi_logloss: 0.423971\tTest's multi_logloss: 0.446494\n",
      "[1200]\tTrain's multi_logloss: 0.4067\tTest's multi_logloss: 0.430524\n",
      "[1300]\tTrain's multi_logloss: 0.392368\tTest's multi_logloss: 0.417576\n",
      "[1400]\tTrain's multi_logloss: 0.38066\tTest's multi_logloss: 0.4073\n",
      "[1500]\tTrain's multi_logloss: 0.370894\tTest's multi_logloss: 0.398956\n",
      "[1600]\tTrain's multi_logloss: 0.362421\tTest's multi_logloss: 0.391963\n",
      "[1700]\tTrain's multi_logloss: 0.355095\tTest's multi_logloss: 0.38608\n",
      "[1800]\tTrain's multi_logloss: 0.348746\tTest's multi_logloss: 0.381202\n",
      "[1900]\tTrain's multi_logloss: 0.34321\tTest's multi_logloss: 0.377149\n",
      "[2000]\tTrain's multi_logloss: 0.337943\tTest's multi_logloss: 0.373435\n",
      "[2100]\tTrain's multi_logloss: 0.333373\tTest's multi_logloss: 0.370325\n",
      "[2200]\tTrain's multi_logloss: 0.329207\tTest's multi_logloss: 0.367654\n",
      "[2300]\tTrain's multi_logloss: 0.325524\tTest's multi_logloss: 0.365371\n",
      "[2400]\tTrain's multi_logloss: 0.321815\tTest's multi_logloss: 0.363117\n",
      "[2500]\tTrain's multi_logloss: 0.318451\tTest's multi_logloss: 0.361113\n",
      "[2600]\tTrain's multi_logloss: 0.315305\tTest's multi_logloss: 0.359397\n",
      "[2700]\tTrain's multi_logloss: 0.312422\tTest's multi_logloss: 0.357989\n",
      "[2800]\tTrain's multi_logloss: 0.309694\tTest's multi_logloss: 0.356594\n",
      "[2900]\tTrain's multi_logloss: 0.307086\tTest's multi_logloss: 0.355325\n",
      "[3000]\tTrain's multi_logloss: 0.304549\tTest's multi_logloss: 0.354259\n",
      "[3100]\tTrain's multi_logloss: 0.302054\tTest's multi_logloss: 0.353146\n",
      "[3200]\tTrain's multi_logloss: 0.299762\tTest's multi_logloss: 0.352301\n",
      "[3300]\tTrain's multi_logloss: 0.297519\tTest's multi_logloss: 0.351433\n",
      "[3400]\tTrain's multi_logloss: 0.295205\tTest's multi_logloss: 0.350644\n",
      "[3500]\tTrain's multi_logloss: 0.292845\tTest's multi_logloss: 0.349813\n",
      "[3600]\tTrain's multi_logloss: 0.290644\tTest's multi_logloss: 0.349143\n",
      "[3700]\tTrain's multi_logloss: 0.288463\tTest's multi_logloss: 0.348502\n",
      "[3800]\tTrain's multi_logloss: 0.286322\tTest's multi_logloss: 0.347969\n",
      "[3900]\tTrain's multi_logloss: 0.284268\tTest's multi_logloss: 0.347412\n",
      "[4000]\tTrain's multi_logloss: 0.282325\tTest's multi_logloss: 0.346997\n",
      "[4100]\tTrain's multi_logloss: 0.280334\tTest's multi_logloss: 0.346543\n",
      "[4200]\tTrain's multi_logloss: 0.278316\tTest's multi_logloss: 0.346117\n",
      "[4300]\tTrain's multi_logloss: 0.276211\tTest's multi_logloss: 0.345588\n",
      "[4400]\tTrain's multi_logloss: 0.274194\tTest's multi_logloss: 0.345146\n",
      "[4500]\tTrain's multi_logloss: 0.27224\tTest's multi_logloss: 0.344809\n",
      "[4600]\tTrain's multi_logloss: 0.270292\tTest's multi_logloss: 0.344424\n",
      "[4700]\tTrain's multi_logloss: 0.268417\tTest's multi_logloss: 0.344123\n",
      "[4800]\tTrain's multi_logloss: 0.266638\tTest's multi_logloss: 0.343844\n",
      "[4900]\tTrain's multi_logloss: 0.264777\tTest's multi_logloss: 0.343548\n",
      "[5000]\tTrain's multi_logloss: 0.26297\tTest's multi_logloss: 0.343259\n",
      "[5100]\tTrain's multi_logloss: 0.261088\tTest's multi_logloss: 0.343009\n",
      "[5200]\tTrain's multi_logloss: 0.259412\tTest's multi_logloss: 0.342827\n",
      "[5300]\tTrain's multi_logloss: 0.257572\tTest's multi_logloss: 0.342563\n",
      "[5400]\tTrain's multi_logloss: 0.255896\tTest's multi_logloss: 0.342367\n",
      "[5500]\tTrain's multi_logloss: 0.254157\tTest's multi_logloss: 0.342157\n",
      "[5600]\tTrain's multi_logloss: 0.252444\tTest's multi_logloss: 0.341962\n",
      "[5700]\tTrain's multi_logloss: 0.250823\tTest's multi_logloss: 0.34176\n",
      "[5800]\tTrain's multi_logloss: 0.249164\tTest's multi_logloss: 0.341511\n",
      "[5900]\tTrain's multi_logloss: 0.247554\tTest's multi_logloss: 0.341363\n",
      "[6000]\tTrain's multi_logloss: 0.245971\tTest's multi_logloss: 0.341238\n",
      "[6100]\tTrain's multi_logloss: 0.244383\tTest's multi_logloss: 0.341083\n",
      "[6200]\tTrain's multi_logloss: 0.24282\tTest's multi_logloss: 0.340983\n",
      "[6300]\tTrain's multi_logloss: 0.241288\tTest's multi_logloss: 0.34088\n",
      "[6400]\tTrain's multi_logloss: 0.23977\tTest's multi_logloss: 0.340775\n",
      "[6500]\tTrain's multi_logloss: 0.238268\tTest's multi_logloss: 0.340679\n",
      "[6600]\tTrain's multi_logloss: 0.236855\tTest's multi_logloss: 0.34061\n",
      "[6700]\tTrain's multi_logloss: 0.235453\tTest's multi_logloss: 0.340463\n",
      "[6800]\tTrain's multi_logloss: 0.233982\tTest's multi_logloss: 0.340378\n",
      "[6900]\tTrain's multi_logloss: 0.232578\tTest's multi_logloss: 0.340324\n",
      "[7000]\tTrain's multi_logloss: 0.231165\tTest's multi_logloss: 0.340214\n",
      "[7100]\tTrain's multi_logloss: 0.229734\tTest's multi_logloss: 0.34015\n",
      "[7200]\tTrain's multi_logloss: 0.22835\tTest's multi_logloss: 0.340037\n",
      "[7300]\tTrain's multi_logloss: 0.227035\tTest's multi_logloss: 0.340018\n",
      "[7400]\tTrain's multi_logloss: 0.225749\tTest's multi_logloss: 0.339955\n",
      "[7500]\tTrain's multi_logloss: 0.224472\tTest's multi_logloss: 0.339947\n",
      "[7600]\tTrain's multi_logloss: 0.223131\tTest's multi_logloss: 0.339903\n",
      "[7700]\tTrain's multi_logloss: 0.221858\tTest's multi_logloss: 0.339899\n",
      "Early stopping, best iteration is:\n",
      "[7620]\tTrain's multi_logloss: 0.222871\tTest's multi_logloss: 0.33989\n"
     ]
    },
    {
     "data": {
      "text/plain": [
       "LGBMClassifier(bagging_fraction=0.85, bagging_freq=20, boosting_type='gbdt',\n",
       "               class_weight=None, colsample_bytree=1.0, feature_fraction=0.85,\n",
       "               importance_type='split', learning_rate=0.0032, max_depth=5,\n",
       "               metric=['multi_logloss', 'multi_logloss'], min_child_samples=20,\n",
       "               min_child_weight=0.001, min_split_gain=0.0, n_estimators=10000,\n",
       "               n_jobs=-1, num_class=[19], num_leaves=25, objective='multiclass',\n",
       "               random_state=1059, reg_alpha=0.0, reg_lambda=0.0, silent=True,\n",
       "               subsample=1.0, subsample_for_bin=30000, subsample_freq=0)"
      ]
     },
     "execution_count": 125,
     "metadata": {},
     "output_type": "execute_result"
    }
   ],
   "source": [
    "model.fit(X_train, y_train,\n",
    "          sample_weight=None, init_score=None, eval_set=[(X_train, y_train),(X_test, y_test)], eval_names=['Train', 'Test'],\n",
    "          eval_sample_weight=None, eval_class_weight=None, eval_init_score=None,\n",
    "          eval_metric='logloss', early_stopping_rounds=100, verbose=100,\n",
    "          feature_name='auto', callbacks=None\n",
    "         )"
   ]
  },
  {
   "cell_type": "code",
   "execution_count": 126,
   "metadata": {
    "ExecuteTime": {
     "end_time": "2020-02-29T14:22:22.341000Z",
     "start_time": "2020-02-29T14:14:29.051000Z"
    }
   },
   "outputs": [],
   "source": [
    "# make predictions\n",
    "train_y_pred = model.predict_proba(X_test)"
   ]
  },
  {
   "cell_type": "code",
   "execution_count": 127,
   "metadata": {
    "ExecuteTime": {
     "end_time": "2020-02-29T14:23:48.781000Z",
     "start_time": "2020-02-29T14:22:22.611000Z"
    }
   },
   "outputs": [],
   "source": [
    "real_y_pred = model.predict_proba(test_df)"
   ]
  },
  {
   "cell_type": "code",
   "execution_count": 128,
   "metadata": {
    "ExecuteTime": {
     "end_time": "2020-02-29T14:23:49.129000Z",
     "start_time": "2020-02-29T14:23:49.057000Z"
    }
   },
   "outputs": [
    {
     "data": {
      "text/plain": [
       "0.3398901934183096"
      ]
     },
     "execution_count": 128,
     "metadata": {},
     "output_type": "execute_result"
    }
   ],
   "source": [
    "#log_loss\n",
    "log_loss(y_test,train_y_pred,labels= list(set(y_test)))"
   ]
  },
  {
   "cell_type": "code",
   "execution_count": 129,
   "metadata": {
    "ExecuteTime": {
     "end_time": "2020-02-29T14:23:49.442000Z",
     "start_time": "2020-02-29T14:23:49.416000Z"
    }
   },
   "outputs": [
    {
     "data": {
      "text/html": [
       "<div>\n",
       "<style scoped>\n",
       "    .dataframe tbody tr th:only-of-type {\n",
       "        vertical-align: middle;\n",
       "    }\n",
       "\n",
       "    .dataframe tbody tr th {\n",
       "        vertical-align: top;\n",
       "    }\n",
       "\n",
       "    .dataframe thead th {\n",
       "        text-align: right;\n",
       "    }\n",
       "</style>\n",
       "<table border=\"1\" class=\"dataframe\">\n",
       "  <thead>\n",
       "    <tr style=\"text-align: right;\">\n",
       "      <th></th>\n",
       "      <th>importance</th>\n",
       "    </tr>\n",
       "  </thead>\n",
       "  <tbody>\n",
       "    <tr>\n",
       "      <td>fiberID</td>\n",
       "      <td>168983</td>\n",
       "    </tr>\n",
       "    <tr>\n",
       "      <td>psfMag_g-r</td>\n",
       "      <td>118813</td>\n",
       "    </tr>\n",
       "    <tr>\n",
       "      <td>modelMag_r-i</td>\n",
       "      <td>116537</td>\n",
       "    </tr>\n",
       "    <tr>\n",
       "      <td>fiberMag_r-i</td>\n",
       "      <td>116079</td>\n",
       "    </tr>\n",
       "    <tr>\n",
       "      <td>fiberMag_g-r</td>\n",
       "      <td>115075</td>\n",
       "    </tr>\n",
       "    <tr>\n",
       "      <td>modelMag_u-g</td>\n",
       "      <td>111338</td>\n",
       "    </tr>\n",
       "    <tr>\n",
       "      <td>modelMag_g-r</td>\n",
       "      <td>110600</td>\n",
       "    </tr>\n",
       "    <tr>\n",
       "      <td>psfMag_u-g</td>\n",
       "      <td>110471</td>\n",
       "    </tr>\n",
       "    <tr>\n",
       "      <td>fiberMag_u-g</td>\n",
       "      <td>109942</td>\n",
       "    </tr>\n",
       "    <tr>\n",
       "      <td>petroMag_u-g</td>\n",
       "      <td>108189</td>\n",
       "    </tr>\n",
       "  </tbody>\n",
       "</table>\n",
       "</div>"
      ],
      "text/plain": [
       "              importance\n",
       "fiberID           168983\n",
       "psfMag_g-r        118813\n",
       "modelMag_r-i      116537\n",
       "fiberMag_r-i      116079\n",
       "fiberMag_g-r      115075\n",
       "modelMag_u-g      111338\n",
       "modelMag_g-r      110600\n",
       "psfMag_u-g        110471\n",
       "fiberMag_u-g      109942\n",
       "petroMag_u-g      108189"
      ]
     },
     "execution_count": 129,
     "metadata": {},
     "output_type": "execute_result"
    }
   ],
   "source": [
    "feature_df = pd.DataFrame(model.feature_importances_, index= train_X.columns,columns= ['importance']).sort_values('importance',ascending = False)\n",
    "feature_df.head(10)"
   ]
  },
  {
   "cell_type": "code",
   "execution_count": 130,
   "metadata": {
    "ExecuteTime": {
     "end_time": "2020-02-29T14:23:50.332000Z",
     "start_time": "2020-02-29T14:23:49.696000Z"
    }
   },
   "outputs": [],
   "source": [
    "submission = pd.DataFrame(data=real_y_pred, columns=sample_submission_df.columns, index=sample_submission_df.index)\n",
    "loss_v=log_loss(y_test,train_y_pred,labels= list(set(y_test)))\n",
    "submission.to_csv(f'submission_lightbgm_cv_0229_4_({loss_v}).csv', index=True)"
   ]
  },
  {
   "cell_type": "code",
   "execution_count": null,
   "metadata": {},
   "outputs": [],
   "source": []
  },
  {
   "cell_type": "code",
   "execution_count": null,
   "metadata": {},
   "outputs": [],
   "source": []
  },
  {
   "cell_type": "code",
   "execution_count": null,
   "metadata": {},
   "outputs": [],
   "source": []
  },
  {
   "cell_type": "code",
   "execution_count": null,
   "metadata": {},
   "outputs": [],
   "source": []
  },
  {
   "cell_type": "code",
   "execution_count": null,
   "metadata": {},
   "outputs": [],
   "source": []
  },
  {
   "cell_type": "code",
   "execution_count": 331,
   "metadata": {
    "ExecuteTime": {
     "end_time": "2020-02-26T18:46:21.805800Z",
     "start_time": "2020-02-26T18:46:21.781800Z"
    }
   },
   "outputs": [],
   "source": [
    "# #최적의 변수를 찾기 위한 KBest 함수 불러오기\n",
    "# from sklearn.feature_selection import SelectKBest\n",
    "# model_kbest = SelectKBest()\n",
    "from sklearn.pipeline import Pipeline\n",
    "lgbm_c = lgb.LGBMClassifier()\n",
    "#파이프라인 구축\n",
    "pipe_lgbm = Pipeline([('lgbm',lgbm_c)])\n",
    "#파라미터 생성\n",
    "params_lgbm = {\n",
    "    \"lgbm__max_depth\": [9,10],\n",
    "    \"lgbm__learning_rate\": [0.001, 0.003],\n",
    "    \"lgbm__num_leaves\": [300,500],\n",
    "    \"lgbm__n_estimators\": [500,1500],\n",
    "    \"lgbm__random_state\": [1059],\n",
    "    \"lgbm__subsample_for_bin\": [50000,200000],\n",
    "    \"lgbm__objective\": ['multiclass'],\n",
    "    \"lgbm__num_class\": [train_y.nunique()],\n",
    "    \"lgbm__metric\": [['multi_logloss','multi_logloss']],\n",
    "    \"lgbm__reg_alpha\": [0.0, 1.0],\n",
    "    \"lgbm__reg_lambda\": [0.0, 1.0],\n",
    "    \"lgbm__feature_fraction\": [0.85], \n",
    "    \"lgbm__bagging_fraction\": [0.85], \n",
    "    \"lgbm__bagging_freq\": [20],\n",
    "}"
   ]
  },
  {
   "cell_type": "code",
   "execution_count": 332,
   "metadata": {
    "ExecuteTime": {
     "end_time": "2020-02-26T18:46:22.853800Z",
     "start_time": "2020-02-26T18:46:22.842800Z"
    }
   },
   "outputs": [],
   "source": [
    "#최적의 파라미터 탐색\n",
    "from sklearn.model_selection import GridSearchCV\n",
    "grid_search = GridSearchCV(pipe_lgbm, param_grid = params_lgbm,\n",
    "                          cv=2, n_jobs=-1, verbose=10)"
   ]
  },
  {
   "cell_type": "code",
   "execution_count": 333,
   "metadata": {
    "ExecuteTime": {
     "end_time": "2020-02-27T13:59:44.132800Z",
     "start_time": "2020-02-26T18:46:23.523800Z"
    }
   },
   "outputs": [
    {
     "name": "stdout",
     "output_type": "stream",
     "text": [
      "Fitting 2 folds for each of 128 candidates, totalling 256 fits\n"
     ]
    },
    {
     "name": "stderr",
     "output_type": "stream",
     "text": [
      "[Parallel(n_jobs=-1)]: Using backend LokyBackend with 4 concurrent workers.\n",
      "[Parallel(n_jobs=-1)]: Done   5 tasks      | elapsed: 20.1min\n",
      "[Parallel(n_jobs=-1)]: Done  10 tasks      | elapsed: 27.0min\n",
      "[Parallel(n_jobs=-1)]: Done  17 tasks      | elapsed: 45.5min\n",
      "[Parallel(n_jobs=-1)]: Done  24 tasks      | elapsed: 53.6min\n",
      "[Parallel(n_jobs=-1)]: Done  33 tasks      | elapsed: 103.3min\n",
      "[Parallel(n_jobs=-1)]: Done  42 tasks      | elapsed: 144.2min\n",
      "[Parallel(n_jobs=-1)]: Done  53 tasks      | elapsed: 219.0min\n",
      "[Parallel(n_jobs=-1)]: Done  64 tasks      | elapsed: 262.3min\n",
      "[Parallel(n_jobs=-1)]: Done  77 tasks      | elapsed: 290.7min\n",
      "[Parallel(n_jobs=-1)]: Done  90 tasks      | elapsed: 324.0min\n",
      "[Parallel(n_jobs=-1)]: Done 105 tasks      | elapsed: 411.9min\n",
      "[Parallel(n_jobs=-1)]: Done 120 tasks      | elapsed: 507.6min\n",
      "[Parallel(n_jobs=-1)]: Done 137 tasks      | elapsed: 566.5min\n",
      "[Parallel(n_jobs=-1)]: Done 154 tasks      | elapsed: 601.2min\n",
      "[Parallel(n_jobs=-1)]: Done 173 tasks      | elapsed: 714.0min\n",
      "[Parallel(n_jobs=-1)]: Done 192 tasks      | elapsed: 828.6min\n",
      "[Parallel(n_jobs=-1)]: Done 213 tasks      | elapsed: 877.0min\n",
      "[Parallel(n_jobs=-1)]: Done 234 tasks      | elapsed: 991.9min\n",
      "[Parallel(n_jobs=-1)]: Done 256 out of 256 | elapsed: 1139.9min finished\n"
     ]
    },
    {
     "data": {
      "text/plain": [
       "Pipeline(memory=None,\n",
       "         steps=[('lgbm',\n",
       "                 LGBMClassifier(bagging_fraction=0.85, bagging_freq=20,\n",
       "                                boosting_type='gbdt', class_weight=None,\n",
       "                                colsample_bytree=1.0, feature_fraction=0.85,\n",
       "                                importance_type='split', learning_rate=0.003,\n",
       "                                max_depth=10,\n",
       "                                metric=['multi_logloss', 'multi_logloss'],\n",
       "                                min_child_samples=20, min_child_weight=0.001,\n",
       "                                min_split_gain=0.0, n_estimators=1500,\n",
       "                                n_jobs=-1, num_class=19, num_leaves=300,\n",
       "                                objective='multiclass', random_state=1059,\n",
       "                                reg_alpha=0.0, reg_lambda=0.0, silent=True,\n",
       "                                subsample=1.0, subsample_for_bin=200000,\n",
       "                                subsample_freq=0))],\n",
       "         verbose=False)"
      ]
     },
     "execution_count": 333,
     "metadata": {},
     "output_type": "execute_result"
    }
   ],
   "source": [
    "grid_search.fit(X_train, y_train)\n",
    "lgbm_grid = grid_search.best_estimator_\n",
    "lgbm_grid"
   ]
  },
  {
   "cell_type": "code",
   "execution_count": 334,
   "metadata": {
    "ExecuteTime": {
     "end_time": "2020-02-27T13:59:44.824800Z",
     "start_time": "2020-02-27T13:59:44.761800Z"
    }
   },
   "outputs": [
    {
     "name": "stdout",
     "output_type": "stream",
     "text": [
      "0.8783559448165321\n"
     ]
    }
   ],
   "source": [
    "print(grid_search.best_score_)"
   ]
  },
  {
   "cell_type": "code",
   "execution_count": 341,
   "metadata": {
    "ExecuteTime": {
     "end_time": "2020-02-27T14:03:40.347800Z",
     "start_time": "2020-02-27T14:03:40.334800Z"
    }
   },
   "outputs": [
    {
     "data": {
      "text/plain": [
       "{'lgbm__bagging_fraction': 0.85,\n",
       " 'lgbm__bagging_freq': 20,\n",
       " 'lgbm__feature_fraction': 0.85,\n",
       " 'lgbm__learning_rate': 0.001,\n",
       " 'lgbm__max_depth': 9,\n",
       " 'lgbm__metric': ['multi_logloss', 'multi_logloss'],\n",
       " 'lgbm__n_estimators': 500,\n",
       " 'lgbm__num_class': 19,\n",
       " 'lgbm__num_leaves': 300,\n",
       " 'lgbm__objective': 'multiclass',\n",
       " 'lgbm__random_state': 1059,\n",
       " 'lgbm__reg_alpha': 0.0,\n",
       " 'lgbm__reg_lambda': 0.0,\n",
       " 'lgbm__subsample_for_bin': 50000}"
      ]
     },
     "execution_count": 341,
     "metadata": {},
     "output_type": "execute_result"
    }
   ],
   "source": [
    "grid_search.best_params_"
   ]
  }
 ],
 "metadata": {
  "kernelspec": {
   "display_name": "Python 3",
   "language": "python",
   "name": "python3"
  },
  "language_info": {
   "codemirror_mode": {
    "name": "ipython",
    "version": 3
   },
   "file_extension": ".py",
   "mimetype": "text/x-python",
   "name": "python",
   "nbconvert_exporter": "python",
   "pygments_lexer": "ipython3",
   "version": "3.6.9"
  },
  "varInspector": {
   "cols": {
    "lenName": 16,
    "lenType": 16,
    "lenVar": 40
   },
   "kernels_config": {
    "python": {
     "delete_cmd_postfix": "",
     "delete_cmd_prefix": "del ",
     "library": "var_list.py",
     "varRefreshCmd": "print(var_dic_list())"
    },
    "r": {
     "delete_cmd_postfix": ") ",
     "delete_cmd_prefix": "rm(",
     "library": "var_list.r",
     "varRefreshCmd": "cat(var_dic_list()) "
    }
   },
   "position": {
    "height": "524px",
    "left": "1167px",
    "right": "20px",
    "top": "120px",
    "width": "350px"
   },
   "types_to_exclude": [
    "module",
    "function",
    "builtin_function_or_method",
    "instance",
    "_Feature"
   ],
   "window_display": false
  }
 },
 "nbformat": 4,
 "nbformat_minor": 2
}
