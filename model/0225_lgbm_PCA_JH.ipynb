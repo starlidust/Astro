{
 "cells": [
  {
   "cell_type": "code",
   "execution_count": 1,
   "metadata": {
    "ExecuteTime": {
     "end_time": "2020-02-27T04:51:50.001446Z",
     "start_time": "2020-02-27T04:51:48.316503Z"
    }
   },
   "outputs": [],
   "source": [
    "import pandas as pd\n",
    "import numpy as np\n",
    "import matplotlib.pyplot as plt\n",
    "import seaborn as sns\n",
    "\n",
    "from sklearn.ensemble import RandomForestClassifier\n",
    "from sklearn.model_selection import train_test_split\n",
    "from sklearn.metrics import confusion_matrix\n",
    "from sklearn.metrics import log_loss\n",
    "import lightgbm as lgb"
   ]
  },
  {
   "cell_type": "code",
   "execution_count": 2,
   "metadata": {
    "ExecuteTime": {
     "end_time": "2020-02-27T04:51:50.005449Z",
     "start_time": "2020-02-27T04:51:50.003433Z"
    }
   },
   "outputs": [],
   "source": [
    "# from google.colab import drive\n",
    "# drive.mount('/content/drive')"
   ]
  },
  {
   "cell_type": "code",
   "execution_count": 3,
   "metadata": {
    "ExecuteTime": {
     "end_time": "2020-02-27T04:51:50.039445Z",
     "start_time": "2020-02-27T04:51:50.007434Z"
    }
   },
   "outputs": [],
   "source": [
    "# #colab용\n",
    "# import os\n",
    "# os.chdir('/content/drive/My Drive/Colab Notebooks/Dacon/천체관측/')"
   ]
  },
  {
   "cell_type": "code",
   "execution_count": 4,
   "metadata": {
    "ExecuteTime": {
     "end_time": "2020-02-27T04:51:51.549412Z",
     "start_time": "2020-02-27T04:51:50.041447Z"
    }
   },
   "outputs": [],
   "source": [
    "# path = \"/content/drive/My Drive/Colab Notebooks/Dacon/천체관측/data/\" #colab\n",
    "path = \"./data/\" #local\n",
    "train_df = pd.read_csv(path+'train.csv',index_col=0)\n",
    "test_df = pd.read_csv(path+'test.csv',index_col=0)\n",
    "sample_submission_df = pd.read_csv(path+'sample_submission.csv',index_col=0)\n",
    "pd.options.display.max_columns = 30"
   ]
  },
  {
   "cell_type": "code",
   "execution_count": 5,
   "metadata": {
    "ExecuteTime": {
     "end_time": "2020-02-27T04:51:51.557397Z",
     "start_time": "2020-02-27T04:51:51.552394Z"
    }
   },
   "outputs": [],
   "source": [
    "train_cols = list(train_df.columns)\n",
    "test_cols = list(test_df.columns)\n",
    "train_cols.remove('fiberID')\n",
    "test_cols.remove('fiberID')"
   ]
  },
  {
   "cell_type": "markdown",
   "metadata": {},
   "source": [
    "## DATA Setting"
   ]
  },
  {
   "cell_type": "code",
   "execution_count": 6,
   "metadata": {
    "ExecuteTime": {
     "end_time": "2020-02-27T04:51:51.678409Z",
     "start_time": "2020-02-27T04:51:51.559386Z"
    }
   },
   "outputs": [],
   "source": [
    "column_number = {}\n",
    "number_columns = {}\n",
    "for i, column in enumerate(sample_submission_df.columns):\n",
    "    column_number[column] = i\n",
    "    number_columns[i] = column\n",
    "    \n",
    "    \n",
    "def to_number(x, dic):\n",
    "    return dic[x]\n",
    "\n",
    "train_df['type_num'] = train_df['type'].apply(lambda x: to_number(x, column_number))\n"
   ]
  },
  {
   "cell_type": "code",
   "execution_count": 7,
   "metadata": {
    "ExecuteTime": {
     "end_time": "2020-02-27T04:51:51.684397Z",
     "start_time": "2020-02-27T04:51:51.679382Z"
    }
   },
   "outputs": [],
   "source": [
    "def add_minus_feature_all(data,test = False):\n",
    "    '''\n",
    "    combination으로 모든 변수들의 조합에 대해서 컬럼생성 \n",
    "    (추가옵션)각 mag에서 가장 높은값의 filter를 받아오는 \"~~mag_MAX\"생성\n",
    "    결과 64개로 증가\n",
    "    '''\n",
    "    from itertools import combinations\n",
    "    n = 0\n",
    "    for count in range(5,21,5):\n",
    "        s = 2\n",
    "        if test == True :\n",
    "            s = 1\n",
    "        selected = data.columns[s:].values[n:count]\n",
    "        mag = str.split(selected[0],'_')[0]\n",
    "#         data[mag+\"_MAX\"] = data[selected].apply(lambda x : str.split(np.argmax(x),'_')[1],axis = 1)\n",
    "        for combi in list(combinations(selected,2)):\n",
    "            name_1st = str.split(combi[0],'_')[1]\n",
    "            name_2nd = str.split(combi[1],'_')[1]\n",
    "            data[mag+\"_\"+name_1st+\"-\"+name_2nd] = data[combi[0]]-data[combi[1]]\n",
    "        n=count\n",
    "    return data"
   ]
  },
  {
   "cell_type": "code",
   "execution_count": 8,
   "metadata": {
    "ExecuteTime": {
     "end_time": "2020-02-27T04:51:51.872376Z",
     "start_time": "2020-02-27T04:51:51.687382Z"
    }
   },
   "outputs": [
    {
     "data": {
      "text/plain": [
       "((199991, 63), (10009, 61))"
      ]
     },
     "execution_count": 8,
     "metadata": {},
     "output_type": "execute_result"
    }
   ],
   "source": [
    "train_df = add_minus_feature_all(train_df)\n",
    "test_df = add_minus_feature_all(test_df,True)\n",
    "\n",
    "train_df.shape, test_df.shape"
   ]
  },
  {
   "cell_type": "markdown",
   "metadata": {},
   "source": [
    "### PCA"
   ]
  },
  {
   "cell_type": "code",
   "execution_count": 9,
   "metadata": {
    "ExecuteTime": {
     "end_time": "2020-02-27T04:51:51.876377Z",
     "start_time": "2020-02-27T04:51:51.873376Z"
    }
   },
   "outputs": [],
   "source": [
    "from sklearn.decomposition import PCA\n",
    "pca = PCA(1)"
   ]
  },
  {
   "cell_type": "code",
   "execution_count": 10,
   "metadata": {
    "ExecuteTime": {
     "end_time": "2020-02-27T04:51:51.907402Z",
     "start_time": "2020-02-27T04:51:51.878376Z"
    }
   },
   "outputs": [],
   "source": [
    "ori_name = [\"psfMag\",\"fiberMag\",\"petroMag\",\"modelMag\"]\n",
    "add_name = [\"u\",\"g\",\"r\",\"i\",\"z\"]"
   ]
  },
  {
   "cell_type": "code",
   "execution_count": 11,
   "metadata": {
    "ExecuteTime": {
     "end_time": "2020-02-27T04:51:53.831317Z",
     "start_time": "2020-02-27T04:51:51.909375Z"
    }
   },
   "outputs": [],
   "source": [
    "for add in add_name:\n",
    "    selected = list(map(lambda x : x+\"_\"+add,ori_name))\n",
    "    train_df['PCA_'+add] = pca.fit_transform(train_df[selected])\n",
    "    test_df['PCA_'+add] = pca.fit_transform(test_df[selected])"
   ]
  },
  {
   "cell_type": "code",
   "execution_count": 34,
   "metadata": {
    "ExecuteTime": {
     "end_time": "2020-02-27T07:18:47.759621Z",
     "start_time": "2020-02-27T07:18:43.022768Z"
    }
   },
   "outputs": [
    {
     "data": {
      "text/plain": [
       "<matplotlib.axes._subplots.AxesSubplot at 0x1c6098c2400>"
      ]
     },
     "execution_count": 34,
     "metadata": {},
     "output_type": "execute_result"
    },
    {
     "data": {
      "image/png": "[encoded data removed]",
      "text/plain": [
       "<Figure size 936x936 with 2 Axes>"
      ]
     },
     "metadata": {},
     "output_type": "display_data"
    }
   ],
   "source": [
    "plt.figure(figsize=(13,13))\n",
    "sns.heatmap(train_df.corr())"
   ]
  },
  {
   "cell_type": "code",
   "execution_count": 13,
   "metadata": {
    "ExecuteTime": {
     "end_time": "2020-02-27T04:52:07.344899Z",
     "start_time": "2020-02-27T04:52:07.336900Z"
    }
   },
   "outputs": [
    {
     "data": {
      "text/plain": [
       "Index(['type', 'fiberID', 'psfMag_u', 'psfMag_g', 'psfMag_r', 'psfMag_i',\n",
       "       'psfMag_z', 'fiberMag_u', 'fiberMag_g', 'fiberMag_r', 'fiberMag_i',\n",
       "       'fiberMag_z', 'petroMag_u', 'petroMag_g', 'petroMag_r', 'petroMag_i',\n",
       "       'petroMag_z', 'modelMag_u', 'modelMag_g', 'modelMag_r', 'modelMag_i',\n",
       "       'modelMag_z', 'type_num', 'psfMag_u-g', 'psfMag_u-r', 'psfMag_u-i',\n",
       "       'psfMag_u-z', 'psfMag_g-r', 'psfMag_g-i', 'psfMag_g-z', 'psfMag_r-i',\n",
       "       'psfMag_r-z', 'psfMag_i-z', 'fiberMag_u-g', 'fiberMag_u-r',\n",
       "       'fiberMag_u-i', 'fiberMag_u-z', 'fiberMag_g-r', 'fiberMag_g-i',\n",
       "       'fiberMag_g-z', 'fiberMag_r-i', 'fiberMag_r-z', 'fiberMag_i-z',\n",
       "       'petroMag_u-g', 'petroMag_u-r', 'petroMag_u-i', 'petroMag_u-z',\n",
       "       'petroMag_g-r', 'petroMag_g-i', 'petroMag_g-z', 'petroMag_r-i',\n",
       "       'petroMag_r-z', 'petroMag_i-z', 'modelMag_u-g', 'modelMag_u-r',\n",
       "       'modelMag_u-i', 'modelMag_u-z', 'modelMag_g-r', 'modelMag_g-i',\n",
       "       'modelMag_g-z', 'modelMag_r-i', 'modelMag_r-z', 'modelMag_i-z', 'PCA_u',\n",
       "       'PCA_g', 'PCA_r', 'PCA_i', 'PCA_z'],\n",
       "      dtype='object')"
      ]
     },
     "execution_count": 13,
     "metadata": {},
     "output_type": "execute_result"
    }
   ],
   "source": [
    "train_df.columns"
   ]
  },
  {
   "cell_type": "code",
   "execution_count": 14,
   "metadata": {
    "ExecuteTime": {
     "end_time": "2020-02-27T04:52:07.445896Z",
     "start_time": "2020-02-27T04:52:07.346900Z"
    }
   },
   "outputs": [],
   "source": [
    "train_X= train_df.drop(['type','type_num'],axis = 1)\n",
    "test_X = test_df\n",
    "train_y = train_df['type_num']"
   ]
  },
  {
   "cell_type": "code",
   "execution_count": 15,
   "metadata": {
    "ExecuteTime": {
     "end_time": "2020-02-27T04:52:07.707898Z",
     "start_time": "2020-02-27T04:52:07.447897Z"
    }
   },
   "outputs": [],
   "source": [
    "X_train, X_test, y_train, y_test = train_test_split(train_X, train_y, test_size=0.3, random_state=42,stratify = train_y)"
   ]
  },
  {
   "cell_type": "markdown",
   "metadata": {},
   "source": [
    "### modeling"
   ]
  },
  {
   "cell_type": "code",
   "execution_count": 16,
   "metadata": {
    "ExecuteTime": {
     "end_time": "2020-02-27T04:52:07.712905Z",
     "start_time": "2020-02-27T04:52:07.709888Z"
    }
   },
   "outputs": [],
   "source": [
    "lgbm_c = lgb.LGBMClassifier(num_leaves = 127, min_child_samples = 50,\n",
    "                            max_depth = 8, learning_rate = 0.01,\n",
    "                            lambda_l2 = 7, lambda_l1 = 9,\n",
    "                            n_estimators=2000, random_state = 42)"
   ]
  },
  {
   "cell_type": "code",
   "execution_count": 17,
   "metadata": {
    "ExecuteTime": {
     "end_time": "2020-02-27T05:11:27.598050Z",
     "start_time": "2020-02-27T04:52:07.714889Z"
    }
   },
   "outputs": [
    {
     "name": "stdout",
     "output_type": "stream",
     "text": [
      "Training until validation scores don't improve for 100 rounds\n",
      "[100]\ttrain's multi_logloss: 0.909735\tvalid's multi_logloss: 0.926425\n",
      "[200]\ttrain's multi_logloss: 0.570275\tvalid's multi_logloss: 0.594457\n",
      "[300]\ttrain's multi_logloss: 0.438953\tvalid's multi_logloss: 0.468611\n",
      "[400]\ttrain's multi_logloss: 0.380766\tvalid's multi_logloss: 0.415155\n",
      "[500]\ttrain's multi_logloss: 0.34961\tvalid's multi_logloss: 0.388958\n",
      "[600]\ttrain's multi_logloss: 0.330285\tvalid's multi_logloss: 0.374801\n",
      "[700]\ttrain's multi_logloss: 0.317107\tvalid's multi_logloss: 0.36673\n",
      "[800]\ttrain's multi_logloss: 0.307238\tvalid's multi_logloss: 0.361679\n",
      "[900]\ttrain's multi_logloss: 0.298895\tvalid's multi_logloss: 0.358066\n",
      "[1000]\ttrain's multi_logloss: 0.29127\tvalid's multi_logloss: 0.355543\n",
      "[1100]\ttrain's multi_logloss: 0.284541\tvalid's multi_logloss: 0.353703\n",
      "[1200]\ttrain's multi_logloss: 0.278278\tvalid's multi_logloss: 0.352308\n",
      "[1300]\ttrain's multi_logloss: 0.272276\tvalid's multi_logloss: 0.351313\n",
      "[1400]\ttrain's multi_logloss: 0.266686\tvalid's multi_logloss: 0.350572\n",
      "[1500]\ttrain's multi_logloss: 0.261286\tvalid's multi_logloss: 0.350016\n",
      "[1600]\ttrain's multi_logloss: 0.256387\tvalid's multi_logloss: 0.349532\n",
      "[1700]\ttrain's multi_logloss: 0.251308\tvalid's multi_logloss: 0.349066\n",
      "[1800]\ttrain's multi_logloss: 0.246542\tvalid's multi_logloss: 0.348708\n",
      "[1900]\ttrain's multi_logloss: 0.241968\tvalid's multi_logloss: 0.348455\n",
      "[2000]\ttrain's multi_logloss: 0.237783\tvalid's multi_logloss: 0.348351\n",
      "Did not meet early stopping. Best iteration is:\n",
      "[2000]\ttrain's multi_logloss: 0.237783\tvalid's multi_logloss: 0.348351\n"
     ]
    },
    {
     "data": {
      "text/plain": [
       "LGBMClassifier(boosting_type='gbdt', class_weight=None, colsample_bytree=1.0,\n",
       "               importance_type='split', lambda_l1=9, lambda_l2=7,\n",
       "               learning_rate=0.01, max_depth=8, min_child_samples=50,\n",
       "               min_child_weight=0.001, min_split_gain=0.0, n_estimators=2000,\n",
       "               n_jobs=-1, num_leaves=127, objective=None, random_state=42,\n",
       "               reg_alpha=0.0, reg_lambda=0.0, silent=True, subsample=1.0,\n",
       "               subsample_for_bin=200000, subsample_freq=0)"
      ]
     },
     "execution_count": 17,
     "metadata": {},
     "output_type": "execute_result"
    }
   ],
   "source": [
    "lgbm_c.fit(X_train, y_train, eval_set = [(X_train,y_train),(X_test, y_test)],eval_names= ['train','valid'], \n",
    "           eval_metric = 'logloss', verbose = 100, early_stopping_rounds = 100)"
   ]
  },
  {
   "cell_type": "code",
   "execution_count": 18,
   "metadata": {
    "ExecuteTime": {
     "end_time": "2020-02-27T05:16:19.122458Z",
     "start_time": "2020-02-27T05:11:27.600049Z"
    },
    "scrolled": true
   },
   "outputs": [
    {
     "data": {
      "text/plain": [
       "0.3477312805263439"
      ]
     },
     "execution_count": 18,
     "metadata": {},
     "output_type": "execute_result"
    }
   ],
   "source": [
    "train_y_pred = lgbm_c.predict_proba(X_test)\n",
    "\n",
    "from sklearn.metrics import log_loss\n",
    "#log_loss\n",
    "log_loss(y_test,train_y_pred,labels= list(set(y_test)))"
   ]
  },
  {
   "cell_type": "code",
   "execution_count": 19,
   "metadata": {
    "ExecuteTime": {
     "end_time": "2020-02-27T05:16:19.128459Z",
     "start_time": "2020-02-27T05:16:19.123458Z"
    }
   },
   "outputs": [
    {
     "data": {
      "text/plain": [
       "array([[3.09657953e-04, 5.77377345e-05, 2.12048646e-05, ...,\n",
       "        2.54878141e-05, 4.02406164e-05, 2.15471053e-02],\n",
       "       [1.89453207e-05, 4.11413419e-05, 2.42728160e-05, ...,\n",
       "        5.79503018e-05, 1.85940242e-05, 2.43031099e-05],\n",
       "       [1.72712904e-03, 6.51634321e-04, 1.26097780e-04, ...,\n",
       "        1.59474655e-04, 3.36976809e-04, 1.14828166e-03],\n",
       "       ...,\n",
       "       [2.56001204e-03, 2.45790548e-03, 8.03336194e-05, ...,\n",
       "        9.15603964e-05, 1.25214651e-04, 5.96345687e-01],\n",
       "       [1.03508654e-05, 2.11897019e-05, 5.79613350e-06, ...,\n",
       "        7.07611382e-06, 6.14701264e-06, 3.92279364e-04],\n",
       "       [2.62462761e-04, 1.49134852e-04, 8.41347910e-05, ...,\n",
       "        8.88033403e-05, 6.01651462e-04, 3.31920121e-04]])"
      ]
     },
     "execution_count": 19,
     "metadata": {},
     "output_type": "execute_result"
    }
   ],
   "source": [
    "train_y_pred"
   ]
  },
  {
   "cell_type": "code",
   "execution_count": 20,
   "metadata": {
    "ExecuteTime": {
     "end_time": "2020-02-27T05:17:29.052956Z",
     "start_time": "2020-02-27T05:16:19.130459Z"
    }
   },
   "outputs": [],
   "source": [
    "test_y_pred = lgbm_c.predict_proba(test_X)"
   ]
  },
  {
   "cell_type": "code",
   "execution_count": 21,
   "metadata": {
    "ExecuteTime": {
     "end_time": "2020-02-27T05:17:29.059956Z",
     "start_time": "2020-02-27T05:17:29.053955Z"
    }
   },
   "outputs": [
    {
     "data": {
      "text/plain": [
       "array([[1.93667409e-04, 3.33060210e-04, 2.30075400e-03, ...,\n",
       "        8.63201554e-04, 1.83075293e-03, 2.39584223e-04],\n",
       "       [5.17953166e-04, 4.13340723e-04, 1.34320810e-04, ...,\n",
       "        1.90729088e-04, 5.19001101e-03, 6.81312806e-04],\n",
       "       [8.73042884e-05, 2.07017541e-05, 9.07792099e-06, ...,\n",
       "        9.66792361e-06, 4.69908093e-05, 3.61819197e-05],\n",
       "       ...,\n",
       "       [7.59110617e-06, 8.16827646e-06, 1.29089783e-06, ...,\n",
       "        2.91916087e-06, 1.65148622e-06, 6.53183205e-04],\n",
       "       [1.10488935e-05, 2.64368156e-05, 2.26117655e-06, ...,\n",
       "        4.00235798e-06, 2.59444189e-06, 7.04792727e-04],\n",
       "       [5.12641063e-04, 1.56828656e-05, 8.06670924e-06, ...,\n",
       "        1.99593625e-05, 1.22862783e-05, 4.86963629e-05]])"
      ]
     },
     "execution_count": 21,
     "metadata": {},
     "output_type": "execute_result"
    }
   ],
   "source": [
    "test_y_pred"
   ]
  },
  {
   "cell_type": "markdown",
   "metadata": {},
   "source": [
    "### feature_importance"
   ]
  },
  {
   "cell_type": "code",
   "execution_count": 22,
   "metadata": {
    "ExecuteTime": {
     "end_time": "2020-02-27T05:17:29.310948Z",
     "start_time": "2020-02-27T05:17:29.063956Z"
    },
    "scrolled": true
   },
   "outputs": [
    {
     "data": {
      "text/html": [
       "<div>\n",
       "<style scoped>\n",
       "    .dataframe tbody tr th:only-of-type {\n",
       "        vertical-align: middle;\n",
       "    }\n",
       "\n",
       "    .dataframe tbody tr th {\n",
       "        vertical-align: top;\n",
       "    }\n",
       "\n",
       "    .dataframe thead th {\n",
       "        text-align: right;\n",
       "    }\n",
       "</style>\n",
       "<table border=\"1\" class=\"dataframe\">\n",
       "  <thead>\n",
       "    <tr style=\"text-align: right;\">\n",
       "      <th></th>\n",
       "      <th>importance</th>\n",
       "    </tr>\n",
       "  </thead>\n",
       "  <tbody>\n",
       "    <tr>\n",
       "      <th>fiberID</th>\n",
       "      <td>93313</td>\n",
       "    </tr>\n",
       "    <tr>\n",
       "      <th>psfMag_i-z</th>\n",
       "      <td>36153</td>\n",
       "    </tr>\n",
       "    <tr>\n",
       "      <th>modelMag_i-z</th>\n",
       "      <td>34465</td>\n",
       "    </tr>\n",
       "    <tr>\n",
       "      <th>petroMag_i-z</th>\n",
       "      <td>34102</td>\n",
       "    </tr>\n",
       "    <tr>\n",
       "      <th>fiberMag_u-g</th>\n",
       "      <td>33592</td>\n",
       "    </tr>\n",
       "    <tr>\n",
       "      <th>fiberMag_i-z</th>\n",
       "      <td>33394</td>\n",
       "    </tr>\n",
       "    <tr>\n",
       "      <th>psfMag_u-g</th>\n",
       "      <td>32935</td>\n",
       "    </tr>\n",
       "    <tr>\n",
       "      <th>psfMag_r-i</th>\n",
       "      <td>32356</td>\n",
       "    </tr>\n",
       "    <tr>\n",
       "      <th>psfMag_g-r</th>\n",
       "      <td>32248</td>\n",
       "    </tr>\n",
       "    <tr>\n",
       "      <th>petroMag_u-g</th>\n",
       "      <td>32131</td>\n",
       "    </tr>\n",
       "    <tr>\n",
       "      <th>modelMag_u-g</th>\n",
       "      <td>31562</td>\n",
       "    </tr>\n",
       "    <tr>\n",
       "      <th>fiberMag_g-r</th>\n",
       "      <td>30488</td>\n",
       "    </tr>\n",
       "    <tr>\n",
       "      <th>fiberMag_r-i</th>\n",
       "      <td>30287</td>\n",
       "    </tr>\n",
       "    <tr>\n",
       "      <th>petroMag_r-i</th>\n",
       "      <td>30198</td>\n",
       "    </tr>\n",
       "    <tr>\n",
       "      <th>modelMag_r-i</th>\n",
       "      <td>29694</td>\n",
       "    </tr>\n",
       "    <tr>\n",
       "      <th>psfMag_i</th>\n",
       "      <td>26942</td>\n",
       "    </tr>\n",
       "    <tr>\n",
       "      <th>psfMag_r</th>\n",
       "      <td>26287</td>\n",
       "    </tr>\n",
       "    <tr>\n",
       "      <th>petroMag_g-r</th>\n",
       "      <td>25693</td>\n",
       "    </tr>\n",
       "    <tr>\n",
       "      <th>modelMag_g-r</th>\n",
       "      <td>25663</td>\n",
       "    </tr>\n",
       "    <tr>\n",
       "      <th>fiberMag_r-z</th>\n",
       "      <td>23401</td>\n",
       "    </tr>\n",
       "    <tr>\n",
       "      <th>petroMag_u</th>\n",
       "      <td>22096</td>\n",
       "    </tr>\n",
       "    <tr>\n",
       "      <th>fiberMag_i</th>\n",
       "      <td>21899</td>\n",
       "    </tr>\n",
       "    <tr>\n",
       "      <th>psfMag_z</th>\n",
       "      <td>21627</td>\n",
       "    </tr>\n",
       "    <tr>\n",
       "      <th>petroMag_z</th>\n",
       "      <td>21114</td>\n",
       "    </tr>\n",
       "    <tr>\n",
       "      <th>psfMag_g</th>\n",
       "      <td>20732</td>\n",
       "    </tr>\n",
       "    <tr>\n",
       "      <th>modelMag_z</th>\n",
       "      <td>20200</td>\n",
       "    </tr>\n",
       "    <tr>\n",
       "      <th>psfMag_r-z</th>\n",
       "      <td>20128</td>\n",
       "    </tr>\n",
       "    <tr>\n",
       "      <th>modelMag_u</th>\n",
       "      <td>19908</td>\n",
       "    </tr>\n",
       "    <tr>\n",
       "      <th>modelMag_r-z</th>\n",
       "      <td>19559</td>\n",
       "    </tr>\n",
       "    <tr>\n",
       "      <th>psfMag_u-r</th>\n",
       "      <td>19416</td>\n",
       "    </tr>\n",
       "    <tr>\n",
       "      <th>...</th>\n",
       "      <td>...</td>\n",
       "    </tr>\n",
       "    <tr>\n",
       "      <th>petroMag_i</th>\n",
       "      <td>18077</td>\n",
       "    </tr>\n",
       "    <tr>\n",
       "      <th>fiberMag_z</th>\n",
       "      <td>17485</td>\n",
       "    </tr>\n",
       "    <tr>\n",
       "      <th>petroMag_u-z</th>\n",
       "      <td>17239</td>\n",
       "    </tr>\n",
       "    <tr>\n",
       "      <th>psfMag_g-i</th>\n",
       "      <td>16966</td>\n",
       "    </tr>\n",
       "    <tr>\n",
       "      <th>petroMag_g-i</th>\n",
       "      <td>16861</td>\n",
       "    </tr>\n",
       "    <tr>\n",
       "      <th>fiberMag_g-i</th>\n",
       "      <td>16065</td>\n",
       "    </tr>\n",
       "    <tr>\n",
       "      <th>petroMag_g-z</th>\n",
       "      <td>15967</td>\n",
       "    </tr>\n",
       "    <tr>\n",
       "      <th>modelMag_u-r</th>\n",
       "      <td>15735</td>\n",
       "    </tr>\n",
       "    <tr>\n",
       "      <th>petroMag_u-i</th>\n",
       "      <td>15644</td>\n",
       "    </tr>\n",
       "    <tr>\n",
       "      <th>modelMag_i</th>\n",
       "      <td>15628</td>\n",
       "    </tr>\n",
       "    <tr>\n",
       "      <th>petroMag_g</th>\n",
       "      <td>15347</td>\n",
       "    </tr>\n",
       "    <tr>\n",
       "      <th>psfMag_u-i</th>\n",
       "      <td>15008</td>\n",
       "    </tr>\n",
       "    <tr>\n",
       "      <th>psfMag_g-z</th>\n",
       "      <td>14736</td>\n",
       "    </tr>\n",
       "    <tr>\n",
       "      <th>modelMag_r</th>\n",
       "      <td>14735</td>\n",
       "    </tr>\n",
       "    <tr>\n",
       "      <th>modelMag_g-i</th>\n",
       "      <td>14639</td>\n",
       "    </tr>\n",
       "    <tr>\n",
       "      <th>fiberMag_u-z</th>\n",
       "      <td>14566</td>\n",
       "    </tr>\n",
       "    <tr>\n",
       "      <th>modelMag_g</th>\n",
       "      <td>14432</td>\n",
       "    </tr>\n",
       "    <tr>\n",
       "      <th>psfMag_u</th>\n",
       "      <td>14054</td>\n",
       "    </tr>\n",
       "    <tr>\n",
       "      <th>fiberMag_g-z</th>\n",
       "      <td>13824</td>\n",
       "    </tr>\n",
       "    <tr>\n",
       "      <th>fiberMag_u-i</th>\n",
       "      <td>13661</td>\n",
       "    </tr>\n",
       "    <tr>\n",
       "      <th>fiberMag_g</th>\n",
       "      <td>13554</td>\n",
       "    </tr>\n",
       "    <tr>\n",
       "      <th>modelMag_u-i</th>\n",
       "      <td>13237</td>\n",
       "    </tr>\n",
       "    <tr>\n",
       "      <th>psfMag_u-z</th>\n",
       "      <td>13144</td>\n",
       "    </tr>\n",
       "    <tr>\n",
       "      <th>modelMag_g-z</th>\n",
       "      <td>12561</td>\n",
       "    </tr>\n",
       "    <tr>\n",
       "      <th>modelMag_u-z</th>\n",
       "      <td>12303</td>\n",
       "    </tr>\n",
       "    <tr>\n",
       "      <th>PCA_u</th>\n",
       "      <td>11113</td>\n",
       "    </tr>\n",
       "    <tr>\n",
       "      <th>PCA_g</th>\n",
       "      <td>9695</td>\n",
       "    </tr>\n",
       "    <tr>\n",
       "      <th>PCA_z</th>\n",
       "      <td>9461</td>\n",
       "    </tr>\n",
       "    <tr>\n",
       "      <th>PCA_i</th>\n",
       "      <td>8594</td>\n",
       "    </tr>\n",
       "    <tr>\n",
       "      <th>PCA_r</th>\n",
       "      <td>7263</td>\n",
       "    </tr>\n",
       "  </tbody>\n",
       "</table>\n",
       "<p>66 rows × 1 columns</p>\n",
       "</div>"
      ],
      "text/plain": [
       "              importance\n",
       "fiberID            93313\n",
       "psfMag_i-z         36153\n",
       "modelMag_i-z       34465\n",
       "petroMag_i-z       34102\n",
       "fiberMag_u-g       33592\n",
       "fiberMag_i-z       33394\n",
       "psfMag_u-g         32935\n",
       "psfMag_r-i         32356\n",
       "psfMag_g-r         32248\n",
       "petroMag_u-g       32131\n",
       "modelMag_u-g       31562\n",
       "fiberMag_g-r       30488\n",
       "fiberMag_r-i       30287\n",
       "petroMag_r-i       30198\n",
       "modelMag_r-i       29694\n",
       "psfMag_i           26942\n",
       "psfMag_r           26287\n",
       "petroMag_g-r       25693\n",
       "modelMag_g-r       25663\n",
       "fiberMag_r-z       23401\n",
       "petroMag_u         22096\n",
       "fiberMag_i         21899\n",
       "psfMag_z           21627\n",
       "petroMag_z         21114\n",
       "psfMag_g           20732\n",
       "modelMag_z         20200\n",
       "psfMag_r-z         20128\n",
       "modelMag_u         19908\n",
       "modelMag_r-z       19559\n",
       "psfMag_u-r         19416\n",
       "...                  ...\n",
       "petroMag_i         18077\n",
       "fiberMag_z         17485\n",
       "petroMag_u-z       17239\n",
       "psfMag_g-i         16966\n",
       "petroMag_g-i       16861\n",
       "fiberMag_g-i       16065\n",
       "petroMag_g-z       15967\n",
       "modelMag_u-r       15735\n",
       "petroMag_u-i       15644\n",
       "modelMag_i         15628\n",
       "petroMag_g         15347\n",
       "psfMag_u-i         15008\n",
       "psfMag_g-z         14736\n",
       "modelMag_r         14735\n",
       "modelMag_g-i       14639\n",
       "fiberMag_u-z       14566\n",
       "modelMag_g         14432\n",
       "psfMag_u           14054\n",
       "fiberMag_g-z       13824\n",
       "fiberMag_u-i       13661\n",
       "fiberMag_g         13554\n",
       "modelMag_u-i       13237\n",
       "psfMag_u-z         13144\n",
       "modelMag_g-z       12561\n",
       "modelMag_u-z       12303\n",
       "PCA_u              11113\n",
       "PCA_g               9695\n",
       "PCA_z               9461\n",
       "PCA_i               8594\n",
       "PCA_r               7263\n",
       "\n",
       "[66 rows x 1 columns]"
      ]
     },
     "execution_count": 22,
     "metadata": {},
     "output_type": "execute_result"
    }
   ],
   "source": [
    "pi_df = pd.DataFrame(lgbm_c.feature_importances_, index= train_X.columns,columns= ['importance']).sort_values('importance',ascending = False)\n",
    "pi_df"
   ]
  },
  {
   "cell_type": "markdown",
   "metadata": {},
   "source": [
    "### 예측결과에 대해\n",
    "잘된예측 : 1,3,4,5,6,8,9,10,14,15,16,18  \n",
    "중간예측 : 0,2,7,13  \n",
    "망한예측 : 11,12,17"
   ]
  },
  {
   "cell_type": "code",
   "execution_count": 23,
   "metadata": {
    "ExecuteTime": {
     "end_time": "2020-02-27T05:25:18.060857Z",
     "start_time": "2020-02-27T05:17:29.312948Z"
    }
   },
   "outputs": [],
   "source": [
    "train_y_pred = lgbm_c.predict(X_test)"
   ]
  },
  {
   "cell_type": "code",
   "execution_count": 24,
   "metadata": {
    "ExecuteTime": {
     "end_time": "2020-02-27T05:25:18.065857Z",
     "start_time": "2020-02-27T05:25:18.061857Z"
    }
   },
   "outputs": [
    {
     "data": {
      "text/plain": [
       "(59998,)"
      ]
     },
     "execution_count": 24,
     "metadata": {},
     "output_type": "execute_result"
    }
   ],
   "source": [
    "train_y_pred.shape"
   ]
  },
  {
   "cell_type": "code",
   "execution_count": 25,
   "metadata": {
    "ExecuteTime": {
     "end_time": "2020-02-27T05:25:18.192852Z",
     "start_time": "2020-02-27T05:25:18.066857Z"
    }
   },
   "outputs": [],
   "source": [
    "cm_result = pd.DataFrame(confusion_matrix(y_test,train_y_pred))"
   ]
  },
  {
   "cell_type": "code",
   "execution_count": 26,
   "metadata": {
    "ExecuteTime": {
     "end_time": "2020-02-27T05:25:18.211853Z",
     "start_time": "2020-02-27T05:25:18.193853Z"
    }
   },
   "outputs": [
    {
     "data": {
      "text/html": [
       "<div>\n",
       "<style scoped>\n",
       "    .dataframe tbody tr th:only-of-type {\n",
       "        vertical-align: middle;\n",
       "    }\n",
       "\n",
       "    .dataframe tbody tr th {\n",
       "        vertical-align: top;\n",
       "    }\n",
       "\n",
       "    .dataframe thead th {\n",
       "        text-align: right;\n",
       "    }\n",
       "</style>\n",
       "<table border=\"1\" class=\"dataframe\">\n",
       "  <thead>\n",
       "    <tr style=\"text-align: right;\">\n",
       "      <th></th>\n",
       "      <th>0</th>\n",
       "      <th>1</th>\n",
       "      <th>2</th>\n",
       "      <th>3</th>\n",
       "      <th>4</th>\n",
       "      <th>5</th>\n",
       "      <th>6</th>\n",
       "      <th>7</th>\n",
       "      <th>8</th>\n",
       "      <th>9</th>\n",
       "      <th>10</th>\n",
       "      <th>11</th>\n",
       "      <th>12</th>\n",
       "      <th>13</th>\n",
       "      <th>14</th>\n",
       "      <th>15</th>\n",
       "      <th>16</th>\n",
       "      <th>17</th>\n",
       "      <th>18</th>\n",
       "    </tr>\n",
       "  </thead>\n",
       "  <tbody>\n",
       "    <tr>\n",
       "      <th>0</th>\n",
       "      <td>305</td>\n",
       "      <td>0</td>\n",
       "      <td>0</td>\n",
       "      <td>0</td>\n",
       "      <td>16</td>\n",
       "      <td>63</td>\n",
       "      <td>2</td>\n",
       "      <td>125</td>\n",
       "      <td>46</td>\n",
       "      <td>0</td>\n",
       "      <td>0</td>\n",
       "      <td>20</td>\n",
       "      <td>0</td>\n",
       "      <td>1</td>\n",
       "      <td>23</td>\n",
       "      <td>8</td>\n",
       "      <td>0</td>\n",
       "      <td>0</td>\n",
       "      <td>39</td>\n",
       "    </tr>\n",
       "    <tr>\n",
       "      <th>1</th>\n",
       "      <td>0</td>\n",
       "      <td>1885</td>\n",
       "      <td>0</td>\n",
       "      <td>0</td>\n",
       "      <td>0</td>\n",
       "      <td>1</td>\n",
       "      <td>1</td>\n",
       "      <td>2</td>\n",
       "      <td>16</td>\n",
       "      <td>0</td>\n",
       "      <td>1</td>\n",
       "      <td>1</td>\n",
       "      <td>0</td>\n",
       "      <td>0</td>\n",
       "      <td>0</td>\n",
       "      <td>0</td>\n",
       "      <td>3</td>\n",
       "      <td>0</td>\n",
       "      <td>42</td>\n",
       "    </tr>\n",
       "    <tr>\n",
       "      <th>2</th>\n",
       "      <td>0</td>\n",
       "      <td>0</td>\n",
       "      <td>80</td>\n",
       "      <td>62</td>\n",
       "      <td>0</td>\n",
       "      <td>0</td>\n",
       "      <td>0</td>\n",
       "      <td>0</td>\n",
       "      <td>0</td>\n",
       "      <td>1</td>\n",
       "      <td>7</td>\n",
       "      <td>0</td>\n",
       "      <td>0</td>\n",
       "      <td>0</td>\n",
       "      <td>0</td>\n",
       "      <td>0</td>\n",
       "      <td>0</td>\n",
       "      <td>0</td>\n",
       "      <td>0</td>\n",
       "    </tr>\n",
       "    <tr>\n",
       "      <th>3</th>\n",
       "      <td>0</td>\n",
       "      <td>0</td>\n",
       "      <td>37</td>\n",
       "      <td>650</td>\n",
       "      <td>0</td>\n",
       "      <td>0</td>\n",
       "      <td>1</td>\n",
       "      <td>0</td>\n",
       "      <td>0</td>\n",
       "      <td>3</td>\n",
       "      <td>78</td>\n",
       "      <td>0</td>\n",
       "      <td>0</td>\n",
       "      <td>0</td>\n",
       "      <td>0</td>\n",
       "      <td>0</td>\n",
       "      <td>0</td>\n",
       "      <td>0</td>\n",
       "      <td>0</td>\n",
       "    </tr>\n",
       "    <tr>\n",
       "      <th>4</th>\n",
       "      <td>2</td>\n",
       "      <td>0</td>\n",
       "      <td>0</td>\n",
       "      <td>0</td>\n",
       "      <td>4248</td>\n",
       "      <td>35</td>\n",
       "      <td>1</td>\n",
       "      <td>0</td>\n",
       "      <td>9</td>\n",
       "      <td>0</td>\n",
       "      <td>0</td>\n",
       "      <td>9</td>\n",
       "      <td>0</td>\n",
       "      <td>0</td>\n",
       "      <td>0</td>\n",
       "      <td>82</td>\n",
       "      <td>0</td>\n",
       "      <td>0</td>\n",
       "      <td>0</td>\n",
       "    </tr>\n",
       "    <tr>\n",
       "      <th>5</th>\n",
       "      <td>32</td>\n",
       "      <td>0</td>\n",
       "      <td>0</td>\n",
       "      <td>0</td>\n",
       "      <td>136</td>\n",
       "      <td>3716</td>\n",
       "      <td>3</td>\n",
       "      <td>48</td>\n",
       "      <td>30</td>\n",
       "      <td>0</td>\n",
       "      <td>0</td>\n",
       "      <td>1</td>\n",
       "      <td>0</td>\n",
       "      <td>0</td>\n",
       "      <td>0</td>\n",
       "      <td>74</td>\n",
       "      <td>0</td>\n",
       "      <td>0</td>\n",
       "      <td>10</td>\n",
       "    </tr>\n",
       "    <tr>\n",
       "      <th>6</th>\n",
       "      <td>2</td>\n",
       "      <td>21</td>\n",
       "      <td>0</td>\n",
       "      <td>0</td>\n",
       "      <td>8</td>\n",
       "      <td>2</td>\n",
       "      <td>10947</td>\n",
       "      <td>3</td>\n",
       "      <td>65</td>\n",
       "      <td>1</td>\n",
       "      <td>0</td>\n",
       "      <td>48</td>\n",
       "      <td>0</td>\n",
       "      <td>79</td>\n",
       "      <td>18</td>\n",
       "      <td>10</td>\n",
       "      <td>0</td>\n",
       "      <td>0</td>\n",
       "      <td>0</td>\n",
       "    </tr>\n",
       "    <tr>\n",
       "      <th>7</th>\n",
       "      <td>190</td>\n",
       "      <td>0</td>\n",
       "      <td>0</td>\n",
       "      <td>0</td>\n",
       "      <td>0</td>\n",
       "      <td>207</td>\n",
       "      <td>1</td>\n",
       "      <td>686</td>\n",
       "      <td>16</td>\n",
       "      <td>0</td>\n",
       "      <td>0</td>\n",
       "      <td>1</td>\n",
       "      <td>0</td>\n",
       "      <td>0</td>\n",
       "      <td>0</td>\n",
       "      <td>1</td>\n",
       "      <td>0</td>\n",
       "      <td>0</td>\n",
       "      <td>294</td>\n",
       "    </tr>\n",
       "    <tr>\n",
       "      <th>8</th>\n",
       "      <td>11</td>\n",
       "      <td>10</td>\n",
       "      <td>2</td>\n",
       "      <td>8</td>\n",
       "      <td>26</td>\n",
       "      <td>214</td>\n",
       "      <td>96</td>\n",
       "      <td>28</td>\n",
       "      <td>13247</td>\n",
       "      <td>2</td>\n",
       "      <td>10</td>\n",
       "      <td>185</td>\n",
       "      <td>0</td>\n",
       "      <td>59</td>\n",
       "      <td>75</td>\n",
       "      <td>9</td>\n",
       "      <td>14</td>\n",
       "      <td>0</td>\n",
       "      <td>908</td>\n",
       "    </tr>\n",
       "    <tr>\n",
       "      <th>9</th>\n",
       "      <td>0</td>\n",
       "      <td>0</td>\n",
       "      <td>0</td>\n",
       "      <td>0</td>\n",
       "      <td>0</td>\n",
       "      <td>0</td>\n",
       "      <td>2</td>\n",
       "      <td>0</td>\n",
       "      <td>2</td>\n",
       "      <td>34</td>\n",
       "      <td>0</td>\n",
       "      <td>0</td>\n",
       "      <td>0</td>\n",
       "      <td>0</td>\n",
       "      <td>0</td>\n",
       "      <td>0</td>\n",
       "      <td>0</td>\n",
       "      <td>0</td>\n",
       "      <td>0</td>\n",
       "    </tr>\n",
       "    <tr>\n",
       "      <th>10</th>\n",
       "      <td>0</td>\n",
       "      <td>0</td>\n",
       "      <td>6</td>\n",
       "      <td>120</td>\n",
       "      <td>0</td>\n",
       "      <td>0</td>\n",
       "      <td>1</td>\n",
       "      <td>0</td>\n",
       "      <td>1</td>\n",
       "      <td>0</td>\n",
       "      <td>3994</td>\n",
       "      <td>2</td>\n",
       "      <td>0</td>\n",
       "      <td>0</td>\n",
       "      <td>0</td>\n",
       "      <td>0</td>\n",
       "      <td>1</td>\n",
       "      <td>0</td>\n",
       "      <td>0</td>\n",
       "    </tr>\n",
       "    <tr>\n",
       "      <th>11</th>\n",
       "      <td>4</td>\n",
       "      <td>29</td>\n",
       "      <td>0</td>\n",
       "      <td>4</td>\n",
       "      <td>125</td>\n",
       "      <td>41</td>\n",
       "      <td>83</td>\n",
       "      <td>17</td>\n",
       "      <td>353</td>\n",
       "      <td>0</td>\n",
       "      <td>14</td>\n",
       "      <td>648</td>\n",
       "      <td>0</td>\n",
       "      <td>256</td>\n",
       "      <td>72</td>\n",
       "      <td>55</td>\n",
       "      <td>6</td>\n",
       "      <td>0</td>\n",
       "      <td>267</td>\n",
       "    </tr>\n",
       "    <tr>\n",
       "      <th>12</th>\n",
       "      <td>0</td>\n",
       "      <td>0</td>\n",
       "      <td>0</td>\n",
       "      <td>0</td>\n",
       "      <td>0</td>\n",
       "      <td>0</td>\n",
       "      <td>0</td>\n",
       "      <td>2</td>\n",
       "      <td>1</td>\n",
       "      <td>0</td>\n",
       "      <td>0</td>\n",
       "      <td>0</td>\n",
       "      <td>0</td>\n",
       "      <td>0</td>\n",
       "      <td>0</td>\n",
       "      <td>0</td>\n",
       "      <td>0</td>\n",
       "      <td>0</td>\n",
       "      <td>1</td>\n",
       "    </tr>\n",
       "    <tr>\n",
       "      <th>13</th>\n",
       "      <td>1</td>\n",
       "      <td>0</td>\n",
       "      <td>0</td>\n",
       "      <td>0</td>\n",
       "      <td>1</td>\n",
       "      <td>8</td>\n",
       "      <td>157</td>\n",
       "      <td>6</td>\n",
       "      <td>292</td>\n",
       "      <td>0</td>\n",
       "      <td>2</td>\n",
       "      <td>125</td>\n",
       "      <td>0</td>\n",
       "      <td>1299</td>\n",
       "      <td>3</td>\n",
       "      <td>0</td>\n",
       "      <td>0</td>\n",
       "      <td>0</td>\n",
       "      <td>246</td>\n",
       "    </tr>\n",
       "    <tr>\n",
       "      <th>14</th>\n",
       "      <td>3</td>\n",
       "      <td>0</td>\n",
       "      <td>0</td>\n",
       "      <td>0</td>\n",
       "      <td>0</td>\n",
       "      <td>0</td>\n",
       "      <td>4</td>\n",
       "      <td>1</td>\n",
       "      <td>19</td>\n",
       "      <td>0</td>\n",
       "      <td>0</td>\n",
       "      <td>28</td>\n",
       "      <td>0</td>\n",
       "      <td>1</td>\n",
       "      <td>921</td>\n",
       "      <td>0</td>\n",
       "      <td>0</td>\n",
       "      <td>0</td>\n",
       "      <td>0</td>\n",
       "    </tr>\n",
       "    <tr>\n",
       "      <th>15</th>\n",
       "      <td>0</td>\n",
       "      <td>0</td>\n",
       "      <td>0</td>\n",
       "      <td>0</td>\n",
       "      <td>83</td>\n",
       "      <td>33</td>\n",
       "      <td>0</td>\n",
       "      <td>0</td>\n",
       "      <td>0</td>\n",
       "      <td>0</td>\n",
       "      <td>0</td>\n",
       "      <td>2</td>\n",
       "      <td>0</td>\n",
       "      <td>0</td>\n",
       "      <td>0</td>\n",
       "      <td>4271</td>\n",
       "      <td>0</td>\n",
       "      <td>0</td>\n",
       "      <td>0</td>\n",
       "    </tr>\n",
       "    <tr>\n",
       "      <th>16</th>\n",
       "      <td>0</td>\n",
       "      <td>7</td>\n",
       "      <td>0</td>\n",
       "      <td>0</td>\n",
       "      <td>0</td>\n",
       "      <td>0</td>\n",
       "      <td>0</td>\n",
       "      <td>0</td>\n",
       "      <td>1</td>\n",
       "      <td>0</td>\n",
       "      <td>0</td>\n",
       "      <td>7</td>\n",
       "      <td>0</td>\n",
       "      <td>0</td>\n",
       "      <td>0</td>\n",
       "      <td>0</td>\n",
       "      <td>331</td>\n",
       "      <td>0</td>\n",
       "      <td>0</td>\n",
       "    </tr>\n",
       "    <tr>\n",
       "      <th>17</th>\n",
       "      <td>1</td>\n",
       "      <td>1</td>\n",
       "      <td>1</td>\n",
       "      <td>4</td>\n",
       "      <td>0</td>\n",
       "      <td>0</td>\n",
       "      <td>1</td>\n",
       "      <td>3</td>\n",
       "      <td>3</td>\n",
       "      <td>0</td>\n",
       "      <td>0</td>\n",
       "      <td>1</td>\n",
       "      <td>0</td>\n",
       "      <td>2</td>\n",
       "      <td>0</td>\n",
       "      <td>0</td>\n",
       "      <td>0</td>\n",
       "      <td>0</td>\n",
       "      <td>1</td>\n",
       "    </tr>\n",
       "    <tr>\n",
       "      <th>18</th>\n",
       "      <td>108</td>\n",
       "      <td>7</td>\n",
       "      <td>0</td>\n",
       "      <td>0</td>\n",
       "      <td>0</td>\n",
       "      <td>111</td>\n",
       "      <td>1</td>\n",
       "      <td>389</td>\n",
       "      <td>372</td>\n",
       "      <td>0</td>\n",
       "      <td>0</td>\n",
       "      <td>11</td>\n",
       "      <td>0</td>\n",
       "      <td>5</td>\n",
       "      <td>0</td>\n",
       "      <td>2</td>\n",
       "      <td>0</td>\n",
       "      <td>0</td>\n",
       "      <td>5522</td>\n",
       "    </tr>\n",
       "  </tbody>\n",
       "</table>\n",
       "</div>"
      ],
      "text/plain": [
       "     0     1   2    3     4     5      6    7      8   9     10   11  12  \\\n",
       "0   305     0   0    0    16    63      2  125     46   0     0   20   0   \n",
       "1     0  1885   0    0     0     1      1    2     16   0     1    1   0   \n",
       "2     0     0  80   62     0     0      0    0      0   1     7    0   0   \n",
       "3     0     0  37  650     0     0      1    0      0   3    78    0   0   \n",
       "4     2     0   0    0  4248    35      1    0      9   0     0    9   0   \n",
       "5    32     0   0    0   136  3716      3   48     30   0     0    1   0   \n",
       "6     2    21   0    0     8     2  10947    3     65   1     0   48   0   \n",
       "7   190     0   0    0     0   207      1  686     16   0     0    1   0   \n",
       "8    11    10   2    8    26   214     96   28  13247   2    10  185   0   \n",
       "9     0     0   0    0     0     0      2    0      2  34     0    0   0   \n",
       "10    0     0   6  120     0     0      1    0      1   0  3994    2   0   \n",
       "11    4    29   0    4   125    41     83   17    353   0    14  648   0   \n",
       "12    0     0   0    0     0     0      0    2      1   0     0    0   0   \n",
       "13    1     0   0    0     1     8    157    6    292   0     2  125   0   \n",
       "14    3     0   0    0     0     0      4    1     19   0     0   28   0   \n",
       "15    0     0   0    0    83    33      0    0      0   0     0    2   0   \n",
       "16    0     7   0    0     0     0      0    0      1   0     0    7   0   \n",
       "17    1     1   1    4     0     0      1    3      3   0     0    1   0   \n",
       "18  108     7   0    0     0   111      1  389    372   0     0   11   0   \n",
       "\n",
       "      13   14    15   16  17    18  \n",
       "0      1   23     8    0   0    39  \n",
       "1      0    0     0    3   0    42  \n",
       "2      0    0     0    0   0     0  \n",
       "3      0    0     0    0   0     0  \n",
       "4      0    0    82    0   0     0  \n",
       "5      0    0    74    0   0    10  \n",
       "6     79   18    10    0   0     0  \n",
       "7      0    0     1    0   0   294  \n",
       "8     59   75     9   14   0   908  \n",
       "9      0    0     0    0   0     0  \n",
       "10     0    0     0    1   0     0  \n",
       "11   256   72    55    6   0   267  \n",
       "12     0    0     0    0   0     1  \n",
       "13  1299    3     0    0   0   246  \n",
       "14     1  921     0    0   0     0  \n",
       "15     0    0  4271    0   0     0  \n",
       "16     0    0     0  331   0     0  \n",
       "17     2    0     0    0   0     1  \n",
       "18     5    0     2    0   0  5522  "
      ]
     },
     "execution_count": 26,
     "metadata": {},
     "output_type": "execute_result"
    }
   ],
   "source": [
    "cm_result"
   ]
  },
  {
   "cell_type": "code",
   "execution_count": 27,
   "metadata": {
    "ExecuteTime": {
     "end_time": "2020-02-27T05:25:19.270860Z",
     "start_time": "2020-02-27T05:25:18.212853Z"
    },
    "scrolled": false
   },
   "outputs": [
    {
     "data": {
      "image/png": "[encoded data removed]",
      "text/plain": [
       "<Figure size 1080x1080 with 2 Axes>"
      ]
     },
     "metadata": {},
     "output_type": "display_data"
    }
   ],
   "source": [
    "plt.figure(figsize =(15,15))\n",
    "sns.heatmap(cm_result/np.sum(cm_result),annot = True, cmap ='RdYlGn',fmt='.1%')\n",
    "plt.ylabel(\"real\",fontsize=20)\n",
    "plt.xlabel(\"predict\",fontsize=20)\n",
    "plt.show()"
   ]
  },
  {
   "cell_type": "markdown",
   "metadata": {},
   "source": [
    "# REAL"
   ]
  },
  {
   "cell_type": "code",
   "execution_count": 28,
   "metadata": {
    "ExecuteTime": {
     "end_time": "2020-02-27T05:25:19.277838Z",
     "start_time": "2020-02-27T05:25:19.271836Z"
    }
   },
   "outputs": [],
   "source": [
    "lgbm_c = lgb.LGBMClassifier(num_leaves = 255, min_child_samples = 40,\n",
    "                            max_depth = 8, learning_rate = 0.1,\n",
    "                            lambda_l2 = 3, lambda_l1 = 9,\n",
    "                            n_estimators=2000, random_state = 42)"
   ]
  },
  {
   "cell_type": "code",
   "execution_count": 29,
   "metadata": {
    "ExecuteTime": {
     "end_time": "2020-02-27T05:50:51.983585Z",
     "start_time": "2020-02-27T05:25:19.279836Z"
    },
    "scrolled": true
   },
   "outputs": [
    {
     "name": "stdout",
     "output_type": "stream",
     "text": [
      "Training until validation scores don't improve for 100 rounds\n",
      "[100]\tvalid's multi_logloss: 0.291861\n",
      "[200]\tvalid's multi_logloss: 0.240594\n",
      "[300]\tvalid's multi_logloss: 0.206518\n",
      "[400]\tvalid's multi_logloss: 0.182152\n",
      "[500]\tvalid's multi_logloss: 0.164247\n",
      "[600]\tvalid's multi_logloss: 0.151498\n",
      "[700]\tvalid's multi_logloss: 0.142165\n",
      "[800]\tvalid's multi_logloss: 0.134511\n",
      "[900]\tvalid's multi_logloss: 0.128598\n",
      "[1000]\tvalid's multi_logloss: 0.123936\n",
      "[1100]\tvalid's multi_logloss: 0.120994\n",
      "[1200]\tvalid's multi_logloss: 0.119293\n",
      "[1300]\tvalid's multi_logloss: 0.117423\n",
      "[1400]\tvalid's multi_logloss: 0.116727\n",
      "[1500]\tvalid's multi_logloss: 0.116727\n",
      "[1600]\tvalid's multi_logloss: 0.116727\n",
      "[1700]\tvalid's multi_logloss: 0.116727\n",
      "[1800]\tvalid's multi_logloss: 0.116727\n",
      "[1900]\tvalid's multi_logloss: 0.116727\n",
      "[2000]\tvalid's multi_logloss: 0.116727\n",
      "Did not meet early stopping. Best iteration is:\n",
      "[1646]\tvalid's multi_logloss: 0.116727\n"
     ]
    },
    {
     "data": {
      "text/plain": [
       "LGBMClassifier(boosting_type='gbdt', class_weight=None, colsample_bytree=1.0,\n",
       "               importance_type='split', lambda_l1=9, lambda_l2=3,\n",
       "               learning_rate=0.1, max_depth=8, min_child_samples=40,\n",
       "               min_child_weight=0.001, min_split_gain=0.0, n_estimators=2000,\n",
       "               n_jobs=-1, num_leaves=255, objective=None, random_state=42,\n",
       "               reg_alpha=0.0, reg_lambda=0.0, silent=True, subsample=1.0,\n",
       "               subsample_for_bin=200000, subsample_freq=0)"
      ]
     },
     "execution_count": 29,
     "metadata": {},
     "output_type": "execute_result"
    }
   ],
   "source": [
    "lgbm_c.fit(train_X, train_y, eval_set = [(train_X, train_y)],eval_names= 'valid', \n",
    "           eval_metric = 'logloss', verbose = 100, early_stopping_rounds = 100)"
   ]
  },
  {
   "cell_type": "code",
   "execution_count": 30,
   "metadata": {
    "ExecuteTime": {
     "end_time": "2020-02-27T06:02:47.120726Z",
     "start_time": "2020-02-27T05:50:51.984586Z"
    }
   },
   "outputs": [],
   "source": [
    "f_train_y_pred = lgbm_c.predict_proba(train_X)"
   ]
  },
  {
   "cell_type": "code",
   "execution_count": 31,
   "metadata": {
    "ExecuteTime": {
     "end_time": "2020-02-27T06:03:21.997527Z",
     "start_time": "2020-02-27T06:02:47.122726Z"
    }
   },
   "outputs": [],
   "source": [
    "y_pred = lgbm_c.predict_proba(test_X)"
   ]
  },
  {
   "cell_type": "code",
   "execution_count": 32,
   "metadata": {
    "ExecuteTime": {
     "end_time": "2020-02-27T06:03:22.004527Z",
     "start_time": "2020-02-27T06:03:22.000527Z"
    }
   },
   "outputs": [
    {
     "data": {
      "text/plain": [
       "array([[4.92720799e-05, 1.08784844e-04, 5.20466946e-04, ...,\n",
       "        3.83521274e-04, 1.97555831e-03, 7.43149253e-05],\n",
       "       [1.52910899e-04, 2.34202933e-04, 4.57524529e-05, ...,\n",
       "        6.04394150e-05, 8.79055930e-04, 2.68408150e-04],\n",
       "       [1.10731826e-05, 4.45790067e-06, 1.86199397e-06, ...,\n",
       "        3.39153096e-06, 2.38482480e-05, 6.61923587e-06],\n",
       "       ...,\n",
       "       [3.47849017e-06, 2.71526042e-06, 2.44532548e-07, ...,\n",
       "        6.93558507e-07, 5.93341782e-07, 8.15344327e-05],\n",
       "       [3.99969281e-06, 9.48537051e-06, 4.43449878e-07, ...,\n",
       "        8.12932928e-07, 1.13777523e-06, 8.13570423e-05],\n",
       "       [1.70986345e-04, 3.73465749e-06, 1.88055584e-06, ...,\n",
       "        4.85105027e-06, 4.29976410e-06, 8.31801122e-06]])"
      ]
     },
     "execution_count": 32,
     "metadata": {},
     "output_type": "execute_result"
    }
   ],
   "source": [
    "y_pred"
   ]
  },
  {
   "cell_type": "code",
   "execution_count": 33,
   "metadata": {
    "ExecuteTime": {
     "end_time": "2020-02-27T06:03:22.621507Z",
     "start_time": "2020-02-27T06:03:22.006527Z"
    }
   },
   "outputs": [],
   "source": [
    "submission = pd.DataFrame(data=y_pred, columns=sample_submission_df.columns, index=sample_submission_df.index)\n",
    "submission.to_csv('./submisson/submission.csv', index=True)"
   ]
  },
  {
   "cell_type": "code",
   "execution_count": null,
   "metadata": {},
   "outputs": [],
   "source": []
  }
 ],
 "metadata": {
  "kernelspec": {
   "display_name": "Python 3",
   "language": "python",
   "name": "python3"
  },
  "language_info": {
   "codemirror_mode": {
    "name": "ipython",
    "version": 3
   },
   "file_extension": ".py",
   "mimetype": "text/x-python",
   "name": "python",
   "nbconvert_exporter": "python",
   "pygments_lexer": "ipython3",
   "version": "3.6.5"
  },
  "varInspector": {
   "cols": {
    "lenName": 16,
    "lenType": 16,
    "lenVar": 40
   },
   "kernels_config": {
    "python": {
     "delete_cmd_postfix": "",
     "delete_cmd_prefix": "del ",
     "library": "var_list.py",
     "varRefreshCmd": "print(var_dic_list())"
    },
    "r": {
     "delete_cmd_postfix": ") ",
     "delete_cmd_prefix": "rm(",
     "library": "var_list.r",
     "varRefreshCmd": "cat(var_dic_list()) "
    }
   },
   "types_to_exclude": [
    "module",
    "function",
    "builtin_function_or_method",
    "instance",
    "_Feature"
   ],
   "window_display": false
  }
 },
 "nbformat": 4,
 "nbformat_minor": 2
}
