{
 "cells": [
  {
   "cell_type": "markdown",
   "metadata": {},
   "source": [
    "# Tune_lgb\n",
    "* 제출결과 : "
   ]
  },
  {
   "cell_type": "code",
   "execution_count": 1,
   "metadata": {
    "ExecuteTime": {
     "end_time": "2020-02-16T01:59:23.916000Z",
     "start_time": "2020-02-16T01:59:21.890000Z"
    }
   },
   "outputs": [],
   "source": [
    "import pandas as pd\n",
    "import numpy as np\n",
    "import matplotlib.pyplot as plt\n",
    "import seaborn as sns\n",
    "\n",
    "from sklearn.ensemble import RandomForestClassifier\n",
    "from sklearn.model_selection import train_test_split\n",
    "from sklearn.metrics import confusion_matrix\n",
    "from sklearn.metrics import log_loss\n",
    "import lightgbm as lgb"
   ]
  },
  {
   "cell_type": "code",
   "execution_count": 2,
   "metadata": {
    "ExecuteTime": {
     "end_time": "2020-02-16T01:59:24.859000Z",
     "start_time": "2020-02-16T01:59:23.918000Z"
    }
   },
   "outputs": [],
   "source": [
    "path = \"./data/\" \n",
    "train_df = pd.read_csv(path+'train.csv',index_col=0)\n",
    "test_df = pd.read_csv(path+'test.csv',index_col=0)\n",
    "sample_submission_df = pd.read_csv(path+'sample_submission.csv',index_col=0)\n",
    "pd.options.display.max_columns = 30"
   ]
  },
  {
   "cell_type": "markdown",
   "metadata": {},
   "source": [
    "## 전처리\n",
    " - 이상치 확인 및 처리"
   ]
  },
  {
   "cell_type": "code",
   "execution_count": 3,
   "metadata": {
    "ExecuteTime": {
     "end_time": "2020-02-16T01:59:25.089000Z",
     "start_time": "2020-02-16T01:59:24.862000Z"
    }
   },
   "outputs": [
    {
     "data": {
      "text/html": [
       "<div>\n",
       "<style scoped>\n",
       "    .dataframe tbody tr th:only-of-type {\n",
       "        vertical-align: middle;\n",
       "    }\n",
       "\n",
       "    .dataframe tbody tr th {\n",
       "        vertical-align: top;\n",
       "    }\n",
       "\n",
       "    .dataframe thead th {\n",
       "        text-align: right;\n",
       "    }\n",
       "</style>\n",
       "<table border=\"1\" class=\"dataframe\">\n",
       "  <thead>\n",
       "    <tr style=\"text-align: right;\">\n",
       "      <th></th>\n",
       "      <th>fiberID</th>\n",
       "      <th>psfMag_u</th>\n",
       "      <th>psfMag_g</th>\n",
       "      <th>psfMag_r</th>\n",
       "      <th>psfMag_i</th>\n",
       "      <th>psfMag_z</th>\n",
       "      <th>fiberMag_u</th>\n",
       "      <th>fiberMag_g</th>\n",
       "      <th>fiberMag_r</th>\n",
       "      <th>fiberMag_i</th>\n",
       "      <th>fiberMag_z</th>\n",
       "      <th>petroMag_u</th>\n",
       "      <th>petroMag_g</th>\n",
       "      <th>petroMag_r</th>\n",
       "      <th>petroMag_i</th>\n",
       "      <th>petroMag_z</th>\n",
       "      <th>modelMag_u</th>\n",
       "      <th>modelMag_g</th>\n",
       "      <th>modelMag_r</th>\n",
       "      <th>modelMag_i</th>\n",
       "      <th>modelMag_z</th>\n",
       "    </tr>\n",
       "  </thead>\n",
       "  <tbody>\n",
       "    <tr>\n",
       "      <td>count</td>\n",
       "      <td>199991.000000</td>\n",
       "      <td>1.999910e+05</td>\n",
       "      <td>199991.000000</td>\n",
       "      <td>199991.000000</td>\n",
       "      <td>199991.000000</td>\n",
       "      <td>199991.000000</td>\n",
       "      <td>1.999910e+05</td>\n",
       "      <td>199991.000000</td>\n",
       "      <td>199991.000000</td>\n",
       "      <td>199991.000000</td>\n",
       "      <td>199991.000000</td>\n",
       "      <td>199991.000000</td>\n",
       "      <td>199991.000000</td>\n",
       "      <td>199991.000000</td>\n",
       "      <td>199991.000000</td>\n",
       "      <td>199991.000000</td>\n",
       "      <td>199991.000000</td>\n",
       "      <td>199991.000000</td>\n",
       "      <td>199991.000000</td>\n",
       "      <td>199991.000000</td>\n",
       "      <td>199991.000000</td>\n",
       "    </tr>\n",
       "    <tr>\n",
       "      <td>mean</td>\n",
       "      <td>360.830152</td>\n",
       "      <td>-6.750146e+00</td>\n",
       "      <td>18.675373</td>\n",
       "      <td>18.401235</td>\n",
       "      <td>18.043495</td>\n",
       "      <td>17.663526</td>\n",
       "      <td>1.084986e+01</td>\n",
       "      <td>19.072693</td>\n",
       "      <td>19.134483</td>\n",
       "      <td>18.183331</td>\n",
       "      <td>18.000882</td>\n",
       "      <td>21.837903</td>\n",
       "      <td>18.454136</td>\n",
       "      <td>18.481525</td>\n",
       "      <td>17.686617</td>\n",
       "      <td>17.699207</td>\n",
       "      <td>20.110991</td>\n",
       "      <td>18.544375</td>\n",
       "      <td>18.181544</td>\n",
       "      <td>17.692395</td>\n",
       "      <td>17.189281</td>\n",
       "    </tr>\n",
       "    <tr>\n",
       "      <td>std</td>\n",
       "      <td>225.305890</td>\n",
       "      <td>1.187678e+04</td>\n",
       "      <td>155.423024</td>\n",
       "      <td>127.128078</td>\n",
       "      <td>116.622194</td>\n",
       "      <td>123.735298</td>\n",
       "      <td>4.172116e+03</td>\n",
       "      <td>749.256162</td>\n",
       "      <td>90.049058</td>\n",
       "      <td>122.378972</td>\n",
       "      <td>145.862346</td>\n",
       "      <td>789.472333</td>\n",
       "      <td>154.376277</td>\n",
       "      <td>97.240448</td>\n",
       "      <td>145.730872</td>\n",
       "      <td>142.691880</td>\n",
       "      <td>122.299062</td>\n",
       "      <td>161.728183</td>\n",
       "      <td>133.984475</td>\n",
       "      <td>131.183416</td>\n",
       "      <td>133.685138</td>\n",
       "    </tr>\n",
       "    <tr>\n",
       "      <td>min</td>\n",
       "      <td>1.000000</td>\n",
       "      <td>-5.310802e+06</td>\n",
       "      <td>-40022.466071</td>\n",
       "      <td>-27184.795793</td>\n",
       "      <td>-26566.310827</td>\n",
       "      <td>-24878.828280</td>\n",
       "      <td>-1.864766e+06</td>\n",
       "      <td>-215882.917191</td>\n",
       "      <td>-21802.656144</td>\n",
       "      <td>-20208.516262</td>\n",
       "      <td>-26505.602101</td>\n",
       "      <td>-24463.431833</td>\n",
       "      <td>-25958.752324</td>\n",
       "      <td>-23948.588523</td>\n",
       "      <td>-40438.184078</td>\n",
       "      <td>-30070.729379</td>\n",
       "      <td>-26236.578659</td>\n",
       "      <td>-36902.402336</td>\n",
       "      <td>-36439.638493</td>\n",
       "      <td>-38969.416822</td>\n",
       "      <td>-26050.710196</td>\n",
       "    </tr>\n",
       "    <tr>\n",
       "      <td>25%</td>\n",
       "      <td>174.000000</td>\n",
       "      <td>1.965259e+01</td>\n",
       "      <td>18.701180</td>\n",
       "      <td>18.048572</td>\n",
       "      <td>17.747663</td>\n",
       "      <td>17.425523</td>\n",
       "      <td>1.994040e+01</td>\n",
       "      <td>18.902851</td>\n",
       "      <td>18.259352</td>\n",
       "      <td>17.903615</td>\n",
       "      <td>17.606148</td>\n",
       "      <td>19.247795</td>\n",
       "      <td>18.113933</td>\n",
       "      <td>17.479794</td>\n",
       "      <td>17.050294</td>\n",
       "      <td>16.804705</td>\n",
       "      <td>19.266214</td>\n",
       "      <td>18.076120</td>\n",
       "      <td>17.423425</td>\n",
       "      <td>16.977671</td>\n",
       "      <td>16.705774</td>\n",
       "    </tr>\n",
       "    <tr>\n",
       "      <td>50%</td>\n",
       "      <td>349.000000</td>\n",
       "      <td>2.087136e+01</td>\n",
       "      <td>19.904235</td>\n",
       "      <td>19.454492</td>\n",
       "      <td>19.043895</td>\n",
       "      <td>18.611799</td>\n",
       "      <td>2.104910e+01</td>\n",
       "      <td>20.069038</td>\n",
       "      <td>19.631419</td>\n",
       "      <td>19.188763</td>\n",
       "      <td>18.710967</td>\n",
       "      <td>20.366848</td>\n",
       "      <td>19.586559</td>\n",
       "      <td>19.182789</td>\n",
       "      <td>18.693370</td>\n",
       "      <td>18.174592</td>\n",
       "      <td>20.406840</td>\n",
       "      <td>19.547674</td>\n",
       "      <td>19.143156</td>\n",
       "      <td>18.641756</td>\n",
       "      <td>18.100997</td>\n",
       "    </tr>\n",
       "    <tr>\n",
       "      <td>75%</td>\n",
       "      <td>526.000000</td>\n",
       "      <td>2.216043e+01</td>\n",
       "      <td>21.150297</td>\n",
       "      <td>20.515936</td>\n",
       "      <td>20.073528</td>\n",
       "      <td>19.883760</td>\n",
       "      <td>2.233754e+01</td>\n",
       "      <td>21.385830</td>\n",
       "      <td>20.773911</td>\n",
       "      <td>20.331419</td>\n",
       "      <td>20.133179</td>\n",
       "      <td>21.797480</td>\n",
       "      <td>21.004397</td>\n",
       "      <td>20.457491</td>\n",
       "      <td>20.019112</td>\n",
       "      <td>19.807652</td>\n",
       "      <td>21.992898</td>\n",
       "      <td>20.962386</td>\n",
       "      <td>20.408140</td>\n",
       "      <td>19.968846</td>\n",
       "      <td>19.819554</td>\n",
       "    </tr>\n",
       "    <tr>\n",
       "      <td>max</td>\n",
       "      <td>1000.000000</td>\n",
       "      <td>1.877392e+04</td>\n",
       "      <td>3538.984910</td>\n",
       "      <td>3048.110913</td>\n",
       "      <td>4835.218639</td>\n",
       "      <td>9823.740407</td>\n",
       "      <td>4.870154e+03</td>\n",
       "      <td>248077.513380</td>\n",
       "      <td>12084.735440</td>\n",
       "      <td>8059.638535</td>\n",
       "      <td>18358.921741</td>\n",
       "      <td>298771.019041</td>\n",
       "      <td>12139.815877</td>\n",
       "      <td>7003.136546</td>\n",
       "      <td>9772.190537</td>\n",
       "      <td>17403.789263</td>\n",
       "      <td>14488.251976</td>\n",
       "      <td>10582.058590</td>\n",
       "      <td>12237.951703</td>\n",
       "      <td>4062.499371</td>\n",
       "      <td>7420.534172</td>\n",
       "    </tr>\n",
       "  </tbody>\n",
       "</table>\n",
       "</div>"
      ],
      "text/plain": [
       "             fiberID      psfMag_u       psfMag_g       psfMag_r  \\\n",
       "count  199991.000000  1.999910e+05  199991.000000  199991.000000   \n",
       "mean      360.830152 -6.750146e+00      18.675373      18.401235   \n",
       "std       225.305890  1.187678e+04     155.423024     127.128078   \n",
       "min         1.000000 -5.310802e+06  -40022.466071  -27184.795793   \n",
       "25%       174.000000  1.965259e+01      18.701180      18.048572   \n",
       "50%       349.000000  2.087136e+01      19.904235      19.454492   \n",
       "75%       526.000000  2.216043e+01      21.150297      20.515936   \n",
       "max      1000.000000  1.877392e+04    3538.984910    3048.110913   \n",
       "\n",
       "            psfMag_i       psfMag_z    fiberMag_u     fiberMag_g  \\\n",
       "count  199991.000000  199991.000000  1.999910e+05  199991.000000   \n",
       "mean       18.043495      17.663526  1.084986e+01      19.072693   \n",
       "std       116.622194     123.735298  4.172116e+03     749.256162   \n",
       "min    -26566.310827  -24878.828280 -1.864766e+06 -215882.917191   \n",
       "25%        17.747663      17.425523  1.994040e+01      18.902851   \n",
       "50%        19.043895      18.611799  2.104910e+01      20.069038   \n",
       "75%        20.073528      19.883760  2.233754e+01      21.385830   \n",
       "max      4835.218639    9823.740407  4.870154e+03  248077.513380   \n",
       "\n",
       "          fiberMag_r     fiberMag_i     fiberMag_z     petroMag_u  \\\n",
       "count  199991.000000  199991.000000  199991.000000  199991.000000   \n",
       "mean       19.134483      18.183331      18.000882      21.837903   \n",
       "std        90.049058     122.378972     145.862346     789.472333   \n",
       "min    -21802.656144  -20208.516262  -26505.602101  -24463.431833   \n",
       "25%        18.259352      17.903615      17.606148      19.247795   \n",
       "50%        19.631419      19.188763      18.710967      20.366848   \n",
       "75%        20.773911      20.331419      20.133179      21.797480   \n",
       "max     12084.735440    8059.638535   18358.921741  298771.019041   \n",
       "\n",
       "          petroMag_g     petroMag_r     petroMag_i     petroMag_z  \\\n",
       "count  199991.000000  199991.000000  199991.000000  199991.000000   \n",
       "mean       18.454136      18.481525      17.686617      17.699207   \n",
       "std       154.376277      97.240448     145.730872     142.691880   \n",
       "min    -25958.752324  -23948.588523  -40438.184078  -30070.729379   \n",
       "25%        18.113933      17.479794      17.050294      16.804705   \n",
       "50%        19.586559      19.182789      18.693370      18.174592   \n",
       "75%        21.004397      20.457491      20.019112      19.807652   \n",
       "max     12139.815877    7003.136546    9772.190537   17403.789263   \n",
       "\n",
       "          modelMag_u     modelMag_g     modelMag_r     modelMag_i  \\\n",
       "count  199991.000000  199991.000000  199991.000000  199991.000000   \n",
       "mean       20.110991      18.544375      18.181544      17.692395   \n",
       "std       122.299062     161.728183     133.984475     131.183416   \n",
       "min    -26236.578659  -36902.402336  -36439.638493  -38969.416822   \n",
       "25%        19.266214      18.076120      17.423425      16.977671   \n",
       "50%        20.406840      19.547674      19.143156      18.641756   \n",
       "75%        21.992898      20.962386      20.408140      19.968846   \n",
       "max     14488.251976   10582.058590   12237.951703    4062.499371   \n",
       "\n",
       "          modelMag_z  \n",
       "count  199991.000000  \n",
       "mean       17.189281  \n",
       "std       133.685138  \n",
       "min    -26050.710196  \n",
       "25%        16.705774  \n",
       "50%        18.100997  \n",
       "75%        19.819554  \n",
       "max      7420.534172  "
      ]
     },
     "execution_count": 3,
     "metadata": {},
     "output_type": "execute_result"
    }
   ],
   "source": [
    "train_df.describe()"
   ]
  },
  {
   "cell_type": "code",
   "execution_count": 4,
   "metadata": {
    "ExecuteTime": {
     "end_time": "2020-02-16T01:59:25.096000Z",
     "start_time": "2020-02-16T01:59:25.090000Z"
    }
   },
   "outputs": [],
   "source": [
    "def del_outlier(data, min=0, max=60):\n",
    "    up_idx_t=()\n",
    "    dw_idx_t=()\n",
    "    train_light = data.iloc[:,2:]\n",
    "    for i in range(len(train_light.columns)):\n",
    "        col = train_light.columns[i]\n",
    "        up_idx_t+=tuple(data[data[col]>max].index)\n",
    "        dw_idx_t+=tuple(data[data[col]<min].index)\n",
    "    del_idx = set(up_idx_t+dw_idx_t)\n",
    "    \n",
    "    data[~data.index.isin(del_idx)].describe()\n",
    "    \n",
    "    return data"
   ]
  },
  {
   "cell_type": "code",
   "execution_count": 5,
   "metadata": {
    "ExecuteTime": {
     "end_time": "2020-02-16T01:59:25.417000Z",
     "start_time": "2020-02-16T01:59:25.097000Z"
    }
   },
   "outputs": [],
   "source": [
    "train_df = del_outlier(train_df, min=-60, max=60)"
   ]
  },
  {
   "cell_type": "code",
   "execution_count": 6,
   "metadata": {
    "ExecuteTime": {
     "end_time": "2020-02-16T01:59:25.423000Z",
     "start_time": "2020-02-16T01:59:25.418000Z"
    }
   },
   "outputs": [
    {
     "data": {
      "text/plain": [
       "Index(['type', 'fiberID', 'psfMag_u', 'psfMag_g', 'psfMag_r', 'psfMag_i',\n",
       "       'psfMag_z', 'fiberMag_u', 'fiberMag_g', 'fiberMag_r', 'fiberMag_i',\n",
       "       'fiberMag_z', 'petroMag_u', 'petroMag_g', 'petroMag_r', 'petroMag_i',\n",
       "       'petroMag_z', 'modelMag_u', 'modelMag_g', 'modelMag_r', 'modelMag_i',\n",
       "       'modelMag_z'],\n",
       "      dtype='object')"
      ]
     },
     "execution_count": 6,
     "metadata": {},
     "output_type": "execute_result"
    }
   ],
   "source": [
    "train_df.columns"
   ]
  },
  {
   "cell_type": "markdown",
   "metadata": {},
   "source": [
    "## DATA Setting"
   ]
  },
  {
   "cell_type": "code",
   "execution_count": 7,
   "metadata": {
    "ExecuteTime": {
     "end_time": "2020-02-16T01:59:25.549000Z",
     "start_time": "2020-02-16T01:59:25.425000Z"
    }
   },
   "outputs": [],
   "source": [
    "column_number = {}\n",
    "number_columns = {}\n",
    "for i, column in enumerate(sample_submission_df.columns):\n",
    "    column_number[column] = i\n",
    "    number_columns[i] = column\n",
    "    \n",
    "    \n",
    "def to_number(x, dic):\n",
    "    return dic[x]\n",
    "\n",
    "train_df['type_num'] = train_df['type'].apply(lambda x: to_number(x, column_number))\n"
   ]
  },
  {
   "cell_type": "code",
   "execution_count": 8,
   "metadata": {
    "ExecuteTime": {
     "end_time": "2020-02-16T01:59:25.558000Z",
     "start_time": "2020-02-16T01:59:25.551000Z"
    }
   },
   "outputs": [],
   "source": [
    "def add_minus_feature_all(data,test = False):\n",
    "    from itertools import combinations\n",
    "    n = 0\n",
    "    for count in range(5,21,5):\n",
    "        s = 2\n",
    "        if test == True :\n",
    "            s = 1\n",
    "        selected = data.columns[s:].values[n:count]\n",
    "        mag = str.split(selected[0],'_')[0]\n",
    "        for combi in list(combinations(selected,2)):\n",
    "            name_1st = str.split(combi[0],'_')[1]\n",
    "            name_2nd = str.split(combi[1],'_')[1]\n",
    "            data[mag+\"_\"+name_1st+\"-\"+name_2nd] = data[combi[0]]-data[combi[1]]\n",
    "        n=count\n",
    "    return data"
   ]
  },
  {
   "cell_type": "code",
   "execution_count": 9,
   "metadata": {
    "ExecuteTime": {
     "end_time": "2020-02-16T01:59:25.606000Z",
     "start_time": "2020-02-16T01:59:25.561000Z"
    }
   },
   "outputs": [],
   "source": [
    "def add_minus_feature(data,test = False):\n",
    "    '''\n",
    "    근접변수에 대해서만 컬럼생성 ex) 'fiberMag_u-g', 'fiberMag_g-r', 'fiberMag_r-i', 'fiberMag_i-z'\n",
    "    각 mag에서 가장 높은값의 filter를 받아오는 \"~~mag_MAX\"생성\n",
    "    결과 38개로 증가 \n",
    "    '''\n",
    "    from itertools import combinations\n",
    "    n = 0\n",
    "    m = 0\n",
    "    for count in range(5,21,5):\n",
    "        s = 2\n",
    "        if test == True :\n",
    "            s = 1\n",
    "        selected = data.columns[s:].values[n:count]\n",
    "        mag = str.split(selected[0],'_')[0]\n",
    "#         data[mag+\"_MAX\"] = data[selected].apply(lambda x : str.split(np.argmax(x),'_')[1],axis = 1)\n",
    "        for i in range(0,len(selected)):        \n",
    "            if i>0: \n",
    "                name_1st = str.split(m,'_')[1]\n",
    "                name_2nd = str.split(selected[i],'_')[1]\n",
    "                data[mag+\"_\"+name_1st+\"-\"+name_2nd] = data[m]-data[selected[i]]\n",
    "            m = selected[i]    \n",
    "        n=count\n",
    "    return data"
   ]
  },
  {
   "cell_type": "code",
   "execution_count": 10,
   "metadata": {
    "ExecuteTime": {
     "end_time": "2020-02-16T01:59:25.673000Z",
     "start_time": "2020-02-16T01:59:25.608000Z"
    }
   },
   "outputs": [],
   "source": [
    "train_df = add_minus_feature(train_df)\n",
    "test_df = add_minus_feature(test_df,True)"
   ]
  },
  {
   "cell_type": "code",
   "execution_count": 11,
   "metadata": {
    "ExecuteTime": {
     "end_time": "2020-02-16T01:59:25.677000Z",
     "start_time": "2020-02-16T01:59:25.674000Z"
    }
   },
   "outputs": [],
   "source": [
    "# train_df.drop(columns=['psfMag_u', 'psfMag_g', 'psfMag_r', 'psfMag_i',\n",
    "#        'psfMag_z', 'fiberMag_u', 'fiberMag_g', 'fiberMag_r', 'fiberMag_i',\n",
    "#        'fiberMag_z', 'petroMag_u', 'petroMag_g', 'petroMag_r', 'petroMag_i',\n",
    "#        'petroMag_z', 'modelMag_u', 'modelMag_g', 'modelMag_r', 'modelMag_i',\n",
    "#        'modelMag_z'], inplace=True)\n",
    "\n",
    "# test_df.drop(columns=['psfMag_u', 'psfMag_g', 'psfMag_r', 'psfMag_i',\n",
    "#        'psfMag_z', 'fiberMag_u', 'fiberMag_g', 'fiberMag_r', 'fiberMag_i',\n",
    "#        'fiberMag_z', 'petroMag_u', 'petroMag_g', 'petroMag_r', 'petroMag_i',\n",
    "#        'petroMag_z', 'modelMag_u', 'modelMag_g', 'modelMag_r', 'modelMag_i',\n",
    "#        'modelMag_z'], inplace=True)"
   ]
  },
  {
   "cell_type": "code",
   "execution_count": 12,
   "metadata": {
    "ExecuteTime": {
     "end_time": "2020-02-16T01:59:25.799000Z",
     "start_time": "2020-02-16T01:59:25.679000Z"
    }
   },
   "outputs": [],
   "source": [
    "train_X = train_df.drop(columns=['type', 'type_num', 'fiberID'], axis=1)\n",
    "train_y = train_df['type_num']\n",
    "test_X = test_df.drop(columns=['fiberID'], axis=1)"
   ]
  },
  {
   "cell_type": "code",
   "execution_count": 13,
   "metadata": {
    "ExecuteTime": {
     "end_time": "2020-02-16T01:59:25.831000Z",
     "start_time": "2020-02-16T01:59:25.803000Z"
    },
    "scrolled": true
   },
   "outputs": [
    {
     "data": {
      "text/html": [
       "<div>\n",
       "<style scoped>\n",
       "    .dataframe tbody tr th:only-of-type {\n",
       "        vertical-align: middle;\n",
       "    }\n",
       "\n",
       "    .dataframe tbody tr th {\n",
       "        vertical-align: top;\n",
       "    }\n",
       "\n",
       "    .dataframe thead th {\n",
       "        text-align: right;\n",
       "    }\n",
       "</style>\n",
       "<table border=\"1\" class=\"dataframe\">\n",
       "  <thead>\n",
       "    <tr style=\"text-align: right;\">\n",
       "      <th></th>\n",
       "      <th>psfMag_u</th>\n",
       "      <th>psfMag_g</th>\n",
       "      <th>psfMag_r</th>\n",
       "      <th>psfMag_i</th>\n",
       "      <th>psfMag_z</th>\n",
       "      <th>fiberMag_u</th>\n",
       "      <th>fiberMag_g</th>\n",
       "      <th>fiberMag_r</th>\n",
       "      <th>fiberMag_i</th>\n",
       "      <th>fiberMag_z</th>\n",
       "      <th>petroMag_u</th>\n",
       "      <th>petroMag_g</th>\n",
       "      <th>petroMag_r</th>\n",
       "      <th>petroMag_i</th>\n",
       "      <th>petroMag_z</th>\n",
       "      <th>...</th>\n",
       "      <th>psfMag_g-r</th>\n",
       "      <th>psfMag_r-i</th>\n",
       "      <th>psfMag_i-z</th>\n",
       "      <th>fiberMag_u-g</th>\n",
       "      <th>fiberMag_g-r</th>\n",
       "      <th>fiberMag_r-i</th>\n",
       "      <th>fiberMag_i-z</th>\n",
       "      <th>petroMag_u-g</th>\n",
       "      <th>petroMag_g-r</th>\n",
       "      <th>petroMag_r-i</th>\n",
       "      <th>petroMag_i-z</th>\n",
       "      <th>modelMag_u-g</th>\n",
       "      <th>modelMag_g-r</th>\n",
       "      <th>modelMag_r-i</th>\n",
       "      <th>modelMag_i-z</th>\n",
       "    </tr>\n",
       "    <tr>\n",
       "      <th>id</th>\n",
       "      <th></th>\n",
       "      <th></th>\n",
       "      <th></th>\n",
       "      <th></th>\n",
       "      <th></th>\n",
       "      <th></th>\n",
       "      <th></th>\n",
       "      <th></th>\n",
       "      <th></th>\n",
       "      <th></th>\n",
       "      <th></th>\n",
       "      <th></th>\n",
       "      <th></th>\n",
       "      <th></th>\n",
       "      <th></th>\n",
       "      <th></th>\n",
       "      <th></th>\n",
       "      <th></th>\n",
       "      <th></th>\n",
       "      <th></th>\n",
       "      <th></th>\n",
       "      <th></th>\n",
       "      <th></th>\n",
       "      <th></th>\n",
       "      <th></th>\n",
       "      <th></th>\n",
       "      <th></th>\n",
       "      <th></th>\n",
       "      <th></th>\n",
       "      <th></th>\n",
       "      <th></th>\n",
       "    </tr>\n",
       "  </thead>\n",
       "  <tbody>\n",
       "    <tr>\n",
       "      <td>0</td>\n",
       "      <td>23.198224</td>\n",
       "      <td>21.431953</td>\n",
       "      <td>21.314148</td>\n",
       "      <td>21.176553</td>\n",
       "      <td>21.171444</td>\n",
       "      <td>22.581309</td>\n",
       "      <td>21.644453</td>\n",
       "      <td>21.657571</td>\n",
       "      <td>21.387653</td>\n",
       "      <td>21.572827</td>\n",
       "      <td>22.504317</td>\n",
       "      <td>21.431636</td>\n",
       "      <td>21.478312</td>\n",
       "      <td>21.145409</td>\n",
       "      <td>20.422446</td>\n",
       "      <td>...</td>\n",
       "      <td>0.117805</td>\n",
       "      <td>0.137595</td>\n",
       "      <td>0.005109</td>\n",
       "      <td>0.936856</td>\n",
       "      <td>-0.013118</td>\n",
       "      <td>0.269918</td>\n",
       "      <td>-0.185174</td>\n",
       "      <td>1.072682</td>\n",
       "      <td>-0.046676</td>\n",
       "      <td>0.332902</td>\n",
       "      <td>0.722964</td>\n",
       "      <td>1.283708</td>\n",
       "      <td>0.101347</td>\n",
       "      <td>0.343582</td>\n",
       "      <td>-0.126735</td>\n",
       "    </tr>\n",
       "    <tr>\n",
       "      <td>1</td>\n",
       "      <td>21.431355</td>\n",
       "      <td>20.708104</td>\n",
       "      <td>20.678850</td>\n",
       "      <td>20.703420</td>\n",
       "      <td>20.473229</td>\n",
       "      <td>21.868797</td>\n",
       "      <td>21.029773</td>\n",
       "      <td>20.967054</td>\n",
       "      <td>20.937731</td>\n",
       "      <td>21.063646</td>\n",
       "      <td>21.360701</td>\n",
       "      <td>20.778968</td>\n",
       "      <td>20.889705</td>\n",
       "      <td>20.639812</td>\n",
       "      <td>20.646660</td>\n",
       "      <td>...</td>\n",
       "      <td>0.029254</td>\n",
       "      <td>-0.024570</td>\n",
       "      <td>0.230191</td>\n",
       "      <td>0.839024</td>\n",
       "      <td>0.062718</td>\n",
       "      <td>0.029324</td>\n",
       "      <td>-0.125915</td>\n",
       "      <td>0.581734</td>\n",
       "      <td>-0.110737</td>\n",
       "      <td>0.249893</td>\n",
       "      <td>-0.006847</td>\n",
       "      <td>0.734428</td>\n",
       "      <td>0.004602</td>\n",
       "      <td>0.060537</td>\n",
       "      <td>0.181074</td>\n",
       "    </tr>\n",
       "    <tr>\n",
       "      <td>2</td>\n",
       "      <td>17.851451</td>\n",
       "      <td>16.727898</td>\n",
       "      <td>16.679677</td>\n",
       "      <td>16.694640</td>\n",
       "      <td>16.641788</td>\n",
       "      <td>18.171890</td>\n",
       "      <td>17.033098</td>\n",
       "      <td>16.999682</td>\n",
       "      <td>17.095999</td>\n",
       "      <td>17.076449</td>\n",
       "      <td>17.867253</td>\n",
       "      <td>16.738784</td>\n",
       "      <td>16.688874</td>\n",
       "      <td>16.744210</td>\n",
       "      <td>16.808006</td>\n",
       "      <td>...</td>\n",
       "      <td>0.048221</td>\n",
       "      <td>-0.014963</td>\n",
       "      <td>0.052852</td>\n",
       "      <td>1.138792</td>\n",
       "      <td>0.033416</td>\n",
       "      <td>-0.096317</td>\n",
       "      <td>0.019550</td>\n",
       "      <td>1.128468</td>\n",
       "      <td>0.049910</td>\n",
       "      <td>-0.055336</td>\n",
       "      <td>-0.063796</td>\n",
       "      <td>1.120628</td>\n",
       "      <td>0.056186</td>\n",
       "      <td>-0.018929</td>\n",
       "      <td>-0.028751</td>\n",
       "    </tr>\n",
       "    <tr>\n",
       "      <td>3</td>\n",
       "      <td>20.789900</td>\n",
       "      <td>20.040371</td>\n",
       "      <td>19.926909</td>\n",
       "      <td>19.843840</td>\n",
       "      <td>19.463270</td>\n",
       "      <td>21.039030</td>\n",
       "      <td>20.317165</td>\n",
       "      <td>20.217898</td>\n",
       "      <td>20.073852</td>\n",
       "      <td>19.794505</td>\n",
       "      <td>20.433907</td>\n",
       "      <td>19.993727</td>\n",
       "      <td>19.985531</td>\n",
       "      <td>19.750917</td>\n",
       "      <td>19.455117</td>\n",
       "      <td>...</td>\n",
       "      <td>0.113462</td>\n",
       "      <td>0.083069</td>\n",
       "      <td>0.380569</td>\n",
       "      <td>0.721865</td>\n",
       "      <td>0.099267</td>\n",
       "      <td>0.144046</td>\n",
       "      <td>0.279347</td>\n",
       "      <td>0.440180</td>\n",
       "      <td>0.008197</td>\n",
       "      <td>0.234614</td>\n",
       "      <td>0.295800</td>\n",
       "      <td>0.769012</td>\n",
       "      <td>0.111901</td>\n",
       "      <td>0.131685</td>\n",
       "      <td>0.205258</td>\n",
       "    </tr>\n",
       "    <tr>\n",
       "      <td>4</td>\n",
       "      <td>26.454969</td>\n",
       "      <td>23.058767</td>\n",
       "      <td>21.471406</td>\n",
       "      <td>19.504961</td>\n",
       "      <td>18.389096</td>\n",
       "      <td>25.700632</td>\n",
       "      <td>23.629122</td>\n",
       "      <td>21.742750</td>\n",
       "      <td>19.861718</td>\n",
       "      <td>18.810375</td>\n",
       "      <td>25.859229</td>\n",
       "      <td>22.426929</td>\n",
       "      <td>21.673551</td>\n",
       "      <td>19.610012</td>\n",
       "      <td>18.376141</td>\n",
       "      <td>...</td>\n",
       "      <td>1.587361</td>\n",
       "      <td>1.966445</td>\n",
       "      <td>1.115864</td>\n",
       "      <td>2.071510</td>\n",
       "      <td>1.886372</td>\n",
       "      <td>1.881032</td>\n",
       "      <td>1.051343</td>\n",
       "      <td>3.432300</td>\n",
       "      <td>0.753377</td>\n",
       "      <td>2.063539</td>\n",
       "      <td>1.233871</td>\n",
       "      <td>1.729059</td>\n",
       "      <td>1.672651</td>\n",
       "      <td>1.988012</td>\n",
       "      <td>1.111675</td>\n",
       "    </tr>\n",
       "  </tbody>\n",
       "</table>\n",
       "<p>5 rows × 36 columns</p>\n",
       "</div>"
      ],
      "text/plain": [
       "     psfMag_u   psfMag_g   psfMag_r   psfMag_i   psfMag_z  fiberMag_u  \\\n",
       "id                                                                      \n",
       "0   23.198224  21.431953  21.314148  21.176553  21.171444   22.581309   \n",
       "1   21.431355  20.708104  20.678850  20.703420  20.473229   21.868797   \n",
       "2   17.851451  16.727898  16.679677  16.694640  16.641788   18.171890   \n",
       "3   20.789900  20.040371  19.926909  19.843840  19.463270   21.039030   \n",
       "4   26.454969  23.058767  21.471406  19.504961  18.389096   25.700632   \n",
       "\n",
       "    fiberMag_g  fiberMag_r  fiberMag_i  fiberMag_z  petroMag_u  petroMag_g  \\\n",
       "id                                                                           \n",
       "0    21.644453   21.657571   21.387653   21.572827   22.504317   21.431636   \n",
       "1    21.029773   20.967054   20.937731   21.063646   21.360701   20.778968   \n",
       "2    17.033098   16.999682   17.095999   17.076449   17.867253   16.738784   \n",
       "3    20.317165   20.217898   20.073852   19.794505   20.433907   19.993727   \n",
       "4    23.629122   21.742750   19.861718   18.810375   25.859229   22.426929   \n",
       "\n",
       "    petroMag_r  petroMag_i  petroMag_z  ...  psfMag_g-r  psfMag_r-i  \\\n",
       "id                                      ...                           \n",
       "0    21.478312   21.145409   20.422446  ...    0.117805    0.137595   \n",
       "1    20.889705   20.639812   20.646660  ...    0.029254   -0.024570   \n",
       "2    16.688874   16.744210   16.808006  ...    0.048221   -0.014963   \n",
       "3    19.985531   19.750917   19.455117  ...    0.113462    0.083069   \n",
       "4    21.673551   19.610012   18.376141  ...    1.587361    1.966445   \n",
       "\n",
       "    psfMag_i-z  fiberMag_u-g  fiberMag_g-r  fiberMag_r-i  fiberMag_i-z  \\\n",
       "id                                                                       \n",
       "0     0.005109      0.936856     -0.013118      0.269918     -0.185174   \n",
       "1     0.230191      0.839024      0.062718      0.029324     -0.125915   \n",
       "2     0.052852      1.138792      0.033416     -0.096317      0.019550   \n",
       "3     0.380569      0.721865      0.099267      0.144046      0.279347   \n",
       "4     1.115864      2.071510      1.886372      1.881032      1.051343   \n",
       "\n",
       "    petroMag_u-g  petroMag_g-r  petroMag_r-i  petroMag_i-z  modelMag_u-g  \\\n",
       "id                                                                         \n",
       "0       1.072682     -0.046676      0.332902      0.722964      1.283708   \n",
       "1       0.581734     -0.110737      0.249893     -0.006847      0.734428   \n",
       "2       1.128468      0.049910     -0.055336     -0.063796      1.120628   \n",
       "3       0.440180      0.008197      0.234614      0.295800      0.769012   \n",
       "4       3.432300      0.753377      2.063539      1.233871      1.729059   \n",
       "\n",
       "    modelMag_g-r  modelMag_r-i  modelMag_i-z  \n",
       "id                                            \n",
       "0       0.101347      0.343582     -0.126735  \n",
       "1       0.004602      0.060537      0.181074  \n",
       "2       0.056186     -0.018929     -0.028751  \n",
       "3       0.111901      0.131685      0.205258  \n",
       "4       1.672651      1.988012      1.111675  \n",
       "\n",
       "[5 rows x 36 columns]"
      ]
     },
     "execution_count": 13,
     "metadata": {},
     "output_type": "execute_result"
    }
   ],
   "source": [
    "train_X.head()"
   ]
  },
  {
   "cell_type": "code",
   "execution_count": 14,
   "metadata": {
    "ExecuteTime": {
     "end_time": "2020-02-16T01:59:25.837000Z",
     "start_time": "2020-02-16T01:59:25.832000Z"
    },
    "scrolled": true
   },
   "outputs": [
    {
     "data": {
      "text/plain": [
       "Index(['psfMag_u', 'psfMag_g', 'psfMag_r', 'psfMag_i', 'psfMag_z',\n",
       "       'fiberMag_u', 'fiberMag_g', 'fiberMag_r', 'fiberMag_i', 'fiberMag_z',\n",
       "       'petroMag_u', 'petroMag_g', 'petroMag_r', 'petroMag_i', 'petroMag_z',\n",
       "       'modelMag_u', 'modelMag_g', 'modelMag_r', 'modelMag_i', 'modelMag_z',\n",
       "       'psfMag_u-g', 'psfMag_g-r', 'psfMag_r-i', 'psfMag_i-z', 'fiberMag_u-g',\n",
       "       'fiberMag_g-r', 'fiberMag_r-i', 'fiberMag_i-z', 'petroMag_u-g',\n",
       "       'petroMag_g-r', 'petroMag_r-i', 'petroMag_i-z', 'modelMag_u-g',\n",
       "       'modelMag_g-r', 'modelMag_r-i', 'modelMag_i-z'],\n",
       "      dtype='object')"
      ]
     },
     "execution_count": 14,
     "metadata": {},
     "output_type": "execute_result"
    }
   ],
   "source": [
    "train_X.columns"
   ]
  },
  {
   "cell_type": "code",
   "execution_count": 15,
   "metadata": {
    "ExecuteTime": {
     "end_time": "2020-02-16T01:59:25.840000Z",
     "start_time": "2020-02-16T01:59:25.838000Z"
    }
   },
   "outputs": [],
   "source": [
    "# ## u-g, g-r, r-i, i-z 만 남기는게 좋지 않을까????\n",
    "# train_X.drop(['psfMag_u-r','psfMag_u-i','psfMag_u-z','psfMag_g-i','psfMag_g-z','psfMag_r-z',\n",
    "#              'fiberMag_u-r','fiberMag_u-i','fiberMag_u-z','fiberMag_g-i','fiberMag_g-z','fiberMag_r-z',\n",
    "#              'petroMag_u-r','petroMag_u-i','petroMag_u-z','petroMag_g-i','petroMag_g-z','petroMag_r-z',\n",
    "#              'modelMag_u-r','modelMag_u-i','modelMag_u-z','modelMag_g-i','modelMag_g-z','modelMag_r-z'] ,axis=1, inplace=True)\n",
    "\n",
    "# test_X.drop(['psfMag_u-r','psfMag_u-i','psfMag_u-z','psfMag_g-i','psfMag_g-z','psfMag_r-z',\n",
    "#              'fiberMag_u-r','fiberMag_u-i','fiberMag_u-z','fiberMag_g-i','fiberMag_g-z','fiberMag_r-z',\n",
    "#              'petroMag_u-r','petroMag_u-i','petroMag_u-z','petroMag_g-i','petroMag_g-z','petroMag_r-z',\n",
    "#              'modelMag_u-r','modelMag_u-i','modelMag_u-z','modelMag_g-i','modelMag_g-z','modelMag_r-z'] ,axis=1, inplace=True)"
   ]
  },
  {
   "cell_type": "code",
   "execution_count": 16,
   "metadata": {
    "ExecuteTime": {
     "end_time": "2020-02-16T01:59:25.997000Z",
     "start_time": "2020-02-16T01:59:25.842000Z"
    }
   },
   "outputs": [],
   "source": [
    "X_train, X_test, y_train, y_test = train_test_split(train_X, train_y, test_size=0.3, random_state=1029,stratify = train_y)"
   ]
  },
  {
   "cell_type": "code",
   "execution_count": 30,
   "metadata": {
    "ExecuteTime": {
     "end_time": "2020-02-16T03:52:00.984000Z",
     "start_time": "2020-02-16T03:52:00.961000Z"
    }
   },
   "outputs": [],
   "source": [
    "# train_ds = lgb.Dataset(X_train, label = y_train, categorical_feature=['fiberID'])\n",
    "# test_ds = lgb.Dataset(X_test, label = y_test, categorical_feature=['fiberID']) \n",
    "train_ds = lgb.Dataset(X_train, label = y_train)\n",
    "test_ds = lgb.Dataset(X_test, label = y_test) "
   ]
  },
  {
   "cell_type": "code",
   "execution_count": 31,
   "metadata": {
    "ExecuteTime": {
     "end_time": "2020-02-16T03:52:02.369000Z",
     "start_time": "2020-02-16T03:52:02.364000Z"
    }
   },
   "outputs": [],
   "source": [
    "#1번\n",
    "params = {\n",
    "    'boosting_type': 'dart',\n",
    "    'objective': 'multiclass',\n",
    "    'num_class': train_y.nunique(),\n",
    "    'metric': {'multi_logloss','multi_logloss'},\n",
    "    'num_leaves': 25,\n",
    "    'learning_rate': 0.008,\n",
    "    'max_depth' : 12,\n",
    "    'random_state' : 1029\n",
    "}"
   ]
  },
  {
   "cell_type": "code",
   "execution_count": 32,
   "metadata": {
    "ExecuteTime": {
     "end_time": "2020-02-16T03:52:03.721000Z",
     "start_time": "2020-02-16T03:52:03.718000Z"
    }
   },
   "outputs": [],
   "source": [
    "# #2번\n",
    "# params = {\n",
    "#     'boosting_type': 'dart',\n",
    "#     'objective': 'multiclass',\n",
    "#     'num_class': train_y.nunique(),\n",
    "#     'metric': {'multi_logloss','multi_logloss'},\n",
    "#     'num_leaves': 25,\n",
    "#     'learning_rate': 0.05,\n",
    "#     'max_depth' : 9,\n",
    "#     'random_state' : 1029\n",
    "# }"
   ]
  },
  {
   "cell_type": "markdown",
   "metadata": {},
   "source": [
    "## Modeling"
   ]
  },
  {
   "cell_type": "code",
   "execution_count": 33,
   "metadata": {
    "ExecuteTime": {
     "end_time": "2020-02-16T06:49:57.812000Z",
     "start_time": "2020-02-16T03:52:07.826000Z"
    },
    "scrolled": false
   },
   "outputs": [
    {
     "name": "stderr",
     "output_type": "stream",
     "text": [
      "G:\\Anaconda3\\lib\\site-packages\\lightgbm\\callback.py:188: UserWarning: Early stopping is not available in dart mode\n",
      "  warnings.warn('Early stopping is not available in dart mode')\n"
     ]
    },
    {
     "name": "stdout",
     "output_type": "stream",
     "text": [
      "[100]\tTrain's multi_logloss: 1.67037\tTest's multi_logloss: 1.67845\n",
      "[200]\tTrain's multi_logloss: 1.5105\tTest's multi_logloss: 1.51936\n",
      "[300]\tTrain's multi_logloss: 1.48257\tTest's multi_logloss: 1.4916\n",
      "[400]\tTrain's multi_logloss: 1.25441\tTest's multi_logloss: 1.265\n",
      "[500]\tTrain's multi_logloss: 1.14308\tTest's multi_logloss: 1.15454\n",
      "[600]\tTrain's multi_logloss: 1.05964\tTest's multi_logloss: 1.07197\n",
      "[700]\tTrain's multi_logloss: 0.999994\tTest's multi_logloss: 1.01298\n",
      "[800]\tTrain's multi_logloss: 0.937583\tTest's multi_logloss: 0.951383\n",
      "[900]\tTrain's multi_logloss: 0.86828\tTest's multi_logloss: 0.883065\n",
      "[1000]\tTrain's multi_logloss: 0.787045\tTest's multi_logloss: 0.803111\n",
      "[1100]\tTrain's multi_logloss: 0.703034\tTest's multi_logloss: 0.720729\n",
      "[1200]\tTrain's multi_logloss: 0.673177\tTest's multi_logloss: 0.691698\n",
      "[1300]\tTrain's multi_logloss: 0.632506\tTest's multi_logloss: 0.65207\n",
      "[1400]\tTrain's multi_logloss: 0.595288\tTest's multi_logloss: 0.615972\n",
      "[1500]\tTrain's multi_logloss: 0.548565\tTest's multi_logloss: 0.570877\n",
      "[1600]\tTrain's multi_logloss: 0.51498\tTest's multi_logloss: 0.538781\n",
      "[1700]\tTrain's multi_logloss: 0.497824\tTest's multi_logloss: 0.522638\n",
      "[1800]\tTrain's multi_logloss: 0.481542\tTest's multi_logloss: 0.507438\n",
      "[1900]\tTrain's multi_logloss: 0.45919\tTest's multi_logloss: 0.486565\n",
      "[2000]\tTrain's multi_logloss: 0.438733\tTest's multi_logloss: 0.467722\n",
      "[2100]\tTrain's multi_logloss: 0.418527\tTest's multi_logloss: 0.449407\n",
      "[2200]\tTrain's multi_logloss: 0.401613\tTest's multi_logloss: 0.434593\n",
      "[2300]\tTrain's multi_logloss: 0.390717\tTest's multi_logloss: 0.42534\n",
      "[2400]\tTrain's multi_logloss: 0.384787\tTest's multi_logloss: 0.420649\n",
      "[2500]\tTrain's multi_logloss: 0.379739\tTest's multi_logloss: 0.416739\n",
      "[2600]\tTrain's multi_logloss: 0.370127\tTest's multi_logloss: 0.408875\n",
      "[2700]\tTrain's multi_logloss: 0.36302\tTest's multi_logloss: 0.403358\n",
      "[2800]\tTrain's multi_logloss: 0.356792\tTest's multi_logloss: 0.398676\n",
      "[2900]\tTrain's multi_logloss: 0.349474\tTest's multi_logloss: 0.393282\n",
      "[3000]\tTrain's multi_logloss: 0.343639\tTest's multi_logloss: 0.389305\n",
      "[3100]\tTrain's multi_logloss: 0.339726\tTest's multi_logloss: 0.386892\n",
      "[3200]\tTrain's multi_logloss: 0.335695\tTest's multi_logloss: 0.384389\n",
      "[3300]\tTrain's multi_logloss: 0.329113\tTest's multi_logloss: 0.380111\n",
      "[3400]\tTrain's multi_logloss: 0.326249\tTest's multi_logloss: 0.378594\n",
      "[3500]\tTrain's multi_logloss: 0.322595\tTest's multi_logloss: 0.376637\n",
      "[3600]\tTrain's multi_logloss: 0.319219\tTest's multi_logloss: 0.374887\n",
      "[3700]\tTrain's multi_logloss: 0.315768\tTest's multi_logloss: 0.373159\n",
      "[3800]\tTrain's multi_logloss: 0.312465\tTest's multi_logloss: 0.371631\n",
      "[3900]\tTrain's multi_logloss: 0.309634\tTest's multi_logloss: 0.370517\n",
      "[4000]\tTrain's multi_logloss: 0.306514\tTest's multi_logloss: 0.369239\n",
      "[4100]\tTrain's multi_logloss: 0.30465\tTest's multi_logloss: 0.368661\n",
      "[4200]\tTrain's multi_logloss: 0.302224\tTest's multi_logloss: 0.367727\n",
      "[4300]\tTrain's multi_logloss: 0.299641\tTest's multi_logloss: 0.366761\n",
      "[4400]\tTrain's multi_logloss: 0.296346\tTest's multi_logloss: 0.365521\n",
      "[4500]\tTrain's multi_logloss: 0.29438\tTest's multi_logloss: 0.364992\n",
      "[4600]\tTrain's multi_logloss: 0.292535\tTest's multi_logloss: 0.364504\n",
      "[4700]\tTrain's multi_logloss: 0.289685\tTest's multi_logloss: 0.363602\n",
      "[4800]\tTrain's multi_logloss: 0.288172\tTest's multi_logloss: 0.363257\n",
      "[4900]\tTrain's multi_logloss: 0.287107\tTest's multi_logloss: 0.36314\n",
      "[5000]\tTrain's multi_logloss: 0.284546\tTest's multi_logloss: 0.362363\n",
      "[5100]\tTrain's multi_logloss: 0.283472\tTest's multi_logloss: 0.362295\n",
      "[5200]\tTrain's multi_logloss: 0.281974\tTest's multi_logloss: 0.362024\n",
      "[5300]\tTrain's multi_logloss: 0.279707\tTest's multi_logloss: 0.361482\n",
      "[5400]\tTrain's multi_logloss: 0.278486\tTest's multi_logloss: 0.361345\n",
      "[5500]\tTrain's multi_logloss: 0.275996\tTest's multi_logloss: 0.360745\n",
      "[5600]\tTrain's multi_logloss: 0.274306\tTest's multi_logloss: 0.360495\n",
      "[5700]\tTrain's multi_logloss: 0.273074\tTest's multi_logloss: 0.360367\n",
      "[5800]\tTrain's multi_logloss: 0.271124\tTest's multi_logloss: 0.360006\n",
      "[5900]\tTrain's multi_logloss: 0.26857\tTest's multi_logloss: 0.359626\n",
      "[6000]\tTrain's multi_logloss: 0.267187\tTest's multi_logloss: 0.359545\n"
     ]
    }
   ],
   "source": [
    "evaluation_results = {}\n",
    "lgmb_model = lgb.train(params, train_ds,num_boost_round= 6000, \n",
    "                       valid_sets = [train_ds,test_ds], valid_names=['Train', 'Test'],\n",
    "                       evals_result=evaluation_results,\n",
    "                       verbose_eval=100, early_stopping_rounds=50)"
   ]
  },
  {
   "cell_type": "code",
   "execution_count": 34,
   "metadata": {
    "ExecuteTime": {
     "end_time": "2020-02-16T06:49:59.663000Z",
     "start_time": "2020-02-16T06:49:59.345000Z"
    }
   },
   "outputs": [
    {
     "data": {
      "image/png": "[encoded data removed]",
      "text/plain": [
       "<Figure size 1080x288 with 2 Axes>"
      ]
     },
     "metadata": {
      "needs_background": "light"
     },
     "output_type": "display_data"
    }
   ],
   "source": [
    "fig, axs = plt.subplots(1, 2, figsize=[15, 4])\n",
    "\n",
    "# Plot the log loss during training\n",
    "axs[0].plot(evaluation_results['Train']['multi_logloss'], label='Train')\n",
    "axs[0].plot(evaluation_results['Test']['multi_logloss'], label='Test')\n",
    "axs[0].set_ylabel('Log loss')\n",
    "axs[0].set_xlabel('Boosting round')\n",
    "axs[0].set_title('Training performance')\n",
    "axs[0].legend()\n",
    "\n",
    "# Plot feature importance\n",
    "importances = pd.DataFrame({'features': lgmb_model.feature_name(), \n",
    "                            'importance': lgmb_model.feature_importance()}).sort_values('importance', ascending=False).head(10)\n",
    "axs[1].bar(x=np.arange(len(importances)), height=importances['importance'])\n",
    "axs[1].set_xticks(np.arange(len(importances)))\n",
    "axs[1].set_xticklabels(importances['features'])\n",
    "axs[1].set_ylabel('Feature importance (# times used to split)')\n",
    "axs[1].set_title('Feature importance')\n",
    "plt.xticks(rotation=45)\n",
    "\n",
    "plt.show()"
   ]
  },
  {
   "cell_type": "code",
   "execution_count": 35,
   "metadata": {
    "ExecuteTime": {
     "end_time": "2020-02-16T06:56:23.378000Z",
     "start_time": "2020-02-16T06:50:01.166000Z"
    }
   },
   "outputs": [],
   "source": [
    "train_y_pred = lgmb_model.predict(X_test)\n",
    "real_y_pred = lgmb_model.predict(test_X)"
   ]
  },
  {
   "cell_type": "code",
   "execution_count": 36,
   "metadata": {
    "ExecuteTime": {
     "end_time": "2020-02-16T06:56:24.865000Z",
     "start_time": "2020-02-16T06:56:24.811000Z"
    },
    "scrolled": true
   },
   "outputs": [
    {
     "data": {
      "text/plain": [
       "0.3595451589530634"
      ]
     },
     "execution_count": 36,
     "metadata": {},
     "output_type": "execute_result"
    }
   ],
   "source": [
    "#log_loss\n",
    "log_loss(y_test,train_y_pred,labels= list(set(y_test)))"
   ]
  },
  {
   "cell_type": "code",
   "execution_count": 37,
   "metadata": {
    "ExecuteTime": {
     "end_time": "2020-02-16T06:56:26.406000Z",
     "start_time": "2020-02-16T06:56:26.374000Z"
    },
    "scrolled": false
   },
   "outputs": [
    {
     "data": {
      "text/html": [
       "<div>\n",
       "<style scoped>\n",
       "    .dataframe tbody tr th:only-of-type {\n",
       "        vertical-align: middle;\n",
       "    }\n",
       "\n",
       "    .dataframe tbody tr th {\n",
       "        vertical-align: top;\n",
       "    }\n",
       "\n",
       "    .dataframe thead th {\n",
       "        text-align: right;\n",
       "    }\n",
       "</style>\n",
       "<table border=\"1\" class=\"dataframe\">\n",
       "  <thead>\n",
       "    <tr style=\"text-align: right;\">\n",
       "      <th></th>\n",
       "      <th>importance</th>\n",
       "    </tr>\n",
       "  </thead>\n",
       "  <tbody>\n",
       "    <tr>\n",
       "      <td>modelMag_g-r</td>\n",
       "      <td>127996</td>\n",
       "    </tr>\n",
       "    <tr>\n",
       "      <td>modelMag_r-i</td>\n",
       "      <td>124977</td>\n",
       "    </tr>\n",
       "    <tr>\n",
       "      <td>modelMag_u-g</td>\n",
       "      <td>106736</td>\n",
       "    </tr>\n",
       "    <tr>\n",
       "      <td>psfMag_g-r</td>\n",
       "      <td>104773</td>\n",
       "    </tr>\n",
       "    <tr>\n",
       "      <td>fiberMag_g-r</td>\n",
       "      <td>104311</td>\n",
       "    </tr>\n",
       "    <tr>\n",
       "      <td>fiberMag_r-i</td>\n",
       "      <td>99746</td>\n",
       "    </tr>\n",
       "    <tr>\n",
       "      <td>psfMag_u-g</td>\n",
       "      <td>99356</td>\n",
       "    </tr>\n",
       "    <tr>\n",
       "      <td>modelMag_i-z</td>\n",
       "      <td>98413</td>\n",
       "    </tr>\n",
       "    <tr>\n",
       "      <td>psfMag_r</td>\n",
       "      <td>95481</td>\n",
       "    </tr>\n",
       "    <tr>\n",
       "      <td>psfMag_r-i</td>\n",
       "      <td>94849</td>\n",
       "    </tr>\n",
       "  </tbody>\n",
       "</table>\n",
       "</div>"
      ],
      "text/plain": [
       "              importance\n",
       "modelMag_g-r      127996\n",
       "modelMag_r-i      124977\n",
       "modelMag_u-g      106736\n",
       "psfMag_g-r        104773\n",
       "fiberMag_g-r      104311\n",
       "fiberMag_r-i       99746\n",
       "psfMag_u-g         99356\n",
       "modelMag_i-z       98413\n",
       "psfMag_r           95481\n",
       "psfMag_r-i         94849"
      ]
     },
     "execution_count": 37,
     "metadata": {},
     "output_type": "execute_result"
    }
   ],
   "source": [
    "feature_df = pd.DataFrame(lgmb_model.feature_importance(), index= train_X.columns,columns= ['importance']).sort_values('importance',ascending = False)\n",
    "feature_df.head(10)"
   ]
  },
  {
   "cell_type": "code",
   "execution_count": 38,
   "metadata": {
    "ExecuteTime": {
     "end_time": "2020-02-16T06:56:28.193000Z",
     "start_time": "2020-02-16T06:56:27.787000Z"
    }
   },
   "outputs": [],
   "source": [
    "submission = pd.DataFrame(data=real_y_pred, columns=sample_submission_df.columns, index=sample_submission_df.index)\n",
    "submission.to_csv(f'submission_lightbgm_data_select_outlier_add_only({log_loss(y_test,train_y_pred,labels= list(set(y_test)))}).csv', index=True)"
   ]
  },
  {
   "cell_type": "markdown",
   "metadata": {},
   "source": [
    "## Gridsearch_cv"
   ]
  },
  {
   "cell_type": "code",
   "execution_count": null,
   "metadata": {
    "ExecuteTime": {
     "end_time": "2020-02-16T01:59:26.416000Z",
     "start_time": "2020-02-16T01:59:21.949Z"
    }
   },
   "outputs": [],
   "source": [
    "# from sklearn.feature_selection import SelectKBest\n",
    "# model_kbest = SelectKBest()\n",
    "# from sklearn.pipeline import Pipeline"
   ]
  },
  {
   "cell_type": "code",
   "execution_count": null,
   "metadata": {
    "ExecuteTime": {
     "end_time": "2020-02-16T01:59:26.417000Z",
     "start_time": "2020-02-16T01:59:21.951Z"
    }
   },
   "outputs": [],
   "source": [
    "# #최적의 변수를 찾기 위한 KBest 함수 불러오기\n",
    "# #파이프라인 구축\n",
    "# pipe_lgbm = Pipeline([('lgbm',lgbm_c)])\n",
    "# #파라미터 생성\n",
    "# params_lgbm = {\n",
    "#           \"lgbm__max_depth\": [15,20,25],\n",
    "#          \"lgbm__learning_rate\": [0.001],\n",
    "#          \"lgbm__num_leaves\": [15,20,25],\n",
    "#          \"lgbm__n_estimators\": [200,300,400,500],\n",
    "#          \"lgbm__random_state\": [42]}"
   ]
  },
  {
   "cell_type": "code",
   "execution_count": null,
   "metadata": {
    "ExecuteTime": {
     "end_time": "2020-02-16T01:59:26.418000Z",
     "start_time": "2020-02-16T01:59:21.952Z"
    }
   },
   "outputs": [],
   "source": [
    "# #최적의 파라미터 탐색\n",
    "# from sklearn.model_selection import GridSearchCV\n",
    "# grid_search = GridSearchCV(pipe_lgbm, param_grid = params_lgbm,\n",
    "# #                           cv=3, n_jobs=-1, verbose=10)"
   ]
  },
  {
   "cell_type": "code",
   "execution_count": null,
   "metadata": {
    "ExecuteTime": {
     "end_time": "2020-02-16T01:59:26.419000Z",
     "start_time": "2020-02-16T01:59:21.954Z"
    }
   },
   "outputs": [],
   "source": [
    "# grid_search.fit(X_train, y_train)"
   ]
  },
  {
   "cell_type": "code",
   "execution_count": null,
   "metadata": {
    "ExecuteTime": {
     "end_time": "2020-02-16T01:59:26.421000Z",
     "start_time": "2020-02-16T01:59:21.956Z"
    }
   },
   "outputs": [],
   "source": [
    "# lgbm_grid = grid_search.best_estimator_\n",
    "# lgbm_grid"
   ]
  },
  {
   "cell_type": "code",
   "execution_count": null,
   "metadata": {},
   "outputs": [],
   "source": []
  }
 ],
 "metadata": {
  "kernelspec": {
   "display_name": "Python 3",
   "language": "python",
   "name": "python3"
  },
  "language_info": {
   "codemirror_mode": {
    "name": "ipython",
    "version": 3
   },
   "file_extension": ".py",
   "mimetype": "text/x-python",
   "name": "python",
   "nbconvert_exporter": "python",
   "pygments_lexer": "ipython3",
   "version": "3.6.9"
  },
  "varInspector": {
   "cols": {
    "lenName": 16,
    "lenType": 16,
    "lenVar": 40
   },
   "kernels_config": {
    "python": {
     "delete_cmd_postfix": "",
     "delete_cmd_prefix": "del ",
     "library": "var_list.py",
     "varRefreshCmd": "print(var_dic_list())"
    },
    "r": {
     "delete_cmd_postfix": ") ",
     "delete_cmd_prefix": "rm(",
     "library": "var_list.r",
     "varRefreshCmd": "cat(var_dic_list()) "
    }
   },
   "types_to_exclude": [
    "module",
    "function",
    "builtin_function_or_method",
    "instance",
    "_Feature"
   ],
   "window_display": false
  }
 },
 "nbformat": 4,
 "nbformat_minor": 2
}
