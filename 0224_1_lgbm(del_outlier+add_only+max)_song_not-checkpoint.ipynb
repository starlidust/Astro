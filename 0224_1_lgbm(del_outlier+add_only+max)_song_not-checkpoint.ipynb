{
 "cells": [
  {
   "cell_type": "markdown",
   "metadata": {},
   "source": [
    "# Tune_lgb\n",
    "* 제출결과 : "
   ]
  },
  {
   "cell_type": "code",
   "execution_count": 1,
   "metadata": {
    "ExecuteTime": {
     "end_time": "2020-02-25T03:01:53.953800Z",
     "start_time": "2020-02-25T03:01:24.720800Z"
    }
   },
   "outputs": [
    {
     "data": {
      "text/html": [
       "<style>.container {width:100% !important; }</style>"
      ],
      "text/plain": [
       "<IPython.core.display.HTML object>"
      ]
     },
     "metadata": {},
     "output_type": "display_data"
    }
   ],
   "source": [
    "import pandas as pd\n",
    "import numpy as np\n",
    "import matplotlib.pyplot as plt\n",
    "import seaborn as sns\n",
    "\n",
    "from sklearn.ensemble import RandomForestClassifier\n",
    "from sklearn.model_selection import train_test_split\n",
    "from sklearn.metrics import confusion_matrix\n",
    "from sklearn.metrics import log_loss\n",
    "import lightgbm as lgb\n",
    "\n",
    "from IPython.core.display import display, HTML\n",
    "display(HTML('<style>.container {width:100% !important; }</style>'))"
   ]
  },
  {
   "cell_type": "code",
   "execution_count": 2,
   "metadata": {
    "ExecuteTime": {
     "end_time": "2020-02-25T03:01:55.332800Z",
     "start_time": "2020-02-25T03:01:53.975800Z"
    }
   },
   "outputs": [],
   "source": [
    "path = \"./data/\" \n",
    "train_df = pd.read_csv(path+'train.csv',index_col=0)\n",
    "test_df = pd.read_csv(path+'test.csv',index_col=0)\n",
    "sample_submission_df = pd.read_csv(path+'sample_submission.csv',index_col=0)\n",
    "pd.options.display.max_columns = 30"
   ]
  },
  {
   "cell_type": "markdown",
   "metadata": {},
   "source": [
    "## 전처리\n",
    " - 이상치 확인 및 처리"
   ]
  },
  {
   "cell_type": "code",
   "execution_count": 3,
   "metadata": {
    "ExecuteTime": {
     "end_time": "2020-02-25T03:01:55.764800Z",
     "start_time": "2020-02-25T03:01:55.377800Z"
    }
   },
   "outputs": [
    {
     "data": {
      "text/html": [
       "<div>\n",
       "<style scoped>\n",
       "    .dataframe tbody tr th:only-of-type {\n",
       "        vertical-align: middle;\n",
       "    }\n",
       "\n",
       "    .dataframe tbody tr th {\n",
       "        vertical-align: top;\n",
       "    }\n",
       "\n",
       "    .dataframe thead th {\n",
       "        text-align: right;\n",
       "    }\n",
       "</style>\n",
       "<table border=\"1\" class=\"dataframe\">\n",
       "  <thead>\n",
       "    <tr style=\"text-align: right;\">\n",
       "      <th></th>\n",
       "      <th>fiberID</th>\n",
       "      <th>psfMag_u</th>\n",
       "      <th>psfMag_g</th>\n",
       "      <th>psfMag_r</th>\n",
       "      <th>psfMag_i</th>\n",
       "      <th>psfMag_z</th>\n",
       "      <th>fiberMag_u</th>\n",
       "      <th>fiberMag_g</th>\n",
       "      <th>fiberMag_r</th>\n",
       "      <th>fiberMag_i</th>\n",
       "      <th>fiberMag_z</th>\n",
       "      <th>petroMag_u</th>\n",
       "      <th>petroMag_g</th>\n",
       "      <th>petroMag_r</th>\n",
       "      <th>petroMag_i</th>\n",
       "      <th>petroMag_z</th>\n",
       "      <th>modelMag_u</th>\n",
       "      <th>modelMag_g</th>\n",
       "      <th>modelMag_r</th>\n",
       "      <th>modelMag_i</th>\n",
       "      <th>modelMag_z</th>\n",
       "    </tr>\n",
       "  </thead>\n",
       "  <tbody>\n",
       "    <tr>\n",
       "      <td>count</td>\n",
       "      <td>199991.000000</td>\n",
       "      <td>1.999910e+05</td>\n",
       "      <td>199991.000000</td>\n",
       "      <td>199991.000000</td>\n",
       "      <td>199991.000000</td>\n",
       "      <td>199991.000000</td>\n",
       "      <td>1.999910e+05</td>\n",
       "      <td>199991.000000</td>\n",
       "      <td>199991.000000</td>\n",
       "      <td>199991.000000</td>\n",
       "      <td>199991.000000</td>\n",
       "      <td>199991.000000</td>\n",
       "      <td>199991.000000</td>\n",
       "      <td>199991.000000</td>\n",
       "      <td>199991.000000</td>\n",
       "      <td>199991.000000</td>\n",
       "      <td>199991.000000</td>\n",
       "      <td>199991.000000</td>\n",
       "      <td>199991.000000</td>\n",
       "      <td>199991.000000</td>\n",
       "      <td>199991.000000</td>\n",
       "    </tr>\n",
       "    <tr>\n",
       "      <td>mean</td>\n",
       "      <td>360.830152</td>\n",
       "      <td>-6.750146e+00</td>\n",
       "      <td>18.675373</td>\n",
       "      <td>18.401235</td>\n",
       "      <td>18.043495</td>\n",
       "      <td>17.663526</td>\n",
       "      <td>1.084986e+01</td>\n",
       "      <td>19.072693</td>\n",
       "      <td>19.134483</td>\n",
       "      <td>18.183331</td>\n",
       "      <td>18.000882</td>\n",
       "      <td>21.837903</td>\n",
       "      <td>18.454136</td>\n",
       "      <td>18.481525</td>\n",
       "      <td>17.686617</td>\n",
       "      <td>17.699207</td>\n",
       "      <td>20.110991</td>\n",
       "      <td>18.544375</td>\n",
       "      <td>18.181544</td>\n",
       "      <td>17.692395</td>\n",
       "      <td>17.189281</td>\n",
       "    </tr>\n",
       "    <tr>\n",
       "      <td>std</td>\n",
       "      <td>225.305890</td>\n",
       "      <td>1.187678e+04</td>\n",
       "      <td>155.423024</td>\n",
       "      <td>127.128078</td>\n",
       "      <td>116.622194</td>\n",
       "      <td>123.735298</td>\n",
       "      <td>4.172116e+03</td>\n",
       "      <td>749.256162</td>\n",
       "      <td>90.049058</td>\n",
       "      <td>122.378972</td>\n",
       "      <td>145.862346</td>\n",
       "      <td>789.472333</td>\n",
       "      <td>154.376277</td>\n",
       "      <td>97.240448</td>\n",
       "      <td>145.730872</td>\n",
       "      <td>142.691880</td>\n",
       "      <td>122.299062</td>\n",
       "      <td>161.728183</td>\n",
       "      <td>133.984475</td>\n",
       "      <td>131.183416</td>\n",
       "      <td>133.685138</td>\n",
       "    </tr>\n",
       "    <tr>\n",
       "      <td>min</td>\n",
       "      <td>1.000000</td>\n",
       "      <td>-5.310802e+06</td>\n",
       "      <td>-40022.466071</td>\n",
       "      <td>-27184.795793</td>\n",
       "      <td>-26566.310827</td>\n",
       "      <td>-24878.828280</td>\n",
       "      <td>-1.864766e+06</td>\n",
       "      <td>-215882.917191</td>\n",
       "      <td>-21802.656144</td>\n",
       "      <td>-20208.516262</td>\n",
       "      <td>-26505.602101</td>\n",
       "      <td>-24463.431833</td>\n",
       "      <td>-25958.752324</td>\n",
       "      <td>-23948.588523</td>\n",
       "      <td>-40438.184078</td>\n",
       "      <td>-30070.729379</td>\n",
       "      <td>-26236.578659</td>\n",
       "      <td>-36902.402336</td>\n",
       "      <td>-36439.638493</td>\n",
       "      <td>-38969.416822</td>\n",
       "      <td>-26050.710196</td>\n",
       "    </tr>\n",
       "    <tr>\n",
       "      <td>25%</td>\n",
       "      <td>174.000000</td>\n",
       "      <td>1.965259e+01</td>\n",
       "      <td>18.701180</td>\n",
       "      <td>18.048572</td>\n",
       "      <td>17.747663</td>\n",
       "      <td>17.425523</td>\n",
       "      <td>1.994040e+01</td>\n",
       "      <td>18.902851</td>\n",
       "      <td>18.259352</td>\n",
       "      <td>17.903615</td>\n",
       "      <td>17.606148</td>\n",
       "      <td>19.247795</td>\n",
       "      <td>18.113933</td>\n",
       "      <td>17.479794</td>\n",
       "      <td>17.050294</td>\n",
       "      <td>16.804705</td>\n",
       "      <td>19.266214</td>\n",
       "      <td>18.076120</td>\n",
       "      <td>17.423425</td>\n",
       "      <td>16.977671</td>\n",
       "      <td>16.705774</td>\n",
       "    </tr>\n",
       "    <tr>\n",
       "      <td>50%</td>\n",
       "      <td>349.000000</td>\n",
       "      <td>2.087136e+01</td>\n",
       "      <td>19.904235</td>\n",
       "      <td>19.454492</td>\n",
       "      <td>19.043895</td>\n",
       "      <td>18.611799</td>\n",
       "      <td>2.104910e+01</td>\n",
       "      <td>20.069038</td>\n",
       "      <td>19.631419</td>\n",
       "      <td>19.188763</td>\n",
       "      <td>18.710967</td>\n",
       "      <td>20.366848</td>\n",
       "      <td>19.586559</td>\n",
       "      <td>19.182789</td>\n",
       "      <td>18.693370</td>\n",
       "      <td>18.174592</td>\n",
       "      <td>20.406840</td>\n",
       "      <td>19.547674</td>\n",
       "      <td>19.143156</td>\n",
       "      <td>18.641756</td>\n",
       "      <td>18.100997</td>\n",
       "    </tr>\n",
       "    <tr>\n",
       "      <td>75%</td>\n",
       "      <td>526.000000</td>\n",
       "      <td>2.216043e+01</td>\n",
       "      <td>21.150297</td>\n",
       "      <td>20.515936</td>\n",
       "      <td>20.073528</td>\n",
       "      <td>19.883760</td>\n",
       "      <td>2.233754e+01</td>\n",
       "      <td>21.385830</td>\n",
       "      <td>20.773911</td>\n",
       "      <td>20.331419</td>\n",
       "      <td>20.133179</td>\n",
       "      <td>21.797480</td>\n",
       "      <td>21.004397</td>\n",
       "      <td>20.457491</td>\n",
       "      <td>20.019112</td>\n",
       "      <td>19.807652</td>\n",
       "      <td>21.992898</td>\n",
       "      <td>20.962386</td>\n",
       "      <td>20.408140</td>\n",
       "      <td>19.968846</td>\n",
       "      <td>19.819554</td>\n",
       "    </tr>\n",
       "    <tr>\n",
       "      <td>max</td>\n",
       "      <td>1000.000000</td>\n",
       "      <td>1.877392e+04</td>\n",
       "      <td>3538.984910</td>\n",
       "      <td>3048.110913</td>\n",
       "      <td>4835.218639</td>\n",
       "      <td>9823.740407</td>\n",
       "      <td>4.870154e+03</td>\n",
       "      <td>248077.513380</td>\n",
       "      <td>12084.735440</td>\n",
       "      <td>8059.638535</td>\n",
       "      <td>18358.921741</td>\n",
       "      <td>298771.019041</td>\n",
       "      <td>12139.815877</td>\n",
       "      <td>7003.136546</td>\n",
       "      <td>9772.190537</td>\n",
       "      <td>17403.789263</td>\n",
       "      <td>14488.251976</td>\n",
       "      <td>10582.058590</td>\n",
       "      <td>12237.951703</td>\n",
       "      <td>4062.499371</td>\n",
       "      <td>7420.534172</td>\n",
       "    </tr>\n",
       "  </tbody>\n",
       "</table>\n",
       "</div>"
      ],
      "text/plain": [
       "             fiberID      psfMag_u       psfMag_g       psfMag_r  \\\n",
       "count  199991.000000  1.999910e+05  199991.000000  199991.000000   \n",
       "mean      360.830152 -6.750146e+00      18.675373      18.401235   \n",
       "std       225.305890  1.187678e+04     155.423024     127.128078   \n",
       "min         1.000000 -5.310802e+06  -40022.466071  -27184.795793   \n",
       "25%       174.000000  1.965259e+01      18.701180      18.048572   \n",
       "50%       349.000000  2.087136e+01      19.904235      19.454492   \n",
       "75%       526.000000  2.216043e+01      21.150297      20.515936   \n",
       "max      1000.000000  1.877392e+04    3538.984910    3048.110913   \n",
       "\n",
       "            psfMag_i       psfMag_z    fiberMag_u     fiberMag_g  \\\n",
       "count  199991.000000  199991.000000  1.999910e+05  199991.000000   \n",
       "mean       18.043495      17.663526  1.084986e+01      19.072693   \n",
       "std       116.622194     123.735298  4.172116e+03     749.256162   \n",
       "min    -26566.310827  -24878.828280 -1.864766e+06 -215882.917191   \n",
       "25%        17.747663      17.425523  1.994040e+01      18.902851   \n",
       "50%        19.043895      18.611799  2.104910e+01      20.069038   \n",
       "75%        20.073528      19.883760  2.233754e+01      21.385830   \n",
       "max      4835.218639    9823.740407  4.870154e+03  248077.513380   \n",
       "\n",
       "          fiberMag_r     fiberMag_i     fiberMag_z     petroMag_u  \\\n",
       "count  199991.000000  199991.000000  199991.000000  199991.000000   \n",
       "mean       19.134483      18.183331      18.000882      21.837903   \n",
       "std        90.049058     122.378972     145.862346     789.472333   \n",
       "min    -21802.656144  -20208.516262  -26505.602101  -24463.431833   \n",
       "25%        18.259352      17.903615      17.606148      19.247795   \n",
       "50%        19.631419      19.188763      18.710967      20.366848   \n",
       "75%        20.773911      20.331419      20.133179      21.797480   \n",
       "max     12084.735440    8059.638535   18358.921741  298771.019041   \n",
       "\n",
       "          petroMag_g     petroMag_r     petroMag_i     petroMag_z  \\\n",
       "count  199991.000000  199991.000000  199991.000000  199991.000000   \n",
       "mean       18.454136      18.481525      17.686617      17.699207   \n",
       "std       154.376277      97.240448     145.730872     142.691880   \n",
       "min    -25958.752324  -23948.588523  -40438.184078  -30070.729379   \n",
       "25%        18.113933      17.479794      17.050294      16.804705   \n",
       "50%        19.586559      19.182789      18.693370      18.174592   \n",
       "75%        21.004397      20.457491      20.019112      19.807652   \n",
       "max     12139.815877    7003.136546    9772.190537   17403.789263   \n",
       "\n",
       "          modelMag_u     modelMag_g     modelMag_r     modelMag_i  \\\n",
       "count  199991.000000  199991.000000  199991.000000  199991.000000   \n",
       "mean       20.110991      18.544375      18.181544      17.692395   \n",
       "std       122.299062     161.728183     133.984475     131.183416   \n",
       "min    -26236.578659  -36902.402336  -36439.638493  -38969.416822   \n",
       "25%        19.266214      18.076120      17.423425      16.977671   \n",
       "50%        20.406840      19.547674      19.143156      18.641756   \n",
       "75%        21.992898      20.962386      20.408140      19.968846   \n",
       "max     14488.251976   10582.058590   12237.951703    4062.499371   \n",
       "\n",
       "          modelMag_z  \n",
       "count  199991.000000  \n",
       "mean       17.189281  \n",
       "std       133.685138  \n",
       "min    -26050.710196  \n",
       "25%        16.705774  \n",
       "50%        18.100997  \n",
       "75%        19.819554  \n",
       "max      7420.534172  "
      ]
     },
     "execution_count": 3,
     "metadata": {},
     "output_type": "execute_result"
    }
   ],
   "source": [
    "train_df.describe()"
   ]
  },
  {
   "cell_type": "code",
   "execution_count": 4,
   "metadata": {
    "ExecuteTime": {
     "end_time": "2020-02-25T03:01:55.817800Z",
     "start_time": "2020-02-25T03:01:55.812800Z"
    }
   },
   "outputs": [],
   "source": [
    "def del_outlier(data, min=0, max=60):\n",
    "    up_idx_t=()\n",
    "    dw_idx_t=()\n",
    "    train_light = data.iloc[:,2:]\n",
    "    for i in range(len(train_light.columns)):\n",
    "        col = train_light.columns[i]\n",
    "        up_idx_t+=tuple(data[data[col]>max].index)\n",
    "        dw_idx_t+=tuple(data[data[col]<min].index)\n",
    "    del_idx = set(up_idx_t+dw_idx_t)\n",
    "    \n",
    "    return data[~data.index.isin(del_idx)]"
   ]
  },
  {
   "cell_type": "code",
   "execution_count": 5,
   "metadata": {
    "ExecuteTime": {
     "end_time": "2020-02-25T03:01:55.946800Z",
     "start_time": "2020-02-25T03:01:55.863800Z"
    }
   },
   "outputs": [],
   "source": [
    "train_df = del_outlier(train_df, min=-20, max=30)"
   ]
  },
  {
   "cell_type": "code",
   "execution_count": 6,
   "metadata": {
    "ExecuteTime": {
     "end_time": "2020-02-25T03:01:56.200800Z",
     "start_time": "2020-02-25T03:01:55.985800Z"
    }
   },
   "outputs": [
    {
     "data": {
      "text/html": [
       "<div>\n",
       "<style scoped>\n",
       "    .dataframe tbody tr th:only-of-type {\n",
       "        vertical-align: middle;\n",
       "    }\n",
       "\n",
       "    .dataframe tbody tr th {\n",
       "        vertical-align: top;\n",
       "    }\n",
       "\n",
       "    .dataframe thead th {\n",
       "        text-align: right;\n",
       "    }\n",
       "</style>\n",
       "<table border=\"1\" class=\"dataframe\">\n",
       "  <thead>\n",
       "    <tr style=\"text-align: right;\">\n",
       "      <th></th>\n",
       "      <th>fiberID</th>\n",
       "      <th>psfMag_u</th>\n",
       "      <th>psfMag_g</th>\n",
       "      <th>psfMag_r</th>\n",
       "      <th>psfMag_i</th>\n",
       "      <th>psfMag_z</th>\n",
       "      <th>fiberMag_u</th>\n",
       "      <th>fiberMag_g</th>\n",
       "      <th>fiberMag_r</th>\n",
       "      <th>fiberMag_i</th>\n",
       "      <th>fiberMag_z</th>\n",
       "      <th>petroMag_u</th>\n",
       "      <th>petroMag_g</th>\n",
       "      <th>petroMag_r</th>\n",
       "      <th>petroMag_i</th>\n",
       "      <th>petroMag_z</th>\n",
       "      <th>modelMag_u</th>\n",
       "      <th>modelMag_g</th>\n",
       "      <th>modelMag_r</th>\n",
       "      <th>modelMag_i</th>\n",
       "      <th>modelMag_z</th>\n",
       "    </tr>\n",
       "  </thead>\n",
       "  <tbody>\n",
       "    <tr>\n",
       "      <td>count</td>\n",
       "      <td>198761.000000</td>\n",
       "      <td>198761.000000</td>\n",
       "      <td>198761.000000</td>\n",
       "      <td>198761.000000</td>\n",
       "      <td>198761.000000</td>\n",
       "      <td>198761.000000</td>\n",
       "      <td>198761.000000</td>\n",
       "      <td>198761.000000</td>\n",
       "      <td>198761.000000</td>\n",
       "      <td>198761.000000</td>\n",
       "      <td>198761.000000</td>\n",
       "      <td>198761.000000</td>\n",
       "      <td>198761.000000</td>\n",
       "      <td>198761.000000</td>\n",
       "      <td>198761.000000</td>\n",
       "      <td>198761.000000</td>\n",
       "      <td>198761.000000</td>\n",
       "      <td>198761.000000</td>\n",
       "      <td>198761.000000</td>\n",
       "      <td>198761.000000</td>\n",
       "      <td>198761.000000</td>\n",
       "    </tr>\n",
       "    <tr>\n",
       "      <td>mean</td>\n",
       "      <td>360.932929</td>\n",
       "      <td>20.969549</td>\n",
       "      <td>19.849131</td>\n",
       "      <td>19.278713</td>\n",
       "      <td>18.866056</td>\n",
       "      <td>18.606822</td>\n",
       "      <td>21.160965</td>\n",
       "      <td>20.081661</td>\n",
       "      <td>19.500382</td>\n",
       "      <td>19.084324</td>\n",
       "      <td>18.826086</td>\n",
       "      <td>20.669861</td>\n",
       "      <td>19.585208</td>\n",
       "      <td>19.000893</td>\n",
       "      <td>18.598407</td>\n",
       "      <td>18.384088</td>\n",
       "      <td>20.716384</td>\n",
       "      <td>19.520947</td>\n",
       "      <td>18.934052</td>\n",
       "      <td>18.517116</td>\n",
       "      <td>18.272822</td>\n",
       "    </tr>\n",
       "    <tr>\n",
       "      <td>std</td>\n",
       "      <td>225.365186</td>\n",
       "      <td>2.065293</td>\n",
       "      <td>1.849294</td>\n",
       "      <td>1.697810</td>\n",
       "      <td>1.619697</td>\n",
       "      <td>1.676444</td>\n",
       "      <td>1.956557</td>\n",
       "      <td>1.835183</td>\n",
       "      <td>1.702326</td>\n",
       "      <td>1.625115</td>\n",
       "      <td>1.675660</td>\n",
       "      <td>2.267652</td>\n",
       "      <td>2.019985</td>\n",
       "      <td>1.903520</td>\n",
       "      <td>1.849471</td>\n",
       "      <td>1.985692</td>\n",
       "      <td>2.171815</td>\n",
       "      <td>1.949603</td>\n",
       "      <td>1.855083</td>\n",
       "      <td>1.792854</td>\n",
       "      <td>1.859073</td>\n",
       "    </tr>\n",
       "    <tr>\n",
       "      <td>min</td>\n",
       "      <td>1.000000</td>\n",
       "      <td>-12.978725</td>\n",
       "      <td>2.741681</td>\n",
       "      <td>-11.043026</td>\n",
       "      <td>-6.406284</td>\n",
       "      <td>1.762241</td>\n",
       "      <td>-10.838092</td>\n",
       "      <td>-8.294703</td>\n",
       "      <td>11.795394</td>\n",
       "      <td>10.646672</td>\n",
       "      <td>8.049850</td>\n",
       "      <td>-18.750419</td>\n",
       "      <td>-18.640710</td>\n",
       "      <td>-18.553707</td>\n",
       "      <td>-15.223252</td>\n",
       "      <td>-17.035990</td>\n",
       "      <td>3.444448</td>\n",
       "      <td>12.498143</td>\n",
       "      <td>10.286917</td>\n",
       "      <td>11.337467</td>\n",
       "      <td>10.977328</td>\n",
       "    </tr>\n",
       "    <tr>\n",
       "      <td>25%</td>\n",
       "      <td>174.000000</td>\n",
       "      <td>19.645260</td>\n",
       "      <td>18.693076</td>\n",
       "      <td>18.043552</td>\n",
       "      <td>17.741547</td>\n",
       "      <td>17.420206</td>\n",
       "      <td>19.935419</td>\n",
       "      <td>18.897684</td>\n",
       "      <td>18.255634</td>\n",
       "      <td>17.900300</td>\n",
       "      <td>17.602430</td>\n",
       "      <td>19.243948</td>\n",
       "      <td>18.110549</td>\n",
       "      <td>17.478204</td>\n",
       "      <td>17.048850</td>\n",
       "      <td>16.802366</td>\n",
       "      <td>19.260892</td>\n",
       "      <td>18.070515</td>\n",
       "      <td>17.419782</td>\n",
       "      <td>16.974990</td>\n",
       "      <td>16.701866</td>\n",
       "    </tr>\n",
       "    <tr>\n",
       "      <td>50%</td>\n",
       "      <td>349.000000</td>\n",
       "      <td>20.859926</td>\n",
       "      <td>19.895233</td>\n",
       "      <td>19.448093</td>\n",
       "      <td>19.036998</td>\n",
       "      <td>18.604207</td>\n",
       "      <td>21.040392</td>\n",
       "      <td>20.061744</td>\n",
       "      <td>19.626971</td>\n",
       "      <td>19.185825</td>\n",
       "      <td>18.706389</td>\n",
       "      <td>20.358834</td>\n",
       "      <td>19.576100</td>\n",
       "      <td>19.178968</td>\n",
       "      <td>18.691618</td>\n",
       "      <td>18.169804</td>\n",
       "      <td>20.396793</td>\n",
       "      <td>19.536793</td>\n",
       "      <td>19.137761</td>\n",
       "      <td>18.638887</td>\n",
       "      <td>18.097375</td>\n",
       "    </tr>\n",
       "    <tr>\n",
       "      <td>75%</td>\n",
       "      <td>527.000000</td>\n",
       "      <td>22.137173</td>\n",
       "      <td>21.131736</td>\n",
       "      <td>20.507150</td>\n",
       "      <td>20.069700</td>\n",
       "      <td>19.881660</td>\n",
       "      <td>22.322028</td>\n",
       "      <td>21.373010</td>\n",
       "      <td>20.770544</td>\n",
       "      <td>20.331486</td>\n",
       "      <td>20.134371</td>\n",
       "      <td>21.776235</td>\n",
       "      <td>20.991423</td>\n",
       "      <td>20.452793</td>\n",
       "      <td>20.017174</td>\n",
       "      <td>19.805135</td>\n",
       "      <td>21.970718</td>\n",
       "      <td>20.950227</td>\n",
       "      <td>20.403952</td>\n",
       "      <td>19.967549</td>\n",
       "      <td>19.818710</td>\n",
       "    </tr>\n",
       "    <tr>\n",
       "      <td>max</td>\n",
       "      <td>1000.000000</td>\n",
       "      <td>29.904253</td>\n",
       "      <td>29.719821</td>\n",
       "      <td>29.716721</td>\n",
       "      <td>29.674376</td>\n",
       "      <td>29.797875</td>\n",
       "      <td>29.653884</td>\n",
       "      <td>28.923312</td>\n",
       "      <td>28.681562</td>\n",
       "      <td>26.656056</td>\n",
       "      <td>28.876802</td>\n",
       "      <td>29.998184</td>\n",
       "      <td>29.995527</td>\n",
       "      <td>29.869520</td>\n",
       "      <td>29.983775</td>\n",
       "      <td>29.997649</td>\n",
       "      <td>29.798838</td>\n",
       "      <td>29.572553</td>\n",
       "      <td>29.962136</td>\n",
       "      <td>29.553684</td>\n",
       "      <td>29.650301</td>\n",
       "    </tr>\n",
       "  </tbody>\n",
       "</table>\n",
       "</div>"
      ],
      "text/plain": [
       "             fiberID       psfMag_u       psfMag_g       psfMag_r  \\\n",
       "count  198761.000000  198761.000000  198761.000000  198761.000000   \n",
       "mean      360.932929      20.969549      19.849131      19.278713   \n",
       "std       225.365186       2.065293       1.849294       1.697810   \n",
       "min         1.000000     -12.978725       2.741681     -11.043026   \n",
       "25%       174.000000      19.645260      18.693076      18.043552   \n",
       "50%       349.000000      20.859926      19.895233      19.448093   \n",
       "75%       527.000000      22.137173      21.131736      20.507150   \n",
       "max      1000.000000      29.904253      29.719821      29.716721   \n",
       "\n",
       "            psfMag_i       psfMag_z     fiberMag_u     fiberMag_g  \\\n",
       "count  198761.000000  198761.000000  198761.000000  198761.000000   \n",
       "mean       18.866056      18.606822      21.160965      20.081661   \n",
       "std         1.619697       1.676444       1.956557       1.835183   \n",
       "min        -6.406284       1.762241     -10.838092      -8.294703   \n",
       "25%        17.741547      17.420206      19.935419      18.897684   \n",
       "50%        19.036998      18.604207      21.040392      20.061744   \n",
       "75%        20.069700      19.881660      22.322028      21.373010   \n",
       "max        29.674376      29.797875      29.653884      28.923312   \n",
       "\n",
       "          fiberMag_r     fiberMag_i     fiberMag_z     petroMag_u  \\\n",
       "count  198761.000000  198761.000000  198761.000000  198761.000000   \n",
       "mean       19.500382      19.084324      18.826086      20.669861   \n",
       "std         1.702326       1.625115       1.675660       2.267652   \n",
       "min        11.795394      10.646672       8.049850     -18.750419   \n",
       "25%        18.255634      17.900300      17.602430      19.243948   \n",
       "50%        19.626971      19.185825      18.706389      20.358834   \n",
       "75%        20.770544      20.331486      20.134371      21.776235   \n",
       "max        28.681562      26.656056      28.876802      29.998184   \n",
       "\n",
       "          petroMag_g     petroMag_r     petroMag_i     petroMag_z  \\\n",
       "count  198761.000000  198761.000000  198761.000000  198761.000000   \n",
       "mean       19.585208      19.000893      18.598407      18.384088   \n",
       "std         2.019985       1.903520       1.849471       1.985692   \n",
       "min       -18.640710     -18.553707     -15.223252     -17.035990   \n",
       "25%        18.110549      17.478204      17.048850      16.802366   \n",
       "50%        19.576100      19.178968      18.691618      18.169804   \n",
       "75%        20.991423      20.452793      20.017174      19.805135   \n",
       "max        29.995527      29.869520      29.983775      29.997649   \n",
       "\n",
       "          modelMag_u     modelMag_g     modelMag_r     modelMag_i  \\\n",
       "count  198761.000000  198761.000000  198761.000000  198761.000000   \n",
       "mean       20.716384      19.520947      18.934052      18.517116   \n",
       "std         2.171815       1.949603       1.855083       1.792854   \n",
       "min         3.444448      12.498143      10.286917      11.337467   \n",
       "25%        19.260892      18.070515      17.419782      16.974990   \n",
       "50%        20.396793      19.536793      19.137761      18.638887   \n",
       "75%        21.970718      20.950227      20.403952      19.967549   \n",
       "max        29.798838      29.572553      29.962136      29.553684   \n",
       "\n",
       "          modelMag_z  \n",
       "count  198761.000000  \n",
       "mean       18.272822  \n",
       "std         1.859073  \n",
       "min        10.977328  \n",
       "25%        16.701866  \n",
       "50%        18.097375  \n",
       "75%        19.818710  \n",
       "max        29.650301  "
      ]
     },
     "execution_count": 6,
     "metadata": {},
     "output_type": "execute_result"
    }
   ],
   "source": [
    "train_df.describe()"
   ]
  },
  {
   "cell_type": "code",
   "execution_count": 7,
   "metadata": {
    "ExecuteTime": {
     "end_time": "2020-02-25T03:01:56.242800Z",
     "start_time": "2020-02-25T03:01:56.238800Z"
    }
   },
   "outputs": [
    {
     "data": {
      "text/plain": [
       "Index(['type', 'fiberID', 'psfMag_u', 'psfMag_g', 'psfMag_r', 'psfMag_i',\n",
       "       'psfMag_z', 'fiberMag_u', 'fiberMag_g', 'fiberMag_r', 'fiberMag_i',\n",
       "       'fiberMag_z', 'petroMag_u', 'petroMag_g', 'petroMag_r', 'petroMag_i',\n",
       "       'petroMag_z', 'modelMag_u', 'modelMag_g', 'modelMag_r', 'modelMag_i',\n",
       "       'modelMag_z'],\n",
       "      dtype='object')"
      ]
     },
     "execution_count": 7,
     "metadata": {},
     "output_type": "execute_result"
    }
   ],
   "source": [
    "train_df.columns"
   ]
  },
  {
   "cell_type": "markdown",
   "metadata": {},
   "source": [
    "## DATA Setting"
   ]
  },
  {
   "cell_type": "code",
   "execution_count": 8,
   "metadata": {
    "ExecuteTime": {
     "end_time": "2020-02-25T03:01:56.361800Z",
     "start_time": "2020-02-25T03:01:56.281800Z"
    }
   },
   "outputs": [],
   "source": [
    "column_number = {}\n",
    "number_columns = {}\n",
    "for i, column in enumerate(sample_submission_df.columns):\n",
    "    column_number[column] = i\n",
    "    number_columns[i] = column\n",
    "    \n",
    "    \n",
    "def to_number(x, dic):\n",
    "    return dic[x]\n",
    "\n",
    "train_df['type_num'] = train_df['type'].apply(lambda x: to_number(x, column_number))\n"
   ]
  },
  {
   "cell_type": "code",
   "execution_count": 9,
   "metadata": {
    "ExecuteTime": {
     "end_time": "2020-02-25T03:01:56.421800Z",
     "start_time": "2020-02-25T03:01:56.414800Z"
    }
   },
   "outputs": [],
   "source": [
    "def add_minus_feature_all(data,test = False):\n",
    "    '''\n",
    "    combination으로 모든 변수들의 조합에 대해서 컬럼생성 \n",
    "    각 mag에서 가장 높은값의 filter를 받아오는 \"~~mag_MAX\"생성\n",
    "    결과 64개로 증가\n",
    "    '''\n",
    "    from itertools import combinations\n",
    "    n = 0\n",
    "    for count in range(5,21,5):\n",
    "        s = 2\n",
    "        if test == True :\n",
    "            s = 1\n",
    "        selected = data.columns[s:].values[n:count]\n",
    "        mag = str.split(selected[0],'_')[0]\n",
    "        data[mag+\"_MAX\"] = data[selected].apply(lambda x : str.split(np.argmax(x),'_')[1],axis = 1)\n",
    "        for combi in list(combinations(selected,2)):\n",
    "            name_1st = str.split(combi[0],'_')[1]\n",
    "            name_2nd = str.split(combi[1],'_')[1]\n",
    "            data[mag+\"_\"+name_1st+\"-\"+name_2nd] = data[combi[0]]-data[combi[1]]\n",
    "        n=count\n",
    "    return data"
   ]
  },
  {
   "cell_type": "code",
   "execution_count": 10,
   "metadata": {
    "ExecuteTime": {
     "end_time": "2020-02-25T03:01:56.468800Z",
     "start_time": "2020-02-25T03:01:56.461800Z"
    }
   },
   "outputs": [],
   "source": [
    "def add_minus_feature(data,test = False):\n",
    "    '''\n",
    "    근접변수에 대해서만 컬럼생성 ex) 'fiberMag_u-g', 'fiberMag_g-r', 'fiberMag_r-i', 'fiberMag_i-z'\n",
    "    각 mag에서 가장 높은값의 filter를 받아오는 \"~~mag_MAX\"생성\n",
    "    결과 38개로 증가 \n",
    "    '''\n",
    "    from itertools import combinations\n",
    "    n = 0\n",
    "    m = 0\n",
    "    for count in range(5,21,5):\n",
    "        s = 2\n",
    "        if test == True :\n",
    "            s = 1\n",
    "        selected = data.columns[s:].values[n:count]\n",
    "        mag = str.split(selected[0],'_')[0]\n",
    "        data[mag+\"_MAX\"] = data[selected].apply(lambda x : str.split(np.argmax(x),'_')[1],axis = 1)\n",
    "        for i in range(0,len(selected)):        \n",
    "            if i>0: \n",
    "                name_1st = str.split(m,'_')[1]\n",
    "                name_2nd = str.split(selected[i],'_')[1]\n",
    "                data[mag+\"_\"+name_1st+\"-\"+name_2nd] = data[m]-data[selected[i]]\n",
    "            m = selected[i]    \n",
    "        n=count\n",
    "    return data"
   ]
  },
  {
   "cell_type": "code",
   "execution_count": 11,
   "metadata": {
    "ExecuteTime": {
     "end_time": "2020-02-25T03:03:13.770800Z",
     "start_time": "2020-02-25T03:01:56.507800Z"
    }
   },
   "outputs": [
    {
     "name": "stderr",
     "output_type": "stream",
     "text": [
      "G:\\Anaconda3\\lib\\site-packages\\numpy\\core\\fromnumeric.py:56: FutureWarning: \n",
      "The current behaviour of 'Series.argmax' is deprecated, use 'idxmax'\n",
      "instead.\n",
      "The behavior of 'argmax' will be corrected to return the positional\n",
      "maximum in the future. For now, use 'series.values.argmax' or\n",
      "'np.argmax(np.array(values))' to get the position of the maximum\n",
      "row.\n",
      "  return getattr(obj, method)(*args, **kwds)\n"
     ]
    }
   ],
   "source": [
    "train_df = add_minus_feature_all(train_df)\n",
    "test_df = add_minus_feature_all(test_df,True)"
   ]
  },
  {
   "cell_type": "code",
   "execution_count": 12,
   "metadata": {
    "ExecuteTime": {
     "end_time": "2020-02-25T03:03:13.899800Z",
     "start_time": "2020-02-25T03:03:13.894800Z"
    }
   },
   "outputs": [],
   "source": [
    "def label_encode(data):\n",
    "    '''\n",
    "    각 mag에서 가장 높은값의 filter를 labelencoding \n",
    "    '''\n",
    "    from sklearn.preprocessing import LabelEncoder\n",
    "    le = LabelEncoder()\n",
    "    taget_cols = ['psfMag_MAX','fiberMag_MAX','petroMag_MAX','modelMag_MAX']\n",
    "    for col in taget_cols:\n",
    "        data[col] = le.fit_transform(data[col])\n",
    "    return data"
   ]
  },
  {
   "cell_type": "code",
   "execution_count": 13,
   "metadata": {
    "ExecuteTime": {
     "end_time": "2020-02-25T03:03:14.136800Z",
     "start_time": "2020-02-25T03:03:14.017800Z"
    }
   },
   "outputs": [],
   "source": [
    "train_df = label_encode(train_df)\n",
    "test_df = label_encode(test_df)"
   ]
  },
  {
   "cell_type": "code",
   "execution_count": 14,
   "metadata": {
    "ExecuteTime": {
     "end_time": "2020-02-25T03:03:14.269800Z",
     "start_time": "2020-02-25T03:03:14.266800Z"
    }
   },
   "outputs": [],
   "source": [
    "# train_df.drop(columns=['psfMag_u', 'psfMag_g', 'psfMag_r', 'psfMag_i',\n",
    "#        'psfMag_z', 'fiberMag_u', 'fiberMag_g', 'fiberMag_r', 'fiberMag_i',\n",
    "#        'fiberMag_z', 'petroMag_u', 'petroMag_g', 'petroMag_r', 'petroMag_i',\n",
    "#        'petroMag_z', 'modelMag_u', 'modelMag_g', 'modelMag_r', 'modelMag_i',\n",
    "#        'modelMag_z'], inplace=True)\n",
    "\n",
    "# test_df.drop(columns=['psfMag_u', 'psfMag_g', 'psfMag_r', 'psfMag_i',\n",
    "#        'psfMag_z', 'fiberMag_u', 'fiberMag_g', 'fiberMag_r', 'fiberMag_i',\n",
    "#        'fiberMag_z', 'petroMag_u', 'petroMag_g', 'petroMag_r', 'petroMag_i',\n",
    "#        'petroMag_z', 'modelMag_u', 'modelMag_g', 'modelMag_r', 'modelMag_i',\n",
    "#        'modelMag_z'], inplace=True)"
   ]
  },
  {
   "cell_type": "code",
   "execution_count": 15,
   "metadata": {
    "ExecuteTime": {
     "end_time": "2020-02-25T03:03:14.537800Z",
     "start_time": "2020-02-25T03:03:14.414800Z"
    }
   },
   "outputs": [],
   "source": [
    "train_X = train_df.drop(columns=['type', 'type_num', 'fiberID'], axis=1)\n",
    "train_y = train_df['type_num']\n",
    "test_X = test_df.drop(columns=['fiberID'], axis=1)"
   ]
  },
  {
   "cell_type": "code",
   "execution_count": 16,
   "metadata": {
    "ExecuteTime": {
     "end_time": "2020-02-25T03:03:14.745800Z",
     "start_time": "2020-02-25T03:03:14.717800Z"
    },
    "scrolled": true
   },
   "outputs": [
    {
     "data": {
      "text/html": [
       "<div>\n",
       "<style scoped>\n",
       "    .dataframe tbody tr th:only-of-type {\n",
       "        vertical-align: middle;\n",
       "    }\n",
       "\n",
       "    .dataframe tbody tr th {\n",
       "        vertical-align: top;\n",
       "    }\n",
       "\n",
       "    .dataframe thead th {\n",
       "        text-align: right;\n",
       "    }\n",
       "</style>\n",
       "<table border=\"1\" class=\"dataframe\">\n",
       "  <thead>\n",
       "    <tr style=\"text-align: right;\">\n",
       "      <th></th>\n",
       "      <th>psfMag_u</th>\n",
       "      <th>psfMag_g</th>\n",
       "      <th>psfMag_r</th>\n",
       "      <th>psfMag_i</th>\n",
       "      <th>psfMag_z</th>\n",
       "      <th>fiberMag_u</th>\n",
       "      <th>fiberMag_g</th>\n",
       "      <th>fiberMag_r</th>\n",
       "      <th>fiberMag_i</th>\n",
       "      <th>fiberMag_z</th>\n",
       "      <th>petroMag_u</th>\n",
       "      <th>petroMag_g</th>\n",
       "      <th>petroMag_r</th>\n",
       "      <th>petroMag_i</th>\n",
       "      <th>petroMag_z</th>\n",
       "      <th>...</th>\n",
       "      <th>petroMag_g-z</th>\n",
       "      <th>petroMag_r-i</th>\n",
       "      <th>petroMag_r-z</th>\n",
       "      <th>petroMag_i-z</th>\n",
       "      <th>modelMag_MAX</th>\n",
       "      <th>modelMag_u-g</th>\n",
       "      <th>modelMag_u-r</th>\n",
       "      <th>modelMag_u-i</th>\n",
       "      <th>modelMag_u-z</th>\n",
       "      <th>modelMag_g-r</th>\n",
       "      <th>modelMag_g-i</th>\n",
       "      <th>modelMag_g-z</th>\n",
       "      <th>modelMag_r-i</th>\n",
       "      <th>modelMag_r-z</th>\n",
       "      <th>modelMag_i-z</th>\n",
       "    </tr>\n",
       "    <tr>\n",
       "      <th>id</th>\n",
       "      <th></th>\n",
       "      <th></th>\n",
       "      <th></th>\n",
       "      <th></th>\n",
       "      <th></th>\n",
       "      <th></th>\n",
       "      <th></th>\n",
       "      <th></th>\n",
       "      <th></th>\n",
       "      <th></th>\n",
       "      <th></th>\n",
       "      <th></th>\n",
       "      <th></th>\n",
       "      <th></th>\n",
       "      <th></th>\n",
       "      <th></th>\n",
       "      <th></th>\n",
       "      <th></th>\n",
       "      <th></th>\n",
       "      <th></th>\n",
       "      <th></th>\n",
       "      <th></th>\n",
       "      <th></th>\n",
       "      <th></th>\n",
       "      <th></th>\n",
       "      <th></th>\n",
       "      <th></th>\n",
       "      <th></th>\n",
       "      <th></th>\n",
       "      <th></th>\n",
       "      <th></th>\n",
       "    </tr>\n",
       "  </thead>\n",
       "  <tbody>\n",
       "    <tr>\n",
       "      <td>0</td>\n",
       "      <td>23.198224</td>\n",
       "      <td>21.431953</td>\n",
       "      <td>21.314148</td>\n",
       "      <td>21.176553</td>\n",
       "      <td>21.171444</td>\n",
       "      <td>22.581309</td>\n",
       "      <td>21.644453</td>\n",
       "      <td>21.657571</td>\n",
       "      <td>21.387653</td>\n",
       "      <td>21.572827</td>\n",
       "      <td>22.504317</td>\n",
       "      <td>21.431636</td>\n",
       "      <td>21.478312</td>\n",
       "      <td>21.145409</td>\n",
       "      <td>20.422446</td>\n",
       "      <td>...</td>\n",
       "      <td>1.009190</td>\n",
       "      <td>0.332902</td>\n",
       "      <td>1.055866</td>\n",
       "      <td>0.722964</td>\n",
       "      <td>3</td>\n",
       "      <td>1.283708</td>\n",
       "      <td>1.385054</td>\n",
       "      <td>1.728637</td>\n",
       "      <td>1.601901</td>\n",
       "      <td>0.101347</td>\n",
       "      <td>0.444929</td>\n",
       "      <td>0.318194</td>\n",
       "      <td>0.343582</td>\n",
       "      <td>0.216847</td>\n",
       "      <td>-0.126735</td>\n",
       "    </tr>\n",
       "    <tr>\n",
       "      <td>1</td>\n",
       "      <td>21.431355</td>\n",
       "      <td>20.708104</td>\n",
       "      <td>20.678850</td>\n",
       "      <td>20.703420</td>\n",
       "      <td>20.473229</td>\n",
       "      <td>21.868797</td>\n",
       "      <td>21.029773</td>\n",
       "      <td>20.967054</td>\n",
       "      <td>20.937731</td>\n",
       "      <td>21.063646</td>\n",
       "      <td>21.360701</td>\n",
       "      <td>20.778968</td>\n",
       "      <td>20.889705</td>\n",
       "      <td>20.639812</td>\n",
       "      <td>20.646660</td>\n",
       "      <td>...</td>\n",
       "      <td>0.132308</td>\n",
       "      <td>0.249893</td>\n",
       "      <td>0.243045</td>\n",
       "      <td>-0.006847</td>\n",
       "      <td>3</td>\n",
       "      <td>0.734428</td>\n",
       "      <td>0.739030</td>\n",
       "      <td>0.799566</td>\n",
       "      <td>0.980641</td>\n",
       "      <td>0.004602</td>\n",
       "      <td>0.065138</td>\n",
       "      <td>0.246213</td>\n",
       "      <td>0.060537</td>\n",
       "      <td>0.241611</td>\n",
       "      <td>0.181074</td>\n",
       "    </tr>\n",
       "    <tr>\n",
       "      <td>2</td>\n",
       "      <td>17.851451</td>\n",
       "      <td>16.727898</td>\n",
       "      <td>16.679677</td>\n",
       "      <td>16.694640</td>\n",
       "      <td>16.641788</td>\n",
       "      <td>18.171890</td>\n",
       "      <td>17.033098</td>\n",
       "      <td>16.999682</td>\n",
       "      <td>17.095999</td>\n",
       "      <td>17.076449</td>\n",
       "      <td>17.867253</td>\n",
       "      <td>16.738784</td>\n",
       "      <td>16.688874</td>\n",
       "      <td>16.744210</td>\n",
       "      <td>16.808006</td>\n",
       "      <td>...</td>\n",
       "      <td>-0.069222</td>\n",
       "      <td>-0.055336</td>\n",
       "      <td>-0.119132</td>\n",
       "      <td>-0.063796</td>\n",
       "      <td>3</td>\n",
       "      <td>1.120628</td>\n",
       "      <td>1.176814</td>\n",
       "      <td>1.157885</td>\n",
       "      <td>1.129134</td>\n",
       "      <td>0.056186</td>\n",
       "      <td>0.037257</td>\n",
       "      <td>0.008506</td>\n",
       "      <td>-0.018929</td>\n",
       "      <td>-0.047680</td>\n",
       "      <td>-0.028751</td>\n",
       "    </tr>\n",
       "    <tr>\n",
       "      <td>3</td>\n",
       "      <td>20.789900</td>\n",
       "      <td>20.040371</td>\n",
       "      <td>19.926909</td>\n",
       "      <td>19.843840</td>\n",
       "      <td>19.463270</td>\n",
       "      <td>21.039030</td>\n",
       "      <td>20.317165</td>\n",
       "      <td>20.217898</td>\n",
       "      <td>20.073852</td>\n",
       "      <td>19.794505</td>\n",
       "      <td>20.433907</td>\n",
       "      <td>19.993727</td>\n",
       "      <td>19.985531</td>\n",
       "      <td>19.750917</td>\n",
       "      <td>19.455117</td>\n",
       "      <td>...</td>\n",
       "      <td>0.538610</td>\n",
       "      <td>0.234614</td>\n",
       "      <td>0.530413</td>\n",
       "      <td>0.295800</td>\n",
       "      <td>3</td>\n",
       "      <td>0.769012</td>\n",
       "      <td>0.880913</td>\n",
       "      <td>1.012598</td>\n",
       "      <td>1.217856</td>\n",
       "      <td>0.111901</td>\n",
       "      <td>0.243586</td>\n",
       "      <td>0.448844</td>\n",
       "      <td>0.131685</td>\n",
       "      <td>0.336943</td>\n",
       "      <td>0.205258</td>\n",
       "    </tr>\n",
       "    <tr>\n",
       "      <td>4</td>\n",
       "      <td>26.454969</td>\n",
       "      <td>23.058767</td>\n",
       "      <td>21.471406</td>\n",
       "      <td>19.504961</td>\n",
       "      <td>18.389096</td>\n",
       "      <td>25.700632</td>\n",
       "      <td>23.629122</td>\n",
       "      <td>21.742750</td>\n",
       "      <td>19.861718</td>\n",
       "      <td>18.810375</td>\n",
       "      <td>25.859229</td>\n",
       "      <td>22.426929</td>\n",
       "      <td>21.673551</td>\n",
       "      <td>19.610012</td>\n",
       "      <td>18.376141</td>\n",
       "      <td>...</td>\n",
       "      <td>4.050788</td>\n",
       "      <td>2.063539</td>\n",
       "      <td>3.297411</td>\n",
       "      <td>1.233871</td>\n",
       "      <td>3</td>\n",
       "      <td>1.729059</td>\n",
       "      <td>3.401710</td>\n",
       "      <td>5.389723</td>\n",
       "      <td>6.501398</td>\n",
       "      <td>1.672651</td>\n",
       "      <td>3.660663</td>\n",
       "      <td>4.772338</td>\n",
       "      <td>1.988012</td>\n",
       "      <td>3.099688</td>\n",
       "      <td>1.111675</td>\n",
       "    </tr>\n",
       "  </tbody>\n",
       "</table>\n",
       "<p>5 rows × 64 columns</p>\n",
       "</div>"
      ],
      "text/plain": [
       "     psfMag_u   psfMag_g   psfMag_r   psfMag_i   psfMag_z  fiberMag_u  \\\n",
       "id                                                                      \n",
       "0   23.198224  21.431953  21.314148  21.176553  21.171444   22.581309   \n",
       "1   21.431355  20.708104  20.678850  20.703420  20.473229   21.868797   \n",
       "2   17.851451  16.727898  16.679677  16.694640  16.641788   18.171890   \n",
       "3   20.789900  20.040371  19.926909  19.843840  19.463270   21.039030   \n",
       "4   26.454969  23.058767  21.471406  19.504961  18.389096   25.700632   \n",
       "\n",
       "    fiberMag_g  fiberMag_r  fiberMag_i  fiberMag_z  petroMag_u  petroMag_g  \\\n",
       "id                                                                           \n",
       "0    21.644453   21.657571   21.387653   21.572827   22.504317   21.431636   \n",
       "1    21.029773   20.967054   20.937731   21.063646   21.360701   20.778968   \n",
       "2    17.033098   16.999682   17.095999   17.076449   17.867253   16.738784   \n",
       "3    20.317165   20.217898   20.073852   19.794505   20.433907   19.993727   \n",
       "4    23.629122   21.742750   19.861718   18.810375   25.859229   22.426929   \n",
       "\n",
       "    petroMag_r  petroMag_i  petroMag_z  ...  petroMag_g-z  petroMag_r-i  \\\n",
       "id                                      ...                               \n",
       "0    21.478312   21.145409   20.422446  ...      1.009190      0.332902   \n",
       "1    20.889705   20.639812   20.646660  ...      0.132308      0.249893   \n",
       "2    16.688874   16.744210   16.808006  ...     -0.069222     -0.055336   \n",
       "3    19.985531   19.750917   19.455117  ...      0.538610      0.234614   \n",
       "4    21.673551   19.610012   18.376141  ...      4.050788      2.063539   \n",
       "\n",
       "    petroMag_r-z  petroMag_i-z  modelMag_MAX  modelMag_u-g  modelMag_u-r  \\\n",
       "id                                                                         \n",
       "0       1.055866      0.722964             3      1.283708      1.385054   \n",
       "1       0.243045     -0.006847             3      0.734428      0.739030   \n",
       "2      -0.119132     -0.063796             3      1.120628      1.176814   \n",
       "3       0.530413      0.295800             3      0.769012      0.880913   \n",
       "4       3.297411      1.233871             3      1.729059      3.401710   \n",
       "\n",
       "    modelMag_u-i  modelMag_u-z  modelMag_g-r  modelMag_g-i  modelMag_g-z  \\\n",
       "id                                                                         \n",
       "0       1.728637      1.601901      0.101347      0.444929      0.318194   \n",
       "1       0.799566      0.980641      0.004602      0.065138      0.246213   \n",
       "2       1.157885      1.129134      0.056186      0.037257      0.008506   \n",
       "3       1.012598      1.217856      0.111901      0.243586      0.448844   \n",
       "4       5.389723      6.501398      1.672651      3.660663      4.772338   \n",
       "\n",
       "    modelMag_r-i  modelMag_r-z  modelMag_i-z  \n",
       "id                                            \n",
       "0       0.343582      0.216847     -0.126735  \n",
       "1       0.060537      0.241611      0.181074  \n",
       "2      -0.018929     -0.047680     -0.028751  \n",
       "3       0.131685      0.336943      0.205258  \n",
       "4       1.988012      3.099688      1.111675  \n",
       "\n",
       "[5 rows x 64 columns]"
      ]
     },
     "execution_count": 16,
     "metadata": {},
     "output_type": "execute_result"
    }
   ],
   "source": [
    "train_X.head()"
   ]
  },
  {
   "cell_type": "code",
   "execution_count": 17,
   "metadata": {
    "ExecuteTime": {
     "end_time": "2020-02-25T03:03:14.916800Z",
     "start_time": "2020-02-25T03:03:14.912800Z"
    },
    "scrolled": true
   },
   "outputs": [
    {
     "data": {
      "text/plain": [
       "Index(['psfMag_u', 'psfMag_g', 'psfMag_r', 'psfMag_i', 'psfMag_z',\n",
       "       'fiberMag_u', 'fiberMag_g', 'fiberMag_r', 'fiberMag_i', 'fiberMag_z',\n",
       "       'petroMag_u', 'petroMag_g', 'petroMag_r', 'petroMag_i', 'petroMag_z',\n",
       "       'modelMag_u', 'modelMag_g', 'modelMag_r', 'modelMag_i', 'modelMag_z',\n",
       "       'psfMag_MAX', 'psfMag_u-g', 'psfMag_u-r', 'psfMag_u-i', 'psfMag_u-z',\n",
       "       'psfMag_g-r', 'psfMag_g-i', 'psfMag_g-z', 'psfMag_r-i', 'psfMag_r-z',\n",
       "       'psfMag_i-z', 'fiberMag_MAX', 'fiberMag_u-g', 'fiberMag_u-r',\n",
       "       'fiberMag_u-i', 'fiberMag_u-z', 'fiberMag_g-r', 'fiberMag_g-i',\n",
       "       'fiberMag_g-z', 'fiberMag_r-i', 'fiberMag_r-z', 'fiberMag_i-z',\n",
       "       'petroMag_MAX', 'petroMag_u-g', 'petroMag_u-r', 'petroMag_u-i',\n",
       "       'petroMag_u-z', 'petroMag_g-r', 'petroMag_g-i', 'petroMag_g-z',\n",
       "       'petroMag_r-i', 'petroMag_r-z', 'petroMag_i-z', 'modelMag_MAX',\n",
       "       'modelMag_u-g', 'modelMag_u-r', 'modelMag_u-i', 'modelMag_u-z',\n",
       "       'modelMag_g-r', 'modelMag_g-i', 'modelMag_g-z', 'modelMag_r-i',\n",
       "       'modelMag_r-z', 'modelMag_i-z'],\n",
       "      dtype='object')"
      ]
     },
     "execution_count": 17,
     "metadata": {},
     "output_type": "execute_result"
    }
   ],
   "source": [
    "train_X.columns"
   ]
  },
  {
   "cell_type": "code",
   "execution_count": 18,
   "metadata": {
    "ExecuteTime": {
     "end_time": "2020-02-24T07:10:30.986000Z",
     "start_time": "2020-02-24T07:10:30.983000Z"
    }
   },
   "outputs": [],
   "source": [
    "# ## u-g, g-r, r-i, i-z 만 남기는게 좋지 않을까????\n",
    "# train_X.drop(['psfMag_u-r','psfMag_u-i','psfMag_u-z','psfMag_g-i','psfMag_g-z','psfMag_r-z',\n",
    "#              'fiberMag_u-r','fiberMag_u-i','fiberMag_u-z','fiberMag_g-i','fiberMag_g-z','fiberMag_r-z',\n",
    "#              'petroMag_u-r','petroMag_u-i','petroMag_u-z','petroMag_g-i','petroMag_g-z','petroMag_r-z',\n",
    "#              'modelMag_u-r','modelMag_u-i','modelMag_u-z','modelMag_g-i','modelMag_g-z','modelMag_r-z'] ,axis=1, inplace=True)\n",
    "\n",
    "# test_X.drop(['psfMag_u-r','psfMag_u-i','psfMag_u-z','psfMag_g-i','psfMag_g-z','psfMag_r-z',\n",
    "#              'fiberMag_u-r','fiberMag_u-i','fiberMag_u-z','fiberMag_g-i','fiberMag_g-z','fiberMag_r-z',\n",
    "#              'petroMag_u-r','petroMag_u-i','petroMag_u-z','petroMag_g-i','petroMag_g-z','petroMag_r-z',\n",
    "#              'modelMag_u-r','modelMag_u-i','modelMag_u-z','modelMag_g-i','modelMag_g-z','modelMag_r-z'] ,axis=1, inplace=True)"
   ]
  },
  {
   "cell_type": "code",
   "execution_count": 31,
   "metadata": {
    "ExecuteTime": {
     "end_time": "2020-02-25T03:20:00.676800Z",
     "start_time": "2020-02-25T03:20:00.447800Z"
    }
   },
   "outputs": [],
   "source": [
    "X_train, X_test, y_train, y_test = train_test_split(train_X, train_y, test_size=0.3, random_state=1059,stratify = train_y)"
   ]
  },
  {
   "cell_type": "code",
   "execution_count": 32,
   "metadata": {
    "ExecuteTime": {
     "end_time": "2020-02-25T03:20:00.917800Z",
     "start_time": "2020-02-25T03:20:00.911800Z"
    }
   },
   "outputs": [],
   "source": [
    "#3번 0219 \n",
    "train_ds = lgb.Dataset(X_train, label = y_train, categorical_feature=['psfMag_MAX', 'fiberMag_MAX', 'petroMag_MAX', 'modelMag_MAX'])\n",
    "test_ds = lgb.Dataset(X_test, label = y_test, categorical_feature=['psfMag_MAX', 'fiberMag_MAX', 'petroMag_MAX', 'modelMag_MAX']) \n",
    "\n",
    "params = {\n",
    "    'boosting_type': 'dart',\n",
    "    'objective': 'multiclass',\n",
    "    'num_class': train_y.nunique(),\n",
    "    'metric': {'multi_logloss','multi_logloss'},\n",
    "    'class_weight': None, \n",
    "#     'colsample_bytree': 1.0,\n",
    "#     'learning_rate': 0.003,\n",
    "    'max_depth': 11,\n",
    "    'min_data_in_leaf': 25,\n",
    "    'save_binary': True,\n",
    "#     'min_child_samples': 20,\n",
    "#     'min_child_weight': 0.001,\n",
    "#     'min_split_gain': 0.0,\n",
    "    'n_jobs': -1,\n",
    "    'num_leaves': 21, \n",
    "    'random_state': 1059,\n",
    "#     'reg_alpha': 0.0,\n",
    "#     'reg_lambda': 0.0,\n",
    "#     'subsample': 1.0, \n",
    "#     'subsample_for_bin': 200000,\n",
    "#     'subsample_freq': 0,\n",
    "}"
   ]
  },
  {
   "cell_type": "markdown",
   "metadata": {},
   "source": [
    "## Modeling"
   ]
  },
  {
   "cell_type": "code",
   "execution_count": 33,
   "metadata": {
    "ExecuteTime": {
     "end_time": "2020-02-25T03:34:57.348800Z",
     "start_time": "2020-02-25T03:20:01.253800Z"
    },
    "scrolled": true
   },
   "outputs": [
    {
     "name": "stderr",
     "output_type": "stream",
     "text": [
      "G:\\Anaconda3\\lib\\site-packages\\lightgbm\\basic.py:1291: UserWarning: Using categorical_feature in Dataset.\n",
      "  warnings.warn('Using categorical_feature in Dataset.')\n",
      "G:\\Anaconda3\\lib\\site-packages\\lightgbm\\callback.py:188: UserWarning: Early stopping is not available in dart mode\n",
      "  warnings.warn('Early stopping is not available in dart mode')\n"
     ]
    },
    {
     "name": "stdout",
     "output_type": "stream",
     "text": [
      "[50]\tTrain's multi_logloss: 1.62924\tTest's multi_logloss: 1.63965\n",
      "[100]\tTrain's multi_logloss: 1.29758\tTest's multi_logloss: 1.31234\n",
      "[150]\tTrain's multi_logloss: 1.07766\tTest's multi_logloss: 1.09541\n",
      "[200]\tTrain's multi_logloss: 0.920463\tTest's multi_logloss: 0.940493\n",
      "[250]\tTrain's multi_logloss: 0.802396\tTest's multi_logloss: 0.824548\n",
      "[300]\tTrain's multi_logloss: 0.712245\tTest's multi_logloss: 0.736369\n",
      "[350]\tTrain's multi_logloss: 0.642147\tTest's multi_logloss: 0.668073\n",
      "[400]\tTrain's multi_logloss: 0.586921\tTest's multi_logloss: 0.614671\n",
      "[450]\tTrain's multi_logloss: 0.542999\tTest's multi_logloss: 0.572374\n",
      "[500]\tTrain's multi_logloss: 0.507741\tTest's multi_logloss: 0.538612\n",
      "[550]\tTrain's multi_logloss: 0.479273\tTest's multi_logloss: 0.511674\n",
      "[600]\tTrain's multi_logloss: 0.455962\tTest's multi_logloss: 0.489903\n",
      "[650]\tTrain's multi_logloss: 0.436631\tTest's multi_logloss: 0.472169\n",
      "[700]\tTrain's multi_logloss: 0.420572\tTest's multi_logloss: 0.45767\n",
      "[750]\tTrain's multi_logloss: 0.407034\tTest's multi_logloss: 0.445578\n",
      "[800]\tTrain's multi_logloss: 0.395505\tTest's multi_logloss: 0.435525\n",
      "[850]\tTrain's multi_logloss: 0.385547\tTest's multi_logloss: 0.427027\n",
      "[900]\tTrain's multi_logloss: 0.376924\tTest's multi_logloss: 0.419898\n",
      "[950]\tTrain's multi_logloss: 0.369433\tTest's multi_logloss: 0.413846\n",
      "[1000]\tTrain's multi_logloss: 0.362892\tTest's multi_logloss: 0.408718\n",
      "[1050]\tTrain's multi_logloss: 0.357128\tTest's multi_logloss: 0.404357\n",
      "[1100]\tTrain's multi_logloss: 0.351904\tTest's multi_logloss: 0.400583\n",
      "[1150]\tTrain's multi_logloss: 0.347062\tTest's multi_logloss: 0.39721\n",
      "[1200]\tTrain's multi_logloss: 0.34271\tTest's multi_logloss: 0.394327\n",
      "[1250]\tTrain's multi_logloss: 0.338676\tTest's multi_logloss: 0.391839\n",
      "[1300]\tTrain's multi_logloss: 0.335028\tTest's multi_logloss: 0.389664\n",
      "[1350]\tTrain's multi_logloss: 0.331677\tTest's multi_logloss: 0.387766\n",
      "[1400]\tTrain's multi_logloss: 0.328574\tTest's multi_logloss: 0.386122\n",
      "[1450]\tTrain's multi_logloss: 0.325699\tTest's multi_logloss: 0.384683\n",
      "[1500]\tTrain's multi_logloss: 0.322902\tTest's multi_logloss: 0.383339\n",
      "[1550]\tTrain's multi_logloss: 0.320301\tTest's multi_logloss: 0.382148\n",
      "[1600]\tTrain's multi_logloss: 0.317863\tTest's multi_logloss: 0.381089\n",
      "[1650]\tTrain's multi_logloss: 0.315526\tTest's multi_logloss: 0.380142\n",
      "[1700]\tTrain's multi_logloss: 0.313326\tTest's multi_logloss: 0.379316\n",
      "[1750]\tTrain's multi_logloss: 0.311215\tTest's multi_logloss: 0.378538\n",
      "[1800]\tTrain's multi_logloss: 0.309229\tTest's multi_logloss: 0.377849\n",
      "[1850]\tTrain's multi_logloss: 0.307369\tTest's multi_logloss: 0.377237\n",
      "[1900]\tTrain's multi_logloss: 0.30561\tTest's multi_logloss: 0.37664\n",
      "[1950]\tTrain's multi_logloss: 0.303937\tTest's multi_logloss: 0.376112\n",
      "[2000]\tTrain's multi_logloss: 0.302265\tTest's multi_logloss: 0.375641\n",
      "[2050]\tTrain's multi_logloss: 0.300656\tTest's multi_logloss: 0.375236\n",
      "[2100]\tTrain's multi_logloss: 0.299122\tTest's multi_logloss: 0.374881\n",
      "[2150]\tTrain's multi_logloss: 0.297602\tTest's multi_logloss: 0.37453\n",
      "[2200]\tTrain's multi_logloss: 0.296096\tTest's multi_logloss: 0.374188\n",
      "[2250]\tTrain's multi_logloss: 0.294647\tTest's multi_logloss: 0.373877\n",
      "[2300]\tTrain's multi_logloss: 0.29324\tTest's multi_logloss: 0.373609\n",
      "[2350]\tTrain's multi_logloss: 0.291888\tTest's multi_logloss: 0.373349\n",
      "[2400]\tTrain's multi_logloss: 0.290573\tTest's multi_logloss: 0.373092\n",
      "[2450]\tTrain's multi_logloss: 0.289318\tTest's multi_logloss: 0.372862\n",
      "[2500]\tTrain's multi_logloss: 0.288092\tTest's multi_logloss: 0.372666\n",
      "[2550]\tTrain's multi_logloss: 0.286867\tTest's multi_logloss: 0.372491\n",
      "[2600]\tTrain's multi_logloss: 0.285657\tTest's multi_logloss: 0.37233\n",
      "[2650]\tTrain's multi_logloss: 0.284472\tTest's multi_logloss: 0.372182\n",
      "[2700]\tTrain's multi_logloss: 0.283347\tTest's multi_logloss: 0.372051\n",
      "[2750]\tTrain's multi_logloss: 0.282257\tTest's multi_logloss: 0.37195\n"
     ]
    },
    {
     "ename": "KeyboardInterrupt",
     "evalue": "",
     "output_type": "error",
     "traceback": [
      "\u001b[1;31m---------------------------------------------------------------------------\u001b[0m",
      "\u001b[1;31mKeyboardInterrupt\u001b[0m                         Traceback (most recent call last)",
      "\u001b[1;32m<ipython-input-33-79a61bbdb940>\u001b[0m in \u001b[0;36m<module>\u001b[1;34m\u001b[0m\n\u001b[0;32m      4\u001b[0m                        \u001b[0mevals_result\u001b[0m\u001b[1;33m=\u001b[0m\u001b[0mevaluation_results\u001b[0m\u001b[1;33m,\u001b[0m\u001b[1;33m\u001b[0m\u001b[1;33m\u001b[0m\u001b[0m\n\u001b[0;32m      5\u001b[0m                        \u001b[0mverbose_eval\u001b[0m\u001b[1;33m=\u001b[0m\u001b[1;36m50\u001b[0m\u001b[1;33m,\u001b[0m \u001b[0mearly_stopping_rounds\u001b[0m\u001b[1;33m=\u001b[0m\u001b[1;36m100\u001b[0m\u001b[1;33m,\u001b[0m\u001b[1;33m\u001b[0m\u001b[1;33m\u001b[0m\u001b[0m\n\u001b[1;32m----> 6\u001b[1;33m                       \u001b[0mlearning_rates\u001b[0m\u001b[1;33m=\u001b[0m\u001b[1;32mlambda\u001b[0m \u001b[0miter\u001b[0m\u001b[1;33m:\u001b[0m \u001b[1;36m0.005\u001b[0m \u001b[1;33m*\u001b[0m \u001b[1;33m(\u001b[0m\u001b[1;36m0.9999\u001b[0m \u001b[1;33m**\u001b[0m \u001b[0miter\u001b[0m\u001b[1;33m)\u001b[0m\u001b[1;33m\u001b[0m\u001b[1;33m\u001b[0m\u001b[0m\n\u001b[0m\u001b[0;32m      7\u001b[0m                       )\n",
      "\u001b[1;32mG:\\Anaconda3\\lib\\site-packages\\lightgbm\\engine.py\u001b[0m in \u001b[0;36mtrain\u001b[1;34m(params, train_set, num_boost_round, valid_sets, valid_names, fobj, feval, init_model, feature_name, categorical_feature, early_stopping_rounds, evals_result, verbose_eval, learning_rates, keep_training_booster, callbacks)\u001b[0m\n\u001b[0;32m    247\u001b[0m                                     evaluation_result_list=None))\n\u001b[0;32m    248\u001b[0m \u001b[1;33m\u001b[0m\u001b[0m\n\u001b[1;32m--> 249\u001b[1;33m         \u001b[0mbooster\u001b[0m\u001b[1;33m.\u001b[0m\u001b[0mupdate\u001b[0m\u001b[1;33m(\u001b[0m\u001b[0mfobj\u001b[0m\u001b[1;33m=\u001b[0m\u001b[0mfobj\u001b[0m\u001b[1;33m)\u001b[0m\u001b[1;33m\u001b[0m\u001b[1;33m\u001b[0m\u001b[0m\n\u001b[0m\u001b[0;32m    250\u001b[0m \u001b[1;33m\u001b[0m\u001b[0m\n\u001b[0;32m    251\u001b[0m         \u001b[0mevaluation_result_list\u001b[0m \u001b[1;33m=\u001b[0m \u001b[1;33m[\u001b[0m\u001b[1;33m]\u001b[0m\u001b[1;33m\u001b[0m\u001b[1;33m\u001b[0m\u001b[0m\n",
      "\u001b[1;32mG:\\Anaconda3\\lib\\site-packages\\lightgbm\\basic.py\u001b[0m in \u001b[0;36mupdate\u001b[1;34m(self, train_set, fobj)\u001b[0m\n\u001b[0;32m   1974\u001b[0m             _safe_call(_LIB.LGBM_BoosterUpdateOneIter(\n\u001b[0;32m   1975\u001b[0m                 \u001b[0mself\u001b[0m\u001b[1;33m.\u001b[0m\u001b[0mhandle\u001b[0m\u001b[1;33m,\u001b[0m\u001b[1;33m\u001b[0m\u001b[1;33m\u001b[0m\u001b[0m\n\u001b[1;32m-> 1976\u001b[1;33m                 ctypes.byref(is_finished)))\n\u001b[0m\u001b[0;32m   1977\u001b[0m             \u001b[0mself\u001b[0m\u001b[1;33m.\u001b[0m\u001b[0m__is_predicted_cur_iter\u001b[0m \u001b[1;33m=\u001b[0m \u001b[1;33m[\u001b[0m\u001b[1;32mFalse\u001b[0m \u001b[1;32mfor\u001b[0m \u001b[0m_\u001b[0m \u001b[1;32min\u001b[0m \u001b[0mrange_\u001b[0m\u001b[1;33m(\u001b[0m\u001b[0mself\u001b[0m\u001b[1;33m.\u001b[0m\u001b[0m__num_dataset\u001b[0m\u001b[1;33m)\u001b[0m\u001b[1;33m]\u001b[0m\u001b[1;33m\u001b[0m\u001b[1;33m\u001b[0m\u001b[0m\n\u001b[0;32m   1978\u001b[0m             \u001b[1;32mreturn\u001b[0m \u001b[0mis_finished\u001b[0m\u001b[1;33m.\u001b[0m\u001b[0mvalue\u001b[0m \u001b[1;33m==\u001b[0m \u001b[1;36m1\u001b[0m\u001b[1;33m\u001b[0m\u001b[1;33m\u001b[0m\u001b[0m\n",
      "\u001b[1;31mKeyboardInterrupt\u001b[0m: "
     ]
    }
   ],
   "source": [
    "evaluation_results = {}\n",
    "lgmb_model = lgb.train(params, train_ds,num_boost_round= 3000, \n",
    "                       valid_sets = [train_ds,test_ds], valid_names=['Train', 'Test'],\n",
    "                       evals_result=evaluation_results,\n",
    "                       verbose_eval=50, early_stopping_rounds=100,\n",
    "                      learning_rates=lambda iter: 0.005 * (0.9999 ** iter)\n",
    "                      )"
   ]
  },
  {
   "cell_type": "code",
   "execution_count": null,
   "metadata": {
    "ExecuteTime": {
     "end_time": "2020-02-25T03:34:57.351800Z",
     "start_time": "2020-02-25T03:20:01.443Z"
    }
   },
   "outputs": [],
   "source": [
    "fig, axs = plt.subplots(1, 2, figsize=[15, 4])\n",
    "\n",
    "# Plot the log loss during training\n",
    "axs[0].plot(evaluation_results['Train']['multi_logloss'], label='Train')\n",
    "axs[0].plot(evaluation_results['Test']['multi_logloss'], label='Test')\n",
    "axs[0].set_ylabel('Log loss')\n",
    "axs[0].set_xlabel('Boosting round')\n",
    "axs[0].set_title('Training performance')\n",
    "axs[0].legend()\n",
    "\n",
    "# Plot feature importance\n",
    "importances = pd.DataFrame({'features': lgmb_model.feature_name(), \n",
    "                            'importance': lgmb_model.feature_importance()}).sort_values('importance', ascending=False).head(10)\n",
    "axs[1].bar(x=np.arange(len(importances)), height=importances['importance'])\n",
    "axs[1].set_xticks(np.arange(len(importances)))\n",
    "axs[1].set_xticklabels(importances['features'])\n",
    "axs[1].set_ylabel('Feature importance (# times used to split)')\n",
    "axs[1].set_title('Feature importance')\n",
    "plt.xticks(rotation=45)\n",
    "\n",
    "plt.show()"
   ]
  },
  {
   "cell_type": "code",
   "execution_count": null,
   "metadata": {
    "ExecuteTime": {
     "end_time": "2020-02-25T03:34:57.353800Z",
     "start_time": "2020-02-25T03:20:01.623Z"
    }
   },
   "outputs": [],
   "source": [
    "train_y_pred = lgmb_model.predict(X_test)\n",
    "real_y_pred = lgmb_model.predict(test_X)"
   ]
  },
  {
   "cell_type": "code",
   "execution_count": null,
   "metadata": {
    "ExecuteTime": {
     "end_time": "2020-02-25T03:34:57.355800Z",
     "start_time": "2020-02-25T03:20:01.851Z"
    },
    "scrolled": true
   },
   "outputs": [],
   "source": [
    "#log_loss\n",
    "log_loss(y_test,train_y_pred,labels= list(set(y_test)))"
   ]
  },
  {
   "cell_type": "code",
   "execution_count": null,
   "metadata": {
    "ExecuteTime": {
     "end_time": "2020-02-25T03:34:57.357800Z",
     "start_time": "2020-02-25T03:20:02.419Z"
    },
    "scrolled": false
   },
   "outputs": [],
   "source": [
    "feature_df = pd.DataFrame(lgmb_model.feature_importance(), index= train_X.columns,columns= ['importance']).sort_values('importance',ascending = False)\n",
    "feature_df.head(10)"
   ]
  },
  {
   "cell_type": "code",
   "execution_count": null,
   "metadata": {
    "ExecuteTime": {
     "end_time": "2020-02-25T03:19:56.739800Z",
     "start_time": "2020-02-25T03:19:52.924Z"
    }
   },
   "outputs": [],
   "source": [
    "submission = pd.DataFrame(data=real_y_pred, columns=sample_submission_df.columns, index=sample_submission_df.index)\n",
    "submission.to_csv(f'submission_lightbgm_gbdt_tune_outlier_add_only({log_loss(y_test,train_y_pred,labels= list(set(y_test)))}).csv', index=True)"
   ]
  },
  {
   "cell_type": "markdown",
   "metadata": {},
   "source": [
    "## Gridsearch_cv"
   ]
  },
  {
   "cell_type": "code",
   "execution_count": null,
   "metadata": {
    "ExecuteTime": {
     "end_time": "2020-02-18T19:51:37.413000Z",
     "start_time": "2020-02-18T19:51:19.033Z"
    }
   },
   "outputs": [],
   "source": [
    "# from sklearn.feature_selection import SelectKBest\n",
    "# model_kbest = SelectKBest()\n",
    "# from sklearn.pipeline import Pipeline"
   ]
  },
  {
   "cell_type": "code",
   "execution_count": null,
   "metadata": {
    "ExecuteTime": {
     "end_time": "2020-02-18T19:51:37.414000Z",
     "start_time": "2020-02-18T19:51:19.034Z"
    }
   },
   "outputs": [],
   "source": [
    "# #최적의 변수를 찾기 위한 KBest 함수 불러오기\n",
    "# #파이프라인 구축\n",
    "# pipe_lgbm = Pipeline([('lgbm',lgbm_c)])\n",
    "# #파라미터 생성\n",
    "# params_lgbm = {\n",
    "#           \"lgbm__max_depth\": [15,20,25],\n",
    "#          \"lgbm__learning_rate\": [0.001],\n",
    "#          \"lgbm__num_leaves\": [15,20,25],\n",
    "#          \"lgbm__n_estimators\": [200,300,400,500],\n",
    "#          \"lgbm__random_state\": [42]}"
   ]
  },
  {
   "cell_type": "code",
   "execution_count": null,
   "metadata": {
    "ExecuteTime": {
     "end_time": "2020-02-18T19:51:37.415000Z",
     "start_time": "2020-02-18T19:51:19.036Z"
    }
   },
   "outputs": [],
   "source": [
    "# #최적의 파라미터 탐색\n",
    "# from sklearn.model_selection import GridSearchCV\n",
    "# grid_search = GridSearchCV(pipe_lgbm, param_grid = params_lgbm,\n",
    "# #                           cv=3, n_jobs=-1, verbose=10)"
   ]
  },
  {
   "cell_type": "code",
   "execution_count": null,
   "metadata": {
    "ExecuteTime": {
     "end_time": "2020-02-18T19:51:37.416000Z",
     "start_time": "2020-02-18T19:51:19.038Z"
    }
   },
   "outputs": [],
   "source": [
    "# grid_search.fit(X_train, y_train)"
   ]
  },
  {
   "cell_type": "code",
   "execution_count": null,
   "metadata": {
    "ExecuteTime": {
     "end_time": "2020-02-18T19:51:37.417000Z",
     "start_time": "2020-02-18T19:51:19.040Z"
    }
   },
   "outputs": [],
   "source": [
    "# lgbm_grid = grid_search.best_estimator_\n",
    "# lgbm_grid"
   ]
  },
  {
   "cell_type": "code",
   "execution_count": null,
   "metadata": {},
   "outputs": [],
   "source": []
  }
 ],
 "metadata": {
  "kernelspec": {
   "display_name": "Python 3",
   "language": "python",
   "name": "python3"
  },
  "language_info": {
   "codemirror_mode": {
    "name": "ipython",
    "version": 3
   },
   "file_extension": ".py",
   "mimetype": "text/x-python",
   "name": "python",
   "nbconvert_exporter": "python",
   "pygments_lexer": "ipython3",
   "version": "3.6.9"
  },
  "varInspector": {
   "cols": {
    "lenName": 16,
    "lenType": 16,
    "lenVar": 40
   },
   "kernels_config": {
    "python": {
     "delete_cmd_postfix": "",
     "delete_cmd_prefix": "del ",
     "library": "var_list.py",
     "varRefreshCmd": "print(var_dic_list())"
    },
    "r": {
     "delete_cmd_postfix": ") ",
     "delete_cmd_prefix": "rm(",
     "library": "var_list.r",
     "varRefreshCmd": "cat(var_dic_list()) "
    }
   },
   "types_to_exclude": [
    "module",
    "function",
    "builtin_function_or_method",
    "instance",
    "_Feature"
   ],
   "window_display": false
  }
 },
 "nbformat": 4,
 "nbformat_minor": 2
}
