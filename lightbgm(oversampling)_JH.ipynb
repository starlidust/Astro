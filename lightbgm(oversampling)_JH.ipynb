{
 "cells": [
  {
   "cell_type": "markdown",
   "metadata": {},
   "source": [
    "# oversampling\n",
    "* 기존변수 + u-g,g-r,r-i,i-z만 추가변수로 사용\n",
    "* fiber_ID를 제외하고 진행해봄\n",
    "* 제출결과 : 0.486204666(lr=0.05)/0.4869218777(lr=0.01)\n",
    "-> oversample 모양은 이쁘나 생각보다별로 "
   ]
  },
  {
   "cell_type": "code",
   "execution_count": 1,
   "metadata": {
    "ExecuteTime": {
     "end_time": "2020-02-19T09:16:54.964821Z",
     "start_time": "2020-02-19T09:16:53.207876Z"
    }
   },
   "outputs": [],
   "source": [
    "import pandas as pd\n",
    "import numpy as np\n",
    "import matplotlib.pyplot as plt\n",
    "import seaborn as sns\n",
    "\n",
    "from sklearn.ensemble import RandomForestClassifier\n",
    "from sklearn.model_selection import train_test_split\n",
    "from sklearn.metrics import confusion_matrix\n",
    "from sklearn.metrics import log_loss\n",
    "import lightgbm as lgb"
   ]
  },
  {
   "cell_type": "code",
   "execution_count": 2,
   "metadata": {
    "ExecuteTime": {
     "end_time": "2020-02-19T09:16:54.969822Z",
     "start_time": "2020-02-19T09:16:54.965822Z"
    }
   },
   "outputs": [],
   "source": [
    "# from google.colab import drive\n",
    "# drive.mount('/content/drive')"
   ]
  },
  {
   "cell_type": "code",
   "execution_count": 3,
   "metadata": {
    "ExecuteTime": {
     "end_time": "2020-02-19T09:16:54.999821Z",
     "start_time": "2020-02-19T09:16:54.970823Z"
    }
   },
   "outputs": [],
   "source": [
    "# #colab용\n",
    "# import os\n",
    "# os.chdir('/content/drive/My Drive/Colab Notebooks/Dacon/천체관측/')"
   ]
  },
  {
   "cell_type": "code",
   "execution_count": 40,
   "metadata": {
    "ExecuteTime": {
     "end_time": "2020-02-19T13:32:46.387512Z",
     "start_time": "2020-02-19T13:32:44.205579Z"
    }
   },
   "outputs": [],
   "source": [
    "# path = \"/content/drive/My Drive/Colab Notebooks/Dacon/천체관측/data/\" #colab\n",
    "path = \"./data/\" #local\n",
    "train_df = pd.read_csv(path+'train.csv',index_col=0)\n",
    "test_df = pd.read_csv(path+'test.csv',index_col=0)\n",
    "sample_submission_df = pd.read_csv(path+'sample_submission.csv',index_col=0)\n",
    "pd.options.display.max_columns = 30"
   ]
  },
  {
   "cell_type": "code",
   "execution_count": 42,
   "metadata": {
    "ExecuteTime": {
     "end_time": "2020-02-19T14:24:50.403389Z",
     "start_time": "2020-02-19T14:24:50.381385Z"
    }
   },
   "outputs": [
    {
     "data": {
      "text/plain": [
       "array(['QSO', 'STAR_RED_DWARF', 'SERENDIPITY_BLUE', 'STAR_BHB',\n",
       "       'STAR_CATY_VAR', 'SERENDIPITY_DISTANT', 'GALAXY',\n",
       "       'SPECTROPHOTO_STD', 'REDDEN_STD', 'ROSAT_D', 'STAR_WHITE_DWARF',\n",
       "       'SERENDIPITY_RED', 'STAR_CARBON', 'SERENDIPITY_FIRST',\n",
       "       'STAR_BROWN_DWARF', 'STAR_SUB_DWARF', 'SKY', 'SERENDIPITY_MANUAL',\n",
       "       'STAR_PN'], dtype=object)"
      ]
     },
     "execution_count": 42,
     "metadata": {},
     "output_type": "execute_result"
    }
   ],
   "source": [
    "train_df.type.unique()"
   ]
  },
  {
   "cell_type": "code",
   "execution_count": 41,
   "metadata": {
    "ExecuteTime": {
     "end_time": "2020-02-19T13:32:55.281365Z",
     "start_time": "2020-02-19T13:32:55.230347Z"
    }
   },
   "outputs": [
    {
     "data": {
      "text/plain": [
       "QSO                    49680\n",
       "GALAXY                 37347\n",
       "SERENDIPITY_BLUE       21760\n",
       "SPECTROPHOTO_STD       14630\n",
       "REDDEN_STD             14618\n",
       "STAR_RED_DWARF         13750\n",
       "STAR_BHB               13500\n",
       "SERENDIPITY_FIRST       7132\n",
       "ROSAT_D                 6580\n",
       "STAR_CATY_VAR           6506\n",
       "SERENDIPITY_DISTANT     4654\n",
       "STAR_CARBON             3257\n",
       "SERENDIPITY_RED         2562\n",
       "STAR_WHITE_DWARF        2160\n",
       "STAR_SUB_DWARF          1154\n",
       "STAR_BROWN_DWARF         500\n",
       "SKY                      127\n",
       "SERENDIPITY_MANUAL        61\n",
       "STAR_PN                   13\n",
       "Name: type, dtype: int64"
      ]
     },
     "execution_count": 41,
     "metadata": {},
     "output_type": "execute_result"
    }
   ],
   "source": [
    "train_df.type.value_counts()"
   ]
  },
  {
   "cell_type": "markdown",
   "metadata": {},
   "source": [
    "### oversampling"
   ]
  },
  {
   "cell_type": "code",
   "execution_count": 49,
   "metadata": {
    "ExecuteTime": {
     "end_time": "2020-02-19T14:58:16.025251Z",
     "start_time": "2020-02-19T14:58:16.022250Z"
    }
   },
   "outputs": [],
   "source": [
    "import imblearn"
   ]
  },
  {
   "cell_type": "code",
   "execution_count": 47,
   "metadata": {
    "ExecuteTime": {
     "end_time": "2020-02-19T14:55:52.942005Z",
     "start_time": "2020-02-19T14:55:52.939007Z"
    }
   },
   "outputs": [
    {
     "data": {
      "text/plain": [
       "'0.6.2'"
      ]
     },
     "execution_count": 47,
     "metadata": {},
     "output_type": "execute_result"
    }
   ],
   "source": [
    "imblearn.__version__"
   ]
  },
  {
   "cell_type": "code",
   "execution_count": null,
   "metadata": {
    "ExecuteTime": {
     "end_time": "2020-02-19T14:58:29.670832Z",
     "start_time": "2020-02-19T14:58:26.092Z"
    }
   },
   "outputs": [],
   "source": [
    "imblearn.over_sampling.SMOTE()"
   ]
  },
  {
   "cell_type": "code",
   "execution_count": 5,
   "metadata": {
    "ExecuteTime": {
     "end_time": "2020-02-19T09:17:00.403656Z",
     "start_time": "2020-02-19T09:16:56.734768Z"
    },
    "scrolled": true
   },
   "outputs": [
    {
     "name": "stderr",
     "output_type": "stream",
     "text": [
      "Using TensorFlow backend.\n",
      "C:\\Users\\starl\\Anaconda3\\lib\\site-packages\\tensorflow\\python\\framework\\dtypes.py:493: FutureWarning: Passing (type, 1) or '1type' as a synonym of type is deprecated; in a future version of numpy, it will be understood as (type, (1,)) / '(1,)type'.\n",
      "  _np_qint8 = np.dtype([(\"qint8\", np.int8, 1)])\n",
      "C:\\Users\\starl\\Anaconda3\\lib\\site-packages\\tensorflow\\python\\framework\\dtypes.py:494: FutureWarning: Passing (type, 1) or '1type' as a synonym of type is deprecated; in a future version of numpy, it will be understood as (type, (1,)) / '(1,)type'.\n",
      "  _np_quint8 = np.dtype([(\"quint8\", np.uint8, 1)])\n",
      "C:\\Users\\starl\\Anaconda3\\lib\\site-packages\\tensorflow\\python\\framework\\dtypes.py:495: FutureWarning: Passing (type, 1) or '1type' as a synonym of type is deprecated; in a future version of numpy, it will be understood as (type, (1,)) / '(1,)type'.\n",
      "  _np_qint16 = np.dtype([(\"qint16\", np.int16, 1)])\n",
      "C:\\Users\\starl\\Anaconda3\\lib\\site-packages\\tensorflow\\python\\framework\\dtypes.py:496: FutureWarning: Passing (type, 1) or '1type' as a synonym of type is deprecated; in a future version of numpy, it will be understood as (type, (1,)) / '(1,)type'.\n",
      "  _np_quint16 = np.dtype([(\"quint16\", np.uint16, 1)])\n",
      "C:\\Users\\starl\\Anaconda3\\lib\\site-packages\\tensorflow\\python\\framework\\dtypes.py:497: FutureWarning: Passing (type, 1) or '1type' as a synonym of type is deprecated; in a future version of numpy, it will be understood as (type, (1,)) / '(1,)type'.\n",
      "  _np_qint32 = np.dtype([(\"qint32\", np.int32, 1)])\n",
      "C:\\Users\\starl\\Anaconda3\\lib\\site-packages\\tensorflow\\python\\framework\\dtypes.py:502: FutureWarning: Passing (type, 1) or '1type' as a synonym of type is deprecated; in a future version of numpy, it will be understood as (type, (1,)) / '(1,)type'.\n",
      "  np_resource = np.dtype([(\"resource\", np.ubyte, 1)])\n"
     ]
    },
    {
     "data": {
      "text/plain": [
       "(199991, 22)"
      ]
     },
     "execution_count": 5,
     "metadata": {},
     "output_type": "execute_result"
    }
   ],
   "source": [
    "from imblearn.over_sampling import SMOTE\n",
    "\n",
    "sm = SMOTE(random_state=42)\n",
    "\n",
    "y = train_df.type\n",
    "X = train_df.drop('type',axis = 1)\n",
    "\n",
    "train_df.shape"
   ]
  },
  {
   "cell_type": "code",
   "execution_count": 6,
   "metadata": {
    "ExecuteTime": {
     "end_time": "2020-02-19T09:17:13.807245Z",
     "start_time": "2020-02-19T09:17:00.405656Z"
    }
   },
   "outputs": [],
   "source": [
    "resample_X, resample_y = sm.fit_resample(X,y)"
   ]
  },
  {
   "cell_type": "code",
   "execution_count": 7,
   "metadata": {
    "ExecuteTime": {
     "end_time": "2020-02-19T09:17:13.815245Z",
     "start_time": "2020-02-19T09:17:13.809246Z"
    }
   },
   "outputs": [
    {
     "data": {
      "text/plain": [
       "(943920, 21)"
      ]
     },
     "execution_count": 7,
     "metadata": {},
     "output_type": "execute_result"
    }
   ],
   "source": [
    "resample_X.shape"
   ]
  },
  {
   "cell_type": "code",
   "execution_count": 8,
   "metadata": {
    "ExecuteTime": {
     "end_time": "2020-02-19T09:17:14.191233Z",
     "start_time": "2020-02-19T09:17:13.818245Z"
    }
   },
   "outputs": [],
   "source": [
    "new_train = pd.concat([resample_X,resample_y],axis = 1)\n",
    "new_train = new_train[train_df.columns]"
   ]
  },
  {
   "cell_type": "markdown",
   "metadata": {},
   "source": [
    "## DATA Setting"
   ]
  },
  {
   "cell_type": "code",
   "execution_count": 9,
   "metadata": {
    "ExecuteTime": {
     "end_time": "2020-02-19T09:17:14.782215Z",
     "start_time": "2020-02-19T09:17:14.193233Z"
    }
   },
   "outputs": [],
   "source": [
    "column_number = {}\n",
    "number_columns = {}\n",
    "for i, column in enumerate(sample_submission_df.columns):\n",
    "    column_number[column] = i\n",
    "    number_columns[i] = column\n",
    "    \n",
    "    \n",
    "def to_number(x, dic):\n",
    "    return dic[x]\n",
    "\n",
    "new_train['type_num'] = new_train['type'].apply(lambda x: to_number(x, column_number))\n"
   ]
  },
  {
   "cell_type": "code",
   "execution_count": 10,
   "metadata": {
    "ExecuteTime": {
     "end_time": "2020-02-19T09:17:14.789215Z",
     "start_time": "2020-02-19T09:17:14.783215Z"
    }
   },
   "outputs": [],
   "source": [
    "def add_minus_feature_all(data,test = False):\n",
    "    '''\n",
    "    combination으로 모든 변수들의 조합에 대해서 컬럼생성 \n",
    "    각 mag에서 가장 높은값의 filter를 받아오는 \"~~mag_MAX\"생성\n",
    "    결과 64개로 증가\n",
    "    '''\n",
    "    from itertools import combinations\n",
    "    n = 0\n",
    "    for count in range(5,21,5):\n",
    "        s = 2\n",
    "        if test == True :\n",
    "            s = 1\n",
    "        selected = data.columns[s:].values[n:count]\n",
    "        mag = str.split(selected[0],'_')[0]\n",
    "#         data[mag+\"_MAX\"] = data[selected].apply(lambda x : str.split(np.argmax(x),'_')[1],axis = 1)\n",
    "        for combi in list(combinations(selected,2)):\n",
    "            name_1st = str.split(combi[0],'_')[1]\n",
    "            name_2nd = str.split(combi[1],'_')[1]\n",
    "            data[mag+\"_\"+name_1st+\"-\"+name_2nd] = data[combi[0]]-data[combi[1]]\n",
    "        n=count\n",
    "    return data"
   ]
  },
  {
   "cell_type": "code",
   "execution_count": 11,
   "metadata": {
    "ExecuteTime": {
     "end_time": "2020-02-19T09:17:14.826214Z",
     "start_time": "2020-02-19T09:17:14.792216Z"
    }
   },
   "outputs": [],
   "source": [
    "def add_minus_feature(data,test = False):\n",
    "    '''\n",
    "    근접변수에 대해서만 컬럼생성 ex) 'fiberMag_u-g', 'fiberMag_g-r', 'fiberMag_r-i', 'fiberMag_i-z'\n",
    "    각 mag에서 가장 높은값의 filter를 받아오는 \"~~mag_MAX\"생성\n",
    "    결과 38개로 증가 \n",
    "    '''\n",
    "    from itertools import combinations\n",
    "    n = 0\n",
    "    m = 0\n",
    "    for count in range(5,21,5):\n",
    "        s = 2\n",
    "        if test == True :\n",
    "            s = 1\n",
    "        selected = data.columns[s:].values[n:count]\n",
    "        mag = str.split(selected[0],'_')[0]\n",
    "#         data[mag+\"_MAX\"] = data[selected].apply(lambda x : str.split(np.argmax(x),'_')[1],axis = 1)\n",
    "        for i in range(0,len(selected)):        \n",
    "            if i>0: \n",
    "                name_1st = str.split(m,'_')[1]\n",
    "                name_2nd = str.split(selected[i],'_')[1]\n",
    "                data[mag+\"_\"+name_1st+\"-\"+name_2nd] = data[m]-data[selected[i]]\n",
    "            m = selected[i]    \n",
    "        n=count\n",
    "    return data"
   ]
  },
  {
   "cell_type": "code",
   "execution_count": 12,
   "metadata": {
    "ExecuteTime": {
     "end_time": "2020-02-19T09:17:15.434195Z",
     "start_time": "2020-02-19T09:17:14.827214Z"
    }
   },
   "outputs": [],
   "source": [
    "train_df = add_minus_feature_all(new_train)\n",
    "test_df = add_minus_feature_all(test_df,True)"
   ]
  },
  {
   "cell_type": "code",
   "execution_count": 13,
   "metadata": {
    "ExecuteTime": {
     "end_time": "2020-02-19T09:17:15.439196Z",
     "start_time": "2020-02-19T09:17:15.435195Z"
    }
   },
   "outputs": [
    {
     "data": {
      "text/plain": [
       "((943920, 63), (10009, 61))"
      ]
     },
     "execution_count": 13,
     "metadata": {},
     "output_type": "execute_result"
    }
   ],
   "source": [
    "train_df.shape,test_df.shape"
   ]
  },
  {
   "cell_type": "code",
   "execution_count": 14,
   "metadata": {
    "ExecuteTime": {
     "end_time": "2020-02-19T09:17:15.471194Z",
     "start_time": "2020-02-19T09:17:15.442206Z"
    }
   },
   "outputs": [
    {
     "data": {
      "text/plain": [
       "Index(['type', 'fiberID', 'psfMag_u', 'psfMag_g', 'psfMag_r', 'psfMag_i',\n",
       "       'psfMag_z', 'fiberMag_u', 'fiberMag_g', 'fiberMag_r', 'fiberMag_i',\n",
       "       'fiberMag_z', 'petroMag_u', 'petroMag_g', 'petroMag_r', 'petroMag_i',\n",
       "       'petroMag_z', 'modelMag_u', 'modelMag_g', 'modelMag_r', 'modelMag_i',\n",
       "       'modelMag_z', 'type_num', 'psfMag_u-g', 'psfMag_u-r', 'psfMag_u-i',\n",
       "       'psfMag_u-z', 'psfMag_g-r', 'psfMag_g-i', 'psfMag_g-z', 'psfMag_r-i',\n",
       "       'psfMag_r-z', 'psfMag_i-z', 'fiberMag_u-g', 'fiberMag_u-r',\n",
       "       'fiberMag_u-i', 'fiberMag_u-z', 'fiberMag_g-r', 'fiberMag_g-i',\n",
       "       'fiberMag_g-z', 'fiberMag_r-i', 'fiberMag_r-z', 'fiberMag_i-z',\n",
       "       'petroMag_u-g', 'petroMag_u-r', 'petroMag_u-i', 'petroMag_u-z',\n",
       "       'petroMag_g-r', 'petroMag_g-i', 'petroMag_g-z', 'petroMag_r-i',\n",
       "       'petroMag_r-z', 'petroMag_i-z', 'modelMag_u-g', 'modelMag_u-r',\n",
       "       'modelMag_u-i', 'modelMag_u-z', 'modelMag_g-r', 'modelMag_g-i',\n",
       "       'modelMag_g-z', 'modelMag_r-i', 'modelMag_r-z', 'modelMag_i-z'],\n",
       "      dtype='object')"
      ]
     },
     "execution_count": 14,
     "metadata": {},
     "output_type": "execute_result"
    }
   ],
   "source": [
    "train_df.columns"
   ]
  },
  {
   "cell_type": "code",
   "execution_count": 45,
   "metadata": {
    "ExecuteTime": {
     "end_time": "2020-02-19T14:40:15.836954Z",
     "start_time": "2020-02-19T14:40:15.262972Z"
    }
   },
   "outputs": [
    {
     "data": {
      "text/html": [
       "<div>\n",
       "<style scoped>\n",
       "    .dataframe tbody tr th:only-of-type {\n",
       "        vertical-align: middle;\n",
       "    }\n",
       "\n",
       "    .dataframe tbody tr th {\n",
       "        vertical-align: top;\n",
       "    }\n",
       "\n",
       "    .dataframe thead th {\n",
       "        text-align: right;\n",
       "    }\n",
       "</style>\n",
       "<table border=\"1\" class=\"dataframe\">\n",
       "  <thead>\n",
       "    <tr style=\"text-align: right;\">\n",
       "      <th></th>\n",
       "      <th>fiberID</th>\n",
       "      <th>psfMag_u</th>\n",
       "      <th>psfMag_g</th>\n",
       "      <th>psfMag_r</th>\n",
       "      <th>psfMag_i</th>\n",
       "      <th>psfMag_z</th>\n",
       "      <th>fiberMag_u</th>\n",
       "      <th>fiberMag_g</th>\n",
       "      <th>fiberMag_r</th>\n",
       "      <th>fiberMag_i</th>\n",
       "      <th>fiberMag_z</th>\n",
       "      <th>petroMag_u</th>\n",
       "      <th>petroMag_g</th>\n",
       "      <th>petroMag_r</th>\n",
       "      <th>petroMag_i</th>\n",
       "      <th>petroMag_z</th>\n",
       "      <th>modelMag_u</th>\n",
       "      <th>modelMag_g</th>\n",
       "      <th>modelMag_r</th>\n",
       "      <th>modelMag_i</th>\n",
       "      <th>modelMag_z</th>\n",
       "    </tr>\n",
       "  </thead>\n",
       "  <tbody>\n",
       "    <tr>\n",
       "      <th>count</th>\n",
       "      <td>199991.000000</td>\n",
       "      <td>1.999910e+05</td>\n",
       "      <td>199991.000000</td>\n",
       "      <td>199991.000000</td>\n",
       "      <td>199991.000000</td>\n",
       "      <td>199991.000000</td>\n",
       "      <td>1.999910e+05</td>\n",
       "      <td>199991.000000</td>\n",
       "      <td>199991.000000</td>\n",
       "      <td>199991.000000</td>\n",
       "      <td>199991.000000</td>\n",
       "      <td>199991.000000</td>\n",
       "      <td>199991.000000</td>\n",
       "      <td>199991.000000</td>\n",
       "      <td>199991.000000</td>\n",
       "      <td>199991.000000</td>\n",
       "      <td>199991.000000</td>\n",
       "      <td>199991.000000</td>\n",
       "      <td>199991.000000</td>\n",
       "      <td>199991.000000</td>\n",
       "      <td>199991.000000</td>\n",
       "    </tr>\n",
       "    <tr>\n",
       "      <th>mean</th>\n",
       "      <td>360.830152</td>\n",
       "      <td>-6.750146e+00</td>\n",
       "      <td>18.675373</td>\n",
       "      <td>18.401235</td>\n",
       "      <td>18.043495</td>\n",
       "      <td>17.663526</td>\n",
       "      <td>1.084986e+01</td>\n",
       "      <td>19.072693</td>\n",
       "      <td>19.134483</td>\n",
       "      <td>18.183331</td>\n",
       "      <td>18.000882</td>\n",
       "      <td>21.837903</td>\n",
       "      <td>18.454136</td>\n",
       "      <td>18.481525</td>\n",
       "      <td>17.686617</td>\n",
       "      <td>17.699207</td>\n",
       "      <td>20.110991</td>\n",
       "      <td>18.544375</td>\n",
       "      <td>18.181544</td>\n",
       "      <td>17.692395</td>\n",
       "      <td>17.189281</td>\n",
       "    </tr>\n",
       "    <tr>\n",
       "      <th>std</th>\n",
       "      <td>225.305890</td>\n",
       "      <td>1.187678e+04</td>\n",
       "      <td>155.423024</td>\n",
       "      <td>127.128078</td>\n",
       "      <td>116.622194</td>\n",
       "      <td>123.735298</td>\n",
       "      <td>4.172116e+03</td>\n",
       "      <td>749.256162</td>\n",
       "      <td>90.049058</td>\n",
       "      <td>122.378972</td>\n",
       "      <td>145.862346</td>\n",
       "      <td>789.472333</td>\n",
       "      <td>154.376277</td>\n",
       "      <td>97.240448</td>\n",
       "      <td>145.730872</td>\n",
       "      <td>142.691880</td>\n",
       "      <td>122.299062</td>\n",
       "      <td>161.728183</td>\n",
       "      <td>133.984475</td>\n",
       "      <td>131.183416</td>\n",
       "      <td>133.685138</td>\n",
       "    </tr>\n",
       "    <tr>\n",
       "      <th>min</th>\n",
       "      <td>1.000000</td>\n",
       "      <td>-5.310802e+06</td>\n",
       "      <td>-40022.466071</td>\n",
       "      <td>-27184.795793</td>\n",
       "      <td>-26566.310827</td>\n",
       "      <td>-24878.828280</td>\n",
       "      <td>-1.864766e+06</td>\n",
       "      <td>-215882.917191</td>\n",
       "      <td>-21802.656144</td>\n",
       "      <td>-20208.516262</td>\n",
       "      <td>-26505.602101</td>\n",
       "      <td>-24463.431833</td>\n",
       "      <td>-25958.752324</td>\n",
       "      <td>-23948.588523</td>\n",
       "      <td>-40438.184078</td>\n",
       "      <td>-30070.729379</td>\n",
       "      <td>-26236.578659</td>\n",
       "      <td>-36902.402336</td>\n",
       "      <td>-36439.638493</td>\n",
       "      <td>-38969.416822</td>\n",
       "      <td>-26050.710196</td>\n",
       "    </tr>\n",
       "    <tr>\n",
       "      <th>25%</th>\n",
       "      <td>174.000000</td>\n",
       "      <td>1.965259e+01</td>\n",
       "      <td>18.701180</td>\n",
       "      <td>18.048572</td>\n",
       "      <td>17.747663</td>\n",
       "      <td>17.425523</td>\n",
       "      <td>1.994040e+01</td>\n",
       "      <td>18.902851</td>\n",
       "      <td>18.259352</td>\n",
       "      <td>17.903615</td>\n",
       "      <td>17.606148</td>\n",
       "      <td>19.247795</td>\n",
       "      <td>18.113933</td>\n",
       "      <td>17.479794</td>\n",
       "      <td>17.050294</td>\n",
       "      <td>16.804705</td>\n",
       "      <td>19.266214</td>\n",
       "      <td>18.076120</td>\n",
       "      <td>17.423425</td>\n",
       "      <td>16.977671</td>\n",
       "      <td>16.705774</td>\n",
       "    </tr>\n",
       "    <tr>\n",
       "      <th>50%</th>\n",
       "      <td>349.000000</td>\n",
       "      <td>2.087136e+01</td>\n",
       "      <td>19.904235</td>\n",
       "      <td>19.454492</td>\n",
       "      <td>19.043895</td>\n",
       "      <td>18.611799</td>\n",
       "      <td>2.104910e+01</td>\n",
       "      <td>20.069038</td>\n",
       "      <td>19.631419</td>\n",
       "      <td>19.188763</td>\n",
       "      <td>18.710967</td>\n",
       "      <td>20.366848</td>\n",
       "      <td>19.586559</td>\n",
       "      <td>19.182789</td>\n",
       "      <td>18.693370</td>\n",
       "      <td>18.174592</td>\n",
       "      <td>20.406840</td>\n",
       "      <td>19.547674</td>\n",
       "      <td>19.143156</td>\n",
       "      <td>18.641756</td>\n",
       "      <td>18.100997</td>\n",
       "    </tr>\n",
       "    <tr>\n",
       "      <th>75%</th>\n",
       "      <td>526.000000</td>\n",
       "      <td>2.216043e+01</td>\n",
       "      <td>21.150297</td>\n",
       "      <td>20.515936</td>\n",
       "      <td>20.073528</td>\n",
       "      <td>19.883760</td>\n",
       "      <td>2.233754e+01</td>\n",
       "      <td>21.385830</td>\n",
       "      <td>20.773911</td>\n",
       "      <td>20.331419</td>\n",
       "      <td>20.133179</td>\n",
       "      <td>21.797480</td>\n",
       "      <td>21.004397</td>\n",
       "      <td>20.457491</td>\n",
       "      <td>20.019112</td>\n",
       "      <td>19.807652</td>\n",
       "      <td>21.992898</td>\n",
       "      <td>20.962386</td>\n",
       "      <td>20.408140</td>\n",
       "      <td>19.968846</td>\n",
       "      <td>19.819554</td>\n",
       "    </tr>\n",
       "    <tr>\n",
       "      <th>max</th>\n",
       "      <td>1000.000000</td>\n",
       "      <td>1.877392e+04</td>\n",
       "      <td>3538.984910</td>\n",
       "      <td>3048.110913</td>\n",
       "      <td>4835.218639</td>\n",
       "      <td>9823.740407</td>\n",
       "      <td>4.870154e+03</td>\n",
       "      <td>248077.513380</td>\n",
       "      <td>12084.735440</td>\n",
       "      <td>8059.638535</td>\n",
       "      <td>18358.921741</td>\n",
       "      <td>298771.019041</td>\n",
       "      <td>12139.815877</td>\n",
       "      <td>7003.136546</td>\n",
       "      <td>9772.190537</td>\n",
       "      <td>17403.789263</td>\n",
       "      <td>14488.251976</td>\n",
       "      <td>10582.058590</td>\n",
       "      <td>12237.951703</td>\n",
       "      <td>4062.499371</td>\n",
       "      <td>7420.534172</td>\n",
       "    </tr>\n",
       "  </tbody>\n",
       "</table>\n",
       "</div>"
      ],
      "text/plain": [
       "             fiberID      psfMag_u       psfMag_g       psfMag_r  \\\n",
       "count  199991.000000  1.999910e+05  199991.000000  199991.000000   \n",
       "mean      360.830152 -6.750146e+00      18.675373      18.401235   \n",
       "std       225.305890  1.187678e+04     155.423024     127.128078   \n",
       "min         1.000000 -5.310802e+06  -40022.466071  -27184.795793   \n",
       "25%       174.000000  1.965259e+01      18.701180      18.048572   \n",
       "50%       349.000000  2.087136e+01      19.904235      19.454492   \n",
       "75%       526.000000  2.216043e+01      21.150297      20.515936   \n",
       "max      1000.000000  1.877392e+04    3538.984910    3048.110913   \n",
       "\n",
       "            psfMag_i       psfMag_z    fiberMag_u     fiberMag_g  \\\n",
       "count  199991.000000  199991.000000  1.999910e+05  199991.000000   \n",
       "mean       18.043495      17.663526  1.084986e+01      19.072693   \n",
       "std       116.622194     123.735298  4.172116e+03     749.256162   \n",
       "min    -26566.310827  -24878.828280 -1.864766e+06 -215882.917191   \n",
       "25%        17.747663      17.425523  1.994040e+01      18.902851   \n",
       "50%        19.043895      18.611799  2.104910e+01      20.069038   \n",
       "75%        20.073528      19.883760  2.233754e+01      21.385830   \n",
       "max      4835.218639    9823.740407  4.870154e+03  248077.513380   \n",
       "\n",
       "          fiberMag_r     fiberMag_i     fiberMag_z     petroMag_u  \\\n",
       "count  199991.000000  199991.000000  199991.000000  199991.000000   \n",
       "mean       19.134483      18.183331      18.000882      21.837903   \n",
       "std        90.049058     122.378972     145.862346     789.472333   \n",
       "min    -21802.656144  -20208.516262  -26505.602101  -24463.431833   \n",
       "25%        18.259352      17.903615      17.606148      19.247795   \n",
       "50%        19.631419      19.188763      18.710967      20.366848   \n",
       "75%        20.773911      20.331419      20.133179      21.797480   \n",
       "max     12084.735440    8059.638535   18358.921741  298771.019041   \n",
       "\n",
       "          petroMag_g     petroMag_r     petroMag_i     petroMag_z  \\\n",
       "count  199991.000000  199991.000000  199991.000000  199991.000000   \n",
       "mean       18.454136      18.481525      17.686617      17.699207   \n",
       "std       154.376277      97.240448     145.730872     142.691880   \n",
       "min    -25958.752324  -23948.588523  -40438.184078  -30070.729379   \n",
       "25%        18.113933      17.479794      17.050294      16.804705   \n",
       "50%        19.586559      19.182789      18.693370      18.174592   \n",
       "75%        21.004397      20.457491      20.019112      19.807652   \n",
       "max     12139.815877    7003.136546    9772.190537   17403.789263   \n",
       "\n",
       "          modelMag_u     modelMag_g     modelMag_r     modelMag_i  \\\n",
       "count  199991.000000  199991.000000  199991.000000  199991.000000   \n",
       "mean       20.110991      18.544375      18.181544      17.692395   \n",
       "std       122.299062     161.728183     133.984475     131.183416   \n",
       "min    -26236.578659  -36902.402336  -36439.638493  -38969.416822   \n",
       "25%        19.266214      18.076120      17.423425      16.977671   \n",
       "50%        20.406840      19.547674      19.143156      18.641756   \n",
       "75%        21.992898      20.962386      20.408140      19.968846   \n",
       "max     14488.251976   10582.058590   12237.951703    4062.499371   \n",
       "\n",
       "          modelMag_z  \n",
       "count  199991.000000  \n",
       "mean       17.189281  \n",
       "std       133.685138  \n",
       "min    -26050.710196  \n",
       "25%        16.705774  \n",
       "50%        18.100997  \n",
       "75%        19.819554  \n",
       "max      7420.534172  "
      ]
     },
     "execution_count": 45,
     "metadata": {},
     "output_type": "execute_result"
    }
   ],
   "source": [
    "train_df.describe()"
   ]
  },
  {
   "cell_type": "code",
   "execution_count": 43,
   "metadata": {
    "ExecuteTime": {
     "end_time": "2020-02-19T14:39:41.026370Z",
     "start_time": "2020-02-19T14:39:34.262577Z"
    }
   },
   "outputs": [
    {
     "data": {
      "text/html": [
       "<div>\n",
       "<style scoped>\n",
       "    .dataframe tbody tr th:only-of-type {\n",
       "        vertical-align: middle;\n",
       "    }\n",
       "\n",
       "    .dataframe tbody tr th {\n",
       "        vertical-align: top;\n",
       "    }\n",
       "\n",
       "    .dataframe thead th {\n",
       "        text-align: right;\n",
       "    }\n",
       "</style>\n",
       "<table border=\"1\" class=\"dataframe\">\n",
       "  <thead>\n",
       "    <tr style=\"text-align: right;\">\n",
       "      <th></th>\n",
       "      <th>psfMag_u</th>\n",
       "      <th>psfMag_g</th>\n",
       "      <th>psfMag_r</th>\n",
       "      <th>psfMag_i</th>\n",
       "      <th>psfMag_z</th>\n",
       "      <th>fiberMag_u</th>\n",
       "      <th>fiberMag_g</th>\n",
       "      <th>fiberMag_r</th>\n",
       "      <th>fiberMag_i</th>\n",
       "      <th>fiberMag_z</th>\n",
       "      <th>petroMag_u</th>\n",
       "      <th>petroMag_g</th>\n",
       "      <th>petroMag_r</th>\n",
       "      <th>petroMag_i</th>\n",
       "      <th>petroMag_z</th>\n",
       "      <th>...</th>\n",
       "      <th>petroMag_g-i</th>\n",
       "      <th>petroMag_g-z</th>\n",
       "      <th>petroMag_r-i</th>\n",
       "      <th>petroMag_r-z</th>\n",
       "      <th>petroMag_i-z</th>\n",
       "      <th>modelMag_u-g</th>\n",
       "      <th>modelMag_u-r</th>\n",
       "      <th>modelMag_u-i</th>\n",
       "      <th>modelMag_u-z</th>\n",
       "      <th>modelMag_g-r</th>\n",
       "      <th>modelMag_g-i</th>\n",
       "      <th>modelMag_g-z</th>\n",
       "      <th>modelMag_r-i</th>\n",
       "      <th>modelMag_r-z</th>\n",
       "      <th>modelMag_i-z</th>\n",
       "    </tr>\n",
       "  </thead>\n",
       "  <tbody>\n",
       "    <tr>\n",
       "      <th>count</th>\n",
       "      <td>9.439200e+05</td>\n",
       "      <td>943920.000000</td>\n",
       "      <td>943920.000000</td>\n",
       "      <td>943920.000000</td>\n",
       "      <td>943920.000000</td>\n",
       "      <td>9.439200e+05</td>\n",
       "      <td>943920.000000</td>\n",
       "      <td>943920.000000</td>\n",
       "      <td>943920.000000</td>\n",
       "      <td>943920.000000</td>\n",
       "      <td>943920.000000</td>\n",
       "      <td>943920.000000</td>\n",
       "      <td>943920.000000</td>\n",
       "      <td>943920.000000</td>\n",
       "      <td>943920.000000</td>\n",
       "      <td>...</td>\n",
       "      <td>943920.000000</td>\n",
       "      <td>943920.000000</td>\n",
       "      <td>943920.000000</td>\n",
       "      <td>943920.000000</td>\n",
       "      <td>943920.000000</td>\n",
       "      <td>943920.000000</td>\n",
       "      <td>943920.000000</td>\n",
       "      <td>943920.000000</td>\n",
       "      <td>943920.000000</td>\n",
       "      <td>943920.000000</td>\n",
       "      <td>943920.000000</td>\n",
       "      <td>943920.000000</td>\n",
       "      <td>943920.000000</td>\n",
       "      <td>943920.000000</td>\n",
       "      <td>943920.000000</td>\n",
       "    </tr>\n",
       "    <tr>\n",
       "      <th>mean</th>\n",
       "      <td>1.516299e+01</td>\n",
       "      <td>19.715893</td>\n",
       "      <td>19.210102</td>\n",
       "      <td>18.483440</td>\n",
       "      <td>18.104995</td>\n",
       "      <td>1.920910e+01</td>\n",
       "      <td>20.125085</td>\n",
       "      <td>19.880817</td>\n",
       "      <td>18.878990</td>\n",
       "      <td>18.455486</td>\n",
       "      <td>21.392724</td>\n",
       "      <td>19.838692</td>\n",
       "      <td>19.408367</td>\n",
       "      <td>18.428738</td>\n",
       "      <td>18.008949</td>\n",
       "      <td>...</td>\n",
       "      <td>1.409954</td>\n",
       "      <td>1.829744</td>\n",
       "      <td>0.979629</td>\n",
       "      <td>1.399418</td>\n",
       "      <td>0.419790</td>\n",
       "      <td>1.392331</td>\n",
       "      <td>2.175964</td>\n",
       "      <td>2.752228</td>\n",
       "      <td>3.342950</td>\n",
       "      <td>0.783633</td>\n",
       "      <td>1.359897</td>\n",
       "      <td>1.950619</td>\n",
       "      <td>0.576264</td>\n",
       "      <td>1.166985</td>\n",
       "      <td>0.590722</td>\n",
       "    </tr>\n",
       "    <tr>\n",
       "      <th>std</th>\n",
       "      <td>5.467412e+03</td>\n",
       "      <td>114.291511</td>\n",
       "      <td>85.016918</td>\n",
       "      <td>84.665961</td>\n",
       "      <td>77.077800</td>\n",
       "      <td>1.921244e+03</td>\n",
       "      <td>350.308810</td>\n",
       "      <td>53.581318</td>\n",
       "      <td>75.582045</td>\n",
       "      <td>89.589845</td>\n",
       "      <td>408.084888</td>\n",
       "      <td>96.907781</td>\n",
       "      <td>58.347338</td>\n",
       "      <td>94.854140</td>\n",
       "      <td>86.604463</td>\n",
       "      <td>...</td>\n",
       "      <td>109.787792</td>\n",
       "      <td>101.192525</td>\n",
       "      <td>82.274252</td>\n",
       "      <td>81.334771</td>\n",
       "      <td>99.300963</td>\n",
       "      <td>110.784477</td>\n",
       "      <td>112.027558</td>\n",
       "      <td>85.922763</td>\n",
       "      <td>86.093033</td>\n",
       "      <td>123.695445</td>\n",
       "      <td>95.988104</td>\n",
       "      <td>112.253992</td>\n",
       "      <td>114.566539</td>\n",
       "      <td>80.954073</td>\n",
       "      <td>89.545278</td>\n",
       "    </tr>\n",
       "    <tr>\n",
       "      <th>min</th>\n",
       "      <td>-5.310802e+06</td>\n",
       "      <td>-40022.466071</td>\n",
       "      <td>-27184.795793</td>\n",
       "      <td>-26566.310827</td>\n",
       "      <td>-24878.828280</td>\n",
       "      <td>-1.864766e+06</td>\n",
       "      <td>-215882.917191</td>\n",
       "      <td>-21802.656144</td>\n",
       "      <td>-20208.516262</td>\n",
       "      <td>-26505.602101</td>\n",
       "      <td>-24463.431833</td>\n",
       "      <td>-25958.752324</td>\n",
       "      <td>-23948.588523</td>\n",
       "      <td>-40438.184078</td>\n",
       "      <td>-30070.729379</td>\n",
       "      <td>...</td>\n",
       "      <td>-22891.551474</td>\n",
       "      <td>-43362.541587</td>\n",
       "      <td>-17774.817548</td>\n",
       "      <td>-28762.699736</td>\n",
       "      <td>-28769.229808</td>\n",
       "      <td>-19285.472906</td>\n",
       "      <td>-26744.835985</td>\n",
       "      <td>-29355.852232</td>\n",
       "      <td>-18568.166776</td>\n",
       "      <td>-34159.490689</td>\n",
       "      <td>-27517.533434</td>\n",
       "      <td>-25982.821480</td>\n",
       "      <td>-30088.904996</td>\n",
       "      <td>-20197.579053</td>\n",
       "      <td>-43030.699316</td>\n",
       "    </tr>\n",
       "    <tr>\n",
       "      <th>25%</th>\n",
       "      <td>1.978292e+01</td>\n",
       "      <td>19.015381</td>\n",
       "      <td>18.203447</td>\n",
       "      <td>17.766365</td>\n",
       "      <td>17.295130</td>\n",
       "      <td>2.006844e+01</td>\n",
       "      <td>19.263906</td>\n",
       "      <td>18.461998</td>\n",
       "      <td>18.051304</td>\n",
       "      <td>17.593621</td>\n",
       "      <td>19.573289</td>\n",
       "      <td>18.677948</td>\n",
       "      <td>17.975575</td>\n",
       "      <td>17.529326</td>\n",
       "      <td>17.082171</td>\n",
       "      <td>...</td>\n",
       "      <td>0.204263</td>\n",
       "      <td>0.340030</td>\n",
       "      <td>0.017378</td>\n",
       "      <td>0.101379</td>\n",
       "      <td>0.017421</td>\n",
       "      <td>0.339446</td>\n",
       "      <td>0.653540</td>\n",
       "      <td>0.754921</td>\n",
       "      <td>0.904556</td>\n",
       "      <td>0.167494</td>\n",
       "      <td>0.228026</td>\n",
       "      <td>0.332064</td>\n",
       "      <td>0.031736</td>\n",
       "      <td>0.104412</td>\n",
       "      <td>0.020849</td>\n",
       "    </tr>\n",
       "    <tr>\n",
       "      <th>50%</th>\n",
       "      <td>2.131864e+01</td>\n",
       "      <td>20.079570</td>\n",
       "      <td>19.558872</td>\n",
       "      <td>19.260365</td>\n",
       "      <td>18.581436</td>\n",
       "      <td>2.151581e+01</td>\n",
       "      <td>20.330866</td>\n",
       "      <td>19.807873</td>\n",
       "      <td>19.525583</td>\n",
       "      <td>18.855333</td>\n",
       "      <td>20.875970</td>\n",
       "      <td>19.995054</td>\n",
       "      <td>19.441332</td>\n",
       "      <td>19.062510</td>\n",
       "      <td>18.396784</td>\n",
       "      <td>...</td>\n",
       "      <td>0.943440</td>\n",
       "      <td>1.333458</td>\n",
       "      <td>0.333882</td>\n",
       "      <td>0.612486</td>\n",
       "      <td>0.277281</td>\n",
       "      <td>1.015895</td>\n",
       "      <td>1.451752</td>\n",
       "      <td>1.951555</td>\n",
       "      <td>2.213578</td>\n",
       "      <td>0.571858</td>\n",
       "      <td>0.949944</td>\n",
       "      <td>1.264566</td>\n",
       "      <td>0.340814</td>\n",
       "      <td>0.592190</td>\n",
       "      <td>0.276091</td>\n",
       "    </tr>\n",
       "    <tr>\n",
       "      <th>75%</th>\n",
       "      <td>2.338145e+01</td>\n",
       "      <td>22.055640</td>\n",
       "      <td>20.841357</td>\n",
       "      <td>20.146703</td>\n",
       "      <td>19.730173</td>\n",
       "      <td>2.347245e+01</td>\n",
       "      <td>22.242289</td>\n",
       "      <td>21.032632</td>\n",
       "      <td>20.364576</td>\n",
       "      <td>19.894171</td>\n",
       "      <td>22.802029</td>\n",
       "      <td>21.726950</td>\n",
       "      <td>20.623274</td>\n",
       "      <td>20.024597</td>\n",
       "      <td>19.530214</td>\n",
       "      <td>...</td>\n",
       "      <td>2.713641</td>\n",
       "      <td>3.457984</td>\n",
       "      <td>1.227953</td>\n",
       "      <td>1.986205</td>\n",
       "      <td>0.789287</td>\n",
       "      <td>1.955620</td>\n",
       "      <td>3.265417</td>\n",
       "      <td>4.528261</td>\n",
       "      <td>5.474850</td>\n",
       "      <td>1.451483</td>\n",
       "      <td>2.720913</td>\n",
       "      <td>3.380884</td>\n",
       "      <td>1.214614</td>\n",
       "      <td>1.883603</td>\n",
       "      <td>0.721030</td>\n",
       "    </tr>\n",
       "    <tr>\n",
       "      <th>max</th>\n",
       "      <td>1.877392e+04</td>\n",
       "      <td>3538.984910</td>\n",
       "      <td>3048.110913</td>\n",
       "      <td>4835.218639</td>\n",
       "      <td>9823.740407</td>\n",
       "      <td>4.870154e+03</td>\n",
       "      <td>248077.513380</td>\n",
       "      <td>12084.735440</td>\n",
       "      <td>8059.638535</td>\n",
       "      <td>18358.921741</td>\n",
       "      <td>298771.019041</td>\n",
       "      <td>12139.815877</td>\n",
       "      <td>7003.136546</td>\n",
       "      <td>9772.190537</td>\n",
       "      <td>17403.789263</td>\n",
       "      <td>...</td>\n",
       "      <td>48327.581323</td>\n",
       "      <td>21243.739746</td>\n",
       "      <td>45303.415779</td>\n",
       "      <td>27912.630495</td>\n",
       "      <td>32930.315367</td>\n",
       "      <td>45115.192779</td>\n",
       "      <td>37605.483750</td>\n",
       "      <td>24462.532540</td>\n",
       "      <td>32530.733705</td>\n",
       "      <td>38497.083482</td>\n",
       "      <td>30336.928723</td>\n",
       "      <td>30770.030971</td>\n",
       "      <td>51207.368525</td>\n",
       "      <td>20525.345144</td>\n",
       "      <td>20524.686627</td>\n",
       "    </tr>\n",
       "  </tbody>\n",
       "</table>\n",
       "<p>8 rows × 60 columns</p>\n",
       "</div>"
      ],
      "text/plain": [
       "           psfMag_u       psfMag_g       psfMag_r       psfMag_i  \\\n",
       "count  9.439200e+05  943920.000000  943920.000000  943920.000000   \n",
       "mean   1.516299e+01      19.715893      19.210102      18.483440   \n",
       "std    5.467412e+03     114.291511      85.016918      84.665961   \n",
       "min   -5.310802e+06  -40022.466071  -27184.795793  -26566.310827   \n",
       "25%    1.978292e+01      19.015381      18.203447      17.766365   \n",
       "50%    2.131864e+01      20.079570      19.558872      19.260365   \n",
       "75%    2.338145e+01      22.055640      20.841357      20.146703   \n",
       "max    1.877392e+04    3538.984910    3048.110913    4835.218639   \n",
       "\n",
       "            psfMag_z    fiberMag_u     fiberMag_g     fiberMag_r  \\\n",
       "count  943920.000000  9.439200e+05  943920.000000  943920.000000   \n",
       "mean       18.104995  1.920910e+01      20.125085      19.880817   \n",
       "std        77.077800  1.921244e+03     350.308810      53.581318   \n",
       "min    -24878.828280 -1.864766e+06 -215882.917191  -21802.656144   \n",
       "25%        17.295130  2.006844e+01      19.263906      18.461998   \n",
       "50%        18.581436  2.151581e+01      20.330866      19.807873   \n",
       "75%        19.730173  2.347245e+01      22.242289      21.032632   \n",
       "max      9823.740407  4.870154e+03  248077.513380   12084.735440   \n",
       "\n",
       "          fiberMag_i     fiberMag_z     petroMag_u     petroMag_g  \\\n",
       "count  943920.000000  943920.000000  943920.000000  943920.000000   \n",
       "mean       18.878990      18.455486      21.392724      19.838692   \n",
       "std        75.582045      89.589845     408.084888      96.907781   \n",
       "min    -20208.516262  -26505.602101  -24463.431833  -25958.752324   \n",
       "25%        18.051304      17.593621      19.573289      18.677948   \n",
       "50%        19.525583      18.855333      20.875970      19.995054   \n",
       "75%        20.364576      19.894171      22.802029      21.726950   \n",
       "max      8059.638535   18358.921741  298771.019041   12139.815877   \n",
       "\n",
       "          petroMag_r     petroMag_i     petroMag_z      ...        \\\n",
       "count  943920.000000  943920.000000  943920.000000      ...         \n",
       "mean       19.408367      18.428738      18.008949      ...         \n",
       "std        58.347338      94.854140      86.604463      ...         \n",
       "min    -23948.588523  -40438.184078  -30070.729379      ...         \n",
       "25%        17.975575      17.529326      17.082171      ...         \n",
       "50%        19.441332      19.062510      18.396784      ...         \n",
       "75%        20.623274      20.024597      19.530214      ...         \n",
       "max      7003.136546    9772.190537   17403.789263      ...         \n",
       "\n",
       "        petroMag_g-i   petroMag_g-z   petroMag_r-i   petroMag_r-z  \\\n",
       "count  943920.000000  943920.000000  943920.000000  943920.000000   \n",
       "mean        1.409954       1.829744       0.979629       1.399418   \n",
       "std       109.787792     101.192525      82.274252      81.334771   \n",
       "min    -22891.551474  -43362.541587  -17774.817548  -28762.699736   \n",
       "25%         0.204263       0.340030       0.017378       0.101379   \n",
       "50%         0.943440       1.333458       0.333882       0.612486   \n",
       "75%         2.713641       3.457984       1.227953       1.986205   \n",
       "max     48327.581323   21243.739746   45303.415779   27912.630495   \n",
       "\n",
       "        petroMag_i-z   modelMag_u-g   modelMag_u-r   modelMag_u-i  \\\n",
       "count  943920.000000  943920.000000  943920.000000  943920.000000   \n",
       "mean        0.419790       1.392331       2.175964       2.752228   \n",
       "std        99.300963     110.784477     112.027558      85.922763   \n",
       "min    -28769.229808  -19285.472906  -26744.835985  -29355.852232   \n",
       "25%         0.017421       0.339446       0.653540       0.754921   \n",
       "50%         0.277281       1.015895       1.451752       1.951555   \n",
       "75%         0.789287       1.955620       3.265417       4.528261   \n",
       "max     32930.315367   45115.192779   37605.483750   24462.532540   \n",
       "\n",
       "        modelMag_u-z   modelMag_g-r   modelMag_g-i   modelMag_g-z  \\\n",
       "count  943920.000000  943920.000000  943920.000000  943920.000000   \n",
       "mean        3.342950       0.783633       1.359897       1.950619   \n",
       "std        86.093033     123.695445      95.988104     112.253992   \n",
       "min    -18568.166776  -34159.490689  -27517.533434  -25982.821480   \n",
       "25%         0.904556       0.167494       0.228026       0.332064   \n",
       "50%         2.213578       0.571858       0.949944       1.264566   \n",
       "75%         5.474850       1.451483       2.720913       3.380884   \n",
       "max     32530.733705   38497.083482   30336.928723   30770.030971   \n",
       "\n",
       "        modelMag_r-i   modelMag_r-z   modelMag_i-z  \n",
       "count  943920.000000  943920.000000  943920.000000  \n",
       "mean        0.576264       1.166985       0.590722  \n",
       "std       114.566539      80.954073      89.545278  \n",
       "min    -30088.904996  -20197.579053  -43030.699316  \n",
       "25%         0.031736       0.104412       0.020849  \n",
       "50%         0.340814       0.592190       0.276091  \n",
       "75%         1.214614       1.883603       0.721030  \n",
       "max     51207.368525   20525.345144   20524.686627  \n",
       "\n",
       "[8 rows x 60 columns]"
      ]
     },
     "execution_count": 43,
     "metadata": {},
     "output_type": "execute_result"
    }
   ],
   "source": [
    "train_X.describe()"
   ]
  },
  {
   "cell_type": "code",
   "execution_count": 15,
   "metadata": {
    "ExecuteTime": {
     "end_time": "2020-02-19T09:17:16.505162Z",
     "start_time": "2020-02-19T09:17:15.474195Z"
    }
   },
   "outputs": [],
   "source": [
    "train_X = train_df.drop(columns=['type', 'type_num','fiberID'], axis=1)\n",
    "train_y = train_df['type_num']\n",
    "test_X = test_df.drop(columns = ['fiberID'])"
   ]
  },
  {
   "cell_type": "code",
   "execution_count": 16,
   "metadata": {
    "ExecuteTime": {
     "end_time": "2020-02-19T09:17:18.000116Z",
     "start_time": "2020-02-19T09:17:16.506162Z"
    }
   },
   "outputs": [],
   "source": [
    "X_train, X_test, y_train, y_test = train_test_split(train_X, train_y, test_size=0.3, random_state=42,stratify = train_y)"
   ]
  },
  {
   "cell_type": "code",
   "execution_count": 17,
   "metadata": {
    "ExecuteTime": {
     "end_time": "2020-02-19T09:17:18.006117Z",
     "start_time": "2020-02-19T09:17:18.001117Z"
    }
   },
   "outputs": [],
   "source": [
    "train_ds = lgb.Dataset(X_train, label = y_train)\n",
    "test_ds = lgb.Dataset(X_test, label = y_test) "
   ]
  },
  {
   "cell_type": "code",
   "execution_count": 18,
   "metadata": {
    "ExecuteTime": {
     "end_time": "2020-02-19T09:17:18.040115Z",
     "start_time": "2020-02-19T09:17:18.007117Z"
    }
   },
   "outputs": [],
   "source": [
    "params = {\n",
    "    'boosting_type': 'gbdt',\n",
    "    'objective': 'multiclass',\n",
    "    'num_class': train_y.nunique(),\n",
    "    'metric': {'multi_logloss','multi_logloss'},\n",
    "    'num_leaves': 25,\n",
    "    'learning_rate': 0.01,\n",
    "    'max_depth' : 12,\n",
    "    'random_state' : 42\n",
    "}"
   ]
  },
  {
   "cell_type": "markdown",
   "metadata": {},
   "source": [
    "## Modeling"
   ]
  },
  {
   "cell_type": "code",
   "execution_count": 19,
   "metadata": {
    "ExecuteTime": {
     "end_time": "2020-02-19T10:20:04.661531Z",
     "start_time": "2020-02-19T09:17:18.041115Z"
    }
   },
   "outputs": [
    {
     "name": "stdout",
     "output_type": "stream",
     "text": [
      "Training until validation scores don't improve for 100 rounds\n",
      "[100]\tTrain's multi_logloss: 1.08298\tTest's multi_logloss: 1.08855\n",
      "[200]\tTrain's multi_logloss: 0.663933\tTest's multi_logloss: 0.671506\n",
      "[300]\tTrain's multi_logloss: 0.493399\tTest's multi_logloss: 0.502926\n",
      "[400]\tTrain's multi_logloss: 0.413378\tTest's multi_logloss: 0.424584\n",
      "[500]\tTrain's multi_logloss: 0.369751\tTest's multi_logloss: 0.382635\n",
      "[600]\tTrain's multi_logloss: 0.343037\tTest's multi_logloss: 0.357712\n",
      "[700]\tTrain's multi_logloss: 0.324593\tTest's multi_logloss: 0.341329\n",
      "[800]\tTrain's multi_logloss: 0.310996\tTest's multi_logloss: 0.329606\n",
      "[900]\tTrain's multi_logloss: 0.300248\tTest's multi_logloss: 0.320654\n",
      "[1000]\tTrain's multi_logloss: 0.291357\tTest's multi_logloss: 0.313612\n",
      "Did not meet early stopping. Best iteration is:\n",
      "[1000]\tTrain's multi_logloss: 0.291357\tTest's multi_logloss: 0.313612\n"
     ]
    }
   ],
   "source": [
    "evaluation_results = {}\n",
    "lgmb_model = lgb.train(params, train_ds,num_boost_round= 1000, \n",
    "                       valid_sets = [train_ds,test_ds], valid_names=['Train', 'Test'],\n",
    "                       evals_result=evaluation_results,\n",
    "                       verbose_eval=100, early_stopping_rounds=100)"
   ]
  },
  {
   "cell_type": "code",
   "execution_count": 20,
   "metadata": {
    "ExecuteTime": {
     "end_time": "2020-02-19T10:20:05.120517Z",
     "start_time": "2020-02-19T10:20:04.663531Z"
    }
   },
   "outputs": [
    {
     "data": {
      "image/png": "[encoded data removed]",
      "text/plain": [
       "<Figure size 1080x288 with 2 Axes>"
      ]
     },
     "metadata": {},
     "output_type": "display_data"
    }
   ],
   "source": [
    "fig, axs = plt.subplots(1, 2, figsize=[15, 4])\n",
    "\n",
    "# Plot the log loss during training\n",
    "axs[0].plot(evaluation_results['Train']['multi_logloss'], label='Train')\n",
    "axs[0].plot(evaluation_results['Test']['multi_logloss'], label='Test')\n",
    "axs[0].set_ylabel('Log loss')\n",
    "axs[0].set_xlabel('Boosting round')\n",
    "axs[0].set_title('Training performance')\n",
    "axs[0].legend()\n",
    "\n",
    "# Plot feature importance\n",
    "importances = pd.DataFrame({'features': lgmb_model.feature_name(), \n",
    "                            'importance': lgmb_model.feature_importance()}).sort_values('importance', ascending=False).head(10)\n",
    "axs[1].bar(x=np.arange(len(importances)), height=importances['importance'])\n",
    "axs[1].set_xticks(np.arange(len(importances)))\n",
    "axs[1].set_xticklabels(importances['features'])\n",
    "axs[1].set_ylabel('Feature importance (# times used to split)')\n",
    "axs[1].set_title('Feature importance')\n",
    "plt.xticks(rotation=45)\n",
    "\n",
    "plt.show()"
   ]
  },
  {
   "cell_type": "code",
   "execution_count": 21,
   "metadata": {
    "ExecuteTime": {
     "end_time": "2020-02-19T10:34:25.285072Z",
     "start_time": "2020-02-19T10:20:05.121517Z"
    }
   },
   "outputs": [],
   "source": [
    "train_y_pred = lgmb_model.predict(X_test)\n",
    "real_y_pred = lgmb_model.predict(test_X)"
   ]
  },
  {
   "cell_type": "code",
   "execution_count": 22,
   "metadata": {
    "ExecuteTime": {
     "end_time": "2020-02-19T10:34:25.291073Z",
     "start_time": "2020-02-19T10:34:25.286073Z"
    }
   },
   "outputs": [
    {
     "data": {
      "text/plain": [
       "(283176, 19)"
      ]
     },
     "execution_count": 22,
     "metadata": {},
     "output_type": "execute_result"
    }
   ],
   "source": [
    "train_y_pred.shape"
   ]
  },
  {
   "cell_type": "code",
   "execution_count": 23,
   "metadata": {
    "ExecuteTime": {
     "end_time": "2020-02-19T10:34:25.718091Z",
     "start_time": "2020-02-19T10:34:25.292073Z"
    },
    "scrolled": true
   },
   "outputs": [
    {
     "data": {
      "text/plain": [
       "0.3136124076557462"
      ]
     },
     "execution_count": 23,
     "metadata": {},
     "output_type": "execute_result"
    }
   ],
   "source": [
    "#log_loss\n",
    "log_loss(y_test,train_y_pred,labels= list(set(y_test)))"
   ]
  },
  {
   "cell_type": "code",
   "execution_count": 24,
   "metadata": {
    "ExecuteTime": {
     "end_time": "2020-02-19T10:34:25.727090Z",
     "start_time": "2020-02-19T10:34:25.719091Z"
    }
   },
   "outputs": [
    {
     "data": {
      "text/plain": [
       "array([ 7069, 11826, 12815, 14462,  9652,  6286, 11007,  7633,  8651,\n",
       "        6217,  8253,  6641,  7332,  7733,  6632,  7130,  7150,  6169,\n",
       "        6108,  9321, 10763,  6803,  3738,  2710, 11564,  5362,  4325,\n",
       "        9672,  5858, 10297, 10750,  6599,  2656,  3884, 11655,  5793,\n",
       "        3999, 11064,  9730, 11974, 10407,  6372,  3148,  4463, 10399,\n",
       "        4449,  4089,  8478,  5004,  7360, 11828,  6115,  2591,  2808,\n",
       "       10515,  5833,  3937, 12836,  7344, 10741])"
      ]
     },
     "execution_count": 24,
     "metadata": {},
     "output_type": "execute_result"
    }
   ],
   "source": [
    "lgmb_model.feature_importance()"
   ]
  },
  {
   "cell_type": "markdown",
   "metadata": {},
   "source": [
    "### feature_importance"
   ]
  },
  {
   "cell_type": "code",
   "execution_count": 25,
   "metadata": {
    "ExecuteTime": {
     "end_time": "2020-02-19T10:34:25.787088Z",
     "start_time": "2020-02-19T10:34:25.728090Z"
    },
    "scrolled": true
   },
   "outputs": [
    {
     "data": {
      "text/html": [
       "<div>\n",
       "<style scoped>\n",
       "    .dataframe tbody tr th:only-of-type {\n",
       "        vertical-align: middle;\n",
       "    }\n",
       "\n",
       "    .dataframe tbody tr th {\n",
       "        vertical-align: top;\n",
       "    }\n",
       "\n",
       "    .dataframe thead th {\n",
       "        text-align: right;\n",
       "    }\n",
       "</style>\n",
       "<table border=\"1\" class=\"dataframe\">\n",
       "  <thead>\n",
       "    <tr style=\"text-align: right;\">\n",
       "      <th></th>\n",
       "      <th>importance</th>\n",
       "    </tr>\n",
       "  </thead>\n",
       "  <tbody>\n",
       "    <tr>\n",
       "      <th>psfMag_i</th>\n",
       "      <td>14462</td>\n",
       "    </tr>\n",
       "    <tr>\n",
       "      <th>modelMag_r-i</th>\n",
       "      <td>12836</td>\n",
       "    </tr>\n",
       "    <tr>\n",
       "      <th>psfMag_r</th>\n",
       "      <td>12815</td>\n",
       "    </tr>\n",
       "    <tr>\n",
       "      <th>fiberMag_i-z</th>\n",
       "      <td>11974</td>\n",
       "    </tr>\n",
       "    <tr>\n",
       "      <th>modelMag_u-g</th>\n",
       "      <td>11828</td>\n",
       "    </tr>\n",
       "    <tr>\n",
       "      <th>psfMag_g</th>\n",
       "      <td>11826</td>\n",
       "    </tr>\n",
       "    <tr>\n",
       "      <th>fiberMag_g-r</th>\n",
       "      <td>11655</td>\n",
       "    </tr>\n",
       "    <tr>\n",
       "      <th>psfMag_g-r</th>\n",
       "      <td>11564</td>\n",
       "    </tr>\n",
       "    <tr>\n",
       "      <th>fiberMag_r-i</th>\n",
       "      <td>11064</td>\n",
       "    </tr>\n",
       "    <tr>\n",
       "      <th>fiberMag_g</th>\n",
       "      <td>11007</td>\n",
       "    </tr>\n",
       "  </tbody>\n",
       "</table>\n",
       "</div>"
      ],
      "text/plain": [
       "              importance\n",
       "psfMag_i           14462\n",
       "modelMag_r-i       12836\n",
       "psfMag_r           12815\n",
       "fiberMag_i-z       11974\n",
       "modelMag_u-g       11828\n",
       "psfMag_g           11826\n",
       "fiberMag_g-r       11655\n",
       "psfMag_g-r         11564\n",
       "fiberMag_r-i       11064\n",
       "fiberMag_g         11007"
      ]
     },
     "execution_count": 25,
     "metadata": {},
     "output_type": "execute_result"
    }
   ],
   "source": [
    "pi_df = pd.DataFrame(lgmb_model.feature_importance(), index= train_X.columns,columns= ['importance']).sort_values('importance',ascending = False)\n",
    "pi_df.head(10)"
   ]
  },
  {
   "cell_type": "markdown",
   "metadata": {},
   "source": [
    "### 예측결과에 대해\n",
    "* 12번이 모두 6번으로 몰림\n",
    "중간예측 : 0(STAR_WHITE_DWARF-2160),2(STAR_BROWN_DWARF-500),7(SERENDIPITY_DISTANT-4654),11(ROSAT_D-6580)\n",
    "망한예측 : 12(STAR_PN-13),17(SERENDIPITY_MANUAL-61)"
   ]
  },
  {
   "cell_type": "code",
   "execution_count": 26,
   "metadata": {
    "ExecuteTime": {
     "end_time": "2020-02-19T10:34:26.084079Z",
     "start_time": "2020-02-19T10:34:25.788088Z"
    }
   },
   "outputs": [],
   "source": [
    "cm_result = pd.DataFrame(confusion_matrix(y_test,np.argmax(train_y_pred,axis = 1)))"
   ]
  },
  {
   "cell_type": "code",
   "execution_count": 27,
   "metadata": {
    "ExecuteTime": {
     "end_time": "2020-02-19T10:34:26.089080Z",
     "start_time": "2020-02-19T10:34:26.085079Z"
    }
   },
   "outputs": [
    {
     "data": {
      "text/plain": [
       "{0: 'STAR_WHITE_DWARF',\n",
       " 1: 'STAR_CATY_VAR',\n",
       " 2: 'STAR_BROWN_DWARF',\n",
       " 3: 'SERENDIPITY_RED',\n",
       " 4: 'REDDEN_STD',\n",
       " 5: 'STAR_BHB',\n",
       " 6: 'GALAXY',\n",
       " 7: 'SERENDIPITY_DISTANT',\n",
       " 8: 'QSO',\n",
       " 9: 'SKY',\n",
       " 10: 'STAR_RED_DWARF',\n",
       " 11: 'ROSAT_D',\n",
       " 12: 'STAR_PN',\n",
       " 13: 'SERENDIPITY_FIRST',\n",
       " 14: 'STAR_CARBON',\n",
       " 15: 'SPECTROPHOTO_STD',\n",
       " 16: 'STAR_SUB_DWARF',\n",
       " 17: 'SERENDIPITY_MANUAL',\n",
       " 18: 'SERENDIPITY_BLUE'}"
      ]
     },
     "execution_count": 27,
     "metadata": {},
     "output_type": "execute_result"
    }
   ],
   "source": [
    "number_columns"
   ]
  },
  {
   "cell_type": "code",
   "execution_count": 28,
   "metadata": {
    "ExecuteTime": {
     "end_time": "2020-02-19T10:34:26.267073Z",
     "start_time": "2020-02-19T10:34:26.090079Z"
    }
   },
   "outputs": [
    {
     "data": {
      "text/plain": [
       "GALAXY                 49680\n",
       "SERENDIPITY_BLUE       49680\n",
       "STAR_CATY_VAR          49680\n",
       "STAR_PN                49680\n",
       "REDDEN_STD             49680\n",
       "SERENDIPITY_FIRST      49680\n",
       "STAR_BHB               49680\n",
       "QSO                    49680\n",
       "SERENDIPITY_MANUAL     49680\n",
       "STAR_RED_DWARF         49680\n",
       "STAR_WHITE_DWARF       49680\n",
       "SKY                    49680\n",
       "STAR_BROWN_DWARF       49680\n",
       "SPECTROPHOTO_STD       49680\n",
       "STAR_CARBON            49680\n",
       "ROSAT_D                49680\n",
       "SERENDIPITY_RED        49680\n",
       "SERENDIPITY_DISTANT    49680\n",
       "STAR_SUB_DWARF         49680\n",
       "Name: type, dtype: int64"
      ]
     },
     "execution_count": 28,
     "metadata": {},
     "output_type": "execute_result"
    }
   ],
   "source": [
    "train_df.type.value_counts()"
   ]
  },
  {
   "cell_type": "code",
   "execution_count": 29,
   "metadata": {
    "ExecuteTime": {
     "end_time": "2020-02-19T10:34:26.304072Z",
     "start_time": "2020-02-19T10:34:26.268074Z"
    }
   },
   "outputs": [
    {
     "data": {
      "text/html": [
       "<div>\n",
       "<style scoped>\n",
       "    .dataframe tbody tr th:only-of-type {\n",
       "        vertical-align: middle;\n",
       "    }\n",
       "\n",
       "    .dataframe tbody tr th {\n",
       "        vertical-align: top;\n",
       "    }\n",
       "\n",
       "    .dataframe thead th {\n",
       "        text-align: right;\n",
       "    }\n",
       "</style>\n",
       "<table border=\"1\" class=\"dataframe\">\n",
       "  <thead>\n",
       "    <tr style=\"text-align: right;\">\n",
       "      <th></th>\n",
       "      <th>0</th>\n",
       "      <th>1</th>\n",
       "      <th>2</th>\n",
       "      <th>3</th>\n",
       "      <th>4</th>\n",
       "      <th>5</th>\n",
       "      <th>6</th>\n",
       "      <th>7</th>\n",
       "      <th>8</th>\n",
       "      <th>9</th>\n",
       "      <th>10</th>\n",
       "      <th>11</th>\n",
       "      <th>12</th>\n",
       "      <th>13</th>\n",
       "      <th>14</th>\n",
       "      <th>15</th>\n",
       "      <th>16</th>\n",
       "      <th>17</th>\n",
       "      <th>18</th>\n",
       "    </tr>\n",
       "  </thead>\n",
       "  <tbody>\n",
       "    <tr>\n",
       "      <th>0</th>\n",
       "      <td>12956</td>\n",
       "      <td>0</td>\n",
       "      <td>0</td>\n",
       "      <td>0</td>\n",
       "      <td>180</td>\n",
       "      <td>243</td>\n",
       "      <td>3</td>\n",
       "      <td>584</td>\n",
       "      <td>49</td>\n",
       "      <td>0</td>\n",
       "      <td>0</td>\n",
       "      <td>292</td>\n",
       "      <td>4</td>\n",
       "      <td>8</td>\n",
       "      <td>340</td>\n",
       "      <td>58</td>\n",
       "      <td>0</td>\n",
       "      <td>14</td>\n",
       "      <td>173</td>\n",
       "    </tr>\n",
       "    <tr>\n",
       "      <th>1</th>\n",
       "      <td>42</td>\n",
       "      <td>14467</td>\n",
       "      <td>0</td>\n",
       "      <td>0</td>\n",
       "      <td>0</td>\n",
       "      <td>0</td>\n",
       "      <td>0</td>\n",
       "      <td>3</td>\n",
       "      <td>67</td>\n",
       "      <td>0</td>\n",
       "      <td>2</td>\n",
       "      <td>22</td>\n",
       "      <td>0</td>\n",
       "      <td>13</td>\n",
       "      <td>0</td>\n",
       "      <td>0</td>\n",
       "      <td>15</td>\n",
       "      <td>7</td>\n",
       "      <td>266</td>\n",
       "    </tr>\n",
       "    <tr>\n",
       "      <th>2</th>\n",
       "      <td>0</td>\n",
       "      <td>0</td>\n",
       "      <td>14483</td>\n",
       "      <td>319</td>\n",
       "      <td>0</td>\n",
       "      <td>0</td>\n",
       "      <td>0</td>\n",
       "      <td>0</td>\n",
       "      <td>0</td>\n",
       "      <td>0</td>\n",
       "      <td>72</td>\n",
       "      <td>0</td>\n",
       "      <td>0</td>\n",
       "      <td>0</td>\n",
       "      <td>0</td>\n",
       "      <td>0</td>\n",
       "      <td>0</td>\n",
       "      <td>30</td>\n",
       "      <td>0</td>\n",
       "    </tr>\n",
       "    <tr>\n",
       "      <th>3</th>\n",
       "      <td>1</td>\n",
       "      <td>0</td>\n",
       "      <td>791</td>\n",
       "      <td>13952</td>\n",
       "      <td>0</td>\n",
       "      <td>0</td>\n",
       "      <td>0</td>\n",
       "      <td>0</td>\n",
       "      <td>0</td>\n",
       "      <td>0</td>\n",
       "      <td>118</td>\n",
       "      <td>5</td>\n",
       "      <td>0</td>\n",
       "      <td>5</td>\n",
       "      <td>0</td>\n",
       "      <td>0</td>\n",
       "      <td>0</td>\n",
       "      <td>32</td>\n",
       "      <td>0</td>\n",
       "    </tr>\n",
       "    <tr>\n",
       "      <th>4</th>\n",
       "      <td>23</td>\n",
       "      <td>0</td>\n",
       "      <td>0</td>\n",
       "      <td>0</td>\n",
       "      <td>14634</td>\n",
       "      <td>64</td>\n",
       "      <td>1</td>\n",
       "      <td>0</td>\n",
       "      <td>4</td>\n",
       "      <td>0</td>\n",
       "      <td>0</td>\n",
       "      <td>42</td>\n",
       "      <td>0</td>\n",
       "      <td>0</td>\n",
       "      <td>0</td>\n",
       "      <td>136</td>\n",
       "      <td>0</td>\n",
       "      <td>0</td>\n",
       "      <td>0</td>\n",
       "    </tr>\n",
       "    <tr>\n",
       "      <th>5</th>\n",
       "      <td>301</td>\n",
       "      <td>0</td>\n",
       "      <td>0</td>\n",
       "      <td>0</td>\n",
       "      <td>266</td>\n",
       "      <td>13551</td>\n",
       "      <td>0</td>\n",
       "      <td>591</td>\n",
       "      <td>17</td>\n",
       "      <td>0</td>\n",
       "      <td>0</td>\n",
       "      <td>24</td>\n",
       "      <td>0</td>\n",
       "      <td>2</td>\n",
       "      <td>0</td>\n",
       "      <td>144</td>\n",
       "      <td>0</td>\n",
       "      <td>3</td>\n",
       "      <td>5</td>\n",
       "    </tr>\n",
       "    <tr>\n",
       "      <th>6</th>\n",
       "      <td>12</td>\n",
       "      <td>20</td>\n",
       "      <td>0</td>\n",
       "      <td>1</td>\n",
       "      <td>10</td>\n",
       "      <td>9</td>\n",
       "      <td>14270</td>\n",
       "      <td>1</td>\n",
       "      <td>32</td>\n",
       "      <td>0</td>\n",
       "      <td>1</td>\n",
       "      <td>217</td>\n",
       "      <td>0</td>\n",
       "      <td>275</td>\n",
       "      <td>26</td>\n",
       "      <td>6</td>\n",
       "      <td>0</td>\n",
       "      <td>22</td>\n",
       "      <td>2</td>\n",
       "    </tr>\n",
       "    <tr>\n",
       "      <th>7</th>\n",
       "      <td>3016</td>\n",
       "      <td>0</td>\n",
       "      <td>0</td>\n",
       "      <td>0</td>\n",
       "      <td>0</td>\n",
       "      <td>500</td>\n",
       "      <td>0</td>\n",
       "      <td>10923</td>\n",
       "      <td>81</td>\n",
       "      <td>0</td>\n",
       "      <td>1</td>\n",
       "      <td>24</td>\n",
       "      <td>12</td>\n",
       "      <td>8</td>\n",
       "      <td>0</td>\n",
       "      <td>1</td>\n",
       "      <td>1</td>\n",
       "      <td>26</td>\n",
       "      <td>311</td>\n",
       "    </tr>\n",
       "    <tr>\n",
       "      <th>8</th>\n",
       "      <td>240</td>\n",
       "      <td>17</td>\n",
       "      <td>2</td>\n",
       "      <td>2</td>\n",
       "      <td>26</td>\n",
       "      <td>248</td>\n",
       "      <td>101</td>\n",
       "      <td>70</td>\n",
       "      <td>11340</td>\n",
       "      <td>4</td>\n",
       "      <td>6</td>\n",
       "      <td>742</td>\n",
       "      <td>5</td>\n",
       "      <td>629</td>\n",
       "      <td>107</td>\n",
       "      <td>7</td>\n",
       "      <td>12</td>\n",
       "      <td>55</td>\n",
       "      <td>1291</td>\n",
       "    </tr>\n",
       "    <tr>\n",
       "      <th>9</th>\n",
       "      <td>0</td>\n",
       "      <td>0</td>\n",
       "      <td>0</td>\n",
       "      <td>0</td>\n",
       "      <td>0</td>\n",
       "      <td>0</td>\n",
       "      <td>0</td>\n",
       "      <td>0</td>\n",
       "      <td>0</td>\n",
       "      <td>14904</td>\n",
       "      <td>0</td>\n",
       "      <td>0</td>\n",
       "      <td>0</td>\n",
       "      <td>0</td>\n",
       "      <td>0</td>\n",
       "      <td>0</td>\n",
       "      <td>0</td>\n",
       "      <td>0</td>\n",
       "      <td>0</td>\n",
       "    </tr>\n",
       "    <tr>\n",
       "      <th>10</th>\n",
       "      <td>0</td>\n",
       "      <td>1</td>\n",
       "      <td>90</td>\n",
       "      <td>439</td>\n",
       "      <td>0</td>\n",
       "      <td>0</td>\n",
       "      <td>0</td>\n",
       "      <td>0</td>\n",
       "      <td>9</td>\n",
       "      <td>0</td>\n",
       "      <td>14337</td>\n",
       "      <td>9</td>\n",
       "      <td>0</td>\n",
       "      <td>0</td>\n",
       "      <td>0</td>\n",
       "      <td>0</td>\n",
       "      <td>0</td>\n",
       "      <td>19</td>\n",
       "      <td>0</td>\n",
       "    </tr>\n",
       "    <tr>\n",
       "      <th>11</th>\n",
       "      <td>549</td>\n",
       "      <td>142</td>\n",
       "      <td>0</td>\n",
       "      <td>10</td>\n",
       "      <td>895</td>\n",
       "      <td>174</td>\n",
       "      <td>207</td>\n",
       "      <td>98</td>\n",
       "      <td>808</td>\n",
       "      <td>0</td>\n",
       "      <td>63</td>\n",
       "      <td>6868</td>\n",
       "      <td>0</td>\n",
       "      <td>2302</td>\n",
       "      <td>508</td>\n",
       "      <td>339</td>\n",
       "      <td>75</td>\n",
       "      <td>110</td>\n",
       "      <td>1756</td>\n",
       "    </tr>\n",
       "    <tr>\n",
       "      <th>12</th>\n",
       "      <td>0</td>\n",
       "      <td>0</td>\n",
       "      <td>0</td>\n",
       "      <td>0</td>\n",
       "      <td>0</td>\n",
       "      <td>0</td>\n",
       "      <td>0</td>\n",
       "      <td>0</td>\n",
       "      <td>0</td>\n",
       "      <td>0</td>\n",
       "      <td>0</td>\n",
       "      <td>0</td>\n",
       "      <td>14904</td>\n",
       "      <td>0</td>\n",
       "      <td>0</td>\n",
       "      <td>0</td>\n",
       "      <td>0</td>\n",
       "      <td>0</td>\n",
       "      <td>0</td>\n",
       "    </tr>\n",
       "    <tr>\n",
       "      <th>13</th>\n",
       "      <td>34</td>\n",
       "      <td>8</td>\n",
       "      <td>0</td>\n",
       "      <td>0</td>\n",
       "      <td>2</td>\n",
       "      <td>26</td>\n",
       "      <td>228</td>\n",
       "      <td>33</td>\n",
       "      <td>459</td>\n",
       "      <td>0</td>\n",
       "      <td>1</td>\n",
       "      <td>1135</td>\n",
       "      <td>0</td>\n",
       "      <td>11418</td>\n",
       "      <td>4</td>\n",
       "      <td>0</td>\n",
       "      <td>0</td>\n",
       "      <td>103</td>\n",
       "      <td>1453</td>\n",
       "    </tr>\n",
       "    <tr>\n",
       "      <th>14</th>\n",
       "      <td>65</td>\n",
       "      <td>0</td>\n",
       "      <td>0</td>\n",
       "      <td>0</td>\n",
       "      <td>0</td>\n",
       "      <td>0</td>\n",
       "      <td>2</td>\n",
       "      <td>0</td>\n",
       "      <td>9</td>\n",
       "      <td>0</td>\n",
       "      <td>0</td>\n",
       "      <td>98</td>\n",
       "      <td>0</td>\n",
       "      <td>0</td>\n",
       "      <td>14725</td>\n",
       "      <td>0</td>\n",
       "      <td>4</td>\n",
       "      <td>1</td>\n",
       "      <td>0</td>\n",
       "    </tr>\n",
       "    <tr>\n",
       "      <th>15</th>\n",
       "      <td>1</td>\n",
       "      <td>0</td>\n",
       "      <td>0</td>\n",
       "      <td>0</td>\n",
       "      <td>228</td>\n",
       "      <td>68</td>\n",
       "      <td>0</td>\n",
       "      <td>0</td>\n",
       "      <td>2</td>\n",
       "      <td>0</td>\n",
       "      <td>0</td>\n",
       "      <td>42</td>\n",
       "      <td>0</td>\n",
       "      <td>0</td>\n",
       "      <td>0</td>\n",
       "      <td>14563</td>\n",
       "      <td>0</td>\n",
       "      <td>0</td>\n",
       "      <td>0</td>\n",
       "    </tr>\n",
       "    <tr>\n",
       "      <th>16</th>\n",
       "      <td>0</td>\n",
       "      <td>33</td>\n",
       "      <td>0</td>\n",
       "      <td>0</td>\n",
       "      <td>0</td>\n",
       "      <td>0</td>\n",
       "      <td>0</td>\n",
       "      <td>0</td>\n",
       "      <td>0</td>\n",
       "      <td>0</td>\n",
       "      <td>0</td>\n",
       "      <td>6</td>\n",
       "      <td>0</td>\n",
       "      <td>0</td>\n",
       "      <td>0</td>\n",
       "      <td>0</td>\n",
       "      <td>14865</td>\n",
       "      <td>0</td>\n",
       "      <td>0</td>\n",
       "    </tr>\n",
       "    <tr>\n",
       "      <th>17</th>\n",
       "      <td>92</td>\n",
       "      <td>0</td>\n",
       "      <td>0</td>\n",
       "      <td>30</td>\n",
       "      <td>8</td>\n",
       "      <td>43</td>\n",
       "      <td>22</td>\n",
       "      <td>82</td>\n",
       "      <td>22</td>\n",
       "      <td>0</td>\n",
       "      <td>12</td>\n",
       "      <td>309</td>\n",
       "      <td>0</td>\n",
       "      <td>124</td>\n",
       "      <td>4</td>\n",
       "      <td>0</td>\n",
       "      <td>0</td>\n",
       "      <td>14111</td>\n",
       "      <td>45</td>\n",
       "    </tr>\n",
       "    <tr>\n",
       "      <th>18</th>\n",
       "      <td>537</td>\n",
       "      <td>19</td>\n",
       "      <td>0</td>\n",
       "      <td>0</td>\n",
       "      <td>0</td>\n",
       "      <td>152</td>\n",
       "      <td>2</td>\n",
       "      <td>1203</td>\n",
       "      <td>431</td>\n",
       "      <td>0</td>\n",
       "      <td>0</td>\n",
       "      <td>140</td>\n",
       "      <td>1</td>\n",
       "      <td>309</td>\n",
       "      <td>0</td>\n",
       "      <td>0</td>\n",
       "      <td>0</td>\n",
       "      <td>26</td>\n",
       "      <td>12084</td>\n",
       "    </tr>\n",
       "  </tbody>\n",
       "</table>\n",
       "</div>"
      ],
      "text/plain": [
       "       0      1      2      3      4      5      6      7      8      9   \\\n",
       "0   12956      0      0      0    180    243      3    584     49      0   \n",
       "1      42  14467      0      0      0      0      0      3     67      0   \n",
       "2       0      0  14483    319      0      0      0      0      0      0   \n",
       "3       1      0    791  13952      0      0      0      0      0      0   \n",
       "4      23      0      0      0  14634     64      1      0      4      0   \n",
       "5     301      0      0      0    266  13551      0    591     17      0   \n",
       "6      12     20      0      1     10      9  14270      1     32      0   \n",
       "7    3016      0      0      0      0    500      0  10923     81      0   \n",
       "8     240     17      2      2     26    248    101     70  11340      4   \n",
       "9       0      0      0      0      0      0      0      0      0  14904   \n",
       "10      0      1     90    439      0      0      0      0      9      0   \n",
       "11    549    142      0     10    895    174    207     98    808      0   \n",
       "12      0      0      0      0      0      0      0      0      0      0   \n",
       "13     34      8      0      0      2     26    228     33    459      0   \n",
       "14     65      0      0      0      0      0      2      0      9      0   \n",
       "15      1      0      0      0    228     68      0      0      2      0   \n",
       "16      0     33      0      0      0      0      0      0      0      0   \n",
       "17     92      0      0     30      8     43     22     82     22      0   \n",
       "18    537     19      0      0      0    152      2   1203    431      0   \n",
       "\n",
       "       10    11     12     13     14     15     16     17     18  \n",
       "0       0   292      4      8    340     58      0     14    173  \n",
       "1       2    22      0     13      0      0     15      7    266  \n",
       "2      72     0      0      0      0      0      0     30      0  \n",
       "3     118     5      0      5      0      0      0     32      0  \n",
       "4       0    42      0      0      0    136      0      0      0  \n",
       "5       0    24      0      2      0    144      0      3      5  \n",
       "6       1   217      0    275     26      6      0     22      2  \n",
       "7       1    24     12      8      0      1      1     26    311  \n",
       "8       6   742      5    629    107      7     12     55   1291  \n",
       "9       0     0      0      0      0      0      0      0      0  \n",
       "10  14337     9      0      0      0      0      0     19      0  \n",
       "11     63  6868      0   2302    508    339     75    110   1756  \n",
       "12      0     0  14904      0      0      0      0      0      0  \n",
       "13      1  1135      0  11418      4      0      0    103   1453  \n",
       "14      0    98      0      0  14725      0      4      1      0  \n",
       "15      0    42      0      0      0  14563      0      0      0  \n",
       "16      0     6      0      0      0      0  14865      0      0  \n",
       "17     12   309      0    124      4      0      0  14111     45  \n",
       "18      0   140      1    309      0      0      0     26  12084  "
      ]
     },
     "execution_count": 29,
     "metadata": {},
     "output_type": "execute_result"
    }
   ],
   "source": [
    "cm_result"
   ]
  },
  {
   "cell_type": "code",
   "execution_count": 30,
   "metadata": {
    "ExecuteTime": {
     "end_time": "2020-02-19T10:34:27.328042Z",
     "start_time": "2020-02-19T10:34:26.305072Z"
    },
    "scrolled": false
   },
   "outputs": [
    {
     "data": {
      "image/png": "[encoded data removed]",
      "text/plain": [
       "<Figure size 1080x1080 with 2 Axes>"
      ]
     },
     "metadata": {},
     "output_type": "display_data"
    }
   ],
   "source": [
    "plt.figure(figsize =(15,15))\n",
    "sns.heatmap(cm_result/np.sum(cm_result),annot = True, cmap ='RdYlGn',fmt='.1%')\n",
    "plt.ylabel(\"real\",fontsize=20)\n",
    "plt.xlabel(\"predict\",fontsize=20)\n",
    "plt.show()"
   ]
  },
  {
   "cell_type": "markdown",
   "metadata": {},
   "source": [
    "# REAL"
   ]
  },
  {
   "cell_type": "code",
   "execution_count": 31,
   "metadata": {
    "ExecuteTime": {
     "end_time": "2020-02-19T10:34:27.333040Z",
     "start_time": "2020-02-19T10:34:27.329041Z"
    }
   },
   "outputs": [],
   "source": [
    "train_ds = lgb.Dataset(train_X, label = train_y)"
   ]
  },
  {
   "cell_type": "code",
   "execution_count": 32,
   "metadata": {
    "ExecuteTime": {
     "end_time": "2020-02-19T12:59:15.321732Z",
     "start_time": "2020-02-19T10:34:27.334041Z"
    }
   },
   "outputs": [
    {
     "name": "stdout",
     "output_type": "stream",
     "text": [
      "Training until validation scores don't improve for 100 rounds\n",
      "[100]\tTrain's multi_logloss: 1.08514\n",
      "[200]\tTrain's multi_logloss: 0.665941\n",
      "[300]\tTrain's multi_logloss: 0.495724\n",
      "[400]\tTrain's multi_logloss: 0.416135\n",
      "[500]\tTrain's multi_logloss: 0.373013\n",
      "[600]\tTrain's multi_logloss: 0.346518\n",
      "[700]\tTrain's multi_logloss: 0.328567\n",
      "[800]\tTrain's multi_logloss: 0.315085\n",
      "[900]\tTrain's multi_logloss: 0.304624\n",
      "[1000]\tTrain's multi_logloss: 0.296026\n",
      "Did not meet early stopping. Best iteration is:\n",
      "[1000]\tTrain's multi_logloss: 0.296026\n"
     ]
    }
   ],
   "source": [
    "evaluation_results = {}\n",
    "lgmb_model = lgb.train(params, train_ds,num_boost_round= 1000, \n",
    "                       valid_sets = [train_ds], valid_names=['Train'],\n",
    "                       evals_result=evaluation_results,\n",
    "                       verbose_eval=100, early_stopping_rounds=100)"
   ]
  },
  {
   "cell_type": "code",
   "execution_count": 33,
   "metadata": {
    "ExecuteTime": {
     "end_time": "2020-02-19T12:59:15.375731Z",
     "start_time": "2020-02-19T12:59:15.348732Z"
    }
   },
   "outputs": [],
   "source": [
    "# lgmb_model = lgb.train(params, train_ds,num_boost_round= 2000, verbose_eval=100)"
   ]
  },
  {
   "cell_type": "code",
   "execution_count": 34,
   "metadata": {
    "ExecuteTime": {
     "end_time": "2020-02-19T12:59:56.416474Z",
     "start_time": "2020-02-19T12:59:15.387731Z"
    }
   },
   "outputs": [],
   "source": [
    "y_pred = lgmb_model.predict(test_X)"
   ]
  },
  {
   "cell_type": "code",
   "execution_count": 35,
   "metadata": {
    "ExecuteTime": {
     "end_time": "2020-02-19T12:59:56.444474Z",
     "start_time": "2020-02-19T12:59:56.418475Z"
    }
   },
   "outputs": [
    {
     "data": {
      "text/plain": [
       "array([[2.39841378e-04, 2.14380192e-04, 1.32347485e-02, ...,\n",
       "        1.84972529e-04, 6.75245120e-02, 2.42165849e-04],\n",
       "       [3.34013330e-04, 2.62384541e-04, 2.36344785e-04, ...,\n",
       "        2.38938822e-04, 8.62050953e-03, 3.53207233e-04],\n",
       "       [5.87414837e-04, 1.69355836e-04, 7.98995811e-05, ...,\n",
       "        7.98453319e-05, 8.58054931e-03, 1.00199364e-04],\n",
       "       ...,\n",
       "       [1.09290093e-03, 8.39319007e-04, 3.86462679e-04, ...,\n",
       "        3.86200284e-04, 8.54559495e-03, 7.14671716e-02],\n",
       "       [6.24413825e-05, 4.78213100e-05, 4.30753930e-05, ...,\n",
       "        4.30461462e-05, 6.44881344e-04, 1.06877667e-03],\n",
       "       [7.87875933e-04, 1.98106930e-05, 1.74865668e-05, ...,\n",
       "        1.74746940e-05, 8.05759603e-05, 6.42852670e-05]])"
      ]
     },
     "execution_count": 35,
     "metadata": {},
     "output_type": "execute_result"
    }
   ],
   "source": [
    "y_pred"
   ]
  },
  {
   "cell_type": "code",
   "execution_count": 36,
   "metadata": {
    "ExecuteTime": {
     "end_time": "2020-02-19T12:59:57.260448Z",
     "start_time": "2020-02-19T12:59:56.466473Z"
    }
   },
   "outputs": [],
   "source": [
    "submission = pd.DataFrame(data=y_pred, columns=sample_submission_df.columns, index=sample_submission_df.index)\n",
    "submission.to_csv('./submisson/submission.csv', index=True)"
   ]
  },
  {
   "cell_type": "code",
   "execution_count": null,
   "metadata": {},
   "outputs": [],
   "source": []
  }
 ],
 "metadata": {
  "kernelspec": {
   "display_name": "Python 3",
   "language": "python",
   "name": "python3"
  },
  "language_info": {
   "codemirror_mode": {
    "name": "ipython",
    "version": 3
   },
   "file_extension": ".py",
   "mimetype": "text/x-python",
   "name": "python",
   "nbconvert_exporter": "python",
   "pygments_lexer": "ipython3",
   "version": "3.6.5"
  },
  "varInspector": {
   "cols": {
    "lenName": 16,
    "lenType": 16,
    "lenVar": 40
   },
   "kernels_config": {
    "python": {
     "delete_cmd_postfix": "",
     "delete_cmd_prefix": "del ",
     "library": "var_list.py",
     "varRefreshCmd": "print(var_dic_list())"
    },
    "r": {
     "delete_cmd_postfix": ") ",
     "delete_cmd_prefix": "rm(",
     "library": "var_list.r",
     "varRefreshCmd": "cat(var_dic_list()) "
    }
   },
   "types_to_exclude": [
    "module",
    "function",
    "builtin_function_or_method",
    "instance",
    "_Feature"
   ],
   "window_display": false
  }
 },
 "nbformat": 4,
 "nbformat_minor": 2
}
