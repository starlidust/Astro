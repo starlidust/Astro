{
 "cells": [
  {
   "cell_type": "markdown",
   "metadata": {},
   "source": [
    "# 처음변수만"
   ]
  },
  {
   "cell_type": "code",
   "execution_count": 1,
   "metadata": {
    "ExecuteTime": {
     "end_time": "2020-02-29T13:03:34.583382Z",
     "start_time": "2020-02-29T13:03:28.675503Z"
    }
   },
   "outputs": [],
   "source": [
    "import pandas as pd\n",
    "import numpy as np\n",
    "import matplotlib.pyplot as plt\n",
    "import seaborn as sns\n",
    "\n",
    "from sklearn.ensemble import RandomForestClassifier\n",
    "from sklearn.model_selection import train_test_split\n",
    "from sklearn.metrics import confusion_matrix\n",
    "from sklearn.metrics import log_loss\n",
    "\n",
    "\n",
    "import lightgbm as lgb\n",
    "from sklearn.model_selection import KFold, StratifiedKFold, RandomizedSearchCV, GridSearchCV"
   ]
  },
  {
   "cell_type": "code",
   "execution_count": 2,
   "metadata": {
    "ExecuteTime": {
     "end_time": "2020-02-29T13:03:34.600381Z",
     "start_time": "2020-02-29T13:03:34.598380Z"
    }
   },
   "outputs": [],
   "source": [
    "# from google.colab import drive\n",
    "# drive.mount('/content/drive')"
   ]
  },
  {
   "cell_type": "code",
   "execution_count": 3,
   "metadata": {
    "ExecuteTime": {
     "end_time": "2020-02-29T13:03:34.635378Z",
     "start_time": "2020-02-29T13:03:34.624379Z"
    }
   },
   "outputs": [],
   "source": [
    "# #colab용\n",
    "# import os\n",
    "# os.chdir('/content/drive/My Drive/Colab Notebooks/Dacon/천체관측/')"
   ]
  },
  {
   "cell_type": "code",
   "execution_count": 4,
   "metadata": {
    "ExecuteTime": {
     "end_time": "2020-02-29T13:03:36.884383Z",
     "start_time": "2020-02-29T13:03:34.649378Z"
    }
   },
   "outputs": [],
   "source": [
    "path = \"./data/\"\n",
    "train_df = pd.read_csv(path+'train.csv',index_col=0)\n",
    "test_df = pd.read_csv(path+'test.csv',index_col=0)\n",
    "sample_submission_df = pd.read_csv(path+'sample_submission.csv',index_col=0)\n",
    "pd.options.display.max_columns = 30"
   ]
  },
  {
   "cell_type": "code",
   "execution_count": 5,
   "metadata": {
    "ExecuteTime": {
     "end_time": "2020-02-29T13:03:37.062379Z",
     "start_time": "2020-02-29T13:03:37.056378Z"
    }
   },
   "outputs": [
    {
     "data": {
      "text/plain": [
       "((199991, 22), (10009, 21))"
      ]
     },
     "execution_count": 5,
     "metadata": {},
     "output_type": "execute_result"
    }
   ],
   "source": [
    "train_df.shape, test_df.shape"
   ]
  },
  {
   "cell_type": "markdown",
   "metadata": {},
   "source": [
    "## DATA Setting"
   ]
  },
  {
   "cell_type": "code",
   "execution_count": 6,
   "metadata": {
    "ExecuteTime": {
     "end_time": "2020-02-29T13:03:37.230374Z",
     "start_time": "2020-02-29T13:03:37.223373Z"
    }
   },
   "outputs": [],
   "source": [
    "def del_outlier(data, min=0, max=60):\n",
    "    up_idx_t=()\n",
    "    dw_idx_t=()\n",
    "    train_light = data.iloc[:,2:]\n",
    "    for i in range(len(train_light.columns)):\n",
    "        col = train_light.columns[i]\n",
    "        up_idx_t+=tuple(data[data[col]>max].index)\n",
    "        dw_idx_t+=tuple(data[data[col]<min].index)\n",
    "    del_idx = set(up_idx_t+dw_idx_t)\n",
    "    \n",
    "    return data[~data.index.isin(del_idx)]"
   ]
  },
  {
   "cell_type": "code",
   "execution_count": 7,
   "metadata": {
    "ExecuteTime": {
     "end_time": "2020-02-29T13:03:41.659877Z",
     "start_time": "2020-02-29T13:03:41.506879Z"
    }
   },
   "outputs": [],
   "source": [
    "train_df = del_outlier(train_df, min=-30, max=30)"
   ]
  },
  {
   "cell_type": "code",
   "execution_count": 8,
   "metadata": {
    "ExecuteTime": {
     "end_time": "2020-02-29T13:03:42.009864Z",
     "start_time": "2020-02-29T13:03:42.005864Z"
    }
   },
   "outputs": [
    {
     "data": {
      "text/plain": [
       "(198767, 22)"
      ]
     },
     "execution_count": 8,
     "metadata": {},
     "output_type": "execute_result"
    }
   ],
   "source": [
    "train_df.shape"
   ]
  },
  {
   "cell_type": "code",
   "execution_count": 9,
   "metadata": {
    "ExecuteTime": {
     "end_time": "2020-02-29T13:03:43.662812Z",
     "start_time": "2020-02-29T13:03:43.497819Z"
    }
   },
   "outputs": [],
   "source": [
    "column_number = {}\n",
    "number_columns = {}\n",
    "for i, column in enumerate(sample_submission_df.columns):\n",
    "    column_number[column] = i\n",
    "    number_columns[i] = column\n",
    "    \n",
    "    \n",
    "def to_number(x, dic):\n",
    "    return dic[x]\n",
    "\n",
    "train_df['type_num'] = train_df['type'].apply(lambda x: to_number(x, column_number))\n"
   ]
  },
  {
   "cell_type": "code",
   "execution_count": 10,
   "metadata": {
    "ExecuteTime": {
     "end_time": "2020-02-29T13:03:44.866775Z",
     "start_time": "2020-02-29T13:03:44.861776Z"
    }
   },
   "outputs": [],
   "source": [
    "def add_minus_feature(data,test = False):\n",
    "    '''\n",
    "    근접변수에 대해서만 컬럼생성 ex) 'fiberMag_u-g', 'fiberMag_g-r', 'fiberMag_r-i', 'fiberMag_i-z'\n",
    "    각 mag에서 가장 높은값의 filter를 받아오는 \"~~mag_MAX\"생성\n",
    "    결과 38개로 증가 \n",
    "    '''\n",
    "    from itertools import combinations\n",
    "    n = 0\n",
    "    m = 0\n",
    "    for count in range(5,21,5):\n",
    "        s = 2\n",
    "        if test == True :\n",
    "            s = 1\n",
    "        selected = data.columns[s:].values[n:count]\n",
    "        mag = str.split(selected[0],'_')[0]\n",
    "#         data[mag+\"_MAX\"] = data[selected].apply(lambda x : str.split(np.argmax(x),'_')[1],axis = 1)\n",
    "        for i in range(0,len(selected)):        \n",
    "            if i>0: \n",
    "                name_1st = str.split(m,'_')[1]\n",
    "                name_2nd = str.split(selected[i],'_')[1]\n",
    "                data[mag+\"_\"+name_1st+\"-\"+name_2nd] = data[m]-data[selected[i]]\n",
    "            m = selected[i]    \n",
    "        n=count\n",
    "    return data"
   ]
  },
  {
   "cell_type": "code",
   "execution_count": 11,
   "metadata": {
    "ExecuteTime": {
     "end_time": "2020-02-29T13:03:48.018680Z",
     "start_time": "2020-02-29T13:03:48.013679Z"
    }
   },
   "outputs": [],
   "source": [
    "def add_minus_feature_all(data,test = False):\n",
    "    '''\n",
    "    combination으로 모든 변수들의 조합에 대해서 컬럼생성 \n",
    "    각 mag에서 가장 높은값의 filter를 받아오는 \"~~mag_MAX\"생성\n",
    "    결과 64개로 증가\n",
    "    '''\n",
    "    from itertools import combinations\n",
    "    n = 0\n",
    "    for count in range(5,21,5):\n",
    "        s = 2\n",
    "        if test == True :\n",
    "            s = 1\n",
    "        selected = data.columns[s:].values[n:count]\n",
    "        mag = str.split(selected[0],'_')[0]\n",
    "#         data[mag+\"_MAX\"] = data[selected].apply(lambda x : str.split(np.argmax(x),'_')[1],axis = 1)\n",
    "        for combi in list(combinations(selected,2)):\n",
    "            name_1st = str.split(combi[0],'_')[1]\n",
    "            name_2nd = str.split(combi[1],'_')[1]\n",
    "            data[mag+\"_\"+name_1st+\"-\"+name_2nd] = data[combi[0]]-data[combi[1]]\n",
    "        n=count\n",
    "    return data"
   ]
  },
  {
   "cell_type": "code",
   "execution_count": 13,
   "metadata": {
    "ExecuteTime": {
     "end_time": "2020-02-29T13:03:56.135435Z",
     "start_time": "2020-02-29T13:03:55.845443Z"
    }
   },
   "outputs": [],
   "source": [
    "train_df = add_minus_feature_all(train_df)\n",
    "test_df = add_minus_feature_all(test_df,True)"
   ]
  },
  {
   "cell_type": "code",
   "execution_count": 14,
   "metadata": {
    "ExecuteTime": {
     "end_time": "2020-02-29T13:03:57.687384Z",
     "start_time": "2020-02-29T13:03:57.199400Z"
    }
   },
   "outputs": [],
   "source": [
    "train_X = train_df.drop(columns=['type', 'type_num'], axis=1)\n",
    "train_y = train_df['type_num']\n",
    "test_X = test_df"
   ]
  },
  {
   "cell_type": "code",
   "execution_count": 15,
   "metadata": {
    "ExecuteTime": {
     "end_time": "2020-02-29T13:03:59.419368Z",
     "start_time": "2020-02-29T13:03:59.415368Z"
    }
   },
   "outputs": [
    {
     "data": {
      "text/plain": [
       "((198767, 61), (10009, 61))"
      ]
     },
     "execution_count": 15,
     "metadata": {},
     "output_type": "execute_result"
    }
   ],
   "source": [
    "train_X.shape, test_X.shape"
   ]
  },
  {
   "cell_type": "code",
   "execution_count": 16,
   "metadata": {
    "ExecuteTime": {
     "end_time": "2020-02-29T13:04:01.411364Z",
     "start_time": "2020-02-29T13:04:00.771384Z"
    }
   },
   "outputs": [],
   "source": [
    "X_train, X_test, y_train, y_test = train_test_split(train_X, train_y, test_size=0.3, random_state=42,stratify = train_y)"
   ]
  },
  {
   "cell_type": "code",
   "execution_count": 17,
   "metadata": {
    "ExecuteTime": {
     "end_time": "2020-02-29T13:04:09.180300Z",
     "start_time": "2020-02-29T13:04:03.451301Z"
    }
   },
   "outputs": [
    {
     "data": {
      "text/plain": [
       "<matplotlib.axes._subplots.AxesSubplot at 0x1fda8108e48>"
      ]
     },
     "execution_count": 17,
     "metadata": {},
     "output_type": "execute_result"
    },
    {
     "data": {
      "image/png": "[encoded data removed]",
      "text/plain": [
       "<Figure size 1080x1080 with 2 Axes>"
      ]
     },
     "metadata": {},
     "output_type": "display_data"
    }
   ],
   "source": [
    "plt.figure(figsize =(15,15))\n",
    "sns.heatmap(train_df.corr())"
   ]
  },
  {
   "cell_type": "markdown",
   "metadata": {},
   "source": [
    "# FE"
   ]
  },
  {
   "cell_type": "markdown",
   "metadata": {},
   "source": [
    "### corr"
   ]
  },
  {
   "cell_type": "code",
   "execution_count": 19,
   "metadata": {
    "ExecuteTime": {
     "end_time": "2020-02-29T13:04:31.216108Z",
     "start_time": "2020-02-29T13:04:31.212108Z"
    }
   },
   "outputs": [],
   "source": [
    "default_lgbm = lgb.LGBMClassifier()"
   ]
  },
  {
   "cell_type": "code",
   "execution_count": 20,
   "metadata": {
    "ExecuteTime": {
     "end_time": "2020-02-29T13:04:32.578578Z",
     "start_time": "2020-02-29T13:04:32.572577Z"
    }
   },
   "outputs": [],
   "source": [
    "def simlpe_lgbm(model, X, y, test_size=0.2):\n",
    "    '''\n",
    "    RFE용으로 logloss보존\n",
    "    '''\n",
    "    from sklearn.model_selection import train_test_split\n",
    "    from sklearn.metrics import log_loss\n",
    "    \n",
    "    #train_test_split\n",
    "    X_train, X_test, y_train, y_test = train_test_split(X,y, test_size=test_size, random_state = 42)\n",
    "    model.fit(X,y)\n",
    "    \n",
    "    print(\"used col:\", X.shape[1])\n",
    "    print(\"train score:\",model.score(X_train,y_train))\n",
    "    print(\"test score:\",model.score(X_test,y_test))\n",
    "    \n",
    "    pred_y = model.predict_proba(X_test)\n",
    "    logloss = log_loss(y_test,pred_y,labels= list(set(y_test)))\n",
    "    print('logloss:',logloss)\n",
    "    \n",
    "    #report and importance\n",
    "    \n",
    "    return logloss"
   ]
  },
  {
   "cell_type": "code",
   "execution_count": 21,
   "metadata": {
    "ExecuteTime": {
     "end_time": "2020-02-29T13:04:33.875620Z",
     "start_time": "2020-02-29T13:04:33.868619Z"
    }
   },
   "outputs": [],
   "source": [
    "def cor_selector(X, y, parcent = 0.9):\n",
    "    '''\n",
    "    correlation을 이용한\n",
    "    X,y값을 전달하면 해당컬럼의 parcent만큼의 feature만 선택하여 feature만 반환\n",
    "    (선택된 feature들의 상관관계를 확인하려면 return을 corr_df로 변경)\n",
    "    '''\n",
    "    n_features = round(len(X.columns) * parcent)\n",
    "    cor_list = []\n",
    "    # calculate the correlation with y for each feature\n",
    "    # y와의 상관계수를 파악한다\n",
    "    for i in X.columns.tolist():\n",
    "        cor = np.corrcoef(X[i], y)[0, 1]\n",
    "        cor_list.append(cor)\n",
    "    # replace NaN with 0\n",
    "    # 0인게 있다면 NAN으로 대체한다(결측치 혹은 전부 동일한값의 경우)\n",
    "    cor_list = [0 if np.isnan(i) else i for i in cor_list]\n",
    "    # feature name\n",
    "    # 상관계수에 절대값을 사용해 부호통일후 \n",
    "    # argsort를 사용해 상관계수가 높은 n_fearture개를 선택한다\n",
    "    cor_feature = X.iloc[:,np.argsort(np.abs(cor_list))[-(n_features):]].columns.tolist()\n",
    "    selected_corr = np.abs(cor_list)[(np.argsort(np.abs(cor_list)))[-(n_features):]]\n",
    "    \n",
    "    #선택된 feature와 corr 높은순서대로 보여줌\n",
    "    corr_df = pd.DataFrame(index= cor_feature,data = selected_corr,columns=[\"corr\"]).sort_values(\"corr\",ascending=False)\n",
    "   \n",
    "    # feature selection? 0 for not select, 1 for select\n",
    "    # 전체중에서 Ture인 변수들만 선택되었음 (False는 미선택된 경우)\n",
    "    cor_support = [True if i in cor_feature else False for i in X.columns.values]\n",
    "    \n",
    "    print(str(len(cor_feature)), 'selected features')\n",
    "    return cor_feature, cor_support"
   ]
  },
  {
   "cell_type": "code",
   "execution_count": 22,
   "metadata": {
    "ExecuteTime": {
     "end_time": "2020-02-29T13:04:35.781697Z",
     "start_time": "2020-02-29T13:04:35.075205Z"
    }
   },
   "outputs": [
    {
     "name": "stdout",
     "output_type": "stream",
     "text": [
      "43 selected features\n"
     ]
    }
   ],
   "source": [
    "cor_feature, cor_support = cor_selector(train_X,train_y, 0.7)"
   ]
  },
  {
   "cell_type": "code",
   "execution_count": 24,
   "metadata": {
    "ExecuteTime": {
     "end_time": "2020-02-29T13:22:19.794674Z",
     "start_time": "2020-02-29T13:04:38.204619Z"
    }
   },
   "outputs": [
    {
     "name": "stdout",
     "output_type": "stream",
     "text": [
      "55 selected features\n",
      "used col: 55\n",
      "train score: 0.8531566601472835\n",
      "test score: 0.8547567540373295\n",
      "logloss: 1.8746404264409684\n",
      "49 selected features\n",
      "used col: 49\n",
      "train score: 0.8695767012759963\n",
      "test score: 0.871836796297228\n",
      "logloss: 0.9550390671767277\n",
      "43 selected features\n",
      "used col: 43\n",
      "train score: 0.8798274354926956\n",
      "test score: 0.8815213563415002\n",
      "logloss: 0.6243651575485272\n",
      "37 selected features\n",
      "used col: 37\n",
      "train score: 0.8611748724947017\n",
      "test score: 0.8628565678925391\n",
      "logloss: 1.2710676578690143\n",
      "30 selected features\n",
      "used col: 30\n",
      "train score: 0.8730166715928886\n",
      "test score: 0.8774211400110681\n",
      "logloss: 0.6840662037618217\n",
      "24 selected features\n",
      "used col: 24\n",
      "train score: 0.8598982473131128\n",
      "test score: 0.8611963575992353\n",
      "logloss: 1.0129112220097063\n",
      "18 selected features\n",
      "used col: 18\n",
      "train score: 0.7983183764849415\n",
      "test score: 0.7988630074961011\n",
      "logloss: 2.863557918323048\n",
      "12 selected features\n",
      "used col: 12\n",
      "train score: 0.8470691075572437\n",
      "test score: 0.8492478744277305\n",
      "logloss: 0.8218568607828501\n",
      "6 selected features\n",
      "used col: 6\n",
      "train score: 0.7130486186663983\n",
      "test score: 0.7154248629068773\n",
      "logloss: 2.8620911166746485\n",
      "3 selected features\n",
      "used col: 3\n",
      "train score: 0.6331369133341299\n",
      "test score: 0.6334708457010615\n",
      "logloss: 2.5366303162449264\n"
     ]
    }
   ],
   "source": [
    "fea = []\n",
    "sup = []\n",
    "cohens =[]\n",
    "for p in [0.9,0.8,0.7,0.6,0.5,0.4,0.3,0.2,0.1,0.05]:\n",
    "    cor_feature, cor_support = cor_selector(train_X, train_y, parcent = p )\n",
    "    cohen = simlpe_lgbm(default_lgbm, train_X[cor_feature], train_y, test_size=0.2)\n",
    "    fea.append(cor_feature)\n",
    "    sup.append(cor_support)\n",
    "    cohens.append(cohen)"
   ]
  },
  {
   "cell_type": "code",
   "execution_count": 37,
   "metadata": {
    "ExecuteTime": {
     "end_time": "2020-02-29T13:42:15.206841Z",
     "start_time": "2020-02-29T13:42:15.202842Z"
    }
   },
   "outputs": [],
   "source": [
    "corr = fea[4]"
   ]
  },
  {
   "cell_type": "code",
   "execution_count": 38,
   "metadata": {
    "ExecuteTime": {
     "end_time": "2020-02-29T13:42:16.429803Z",
     "start_time": "2020-02-29T13:42:16.423802Z"
    }
   },
   "outputs": [
    {
     "data": {
      "text/plain": [
       "['psfMag_z',\n",
       " 'modelMag_r',\n",
       " 'psfMag_g-z',\n",
       " 'modelMag_g-z',\n",
       " 'modelMag_g-i',\n",
       " 'fiberMag_g-z',\n",
       " 'fiberMag_g-i',\n",
       " 'psfMag_g-r',\n",
       " 'fiberMag_g-r',\n",
       " 'modelMag_g-r',\n",
       " 'fiberMag_z',\n",
       " 'petroMag_u-r',\n",
       " 'petroMag_u-z',\n",
       " 'petroMag_i',\n",
       " 'petroMag_u-i',\n",
       " 'modelMag_i',\n",
       " 'petroMag_z',\n",
       " 'modelMag_u-z',\n",
       " 'modelMag_u-g',\n",
       " 'modelMag_u-i',\n",
       " 'psfMag_u-z',\n",
       " 'modelMag_z',\n",
       " 'psfMag_u-i',\n",
       " 'psfMag_u-g',\n",
       " 'modelMag_u-r',\n",
       " 'fiberMag_u-z',\n",
       " 'fiberMag_u-i',\n",
       " 'psfMag_u-r',\n",
       " 'fiberMag_u-g',\n",
       " 'fiberMag_u-r']"
      ]
     },
     "execution_count": 38,
     "metadata": {},
     "output_type": "execute_result"
    }
   ],
   "source": [
    "corr"
   ]
  },
  {
   "cell_type": "markdown",
   "metadata": {},
   "source": [
    "### SELECT_FROM_MODEL"
   ]
  },
  {
   "cell_type": "code",
   "execution_count": 25,
   "metadata": {
    "ExecuteTime": {
     "end_time": "2020-02-29T13:22:20.772642Z",
     "start_time": "2020-02-29T13:22:20.768642Z"
    }
   },
   "outputs": [],
   "source": [
    "def SFML(model, X, y):\n",
    "    '''\n",
    "    SelectFromModel를 활용 threshold는 변경가능하지만 정확힌 잘 모르겠음\n",
    "    '''\n",
    "    from sklearn.feature_selection import SelectFromModel\n",
    "    embeded_lgb_selector = SelectFromModel(default_lgbm, threshold='1.25*median')\n",
    "    embeded_lgb_selector.fit(X, y)\n",
    "    embeded_lgb_support = embeded_lgb_selector.get_support()\n",
    "    embeded_lgb_feature = X.loc[:,embeded_lgb_support].columns.tolist()\n",
    "    print(str(len(embeded_lgb_feature)), 'selected features')\n",
    "    \n",
    "    return embeded_lgb_feature, embeded_lgb_support"
   ]
  },
  {
   "cell_type": "code",
   "execution_count": 26,
   "metadata": {
    "ExecuteTime": {
     "end_time": "2020-02-29T13:24:17.337052Z",
     "start_time": "2020-02-29T13:22:21.605616Z"
    }
   },
   "outputs": [
    {
     "name": "stdout",
     "output_type": "stream",
     "text": [
      "13 selected features\n"
     ]
    }
   ],
   "source": [
    "embeded_lgb_feature,embeded_lgb_support = SFML(default_lgbm,train_X,train_y)"
   ]
  },
  {
   "cell_type": "code",
   "execution_count": 27,
   "metadata": {
    "ExecuteTime": {
     "end_time": "2020-02-29T13:24:18.679011Z",
     "start_time": "2020-02-29T13:24:18.674011Z"
    }
   },
   "outputs": [
    {
     "data": {
      "text/plain": [
       "['fiberID',\n",
       " 'psfMag_g',\n",
       " 'psfMag_r',\n",
       " 'psfMag_i',\n",
       " 'petroMag_u',\n",
       " 'psfMag_u-g',\n",
       " 'psfMag_g-r',\n",
       " 'psfMag_r-i',\n",
       " 'fiberMag_u-g',\n",
       " 'petroMag_u-g',\n",
       " 'petroMag_u-i',\n",
       " 'petroMag_u-z',\n",
       " 'modelMag_u-g']"
      ]
     },
     "execution_count": 27,
     "metadata": {},
     "output_type": "execute_result"
    }
   ],
   "source": [
    "embeded_lgb_feature"
   ]
  },
  {
   "cell_type": "markdown",
   "metadata": {},
   "source": [
    "### KBEST"
   ]
  },
  {
   "cell_type": "code",
   "execution_count": 42,
   "metadata": {
    "ExecuteTime": {
     "end_time": "2020-02-28T12:51:31.300936Z",
     "start_time": "2020-02-28T12:51:31.296933Z"
    }
   },
   "outputs": [],
   "source": [
    "from sklearn.feature_selection import SelectKBest, f_classif, chi2"
   ]
  },
  {
   "cell_type": "code",
   "execution_count": 28,
   "metadata": {
    "ExecuteTime": {
     "end_time": "2020-02-29T13:24:19.838974Z",
     "start_time": "2020-02-29T13:24:19.826973Z"
    }
   },
   "outputs": [],
   "source": [
    "from sklearn.feature_selection import SelectKBest, f_classif, chi2\n",
    "def Kbest_iter(X,y, score_func= f_classif, select=7, iteration = 11):\n",
    "    '''\n",
    "    Kbest를 반복하여 추출\n",
    "    추출방법은 f_classif, chi2가 분류에 적합\n",
    "    '''\n",
    "    \n",
    "    n_selects = np.arange(select,select*iteration+1,select)\n",
    "    \n",
    "    feature_names_lst = []\n",
    "    Kbest_support_lst = []\n",
    "    scores_lst =[]\n",
    "    for n in n_selects:\n",
    "        selector = SelectKBest(score_func, k = n)\n",
    "        X_new = selector.fit_transform(X, y)\n",
    "        \n",
    "        #추출대상\n",
    "        names = X.columns.values[selector.get_support()]\n",
    "        Kbest_support = selector.get_support()\n",
    "        scores = selector.scores_[selector.get_support()]\n",
    "        \n",
    "        #순서대로 정렬하기 위함\n",
    "        names_scores = list(zip(names, scores))\n",
    "        ns_df = pd.DataFrame(data = names_scores, columns=['Feat_names', 'F_Scores'])\n",
    "        ns_df_sorted = ns_df.sort_values(['F_Scores', 'Feat_names'], ascending = [False, True])\n",
    "        \n",
    "        #저장\n",
    "        feature_names_lst.append(ns_df_sorted['Feat_names'].values)\n",
    "        Kbest_support_lst.append(Kbest_support)\n",
    "        scores_lst.append(ns_df_sorted['F_Scores'].values)\n",
    "    \n",
    "    #코헨의 카파 \n",
    "    kbest_cohens=[]\n",
    "    for selected_f in feature_names_lst:\n",
    "        kbest_cohen = simlpe_lgbm(default_lgbm, X[selected_f], y, test_size=0.2)\n",
    "        kbest_cohens.append(kbest_cohen)\n",
    "\n",
    "    return kbest_cohens,feature_names_lst,Kbest_support_lst, scores_lst\n",
    "        \n",
    "    "
   ]
  },
  {
   "cell_type": "code",
   "execution_count": 32,
   "metadata": {
    "ExecuteTime": {
     "end_time": "2020-02-29T13:42:04.114183Z",
     "start_time": "2020-02-29T13:26:00.908861Z"
    }
   },
   "outputs": [
    {
     "name": "stdout",
     "output_type": "stream",
     "text": [
      "used col: 6\n",
      "train score: 0.7121052995667021\n",
      "test score: 0.7142929013432611\n",
      "logloss: 1.1147923640017758\n",
      "used col: 12\n",
      "train score: 0.7345814493154648\n",
      "test score: 0.7370327514212406\n",
      "logloss: 1.4860680425830761\n",
      "used col: 18\n",
      "train score: 0.8623005666203393\n",
      "test score: 0.8646928610957388\n",
      "logloss: 0.8623967762383097\n",
      "used col: 24\n",
      "train score: 0.8679227484545289\n",
      "test score: 0.8703778236152336\n",
      "logloss: 0.9917718401436736\n",
      "used col: 30\n",
      "train score: 0.8781231723192443\n",
      "test score: 0.8800120742566786\n",
      "logloss: 0.5981129843769597\n",
      "used col: 36\n",
      "train score: 0.8687277140862697\n",
      "test score: 0.8717613321929869\n",
      "logloss: 1.0113122934884704\n",
      "used col: 42\n",
      "train score: 0.875198883110186\n",
      "test score: 0.8784524827690295\n",
      "logloss: 0.7339616864004298\n",
      "used col: 48\n",
      "train score: 0.8770352109575946\n",
      "test score: 0.8785279468732706\n",
      "logloss: 0.7359177020540215\n",
      "used col: 54\n",
      "train score: 0.860344751686969\n",
      "test score: 0.8620013080444735\n",
      "logloss: 1.4913272214204987\n",
      "used col: 60\n",
      "train score: 0.8759912711539308\n",
      "test score: 0.8778990793379282\n",
      "logloss: 0.880725690551683\n"
     ]
    }
   ],
   "source": [
    "kbest_cohens,feature_names_lst,Kbest_support_lst, scores_lst = Kbest_iter(train_X,train_y, score_func= f_classif, select=6, iteration = 10)"
   ]
  },
  {
   "cell_type": "code",
   "execution_count": 33,
   "metadata": {
    "ExecuteTime": {
     "end_time": "2020-02-29T13:42:05.301145Z",
     "start_time": "2020-02-29T13:42:05.297147Z"
    }
   },
   "outputs": [],
   "source": [
    "# 3가지 feature_selection 53/23/23\n",
    "kbest = feature_names_lst[2]\n",
    "sfm = embeded_lgb_feature"
   ]
  },
  {
   "cell_type": "markdown",
   "metadata": {},
   "source": [
    "## 각각하나씩 진행후 비교 (corr)"
   ]
  },
  {
   "cell_type": "code",
   "execution_count": 39,
   "metadata": {
    "ExecuteTime": {
     "end_time": "2020-02-29T13:42:21.906635Z",
     "start_time": "2020-02-29T13:42:21.833636Z"
    }
   },
   "outputs": [],
   "source": [
    "n_train_X = train_X[corr]\n",
    "train_y = train_df['type_num']\n",
    "n_test_X = test_X[corr]"
   ]
  },
  {
   "cell_type": "code",
   "execution_count": 40,
   "metadata": {
    "ExecuteTime": {
     "end_time": "2020-02-29T13:42:23.517585Z",
     "start_time": "2020-02-29T13:42:23.265592Z"
    }
   },
   "outputs": [],
   "source": [
    "X_train, X_test, y_train, y_test = train_test_split(n_train_X, train_y, test_size=0.3, random_state=42,stratify = train_y)"
   ]
  },
  {
   "cell_type": "code",
   "execution_count": 41,
   "metadata": {
    "ExecuteTime": {
     "end_time": "2020-02-29T13:42:24.578551Z",
     "start_time": "2020-02-29T13:42:24.575552Z"
    }
   },
   "outputs": [],
   "source": [
    "lgbm_c = lgb.LGBMClassifier(num_leaves = 511, min_child_samples = 30,\n",
    "                            max_depth = 7, learning_rate = 0.01,\n",
    "                            lambda_l2 = 7, lambda_l1 = 9,\n",
    "                            n_estimators=2000, random_state = 42)"
   ]
  },
  {
   "cell_type": "code",
   "execution_count": 42,
   "metadata": {
    "ExecuteTime": {
     "end_time": "2020-02-29T14:08:27.672903Z",
     "start_time": "2020-02-29T13:42:25.626520Z"
    }
   },
   "outputs": [
    {
     "name": "stdout",
     "output_type": "stream",
     "text": [
      "Training until validation scores don't improve for 100 rounds\n",
      "[100]\ttrain's multi_logloss: 0.949464\tvalid's multi_logloss: 0.959667\n",
      "[200]\ttrain's multi_logloss: 0.618841\tvalid's multi_logloss: 0.633407\n",
      "[300]\ttrain's multi_logloss: 0.489454\tvalid's multi_logloss: 0.507471\n",
      "[400]\ttrain's multi_logloss: 0.431254\tvalid's multi_logloss: 0.452328\n",
      "[500]\ttrain's multi_logloss: 0.400203\tvalid's multi_logloss: 0.424672\n",
      "[600]\ttrain's multi_logloss: 0.381838\tvalid's multi_logloss: 0.409525\n",
      "[700]\ttrain's multi_logloss: 0.369241\tvalid's multi_logloss: 0.400238\n",
      "[800]\ttrain's multi_logloss: 0.359889\tvalid's multi_logloss: 0.394251\n",
      "[900]\ttrain's multi_logloss: 0.35213\tvalid's multi_logloss: 0.389928\n",
      "[1000]\ttrain's multi_logloss: 0.345687\tvalid's multi_logloss: 0.386931\n",
      "[1100]\ttrain's multi_logloss: 0.339818\tvalid's multi_logloss: 0.384663\n",
      "[1200]\ttrain's multi_logloss: 0.334626\tvalid's multi_logloss: 0.3829\n",
      "[1300]\ttrain's multi_logloss: 0.329997\tvalid's multi_logloss: 0.381628\n",
      "[1400]\ttrain's multi_logloss: 0.325677\tvalid's multi_logloss: 0.380639\n",
      "[1500]\ttrain's multi_logloss: 0.321709\tvalid's multi_logloss: 0.379868\n",
      "[1600]\ttrain's multi_logloss: 0.317972\tvalid's multi_logloss: 0.379178\n",
      "[1700]\ttrain's multi_logloss: 0.314273\tvalid's multi_logloss: 0.378588\n",
      "[1800]\ttrain's multi_logloss: 0.310646\tvalid's multi_logloss: 0.378058\n",
      "[1900]\ttrain's multi_logloss: 0.307438\tvalid's multi_logloss: 0.377676\n",
      "[2000]\ttrain's multi_logloss: 0.304159\tvalid's multi_logloss: 0.377359\n",
      "Did not meet early stopping. Best iteration is:\n",
      "[2000]\ttrain's multi_logloss: 0.304159\tvalid's multi_logloss: 0.377359\n"
     ]
    },
    {
     "data": {
      "text/plain": [
       "LGBMClassifier(boosting_type='gbdt', class_weight=None, colsample_bytree=1.0,\n",
       "               importance_type='split', lambda_l1=9, lambda_l2=7,\n",
       "               learning_rate=0.01, max_depth=7, min_child_samples=30,\n",
       "               min_child_weight=0.001, min_split_gain=0.0, n_estimators=2000,\n",
       "               n_jobs=-1, num_leaves=511, objective=None, random_state=42,\n",
       "               reg_alpha=0.0, reg_lambda=0.0, silent=True, subsample=1.0,\n",
       "               subsample_for_bin=200000, subsample_freq=0)"
      ]
     },
     "execution_count": 42,
     "metadata": {},
     "output_type": "execute_result"
    }
   ],
   "source": [
    "lgbm_c.fit(X_train, y_train, eval_set = [(X_train,y_train),(X_test, y_test)],eval_names= ['train','valid'], \n",
    "           eval_metric = 'logloss', verbose = 100, early_stopping_rounds = 100)"
   ]
  },
  {
   "cell_type": "code",
   "execution_count": 43,
   "metadata": {
    "ExecuteTime": {
     "end_time": "2020-02-29T14:13:31.722530Z",
     "start_time": "2020-02-29T14:08:28.707868Z"
    },
    "scrolled": true
   },
   "outputs": [
    {
     "data": {
      "text/plain": [
       "0.37673802428812764"
      ]
     },
     "execution_count": 43,
     "metadata": {},
     "output_type": "execute_result"
    }
   ],
   "source": [
    "train_y_pred = lgbm_c.predict_proba(X_test)\n",
    "\n",
    "from sklearn.metrics import log_loss\n",
    "#log_loss\n",
    "log_loss(y_test,train_y_pred,labels= list(set(y_test)))"
   ]
  },
  {
   "cell_type": "code",
   "execution_count": 44,
   "metadata": {
    "ExecuteTime": {
     "end_time": "2020-02-29T14:13:32.785500Z",
     "start_time": "2020-02-29T14:13:32.776498Z"
    }
   },
   "outputs": [
    {
     "data": {
      "text/plain": [
       "array([[1.94151336e-05, 1.38658972e-05, 6.27777366e-06, ...,\n",
       "        5.87531959e-06, 6.36017757e-06, 5.25165875e-05],\n",
       "       [4.96064833e-04, 1.50525940e-03, 8.81224903e-05, ...,\n",
       "        1.16027298e-04, 5.31682112e-04, 4.99215847e-01],\n",
       "       [1.70352080e-04, 2.69962890e-05, 1.40415490e-05, ...,\n",
       "        1.82130903e-05, 2.02816636e-05, 1.14453436e-04],\n",
       "       ...,\n",
       "       [1.12025011e-04, 6.91430850e-05, 9.87917220e-06, ...,\n",
       "        4.94331949e-05, 3.94971741e-05, 4.47605648e-05],\n",
       "       [3.54486075e-03, 8.06231701e-05, 2.52647539e-05, ...,\n",
       "        3.20803348e-05, 3.43512180e-05, 8.98327162e-05],\n",
       "       [1.33244134e-03, 8.91774259e-01, 7.46476724e-05, ...,\n",
       "        2.73356069e-04, 1.49675171e-04, 2.09720761e-04]])"
      ]
     },
     "execution_count": 44,
     "metadata": {},
     "output_type": "execute_result"
    }
   ],
   "source": [
    "train_y_pred"
   ]
  },
  {
   "cell_type": "code",
   "execution_count": 45,
   "metadata": {
    "ExecuteTime": {
     "end_time": "2020-02-29T14:14:33.973612Z",
     "start_time": "2020-02-29T14:13:33.833468Z"
    }
   },
   "outputs": [],
   "source": [
    "test_y_pred = lgbm_c.predict_proba(n_test_X)"
   ]
  },
  {
   "cell_type": "code",
   "execution_count": 46,
   "metadata": {
    "ExecuteTime": {
     "end_time": "2020-02-29T14:14:35.252574Z",
     "start_time": "2020-02-29T14:14:35.247573Z"
    }
   },
   "outputs": [
    {
     "data": {
      "text/plain": [
       "array([[7.93572907e-05, 1.30740736e-04, 5.48247358e-03, ...,\n",
       "        3.75232267e-04, 5.37800249e-04, 8.58419903e-05],\n",
       "       [1.64849001e-04, 4.15662579e-04, 7.93185266e-05, ...,\n",
       "        1.33514345e-04, 1.77793277e-03, 4.35076098e-04],\n",
       "       [1.76682540e-04, 7.10933117e-05, 7.29501282e-06, ...,\n",
       "        8.71521678e-06, 2.02277984e-05, 2.31850947e-05],\n",
       "       ...,\n",
       "       [3.24242959e-04, 5.06492879e-04, 1.08892390e-04, ...,\n",
       "        1.66467845e-04, 2.18745217e-04, 8.45944645e-02],\n",
       "       [2.24040431e-05, 3.22248634e-05, 6.45811934e-06, ...,\n",
       "        5.35589790e-06, 9.83708419e-06, 5.94260713e-04],\n",
       "       [1.27438471e-04, 2.34001438e-05, 4.86849659e-06, ...,\n",
       "        9.72354872e-06, 7.79526262e-06, 2.25252022e-05]])"
      ]
     },
     "execution_count": 46,
     "metadata": {},
     "output_type": "execute_result"
    }
   ],
   "source": [
    "test_y_pred"
   ]
  },
  {
   "cell_type": "markdown",
   "metadata": {},
   "source": [
    "### feature_importance"
   ]
  },
  {
   "cell_type": "code",
   "execution_count": 47,
   "metadata": {
    "ExecuteTime": {
     "end_time": "2020-02-29T14:17:50.875546Z",
     "start_time": "2020-02-29T14:17:50.845548Z"
    },
    "scrolled": true
   },
   "outputs": [
    {
     "data": {
      "text/html": [
       "<div>\n",
       "<style scoped>\n",
       "    .dataframe tbody tr th:only-of-type {\n",
       "        vertical-align: middle;\n",
       "    }\n",
       "\n",
       "    .dataframe tbody tr th {\n",
       "        vertical-align: top;\n",
       "    }\n",
       "\n",
       "    .dataframe thead th {\n",
       "        text-align: right;\n",
       "    }\n",
       "</style>\n",
       "<table border=\"1\" class=\"dataframe\">\n",
       "  <thead>\n",
       "    <tr style=\"text-align: right;\">\n",
       "      <th></th>\n",
       "      <th>importance</th>\n",
       "    </tr>\n",
       "  </thead>\n",
       "  <tbody>\n",
       "    <tr>\n",
       "      <th>modelMag_r</th>\n",
       "      <td>75454</td>\n",
       "    </tr>\n",
       "    <tr>\n",
       "      <th>psfMag_z</th>\n",
       "      <td>65504</td>\n",
       "    </tr>\n",
       "    <tr>\n",
       "      <th>psfMag_g-r</th>\n",
       "      <td>54688</td>\n",
       "    </tr>\n",
       "    <tr>\n",
       "      <th>fiberMag_z</th>\n",
       "      <td>46996</td>\n",
       "    </tr>\n",
       "    <tr>\n",
       "      <th>fiberMag_g-r</th>\n",
       "      <td>46693</td>\n",
       "    </tr>\n",
       "    <tr>\n",
       "      <th>modelMag_g-r</th>\n",
       "      <td>45740</td>\n",
       "    </tr>\n",
       "    <tr>\n",
       "      <th>modelMag_i</th>\n",
       "      <td>44466</td>\n",
       "    </tr>\n",
       "    <tr>\n",
       "      <th>fiberMag_g-z</th>\n",
       "      <td>43962</td>\n",
       "    </tr>\n",
       "    <tr>\n",
       "      <th>petroMag_i</th>\n",
       "      <td>43813</td>\n",
       "    </tr>\n",
       "    <tr>\n",
       "      <th>modelMag_u-g</th>\n",
       "      <td>43532</td>\n",
       "    </tr>\n",
       "    <tr>\n",
       "      <th>modelMag_g-i</th>\n",
       "      <td>42956</td>\n",
       "    </tr>\n",
       "    <tr>\n",
       "      <th>fiberMag_u-g</th>\n",
       "      <td>42555</td>\n",
       "    </tr>\n",
       "    <tr>\n",
       "      <th>modelMag_z</th>\n",
       "      <td>42209</td>\n",
       "    </tr>\n",
       "    <tr>\n",
       "      <th>psfMag_u-g</th>\n",
       "      <td>40108</td>\n",
       "    </tr>\n",
       "    <tr>\n",
       "      <th>psfMag_g-z</th>\n",
       "      <td>39927</td>\n",
       "    </tr>\n",
       "    <tr>\n",
       "      <th>petroMag_z</th>\n",
       "      <td>39573</td>\n",
       "    </tr>\n",
       "    <tr>\n",
       "      <th>petroMag_u-r</th>\n",
       "      <td>38349</td>\n",
       "    </tr>\n",
       "    <tr>\n",
       "      <th>modelMag_g-z</th>\n",
       "      <td>38104</td>\n",
       "    </tr>\n",
       "    <tr>\n",
       "      <th>fiberMag_g-i</th>\n",
       "      <td>36433</td>\n",
       "    </tr>\n",
       "    <tr>\n",
       "      <th>psfMag_u-r</th>\n",
       "      <td>30919</td>\n",
       "    </tr>\n",
       "    <tr>\n",
       "      <th>petroMag_u-z</th>\n",
       "      <td>30727</td>\n",
       "    </tr>\n",
       "    <tr>\n",
       "      <th>petroMag_u-i</th>\n",
       "      <td>29830</td>\n",
       "    </tr>\n",
       "    <tr>\n",
       "      <th>fiberMag_u-r</th>\n",
       "      <td>27752</td>\n",
       "    </tr>\n",
       "    <tr>\n",
       "      <th>fiberMag_u-z</th>\n",
       "      <td>26290</td>\n",
       "    </tr>\n",
       "    <tr>\n",
       "      <th>psfMag_u-i</th>\n",
       "      <td>26222</td>\n",
       "    </tr>\n",
       "    <tr>\n",
       "      <th>psfMag_u-z</th>\n",
       "      <td>24706</td>\n",
       "    </tr>\n",
       "    <tr>\n",
       "      <th>modelMag_u-r</th>\n",
       "      <td>23961</td>\n",
       "    </tr>\n",
       "    <tr>\n",
       "      <th>fiberMag_u-i</th>\n",
       "      <td>22720</td>\n",
       "    </tr>\n",
       "    <tr>\n",
       "      <th>modelMag_u-z</th>\n",
       "      <td>22441</td>\n",
       "    </tr>\n",
       "    <tr>\n",
       "      <th>modelMag_u-i</th>\n",
       "      <td>20835</td>\n",
       "    </tr>\n",
       "  </tbody>\n",
       "</table>\n",
       "</div>"
      ],
      "text/plain": [
       "              importance\n",
       "modelMag_r         75454\n",
       "psfMag_z           65504\n",
       "psfMag_g-r         54688\n",
       "fiberMag_z         46996\n",
       "fiberMag_g-r       46693\n",
       "modelMag_g-r       45740\n",
       "modelMag_i         44466\n",
       "fiberMag_g-z       43962\n",
       "petroMag_i         43813\n",
       "modelMag_u-g       43532\n",
       "modelMag_g-i       42956\n",
       "fiberMag_u-g       42555\n",
       "modelMag_z         42209\n",
       "psfMag_u-g         40108\n",
       "psfMag_g-z         39927\n",
       "petroMag_z         39573\n",
       "petroMag_u-r       38349\n",
       "modelMag_g-z       38104\n",
       "fiberMag_g-i       36433\n",
       "psfMag_u-r         30919\n",
       "petroMag_u-z       30727\n",
       "petroMag_u-i       29830\n",
       "fiberMag_u-r       27752\n",
       "fiberMag_u-z       26290\n",
       "psfMag_u-i         26222\n",
       "psfMag_u-z         24706\n",
       "modelMag_u-r       23961\n",
       "fiberMag_u-i       22720\n",
       "modelMag_u-z       22441\n",
       "modelMag_u-i       20835"
      ]
     },
     "execution_count": 47,
     "metadata": {},
     "output_type": "execute_result"
    }
   ],
   "source": [
    "pi_df = pd.DataFrame(lgbm_c.feature_importances_, index= n_train_X.columns,columns= ['importance']).sort_values('importance',ascending = False)\n",
    "pi_df"
   ]
  },
  {
   "cell_type": "markdown",
   "metadata": {},
   "source": [
    "### 예측결과에 대해\n",
    "잘된예측 : 1,3,4,5,6,8,9,10,14,15,16,18  \n",
    "중간예측 : 0,2,7,13  \n",
    "망한예측 : 11,12,17"
   ]
  },
  {
   "cell_type": "code",
   "execution_count": 48,
   "metadata": {
    "ExecuteTime": {
     "end_time": "2020-02-29T14:22:50.382317Z",
     "start_time": "2020-02-29T14:18:02.697182Z"
    }
   },
   "outputs": [],
   "source": [
    "train_y_pred = lgbm_c.predict(X_test)"
   ]
  },
  {
   "cell_type": "code",
   "execution_count": 49,
   "metadata": {
    "ExecuteTime": {
     "end_time": "2020-02-29T14:22:51.506284Z",
     "start_time": "2020-02-29T14:22:51.501283Z"
    }
   },
   "outputs": [
    {
     "data": {
      "text/plain": [
       "(59631,)"
      ]
     },
     "execution_count": 49,
     "metadata": {},
     "output_type": "execute_result"
    }
   ],
   "source": [
    "train_y_pred.shape"
   ]
  },
  {
   "cell_type": "code",
   "execution_count": 50,
   "metadata": {
    "ExecuteTime": {
     "end_time": "2020-02-29T14:22:52.646248Z",
     "start_time": "2020-02-29T14:22:52.595252Z"
    }
   },
   "outputs": [],
   "source": [
    "cm_result = pd.DataFrame(confusion_matrix(y_test,train_y_pred))"
   ]
  },
  {
   "cell_type": "code",
   "execution_count": 51,
   "metadata": {
    "ExecuteTime": {
     "end_time": "2020-02-29T14:22:53.770215Z",
     "start_time": "2020-02-29T14:22:53.747216Z"
    }
   },
   "outputs": [
    {
     "data": {
      "text/html": [
       "<div>\n",
       "<style scoped>\n",
       "    .dataframe tbody tr th:only-of-type {\n",
       "        vertical-align: middle;\n",
       "    }\n",
       "\n",
       "    .dataframe tbody tr th {\n",
       "        vertical-align: top;\n",
       "    }\n",
       "\n",
       "    .dataframe thead th {\n",
       "        text-align: right;\n",
       "    }\n",
       "</style>\n",
       "<table border=\"1\" class=\"dataframe\">\n",
       "  <thead>\n",
       "    <tr style=\"text-align: right;\">\n",
       "      <th></th>\n",
       "      <th>0</th>\n",
       "      <th>1</th>\n",
       "      <th>2</th>\n",
       "      <th>3</th>\n",
       "      <th>4</th>\n",
       "      <th>5</th>\n",
       "      <th>6</th>\n",
       "      <th>7</th>\n",
       "      <th>8</th>\n",
       "      <th>9</th>\n",
       "      <th>10</th>\n",
       "      <th>11</th>\n",
       "      <th>12</th>\n",
       "      <th>13</th>\n",
       "      <th>14</th>\n",
       "      <th>15</th>\n",
       "      <th>16</th>\n",
       "      <th>17</th>\n",
       "      <th>18</th>\n",
       "    </tr>\n",
       "  </thead>\n",
       "  <tbody>\n",
       "    <tr>\n",
       "      <th>0</th>\n",
       "      <td>286</td>\n",
       "      <td>0</td>\n",
       "      <td>0</td>\n",
       "      <td>0</td>\n",
       "      <td>14</td>\n",
       "      <td>46</td>\n",
       "      <td>2</td>\n",
       "      <td>137</td>\n",
       "      <td>63</td>\n",
       "      <td>0</td>\n",
       "      <td>0</td>\n",
       "      <td>30</td>\n",
       "      <td>0</td>\n",
       "      <td>0</td>\n",
       "      <td>25</td>\n",
       "      <td>5</td>\n",
       "      <td>0</td>\n",
       "      <td>0</td>\n",
       "      <td>40</td>\n",
       "    </tr>\n",
       "    <tr>\n",
       "      <th>1</th>\n",
       "      <td>2</td>\n",
       "      <td>1867</td>\n",
       "      <td>0</td>\n",
       "      <td>0</td>\n",
       "      <td>0</td>\n",
       "      <td>0</td>\n",
       "      <td>0</td>\n",
       "      <td>3</td>\n",
       "      <td>17</td>\n",
       "      <td>0</td>\n",
       "      <td>4</td>\n",
       "      <td>4</td>\n",
       "      <td>0</td>\n",
       "      <td>0</td>\n",
       "      <td>0</td>\n",
       "      <td>0</td>\n",
       "      <td>4</td>\n",
       "      <td>0</td>\n",
       "      <td>50</td>\n",
       "    </tr>\n",
       "    <tr>\n",
       "      <th>2</th>\n",
       "      <td>0</td>\n",
       "      <td>0</td>\n",
       "      <td>50</td>\n",
       "      <td>79</td>\n",
       "      <td>0</td>\n",
       "      <td>0</td>\n",
       "      <td>0</td>\n",
       "      <td>0</td>\n",
       "      <td>1</td>\n",
       "      <td>0</td>\n",
       "      <td>15</td>\n",
       "      <td>0</td>\n",
       "      <td>0</td>\n",
       "      <td>0</td>\n",
       "      <td>0</td>\n",
       "      <td>0</td>\n",
       "      <td>0</td>\n",
       "      <td>0</td>\n",
       "      <td>0</td>\n",
       "    </tr>\n",
       "    <tr>\n",
       "      <th>3</th>\n",
       "      <td>0</td>\n",
       "      <td>0</td>\n",
       "      <td>21</td>\n",
       "      <td>639</td>\n",
       "      <td>0</td>\n",
       "      <td>0</td>\n",
       "      <td>0</td>\n",
       "      <td>0</td>\n",
       "      <td>1</td>\n",
       "      <td>0</td>\n",
       "      <td>91</td>\n",
       "      <td>1</td>\n",
       "      <td>0</td>\n",
       "      <td>0</td>\n",
       "      <td>0</td>\n",
       "      <td>0</td>\n",
       "      <td>0</td>\n",
       "      <td>0</td>\n",
       "      <td>0</td>\n",
       "    </tr>\n",
       "    <tr>\n",
       "      <th>4</th>\n",
       "      <td>1</td>\n",
       "      <td>0</td>\n",
       "      <td>0</td>\n",
       "      <td>0</td>\n",
       "      <td>4246</td>\n",
       "      <td>45</td>\n",
       "      <td>1</td>\n",
       "      <td>0</td>\n",
       "      <td>8</td>\n",
       "      <td>0</td>\n",
       "      <td>0</td>\n",
       "      <td>9</td>\n",
       "      <td>0</td>\n",
       "      <td>0</td>\n",
       "      <td>0</td>\n",
       "      <td>75</td>\n",
       "      <td>0</td>\n",
       "      <td>0</td>\n",
       "      <td>0</td>\n",
       "    </tr>\n",
       "    <tr>\n",
       "      <th>5</th>\n",
       "      <td>27</td>\n",
       "      <td>0</td>\n",
       "      <td>0</td>\n",
       "      <td>0</td>\n",
       "      <td>136</td>\n",
       "      <td>3699</td>\n",
       "      <td>0</td>\n",
       "      <td>52</td>\n",
       "      <td>61</td>\n",
       "      <td>0</td>\n",
       "      <td>0</td>\n",
       "      <td>1</td>\n",
       "      <td>0</td>\n",
       "      <td>0</td>\n",
       "      <td>0</td>\n",
       "      <td>65</td>\n",
       "      <td>0</td>\n",
       "      <td>0</td>\n",
       "      <td>6</td>\n",
       "    </tr>\n",
       "    <tr>\n",
       "      <th>6</th>\n",
       "      <td>0</td>\n",
       "      <td>17</td>\n",
       "      <td>0</td>\n",
       "      <td>0</td>\n",
       "      <td>12</td>\n",
       "      <td>6</td>\n",
       "      <td>10783</td>\n",
       "      <td>2</td>\n",
       "      <td>77</td>\n",
       "      <td>1</td>\n",
       "      <td>1</td>\n",
       "      <td>43</td>\n",
       "      <td>0</td>\n",
       "      <td>88</td>\n",
       "      <td>25</td>\n",
       "      <td>7</td>\n",
       "      <td>1</td>\n",
       "      <td>0</td>\n",
       "      <td>1</td>\n",
       "    </tr>\n",
       "    <tr>\n",
       "      <th>7</th>\n",
       "      <td>168</td>\n",
       "      <td>0</td>\n",
       "      <td>0</td>\n",
       "      <td>0</td>\n",
       "      <td>0</td>\n",
       "      <td>203</td>\n",
       "      <td>0</td>\n",
       "      <td>653</td>\n",
       "      <td>48</td>\n",
       "      <td>0</td>\n",
       "      <td>0</td>\n",
       "      <td>1</td>\n",
       "      <td>0</td>\n",
       "      <td>0</td>\n",
       "      <td>0</td>\n",
       "      <td>1</td>\n",
       "      <td>1</td>\n",
       "      <td>0</td>\n",
       "      <td>320</td>\n",
       "    </tr>\n",
       "    <tr>\n",
       "      <th>8</th>\n",
       "      <td>9</td>\n",
       "      <td>12</td>\n",
       "      <td>0</td>\n",
       "      <td>6</td>\n",
       "      <td>33</td>\n",
       "      <td>272</td>\n",
       "      <td>95</td>\n",
       "      <td>29</td>\n",
       "      <td>12814</td>\n",
       "      <td>1</td>\n",
       "      <td>10</td>\n",
       "      <td>191</td>\n",
       "      <td>0</td>\n",
       "      <td>67</td>\n",
       "      <td>87</td>\n",
       "      <td>12</td>\n",
       "      <td>9</td>\n",
       "      <td>0</td>\n",
       "      <td>1180</td>\n",
       "    </tr>\n",
       "    <tr>\n",
       "      <th>9</th>\n",
       "      <td>0</td>\n",
       "      <td>0</td>\n",
       "      <td>0</td>\n",
       "      <td>0</td>\n",
       "      <td>0</td>\n",
       "      <td>0</td>\n",
       "      <td>0</td>\n",
       "      <td>0</td>\n",
       "      <td>8</td>\n",
       "      <td>27</td>\n",
       "      <td>1</td>\n",
       "      <td>0</td>\n",
       "      <td>0</td>\n",
       "      <td>0</td>\n",
       "      <td>0</td>\n",
       "      <td>0</td>\n",
       "      <td>0</td>\n",
       "      <td>0</td>\n",
       "      <td>0</td>\n",
       "    </tr>\n",
       "    <tr>\n",
       "      <th>10</th>\n",
       "      <td>0</td>\n",
       "      <td>1</td>\n",
       "      <td>7</td>\n",
       "      <td>91</td>\n",
       "      <td>0</td>\n",
       "      <td>0</td>\n",
       "      <td>2</td>\n",
       "      <td>0</td>\n",
       "      <td>2</td>\n",
       "      <td>0</td>\n",
       "      <td>3997</td>\n",
       "      <td>4</td>\n",
       "      <td>0</td>\n",
       "      <td>0</td>\n",
       "      <td>0</td>\n",
       "      <td>0</td>\n",
       "      <td>0</td>\n",
       "      <td>0</td>\n",
       "      <td>0</td>\n",
       "    </tr>\n",
       "    <tr>\n",
       "      <th>11</th>\n",
       "      <td>4</td>\n",
       "      <td>41</td>\n",
       "      <td>0</td>\n",
       "      <td>1</td>\n",
       "      <td>135</td>\n",
       "      <td>30</td>\n",
       "      <td>59</td>\n",
       "      <td>5</td>\n",
       "      <td>442</td>\n",
       "      <td>3</td>\n",
       "      <td>35</td>\n",
       "      <td>508</td>\n",
       "      <td>0</td>\n",
       "      <td>250</td>\n",
       "      <td>102</td>\n",
       "      <td>56</td>\n",
       "      <td>10</td>\n",
       "      <td>0</td>\n",
       "      <td>240</td>\n",
       "    </tr>\n",
       "    <tr>\n",
       "      <th>12</th>\n",
       "      <td>0</td>\n",
       "      <td>0</td>\n",
       "      <td>0</td>\n",
       "      <td>0</td>\n",
       "      <td>0</td>\n",
       "      <td>0</td>\n",
       "      <td>0</td>\n",
       "      <td>2</td>\n",
       "      <td>1</td>\n",
       "      <td>0</td>\n",
       "      <td>0</td>\n",
       "      <td>0</td>\n",
       "      <td>0</td>\n",
       "      <td>0</td>\n",
       "      <td>0</td>\n",
       "      <td>0</td>\n",
       "      <td>0</td>\n",
       "      <td>0</td>\n",
       "      <td>1</td>\n",
       "    </tr>\n",
       "    <tr>\n",
       "      <th>13</th>\n",
       "      <td>0</td>\n",
       "      <td>0</td>\n",
       "      <td>0</td>\n",
       "      <td>0</td>\n",
       "      <td>0</td>\n",
       "      <td>2</td>\n",
       "      <td>126</td>\n",
       "      <td>2</td>\n",
       "      <td>303</td>\n",
       "      <td>0</td>\n",
       "      <td>1</td>\n",
       "      <td>140</td>\n",
       "      <td>0</td>\n",
       "      <td>1296</td>\n",
       "      <td>3</td>\n",
       "      <td>0</td>\n",
       "      <td>0</td>\n",
       "      <td>0</td>\n",
       "      <td>227</td>\n",
       "    </tr>\n",
       "    <tr>\n",
       "      <th>14</th>\n",
       "      <td>1</td>\n",
       "      <td>1</td>\n",
       "      <td>0</td>\n",
       "      <td>0</td>\n",
       "      <td>0</td>\n",
       "      <td>0</td>\n",
       "      <td>3</td>\n",
       "      <td>0</td>\n",
       "      <td>15</td>\n",
       "      <td>0</td>\n",
       "      <td>0</td>\n",
       "      <td>26</td>\n",
       "      <td>0</td>\n",
       "      <td>1</td>\n",
       "      <td>929</td>\n",
       "      <td>0</td>\n",
       "      <td>0</td>\n",
       "      <td>0</td>\n",
       "      <td>0</td>\n",
       "    </tr>\n",
       "    <tr>\n",
       "      <th>15</th>\n",
       "      <td>0</td>\n",
       "      <td>0</td>\n",
       "      <td>0</td>\n",
       "      <td>0</td>\n",
       "      <td>88</td>\n",
       "      <td>36</td>\n",
       "      <td>0</td>\n",
       "      <td>0</td>\n",
       "      <td>1</td>\n",
       "      <td>0</td>\n",
       "      <td>0</td>\n",
       "      <td>4</td>\n",
       "      <td>0</td>\n",
       "      <td>0</td>\n",
       "      <td>0</td>\n",
       "      <td>4259</td>\n",
       "      <td>0</td>\n",
       "      <td>0</td>\n",
       "      <td>0</td>\n",
       "    </tr>\n",
       "    <tr>\n",
       "      <th>16</th>\n",
       "      <td>0</td>\n",
       "      <td>9</td>\n",
       "      <td>0</td>\n",
       "      <td>0</td>\n",
       "      <td>0</td>\n",
       "      <td>0</td>\n",
       "      <td>1</td>\n",
       "      <td>0</td>\n",
       "      <td>2</td>\n",
       "      <td>0</td>\n",
       "      <td>2</td>\n",
       "      <td>9</td>\n",
       "      <td>0</td>\n",
       "      <td>0</td>\n",
       "      <td>0</td>\n",
       "      <td>0</td>\n",
       "      <td>323</td>\n",
       "      <td>0</td>\n",
       "      <td>0</td>\n",
       "    </tr>\n",
       "    <tr>\n",
       "      <th>17</th>\n",
       "      <td>1</td>\n",
       "      <td>0</td>\n",
       "      <td>0</td>\n",
       "      <td>4</td>\n",
       "      <td>0</td>\n",
       "      <td>0</td>\n",
       "      <td>3</td>\n",
       "      <td>1</td>\n",
       "      <td>3</td>\n",
       "      <td>0</td>\n",
       "      <td>0</td>\n",
       "      <td>2</td>\n",
       "      <td>0</td>\n",
       "      <td>3</td>\n",
       "      <td>1</td>\n",
       "      <td>0</td>\n",
       "      <td>0</td>\n",
       "      <td>0</td>\n",
       "      <td>0</td>\n",
       "    </tr>\n",
       "    <tr>\n",
       "      <th>18</th>\n",
       "      <td>105</td>\n",
       "      <td>3</td>\n",
       "      <td>0</td>\n",
       "      <td>0</td>\n",
       "      <td>0</td>\n",
       "      <td>89</td>\n",
       "      <td>0</td>\n",
       "      <td>331</td>\n",
       "      <td>486</td>\n",
       "      <td>0</td>\n",
       "      <td>0</td>\n",
       "      <td>10</td>\n",
       "      <td>0</td>\n",
       "      <td>2</td>\n",
       "      <td>0</td>\n",
       "      <td>2</td>\n",
       "      <td>0</td>\n",
       "      <td>0</td>\n",
       "      <td>5495</td>\n",
       "    </tr>\n",
       "  </tbody>\n",
       "</table>\n",
       "</div>"
      ],
      "text/plain": [
       "     0     1   2    3     4     5      6    7      8   9     10   11  12  \\\n",
       "0   286     0   0    0    14    46      2  137     63   0     0   30   0   \n",
       "1     2  1867   0    0     0     0      0    3     17   0     4    4   0   \n",
       "2     0     0  50   79     0     0      0    0      1   0    15    0   0   \n",
       "3     0     0  21  639     0     0      0    0      1   0    91    1   0   \n",
       "4     1     0   0    0  4246    45      1    0      8   0     0    9   0   \n",
       "5    27     0   0    0   136  3699      0   52     61   0     0    1   0   \n",
       "6     0    17   0    0    12     6  10783    2     77   1     1   43   0   \n",
       "7   168     0   0    0     0   203      0  653     48   0     0    1   0   \n",
       "8     9    12   0    6    33   272     95   29  12814   1    10  191   0   \n",
       "9     0     0   0    0     0     0      0    0      8  27     1    0   0   \n",
       "10    0     1   7   91     0     0      2    0      2   0  3997    4   0   \n",
       "11    4    41   0    1   135    30     59    5    442   3    35  508   0   \n",
       "12    0     0   0    0     0     0      0    2      1   0     0    0   0   \n",
       "13    0     0   0    0     0     2    126    2    303   0     1  140   0   \n",
       "14    1     1   0    0     0     0      3    0     15   0     0   26   0   \n",
       "15    0     0   0    0    88    36      0    0      1   0     0    4   0   \n",
       "16    0     9   0    0     0     0      1    0      2   0     2    9   0   \n",
       "17    1     0   0    4     0     0      3    1      3   0     0    2   0   \n",
       "18  105     3   0    0     0    89      0  331    486   0     0   10   0   \n",
       "\n",
       "      13   14    15   16  17    18  \n",
       "0      0   25     5    0   0    40  \n",
       "1      0    0     0    4   0    50  \n",
       "2      0    0     0    0   0     0  \n",
       "3      0    0     0    0   0     0  \n",
       "4      0    0    75    0   0     0  \n",
       "5      0    0    65    0   0     6  \n",
       "6     88   25     7    1   0     1  \n",
       "7      0    0     1    1   0   320  \n",
       "8     67   87    12    9   0  1180  \n",
       "9      0    0     0    0   0     0  \n",
       "10     0    0     0    0   0     0  \n",
       "11   250  102    56   10   0   240  \n",
       "12     0    0     0    0   0     1  \n",
       "13  1296    3     0    0   0   227  \n",
       "14     1  929     0    0   0     0  \n",
       "15     0    0  4259    0   0     0  \n",
       "16     0    0     0  323   0     0  \n",
       "17     3    1     0    0   0     0  \n",
       "18     2    0     2    0   0  5495  "
      ]
     },
     "execution_count": 51,
     "metadata": {},
     "output_type": "execute_result"
    }
   ],
   "source": [
    "cm_result"
   ]
  },
  {
   "cell_type": "code",
   "execution_count": 52,
   "metadata": {
    "ExecuteTime": {
     "end_time": "2020-02-29T14:22:55.799152Z",
     "start_time": "2020-02-29T14:22:54.739184Z"
    },
    "scrolled": false
   },
   "outputs": [
    {
     "data": {
      "image/png": "[encoded data removed]",
      "text/plain": [
       "<Figure size 1080x1080 with 2 Axes>"
      ]
     },
     "metadata": {},
     "output_type": "display_data"
    }
   ],
   "source": [
    "plt.figure(figsize =(15,15))\n",
    "sns.heatmap(cm_result/np.sum(cm_result),annot = True, cmap ='RdYlGn',fmt='.1%')\n",
    "plt.ylabel(\"real\",fontsize=20)\n",
    "plt.xlabel(\"predict\",fontsize=20)\n",
    "plt.show()"
   ]
  },
  {
   "cell_type": "markdown",
   "metadata": {},
   "source": [
    "### FINAL CV"
   ]
  },
  {
   "cell_type": "code",
   "execution_count": null,
   "metadata": {
    "ExecuteTime": {
     "end_time": "2020-02-28T12:09:00.542327Z",
     "start_time": "2020-02-28T11:08:59.029Z"
    },
    "scrolled": true
   },
   "outputs": [],
   "source": [
    "kf = StratifiedKFold(n_splits = 5, shuffle = True, random_state = 42)\n",
    "oof_pred = np.zeros((len(train_X), train_y.nunique()))\n",
    "y_pred = np.zeros((len(test_X), train_y.nunique()))\n",
    "\n",
    "for fold, (train_ids, val_ids) in enumerate(kf.split(train_X,train_y)):\n",
    "    print('★ Fold {}'.format(fold + 1))\n",
    "    X_train, X_val = train_X.iloc[train_ids],train_X.iloc[val_ids]\n",
    "    y_train, y_val = train_y.iloc[train_ids],train_y.iloc[val_ids]\n",
    "\n",
    "    eval_set = [(X_train, y_train),(X_val, y_val)]\n",
    "    eval_names = ['train','val']\n",
    "    lgbm_c.fit(train_X,train_y, eval_set = eval_set, eval_names = eval_names, \n",
    "               early_stopping_rounds= 100, verbose = 100)\n",
    "    oof_pred[val_ids] = lgbm_c.predict_proba(X_val)\n",
    "    y_pred += lgbm_c.predict_proba(test_X)/5\n",
    "loss_score = log_loss(train_y,oof_pred,labels= list(set(train_y)))\n",
    "print(\"oof log_loss: \",loss_score)"
   ]
  },
  {
   "cell_type": "markdown",
   "metadata": {},
   "source": [
    "# REAL"
   ]
  },
  {
   "cell_type": "code",
   "execution_count": null,
   "metadata": {
    "ExecuteTime": {
     "end_time": "2020-02-28T05:28:24.564562Z",
     "start_time": "2020-02-28T05:28:24.559563Z"
    }
   },
   "outputs": [],
   "source": [
    "lgbm_c = lgb.LGBMClassifier(num_leaves = 255, min_child_samples = 40,\n",
    "                            max_depth = 8, learning_rate = 0.1,\n",
    "                            lambda_l2 = 3, lambda_l1 = 9,\n",
    "                            n_estimators=2000, random_state = 42)"
   ]
  },
  {
   "cell_type": "code",
   "execution_count": null,
   "metadata": {
    "ExecuteTime": {
     "end_time": "2020-02-28T05:57:01.390665Z",
     "start_time": "2020-02-28T05:28:24.566563Z"
    },
    "scrolled": true
   },
   "outputs": [],
   "source": [
    "lgbm_c.fit(train_X, train_y, eval_set = [(train_X, train_y)],eval_names= 'valid', \n",
    "           eval_metric = 'logloss', verbose = 100, early_stopping_rounds = 100)"
   ]
  },
  {
   "cell_type": "code",
   "execution_count": null,
   "metadata": {
    "ExecuteTime": {
     "end_time": "2020-02-28T06:06:25.660278Z",
     "start_time": "2020-02-28T05:57:01.392665Z"
    }
   },
   "outputs": [],
   "source": [
    "f_train_y_pred = lgbm_c.predict_proba(train_X)"
   ]
  },
  {
   "cell_type": "code",
   "execution_count": null,
   "metadata": {
    "ExecuteTime": {
     "end_time": "2020-02-28T06:06:53.761411Z",
     "start_time": "2020-02-28T06:06:25.661278Z"
    }
   },
   "outputs": [],
   "source": [
    "y_pred = lgbm_c.predict_proba(test_X)"
   ]
  },
  {
   "cell_type": "code",
   "execution_count": null,
   "metadata": {
    "ExecuteTime": {
     "end_time": "2020-02-28T10:43:00.138025Z",
     "start_time": "2020-02-28T10:43:00.133026Z"
    }
   },
   "outputs": [],
   "source": [
    "y_pred"
   ]
  },
  {
   "cell_type": "code",
   "execution_count": null,
   "metadata": {
    "ExecuteTime": {
     "end_time": "2020-02-28T06:06:53.767412Z",
     "start_time": "2020-02-28T06:06:53.762412Z"
    }
   },
   "outputs": [],
   "source": [
    "y_pred"
   ]
  },
  {
   "cell_type": "code",
   "execution_count": null,
   "metadata": {
    "ExecuteTime": {
     "end_time": "2020-02-28T06:06:54.486391Z",
     "start_time": "2020-02-28T06:06:53.768412Z"
    }
   },
   "outputs": [],
   "source": [
    "submission = pd.DataFrame(data=y_pred, columns=sample_submission_df.columns, index=sample_submission_df.index)\n",
    "submission.to_csv('./submisson/submission.csv', index=True)"
   ]
  }
 ],
 "metadata": {
  "kernelspec": {
   "display_name": "Python 3",
   "language": "python",
   "name": "python3"
  },
  "language_info": {
   "codemirror_mode": {
    "name": "ipython",
    "version": 3
   },
   "file_extension": ".py",
   "mimetype": "text/x-python",
   "name": "python",
   "nbconvert_exporter": "python",
   "pygments_lexer": "ipython3",
   "version": "3.6.5"
  },
  "varInspector": {
   "cols": {
    "lenName": 16,
    "lenType": 16,
    "lenVar": 40
   },
   "kernels_config": {
    "python": {
     "delete_cmd_postfix": "",
     "delete_cmd_prefix": "del ",
     "library": "var_list.py",
     "varRefreshCmd": "print(var_dic_list())"
    },
    "r": {
     "delete_cmd_postfix": ") ",
     "delete_cmd_prefix": "rm(",
     "library": "var_list.r",
     "varRefreshCmd": "cat(var_dic_list()) "
    }
   },
   "types_to_exclude": [
    "module",
    "function",
    "builtin_function_or_method",
    "instance",
    "_Feature"
   ],
   "window_display": false
  }
 },
 "nbformat": 4,
 "nbformat_minor": 2
}
