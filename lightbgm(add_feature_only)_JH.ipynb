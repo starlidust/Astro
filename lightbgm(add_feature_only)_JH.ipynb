{
 "cells": [
  {
   "cell_type": "markdown",
   "metadata": {
    "colab_type": "text",
    "id": "27pTaY9AptB-"
   },
   "source": [
    "# Add_feature all\n",
    "* 추가로 만든(각각 magnitude에서 마이너스한) 변수만 사용해서 진행\n",
    "* category_features 사용위해 lgb.train사용\n",
    "* 제출결과 : 34.1706082219(에러수정전)/16.4869865283(수정후)\n",
    "* overfitting이 심하게된듯"
   ]
  },
  {
   "cell_type": "code",
   "execution_count": 0,
   "metadata": {
    "ExecuteTime": {
     "end_time": "2020-02-10T14:53:17.471720Z",
     "start_time": "2020-02-10T14:53:16.105752Z"
    },
    "colab": {},
    "colab_type": "code",
    "id": "MwYY25pKptCB"
   },
   "outputs": [],
   "source": [
    "import pandas as pd\n",
    "import numpy as np\n",
    "import matplotlib.pyplot as plt\n",
    "import seaborn as sns\n",
    "\n",
    "from sklearn.ensemble import RandomForestClassifier\n",
    "from sklearn.model_selection import train_test_split\n",
    "from sklearn.metrics import confusion_matrix\n",
    "from sklearn.metrics import log_loss\n",
    "import lightgbm as lgb"
   ]
  },
  {
   "cell_type": "code",
   "execution_count": 2,
   "metadata": {
    "ExecuteTime": {
     "end_time": "2020-02-10T14:53:17.476706Z",
     "start_time": "2020-02-10T14:53:17.473714Z"
    },
    "colab": {
     "base_uri": "https://localhost:8080/",
     "height": 127
    },
    "colab_type": "code",
    "id": "43XzsOn5ptCG",
    "outputId": "21fc88d3-ff43-4585-b44e-67dbc4c882a1"
   },
   "outputs": [
    {
     "name": "stdout",
     "output_type": "stream",
     "text": [
      "Go to this URL in a browser: https://accounts.google.com/o/oauth2/auth?client_id=947318989803-6bn6qk8qdgf4n4g3pfee6491hc0brc4i.apps.googleusercontent.com&redirect_uri=urn%3aietf%3awg%3aoauth%3a2.0%3aoob&response_type=code&scope=email%20https%3a%2f%2fwww.googleapis.com%2fauth%2fdocs.test%20https%3a%2f%2fwww.googleapis.com%2fauth%2fdrive%20https%3a%2f%2fwww.googleapis.com%2fauth%2fdrive.photos.readonly%20https%3a%2f%2fwww.googleapis.com%2fauth%2fpeopleapi.readonly\n",
      "\n",
      "Enter your authorization code:\n",
      "··········\n",
      "Mounted at /content/drive\n"
     ]
    }
   ],
   "source": [
    "#colab용\n",
    "from google.colab import drive\n",
    "drive.mount('/content/drive')"
   ]
  },
  {
   "cell_type": "code",
   "execution_count": 0,
   "metadata": {
    "ExecuteTime": {
     "end_time": "2020-02-10T14:57:35.449351Z",
     "start_time": "2020-02-10T14:57:34.088392Z"
    },
    "colab": {},
    "colab_type": "code",
    "id": "WljmOrJ1ptCM"
   },
   "outputs": [],
   "source": [
    "path = \"/content/drive/My Drive/Colab Notebooks/Dacon/천체관측/data/\" #colab\n",
    "# path = \"./data/\" #local\n",
    "train_df = pd.read_csv(path+'train.csv',index_col=0)\n",
    "test_df = pd.read_csv(path+'test.csv',index_col=0)\n",
    "sample_submission_df = pd.read_csv(path+'sample_submission.csv',index_col=0)\n",
    "pd.options.display.max_columns = 30"
   ]
  },
  {
   "cell_type": "code",
   "execution_count": 0,
   "metadata": {
    "colab": {},
    "colab_type": "code",
    "id": "YlpxWBu2tmVg"
   },
   "outputs": [],
   "source": [
    "train_cols = list(train_df.columns)\n",
    "test_cols = list(test_df.columns)\n",
    "train_cols.remove('fiberID')\n",
    "test_cols.remove('fiberID')"
   ]
  },
  {
   "cell_type": "markdown",
   "metadata": {
    "colab_type": "text",
    "id": "CgYvoS20ptCP"
   },
   "source": [
    "## DATA Setting"
   ]
  },
  {
   "cell_type": "code",
   "execution_count": 0,
   "metadata": {
    "ExecuteTime": {
     "end_time": "2020-02-10T14:57:36.170431Z",
     "start_time": "2020-02-10T14:57:36.073432Z"
    },
    "colab": {},
    "colab_type": "code",
    "id": "0asZrLYjptCQ"
   },
   "outputs": [],
   "source": [
    "column_number = {}\n",
    "number_columns = {}\n",
    "for i, column in enumerate(sample_submission_df.columns):\n",
    "    column_number[column] = i\n",
    "    number_columns[i] = column\n",
    "    \n",
    "    \n",
    "def to_number(x, dic):\n",
    "    return dic[x]\n",
    "\n",
    "train_df['type_num'] = train_df['type'].apply(lambda x: to_number(x, column_number))\n"
   ]
  },
  {
   "cell_type": "code",
   "execution_count": 0,
   "metadata": {
    "ExecuteTime": {
     "end_time": "2020-02-10T14:57:40.023328Z",
     "start_time": "2020-02-10T14:57:40.018313Z"
    },
    "colab": {},
    "colab_type": "code",
    "id": "HEB6WXv4ptCT"
   },
   "outputs": [],
   "source": [
    "def add_minus_feature(data,test = False):\n",
    "    from itertools import combinations\n",
    "    n = 0\n",
    "    for count in range(5,21,5):\n",
    "        s = 2\n",
    "        if test == True :\n",
    "            s = 1\n",
    "        selected = data.columns[s:].values[n:count]\n",
    "        mag = str.split(selected[0],'_')[0]\n",
    "        for combi in list(combinations(selected,2)):\n",
    "            name_1st = str.split(combi[0],'_')[1]\n",
    "            name_2nd = str.split(combi[1],'_')[1]\n",
    "            data[mag+\"_\"+name_1st+\"-\"+name_2nd] = data[combi[0]]-data[combi[1]]\n",
    "        n=count\n",
    "    return data"
   ]
  },
  {
   "cell_type": "code",
   "execution_count": 0,
   "metadata": {
    "ExecuteTime": {
     "end_time": "2020-02-10T14:57:43.956199Z",
     "start_time": "2020-02-10T14:57:43.864206Z"
    },
    "colab": {},
    "colab_type": "code",
    "id": "BoTPOTrqptCY"
   },
   "outputs": [],
   "source": [
    "train_df = add_minus_feature(train_df)\n",
    "test_df = add_minus_feature(test_df,True)"
   ]
  },
  {
   "cell_type": "code",
   "execution_count": 0,
   "metadata": {
    "ExecuteTime": {
     "end_time": "2020-02-10T14:57:49.279050Z",
     "start_time": "2020-02-10T14:57:49.114039Z"
    },
    "colab": {},
    "colab_type": "code",
    "id": "jMC_QeTsptCb"
   },
   "outputs": [],
   "source": [
    "train_X = train_df.drop(columns=train_cols, axis=1)\n",
    "train_y = train_df['type_num']\n",
    "test_X = test_df.drop(columns=test_cols, axis=1)"
   ]
  },
  {
   "cell_type": "code",
   "execution_count": 0,
   "metadata": {
    "ExecuteTime": {
     "end_time": "2020-02-10T14:57:54.211885Z",
     "start_time": "2020-02-10T14:57:54.008893Z"
    },
    "colab": {},
    "colab_type": "code",
    "id": "0yPc-xUhptCf"
   },
   "outputs": [],
   "source": [
    "X_train, X_test, y_train, y_test = train_test_split(train_X, train_y, test_size=0.3, random_state=42,stratify = train_y)"
   ]
  },
  {
   "cell_type": "code",
   "execution_count": 0,
   "metadata": {
    "ExecuteTime": {
     "end_time": "2020-02-10T14:58:03.562615Z",
     "start_time": "2020-02-10T14:58:03.552606Z"
    },
    "colab": {},
    "colab_type": "code",
    "id": "wjSQ9EJuptCn"
   },
   "outputs": [],
   "source": [
    "train_ds = lgb.Dataset(X_train, label = y_train, categorical_feature=['fiberID'])\n",
    "test_ds = lgb.Dataset(X_test, label = y_test, categorical_feature=['fiberID']) "
   ]
  },
  {
   "cell_type": "code",
   "execution_count": 0,
   "metadata": {
    "ExecuteTime": {
     "end_time": "2020-02-10T14:58:08.255465Z",
     "start_time": "2020-02-10T14:58:08.249464Z"
    },
    "colab": {},
    "colab_type": "code",
    "id": "zDbKwC4eptCq"
   },
   "outputs": [],
   "source": [
    "params = {\n",
    "    'boosting_type': 'gbdt',\n",
    "    'objective': 'multiclass',\n",
    "    'num_class': train_y.nunique(),\n",
    "    'metric': {'multi_logloss','multi_logloss'},\n",
    "    'num_leaves': 25,\n",
    "    'learning_rate': 0.005,\n",
    "    'max_depth' : 12,\n",
    "    'random_state' : 42\n",
    "}"
   ]
  },
  {
   "cell_type": "markdown",
   "metadata": {
    "colab_type": "text",
    "id": "Jpw_4uENptCs"
   },
   "source": [
    "## Modeling"
   ]
  },
  {
   "cell_type": "code",
   "execution_count": 12,
   "metadata": {
    "ExecuteTime": {
     "end_time": "2020-02-10T14:59:35.222253Z",
     "start_time": "2020-02-10T14:58:12.942323Z"
    },
    "colab": {
     "base_uri": "https://localhost:8080/",
     "height": 847
    },
    "colab_type": "code",
    "id": "64hvBG7UptCt",
    "outputId": "9aa99c74-dbaf-4f6a-e920-d5a4358a7f58"
   },
   "outputs": [
    {
     "name": "stderr",
     "output_type": "stream",
     "text": [
      "/usr/local/lib/python3.6/dist-packages/lightgbm/basic.py:1205: UserWarning: Using categorical_feature in Dataset.\n",
      "  warnings.warn('Using categorical_feature in Dataset.')\n",
      "/usr/local/lib/python3.6/dist-packages/lightgbm/basic.py:762: UserWarning: categorical_feature in param dict is overridden.\n",
      "  warnings.warn('categorical_feature in param dict is overridden.')\n"
     ]
    },
    {
     "name": "stdout",
     "output_type": "stream",
     "text": [
      "Training until validation scores don't improve for 100 rounds.\n",
      "[100]\tTrain's multi_logloss: 1.01229\tTest's multi_logloss: 1.01437\n",
      "[200]\tTrain's multi_logloss: 0.570942\tTest's multi_logloss: 0.573105\n",
      "[300]\tTrain's multi_logloss: 0.336338\tTest's multi_logloss: 0.338348\n",
      "[400]\tTrain's multi_logloss: 0.201238\tTest's multi_logloss: 0.203079\n",
      "[500]\tTrain's multi_logloss: 0.121219\tTest's multi_logloss: 0.122888\n",
      "[600]\tTrain's multi_logloss: 0.0732575\tTest's multi_logloss: 0.0747554\n",
      "[700]\tTrain's multi_logloss: 0.0443483\tTest's multi_logloss: 0.0456802\n",
      "[800]\tTrain's multi_logloss: 0.0268703\tTest's multi_logloss: 0.0280479\n",
      "[900]\tTrain's multi_logloss: 0.0162862\tTest's multi_logloss: 0.0173233\n",
      "[1000]\tTrain's multi_logloss: 0.00987452\tTest's multi_logloss: 0.0107853\n",
      "[1100]\tTrain's multi_logloss: 0.00598825\tTest's multi_logloss: 0.00677\n",
      "[1200]\tTrain's multi_logloss: 0.00363191\tTest's multi_logloss: 0.00430856\n",
      "[1300]\tTrain's multi_logloss: 0.00220293\tTest's multi_logloss: 0.00279492\n",
      "[1400]\tTrain's multi_logloss: 0.00133625\tTest's multi_logloss: 0.00185834\n",
      "[1500]\tTrain's multi_logloss: 0.00081057\tTest's multi_logloss: 0.00127222\n",
      "[1600]\tTrain's multi_logloss: 0.000491707\tTest's multi_logloss: 0.0009081\n",
      "[1700]\tTrain's multi_logloss: 0.000298279\tTest's multi_logloss: 0.000680785\n",
      "[1800]\tTrain's multi_logloss: 0.000180946\tTest's multi_logloss: 0.000536078\n",
      "[1900]\tTrain's multi_logloss: 0.000109773\tTest's multi_logloss: 0.000447181\n",
      "[2000]\tTrain's multi_logloss: 6.65988e-05\tTest's multi_logloss: 0.000391074\n",
      "[2100]\tTrain's multi_logloss: 4.04091e-05\tTest's multi_logloss: 0.000351399\n",
      "[2200]\tTrain's multi_logloss: 2.45245e-05\tTest's multi_logloss: 0.000326808\n",
      "[2300]\tTrain's multi_logloss: 1.48893e-05\tTest's multi_logloss: 0.000309109\n",
      "[2400]\tTrain's multi_logloss: 9.04661e-06\tTest's multi_logloss: 0.000292149\n",
      "[2500]\tTrain's multi_logloss: 5.50047e-06\tTest's multi_logloss: 0.000278301\n",
      "[2600]\tTrain's multi_logloss: 3.35021e-06\tTest's multi_logloss: 0.000266172\n",
      "[2700]\tTrain's multi_logloss: 2.0473e-06\tTest's multi_logloss: 0.000255209\n",
      "[2800]\tTrain's multi_logloss: 1.25572e-06\tTest's multi_logloss: 0.000245153\n",
      "[2900]\tTrain's multi_logloss: 7.75055e-07\tTest's multi_logloss: 0.000235434\n",
      "[3000]\tTrain's multi_logloss: 4.84068e-07\tTest's multi_logloss: 0.000226295\n",
      "[3100]\tTrain's multi_logloss: 3.08139e-07\tTest's multi_logloss: 0.000217262\n",
      "[3200]\tTrain's multi_logloss: 2.02514e-07\tTest's multi_logloss: 0.00020614\n",
      "[3300]\tTrain's multi_logloss: 1.39257e-07\tTest's multi_logloss: 0.000193224\n",
      "[3400]\tTrain's multi_logloss: 1.00657e-07\tTest's multi_logloss: 0.000177027\n",
      "[3500]\tTrain's multi_logloss: 7.82233e-08\tTest's multi_logloss: 0.000169753\n",
      "[3600]\tTrain's multi_logloss: 6.53605e-08\tTest's multi_logloss: 0.000163359\n",
      "[3700]\tTrain's multi_logloss: 5.9071e-08\tTest's multi_logloss: 0.000160556\n",
      "[3800]\tTrain's multi_logloss: 5.67951e-08\tTest's multi_logloss: 0.000161078\n",
      "Early stopping, best iteration is:\n",
      "[3716]\tTrain's multi_logloss: 5.85524e-08\tTest's multi_logloss: 0.000160477\n"
     ]
    }
   ],
   "source": [
    "evaluation_results = {}\n",
    "lgmb_model = lgb.train(params, train_ds,num_boost_round= 20000, \n",
    "                       valid_sets = [train_ds,test_ds], valid_names=['Train', 'Test'],\n",
    "                       evals_result=evaluation_results,\n",
    "                       verbose_eval=100, early_stopping_rounds=100)"
   ]
  },
  {
   "cell_type": "code",
   "execution_count": 16,
   "metadata": {
    "colab": {
     "base_uri": "https://localhost:8080/",
     "height": 351
    },
    "colab_type": "code",
    "id": "g9FHYKT2dy0H",
    "outputId": "f84a06c1-9b46-461a-cba0-e3899acb64e6"
   },
   "outputs": [
    {
     "data": {
      "image/png": "[encoded data removed]",
      "text/plain": [
       "<Figure size 1080x288 with 2 Axes>"
      ]
     },
     "metadata": {
      "tags": []
     },
     "output_type": "display_data"
    }
   ],
   "source": [
    "fig, axs = plt.subplots(1, 2, figsize=[15, 4])\n",
    "\n",
    "# Plot the log loss during training\n",
    "axs[0].plot(evaluation_results['Train']['multi_logloss'], label='Train')\n",
    "axs[0].plot(evaluation_results['Test']['multi_logloss'], label='Test')\n",
    "axs[0].set_ylabel('Log loss')\n",
    "axs[0].set_xlabel('Boosting round')\n",
    "axs[0].set_title('Training performance')\n",
    "axs[0].legend()\n",
    "\n",
    "# Plot feature importance\n",
    "importances = pd.DataFrame({'features': lgmb_model.feature_name(), \n",
    "                            'importance': lgmb_model.feature_importance()}).sort_values('importance', ascending=False).head(10)\n",
    "axs[1].bar(x=np.arange(len(importances)), height=importances['importance'])\n",
    "axs[1].set_xticks(np.arange(len(importances)))\n",
    "axs[1].set_xticklabels(importances['features'])\n",
    "axs[1].set_ylabel('Feature importance (# times used to split)')\n",
    "axs[1].set_title('Feature importance')\n",
    "plt.xticks(rotation=45)\n",
    "\n",
    "plt.show()"
   ]
  },
  {
   "cell_type": "code",
   "execution_count": 0,
   "metadata": {
    "ExecuteTime": {
     "end_time": "2020-02-10T14:59:48.489855Z",
     "start_time": "2020-02-10T14:59:40.319100Z"
    },
    "colab": {},
    "colab_type": "code",
    "id": "zKCCVo-ZptC0"
   },
   "outputs": [],
   "source": [
    "train_y_pred = lgmb_model.predict(X_test)"
   ]
  },
  {
   "cell_type": "code",
   "execution_count": 0,
   "metadata": {
    "colab": {},
    "colab_type": "code",
    "id": "B7URo6YY87bq"
   },
   "outputs": [],
   "source": [
    "real_y_pred = lgmb_model.predict(test_X)"
   ]
  },
  {
   "cell_type": "code",
   "execution_count": 19,
   "metadata": {
    "ExecuteTime": {
     "end_time": "2020-02-10T14:59:53.560703Z",
     "start_time": "2020-02-10T14:59:53.538703Z"
    },
    "colab": {
     "base_uri": "https://localhost:8080/",
     "height": 35
    },
    "colab_type": "code",
    "id": "IIyJpIKhptC3",
    "outputId": "354bdbe1-4754-4806-f2df-7de8efc5fc39"
   },
   "outputs": [
    {
     "data": {
      "text/plain": [
       "(59998, 19)"
      ]
     },
     "execution_count": 19,
     "metadata": {
      "tags": []
     },
     "output_type": "execute_result"
    }
   ],
   "source": [
    "train_y_pred.shape"
   ]
  },
  {
   "cell_type": "code",
   "execution_count": 20,
   "metadata": {
    "colab": {
     "base_uri": "https://localhost:8080/",
     "height": 251
    },
    "colab_type": "code",
    "id": "7TZHOjYN8kd7",
    "outputId": "ea3a5f0e-a4f2-4c99-ba65-923ea93fffc9"
   },
   "outputs": [
    {
     "data": {
      "text/plain": [
       "array([[1.27917531e-09, 1.62156978e-09, 5.16809930e-10, ...,\n",
       "        8.34875689e-10, 2.28881005e-10, 2.79154062e-09],\n",
       "       [1.63762583e-09, 4.04748640e-09, 7.38016459e-10, ...,\n",
       "        1.78961742e-09, 3.23150232e-10, 3.88424840e-09],\n",
       "       [8.15959964e-10, 1.12579495e-09, 3.58455225e-10, ...,\n",
       "        5.79674700e-10, 1.60909641e-10, 1.94657707e-09],\n",
       "       ...,\n",
       "       [7.12588701e-10, 9.83171722e-10, 3.12993234e-10, ...,\n",
       "        5.05351812e-10, 1.38517411e-10, 1.69997160e-09],\n",
       "       [7.23503361e-10, 9.83171716e-10, 3.13441477e-10, ...,\n",
       "        5.05533692e-10, 1.38517411e-10, 1.83448340e-09],\n",
       "       [2.24000938e-09, 3.08602588e-09, 9.87373282e-10, ...,\n",
       "        1.59289221e-09, 4.42036905e-10, 5.30862037e-09]])"
      ]
     },
     "execution_count": 20,
     "metadata": {
      "tags": []
     },
     "output_type": "execute_result"
    }
   ],
   "source": [
    "train_y_pred"
   ]
  },
  {
   "cell_type": "code",
   "execution_count": 21,
   "metadata": {
    "ExecuteTime": {
     "end_time": "2020-02-10T15:00:21.855928Z",
     "start_time": "2020-02-10T15:00:21.792929Z"
    },
    "colab": {
     "base_uri": "https://localhost:8080/",
     "height": 35
    },
    "colab_type": "code",
    "id": "0dSC8iXNptC8",
    "outputId": "cf851f1c-df5a-4a5f-f4ba-9f2823da445b",
    "scrolled": true
   },
   "outputs": [
    {
     "data": {
      "text/plain": [
       "0.00016047749420568518"
      ]
     },
     "execution_count": 21,
     "metadata": {
      "tags": []
     },
     "output_type": "execute_result"
    }
   ],
   "source": [
    "#log_loss\n",
    "log_loss(y_test,train_y_pred,labels= list(set(y_test)))"
   ]
  },
  {
   "cell_type": "code",
   "execution_count": 22,
   "metadata": {
    "ExecuteTime": {
     "end_time": "2020-02-10T15:00:59.278114Z",
     "start_time": "2020-02-10T15:00:59.272119Z"
    },
    "colab": {
     "base_uri": "https://localhost:8080/",
     "height": 125
    },
    "colab_type": "code",
    "id": "BmNLp0xOptC_",
    "outputId": "df4271ee-d985-49a5-9633-5da572d3a51c"
   },
   "outputs": [
    {
     "data": {
      "text/plain": [
       "array([   448, 363809,  61077,  25843,  21804,  12791,  13158,  15314,\n",
       "        15183,  31987,  15880,  24678,  16870,  14855,  11727,   7001,\n",
       "        24368,  13488,  15241,  21050,  24815,  38570,  54474,  14239,\n",
       "        17468,  10200,  20010,   7239,   6465,  21505,   5840,  27249,\n",
       "        66811,  17392,  15192,  13166,  23196,  20496,  15826,  57714,\n",
       "        15926,  40348])"
      ]
     },
     "execution_count": 22,
     "metadata": {
      "tags": []
     },
     "output_type": "execute_result"
    }
   ],
   "source": [
    "lgmb_model.feature_importance()"
   ]
  },
  {
   "cell_type": "markdown",
   "metadata": {
    "colab_type": "text",
    "id": "7fK8TP-6ptDB"
   },
   "source": [
    "### feature_importance"
   ]
  },
  {
   "cell_type": "code",
   "execution_count": 23,
   "metadata": {
    "ExecuteTime": {
     "end_time": "2020-02-10T15:04:03.077842Z",
     "start_time": "2020-02-10T15:04:03.067852Z"
    },
    "colab": {
     "base_uri": "https://localhost:8080/",
     "height": 359
    },
    "colab_type": "code",
    "id": "NZfl4eDZptDC",
    "outputId": "ef271f30-735d-4a25-f935-577bc3d96c37"
   },
   "outputs": [
    {
     "data": {
      "text/html": [
       "<div>\n",
       "<style scoped>\n",
       "    .dataframe tbody tr th:only-of-type {\n",
       "        vertical-align: middle;\n",
       "    }\n",
       "\n",
       "    .dataframe tbody tr th {\n",
       "        vertical-align: top;\n",
       "    }\n",
       "\n",
       "    .dataframe thead th {\n",
       "        text-align: right;\n",
       "    }\n",
       "</style>\n",
       "<table border=\"1\" class=\"dataframe\">\n",
       "  <thead>\n",
       "    <tr style=\"text-align: right;\">\n",
       "      <th></th>\n",
       "      <th>importance</th>\n",
       "    </tr>\n",
       "  </thead>\n",
       "  <tbody>\n",
       "    <tr>\n",
       "      <th>type_num</th>\n",
       "      <td>363809</td>\n",
       "    </tr>\n",
       "    <tr>\n",
       "      <th>modelMag_u-g</th>\n",
       "      <td>66811</td>\n",
       "    </tr>\n",
       "    <tr>\n",
       "      <th>psfMag_u-g</th>\n",
       "      <td>61077</td>\n",
       "    </tr>\n",
       "    <tr>\n",
       "      <th>modelMag_r-i</th>\n",
       "      <td>57714</td>\n",
       "    </tr>\n",
       "    <tr>\n",
       "      <th>petroMag_u-g</th>\n",
       "      <td>54474</td>\n",
       "    </tr>\n",
       "    <tr>\n",
       "      <th>modelMag_i-z</th>\n",
       "      <td>40348</td>\n",
       "    </tr>\n",
       "    <tr>\n",
       "      <th>fiberMag_i-z</th>\n",
       "      <td>38570</td>\n",
       "    </tr>\n",
       "    <tr>\n",
       "      <th>psfMag_r-i</th>\n",
       "      <td>31987</td>\n",
       "    </tr>\n",
       "    <tr>\n",
       "      <th>petroMag_i-z</th>\n",
       "      <td>27249</td>\n",
       "    </tr>\n",
       "    <tr>\n",
       "      <th>psfMag_u-r</th>\n",
       "      <td>25843</td>\n",
       "    </tr>\n",
       "  </tbody>\n",
       "</table>\n",
       "</div>"
      ],
      "text/plain": [
       "              importance\n",
       "type_num          363809\n",
       "modelMag_u-g       66811\n",
       "psfMag_u-g         61077\n",
       "modelMag_r-i       57714\n",
       "petroMag_u-g       54474\n",
       "modelMag_i-z       40348\n",
       "fiberMag_i-z       38570\n",
       "psfMag_r-i         31987\n",
       "petroMag_i-z       27249\n",
       "psfMag_u-r         25843"
      ]
     },
     "execution_count": 23,
     "metadata": {
      "tags": []
     },
     "output_type": "execute_result"
    }
   ],
   "source": [
    "pi_df = pd.DataFrame(lgmb_model.feature_importance(), index= train_X.columns,columns= ['importance']).sort_values('importance',ascending = False)\n",
    "pi_df.head(10)"
   ]
  },
  {
   "cell_type": "markdown",
   "metadata": {
    "colab_type": "text",
    "id": "n5Lj7_RjptDF"
   },
   "source": [
    "### 예측결과에 대해\n",
    "* 12번이 모두 6번으로 몰림\n",
    "중간예측 : 0,2,7,11\n",
    "망한예측 : 12,17"
   ]
  },
  {
   "cell_type": "code",
   "execution_count": 0,
   "metadata": {
    "ExecuteTime": {
     "end_time": "2020-02-10T15:06:58.766015Z",
     "start_time": "2020-02-10T15:06:58.714959Z"
    },
    "colab": {},
    "colab_type": "code",
    "id": "is_lo5vrptDG"
   },
   "outputs": [],
   "source": [
    "cm_result = pd.DataFrame(confusion_matrix(y_test,np.argmax(train_y_pred,axis = 1)))"
   ]
  },
  {
   "cell_type": "code",
   "execution_count": 25,
   "metadata": {
    "ExecuteTime": {
     "end_time": "2020-02-10T15:07:03.647894Z",
     "start_time": "2020-02-10T15:07:03.629894Z"
    },
    "colab": {
     "base_uri": "https://localhost:8080/",
     "height": 638
    },
    "colab_type": "code",
    "collapsed": true,
    "id": "6U6G6SEIptDI",
    "outputId": "a52f0091-5f2d-49af-d384-4b4a239d2a73"
   },
   "outputs": [
    {
     "data": {
      "text/html": [
       "<div>\n",
       "<style scoped>\n",
       "    .dataframe tbody tr th:only-of-type {\n",
       "        vertical-align: middle;\n",
       "    }\n",
       "\n",
       "    .dataframe tbody tr th {\n",
       "        vertical-align: top;\n",
       "    }\n",
       "\n",
       "    .dataframe thead th {\n",
       "        text-align: right;\n",
       "    }\n",
       "</style>\n",
       "<table border=\"1\" class=\"dataframe\">\n",
       "  <thead>\n",
       "    <tr style=\"text-align: right;\">\n",
       "      <th></th>\n",
       "      <th>0</th>\n",
       "      <th>1</th>\n",
       "      <th>2</th>\n",
       "      <th>3</th>\n",
       "      <th>4</th>\n",
       "      <th>5</th>\n",
       "      <th>6</th>\n",
       "      <th>7</th>\n",
       "      <th>8</th>\n",
       "      <th>9</th>\n",
       "      <th>10</th>\n",
       "      <th>11</th>\n",
       "      <th>12</th>\n",
       "      <th>13</th>\n",
       "      <th>14</th>\n",
       "      <th>15</th>\n",
       "      <th>16</th>\n",
       "      <th>17</th>\n",
       "      <th>18</th>\n",
       "    </tr>\n",
       "  </thead>\n",
       "  <tbody>\n",
       "    <tr>\n",
       "      <th>0</th>\n",
       "      <td>648</td>\n",
       "      <td>0</td>\n",
       "      <td>0</td>\n",
       "      <td>0</td>\n",
       "      <td>0</td>\n",
       "      <td>0</td>\n",
       "      <td>0</td>\n",
       "      <td>0</td>\n",
       "      <td>0</td>\n",
       "      <td>0</td>\n",
       "      <td>0</td>\n",
       "      <td>0</td>\n",
       "      <td>0</td>\n",
       "      <td>0</td>\n",
       "      <td>0</td>\n",
       "      <td>0</td>\n",
       "      <td>0</td>\n",
       "      <td>0</td>\n",
       "      <td>0</td>\n",
       "    </tr>\n",
       "    <tr>\n",
       "      <th>1</th>\n",
       "      <td>0</td>\n",
       "      <td>1952</td>\n",
       "      <td>0</td>\n",
       "      <td>0</td>\n",
       "      <td>0</td>\n",
       "      <td>0</td>\n",
       "      <td>0</td>\n",
       "      <td>0</td>\n",
       "      <td>0</td>\n",
       "      <td>0</td>\n",
       "      <td>0</td>\n",
       "      <td>0</td>\n",
       "      <td>0</td>\n",
       "      <td>0</td>\n",
       "      <td>0</td>\n",
       "      <td>0</td>\n",
       "      <td>0</td>\n",
       "      <td>0</td>\n",
       "      <td>0</td>\n",
       "    </tr>\n",
       "    <tr>\n",
       "      <th>2</th>\n",
       "      <td>0</td>\n",
       "      <td>0</td>\n",
       "      <td>150</td>\n",
       "      <td>0</td>\n",
       "      <td>0</td>\n",
       "      <td>0</td>\n",
       "      <td>0</td>\n",
       "      <td>0</td>\n",
       "      <td>0</td>\n",
       "      <td>0</td>\n",
       "      <td>0</td>\n",
       "      <td>0</td>\n",
       "      <td>0</td>\n",
       "      <td>0</td>\n",
       "      <td>0</td>\n",
       "      <td>0</td>\n",
       "      <td>0</td>\n",
       "      <td>0</td>\n",
       "      <td>0</td>\n",
       "    </tr>\n",
       "    <tr>\n",
       "      <th>3</th>\n",
       "      <td>0</td>\n",
       "      <td>0</td>\n",
       "      <td>0</td>\n",
       "      <td>769</td>\n",
       "      <td>0</td>\n",
       "      <td>0</td>\n",
       "      <td>0</td>\n",
       "      <td>0</td>\n",
       "      <td>0</td>\n",
       "      <td>0</td>\n",
       "      <td>0</td>\n",
       "      <td>0</td>\n",
       "      <td>0</td>\n",
       "      <td>0</td>\n",
       "      <td>0</td>\n",
       "      <td>0</td>\n",
       "      <td>0</td>\n",
       "      <td>0</td>\n",
       "      <td>0</td>\n",
       "    </tr>\n",
       "    <tr>\n",
       "      <th>4</th>\n",
       "      <td>0</td>\n",
       "      <td>0</td>\n",
       "      <td>0</td>\n",
       "      <td>0</td>\n",
       "      <td>4386</td>\n",
       "      <td>0</td>\n",
       "      <td>0</td>\n",
       "      <td>0</td>\n",
       "      <td>0</td>\n",
       "      <td>0</td>\n",
       "      <td>0</td>\n",
       "      <td>0</td>\n",
       "      <td>0</td>\n",
       "      <td>0</td>\n",
       "      <td>0</td>\n",
       "      <td>0</td>\n",
       "      <td>0</td>\n",
       "      <td>0</td>\n",
       "      <td>0</td>\n",
       "    </tr>\n",
       "    <tr>\n",
       "      <th>5</th>\n",
       "      <td>0</td>\n",
       "      <td>0</td>\n",
       "      <td>0</td>\n",
       "      <td>0</td>\n",
       "      <td>0</td>\n",
       "      <td>4050</td>\n",
       "      <td>0</td>\n",
       "      <td>0</td>\n",
       "      <td>0</td>\n",
       "      <td>0</td>\n",
       "      <td>0</td>\n",
       "      <td>0</td>\n",
       "      <td>0</td>\n",
       "      <td>0</td>\n",
       "      <td>0</td>\n",
       "      <td>0</td>\n",
       "      <td>0</td>\n",
       "      <td>0</td>\n",
       "      <td>0</td>\n",
       "    </tr>\n",
       "    <tr>\n",
       "      <th>6</th>\n",
       "      <td>0</td>\n",
       "      <td>0</td>\n",
       "      <td>0</td>\n",
       "      <td>0</td>\n",
       "      <td>0</td>\n",
       "      <td>0</td>\n",
       "      <td>11204</td>\n",
       "      <td>0</td>\n",
       "      <td>0</td>\n",
       "      <td>0</td>\n",
       "      <td>0</td>\n",
       "      <td>0</td>\n",
       "      <td>0</td>\n",
       "      <td>0</td>\n",
       "      <td>0</td>\n",
       "      <td>0</td>\n",
       "      <td>0</td>\n",
       "      <td>0</td>\n",
       "      <td>0</td>\n",
       "    </tr>\n",
       "    <tr>\n",
       "      <th>7</th>\n",
       "      <td>0</td>\n",
       "      <td>0</td>\n",
       "      <td>0</td>\n",
       "      <td>0</td>\n",
       "      <td>0</td>\n",
       "      <td>0</td>\n",
       "      <td>0</td>\n",
       "      <td>1396</td>\n",
       "      <td>0</td>\n",
       "      <td>0</td>\n",
       "      <td>0</td>\n",
       "      <td>0</td>\n",
       "      <td>0</td>\n",
       "      <td>0</td>\n",
       "      <td>0</td>\n",
       "      <td>0</td>\n",
       "      <td>0</td>\n",
       "      <td>0</td>\n",
       "      <td>0</td>\n",
       "    </tr>\n",
       "    <tr>\n",
       "      <th>8</th>\n",
       "      <td>0</td>\n",
       "      <td>0</td>\n",
       "      <td>0</td>\n",
       "      <td>0</td>\n",
       "      <td>0</td>\n",
       "      <td>0</td>\n",
       "      <td>0</td>\n",
       "      <td>0</td>\n",
       "      <td>14904</td>\n",
       "      <td>0</td>\n",
       "      <td>0</td>\n",
       "      <td>0</td>\n",
       "      <td>0</td>\n",
       "      <td>0</td>\n",
       "      <td>0</td>\n",
       "      <td>0</td>\n",
       "      <td>0</td>\n",
       "      <td>0</td>\n",
       "      <td>0</td>\n",
       "    </tr>\n",
       "    <tr>\n",
       "      <th>9</th>\n",
       "      <td>0</td>\n",
       "      <td>0</td>\n",
       "      <td>0</td>\n",
       "      <td>0</td>\n",
       "      <td>0</td>\n",
       "      <td>0</td>\n",
       "      <td>0</td>\n",
       "      <td>0</td>\n",
       "      <td>0</td>\n",
       "      <td>38</td>\n",
       "      <td>0</td>\n",
       "      <td>0</td>\n",
       "      <td>0</td>\n",
       "      <td>0</td>\n",
       "      <td>0</td>\n",
       "      <td>0</td>\n",
       "      <td>0</td>\n",
       "      <td>0</td>\n",
       "      <td>0</td>\n",
       "    </tr>\n",
       "    <tr>\n",
       "      <th>10</th>\n",
       "      <td>0</td>\n",
       "      <td>0</td>\n",
       "      <td>0</td>\n",
       "      <td>0</td>\n",
       "      <td>0</td>\n",
       "      <td>0</td>\n",
       "      <td>0</td>\n",
       "      <td>0</td>\n",
       "      <td>1</td>\n",
       "      <td>0</td>\n",
       "      <td>4124</td>\n",
       "      <td>0</td>\n",
       "      <td>0</td>\n",
       "      <td>0</td>\n",
       "      <td>0</td>\n",
       "      <td>0</td>\n",
       "      <td>0</td>\n",
       "      <td>0</td>\n",
       "      <td>0</td>\n",
       "    </tr>\n",
       "    <tr>\n",
       "      <th>11</th>\n",
       "      <td>0</td>\n",
       "      <td>0</td>\n",
       "      <td>0</td>\n",
       "      <td>0</td>\n",
       "      <td>0</td>\n",
       "      <td>0</td>\n",
       "      <td>0</td>\n",
       "      <td>0</td>\n",
       "      <td>0</td>\n",
       "      <td>0</td>\n",
       "      <td>0</td>\n",
       "      <td>1974</td>\n",
       "      <td>0</td>\n",
       "      <td>0</td>\n",
       "      <td>0</td>\n",
       "      <td>0</td>\n",
       "      <td>0</td>\n",
       "      <td>0</td>\n",
       "      <td>0</td>\n",
       "    </tr>\n",
       "    <tr>\n",
       "      <th>12</th>\n",
       "      <td>0</td>\n",
       "      <td>0</td>\n",
       "      <td>0</td>\n",
       "      <td>0</td>\n",
       "      <td>0</td>\n",
       "      <td>0</td>\n",
       "      <td>0</td>\n",
       "      <td>1</td>\n",
       "      <td>1</td>\n",
       "      <td>0</td>\n",
       "      <td>0</td>\n",
       "      <td>0</td>\n",
       "      <td>2</td>\n",
       "      <td>0</td>\n",
       "      <td>0</td>\n",
       "      <td>0</td>\n",
       "      <td>0</td>\n",
       "      <td>0</td>\n",
       "      <td>0</td>\n",
       "    </tr>\n",
       "    <tr>\n",
       "      <th>13</th>\n",
       "      <td>0</td>\n",
       "      <td>0</td>\n",
       "      <td>0</td>\n",
       "      <td>0</td>\n",
       "      <td>0</td>\n",
       "      <td>0</td>\n",
       "      <td>0</td>\n",
       "      <td>0</td>\n",
       "      <td>0</td>\n",
       "      <td>0</td>\n",
       "      <td>0</td>\n",
       "      <td>0</td>\n",
       "      <td>0</td>\n",
       "      <td>2140</td>\n",
       "      <td>0</td>\n",
       "      <td>0</td>\n",
       "      <td>0</td>\n",
       "      <td>0</td>\n",
       "      <td>0</td>\n",
       "    </tr>\n",
       "    <tr>\n",
       "      <th>14</th>\n",
       "      <td>0</td>\n",
       "      <td>0</td>\n",
       "      <td>0</td>\n",
       "      <td>0</td>\n",
       "      <td>0</td>\n",
       "      <td>0</td>\n",
       "      <td>0</td>\n",
       "      <td>0</td>\n",
       "      <td>0</td>\n",
       "      <td>0</td>\n",
       "      <td>0</td>\n",
       "      <td>0</td>\n",
       "      <td>0</td>\n",
       "      <td>0</td>\n",
       "      <td>977</td>\n",
       "      <td>0</td>\n",
       "      <td>0</td>\n",
       "      <td>0</td>\n",
       "      <td>0</td>\n",
       "    </tr>\n",
       "    <tr>\n",
       "      <th>15</th>\n",
       "      <td>0</td>\n",
       "      <td>0</td>\n",
       "      <td>0</td>\n",
       "      <td>0</td>\n",
       "      <td>0</td>\n",
       "      <td>0</td>\n",
       "      <td>0</td>\n",
       "      <td>0</td>\n",
       "      <td>0</td>\n",
       "      <td>0</td>\n",
       "      <td>0</td>\n",
       "      <td>0</td>\n",
       "      <td>0</td>\n",
       "      <td>0</td>\n",
       "      <td>0</td>\n",
       "      <td>4389</td>\n",
       "      <td>0</td>\n",
       "      <td>0</td>\n",
       "      <td>0</td>\n",
       "    </tr>\n",
       "    <tr>\n",
       "      <th>16</th>\n",
       "      <td>0</td>\n",
       "      <td>0</td>\n",
       "      <td>0</td>\n",
       "      <td>0</td>\n",
       "      <td>0</td>\n",
       "      <td>0</td>\n",
       "      <td>0</td>\n",
       "      <td>0</td>\n",
       "      <td>0</td>\n",
       "      <td>0</td>\n",
       "      <td>0</td>\n",
       "      <td>0</td>\n",
       "      <td>0</td>\n",
       "      <td>0</td>\n",
       "      <td>0</td>\n",
       "      <td>0</td>\n",
       "      <td>346</td>\n",
       "      <td>0</td>\n",
       "      <td>0</td>\n",
       "    </tr>\n",
       "    <tr>\n",
       "      <th>17</th>\n",
       "      <td>0</td>\n",
       "      <td>0</td>\n",
       "      <td>0</td>\n",
       "      <td>0</td>\n",
       "      <td>0</td>\n",
       "      <td>0</td>\n",
       "      <td>0</td>\n",
       "      <td>0</td>\n",
       "      <td>0</td>\n",
       "      <td>0</td>\n",
       "      <td>0</td>\n",
       "      <td>0</td>\n",
       "      <td>0</td>\n",
       "      <td>0</td>\n",
       "      <td>0</td>\n",
       "      <td>0</td>\n",
       "      <td>0</td>\n",
       "      <td>18</td>\n",
       "      <td>0</td>\n",
       "    </tr>\n",
       "    <tr>\n",
       "      <th>18</th>\n",
       "      <td>0</td>\n",
       "      <td>0</td>\n",
       "      <td>0</td>\n",
       "      <td>0</td>\n",
       "      <td>0</td>\n",
       "      <td>0</td>\n",
       "      <td>0</td>\n",
       "      <td>0</td>\n",
       "      <td>0</td>\n",
       "      <td>0</td>\n",
       "      <td>0</td>\n",
       "      <td>0</td>\n",
       "      <td>0</td>\n",
       "      <td>0</td>\n",
       "      <td>0</td>\n",
       "      <td>0</td>\n",
       "      <td>0</td>\n",
       "      <td>0</td>\n",
       "      <td>6528</td>\n",
       "    </tr>\n",
       "  </tbody>\n",
       "</table>\n",
       "</div>"
      ],
      "text/plain": [
       "      0     1    2    3     4     5      6     7      8   9    10    11  12  \\\n",
       "0   648     0    0    0     0     0      0     0      0   0     0     0   0   \n",
       "1     0  1952    0    0     0     0      0     0      0   0     0     0   0   \n",
       "2     0     0  150    0     0     0      0     0      0   0     0     0   0   \n",
       "3     0     0    0  769     0     0      0     0      0   0     0     0   0   \n",
       "4     0     0    0    0  4386     0      0     0      0   0     0     0   0   \n",
       "5     0     0    0    0     0  4050      0     0      0   0     0     0   0   \n",
       "6     0     0    0    0     0     0  11204     0      0   0     0     0   0   \n",
       "7     0     0    0    0     0     0      0  1396      0   0     0     0   0   \n",
       "8     0     0    0    0     0     0      0     0  14904   0     0     0   0   \n",
       "9     0     0    0    0     0     0      0     0      0  38     0     0   0   \n",
       "10    0     0    0    0     0     0      0     0      1   0  4124     0   0   \n",
       "11    0     0    0    0     0     0      0     0      0   0     0  1974   0   \n",
       "12    0     0    0    0     0     0      0     1      1   0     0     0   2   \n",
       "13    0     0    0    0     0     0      0     0      0   0     0     0   0   \n",
       "14    0     0    0    0     0     0      0     0      0   0     0     0   0   \n",
       "15    0     0    0    0     0     0      0     0      0   0     0     0   0   \n",
       "16    0     0    0    0     0     0      0     0      0   0     0     0   0   \n",
       "17    0     0    0    0     0     0      0     0      0   0     0     0   0   \n",
       "18    0     0    0    0     0     0      0     0      0   0     0     0   0   \n",
       "\n",
       "      13   14    15   16  17    18  \n",
       "0      0    0     0    0   0     0  \n",
       "1      0    0     0    0   0     0  \n",
       "2      0    0     0    0   0     0  \n",
       "3      0    0     0    0   0     0  \n",
       "4      0    0     0    0   0     0  \n",
       "5      0    0     0    0   0     0  \n",
       "6      0    0     0    0   0     0  \n",
       "7      0    0     0    0   0     0  \n",
       "8      0    0     0    0   0     0  \n",
       "9      0    0     0    0   0     0  \n",
       "10     0    0     0    0   0     0  \n",
       "11     0    0     0    0   0     0  \n",
       "12     0    0     0    0   0     0  \n",
       "13  2140    0     0    0   0     0  \n",
       "14     0  977     0    0   0     0  \n",
       "15     0    0  4389    0   0     0  \n",
       "16     0    0     0  346   0     0  \n",
       "17     0    0     0    0  18     0  \n",
       "18     0    0     0    0   0  6528  "
      ]
     },
     "execution_count": 25,
     "metadata": {
      "tags": []
     },
     "output_type": "execute_result"
    }
   ],
   "source": [
    "cm_result"
   ]
  },
  {
   "cell_type": "code",
   "execution_count": 26,
   "metadata": {
    "ExecuteTime": {
     "end_time": "2020-02-10T15:07:09.581214Z",
     "start_time": "2020-02-10T15:07:08.548822Z"
    },
    "colab": {
     "base_uri": "https://localhost:8080/",
     "height": 890
    },
    "colab_type": "code",
    "id": "0Mm0t_3NptDL",
    "outputId": "b1f50677-e6c9-4798-cda7-4f2eb021ee05",
    "scrolled": false
   },
   "outputs": [
    {
     "data": {
      "image/png": "[encoded data removed]",
      "text/plain": [
       "<Figure size 1080x1080 with 2 Axes>"
      ]
     },
     "metadata": {
      "tags": []
     },
     "output_type": "display_data"
    }
   ],
   "source": [
    "plt.figure(figsize =(15,15))\n",
    "sns.heatmap(cm_result/np.sum(cm_result),annot = True, cmap ='RdYlGn',fmt='.1%')\n",
    "plt.ylabel(\"real\",fontsize=20)\n",
    "plt.xlabel(\"predict\",fontsize=20)\n",
    "plt.show()"
   ]
  },
  {
   "cell_type": "markdown",
   "metadata": {
    "colab_type": "text",
    "id": "NcMZ77RcptDP"
   },
   "source": [
    "# REAL"
   ]
  },
  {
   "cell_type": "code",
   "execution_count": 0,
   "metadata": {
    "colab": {},
    "colab_type": "code",
    "id": "WQ9ehjdF5JQn"
   },
   "outputs": [],
   "source": [
    "train_ds = lgb.Dataset(train_X, label = train_y, categorical_feature=['fiberID'])"
   ]
  },
  {
   "cell_type": "code",
   "execution_count": 28,
   "metadata": {
    "ExecuteTime": {
     "end_time": "2020-02-10T14:53:20.424816Z",
     "start_time": "2020-02-10T14:53:16.163Z"
    },
    "colab": {
     "base_uri": "https://localhost:8080/",
     "height": 53
    },
    "colab_type": "code",
    "id": "M02K4armptDQ",
    "outputId": "94a3e2b1-2f07-4ed7-c6b9-99ca435e86cd"
   },
   "outputs": [
    {
     "name": "stderr",
     "output_type": "stream",
     "text": [
      "/usr/local/lib/python3.6/dist-packages/lightgbm/basic.py:1205: UserWarning: Using categorical_feature in Dataset.\n",
      "  warnings.warn('Using categorical_feature in Dataset.')\n"
     ]
    }
   ],
   "source": [
    "lgmb_model = lgb.train(params, train_ds,num_boost_round= 4000, verbose_eval=100)"
   ]
  },
  {
   "cell_type": "code",
   "execution_count": 0,
   "metadata": {
    "ExecuteTime": {
     "end_time": "2020-02-10T14:53:20.425816Z",
     "start_time": "2020-02-10T14:53:16.165Z"
    },
    "colab": {},
    "colab_type": "code",
    "id": "8O-qcqFZptDS"
   },
   "outputs": [],
   "source": [
    "y_pred = lgmb_model.predict(test_X)"
   ]
  },
  {
   "cell_type": "code",
   "execution_count": 30,
   "metadata": {
    "colab": {
     "base_uri": "https://localhost:8080/",
     "height": 251
    },
    "colab_type": "code",
    "id": "rm6FEkUR9GLa",
    "outputId": "a441c6cc-7b12-4144-bf31-10d87091dad5"
   },
   "outputs": [
    {
     "data": {
      "text/plain": [
       "array([[1.33571740e-09, 9.99999262e-01, 6.39998528e-07, ...,\n",
       "        1.29117653e-09, 2.62906172e-10, 3.11626876e-09],\n",
       "       [4.77611384e-09, 9.99999660e-01, 6.48178488e-09, ...,\n",
       "        4.61072135e-09, 9.38418841e-10, 1.13290195e-08],\n",
       "       [3.21562469e-08, 4.35765984e-08, 9.99978759e-01, ...,\n",
       "        2.79280647e-08, 6.31810408e-09, 7.62414154e-08],\n",
       "       ...,\n",
       "       [3.84087493e-09, 9.99999845e-01, 4.71491839e-09, ...,\n",
       "        2.47585951e-09, 6.75877333e-10, 8.30913597e-09],\n",
       "       [7.87793130e-09, 9.99999598e-01, 1.02314794e-08, ...,\n",
       "        5.36887466e-09, 1.46666836e-09, 2.13683398e-08],\n",
       "       [3.80796367e-09, 9.99999031e-01, 4.77890954e-09, ...,\n",
       "        2.51047672e-09, 6.93185570e-10, 8.42200227e-09]])"
      ]
     },
     "execution_count": 30,
     "metadata": {
      "tags": []
     },
     "output_type": "execute_result"
    }
   ],
   "source": [
    "y_pred"
   ]
  },
  {
   "cell_type": "code",
   "execution_count": 31,
   "metadata": {
    "colab": {
     "base_uri": "https://localhost:8080/",
     "height": 251
    },
    "colab_type": "code",
    "id": "QQjeB-iu9Faq",
    "outputId": "b77135f3-ba98-46dd-8e28-dfe368037a8f"
   },
   "outputs": [
    {
     "data": {
      "text/plain": [
       "array([[1.86464603e-09, 9.99999815e-01, 5.16471481e-08, ...,\n",
       "        1.77905833e-09, 3.69200807e-10, 4.33848734e-09],\n",
       "       [6.56183276e-09, 9.99999523e-01, 8.73010863e-09, ...,\n",
       "        6.24273243e-09, 1.29497709e-09, 1.55465229e-08],\n",
       "       [1.11712320e-06, 1.53381418e-06, 9.93465146e-01, ...,\n",
       "        9.70832675e-07, 2.20459842e-07, 2.63023056e-06],\n",
       "       ...,\n",
       "       [5.58185504e-09, 9.99999705e-01, 7.00176163e-09, ...,\n",
       "        3.74301838e-09, 1.02615650e-09, 1.26549906e-08],\n",
       "       [1.12249498e-08, 9.99999423e-01, 1.35267232e-08, ...,\n",
       "        7.23188207e-09, 2.01185738e-09, 2.87929097e-08],\n",
       "       [5.92929680e-09, 9.99996915e-01, 6.99376777e-09, ...,\n",
       "        3.74138030e-09, 1.04022963e-09, 1.26452997e-08]])"
      ]
     },
     "execution_count": 31,
     "metadata": {
      "tags": []
     },
     "output_type": "execute_result"
    }
   ],
   "source": [
    "real_y_pred"
   ]
  },
  {
   "cell_type": "code",
   "execution_count": 0,
   "metadata": {
    "ExecuteTime": {
     "end_time": "2020-02-10T14:53:20.426816Z",
     "start_time": "2020-02-10T14:53:16.167Z"
    },
    "colab": {},
    "colab_type": "code",
    "id": "cqGBpowTptDV"
   },
   "outputs": [],
   "source": [
    "submission = pd.DataFrame(data=y_pred, columns=sample_submission_df.columns, index=sample_submission_df.index)\n",
    "submission.to_csv('submission.csv', index=True)"
   ]
  },
  {
   "cell_type": "code",
   "execution_count": 0,
   "metadata": {
    "colab": {},
    "colab_type": "code",
    "id": "UaAdIEb9ptDY"
   },
   "outputs": [],
   "source": [
    "# #제출변경\n",
    "# submission = pd.DataFrame(data=train_y_pred, columns=sample_submission_df.columns, index=sample_submission_df.index)\n",
    "# submission.to_csv('submission.csv', index=True)"
   ]
  },
  {
   "cell_type": "code",
   "execution_count": 0,
   "metadata": {
    "colab": {},
    "colab_type": "code",
    "id": "a00CR88d8v18"
   },
   "outputs": [],
   "source": []
  }
 ],
 "metadata": {
  "colab": {
   "collapsed_sections": [],
   "name": "lightbgm(add_feature_only)_JH.ipynb",
   "provenance": []
  },
  "kernelspec": {
   "display_name": "Python 3",
   "language": "python",
   "name": "python3"
  },
  "language_info": {
   "codemirror_mode": {
    "name": "ipython",
    "version": 3
   },
   "file_extension": ".py",
   "mimetype": "text/x-python",
   "name": "python",
   "nbconvert_exporter": "python",
   "pygments_lexer": "ipython3",
   "version": "3.6.9"
  },
  "varInspector": {
   "cols": {
    "lenName": 16,
    "lenType": 16,
    "lenVar": 40
   },
   "kernels_config": {
    "python": {
     "delete_cmd_postfix": "",
     "delete_cmd_prefix": "del ",
     "library": "var_list.py",
     "varRefreshCmd": "print(var_dic_list())"
    },
    "r": {
     "delete_cmd_postfix": ") ",
     "delete_cmd_prefix": "rm(",
     "library": "var_list.r",
     "varRefreshCmd": "cat(var_dic_list()) "
    }
   },
   "types_to_exclude": [
    "module",
    "function",
    "builtin_function_or_method",
    "instance",
    "_Feature"
   ],
   "window_display": false
  }
 },
 "nbformat": 4,
 "nbformat_minor": 1
}
