{
  "nbformat": 4,
  "nbformat_minor": 0,
  "metadata": {
    "accelerator": "GPU",
    "colab": {
      "name": "0228_keras(update_perceptron)_jae의 사본",
      "provenance": [],
      "collapsed_sections": [],
      "include_colab_link": true
    },
    "kernelspec": {
      "display_name": "Python 3",
      "language": "python",
      "name": "python3"
    },
    "language_info": {
      "codemirror_mode": {
        "name": "ipython",
        "version": 3
      },
      "file_extension": ".py",
      "mimetype": "text/x-python",
      "name": "python",
      "nbconvert_exporter": "python",
      "pygments_lexer": "ipython3",
      "version": "3.7.4"
    }
  },
  "cells": [
    {
      "cell_type": "markdown",
      "metadata": {
        "id": "view-in-github",
        "colab_type": "text"
      },
      "source": [
        "<a href=\"https://colab.research.google.com/github/starlidust/Astro/blob/master/0228_keras(update_perceptron)_jae%EC%9D%98_%EC%82%AC%EB%B3%B8.ipynb\" target=\"_parent\"><img src=\"https://colab.research.google.com/assets/colab-badge.svg\" alt=\"Open In Colab\"/></a>"
      ]
    },
    {
      "cell_type": "code",
      "metadata": {
        "colab_type": "code",
        "id": "FAnG9WAJIdG3",
        "outputId": "72250978-98bf-4fe8-9102-a6e9b56a44bf",
        "colab": {
          "base_uri": "https://localhost:8080/",
          "height": 63
        }
      },
      "source": [
        "import pandas as pd\n",
        "import numpy as np\n",
        "import matplotlib.pyplot as plt\n",
        "import seaborn as sns\n",
        "import lightgbm as lgb\n",
        "import tensorflow as tf\n",
        "import chart_studio.plotly as py\n",
        "\n",
        "from sklearn.ensemble import RandomForestClassifier\n",
        "from sklearn.model_selection import train_test_split\n",
        "from sklearn.metrics import confusion_matrix\n",
        "from sklearn.metrics import log_loss\n",
        "from sklearn.preprocessing import OneHotEncoder\n",
        "from tensorflow import keras"
      ],
      "execution_count": 1,
      "outputs": [
        {
          "output_type": "display_data",
          "data": {
            "text/html": [
              "<p style=\"color: red;\">\n",
              "The default version of TensorFlow in Colab will soon switch to TensorFlow 2.x.<br>\n",
              "We recommend you <a href=\"https://www.tensorflow.org/guide/migrate\" target=\"_blank\">upgrade</a> now \n",
              "or ensure your notebook will continue to use TensorFlow 1.x via the <code>%tensorflow_version 1.x</code> magic:\n",
              "<a href=\"https://colab.research.google.com/notebooks/tensorflow_version.ipynb\" target=\"_blank\">more info</a>.</p>\n"
            ],
            "text/plain": [
              "<IPython.core.display.HTML object>"
            ]
          },
          "metadata": {
            "tags": []
          }
        }
      ]
    },
    {
      "cell_type": "code",
      "metadata": {
        "colab_type": "code",
        "id": "ratlOsTrIqkA",
        "outputId": "bf42ac20-cae6-4e3d-f345-8cf19d965705",
        "colab": {
          "base_uri": "https://localhost:8080/",
          "height": 125
        }
      },
      "source": [
        "from google.colab import drive\n",
        "drive.mount('/content/drive')"
      ],
      "execution_count": 2,
      "outputs": [
        {
          "output_type": "stream",
          "text": [
            "Go to this URL in a browser: https://accounts.google.com/o/oauth2/auth?client_id=947318989803-6bn6qk8qdgf4n4g3pfee6491hc0brc4i.apps.googleusercontent.com&redirect_uri=urn%3aietf%3awg%3aoauth%3a2.0%3aoob&response_type=code&scope=email%20https%3a%2f%2fwww.googleapis.com%2fauth%2fdocs.test%20https%3a%2f%2fwww.googleapis.com%2fauth%2fdrive%20https%3a%2f%2fwww.googleapis.com%2fauth%2fdrive.photos.readonly%20https%3a%2f%2fwww.googleapis.com%2fauth%2fpeopleapi.readonly\n",
            "\n",
            "Enter your authorization code:\n",
            "··········\n",
            "Mounted at /content/drive\n"
          ],
          "name": "stdout"
        }
      ]
    },
    {
      "cell_type": "code",
      "metadata": {
        "colab_type": "code",
        "id": "MjaMyZkkI36o",
        "colab": {}
      },
      "source": [
        "import os\n",
        "os.chdir('/content/drive/My Drive/data_con/')"
      ],
      "execution_count": 0,
      "outputs": []
    },
    {
      "cell_type": "code",
      "metadata": {
        "colab_type": "code",
        "id": "9TJVuvADIdHA",
        "colab": {}
      },
      "source": [
        "path = \"./data/\" \n",
        "train_df = pd.read_csv(path+'train.csv',index_col=0)\n",
        "test_df = pd.read_csv(path+'test.csv',index_col=0)\n",
        "sample_submission_df = pd.read_csv(path+'sample_submission.csv',index_col=0)\n",
        "pd.options.display.max_columns = 30"
      ],
      "execution_count": 0,
      "outputs": []
    },
    {
      "cell_type": "code",
      "metadata": {
        "colab_type": "code",
        "id": "Vhfz2BXRIdHG",
        "colab": {}
      },
      "source": [
        "##conda install keras-gpu 하면 gpu도 괴롭힐 수 있음"
      ],
      "execution_count": 0,
      "outputs": []
    },
    {
      "cell_type": "code",
      "metadata": {
        "colab_type": "code",
        "id": "quYDTIuSXfjd",
        "colab": {}
      },
      "source": [
        "## 원핫 인코딩 함수\n",
        "def prepare_inputs(X_train, X_test):\n",
        "    ohe =  OneHotEncoder()\n",
        "    ohe.fit(X_train)\n",
        "    x_train_enc = ohe.transform(X_train)\n",
        "    X_test_enc = ohe.transform(X_test)\n",
        "    return X_train_enc, X_test_enc"
      ],
      "execution_count": 0,
      "outputs": []
    },
    {
      "cell_type": "markdown",
      "metadata": {
        "colab_type": "text",
        "id": "sZsLrP8DIdHL"
      },
      "source": [
        "## 전처리\n",
        " - 이상치 확인 및 처리"
      ]
    },
    {
      "cell_type": "code",
      "metadata": {
        "colab_type": "code",
        "id": "VdNREsVMIdHN",
        "outputId": "b0eb980b-afc6-4bed-95ba-994c191be587",
        "colab": {
          "base_uri": "https://localhost:8080/",
          "height": 34
        }
      },
      "source": [
        "train_df.shape"
      ],
      "execution_count": 7,
      "outputs": [
        {
          "output_type": "execute_result",
          "data": {
            "text/plain": [
              "(199991, 22)"
            ]
          },
          "metadata": {
            "tags": []
          },
          "execution_count": 7
        }
      ]
    },
    {
      "cell_type": "code",
      "metadata": {
        "colab_type": "code",
        "id": "T6PAAhPuIdHS",
        "outputId": "97be362d-0450-4bed-9945-05beeccae43f",
        "colab": {
          "base_uri": "https://localhost:8080/",
          "height": 304
        }
      },
      "source": [
        "train_df.describe()"
      ],
      "execution_count": 8,
      "outputs": [
        {
          "output_type": "execute_result",
          "data": {
            "text/html": [
              "<div>\n",
              "<style scoped>\n",
              "    .dataframe tbody tr th:only-of-type {\n",
              "        vertical-align: middle;\n",
              "    }\n",
              "\n",
              "    .dataframe tbody tr th {\n",
              "        vertical-align: top;\n",
              "    }\n",
              "\n",
              "    .dataframe thead th {\n",
              "        text-align: right;\n",
              "    }\n",
              "</style>\n",
              "<table border=\"1\" class=\"dataframe\">\n",
              "  <thead>\n",
              "    <tr style=\"text-align: right;\">\n",
              "      <th></th>\n",
              "      <th>fiberID</th>\n",
              "      <th>psfMag_u</th>\n",
              "      <th>psfMag_g</th>\n",
              "      <th>psfMag_r</th>\n",
              "      <th>psfMag_i</th>\n",
              "      <th>psfMag_z</th>\n",
              "      <th>fiberMag_u</th>\n",
              "      <th>fiberMag_g</th>\n",
              "      <th>fiberMag_r</th>\n",
              "      <th>fiberMag_i</th>\n",
              "      <th>fiberMag_z</th>\n",
              "      <th>petroMag_u</th>\n",
              "      <th>petroMag_g</th>\n",
              "      <th>petroMag_r</th>\n",
              "      <th>petroMag_i</th>\n",
              "      <th>petroMag_z</th>\n",
              "      <th>modelMag_u</th>\n",
              "      <th>modelMag_g</th>\n",
              "      <th>modelMag_r</th>\n",
              "      <th>modelMag_i</th>\n",
              "      <th>modelMag_z</th>\n",
              "    </tr>\n",
              "  </thead>\n",
              "  <tbody>\n",
              "    <tr>\n",
              "      <th>count</th>\n",
              "      <td>199991.000000</td>\n",
              "      <td>1.999910e+05</td>\n",
              "      <td>199991.000000</td>\n",
              "      <td>199991.000000</td>\n",
              "      <td>199991.000000</td>\n",
              "      <td>199991.000000</td>\n",
              "      <td>1.999910e+05</td>\n",
              "      <td>199991.000000</td>\n",
              "      <td>199991.000000</td>\n",
              "      <td>199991.000000</td>\n",
              "      <td>199991.000000</td>\n",
              "      <td>199991.000000</td>\n",
              "      <td>199991.000000</td>\n",
              "      <td>199991.000000</td>\n",
              "      <td>199991.000000</td>\n",
              "      <td>199991.000000</td>\n",
              "      <td>199991.000000</td>\n",
              "      <td>199991.000000</td>\n",
              "      <td>199991.000000</td>\n",
              "      <td>199991.000000</td>\n",
              "      <td>199991.000000</td>\n",
              "    </tr>\n",
              "    <tr>\n",
              "      <th>mean</th>\n",
              "      <td>360.830152</td>\n",
              "      <td>-6.750146e+00</td>\n",
              "      <td>18.675373</td>\n",
              "      <td>18.401235</td>\n",
              "      <td>18.043495</td>\n",
              "      <td>17.663526</td>\n",
              "      <td>1.084986e+01</td>\n",
              "      <td>19.072693</td>\n",
              "      <td>19.134483</td>\n",
              "      <td>18.183331</td>\n",
              "      <td>18.000882</td>\n",
              "      <td>21.837903</td>\n",
              "      <td>18.454136</td>\n",
              "      <td>18.481525</td>\n",
              "      <td>17.686617</td>\n",
              "      <td>17.699207</td>\n",
              "      <td>20.110991</td>\n",
              "      <td>18.544375</td>\n",
              "      <td>18.181544</td>\n",
              "      <td>17.692395</td>\n",
              "      <td>17.189281</td>\n",
              "    </tr>\n",
              "    <tr>\n",
              "      <th>std</th>\n",
              "      <td>225.305890</td>\n",
              "      <td>1.187678e+04</td>\n",
              "      <td>155.423024</td>\n",
              "      <td>127.128078</td>\n",
              "      <td>116.622194</td>\n",
              "      <td>123.735298</td>\n",
              "      <td>4.172116e+03</td>\n",
              "      <td>749.256162</td>\n",
              "      <td>90.049058</td>\n",
              "      <td>122.378972</td>\n",
              "      <td>145.862346</td>\n",
              "      <td>789.472333</td>\n",
              "      <td>154.376277</td>\n",
              "      <td>97.240448</td>\n",
              "      <td>145.730872</td>\n",
              "      <td>142.691880</td>\n",
              "      <td>122.299062</td>\n",
              "      <td>161.728183</td>\n",
              "      <td>133.984475</td>\n",
              "      <td>131.183416</td>\n",
              "      <td>133.685138</td>\n",
              "    </tr>\n",
              "    <tr>\n",
              "      <th>min</th>\n",
              "      <td>1.000000</td>\n",
              "      <td>-5.310802e+06</td>\n",
              "      <td>-40022.466071</td>\n",
              "      <td>-27184.795793</td>\n",
              "      <td>-26566.310827</td>\n",
              "      <td>-24878.828280</td>\n",
              "      <td>-1.864766e+06</td>\n",
              "      <td>-215882.917191</td>\n",
              "      <td>-21802.656144</td>\n",
              "      <td>-20208.516262</td>\n",
              "      <td>-26505.602101</td>\n",
              "      <td>-24463.431833</td>\n",
              "      <td>-25958.752324</td>\n",
              "      <td>-23948.588523</td>\n",
              "      <td>-40438.184078</td>\n",
              "      <td>-30070.729379</td>\n",
              "      <td>-26236.578659</td>\n",
              "      <td>-36902.402336</td>\n",
              "      <td>-36439.638493</td>\n",
              "      <td>-38969.416822</td>\n",
              "      <td>-26050.710196</td>\n",
              "    </tr>\n",
              "    <tr>\n",
              "      <th>25%</th>\n",
              "      <td>174.000000</td>\n",
              "      <td>1.965259e+01</td>\n",
              "      <td>18.701180</td>\n",
              "      <td>18.048572</td>\n",
              "      <td>17.747663</td>\n",
              "      <td>17.425523</td>\n",
              "      <td>1.994040e+01</td>\n",
              "      <td>18.902851</td>\n",
              "      <td>18.259352</td>\n",
              "      <td>17.903615</td>\n",
              "      <td>17.606148</td>\n",
              "      <td>19.247795</td>\n",
              "      <td>18.113933</td>\n",
              "      <td>17.479794</td>\n",
              "      <td>17.050294</td>\n",
              "      <td>16.804705</td>\n",
              "      <td>19.266214</td>\n",
              "      <td>18.076120</td>\n",
              "      <td>17.423425</td>\n",
              "      <td>16.977671</td>\n",
              "      <td>16.705774</td>\n",
              "    </tr>\n",
              "    <tr>\n",
              "      <th>50%</th>\n",
              "      <td>349.000000</td>\n",
              "      <td>2.087136e+01</td>\n",
              "      <td>19.904235</td>\n",
              "      <td>19.454492</td>\n",
              "      <td>19.043895</td>\n",
              "      <td>18.611799</td>\n",
              "      <td>2.104910e+01</td>\n",
              "      <td>20.069038</td>\n",
              "      <td>19.631419</td>\n",
              "      <td>19.188763</td>\n",
              "      <td>18.710967</td>\n",
              "      <td>20.366848</td>\n",
              "      <td>19.586559</td>\n",
              "      <td>19.182789</td>\n",
              "      <td>18.693370</td>\n",
              "      <td>18.174592</td>\n",
              "      <td>20.406840</td>\n",
              "      <td>19.547674</td>\n",
              "      <td>19.143156</td>\n",
              "      <td>18.641756</td>\n",
              "      <td>18.100997</td>\n",
              "    </tr>\n",
              "    <tr>\n",
              "      <th>75%</th>\n",
              "      <td>526.000000</td>\n",
              "      <td>2.216043e+01</td>\n",
              "      <td>21.150297</td>\n",
              "      <td>20.515936</td>\n",
              "      <td>20.073528</td>\n",
              "      <td>19.883760</td>\n",
              "      <td>2.233754e+01</td>\n",
              "      <td>21.385830</td>\n",
              "      <td>20.773911</td>\n",
              "      <td>20.331419</td>\n",
              "      <td>20.133179</td>\n",
              "      <td>21.797480</td>\n",
              "      <td>21.004397</td>\n",
              "      <td>20.457491</td>\n",
              "      <td>20.019112</td>\n",
              "      <td>19.807652</td>\n",
              "      <td>21.992898</td>\n",
              "      <td>20.962386</td>\n",
              "      <td>20.408140</td>\n",
              "      <td>19.968846</td>\n",
              "      <td>19.819554</td>\n",
              "    </tr>\n",
              "    <tr>\n",
              "      <th>max</th>\n",
              "      <td>1000.000000</td>\n",
              "      <td>1.877392e+04</td>\n",
              "      <td>3538.984910</td>\n",
              "      <td>3048.110913</td>\n",
              "      <td>4835.218639</td>\n",
              "      <td>9823.740407</td>\n",
              "      <td>4.870154e+03</td>\n",
              "      <td>248077.513380</td>\n",
              "      <td>12084.735440</td>\n",
              "      <td>8059.638535</td>\n",
              "      <td>18358.921741</td>\n",
              "      <td>298771.019041</td>\n",
              "      <td>12139.815877</td>\n",
              "      <td>7003.136546</td>\n",
              "      <td>9772.190537</td>\n",
              "      <td>17403.789263</td>\n",
              "      <td>14488.251976</td>\n",
              "      <td>10582.058590</td>\n",
              "      <td>12237.951703</td>\n",
              "      <td>4062.499371</td>\n",
              "      <td>7420.534172</td>\n",
              "    </tr>\n",
              "  </tbody>\n",
              "</table>\n",
              "</div>"
            ],
            "text/plain": [
              "             fiberID      psfMag_u       psfMag_g       psfMag_r  \\\n",
              "count  199991.000000  1.999910e+05  199991.000000  199991.000000   \n",
              "mean      360.830152 -6.750146e+00      18.675373      18.401235   \n",
              "std       225.305890  1.187678e+04     155.423024     127.128078   \n",
              "min         1.000000 -5.310802e+06  -40022.466071  -27184.795793   \n",
              "25%       174.000000  1.965259e+01      18.701180      18.048572   \n",
              "50%       349.000000  2.087136e+01      19.904235      19.454492   \n",
              "75%       526.000000  2.216043e+01      21.150297      20.515936   \n",
              "max      1000.000000  1.877392e+04    3538.984910    3048.110913   \n",
              "\n",
              "            psfMag_i       psfMag_z    fiberMag_u     fiberMag_g  \\\n",
              "count  199991.000000  199991.000000  1.999910e+05  199991.000000   \n",
              "mean       18.043495      17.663526  1.084986e+01      19.072693   \n",
              "std       116.622194     123.735298  4.172116e+03     749.256162   \n",
              "min    -26566.310827  -24878.828280 -1.864766e+06 -215882.917191   \n",
              "25%        17.747663      17.425523  1.994040e+01      18.902851   \n",
              "50%        19.043895      18.611799  2.104910e+01      20.069038   \n",
              "75%        20.073528      19.883760  2.233754e+01      21.385830   \n",
              "max      4835.218639    9823.740407  4.870154e+03  248077.513380   \n",
              "\n",
              "          fiberMag_r     fiberMag_i     fiberMag_z     petroMag_u  \\\n",
              "count  199991.000000  199991.000000  199991.000000  199991.000000   \n",
              "mean       19.134483      18.183331      18.000882      21.837903   \n",
              "std        90.049058     122.378972     145.862346     789.472333   \n",
              "min    -21802.656144  -20208.516262  -26505.602101  -24463.431833   \n",
              "25%        18.259352      17.903615      17.606148      19.247795   \n",
              "50%        19.631419      19.188763      18.710967      20.366848   \n",
              "75%        20.773911      20.331419      20.133179      21.797480   \n",
              "max     12084.735440    8059.638535   18358.921741  298771.019041   \n",
              "\n",
              "          petroMag_g     petroMag_r     petroMag_i     petroMag_z  \\\n",
              "count  199991.000000  199991.000000  199991.000000  199991.000000   \n",
              "mean       18.454136      18.481525      17.686617      17.699207   \n",
              "std       154.376277      97.240448     145.730872     142.691880   \n",
              "min    -25958.752324  -23948.588523  -40438.184078  -30070.729379   \n",
              "25%        18.113933      17.479794      17.050294      16.804705   \n",
              "50%        19.586559      19.182789      18.693370      18.174592   \n",
              "75%        21.004397      20.457491      20.019112      19.807652   \n",
              "max     12139.815877    7003.136546    9772.190537   17403.789263   \n",
              "\n",
              "          modelMag_u     modelMag_g     modelMag_r     modelMag_i  \\\n",
              "count  199991.000000  199991.000000  199991.000000  199991.000000   \n",
              "mean       20.110991      18.544375      18.181544      17.692395   \n",
              "std       122.299062     161.728183     133.984475     131.183416   \n",
              "min    -26236.578659  -36902.402336  -36439.638493  -38969.416822   \n",
              "25%        19.266214      18.076120      17.423425      16.977671   \n",
              "50%        20.406840      19.547674      19.143156      18.641756   \n",
              "75%        21.992898      20.962386      20.408140      19.968846   \n",
              "max     14488.251976   10582.058590   12237.951703    4062.499371   \n",
              "\n",
              "          modelMag_z  \n",
              "count  199991.000000  \n",
              "mean       17.189281  \n",
              "std       133.685138  \n",
              "min    -26050.710196  \n",
              "25%        16.705774  \n",
              "50%        18.100997  \n",
              "75%        19.819554  \n",
              "max      7420.534172  "
            ]
          },
          "metadata": {
            "tags": []
          },
          "execution_count": 8
        }
      ]
    },
    {
      "cell_type": "code",
      "metadata": {
        "colab_type": "code",
        "id": "PQyieXjqIdHV",
        "colab": {}
      },
      "source": [
        "def del_outlier(data, min=0, max=60):\n",
        "    up_idx_t=()\n",
        "    dw_idx_t=()\n",
        "    train_light = data.iloc[:,2:]\n",
        "    for i in range(len(train_light.columns)):\n",
        "        col = train_light.columns[i]\n",
        "        up_idx_t+=tuple(data[data[col]>max].index)\n",
        "        dw_idx_t+=tuple(data[data[col]<min].index)\n",
        "    del_idx = set(up_idx_t+dw_idx_t)\n",
        "    \n",
        "    return data[~data.index.isin(del_idx)]"
      ],
      "execution_count": 0,
      "outputs": []
    },
    {
      "cell_type": "code",
      "metadata": {
        "colab_type": "code",
        "id": "nOW3yLvUIdHb",
        "colab": {}
      },
      "source": [
        "train_df = del_outlier(train_df, min=-20, max=60)"
      ],
      "execution_count": 0,
      "outputs": []
    },
    {
      "cell_type": "code",
      "metadata": {
        "colab_type": "code",
        "id": "h63rnOB9IdHg",
        "outputId": "f5b0acb3-b9ac-4436-f008-5942a56b0705",
        "colab": {
          "base_uri": "https://localhost:8080/",
          "height": 122
        }
      },
      "source": [
        "train_df.columns, train_df.shape"
      ],
      "execution_count": 11,
      "outputs": [
        {
          "output_type": "execute_result",
          "data": {
            "text/plain": [
              "(Index(['type', 'fiberID', 'psfMag_u', 'psfMag_g', 'psfMag_r', 'psfMag_i',\n",
              "        'psfMag_z', 'fiberMag_u', 'fiberMag_g', 'fiberMag_r', 'fiberMag_i',\n",
              "        'fiberMag_z', 'petroMag_u', 'petroMag_g', 'petroMag_r', 'petroMag_i',\n",
              "        'petroMag_z', 'modelMag_u', 'modelMag_g', 'modelMag_r', 'modelMag_i',\n",
              "        'modelMag_z'],\n",
              "       dtype='object'), (199770, 22))"
            ]
          },
          "metadata": {
            "tags": []
          },
          "execution_count": 11
        }
      ]
    },
    {
      "cell_type": "markdown",
      "metadata": {
        "colab_type": "text",
        "id": "xEriLvN2IdHj"
      },
      "source": [
        "## DATA Setting"
      ]
    },
    {
      "cell_type": "code",
      "metadata": {
        "colab_type": "code",
        "id": "t5-DMEgwIdHl",
        "colab": {}
      },
      "source": [
        "column_number = {}\n",
        "number_columns = {}\n",
        "for i, column in enumerate(sample_submission_df.columns):\n",
        "    column_number[column] = i\n",
        "    number_columns[i] = column\n",
        "    \n",
        "    \n",
        "def to_number(x, dic):\n",
        "    return dic[x]\n",
        "\n",
        "train_df['type_num'] = train_df['type'].apply(lambda x: to_number(x, column_number))\n"
      ],
      "execution_count": 0,
      "outputs": []
    },
    {
      "cell_type": "code",
      "metadata": {
        "colab_type": "code",
        "id": "fsjNmwYlIdHq",
        "colab": {}
      },
      "source": [
        "def add_minus_feature(data,test = False):\n",
        "    from itertools import combinations\n",
        "    n = 0\n",
        "    for count in range(5,21,5):\n",
        "        s = 2\n",
        "        if test == True :\n",
        "            s = 1\n",
        "        selected = data.columns[s:].values[n:count]\n",
        "        mag = str.split(selected[0],'_')[0]\n",
        "        for combi in list(combinations(selected,2)):\n",
        "            name_1st = str.split(combi[0],'_')[1]\n",
        "            name_2nd = str.split(combi[1],'_')[1]\n",
        "            data[mag+\"_\"+name_1st+\"-\"+name_2nd] = data[combi[0]]-data[combi[1]]\n",
        "        n=count\n",
        "    return data"
      ],
      "execution_count": 0,
      "outputs": []
    },
    {
      "cell_type": "code",
      "metadata": {
        "colab_type": "code",
        "id": "hQK90dmoIdHw",
        "colab": {}
      },
      "source": [
        "train_df = add_minus_feature(train_df)\n",
        "test_df = add_minus_feature(test_df,True)"
      ],
      "execution_count": 0,
      "outputs": []
    },
    {
      "cell_type": "code",
      "metadata": {
        "colab_type": "code",
        "id": "wNh3Nq8tIdH1",
        "colab": {}
      },
      "source": [
        "train_X = train_df.drop(columns=['type', 'type_num'], axis=1)\n",
        "train_y = train_df['type_num']\n",
        "test_X = test_df"
      ],
      "execution_count": 0,
      "outputs": []
    },
    {
      "cell_type": "code",
      "metadata": {
        "colab_type": "code",
        "id": "Ebv7h9icIdH6",
        "outputId": "50186339-0123-428e-e841-1e1f331dfc5d",
        "colab": {
          "base_uri": "https://localhost:8080/",
          "height": 290
        }
      },
      "source": [
        "train_X.head()"
      ],
      "execution_count": 16,
      "outputs": [
        {
          "output_type": "execute_result",
          "data": {
            "text/html": [
              "<div>\n",
              "<style scoped>\n",
              "    .dataframe tbody tr th:only-of-type {\n",
              "        vertical-align: middle;\n",
              "    }\n",
              "\n",
              "    .dataframe tbody tr th {\n",
              "        vertical-align: top;\n",
              "    }\n",
              "\n",
              "    .dataframe thead th {\n",
              "        text-align: right;\n",
              "    }\n",
              "</style>\n",
              "<table border=\"1\" class=\"dataframe\">\n",
              "  <thead>\n",
              "    <tr style=\"text-align: right;\">\n",
              "      <th></th>\n",
              "      <th>fiberID</th>\n",
              "      <th>psfMag_u</th>\n",
              "      <th>psfMag_g</th>\n",
              "      <th>psfMag_r</th>\n",
              "      <th>psfMag_i</th>\n",
              "      <th>psfMag_z</th>\n",
              "      <th>fiberMag_u</th>\n",
              "      <th>fiberMag_g</th>\n",
              "      <th>fiberMag_r</th>\n",
              "      <th>fiberMag_i</th>\n",
              "      <th>fiberMag_z</th>\n",
              "      <th>petroMag_u</th>\n",
              "      <th>petroMag_g</th>\n",
              "      <th>petroMag_r</th>\n",
              "      <th>petroMag_i</th>\n",
              "      <th>...</th>\n",
              "      <th>petroMag_g-i</th>\n",
              "      <th>petroMag_g-z</th>\n",
              "      <th>petroMag_r-i</th>\n",
              "      <th>petroMag_r-z</th>\n",
              "      <th>petroMag_i-z</th>\n",
              "      <th>modelMag_u-g</th>\n",
              "      <th>modelMag_u-r</th>\n",
              "      <th>modelMag_u-i</th>\n",
              "      <th>modelMag_u-z</th>\n",
              "      <th>modelMag_g-r</th>\n",
              "      <th>modelMag_g-i</th>\n",
              "      <th>modelMag_g-z</th>\n",
              "      <th>modelMag_r-i</th>\n",
              "      <th>modelMag_r-z</th>\n",
              "      <th>modelMag_i-z</th>\n",
              "    </tr>\n",
              "    <tr>\n",
              "      <th>id</th>\n",
              "      <th></th>\n",
              "      <th></th>\n",
              "      <th></th>\n",
              "      <th></th>\n",
              "      <th></th>\n",
              "      <th></th>\n",
              "      <th></th>\n",
              "      <th></th>\n",
              "      <th></th>\n",
              "      <th></th>\n",
              "      <th></th>\n",
              "      <th></th>\n",
              "      <th></th>\n",
              "      <th></th>\n",
              "      <th></th>\n",
              "      <th></th>\n",
              "      <th></th>\n",
              "      <th></th>\n",
              "      <th></th>\n",
              "      <th></th>\n",
              "      <th></th>\n",
              "      <th></th>\n",
              "      <th></th>\n",
              "      <th></th>\n",
              "      <th></th>\n",
              "      <th></th>\n",
              "      <th></th>\n",
              "      <th></th>\n",
              "      <th></th>\n",
              "      <th></th>\n",
              "      <th></th>\n",
              "    </tr>\n",
              "  </thead>\n",
              "  <tbody>\n",
              "    <tr>\n",
              "      <th>0</th>\n",
              "      <td>601</td>\n",
              "      <td>23.198224</td>\n",
              "      <td>21.431953</td>\n",
              "      <td>21.314148</td>\n",
              "      <td>21.176553</td>\n",
              "      <td>21.171444</td>\n",
              "      <td>22.581309</td>\n",
              "      <td>21.644453</td>\n",
              "      <td>21.657571</td>\n",
              "      <td>21.387653</td>\n",
              "      <td>21.572827</td>\n",
              "      <td>22.504317</td>\n",
              "      <td>21.431636</td>\n",
              "      <td>21.478312</td>\n",
              "      <td>21.145409</td>\n",
              "      <td>...</td>\n",
              "      <td>0.286226</td>\n",
              "      <td>1.009190</td>\n",
              "      <td>0.332902</td>\n",
              "      <td>1.055866</td>\n",
              "      <td>0.722964</td>\n",
              "      <td>1.283708</td>\n",
              "      <td>1.385054</td>\n",
              "      <td>1.728637</td>\n",
              "      <td>1.601901</td>\n",
              "      <td>0.101347</td>\n",
              "      <td>0.444929</td>\n",
              "      <td>0.318194</td>\n",
              "      <td>0.343582</td>\n",
              "      <td>0.216847</td>\n",
              "      <td>-0.126735</td>\n",
              "    </tr>\n",
              "    <tr>\n",
              "      <th>1</th>\n",
              "      <td>788</td>\n",
              "      <td>21.431355</td>\n",
              "      <td>20.708104</td>\n",
              "      <td>20.678850</td>\n",
              "      <td>20.703420</td>\n",
              "      <td>20.473229</td>\n",
              "      <td>21.868797</td>\n",
              "      <td>21.029773</td>\n",
              "      <td>20.967054</td>\n",
              "      <td>20.937731</td>\n",
              "      <td>21.063646</td>\n",
              "      <td>21.360701</td>\n",
              "      <td>20.778968</td>\n",
              "      <td>20.889705</td>\n",
              "      <td>20.639812</td>\n",
              "      <td>...</td>\n",
              "      <td>0.139156</td>\n",
              "      <td>0.132308</td>\n",
              "      <td>0.249893</td>\n",
              "      <td>0.243045</td>\n",
              "      <td>-0.006847</td>\n",
              "      <td>0.734428</td>\n",
              "      <td>0.739030</td>\n",
              "      <td>0.799566</td>\n",
              "      <td>0.980641</td>\n",
              "      <td>0.004602</td>\n",
              "      <td>0.065138</td>\n",
              "      <td>0.246213</td>\n",
              "      <td>0.060537</td>\n",
              "      <td>0.241611</td>\n",
              "      <td>0.181074</td>\n",
              "    </tr>\n",
              "    <tr>\n",
              "      <th>2</th>\n",
              "      <td>427</td>\n",
              "      <td>17.851451</td>\n",
              "      <td>16.727898</td>\n",
              "      <td>16.679677</td>\n",
              "      <td>16.694640</td>\n",
              "      <td>16.641788</td>\n",
              "      <td>18.171890</td>\n",
              "      <td>17.033098</td>\n",
              "      <td>16.999682</td>\n",
              "      <td>17.095999</td>\n",
              "      <td>17.076449</td>\n",
              "      <td>17.867253</td>\n",
              "      <td>16.738784</td>\n",
              "      <td>16.688874</td>\n",
              "      <td>16.744210</td>\n",
              "      <td>...</td>\n",
              "      <td>-0.005426</td>\n",
              "      <td>-0.069222</td>\n",
              "      <td>-0.055336</td>\n",
              "      <td>-0.119132</td>\n",
              "      <td>-0.063796</td>\n",
              "      <td>1.120628</td>\n",
              "      <td>1.176814</td>\n",
              "      <td>1.157885</td>\n",
              "      <td>1.129134</td>\n",
              "      <td>0.056186</td>\n",
              "      <td>0.037257</td>\n",
              "      <td>0.008506</td>\n",
              "      <td>-0.018929</td>\n",
              "      <td>-0.047680</td>\n",
              "      <td>-0.028751</td>\n",
              "    </tr>\n",
              "    <tr>\n",
              "      <th>3</th>\n",
              "      <td>864</td>\n",
              "      <td>20.789900</td>\n",
              "      <td>20.040371</td>\n",
              "      <td>19.926909</td>\n",
              "      <td>19.843840</td>\n",
              "      <td>19.463270</td>\n",
              "      <td>21.039030</td>\n",
              "      <td>20.317165</td>\n",
              "      <td>20.217898</td>\n",
              "      <td>20.073852</td>\n",
              "      <td>19.794505</td>\n",
              "      <td>20.433907</td>\n",
              "      <td>19.993727</td>\n",
              "      <td>19.985531</td>\n",
              "      <td>19.750917</td>\n",
              "      <td>...</td>\n",
              "      <td>0.242810</td>\n",
              "      <td>0.538610</td>\n",
              "      <td>0.234614</td>\n",
              "      <td>0.530413</td>\n",
              "      <td>0.295800</td>\n",
              "      <td>0.769012</td>\n",
              "      <td>0.880913</td>\n",
              "      <td>1.012598</td>\n",
              "      <td>1.217856</td>\n",
              "      <td>0.111901</td>\n",
              "      <td>0.243586</td>\n",
              "      <td>0.448844</td>\n",
              "      <td>0.131685</td>\n",
              "      <td>0.336943</td>\n",
              "      <td>0.205258</td>\n",
              "    </tr>\n",
              "    <tr>\n",
              "      <th>4</th>\n",
              "      <td>612</td>\n",
              "      <td>26.454969</td>\n",
              "      <td>23.058767</td>\n",
              "      <td>21.471406</td>\n",
              "      <td>19.504961</td>\n",
              "      <td>18.389096</td>\n",
              "      <td>25.700632</td>\n",
              "      <td>23.629122</td>\n",
              "      <td>21.742750</td>\n",
              "      <td>19.861718</td>\n",
              "      <td>18.810375</td>\n",
              "      <td>25.859229</td>\n",
              "      <td>22.426929</td>\n",
              "      <td>21.673551</td>\n",
              "      <td>19.610012</td>\n",
              "      <td>...</td>\n",
              "      <td>2.816917</td>\n",
              "      <td>4.050788</td>\n",
              "      <td>2.063539</td>\n",
              "      <td>3.297411</td>\n",
              "      <td>1.233871</td>\n",
              "      <td>1.729059</td>\n",
              "      <td>3.401710</td>\n",
              "      <td>5.389723</td>\n",
              "      <td>6.501398</td>\n",
              "      <td>1.672651</td>\n",
              "      <td>3.660663</td>\n",
              "      <td>4.772338</td>\n",
              "      <td>1.988012</td>\n",
              "      <td>3.099688</td>\n",
              "      <td>1.111675</td>\n",
              "    </tr>\n",
              "  </tbody>\n",
              "</table>\n",
              "<p>5 rows × 61 columns</p>\n",
              "</div>"
            ],
            "text/plain": [
              "    fiberID   psfMag_u   psfMag_g   psfMag_r   psfMag_i   psfMag_z  \\\n",
              "id                                                                   \n",
              "0       601  23.198224  21.431953  21.314148  21.176553  21.171444   \n",
              "1       788  21.431355  20.708104  20.678850  20.703420  20.473229   \n",
              "2       427  17.851451  16.727898  16.679677  16.694640  16.641788   \n",
              "3       864  20.789900  20.040371  19.926909  19.843840  19.463270   \n",
              "4       612  26.454969  23.058767  21.471406  19.504961  18.389096   \n",
              "\n",
              "    fiberMag_u  fiberMag_g  fiberMag_r  fiberMag_i  fiberMag_z  petroMag_u  \\\n",
              "id                                                                           \n",
              "0    22.581309   21.644453   21.657571   21.387653   21.572827   22.504317   \n",
              "1    21.868797   21.029773   20.967054   20.937731   21.063646   21.360701   \n",
              "2    18.171890   17.033098   16.999682   17.095999   17.076449   17.867253   \n",
              "3    21.039030   20.317165   20.217898   20.073852   19.794505   20.433907   \n",
              "4    25.700632   23.629122   21.742750   19.861718   18.810375   25.859229   \n",
              "\n",
              "    petroMag_g  petroMag_r  petroMag_i  ...  petroMag_g-i  petroMag_g-z  \\\n",
              "id                                      ...                               \n",
              "0    21.431636   21.478312   21.145409  ...      0.286226      1.009190   \n",
              "1    20.778968   20.889705   20.639812  ...      0.139156      0.132308   \n",
              "2    16.738784   16.688874   16.744210  ...     -0.005426     -0.069222   \n",
              "3    19.993727   19.985531   19.750917  ...      0.242810      0.538610   \n",
              "4    22.426929   21.673551   19.610012  ...      2.816917      4.050788   \n",
              "\n",
              "    petroMag_r-i  petroMag_r-z  petroMag_i-z  modelMag_u-g  modelMag_u-r  \\\n",
              "id                                                                         \n",
              "0       0.332902      1.055866      0.722964      1.283708      1.385054   \n",
              "1       0.249893      0.243045     -0.006847      0.734428      0.739030   \n",
              "2      -0.055336     -0.119132     -0.063796      1.120628      1.176814   \n",
              "3       0.234614      0.530413      0.295800      0.769012      0.880913   \n",
              "4       2.063539      3.297411      1.233871      1.729059      3.401710   \n",
              "\n",
              "    modelMag_u-i  modelMag_u-z  modelMag_g-r  modelMag_g-i  modelMag_g-z  \\\n",
              "id                                                                         \n",
              "0       1.728637      1.601901      0.101347      0.444929      0.318194   \n",
              "1       0.799566      0.980641      0.004602      0.065138      0.246213   \n",
              "2       1.157885      1.129134      0.056186      0.037257      0.008506   \n",
              "3       1.012598      1.217856      0.111901      0.243586      0.448844   \n",
              "4       5.389723      6.501398      1.672651      3.660663      4.772338   \n",
              "\n",
              "    modelMag_r-i  modelMag_r-z  modelMag_i-z  \n",
              "id                                            \n",
              "0       0.343582      0.216847     -0.126735  \n",
              "1       0.060537      0.241611      0.181074  \n",
              "2      -0.018929     -0.047680     -0.028751  \n",
              "3       0.131685      0.336943      0.205258  \n",
              "4       1.988012      3.099688      1.111675  \n",
              "\n",
              "[5 rows x 61 columns]"
            ]
          },
          "metadata": {
            "tags": []
          },
          "execution_count": 16
        }
      ]
    },
    {
      "cell_type": "code",
      "metadata": {
        "colab_type": "code",
        "id": "BiMDAd9ZIdID",
        "outputId": "a6851a32-b2d8-492e-cb18-0d8690aef742",
        "colab": {
          "base_uri": "https://localhost:8080/",
          "height": 281
        }
      },
      "source": [
        "train_X.columns"
      ],
      "execution_count": 17,
      "outputs": [
        {
          "output_type": "execute_result",
          "data": {
            "text/plain": [
              "Index(['fiberID', 'psfMag_u', 'psfMag_g', 'psfMag_r', 'psfMag_i', 'psfMag_z',\n",
              "       'fiberMag_u', 'fiberMag_g', 'fiberMag_r', 'fiberMag_i', 'fiberMag_z',\n",
              "       'petroMag_u', 'petroMag_g', 'petroMag_r', 'petroMag_i', 'petroMag_z',\n",
              "       'modelMag_u', 'modelMag_g', 'modelMag_r', 'modelMag_i', 'modelMag_z',\n",
              "       'psfMag_u-g', 'psfMag_u-r', 'psfMag_u-i', 'psfMag_u-z', 'psfMag_g-r',\n",
              "       'psfMag_g-i', 'psfMag_g-z', 'psfMag_r-i', 'psfMag_r-z', 'psfMag_i-z',\n",
              "       'fiberMag_u-g', 'fiberMag_u-r', 'fiberMag_u-i', 'fiberMag_u-z',\n",
              "       'fiberMag_g-r', 'fiberMag_g-i', 'fiberMag_g-z', 'fiberMag_r-i',\n",
              "       'fiberMag_r-z', 'fiberMag_i-z', 'petroMag_u-g', 'petroMag_u-r',\n",
              "       'petroMag_u-i', 'petroMag_u-z', 'petroMag_g-r', 'petroMag_g-i',\n",
              "       'petroMag_g-z', 'petroMag_r-i', 'petroMag_r-z', 'petroMag_i-z',\n",
              "       'modelMag_u-g', 'modelMag_u-r', 'modelMag_u-i', 'modelMag_u-z',\n",
              "       'modelMag_g-r', 'modelMag_g-i', 'modelMag_g-z', 'modelMag_r-i',\n",
              "       'modelMag_r-z', 'modelMag_i-z'],\n",
              "      dtype='object')"
            ]
          },
          "metadata": {
            "tags": []
          },
          "execution_count": 17
        }
      ]
    },
    {
      "cell_type": "code",
      "metadata": {
        "colab_type": "code",
        "id": "sax8LG7lIdIK",
        "colab": {}
      },
      "source": [
        "## u-g, g-r, r-i, i-z 만 남기는게 좋지 않을까????\n",
        "train_X.drop(['psfMag_u-r','psfMag_u-i','psfMag_u-z','psfMag_g-i','psfMag_g-z','psfMag_r-z',\n",
        "             'fiberMag_u-r','fiberMag_u-i','fiberMag_u-z','fiberMag_g-i','fiberMag_g-z','fiberMag_r-z',\n",
        "             'petroMag_u-r','petroMag_u-i','petroMag_u-z','petroMag_g-i','petroMag_g-z','petroMag_r-z',\n",
        "             'modelMag_u-r','modelMag_u-i','modelMag_u-z','modelMag_g-i','modelMag_g-z','modelMag_r-z'] ,axis=1, inplace=True)\n",
        "\n",
        "test_X.drop(['psfMag_u-r','psfMag_u-i','psfMag_u-z','psfMag_g-i','psfMag_g-z','psfMag_r-z',\n",
        "             'fiberMag_u-r','fiberMag_u-i','fiberMag_u-z','fiberMag_g-i','fiberMag_g-z','fiberMag_r-z',\n",
        "             'petroMag_u-r','petroMag_u-i','petroMag_u-z','petroMag_g-i','petroMag_g-z','petroMag_r-z',\n",
        "         'modelMag_u-r','modelMag_u-i','modelMag_u-z','modelMag_g-i','modelMag_g-z','modelMag_r-z'] ,axis=1, inplace=True)"
      ],
      "execution_count": 0,
      "outputs": []
    },
    {
      "cell_type": "code",
      "metadata": {
        "colab_type": "code",
        "id": "Y6pvdT1rIdIP",
        "outputId": "e8d6e209-bff0-4c7b-f078-5ed349274a6c",
        "colab": {
          "base_uri": "https://localhost:8080/",
          "height": 34
        }
      },
      "source": [
        "train_X.shape, test_X.shape"
      ],
      "execution_count": 19,
      "outputs": [
        {
          "output_type": "execute_result",
          "data": {
            "text/plain": [
              "((199770, 37), (10009, 37))"
            ]
          },
          "metadata": {
            "tags": []
          },
          "execution_count": 19
        }
      ]
    },
    {
      "cell_type": "code",
      "metadata": {
        "colab_type": "code",
        "id": "BUQNSQmmN5MR",
        "outputId": "4df7c39e-9383-493e-b2e9-9aaffd2258c4",
        "scrolled": true,
        "colab": {
          "base_uri": "https://localhost:8080/",
          "height": 175
        }
      },
      "source": [
        "train_X.columns"
      ],
      "execution_count": 20,
      "outputs": [
        {
          "output_type": "execute_result",
          "data": {
            "text/plain": [
              "Index(['fiberID', 'psfMag_u', 'psfMag_g', 'psfMag_r', 'psfMag_i', 'psfMag_z',\n",
              "       'fiberMag_u', 'fiberMag_g', 'fiberMag_r', 'fiberMag_i', 'fiberMag_z',\n",
              "       'petroMag_u', 'petroMag_g', 'petroMag_r', 'petroMag_i', 'petroMag_z',\n",
              "       'modelMag_u', 'modelMag_g', 'modelMag_r', 'modelMag_i', 'modelMag_z',\n",
              "       'psfMag_u-g', 'psfMag_g-r', 'psfMag_r-i', 'psfMag_i-z', 'fiberMag_u-g',\n",
              "       'fiberMag_g-r', 'fiberMag_r-i', 'fiberMag_i-z', 'petroMag_u-g',\n",
              "       'petroMag_g-r', 'petroMag_r-i', 'petroMag_i-z', 'modelMag_u-g',\n",
              "       'modelMag_g-r', 'modelMag_r-i', 'modelMag_i-z'],\n",
              "      dtype='object')"
            ]
          },
          "metadata": {
            "tags": []
          },
          "execution_count": 20
        }
      ]
    },
    {
      "cell_type": "code",
      "metadata": {
        "id": "O0Ku8WNU2G-k",
        "colab_type": "code",
        "colab": {}
      },
      "source": [
        "# train_fi, test_fi = prepare_inputs(train_X.fiberID, test_X.fiberID)"
      ],
      "execution_count": 0,
      "outputs": []
    },
    {
      "cell_type": "code",
      "metadata": {
        "colab_type": "code",
        "id": "iwqJJUOxOPIx",
        "colab": {}
      },
      "source": [
        "## fiber 관련변수 전부 제거\n",
        "train_X.drop(['fiberID'], axis=1, inplace=True)\n",
        "#'fiberMag_u', 'fiberMag_g', 'fiberMag_r', 'fiberMag_i', 'fiberMag_z', 'fiberMag_u-g','fiberMag_g-r', 'fiberMag_r-i', 'fiberMag_i-z', \n",
        "test_X.drop(['fiberID'], axis=1, inplace=True)"
      ],
      "execution_count": 0,
      "outputs": []
    },
    {
      "cell_type": "code",
      "metadata": {
        "colab_type": "code",
        "id": "yZVRWqedIdIa",
        "outputId": "90740c23-33cf-4360-8948-60b208f5e442",
        "colab": {
          "base_uri": "https://localhost:8080/",
          "height": 34
        }
      },
      "source": [
        "train_X.shape, test_X.shape"
      ],
      "execution_count": 23,
      "outputs": [
        {
          "output_type": "execute_result",
          "data": {
            "text/plain": [
              "((199770, 36), (10009, 36))"
            ]
          },
          "metadata": {
            "tags": []
          },
          "execution_count": 23
        }
      ]
    },
    {
      "cell_type": "code",
      "metadata": {
        "colab_type": "code",
        "id": "3_Nds360IdIe",
        "colab": {}
      },
      "source": [
        "X_train, X_test, y_train, y_test = train_test_split(train_X, train_y, test_size=0.3, random_state=42,stratify = train_y)"
      ],
      "execution_count": 0,
      "outputs": []
    },
    {
      "cell_type": "code",
      "metadata": {
        "colab_type": "code",
        "id": "2fCs6Z2zIdIi",
        "colab": {}
      },
      "source": [
        "o_hot = OneHotEncoder()\n",
        "y_train= o_hot.fit_transform(y_train.values.reshape(-1,1))\n",
        "y_train = y_train.toarray()"
      ],
      "execution_count": 0,
      "outputs": []
    },
    {
      "cell_type": "code",
      "metadata": {
        "colab_type": "code",
        "id": "2mwvZZ0tIdIn",
        "scrolled": true,
        "colab": {}
      },
      "source": [
        "o2_hot = OneHotEncoder()\n",
        "y_test= o2_hot.fit_transform(y_test.values.reshape(-1,1))\n",
        "y_test = y_test.toarray()"
      ],
      "execution_count": 0,
      "outputs": []
    },
    {
      "cell_type": "code",
      "metadata": {
        "colab_type": "code",
        "id": "C8DaauwYIdIr",
        "outputId": "7e7f44ab-1902-4cf1-d3dc-1efb17619c99",
        "scrolled": true,
        "colab": {
          "base_uri": "https://localhost:8080/",
          "height": 34
        }
      },
      "source": [
        "y_train.shape, y_test.shape"
      ],
      "execution_count": 27,
      "outputs": [
        {
          "output_type": "execute_result",
          "data": {
            "text/plain": [
              "((139839, 19), (59931, 19))"
            ]
          },
          "metadata": {
            "tags": []
          },
          "execution_count": 27
        }
      ]
    },
    {
      "cell_type": "code",
      "metadata": {
        "colab_type": "code",
        "id": "pg79AzKhIdIu",
        "outputId": "09c5230a-8b89-4e83-acb2-1e40e515f874",
        "scrolled": true,
        "colab": {
          "base_uri": "https://localhost:8080/",
          "height": 34
        }
      },
      "source": [
        "X_train = X_train.values\n",
        "X_train.shape"
      ],
      "execution_count": 28,
      "outputs": [
        {
          "output_type": "execute_result",
          "data": {
            "text/plain": [
              "(139839, 36)"
            ]
          },
          "metadata": {
            "tags": []
          },
          "execution_count": 28
        }
      ]
    },
    {
      "cell_type": "code",
      "metadata": {
        "colab_type": "code",
        "id": "n8eI0u2nIdI0",
        "outputId": "3610dc2d-ae7e-4b5b-8bd0-4abdc0f54f0b",
        "colab": {
          "base_uri": "https://localhost:8080/",
          "height": 34
        }
      },
      "source": [
        "X_test = X_test.values\n",
        "X_test.shape"
      ],
      "execution_count": 29,
      "outputs": [
        {
          "output_type": "execute_result",
          "data": {
            "text/plain": [
              "(59931, 36)"
            ]
          },
          "metadata": {
            "tags": []
          },
          "execution_count": 29
        }
      ]
    },
    {
      "cell_type": "code",
      "metadata": {
        "colab_type": "code",
        "id": "cWbu6unjIdI5",
        "outputId": "7d337ef1-b5d9-4735-89ca-26526172bc2b",
        "scrolled": true,
        "colab": {
          "base_uri": "https://localhost:8080/",
          "height": 266
        }
      },
      "source": [
        "from keras.models import Sequential\n",
        "from keras.layers import Dense, Flatten, Dropout\n",
        "from keras.layers import BatchNormalization\n",
        "from keras.layers import ELU\n",
        "\n",
        "elu_alpha=0.2\n",
        "\n",
        "model = Sequential()\n",
        "model.add(Dense(256*4, input_dim=X_train.shape[1]))\n",
        "model.add(BatchNormalization())\n",
        "model.add(ELU(alpha=elu_alpha))\n",
        "model.add(Dropout(0.3))\n",
        "model.add(Dense(256*3))\n",
        "model.add(BatchNormalization())\n",
        "model.add(ELU(alpha=elu_alpha))\n",
        "model.add(Dropout(0.3))\n",
        "model.add(Dense(256*2))\n",
        "model.add(BatchNormalization())\n",
        "model.add(ELU(alpha=elu_alpha))\n",
        "model.add(Dropout(0.3))\n",
        "model.add(Dense(256*1))\n",
        "model.add(BatchNormalization())\n",
        "model.add(ELU(alpha=elu_alpha))\n",
        "model.add(Dropout(0.3))\n",
        "model.add(Dense(128))\n",
        "model.add(BatchNormalization())\n",
        "model.add(ELU(alpha=elu_alpha))\n",
        "model.add(Dropout(0.3))\n",
        "model.add(Dense(64, activation='elu'))\n",
        "model.add(ELU(alpha=elu_alpha))\n",
        "model.add(Dropout(0.3))\n",
        "model.add(Dense(32, activation='elu'))\n",
        "model.add(ELU(alpha=elu_alpha))\n",
        "model.add(Dropout(0.3))\n",
        "model.add(Dense(19, activation='softmax'))\n",
        "\n",
        "\n",
        "from keras.losses import categorical_crossentropy\n",
        "from keras.optimizers import Adam\n",
        "from keras.callbacks import EarlyStopping\n",
        "from keras.callbacks import ModelCheckpoint\n",
        "\n",
        "## 얼리스타핑\n",
        "es = EarlyStopping(monitor='val_loss', mode='min', verbose=1, patience=110)\n",
        "\n",
        "##최적모델 기억\n",
        "mc = ModelCheckpoint('best_model.h5', monitor='val_loss', mode='min', save_best_only=True)\n",
        "epochs = 1000\n",
        "model.compile(loss='categorical_crossentropy',\n",
        "              optimizer=Adam(0.0001, decay=1e-2/epochs), metrics=['accuracy','categorical_crossentropy'])\n",
        "\n",
        "history=model.fit(X_train, y_train, validation_data=(X_test, y_test) ,batch_size=300, epochs=1000, verbose=1,\n",
        "                 callbacks=[es, mc])\n",
        "### validation_data를 쓰면 test 데이터가 따로있을때 직접 넣을 수 있다.\n",
        "model.evaluate(X_test, y_test)"
      ],
      "execution_count": 0,
      "outputs": [
        {
          "output_type": "stream",
          "text": [
            "Train on 139839 samples, validate on 59931 samples\n",
            "Epoch 1/1000\n",
            "139839/139839 [==============================] - 9s 63us/step - loss: 1.6109 - acc: 0.5380 - categorical_crossentropy: 1.6109 - val_loss: 1.0684 - val_acc: 0.6966 - val_categorical_crossentropy: 1.0684\n",
            "Epoch 2/1000\n",
            "139839/139839 [==============================] - 7s 50us/step - loss: 1.0145 - acc: 0.7137 - categorical_crossentropy: 1.0145 - val_loss: 0.9418 - val_acc: 0.7101 - val_categorical_crossentropy: 0.9418\n",
            "Epoch 3/1000\n",
            "139839/139839 [==============================] - 7s 51us/step - loss: 0.8756 - acc: 0.7504 - categorical_crossentropy: 0.8756 - val_loss: 1.1153 - val_acc: 0.6535 - val_categorical_crossentropy: 1.1153\n",
            "Epoch 4/1000\n",
            "139839/139839 [==============================] - 7s 53us/step - loss: 0.8015 - acc: 0.7697 - categorical_crossentropy: 0.8015 - val_loss: 0.6053 - val_acc: 0.8111 - val_categorical_crossentropy: 0.6053\n",
            "Epoch 5/1000\n",
            "139839/139839 [==============================] - 7s 53us/step - loss: 0.7527 - acc: 0.7807 - categorical_crossentropy: 0.7527 - val_loss: 0.6505 - val_acc: 0.7961 - val_categorical_crossentropy: 0.6505\n",
            "Epoch 6/1000\n",
            " 83100/139839 [================>.............] - ETA: 2s - loss: 0.7232 - acc: 0.7860 - categorical_crossentropy: 0.7232"
          ],
          "name": "stdout"
        }
      ]
    },
    {
      "cell_type": "code",
      "metadata": {
        "colab_type": "code",
        "id": "04uzx-RuIdI-",
        "colab": {}
      },
      "source": [
        "### 최적 모델 불러오기\n",
        "best_model = keras.models.load_model('best_model.h5')\n",
        "val_loss, val_acc, val_category = best_model.evaluate(X_test, y_test)"
      ],
      "execution_count": 0,
      "outputs": []
    },
    {
      "cell_type": "code",
      "metadata": {
        "id": "iv59_h-y2G_L",
        "colab_type": "code",
        "colab": {}
      },
      "source": [
        "## 그래프로 수치 명확하게 나타내주기\n",
        "import plotly.graph_objects as go\n",
        "fig = go.Figure()\n",
        "fig.add_trace(go.Scatter(y=history.history['loss'],\n",
        "                    mode='lines',\n",
        "                    name='loss'))\n",
        "fig.add_trace(go.Scatter(y=history.history['val_loss'],\n",
        "                    mode='lines',\n",
        "                    name='val_loss'))\n",
        "fig.add_trace(go.Scatter(y=history.history['val_acc'],\n",
        "                    mode='lines',\n",
        "                    name='val_acc'))\n",
        "fig.show()"
      ],
      "execution_count": 0,
      "outputs": []
    },
    {
      "cell_type": "code",
      "metadata": {
        "colab_type": "code",
        "id": "fbtg6S6AIdJE",
        "colab": {}
      },
      "source": [
        "# fig, loss_ax = plt.subplots()\n",
        "# # acc_ax = loss_ax.twinx()\n",
        "\n",
        "# loss_ax.plot(history.history['loss'], 'y', label='train loss')\n",
        "# loss_ax.plot(history.history['val_loss'], 'r', label='val loss')\n",
        "# loss_ax.set_xlabel('epoch')\n",
        "# loss_ax.set_ylabel('loss')\n",
        "# loss_ax.legend(loc='upper left')\n",
        "\n",
        "# # # acc_ax.plot(history.history['categorical_crossentropy'], 'b', label='train crossentropy')\n",
        "# # # acc_ax.plot(history.history['val_categorical_crossentropy'], 'g', label='val crossentropy')\n",
        "# # # acc_ax.set_ylabel('categorical_crossentropy')\n",
        "# # # acc_ax.legend(loc='upper right')\n",
        "\n",
        "# plt.show()"
      ],
      "execution_count": 0,
      "outputs": []
    },
    {
      "cell_type": "code",
      "metadata": {
        "colab_type": "code",
        "id": "P1lPPJBiIdJJ",
        "colab": {}
      },
      "source": [
        "real_y_pred = best_model.predict(test_X)"
      ],
      "execution_count": 0,
      "outputs": []
    },
    {
      "cell_type": "code",
      "metadata": {
        "colab_type": "code",
        "id": "JwLvngasIdJO",
        "colab": {}
      },
      "source": [
        "submission = pd.DataFrame(data=real_y_pred, columns=sample_submission_df.columns, index=sample_submission_df.index)\n",
        "submission.to_csv('0227_submission_keras_alldata_0.3689.csv', index=True)"
      ],
      "execution_count": 0,
      "outputs": []
    },
    {
      "cell_type": "code",
      "metadata": {
        "colab_type": "code",
        "id": "kUfxKxAUIdJT",
        "colab": {}
      },
      "source": [
        "\n",
        "### 기록 1.레이어 2. 옴티마이저  ==> val_loss\n",
        "#1. 9개,// 2. 0.0003 ==> 0.404\n",
        "#1. 8개(256*2)층 하나 제거 //2. 0.0001 ==> 0.666179819053121\n",
        "#1. 8개 //2. 0.0005 ==> 0.47\n",
        "#1. 7개 //2. 0.0002 ==> 0.38\n",
        "#1. 8개(256*1)층 하나 추가 //2. 0.0002 ==> 0.0.3935\n",
        "#1. 8개(파생변수만 남기고 전부 제거) // 2. 0.0002 ==>0.5719 "
      ],
      "execution_count": 0,
      "outputs": []
    },
    {
      "cell_type": "code",
      "metadata": {
        "colab_type": "code",
        "id": "yA-2NZ7XuSJM",
        "colab": {}
      },
      "source": [
        ""
      ],
      "execution_count": 0,
      "outputs": []
    }
  ]
}