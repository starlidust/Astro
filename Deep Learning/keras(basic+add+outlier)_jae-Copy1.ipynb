{
 "cells": [
  {
   "cell_type": "code",
   "execution_count": 1,
   "metadata": {
    "ExecuteTime": {
     "end_time": "2020-02-17T05:52:18.780000Z",
     "start_time": "2020-02-17T05:52:14.696000Z"
    }
   },
   "outputs": [],
   "source": [
    "import pandas as pd\n",
    "import numpy as np\n",
    "import matplotlib.pyplot as plt\n",
    "import seaborn as sns\n",
    "import lightgbm as lgb\n",
    "import tensorflow as tf\n",
    "\n",
    "from sklearn.ensemble import RandomForestClassifier\n",
    "from sklearn.model_selection import train_test_split\n",
    "from sklearn.metrics import confusion_matrix\n",
    "from sklearn.metrics import log_loss\n",
    "from sklearn.preprocessing import OneHotEncoder\n",
    "from tensorflow import keras\n",
    "%matplotlib inline"
   ]
  },
  {
   "cell_type": "code",
   "execution_count": 14,
   "metadata": {
    "ExecuteTime": {
     "end_time": "2020-02-17T05:54:52.654000Z",
     "start_time": "2020-02-17T05:54:51.674000Z"
    }
   },
   "outputs": [],
   "source": [
    "path = \"./data/\" \n",
    "train_df = pd.read_csv(path+'train.csv',index_col=0)\n",
    "test_df = pd.read_csv(path+'test.csv',index_col=0)\n",
    "sample_submission_df = pd.read_csv(path+'sample_submission.csv',index_col=0)\n",
    "pd.options.display.max_columns = 30"
   ]
  },
  {
   "cell_type": "markdown",
   "metadata": {},
   "source": [
    "## 전처리\n",
    " - 이상치 확인 및 처리"
   ]
  },
  {
   "cell_type": "code",
   "execution_count": 15,
   "metadata": {
    "ExecuteTime": {
     "end_time": "2020-02-17T05:54:52.770000Z",
     "start_time": "2020-02-17T05:54:52.762000Z"
    }
   },
   "outputs": [
    {
     "data": {
      "text/plain": [
       "(199991, 22)"
      ]
     },
     "execution_count": 15,
     "metadata": {},
     "output_type": "execute_result"
    }
   ],
   "source": [
    "train_df.shape"
   ]
  },
  {
   "cell_type": "code",
   "execution_count": 16,
   "metadata": {
    "ExecuteTime": {
     "end_time": "2020-02-17T05:54:53.134000Z",
     "start_time": "2020-02-17T05:54:52.906000Z"
    }
   },
   "outputs": [
    {
     "data": {
      "text/html": [
       "<div>\n",
       "<style scoped>\n",
       "    .dataframe tbody tr th:only-of-type {\n",
       "        vertical-align: middle;\n",
       "    }\n",
       "\n",
       "    .dataframe tbody tr th {\n",
       "        vertical-align: top;\n",
       "    }\n",
       "\n",
       "    .dataframe thead th {\n",
       "        text-align: right;\n",
       "    }\n",
       "</style>\n",
       "<table border=\"1\" class=\"dataframe\">\n",
       "  <thead>\n",
       "    <tr style=\"text-align: right;\">\n",
       "      <th></th>\n",
       "      <th>fiberID</th>\n",
       "      <th>psfMag_u</th>\n",
       "      <th>psfMag_g</th>\n",
       "      <th>psfMag_r</th>\n",
       "      <th>psfMag_i</th>\n",
       "      <th>psfMag_z</th>\n",
       "      <th>fiberMag_u</th>\n",
       "      <th>fiberMag_g</th>\n",
       "      <th>fiberMag_r</th>\n",
       "      <th>fiberMag_i</th>\n",
       "      <th>fiberMag_z</th>\n",
       "      <th>petroMag_u</th>\n",
       "      <th>petroMag_g</th>\n",
       "      <th>petroMag_r</th>\n",
       "      <th>petroMag_i</th>\n",
       "      <th>petroMag_z</th>\n",
       "      <th>modelMag_u</th>\n",
       "      <th>modelMag_g</th>\n",
       "      <th>modelMag_r</th>\n",
       "      <th>modelMag_i</th>\n",
       "      <th>modelMag_z</th>\n",
       "    </tr>\n",
       "  </thead>\n",
       "  <tbody>\n",
       "    <tr>\n",
       "      <td>count</td>\n",
       "      <td>199991.000000</td>\n",
       "      <td>1.999910e+05</td>\n",
       "      <td>199991.000000</td>\n",
       "      <td>199991.000000</td>\n",
       "      <td>199991.000000</td>\n",
       "      <td>199991.000000</td>\n",
       "      <td>1.999910e+05</td>\n",
       "      <td>199991.000000</td>\n",
       "      <td>199991.000000</td>\n",
       "      <td>199991.000000</td>\n",
       "      <td>199991.000000</td>\n",
       "      <td>199991.000000</td>\n",
       "      <td>199991.000000</td>\n",
       "      <td>199991.000000</td>\n",
       "      <td>199991.000000</td>\n",
       "      <td>199991.000000</td>\n",
       "      <td>199991.000000</td>\n",
       "      <td>199991.000000</td>\n",
       "      <td>199991.000000</td>\n",
       "      <td>199991.000000</td>\n",
       "      <td>199991.000000</td>\n",
       "    </tr>\n",
       "    <tr>\n",
       "      <td>mean</td>\n",
       "      <td>360.830152</td>\n",
       "      <td>-6.750146e+00</td>\n",
       "      <td>18.675373</td>\n",
       "      <td>18.401235</td>\n",
       "      <td>18.043495</td>\n",
       "      <td>17.663526</td>\n",
       "      <td>1.084986e+01</td>\n",
       "      <td>19.072693</td>\n",
       "      <td>19.134483</td>\n",
       "      <td>18.183331</td>\n",
       "      <td>18.000882</td>\n",
       "      <td>21.837903</td>\n",
       "      <td>18.454136</td>\n",
       "      <td>18.481525</td>\n",
       "      <td>17.686617</td>\n",
       "      <td>17.699207</td>\n",
       "      <td>20.110991</td>\n",
       "      <td>18.544375</td>\n",
       "      <td>18.181544</td>\n",
       "      <td>17.692395</td>\n",
       "      <td>17.189281</td>\n",
       "    </tr>\n",
       "    <tr>\n",
       "      <td>std</td>\n",
       "      <td>225.305890</td>\n",
       "      <td>1.187678e+04</td>\n",
       "      <td>155.423024</td>\n",
       "      <td>127.128078</td>\n",
       "      <td>116.622194</td>\n",
       "      <td>123.735298</td>\n",
       "      <td>4.172116e+03</td>\n",
       "      <td>749.256162</td>\n",
       "      <td>90.049058</td>\n",
       "      <td>122.378972</td>\n",
       "      <td>145.862346</td>\n",
       "      <td>789.472333</td>\n",
       "      <td>154.376277</td>\n",
       "      <td>97.240448</td>\n",
       "      <td>145.730872</td>\n",
       "      <td>142.691880</td>\n",
       "      <td>122.299062</td>\n",
       "      <td>161.728183</td>\n",
       "      <td>133.984475</td>\n",
       "      <td>131.183416</td>\n",
       "      <td>133.685138</td>\n",
       "    </tr>\n",
       "    <tr>\n",
       "      <td>min</td>\n",
       "      <td>1.000000</td>\n",
       "      <td>-5.310802e+06</td>\n",
       "      <td>-40022.466071</td>\n",
       "      <td>-27184.795793</td>\n",
       "      <td>-26566.310827</td>\n",
       "      <td>-24878.828280</td>\n",
       "      <td>-1.864766e+06</td>\n",
       "      <td>-215882.917191</td>\n",
       "      <td>-21802.656144</td>\n",
       "      <td>-20208.516262</td>\n",
       "      <td>-26505.602101</td>\n",
       "      <td>-24463.431833</td>\n",
       "      <td>-25958.752324</td>\n",
       "      <td>-23948.588523</td>\n",
       "      <td>-40438.184078</td>\n",
       "      <td>-30070.729379</td>\n",
       "      <td>-26236.578659</td>\n",
       "      <td>-36902.402336</td>\n",
       "      <td>-36439.638493</td>\n",
       "      <td>-38969.416822</td>\n",
       "      <td>-26050.710196</td>\n",
       "    </tr>\n",
       "    <tr>\n",
       "      <td>25%</td>\n",
       "      <td>174.000000</td>\n",
       "      <td>1.965259e+01</td>\n",
       "      <td>18.701180</td>\n",
       "      <td>18.048572</td>\n",
       "      <td>17.747663</td>\n",
       "      <td>17.425523</td>\n",
       "      <td>1.994040e+01</td>\n",
       "      <td>18.902851</td>\n",
       "      <td>18.259352</td>\n",
       "      <td>17.903615</td>\n",
       "      <td>17.606148</td>\n",
       "      <td>19.247795</td>\n",
       "      <td>18.113933</td>\n",
       "      <td>17.479794</td>\n",
       "      <td>17.050294</td>\n",
       "      <td>16.804705</td>\n",
       "      <td>19.266214</td>\n",
       "      <td>18.076120</td>\n",
       "      <td>17.423425</td>\n",
       "      <td>16.977671</td>\n",
       "      <td>16.705774</td>\n",
       "    </tr>\n",
       "    <tr>\n",
       "      <td>50%</td>\n",
       "      <td>349.000000</td>\n",
       "      <td>2.087136e+01</td>\n",
       "      <td>19.904235</td>\n",
       "      <td>19.454492</td>\n",
       "      <td>19.043895</td>\n",
       "      <td>18.611799</td>\n",
       "      <td>2.104910e+01</td>\n",
       "      <td>20.069038</td>\n",
       "      <td>19.631419</td>\n",
       "      <td>19.188763</td>\n",
       "      <td>18.710967</td>\n",
       "      <td>20.366848</td>\n",
       "      <td>19.586559</td>\n",
       "      <td>19.182789</td>\n",
       "      <td>18.693370</td>\n",
       "      <td>18.174592</td>\n",
       "      <td>20.406840</td>\n",
       "      <td>19.547674</td>\n",
       "      <td>19.143156</td>\n",
       "      <td>18.641756</td>\n",
       "      <td>18.100997</td>\n",
       "    </tr>\n",
       "    <tr>\n",
       "      <td>75%</td>\n",
       "      <td>526.000000</td>\n",
       "      <td>2.216043e+01</td>\n",
       "      <td>21.150297</td>\n",
       "      <td>20.515936</td>\n",
       "      <td>20.073528</td>\n",
       "      <td>19.883760</td>\n",
       "      <td>2.233754e+01</td>\n",
       "      <td>21.385830</td>\n",
       "      <td>20.773911</td>\n",
       "      <td>20.331419</td>\n",
       "      <td>20.133179</td>\n",
       "      <td>21.797480</td>\n",
       "      <td>21.004397</td>\n",
       "      <td>20.457491</td>\n",
       "      <td>20.019112</td>\n",
       "      <td>19.807652</td>\n",
       "      <td>21.992898</td>\n",
       "      <td>20.962386</td>\n",
       "      <td>20.408140</td>\n",
       "      <td>19.968846</td>\n",
       "      <td>19.819554</td>\n",
       "    </tr>\n",
       "    <tr>\n",
       "      <td>max</td>\n",
       "      <td>1000.000000</td>\n",
       "      <td>1.877392e+04</td>\n",
       "      <td>3538.984910</td>\n",
       "      <td>3048.110913</td>\n",
       "      <td>4835.218639</td>\n",
       "      <td>9823.740407</td>\n",
       "      <td>4.870154e+03</td>\n",
       "      <td>248077.513380</td>\n",
       "      <td>12084.735440</td>\n",
       "      <td>8059.638535</td>\n",
       "      <td>18358.921741</td>\n",
       "      <td>298771.019041</td>\n",
       "      <td>12139.815877</td>\n",
       "      <td>7003.136546</td>\n",
       "      <td>9772.190537</td>\n",
       "      <td>17403.789263</td>\n",
       "      <td>14488.251976</td>\n",
       "      <td>10582.058590</td>\n",
       "      <td>12237.951703</td>\n",
       "      <td>4062.499371</td>\n",
       "      <td>7420.534172</td>\n",
       "    </tr>\n",
       "  </tbody>\n",
       "</table>\n",
       "</div>"
      ],
      "text/plain": [
       "             fiberID      psfMag_u       psfMag_g       psfMag_r  \\\n",
       "count  199991.000000  1.999910e+05  199991.000000  199991.000000   \n",
       "mean      360.830152 -6.750146e+00      18.675373      18.401235   \n",
       "std       225.305890  1.187678e+04     155.423024     127.128078   \n",
       "min         1.000000 -5.310802e+06  -40022.466071  -27184.795793   \n",
       "25%       174.000000  1.965259e+01      18.701180      18.048572   \n",
       "50%       349.000000  2.087136e+01      19.904235      19.454492   \n",
       "75%       526.000000  2.216043e+01      21.150297      20.515936   \n",
       "max      1000.000000  1.877392e+04    3538.984910    3048.110913   \n",
       "\n",
       "            psfMag_i       psfMag_z    fiberMag_u     fiberMag_g  \\\n",
       "count  199991.000000  199991.000000  1.999910e+05  199991.000000   \n",
       "mean       18.043495      17.663526  1.084986e+01      19.072693   \n",
       "std       116.622194     123.735298  4.172116e+03     749.256162   \n",
       "min    -26566.310827  -24878.828280 -1.864766e+06 -215882.917191   \n",
       "25%        17.747663      17.425523  1.994040e+01      18.902851   \n",
       "50%        19.043895      18.611799  2.104910e+01      20.069038   \n",
       "75%        20.073528      19.883760  2.233754e+01      21.385830   \n",
       "max      4835.218639    9823.740407  4.870154e+03  248077.513380   \n",
       "\n",
       "          fiberMag_r     fiberMag_i     fiberMag_z     petroMag_u  \\\n",
       "count  199991.000000  199991.000000  199991.000000  199991.000000   \n",
       "mean       19.134483      18.183331      18.000882      21.837903   \n",
       "std        90.049058     122.378972     145.862346     789.472333   \n",
       "min    -21802.656144  -20208.516262  -26505.602101  -24463.431833   \n",
       "25%        18.259352      17.903615      17.606148      19.247795   \n",
       "50%        19.631419      19.188763      18.710967      20.366848   \n",
       "75%        20.773911      20.331419      20.133179      21.797480   \n",
       "max     12084.735440    8059.638535   18358.921741  298771.019041   \n",
       "\n",
       "          petroMag_g     petroMag_r     petroMag_i     petroMag_z  \\\n",
       "count  199991.000000  199991.000000  199991.000000  199991.000000   \n",
       "mean       18.454136      18.481525      17.686617      17.699207   \n",
       "std       154.376277      97.240448     145.730872     142.691880   \n",
       "min    -25958.752324  -23948.588523  -40438.184078  -30070.729379   \n",
       "25%        18.113933      17.479794      17.050294      16.804705   \n",
       "50%        19.586559      19.182789      18.693370      18.174592   \n",
       "75%        21.004397      20.457491      20.019112      19.807652   \n",
       "max     12139.815877    7003.136546    9772.190537   17403.789263   \n",
       "\n",
       "          modelMag_u     modelMag_g     modelMag_r     modelMag_i  \\\n",
       "count  199991.000000  199991.000000  199991.000000  199991.000000   \n",
       "mean       20.110991      18.544375      18.181544      17.692395   \n",
       "std       122.299062     161.728183     133.984475     131.183416   \n",
       "min    -26236.578659  -36902.402336  -36439.638493  -38969.416822   \n",
       "25%        19.266214      18.076120      17.423425      16.977671   \n",
       "50%        20.406840      19.547674      19.143156      18.641756   \n",
       "75%        21.992898      20.962386      20.408140      19.968846   \n",
       "max     14488.251976   10582.058590   12237.951703    4062.499371   \n",
       "\n",
       "          modelMag_z  \n",
       "count  199991.000000  \n",
       "mean       17.189281  \n",
       "std       133.685138  \n",
       "min    -26050.710196  \n",
       "25%        16.705774  \n",
       "50%        18.100997  \n",
       "75%        19.819554  \n",
       "max      7420.534172  "
      ]
     },
     "execution_count": 16,
     "metadata": {},
     "output_type": "execute_result"
    }
   ],
   "source": [
    "train_df.describe()"
   ]
  },
  {
   "cell_type": "code",
   "execution_count": 17,
   "metadata": {
    "ExecuteTime": {
     "end_time": "2020-02-17T05:54:53.244000Z",
     "start_time": "2020-02-17T05:54:53.235000Z"
    }
   },
   "outputs": [],
   "source": [
    "def del_outlier(data, min=0, max=60):\n",
    "    up_idx_t=()\n",
    "    dw_idx_t=()\n",
    "    train_light = data.iloc[:,2:]\n",
    "    for i in range(len(train_light.columns)):\n",
    "        col = train_light.columns[i]\n",
    "        up_idx_t+=tuple(data[data[col]>max].index)\n",
    "        dw_idx_t+=tuple(data[data[col]<min].index)\n",
    "    del_idx = set(up_idx_t+dw_idx_t)\n",
    "    \n",
    "    return data[~data.index.isin(del_idx)]"
   ]
  },
  {
   "cell_type": "code",
   "execution_count": 18,
   "metadata": {
    "ExecuteTime": {
     "end_time": "2020-02-17T05:54:53.458000Z",
     "start_time": "2020-02-17T05:54:53.352000Z"
    }
   },
   "outputs": [],
   "source": [
    "train_df = del_outlier(train_df, min=-60, max=60)"
   ]
  },
  {
   "cell_type": "code",
   "execution_count": 19,
   "metadata": {
    "ExecuteTime": {
     "end_time": "2020-02-17T05:54:53.588000Z",
     "start_time": "2020-02-17T05:54:53.579000Z"
    }
   },
   "outputs": [
    {
     "data": {
      "text/plain": [
       "(Index(['type', 'fiberID', 'psfMag_u', 'psfMag_g', 'psfMag_r', 'psfMag_i',\n",
       "        'psfMag_z', 'fiberMag_u', 'fiberMag_g', 'fiberMag_r', 'fiberMag_i',\n",
       "        'fiberMag_z', 'petroMag_u', 'petroMag_g', 'petroMag_r', 'petroMag_i',\n",
       "        'petroMag_z', 'modelMag_u', 'modelMag_g', 'modelMag_r', 'modelMag_i',\n",
       "        'modelMag_z'],\n",
       "       dtype='object'), (199805, 22))"
      ]
     },
     "execution_count": 19,
     "metadata": {},
     "output_type": "execute_result"
    }
   ],
   "source": [
    "train_df.columns, train_df.shape"
   ]
  },
  {
   "cell_type": "markdown",
   "metadata": {},
   "source": [
    "## DATA Setting"
   ]
  },
  {
   "cell_type": "code",
   "execution_count": 20,
   "metadata": {
    "ExecuteTime": {
     "end_time": "2020-02-17T05:54:53.815000Z",
     "start_time": "2020-02-17T05:54:53.717000Z"
    }
   },
   "outputs": [],
   "source": [
    "column_number = {}\n",
    "number_columns = {}\n",
    "for i, column in enumerate(sample_submission_df.columns):\n",
    "    column_number[column] = i\n",
    "    number_columns[i] = column\n",
    "    \n",
    "    \n",
    "def to_number(x, dic):\n",
    "    return dic[x]\n",
    "\n",
    "train_df['type_num'] = train_df['type'].apply(lambda x: to_number(x, column_number))\n"
   ]
  },
  {
   "cell_type": "code",
   "execution_count": 21,
   "metadata": {
    "ExecuteTime": {
     "end_time": "2020-02-17T05:54:54.359000Z",
     "start_time": "2020-02-17T05:54:54.346000Z"
    }
   },
   "outputs": [],
   "source": [
    "def add_minus_feature(data,test = False):\n",
    "    '''\n",
    "    근접변수에 대해서만 컬럼생성 ex) 'fiberMag_u-g', 'fiberMag_g-r', 'fiberMag_r-i', 'fiberMag_i-z'\n",
    "    각 mag에서 가장 높은값의 filter를 받아오는 \"~~mag_MAX\"생성\n",
    "    결과 38개로 증가 \n",
    "    '''\n",
    "    from itertools import combinations\n",
    "    n = 0\n",
    "    m = 0\n",
    "    for count in range(5,21,5):\n",
    "        s = 2\n",
    "        if test == True :\n",
    "            s = 1\n",
    "        selected = data.columns[s:].values[n:count]\n",
    "        mag = str.split(selected[0],'_')[0]\n",
    "#         data[mag+\"_MAX\"] = data[selected].apply(lambda x : str.split(np.argmax(x),'_')[1],axis = 1)\n",
    "        for i in range(0,len(selected)):        \n",
    "            if i>0: \n",
    "                name_1st = str.split(m,'_')[1]\n",
    "                name_2nd = str.split(selected[i],'_')[1]\n",
    "                data[mag+\"_\"+name_1st+\"-\"+name_2nd] = data[m]-data[selected[i]]\n",
    "            m = selected[i]    \n",
    "        n=count\n",
    "    return data"
   ]
  },
  {
   "cell_type": "code",
   "execution_count": 22,
   "metadata": {
    "ExecuteTime": {
     "end_time": "2020-02-17T05:54:54.865000Z",
     "start_time": "2020-02-17T05:54:54.806000Z"
    }
   },
   "outputs": [],
   "source": [
    "train_df = add_minus_feature(train_df)\n",
    "test_df = add_minus_feature(test_df,True)"
   ]
  },
  {
   "cell_type": "code",
   "execution_count": 23,
   "metadata": {
    "ExecuteTime": {
     "end_time": "2020-02-17T05:54:55.306000Z",
     "start_time": "2020-02-17T05:54:55.197000Z"
    }
   },
   "outputs": [],
   "source": [
    "train_X = train_df.drop(columns=['type', 'type_num', 'fiberID'], axis=1)\n",
    "train_y = train_df['type_num']\n",
    "test_X = test_df.drop(columns=['fiberID'], axis=1)"
   ]
  },
  {
   "cell_type": "code",
   "execution_count": 24,
   "metadata": {
    "ExecuteTime": {
     "end_time": "2020-02-17T05:54:55.528000Z",
     "start_time": "2020-02-17T05:54:55.495000Z"
    }
   },
   "outputs": [
    {
     "data": {
      "text/html": [
       "<div>\n",
       "<style scoped>\n",
       "    .dataframe tbody tr th:only-of-type {\n",
       "        vertical-align: middle;\n",
       "    }\n",
       "\n",
       "    .dataframe tbody tr th {\n",
       "        vertical-align: top;\n",
       "    }\n",
       "\n",
       "    .dataframe thead th {\n",
       "        text-align: right;\n",
       "    }\n",
       "</style>\n",
       "<table border=\"1\" class=\"dataframe\">\n",
       "  <thead>\n",
       "    <tr style=\"text-align: right;\">\n",
       "      <th></th>\n",
       "      <th>psfMag_u</th>\n",
       "      <th>psfMag_g</th>\n",
       "      <th>psfMag_r</th>\n",
       "      <th>psfMag_i</th>\n",
       "      <th>psfMag_z</th>\n",
       "      <th>fiberMag_u</th>\n",
       "      <th>fiberMag_g</th>\n",
       "      <th>fiberMag_r</th>\n",
       "      <th>fiberMag_i</th>\n",
       "      <th>fiberMag_z</th>\n",
       "      <th>petroMag_u</th>\n",
       "      <th>petroMag_g</th>\n",
       "      <th>petroMag_r</th>\n",
       "      <th>petroMag_i</th>\n",
       "      <th>petroMag_z</th>\n",
       "      <th>...</th>\n",
       "      <th>psfMag_g-r</th>\n",
       "      <th>psfMag_r-i</th>\n",
       "      <th>psfMag_i-z</th>\n",
       "      <th>fiberMag_u-g</th>\n",
       "      <th>fiberMag_g-r</th>\n",
       "      <th>fiberMag_r-i</th>\n",
       "      <th>fiberMag_i-z</th>\n",
       "      <th>petroMag_u-g</th>\n",
       "      <th>petroMag_g-r</th>\n",
       "      <th>petroMag_r-i</th>\n",
       "      <th>petroMag_i-z</th>\n",
       "      <th>modelMag_u-g</th>\n",
       "      <th>modelMag_g-r</th>\n",
       "      <th>modelMag_r-i</th>\n",
       "      <th>modelMag_i-z</th>\n",
       "    </tr>\n",
       "    <tr>\n",
       "      <th>id</th>\n",
       "      <th></th>\n",
       "      <th></th>\n",
       "      <th></th>\n",
       "      <th></th>\n",
       "      <th></th>\n",
       "      <th></th>\n",
       "      <th></th>\n",
       "      <th></th>\n",
       "      <th></th>\n",
       "      <th></th>\n",
       "      <th></th>\n",
       "      <th></th>\n",
       "      <th></th>\n",
       "      <th></th>\n",
       "      <th></th>\n",
       "      <th></th>\n",
       "      <th></th>\n",
       "      <th></th>\n",
       "      <th></th>\n",
       "      <th></th>\n",
       "      <th></th>\n",
       "      <th></th>\n",
       "      <th></th>\n",
       "      <th></th>\n",
       "      <th></th>\n",
       "      <th></th>\n",
       "      <th></th>\n",
       "      <th></th>\n",
       "      <th></th>\n",
       "      <th></th>\n",
       "      <th></th>\n",
       "    </tr>\n",
       "  </thead>\n",
       "  <tbody>\n",
       "    <tr>\n",
       "      <td>0</td>\n",
       "      <td>23.198224</td>\n",
       "      <td>21.431953</td>\n",
       "      <td>21.314148</td>\n",
       "      <td>21.176553</td>\n",
       "      <td>21.171444</td>\n",
       "      <td>22.581309</td>\n",
       "      <td>21.644453</td>\n",
       "      <td>21.657571</td>\n",
       "      <td>21.387653</td>\n",
       "      <td>21.572827</td>\n",
       "      <td>22.504317</td>\n",
       "      <td>21.431636</td>\n",
       "      <td>21.478312</td>\n",
       "      <td>21.145409</td>\n",
       "      <td>20.422446</td>\n",
       "      <td>...</td>\n",
       "      <td>0.117805</td>\n",
       "      <td>0.137595</td>\n",
       "      <td>0.005109</td>\n",
       "      <td>0.936856</td>\n",
       "      <td>-0.013118</td>\n",
       "      <td>0.269918</td>\n",
       "      <td>-0.185174</td>\n",
       "      <td>1.072682</td>\n",
       "      <td>-0.046676</td>\n",
       "      <td>0.332902</td>\n",
       "      <td>0.722964</td>\n",
       "      <td>1.283708</td>\n",
       "      <td>0.101347</td>\n",
       "      <td>0.343582</td>\n",
       "      <td>-0.126735</td>\n",
       "    </tr>\n",
       "    <tr>\n",
       "      <td>1</td>\n",
       "      <td>21.431355</td>\n",
       "      <td>20.708104</td>\n",
       "      <td>20.678850</td>\n",
       "      <td>20.703420</td>\n",
       "      <td>20.473229</td>\n",
       "      <td>21.868797</td>\n",
       "      <td>21.029773</td>\n",
       "      <td>20.967054</td>\n",
       "      <td>20.937731</td>\n",
       "      <td>21.063646</td>\n",
       "      <td>21.360701</td>\n",
       "      <td>20.778968</td>\n",
       "      <td>20.889705</td>\n",
       "      <td>20.639812</td>\n",
       "      <td>20.646660</td>\n",
       "      <td>...</td>\n",
       "      <td>0.029254</td>\n",
       "      <td>-0.024570</td>\n",
       "      <td>0.230191</td>\n",
       "      <td>0.839024</td>\n",
       "      <td>0.062718</td>\n",
       "      <td>0.029324</td>\n",
       "      <td>-0.125915</td>\n",
       "      <td>0.581734</td>\n",
       "      <td>-0.110737</td>\n",
       "      <td>0.249893</td>\n",
       "      <td>-0.006847</td>\n",
       "      <td>0.734428</td>\n",
       "      <td>0.004602</td>\n",
       "      <td>0.060537</td>\n",
       "      <td>0.181074</td>\n",
       "    </tr>\n",
       "    <tr>\n",
       "      <td>2</td>\n",
       "      <td>17.851451</td>\n",
       "      <td>16.727898</td>\n",
       "      <td>16.679677</td>\n",
       "      <td>16.694640</td>\n",
       "      <td>16.641788</td>\n",
       "      <td>18.171890</td>\n",
       "      <td>17.033098</td>\n",
       "      <td>16.999682</td>\n",
       "      <td>17.095999</td>\n",
       "      <td>17.076449</td>\n",
       "      <td>17.867253</td>\n",
       "      <td>16.738784</td>\n",
       "      <td>16.688874</td>\n",
       "      <td>16.744210</td>\n",
       "      <td>16.808006</td>\n",
       "      <td>...</td>\n",
       "      <td>0.048221</td>\n",
       "      <td>-0.014963</td>\n",
       "      <td>0.052852</td>\n",
       "      <td>1.138792</td>\n",
       "      <td>0.033416</td>\n",
       "      <td>-0.096317</td>\n",
       "      <td>0.019550</td>\n",
       "      <td>1.128468</td>\n",
       "      <td>0.049910</td>\n",
       "      <td>-0.055336</td>\n",
       "      <td>-0.063796</td>\n",
       "      <td>1.120628</td>\n",
       "      <td>0.056186</td>\n",
       "      <td>-0.018929</td>\n",
       "      <td>-0.028751</td>\n",
       "    </tr>\n",
       "    <tr>\n",
       "      <td>3</td>\n",
       "      <td>20.789900</td>\n",
       "      <td>20.040371</td>\n",
       "      <td>19.926909</td>\n",
       "      <td>19.843840</td>\n",
       "      <td>19.463270</td>\n",
       "      <td>21.039030</td>\n",
       "      <td>20.317165</td>\n",
       "      <td>20.217898</td>\n",
       "      <td>20.073852</td>\n",
       "      <td>19.794505</td>\n",
       "      <td>20.433907</td>\n",
       "      <td>19.993727</td>\n",
       "      <td>19.985531</td>\n",
       "      <td>19.750917</td>\n",
       "      <td>19.455117</td>\n",
       "      <td>...</td>\n",
       "      <td>0.113462</td>\n",
       "      <td>0.083069</td>\n",
       "      <td>0.380569</td>\n",
       "      <td>0.721865</td>\n",
       "      <td>0.099267</td>\n",
       "      <td>0.144046</td>\n",
       "      <td>0.279347</td>\n",
       "      <td>0.440180</td>\n",
       "      <td>0.008197</td>\n",
       "      <td>0.234614</td>\n",
       "      <td>0.295800</td>\n",
       "      <td>0.769012</td>\n",
       "      <td>0.111901</td>\n",
       "      <td>0.131685</td>\n",
       "      <td>0.205258</td>\n",
       "    </tr>\n",
       "    <tr>\n",
       "      <td>4</td>\n",
       "      <td>26.454969</td>\n",
       "      <td>23.058767</td>\n",
       "      <td>21.471406</td>\n",
       "      <td>19.504961</td>\n",
       "      <td>18.389096</td>\n",
       "      <td>25.700632</td>\n",
       "      <td>23.629122</td>\n",
       "      <td>21.742750</td>\n",
       "      <td>19.861718</td>\n",
       "      <td>18.810375</td>\n",
       "      <td>25.859229</td>\n",
       "      <td>22.426929</td>\n",
       "      <td>21.673551</td>\n",
       "      <td>19.610012</td>\n",
       "      <td>18.376141</td>\n",
       "      <td>...</td>\n",
       "      <td>1.587361</td>\n",
       "      <td>1.966445</td>\n",
       "      <td>1.115864</td>\n",
       "      <td>2.071510</td>\n",
       "      <td>1.886372</td>\n",
       "      <td>1.881032</td>\n",
       "      <td>1.051343</td>\n",
       "      <td>3.432300</td>\n",
       "      <td>0.753377</td>\n",
       "      <td>2.063539</td>\n",
       "      <td>1.233871</td>\n",
       "      <td>1.729059</td>\n",
       "      <td>1.672651</td>\n",
       "      <td>1.988012</td>\n",
       "      <td>1.111675</td>\n",
       "    </tr>\n",
       "  </tbody>\n",
       "</table>\n",
       "<p>5 rows × 36 columns</p>\n",
       "</div>"
      ],
      "text/plain": [
       "     psfMag_u   psfMag_g   psfMag_r   psfMag_i   psfMag_z  fiberMag_u  \\\n",
       "id                                                                      \n",
       "0   23.198224  21.431953  21.314148  21.176553  21.171444   22.581309   \n",
       "1   21.431355  20.708104  20.678850  20.703420  20.473229   21.868797   \n",
       "2   17.851451  16.727898  16.679677  16.694640  16.641788   18.171890   \n",
       "3   20.789900  20.040371  19.926909  19.843840  19.463270   21.039030   \n",
       "4   26.454969  23.058767  21.471406  19.504961  18.389096   25.700632   \n",
       "\n",
       "    fiberMag_g  fiberMag_r  fiberMag_i  fiberMag_z  petroMag_u  petroMag_g  \\\n",
       "id                                                                           \n",
       "0    21.644453   21.657571   21.387653   21.572827   22.504317   21.431636   \n",
       "1    21.029773   20.967054   20.937731   21.063646   21.360701   20.778968   \n",
       "2    17.033098   16.999682   17.095999   17.076449   17.867253   16.738784   \n",
       "3    20.317165   20.217898   20.073852   19.794505   20.433907   19.993727   \n",
       "4    23.629122   21.742750   19.861718   18.810375   25.859229   22.426929   \n",
       "\n",
       "    petroMag_r  petroMag_i  petroMag_z  ...  psfMag_g-r  psfMag_r-i  \\\n",
       "id                                      ...                           \n",
       "0    21.478312   21.145409   20.422446  ...    0.117805    0.137595   \n",
       "1    20.889705   20.639812   20.646660  ...    0.029254   -0.024570   \n",
       "2    16.688874   16.744210   16.808006  ...    0.048221   -0.014963   \n",
       "3    19.985531   19.750917   19.455117  ...    0.113462    0.083069   \n",
       "4    21.673551   19.610012   18.376141  ...    1.587361    1.966445   \n",
       "\n",
       "    psfMag_i-z  fiberMag_u-g  fiberMag_g-r  fiberMag_r-i  fiberMag_i-z  \\\n",
       "id                                                                       \n",
       "0     0.005109      0.936856     -0.013118      0.269918     -0.185174   \n",
       "1     0.230191      0.839024      0.062718      0.029324     -0.125915   \n",
       "2     0.052852      1.138792      0.033416     -0.096317      0.019550   \n",
       "3     0.380569      0.721865      0.099267      0.144046      0.279347   \n",
       "4     1.115864      2.071510      1.886372      1.881032      1.051343   \n",
       "\n",
       "    petroMag_u-g  petroMag_g-r  petroMag_r-i  petroMag_i-z  modelMag_u-g  \\\n",
       "id                                                                         \n",
       "0       1.072682     -0.046676      0.332902      0.722964      1.283708   \n",
       "1       0.581734     -0.110737      0.249893     -0.006847      0.734428   \n",
       "2       1.128468      0.049910     -0.055336     -0.063796      1.120628   \n",
       "3       0.440180      0.008197      0.234614      0.295800      0.769012   \n",
       "4       3.432300      0.753377      2.063539      1.233871      1.729059   \n",
       "\n",
       "    modelMag_g-r  modelMag_r-i  modelMag_i-z  \n",
       "id                                            \n",
       "0       0.101347      0.343582     -0.126735  \n",
       "1       0.004602      0.060537      0.181074  \n",
       "2       0.056186     -0.018929     -0.028751  \n",
       "3       0.111901      0.131685      0.205258  \n",
       "4       1.672651      1.988012      1.111675  \n",
       "\n",
       "[5 rows x 36 columns]"
      ]
     },
     "execution_count": 24,
     "metadata": {},
     "output_type": "execute_result"
    }
   ],
   "source": [
    "train_X.head()"
   ]
  },
  {
   "cell_type": "code",
   "execution_count": 25,
   "metadata": {
    "ExecuteTime": {
     "end_time": "2020-02-17T05:54:56.106000Z",
     "start_time": "2020-02-17T05:54:56.102000Z"
    }
   },
   "outputs": [
    {
     "data": {
      "text/plain": [
       "Index(['psfMag_u', 'psfMag_g', 'psfMag_r', 'psfMag_i', 'psfMag_z',\n",
       "       'fiberMag_u', 'fiberMag_g', 'fiberMag_r', 'fiberMag_i', 'fiberMag_z',\n",
       "       'petroMag_u', 'petroMag_g', 'petroMag_r', 'petroMag_i', 'petroMag_z',\n",
       "       'modelMag_u', 'modelMag_g', 'modelMag_r', 'modelMag_i', 'modelMag_z',\n",
       "       'psfMag_u-g', 'psfMag_g-r', 'psfMag_r-i', 'psfMag_i-z', 'fiberMag_u-g',\n",
       "       'fiberMag_g-r', 'fiberMag_r-i', 'fiberMag_i-z', 'petroMag_u-g',\n",
       "       'petroMag_g-r', 'petroMag_r-i', 'petroMag_i-z', 'modelMag_u-g',\n",
       "       'modelMag_g-r', 'modelMag_r-i', 'modelMag_i-z'],\n",
       "      dtype='object')"
      ]
     },
     "execution_count": 25,
     "metadata": {},
     "output_type": "execute_result"
    }
   ],
   "source": [
    "train_X.columns"
   ]
  },
  {
   "cell_type": "code",
   "execution_count": 26,
   "metadata": {
    "ExecuteTime": {
     "end_time": "2020-02-17T05:54:58.798000Z",
     "start_time": "2020-02-17T05:54:58.022000Z"
    },
    "collapsed": true
   },
   "outputs": [
    {
     "ename": "KeyError",
     "evalue": "\"['psfMag_u-r' 'psfMag_u-i' 'psfMag_u-z' 'psfMag_g-i' 'psfMag_g-z'\\n 'psfMag_r-z' 'fiberMag_u-r' 'fiberMag_u-i' 'fiberMag_u-z' 'fiberMag_g-i'\\n 'fiberMag_g-z' 'fiberMag_r-z' 'petroMag_u-r' 'petroMag_u-i'\\n 'petroMag_u-z' 'petroMag_g-i' 'petroMag_g-z' 'petroMag_r-z'\\n 'modelMag_u-r' 'modelMag_u-i' 'modelMag_u-z' 'modelMag_g-i'\\n 'modelMag_g-z' 'modelMag_r-z'] not found in axis\"",
     "output_type": "error",
     "traceback": [
      "\u001b[1;31m---------------------------------------------------------------------------\u001b[0m",
      "\u001b[1;31mKeyError\u001b[0m                                  Traceback (most recent call last)",
      "\u001b[1;32m<ipython-input-26-074b55fe4cf1>\u001b[0m in \u001b[0;36m<module>\u001b[1;34m\u001b[0m\n\u001b[0;32m      3\u001b[0m              \u001b[1;34m'fiberMag_u-r'\u001b[0m\u001b[1;33m,\u001b[0m\u001b[1;34m'fiberMag_u-i'\u001b[0m\u001b[1;33m,\u001b[0m\u001b[1;34m'fiberMag_u-z'\u001b[0m\u001b[1;33m,\u001b[0m\u001b[1;34m'fiberMag_g-i'\u001b[0m\u001b[1;33m,\u001b[0m\u001b[1;34m'fiberMag_g-z'\u001b[0m\u001b[1;33m,\u001b[0m\u001b[1;34m'fiberMag_r-z'\u001b[0m\u001b[1;33m,\u001b[0m\u001b[1;33m\u001b[0m\u001b[1;33m\u001b[0m\u001b[0m\n\u001b[0;32m      4\u001b[0m              \u001b[1;34m'petroMag_u-r'\u001b[0m\u001b[1;33m,\u001b[0m\u001b[1;34m'petroMag_u-i'\u001b[0m\u001b[1;33m,\u001b[0m\u001b[1;34m'petroMag_u-z'\u001b[0m\u001b[1;33m,\u001b[0m\u001b[1;34m'petroMag_g-i'\u001b[0m\u001b[1;33m,\u001b[0m\u001b[1;34m'petroMag_g-z'\u001b[0m\u001b[1;33m,\u001b[0m\u001b[1;34m'petroMag_r-z'\u001b[0m\u001b[1;33m,\u001b[0m\u001b[1;33m\u001b[0m\u001b[1;33m\u001b[0m\u001b[0m\n\u001b[1;32m----> 5\u001b[1;33m              'modelMag_u-r','modelMag_u-i','modelMag_u-z','modelMag_g-i','modelMag_g-z','modelMag_r-z'] ,axis=1, inplace=True)\n\u001b[0m\u001b[0;32m      6\u001b[0m \u001b[1;33m\u001b[0m\u001b[0m\n\u001b[0;32m      7\u001b[0m test_X.drop(['psfMag_u-r','psfMag_u-i','psfMag_u-z','psfMag_g-i','psfMag_g-z','psfMag_r-z',\n",
      "\u001b[1;32mG:\\Anaconda3\\lib\\site-packages\\pandas\\core\\frame.py\u001b[0m in \u001b[0;36mdrop\u001b[1;34m(self, labels, axis, index, columns, level, inplace, errors)\u001b[0m\n\u001b[0;32m   4100\u001b[0m             \u001b[0mlevel\u001b[0m\u001b[1;33m=\u001b[0m\u001b[0mlevel\u001b[0m\u001b[1;33m,\u001b[0m\u001b[1;33m\u001b[0m\u001b[1;33m\u001b[0m\u001b[0m\n\u001b[0;32m   4101\u001b[0m             \u001b[0minplace\u001b[0m\u001b[1;33m=\u001b[0m\u001b[0minplace\u001b[0m\u001b[1;33m,\u001b[0m\u001b[1;33m\u001b[0m\u001b[1;33m\u001b[0m\u001b[0m\n\u001b[1;32m-> 4102\u001b[1;33m             \u001b[0merrors\u001b[0m\u001b[1;33m=\u001b[0m\u001b[0merrors\u001b[0m\u001b[1;33m,\u001b[0m\u001b[1;33m\u001b[0m\u001b[1;33m\u001b[0m\u001b[0m\n\u001b[0m\u001b[0;32m   4103\u001b[0m         )\n\u001b[0;32m   4104\u001b[0m \u001b[1;33m\u001b[0m\u001b[0m\n",
      "\u001b[1;32mG:\\Anaconda3\\lib\\site-packages\\pandas\\core\\generic.py\u001b[0m in \u001b[0;36mdrop\u001b[1;34m(self, labels, axis, index, columns, level, inplace, errors)\u001b[0m\n\u001b[0;32m   3912\u001b[0m         \u001b[1;32mfor\u001b[0m \u001b[0maxis\u001b[0m\u001b[1;33m,\u001b[0m \u001b[0mlabels\u001b[0m \u001b[1;32min\u001b[0m \u001b[0maxes\u001b[0m\u001b[1;33m.\u001b[0m\u001b[0mitems\u001b[0m\u001b[1;33m(\u001b[0m\u001b[1;33m)\u001b[0m\u001b[1;33m:\u001b[0m\u001b[1;33m\u001b[0m\u001b[1;33m\u001b[0m\u001b[0m\n\u001b[0;32m   3913\u001b[0m             \u001b[1;32mif\u001b[0m \u001b[0mlabels\u001b[0m \u001b[1;32mis\u001b[0m \u001b[1;32mnot\u001b[0m \u001b[1;32mNone\u001b[0m\u001b[1;33m:\u001b[0m\u001b[1;33m\u001b[0m\u001b[1;33m\u001b[0m\u001b[0m\n\u001b[1;32m-> 3914\u001b[1;33m                 \u001b[0mobj\u001b[0m \u001b[1;33m=\u001b[0m \u001b[0mobj\u001b[0m\u001b[1;33m.\u001b[0m\u001b[0m_drop_axis\u001b[0m\u001b[1;33m(\u001b[0m\u001b[0mlabels\u001b[0m\u001b[1;33m,\u001b[0m \u001b[0maxis\u001b[0m\u001b[1;33m,\u001b[0m \u001b[0mlevel\u001b[0m\u001b[1;33m=\u001b[0m\u001b[0mlevel\u001b[0m\u001b[1;33m,\u001b[0m \u001b[0merrors\u001b[0m\u001b[1;33m=\u001b[0m\u001b[0merrors\u001b[0m\u001b[1;33m)\u001b[0m\u001b[1;33m\u001b[0m\u001b[1;33m\u001b[0m\u001b[0m\n\u001b[0m\u001b[0;32m   3915\u001b[0m \u001b[1;33m\u001b[0m\u001b[0m\n\u001b[0;32m   3916\u001b[0m         \u001b[1;32mif\u001b[0m \u001b[0minplace\u001b[0m\u001b[1;33m:\u001b[0m\u001b[1;33m\u001b[0m\u001b[1;33m\u001b[0m\u001b[0m\n",
      "\u001b[1;32mG:\\Anaconda3\\lib\\site-packages\\pandas\\core\\generic.py\u001b[0m in \u001b[0;36m_drop_axis\u001b[1;34m(self, labels, axis, level, errors)\u001b[0m\n\u001b[0;32m   3944\u001b[0m                 \u001b[0mnew_axis\u001b[0m \u001b[1;33m=\u001b[0m \u001b[0maxis\u001b[0m\u001b[1;33m.\u001b[0m\u001b[0mdrop\u001b[0m\u001b[1;33m(\u001b[0m\u001b[0mlabels\u001b[0m\u001b[1;33m,\u001b[0m \u001b[0mlevel\u001b[0m\u001b[1;33m=\u001b[0m\u001b[0mlevel\u001b[0m\u001b[1;33m,\u001b[0m \u001b[0merrors\u001b[0m\u001b[1;33m=\u001b[0m\u001b[0merrors\u001b[0m\u001b[1;33m)\u001b[0m\u001b[1;33m\u001b[0m\u001b[1;33m\u001b[0m\u001b[0m\n\u001b[0;32m   3945\u001b[0m             \u001b[1;32melse\u001b[0m\u001b[1;33m:\u001b[0m\u001b[1;33m\u001b[0m\u001b[1;33m\u001b[0m\u001b[0m\n\u001b[1;32m-> 3946\u001b[1;33m                 \u001b[0mnew_axis\u001b[0m \u001b[1;33m=\u001b[0m \u001b[0maxis\u001b[0m\u001b[1;33m.\u001b[0m\u001b[0mdrop\u001b[0m\u001b[1;33m(\u001b[0m\u001b[0mlabels\u001b[0m\u001b[1;33m,\u001b[0m \u001b[0merrors\u001b[0m\u001b[1;33m=\u001b[0m\u001b[0merrors\u001b[0m\u001b[1;33m)\u001b[0m\u001b[1;33m\u001b[0m\u001b[1;33m\u001b[0m\u001b[0m\n\u001b[0m\u001b[0;32m   3947\u001b[0m             \u001b[0mresult\u001b[0m \u001b[1;33m=\u001b[0m \u001b[0mself\u001b[0m\u001b[1;33m.\u001b[0m\u001b[0mreindex\u001b[0m\u001b[1;33m(\u001b[0m\u001b[1;33m**\u001b[0m\u001b[1;33m{\u001b[0m\u001b[0maxis_name\u001b[0m\u001b[1;33m:\u001b[0m \u001b[0mnew_axis\u001b[0m\u001b[1;33m}\u001b[0m\u001b[1;33m)\u001b[0m\u001b[1;33m\u001b[0m\u001b[1;33m\u001b[0m\u001b[0m\n\u001b[0;32m   3948\u001b[0m \u001b[1;33m\u001b[0m\u001b[0m\n",
      "\u001b[1;32mG:\\Anaconda3\\lib\\site-packages\\pandas\\core\\indexes\\base.py\u001b[0m in \u001b[0;36mdrop\u001b[1;34m(self, labels, errors)\u001b[0m\n\u001b[0;32m   5338\u001b[0m         \u001b[1;32mif\u001b[0m \u001b[0mmask\u001b[0m\u001b[1;33m.\u001b[0m\u001b[0many\u001b[0m\u001b[1;33m(\u001b[0m\u001b[1;33m)\u001b[0m\u001b[1;33m:\u001b[0m\u001b[1;33m\u001b[0m\u001b[1;33m\u001b[0m\u001b[0m\n\u001b[0;32m   5339\u001b[0m             \u001b[1;32mif\u001b[0m \u001b[0merrors\u001b[0m \u001b[1;33m!=\u001b[0m \u001b[1;34m\"ignore\"\u001b[0m\u001b[1;33m:\u001b[0m\u001b[1;33m\u001b[0m\u001b[1;33m\u001b[0m\u001b[0m\n\u001b[1;32m-> 5340\u001b[1;33m                 \u001b[1;32mraise\u001b[0m \u001b[0mKeyError\u001b[0m\u001b[1;33m(\u001b[0m\u001b[1;34m\"{} not found in axis\"\u001b[0m\u001b[1;33m.\u001b[0m\u001b[0mformat\u001b[0m\u001b[1;33m(\u001b[0m\u001b[0mlabels\u001b[0m\u001b[1;33m[\u001b[0m\u001b[0mmask\u001b[0m\u001b[1;33m]\u001b[0m\u001b[1;33m)\u001b[0m\u001b[1;33m)\u001b[0m\u001b[1;33m\u001b[0m\u001b[1;33m\u001b[0m\u001b[0m\n\u001b[0m\u001b[0;32m   5341\u001b[0m             \u001b[0mindexer\u001b[0m \u001b[1;33m=\u001b[0m \u001b[0mindexer\u001b[0m\u001b[1;33m[\u001b[0m\u001b[1;33m~\u001b[0m\u001b[0mmask\u001b[0m\u001b[1;33m]\u001b[0m\u001b[1;33m\u001b[0m\u001b[1;33m\u001b[0m\u001b[0m\n\u001b[0;32m   5342\u001b[0m         \u001b[1;32mreturn\u001b[0m \u001b[0mself\u001b[0m\u001b[1;33m.\u001b[0m\u001b[0mdelete\u001b[0m\u001b[1;33m(\u001b[0m\u001b[0mindexer\u001b[0m\u001b[1;33m)\u001b[0m\u001b[1;33m\u001b[0m\u001b[1;33m\u001b[0m\u001b[0m\n",
      "\u001b[1;31mKeyError\u001b[0m: \"['psfMag_u-r' 'psfMag_u-i' 'psfMag_u-z' 'psfMag_g-i' 'psfMag_g-z'\\n 'psfMag_r-z' 'fiberMag_u-r' 'fiberMag_u-i' 'fiberMag_u-z' 'fiberMag_g-i'\\n 'fiberMag_g-z' 'fiberMag_r-z' 'petroMag_u-r' 'petroMag_u-i'\\n 'petroMag_u-z' 'petroMag_g-i' 'petroMag_g-z' 'petroMag_r-z'\\n 'modelMag_u-r' 'modelMag_u-i' 'modelMag_u-z' 'modelMag_g-i'\\n 'modelMag_g-z' 'modelMag_r-z'] not found in axis\""
     ]
    }
   ],
   "source": [
    "# ## u-g, g-r, r-i, i-z 만 남기는게 좋지 않을까????\n",
    "# train_X.drop(['psfMag_u-r','psfMag_u-i','psfMag_u-z','psfMag_g-i','psfMag_g-z','psfMag_r-z',\n",
    "#              'fiberMag_u-r','fiberMag_u-i','fiberMag_u-z','fiberMag_g-i','fiberMag_g-z','fiberMag_r-z',\n",
    "#              'petroMag_u-r','petroMag_u-i','petroMag_u-z','petroMag_g-i','petroMag_g-z','petroMag_r-z',\n",
    "#              'modelMag_u-r','modelMag_u-i','modelMag_u-z','modelMag_g-i','modelMag_g-z','modelMag_r-z'] ,axis=1, inplace=True)\n",
    "\n",
    "# test_X.drop(['psfMag_u-r','psfMag_u-i','psfMag_u-z','psfMag_g-i','psfMag_g-z','psfMag_r-z',\n",
    "#              'fiberMag_u-r','fiberMag_u-i','fiberMag_u-z','fiberMag_g-i','fiberMag_g-z','fiberMag_r-z',\n",
    "#              'petroMag_u-r','petroMag_u-i','petroMag_u-z','petroMag_g-i','petroMag_g-z','petroMag_r-z',\n",
    "#          'modelMag_u-r','modelMag_u-i','modelMag_u-z','modelMag_g-i','modelMag_g-z','modelMag_r-z'] ,axis=1, inplace=True)"
   ]
  },
  {
   "cell_type": "code",
   "execution_count": 27,
   "metadata": {
    "ExecuteTime": {
     "end_time": "2020-02-17T05:55:04.854000Z",
     "start_time": "2020-02-17T05:55:04.679000Z"
    }
   },
   "outputs": [],
   "source": [
    "X_train, X_test, y_train, y_test = train_test_split(train_X, train_y, test_size=0.3, random_state=42,stratify = train_y)"
   ]
  },
  {
   "cell_type": "code",
   "execution_count": 28,
   "metadata": {
    "ExecuteTime": {
     "end_time": "2020-02-17T05:55:08.029000Z",
     "start_time": "2020-02-17T05:55:07.882000Z"
    }
   },
   "outputs": [
    {
     "name": "stderr",
     "output_type": "stream",
     "text": [
      "G:\\Anaconda3\\lib\\site-packages\\sklearn\\preprocessing\\_encoders.py:415: FutureWarning: The handling of integer data will change in version 0.22. Currently, the categories are determined based on the range [0, max(values)], while in the future they will be determined based on the unique values.\n",
      "If you want the future behaviour and silence this warning, you can specify \"categories='auto'\".\n",
      "In case you used a LabelEncoder before this OneHotEncoder to convert the categories to integers, then you can now use the OneHotEncoder directly.\n",
      "  warnings.warn(msg, FutureWarning)\n"
     ]
    }
   ],
   "source": [
    "o_hot = OneHotEncoder()\n",
    "y_train= o_hot.fit_transform(y_train.values.reshape(-1,1))\n",
    "y_train = y_train.toarray()"
   ]
  },
  {
   "cell_type": "code",
   "execution_count": 29,
   "metadata": {
    "ExecuteTime": {
     "end_time": "2020-02-17T05:55:10.478000Z",
     "start_time": "2020-02-17T05:55:10.465000Z"
    }
   },
   "outputs": [
    {
     "name": "stderr",
     "output_type": "stream",
     "text": [
      "G:\\Anaconda3\\lib\\site-packages\\sklearn\\preprocessing\\_encoders.py:415: FutureWarning: The handling of integer data will change in version 0.22. Currently, the categories are determined based on the range [0, max(values)], while in the future they will be determined based on the unique values.\n",
      "If you want the future behaviour and silence this warning, you can specify \"categories='auto'\".\n",
      "In case you used a LabelEncoder before this OneHotEncoder to convert the categories to integers, then you can now use the OneHotEncoder directly.\n",
      "  warnings.warn(msg, FutureWarning)\n"
     ]
    }
   ],
   "source": [
    "o2_hot = OneHotEncoder()\n",
    "y_test= o2_hot.fit_transform(y_test.values.reshape(-1,1))\n",
    "y_test = y_test.toarray()"
   ]
  },
  {
   "cell_type": "code",
   "execution_count": 30,
   "metadata": {
    "ExecuteTime": {
     "end_time": "2020-02-17T05:55:16.903000Z",
     "start_time": "2020-02-17T05:55:16.896000Z"
    }
   },
   "outputs": [
    {
     "data": {
      "text/plain": [
       "((139863, 19), (59942, 19))"
      ]
     },
     "execution_count": 30,
     "metadata": {},
     "output_type": "execute_result"
    }
   ],
   "source": [
    "y_train.shape, y_test.shape"
   ]
  },
  {
   "cell_type": "code",
   "execution_count": 31,
   "metadata": {
    "ExecuteTime": {
     "end_time": "2020-02-17T05:55:19.922000Z",
     "start_time": "2020-02-17T05:55:19.917000Z"
    }
   },
   "outputs": [
    {
     "data": {
      "text/plain": [
       "(139863, 36)"
      ]
     },
     "execution_count": 31,
     "metadata": {},
     "output_type": "execute_result"
    }
   ],
   "source": [
    "X_train = X_train.values\n",
    "X_train.shape"
   ]
  },
  {
   "cell_type": "code",
   "execution_count": 32,
   "metadata": {
    "ExecuteTime": {
     "end_time": "2020-02-17T05:55:20.229000Z",
     "start_time": "2020-02-17T05:55:20.222000Z"
    }
   },
   "outputs": [
    {
     "data": {
      "text/plain": [
       "(59942, 36)"
      ]
     },
     "execution_count": 32,
     "metadata": {},
     "output_type": "execute_result"
    }
   ],
   "source": [
    "X_test = X_test.values\n",
    "X_test.shape"
   ]
  },
  {
   "cell_type": "code",
   "execution_count": 45,
   "metadata": {
    "ExecuteTime": {
     "end_time": "2020-02-17T06:44:13.650000Z",
     "start_time": "2020-02-17T06:31:36.142000Z"
    },
    "scrolled": true
   },
   "outputs": [
    {
     "name": "stdout",
     "output_type": "stream",
     "text": [
      "Train on 139863 samples, validate on 59942 samples\n",
      "Epoch 1/1500\n",
      "139863/139863 [==============================] - 8s 58us/step - loss: 0.6954 - accuracy: 0.7790 - categorical_crossentropy: 0.6954 - val_loss: 0.5440 - val_accuracy: 0.8169 - val_categorical_crossentropy: 0.5440\n",
      "Epoch 2/1500\n",
      "139863/139863 [==============================] - 10s 73us/step - loss: 0.5388 - accuracy: 0.8159 - categorical_crossentropy: 0.5388 - val_loss: 0.4819 - val_accuracy: 0.8370 - val_categorical_crossentropy: 0.4819\n",
      "Epoch 3/1500\n",
      "139863/139863 [==============================] - 9s 66us/step - loss: 0.5128 - accuracy: 0.8232 - categorical_crossentropy: 0.5128 - val_loss: 0.4795 - val_accuracy: 0.8391 - val_categorical_crossentropy: 0.4795\n",
      "Epoch 4/1500\n",
      "139863/139863 [==============================] - 7s 51us/step - loss: 0.4980 - accuracy: 0.8269 - categorical_crossentropy: 0.4980 - val_loss: 0.4539 - val_accuracy: 0.8430 - val_categorical_crossentropy: 0.4539\n",
      "Epoch 5/1500\n",
      "139863/139863 [==============================] - 9s 64us/step - loss: 0.4858 - accuracy: 0.8315 - categorical_crossentropy: 0.4858 - val_loss: 0.4444 - val_accuracy: 0.8475 - val_categorical_crossentropy: 0.4444\n",
      "Epoch 6/1500\n",
      "139863/139863 [==============================] - 7s 50us/step - loss: 0.4809 - accuracy: 0.8324 - categorical_crossentropy: 0.4809 - val_loss: 0.4409 - val_accuracy: 0.8468 - val_categorical_crossentropy: 0.4409\n",
      "Epoch 7/1500\n",
      "139863/139863 [==============================] - 7s 52us/step - loss: 0.4730 - accuracy: 0.8338 - categorical_crossentropy: 0.4730 - val_loss: 0.4508 - val_accuracy: 0.8472 - val_categorical_crossentropy: 0.4508\n",
      "Epoch 8/1500\n",
      "139863/139863 [==============================] - 8s 57us/step - loss: 0.4701 - accuracy: 0.8347 - categorical_crossentropy: 0.4701 - val_loss: 0.4258 - val_accuracy: 0.8549 - val_categorical_crossentropy: 0.4258\n",
      "Epoch 9/1500\n",
      "139863/139863 [==============================] - 9s 62us/step - loss: 0.4667 - accuracy: 0.8359 - categorical_crossentropy: 0.4667 - val_loss: 0.4401 - val_accuracy: 0.8470 - val_categorical_crossentropy: 0.4401\n",
      "Epoch 10/1500\n",
      "139863/139863 [==============================] - 10s 68us/step - loss: 0.4618 - accuracy: 0.8367 - categorical_crossentropy: 0.4618 - val_loss: 0.4271 - val_accuracy: 0.8556 - val_categorical_crossentropy: 0.4271\n",
      "Epoch 11/1500\n",
      "139863/139863 [==============================] - 9s 67us/step - loss: 0.4557 - accuracy: 0.8396 - categorical_crossentropy: 0.4557 - val_loss: 0.4237 - val_accuracy: 0.8553 - val_categorical_crossentropy: 0.4237\n",
      "Epoch 12/1500\n",
      "139863/139863 [==============================] - 8s 57us/step - loss: 0.4554 - accuracy: 0.8393 - categorical_crossentropy: 0.4554 - val_loss: 0.4187 - val_accuracy: 0.8562 - val_categorical_crossentropy: 0.4187\n",
      "Epoch 13/1500\n",
      "139863/139863 [==============================] - 7s 53us/step - loss: 0.4521 - accuracy: 0.8404 - categorical_crossentropy: 0.4521 - val_loss: 0.4306 - val_accuracy: 0.8512 - val_categorical_crossentropy: 0.4306\n",
      "Epoch 14/1500\n",
      "139863/139863 [==============================] - 10s 70us/step - loss: 0.4530 - accuracy: 0.8398 - categorical_crossentropy: 0.4530 - val_loss: 0.4159 - val_accuracy: 0.8562 - val_categorical_crossentropy: 0.4159\n",
      "Epoch 15/1500\n",
      "139863/139863 [==============================] - 8s 59us/step - loss: 0.4506 - accuracy: 0.8413 - categorical_crossentropy: 0.4506 - val_loss: 0.4325 - val_accuracy: 0.8509 - val_categorical_crossentropy: 0.4325\n",
      "Epoch 16/1500\n",
      "139863/139863 [==============================] - 8s 55us/step - loss: 0.4475 - accuracy: 0.8415 - categorical_crossentropy: 0.4475 - val_loss: 0.4174 - val_accuracy: 0.8573 - val_categorical_crossentropy: 0.4174\n",
      "Epoch 17/1500\n",
      "139863/139863 [==============================] - 10s 69us/step - loss: 0.4460 - accuracy: 0.8421 - categorical_crossentropy: 0.4460 - val_loss: 0.4228 - val_accuracy: 0.8541 - val_categorical_crossentropy: 0.4228\n",
      "Epoch 18/1500\n",
      "139863/139863 [==============================] - 9s 64us/step - loss: 0.4462 - accuracy: 0.8410 - categorical_crossentropy: 0.4462 - val_loss: 0.4290 - val_accuracy: 0.8544 - val_categorical_crossentropy: 0.4290\n",
      "Epoch 19/1500\n",
      "139863/139863 [==============================] - 9s 61us/step - loss: 0.4461 - accuracy: 0.8418 - categorical_crossentropy: 0.4461 - val_loss: 0.4265 - val_accuracy: 0.8523 - val_categorical_crossentropy: 0.4265\n",
      "Epoch 20/1500\n",
      "139863/139863 [==============================] - 10s 70us/step - loss: 0.4434 - accuracy: 0.8425 - categorical_crossentropy: 0.4434 - val_loss: 0.4239 - val_accuracy: 0.8558 - val_categorical_crossentropy: 0.4239\n",
      "Epoch 21/1500\n",
      "139863/139863 [==============================] - 10s 71us/step - loss: 0.4414 - accuracy: 0.8435 - categorical_crossentropy: 0.4414 - val_loss: 0.4267 - val_accuracy: 0.8527 - val_categorical_crossentropy: 0.4267\n",
      "Epoch 22/1500\n",
      "139863/139863 [==============================] - 9s 61us/step - loss: 0.4388 - accuracy: 0.8448 - categorical_crossentropy: 0.4388 - val_loss: 0.4132 - val_accuracy: 0.8571 - val_categorical_crossentropy: 0.4132\n",
      "Epoch 23/1500\n",
      "139863/139863 [==============================] - 9s 61us/step - loss: 0.4406 - accuracy: 0.8430 - categorical_crossentropy: 0.4406 - val_loss: 0.4261 - val_accuracy: 0.8506 - val_categorical_crossentropy: 0.4261\n",
      "Epoch 24/1500\n",
      "139863/139863 [==============================] - 10s 75us/step - loss: 0.4391 - accuracy: 0.8428 - categorical_crossentropy: 0.4391 - val_loss: 0.4265 - val_accuracy: 0.8517 - val_categorical_crossentropy: 0.4265\n",
      "Epoch 25/1500\n",
      "139863/139863 [==============================] - 11s 77us/step - loss: 0.4377 - accuracy: 0.8431 - categorical_crossentropy: 0.4377 - val_loss: 0.4276 - val_accuracy: 0.8547 - val_categorical_crossentropy: 0.4276\n",
      "Epoch 26/1500\n",
      "139863/139863 [==============================] - 11s 76us/step - loss: 0.4364 - accuracy: 0.8442 - categorical_crossentropy: 0.4364 - val_loss: 0.4160 - val_accuracy: 0.8567 - val_categorical_crossentropy: 0.4160\n",
      "Epoch 27/1500\n",
      "139863/139863 [==============================] - 9s 64us/step - loss: 0.4361 - accuracy: 0.8447 - categorical_crossentropy: 0.4361 - val_loss: 0.4175 - val_accuracy: 0.8530 - val_categorical_crossentropy: 0.4175\n",
      "Epoch 28/1500\n",
      "139863/139863 [==============================] - 9s 65us/step - loss: 0.4331 - accuracy: 0.8459 - categorical_crossentropy: 0.4331 - val_loss: 0.4178 - val_accuracy: 0.8584 - val_categorical_crossentropy: 0.4178\n",
      "Epoch 29/1500\n",
      "139863/139863 [==============================] - 9s 64us/step - loss: 0.4329 - accuracy: 0.8454 - categorical_crossentropy: 0.4329 - val_loss: 0.4091 - val_accuracy: 0.8610 - val_categorical_crossentropy: 0.4091\n",
      "Epoch 30/1500\n",
      "139863/139863 [==============================] - 9s 66us/step - loss: 0.4322 - accuracy: 0.8455 - categorical_crossentropy: 0.4322 - val_loss: 0.4375 - val_accuracy: 0.8470 - val_categorical_crossentropy: 0.4375\n",
      "Epoch 31/1500\n",
      "139863/139863 [==============================] - 10s 74us/step - loss: 0.4315 - accuracy: 0.8462 - categorical_crossentropy: 0.4315 - val_loss: 0.4184 - val_accuracy: 0.8562 - val_categorical_crossentropy: 0.4184\n",
      "Epoch 32/1500\n",
      "139863/139863 [==============================] - 10s 72us/step - loss: 0.4316 - accuracy: 0.8462 - categorical_crossentropy: 0.4316 - val_loss: 0.4242 - val_accuracy: 0.8524 - val_categorical_crossentropy: 0.4242\n",
      "Epoch 33/1500\n",
      "139863/139863 [==============================] - 10s 72us/step - loss: 0.4324 - accuracy: 0.8458 - categorical_crossentropy: 0.4324 - val_loss: 0.4242 - val_accuracy: 0.8545 - val_categorical_crossentropy: 0.4242\n",
      "Epoch 34/1500\n",
      "139863/139863 [==============================] - 10s 70us/step - loss: 0.4340 - accuracy: 0.8445 - categorical_crossentropy: 0.4340 - val_loss: 0.4253 - val_accuracy: 0.8547 - val_categorical_crossentropy: 0.4253\n",
      "Epoch 35/1500\n",
      "139863/139863 [==============================] - 10s 71us/step - loss: 0.4303 - accuracy: 0.8463 - categorical_crossentropy: 0.4303 - val_loss: 0.4202 - val_accuracy: 0.8568 - val_categorical_crossentropy: 0.4202\n",
      "Epoch 36/1500\n",
      "139863/139863 [==============================] - 10s 69us/step - loss: 0.4303 - accuracy: 0.8469 - categorical_crossentropy: 0.4303 - val_loss: 0.4346 - val_accuracy: 0.8515 - val_categorical_crossentropy: 0.4346\n"
     ]
    },
    {
     "name": "stdout",
     "output_type": "stream",
     "text": [
      "Epoch 37/1500\n",
      "139863/139863 [==============================] - 9s 67us/step - loss: 0.4317 - accuracy: 0.8454 - categorical_crossentropy: 0.4317 - val_loss: 0.4275 - val_accuracy: 0.8542 - val_categorical_crossentropy: 0.4275\n",
      "Epoch 38/1500\n",
      "139863/139863 [==============================] - 9s 65us/step - loss: 0.4279 - accuracy: 0.8464 - categorical_crossentropy: 0.4279 - val_loss: 0.4224 - val_accuracy: 0.8564 - val_categorical_crossentropy: 0.4224\n",
      "Epoch 39/1500\n",
      "139863/139863 [==============================] - 9s 68us/step - loss: 0.4292 - accuracy: 0.8460 - categorical_crossentropy: 0.4292 - val_loss: 0.4242 - val_accuracy: 0.8560 - val_categorical_crossentropy: 0.4242\n",
      "Epoch 40/1500\n",
      "139863/139863 [==============================] - 10s 70us/step - loss: 0.4271 - accuracy: 0.8469 - categorical_crossentropy: 0.4271 - val_loss: 0.4183 - val_accuracy: 0.8576 - val_categorical_crossentropy: 0.4183\n",
      "Epoch 41/1500\n",
      "139863/139863 [==============================] - 11s 77us/step - loss: 0.4293 - accuracy: 0.8455 - categorical_crossentropy: 0.4293 - val_loss: 0.4287 - val_accuracy: 0.8521 - val_categorical_crossentropy: 0.4287\n",
      "Epoch 42/1500\n",
      "139863/139863 [==============================] - 9s 63us/step - loss: 0.4275 - accuracy: 0.8474 - categorical_crossentropy: 0.4275 - val_loss: 0.4231 - val_accuracy: 0.8567 - val_categorical_crossentropy: 0.4231\n",
      "Epoch 43/1500\n",
      "139863/139863 [==============================] - 9s 63us/step - loss: 0.4248 - accuracy: 0.8481 - categorical_crossentropy: 0.4248 - val_loss: 0.4197 - val_accuracy: 0.8589 - val_categorical_crossentropy: 0.4197\n",
      "Epoch 44/1500\n",
      "139863/139863 [==============================] - 9s 63us/step - loss: 0.4230 - accuracy: 0.8485 - categorical_crossentropy: 0.4230 - val_loss: 0.4149 - val_accuracy: 0.8603 - val_categorical_crossentropy: 0.4149\n",
      "Epoch 45/1500\n",
      "139863/139863 [==============================] - 9s 66us/step - loss: 0.4242 - accuracy: 0.8484 - categorical_crossentropy: 0.4242 - val_loss: 0.4262 - val_accuracy: 0.8583 - val_categorical_crossentropy: 0.4262\n",
      "Epoch 46/1500\n",
      "139863/139863 [==============================] - 9s 66us/step - loss: 0.4263 - accuracy: 0.8485 - categorical_crossentropy: 0.4263 - val_loss: 0.4174 - val_accuracy: 0.8590 - val_categorical_crossentropy: 0.4174\n",
      "Epoch 47/1500\n",
      "139863/139863 [==============================] - 11s 76us/step - loss: 0.4216 - accuracy: 0.8495 - categorical_crossentropy: 0.4216 - val_loss: 0.4317 - val_accuracy: 0.8545 - val_categorical_crossentropy: 0.4317\n",
      "Epoch 48/1500\n",
      "139863/139863 [==============================] - 8s 56us/step - loss: 0.4249 - accuracy: 0.8476 - categorical_crossentropy: 0.4249 - val_loss: 0.4268 - val_accuracy: 0.8579 - val_categorical_crossentropy: 0.4268\n",
      "Epoch 49/1500\n",
      "139863/139863 [==============================] - 10s 72us/step - loss: 0.4232 - accuracy: 0.8483 - categorical_crossentropy: 0.4232 - val_loss: 0.4194 - val_accuracy: 0.8605 - val_categorical_crossentropy: 0.4194\n",
      "Epoch 50/1500\n",
      "139863/139863 [==============================] - 9s 67us/step - loss: 0.4243 - accuracy: 0.8482 - categorical_crossentropy: 0.4243 - val_loss: 0.4221 - val_accuracy: 0.8588 - val_categorical_crossentropy: 0.4221\n",
      "Epoch 51/1500\n",
      "139863/139863 [==============================] - 8s 54us/step - loss: 0.4244 - accuracy: 0.8473 - categorical_crossentropy: 0.4244 - val_loss: 0.4259 - val_accuracy: 0.8564 - val_categorical_crossentropy: 0.4259\n",
      "Epoch 52/1500\n",
      "139863/139863 [==============================] - 14s 103us/step - loss: 0.4215 - accuracy: 0.8487 - categorical_crossentropy: 0.4215 - val_loss: 0.4222 - val_accuracy: 0.8598 - val_categorical_crossentropy: 0.4222\n",
      "Epoch 53/1500\n",
      "139863/139863 [==============================] - 9s 65us/step - loss: 0.4233 - accuracy: 0.8481 - categorical_crossentropy: 0.4233 - val_loss: 0.4280 - val_accuracy: 0.8565 - val_categorical_crossentropy: 0.4280\n",
      "Epoch 54/1500\n",
      "139863/139863 [==============================] - 9s 62us/step - loss: 0.4235 - accuracy: 0.8489 - categorical_crossentropy: 0.4235 - val_loss: 0.4258 - val_accuracy: 0.8584 - val_categorical_crossentropy: 0.4258\n",
      "Epoch 55/1500\n",
      "139863/139863 [==============================] - 9s 67us/step - loss: 0.4210 - accuracy: 0.8495 - categorical_crossentropy: 0.4210 - val_loss: 0.4185 - val_accuracy: 0.8606 - val_categorical_crossentropy: 0.4185\n",
      "Epoch 56/1500\n",
      "139863/139863 [==============================] - 9s 67us/step - loss: 0.4219 - accuracy: 0.8489 - categorical_crossentropy: 0.4219 - val_loss: 0.4215 - val_accuracy: 0.8585 - val_categorical_crossentropy: 0.4215\n",
      "Epoch 57/1500\n",
      "139863/139863 [==============================] - 9s 65us/step - loss: 0.4203 - accuracy: 0.8496 - categorical_crossentropy: 0.4203 - val_loss: 0.4389 - val_accuracy: 0.8521 - val_categorical_crossentropy: 0.4389\n",
      "Epoch 58/1500\n",
      "139863/139863 [==============================] - 11s 80us/step - loss: 0.4185 - accuracy: 0.8499 - categorical_crossentropy: 0.4185 - val_loss: 0.4314 - val_accuracy: 0.8584 - val_categorical_crossentropy: 0.4314\n",
      "Epoch 59/1500\n",
      "139863/139863 [==============================] - 10s 71us/step - loss: 0.4190 - accuracy: 0.8492 - categorical_crossentropy: 0.4190 - val_loss: 0.4334 - val_accuracy: 0.8539 - val_categorical_crossentropy: 0.4334\n",
      "Epoch 60/1500\n",
      "139863/139863 [==============================] - 10s 75us/step - loss: 0.4189 - accuracy: 0.8504 - categorical_crossentropy: 0.4189 - val_loss: 0.4187 - val_accuracy: 0.8610 - val_categorical_crossentropy: 0.4187\n",
      "Epoch 61/1500\n",
      "139863/139863 [==============================] - 10s 68us/step - loss: 0.4194 - accuracy: 0.8497 - categorical_crossentropy: 0.4194 - val_loss: 0.4179 - val_accuracy: 0.8627 - val_categorical_crossentropy: 0.4179\n",
      "Epoch 62/1500\n",
      "139863/139863 [==============================] - 10s 72us/step - loss: 0.4179 - accuracy: 0.8510 - categorical_crossentropy: 0.4179 - val_loss: 0.4204 - val_accuracy: 0.8596 - val_categorical_crossentropy: 0.4204\n",
      "Epoch 63/1500\n",
      "139863/139863 [==============================] - 11s 76us/step - loss: 0.4216 - accuracy: 0.8486 - categorical_crossentropy: 0.4216 - val_loss: 0.4217 - val_accuracy: 0.8617 - val_categorical_crossentropy: 0.4217\n",
      "Epoch 64/1500\n",
      "139863/139863 [==============================] - 9s 67us/step - loss: 0.4197 - accuracy: 0.8495 - categorical_crossentropy: 0.4197 - val_loss: 0.4269 - val_accuracy: 0.8578 - val_categorical_crossentropy: 0.4269\n",
      "Epoch 65/1500\n",
      "139863/139863 [==============================] - 10s 74us/step - loss: 0.4188 - accuracy: 0.8501 - categorical_crossentropy: 0.4188 - val_loss: 0.4220 - val_accuracy: 0.8617 - val_categorical_crossentropy: 0.4220\n",
      "Epoch 66/1500\n",
      "139863/139863 [==============================] - 8s 54us/step - loss: 0.4173 - accuracy: 0.8495 - categorical_crossentropy: 0.4173 - val_loss: 0.4292 - val_accuracy: 0.8572 - val_categorical_crossentropy: 0.4292\n",
      "Epoch 67/1500\n",
      "139863/139863 [==============================] - 5s 38us/step - loss: 0.4156 - accuracy: 0.8518 - categorical_crossentropy: 0.4156 - val_loss: 0.4292 - val_accuracy: 0.8600 - val_categorical_crossentropy: 0.4292\n",
      "Epoch 68/1500\n",
      "139863/139863 [==============================] - 10s 75us/step - loss: 0.4158 - accuracy: 0.8513 - categorical_crossentropy: 0.4158 - val_loss: 0.4299 - val_accuracy: 0.8573 - val_categorical_crossentropy: 0.4299\n",
      "Epoch 69/1500\n",
      "139863/139863 [==============================] - 10s 73us/step - loss: 0.4176 - accuracy: 0.8506 - categorical_crossentropy: 0.4176 - val_loss: 0.4296 - val_accuracy: 0.8608 - val_categorical_crossentropy: 0.4296\n",
      "Epoch 70/1500\n",
      "139863/139863 [==============================] - 12s 86us/step - loss: 0.4166 - accuracy: 0.8508 - categorical_crossentropy: 0.4166 - val_loss: 0.4291 - val_accuracy: 0.8595 - val_categorical_crossentropy: 0.4291\n",
      "Epoch 71/1500\n",
      "139863/139863 [==============================] - 9s 63us/step - loss: 0.4129 - accuracy: 0.8517 - categorical_crossentropy: 0.4129 - val_loss: 0.4355 - val_accuracy: 0.8561 - val_categorical_crossentropy: 0.4355\n",
      "Epoch 72/1500\n",
      "139863/139863 [==============================] - 10s 72us/step - loss: 0.4149 - accuracy: 0.8514 - categorical_crossentropy: 0.4149 - val_loss: 0.4306 - val_accuracy: 0.8567 - val_categorical_crossentropy: 0.4306\n",
      "Epoch 73/1500\n"
     ]
    },
    {
     "name": "stdout",
     "output_type": "stream",
     "text": [
      "139863/139863 [==============================] - 13s 94us/step - loss: 0.4145 - accuracy: 0.8513 - categorical_crossentropy: 0.4145 - val_loss: 0.4526 - val_accuracy: 0.8518 - val_categorical_crossentropy: 0.4526\n",
      "Epoch 74/1500\n",
      "139863/139863 [==============================] - 10s 74us/step - loss: 0.4165 - accuracy: 0.8503 - categorical_crossentropy: 0.4165 - val_loss: 0.4356 - val_accuracy: 0.8580 - val_categorical_crossentropy: 0.4356\n",
      "Epoch 75/1500\n",
      "139863/139863 [==============================] - 13s 90us/step - loss: 0.4162 - accuracy: 0.8505 - categorical_crossentropy: 0.4162 - val_loss: 0.4379 - val_accuracy: 0.8569 - val_categorical_crossentropy: 0.4379\n",
      "Epoch 76/1500\n",
      "139863/139863 [==============================] - 12s 85us/step - loss: 0.4166 - accuracy: 0.8510 - categorical_crossentropy: 0.4166 - val_loss: 0.4269 - val_accuracy: 0.8596 - val_categorical_crossentropy: 0.4269\n",
      "Epoch 77/1500\n",
      "139863/139863 [==============================] - 13s 90us/step - loss: 0.4155 - accuracy: 0.8509 - categorical_crossentropy: 0.4155 - val_loss: 0.4346 - val_accuracy: 0.8554 - val_categorical_crossentropy: 0.4346\n",
      "Epoch 78/1500\n",
      "139863/139863 [==============================] - 11s 78us/step - loss: 0.4143 - accuracy: 0.8508 - categorical_crossentropy: 0.4143 - val_loss: 0.4329 - val_accuracy: 0.8572 - val_categorical_crossentropy: 0.4329\n",
      "Epoch 79/1500\n",
      "139863/139863 [==============================] - 5s 33us/step - loss: 0.4148 - accuracy: 0.8521 - categorical_crossentropy: 0.4148 - val_loss: 0.4367 - val_accuracy: 0.8577 - val_categorical_crossentropy: 0.4367\n",
      "Epoch 00079: early stopping\n",
      "59942/59942 [==============================] - 3s 46us/step\n"
     ]
    },
    {
     "data": {
      "text/plain": [
       "[0.43668434124984745, 0.85771244764328, 0.43668439984321594]"
      ]
     },
     "execution_count": 45,
     "metadata": {},
     "output_type": "execute_result"
    }
   ],
   "source": [
    "from keras.models import Sequential\n",
    "from keras.layers import Dense, Flatten, Dropout\n",
    "from keras.layers import BatchNormalization\n",
    "\n",
    "model = Sequential()\n",
    "model.add(BatchNormalization())\n",
    "\n",
    "model.add(Dense(64, activation='relu'))\n",
    "model.add(Dense(128, activation='relu'))\n",
    "model.add(Dense(64, activation='relu'))\n",
    "\n",
    "model.add(Dense(19, activation='softmax'))\n",
    "\n",
    "from keras.losses import categorical_crossentropy\n",
    "from keras.optimizers import Adam\n",
    "from keras.callbacks import EarlyStopping\n",
    "from keras.callbacks import ModelCheckpoint\n",
    "\n",
    "## 얼리스타핑\n",
    "es = EarlyStopping(monitor='val_loss', mode='min', verbose=1, patience=50)\n",
    "\n",
    "##최적모델 기억\n",
    "mc = ModelCheckpoint('best_model.h5', monitor='val_loss', mode='min', save_best_only=True)\n",
    "\n",
    "model.compile(loss='categorical_crossentropy',\n",
    "             optimizer=Adam(0.001), metrics=['accuracy','categorical_crossentropy'])\n",
    "\n",
    "history=model.fit(X_train, y_train, validation_data=(X_test, y_test)  ,batch_size=100, epochs=1500, verbose=1,\n",
    "                 callbacks=[es, mc])\n",
    "### validation_data를 쓰면 test 데이터가 따로있을때 직접 넣을 수 있다.\n",
    "model.evaluate(X_test, y_test)"
   ]
  },
  {
   "cell_type": "code",
   "execution_count": 46,
   "metadata": {
    "ExecuteTime": {
     "end_time": "2020-02-17T06:44:14.260000Z",
     "start_time": "2020-02-17T06:44:13.918000Z"
    }
   },
   "outputs": [
    {
     "data": {
      "image/png": "[encoded data removed]",
      "text/plain": [
       "<Figure size 432x288 with 2 Axes>"
      ]
     },
     "metadata": {
      "needs_background": "light"
     },
     "output_type": "display_data"
    }
   ],
   "source": [
    "fig, loss_ax = plt.subplots()\n",
    "acc_ax = loss_ax.twinx()\n",
    "\n",
    "loss_ax.plot(history.history['loss'], 'y', label='train loss')\n",
    "loss_ax.plot(history.history['val_loss'], 'r', label='val loss')\n",
    "loss_ax.set_xlabel('epoch')\n",
    "loss_ax.set_ylabel('loss')\n",
    "loss_ax.legend(loc='upper left')\n",
    "\n",
    "acc_ax.plot(history.history['categorical_crossentropy'], 'b', label='train crossentropy')\n",
    "acc_ax.plot(history.history['val_categorical_crossentropy'], 'g', label='val crossentropy')\n",
    "acc_ax.set_ylabel('categorical_crossentropy')\n",
    "acc_ax.legend(loc='upper right')\n",
    "\n",
    "plt.show()"
   ]
  },
  {
   "cell_type": "code",
   "execution_count": null,
   "metadata": {},
   "outputs": [],
   "source": [
    "real_y_pred = model.predict(X_test)\n",
    "submission = pd.DataFrame(data=real_y_pred, columns=sample_submission_df.columns, index=sample_submission_df.index)\n",
    "submission.to_csv(f'submission_keras_outlier_add_only({log_loss(y_test,train_y_pred,labels= list(set(y_test)))}).csv', index=True)"
   ]
  },
  {
   "cell_type": "code",
   "execution_count": null,
   "metadata": {},
   "outputs": [],
   "source": []
  }
 ],
 "metadata": {
  "kernelspec": {
   "display_name": "Python 3",
   "language": "python",
   "name": "python3"
  },
  "language_info": {
   "codemirror_mode": {
    "name": "ipython",
    "version": 3
   },
   "file_extension": ".py",
   "mimetype": "text/x-python",
   "name": "python",
   "nbconvert_exporter": "python",
   "pygments_lexer": "ipython3",
   "version": "3.6.9"
  },
  "varInspector": {
   "cols": {
    "lenName": 16,
    "lenType": 16,
    "lenVar": 40
   },
   "kernels_config": {
    "python": {
     "delete_cmd_postfix": "",
     "delete_cmd_prefix": "del ",
     "library": "var_list.py",
     "varRefreshCmd": "print(var_dic_list())"
    },
    "r": {
     "delete_cmd_postfix": ") ",
     "delete_cmd_prefix": "rm(",
     "library": "var_list.r",
     "varRefreshCmd": "cat(var_dic_list()) "
    }
   },
   "types_to_exclude": [
    "module",
    "function",
    "builtin_function_or_method",
    "instance",
    "_Feature"
   ],
   "window_display": false
  }
 },
 "nbformat": 4,
 "nbformat_minor": 2
}
