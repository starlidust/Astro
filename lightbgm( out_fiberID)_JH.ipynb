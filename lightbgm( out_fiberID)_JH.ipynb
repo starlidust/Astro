{
 "cells": [
  {
   "cell_type": "markdown",
   "metadata": {},
   "source": [
    "# out_fiberID\n",
    "* 기존변수 + u-g,g-r,r-i,i-z만 추가변수로 사용\n",
    "* 각 mag에서 max인 filter 변수추가\n",
    "* fiber_ID를 제외하고 진행해봄\n",
    "* 제출결과 : 0.3793087274 \n",
    "-> fiberID를 제외해서 0.02상승"
   ]
  },
  {
   "cell_type": "code",
   "execution_count": 1,
   "metadata": {
    "ExecuteTime": {
     "end_time": "2020-02-18T07:27:24.294535Z",
     "start_time": "2020-02-18T07:27:22.979560Z"
    }
   },
   "outputs": [
    {
     "name": "stderr",
     "output_type": "stream",
     "text": [
      "C:\\Users\\starl\\Anaconda3\\lib\\site-packages\\sklearn\\ensemble\\weight_boosting.py:29: DeprecationWarning: numpy.core.umath_tests is an internal NumPy module and should not be imported. It will be removed in a future NumPy release.\n",
      "  from numpy.core.umath_tests import inner1d\n"
     ]
    }
   ],
   "source": [
    "import pandas as pd\n",
    "import numpy as np\n",
    "import matplotlib.pyplot as plt\n",
    "import seaborn as sns\n",
    "\n",
    "from sklearn.ensemble import RandomForestClassifier\n",
    "from sklearn.model_selection import train_test_split\n",
    "from sklearn.metrics import confusion_matrix\n",
    "from sklearn.metrics import log_loss\n",
    "import lightgbm as lgb"
   ]
  },
  {
   "cell_type": "code",
   "execution_count": 2,
   "metadata": {
    "ExecuteTime": {
     "end_time": "2020-02-18T07:27:24.378534Z",
     "start_time": "2020-02-18T07:27:24.376534Z"
    }
   },
   "outputs": [],
   "source": [
    "# from google.colab import drive\n",
    "# drive.mount('/content/drive')"
   ]
  },
  {
   "cell_type": "code",
   "execution_count": 3,
   "metadata": {
    "ExecuteTime": {
     "end_time": "2020-02-18T07:27:24.786521Z",
     "start_time": "2020-02-18T07:27:24.784522Z"
    }
   },
   "outputs": [],
   "source": [
    "# #colab용\n",
    "# import os\n",
    "# os.chdir('/content/drive/My Drive/Colab Notebooks/Dacon/천체관측/')"
   ]
  },
  {
   "cell_type": "code",
   "execution_count": 4,
   "metadata": {
    "ExecuteTime": {
     "end_time": "2020-02-18T07:27:26.612708Z",
     "start_time": "2020-02-18T07:27:25.135510Z"
    }
   },
   "outputs": [],
   "source": [
    "# path = \"/content/drive/My Drive/Colab Notebooks/Dacon/천체관측/data/\" #colab\n",
    "path = \"./data/\" #local\n",
    "train_df = pd.read_csv(path+'train.csv',index_col=0)\n",
    "test_df = pd.read_csv(path+'test.csv',index_col=0)\n",
    "sample_submission_df = pd.read_csv(path+'sample_submission.csv',index_col=0)\n",
    "pd.options.display.max_columns = 30"
   ]
  },
  {
   "cell_type": "markdown",
   "metadata": {},
   "source": [
    "## DATA Setting"
   ]
  },
  {
   "cell_type": "code",
   "execution_count": 5,
   "metadata": {
    "ExecuteTime": {
     "end_time": "2020-02-18T07:27:26.838702Z",
     "start_time": "2020-02-18T07:27:26.744705Z"
    }
   },
   "outputs": [],
   "source": [
    "column_number = {}\n",
    "number_columns = {}\n",
    "for i, column in enumerate(sample_submission_df.columns):\n",
    "    column_number[column] = i\n",
    "    number_columns[i] = column\n",
    "    \n",
    "    \n",
    "def to_number(x, dic):\n",
    "    return dic[x]\n",
    "\n",
    "train_df['type_num'] = train_df['type'].apply(lambda x: to_number(x, column_number))\n"
   ]
  },
  {
   "cell_type": "code",
   "execution_count": 6,
   "metadata": {
    "ExecuteTime": {
     "end_time": "2020-02-18T07:27:26.991698Z",
     "start_time": "2020-02-18T07:27:26.981698Z"
    }
   },
   "outputs": [],
   "source": [
    "def add_minus_feature_all(data,test = False):\n",
    "    '''\n",
    "    combination으로 모든 변수들의 조합에 대해서 컬럼생성 \n",
    "    각 mag에서 가장 높은값의 filter를 받아오는 \"~~mag_MAX\"생성\n",
    "    결과 64개로 증가\n",
    "    '''\n",
    "    from itertools import combinations\n",
    "    n = 0\n",
    "    for count in range(5,21,5):\n",
    "        s = 2\n",
    "        if test == True :\n",
    "            s = 1\n",
    "        selected = data.columns[s:].values[n:count]\n",
    "        mag = str.split(selected[0],'_')[0]\n",
    "        data[mag+\"_MAX\"] = data[selected].apply(lambda x : str.split(np.argmax(x),'_')[1],axis = 1)\n",
    "        for combi in list(combinations(selected,2)):\n",
    "            name_1st = str.split(combi[0],'_')[1]\n",
    "            name_2nd = str.split(combi[1],'_')[1]\n",
    "            data[mag+\"_\"+name_1st+\"-\"+name_2nd] = data[combi[0]]-data[combi[1]]\n",
    "        n=count\n",
    "    return data"
   ]
  },
  {
   "cell_type": "code",
   "execution_count": 7,
   "metadata": {
    "ExecuteTime": {
     "end_time": "2020-02-18T07:27:27.149693Z",
     "start_time": "2020-02-18T07:27:27.141695Z"
    }
   },
   "outputs": [],
   "source": [
    "def add_minus_feature(data,test = False):\n",
    "    '''\n",
    "    근접변수에 대해서만 컬럼생성 ex) 'fiberMag_u-g', 'fiberMag_g-r', 'fiberMag_r-i', 'fiberMag_i-z'\n",
    "    각 mag에서 가장 높은값의 filter를 받아오는 \"~~mag_MAX\"생성\n",
    "    결과 38개로 증가 \n",
    "    '''\n",
    "    from itertools import combinations\n",
    "    n = 0\n",
    "    m = 0\n",
    "    for count in range(5,21,5):\n",
    "        s = 2\n",
    "        if test == True :\n",
    "            s = 1\n",
    "        selected = data.columns[s:].values[n:count]\n",
    "        mag = str.split(selected[0],'_')[0]\n",
    "        data[mag+\"_MAX\"] = data[selected].apply(lambda x : str.split(np.argmax(x),'_')[1],axis = 1)\n",
    "        for i in range(0,len(selected)):        \n",
    "            if i>0: \n",
    "                name_1st = str.split(m,'_')[1]\n",
    "                name_2nd = str.split(selected[i],'_')[1]\n",
    "                data[mag+\"_\"+name_1st+\"-\"+name_2nd] = data[m]-data[selected[i]]\n",
    "            m = selected[i]    \n",
    "        n=count\n",
    "    return data"
   ]
  },
  {
   "cell_type": "code",
   "execution_count": 13,
   "metadata": {
    "ExecuteTime": {
     "end_time": "2020-02-18T07:37:55.623622Z",
     "start_time": "2020-02-18T07:36:53.520525Z"
    }
   },
   "outputs": [
    {
     "name": "stderr",
     "output_type": "stream",
     "text": [
      "C:\\Users\\starl\\Anaconda3\\lib\\site-packages\\numpy\\core\\fromnumeric.py:61: FutureWarning: 'argmax' is deprecated, use 'idxmax' instead. The behavior of 'argmax'\n",
      "will be corrected to return the positional maximum in the future.\n",
      "Use 'series.values.argmax' to get the position of the maximum now.\n",
      "  return bound(*args, **kwds)\n"
     ]
    }
   ],
   "source": [
    "train_df = add_minus_feature_all(train_df)\n",
    "test_df = add_minus_feature_all(test_df,True)"
   ]
  },
  {
   "cell_type": "code",
   "execution_count": 14,
   "metadata": {
    "ExecuteTime": {
     "end_time": "2020-02-18T07:37:56.049609Z",
     "start_time": "2020-02-18T07:37:56.043610Z"
    }
   },
   "outputs": [
    {
     "data": {
      "text/plain": [
       "((199991, 67), (10009, 65))"
      ]
     },
     "execution_count": 14,
     "metadata": {},
     "output_type": "execute_result"
    }
   ],
   "source": [
    "train_df.shape,test_df.shape"
   ]
  },
  {
   "cell_type": "code",
   "execution_count": 15,
   "metadata": {
    "ExecuteTime": {
     "end_time": "2020-02-18T07:37:56.398599Z",
     "start_time": "2020-02-18T07:37:56.392599Z"
    }
   },
   "outputs": [
    {
     "data": {
      "text/plain": [
       "Index(['type', 'fiberID', 'psfMag_u', 'psfMag_g', 'psfMag_r', 'psfMag_i',\n",
       "       'psfMag_z', 'fiberMag_u', 'fiberMag_g', 'fiberMag_r', 'fiberMag_i',\n",
       "       'fiberMag_z', 'petroMag_u', 'petroMag_g', 'petroMag_r', 'petroMag_i',\n",
       "       'petroMag_z', 'modelMag_u', 'modelMag_g', 'modelMag_r', 'modelMag_i',\n",
       "       'modelMag_z', 'type_num', 'psfMag_MAX', 'psfMag_u-g', 'psfMag_g-r',\n",
       "       'psfMag_r-i', 'psfMag_i-z', 'fiberMag_MAX', 'fiberMag_u-g',\n",
       "       'fiberMag_g-r', 'fiberMag_r-i', 'fiberMag_i-z', 'petroMag_MAX',\n",
       "       'petroMag_u-g', 'petroMag_g-r', 'petroMag_r-i', 'petroMag_i-z',\n",
       "       'modelMag_MAX', 'modelMag_u-g', 'modelMag_g-r', 'modelMag_r-i',\n",
       "       'modelMag_i-z', 'psfMag_u-r', 'psfMag_u-i', 'psfMag_u-z', 'psfMag_g-i',\n",
       "       'psfMag_g-z', 'psfMag_r-z', 'fiberMag_u-r', 'fiberMag_u-i',\n",
       "       'fiberMag_u-z', 'fiberMag_g-i', 'fiberMag_g-z', 'fiberMag_r-z',\n",
       "       'petroMag_u-r', 'petroMag_u-i', 'petroMag_u-z', 'petroMag_g-i',\n",
       "       'petroMag_g-z', 'petroMag_r-z', 'modelMag_u-r', 'modelMag_u-i',\n",
       "       'modelMag_u-z', 'modelMag_g-i', 'modelMag_g-z', 'modelMag_r-z'],\n",
       "      dtype='object')"
      ]
     },
     "execution_count": 15,
     "metadata": {},
     "output_type": "execute_result"
    }
   ],
   "source": [
    "train_df.columns"
   ]
  },
  {
   "cell_type": "code",
   "execution_count": 16,
   "metadata": {
    "ExecuteTime": {
     "end_time": "2020-02-18T07:37:56.732589Z",
     "start_time": "2020-02-18T07:37:56.728588Z"
    }
   },
   "outputs": [],
   "source": [
    "def label_encode(data):\n",
    "    '''\n",
    "    각 mag에서 가장 높은값의 filter를 labelencoding \n",
    "    '''\n",
    "    from sklearn.preprocessing import LabelEncoder\n",
    "    le = LabelEncoder()\n",
    "    taget_cols = ['psfMag_MAX','fiberMag_MAX','petroMag_MAX','modelMag_MAX']\n",
    "    for col in taget_cols:\n",
    "        data[col] = le.fit_transform(data[col])\n",
    "    return data"
   ]
  },
  {
   "cell_type": "code",
   "execution_count": 17,
   "metadata": {
    "ExecuteTime": {
     "end_time": "2020-02-18T07:37:57.514564Z",
     "start_time": "2020-02-18T07:37:57.088578Z"
    }
   },
   "outputs": [],
   "source": [
    "train_df = label_encode(train_df)\n",
    "test_df = label_encode(test_df)"
   ]
  },
  {
   "cell_type": "code",
   "execution_count": 19,
   "metadata": {
    "ExecuteTime": {
     "end_time": "2020-02-18T07:40:25.319043Z",
     "start_time": "2020-02-18T07:40:25.240046Z"
    }
   },
   "outputs": [],
   "source": [
    "train_X = train_df.drop(columns=['type', 'type_num','fiberID'], axis=1)\n",
    "train_y = train_df['type_num']\n",
    "test_X = test_df.drop(columns = ['fiberID'])"
   ]
  },
  {
   "cell_type": "code",
   "execution_count": 20,
   "metadata": {
    "ExecuteTime": {
     "end_time": "2020-02-18T07:40:26.300014Z",
     "start_time": "2020-02-18T07:40:26.073021Z"
    }
   },
   "outputs": [],
   "source": [
    "X_train, X_test, y_train, y_test = train_test_split(train_X, train_y, test_size=0.3, random_state=42,stratify = train_y)"
   ]
  },
  {
   "cell_type": "code",
   "execution_count": 46,
   "metadata": {
    "ExecuteTime": {
     "end_time": "2020-02-18T09:47:23.467481Z",
     "start_time": "2020-02-18T09:47:23.456482Z"
    }
   },
   "outputs": [
    {
     "data": {
      "text/plain": [
       "8     34776\n",
       "6     26143\n",
       "18    15232\n",
       "15    10241\n",
       "4     10232\n",
       "10     9625\n",
       "5      9450\n",
       "13     4992\n",
       "11     4606\n",
       "1      4554\n",
       "7      3258\n",
       "14     2280\n",
       "3      1793\n",
       "0      1512\n",
       "16      808\n",
       "2       350\n",
       "9        89\n",
       "17       43\n",
       "12        9\n",
       "Name: type_num, dtype: int64"
      ]
     },
     "execution_count": 46,
     "metadata": {},
     "output_type": "execute_result"
    }
   ],
   "source": [
    "y_train.value_counts()"
   ]
  },
  {
   "cell_type": "code",
   "execution_count": 45,
   "metadata": {
    "ExecuteTime": {
     "end_time": "2020-02-18T09:47:22.590508Z",
     "start_time": "2020-02-18T09:47:22.574509Z"
    }
   },
   "outputs": [
    {
     "data": {
      "text/plain": [
       "8     14904\n",
       "6     11204\n",
       "18     6528\n",
       "15     4389\n",
       "4      4386\n",
       "10     4125\n",
       "5      4050\n",
       "13     2140\n",
       "11     1974\n",
       "1      1952\n",
       "7      1396\n",
       "14      977\n",
       "3       769\n",
       "0       648\n",
       "16      346\n",
       "2       150\n",
       "9        38\n",
       "17       18\n",
       "12        4\n",
       "Name: type_num, dtype: int64"
      ]
     },
     "execution_count": 45,
     "metadata": {},
     "output_type": "execute_result"
    }
   ],
   "source": [
    "y_test.value_counts()"
   ]
  },
  {
   "cell_type": "code",
   "execution_count": 21,
   "metadata": {
    "ExecuteTime": {
     "end_time": "2020-02-18T07:40:32.631821Z",
     "start_time": "2020-02-18T07:40:32.629821Z"
    }
   },
   "outputs": [],
   "source": [
    "train_ds = lgb.Dataset(X_train, label = y_train)\n",
    "test_ds = lgb.Dataset(X_test, label = y_test) "
   ]
  },
  {
   "cell_type": "code",
   "execution_count": 22,
   "metadata": {
    "ExecuteTime": {
     "end_time": "2020-02-18T07:40:33.485794Z",
     "start_time": "2020-02-18T07:40:33.479794Z"
    }
   },
   "outputs": [],
   "source": [
    "params = {\n",
    "    'boosting_type': 'gbdt',\n",
    "    'objective': 'multiclass',\n",
    "    'num_class': train_y.nunique(),\n",
    "    'metric': {'multi_logloss','multi_logloss'},\n",
    "    'num_leaves': 25,\n",
    "    'learning_rate': 0.005,\n",
    "    'max_depth' : 12,\n",
    "    'random_state' : 42\n",
    "}"
   ]
  },
  {
   "cell_type": "markdown",
   "metadata": {},
   "source": [
    "## Modeling"
   ]
  },
  {
   "cell_type": "code",
   "execution_count": 23,
   "metadata": {
    "ExecuteTime": {
     "end_time": "2020-02-18T08:27:37.781257Z",
     "start_time": "2020-02-18T07:40:35.127743Z"
    }
   },
   "outputs": [
    {
     "name": "stdout",
     "output_type": "stream",
     "text": [
      "Training until validation scores don't improve for 100 rounds\n",
      "[100]\tTrain's multi_logloss: 1.28915\tTest's multi_logloss: 1.30665\n",
      "[200]\tTrain's multi_logloss: 0.90698\tTest's multi_logloss: 0.931746\n",
      "[300]\tTrain's multi_logloss: 0.696606\tTest's multi_logloss: 0.726893\n",
      "[400]\tTrain's multi_logloss: 0.570231\tTest's multi_logloss: 0.604999\n",
      "[500]\tTrain's multi_logloss: 0.490545\tTest's multi_logloss: 0.529431\n",
      "[600]\tTrain's multi_logloss: 0.438927\tTest's multi_logloss: 0.481765\n",
      "[700]\tTrain's multi_logloss: 0.403848\tTest's multi_logloss: 0.450448\n",
      "[800]\tTrain's multi_logloss: 0.378803\tTest's multi_logloss: 0.42904\n",
      "[900]\tTrain's multi_logloss: 0.360637\tTest's multi_logloss: 0.414541\n",
      "[1000]\tTrain's multi_logloss: 0.3465\tTest's multi_logloss: 0.404097\n",
      "[1100]\tTrain's multi_logloss: 0.335258\tTest's multi_logloss: 0.396553\n",
      "[1200]\tTrain's multi_logloss: 0.325937\tTest's multi_logloss: 0.391005\n",
      "[1300]\tTrain's multi_logloss: 0.318143\tTest's multi_logloss: 0.386845\n",
      "[1400]\tTrain's multi_logloss: 0.311355\tTest's multi_logloss: 0.383569\n",
      "[1500]\tTrain's multi_logloss: 0.305413\tTest's multi_logloss: 0.381053\n",
      "[1600]\tTrain's multi_logloss: 0.300115\tTest's multi_logloss: 0.379029\n",
      "[1700]\tTrain's multi_logloss: 0.295297\tTest's multi_logloss: 0.377504\n",
      "[1800]\tTrain's multi_logloss: 0.290877\tTest's multi_logloss: 0.376328\n",
      "[1900]\tTrain's multi_logloss: 0.286726\tTest's multi_logloss: 0.375364\n",
      "[2000]\tTrain's multi_logloss: 0.282788\tTest's multi_logloss: 0.374504\n",
      "[2100]\tTrain's multi_logloss: 0.279084\tTest's multi_logloss: 0.373832\n",
      "[2200]\tTrain's multi_logloss: 0.275508\tTest's multi_logloss: 0.373222\n",
      "[2300]\tTrain's multi_logloss: 0.272099\tTest's multi_logloss: 0.372757\n",
      "[2400]\tTrain's multi_logloss: 0.268858\tTest's multi_logloss: 0.372379\n",
      "[2500]\tTrain's multi_logloss: 0.265699\tTest's multi_logloss: 0.372088\n",
      "[2600]\tTrain's multi_logloss: 0.262583\tTest's multi_logloss: 0.371859\n",
      "[2700]\tTrain's multi_logloss: 0.259513\tTest's multi_logloss: 0.371651\n",
      "[2800]\tTrain's multi_logloss: 0.25657\tTest's multi_logloss: 0.371492\n",
      "[2900]\tTrain's multi_logloss: 0.253704\tTest's multi_logloss: 0.371348\n",
      "[3000]\tTrain's multi_logloss: 0.250907\tTest's multi_logloss: 0.371209\n",
      "[3100]\tTrain's multi_logloss: 0.248158\tTest's multi_logloss: 0.371056\n",
      "[3200]\tTrain's multi_logloss: 0.245474\tTest's multi_logloss: 0.370944\n",
      "[3300]\tTrain's multi_logloss: 0.242845\tTest's multi_logloss: 0.370854\n",
      "[3400]\tTrain's multi_logloss: 0.240306\tTest's multi_logloss: 0.37082\n",
      "Early stopping, best iteration is:\n",
      "[3391]\tTrain's multi_logloss: 0.240535\tTest's multi_logloss: 0.370817\n"
     ]
    }
   ],
   "source": [
    "evaluation_results = {}\n",
    "lgmb_model = lgb.train(params, train_ds,num_boost_round= 20000, \n",
    "                       valid_sets = [train_ds,test_ds], valid_names=['Train', 'Test'],\n",
    "                       evals_result=evaluation_results,\n",
    "                       verbose_eval=100, early_stopping_rounds=100)"
   ]
  },
  {
   "cell_type": "code",
   "execution_count": 24,
   "metadata": {
    "ExecuteTime": {
     "end_time": "2020-02-18T08:27:38.967221Z",
     "start_time": "2020-02-18T08:27:38.701229Z"
    }
   },
   "outputs": [
    {
     "data": {
      "image/png": "[encoded data removed]",
      "text/plain": [
       "<Figure size 1080x288 with 2 Axes>"
      ]
     },
     "metadata": {},
     "output_type": "display_data"
    }
   ],
   "source": [
    "fig, axs = plt.subplots(1, 2, figsize=[15, 4])\n",
    "\n",
    "# Plot the log loss during training\n",
    "axs[0].plot(evaluation_results['Train']['multi_logloss'], label='Train')\n",
    "axs[0].plot(evaluation_results['Test']['multi_logloss'], label='Test')\n",
    "axs[0].set_ylabel('Log loss')\n",
    "axs[0].set_xlabel('Boosting round')\n",
    "axs[0].set_title('Training performance')\n",
    "axs[0].legend()\n",
    "\n",
    "# Plot feature importance\n",
    "importances = pd.DataFrame({'features': lgmb_model.feature_name(), \n",
    "                            'importance': lgmb_model.feature_importance()}).sort_values('importance', ascending=False).head(10)\n",
    "axs[1].bar(x=np.arange(len(importances)), height=importances['importance'])\n",
    "axs[1].set_xticks(np.arange(len(importances)))\n",
    "axs[1].set_xticklabels(importances['features'])\n",
    "axs[1].set_ylabel('Feature importance (# times used to split)')\n",
    "axs[1].set_title('Feature importance')\n",
    "plt.xticks(rotation=45)\n",
    "\n",
    "plt.show()"
   ]
  },
  {
   "cell_type": "code",
   "execution_count": 25,
   "metadata": {
    "ExecuteTime": {
     "end_time": "2020-02-18T08:39:38.831177Z",
     "start_time": "2020-02-18T08:27:39.781196Z"
    }
   },
   "outputs": [],
   "source": [
    "train_y_pred = lgmb_model.predict(X_test)\n",
    "real_y_pred = lgmb_model.predict(test_X)"
   ]
  },
  {
   "cell_type": "code",
   "execution_count": 26,
   "metadata": {
    "ExecuteTime": {
     "end_time": "2020-02-18T08:39:39.773148Z",
     "start_time": "2020-02-18T08:39:39.768148Z"
    }
   },
   "outputs": [
    {
     "data": {
      "text/plain": [
       "(59998, 19)"
      ]
     },
     "execution_count": 26,
     "metadata": {},
     "output_type": "execute_result"
    }
   ],
   "source": [
    "train_y_pred.shape"
   ]
  },
  {
   "cell_type": "code",
   "execution_count": 27,
   "metadata": {
    "ExecuteTime": {
     "end_time": "2020-02-18T08:39:40.699119Z",
     "start_time": "2020-02-18T08:39:40.617122Z"
    },
    "scrolled": true
   },
   "outputs": [
    {
     "data": {
      "text/plain": [
       "0.37081673715894764"
      ]
     },
     "execution_count": 27,
     "metadata": {},
     "output_type": "execute_result"
    }
   ],
   "source": [
    "#log_loss\n",
    "log_loss(y_test,train_y_pred,labels= list(set(y_test)))"
   ]
  },
  {
   "cell_type": "code",
   "execution_count": 28,
   "metadata": {
    "ExecuteTime": {
     "end_time": "2020-02-18T08:39:41.525096Z",
     "start_time": "2020-02-18T08:39:41.509095Z"
    }
   },
   "outputs": [
    {
     "data": {
      "text/plain": [
       "array([24471, 31983, 41756, 35005, 29103, 26341, 26245, 28814, 31602,\n",
       "       24024, 25719, 18686, 23223, 29347, 23489, 26089, 22207, 20816,\n",
       "       21506, 27953,   808, 31642, 37703, 34807, 33036,  1054, 32936,\n",
       "       38854, 31029, 35357,  1800, 33661, 33002, 28831, 31651,   865,\n",
       "       31335, 36088, 37984, 32688, 23894, 17370, 13342, 21292, 17036,\n",
       "       19562, 21402, 15513, 16121, 21140, 16636, 26308, 20419, 19046,\n",
       "       19354, 18806, 16994, 18184, 21542, 17345, 14842, 21453, 15014,\n",
       "       23116])"
      ]
     },
     "execution_count": 28,
     "metadata": {},
     "output_type": "execute_result"
    }
   ],
   "source": [
    "lgmb_model.feature_importance()"
   ]
  },
  {
   "cell_type": "markdown",
   "metadata": {},
   "source": [
    "### feature_importance"
   ]
  },
  {
   "cell_type": "code",
   "execution_count": 31,
   "metadata": {
    "ExecuteTime": {
     "end_time": "2020-02-18T09:03:50.812083Z",
     "start_time": "2020-02-18T09:03:50.791085Z"
    }
   },
   "outputs": [
    {
     "data": {
      "text/html": [
       "<div>\n",
       "<style scoped>\n",
       "    .dataframe tbody tr th:only-of-type {\n",
       "        vertical-align: middle;\n",
       "    }\n",
       "\n",
       "    .dataframe tbody tr th {\n",
       "        vertical-align: top;\n",
       "    }\n",
       "\n",
       "    .dataframe thead th {\n",
       "        text-align: right;\n",
       "    }\n",
       "</style>\n",
       "<table border=\"1\" class=\"dataframe\">\n",
       "  <thead>\n",
       "    <tr style=\"text-align: right;\">\n",
       "      <th></th>\n",
       "      <th>importance</th>\n",
       "    </tr>\n",
       "  </thead>\n",
       "  <tbody>\n",
       "    <tr>\n",
       "      <th>psfMag_r</th>\n",
       "      <td>41756</td>\n",
       "    </tr>\n",
       "    <tr>\n",
       "      <th>fiberMag_g-r</th>\n",
       "      <td>38854</td>\n",
       "    </tr>\n",
       "    <tr>\n",
       "      <th>modelMag_r-i</th>\n",
       "      <td>37984</td>\n",
       "    </tr>\n",
       "    <tr>\n",
       "      <th>psfMag_g-r</th>\n",
       "      <td>37703</td>\n",
       "    </tr>\n",
       "    <tr>\n",
       "      <th>modelMag_g-r</th>\n",
       "      <td>36088</td>\n",
       "    </tr>\n",
       "    <tr>\n",
       "      <th>fiberMag_i-z</th>\n",
       "      <td>35357</td>\n",
       "    </tr>\n",
       "    <tr>\n",
       "      <th>psfMag_i</th>\n",
       "      <td>35005</td>\n",
       "    </tr>\n",
       "    <tr>\n",
       "      <th>psfMag_r-i</th>\n",
       "      <td>34807</td>\n",
       "    </tr>\n",
       "    <tr>\n",
       "      <th>petroMag_u-g</th>\n",
       "      <td>33661</td>\n",
       "    </tr>\n",
       "    <tr>\n",
       "      <th>psfMag_i-z</th>\n",
       "      <td>33036</td>\n",
       "    </tr>\n",
       "  </tbody>\n",
       "</table>\n",
       "</div>"
      ],
      "text/plain": [
       "              importance\n",
       "psfMag_r           41756\n",
       "fiberMag_g-r       38854\n",
       "modelMag_r-i       37984\n",
       "psfMag_g-r         37703\n",
       "modelMag_g-r       36088\n",
       "fiberMag_i-z       35357\n",
       "psfMag_i           35005\n",
       "psfMag_r-i         34807\n",
       "petroMag_u-g       33661\n",
       "psfMag_i-z         33036"
      ]
     },
     "execution_count": 31,
     "metadata": {},
     "output_type": "execute_result"
    }
   ],
   "source": [
    "pi_df = pd.DataFrame(lgmb_model.feature_importance(), index= train_X.columns,columns= ['importance']).sort_values('importance',ascending = False)\n",
    "pi_df.head(10)"
   ]
  },
  {
   "cell_type": "markdown",
   "metadata": {},
   "source": [
    "### 예측결과에 대해\n",
    "* 12번이 모두 6번으로 몰림\n",
    "중간예측 : 0(STAR_WHITE_DWARF-2160),2(STAR_BROWN_DWARF-500),7(SERENDIPITY_DISTANT-4654),11(ROSAT_D-6580)\n",
    "망한예측 : 12(STAR_PN-13),17(SERENDIPITY_MANUAL-61)"
   ]
  },
  {
   "cell_type": "code",
   "execution_count": 32,
   "metadata": {
    "ExecuteTime": {
     "end_time": "2020-02-18T09:03:56.126923Z",
     "start_time": "2020-02-18T09:03:55.959928Z"
    }
   },
   "outputs": [],
   "source": [
    "cm_result = pd.DataFrame(confusion_matrix(y_test,np.argmax(train_y_pred,axis = 1)))"
   ]
  },
  {
   "cell_type": "code",
   "execution_count": 36,
   "metadata": {
    "ExecuteTime": {
     "end_time": "2020-02-18T09:04:40.894021Z",
     "start_time": "2020-02-18T09:04:40.890021Z"
    }
   },
   "outputs": [
    {
     "data": {
      "text/plain": [
       "{0: 'STAR_WHITE_DWARF',\n",
       " 1: 'STAR_CATY_VAR',\n",
       " 2: 'STAR_BROWN_DWARF',\n",
       " 3: 'SERENDIPITY_RED',\n",
       " 4: 'REDDEN_STD',\n",
       " 5: 'STAR_BHB',\n",
       " 6: 'GALAXY',\n",
       " 7: 'SERENDIPITY_DISTANT',\n",
       " 8: 'QSO',\n",
       " 9: 'SKY',\n",
       " 10: 'STAR_RED_DWARF',\n",
       " 11: 'ROSAT_D',\n",
       " 12: 'STAR_PN',\n",
       " 13: 'SERENDIPITY_FIRST',\n",
       " 14: 'STAR_CARBON',\n",
       " 15: 'SPECTROPHOTO_STD',\n",
       " 16: 'STAR_SUB_DWARF',\n",
       " 17: 'SERENDIPITY_MANUAL',\n",
       " 18: 'SERENDIPITY_BLUE'}"
      ]
     },
     "execution_count": 36,
     "metadata": {},
     "output_type": "execute_result"
    }
   ],
   "source": [
    "number_columns"
   ]
  },
  {
   "cell_type": "code",
   "execution_count": 37,
   "metadata": {
    "ExecuteTime": {
     "end_time": "2020-02-18T09:06:15.429991Z",
     "start_time": "2020-02-18T09:06:15.400993Z"
    }
   },
   "outputs": [
    {
     "data": {
      "text/plain": [
       "QSO                    49680\n",
       "GALAXY                 37347\n",
       "SERENDIPITY_BLUE       21760\n",
       "SPECTROPHOTO_STD       14630\n",
       "REDDEN_STD             14618\n",
       "STAR_RED_DWARF         13750\n",
       "STAR_BHB               13500\n",
       "SERENDIPITY_FIRST       7132\n",
       "ROSAT_D                 6580\n",
       "STAR_CATY_VAR           6506\n",
       "SERENDIPITY_DISTANT     4654\n",
       "STAR_CARBON             3257\n",
       "SERENDIPITY_RED         2562\n",
       "STAR_WHITE_DWARF        2160\n",
       "STAR_SUB_DWARF          1154\n",
       "STAR_BROWN_DWARF         500\n",
       "SKY                      127\n",
       "SERENDIPITY_MANUAL        61\n",
       "STAR_PN                   13\n",
       "Name: type, dtype: int64"
      ]
     },
     "execution_count": 37,
     "metadata": {},
     "output_type": "execute_result"
    }
   ],
   "source": [
    "train_df.type.value_counts()"
   ]
  },
  {
   "cell_type": "code",
   "execution_count": 33,
   "metadata": {
    "ExecuteTime": {
     "end_time": "2020-02-18T09:03:56.962899Z",
     "start_time": "2020-02-18T09:03:56.942898Z"
    }
   },
   "outputs": [
    {
     "data": {
      "text/html": [
       "<div>\n",
       "<style scoped>\n",
       "    .dataframe tbody tr th:only-of-type {\n",
       "        vertical-align: middle;\n",
       "    }\n",
       "\n",
       "    .dataframe tbody tr th {\n",
       "        vertical-align: top;\n",
       "    }\n",
       "\n",
       "    .dataframe thead th {\n",
       "        text-align: right;\n",
       "    }\n",
       "</style>\n",
       "<table border=\"1\" class=\"dataframe\">\n",
       "  <thead>\n",
       "    <tr style=\"text-align: right;\">\n",
       "      <th></th>\n",
       "      <th>0</th>\n",
       "      <th>1</th>\n",
       "      <th>2</th>\n",
       "      <th>3</th>\n",
       "      <th>4</th>\n",
       "      <th>5</th>\n",
       "      <th>6</th>\n",
       "      <th>7</th>\n",
       "      <th>8</th>\n",
       "      <th>9</th>\n",
       "      <th>10</th>\n",
       "      <th>11</th>\n",
       "      <th>12</th>\n",
       "      <th>13</th>\n",
       "      <th>14</th>\n",
       "      <th>15</th>\n",
       "      <th>16</th>\n",
       "      <th>17</th>\n",
       "      <th>18</th>\n",
       "    </tr>\n",
       "  </thead>\n",
       "  <tbody>\n",
       "    <tr>\n",
       "      <th>0</th>\n",
       "      <td>302</td>\n",
       "      <td>0</td>\n",
       "      <td>0</td>\n",
       "      <td>0</td>\n",
       "      <td>16</td>\n",
       "      <td>61</td>\n",
       "      <td>1</td>\n",
       "      <td>125</td>\n",
       "      <td>68</td>\n",
       "      <td>0</td>\n",
       "      <td>0</td>\n",
       "      <td>14</td>\n",
       "      <td>0</td>\n",
       "      <td>1</td>\n",
       "      <td>21</td>\n",
       "      <td>8</td>\n",
       "      <td>0</td>\n",
       "      <td>0</td>\n",
       "      <td>31</td>\n",
       "    </tr>\n",
       "    <tr>\n",
       "      <th>1</th>\n",
       "      <td>1</td>\n",
       "      <td>1881</td>\n",
       "      <td>0</td>\n",
       "      <td>0</td>\n",
       "      <td>0</td>\n",
       "      <td>0</td>\n",
       "      <td>1</td>\n",
       "      <td>2</td>\n",
       "      <td>17</td>\n",
       "      <td>0</td>\n",
       "      <td>2</td>\n",
       "      <td>1</td>\n",
       "      <td>0</td>\n",
       "      <td>0</td>\n",
       "      <td>0</td>\n",
       "      <td>0</td>\n",
       "      <td>5</td>\n",
       "      <td>0</td>\n",
       "      <td>42</td>\n",
       "    </tr>\n",
       "    <tr>\n",
       "      <th>2</th>\n",
       "      <td>0</td>\n",
       "      <td>0</td>\n",
       "      <td>69</td>\n",
       "      <td>74</td>\n",
       "      <td>0</td>\n",
       "      <td>0</td>\n",
       "      <td>0</td>\n",
       "      <td>0</td>\n",
       "      <td>0</td>\n",
       "      <td>1</td>\n",
       "      <td>6</td>\n",
       "      <td>0</td>\n",
       "      <td>0</td>\n",
       "      <td>0</td>\n",
       "      <td>0</td>\n",
       "      <td>0</td>\n",
       "      <td>0</td>\n",
       "      <td>0</td>\n",
       "      <td>0</td>\n",
       "    </tr>\n",
       "    <tr>\n",
       "      <th>3</th>\n",
       "      <td>0</td>\n",
       "      <td>0</td>\n",
       "      <td>34</td>\n",
       "      <td>650</td>\n",
       "      <td>0</td>\n",
       "      <td>0</td>\n",
       "      <td>0</td>\n",
       "      <td>0</td>\n",
       "      <td>0</td>\n",
       "      <td>2</td>\n",
       "      <td>82</td>\n",
       "      <td>1</td>\n",
       "      <td>0</td>\n",
       "      <td>0</td>\n",
       "      <td>0</td>\n",
       "      <td>0</td>\n",
       "      <td>0</td>\n",
       "      <td>0</td>\n",
       "      <td>0</td>\n",
       "    </tr>\n",
       "    <tr>\n",
       "      <th>4</th>\n",
       "      <td>2</td>\n",
       "      <td>0</td>\n",
       "      <td>0</td>\n",
       "      <td>0</td>\n",
       "      <td>4244</td>\n",
       "      <td>32</td>\n",
       "      <td>1</td>\n",
       "      <td>0</td>\n",
       "      <td>11</td>\n",
       "      <td>0</td>\n",
       "      <td>0</td>\n",
       "      <td>10</td>\n",
       "      <td>0</td>\n",
       "      <td>0</td>\n",
       "      <td>0</td>\n",
       "      <td>86</td>\n",
       "      <td>0</td>\n",
       "      <td>0</td>\n",
       "      <td>0</td>\n",
       "    </tr>\n",
       "    <tr>\n",
       "      <th>5</th>\n",
       "      <td>27</td>\n",
       "      <td>0</td>\n",
       "      <td>0</td>\n",
       "      <td>0</td>\n",
       "      <td>148</td>\n",
       "      <td>3691</td>\n",
       "      <td>3</td>\n",
       "      <td>47</td>\n",
       "      <td>46</td>\n",
       "      <td>0</td>\n",
       "      <td>0</td>\n",
       "      <td>1</td>\n",
       "      <td>0</td>\n",
       "      <td>0</td>\n",
       "      <td>0</td>\n",
       "      <td>78</td>\n",
       "      <td>0</td>\n",
       "      <td>0</td>\n",
       "      <td>9</td>\n",
       "    </tr>\n",
       "    <tr>\n",
       "      <th>6</th>\n",
       "      <td>5</td>\n",
       "      <td>14</td>\n",
       "      <td>0</td>\n",
       "      <td>0</td>\n",
       "      <td>8</td>\n",
       "      <td>1</td>\n",
       "      <td>10946</td>\n",
       "      <td>3</td>\n",
       "      <td>72</td>\n",
       "      <td>1</td>\n",
       "      <td>0</td>\n",
       "      <td>52</td>\n",
       "      <td>0</td>\n",
       "      <td>79</td>\n",
       "      <td>14</td>\n",
       "      <td>8</td>\n",
       "      <td>0</td>\n",
       "      <td>0</td>\n",
       "      <td>1</td>\n",
       "    </tr>\n",
       "    <tr>\n",
       "      <th>7</th>\n",
       "      <td>187</td>\n",
       "      <td>0</td>\n",
       "      <td>0</td>\n",
       "      <td>0</td>\n",
       "      <td>0</td>\n",
       "      <td>205</td>\n",
       "      <td>0</td>\n",
       "      <td>725</td>\n",
       "      <td>19</td>\n",
       "      <td>0</td>\n",
       "      <td>0</td>\n",
       "      <td>1</td>\n",
       "      <td>0</td>\n",
       "      <td>0</td>\n",
       "      <td>0</td>\n",
       "      <td>1</td>\n",
       "      <td>0</td>\n",
       "      <td>0</td>\n",
       "      <td>258</td>\n",
       "    </tr>\n",
       "    <tr>\n",
       "      <th>8</th>\n",
       "      <td>9</td>\n",
       "      <td>9</td>\n",
       "      <td>1</td>\n",
       "      <td>7</td>\n",
       "      <td>32</td>\n",
       "      <td>253</td>\n",
       "      <td>108</td>\n",
       "      <td>31</td>\n",
       "      <td>12896</td>\n",
       "      <td>1</td>\n",
       "      <td>11</td>\n",
       "      <td>179</td>\n",
       "      <td>0</td>\n",
       "      <td>52</td>\n",
       "      <td>79</td>\n",
       "      <td>7</td>\n",
       "      <td>11</td>\n",
       "      <td>0</td>\n",
       "      <td>1218</td>\n",
       "    </tr>\n",
       "    <tr>\n",
       "      <th>9</th>\n",
       "      <td>0</td>\n",
       "      <td>0</td>\n",
       "      <td>0</td>\n",
       "      <td>0</td>\n",
       "      <td>0</td>\n",
       "      <td>0</td>\n",
       "      <td>2</td>\n",
       "      <td>0</td>\n",
       "      <td>5</td>\n",
       "      <td>31</td>\n",
       "      <td>0</td>\n",
       "      <td>0</td>\n",
       "      <td>0</td>\n",
       "      <td>0</td>\n",
       "      <td>0</td>\n",
       "      <td>0</td>\n",
       "      <td>0</td>\n",
       "      <td>0</td>\n",
       "      <td>0</td>\n",
       "    </tr>\n",
       "    <tr>\n",
       "      <th>10</th>\n",
       "      <td>0</td>\n",
       "      <td>0</td>\n",
       "      <td>5</td>\n",
       "      <td>119</td>\n",
       "      <td>0</td>\n",
       "      <td>0</td>\n",
       "      <td>1</td>\n",
       "      <td>0</td>\n",
       "      <td>1</td>\n",
       "      <td>0</td>\n",
       "      <td>3996</td>\n",
       "      <td>2</td>\n",
       "      <td>0</td>\n",
       "      <td>0</td>\n",
       "      <td>0</td>\n",
       "      <td>0</td>\n",
       "      <td>1</td>\n",
       "      <td>0</td>\n",
       "      <td>0</td>\n",
       "    </tr>\n",
       "    <tr>\n",
       "      <th>11</th>\n",
       "      <td>11</td>\n",
       "      <td>27</td>\n",
       "      <td>0</td>\n",
       "      <td>3</td>\n",
       "      <td>121</td>\n",
       "      <td>37</td>\n",
       "      <td>77</td>\n",
       "      <td>18</td>\n",
       "      <td>398</td>\n",
       "      <td>0</td>\n",
       "      <td>16</td>\n",
       "      <td>581</td>\n",
       "      <td>0</td>\n",
       "      <td>287</td>\n",
       "      <td>71</td>\n",
       "      <td>56</td>\n",
       "      <td>6</td>\n",
       "      <td>0</td>\n",
       "      <td>265</td>\n",
       "    </tr>\n",
       "    <tr>\n",
       "      <th>12</th>\n",
       "      <td>1</td>\n",
       "      <td>0</td>\n",
       "      <td>0</td>\n",
       "      <td>0</td>\n",
       "      <td>0</td>\n",
       "      <td>0</td>\n",
       "      <td>0</td>\n",
       "      <td>1</td>\n",
       "      <td>1</td>\n",
       "      <td>0</td>\n",
       "      <td>0</td>\n",
       "      <td>0</td>\n",
       "      <td>0</td>\n",
       "      <td>0</td>\n",
       "      <td>0</td>\n",
       "      <td>0</td>\n",
       "      <td>0</td>\n",
       "      <td>0</td>\n",
       "      <td>1</td>\n",
       "    </tr>\n",
       "    <tr>\n",
       "      <th>13</th>\n",
       "      <td>1</td>\n",
       "      <td>0</td>\n",
       "      <td>0</td>\n",
       "      <td>0</td>\n",
       "      <td>1</td>\n",
       "      <td>5</td>\n",
       "      <td>160</td>\n",
       "      <td>6</td>\n",
       "      <td>330</td>\n",
       "      <td>0</td>\n",
       "      <td>2</td>\n",
       "      <td>122</td>\n",
       "      <td>0</td>\n",
       "      <td>1278</td>\n",
       "      <td>1</td>\n",
       "      <td>0</td>\n",
       "      <td>0</td>\n",
       "      <td>0</td>\n",
       "      <td>234</td>\n",
       "    </tr>\n",
       "    <tr>\n",
       "      <th>14</th>\n",
       "      <td>2</td>\n",
       "      <td>0</td>\n",
       "      <td>0</td>\n",
       "      <td>0</td>\n",
       "      <td>0</td>\n",
       "      <td>0</td>\n",
       "      <td>4</td>\n",
       "      <td>0</td>\n",
       "      <td>24</td>\n",
       "      <td>0</td>\n",
       "      <td>0</td>\n",
       "      <td>28</td>\n",
       "      <td>0</td>\n",
       "      <td>1</td>\n",
       "      <td>918</td>\n",
       "      <td>0</td>\n",
       "      <td>0</td>\n",
       "      <td>0</td>\n",
       "      <td>0</td>\n",
       "    </tr>\n",
       "    <tr>\n",
       "      <th>15</th>\n",
       "      <td>0</td>\n",
       "      <td>0</td>\n",
       "      <td>0</td>\n",
       "      <td>0</td>\n",
       "      <td>81</td>\n",
       "      <td>32</td>\n",
       "      <td>0</td>\n",
       "      <td>0</td>\n",
       "      <td>0</td>\n",
       "      <td>0</td>\n",
       "      <td>0</td>\n",
       "      <td>1</td>\n",
       "      <td>0</td>\n",
       "      <td>0</td>\n",
       "      <td>0</td>\n",
       "      <td>4275</td>\n",
       "      <td>0</td>\n",
       "      <td>0</td>\n",
       "      <td>0</td>\n",
       "    </tr>\n",
       "    <tr>\n",
       "      <th>16</th>\n",
       "      <td>0</td>\n",
       "      <td>6</td>\n",
       "      <td>0</td>\n",
       "      <td>0</td>\n",
       "      <td>0</td>\n",
       "      <td>0</td>\n",
       "      <td>0</td>\n",
       "      <td>0</td>\n",
       "      <td>2</td>\n",
       "      <td>0</td>\n",
       "      <td>0</td>\n",
       "      <td>7</td>\n",
       "      <td>0</td>\n",
       "      <td>0</td>\n",
       "      <td>0</td>\n",
       "      <td>0</td>\n",
       "      <td>331</td>\n",
       "      <td>0</td>\n",
       "      <td>0</td>\n",
       "    </tr>\n",
       "    <tr>\n",
       "      <th>17</th>\n",
       "      <td>1</td>\n",
       "      <td>1</td>\n",
       "      <td>1</td>\n",
       "      <td>4</td>\n",
       "      <td>0</td>\n",
       "      <td>0</td>\n",
       "      <td>1</td>\n",
       "      <td>2</td>\n",
       "      <td>2</td>\n",
       "      <td>0</td>\n",
       "      <td>0</td>\n",
       "      <td>2</td>\n",
       "      <td>0</td>\n",
       "      <td>2</td>\n",
       "      <td>0</td>\n",
       "      <td>0</td>\n",
       "      <td>0</td>\n",
       "      <td>0</td>\n",
       "      <td>2</td>\n",
       "    </tr>\n",
       "    <tr>\n",
       "      <th>18</th>\n",
       "      <td>108</td>\n",
       "      <td>7</td>\n",
       "      <td>0</td>\n",
       "      <td>0</td>\n",
       "      <td>0</td>\n",
       "      <td>112</td>\n",
       "      <td>0</td>\n",
       "      <td>400</td>\n",
       "      <td>497</td>\n",
       "      <td>0</td>\n",
       "      <td>0</td>\n",
       "      <td>8</td>\n",
       "      <td>0</td>\n",
       "      <td>1</td>\n",
       "      <td>0</td>\n",
       "      <td>2</td>\n",
       "      <td>0</td>\n",
       "      <td>0</td>\n",
       "      <td>5393</td>\n",
       "    </tr>\n",
       "  </tbody>\n",
       "</table>\n",
       "</div>"
      ],
      "text/plain": [
       "     0     1   2    3     4     5      6    7      8   9     10   11  12  \\\n",
       "0   302     0   0    0    16    61      1  125     68   0     0   14   0   \n",
       "1     1  1881   0    0     0     0      1    2     17   0     2    1   0   \n",
       "2     0     0  69   74     0     0      0    0      0   1     6    0   0   \n",
       "3     0     0  34  650     0     0      0    0      0   2    82    1   0   \n",
       "4     2     0   0    0  4244    32      1    0     11   0     0   10   0   \n",
       "5    27     0   0    0   148  3691      3   47     46   0     0    1   0   \n",
       "6     5    14   0    0     8     1  10946    3     72   1     0   52   0   \n",
       "7   187     0   0    0     0   205      0  725     19   0     0    1   0   \n",
       "8     9     9   1    7    32   253    108   31  12896   1    11  179   0   \n",
       "9     0     0   0    0     0     0      2    0      5  31     0    0   0   \n",
       "10    0     0   5  119     0     0      1    0      1   0  3996    2   0   \n",
       "11   11    27   0    3   121    37     77   18    398   0    16  581   0   \n",
       "12    1     0   0    0     0     0      0    1      1   0     0    0   0   \n",
       "13    1     0   0    0     1     5    160    6    330   0     2  122   0   \n",
       "14    2     0   0    0     0     0      4    0     24   0     0   28   0   \n",
       "15    0     0   0    0    81    32      0    0      0   0     0    1   0   \n",
       "16    0     6   0    0     0     0      0    0      2   0     0    7   0   \n",
       "17    1     1   1    4     0     0      1    2      2   0     0    2   0   \n",
       "18  108     7   0    0     0   112      0  400    497   0     0    8   0   \n",
       "\n",
       "      13   14    15   16  17    18  \n",
       "0      1   21     8    0   0    31  \n",
       "1      0    0     0    5   0    42  \n",
       "2      0    0     0    0   0     0  \n",
       "3      0    0     0    0   0     0  \n",
       "4      0    0    86    0   0     0  \n",
       "5      0    0    78    0   0     9  \n",
       "6     79   14     8    0   0     1  \n",
       "7      0    0     1    0   0   258  \n",
       "8     52   79     7   11   0  1218  \n",
       "9      0    0     0    0   0     0  \n",
       "10     0    0     0    1   0     0  \n",
       "11   287   71    56    6   0   265  \n",
       "12     0    0     0    0   0     1  \n",
       "13  1278    1     0    0   0   234  \n",
       "14     1  918     0    0   0     0  \n",
       "15     0    0  4275    0   0     0  \n",
       "16     0    0     0  331   0     0  \n",
       "17     2    0     0    0   0     2  \n",
       "18     1    0     2    0   0  5393  "
      ]
     },
     "execution_count": 33,
     "metadata": {},
     "output_type": "execute_result"
    }
   ],
   "source": [
    "cm_result"
   ]
  },
  {
   "cell_type": "code",
   "execution_count": 34,
   "metadata": {
    "ExecuteTime": {
     "end_time": "2020-02-18T09:03:59.345932Z",
     "start_time": "2020-02-18T09:03:58.505851Z"
    },
    "scrolled": false
   },
   "outputs": [
    {
     "data": {
      "image/png": "[encoded data removed]",
      "text/plain": [
       "<Figure size 1080x1080 with 2 Axes>"
      ]
     },
     "metadata": {},
     "output_type": "display_data"
    }
   ],
   "source": [
    "plt.figure(figsize =(15,15))\n",
    "sns.heatmap(cm_result/np.sum(cm_result),annot = True, cmap ='RdYlGn',fmt='.1%')\n",
    "plt.ylabel(\"real\",fontsize=20)\n",
    "plt.xlabel(\"predict\",fontsize=20)\n",
    "plt.show()"
   ]
  },
  {
   "cell_type": "markdown",
   "metadata": {},
   "source": [
    "# REAL"
   ]
  },
  {
   "cell_type": "code",
   "execution_count": 40,
   "metadata": {
    "ExecuteTime": {
     "end_time": "2020-02-18T09:07:46.268033Z",
     "start_time": "2020-02-18T09:07:46.266033Z"
    }
   },
   "outputs": [],
   "source": [
    "train_ds = lgb.Dataset(train_X, label = train_y)"
   ]
  },
  {
   "cell_type": "code",
   "execution_count": 41,
   "metadata": {
    "ExecuteTime": {
     "end_time": "2020-02-18T09:46:21.505379Z",
     "start_time": "2020-02-18T09:07:47.496995Z"
    }
   },
   "outputs": [],
   "source": [
    "lgmb_model = lgb.train(params, train_ds,num_boost_round= 2000, verbose_eval=100)"
   ]
  },
  {
   "cell_type": "code",
   "execution_count": 42,
   "metadata": {
    "ExecuteTime": {
     "end_time": "2020-02-18T09:47:18.503633Z",
     "start_time": "2020-02-18T09:46:22.511348Z"
    }
   },
   "outputs": [],
   "source": [
    "y_pred = lgmb_model.predict(test_X)"
   ]
  },
  {
   "cell_type": "code",
   "execution_count": 43,
   "metadata": {
    "ExecuteTime": {
     "end_time": "2020-02-18T09:47:19.559601Z",
     "start_time": "2020-02-18T09:47:19.552601Z"
    }
   },
   "outputs": [
    {
     "data": {
      "text/plain": [
       "array([[3.13859208e-05, 8.83793425e-05, 2.51444171e-04, ...,\n",
       "        2.22754088e-05, 1.63603700e-05, 2.78270038e-04],\n",
       "       [1.35294734e-04, 2.82114471e-04, 1.99011308e-05, ...,\n",
       "        4.34515991e-05, 1.42086341e-05, 9.45526773e-04],\n",
       "       [8.80199945e-05, 3.21557773e-05, 1.86147928e-06, ...,\n",
       "        4.04619993e-06, 8.94563031e-07, 8.77694872e-05],\n",
       "       ...,\n",
       "       [2.39358811e-04, 5.84679872e-04, 1.72932332e-05, ...,\n",
       "        3.75893943e-05, 2.59392197e-06, 8.17155457e-02],\n",
       "       [9.81027227e-06, 1.65461562e-05, 1.10090950e-06, ...,\n",
       "        2.39298926e-06, 4.00333965e-07, 1.01326984e-03],\n",
       "       [2.27134309e-04, 1.52210215e-05, 1.16973500e-06, ...,\n",
       "        2.54259165e-06, 1.61755826e-07, 1.19144849e-04]])"
      ]
     },
     "execution_count": 43,
     "metadata": {},
     "output_type": "execute_result"
    }
   ],
   "source": [
    "y_pred"
   ]
  },
  {
   "cell_type": "code",
   "execution_count": 44,
   "metadata": {
    "ExecuteTime": {
     "end_time": "2020-02-18T09:47:21.432543Z",
     "start_time": "2020-02-18T09:47:20.922560Z"
    }
   },
   "outputs": [],
   "source": [
    "submission = pd.DataFrame(data=y_pred, columns=sample_submission_df.columns, index=sample_submission_df.index)\n",
    "submission.to_csv('./submisson/submission.csv', index=True)"
   ]
  }
 ],
 "metadata": {
  "kernelspec": {
   "display_name": "Python 3",
   "language": "python",
   "name": "python3"
  },
  "language_info": {
   "codemirror_mode": {
    "name": "ipython",
    "version": 3
   },
   "file_extension": ".py",
   "mimetype": "text/x-python",
   "name": "python",
   "nbconvert_exporter": "python",
   "pygments_lexer": "ipython3",
   "version": "3.6.5"
  },
  "varInspector": {
   "cols": {
    "lenName": 16,
    "lenType": 16,
    "lenVar": 40
   },
   "kernels_config": {
    "python": {
     "delete_cmd_postfix": "",
     "delete_cmd_prefix": "del ",
     "library": "var_list.py",
     "varRefreshCmd": "print(var_dic_list())"
    },
    "r": {
     "delete_cmd_postfix": ") ",
     "delete_cmd_prefix": "rm(",
     "library": "var_list.r",
     "varRefreshCmd": "cat(var_dic_list()) "
    }
   },
   "types_to_exclude": [
    "module",
    "function",
    "builtin_function_or_method",
    "instance",
    "_Feature"
   ],
   "window_display": false
  }
 },
 "nbformat": 4,
 "nbformat_minor": 2
}
