{
 "cells": [
  {
   "cell_type": "markdown",
   "metadata": {},
   "source": [
    "# out_fiberID\n",
    "* 기존변수 + u-g,g-r,r-i,i-z만 추가변수로 사용\n",
    "* fiber_ID를 제외하고 진행해봄\n",
    "* 제출결과 : 0.3793087274 \n",
    "-> fiberID를 제외해서 0.02상승"
   ]
  },
  {
   "cell_type": "code",
   "execution_count": 1,
   "metadata": {
    "ExecuteTime": {
     "end_time": "2020-02-23T23:45:08.732569Z",
     "start_time": "2020-02-23T23:45:03.680725Z"
    }
   },
   "outputs": [],
   "source": [
    "import pandas as pd\n",
    "import numpy as np\n",
    "import matplotlib.pyplot as plt\n",
    "import seaborn as sns\n",
    "\n",
    "from sklearn.ensemble import RandomForestClassifier\n",
    "from sklearn.model_selection import train_test_split\n",
    "from sklearn.metrics import confusion_matrix\n",
    "from sklearn.metrics import log_loss\n",
    "\n",
    "\n",
    "import lightgbm as lgb\n",
    "from sklearn.model_selection import KFold, StratifiedKFold, RandomizedSearchCV, GridSearchCV"
   ]
  },
  {
   "cell_type": "code",
   "execution_count": 2,
   "metadata": {
    "ExecuteTime": {
     "end_time": "2020-02-23T23:45:08.736569Z",
     "start_time": "2020-02-23T23:45:08.734569Z"
    }
   },
   "outputs": [],
   "source": [
    "# from google.colab import drive\n",
    "# drive.mount('/content/drive')"
   ]
  },
  {
   "cell_type": "code",
   "execution_count": 3,
   "metadata": {
    "ExecuteTime": {
     "end_time": "2020-02-23T23:45:08.767569Z",
     "start_time": "2020-02-23T23:45:08.738569Z"
    }
   },
   "outputs": [],
   "source": [
    "# #colab용\n",
    "# import os\n",
    "# os.chdir('/content/drive/My Drive/Colab Notebooks/Dacon/천체관측/')"
   ]
  },
  {
   "cell_type": "code",
   "execution_count": 4,
   "metadata": {
    "ExecuteTime": {
     "end_time": "2020-02-23T23:45:10.682509Z",
     "start_time": "2020-02-23T23:45:08.769612Z"
    }
   },
   "outputs": [],
   "source": [
    "# path = \"/content/drive/My Drive/Colab Notebooks/Dacon/천체관측/data/\" #colab\n",
    "path = \"./data/\" #local\n",
    "train_df = pd.read_csv(path+'train.csv',index_col=0)\n",
    "test_df = pd.read_csv(path+'test.csv',index_col=0)\n",
    "sample_submission_df = pd.read_csv(path+'sample_submission.csv',index_col=0)\n",
    "pd.options.display.max_columns = 30"
   ]
  },
  {
   "cell_type": "code",
   "execution_count": 5,
   "metadata": {
    "ExecuteTime": {
     "end_time": "2020-02-23T23:45:10.691511Z",
     "start_time": "2020-02-23T23:45:10.684509Z"
    }
   },
   "outputs": [
    {
     "data": {
      "text/plain": [
       "((199991, 22), (10009, 21))"
      ]
     },
     "execution_count": 5,
     "metadata": {},
     "output_type": "execute_result"
    }
   ],
   "source": [
    "train_df.shape, test_df.shape"
   ]
  },
  {
   "cell_type": "markdown",
   "metadata": {},
   "source": [
    "## DATA Setting"
   ]
  },
  {
   "cell_type": "code",
   "execution_count": 6,
   "metadata": {
    "ExecuteTime": {
     "end_time": "2020-02-23T23:45:10.721508Z",
     "start_time": "2020-02-23T23:45:10.693508Z"
    }
   },
   "outputs": [],
   "source": [
    "def del_outlier(data, min=0, max=60):\n",
    "    up_idx_t=()\n",
    "    dw_idx_t=()\n",
    "    train_light = data.iloc[:,2:]\n",
    "    for i in range(len(train_light.columns)):\n",
    "        col = train_light.columns[i]\n",
    "        up_idx_t+=tuple(data[data[col]>max].index)\n",
    "        dw_idx_t+=tuple(data[data[col]<min].index)\n",
    "    del_idx = set(up_idx_t+dw_idx_t)\n",
    "    \n",
    "    return data[~data.index.isin(del_idx)]"
   ]
  },
  {
   "cell_type": "code",
   "execution_count": 7,
   "metadata": {
    "ExecuteTime": {
     "end_time": "2020-02-23T23:45:10.872504Z",
     "start_time": "2020-02-23T23:45:10.723507Z"
    }
   },
   "outputs": [],
   "source": [
    "train_df = del_outlier(train_df, min=-60, max=60)"
   ]
  },
  {
   "cell_type": "code",
   "execution_count": 8,
   "metadata": {
    "ExecuteTime": {
     "end_time": "2020-02-23T23:45:10.880504Z",
     "start_time": "2020-02-23T23:45:10.874506Z"
    }
   },
   "outputs": [
    {
     "data": {
      "text/plain": [
       "(199805, 22)"
      ]
     },
     "execution_count": 8,
     "metadata": {},
     "output_type": "execute_result"
    }
   ],
   "source": [
    "train_df.shape"
   ]
  },
  {
   "cell_type": "code",
   "execution_count": 9,
   "metadata": {
    "ExecuteTime": {
     "end_time": "2020-02-23T23:45:11.065497Z",
     "start_time": "2020-02-23T23:45:10.882503Z"
    }
   },
   "outputs": [],
   "source": [
    "column_number = {}\n",
    "number_columns = {}\n",
    "for i, column in enumerate(sample_submission_df.columns):\n",
    "    column_number[column] = i\n",
    "    number_columns[i] = column\n",
    "    \n",
    "    \n",
    "def to_number(x, dic):\n",
    "    return dic[x]\n",
    "\n",
    "train_df['type_num'] = train_df['type'].apply(lambda x: to_number(x, column_number))\n"
   ]
  },
  {
   "cell_type": "code",
   "execution_count": 10,
   "metadata": {
    "ExecuteTime": {
     "end_time": "2020-02-23T23:45:11.073499Z",
     "start_time": "2020-02-23T23:45:11.067498Z"
    }
   },
   "outputs": [],
   "source": [
    "def add_minus_feature_all(data,test = False):\n",
    "    '''\n",
    "    combination으로 모든 변수들의 조합에 대해서 컬럼생성 \n",
    "    각 mag에서 가장 높은값의 filter를 받아오는 \"~~mag_MAX\"생성\n",
    "    결과 64개로 증가\n",
    "    '''\n",
    "    from itertools import combinations\n",
    "    n = 0\n",
    "    for count in range(5,21,5):\n",
    "        s = 2\n",
    "        if test == True :\n",
    "            s = 1\n",
    "        selected = data.columns[s:].values[n:count]\n",
    "        mag = str.split(selected[0],'_')[0]\n",
    "#         data[mag+\"_MAX\"] = data[selected].apply(lambda x : str.split(np.argmax(x),'_')[1],axis = 1)\n",
    "        for combi in list(combinations(selected,2)):\n",
    "            name_1st = str.split(combi[0],'_')[1]\n",
    "            name_2nd = str.split(combi[1],'_')[1]\n",
    "            data[mag+\"_\"+name_1st+\"-\"+name_2nd] = data[combi[0]]-data[combi[1]]\n",
    "        n=count\n",
    "    return data"
   ]
  },
  {
   "cell_type": "code",
   "execution_count": 11,
   "metadata": {
    "ExecuteTime": {
     "end_time": "2020-02-23T23:45:11.120497Z",
     "start_time": "2020-02-23T23:45:11.075497Z"
    }
   },
   "outputs": [],
   "source": [
    "def add_minus_feature(data,test = False):\n",
    "    '''\n",
    "    근접변수에 대해서만 컬럼생성 ex) 'fiberMag_u-g', 'fiberMag_g-r', 'fiberMag_r-i', 'fiberMag_i-z'\n",
    "    각 mag에서 가장 높은값의 filter를 받아오는 \"~~mag_MAX\"생성\n",
    "    결과 38개로 증가 \n",
    "    '''\n",
    "    from itertools import combinations\n",
    "    n = 0\n",
    "    m = 0\n",
    "    for count in range(5,21,5):\n",
    "        s = 2\n",
    "        if test == True :\n",
    "            s = 1\n",
    "        selected = data.columns[s:].values[n:count]\n",
    "        mag = str.split(selected[0],'_')[0]\n",
    "#         data[mag+\"_MAX\"] = data[selected].apply(lambda x : str.split(np.argmax(x),'_')[1],axis = 1)\n",
    "        for i in range(0,len(selected)):        \n",
    "            if i>0: \n",
    "                name_1st = str.split(m,'_')[1]\n",
    "                name_2nd = str.split(selected[i],'_')[1]\n",
    "                data[mag+\"_\"+name_1st+\"-\"+name_2nd] = data[m]-data[selected[i]]\n",
    "            m = selected[i]    \n",
    "        n=count\n",
    "    return data"
   ]
  },
  {
   "cell_type": "code",
   "execution_count": 12,
   "metadata": {
    "ExecuteTime": {
     "end_time": "2020-02-23T23:45:11.469488Z",
     "start_time": "2020-02-23T23:45:11.122495Z"
    }
   },
   "outputs": [],
   "source": [
    "train_df = add_minus_feature_all(train_df)\n",
    "test_df = add_minus_feature_all(test_df,True)"
   ]
  },
  {
   "cell_type": "code",
   "execution_count": 13,
   "metadata": {
    "ExecuteTime": {
     "end_time": "2020-02-23T23:45:11.479487Z",
     "start_time": "2020-02-23T23:45:11.471484Z"
    }
   },
   "outputs": [
    {
     "data": {
      "text/plain": [
       "((199805, 63), (10009, 61))"
      ]
     },
     "execution_count": 13,
     "metadata": {},
     "output_type": "execute_result"
    }
   ],
   "source": [
    "train_df.shape,test_df.shape"
   ]
  },
  {
   "cell_type": "code",
   "execution_count": 14,
   "metadata": {
    "ExecuteTime": {
     "end_time": "2020-02-23T23:45:11.514483Z",
     "start_time": "2020-02-23T23:45:11.481484Z"
    }
   },
   "outputs": [
    {
     "data": {
      "text/plain": [
       "Index(['type', 'fiberID', 'psfMag_u', 'psfMag_g', 'psfMag_r', 'psfMag_i',\n",
       "       'psfMag_z', 'fiberMag_u', 'fiberMag_g', 'fiberMag_r', 'fiberMag_i',\n",
       "       'fiberMag_z', 'petroMag_u', 'petroMag_g', 'petroMag_r', 'petroMag_i',\n",
       "       'petroMag_z', 'modelMag_u', 'modelMag_g', 'modelMag_r', 'modelMag_i',\n",
       "       'modelMag_z', 'type_num', 'psfMag_u-g', 'psfMag_u-r', 'psfMag_u-i',\n",
       "       'psfMag_u-z', 'psfMag_g-r', 'psfMag_g-i', 'psfMag_g-z', 'psfMag_r-i',\n",
       "       'psfMag_r-z', 'psfMag_i-z', 'fiberMag_u-g', 'fiberMag_u-r',\n",
       "       'fiberMag_u-i', 'fiberMag_u-z', 'fiberMag_g-r', 'fiberMag_g-i',\n",
       "       'fiberMag_g-z', 'fiberMag_r-i', 'fiberMag_r-z', 'fiberMag_i-z',\n",
       "       'petroMag_u-g', 'petroMag_u-r', 'petroMag_u-i', 'petroMag_u-z',\n",
       "       'petroMag_g-r', 'petroMag_g-i', 'petroMag_g-z', 'petroMag_r-i',\n",
       "       'petroMag_r-z', 'petroMag_i-z', 'modelMag_u-g', 'modelMag_u-r',\n",
       "       'modelMag_u-i', 'modelMag_u-z', 'modelMag_g-r', 'modelMag_g-i',\n",
       "       'modelMag_g-z', 'modelMag_r-i', 'modelMag_r-z', 'modelMag_i-z'],\n",
       "      dtype='object')"
      ]
     },
     "execution_count": 14,
     "metadata": {},
     "output_type": "execute_result"
    }
   ],
   "source": [
    "train_df.columns"
   ]
  },
  {
   "cell_type": "markdown",
   "metadata": {},
   "source": [
    "### CV"
   ]
  },
  {
   "cell_type": "code",
   "execution_count": 54,
   "metadata": {
    "ExecuteTime": {
     "end_time": "2020-02-24T12:15:00.620123Z",
     "start_time": "2020-02-24T12:15:00.509124Z"
    }
   },
   "outputs": [],
   "source": [
    "X = train_df.drop(columns=['type', 'type_num','fiberID'], axis=1)\n",
    "y = train_df['type_num']\n",
    "test_X = test_df.drop(columns = ['fiberID'])"
   ]
  },
  {
   "cell_type": "code",
   "execution_count": 53,
   "metadata": {
    "ExecuteTime": {
     "end_time": "2020-02-24T12:14:59.228165Z",
     "start_time": "2020-02-24T12:14:59.223164Z"
    }
   },
   "outputs": [],
   "source": [
    "import sklearn\n",
    "logloss = sklearn.metrics.make_scorer(log_loss,needs_proba=True, labels=y)"
   ]
  },
  {
   "cell_type": "code",
   "execution_count": 55,
   "metadata": {
    "ExecuteTime": {
     "end_time": "2020-02-24T12:15:01.773085Z",
     "start_time": "2020-02-24T12:15:01.760085Z"
    }
   },
   "outputs": [],
   "source": [
    "folds = 3\n",
    "Fold = StratifiedKFold(n_splits=folds, shuffle=True,random_state=42)\n",
    "kfold =KFold(n_splits=folds, shuffle=True,random_state=42)"
   ]
  },
  {
   "cell_type": "code",
   "execution_count": 24,
   "metadata": {
    "ExecuteTime": {
     "end_time": "2020-02-24T06:36:23.306655Z",
     "start_time": "2020-02-24T06:36:23.302656Z"
    }
   },
   "outputs": [],
   "source": [
    "params = {\"max_depth\" : (7,8,9),\n",
    "         \"learning_rate\": (0.01,0.05, 0.1),\n",
    "         \"num_leaves\": (127,255,511),\n",
    "         \"min_child_samples\": (30,40,50),\n",
    "         \"lambda_l1\": (0,3,5,7,9),\n",
    "         \"lambda_l2\": (0,3,5,7,9)}"
   ]
  },
  {
   "cell_type": "code",
   "execution_count": 56,
   "metadata": {
    "ExecuteTime": {
     "end_time": "2020-02-24T12:15:08.050915Z",
     "start_time": "2020-02-24T12:15:08.041910Z"
    }
   },
   "outputs": [],
   "source": [
    "defaut_lgbmc = lgb.LGBMClassifier(n_estimators=1500,random_state=1029,objective =\"multiclass\",class_weight = 'balanced')"
   ]
  },
  {
   "cell_type": "code",
   "execution_count": 57,
   "metadata": {
    "ExecuteTime": {
     "end_time": "2020-02-24T12:15:09.205021Z",
     "start_time": "2020-02-24T12:15:09.196020Z"
    }
   },
   "outputs": [],
   "source": [
    "random_search  = RandomizedSearchCV(defaut_lgbmc,param_distributions=params, cv=3, verbose =100 ,n_iter = 8,scoring=logloss)"
   ]
  },
  {
   "cell_type": "code",
   "execution_count": null,
   "metadata": {
    "ExecuteTime": {
     "start_time": "2020-02-24T12:15:09.175Z"
    },
    "scrolled": false
   },
   "outputs": [
    {
     "name": "stdout",
     "output_type": "stream",
     "text": [
      "★ 0 start\n",
      "Fitting 3 folds for each of 8 candidates, totalling 24 fits\n",
      "[Parallel(n_jobs=1)]: Using backend SequentialBackend with 1 concurrent workers.\n",
      "[CV] num_leaves=127, min_child_samples=40, max_depth=7, learning_rate=0.05, lambda_l2=7, lambda_l1=5 \n",
      "Training until validation scores don't improve for 100 rounds\n",
      "[100]\ttrain's multi_logloss: 0.48403\tval's multi_logloss: 0.489345\n",
      "Did not meet early stopping. Best iteration is:\n",
      "[100]\ttrain's multi_logloss: 0.48403\tval's multi_logloss: 0.489345\n",
      "[CV]  num_leaves=127, min_child_samples=40, max_depth=7, learning_rate=0.05, lambda_l2=7, lambda_l1=5, score=0.510, total= 1.9min\n",
      "[Parallel(n_jobs=1)]: Done   1 out of   1 | elapsed:  1.9min remaining:    0.0s\n",
      "[CV] num_leaves=127, min_child_samples=40, max_depth=7, learning_rate=0.05, lambda_l2=7, lambda_l1=5 \n",
      "Training until validation scores don't improve for 100 rounds\n",
      "[100]\ttrain's multi_logloss: 0.485849\tval's multi_logloss: 0.489638\n",
      "Did not meet early stopping. Best iteration is:\n",
      "[100]\ttrain's multi_logloss: 0.485849\tval's multi_logloss: 0.489638\n",
      "[CV]  num_leaves=127, min_child_samples=40, max_depth=7, learning_rate=0.05, lambda_l2=7, lambda_l1=5, score=0.512, total= 1.9min\n",
      "[Parallel(n_jobs=1)]: Done   2 out of   2 | elapsed:  3.8min remaining:    0.0s\n",
      "[CV] num_leaves=127, min_child_samples=40, max_depth=7, learning_rate=0.05, lambda_l2=7, lambda_l1=5 \n",
      "Training until validation scores don't improve for 100 rounds\n"
     ]
    }
   ],
   "source": [
    "#와 3시간.. fold = 3,cv =5, n_iter =2 \n",
    "for fold, (train_ids, val_ids) in enumerate(Fold.split(X,y)):\n",
    "    print(\"★\", fold, \"start\")\n",
    "    eval_set = [(X.iloc[train_ids], y.iloc[train_ids]),(X.iloc[val_ids], y.iloc[val_ids])]\n",
    "    eval_names = ['train','val']\n",
    "    random_search.fit(X, y, eval_set = eval_set, eval_names = eval_names, early_stopping_rounds = 100,verbose = 100)"
   ]
  },
  {
   "cell_type": "code",
   "execution_count": 28,
   "metadata": {
    "ExecuteTime": {
     "end_time": "2020-02-24T10:13:46.357861Z",
     "start_time": "2020-02-24T10:13:46.354872Z"
    }
   },
   "outputs": [],
   "source": [
    "params2 = random_search.best_params_"
   ]
  },
  {
   "cell_type": "code",
   "execution_count": 29,
   "metadata": {
    "ExecuteTime": {
     "end_time": "2020-02-24T10:13:48.378104Z",
     "start_time": "2020-02-24T10:13:48.370114Z"
    }
   },
   "outputs": [
    {
     "data": {
      "text/plain": [
       "{'num_leaves': 255,\n",
       " 'min_child_samples': 40,\n",
       " 'max_depth': 8,\n",
       " 'learning_rate': 0.1,\n",
       " 'lambda_l2': 3,\n",
       " 'lambda_l1': 9}"
      ]
     },
     "execution_count": 29,
     "metadata": {},
     "output_type": "execute_result"
    }
   ],
   "source": [
    "params2"
   ]
  },
  {
   "cell_type": "code",
   "execution_count": 32,
   "metadata": {
    "ExecuteTime": {
     "end_time": "2020-02-24T10:14:02.530103Z",
     "start_time": "2020-02-24T10:14:02.524103Z"
    }
   },
   "outputs": [
    {
     "data": {
      "text/plain": [
       "0.8561597556079719"
      ]
     },
     "execution_count": 32,
     "metadata": {},
     "output_type": "execute_result"
    }
   ],
   "source": [
    "print(random_search.best_score_)"
   ]
  },
  {
   "cell_type": "code",
   "execution_count": 30,
   "metadata": {
    "ExecuteTime": {
     "end_time": "2020-02-24T10:13:50.142143Z",
     "start_time": "2020-02-24T10:13:50.139133Z"
    }
   },
   "outputs": [],
   "source": [
    "gmodel = random_search.best_estimator_"
   ]
  },
  {
   "cell_type": "code",
   "execution_count": 31,
   "metadata": {
    "ExecuteTime": {
     "end_time": "2020-02-24T10:13:50.738939Z",
     "start_time": "2020-02-24T10:13:50.733926Z"
    }
   },
   "outputs": [
    {
     "data": {
      "text/plain": [
       "LGBMClassifier(boosting_type='gbdt', class_weight='balanced',\n",
       "               colsample_bytree=1.0, importance_type='split', lambda_l1=9,\n",
       "               lambda_l2=3, learning_rate=0.1, max_depth=8,\n",
       "               min_child_samples=40, min_child_weight=0.001, min_split_gain=0.0,\n",
       "               n_estimators=2000, n_jobs=-1, num_leaves=255,\n",
       "               objective='multiclass', random_state=1029, reg_alpha=0.0,\n",
       "               reg_lambda=0.0, silent=True, subsample=1.0,\n",
       "               subsample_for_bin=200000, subsample_freq=0)"
      ]
     },
     "execution_count": 31,
     "metadata": {},
     "output_type": "execute_result"
    }
   ],
   "source": [
    "print(gmodel)"
   ]
  },
  {
   "cell_type": "code",
   "execution_count": 33,
   "metadata": {
    "ExecuteTime": {
     "end_time": "2020-02-24T10:31:08.478282Z",
     "start_time": "2020-02-24T10:14:54.586815Z"
    }
   },
   "outputs": [
    {
     "data": {
      "text/plain": [
       "LGBMClassifier(boosting_type='gbdt', class_weight='balanced',\n",
       "               colsample_bytree=1.0, importance_type='split', lambda_l1=9,\n",
       "               lambda_l2=3, learning_rate=0.1, max_depth=8,\n",
       "               min_child_samples=40, min_child_weight=0.001, min_split_gain=0.0,\n",
       "               n_estimators=2000, n_jobs=-1, num_leaves=255,\n",
       "               objective='multiclass', random_state=1029, reg_alpha=0.0,\n",
       "               reg_lambda=0.0, silent=True, subsample=1.0,\n",
       "               subsample_for_bin=200000, subsample_freq=0)"
      ]
     },
     "execution_count": 33,
     "metadata": {},
     "output_type": "execute_result"
    }
   ],
   "source": [
    "gmodel.fit(X,y)"
   ]
  },
  {
   "cell_type": "code",
   "execution_count": 38,
   "metadata": {
    "ExecuteTime": {
     "end_time": "2020-02-24T10:45:53.187789Z",
     "start_time": "2020-02-24T10:35:00.025481Z"
    }
   },
   "outputs": [],
   "source": [
    "train_y_pred = gmodel.predict_proba(X)"
   ]
  },
  {
   "cell_type": "code",
   "execution_count": 40,
   "metadata": {
    "ExecuteTime": {
     "end_time": "2020-02-24T10:51:05.064718Z",
     "start_time": "2020-02-24T10:51:05.056719Z"
    }
   },
   "outputs": [
    {
     "data": {
      "text/plain": [
       "array([[4.56201164e-06, 7.75154813e-06, 2.41460155e-06, ...,\n",
       "        2.06569761e-06, 5.54613973e-06, 3.44935629e-04],\n",
       "       [1.50541897e-05, 4.09494448e-05, 4.57933724e-06, ...,\n",
       "        5.43068514e-06, 1.01243090e-05, 1.80857595e-02],\n",
       "       [6.38381018e-04, 9.48061368e-05, 2.43798597e-05, ...,\n",
       "        4.43212257e-05, 5.53072624e-05, 5.09389605e-02],\n",
       "       ...,\n",
       "       [1.97054983e-05, 1.38945056e-05, 8.67211163e-05, ...,\n",
       "        2.49992402e-05, 1.10094056e-05, 1.15205513e-05],\n",
       "       [3.61167959e-06, 2.22046100e-06, 6.81626731e-07, ...,\n",
       "        8.98888354e-07, 1.16654560e-05, 5.28685738e-06],\n",
       "       [8.87847708e-04, 8.46730369e-04, 5.83058098e-05, ...,\n",
       "        6.31506477e-05, 3.47337857e-04, 5.39072266e-01]])"
      ]
     },
     "execution_count": 40,
     "metadata": {},
     "output_type": "execute_result"
    }
   ],
   "source": [
    "train_y_pred"
   ]
  },
  {
   "cell_type": "code",
   "execution_count": 34,
   "metadata": {
    "ExecuteTime": {
     "end_time": "2020-02-24T10:31:46.094710Z",
     "start_time": "2020-02-24T10:31:09.465252Z"
    }
   },
   "outputs": [],
   "source": [
    "y_pred = gmodel.predict_proba(test_X)"
   ]
  },
  {
   "cell_type": "code",
   "execution_count": 35,
   "metadata": {
    "ExecuteTime": {
     "end_time": "2020-02-24T10:31:47.279956Z",
     "start_time": "2020-02-24T10:31:47.267954Z"
    }
   },
   "outputs": [
    {
     "data": {
      "text/plain": [
       "array([[3.50066638e-05, 5.26650580e-05, 2.21850300e-04, ...,\n",
       "        1.92954943e-04, 1.90364475e-04, 3.46413745e-05],\n",
       "       [8.82200088e-05, 1.90074363e-04, 2.24943431e-05, ...,\n",
       "        9.93321181e-05, 1.38933440e-04, 2.00775835e-04],\n",
       "       [2.71777282e-05, 1.13690184e-05, 2.20370274e-06, ...,\n",
       "        5.10410746e-06, 1.50041203e-05, 1.08798329e-05],\n",
       "       ...,\n",
       "       [9.31616009e-05, 2.19138193e-04, 1.27084447e-05, ...,\n",
       "        1.72416868e-05, 2.77744878e-05, 9.95822677e-02],\n",
       "       [1.05948715e-05, 1.29974202e-05, 1.80738664e-06, ...,\n",
       "        1.57848834e-06, 3.77686680e-06, 3.16995458e-04],\n",
       "       [1.53532987e-04, 3.88460633e-06, 1.68581882e-06, ...,\n",
       "        2.56362557e-06, 3.18271400e-06, 9.00399895e-06]])"
      ]
     },
     "execution_count": 35,
     "metadata": {},
     "output_type": "execute_result"
    }
   ],
   "source": [
    "y_pred"
   ]
  },
  {
   "cell_type": "code",
   "execution_count": 39,
   "metadata": {
    "ExecuteTime": {
     "end_time": "2020-02-24T10:45:54.911846Z",
     "start_time": "2020-02-24T10:45:54.525858Z"
    }
   },
   "outputs": [
    {
     "data": {
      "text/plain": [
       "0.2059535600699039"
      ]
     },
     "execution_count": 39,
     "metadata": {},
     "output_type": "execute_result"
    }
   ],
   "source": [
    "log_loss(y,train_y_pred,labels= list(set(y)))"
   ]
  },
  {
   "cell_type": "code",
   "execution_count": null,
   "metadata": {
    "ExecuteTime": {
     "end_time": "2020-02-24T06:35:00.772362Z",
     "start_time": "2020-02-23T23:45:15.155Z"
    }
   },
   "outputs": [],
   "source": [
    "submission = pd.DataFrame(data=y_pred, columns=sample_submission_df.columns, index=sample_submission_df.index)\n",
    "submission.to_csv('submission.csv', index=True)"
   ]
  },
  {
   "cell_type": "markdown",
   "metadata": {},
   "source": [
    "## Modeling"
   ]
  },
  {
   "cell_type": "code",
   "execution_count": null,
   "metadata": {},
   "outputs": [],
   "source": []
  }
 ],
 "metadata": {
  "kernelspec": {
   "display_name": "Python 3",
   "language": "python",
   "name": "python3"
  },
  "language_info": {
   "codemirror_mode": {
    "name": "ipython",
    "version": 3
   },
   "file_extension": ".py",
   "mimetype": "text/x-python",
   "name": "python",
   "nbconvert_exporter": "python",
   "pygments_lexer": "ipython3",
   "version": "3.6.5"
  },
  "varInspector": {
   "cols": {
    "lenName": 16,
    "lenType": 16,
    "lenVar": 40
   },
   "kernels_config": {
    "python": {
     "delete_cmd_postfix": "",
     "delete_cmd_prefix": "del ",
     "library": "var_list.py",
     "varRefreshCmd": "print(var_dic_list())"
    },
    "r": {
     "delete_cmd_postfix": ") ",
     "delete_cmd_prefix": "rm(",
     "library": "var_list.r",
     "varRefreshCmd": "cat(var_dic_list()) "
    }
   },
   "types_to_exclude": [
    "module",
    "function",
    "builtin_function_or_method",
    "instance",
    "_Feature"
   ],
   "window_display": false
  }
 },
 "nbformat": 4,
 "nbformat_minor": 2
}
