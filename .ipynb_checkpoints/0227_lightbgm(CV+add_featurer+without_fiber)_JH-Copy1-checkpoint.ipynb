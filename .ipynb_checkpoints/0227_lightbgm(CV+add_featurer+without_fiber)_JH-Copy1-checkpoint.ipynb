{
 "cells": [
  {
   "cell_type": "markdown",
   "metadata": {},
   "source": [
    "# out_fiberID\n",
    "* cv를 추가변수사용해서 진행"
   ]
  },
  {
   "cell_type": "code",
   "execution_count": 1,
   "metadata": {
    "ExecuteTime": {
     "end_time": "2020-02-27T09:14:31.315955Z",
     "start_time": "2020-02-27T09:14:26.100115Z"
    }
   },
   "outputs": [],
   "source": [
    "import pandas as pd\n",
    "import numpy as np\n",
    "import matplotlib.pyplot as plt\n",
    "import seaborn as sns\n",
    "\n",
    "from sklearn.ensemble import RandomForestClassifier\n",
    "from sklearn.model_selection import train_test_split\n",
    "from sklearn.metrics import confusion_matrix\n",
    "from sklearn.metrics import log_loss\n",
    "\n",
    "\n",
    "import lightgbm as lgb\n",
    "from sklearn.model_selection import KFold, StratifiedKFold, RandomizedSearchCV, GridSearchCV"
   ]
  },
  {
   "cell_type": "code",
   "execution_count": 2,
   "metadata": {
    "ExecuteTime": {
     "end_time": "2020-02-27T09:14:31.318954Z",
     "start_time": "2020-02-27T09:14:31.316954Z"
    }
   },
   "outputs": [],
   "source": [
    "# from google.colab import drive\n",
    "# drive.mount('/content/drive')"
   ]
  },
  {
   "cell_type": "code",
   "execution_count": 3,
   "metadata": {
    "ExecuteTime": {
     "end_time": "2020-02-27T09:14:31.360954Z",
     "start_time": "2020-02-27T09:14:31.321955Z"
    }
   },
   "outputs": [],
   "source": [
    "# #colab용\n",
    "# import os\n",
    "# os.chdir('/content/drive/My Drive/Colab Notebooks/Dacon/천체관측/')"
   ]
  },
  {
   "cell_type": "code",
   "execution_count": 4,
   "metadata": {
    "ExecuteTime": {
     "end_time": "2020-02-27T09:14:33.386892Z",
     "start_time": "2020-02-27T09:14:31.362953Z"
    }
   },
   "outputs": [],
   "source": [
    "# path = \"/content/drive/My Drive/Colab Notebooks/Dacon/천체관측/data/\" #colab\n",
    "path = \"./data/\" #local\n",
    "train_df = pd.read_csv(path+'train.csv',index_col=0)\n",
    "test_df = pd.read_csv(path+'test.csv',index_col=0)\n",
    "sample_submission_df = pd.read_csv(path+'sample_submission.csv',index_col=0)\n",
    "pd.options.display.max_columns = 30"
   ]
  },
  {
   "cell_type": "code",
   "execution_count": 5,
   "metadata": {
    "ExecuteTime": {
     "end_time": "2020-02-27T09:14:33.397892Z",
     "start_time": "2020-02-27T09:14:33.389890Z"
    }
   },
   "outputs": [
    {
     "data": {
      "text/plain": [
       "((199991, 22), (10009, 21))"
      ]
     },
     "execution_count": 5,
     "metadata": {},
     "output_type": "execute_result"
    }
   ],
   "source": [
    "train_df.shape, test_df.shape"
   ]
  },
  {
   "cell_type": "markdown",
   "metadata": {},
   "source": [
    "## DATA Setting"
   ]
  },
  {
   "cell_type": "code",
   "execution_count": 6,
   "metadata": {
    "ExecuteTime": {
     "end_time": "2020-02-27T09:14:33.446889Z",
     "start_time": "2020-02-27T09:14:33.399890Z"
    }
   },
   "outputs": [],
   "source": [
    "def del_outlier(data, min=0, max=60):\n",
    "    up_idx_t=()\n",
    "    dw_idx_t=()\n",
    "    train_light = data.iloc[:,2:]\n",
    "    for i in range(len(train_light.columns)):\n",
    "        col = train_light.columns[i]\n",
    "        up_idx_t+=tuple(data[data[col]>max].index)\n",
    "        dw_idx_t+=tuple(data[data[col]<min].index)\n",
    "    del_idx = set(up_idx_t+dw_idx_t)\n",
    "    \n",
    "    return data[~data.index.isin(del_idx)]"
   ]
  },
  {
   "cell_type": "code",
   "execution_count": 7,
   "metadata": {
    "ExecuteTime": {
     "end_time": "2020-02-27T09:14:33.637883Z",
     "start_time": "2020-02-27T09:14:33.447889Z"
    }
   },
   "outputs": [],
   "source": [
    "train_df = del_outlier(train_df, min=-60, max=60)"
   ]
  },
  {
   "cell_type": "code",
   "execution_count": 8,
   "metadata": {
    "ExecuteTime": {
     "end_time": "2020-02-27T09:14:33.642883Z",
     "start_time": "2020-02-27T09:14:33.638883Z"
    }
   },
   "outputs": [
    {
     "data": {
      "text/plain": [
       "(199805, 22)"
      ]
     },
     "execution_count": 8,
     "metadata": {},
     "output_type": "execute_result"
    }
   ],
   "source": [
    "train_df.shape"
   ]
  },
  {
   "cell_type": "code",
   "execution_count": 9,
   "metadata": {
    "ExecuteTime": {
     "end_time": "2020-02-27T09:14:33.861876Z",
     "start_time": "2020-02-27T09:14:33.643884Z"
    }
   },
   "outputs": [],
   "source": [
    "column_number = {}\n",
    "number_columns = {}\n",
    "for i, column in enumerate(sample_submission_df.columns):\n",
    "    column_number[column] = i\n",
    "    number_columns[i] = column\n",
    "    \n",
    "    \n",
    "def to_number(x, dic):\n",
    "    return dic[x]\n",
    "\n",
    "train_df['type_num'] = train_df['type'].apply(lambda x: to_number(x, column_number))\n"
   ]
  },
  {
   "cell_type": "code",
   "execution_count": 10,
   "metadata": {
    "ExecuteTime": {
     "end_time": "2020-02-27T09:14:33.868876Z",
     "start_time": "2020-02-27T09:14:33.863876Z"
    }
   },
   "outputs": [],
   "source": [
    "def add_minus_feature_all(data,test = False):\n",
    "    '''\n",
    "    combination으로 모든 변수들의 조합에 대해서 컬럼생성 \n",
    "    각 mag에서 가장 높은값의 filter를 받아오는 \"~~mag_MAX\"생성\n",
    "    결과 64개로 증가\n",
    "    '''\n",
    "    from itertools import combinations\n",
    "    n = 0\n",
    "    for count in range(5,21,5):\n",
    "        s = 2\n",
    "        if test == True :\n",
    "            s = 1\n",
    "        selected = data.columns[s:].values[n:count]\n",
    "        mag = str.split(selected[0],'_')[0]\n",
    "#         data[mag+\"_MAX\"] = data[selected].apply(lambda x : str.split(np.argmax(x),'_')[1],axis = 1)\n",
    "        for combi in list(combinations(selected,2)):\n",
    "            name_1st = str.split(combi[0],'_')[1]\n",
    "            name_2nd = str.split(combi[1],'_')[1]\n",
    "            data[mag+\"_\"+name_1st+\"-\"+name_2nd] = data[combi[0]]-data[combi[1]]\n",
    "        n=count\n",
    "    return data"
   ]
  },
  {
   "cell_type": "code",
   "execution_count": 11,
   "metadata": {
    "ExecuteTime": {
     "end_time": "2020-02-27T09:14:33.905876Z",
     "start_time": "2020-02-27T09:14:33.869876Z"
    }
   },
   "outputs": [],
   "source": [
    "def add_minus_feature(data,test = False):\n",
    "    '''\n",
    "    근접변수에 대해서만 컬럼생성 ex) 'fiberMag_u-g', 'fiberMag_g-r', 'fiberMag_r-i', 'fiberMag_i-z'\n",
    "    각 mag에서 가장 높은값의 filter를 받아오는 \"~~mag_MAX\"생성\n",
    "    결과 38개로 증가 \n",
    "    '''\n",
    "    from itertools import combinations\n",
    "    n = 0\n",
    "    m = 0\n",
    "    for count in range(5,21,5):\n",
    "        s = 2\n",
    "        if test == True :\n",
    "            s = 1\n",
    "        selected = data.columns[s:].values[n:count]\n",
    "        mag = str.split(selected[0],'_')[0]\n",
    "#         data[mag+\"_MAX\"] = data[selected].apply(lambda x : str.split(np.argmax(x),'_')[1],axis = 1)\n",
    "        for i in range(0,len(selected)):        \n",
    "            if i>0: \n",
    "                name_1st = str.split(m,'_')[1]\n",
    "                name_2nd = str.split(selected[i],'_')[1]\n",
    "                data[mag+\"_\"+name_1st+\"-\"+name_2nd] = data[m]-data[selected[i]]\n",
    "            m = selected[i]    \n",
    "        n=count\n",
    "    return data"
   ]
  },
  {
   "cell_type": "code",
   "execution_count": 12,
   "metadata": {
    "ExecuteTime": {
     "end_time": "2020-02-27T09:14:34.181866Z",
     "start_time": "2020-02-27T09:14:33.909875Z"
    }
   },
   "outputs": [],
   "source": [
    "train_df = add_minus_feature_all(train_df)\n",
    "test_df = add_minus_feature_all(test_df,True)"
   ]
  },
  {
   "cell_type": "code",
   "execution_count": 13,
   "metadata": {
    "ExecuteTime": {
     "end_time": "2020-02-27T09:14:34.186866Z",
     "start_time": "2020-02-27T09:14:34.182866Z"
    }
   },
   "outputs": [],
   "source": [
    "def PCA_feature(data):\n",
    "    '''\n",
    "    각 ugriz밴드 끼리 PCA를 통해 추가변수 생성 시도\n",
    "    '''\n",
    "    from sklearn.decomposition import PCA\n",
    "    pca = PCA(1)\n",
    "    \n",
    "    ori_name = [\"psfMag\",\"fiberMag\",\"petroMag\",\"modelMag\"]\n",
    "    add_name = [\"u\",\"g\",\"r\",\"i\",\"z\"]\n",
    "    \n",
    "    for add in add_name:\n",
    "        selected = list(map(lambda x : x+\"_\"+add,ori_name))\n",
    "        data['PCA_'+add] = pca.fit_transform(data[selected])\n",
    "    return data"
   ]
  },
  {
   "cell_type": "code",
   "execution_count": 14,
   "metadata": {
    "ExecuteTime": {
     "end_time": "2020-02-27T09:14:36.800785Z",
     "start_time": "2020-02-27T09:14:34.188866Z"
    }
   },
   "outputs": [],
   "source": [
    "train_df = PCA_feature(train_df)\n",
    "test_df = PCA_feature(test_df)"
   ]
  },
  {
   "cell_type": "code",
   "execution_count": 15,
   "metadata": {
    "ExecuteTime": {
     "end_time": "2020-02-27T09:14:36.813786Z",
     "start_time": "2020-02-27T09:14:36.801785Z"
    }
   },
   "outputs": [],
   "source": [
    "def fiberID_agg(data):\n",
    "    '''\n",
    "    fiberID는 1~1000까지 숫자로 구성되어있는 카테고리 변수다.\n",
    "    numeric한 변수가 아니기때문에 이를 이용한 변수 생성이 필요하다 판단되어\n",
    "    ugriz밴드를 기반으로 통계적 수치 median, std를 산출한다\n",
    "    '''\n",
    "    ori_name = [\"psfMag\",\"fiberMag\",\"petroMag\",\"modelMag\"]\n",
    "    add_name = [\"u\",\"g\",\"r\",\"i\",\"z\"]\n",
    "    \n",
    "    for add in add_name:\n",
    "        selected = list(map(lambda x : x+\"_\"+add,ori_name))\n",
    "        columns = data[selected].columns \n",
    "        columns = list(columns)\n",
    "        columns.append(\"fiberID\")\n",
    "\n",
    "        #dictinary_set\n",
    "#         mean_dict = dict(data[columns].groupby(\"fiberID\").mean().mean(axis = 1))\n",
    "#         min_dict = dict(data[columns].groupby(\"fiberID\").min().min(axis = 1))\n",
    "#         max_dict = dict(data[columns].groupby(\"fiberID\").max().max(axis = 1))\n",
    "        median_dict = dict(data[columns].groupby(\"fiberID\").median().median(axis = 1))\n",
    "        std_dict = dict(data[columns].groupby(\"fiberID\").std().std(axis = 1))\n",
    "\n",
    "        #save\n",
    "#         data[\"mean_\"+add] = data.fiberID.apply(lambda x : mean_dict.get(x))\n",
    "#         data[\"min_\"+add] = data.fiberID.apply(lambda x : min_dict.get(x))\n",
    "#         data[\"max_\"+add] = data.fiberID.apply(lambda x : max_dict.get(x))\n",
    "        data[\"median_\"+add] = data.fiberID.apply(lambda x : median_dict.get(x))\n",
    "        data[\"std_\"+add] = data.fiberID.apply(lambda x : std_dict.get(x))\n",
    "    return data"
   ]
  },
  {
   "cell_type": "code",
   "execution_count": 16,
   "metadata": {
    "ExecuteTime": {
     "end_time": "2020-02-27T09:14:39.684696Z",
     "start_time": "2020-02-27T09:14:36.816786Z"
    }
   },
   "outputs": [],
   "source": [
    "train_df = fiberID_agg(train_df)\n",
    "test_df = fiberID_agg(test_df)"
   ]
  },
  {
   "cell_type": "code",
   "execution_count": 17,
   "metadata": {
    "ExecuteTime": {
     "end_time": "2020-02-27T09:14:39.688697Z",
     "start_time": "2020-02-27T09:14:39.685696Z"
    }
   },
   "outputs": [
    {
     "data": {
      "text/plain": [
       "((199805, 78), (10009, 76))"
      ]
     },
     "execution_count": 17,
     "metadata": {},
     "output_type": "execute_result"
    }
   ],
   "source": [
    "train_df.shape,test_df.shape"
   ]
  },
  {
   "cell_type": "code",
   "execution_count": 18,
   "metadata": {
    "ExecuteTime": {
     "end_time": "2020-02-27T09:14:39.901690Z",
     "start_time": "2020-02-27T09:14:39.689696Z"
    }
   },
   "outputs": [
    {
     "data": {
      "text/plain": [
       "Index(['type', 'fiberID', 'psfMag_u', 'psfMag_g', 'psfMag_r', 'psfMag_i',\n",
       "       'psfMag_z', 'fiberMag_u', 'fiberMag_g', 'fiberMag_r', 'fiberMag_i',\n",
       "       'fiberMag_z', 'petroMag_u', 'petroMag_g', 'petroMag_r', 'petroMag_i',\n",
       "       'petroMag_z', 'modelMag_u', 'modelMag_g', 'modelMag_r', 'modelMag_i',\n",
       "       'modelMag_z', 'type_num', 'psfMag_u-g', 'psfMag_u-r', 'psfMag_u-i',\n",
       "       'psfMag_u-z', 'psfMag_g-r', 'psfMag_g-i', 'psfMag_g-z', 'psfMag_r-i',\n",
       "       'psfMag_r-z', 'psfMag_i-z', 'fiberMag_u-g', 'fiberMag_u-r',\n",
       "       'fiberMag_u-i', 'fiberMag_u-z', 'fiberMag_g-r', 'fiberMag_g-i',\n",
       "       'fiberMag_g-z', 'fiberMag_r-i', 'fiberMag_r-z', 'fiberMag_i-z',\n",
       "       'petroMag_u-g', 'petroMag_u-r', 'petroMag_u-i', 'petroMag_u-z',\n",
       "       'petroMag_g-r', 'petroMag_g-i', 'petroMag_g-z', 'petroMag_r-i',\n",
       "       'petroMag_r-z', 'petroMag_i-z', 'modelMag_u-g', 'modelMag_u-r',\n",
       "       'modelMag_u-i', 'modelMag_u-z', 'modelMag_g-r', 'modelMag_g-i',\n",
       "       'modelMag_g-z', 'modelMag_r-i', 'modelMag_r-z', 'modelMag_i-z', 'PCA_u',\n",
       "       'PCA_g', 'PCA_r', 'PCA_i', 'PCA_z', 'median_u', 'std_u', 'median_g',\n",
       "       'std_g', 'median_r', 'std_r', 'median_i', 'std_i', 'median_z', 'std_z'],\n",
       "      dtype='object')"
      ]
     },
     "execution_count": 18,
     "metadata": {},
     "output_type": "execute_result"
    }
   ],
   "source": [
    "train_df.columns"
   ]
  },
  {
   "cell_type": "markdown",
   "metadata": {},
   "source": [
    "### CV"
   ]
  },
  {
   "cell_type": "code",
   "execution_count": 19,
   "metadata": {
    "ExecuteTime": {
     "end_time": "2020-02-27T09:15:22.052208Z",
     "start_time": "2020-02-27T09:15:21.730219Z"
    }
   },
   "outputs": [],
   "source": [
    "X = train_df.drop(columns=['type', 'type_num','fiberID'], axis=1)\n",
    "y = train_df['type_num']\n",
    "test_X = test_df.drop(columns = ['fiberID'])"
   ]
  },
  {
   "cell_type": "code",
   "execution_count": 20,
   "metadata": {
    "ExecuteTime": {
     "end_time": "2020-02-27T09:15:23.270171Z",
     "start_time": "2020-02-27T09:15:23.267170Z"
    }
   },
   "outputs": [],
   "source": [
    "import sklearn\n",
    "logloss = sklearn.metrics.make_scorer(log_loss,needs_proba=True, labels=y)"
   ]
  },
  {
   "cell_type": "code",
   "execution_count": 21,
   "metadata": {
    "ExecuteTime": {
     "end_time": "2020-02-27T09:15:26.225080Z",
     "start_time": "2020-02-27T09:15:26.220081Z"
    }
   },
   "outputs": [],
   "source": [
    "folds = 3\n",
    "Fold = StratifiedKFold(n_splits=folds, shuffle=True,random_state=42)\n",
    "kfold =KFold(n_splits=folds, shuffle=True,random_state=42)"
   ]
  },
  {
   "cell_type": "code",
   "execution_count": null,
   "metadata": {
    "ExecuteTime": {
     "end_time": "2020-02-24T06:36:23.306655Z",
     "start_time": "2020-02-24T06:36:23.302656Z"
    }
   },
   "outputs": [],
   "source": [
    "params = {\"max_depth\" : (7,8,9),\n",
    "         \"learning_rate\": (0.01,0.05, 0.1),\n",
    "         \"num_leaves\": (127,255,511),\n",
    "         \"min_child_samples\": (30,40,50),\n",
    "         \"lambda_l1\": (0,3,5,7,9),\n",
    "         \"lambda_l2\": (0,3,5,7,9)}"
   ]
  },
  {
   "cell_type": "code",
   "execution_count": null,
   "metadata": {
    "ExecuteTime": {
     "end_time": "2020-02-24T12:15:08.050915Z",
     "start_time": "2020-02-24T12:15:08.041910Z"
    }
   },
   "outputs": [],
   "source": [
    "defaut_lgbmc = lgb.LGBMClassifier(n_estimators=1500,random_state=1029,objective =\"multiclass\",class_weight = 'balanced')"
   ]
  },
  {
   "cell_type": "code",
   "execution_count": null,
   "metadata": {
    "ExecuteTime": {
     "end_time": "2020-02-24T12:15:09.205021Z",
     "start_time": "2020-02-24T12:15:09.196020Z"
    }
   },
   "outputs": [],
   "source": [
    "random_search  = RandomizedSearchCV(defaut_lgbmc,param_distributions=params, cv=3, verbose =100 ,n_iter = 8,scoring=logloss)"
   ]
  },
  {
   "cell_type": "code",
   "execution_count": null,
   "metadata": {
    "ExecuteTime": {
     "end_time": "2020-02-24T12:30:39.237628Z",
     "start_time": "2020-02-24T12:15:10.327080Z"
    }
   },
   "outputs": [],
   "source": [
    "#와 3시간.. fold = 3,cv =5, n_iter =2 \n",
    "for fold, (train_ids, val_ids) in enumerate(Fold.split(X,y)):\n",
    "    print(\"★\", fold, \"start\")\n",
    "    eval_set = [(X.iloc[train_ids], y.iloc[train_ids]),(X.iloc[val_ids], y.iloc[val_ids])]\n",
    "    eval_names = ['train','val']\n",
    "    random_search.fit(X, y, eval_set = eval_set, eval_names = eval_names, early_stopping_rounds = 100,verbose = 100)"
   ]
  },
  {
   "cell_type": "code",
   "execution_count": null,
   "metadata": {},
   "outputs": [],
   "source": [
    "best_params = random_search.best_params_\n",
    "best_score = random_search.best_score_\n",
    "best_model = random_search.best_estimator_\n",
    "\n",
    "with open('best_pram.txt', 'w' ) as best:\n",
    "    best.write(\"best_params : \" + str(best_params) + \"\\n\")\n",
    "    best.write(\"best_score : \" + str(best_score)+\"\\n\")\n",
    "    best.write(\"best_model : \" + str(best_model)+\"\\n\")"
   ]
  },
  {
   "cell_type": "code",
   "execution_count": null,
   "metadata": {
    "ExecuteTime": {
     "end_time": "2020-02-24T10:13:46.357861Z",
     "start_time": "2020-02-24T10:13:46.354872Z"
    }
   },
   "outputs": [],
   "source": [
    "params2 = random_search.best_params_"
   ]
  },
  {
   "cell_type": "code",
   "execution_count": null,
   "metadata": {
    "ExecuteTime": {
     "end_time": "2020-02-24T10:13:48.378104Z",
     "start_time": "2020-02-24T10:13:48.370114Z"
    }
   },
   "outputs": [],
   "source": [
    "params2"
   ]
  },
  {
   "cell_type": "code",
   "execution_count": null,
   "metadata": {
    "ExecuteTime": {
     "end_time": "2020-02-24T10:14:02.530103Z",
     "start_time": "2020-02-24T10:14:02.524103Z"
    }
   },
   "outputs": [],
   "source": [
    "print(random_search.best_score_)"
   ]
  },
  {
   "cell_type": "code",
   "execution_count": null,
   "metadata": {
    "ExecuteTime": {
     "end_time": "2020-02-24T10:13:50.142143Z",
     "start_time": "2020-02-24T10:13:50.139133Z"
    }
   },
   "outputs": [],
   "source": [
    "gmodel = random_search.best_estimator_"
   ]
  },
  {
   "cell_type": "code",
   "execution_count": null,
   "metadata": {
    "ExecuteTime": {
     "end_time": "2020-02-24T10:13:50.738939Z",
     "start_time": "2020-02-24T10:13:50.733926Z"
    }
   },
   "outputs": [],
   "source": [
    "print(gmodel)"
   ]
  },
  {
   "cell_type": "code",
   "execution_count": null,
   "metadata": {
    "ExecuteTime": {
     "end_time": "2020-02-24T10:31:08.478282Z",
     "start_time": "2020-02-24T10:14:54.586815Z"
    }
   },
   "outputs": [],
   "source": [
    "gmodel.fit(X,y)"
   ]
  },
  {
   "cell_type": "code",
   "execution_count": null,
   "metadata": {
    "ExecuteTime": {
     "end_time": "2020-02-24T10:45:53.187789Z",
     "start_time": "2020-02-24T10:35:00.025481Z"
    }
   },
   "outputs": [],
   "source": [
    "train_y_pred = gmodel.predict_proba(X)"
   ]
  },
  {
   "cell_type": "code",
   "execution_count": null,
   "metadata": {
    "ExecuteTime": {
     "end_time": "2020-02-24T10:51:05.064718Z",
     "start_time": "2020-02-24T10:51:05.056719Z"
    }
   },
   "outputs": [],
   "source": [
    "train_y_pred"
   ]
  },
  {
   "cell_type": "code",
   "execution_count": null,
   "metadata": {
    "ExecuteTime": {
     "end_time": "2020-02-24T10:31:46.094710Z",
     "start_time": "2020-02-24T10:31:09.465252Z"
    }
   },
   "outputs": [],
   "source": [
    "y_pred = gmodel.predict_proba(test_X)"
   ]
  },
  {
   "cell_type": "code",
   "execution_count": null,
   "metadata": {
    "ExecuteTime": {
     "end_time": "2020-02-24T10:31:47.279956Z",
     "start_time": "2020-02-24T10:31:47.267954Z"
    }
   },
   "outputs": [],
   "source": [
    "y_pred"
   ]
  },
  {
   "cell_type": "code",
   "execution_count": null,
   "metadata": {
    "ExecuteTime": {
     "end_time": "2020-02-24T10:45:54.911846Z",
     "start_time": "2020-02-24T10:45:54.525858Z"
    }
   },
   "outputs": [],
   "source": [
    "log_loss(y,train_y_pred,labels= list(set(y)))"
   ]
  },
  {
   "cell_type": "code",
   "execution_count": null,
   "metadata": {
    "ExecuteTime": {
     "end_time": "2020-02-24T06:35:00.772362Z",
     "start_time": "2020-02-23T23:45:15.155Z"
    }
   },
   "outputs": [],
   "source": [
    "submission = pd.DataFrame(data=y_pred, columns=sample_submission_df.columns, index=sample_submission_df.index)\n",
    "submission.to_csv('submission.csv', index=True)"
   ]
  },
  {
   "cell_type": "markdown",
   "metadata": {},
   "source": [
    "## Modeling"
   ]
  },
  {
   "cell_type": "code",
   "execution_count": null,
   "metadata": {},
   "outputs": [],
   "source": []
  }
 ],
 "metadata": {
  "kernelspec": {
   "display_name": "Python 3",
   "language": "python",
   "name": "python3"
  },
  "language_info": {
   "codemirror_mode": {
    "name": "ipython",
    "version": 3
   },
   "file_extension": ".py",
   "mimetype": "text/x-python",
   "name": "python",
   "nbconvert_exporter": "python",
   "pygments_lexer": "ipython3",
   "version": "3.6.5"
  },
  "varInspector": {
   "cols": {
    "lenName": 16,
    "lenType": 16,
    "lenVar": 40
   },
   "kernels_config": {
    "python": {
     "delete_cmd_postfix": "",
     "delete_cmd_prefix": "del ",
     "library": "var_list.py",
     "varRefreshCmd": "print(var_dic_list())"
    },
    "r": {
     "delete_cmd_postfix": ") ",
     "delete_cmd_prefix": "rm(",
     "library": "var_list.r",
     "varRefreshCmd": "cat(var_dic_list()) "
    }
   },
   "types_to_exclude": [
    "module",
    "function",
    "builtin_function_or_method",
    "instance",
    "_Feature"
   ],
   "window_display": false
  }
 },
 "nbformat": 4,
 "nbformat_minor": 2
}
