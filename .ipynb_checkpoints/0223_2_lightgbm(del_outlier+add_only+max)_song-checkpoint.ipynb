{
 "cells": [
  {
   "cell_type": "markdown",
   "metadata": {},
   "source": [
    "# Tune_lgb\n",
    "* 제출결과 : "
   ]
  },
  {
   "cell_type": "code",
   "execution_count": 1,
   "metadata": {
    "ExecuteTime": {
     "end_time": "2020-02-23T10:58:54.621000Z",
     "start_time": "2020-02-23T10:58:44.396000Z"
    }
   },
   "outputs": [
    {
     "data": {
      "text/html": [
       "<style>.container {width:100% !important; }</style>"
      ],
      "text/plain": [
       "<IPython.core.display.HTML object>"
      ]
     },
     "metadata": {},
     "output_type": "display_data"
    }
   ],
   "source": [
    "import pandas as pd\n",
    "import numpy as np\n",
    "import matplotlib.pyplot as plt\n",
    "import seaborn as sns\n",
    "\n",
    "from sklearn.ensemble import RandomForestClassifier\n",
    "from sklearn.model_selection import train_test_split\n",
    "from sklearn.metrics import confusion_matrix\n",
    "from sklearn.metrics import log_loss\n",
    "import lightgbm as lgb\n",
    "\n",
    "from IPython.core.display import display, HTML\n",
    "display(HTML('<style>.container {width:100% !important; }</style>'))"
   ]
  },
  {
   "cell_type": "code",
   "execution_count": 2,
   "metadata": {
    "ExecuteTime": {
     "end_time": "2020-02-23T10:58:55.888000Z",
     "start_time": "2020-02-23T10:58:54.628000Z"
    }
   },
   "outputs": [],
   "source": [
    "path = \"./data/\" \n",
    "train_df = pd.read_csv(path+'train.csv',index_col=0)\n",
    "test_df = pd.read_csv(path+'test.csv',index_col=0)\n",
    "sample_submission_df = pd.read_csv(path+'sample_submission.csv',index_col=0)\n",
    "pd.options.display.max_columns = 30"
   ]
  },
  {
   "cell_type": "markdown",
   "metadata": {},
   "source": [
    "## 전처리\n",
    " - 이상치 확인 및 처리"
   ]
  },
  {
   "cell_type": "code",
   "execution_count": 3,
   "metadata": {
    "ExecuteTime": {
     "end_time": "2020-02-23T10:58:56.169000Z",
     "start_time": "2020-02-23T10:58:55.933000Z"
    }
   },
   "outputs": [
    {
     "data": {
      "text/html": [
       "<div>\n",
       "<style scoped>\n",
       "    .dataframe tbody tr th:only-of-type {\n",
       "        vertical-align: middle;\n",
       "    }\n",
       "\n",
       "    .dataframe tbody tr th {\n",
       "        vertical-align: top;\n",
       "    }\n",
       "\n",
       "    .dataframe thead th {\n",
       "        text-align: right;\n",
       "    }\n",
       "</style>\n",
       "<table border=\"1\" class=\"dataframe\">\n",
       "  <thead>\n",
       "    <tr style=\"text-align: right;\">\n",
       "      <th></th>\n",
       "      <th>fiberID</th>\n",
       "      <th>psfMag_u</th>\n",
       "      <th>psfMag_g</th>\n",
       "      <th>psfMag_r</th>\n",
       "      <th>psfMag_i</th>\n",
       "      <th>psfMag_z</th>\n",
       "      <th>fiberMag_u</th>\n",
       "      <th>fiberMag_g</th>\n",
       "      <th>fiberMag_r</th>\n",
       "      <th>fiberMag_i</th>\n",
       "      <th>fiberMag_z</th>\n",
       "      <th>petroMag_u</th>\n",
       "      <th>petroMag_g</th>\n",
       "      <th>petroMag_r</th>\n",
       "      <th>petroMag_i</th>\n",
       "      <th>petroMag_z</th>\n",
       "      <th>modelMag_u</th>\n",
       "      <th>modelMag_g</th>\n",
       "      <th>modelMag_r</th>\n",
       "      <th>modelMag_i</th>\n",
       "      <th>modelMag_z</th>\n",
       "    </tr>\n",
       "  </thead>\n",
       "  <tbody>\n",
       "    <tr>\n",
       "      <td>count</td>\n",
       "      <td>199991.000000</td>\n",
       "      <td>1.999910e+05</td>\n",
       "      <td>199991.000000</td>\n",
       "      <td>199991.000000</td>\n",
       "      <td>199991.000000</td>\n",
       "      <td>199991.000000</td>\n",
       "      <td>1.999910e+05</td>\n",
       "      <td>199991.000000</td>\n",
       "      <td>199991.000000</td>\n",
       "      <td>199991.000000</td>\n",
       "      <td>199991.000000</td>\n",
       "      <td>199991.000000</td>\n",
       "      <td>199991.000000</td>\n",
       "      <td>199991.000000</td>\n",
       "      <td>199991.000000</td>\n",
       "      <td>199991.000000</td>\n",
       "      <td>199991.000000</td>\n",
       "      <td>199991.000000</td>\n",
       "      <td>199991.000000</td>\n",
       "      <td>199991.000000</td>\n",
       "      <td>199991.000000</td>\n",
       "    </tr>\n",
       "    <tr>\n",
       "      <td>mean</td>\n",
       "      <td>360.830152</td>\n",
       "      <td>-6.750146e+00</td>\n",
       "      <td>18.675373</td>\n",
       "      <td>18.401235</td>\n",
       "      <td>18.043495</td>\n",
       "      <td>17.663526</td>\n",
       "      <td>1.084986e+01</td>\n",
       "      <td>19.072693</td>\n",
       "      <td>19.134483</td>\n",
       "      <td>18.183331</td>\n",
       "      <td>18.000882</td>\n",
       "      <td>21.837903</td>\n",
       "      <td>18.454136</td>\n",
       "      <td>18.481525</td>\n",
       "      <td>17.686617</td>\n",
       "      <td>17.699207</td>\n",
       "      <td>20.110991</td>\n",
       "      <td>18.544375</td>\n",
       "      <td>18.181544</td>\n",
       "      <td>17.692395</td>\n",
       "      <td>17.189281</td>\n",
       "    </tr>\n",
       "    <tr>\n",
       "      <td>std</td>\n",
       "      <td>225.305890</td>\n",
       "      <td>1.187678e+04</td>\n",
       "      <td>155.423024</td>\n",
       "      <td>127.128078</td>\n",
       "      <td>116.622194</td>\n",
       "      <td>123.735298</td>\n",
       "      <td>4.172116e+03</td>\n",
       "      <td>749.256162</td>\n",
       "      <td>90.049058</td>\n",
       "      <td>122.378972</td>\n",
       "      <td>145.862346</td>\n",
       "      <td>789.472333</td>\n",
       "      <td>154.376277</td>\n",
       "      <td>97.240448</td>\n",
       "      <td>145.730872</td>\n",
       "      <td>142.691880</td>\n",
       "      <td>122.299062</td>\n",
       "      <td>161.728183</td>\n",
       "      <td>133.984475</td>\n",
       "      <td>131.183416</td>\n",
       "      <td>133.685138</td>\n",
       "    </tr>\n",
       "    <tr>\n",
       "      <td>min</td>\n",
       "      <td>1.000000</td>\n",
       "      <td>-5.310802e+06</td>\n",
       "      <td>-40022.466071</td>\n",
       "      <td>-27184.795793</td>\n",
       "      <td>-26566.310827</td>\n",
       "      <td>-24878.828280</td>\n",
       "      <td>-1.864766e+06</td>\n",
       "      <td>-215882.917191</td>\n",
       "      <td>-21802.656144</td>\n",
       "      <td>-20208.516262</td>\n",
       "      <td>-26505.602101</td>\n",
       "      <td>-24463.431833</td>\n",
       "      <td>-25958.752324</td>\n",
       "      <td>-23948.588523</td>\n",
       "      <td>-40438.184078</td>\n",
       "      <td>-30070.729379</td>\n",
       "      <td>-26236.578659</td>\n",
       "      <td>-36902.402336</td>\n",
       "      <td>-36439.638493</td>\n",
       "      <td>-38969.416822</td>\n",
       "      <td>-26050.710196</td>\n",
       "    </tr>\n",
       "    <tr>\n",
       "      <td>25%</td>\n",
       "      <td>174.000000</td>\n",
       "      <td>1.965259e+01</td>\n",
       "      <td>18.701180</td>\n",
       "      <td>18.048572</td>\n",
       "      <td>17.747663</td>\n",
       "      <td>17.425523</td>\n",
       "      <td>1.994040e+01</td>\n",
       "      <td>18.902851</td>\n",
       "      <td>18.259352</td>\n",
       "      <td>17.903615</td>\n",
       "      <td>17.606148</td>\n",
       "      <td>19.247795</td>\n",
       "      <td>18.113933</td>\n",
       "      <td>17.479794</td>\n",
       "      <td>17.050294</td>\n",
       "      <td>16.804705</td>\n",
       "      <td>19.266214</td>\n",
       "      <td>18.076120</td>\n",
       "      <td>17.423425</td>\n",
       "      <td>16.977671</td>\n",
       "      <td>16.705774</td>\n",
       "    </tr>\n",
       "    <tr>\n",
       "      <td>50%</td>\n",
       "      <td>349.000000</td>\n",
       "      <td>2.087136e+01</td>\n",
       "      <td>19.904235</td>\n",
       "      <td>19.454492</td>\n",
       "      <td>19.043895</td>\n",
       "      <td>18.611799</td>\n",
       "      <td>2.104910e+01</td>\n",
       "      <td>20.069038</td>\n",
       "      <td>19.631419</td>\n",
       "      <td>19.188763</td>\n",
       "      <td>18.710967</td>\n",
       "      <td>20.366848</td>\n",
       "      <td>19.586559</td>\n",
       "      <td>19.182789</td>\n",
       "      <td>18.693370</td>\n",
       "      <td>18.174592</td>\n",
       "      <td>20.406840</td>\n",
       "      <td>19.547674</td>\n",
       "      <td>19.143156</td>\n",
       "      <td>18.641756</td>\n",
       "      <td>18.100997</td>\n",
       "    </tr>\n",
       "    <tr>\n",
       "      <td>75%</td>\n",
       "      <td>526.000000</td>\n",
       "      <td>2.216043e+01</td>\n",
       "      <td>21.150297</td>\n",
       "      <td>20.515936</td>\n",
       "      <td>20.073528</td>\n",
       "      <td>19.883760</td>\n",
       "      <td>2.233754e+01</td>\n",
       "      <td>21.385830</td>\n",
       "      <td>20.773911</td>\n",
       "      <td>20.331419</td>\n",
       "      <td>20.133179</td>\n",
       "      <td>21.797480</td>\n",
       "      <td>21.004397</td>\n",
       "      <td>20.457491</td>\n",
       "      <td>20.019112</td>\n",
       "      <td>19.807652</td>\n",
       "      <td>21.992898</td>\n",
       "      <td>20.962386</td>\n",
       "      <td>20.408140</td>\n",
       "      <td>19.968846</td>\n",
       "      <td>19.819554</td>\n",
       "    </tr>\n",
       "    <tr>\n",
       "      <td>max</td>\n",
       "      <td>1000.000000</td>\n",
       "      <td>1.877392e+04</td>\n",
       "      <td>3538.984910</td>\n",
       "      <td>3048.110913</td>\n",
       "      <td>4835.218639</td>\n",
       "      <td>9823.740407</td>\n",
       "      <td>4.870154e+03</td>\n",
       "      <td>248077.513380</td>\n",
       "      <td>12084.735440</td>\n",
       "      <td>8059.638535</td>\n",
       "      <td>18358.921741</td>\n",
       "      <td>298771.019041</td>\n",
       "      <td>12139.815877</td>\n",
       "      <td>7003.136546</td>\n",
       "      <td>9772.190537</td>\n",
       "      <td>17403.789263</td>\n",
       "      <td>14488.251976</td>\n",
       "      <td>10582.058590</td>\n",
       "      <td>12237.951703</td>\n",
       "      <td>4062.499371</td>\n",
       "      <td>7420.534172</td>\n",
       "    </tr>\n",
       "  </tbody>\n",
       "</table>\n",
       "</div>"
      ],
      "text/plain": [
       "             fiberID      psfMag_u       psfMag_g       psfMag_r  \\\n",
       "count  199991.000000  1.999910e+05  199991.000000  199991.000000   \n",
       "mean      360.830152 -6.750146e+00      18.675373      18.401235   \n",
       "std       225.305890  1.187678e+04     155.423024     127.128078   \n",
       "min         1.000000 -5.310802e+06  -40022.466071  -27184.795793   \n",
       "25%       174.000000  1.965259e+01      18.701180      18.048572   \n",
       "50%       349.000000  2.087136e+01      19.904235      19.454492   \n",
       "75%       526.000000  2.216043e+01      21.150297      20.515936   \n",
       "max      1000.000000  1.877392e+04    3538.984910    3048.110913   \n",
       "\n",
       "            psfMag_i       psfMag_z    fiberMag_u     fiberMag_g  \\\n",
       "count  199991.000000  199991.000000  1.999910e+05  199991.000000   \n",
       "mean       18.043495      17.663526  1.084986e+01      19.072693   \n",
       "std       116.622194     123.735298  4.172116e+03     749.256162   \n",
       "min    -26566.310827  -24878.828280 -1.864766e+06 -215882.917191   \n",
       "25%        17.747663      17.425523  1.994040e+01      18.902851   \n",
       "50%        19.043895      18.611799  2.104910e+01      20.069038   \n",
       "75%        20.073528      19.883760  2.233754e+01      21.385830   \n",
       "max      4835.218639    9823.740407  4.870154e+03  248077.513380   \n",
       "\n",
       "          fiberMag_r     fiberMag_i     fiberMag_z     petroMag_u  \\\n",
       "count  199991.000000  199991.000000  199991.000000  199991.000000   \n",
       "mean       19.134483      18.183331      18.000882      21.837903   \n",
       "std        90.049058     122.378972     145.862346     789.472333   \n",
       "min    -21802.656144  -20208.516262  -26505.602101  -24463.431833   \n",
       "25%        18.259352      17.903615      17.606148      19.247795   \n",
       "50%        19.631419      19.188763      18.710967      20.366848   \n",
       "75%        20.773911      20.331419      20.133179      21.797480   \n",
       "max     12084.735440    8059.638535   18358.921741  298771.019041   \n",
       "\n",
       "          petroMag_g     petroMag_r     petroMag_i     petroMag_z  \\\n",
       "count  199991.000000  199991.000000  199991.000000  199991.000000   \n",
       "mean       18.454136      18.481525      17.686617      17.699207   \n",
       "std       154.376277      97.240448     145.730872     142.691880   \n",
       "min    -25958.752324  -23948.588523  -40438.184078  -30070.729379   \n",
       "25%        18.113933      17.479794      17.050294      16.804705   \n",
       "50%        19.586559      19.182789      18.693370      18.174592   \n",
       "75%        21.004397      20.457491      20.019112      19.807652   \n",
       "max     12139.815877    7003.136546    9772.190537   17403.789263   \n",
       "\n",
       "          modelMag_u     modelMag_g     modelMag_r     modelMag_i  \\\n",
       "count  199991.000000  199991.000000  199991.000000  199991.000000   \n",
       "mean       20.110991      18.544375      18.181544      17.692395   \n",
       "std       122.299062     161.728183     133.984475     131.183416   \n",
       "min    -26236.578659  -36902.402336  -36439.638493  -38969.416822   \n",
       "25%        19.266214      18.076120      17.423425      16.977671   \n",
       "50%        20.406840      19.547674      19.143156      18.641756   \n",
       "75%        21.992898      20.962386      20.408140      19.968846   \n",
       "max     14488.251976   10582.058590   12237.951703    4062.499371   \n",
       "\n",
       "          modelMag_z  \n",
       "count  199991.000000  \n",
       "mean       17.189281  \n",
       "std       133.685138  \n",
       "min    -26050.710196  \n",
       "25%        16.705774  \n",
       "50%        18.100997  \n",
       "75%        19.819554  \n",
       "max      7420.534172  "
      ]
     },
     "execution_count": 3,
     "metadata": {},
     "output_type": "execute_result"
    }
   ],
   "source": [
    "train_df.describe()"
   ]
  },
  {
   "cell_type": "code",
   "execution_count": 8,
   "metadata": {
    "ExecuteTime": {
     "end_time": "2020-02-23T10:58:58.137000Z",
     "start_time": "2020-02-23T10:58:58.131000Z"
    }
   },
   "outputs": [],
   "source": [
    "def del_outlier(data, min=0, max=60):\n",
    "    up_idx_t=()\n",
    "    dw_idx_t=()\n",
    "    train_light = data.iloc[:,2:]\n",
    "    for i in range(len(train_light.columns)):\n",
    "        col = train_light.columns[i]\n",
    "        up_idx_t+=tuple(data[data[col]>max].index)\n",
    "        dw_idx_t+=tuple(data[data[col]<min].index)\n",
    "    del_idx = set(up_idx_t+dw_idx_t)\n",
    "    \n",
    "    return data[~data.index.isin(del_idx)]"
   ]
  },
  {
   "cell_type": "code",
   "execution_count": 9,
   "metadata": {
    "ExecuteTime": {
     "end_time": "2020-02-23T10:58:58.629000Z",
     "start_time": "2020-02-23T10:58:58.547000Z"
    }
   },
   "outputs": [],
   "source": [
    "train_df = del_outlier(train_df, min=-20, max=30)"
   ]
  },
  {
   "cell_type": "code",
   "execution_count": 10,
   "metadata": {
    "ExecuteTime": {
     "end_time": "2020-02-23T10:58:58.954000Z",
     "start_time": "2020-02-23T10:58:58.739000Z"
    }
   },
   "outputs": [
    {
     "data": {
      "text/html": [
       "<div>\n",
       "<style scoped>\n",
       "    .dataframe tbody tr th:only-of-type {\n",
       "        vertical-align: middle;\n",
       "    }\n",
       "\n",
       "    .dataframe tbody tr th {\n",
       "        vertical-align: top;\n",
       "    }\n",
       "\n",
       "    .dataframe thead th {\n",
       "        text-align: right;\n",
       "    }\n",
       "</style>\n",
       "<table border=\"1\" class=\"dataframe\">\n",
       "  <thead>\n",
       "    <tr style=\"text-align: right;\">\n",
       "      <th></th>\n",
       "      <th>fiberID</th>\n",
       "      <th>psfMag_u</th>\n",
       "      <th>psfMag_g</th>\n",
       "      <th>psfMag_r</th>\n",
       "      <th>psfMag_i</th>\n",
       "      <th>psfMag_z</th>\n",
       "      <th>fiberMag_u</th>\n",
       "      <th>fiberMag_g</th>\n",
       "      <th>fiberMag_r</th>\n",
       "      <th>fiberMag_i</th>\n",
       "      <th>fiberMag_z</th>\n",
       "      <th>petroMag_u</th>\n",
       "      <th>petroMag_g</th>\n",
       "      <th>petroMag_r</th>\n",
       "      <th>petroMag_i</th>\n",
       "      <th>petroMag_z</th>\n",
       "      <th>modelMag_u</th>\n",
       "      <th>modelMag_g</th>\n",
       "      <th>modelMag_r</th>\n",
       "      <th>modelMag_i</th>\n",
       "      <th>modelMag_z</th>\n",
       "    </tr>\n",
       "  </thead>\n",
       "  <tbody>\n",
       "    <tr>\n",
       "      <td>count</td>\n",
       "      <td>198761.000000</td>\n",
       "      <td>198761.000000</td>\n",
       "      <td>198761.000000</td>\n",
       "      <td>198761.000000</td>\n",
       "      <td>198761.000000</td>\n",
       "      <td>198761.000000</td>\n",
       "      <td>198761.000000</td>\n",
       "      <td>198761.000000</td>\n",
       "      <td>198761.000000</td>\n",
       "      <td>198761.000000</td>\n",
       "      <td>198761.000000</td>\n",
       "      <td>198761.000000</td>\n",
       "      <td>198761.000000</td>\n",
       "      <td>198761.000000</td>\n",
       "      <td>198761.000000</td>\n",
       "      <td>198761.000000</td>\n",
       "      <td>198761.000000</td>\n",
       "      <td>198761.000000</td>\n",
       "      <td>198761.000000</td>\n",
       "      <td>198761.000000</td>\n",
       "      <td>198761.000000</td>\n",
       "    </tr>\n",
       "    <tr>\n",
       "      <td>mean</td>\n",
       "      <td>360.932929</td>\n",
       "      <td>20.969549</td>\n",
       "      <td>19.849131</td>\n",
       "      <td>19.278713</td>\n",
       "      <td>18.866056</td>\n",
       "      <td>18.606822</td>\n",
       "      <td>21.160965</td>\n",
       "      <td>20.081661</td>\n",
       "      <td>19.500382</td>\n",
       "      <td>19.084324</td>\n",
       "      <td>18.826086</td>\n",
       "      <td>20.669861</td>\n",
       "      <td>19.585208</td>\n",
       "      <td>19.000893</td>\n",
       "      <td>18.598407</td>\n",
       "      <td>18.384088</td>\n",
       "      <td>20.716384</td>\n",
       "      <td>19.520947</td>\n",
       "      <td>18.934052</td>\n",
       "      <td>18.517116</td>\n",
       "      <td>18.272822</td>\n",
       "    </tr>\n",
       "    <tr>\n",
       "      <td>std</td>\n",
       "      <td>225.365186</td>\n",
       "      <td>2.065293</td>\n",
       "      <td>1.849294</td>\n",
       "      <td>1.697810</td>\n",
       "      <td>1.619697</td>\n",
       "      <td>1.676444</td>\n",
       "      <td>1.956557</td>\n",
       "      <td>1.835183</td>\n",
       "      <td>1.702326</td>\n",
       "      <td>1.625115</td>\n",
       "      <td>1.675660</td>\n",
       "      <td>2.267652</td>\n",
       "      <td>2.019985</td>\n",
       "      <td>1.903520</td>\n",
       "      <td>1.849471</td>\n",
       "      <td>1.985692</td>\n",
       "      <td>2.171815</td>\n",
       "      <td>1.949603</td>\n",
       "      <td>1.855083</td>\n",
       "      <td>1.792854</td>\n",
       "      <td>1.859073</td>\n",
       "    </tr>\n",
       "    <tr>\n",
       "      <td>min</td>\n",
       "      <td>1.000000</td>\n",
       "      <td>-12.978725</td>\n",
       "      <td>2.741681</td>\n",
       "      <td>-11.043026</td>\n",
       "      <td>-6.406284</td>\n",
       "      <td>1.762241</td>\n",
       "      <td>-10.838092</td>\n",
       "      <td>-8.294703</td>\n",
       "      <td>11.795394</td>\n",
       "      <td>10.646672</td>\n",
       "      <td>8.049850</td>\n",
       "      <td>-18.750419</td>\n",
       "      <td>-18.640710</td>\n",
       "      <td>-18.553707</td>\n",
       "      <td>-15.223252</td>\n",
       "      <td>-17.035990</td>\n",
       "      <td>3.444448</td>\n",
       "      <td>12.498143</td>\n",
       "      <td>10.286917</td>\n",
       "      <td>11.337467</td>\n",
       "      <td>10.977328</td>\n",
       "    </tr>\n",
       "    <tr>\n",
       "      <td>25%</td>\n",
       "      <td>174.000000</td>\n",
       "      <td>19.645260</td>\n",
       "      <td>18.693076</td>\n",
       "      <td>18.043552</td>\n",
       "      <td>17.741547</td>\n",
       "      <td>17.420206</td>\n",
       "      <td>19.935419</td>\n",
       "      <td>18.897684</td>\n",
       "      <td>18.255634</td>\n",
       "      <td>17.900300</td>\n",
       "      <td>17.602430</td>\n",
       "      <td>19.243948</td>\n",
       "      <td>18.110549</td>\n",
       "      <td>17.478204</td>\n",
       "      <td>17.048850</td>\n",
       "      <td>16.802366</td>\n",
       "      <td>19.260892</td>\n",
       "      <td>18.070515</td>\n",
       "      <td>17.419782</td>\n",
       "      <td>16.974990</td>\n",
       "      <td>16.701866</td>\n",
       "    </tr>\n",
       "    <tr>\n",
       "      <td>50%</td>\n",
       "      <td>349.000000</td>\n",
       "      <td>20.859926</td>\n",
       "      <td>19.895233</td>\n",
       "      <td>19.448093</td>\n",
       "      <td>19.036998</td>\n",
       "      <td>18.604207</td>\n",
       "      <td>21.040392</td>\n",
       "      <td>20.061744</td>\n",
       "      <td>19.626971</td>\n",
       "      <td>19.185825</td>\n",
       "      <td>18.706389</td>\n",
       "      <td>20.358834</td>\n",
       "      <td>19.576100</td>\n",
       "      <td>19.178968</td>\n",
       "      <td>18.691618</td>\n",
       "      <td>18.169804</td>\n",
       "      <td>20.396793</td>\n",
       "      <td>19.536793</td>\n",
       "      <td>19.137761</td>\n",
       "      <td>18.638887</td>\n",
       "      <td>18.097375</td>\n",
       "    </tr>\n",
       "    <tr>\n",
       "      <td>75%</td>\n",
       "      <td>527.000000</td>\n",
       "      <td>22.137173</td>\n",
       "      <td>21.131736</td>\n",
       "      <td>20.507150</td>\n",
       "      <td>20.069700</td>\n",
       "      <td>19.881660</td>\n",
       "      <td>22.322028</td>\n",
       "      <td>21.373010</td>\n",
       "      <td>20.770544</td>\n",
       "      <td>20.331486</td>\n",
       "      <td>20.134371</td>\n",
       "      <td>21.776235</td>\n",
       "      <td>20.991423</td>\n",
       "      <td>20.452793</td>\n",
       "      <td>20.017174</td>\n",
       "      <td>19.805135</td>\n",
       "      <td>21.970718</td>\n",
       "      <td>20.950227</td>\n",
       "      <td>20.403952</td>\n",
       "      <td>19.967549</td>\n",
       "      <td>19.818710</td>\n",
       "    </tr>\n",
       "    <tr>\n",
       "      <td>max</td>\n",
       "      <td>1000.000000</td>\n",
       "      <td>29.904253</td>\n",
       "      <td>29.719821</td>\n",
       "      <td>29.716721</td>\n",
       "      <td>29.674376</td>\n",
       "      <td>29.797875</td>\n",
       "      <td>29.653884</td>\n",
       "      <td>28.923312</td>\n",
       "      <td>28.681562</td>\n",
       "      <td>26.656056</td>\n",
       "      <td>28.876802</td>\n",
       "      <td>29.998184</td>\n",
       "      <td>29.995527</td>\n",
       "      <td>29.869520</td>\n",
       "      <td>29.983775</td>\n",
       "      <td>29.997649</td>\n",
       "      <td>29.798838</td>\n",
       "      <td>29.572553</td>\n",
       "      <td>29.962136</td>\n",
       "      <td>29.553684</td>\n",
       "      <td>29.650301</td>\n",
       "    </tr>\n",
       "  </tbody>\n",
       "</table>\n",
       "</div>"
      ],
      "text/plain": [
       "             fiberID       psfMag_u       psfMag_g       psfMag_r  \\\n",
       "count  198761.000000  198761.000000  198761.000000  198761.000000   \n",
       "mean      360.932929      20.969549      19.849131      19.278713   \n",
       "std       225.365186       2.065293       1.849294       1.697810   \n",
       "min         1.000000     -12.978725       2.741681     -11.043026   \n",
       "25%       174.000000      19.645260      18.693076      18.043552   \n",
       "50%       349.000000      20.859926      19.895233      19.448093   \n",
       "75%       527.000000      22.137173      21.131736      20.507150   \n",
       "max      1000.000000      29.904253      29.719821      29.716721   \n",
       "\n",
       "            psfMag_i       psfMag_z     fiberMag_u     fiberMag_g  \\\n",
       "count  198761.000000  198761.000000  198761.000000  198761.000000   \n",
       "mean       18.866056      18.606822      21.160965      20.081661   \n",
       "std         1.619697       1.676444       1.956557       1.835183   \n",
       "min        -6.406284       1.762241     -10.838092      -8.294703   \n",
       "25%        17.741547      17.420206      19.935419      18.897684   \n",
       "50%        19.036998      18.604207      21.040392      20.061744   \n",
       "75%        20.069700      19.881660      22.322028      21.373010   \n",
       "max        29.674376      29.797875      29.653884      28.923312   \n",
       "\n",
       "          fiberMag_r     fiberMag_i     fiberMag_z     petroMag_u  \\\n",
       "count  198761.000000  198761.000000  198761.000000  198761.000000   \n",
       "mean       19.500382      19.084324      18.826086      20.669861   \n",
       "std         1.702326       1.625115       1.675660       2.267652   \n",
       "min        11.795394      10.646672       8.049850     -18.750419   \n",
       "25%        18.255634      17.900300      17.602430      19.243948   \n",
       "50%        19.626971      19.185825      18.706389      20.358834   \n",
       "75%        20.770544      20.331486      20.134371      21.776235   \n",
       "max        28.681562      26.656056      28.876802      29.998184   \n",
       "\n",
       "          petroMag_g     petroMag_r     petroMag_i     petroMag_z  \\\n",
       "count  198761.000000  198761.000000  198761.000000  198761.000000   \n",
       "mean       19.585208      19.000893      18.598407      18.384088   \n",
       "std         2.019985       1.903520       1.849471       1.985692   \n",
       "min       -18.640710     -18.553707     -15.223252     -17.035990   \n",
       "25%        18.110549      17.478204      17.048850      16.802366   \n",
       "50%        19.576100      19.178968      18.691618      18.169804   \n",
       "75%        20.991423      20.452793      20.017174      19.805135   \n",
       "max        29.995527      29.869520      29.983775      29.997649   \n",
       "\n",
       "          modelMag_u     modelMag_g     modelMag_r     modelMag_i  \\\n",
       "count  198761.000000  198761.000000  198761.000000  198761.000000   \n",
       "mean       20.716384      19.520947      18.934052      18.517116   \n",
       "std         2.171815       1.949603       1.855083       1.792854   \n",
       "min         3.444448      12.498143      10.286917      11.337467   \n",
       "25%        19.260892      18.070515      17.419782      16.974990   \n",
       "50%        20.396793      19.536793      19.137761      18.638887   \n",
       "75%        21.970718      20.950227      20.403952      19.967549   \n",
       "max        29.798838      29.572553      29.962136      29.553684   \n",
       "\n",
       "          modelMag_z  \n",
       "count  198761.000000  \n",
       "mean       18.272822  \n",
       "std         1.859073  \n",
       "min        10.977328  \n",
       "25%        16.701866  \n",
       "50%        18.097375  \n",
       "75%        19.818710  \n",
       "max        29.650301  "
      ]
     },
     "execution_count": 10,
     "metadata": {},
     "output_type": "execute_result"
    }
   ],
   "source": [
    "train_df.describe()"
   ]
  },
  {
   "cell_type": "code",
   "execution_count": 11,
   "metadata": {
    "ExecuteTime": {
     "end_time": "2020-02-23T10:58:58.996000Z",
     "start_time": "2020-02-23T10:58:58.992000Z"
    }
   },
   "outputs": [
    {
     "data": {
      "text/plain": [
       "Index(['type', 'fiberID', 'psfMag_u', 'psfMag_g', 'psfMag_r', 'psfMag_i',\n",
       "       'psfMag_z', 'fiberMag_u', 'fiberMag_g', 'fiberMag_r', 'fiberMag_i',\n",
       "       'fiberMag_z', 'petroMag_u', 'petroMag_g', 'petroMag_r', 'petroMag_i',\n",
       "       'petroMag_z', 'modelMag_u', 'modelMag_g', 'modelMag_r', 'modelMag_i',\n",
       "       'modelMag_z'],\n",
       "      dtype='object')"
      ]
     },
     "execution_count": 11,
     "metadata": {},
     "output_type": "execute_result"
    }
   ],
   "source": [
    "train_df.columns"
   ]
  },
  {
   "cell_type": "markdown",
   "metadata": {},
   "source": [
    "## DATA Setting"
   ]
  },
  {
   "cell_type": "code",
   "execution_count": 12,
   "metadata": {
    "ExecuteTime": {
     "end_time": "2020-02-23T10:59:00.713000Z",
     "start_time": "2020-02-23T10:59:00.635000Z"
    }
   },
   "outputs": [],
   "source": [
    "column_number = {}\n",
    "number_columns = {}\n",
    "for i, column in enumerate(sample_submission_df.columns):\n",
    "    column_number[column] = i\n",
    "    number_columns[i] = column\n",
    "    \n",
    "    \n",
    "def to_number(x, dic):\n",
    "    return dic[x]\n",
    "\n",
    "train_df['type_num'] = train_df['type'].apply(lambda x: to_number(x, column_number))\n"
   ]
  },
  {
   "cell_type": "code",
   "execution_count": 13,
   "metadata": {
    "ExecuteTime": {
     "end_time": "2020-02-23T10:59:01.073000Z",
     "start_time": "2020-02-23T10:59:01.067000Z"
    }
   },
   "outputs": [],
   "source": [
    "def add_minus_feature_all(data,test = False):\n",
    "    from itertools import combinations\n",
    "    n = 0\n",
    "    for count in range(5,21,5):\n",
    "        s = 2\n",
    "        if test == True :\n",
    "            s = 1\n",
    "        selected = data.columns[s:].values[n:count]\n",
    "        mag = str.split(selected[0],'_')[0]\n",
    "        for combi in list(combinations(selected,2)):\n",
    "            name_1st = str.split(combi[0],'_')[1]\n",
    "            name_2nd = str.split(combi[1],'_')[1]\n",
    "            data[mag+\"_\"+name_1st+\"-\"+name_2nd] = data[combi[0]]-data[combi[1]]\n",
    "        n=count\n",
    "    return data"
   ]
  },
  {
   "cell_type": "code",
   "execution_count": 14,
   "metadata": {
    "ExecuteTime": {
     "end_time": "2020-02-23T10:59:01.322000Z",
     "start_time": "2020-02-23T10:59:01.314000Z"
    }
   },
   "outputs": [],
   "source": [
    "def add_minus_feature(data,test = False):\n",
    "    '''\n",
    "    근접변수에 대해서만 컬럼생성 ex) 'fiberMag_u-g', 'fiberMag_g-r', 'fiberMag_r-i', 'fiberMag_i-z'\n",
    "    각 mag에서 가장 높은값의 filter를 받아오는 \"~~mag_MAX\"생성\n",
    "    결과 38개로 증가 \n",
    "    '''\n",
    "    from itertools import combinations\n",
    "    n = 0\n",
    "    m = 0\n",
    "    for count in range(5,21,5):\n",
    "        s = 2\n",
    "        if test == True :\n",
    "            s = 1\n",
    "        selected = data.columns[s:].values[n:count]\n",
    "        mag = str.split(selected[0],'_')[0]\n",
    "        data[mag+\"_MAX\"] = data[selected].apply(lambda x : str.split(np.argmax(x),'_')[1],axis = 1)\n",
    "        for i in range(0,len(selected)):        \n",
    "            if i>0: \n",
    "                name_1st = str.split(m,'_')[1]\n",
    "                name_2nd = str.split(selected[i],'_')[1]\n",
    "                data[mag+\"_\"+name_1st+\"-\"+name_2nd] = data[m]-data[selected[i]]\n",
    "            m = selected[i]    \n",
    "        n=count\n",
    "    return data"
   ]
  },
  {
   "cell_type": "code",
   "execution_count": 15,
   "metadata": {
    "ExecuteTime": {
     "end_time": "2020-02-23T11:00:18.854000Z",
     "start_time": "2020-02-23T10:59:01.531000Z"
    }
   },
   "outputs": [
    {
     "name": "stderr",
     "output_type": "stream",
     "text": [
      "G:\\Anaconda3\\lib\\site-packages\\numpy\\core\\fromnumeric.py:56: FutureWarning: \n",
      "The current behaviour of 'Series.argmax' is deprecated, use 'idxmax'\n",
      "instead.\n",
      "The behavior of 'argmax' will be corrected to return the positional\n",
      "maximum in the future. For now, use 'series.values.argmax' or\n",
      "'np.argmax(np.array(values))' to get the position of the maximum\n",
      "row.\n",
      "  return getattr(obj, method)(*args, **kwds)\n"
     ]
    }
   ],
   "source": [
    "train_df = add_minus_feature(train_df)\n",
    "test_df = add_minus_feature(test_df,True)"
   ]
  },
  {
   "cell_type": "code",
   "execution_count": 16,
   "metadata": {
    "ExecuteTime": {
     "end_time": "2020-02-23T11:00:19.015000Z",
     "start_time": "2020-02-23T11:00:19.011000Z"
    }
   },
   "outputs": [],
   "source": [
    "def label_encode(data):\n",
    "    '''\n",
    "    각 mag에서 가장 높은값의 filter를 labelencoding \n",
    "    '''\n",
    "    from sklearn.preprocessing import LabelEncoder\n",
    "    le = LabelEncoder()\n",
    "    taget_cols = ['psfMag_MAX','fiberMag_MAX','petroMag_MAX','modelMag_MAX']\n",
    "    for col in taget_cols:\n",
    "        data[col] = le.fit_transform(data[col])\n",
    "    return data"
   ]
  },
  {
   "cell_type": "code",
   "execution_count": 17,
   "metadata": {
    "ExecuteTime": {
     "end_time": "2020-02-23T11:00:19.458000Z",
     "start_time": "2020-02-23T11:00:19.230000Z"
    }
   },
   "outputs": [],
   "source": [
    "train_df = label_encode(train_df)\n",
    "test_df = label_encode(test_df)"
   ]
  },
  {
   "cell_type": "code",
   "execution_count": 18,
   "metadata": {
    "ExecuteTime": {
     "end_time": "2020-02-23T11:00:19.651000Z",
     "start_time": "2020-02-23T11:00:19.647000Z"
    }
   },
   "outputs": [],
   "source": [
    "# train_df.drop(columns=['psfMag_u', 'psfMag_g', 'psfMag_r', 'psfMag_i',\n",
    "#        'psfMag_z', 'fiberMag_u', 'fiberMag_g', 'fiberMag_r', 'fiberMag_i',\n",
    "#        'fiberMag_z', 'petroMag_u', 'petroMag_g', 'petroMag_r', 'petroMag_i',\n",
    "#        'petroMag_z', 'modelMag_u', 'modelMag_g', 'modelMag_r', 'modelMag_i',\n",
    "#        'modelMag_z'], inplace=True)\n",
    "\n",
    "# test_df.drop(columns=['psfMag_u', 'psfMag_g', 'psfMag_r', 'psfMag_i',\n",
    "#        'psfMag_z', 'fiberMag_u', 'fiberMag_g', 'fiberMag_r', 'fiberMag_i',\n",
    "#        'fiberMag_z', 'petroMag_u', 'petroMag_g', 'petroMag_r', 'petroMag_i',\n",
    "#        'petroMag_z', 'modelMag_u', 'modelMag_g', 'modelMag_r', 'modelMag_i',\n",
    "#        'modelMag_z'], inplace=True)"
   ]
  },
  {
   "cell_type": "code",
   "execution_count": 19,
   "metadata": {
    "ExecuteTime": {
     "end_time": "2020-02-23T11:00:20.002000Z",
     "start_time": "2020-02-23T11:00:19.906000Z"
    }
   },
   "outputs": [],
   "source": [
    "train_X = train_df.drop(columns=['type', 'type_num', 'fiberID'], axis=1)\n",
    "train_y = train_df['type_num']\n",
    "test_X = test_df.drop(columns=['fiberID'], axis=1)"
   ]
  },
  {
   "cell_type": "code",
   "execution_count": 20,
   "metadata": {
    "ExecuteTime": {
     "end_time": "2020-02-23T11:00:20.281000Z",
     "start_time": "2020-02-23T11:00:20.234000Z"
    },
    "scrolled": true
   },
   "outputs": [
    {
     "data": {
      "text/html": [
       "<div>\n",
       "<style scoped>\n",
       "    .dataframe tbody tr th:only-of-type {\n",
       "        vertical-align: middle;\n",
       "    }\n",
       "\n",
       "    .dataframe tbody tr th {\n",
       "        vertical-align: top;\n",
       "    }\n",
       "\n",
       "    .dataframe thead th {\n",
       "        text-align: right;\n",
       "    }\n",
       "</style>\n",
       "<table border=\"1\" class=\"dataframe\">\n",
       "  <thead>\n",
       "    <tr style=\"text-align: right;\">\n",
       "      <th></th>\n",
       "      <th>psfMag_u</th>\n",
       "      <th>psfMag_g</th>\n",
       "      <th>psfMag_r</th>\n",
       "      <th>psfMag_i</th>\n",
       "      <th>psfMag_z</th>\n",
       "      <th>fiberMag_u</th>\n",
       "      <th>fiberMag_g</th>\n",
       "      <th>fiberMag_r</th>\n",
       "      <th>fiberMag_i</th>\n",
       "      <th>fiberMag_z</th>\n",
       "      <th>petroMag_u</th>\n",
       "      <th>petroMag_g</th>\n",
       "      <th>petroMag_r</th>\n",
       "      <th>petroMag_i</th>\n",
       "      <th>petroMag_z</th>\n",
       "      <th>...</th>\n",
       "      <th>fiberMag_MAX</th>\n",
       "      <th>fiberMag_u-g</th>\n",
       "      <th>fiberMag_g-r</th>\n",
       "      <th>fiberMag_r-i</th>\n",
       "      <th>fiberMag_i-z</th>\n",
       "      <th>petroMag_MAX</th>\n",
       "      <th>petroMag_u-g</th>\n",
       "      <th>petroMag_g-r</th>\n",
       "      <th>petroMag_r-i</th>\n",
       "      <th>petroMag_i-z</th>\n",
       "      <th>modelMag_MAX</th>\n",
       "      <th>modelMag_u-g</th>\n",
       "      <th>modelMag_g-r</th>\n",
       "      <th>modelMag_r-i</th>\n",
       "      <th>modelMag_i-z</th>\n",
       "    </tr>\n",
       "    <tr>\n",
       "      <th>id</th>\n",
       "      <th></th>\n",
       "      <th></th>\n",
       "      <th></th>\n",
       "      <th></th>\n",
       "      <th></th>\n",
       "      <th></th>\n",
       "      <th></th>\n",
       "      <th></th>\n",
       "      <th></th>\n",
       "      <th></th>\n",
       "      <th></th>\n",
       "      <th></th>\n",
       "      <th></th>\n",
       "      <th></th>\n",
       "      <th></th>\n",
       "      <th></th>\n",
       "      <th></th>\n",
       "      <th></th>\n",
       "      <th></th>\n",
       "      <th></th>\n",
       "      <th></th>\n",
       "      <th></th>\n",
       "      <th></th>\n",
       "      <th></th>\n",
       "      <th></th>\n",
       "      <th></th>\n",
       "      <th></th>\n",
       "      <th></th>\n",
       "      <th></th>\n",
       "      <th></th>\n",
       "      <th></th>\n",
       "    </tr>\n",
       "  </thead>\n",
       "  <tbody>\n",
       "    <tr>\n",
       "      <td>0</td>\n",
       "      <td>23.198224</td>\n",
       "      <td>21.431953</td>\n",
       "      <td>21.314148</td>\n",
       "      <td>21.176553</td>\n",
       "      <td>21.171444</td>\n",
       "      <td>22.581309</td>\n",
       "      <td>21.644453</td>\n",
       "      <td>21.657571</td>\n",
       "      <td>21.387653</td>\n",
       "      <td>21.572827</td>\n",
       "      <td>22.504317</td>\n",
       "      <td>21.431636</td>\n",
       "      <td>21.478312</td>\n",
       "      <td>21.145409</td>\n",
       "      <td>20.422446</td>\n",
       "      <td>...</td>\n",
       "      <td>3</td>\n",
       "      <td>0.936856</td>\n",
       "      <td>-0.013118</td>\n",
       "      <td>0.269918</td>\n",
       "      <td>-0.185174</td>\n",
       "      <td>3</td>\n",
       "      <td>1.072682</td>\n",
       "      <td>-0.046676</td>\n",
       "      <td>0.332902</td>\n",
       "      <td>0.722964</td>\n",
       "      <td>3</td>\n",
       "      <td>1.283708</td>\n",
       "      <td>0.101347</td>\n",
       "      <td>0.343582</td>\n",
       "      <td>-0.126735</td>\n",
       "    </tr>\n",
       "    <tr>\n",
       "      <td>1</td>\n",
       "      <td>21.431355</td>\n",
       "      <td>20.708104</td>\n",
       "      <td>20.678850</td>\n",
       "      <td>20.703420</td>\n",
       "      <td>20.473229</td>\n",
       "      <td>21.868797</td>\n",
       "      <td>21.029773</td>\n",
       "      <td>20.967054</td>\n",
       "      <td>20.937731</td>\n",
       "      <td>21.063646</td>\n",
       "      <td>21.360701</td>\n",
       "      <td>20.778968</td>\n",
       "      <td>20.889705</td>\n",
       "      <td>20.639812</td>\n",
       "      <td>20.646660</td>\n",
       "      <td>...</td>\n",
       "      <td>3</td>\n",
       "      <td>0.839024</td>\n",
       "      <td>0.062718</td>\n",
       "      <td>0.029324</td>\n",
       "      <td>-0.125915</td>\n",
       "      <td>3</td>\n",
       "      <td>0.581734</td>\n",
       "      <td>-0.110737</td>\n",
       "      <td>0.249893</td>\n",
       "      <td>-0.006847</td>\n",
       "      <td>3</td>\n",
       "      <td>0.734428</td>\n",
       "      <td>0.004602</td>\n",
       "      <td>0.060537</td>\n",
       "      <td>0.181074</td>\n",
       "    </tr>\n",
       "    <tr>\n",
       "      <td>2</td>\n",
       "      <td>17.851451</td>\n",
       "      <td>16.727898</td>\n",
       "      <td>16.679677</td>\n",
       "      <td>16.694640</td>\n",
       "      <td>16.641788</td>\n",
       "      <td>18.171890</td>\n",
       "      <td>17.033098</td>\n",
       "      <td>16.999682</td>\n",
       "      <td>17.095999</td>\n",
       "      <td>17.076449</td>\n",
       "      <td>17.867253</td>\n",
       "      <td>16.738784</td>\n",
       "      <td>16.688874</td>\n",
       "      <td>16.744210</td>\n",
       "      <td>16.808006</td>\n",
       "      <td>...</td>\n",
       "      <td>3</td>\n",
       "      <td>1.138792</td>\n",
       "      <td>0.033416</td>\n",
       "      <td>-0.096317</td>\n",
       "      <td>0.019550</td>\n",
       "      <td>3</td>\n",
       "      <td>1.128468</td>\n",
       "      <td>0.049910</td>\n",
       "      <td>-0.055336</td>\n",
       "      <td>-0.063796</td>\n",
       "      <td>3</td>\n",
       "      <td>1.120628</td>\n",
       "      <td>0.056186</td>\n",
       "      <td>-0.018929</td>\n",
       "      <td>-0.028751</td>\n",
       "    </tr>\n",
       "    <tr>\n",
       "      <td>3</td>\n",
       "      <td>20.789900</td>\n",
       "      <td>20.040371</td>\n",
       "      <td>19.926909</td>\n",
       "      <td>19.843840</td>\n",
       "      <td>19.463270</td>\n",
       "      <td>21.039030</td>\n",
       "      <td>20.317165</td>\n",
       "      <td>20.217898</td>\n",
       "      <td>20.073852</td>\n",
       "      <td>19.794505</td>\n",
       "      <td>20.433907</td>\n",
       "      <td>19.993727</td>\n",
       "      <td>19.985531</td>\n",
       "      <td>19.750917</td>\n",
       "      <td>19.455117</td>\n",
       "      <td>...</td>\n",
       "      <td>3</td>\n",
       "      <td>0.721865</td>\n",
       "      <td>0.099267</td>\n",
       "      <td>0.144046</td>\n",
       "      <td>0.279347</td>\n",
       "      <td>3</td>\n",
       "      <td>0.440180</td>\n",
       "      <td>0.008197</td>\n",
       "      <td>0.234614</td>\n",
       "      <td>0.295800</td>\n",
       "      <td>3</td>\n",
       "      <td>0.769012</td>\n",
       "      <td>0.111901</td>\n",
       "      <td>0.131685</td>\n",
       "      <td>0.205258</td>\n",
       "    </tr>\n",
       "    <tr>\n",
       "      <td>4</td>\n",
       "      <td>26.454969</td>\n",
       "      <td>23.058767</td>\n",
       "      <td>21.471406</td>\n",
       "      <td>19.504961</td>\n",
       "      <td>18.389096</td>\n",
       "      <td>25.700632</td>\n",
       "      <td>23.629122</td>\n",
       "      <td>21.742750</td>\n",
       "      <td>19.861718</td>\n",
       "      <td>18.810375</td>\n",
       "      <td>25.859229</td>\n",
       "      <td>22.426929</td>\n",
       "      <td>21.673551</td>\n",
       "      <td>19.610012</td>\n",
       "      <td>18.376141</td>\n",
       "      <td>...</td>\n",
       "      <td>3</td>\n",
       "      <td>2.071510</td>\n",
       "      <td>1.886372</td>\n",
       "      <td>1.881032</td>\n",
       "      <td>1.051343</td>\n",
       "      <td>3</td>\n",
       "      <td>3.432300</td>\n",
       "      <td>0.753377</td>\n",
       "      <td>2.063539</td>\n",
       "      <td>1.233871</td>\n",
       "      <td>3</td>\n",
       "      <td>1.729059</td>\n",
       "      <td>1.672651</td>\n",
       "      <td>1.988012</td>\n",
       "      <td>1.111675</td>\n",
       "    </tr>\n",
       "  </tbody>\n",
       "</table>\n",
       "<p>5 rows × 40 columns</p>\n",
       "</div>"
      ],
      "text/plain": [
       "     psfMag_u   psfMag_g   psfMag_r   psfMag_i   psfMag_z  fiberMag_u  \\\n",
       "id                                                                      \n",
       "0   23.198224  21.431953  21.314148  21.176553  21.171444   22.581309   \n",
       "1   21.431355  20.708104  20.678850  20.703420  20.473229   21.868797   \n",
       "2   17.851451  16.727898  16.679677  16.694640  16.641788   18.171890   \n",
       "3   20.789900  20.040371  19.926909  19.843840  19.463270   21.039030   \n",
       "4   26.454969  23.058767  21.471406  19.504961  18.389096   25.700632   \n",
       "\n",
       "    fiberMag_g  fiberMag_r  fiberMag_i  fiberMag_z  petroMag_u  petroMag_g  \\\n",
       "id                                                                           \n",
       "0    21.644453   21.657571   21.387653   21.572827   22.504317   21.431636   \n",
       "1    21.029773   20.967054   20.937731   21.063646   21.360701   20.778968   \n",
       "2    17.033098   16.999682   17.095999   17.076449   17.867253   16.738784   \n",
       "3    20.317165   20.217898   20.073852   19.794505   20.433907   19.993727   \n",
       "4    23.629122   21.742750   19.861718   18.810375   25.859229   22.426929   \n",
       "\n",
       "    petroMag_r  petroMag_i  petroMag_z  ...  fiberMag_MAX  fiberMag_u-g  \\\n",
       "id                                      ...                               \n",
       "0    21.478312   21.145409   20.422446  ...             3      0.936856   \n",
       "1    20.889705   20.639812   20.646660  ...             3      0.839024   \n",
       "2    16.688874   16.744210   16.808006  ...             3      1.138792   \n",
       "3    19.985531   19.750917   19.455117  ...             3      0.721865   \n",
       "4    21.673551   19.610012   18.376141  ...             3      2.071510   \n",
       "\n",
       "    fiberMag_g-r  fiberMag_r-i  fiberMag_i-z  petroMag_MAX  petroMag_u-g  \\\n",
       "id                                                                         \n",
       "0      -0.013118      0.269918     -0.185174             3      1.072682   \n",
       "1       0.062718      0.029324     -0.125915             3      0.581734   \n",
       "2       0.033416     -0.096317      0.019550             3      1.128468   \n",
       "3       0.099267      0.144046      0.279347             3      0.440180   \n",
       "4       1.886372      1.881032      1.051343             3      3.432300   \n",
       "\n",
       "    petroMag_g-r  petroMag_r-i  petroMag_i-z  modelMag_MAX  modelMag_u-g  \\\n",
       "id                                                                         \n",
       "0      -0.046676      0.332902      0.722964             3      1.283708   \n",
       "1      -0.110737      0.249893     -0.006847             3      0.734428   \n",
       "2       0.049910     -0.055336     -0.063796             3      1.120628   \n",
       "3       0.008197      0.234614      0.295800             3      0.769012   \n",
       "4       0.753377      2.063539      1.233871             3      1.729059   \n",
       "\n",
       "    modelMag_g-r  modelMag_r-i  modelMag_i-z  \n",
       "id                                            \n",
       "0       0.101347      0.343582     -0.126735  \n",
       "1       0.004602      0.060537      0.181074  \n",
       "2       0.056186     -0.018929     -0.028751  \n",
       "3       0.111901      0.131685      0.205258  \n",
       "4       1.672651      1.988012      1.111675  \n",
       "\n",
       "[5 rows x 40 columns]"
      ]
     },
     "execution_count": 20,
     "metadata": {},
     "output_type": "execute_result"
    }
   ],
   "source": [
    "train_X.head()"
   ]
  },
  {
   "cell_type": "code",
   "execution_count": 21,
   "metadata": {
    "ExecuteTime": {
     "end_time": "2020-02-23T11:00:20.549000Z",
     "start_time": "2020-02-23T11:00:20.542000Z"
    },
    "scrolled": true
   },
   "outputs": [
    {
     "data": {
      "text/plain": [
       "Index(['psfMag_u', 'psfMag_g', 'psfMag_r', 'psfMag_i', 'psfMag_z',\n",
       "       'fiberMag_u', 'fiberMag_g', 'fiberMag_r', 'fiberMag_i', 'fiberMag_z',\n",
       "       'petroMag_u', 'petroMag_g', 'petroMag_r', 'petroMag_i', 'petroMag_z',\n",
       "       'modelMag_u', 'modelMag_g', 'modelMag_r', 'modelMag_i', 'modelMag_z',\n",
       "       'psfMag_MAX', 'psfMag_u-g', 'psfMag_g-r', 'psfMag_r-i', 'psfMag_i-z',\n",
       "       'fiberMag_MAX', 'fiberMag_u-g', 'fiberMag_g-r', 'fiberMag_r-i',\n",
       "       'fiberMag_i-z', 'petroMag_MAX', 'petroMag_u-g', 'petroMag_g-r',\n",
       "       'petroMag_r-i', 'petroMag_i-z', 'modelMag_MAX', 'modelMag_u-g',\n",
       "       'modelMag_g-r', 'modelMag_r-i', 'modelMag_i-z'],\n",
       "      dtype='object')"
      ]
     },
     "execution_count": 21,
     "metadata": {},
     "output_type": "execute_result"
    }
   ],
   "source": [
    "train_X.columns"
   ]
  },
  {
   "cell_type": "code",
   "execution_count": 22,
   "metadata": {
    "ExecuteTime": {
     "end_time": "2020-02-23T11:00:20.820000Z",
     "start_time": "2020-02-23T11:00:20.815000Z"
    }
   },
   "outputs": [],
   "source": [
    "# ## u-g, g-r, r-i, i-z 만 남기는게 좋지 않을까????\n",
    "# train_X.drop(['psfMag_u-r','psfMag_u-i','psfMag_u-z','psfMag_g-i','psfMag_g-z','psfMag_r-z',\n",
    "#              'fiberMag_u-r','fiberMag_u-i','fiberMag_u-z','fiberMag_g-i','fiberMag_g-z','fiberMag_r-z',\n",
    "#              'petroMag_u-r','petroMag_u-i','petroMag_u-z','petroMag_g-i','petroMag_g-z','petroMag_r-z',\n",
    "#              'modelMag_u-r','modelMag_u-i','modelMag_u-z','modelMag_g-i','modelMag_g-z','modelMag_r-z'] ,axis=1, inplace=True)\n",
    "\n",
    "# test_X.drop(['psfMag_u-r','psfMag_u-i','psfMag_u-z','psfMag_g-i','psfMag_g-z','psfMag_r-z',\n",
    "#              'fiberMag_u-r','fiberMag_u-i','fiberMag_u-z','fiberMag_g-i','fiberMag_g-z','fiberMag_r-z',\n",
    "#              'petroMag_u-r','petroMag_u-i','petroMag_u-z','petroMag_g-i','petroMag_g-z','petroMag_r-z',\n",
    "#              'modelMag_u-r','modelMag_u-i','modelMag_u-z','modelMag_g-i','modelMag_g-z','modelMag_r-z'] ,axis=1, inplace=True)"
   ]
  },
  {
   "cell_type": "code",
   "execution_count": 23,
   "metadata": {
    "ExecuteTime": {
     "end_time": "2020-02-23T11:00:21.297000Z",
     "start_time": "2020-02-23T11:00:21.096000Z"
    }
   },
   "outputs": [],
   "source": [
    "X_train, X_test, y_train, y_test = train_test_split(train_X, train_y, test_size=0.4, random_state=1059,stratify = train_y)"
   ]
  },
  {
   "cell_type": "code",
   "execution_count": 24,
   "metadata": {
    "ExecuteTime": {
     "end_time": "2020-02-23T11:00:21.611000Z",
     "start_time": "2020-02-23T11:00:21.604000Z"
    }
   },
   "outputs": [],
   "source": [
    "#3번 0219 \n",
    "train_ds = lgb.Dataset(X_train, label = y_train, categorical_feature=['psfMag_MAX', 'fiberMag_MAX', 'petroMag_MAX', 'modelMag_MAX'])\n",
    "test_ds = lgb.Dataset(X_test, label = y_test, categorical_feature=['psfMag_MAX', 'fiberMag_MAX', 'petroMag_MAX', 'modelMag_MAX']) \n",
    "\n",
    "params = {\n",
    "    'boosting_type': 'dart',\n",
    "    'objective': 'multiclass',\n",
    "    'num_class': train_y.nunique(),\n",
    "    'metric': {'multi_logloss','multi_logloss'},\n",
    "    'class_weight': None, \n",
    "    'colsample_bytree': 1.0,\n",
    "    'learning_rate': 0.008,\n",
    "    'max_depth': 19,\n",
    "    'min_child_samples': 20,\n",
    "    'min_child_weight': 0.001,\n",
    "    'min_split_gain': 0.0,\n",
    "    'n_jobs': -1,\n",
    "    'num_leaves': 40, \n",
    "    'random_state': 1059,\n",
    "    'reg_alpha': 0.0,\n",
    "    'reg_lambda': 0.0,\n",
    "    'subsample': 1.0, \n",
    "    'subsample_for_bin': 200000,\n",
    "    'subsample_freq': 0,\n",
    "}"
   ]
  },
  {
   "cell_type": "markdown",
   "metadata": {},
   "source": [
    "## Modeling"
   ]
  },
  {
   "cell_type": "code",
   "execution_count": 25,
   "metadata": {
    "ExecuteTime": {
     "end_time": "2020-02-23T17:33:27.214000Z",
     "start_time": "2020-02-23T11:00:21.924000Z"
    },
    "scrolled": true
   },
   "outputs": [
    {
     "name": "stderr",
     "output_type": "stream",
     "text": [
      "G:\\Anaconda3\\lib\\site-packages\\lightgbm\\basic.py:1291: UserWarning: Using categorical_feature in Dataset.\n",
      "  warnings.warn('Using categorical_feature in Dataset.')\n",
      "G:\\Anaconda3\\lib\\site-packages\\lightgbm\\callback.py:188: UserWarning: Early stopping is not available in dart mode\n",
      "  warnings.warn('Early stopping is not available in dart mode')\n"
     ]
    },
    {
     "name": "stdout",
     "output_type": "stream",
     "text": [
      "[50]\tTrain's multi_logloss: 1.77594\tTest's multi_logloss: 1.78869\n",
      "[100]\tTrain's multi_logloss: 1.75981\tTest's multi_logloss: 1.77359\n",
      "[150]\tTrain's multi_logloss: 1.63826\tTest's multi_logloss: 1.65372\n",
      "[200]\tTrain's multi_logloss: 1.55874\tTest's multi_logloss: 1.57583\n",
      "[250]\tTrain's multi_logloss: 1.42948\tTest's multi_logloss: 1.44866\n",
      "[300]\tTrain's multi_logloss: 1.38908\tTest's multi_logloss: 1.40953\n",
      "[350]\tTrain's multi_logloss: 1.29649\tTest's multi_logloss: 1.31868\n",
      "[400]\tTrain's multi_logloss: 1.21619\tTest's multi_logloss: 1.23997\n",
      "[450]\tTrain's multi_logloss: 1.21379\tTest's multi_logloss: 1.23775\n",
      "[500]\tTrain's multi_logloss: 1.11174\tTest's multi_logloss: 1.13792\n",
      "[550]\tTrain's multi_logloss: 1.07392\tTest's multi_logloss: 1.10103\n",
      "[600]\tTrain's multi_logloss: 1.08259\tTest's multi_logloss: 1.10959\n",
      "[650]\tTrain's multi_logloss: 1.0056\tTest's multi_logloss: 1.03434\n",
      "[700]\tTrain's multi_logloss: 0.958362\tTest's multi_logloss: 0.988317\n",
      "[750]\tTrain's multi_logloss: 0.926764\tTest's multi_logloss: 0.957638\n",
      "[800]\tTrain's multi_logloss: 0.832188\tTest's multi_logloss: 0.865678\n",
      "[850]\tTrain's multi_logloss: 0.791045\tTest's multi_logloss: 0.826\n",
      "[900]\tTrain's multi_logloss: 0.74432\tTest's multi_logloss: 0.781104\n",
      "[950]\tTrain's multi_logloss: 0.717312\tTest's multi_logloss: 0.755335\n",
      "[1000]\tTrain's multi_logloss: 0.690964\tTest's multi_logloss: 0.730134\n",
      "[1050]\tTrain's multi_logloss: 0.674049\tTest's multi_logloss: 0.714094\n",
      "[1100]\tTrain's multi_logloss: 0.658784\tTest's multi_logloss: 0.699641\n",
      "[1150]\tTrain's multi_logloss: 0.621566\tTest's multi_logloss: 0.663951\n",
      "[1200]\tTrain's multi_logloss: 0.601521\tTest's multi_logloss: 0.644883\n",
      "[1250]\tTrain's multi_logloss: 0.582333\tTest's multi_logloss: 0.626723\n",
      "[1300]\tTrain's multi_logloss: 0.548142\tTest's multi_logloss: 0.594327\n",
      "[1350]\tTrain's multi_logloss: 0.537361\tTest's multi_logloss: 0.584288\n",
      "[1400]\tTrain's multi_logloss: 0.523769\tTest's multi_logloss: 0.571585\n",
      "[1450]\tTrain's multi_logloss: 0.499436\tTest's multi_logloss: 0.548869\n",
      "[1500]\tTrain's multi_logloss: 0.475064\tTest's multi_logloss: 0.52641\n",
      "[1550]\tTrain's multi_logloss: 0.463514\tTest's multi_logloss: 0.515971\n",
      "[1600]\tTrain's multi_logloss: 0.447918\tTest's multi_logloss: 0.501932\n",
      "[1650]\tTrain's multi_logloss: 0.443666\tTest's multi_logloss: 0.498344\n",
      "[1700]\tTrain's multi_logloss: 0.432556\tTest's multi_logloss: 0.488583\n",
      "[1750]\tTrain's multi_logloss: 0.423237\tTest's multi_logloss: 0.480446\n",
      "[1800]\tTrain's multi_logloss: 0.409865\tTest's multi_logloss: 0.468895\n",
      "[1850]\tTrain's multi_logloss: 0.400947\tTest's multi_logloss: 0.46139\n",
      "[1900]\tTrain's multi_logloss: 0.389877\tTest's multi_logloss: 0.452091\n",
      "[1950]\tTrain's multi_logloss: 0.381778\tTest's multi_logloss: 0.445408\n",
      "[2000]\tTrain's multi_logloss: 0.373418\tTest's multi_logloss: 0.438638\n",
      "[2050]\tTrain's multi_logloss: 0.366676\tTest's multi_logloss: 0.433279\n",
      "[2100]\tTrain's multi_logloss: 0.357832\tTest's multi_logloss: 0.426442\n",
      "[2150]\tTrain's multi_logloss: 0.352981\tTest's multi_logloss: 0.422828\n",
      "[2200]\tTrain's multi_logloss: 0.351215\tTest's multi_logloss: 0.42176\n",
      "[2250]\tTrain's multi_logloss: 0.344426\tTest's multi_logloss: 0.416677\n",
      "[2300]\tTrain's multi_logloss: 0.339423\tTest's multi_logloss: 0.413097\n",
      "[2350]\tTrain's multi_logloss: 0.337139\tTest's multi_logloss: 0.411642\n",
      "[2400]\tTrain's multi_logloss: 0.331587\tTest's multi_logloss: 0.407674\n",
      "[2450]\tTrain's multi_logloss: 0.328238\tTest's multi_logloss: 0.405469\n",
      "[2500]\tTrain's multi_logloss: 0.325247\tTest's multi_logloss: 0.403569\n",
      "[2550]\tTrain's multi_logloss: 0.318782\tTest's multi_logloss: 0.399099\n",
      "[2600]\tTrain's multi_logloss: 0.312831\tTest's multi_logloss: 0.395274\n",
      "[2650]\tTrain's multi_logloss: 0.310207\tTest's multi_logloss: 0.393849\n",
      "[2700]\tTrain's multi_logloss: 0.306958\tTest's multi_logloss: 0.391986\n",
      "[2750]\tTrain's multi_logloss: 0.304157\tTest's multi_logloss: 0.390454\n",
      "[2800]\tTrain's multi_logloss: 0.299347\tTest's multi_logloss: 0.387678\n",
      "[2850]\tTrain's multi_logloss: 0.296586\tTest's multi_logloss: 0.386331\n",
      "[2900]\tTrain's multi_logloss: 0.293672\tTest's multi_logloss: 0.3849\n",
      "[2950]\tTrain's multi_logloss: 0.29168\tTest's multi_logloss: 0.384052\n",
      "[3000]\tTrain's multi_logloss: 0.290488\tTest's multi_logloss: 0.383668\n",
      "[3050]\tTrain's multi_logloss: 0.286431\tTest's multi_logloss: 0.381555\n",
      "[3100]\tTrain's multi_logloss: 0.283011\tTest's multi_logloss: 0.379978\n",
      "[3150]\tTrain's multi_logloss: 0.280713\tTest's multi_logloss: 0.379056\n",
      "[3200]\tTrain's multi_logloss: 0.278517\tTest's multi_logloss: 0.378161\n",
      "[3250]\tTrain's multi_logloss: 0.275025\tTest's multi_logloss: 0.376642\n",
      "[3300]\tTrain's multi_logloss: 0.274096\tTest's multi_logloss: 0.376443\n",
      "[3350]\tTrain's multi_logloss: 0.27336\tTest's multi_logloss: 0.376308\n",
      "[3400]\tTrain's multi_logloss: 0.27198\tTest's multi_logloss: 0.375848\n",
      "[3450]\tTrain's multi_logloss: 0.27005\tTest's multi_logloss: 0.37513\n",
      "[3500]\tTrain's multi_logloss: 0.26724\tTest's multi_logloss: 0.37404\n",
      "[3550]\tTrain's multi_logloss: 0.264859\tTest's multi_logloss: 0.37323\n",
      "[3600]\tTrain's multi_logloss: 0.263301\tTest's multi_logloss: 0.372783\n",
      "[3650]\tTrain's multi_logloss: 0.262142\tTest's multi_logloss: 0.37254\n",
      "[3700]\tTrain's multi_logloss: 0.260168\tTest's multi_logloss: 0.371944\n",
      "[3750]\tTrain's multi_logloss: 0.259015\tTest's multi_logloss: 0.371682\n",
      "[3800]\tTrain's multi_logloss: 0.257855\tTest's multi_logloss: 0.371422\n",
      "[3850]\tTrain's multi_logloss: 0.254998\tTest's multi_logloss: 0.370548\n",
      "[3900]\tTrain's multi_logloss: 0.253577\tTest's multi_logloss: 0.370204\n",
      "[3950]\tTrain's multi_logloss: 0.252332\tTest's multi_logloss: 0.369969\n",
      "[4000]\tTrain's multi_logloss: 0.250271\tTest's multi_logloss: 0.369469\n",
      "[4050]\tTrain's multi_logloss: 0.248192\tTest's multi_logloss: 0.368966\n",
      "[4100]\tTrain's multi_logloss: 0.247321\tTest's multi_logloss: 0.36887\n",
      "[4150]\tTrain's multi_logloss: 0.245412\tTest's multi_logloss: 0.368471\n",
      "[4200]\tTrain's multi_logloss: 0.243801\tTest's multi_logloss: 0.368187\n",
      "[4250]\tTrain's multi_logloss: 0.242595\tTest's multi_logloss: 0.368016\n",
      "[4300]\tTrain's multi_logloss: 0.240241\tTest's multi_logloss: 0.367562\n",
      "[4350]\tTrain's multi_logloss: 0.239264\tTest's multi_logloss: 0.367437\n",
      "[4400]\tTrain's multi_logloss: 0.237936\tTest's multi_logloss: 0.367229\n",
      "[4450]\tTrain's multi_logloss: 0.237469\tTest's multi_logloss: 0.367247\n",
      "[4500]\tTrain's multi_logloss: 0.236148\tTest's multi_logloss: 0.367083\n",
      "[4550]\tTrain's multi_logloss: 0.235609\tTest's multi_logloss: 0.367112\n",
      "[4600]\tTrain's multi_logloss: 0.234291\tTest's multi_logloss: 0.366965\n",
      "[4650]\tTrain's multi_logloss: 0.233607\tTest's multi_logloss: 0.366948\n",
      "[4700]\tTrain's multi_logloss: 0.231807\tTest's multi_logloss: 0.366689\n",
      "[4750]\tTrain's multi_logloss: 0.230369\tTest's multi_logloss: 0.366536\n",
      "[4800]\tTrain's multi_logloss: 0.228925\tTest's multi_logloss: 0.366384\n",
      "[4850]\tTrain's multi_logloss: 0.227414\tTest's multi_logloss: 0.366227\n",
      "[4900]\tTrain's multi_logloss: 0.226298\tTest's multi_logloss: 0.366143\n",
      "[4950]\tTrain's multi_logloss: 0.225791\tTest's multi_logloss: 0.366185\n",
      "[5000]\tTrain's multi_logloss: 0.224727\tTest's multi_logloss: 0.366121\n",
      "[5050]\tTrain's multi_logloss: 0.22423\tTest's multi_logloss: 0.366166\n",
      "[5100]\tTrain's multi_logloss: 0.22347\tTest's multi_logloss: 0.366174\n",
      "[5150]\tTrain's multi_logloss: 0.221914\tTest's multi_logloss: 0.366033\n",
      "[5200]\tTrain's multi_logloss: 0.22058\tTest's multi_logloss: 0.365959\n",
      "[5250]\tTrain's multi_logloss: 0.219913\tTest's multi_logloss: 0.365973\n",
      "[5300]\tTrain's multi_logloss: 0.218605\tTest's multi_logloss: 0.365891\n",
      "[5350]\tTrain's multi_logloss: 0.217671\tTest's multi_logloss: 0.365874\n",
      "[5400]\tTrain's multi_logloss: 0.217026\tTest's multi_logloss: 0.3659\n",
      "[5450]\tTrain's multi_logloss: 0.215759\tTest's multi_logloss: 0.365826\n",
      "[5500]\tTrain's multi_logloss: 0.214216\tTest's multi_logloss: 0.36576\n",
      "[5550]\tTrain's multi_logloss: 0.21331\tTest's multi_logloss: 0.365765\n",
      "[5600]\tTrain's multi_logloss: 0.212322\tTest's multi_logloss: 0.365772\n",
      "[5650]\tTrain's multi_logloss: 0.21121\tTest's multi_logloss: 0.36578\n",
      "[5700]\tTrain's multi_logloss: 0.210739\tTest's multi_logloss: 0.365842\n",
      "[5750]\tTrain's multi_logloss: 0.209669\tTest's multi_logloss: 0.365867\n",
      "[5800]\tTrain's multi_logloss: 0.208499\tTest's multi_logloss: 0.365877\n",
      "[5850]\tTrain's multi_logloss: 0.20761\tTest's multi_logloss: 0.36592\n",
      "[5900]\tTrain's multi_logloss: 0.205922\tTest's multi_logloss: 0.365955\n",
      "[5950]\tTrain's multi_logloss: 0.204893\tTest's multi_logloss: 0.365995\n"
     ]
    },
    {
     "name": "stdout",
     "output_type": "stream",
     "text": [
      "[6000]\tTrain's multi_logloss: 0.203864\tTest's multi_logloss: 0.366054\n",
      "[6050]\tTrain's multi_logloss: 0.203173\tTest's multi_logloss: 0.366128\n",
      "[6100]\tTrain's multi_logloss: 0.20214\tTest's multi_logloss: 0.366193\n",
      "[6150]\tTrain's multi_logloss: 0.200991\tTest's multi_logloss: 0.36626\n",
      "[6200]\tTrain's multi_logloss: 0.200121\tTest's multi_logloss: 0.366326\n",
      "[6250]\tTrain's multi_logloss: 0.198963\tTest's multi_logloss: 0.366408\n",
      "[6300]\tTrain's multi_logloss: 0.197957\tTest's multi_logloss: 0.366477\n",
      "[6350]\tTrain's multi_logloss: 0.196743\tTest's multi_logloss: 0.366579\n",
      "[6400]\tTrain's multi_logloss: 0.195294\tTest's multi_logloss: 0.366665\n",
      "[6450]\tTrain's multi_logloss: 0.194355\tTest's multi_logloss: 0.366747\n",
      "[6500]\tTrain's multi_logloss: 0.193339\tTest's multi_logloss: 0.366825\n",
      "[6550]\tTrain's multi_logloss: 0.192819\tTest's multi_logloss: 0.366863\n",
      "[6600]\tTrain's multi_logloss: 0.191657\tTest's multi_logloss: 0.36697\n",
      "[6650]\tTrain's multi_logloss: 0.190748\tTest's multi_logloss: 0.367044\n",
      "[6700]\tTrain's multi_logloss: 0.189706\tTest's multi_logloss: 0.367123\n",
      "[6750]\tTrain's multi_logloss: 0.189092\tTest's multi_logloss: 0.367202\n",
      "[6800]\tTrain's multi_logloss: 0.187889\tTest's multi_logloss: 0.367379\n",
      "[6850]\tTrain's multi_logloss: 0.186691\tTest's multi_logloss: 0.367507\n",
      "[6900]\tTrain's multi_logloss: 0.185743\tTest's multi_logloss: 0.367614\n",
      "[6950]\tTrain's multi_logloss: 0.184848\tTest's multi_logloss: 0.367734\n",
      "[7000]\tTrain's multi_logloss: 0.183612\tTest's multi_logloss: 0.367881\n"
     ]
    }
   ],
   "source": [
    "evaluation_results = {}\n",
    "lgmb_model = lgb.train(params, train_ds,num_boost_round= 7000, \n",
    "                       valid_sets = [train_ds,test_ds], valid_names=['Train', 'Test'],\n",
    "                       evals_result=evaluation_results,\n",
    "                       verbose_eval=50, early_stopping_rounds=100)"
   ]
  },
  {
   "cell_type": "code",
   "execution_count": 26,
   "metadata": {
    "ExecuteTime": {
     "end_time": "2020-02-23T17:33:31.658000Z",
     "start_time": "2020-02-23T17:33:27.470000Z"
    }
   },
   "outputs": [
    {
     "data": {
      "image/png": "[encoded data removed]",
      "text/plain": [
       "<Figure size 1080x288 with 2 Axes>"
      ]
     },
     "metadata": {
      "needs_background": "light"
     },
     "output_type": "display_data"
    }
   ],
   "source": [
    "fig, axs = plt.subplots(1, 2, figsize=[15, 4])\n",
    "\n",
    "# Plot the log loss during training\n",
    "axs[0].plot(evaluation_results['Train']['multi_logloss'], label='Train')\n",
    "axs[0].plot(evaluation_results['Test']['multi_logloss'], label='Test')\n",
    "axs[0].set_ylabel('Log loss')\n",
    "axs[0].set_xlabel('Boosting round')\n",
    "axs[0].set_title('Training performance')\n",
    "axs[0].legend()\n",
    "\n",
    "# Plot feature importance\n",
    "importances = pd.DataFrame({'features': lgmb_model.feature_name(), \n",
    "                            'importance': lgmb_model.feature_importance()}).sort_values('importance', ascending=False).head(10)\n",
    "axs[1].bar(x=np.arange(len(importances)), height=importances['importance'])\n",
    "axs[1].set_xticks(np.arange(len(importances)))\n",
    "axs[1].set_xticklabels(importances['features'])\n",
    "axs[1].set_ylabel('Feature importance (# times used to split)')\n",
    "axs[1].set_title('Feature importance')\n",
    "plt.xticks(rotation=45)\n",
    "\n",
    "plt.show()"
   ]
  },
  {
   "cell_type": "code",
   "execution_count": 27,
   "metadata": {
    "ExecuteTime": {
     "end_time": "2020-02-23T17:42:34.083000Z",
     "start_time": "2020-02-23T17:33:31.903000Z"
    }
   },
   "outputs": [],
   "source": [
    "train_y_pred = lgmb_model.predict(X_test)\n",
    "real_y_pred = lgmb_model.predict(test_X)"
   ]
  },
  {
   "cell_type": "code",
   "execution_count": 28,
   "metadata": {
    "ExecuteTime": {
     "end_time": "2020-02-23T17:42:34.428000Z",
     "start_time": "2020-02-23T17:42:34.373000Z"
    },
    "scrolled": true
   },
   "outputs": [
    {
     "data": {
      "text/plain": [
       "0.3678812428805398"
      ]
     },
     "execution_count": 28,
     "metadata": {},
     "output_type": "execute_result"
    }
   ],
   "source": [
    "#log_loss\n",
    "log_loss(y_test,train_y_pred,labels= list(set(y_test)))"
   ]
  },
  {
   "cell_type": "code",
   "execution_count": 29,
   "metadata": {
    "ExecuteTime": {
     "end_time": "2020-02-23T17:42:34.819000Z",
     "start_time": "2020-02-23T17:42:34.786000Z"
    },
    "scrolled": false
   },
   "outputs": [
    {
     "data": {
      "text/html": [
       "<div>\n",
       "<style scoped>\n",
       "    .dataframe tbody tr th:only-of-type {\n",
       "        vertical-align: middle;\n",
       "    }\n",
       "\n",
       "    .dataframe tbody tr th {\n",
       "        vertical-align: top;\n",
       "    }\n",
       "\n",
       "    .dataframe thead th {\n",
       "        text-align: right;\n",
       "    }\n",
       "</style>\n",
       "<table border=\"1\" class=\"dataframe\">\n",
       "  <thead>\n",
       "    <tr style=\"text-align: right;\">\n",
       "      <th></th>\n",
       "      <th>importance</th>\n",
       "    </tr>\n",
       "  </thead>\n",
       "  <tbody>\n",
       "    <tr>\n",
       "      <td>modelMag_r-i</td>\n",
       "      <td>211170</td>\n",
       "    </tr>\n",
       "    <tr>\n",
       "      <td>modelMag_g-r</td>\n",
       "      <td>208921</td>\n",
       "    </tr>\n",
       "    <tr>\n",
       "      <td>psfMag_g-r</td>\n",
       "      <td>203137</td>\n",
       "    </tr>\n",
       "    <tr>\n",
       "      <td>modelMag_i-z</td>\n",
       "      <td>196310</td>\n",
       "    </tr>\n",
       "    <tr>\n",
       "      <td>psfMag_u-g</td>\n",
       "      <td>194898</td>\n",
       "    </tr>\n",
       "    <tr>\n",
       "      <td>modelMag_u-g</td>\n",
       "      <td>193283</td>\n",
       "    </tr>\n",
       "    <tr>\n",
       "      <td>fiberMag_r-i</td>\n",
       "      <td>192326</td>\n",
       "    </tr>\n",
       "    <tr>\n",
       "      <td>fiberMag_g-r</td>\n",
       "      <td>191217</td>\n",
       "    </tr>\n",
       "    <tr>\n",
       "      <td>petroMag_u-g</td>\n",
       "      <td>184329</td>\n",
       "    </tr>\n",
       "    <tr>\n",
       "      <td>psfMag_r-i</td>\n",
       "      <td>179827</td>\n",
       "    </tr>\n",
       "  </tbody>\n",
       "</table>\n",
       "</div>"
      ],
      "text/plain": [
       "              importance\n",
       "modelMag_r-i      211170\n",
       "modelMag_g-r      208921\n",
       "psfMag_g-r        203137\n",
       "modelMag_i-z      196310\n",
       "psfMag_u-g        194898\n",
       "modelMag_u-g      193283\n",
       "fiberMag_r-i      192326\n",
       "fiberMag_g-r      191217\n",
       "petroMag_u-g      184329\n",
       "psfMag_r-i        179827"
      ]
     },
     "execution_count": 29,
     "metadata": {},
     "output_type": "execute_result"
    }
   ],
   "source": [
    "feature_df = pd.DataFrame(lgmb_model.feature_importance(), index= train_X.columns,columns= ['importance']).sort_values('importance',ascending = False)\n",
    "feature_df.head(10)"
   ]
  },
  {
   "cell_type": "code",
   "execution_count": 30,
   "metadata": {
    "ExecuteTime": {
     "end_time": "2020-02-23T17:42:35.592000Z",
     "start_time": "2020-02-23T17:42:35.133000Z"
    }
   },
   "outputs": [],
   "source": [
    "submission = pd.DataFrame(data=real_y_pred, columns=sample_submission_df.columns, index=sample_submission_df.index)\n",
    "submission.to_csv(f'submission_lightbgm_gbdt_tune_outlier_add_only({log_loss(y_test,train_y_pred,labels= list(set(y_test)))}).csv', index=True)"
   ]
  },
  {
   "cell_type": "markdown",
   "metadata": {},
   "source": [
    "## Gridsearch_cv"
   ]
  },
  {
   "cell_type": "code",
   "execution_count": null,
   "metadata": {
    "ExecuteTime": {
     "end_time": "2020-02-18T19:51:37.413000Z",
     "start_time": "2020-02-18T19:51:19.033Z"
    }
   },
   "outputs": [],
   "source": [
    "# from sklearn.feature_selection import SelectKBest\n",
    "# model_kbest = SelectKBest()\n",
    "# from sklearn.pipeline import Pipeline"
   ]
  },
  {
   "cell_type": "code",
   "execution_count": null,
   "metadata": {
    "ExecuteTime": {
     "end_time": "2020-02-18T19:51:37.414000Z",
     "start_time": "2020-02-18T19:51:19.034Z"
    }
   },
   "outputs": [],
   "source": [
    "# #최적의 변수를 찾기 위한 KBest 함수 불러오기\n",
    "# #파이프라인 구축\n",
    "# pipe_lgbm = Pipeline([('lgbm',lgbm_c)])\n",
    "# #파라미터 생성\n",
    "# params_lgbm = {\n",
    "#           \"lgbm__max_depth\": [15,20,25],\n",
    "#          \"lgbm__learning_rate\": [0.001],\n",
    "#          \"lgbm__num_leaves\": [15,20,25],\n",
    "#          \"lgbm__n_estimators\": [200,300,400,500],\n",
    "#          \"lgbm__random_state\": [42]}"
   ]
  },
  {
   "cell_type": "code",
   "execution_count": null,
   "metadata": {
    "ExecuteTime": {
     "end_time": "2020-02-18T19:51:37.415000Z",
     "start_time": "2020-02-18T19:51:19.036Z"
    }
   },
   "outputs": [],
   "source": [
    "# #최적의 파라미터 탐색\n",
    "# from sklearn.model_selection import GridSearchCV\n",
    "# grid_search = GridSearchCV(pipe_lgbm, param_grid = params_lgbm,\n",
    "# #                           cv=3, n_jobs=-1, verbose=10)"
   ]
  },
  {
   "cell_type": "code",
   "execution_count": null,
   "metadata": {
    "ExecuteTime": {
     "end_time": "2020-02-18T19:51:37.416000Z",
     "start_time": "2020-02-18T19:51:19.038Z"
    }
   },
   "outputs": [],
   "source": [
    "# grid_search.fit(X_train, y_train)"
   ]
  },
  {
   "cell_type": "code",
   "execution_count": null,
   "metadata": {
    "ExecuteTime": {
     "end_time": "2020-02-18T19:51:37.417000Z",
     "start_time": "2020-02-18T19:51:19.040Z"
    }
   },
   "outputs": [],
   "source": [
    "# lgbm_grid = grid_search.best_estimator_\n",
    "# lgbm_grid"
   ]
  },
  {
   "cell_type": "code",
   "execution_count": null,
   "metadata": {},
   "outputs": [],
   "source": []
  }
 ],
 "metadata": {
  "kernelspec": {
   "display_name": "Python 3",
   "language": "python",
   "name": "python3"
  },
  "language_info": {
   "codemirror_mode": {
    "name": "ipython",
    "version": 3
   },
   "file_extension": ".py",
   "mimetype": "text/x-python",
   "name": "python",
   "nbconvert_exporter": "python",
   "pygments_lexer": "ipython3",
   "version": "3.6.9"
  },
  "varInspector": {
   "cols": {
    "lenName": 16,
    "lenType": 16,
    "lenVar": 40
   },
   "kernels_config": {
    "python": {
     "delete_cmd_postfix": "",
     "delete_cmd_prefix": "del ",
     "library": "var_list.py",
     "varRefreshCmd": "print(var_dic_list())"
    },
    "r": {
     "delete_cmd_postfix": ") ",
     "delete_cmd_prefix": "rm(",
     "library": "var_list.r",
     "varRefreshCmd": "cat(var_dic_list()) "
    }
   },
   "types_to_exclude": [
    "module",
    "function",
    "builtin_function_or_method",
    "instance",
    "_Feature"
   ],
   "window_display": false
  }
 },
 "nbformat": 4,
 "nbformat_minor": 2
}
