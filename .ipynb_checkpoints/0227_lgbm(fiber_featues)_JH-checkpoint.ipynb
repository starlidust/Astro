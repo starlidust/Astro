{
 "cells": [
  {
   "cell_type": "markdown",
   "metadata": {},
   "source": [
    "# Tune_lgb\n",
    "* 이전결과 : 0.3913216698(n_estimator 1000까지)/ 0.404706925(early_stopping까지)"
   ]
  },
  {
   "cell_type": "code",
   "execution_count": 58,
   "metadata": {
    "ExecuteTime": {
     "end_time": "2020-02-26T11:59:50.491400Z",
     "start_time": "2020-02-26T11:59:50.468386Z"
    }
   },
   "outputs": [],
   "source": [
    "import pandas as pd\n",
    "import numpy as np\n",
    "import matplotlib.pyplot as plt\n",
    "import seaborn as sns\n",
    "\n",
    "from sklearn.ensemble import RandomForestClassifier\n",
    "from sklearn.model_selection import train_test_split\n",
    "from sklearn.metrics import confusion_matrix\n",
    "from sklearn.metrics import log_loss\n",
    "\n",
    "\n",
    "import lightgbm as lgb\n",
    "from sklearn.model_selection import KFold, StratifiedKFold, RandomizedSearchCV, GridSearchCV"
   ]
  },
  {
   "cell_type": "code",
   "execution_count": 59,
   "metadata": {
    "ExecuteTime": {
     "end_time": "2020-02-26T11:59:51.764346Z",
     "start_time": "2020-02-26T11:59:51.759346Z"
    }
   },
   "outputs": [],
   "source": [
    "# from google.colab import drive\n",
    "# drive.mount('/content/drive')"
   ]
  },
  {
   "cell_type": "code",
   "execution_count": 60,
   "metadata": {
    "ExecuteTime": {
     "end_time": "2020-02-26T11:59:52.876311Z",
     "start_time": "2020-02-26T11:59:52.873326Z"
    }
   },
   "outputs": [],
   "source": [
    "# #colab용\n",
    "# import os\n",
    "# os.chdir('/content/drive/My Drive/Colab Notebooks/Dacon/천체관측/')"
   ]
  },
  {
   "cell_type": "code",
   "execution_count": 61,
   "metadata": {
    "ExecuteTime": {
     "end_time": "2020-02-26T11:59:55.668424Z",
     "start_time": "2020-02-26T11:59:54.025277Z"
    }
   },
   "outputs": [],
   "source": [
    "path = \"./data/\"\n",
    "train_df = pd.read_csv(path+'train.csv',index_col=0)\n",
    "test_df = pd.read_csv(path+'test.csv',index_col=0)\n",
    "sample_submission_df = pd.read_csv(path+'sample_submission.csv',index_col=0)\n",
    "pd.options.display.max_columns = 30"
   ]
  },
  {
   "cell_type": "code",
   "execution_count": 62,
   "metadata": {
    "ExecuteTime": {
     "end_time": "2020-02-26T11:59:56.606395Z",
     "start_time": "2020-02-26T11:59:56.598394Z"
    }
   },
   "outputs": [
    {
     "data": {
      "text/plain": [
       "((199991, 22), (10009, 21))"
      ]
     },
     "execution_count": 62,
     "metadata": {},
     "output_type": "execute_result"
    }
   ],
   "source": [
    "train_df.shape, test_df.shape"
   ]
  },
  {
   "cell_type": "markdown",
   "metadata": {},
   "source": [
    "## DATA Setting"
   ]
  },
  {
   "cell_type": "code",
   "execution_count": 6,
   "metadata": {
    "ExecuteTime": {
     "end_time": "2020-02-25T11:13:48.631893Z",
     "start_time": "2020-02-25T11:13:48.624892Z"
    }
   },
   "outputs": [],
   "source": [
    "def del_outlier(data, min=0, max=60):\n",
    "    up_idx_t=()\n",
    "    dw_idx_t=()\n",
    "    train_light = data.iloc[:,2:]\n",
    "    for i in range(len(train_light.columns)):\n",
    "        col = train_light.columns[i]\n",
    "        up_idx_t+=tuple(data[data[col]>max].index)\n",
    "        dw_idx_t+=tuple(data[data[col]<min].index)\n",
    "    del_idx = set(up_idx_t+dw_idx_t)\n",
    "    \n",
    "    return data[~data.index.isin(del_idx)]"
   ]
  },
  {
   "cell_type": "code",
   "execution_count": 7,
   "metadata": {
    "ExecuteTime": {
     "end_time": "2020-02-25T11:13:48.929888Z",
     "start_time": "2020-02-25T11:13:48.802886Z"
    }
   },
   "outputs": [],
   "source": [
    "train_df = del_outlier(train_df, min=-60, max=60)"
   ]
  },
  {
   "cell_type": "code",
   "execution_count": 8,
   "metadata": {
    "ExecuteTime": {
     "end_time": "2020-02-25T11:13:49.133877Z",
     "start_time": "2020-02-25T11:13:49.093878Z"
    }
   },
   "outputs": [
    {
     "data": {
      "text/plain": [
       "(199805, 22)"
      ]
     },
     "execution_count": 8,
     "metadata": {},
     "output_type": "execute_result"
    }
   ],
   "source": [
    "train_df.shape"
   ]
  },
  {
   "cell_type": "code",
   "execution_count": 9,
   "metadata": {
    "ExecuteTime": {
     "end_time": "2020-02-25T11:13:49.490867Z",
     "start_time": "2020-02-25T11:13:49.299872Z"
    }
   },
   "outputs": [],
   "source": [
    "column_number = {}\n",
    "number_columns = {}\n",
    "for i, column in enumerate(sample_submission_df.columns):\n",
    "    column_number[column] = i\n",
    "    number_columns[i] = column\n",
    "    \n",
    "    \n",
    "def to_number(x, dic):\n",
    "    return dic[x]\n",
    "\n",
    "train_df['type_num'] = train_df['type'].apply(lambda x: to_number(x, column_number))\n"
   ]
  },
  {
   "cell_type": "code",
   "execution_count": 10,
   "metadata": {
    "ExecuteTime": {
     "end_time": "2020-02-25T11:13:49.671860Z",
     "start_time": "2020-02-25T11:13:49.667860Z"
    }
   },
   "outputs": [],
   "source": [
    "def add_minus_feature(data,test = False):\n",
    "    '''\n",
    "    근접변수에 대해서만 컬럼생성 ex) 'fiberMag_u-g', 'fiberMag_g-r', 'fiberMag_r-i', 'fiberMag_i-z'\n",
    "    각 mag에서 가장 높은값의 filter를 받아오는 \"~~mag_MAX\"생성\n",
    "    결과 38개로 증가 \n",
    "    '''\n",
    "    from itertools import combinations\n",
    "    n = 0\n",
    "    m = 0\n",
    "    for count in range(5,21,5):\n",
    "        s = 2\n",
    "        if test == True :\n",
    "            s = 1\n",
    "        selected = data.columns[s:].values[n:count]\n",
    "        mag = str.split(selected[0],'_')[0]\n",
    "#         data[mag+\"_MAX\"] = data[selected].apply(lambda x : str.split(np.argmax(x),'_')[1],axis = 1)\n",
    "        for i in range(0,len(selected)):        \n",
    "            if i>0: \n",
    "                name_1st = str.split(m,'_')[1]\n",
    "                name_2nd = str.split(selected[i],'_')[1]\n",
    "                data[mag+\"_\"+name_1st+\"-\"+name_2nd] = data[m]-data[selected[i]]\n",
    "            m = selected[i]    \n",
    "        n=count\n",
    "    return data"
   ]
  },
  {
   "cell_type": "code",
   "execution_count": 11,
   "metadata": {
    "ExecuteTime": {
     "end_time": "2020-02-25T11:13:49.850855Z",
     "start_time": "2020-02-25T11:13:49.840854Z"
    }
   },
   "outputs": [],
   "source": [
    "def add_minus_feature_all(data,test = False):\n",
    "    '''\n",
    "    combination으로 모든 변수들의 조합에 대해서 컬럼생성 \n",
    "    각 mag에서 가장 높은값의 filter를 받아오는 \"~~mag_MAX\"생성\n",
    "    결과 64개로 증가\n",
    "    '''\n",
    "    from itertools import combinations\n",
    "    n = 0\n",
    "    for count in range(5,21,5):\n",
    "        s = 2\n",
    "        if test == True :\n",
    "            s = 1\n",
    "        selected = data.columns[s:].values[n:count]\n",
    "        mag = str.split(selected[0],'_')[0]\n",
    "#         data[mag+\"_MAX\"] = data[selected].apply(lambda x : str.split(np.argmax(x),'_')[1],axis = 1)\n",
    "        for combi in list(combinations(selected,2)):\n",
    "            name_1st = str.split(combi[0],'_')[1]\n",
    "            name_2nd = str.split(combi[1],'_')[1]\n",
    "            data[mag+\"_\"+name_1st+\"-\"+name_2nd] = data[combi[0]]-data[combi[1]]\n",
    "        n=count\n",
    "    return data"
   ]
  },
  {
   "cell_type": "code",
   "execution_count": 12,
   "metadata": {
    "ExecuteTime": {
     "end_time": "2020-02-25T11:13:51.036548Z",
     "start_time": "2020-02-25T11:13:50.848552Z"
    }
   },
   "outputs": [],
   "source": [
    "train_df = add_minus_feature_all(train_df)\n",
    "test_df = add_minus_feature_all(test_df,True)"
   ]
  },
  {
   "cell_type": "code",
   "execution_count": 13,
   "metadata": {
    "ExecuteTime": {
     "end_time": "2020-02-25T11:13:58.483545Z",
     "start_time": "2020-02-25T11:13:58.246552Z"
    }
   },
   "outputs": [],
   "source": [
    "train_X = train_df.drop(columns=['type', 'type_num'], axis=1)\n",
    "train_y = train_df['type_num']\n",
    "test_X = test_df"
   ]
  },
  {
   "cell_type": "code",
   "execution_count": 14,
   "metadata": {
    "ExecuteTime": {
     "end_time": "2020-02-25T11:14:00.202308Z",
     "start_time": "2020-02-25T11:13:59.924283Z"
    }
   },
   "outputs": [],
   "source": [
    "X_train, X_test, y_train, y_test = train_test_split(train_X, train_y, test_size=0.3, random_state=42,stratify = train_y)"
   ]
  },
  {
   "cell_type": "markdown",
   "metadata": {},
   "source": [
    "## Modeling_train"
   ]
  },
  {
   "cell_type": "code",
   "execution_count": 20,
   "metadata": {
    "ExecuteTime": {
     "end_time": "2020-02-25T11:33:14.793699Z",
     "start_time": "2020-02-25T11:33:14.790698Z"
    }
   },
   "outputs": [],
   "source": [
    "train_ds = lgb.Dataset(X_train, label = y_train, categorical_feature=['fiberID'])\n",
    "test_ds = lgb.Dataset(X_test, label = y_test, categorical_feature=['fiberID']) "
   ]
  },
  {
   "cell_type": "code",
   "execution_count": 21,
   "metadata": {
    "ExecuteTime": {
     "end_time": "2020-02-25T11:33:15.532676Z",
     "start_time": "2020-02-25T11:33:15.529676Z"
    }
   },
   "outputs": [],
   "source": [
    "param = {'num_leaves': 255,\n",
    " 'min_child_samples': 40,\n",
    " 'max_depth': 8,\n",
    " 'learning_rate': 0.05,\n",
    " 'lambda_l2': 3,\n",
    " 'lambda_l1': 9\n",
    "}\n"
   ]
  },
  {
   "cell_type": "code",
   "execution_count": 22,
   "metadata": {
    "ExecuteTime": {
     "end_time": "2020-02-25T11:48:13.364837Z",
     "start_time": "2020-02-25T11:33:16.234663Z"
    },
    "scrolled": true
   },
   "outputs": [
    {
     "name": "stderr",
     "output_type": "stream",
     "text": [
      "C:\\Users\\starl\\Anaconda3\\lib\\site-packages\\lightgbm\\basic.py:1291: UserWarning: Using categorical_feature in Dataset.\n",
      "  warnings.warn('Using categorical_feature in Dataset.')\n"
     ]
    },
    {
     "name": "stdout",
     "output_type": "stream",
     "text": [
      "Training until validation scores don't improve for 100 rounds\n",
      "[100]\tTrain's multi_logloss: 1.27055\tTest's multi_logloss: 1.29884\n",
      "[200]\tTrain's multi_logloss: 0.883614\tTest's multi_logloss: 0.927684\n",
      "[300]\tTrain's multi_logloss: 0.666811\tTest's multi_logloss: 0.724669\n",
      "[400]\tTrain's multi_logloss: 0.534251\tTest's multi_logloss: 0.604704\n",
      "[500]\tTrain's multi_logloss: 0.448998\tTest's multi_logloss: 0.53121\n",
      "[600]\tTrain's multi_logloss: 0.39195\tTest's multi_logloss: 0.484891\n",
      "[700]\tTrain's multi_logloss: 0.350553\tTest's multi_logloss: 0.454041\n",
      "[800]\tTrain's multi_logloss: 0.320193\tTest's multi_logloss: 0.433778\n",
      "[900]\tTrain's multi_logloss: 0.297109\tTest's multi_logloss: 0.420212\n",
      "[1000]\tTrain's multi_logloss: 0.278264\tTest's multi_logloss: 0.410987\n",
      "[1100]\tTrain's multi_logloss: 0.262592\tTest's multi_logloss: 0.404752\n",
      "[1200]\tTrain's multi_logloss: 0.249424\tTest's multi_logloss: 0.400577\n",
      "[1300]\tTrain's multi_logloss: 0.238149\tTest's multi_logloss: 0.39779\n",
      "[1400]\tTrain's multi_logloss: 0.228454\tTest's multi_logloss: 0.395804\n",
      "[1500]\tTrain's multi_logloss: 0.219813\tTest's multi_logloss: 0.394604\n",
      "[1600]\tTrain's multi_logloss: 0.211803\tTest's multi_logloss: 0.393874\n",
      "[1700]\tTrain's multi_logloss: 0.204446\tTest's multi_logloss: 0.393532\n",
      "[1800]\tTrain's multi_logloss: 0.197639\tTest's multi_logloss: 0.393513\n",
      "Early stopping, best iteration is:\n",
      "[1743]\tTrain's multi_logloss: 0.201387\tTest's multi_logloss: 0.393465\n"
     ]
    }
   ],
   "source": [
    "evaluation_results = {}\n",
    "lgmb_model = lgb.train(params, train_ds,num_boost_round= 2000, \n",
    "                       valid_sets = [train_ds,test_ds], valid_names=['Train', 'Test'],\n",
    "                       evals_result=evaluation_results,\n",
    "                       verbose_eval=100, early_stopping_rounds=100)"
   ]
  },
  {
   "cell_type": "code",
   "execution_count": 32,
   "metadata": {
    "ExecuteTime": {
     "end_time": "2020-02-25T12:21:47.157239Z",
     "start_time": "2020-02-25T12:21:46.940718Z"
    }
   },
   "outputs": [
    {
     "data": {
      "image/png": "[encoded data removed]",
      "text/plain": [
       "<Figure size 1080x288 with 2 Axes>"
      ]
     },
     "metadata": {},
     "output_type": "display_data"
    }
   ],
   "source": [
    "fig, axs = plt.subplots(1, 2, figsize=[15, 4])\n",
    "\n",
    "# Plot the log loss during training\n",
    "axs[0].plot(evaluation_results['Train']['multi_logloss'], label='Train')\n",
    "axs[0].plot(evaluation_results['Test']['multi_logloss'], label='Test')\n",
    "axs[0].set_ylabel('Log loss')\n",
    "axs[0].set_xlabel('Boosting round')\n",
    "axs[0].set_title('Training performance')\n",
    "axs[0].legend()\n",
    "\n",
    "# Plot feature importance\n",
    "importances = pd.DataFrame({'features': lgmb_model.feature_name(), \n",
    "                            'importance': lgmb_model.feature_importance()}).sort_values('importance', ascending=False).head(10)\n",
    "axs[1].bar(x=np.arange(len(importances)), height=importances['importance'])\n",
    "axs[1].set_xticks(np.arange(len(importances)))\n",
    "axs[1].set_xticklabels(importances['features'])\n",
    "axs[1].set_ylabel('Feature importance (# times used to split)')\n",
    "axs[1].set_title('Feature importance')\n",
    "plt.xticks(rotation=45)\n",
    "\n",
    "plt.show()"
   ]
  },
  {
   "cell_type": "code",
   "execution_count": 24,
   "metadata": {
    "ExecuteTime": {
     "end_time": "2020-02-25T11:52:05.862167Z",
     "start_time": "2020-02-25T11:48:14.958262Z"
    }
   },
   "outputs": [],
   "source": [
    "train_y_pred = lgmb_model.predict(X_test)\n",
    "real_y_pred = lgmb_model.predict(test_X)"
   ]
  },
  {
   "cell_type": "code",
   "execution_count": 25,
   "metadata": {
    "ExecuteTime": {
     "end_time": "2020-02-25T11:52:06.575159Z",
     "start_time": "2020-02-25T11:52:06.571145Z"
    }
   },
   "outputs": [
    {
     "data": {
      "text/plain": [
       "(59942, 19)"
      ]
     },
     "execution_count": 25,
     "metadata": {},
     "output_type": "execute_result"
    }
   ],
   "source": [
    "train_y_pred.shape"
   ]
  },
  {
   "cell_type": "code",
   "execution_count": 26,
   "metadata": {
    "ExecuteTime": {
     "end_time": "2020-02-25T11:52:07.287271Z",
     "start_time": "2020-02-25T11:52:07.228273Z"
    },
    "scrolled": true
   },
   "outputs": [
    {
     "data": {
      "text/plain": [
       "0.39346468903912085"
      ]
     },
     "execution_count": 26,
     "metadata": {},
     "output_type": "execute_result"
    }
   ],
   "source": [
    "#log_loss\n",
    "log_loss(y_test,train_y_pred,labels= list(set(y_test)))"
   ]
  },
  {
   "cell_type": "code",
   "execution_count": 27,
   "metadata": {
    "ExecuteTime": {
     "end_time": "2020-02-25T11:52:07.948510Z",
     "start_time": "2020-02-25T11:52:07.936495Z"
    }
   },
   "outputs": [
    {
     "data": {
      "text/plain": [
       "array([160020,  25037,  34398,  45472,  39315,  30724,  23111,  25845,\n",
       "        23432,  27474,  23536,  22879,  19467,  24781,  23015,  22776,\n",
       "        23601,  24545,  25141,  23101,  26862,  33064,  21947,  13929,\n",
       "        13498,  34370,  19599,  16252,  31221,  22571,  30236,  30771,\n",
       "        19223,  13456,  15498,  30324,  18914,  19467,  32193,  26548,\n",
       "        33934,  30874,  17690,  12591,  12819,  23007,  16994,  13950,\n",
       "        24040,  16829,  21478,  33862,  18227,  13283,  12404,  28945,\n",
       "        21305,  17784,  31900,  23700,  31404])"
      ]
     },
     "execution_count": 27,
     "metadata": {},
     "output_type": "execute_result"
    }
   ],
   "source": [
    "lgmb_model.feature_importance()"
   ]
  },
  {
   "cell_type": "markdown",
   "metadata": {},
   "source": [
    "### feature_importance"
   ]
  },
  {
   "cell_type": "code",
   "execution_count": 28,
   "metadata": {
    "ExecuteTime": {
     "end_time": "2020-02-25T11:52:08.619474Z",
     "start_time": "2020-02-25T11:52:08.602474Z"
    }
   },
   "outputs": [
    {
     "data": {
      "text/html": [
       "<div>\n",
       "<style scoped>\n",
       "    .dataframe tbody tr th:only-of-type {\n",
       "        vertical-align: middle;\n",
       "    }\n",
       "\n",
       "    .dataframe tbody tr th {\n",
       "        vertical-align: top;\n",
       "    }\n",
       "\n",
       "    .dataframe thead th {\n",
       "        text-align: right;\n",
       "    }\n",
       "</style>\n",
       "<table border=\"1\" class=\"dataframe\">\n",
       "  <thead>\n",
       "    <tr style=\"text-align: right;\">\n",
       "      <th></th>\n",
       "      <th>importance</th>\n",
       "    </tr>\n",
       "  </thead>\n",
       "  <tbody>\n",
       "    <tr>\n",
       "      <th>fiberID</th>\n",
       "      <td>160020</td>\n",
       "    </tr>\n",
       "    <tr>\n",
       "      <th>psfMag_r</th>\n",
       "      <td>45472</td>\n",
       "    </tr>\n",
       "    <tr>\n",
       "      <th>psfMag_i</th>\n",
       "      <td>39315</td>\n",
       "    </tr>\n",
       "    <tr>\n",
       "      <th>psfMag_g</th>\n",
       "      <td>34398</td>\n",
       "    </tr>\n",
       "    <tr>\n",
       "      <th>psfMag_g-r</th>\n",
       "      <td>34370</td>\n",
       "    </tr>\n",
       "    <tr>\n",
       "      <th>fiberMag_i-z</th>\n",
       "      <td>33934</td>\n",
       "    </tr>\n",
       "    <tr>\n",
       "      <th>modelMag_u-g</th>\n",
       "      <td>33862</td>\n",
       "    </tr>\n",
       "    <tr>\n",
       "      <th>psfMag_u-g</th>\n",
       "      <td>33064</td>\n",
       "    </tr>\n",
       "    <tr>\n",
       "      <th>fiberMag_r-i</th>\n",
       "      <td>32193</td>\n",
       "    </tr>\n",
       "    <tr>\n",
       "      <th>modelMag_r-i</th>\n",
       "      <td>31900</td>\n",
       "    </tr>\n",
       "  </tbody>\n",
       "</table>\n",
       "</div>"
      ],
      "text/plain": [
       "              importance\n",
       "fiberID           160020\n",
       "psfMag_r           45472\n",
       "psfMag_i           39315\n",
       "psfMag_g           34398\n",
       "psfMag_g-r         34370\n",
       "fiberMag_i-z       33934\n",
       "modelMag_u-g       33862\n",
       "psfMag_u-g         33064\n",
       "fiberMag_r-i       32193\n",
       "modelMag_r-i       31900"
      ]
     },
     "execution_count": 28,
     "metadata": {},
     "output_type": "execute_result"
    }
   ],
   "source": [
    "pi_df = pd.DataFrame(lgmb_model.feature_importance(), index= train_X.columns,columns= ['importance']).sort_values('importance',ascending = False)\n",
    "pi_df.head(10)"
   ]
  },
  {
   "cell_type": "markdown",
   "metadata": {},
   "source": [
    "### 예측결과에 대해\n",
    "* 12번이 모두 6번으로 몰림\n",
    "중간예측 : 0,2,7,11\n",
    "망한예측 : 12,17"
   ]
  },
  {
   "cell_type": "code",
   "execution_count": 29,
   "metadata": {
    "ExecuteTime": {
     "end_time": "2020-02-25T11:52:09.328506Z",
     "start_time": "2020-02-25T11:52:09.282079Z"
    }
   },
   "outputs": [],
   "source": [
    "cm_result = pd.DataFrame(confusion_matrix(y_test,np.argmax(train_y_pred,axis = 1)))"
   ]
  },
  {
   "cell_type": "code",
   "execution_count": 30,
   "metadata": {
    "ExecuteTime": {
     "end_time": "2020-02-25T11:52:10.017471Z",
     "start_time": "2020-02-25T11:52:10.001472Z"
    }
   },
   "outputs": [
    {
     "data": {
      "text/html": [
       "<div>\n",
       "<style scoped>\n",
       "    .dataframe tbody tr th:only-of-type {\n",
       "        vertical-align: middle;\n",
       "    }\n",
       "\n",
       "    .dataframe tbody tr th {\n",
       "        vertical-align: top;\n",
       "    }\n",
       "\n",
       "    .dataframe thead th {\n",
       "        text-align: right;\n",
       "    }\n",
       "</style>\n",
       "<table border=\"1\" class=\"dataframe\">\n",
       "  <thead>\n",
       "    <tr style=\"text-align: right;\">\n",
       "      <th></th>\n",
       "      <th>0</th>\n",
       "      <th>1</th>\n",
       "      <th>2</th>\n",
       "      <th>3</th>\n",
       "      <th>4</th>\n",
       "      <th>5</th>\n",
       "      <th>6</th>\n",
       "      <th>7</th>\n",
       "      <th>8</th>\n",
       "      <th>9</th>\n",
       "      <th>10</th>\n",
       "      <th>11</th>\n",
       "      <th>12</th>\n",
       "      <th>13</th>\n",
       "      <th>14</th>\n",
       "      <th>15</th>\n",
       "      <th>16</th>\n",
       "      <th>17</th>\n",
       "      <th>18</th>\n",
       "    </tr>\n",
       "  </thead>\n",
       "  <tbody>\n",
       "    <tr>\n",
       "      <th>0</th>\n",
       "      <td>229</td>\n",
       "      <td>0</td>\n",
       "      <td>0</td>\n",
       "      <td>0</td>\n",
       "      <td>13</td>\n",
       "      <td>43</td>\n",
       "      <td>3</td>\n",
       "      <td>191</td>\n",
       "      <td>64</td>\n",
       "      <td>0</td>\n",
       "      <td>0</td>\n",
       "      <td>23</td>\n",
       "      <td>0</td>\n",
       "      <td>1</td>\n",
       "      <td>22</td>\n",
       "      <td>5</td>\n",
       "      <td>0</td>\n",
       "      <td>0</td>\n",
       "      <td>54</td>\n",
       "    </tr>\n",
       "    <tr>\n",
       "      <th>1</th>\n",
       "      <td>1</td>\n",
       "      <td>1873</td>\n",
       "      <td>0</td>\n",
       "      <td>0</td>\n",
       "      <td>0</td>\n",
       "      <td>1</td>\n",
       "      <td>0</td>\n",
       "      <td>4</td>\n",
       "      <td>11</td>\n",
       "      <td>0</td>\n",
       "      <td>2</td>\n",
       "      <td>9</td>\n",
       "      <td>0</td>\n",
       "      <td>0</td>\n",
       "      <td>0</td>\n",
       "      <td>0</td>\n",
       "      <td>4</td>\n",
       "      <td>0</td>\n",
       "      <td>46</td>\n",
       "    </tr>\n",
       "    <tr>\n",
       "      <th>2</th>\n",
       "      <td>0</td>\n",
       "      <td>0</td>\n",
       "      <td>70</td>\n",
       "      <td>72</td>\n",
       "      <td>0</td>\n",
       "      <td>0</td>\n",
       "      <td>0</td>\n",
       "      <td>0</td>\n",
       "      <td>0</td>\n",
       "      <td>0</td>\n",
       "      <td>8</td>\n",
       "      <td>0</td>\n",
       "      <td>0</td>\n",
       "      <td>0</td>\n",
       "      <td>0</td>\n",
       "      <td>0</td>\n",
       "      <td>0</td>\n",
       "      <td>0</td>\n",
       "      <td>0</td>\n",
       "    </tr>\n",
       "    <tr>\n",
       "      <th>3</th>\n",
       "      <td>1</td>\n",
       "      <td>0</td>\n",
       "      <td>31</td>\n",
       "      <td>633</td>\n",
       "      <td>0</td>\n",
       "      <td>0</td>\n",
       "      <td>0</td>\n",
       "      <td>0</td>\n",
       "      <td>2</td>\n",
       "      <td>0</td>\n",
       "      <td>101</td>\n",
       "      <td>0</td>\n",
       "      <td>0</td>\n",
       "      <td>0</td>\n",
       "      <td>0</td>\n",
       "      <td>0</td>\n",
       "      <td>0</td>\n",
       "      <td>0</td>\n",
       "      <td>0</td>\n",
       "    </tr>\n",
       "    <tr>\n",
       "      <th>4</th>\n",
       "      <td>1</td>\n",
       "      <td>0</td>\n",
       "      <td>0</td>\n",
       "      <td>0</td>\n",
       "      <td>4260</td>\n",
       "      <td>26</td>\n",
       "      <td>1</td>\n",
       "      <td>0</td>\n",
       "      <td>6</td>\n",
       "      <td>0</td>\n",
       "      <td>0</td>\n",
       "      <td>12</td>\n",
       "      <td>0</td>\n",
       "      <td>0</td>\n",
       "      <td>0</td>\n",
       "      <td>79</td>\n",
       "      <td>0</td>\n",
       "      <td>0</td>\n",
       "      <td>0</td>\n",
       "    </tr>\n",
       "    <tr>\n",
       "      <th>5</th>\n",
       "      <td>24</td>\n",
       "      <td>1</td>\n",
       "      <td>0</td>\n",
       "      <td>0</td>\n",
       "      <td>145</td>\n",
       "      <td>3621</td>\n",
       "      <td>0</td>\n",
       "      <td>79</td>\n",
       "      <td>74</td>\n",
       "      <td>0</td>\n",
       "      <td>0</td>\n",
       "      <td>4</td>\n",
       "      <td>0</td>\n",
       "      <td>0</td>\n",
       "      <td>0</td>\n",
       "      <td>84</td>\n",
       "      <td>0</td>\n",
       "      <td>0</td>\n",
       "      <td>16</td>\n",
       "    </tr>\n",
       "    <tr>\n",
       "      <th>6</th>\n",
       "      <td>3</td>\n",
       "      <td>33</td>\n",
       "      <td>0</td>\n",
       "      <td>0</td>\n",
       "      <td>9</td>\n",
       "      <td>3</td>\n",
       "      <td>10870</td>\n",
       "      <td>8</td>\n",
       "      <td>76</td>\n",
       "      <td>3</td>\n",
       "      <td>0</td>\n",
       "      <td>55</td>\n",
       "      <td>0</td>\n",
       "      <td>83</td>\n",
       "      <td>23</td>\n",
       "      <td>15</td>\n",
       "      <td>1</td>\n",
       "      <td>0</td>\n",
       "      <td>2</td>\n",
       "    </tr>\n",
       "    <tr>\n",
       "      <th>7</th>\n",
       "      <td>135</td>\n",
       "      <td>0</td>\n",
       "      <td>0</td>\n",
       "      <td>0</td>\n",
       "      <td>0</td>\n",
       "      <td>187</td>\n",
       "      <td>0</td>\n",
       "      <td>684</td>\n",
       "      <td>21</td>\n",
       "      <td>0</td>\n",
       "      <td>0</td>\n",
       "      <td>2</td>\n",
       "      <td>0</td>\n",
       "      <td>0</td>\n",
       "      <td>0</td>\n",
       "      <td>1</td>\n",
       "      <td>0</td>\n",
       "      <td>0</td>\n",
       "      <td>366</td>\n",
       "    </tr>\n",
       "    <tr>\n",
       "      <th>8</th>\n",
       "      <td>11</td>\n",
       "      <td>12</td>\n",
       "      <td>0</td>\n",
       "      <td>2</td>\n",
       "      <td>30</td>\n",
       "      <td>228</td>\n",
       "      <td>94</td>\n",
       "      <td>33</td>\n",
       "      <td>13177</td>\n",
       "      <td>1</td>\n",
       "      <td>13</td>\n",
       "      <td>170</td>\n",
       "      <td>0</td>\n",
       "      <td>79</td>\n",
       "      <td>70</td>\n",
       "      <td>17</td>\n",
       "      <td>14</td>\n",
       "      <td>0</td>\n",
       "      <td>942</td>\n",
       "    </tr>\n",
       "    <tr>\n",
       "      <th>9</th>\n",
       "      <td>0</td>\n",
       "      <td>0</td>\n",
       "      <td>0</td>\n",
       "      <td>0</td>\n",
       "      <td>0</td>\n",
       "      <td>0</td>\n",
       "      <td>0</td>\n",
       "      <td>0</td>\n",
       "      <td>5</td>\n",
       "      <td>33</td>\n",
       "      <td>0</td>\n",
       "      <td>0</td>\n",
       "      <td>0</td>\n",
       "      <td>0</td>\n",
       "      <td>0</td>\n",
       "      <td>0</td>\n",
       "      <td>0</td>\n",
       "      <td>0</td>\n",
       "      <td>0</td>\n",
       "    </tr>\n",
       "    <tr>\n",
       "      <th>10</th>\n",
       "      <td>0</td>\n",
       "      <td>0</td>\n",
       "      <td>6</td>\n",
       "      <td>90</td>\n",
       "      <td>0</td>\n",
       "      <td>0</td>\n",
       "      <td>1</td>\n",
       "      <td>0</td>\n",
       "      <td>2</td>\n",
       "      <td>0</td>\n",
       "      <td>4022</td>\n",
       "      <td>2</td>\n",
       "      <td>0</td>\n",
       "      <td>0</td>\n",
       "      <td>0</td>\n",
       "      <td>0</td>\n",
       "      <td>1</td>\n",
       "      <td>0</td>\n",
       "      <td>0</td>\n",
       "    </tr>\n",
       "    <tr>\n",
       "      <th>11</th>\n",
       "      <td>9</td>\n",
       "      <td>23</td>\n",
       "      <td>0</td>\n",
       "      <td>1</td>\n",
       "      <td>136</td>\n",
       "      <td>37</td>\n",
       "      <td>76</td>\n",
       "      <td>16</td>\n",
       "      <td>415</td>\n",
       "      <td>1</td>\n",
       "      <td>21</td>\n",
       "      <td>457</td>\n",
       "      <td>0</td>\n",
       "      <td>312</td>\n",
       "      <td>104</td>\n",
       "      <td>43</td>\n",
       "      <td>11</td>\n",
       "      <td>0</td>\n",
       "      <td>298</td>\n",
       "    </tr>\n",
       "    <tr>\n",
       "      <th>12</th>\n",
       "      <td>0</td>\n",
       "      <td>0</td>\n",
       "      <td>0</td>\n",
       "      <td>0</td>\n",
       "      <td>0</td>\n",
       "      <td>0</td>\n",
       "      <td>0</td>\n",
       "      <td>2</td>\n",
       "      <td>0</td>\n",
       "      <td>0</td>\n",
       "      <td>0</td>\n",
       "      <td>0</td>\n",
       "      <td>0</td>\n",
       "      <td>0</td>\n",
       "      <td>0</td>\n",
       "      <td>0</td>\n",
       "      <td>0</td>\n",
       "      <td>0</td>\n",
       "      <td>2</td>\n",
       "    </tr>\n",
       "    <tr>\n",
       "      <th>13</th>\n",
       "      <td>0</td>\n",
       "      <td>0</td>\n",
       "      <td>0</td>\n",
       "      <td>0</td>\n",
       "      <td>0</td>\n",
       "      <td>3</td>\n",
       "      <td>192</td>\n",
       "      <td>4</td>\n",
       "      <td>279</td>\n",
       "      <td>0</td>\n",
       "      <td>2</td>\n",
       "      <td>128</td>\n",
       "      <td>0</td>\n",
       "      <td>1269</td>\n",
       "      <td>4</td>\n",
       "      <td>0</td>\n",
       "      <td>0</td>\n",
       "      <td>0</td>\n",
       "      <td>257</td>\n",
       "    </tr>\n",
       "    <tr>\n",
       "      <th>14</th>\n",
       "      <td>3</td>\n",
       "      <td>0</td>\n",
       "      <td>0</td>\n",
       "      <td>0</td>\n",
       "      <td>0</td>\n",
       "      <td>0</td>\n",
       "      <td>9</td>\n",
       "      <td>1</td>\n",
       "      <td>24</td>\n",
       "      <td>0</td>\n",
       "      <td>0</td>\n",
       "      <td>17</td>\n",
       "      <td>0</td>\n",
       "      <td>1</td>\n",
       "      <td>920</td>\n",
       "      <td>0</td>\n",
       "      <td>1</td>\n",
       "      <td>0</td>\n",
       "      <td>0</td>\n",
       "    </tr>\n",
       "    <tr>\n",
       "      <th>15</th>\n",
       "      <td>1</td>\n",
       "      <td>0</td>\n",
       "      <td>0</td>\n",
       "      <td>0</td>\n",
       "      <td>105</td>\n",
       "      <td>44</td>\n",
       "      <td>1</td>\n",
       "      <td>0</td>\n",
       "      <td>2</td>\n",
       "      <td>0</td>\n",
       "      <td>0</td>\n",
       "      <td>11</td>\n",
       "      <td>0</td>\n",
       "      <td>0</td>\n",
       "      <td>0</td>\n",
       "      <td>4225</td>\n",
       "      <td>0</td>\n",
       "      <td>0</td>\n",
       "      <td>0</td>\n",
       "    </tr>\n",
       "    <tr>\n",
       "      <th>16</th>\n",
       "      <td>0</td>\n",
       "      <td>7</td>\n",
       "      <td>0</td>\n",
       "      <td>0</td>\n",
       "      <td>0</td>\n",
       "      <td>0</td>\n",
       "      <td>0</td>\n",
       "      <td>0</td>\n",
       "      <td>0</td>\n",
       "      <td>0</td>\n",
       "      <td>0</td>\n",
       "      <td>8</td>\n",
       "      <td>0</td>\n",
       "      <td>0</td>\n",
       "      <td>0</td>\n",
       "      <td>0</td>\n",
       "      <td>331</td>\n",
       "      <td>0</td>\n",
       "      <td>0</td>\n",
       "    </tr>\n",
       "    <tr>\n",
       "      <th>17</th>\n",
       "      <td>0</td>\n",
       "      <td>0</td>\n",
       "      <td>0</td>\n",
       "      <td>3</td>\n",
       "      <td>0</td>\n",
       "      <td>0</td>\n",
       "      <td>2</td>\n",
       "      <td>2</td>\n",
       "      <td>2</td>\n",
       "      <td>0</td>\n",
       "      <td>0</td>\n",
       "      <td>1</td>\n",
       "      <td>0</td>\n",
       "      <td>5</td>\n",
       "      <td>1</td>\n",
       "      <td>0</td>\n",
       "      <td>0</td>\n",
       "      <td>0</td>\n",
       "      <td>2</td>\n",
       "    </tr>\n",
       "    <tr>\n",
       "      <th>18</th>\n",
       "      <td>87</td>\n",
       "      <td>10</td>\n",
       "      <td>0</td>\n",
       "      <td>0</td>\n",
       "      <td>0</td>\n",
       "      <td>79</td>\n",
       "      <td>2</td>\n",
       "      <td>369</td>\n",
       "      <td>405</td>\n",
       "      <td>0</td>\n",
       "      <td>0</td>\n",
       "      <td>6</td>\n",
       "      <td>0</td>\n",
       "      <td>7</td>\n",
       "      <td>0</td>\n",
       "      <td>1</td>\n",
       "      <td>0</td>\n",
       "      <td>0</td>\n",
       "      <td>5560</td>\n",
       "    </tr>\n",
       "  </tbody>\n",
       "</table>\n",
       "</div>"
      ],
      "text/plain": [
       "     0     1   2    3     4     5      6    7      8   9     10   11  12  \\\n",
       "0   229     0   0    0    13    43      3  191     64   0     0   23   0   \n",
       "1     1  1873   0    0     0     1      0    4     11   0     2    9   0   \n",
       "2     0     0  70   72     0     0      0    0      0   0     8    0   0   \n",
       "3     1     0  31  633     0     0      0    0      2   0   101    0   0   \n",
       "4     1     0   0    0  4260    26      1    0      6   0     0   12   0   \n",
       "5    24     1   0    0   145  3621      0   79     74   0     0    4   0   \n",
       "6     3    33   0    0     9     3  10870    8     76   3     0   55   0   \n",
       "7   135     0   0    0     0   187      0  684     21   0     0    2   0   \n",
       "8    11    12   0    2    30   228     94   33  13177   1    13  170   0   \n",
       "9     0     0   0    0     0     0      0    0      5  33     0    0   0   \n",
       "10    0     0   6   90     0     0      1    0      2   0  4022    2   0   \n",
       "11    9    23   0    1   136    37     76   16    415   1    21  457   0   \n",
       "12    0     0   0    0     0     0      0    2      0   0     0    0   0   \n",
       "13    0     0   0    0     0     3    192    4    279   0     2  128   0   \n",
       "14    3     0   0    0     0     0      9    1     24   0     0   17   0   \n",
       "15    1     0   0    0   105    44      1    0      2   0     0   11   0   \n",
       "16    0     7   0    0     0     0      0    0      0   0     0    8   0   \n",
       "17    0     0   0    3     0     0      2    2      2   0     0    1   0   \n",
       "18   87    10   0    0     0    79      2  369    405   0     0    6   0   \n",
       "\n",
       "      13   14    15   16  17    18  \n",
       "0      1   22     5    0   0    54  \n",
       "1      0    0     0    4   0    46  \n",
       "2      0    0     0    0   0     0  \n",
       "3      0    0     0    0   0     0  \n",
       "4      0    0    79    0   0     0  \n",
       "5      0    0    84    0   0    16  \n",
       "6     83   23    15    1   0     2  \n",
       "7      0    0     1    0   0   366  \n",
       "8     79   70    17   14   0   942  \n",
       "9      0    0     0    0   0     0  \n",
       "10     0    0     0    1   0     0  \n",
       "11   312  104    43   11   0   298  \n",
       "12     0    0     0    0   0     2  \n",
       "13  1269    4     0    0   0   257  \n",
       "14     1  920     0    1   0     0  \n",
       "15     0    0  4225    0   0     0  \n",
       "16     0    0     0  331   0     0  \n",
       "17     5    1     0    0   0     2  \n",
       "18     7    0     1    0   0  5560  "
      ]
     },
     "execution_count": 30,
     "metadata": {},
     "output_type": "execute_result"
    }
   ],
   "source": [
    "cm_result"
   ]
  },
  {
   "cell_type": "code",
   "execution_count": 31,
   "metadata": {
    "ExecuteTime": {
     "end_time": "2020-02-25T11:52:11.449331Z",
     "start_time": "2020-02-25T11:52:10.682450Z"
    },
    "scrolled": false
   },
   "outputs": [
    {
     "data": {
      "image/png": "[encoded data removed]",
      "text/plain": [
       "<Figure size 1080x1080 with 2 Axes>"
      ]
     },
     "metadata": {},
     "output_type": "display_data"
    }
   ],
   "source": [
    "plt.figure(figsize =(15,15))\n",
    "sns.heatmap(cm_result/np.sum(cm_result),annot = True, cmap ='RdYlGn',fmt='.1%')\n",
    "plt.ylabel(\"real\",fontsize=20)\n",
    "plt.xlabel(\"predict\",fontsize=20)\n",
    "plt.show()"
   ]
  },
  {
   "cell_type": "markdown",
   "metadata": {},
   "source": [
    "## Modeling_classification\n",
    "* cv_number1\n",
    "param = {'num_leaves': 255,\n",
    " 'min_child_samples': 40,\n",
    " 'max_depth': 8,\n",
    " 'learning_rate': 0.05,\n",
    " 'lambda_l2': 3,\n",
    " 'lambda_l1': 9\n",
    "}   \n",
    "-> 결과 : 0.349561 \n",
    "* cv_number2\n",
    "param = {'num_leaves': 127, 'min_child_samples': 50, 'max_depth': 8, 'learning_rate': 0.01, 'lambda_l2': 7, 'lambda_l1': 9}  \n",
    "  -> 결과 : 0.3612851294\t"
   ]
  },
  {
   "cell_type": "code",
   "execution_count": 33,
   "metadata": {
    "ExecuteTime": {
     "end_time": "2020-02-25T12:22:24.024572Z",
     "start_time": "2020-02-25T12:22:24.020581Z"
    }
   },
   "outputs": [],
   "source": [
    "param = {'num_leaves': 255,\n",
    " 'min_child_samples': 40,\n",
    " 'max_depth': 8,\n",
    " 'learning_rate': 0.05,\n",
    " 'lambda_l2': 3,\n",
    " 'lambda_l1': 9\n",
    "}\n"
   ]
  },
  {
   "cell_type": "code",
   "execution_count": 63,
   "metadata": {
    "ExecuteTime": {
     "end_time": "2020-02-26T12:07:39.565379Z",
     "start_time": "2020-02-26T12:07:39.556369Z"
    }
   },
   "outputs": [],
   "source": [
    "lgbm_c = lgb.LGBMClassifier(num_leaves = 127, min_child_samples = 50,\n",
    "                            max_depth = 8, learning_rate = 0.01,\n",
    "                            lambda_l2 = 7, lambda_l1 = 9,\n",
    "                            n_estimators=2000, random_state = 42)"
   ]
  },
  {
   "cell_type": "code",
   "execution_count": 64,
   "metadata": {
    "ExecuteTime": {
     "end_time": "2020-02-26T12:22:19.256649Z",
     "start_time": "2020-02-26T12:07:40.444341Z"
    }
   },
   "outputs": [
    {
     "name": "stdout",
     "output_type": "stream",
     "text": [
      "Training until validation scores don't improve for 100 rounds\n",
      "[100]\ttrain's multi_logloss: 0.909211\tvalid's multi_logloss: 0.924493\n",
      "[200]\ttrain's multi_logloss: 0.56983\tvalid's multi_logloss: 0.591835\n",
      "[300]\ttrain's multi_logloss: 0.438477\tvalid's multi_logloss: 0.46583\n",
      "[400]\ttrain's multi_logloss: 0.379986\tvalid's multi_logloss: 0.412345\n",
      "[500]\ttrain's multi_logloss: 0.348193\tvalid's multi_logloss: 0.386151\n",
      "[600]\ttrain's multi_logloss: 0.32896\tvalid's multi_logloss: 0.372569\n",
      "[700]\ttrain's multi_logloss: 0.316141\tvalid's multi_logloss: 0.364622\n",
      "[800]\ttrain's multi_logloss: 0.30607\tvalid's multi_logloss: 0.359689\n",
      "[900]\ttrain's multi_logloss: 0.297831\tvalid's multi_logloss: 0.356334\n",
      "[1000]\ttrain's multi_logloss: 0.290484\tvalid's multi_logloss: 0.353833\n",
      "[1100]\ttrain's multi_logloss: 0.283743\tvalid's multi_logloss: 0.352003\n",
      "[1200]\ttrain's multi_logloss: 0.277495\tvalid's multi_logloss: 0.350743\n",
      "[1300]\ttrain's multi_logloss: 0.271564\tvalid's multi_logloss: 0.349866\n",
      "[1400]\ttrain's multi_logloss: 0.266017\tvalid's multi_logloss: 0.349156\n",
      "[1500]\ttrain's multi_logloss: 0.260669\tvalid's multi_logloss: 0.348493\n",
      "[1600]\ttrain's multi_logloss: 0.255361\tvalid's multi_logloss: 0.347993\n",
      "[1700]\ttrain's multi_logloss: 0.250462\tvalid's multi_logloss: 0.347691\n",
      "[1800]\ttrain's multi_logloss: 0.245652\tvalid's multi_logloss: 0.347421\n",
      "[1900]\ttrain's multi_logloss: 0.241094\tvalid's multi_logloss: 0.34713\n",
      "[2000]\ttrain's multi_logloss: 0.236824\tvalid's multi_logloss: 0.347036\n",
      "Did not meet early stopping. Best iteration is:\n",
      "[2000]\ttrain's multi_logloss: 0.236824\tvalid's multi_logloss: 0.347036\n"
     ]
    },
    {
     "data": {
      "text/plain": [
       "LGBMClassifier(boosting_type='gbdt', class_weight=None, colsample_bytree=1.0,\n",
       "               importance_type='split', lambda_l1=9, lambda_l2=7,\n",
       "               learning_rate=0.01, max_depth=8, min_child_samples=50,\n",
       "               min_child_weight=0.001, min_split_gain=0.0, n_estimators=2000,\n",
       "               n_jobs=-1, num_leaves=127, objective=None, random_state=42,\n",
       "               reg_alpha=0.0, reg_lambda=0.0, silent=True, subsample=1.0,\n",
       "               subsample_for_bin=200000, subsample_freq=0)"
      ]
     },
     "execution_count": 64,
     "metadata": {},
     "output_type": "execute_result"
    }
   ],
   "source": [
    "lgbm_c.fit(X_train, y_train, eval_set = [(X_train,y_train),(X_test, y_test)],eval_names= ['train','valid'], \n",
    "           eval_metric = 'logloss', verbose = 100, early_stopping_rounds = 100)"
   ]
  },
  {
   "cell_type": "code",
   "execution_count": 65,
   "metadata": {
    "ExecuteTime": {
     "end_time": "2020-02-26T12:25:55.836977Z",
     "start_time": "2020-02-26T12:22:20.165622Z"
    },
    "scrolled": true
   },
   "outputs": [
    {
     "data": {
      "text/plain": [
       "0.3464160761297043"
      ]
     },
     "execution_count": 65,
     "metadata": {},
     "output_type": "execute_result"
    }
   ],
   "source": [
    "train_y_pred = lgbm_c.predict_proba(X_test)\n",
    "\n",
    "from sklearn.metrics import log_loss\n",
    "#log_loss\n",
    "log_loss(y_test,train_y_pred,labels= list(set(y_test)))"
   ]
  },
  {
   "cell_type": "code",
   "execution_count": 66,
   "metadata": {
    "ExecuteTime": {
     "end_time": "2020-02-26T12:25:56.883944Z",
     "start_time": "2020-02-26T12:25:56.876944Z"
    }
   },
   "outputs": [
    {
     "data": {
      "text/plain": [
       "array([[5.39993176e-03, 1.22444768e-04, 4.45305468e-05, ...,\n",
       "        7.11194489e-05, 1.20629901e-04, 3.48068557e-04],\n",
       "       [1.89908799e-03, 3.30398986e-04, 6.54999510e-05, ...,\n",
       "        7.97768296e-05, 1.63772007e-04, 1.97450208e-01],\n",
       "       [3.51373569e-05, 1.40681673e-05, 7.17781997e-06, ...,\n",
       "        8.45326637e-06, 1.46324748e-05, 2.78583785e-05],\n",
       "       ...,\n",
       "       [6.68746415e-05, 6.00891117e-05, 3.36116914e-04, ...,\n",
       "        2.05159864e-04, 2.64385320e-05, 3.62330898e-05],\n",
       "       [9.61456596e-06, 6.97109134e-06, 2.25527351e-06, ...,\n",
       "        3.94283753e-06, 2.77917306e-06, 9.01238063e-05],\n",
       "       [6.13576052e-04, 4.66294283e-05, 2.30524121e-05, ...,\n",
       "        3.07794254e-05, 4.56916634e-05, 2.15052317e-02]])"
      ]
     },
     "execution_count": 66,
     "metadata": {},
     "output_type": "execute_result"
    }
   ],
   "source": [
    "train_y_pred"
   ]
  },
  {
   "cell_type": "code",
   "execution_count": 67,
   "metadata": {
    "ExecuteTime": {
     "end_time": "2020-02-26T12:26:33.626812Z",
     "start_time": "2020-02-26T12:25:57.898913Z"
    }
   },
   "outputs": [],
   "source": [
    "test_y_pred = lgbm_c.predict_proba(test_X)"
   ]
  },
  {
   "cell_type": "code",
   "execution_count": 68,
   "metadata": {
    "ExecuteTime": {
     "end_time": "2020-02-26T12:26:34.606782Z",
     "start_time": "2020-02-26T12:26:34.601782Z"
    }
   },
   "outputs": [
    {
     "data": {
      "text/plain": [
       "array([[7.10225854e-05, 9.34591174e-05, 1.11835120e-03, ...,\n",
       "        2.85114796e-04, 4.45672318e-03, 9.48099035e-05],\n",
       "       [3.33691584e-04, 4.48046818e-04, 9.31614641e-05, ...,\n",
       "        1.66389054e-04, 1.24745226e-03, 4.97215143e-04],\n",
       "       [2.94738449e-05, 1.42966512e-05, 6.50205405e-06, ...,\n",
       "        7.76121568e-06, 4.74897329e-05, 1.95503563e-05],\n",
       "       ...,\n",
       "       [9.18452929e-06, 8.82220561e-06, 1.26434068e-06, ...,\n",
       "        3.22668047e-06, 2.91147382e-06, 5.37119135e-04],\n",
       "       [8.87382504e-06, 1.14025757e-05, 1.55620975e-06, ...,\n",
       "        3.27413133e-06, 2.60180630e-06, 1.63504128e-04],\n",
       "       [2.25873316e-04, 8.59782624e-06, 5.14368349e-06, ...,\n",
       "        8.21064151e-06, 8.24144428e-06, 2.22245221e-05]])"
      ]
     },
     "execution_count": 68,
     "metadata": {},
     "output_type": "execute_result"
    }
   ],
   "source": [
    "test_y_pred"
   ]
  },
  {
   "cell_type": "markdown",
   "metadata": {},
   "source": [
    "### feature_importance"
   ]
  },
  {
   "cell_type": "code",
   "execution_count": 69,
   "metadata": {
    "ExecuteTime": {
     "end_time": "2020-02-26T12:26:35.505768Z",
     "start_time": "2020-02-26T12:26:35.457771Z"
    },
    "scrolled": true
   },
   "outputs": [
    {
     "data": {
      "text/html": [
       "<div>\n",
       "<style scoped>\n",
       "    .dataframe tbody tr th:only-of-type {\n",
       "        vertical-align: middle;\n",
       "    }\n",
       "\n",
       "    .dataframe tbody tr th {\n",
       "        vertical-align: top;\n",
       "    }\n",
       "\n",
       "    .dataframe thead th {\n",
       "        text-align: right;\n",
       "    }\n",
       "</style>\n",
       "<table border=\"1\" class=\"dataframe\">\n",
       "  <thead>\n",
       "    <tr style=\"text-align: right;\">\n",
       "      <th></th>\n",
       "      <th>importance</th>\n",
       "    </tr>\n",
       "  </thead>\n",
       "  <tbody>\n",
       "    <tr>\n",
       "      <th>fiberID</th>\n",
       "      <td>91751</td>\n",
       "    </tr>\n",
       "    <tr>\n",
       "      <th>modelMag_i-z</th>\n",
       "      <td>36953</td>\n",
       "    </tr>\n",
       "    <tr>\n",
       "      <th>fiberMag_i-z</th>\n",
       "      <td>36743</td>\n",
       "    </tr>\n",
       "    <tr>\n",
       "      <th>psfMag_g-r</th>\n",
       "      <td>36039</td>\n",
       "    </tr>\n",
       "    <tr>\n",
       "      <th>psfMag_i-z</th>\n",
       "      <td>35313</td>\n",
       "    </tr>\n",
       "    <tr>\n",
       "      <th>petroMag_i-z</th>\n",
       "      <td>34510</td>\n",
       "    </tr>\n",
       "    <tr>\n",
       "      <th>fiberMag_u-g</th>\n",
       "      <td>34280</td>\n",
       "    </tr>\n",
       "    <tr>\n",
       "      <th>psfMag_r-i</th>\n",
       "      <td>33916</td>\n",
       "    </tr>\n",
       "    <tr>\n",
       "      <th>psfMag_u-g</th>\n",
       "      <td>33853</td>\n",
       "    </tr>\n",
       "    <tr>\n",
       "      <th>petroMag_u-g</th>\n",
       "      <td>32714</td>\n",
       "    </tr>\n",
       "    <tr>\n",
       "      <th>petroMag_r-i</th>\n",
       "      <td>31492</td>\n",
       "    </tr>\n",
       "    <tr>\n",
       "      <th>modelMag_u-g</th>\n",
       "      <td>31123</td>\n",
       "    </tr>\n",
       "    <tr>\n",
       "      <th>fiberMag_r-i</th>\n",
       "      <td>30426</td>\n",
       "    </tr>\n",
       "    <tr>\n",
       "      <th>fiberMag_g-r</th>\n",
       "      <td>28982</td>\n",
       "    </tr>\n",
       "    <tr>\n",
       "      <th>psfMag_r</th>\n",
       "      <td>28843</td>\n",
       "    </tr>\n",
       "    <tr>\n",
       "      <th>modelMag_r-i</th>\n",
       "      <td>28367</td>\n",
       "    </tr>\n",
       "    <tr>\n",
       "      <th>psfMag_i</th>\n",
       "      <td>27972</td>\n",
       "    </tr>\n",
       "    <tr>\n",
       "      <th>modelMag_g-r</th>\n",
       "      <td>26374</td>\n",
       "    </tr>\n",
       "    <tr>\n",
       "      <th>petroMag_g-r</th>\n",
       "      <td>25550</td>\n",
       "    </tr>\n",
       "    <tr>\n",
       "      <th>psfMag_z</th>\n",
       "      <td>25268</td>\n",
       "    </tr>\n",
       "    <tr>\n",
       "      <th>fiberMag_r-z</th>\n",
       "      <td>23596</td>\n",
       "    </tr>\n",
       "    <tr>\n",
       "      <th>modelMag_z</th>\n",
       "      <td>23258</td>\n",
       "    </tr>\n",
       "    <tr>\n",
       "      <th>fiberMag_i</th>\n",
       "      <td>22523</td>\n",
       "    </tr>\n",
       "    <tr>\n",
       "      <th>petroMag_u</th>\n",
       "      <td>21824</td>\n",
       "    </tr>\n",
       "    <tr>\n",
       "      <th>psfMag_g</th>\n",
       "      <td>21554</td>\n",
       "    </tr>\n",
       "    <tr>\n",
       "      <th>modelMag_r-z</th>\n",
       "      <td>21531</td>\n",
       "    </tr>\n",
       "    <tr>\n",
       "      <th>petroMag_z</th>\n",
       "      <td>21295</td>\n",
       "    </tr>\n",
       "    <tr>\n",
       "      <th>petroMag_i</th>\n",
       "      <td>20662</td>\n",
       "    </tr>\n",
       "    <tr>\n",
       "      <th>fiberMag_u</th>\n",
       "      <td>20206</td>\n",
       "    </tr>\n",
       "    <tr>\n",
       "      <th>petroMag_r-z</th>\n",
       "      <td>20122</td>\n",
       "    </tr>\n",
       "    <tr>\n",
       "      <th>...</th>\n",
       "      <td>...</td>\n",
       "    </tr>\n",
       "    <tr>\n",
       "      <th>petroMag_r</th>\n",
       "      <td>19890</td>\n",
       "    </tr>\n",
       "    <tr>\n",
       "      <th>fiberMag_g</th>\n",
       "      <td>19772</td>\n",
       "    </tr>\n",
       "    <tr>\n",
       "      <th>psfMag_r-z</th>\n",
       "      <td>19744</td>\n",
       "    </tr>\n",
       "    <tr>\n",
       "      <th>petroMag_u-r</th>\n",
       "      <td>19727</td>\n",
       "    </tr>\n",
       "    <tr>\n",
       "      <th>fiberMag_z</th>\n",
       "      <td>19645</td>\n",
       "    </tr>\n",
       "    <tr>\n",
       "      <th>fiberMag_r</th>\n",
       "      <td>19178</td>\n",
       "    </tr>\n",
       "    <tr>\n",
       "      <th>psfMag_u-r</th>\n",
       "      <td>18938</td>\n",
       "    </tr>\n",
       "    <tr>\n",
       "      <th>modelMag_i</th>\n",
       "      <td>18772</td>\n",
       "    </tr>\n",
       "    <tr>\n",
       "      <th>psfMag_u</th>\n",
       "      <td>18743</td>\n",
       "    </tr>\n",
       "    <tr>\n",
       "      <th>fiberMag_u-r</th>\n",
       "      <td>17634</td>\n",
       "    </tr>\n",
       "    <tr>\n",
       "      <th>petroMag_u-z</th>\n",
       "      <td>17187</td>\n",
       "    </tr>\n",
       "    <tr>\n",
       "      <th>psfMag_g-i</th>\n",
       "      <td>16725</td>\n",
       "    </tr>\n",
       "    <tr>\n",
       "      <th>petroMag_g-i</th>\n",
       "      <td>16670</td>\n",
       "    </tr>\n",
       "    <tr>\n",
       "      <th>fiberMag_g-i</th>\n",
       "      <td>16559</td>\n",
       "    </tr>\n",
       "    <tr>\n",
       "      <th>modelMag_r</th>\n",
       "      <td>16358</td>\n",
       "    </tr>\n",
       "    <tr>\n",
       "      <th>modelMag_g-i</th>\n",
       "      <td>16226</td>\n",
       "    </tr>\n",
       "    <tr>\n",
       "      <th>modelMag_g</th>\n",
       "      <td>16158</td>\n",
       "    </tr>\n",
       "    <tr>\n",
       "      <th>petroMag_g-z</th>\n",
       "      <td>16131</td>\n",
       "    </tr>\n",
       "    <tr>\n",
       "      <th>petroMag_g</th>\n",
       "      <td>15856</td>\n",
       "    </tr>\n",
       "    <tr>\n",
       "      <th>modelMag_u-r</th>\n",
       "      <td>15636</td>\n",
       "    </tr>\n",
       "    <tr>\n",
       "      <th>petroMag_u-i</th>\n",
       "      <td>15515</td>\n",
       "    </tr>\n",
       "    <tr>\n",
       "      <th>fiberMag_u-z</th>\n",
       "      <td>15264</td>\n",
       "    </tr>\n",
       "    <tr>\n",
       "      <th>fiberMag_g-z</th>\n",
       "      <td>14494</td>\n",
       "    </tr>\n",
       "    <tr>\n",
       "      <th>psfMag_u-i</th>\n",
       "      <td>14035</td>\n",
       "    </tr>\n",
       "    <tr>\n",
       "      <th>modelMag_u-z</th>\n",
       "      <td>13359</td>\n",
       "    </tr>\n",
       "    <tr>\n",
       "      <th>psfMag_u-z</th>\n",
       "      <td>13137</td>\n",
       "    </tr>\n",
       "    <tr>\n",
       "      <th>modelMag_u-i</th>\n",
       "      <td>13010</td>\n",
       "    </tr>\n",
       "    <tr>\n",
       "      <th>modelMag_g-z</th>\n",
       "      <td>12972</td>\n",
       "    </tr>\n",
       "    <tr>\n",
       "      <th>psfMag_g-z</th>\n",
       "      <td>12948</td>\n",
       "    </tr>\n",
       "    <tr>\n",
       "      <th>fiberMag_u-i</th>\n",
       "      <td>12618</td>\n",
       "    </tr>\n",
       "  </tbody>\n",
       "</table>\n",
       "<p>61 rows × 1 columns</p>\n",
       "</div>"
      ],
      "text/plain": [
       "              importance\n",
       "fiberID            91751\n",
       "modelMag_i-z       36953\n",
       "fiberMag_i-z       36743\n",
       "psfMag_g-r         36039\n",
       "psfMag_i-z         35313\n",
       "petroMag_i-z       34510\n",
       "fiberMag_u-g       34280\n",
       "psfMag_r-i         33916\n",
       "psfMag_u-g         33853\n",
       "petroMag_u-g       32714\n",
       "petroMag_r-i       31492\n",
       "modelMag_u-g       31123\n",
       "fiberMag_r-i       30426\n",
       "fiberMag_g-r       28982\n",
       "psfMag_r           28843\n",
       "modelMag_r-i       28367\n",
       "psfMag_i           27972\n",
       "modelMag_g-r       26374\n",
       "petroMag_g-r       25550\n",
       "psfMag_z           25268\n",
       "fiberMag_r-z       23596\n",
       "modelMag_z         23258\n",
       "fiberMag_i         22523\n",
       "petroMag_u         21824\n",
       "psfMag_g           21554\n",
       "modelMag_r-z       21531\n",
       "petroMag_z         21295\n",
       "petroMag_i         20662\n",
       "fiberMag_u         20206\n",
       "petroMag_r-z       20122\n",
       "...                  ...\n",
       "petroMag_r         19890\n",
       "fiberMag_g         19772\n",
       "psfMag_r-z         19744\n",
       "petroMag_u-r       19727\n",
       "fiberMag_z         19645\n",
       "fiberMag_r         19178\n",
       "psfMag_u-r         18938\n",
       "modelMag_i         18772\n",
       "psfMag_u           18743\n",
       "fiberMag_u-r       17634\n",
       "petroMag_u-z       17187\n",
       "psfMag_g-i         16725\n",
       "petroMag_g-i       16670\n",
       "fiberMag_g-i       16559\n",
       "modelMag_r         16358\n",
       "modelMag_g-i       16226\n",
       "modelMag_g         16158\n",
       "petroMag_g-z       16131\n",
       "petroMag_g         15856\n",
       "modelMag_u-r       15636\n",
       "petroMag_u-i       15515\n",
       "fiberMag_u-z       15264\n",
       "fiberMag_g-z       14494\n",
       "psfMag_u-i         14035\n",
       "modelMag_u-z       13359\n",
       "psfMag_u-z         13137\n",
       "modelMag_u-i       13010\n",
       "modelMag_g-z       12972\n",
       "psfMag_g-z         12948\n",
       "fiberMag_u-i       12618\n",
       "\n",
       "[61 rows x 1 columns]"
      ]
     },
     "execution_count": 69,
     "metadata": {},
     "output_type": "execute_result"
    }
   ],
   "source": [
    "pi_df = pd.DataFrame(lgbm_c.feature_importances_, index= train_X.columns,columns= ['importance']).sort_values('importance',ascending = False)\n",
    "pi_df"
   ]
  },
  {
   "cell_type": "markdown",
   "metadata": {},
   "source": [
    "### 예측결과에 대해\n",
    "잘된예측 : 1,3,4,5,6,8,9,10,14,15,16,18  \n",
    "중간예측 : 0,2,7,13  \n",
    "망한예측 : 11,12,17"
   ]
  },
  {
   "cell_type": "code",
   "execution_count": 70,
   "metadata": {
    "ExecuteTime": {
     "end_time": "2020-02-26T12:30:05.658278Z",
     "start_time": "2020-02-26T12:26:36.357728Z"
    }
   },
   "outputs": [],
   "source": [
    "train_y_pred = lgbm_c.predict(X_test)"
   ]
  },
  {
   "cell_type": "code",
   "execution_count": 71,
   "metadata": {
    "ExecuteTime": {
     "end_time": "2020-02-26T12:30:06.567251Z",
     "start_time": "2020-02-26T12:30:06.562251Z"
    }
   },
   "outputs": [
    {
     "data": {
      "text/plain": [
       "(59942,)"
      ]
     },
     "execution_count": 71,
     "metadata": {},
     "output_type": "execute_result"
    }
   ],
   "source": [
    "train_y_pred.shape"
   ]
  },
  {
   "cell_type": "code",
   "execution_count": 72,
   "metadata": {
    "ExecuteTime": {
     "end_time": "2020-02-26T12:30:07.466238Z",
     "start_time": "2020-02-26T12:30:07.415225Z"
    }
   },
   "outputs": [],
   "source": [
    "cm_result = pd.DataFrame(confusion_matrix(y_test,train_y_pred))"
   ]
  },
  {
   "cell_type": "code",
   "execution_count": 73,
   "metadata": {
    "ExecuteTime": {
     "end_time": "2020-02-26T12:30:08.325197Z",
     "start_time": "2020-02-26T12:30:08.308197Z"
    }
   },
   "outputs": [
    {
     "data": {
      "text/html": [
       "<div>\n",
       "<style scoped>\n",
       "    .dataframe tbody tr th:only-of-type {\n",
       "        vertical-align: middle;\n",
       "    }\n",
       "\n",
       "    .dataframe tbody tr th {\n",
       "        vertical-align: top;\n",
       "    }\n",
       "\n",
       "    .dataframe thead th {\n",
       "        text-align: right;\n",
       "    }\n",
       "</style>\n",
       "<table border=\"1\" class=\"dataframe\">\n",
       "  <thead>\n",
       "    <tr style=\"text-align: right;\">\n",
       "      <th></th>\n",
       "      <th>0</th>\n",
       "      <th>1</th>\n",
       "      <th>2</th>\n",
       "      <th>3</th>\n",
       "      <th>4</th>\n",
       "      <th>5</th>\n",
       "      <th>6</th>\n",
       "      <th>7</th>\n",
       "      <th>8</th>\n",
       "      <th>9</th>\n",
       "      <th>10</th>\n",
       "      <th>11</th>\n",
       "      <th>12</th>\n",
       "      <th>13</th>\n",
       "      <th>14</th>\n",
       "      <th>15</th>\n",
       "      <th>16</th>\n",
       "      <th>17</th>\n",
       "      <th>18</th>\n",
       "    </tr>\n",
       "  </thead>\n",
       "  <tbody>\n",
       "    <tr>\n",
       "      <th>0</th>\n",
       "      <td>307</td>\n",
       "      <td>0</td>\n",
       "      <td>0</td>\n",
       "      <td>0</td>\n",
       "      <td>14</td>\n",
       "      <td>47</td>\n",
       "      <td>2</td>\n",
       "      <td>135</td>\n",
       "      <td>43</td>\n",
       "      <td>0</td>\n",
       "      <td>0</td>\n",
       "      <td>33</td>\n",
       "      <td>0</td>\n",
       "      <td>1</td>\n",
       "      <td>28</td>\n",
       "      <td>4</td>\n",
       "      <td>0</td>\n",
       "      <td>0</td>\n",
       "      <td>34</td>\n",
       "    </tr>\n",
       "    <tr>\n",
       "      <th>1</th>\n",
       "      <td>1</td>\n",
       "      <td>1881</td>\n",
       "      <td>0</td>\n",
       "      <td>0</td>\n",
       "      <td>0</td>\n",
       "      <td>1</td>\n",
       "      <td>0</td>\n",
       "      <td>3</td>\n",
       "      <td>12</td>\n",
       "      <td>0</td>\n",
       "      <td>1</td>\n",
       "      <td>5</td>\n",
       "      <td>0</td>\n",
       "      <td>0</td>\n",
       "      <td>0</td>\n",
       "      <td>0</td>\n",
       "      <td>1</td>\n",
       "      <td>0</td>\n",
       "      <td>46</td>\n",
       "    </tr>\n",
       "    <tr>\n",
       "      <th>2</th>\n",
       "      <td>0</td>\n",
       "      <td>0</td>\n",
       "      <td>76</td>\n",
       "      <td>64</td>\n",
       "      <td>0</td>\n",
       "      <td>0</td>\n",
       "      <td>0</td>\n",
       "      <td>0</td>\n",
       "      <td>0</td>\n",
       "      <td>1</td>\n",
       "      <td>9</td>\n",
       "      <td>0</td>\n",
       "      <td>0</td>\n",
       "      <td>0</td>\n",
       "      <td>0</td>\n",
       "      <td>0</td>\n",
       "      <td>0</td>\n",
       "      <td>0</td>\n",
       "      <td>0</td>\n",
       "    </tr>\n",
       "    <tr>\n",
       "      <th>3</th>\n",
       "      <td>1</td>\n",
       "      <td>0</td>\n",
       "      <td>33</td>\n",
       "      <td>633</td>\n",
       "      <td>0</td>\n",
       "      <td>0</td>\n",
       "      <td>0</td>\n",
       "      <td>0</td>\n",
       "      <td>1</td>\n",
       "      <td>0</td>\n",
       "      <td>100</td>\n",
       "      <td>0</td>\n",
       "      <td>0</td>\n",
       "      <td>0</td>\n",
       "      <td>0</td>\n",
       "      <td>0</td>\n",
       "      <td>0</td>\n",
       "      <td>0</td>\n",
       "      <td>0</td>\n",
       "    </tr>\n",
       "    <tr>\n",
       "      <th>4</th>\n",
       "      <td>1</td>\n",
       "      <td>0</td>\n",
       "      <td>0</td>\n",
       "      <td>0</td>\n",
       "      <td>4248</td>\n",
       "      <td>41</td>\n",
       "      <td>0</td>\n",
       "      <td>0</td>\n",
       "      <td>7</td>\n",
       "      <td>0</td>\n",
       "      <td>0</td>\n",
       "      <td>9</td>\n",
       "      <td>0</td>\n",
       "      <td>0</td>\n",
       "      <td>0</td>\n",
       "      <td>79</td>\n",
       "      <td>0</td>\n",
       "      <td>0</td>\n",
       "      <td>0</td>\n",
       "    </tr>\n",
       "    <tr>\n",
       "      <th>5</th>\n",
       "      <td>32</td>\n",
       "      <td>0</td>\n",
       "      <td>0</td>\n",
       "      <td>0</td>\n",
       "      <td>127</td>\n",
       "      <td>3701</td>\n",
       "      <td>0</td>\n",
       "      <td>58</td>\n",
       "      <td>47</td>\n",
       "      <td>0</td>\n",
       "      <td>0</td>\n",
       "      <td>3</td>\n",
       "      <td>0</td>\n",
       "      <td>0</td>\n",
       "      <td>0</td>\n",
       "      <td>72</td>\n",
       "      <td>0</td>\n",
       "      <td>0</td>\n",
       "      <td>8</td>\n",
       "    </tr>\n",
       "    <tr>\n",
       "      <th>6</th>\n",
       "      <td>2</td>\n",
       "      <td>34</td>\n",
       "      <td>0</td>\n",
       "      <td>0</td>\n",
       "      <td>8</td>\n",
       "      <td>4</td>\n",
       "      <td>10901</td>\n",
       "      <td>2</td>\n",
       "      <td>65</td>\n",
       "      <td>2</td>\n",
       "      <td>1</td>\n",
       "      <td>58</td>\n",
       "      <td>0</td>\n",
       "      <td>82</td>\n",
       "      <td>11</td>\n",
       "      <td>13</td>\n",
       "      <td>0</td>\n",
       "      <td>0</td>\n",
       "      <td>1</td>\n",
       "    </tr>\n",
       "    <tr>\n",
       "      <th>7</th>\n",
       "      <td>177</td>\n",
       "      <td>0</td>\n",
       "      <td>0</td>\n",
       "      <td>0</td>\n",
       "      <td>0</td>\n",
       "      <td>204</td>\n",
       "      <td>0</td>\n",
       "      <td>705</td>\n",
       "      <td>19</td>\n",
       "      <td>0</td>\n",
       "      <td>0</td>\n",
       "      <td>2</td>\n",
       "      <td>0</td>\n",
       "      <td>0</td>\n",
       "      <td>0</td>\n",
       "      <td>1</td>\n",
       "      <td>0</td>\n",
       "      <td>0</td>\n",
       "      <td>288</td>\n",
       "    </tr>\n",
       "    <tr>\n",
       "      <th>8</th>\n",
       "      <td>24</td>\n",
       "      <td>12</td>\n",
       "      <td>0</td>\n",
       "      <td>2</td>\n",
       "      <td>28</td>\n",
       "      <td>208</td>\n",
       "      <td>83</td>\n",
       "      <td>29</td>\n",
       "      <td>13274</td>\n",
       "      <td>1</td>\n",
       "      <td>15</td>\n",
       "      <td>162</td>\n",
       "      <td>0</td>\n",
       "      <td>65</td>\n",
       "      <td>67</td>\n",
       "      <td>18</td>\n",
       "      <td>12</td>\n",
       "      <td>0</td>\n",
       "      <td>893</td>\n",
       "    </tr>\n",
       "    <tr>\n",
       "      <th>9</th>\n",
       "      <td>0</td>\n",
       "      <td>0</td>\n",
       "      <td>0</td>\n",
       "      <td>0</td>\n",
       "      <td>0</td>\n",
       "      <td>0</td>\n",
       "      <td>1</td>\n",
       "      <td>0</td>\n",
       "      <td>2</td>\n",
       "      <td>35</td>\n",
       "      <td>0</td>\n",
       "      <td>0</td>\n",
       "      <td>0</td>\n",
       "      <td>0</td>\n",
       "      <td>0</td>\n",
       "      <td>0</td>\n",
       "      <td>0</td>\n",
       "      <td>0</td>\n",
       "      <td>0</td>\n",
       "    </tr>\n",
       "    <tr>\n",
       "      <th>10</th>\n",
       "      <td>0</td>\n",
       "      <td>0</td>\n",
       "      <td>7</td>\n",
       "      <td>99</td>\n",
       "      <td>0</td>\n",
       "      <td>0</td>\n",
       "      <td>1</td>\n",
       "      <td>0</td>\n",
       "      <td>1</td>\n",
       "      <td>0</td>\n",
       "      <td>4013</td>\n",
       "      <td>2</td>\n",
       "      <td>0</td>\n",
       "      <td>0</td>\n",
       "      <td>0</td>\n",
       "      <td>0</td>\n",
       "      <td>1</td>\n",
       "      <td>0</td>\n",
       "      <td>0</td>\n",
       "    </tr>\n",
       "    <tr>\n",
       "      <th>11</th>\n",
       "      <td>7</td>\n",
       "      <td>24</td>\n",
       "      <td>0</td>\n",
       "      <td>1</td>\n",
       "      <td>133</td>\n",
       "      <td>44</td>\n",
       "      <td>62</td>\n",
       "      <td>17</td>\n",
       "      <td>377</td>\n",
       "      <td>1</td>\n",
       "      <td>21</td>\n",
       "      <td>610</td>\n",
       "      <td>0</td>\n",
       "      <td>239</td>\n",
       "      <td>100</td>\n",
       "      <td>38</td>\n",
       "      <td>8</td>\n",
       "      <td>0</td>\n",
       "      <td>278</td>\n",
       "    </tr>\n",
       "    <tr>\n",
       "      <th>12</th>\n",
       "      <td>0</td>\n",
       "      <td>0</td>\n",
       "      <td>0</td>\n",
       "      <td>0</td>\n",
       "      <td>0</td>\n",
       "      <td>0</td>\n",
       "      <td>0</td>\n",
       "      <td>2</td>\n",
       "      <td>0</td>\n",
       "      <td>0</td>\n",
       "      <td>0</td>\n",
       "      <td>0</td>\n",
       "      <td>0</td>\n",
       "      <td>0</td>\n",
       "      <td>0</td>\n",
       "      <td>0</td>\n",
       "      <td>0</td>\n",
       "      <td>0</td>\n",
       "      <td>2</td>\n",
       "    </tr>\n",
       "    <tr>\n",
       "      <th>13</th>\n",
       "      <td>0</td>\n",
       "      <td>0</td>\n",
       "      <td>0</td>\n",
       "      <td>0</td>\n",
       "      <td>0</td>\n",
       "      <td>3</td>\n",
       "      <td>167</td>\n",
       "      <td>5</td>\n",
       "      <td>268</td>\n",
       "      <td>0</td>\n",
       "      <td>2</td>\n",
       "      <td>141</td>\n",
       "      <td>0</td>\n",
       "      <td>1293</td>\n",
       "      <td>2</td>\n",
       "      <td>0</td>\n",
       "      <td>0</td>\n",
       "      <td>0</td>\n",
       "      <td>257</td>\n",
       "    </tr>\n",
       "    <tr>\n",
       "      <th>14</th>\n",
       "      <td>2</td>\n",
       "      <td>0</td>\n",
       "      <td>0</td>\n",
       "      <td>0</td>\n",
       "      <td>0</td>\n",
       "      <td>0</td>\n",
       "      <td>1</td>\n",
       "      <td>1</td>\n",
       "      <td>18</td>\n",
       "      <td>0</td>\n",
       "      <td>0</td>\n",
       "      <td>16</td>\n",
       "      <td>0</td>\n",
       "      <td>0</td>\n",
       "      <td>937</td>\n",
       "      <td>0</td>\n",
       "      <td>1</td>\n",
       "      <td>0</td>\n",
       "      <td>0</td>\n",
       "    </tr>\n",
       "    <tr>\n",
       "      <th>15</th>\n",
       "      <td>0</td>\n",
       "      <td>0</td>\n",
       "      <td>0</td>\n",
       "      <td>0</td>\n",
       "      <td>99</td>\n",
       "      <td>47</td>\n",
       "      <td>0</td>\n",
       "      <td>0</td>\n",
       "      <td>1</td>\n",
       "      <td>0</td>\n",
       "      <td>0</td>\n",
       "      <td>4</td>\n",
       "      <td>0</td>\n",
       "      <td>0</td>\n",
       "      <td>0</td>\n",
       "      <td>4238</td>\n",
       "      <td>0</td>\n",
       "      <td>0</td>\n",
       "      <td>0</td>\n",
       "    </tr>\n",
       "    <tr>\n",
       "      <th>16</th>\n",
       "      <td>0</td>\n",
       "      <td>9</td>\n",
       "      <td>0</td>\n",
       "      <td>0</td>\n",
       "      <td>0</td>\n",
       "      <td>0</td>\n",
       "      <td>0</td>\n",
       "      <td>0</td>\n",
       "      <td>1</td>\n",
       "      <td>0</td>\n",
       "      <td>0</td>\n",
       "      <td>5</td>\n",
       "      <td>0</td>\n",
       "      <td>0</td>\n",
       "      <td>0</td>\n",
       "      <td>0</td>\n",
       "      <td>331</td>\n",
       "      <td>0</td>\n",
       "      <td>0</td>\n",
       "    </tr>\n",
       "    <tr>\n",
       "      <th>17</th>\n",
       "      <td>0</td>\n",
       "      <td>0</td>\n",
       "      <td>0</td>\n",
       "      <td>3</td>\n",
       "      <td>0</td>\n",
       "      <td>0</td>\n",
       "      <td>3</td>\n",
       "      <td>3</td>\n",
       "      <td>3</td>\n",
       "      <td>0</td>\n",
       "      <td>0</td>\n",
       "      <td>1</td>\n",
       "      <td>0</td>\n",
       "      <td>4</td>\n",
       "      <td>0</td>\n",
       "      <td>0</td>\n",
       "      <td>0</td>\n",
       "      <td>0</td>\n",
       "      <td>1</td>\n",
       "    </tr>\n",
       "    <tr>\n",
       "      <th>18</th>\n",
       "      <td>86</td>\n",
       "      <td>5</td>\n",
       "      <td>0</td>\n",
       "      <td>0</td>\n",
       "      <td>0</td>\n",
       "      <td>86</td>\n",
       "      <td>3</td>\n",
       "      <td>359</td>\n",
       "      <td>382</td>\n",
       "      <td>0</td>\n",
       "      <td>0</td>\n",
       "      <td>11</td>\n",
       "      <td>0</td>\n",
       "      <td>6</td>\n",
       "      <td>0</td>\n",
       "      <td>1</td>\n",
       "      <td>0</td>\n",
       "      <td>0</td>\n",
       "      <td>5587</td>\n",
       "    </tr>\n",
       "  </tbody>\n",
       "</table>\n",
       "</div>"
      ],
      "text/plain": [
       "     0     1   2    3     4     5      6    7      8   9     10   11  12  \\\n",
       "0   307     0   0    0    14    47      2  135     43   0     0   33   0   \n",
       "1     1  1881   0    0     0     1      0    3     12   0     1    5   0   \n",
       "2     0     0  76   64     0     0      0    0      0   1     9    0   0   \n",
       "3     1     0  33  633     0     0      0    0      1   0   100    0   0   \n",
       "4     1     0   0    0  4248    41      0    0      7   0     0    9   0   \n",
       "5    32     0   0    0   127  3701      0   58     47   0     0    3   0   \n",
       "6     2    34   0    0     8     4  10901    2     65   2     1   58   0   \n",
       "7   177     0   0    0     0   204      0  705     19   0     0    2   0   \n",
       "8    24    12   0    2    28   208     83   29  13274   1    15  162   0   \n",
       "9     0     0   0    0     0     0      1    0      2  35     0    0   0   \n",
       "10    0     0   7   99     0     0      1    0      1   0  4013    2   0   \n",
       "11    7    24   0    1   133    44     62   17    377   1    21  610   0   \n",
       "12    0     0   0    0     0     0      0    2      0   0     0    0   0   \n",
       "13    0     0   0    0     0     3    167    5    268   0     2  141   0   \n",
       "14    2     0   0    0     0     0      1    1     18   0     0   16   0   \n",
       "15    0     0   0    0    99    47      0    0      1   0     0    4   0   \n",
       "16    0     9   0    0     0     0      0    0      1   0     0    5   0   \n",
       "17    0     0   0    3     0     0      3    3      3   0     0    1   0   \n",
       "18   86     5   0    0     0    86      3  359    382   0     0   11   0   \n",
       "\n",
       "      13   14    15   16  17    18  \n",
       "0      1   28     4    0   0    34  \n",
       "1      0    0     0    1   0    46  \n",
       "2      0    0     0    0   0     0  \n",
       "3      0    0     0    0   0     0  \n",
       "4      0    0    79    0   0     0  \n",
       "5      0    0    72    0   0     8  \n",
       "6     82   11    13    0   0     1  \n",
       "7      0    0     1    0   0   288  \n",
       "8     65   67    18   12   0   893  \n",
       "9      0    0     0    0   0     0  \n",
       "10     0    0     0    1   0     0  \n",
       "11   239  100    38    8   0   278  \n",
       "12     0    0     0    0   0     2  \n",
       "13  1293    2     0    0   0   257  \n",
       "14     0  937     0    1   0     0  \n",
       "15     0    0  4238    0   0     0  \n",
       "16     0    0     0  331   0     0  \n",
       "17     4    0     0    0   0     1  \n",
       "18     6    0     1    0   0  5587  "
      ]
     },
     "execution_count": 73,
     "metadata": {},
     "output_type": "execute_result"
    }
   ],
   "source": [
    "cm_result"
   ]
  },
  {
   "cell_type": "code",
   "execution_count": 74,
   "metadata": {
    "ExecuteTime": {
     "end_time": "2020-02-26T12:30:10.080163Z",
     "start_time": "2020-02-26T12:30:09.173171Z"
    },
    "scrolled": false
   },
   "outputs": [
    {
     "data": {
      "image/png": "[encoded data removed]",
      "text/plain": [
       "<Figure size 1080x1080 with 2 Axes>"
      ]
     },
     "metadata": {},
     "output_type": "display_data"
    }
   ],
   "source": [
    "plt.figure(figsize =(15,15))\n",
    "sns.heatmap(cm_result/np.sum(cm_result),annot = True, cmap ='RdYlGn',fmt='.1%')\n",
    "plt.ylabel(\"real\",fontsize=20)\n",
    "plt.xlabel(\"predict\",fontsize=20)\n",
    "plt.show()"
   ]
  },
  {
   "cell_type": "markdown",
   "metadata": {},
   "source": [
    "# REAL"
   ]
  },
  {
   "cell_type": "code",
   "execution_count": 75,
   "metadata": {
    "ExecuteTime": {
     "end_time": "2020-02-26T12:44:56.463594Z",
     "start_time": "2020-02-26T12:44:56.459605Z"
    }
   },
   "outputs": [],
   "source": [
    "lgbm_c = lgb.LGBMClassifier(num_leaves = 255, min_child_samples = 40,\n",
    "                            max_depth = 8, learning_rate = 0.1,\n",
    "                            lambda_l2 = 3, lambda_l1 = 9,\n",
    "                            n_estimators=2000, random_state = 42)"
   ]
  },
  {
   "cell_type": "code",
   "execution_count": 76,
   "metadata": {
    "ExecuteTime": {
     "end_time": "2020-02-26T12:56:38.423965Z",
     "start_time": "2020-02-26T12:44:57.367565Z"
    },
    "scrolled": true
   },
   "outputs": [
    {
     "name": "stdout",
     "output_type": "stream",
     "text": [
      "Training until validation scores don't improve for 100 rounds\n",
      "[100]\tvalid's multi_logloss: 0.291435\n",
      "[200]\tvalid's multi_logloss: 0.240178\n",
      "[300]\tvalid's multi_logloss: 0.205801\n",
      "[400]\tvalid's multi_logloss: 0.181374\n",
      "[500]\tvalid's multi_logloss: 0.164057\n",
      "[600]\tvalid's multi_logloss: 0.150964\n",
      "[700]\tvalid's multi_logloss: 0.141201\n",
      "[800]\tvalid's multi_logloss: 0.133643\n",
      "[900]\tvalid's multi_logloss: 0.127699\n",
      "[1000]\tvalid's multi_logloss: 0.123496\n",
      "[1100]\tvalid's multi_logloss: 0.120537\n",
      "[1200]\tvalid's multi_logloss: 0.118954\n",
      "[1300]\tvalid's multi_logloss: 0.118954\n",
      "[1400]\tvalid's multi_logloss: 0.118954\n",
      "[1500]\tvalid's multi_logloss: 0.118954\n",
      "[1600]\tvalid's multi_logloss: 0.118954\n",
      "[1700]\tvalid's multi_logloss: 0.118954\n",
      "[1800]\tvalid's multi_logloss: 0.118954\n",
      "[1900]\tvalid's multi_logloss: 0.118954\n",
      "[2000]\tvalid's multi_logloss: 0.118954\n",
      "Did not meet early stopping. Best iteration is:\n",
      "[1704]\tvalid's multi_logloss: 0.118954\n"
     ]
    },
    {
     "data": {
      "text/plain": [
       "LGBMClassifier(boosting_type='gbdt', class_weight=None, colsample_bytree=1.0,\n",
       "               importance_type='split', lambda_l1=9, lambda_l2=3,\n",
       "               learning_rate=0.1, max_depth=8, min_child_samples=40,\n",
       "               min_child_weight=0.001, min_split_gain=0.0, n_estimators=2000,\n",
       "               n_jobs=-1, num_leaves=255, objective=None, random_state=42,\n",
       "               reg_alpha=0.0, reg_lambda=0.0, silent=True, subsample=1.0,\n",
       "               subsample_for_bin=200000, subsample_freq=0)"
      ]
     },
     "execution_count": 76,
     "metadata": {},
     "output_type": "execute_result"
    }
   ],
   "source": [
    "lgbm_c.fit(train_X, train_y, eval_set = [(train_X, train_y)],eval_names= 'valid', \n",
    "           eval_metric = 'logloss', verbose = 100, early_stopping_rounds = 100)"
   ]
  },
  {
   "cell_type": "code",
   "execution_count": 77,
   "metadata": {
    "ExecuteTime": {
     "end_time": "2020-02-26T13:01:59.805064Z",
     "start_time": "2020-02-26T12:56:39.341936Z"
    }
   },
   "outputs": [],
   "source": [
    "f_train_y_pred = lgbm_c.predict_proba(train_X)"
   ]
  },
  {
   "cell_type": "code",
   "execution_count": 78,
   "metadata": {
    "ExecuteTime": {
     "end_time": "2020-02-26T13:02:19.572453Z",
     "start_time": "2020-02-26T13:02:00.927028Z"
    }
   },
   "outputs": [],
   "source": [
    "y_pred = lgbm_c.predict_proba(test_X)"
   ]
  },
  {
   "cell_type": "code",
   "execution_count": 79,
   "metadata": {
    "ExecuteTime": {
     "end_time": "2020-02-26T13:02:21.014410Z",
     "start_time": "2020-02-26T13:02:21.009409Z"
    }
   },
   "outputs": [
    {
     "data": {
      "text/plain": [
       "array([[4.30308466e-05, 7.18669023e-05, 9.29118307e-04, ...,\n",
       "        3.25654315e-04, 1.76464319e-03, 4.51124853e-05],\n",
       "       [1.60443355e-04, 1.85817437e-04, 4.62991644e-05, ...,\n",
       "        1.13856022e-04, 9.67996320e-04, 1.92335364e-04],\n",
       "       [3.42757300e-06, 2.65847934e-06, 9.35617329e-07, ...,\n",
       "        1.10865115e-06, 9.39440439e-06, 2.11749604e-06],\n",
       "       ...,\n",
       "       [2.75604164e-06, 2.46366889e-06, 2.85720572e-07, ...,\n",
       "        5.95532817e-07, 6.08830949e-07, 1.47724689e-04],\n",
       "       [1.45185354e-06, 2.49098180e-06, 2.71972286e-07, ...,\n",
       "        6.89253276e-07, 6.48896281e-07, 2.73143908e-05],\n",
       "       [5.49549358e-05, 1.36651599e-06, 1.03435943e-06, ...,\n",
       "        1.85359357e-06, 2.10060297e-06, 4.73220788e-06]])"
      ]
     },
     "execution_count": 79,
     "metadata": {},
     "output_type": "execute_result"
    }
   ],
   "source": [
    "y_pred"
   ]
  },
  {
   "cell_type": "code",
   "execution_count": 80,
   "metadata": {
    "ExecuteTime": {
     "end_time": "2020-02-26T13:02:22.591360Z",
     "start_time": "2020-02-26T13:02:22.175373Z"
    }
   },
   "outputs": [],
   "source": [
    "submission = pd.DataFrame(data=y_pred, columns=sample_submission_df.columns, index=sample_submission_df.index)\n",
    "submission.to_csv('./submisson/submission.csv', index=True)"
   ]
  }
 ],
 "metadata": {
  "kernelspec": {
   "display_name": "Python 3",
   "language": "python",
   "name": "python3"
  },
  "language_info": {
   "codemirror_mode": {
    "name": "ipython",
    "version": 3
   },
   "file_extension": ".py",
   "mimetype": "text/x-python",
   "name": "python",
   "nbconvert_exporter": "python",
   "pygments_lexer": "ipython3",
   "version": "3.6.5"
  },
  "varInspector": {
   "cols": {
    "lenName": 16,
    "lenType": 16,
    "lenVar": 40
   },
   "kernels_config": {
    "python": {
     "delete_cmd_postfix": "",
     "delete_cmd_prefix": "del ",
     "library": "var_list.py",
     "varRefreshCmd": "print(var_dic_list())"
    },
    "r": {
     "delete_cmd_postfix": ") ",
     "delete_cmd_prefix": "rm(",
     "library": "var_list.r",
     "varRefreshCmd": "cat(var_dic_list()) "
    }
   },
   "types_to_exclude": [
    "module",
    "function",
    "builtin_function_or_method",
    "instance",
    "_Feature"
   ],
   "window_display": false
  }
 },
 "nbformat": 4,
 "nbformat_minor": 2
}
