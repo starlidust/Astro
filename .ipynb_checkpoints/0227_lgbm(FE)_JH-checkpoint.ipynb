{
 "cells": [
  {
   "cell_type": "markdown",
   "metadata": {},
   "source": [
    "# add_features\n",
    "* 새로 만들어본 변수들을 잡다하게 넣어본다 "
   ]
  },
  {
   "cell_type": "code",
   "execution_count": 1,
   "metadata": {
    "ExecuteTime": {
     "end_time": "2020-02-28T12:17:18.950717Z",
     "start_time": "2020-02-28T12:17:16.716786Z"
    }
   },
   "outputs": [],
   "source": [
    "import pandas as pd\n",
    "import numpy as np\n",
    "import matplotlib.pyplot as plt\n",
    "import seaborn as sns\n",
    "\n",
    "from sklearn.ensemble import RandomForestClassifier\n",
    "from sklearn.model_selection import train_test_split\n",
    "from sklearn.metrics import confusion_matrix\n",
    "from sklearn.metrics import log_loss\n",
    "\n",
    "\n",
    "import lightgbm as lgb\n",
    "from sklearn.model_selection import KFold, StratifiedKFold, RandomizedSearchCV, GridSearchCV"
   ]
  },
  {
   "cell_type": "code",
   "execution_count": 2,
   "metadata": {
    "ExecuteTime": {
     "end_time": "2020-02-28T12:17:18.953717Z",
     "start_time": "2020-02-28T12:17:18.951717Z"
    }
   },
   "outputs": [],
   "source": [
    "# from google.colab import drive\n",
    "# drive.mount('/content/drive')"
   ]
  },
  {
   "cell_type": "code",
   "execution_count": 3,
   "metadata": {
    "ExecuteTime": {
     "end_time": "2020-02-28T12:17:18.984718Z",
     "start_time": "2020-02-28T12:17:18.954717Z"
    }
   },
   "outputs": [],
   "source": [
    "# #colab용\n",
    "# import os\n",
    "# os.chdir('/content/drive/My Drive/Colab Notebooks/Dacon/천체관측/')"
   ]
  },
  {
   "cell_type": "code",
   "execution_count": 4,
   "metadata": {
    "ExecuteTime": {
     "end_time": "2020-02-28T12:17:21.944625Z",
     "start_time": "2020-02-28T12:17:18.988717Z"
    }
   },
   "outputs": [],
   "source": [
    "path = \"./data/\"\n",
    "train_df = pd.read_csv(path+'train.csv',index_col=0)\n",
    "test_df = pd.read_csv(path+'test.csv',index_col=0)\n",
    "sample_submission_df = pd.read_csv(path+'sample_submission.csv',index_col=0)\n",
    "pd.options.display.max_columns = 30"
   ]
  },
  {
   "cell_type": "code",
   "execution_count": 5,
   "metadata": {
    "ExecuteTime": {
     "end_time": "2020-02-28T12:17:21.951624Z",
     "start_time": "2020-02-28T12:17:21.946625Z"
    }
   },
   "outputs": [
    {
     "data": {
      "text/plain": [
       "((199991, 22), (10009, 21))"
      ]
     },
     "execution_count": 5,
     "metadata": {},
     "output_type": "execute_result"
    }
   ],
   "source": [
    "train_df.shape, test_df.shape"
   ]
  },
  {
   "cell_type": "markdown",
   "metadata": {},
   "source": [
    "## DATA Setting"
   ]
  },
  {
   "cell_type": "code",
   "execution_count": 6,
   "metadata": {
    "ExecuteTime": {
     "end_time": "2020-02-28T12:17:21.987623Z",
     "start_time": "2020-02-28T12:17:21.952626Z"
    }
   },
   "outputs": [],
   "source": [
    "def del_outlier(data, min=0, max=60):\n",
    "    up_idx_t=()\n",
    "    dw_idx_t=()\n",
    "    train_light = data.iloc[:,2:]\n",
    "    for i in range(len(train_light.columns)):\n",
    "        col = train_light.columns[i]\n",
    "        up_idx_t+=tuple(data[data[col]>max].index)\n",
    "        dw_idx_t+=tuple(data[data[col]<min].index)\n",
    "    del_idx = set(up_idx_t+dw_idx_t)\n",
    "    \n",
    "    return data[~data.index.isin(del_idx)]"
   ]
  },
  {
   "cell_type": "code",
   "execution_count": 7,
   "metadata": {
    "ExecuteTime": {
     "end_time": "2020-02-28T12:17:22.243616Z",
     "start_time": "2020-02-28T12:17:21.990625Z"
    }
   },
   "outputs": [],
   "source": [
    "train_df = del_outlier(train_df, min=-30, max=30)"
   ]
  },
  {
   "cell_type": "code",
   "execution_count": 8,
   "metadata": {
    "ExecuteTime": {
     "end_time": "2020-02-28T12:17:22.249615Z",
     "start_time": "2020-02-28T12:17:22.245616Z"
    }
   },
   "outputs": [
    {
     "data": {
      "text/plain": [
       "(198767, 22)"
      ]
     },
     "execution_count": 8,
     "metadata": {},
     "output_type": "execute_result"
    }
   ],
   "source": [
    "train_df.shape"
   ]
  },
  {
   "cell_type": "code",
   "execution_count": 9,
   "metadata": {
    "ExecuteTime": {
     "end_time": "2020-02-28T12:17:22.491608Z",
     "start_time": "2020-02-28T12:17:22.250615Z"
    }
   },
   "outputs": [],
   "source": [
    "column_number = {}\n",
    "number_columns = {}\n",
    "for i, column in enumerate(sample_submission_df.columns):\n",
    "    column_number[column] = i\n",
    "    number_columns[i] = column\n",
    "    \n",
    "    \n",
    "def to_number(x, dic):\n",
    "    return dic[x]\n",
    "\n",
    "train_df['type_num'] = train_df['type'].apply(lambda x: to_number(x, column_number))\n"
   ]
  },
  {
   "cell_type": "code",
   "execution_count": 10,
   "metadata": {
    "ExecuteTime": {
     "end_time": "2020-02-28T12:17:22.501608Z",
     "start_time": "2020-02-28T12:17:22.495610Z"
    }
   },
   "outputs": [],
   "source": [
    "def add_minus_feature(data,test = False):\n",
    "    '''\n",
    "    근접변수에 대해서만 컬럼생성 ex) 'fiberMag_u-g', 'fiberMag_g-r', 'fiberMag_r-i', 'fiberMag_i-z'\n",
    "    각 mag에서 가장 높은값의 filter를 받아오는 \"~~mag_MAX\"생성\n",
    "    결과 38개로 증가 \n",
    "    '''\n",
    "    from itertools import combinations\n",
    "    n = 0\n",
    "    m = 0\n",
    "    for count in range(5,21,5):\n",
    "        s = 2\n",
    "        if test == True :\n",
    "            s = 1\n",
    "        selected = data.columns[s:].values[n:count]\n",
    "        mag = str.split(selected[0],'_')[0]\n",
    "#         data[mag+\"_MAX\"] = data[selected].apply(lambda x : str.split(np.argmax(x),'_')[1],axis = 1)\n",
    "        for i in range(0,len(selected)):        \n",
    "            if i>0: \n",
    "                name_1st = str.split(m,'_')[1]\n",
    "                name_2nd = str.split(selected[i],'_')[1]\n",
    "                data[mag+\"_\"+name_1st+\"-\"+name_2nd] = data[m]-data[selected[i]]\n",
    "            m = selected[i]    \n",
    "        n=count\n",
    "    return data"
   ]
  },
  {
   "cell_type": "code",
   "execution_count": 11,
   "metadata": {
    "ExecuteTime": {
     "end_time": "2020-02-28T12:17:22.543607Z",
     "start_time": "2020-02-28T12:17:22.502607Z"
    }
   },
   "outputs": [],
   "source": [
    "def add_minus_feature_all(data,test = False):\n",
    "    '''\n",
    "    combination으로 모든 변수들의 조합에 대해서 컬럼생성 \n",
    "    각 mag에서 가장 높은값의 filter를 받아오는 \"~~mag_MAX\"생성\n",
    "    결과 64개로 증가\n",
    "    '''\n",
    "    from itertools import combinations\n",
    "    n = 0\n",
    "    for count in range(5,21,5):\n",
    "        s = 2\n",
    "        if test == True :\n",
    "            s = 1\n",
    "        selected = data.columns[s:].values[n:count]\n",
    "        mag = str.split(selected[0],'_')[0]\n",
    "#         data[mag+\"_MAX\"] = data[selected].apply(lambda x : str.split(np.argmax(x),'_')[1],axis = 1)\n",
    "        for combi in list(combinations(selected,2)):\n",
    "            name_1st = str.split(combi[0],'_')[1]\n",
    "            name_2nd = str.split(combi[1],'_')[1]\n",
    "            data[mag+\"_\"+name_1st+\"-\"+name_2nd] = data[combi[0]]-data[combi[1]]\n",
    "        n=count\n",
    "    return data"
   ]
  },
  {
   "cell_type": "code",
   "execution_count": 12,
   "metadata": {
    "ExecuteTime": {
     "end_time": "2020-02-28T12:17:22.865596Z",
     "start_time": "2020-02-28T12:17:22.544607Z"
    }
   },
   "outputs": [],
   "source": [
    "train_df = add_minus_feature_all(train_df)\n",
    "test_df = add_minus_feature_all(test_df,True)"
   ]
  },
  {
   "cell_type": "code",
   "execution_count": 13,
   "metadata": {
    "ExecuteTime": {
     "end_time": "2020-02-28T12:17:22.872596Z",
     "start_time": "2020-02-28T12:17:22.867597Z"
    }
   },
   "outputs": [],
   "source": [
    "def PCA_feature(data):\n",
    "    '''\n",
    "    각 ugriz밴드 끼리 PCA를 통해 추가변수 생성 시도\n",
    "    '''\n",
    "    from sklearn.decomposition import PCA\n",
    "    pca = PCA(1)\n",
    "    \n",
    "    ori_name = [\"psfMag\",\"fiberMag\",\"petroMag\",\"modelMag\"]\n",
    "    add_name = [\"u\",\"g\",\"r\",\"i\",\"z\"]\n",
    "    \n",
    "    for add in add_name:\n",
    "        selected = list(map(lambda x : x+\"_\"+add,ori_name))\n",
    "        data['PCA_'+add] = pca.fit_transform(data[selected])\n",
    "    return data"
   ]
  },
  {
   "cell_type": "code",
   "execution_count": 14,
   "metadata": {
    "ExecuteTime": {
     "end_time": "2020-02-28T12:17:26.389506Z",
     "start_time": "2020-02-28T12:17:22.874597Z"
    }
   },
   "outputs": [],
   "source": [
    "train_df = PCA_feature(train_df)\n",
    "test_df = PCA_feature(test_df)"
   ]
  },
  {
   "cell_type": "code",
   "execution_count": 15,
   "metadata": {
    "ExecuteTime": {
     "end_time": "2020-02-28T12:17:26.416505Z",
     "start_time": "2020-02-28T12:17:26.393506Z"
    }
   },
   "outputs": [],
   "source": [
    "def fiberID_agg(data):\n",
    "    '''\n",
    "    fiberID는 1~1000까지 숫자로 구성되어있는 카테고리 변수다.\n",
    "    numeric한 변수가 아니기때문에 이를 이용한 변수 생성이 필요하다 판단되어\n",
    "    ugriz밴드를 기반으로 통계적 수치 median, std를 산출한다\n",
    "    '''\n",
    "    ori_name = [\"psfMag\",\"fiberMag\",\"petroMag\",\"modelMag\"]\n",
    "    add_name = [\"u\",\"g\",\"r\",\"i\",\"z\"]\n",
    "    \n",
    "    for add in add_name:\n",
    "        selected = list(map(lambda x : x+\"_\"+add,ori_name))\n",
    "        columns = data[selected].columns \n",
    "        columns = list(columns)\n",
    "        columns.append(\"fiberID\")\n",
    "\n",
    "        #dictinary_set\n",
    "#         mean_dict = dict(data[columns].groupby(\"fiberID\").mean().mean(axis = 1))\n",
    "#         min_dict = dict(data[columns].groupby(\"fiberID\").min().min(axis = 1))\n",
    "#         max_dict = dict(data[columns].groupby(\"fiberID\").max().max(axis = 1))\n",
    "        median_dict = dict(data[columns].groupby(\"fiberID\").median().median(axis = 1))\n",
    "        std_dict = dict(data[columns].groupby(\"fiberID\").std().std(axis = 1))\n",
    "\n",
    "        #save\n",
    "#         data[\"mean_\"+add] = data.fiberID.apply(lambda x : mean_dict.get(x))\n",
    "#         data[\"min_\"+add] = data.fiberID.apply(lambda x : min_dict.get(x))\n",
    "#         data[\"max_\"+add] = data.fiberID.apply(lambda x : max_dict.get(x))\n",
    "        data[\"median_\"+add] = data.fiberID.apply(lambda x : median_dict.get(x))\n",
    "        data[\"std_\"+add] = data.fiberID.apply(lambda x : std_dict.get(x))\n",
    "    return data"
   ]
  },
  {
   "cell_type": "code",
   "execution_count": 16,
   "metadata": {
    "ExecuteTime": {
     "end_time": "2020-02-28T12:17:29.620406Z",
     "start_time": "2020-02-28T12:17:26.418504Z"
    }
   },
   "outputs": [],
   "source": [
    "train_df = fiberID_agg(train_df)\n",
    "test_df = fiberID_agg(test_df)"
   ]
  },
  {
   "cell_type": "code",
   "execution_count": 113,
   "metadata": {
    "ExecuteTime": {
     "end_time": "2020-02-29T11:20:53.946482Z",
     "start_time": "2020-02-29T11:20:53.837486Z"
    }
   },
   "outputs": [],
   "source": [
    "train_X = train_df.drop(columns=['type', 'type_num'], axis=1)\n",
    "train_y = train_df['type_num']\n",
    "test_X = test_df"
   ]
  },
  {
   "cell_type": "code",
   "execution_count": 18,
   "metadata": {
    "ExecuteTime": {
     "end_time": "2020-02-28T12:17:30.553885Z",
     "start_time": "2020-02-28T12:17:30.084392Z"
    }
   },
   "outputs": [],
   "source": [
    "X_train, X_test, y_train, y_test = train_test_split(train_X, train_y, test_size=0.3, random_state=42,stratify = train_y)"
   ]
  },
  {
   "cell_type": "code",
   "execution_count": 19,
   "metadata": {
    "ExecuteTime": {
     "end_time": "2020-02-28T12:17:36.913689Z",
     "start_time": "2020-02-28T12:17:30.554885Z"
    }
   },
   "outputs": [
    {
     "data": {
      "text/plain": [
       "<matplotlib.axes._subplots.AxesSubplot at 0x1ed12dd0668>"
      ]
     },
     "execution_count": 19,
     "metadata": {},
     "output_type": "execute_result"
    },
    {
     "data": {
      "image/png": "[encoded data removed]",
      "text/plain": [
       "<Figure size 1080x1080 with 2 Axes>"
      ]
     },
     "metadata": {},
     "output_type": "display_data"
    }
   ],
   "source": [
    "plt.figure(figsize =(15,15))\n",
    "sns.heatmap(train_df.corr())"
   ]
  },
  {
   "cell_type": "markdown",
   "metadata": {},
   "source": [
    "# FE"
   ]
  },
  {
   "cell_type": "markdown",
   "metadata": {},
   "source": [
    "### corr"
   ]
  },
  {
   "cell_type": "code",
   "execution_count": 114,
   "metadata": {
    "ExecuteTime": {
     "end_time": "2020-02-29T11:20:59.677990Z",
     "start_time": "2020-02-29T11:20:59.671980Z"
    }
   },
   "outputs": [],
   "source": [
    "default_lgbm = lgb.LGBMClassifier()"
   ]
  },
  {
   "cell_type": "code",
   "execution_count": 115,
   "metadata": {
    "ExecuteTime": {
     "end_time": "2020-02-29T11:21:01.724917Z",
     "start_time": "2020-02-29T11:21:01.707917Z"
    }
   },
   "outputs": [],
   "source": [
    "def cor_selector(X, y, parcent = 0.9):\n",
    "    '''\n",
    "    correlation을 이용한\n",
    "    X,y값을 전달하면 해당컬럼의 parcent만큼의 feature만 선택하여 feature만 반환\n",
    "    (선택된 feature들의 상관관계를 확인하려면 return을 corr_df로 변경)\n",
    "    '''\n",
    "    n_features = round(len(X.columns) * parcent)\n",
    "    cor_list = []\n",
    "    # calculate the correlation with y for each feature\n",
    "    # y와의 상관계수를 파악한다\n",
    "    for i in X.columns.tolist():\n",
    "        cor = np.corrcoef(X[i], y)[0, 1]\n",
    "        cor_list.append(cor)\n",
    "    # replace NaN with 0\n",
    "    # 0인게 있다면 NAN으로 대체한다(결측치 혹은 전부 동일한값의 경우)\n",
    "    cor_list = [0 if np.isnan(i) else i for i in cor_list]\n",
    "    # feature name\n",
    "    # 상관계수에 절대값을 사용해 부호통일후 \n",
    "    # argsort를 사용해 상관계수가 높은 n_fearture개를 선택한다\n",
    "    cor_feature = X.iloc[:,np.argsort(np.abs(cor_list))[-(n_features):]].columns.tolist()\n",
    "    selected_corr = np.abs(cor_list)[(np.argsort(np.abs(cor_list)))[-(n_features):]]\n",
    "    \n",
    "    #선택된 feature와 corr 높은순서대로 보여줌\n",
    "    corr_df = pd.DataFrame(index= cor_feature,data = selected_corr,columns=[\"corr\"]).sort_values(\"corr\",ascending=False)\n",
    "   \n",
    "    # feature selection? 0 for not select, 1 for select\n",
    "    # 전체중에서 Ture인 변수들만 선택되었음 (False는 미선택된 경우)\n",
    "    cor_support = [True if i in cor_feature else False for i in X.columns.values]\n",
    "    \n",
    "    print(str(len(cor_feature)), 'selected features')\n",
    "    return cor_feature, cor_support"
   ]
  },
  {
   "cell_type": "code",
   "execution_count": 116,
   "metadata": {
    "ExecuteTime": {
     "end_time": "2020-02-29T11:21:04.214839Z",
     "start_time": "2020-02-29T11:21:03.639859Z"
    }
   },
   "outputs": [
    {
     "name": "stdout",
     "output_type": "stream",
     "text": [
      "53 selected features\n"
     ]
    }
   ],
   "source": [
    "cor_feature, cor_support = cor_selector(train_X,train_y, 0.7)"
   ]
  },
  {
   "cell_type": "markdown",
   "metadata": {},
   "source": [
    "### SELECT_FROM_MODEL"
   ]
  },
  {
   "cell_type": "code",
   "execution_count": 117,
   "metadata": {
    "ExecuteTime": {
     "end_time": "2020-02-29T11:21:06.186779Z",
     "start_time": "2020-02-29T11:21:06.178779Z"
    }
   },
   "outputs": [],
   "source": [
    "def SFML(model, X, y):\n",
    "    '''\n",
    "    SelectFromModel를 활용 threshold는 변경가능하지만 정확힌 잘 모르겠음\n",
    "    '''\n",
    "    from sklearn.feature_selection import SelectFromModel\n",
    "    embeded_lgb_selector = SelectFromModel(default_lgbm, threshold='1.25*median')\n",
    "    embeded_lgb_selector.fit(X, y)\n",
    "    embeded_lgb_support = embeded_lgb_selector.get_support()\n",
    "    embeded_lgb_feature = X.loc[:,embeded_lgb_support].columns.tolist()\n",
    "    print(str(len(embeded_lgb_feature)), 'selected features')\n",
    "    \n",
    "    return embeded_lgb_feature, embeded_lgb_support"
   ]
  },
  {
   "cell_type": "code",
   "execution_count": 118,
   "metadata": {
    "ExecuteTime": {
     "end_time": "2020-02-29T11:22:58.057332Z",
     "start_time": "2020-02-29T11:21:08.056725Z"
    }
   },
   "outputs": [
    {
     "name": "stdout",
     "output_type": "stream",
     "text": [
      "23 selected features\n"
     ]
    }
   ],
   "source": [
    "embeded_lgb_feature,embeded_lgb_support = SFML(default_lgbm,train_X,train_y)"
   ]
  },
  {
   "cell_type": "code",
   "execution_count": 119,
   "metadata": {
    "ExecuteTime": {
     "end_time": "2020-02-29T11:23:00.896245Z",
     "start_time": "2020-02-29T11:23:00.882245Z"
    }
   },
   "outputs": [
    {
     "data": {
      "text/plain": [
       "['fiberID',\n",
       " 'psfMag_g',\n",
       " 'psfMag_r',\n",
       " 'psfMag_i',\n",
       " 'psfMag_z',\n",
       " 'fiberMag_i',\n",
       " 'modelMag_z',\n",
       " 'psfMag_u-g',\n",
       " 'psfMag_g-r',\n",
       " 'psfMag_r-i',\n",
       " 'psfMag_i-z',\n",
       " 'fiberMag_u-g',\n",
       " 'fiberMag_g-r',\n",
       " 'fiberMag_r-i',\n",
       " 'petroMag_u-g',\n",
       " 'modelMag_u-g',\n",
       " 'median_u',\n",
       " 'std_u',\n",
       " 'median_g',\n",
       " 'std_g',\n",
       " 'std_r',\n",
       " 'median_z',\n",
       " 'std_z']"
      ]
     },
     "execution_count": 119,
     "metadata": {},
     "output_type": "execute_result"
    }
   ],
   "source": [
    "embeded_lgb_feature"
   ]
  },
  {
   "cell_type": "code",
   "execution_count": 120,
   "metadata": {
    "ExecuteTime": {
     "end_time": "2020-02-29T11:23:03.123176Z",
     "start_time": "2020-02-29T11:23:03.114176Z"
    }
   },
   "outputs": [],
   "source": [
    "def simlpe_lgbm(model, X, y, test_size=0.2):\n",
    "    '''\n",
    "    RFE용으로 logloss보존\n",
    "    '''\n",
    "    from sklearn.model_selection import train_test_split\n",
    "    from sklearn.metrics import log_loss\n",
    "    \n",
    "    #train_test_split\n",
    "    X_train, X_test, y_train, y_test = train_test_split(X,y, test_size=test_size, random_state = 42)\n",
    "    model.fit(train_X,train_y)\n",
    "    \n",
    "    print(\"used col:\", train_X.shape[1])\n",
    "    print(\"train score:\",model.score(X_train,y_train))\n",
    "    print(\"test score:\",model.score(X_test,y_test))\n",
    "    \n",
    "    pred_y = model.predict_proba(X_test)\n",
    "    logloss = log_loss(y_test,pred_y,labels= list(set(y_test)))\n",
    "    print('logloss:',logloss)\n",
    "    \n",
    "    #report and importance\n",
    "    \n",
    "    return logloss"
   ]
  },
  {
   "cell_type": "markdown",
   "metadata": {},
   "source": [
    "### KBEST"
   ]
  },
  {
   "cell_type": "code",
   "execution_count": 42,
   "metadata": {
    "ExecuteTime": {
     "end_time": "2020-02-28T12:51:31.300936Z",
     "start_time": "2020-02-28T12:51:31.296933Z"
    }
   },
   "outputs": [],
   "source": [
    "from sklearn.feature_selection import SelectKBest, f_classif, chi2"
   ]
  },
  {
   "cell_type": "code",
   "execution_count": 89,
   "metadata": {
    "ExecuteTime": {
     "end_time": "2020-02-29T02:30:28.488146Z",
     "start_time": "2020-02-29T02:30:28.482155Z"
    }
   },
   "outputs": [],
   "source": [
    "from sklearn.feature_selection import SelectKBest, f_classif, chi2\n",
    "def Kbest_iter(X,y, score_func= f_classif, select=7, iteration = 11):\n",
    "    '''\n",
    "    Kbest를 반복하여 추출\n",
    "    추출방법은 f_classif, chi2가 분류에 적합\n",
    "    '''\n",
    "    \n",
    "    n_selects = np.arange(select,select*iteration+1,select)\n",
    "    \n",
    "    feature_names_lst = []\n",
    "    Kbest_support_lst = []\n",
    "    scores_lst =[]\n",
    "    for n in n_selects:\n",
    "        selector = SelectKBest(score_func, k = n)\n",
    "        X_new = selector.fit_transform(X, y)\n",
    "        \n",
    "        #추출대상\n",
    "        names = X.columns.values[selector.get_support()]\n",
    "        Kbest_support = selector.get_support()\n",
    "        scores = selector.scores_[selector.get_support()]\n",
    "        \n",
    "        #순서대로 정렬하기 위함\n",
    "        names_scores = list(zip(names, scores))\n",
    "        ns_df = pd.DataFrame(data = names_scores, columns=['Feat_names', 'F_Scores'])\n",
    "        ns_df_sorted = ns_df.sort_values(['F_Scores', 'Feat_names'], ascending = [False, True])\n",
    "        \n",
    "        #저장\n",
    "        feature_names_lst.append(ns_df_sorted['Feat_names'].values)\n",
    "        Kbest_support_lst.append(Kbest_support)\n",
    "        scores_lst.append(ns_df_sorted['F_Scores'].values)\n",
    "    \n",
    "    #코헨의 카파 \n",
    "    kbest_cohens=[]\n",
    "    for selected_f in feature_names_lst:\n",
    "        kbest_cohen = simlpe_lgbm(default_lgbm, X[selected_f], y, test_size=0.2)\n",
    "        kbest_cohens.append(kbest_cohen)\n",
    "\n",
    "    return kbest_cohens,feature_names_lst,Kbest_support_lst, scores_lst\n",
    "        \n",
    "    "
   ]
  },
  {
   "cell_type": "code",
   "execution_count": 121,
   "metadata": {
    "ExecuteTime": {
     "end_time": "2020-02-29T11:23:05.559100Z",
     "start_time": "2020-02-29T11:23:05.209112Z"
    }
   },
   "outputs": [],
   "source": [
    "X_train, X_test, y_train, y_test = train_test_split(train_X, train_y, test_size=0.3, random_state=42,stratify = train_y)"
   ]
  },
  {
   "cell_type": "code",
   "execution_count": 122,
   "metadata": {
    "ExecuteTime": {
     "end_time": "2020-02-29T11:25:23.539760Z",
     "start_time": "2020-02-29T11:23:07.840031Z"
    },
    "scrolled": true
   },
   "outputs": [],
   "source": [
    "n_selects = np.arange(7,7*5+1,7)\n",
    "\n",
    "feature_names_lst = []\n",
    "Kbest_support_lst = []\n",
    "scores_lst =[]\n",
    "for n in n_selects:\n",
    "    selector = SelectKBest(f_classif, k = n)\n",
    "    X_new = selector.fit_transform(train_X, train_y)\n",
    "\n",
    "    #추출대상\n",
    "    names = train_X.columns.values[selector.get_support()]\n",
    "    Kbest_support = selector.get_support()\n",
    "    scores = selector.scores_[selector.get_support()]\n",
    "\n",
    "    #순서대로 정렬하기 위함\n",
    "    names_scores = list(zip(names, scores))\n",
    "    ns_df = pd.DataFrame(data = names_scores, columns=['Feat_names', 'F_Scores'])\n",
    "    ns_df_sorted = ns_df.sort_values(['F_Scores', 'Feat_names'], ascending = [False, True])\n",
    "\n",
    "    #저장\n",
    "    feature_names_lst.append(ns_df_sorted['Feat_names'].values)\n",
    "    Kbest_support_lst.append(Kbest_support)\n",
    "    scores_lst.append(ns_df_sorted['F_Scores'].values)\n",
    "\n",
    "#코헨의 카파 \n",
    "logloss_ls=[]\n",
    "for selected_f in feature_names_lst:\n",
    "    default_lgbm.fit(X_train[selected_f], y_train)\n",
    "    predict = default_lgbm.predict_proba(X_test[selected_f])\n",
    "    logloss = log_loss(y_test, predict, labels= list(set(y_test)))\n",
    "    logloss_ls.append(logloss)"
   ]
  },
  {
   "cell_type": "code",
   "execution_count": 123,
   "metadata": {
    "ExecuteTime": {
     "end_time": "2020-02-29T11:25:25.693696Z",
     "start_time": "2020-02-29T11:25:25.686695Z"
    }
   },
   "outputs": [
    {
     "data": {
      "text/plain": [
       "[1.57702630657784,\n",
       " 1.3986998741732635,\n",
       " 1.3080396227501832,\n",
       " 1.37385717221839,\n",
       " 1.646942429809854]"
      ]
     },
     "execution_count": 123,
     "metadata": {},
     "output_type": "execute_result"
    }
   ],
   "source": [
    "logloss_ls"
   ]
  },
  {
   "cell_type": "code",
   "execution_count": 124,
   "metadata": {
    "ExecuteTime": {
     "end_time": "2020-02-29T11:27:30.772013Z",
     "start_time": "2020-02-29T11:27:30.767012Z"
    }
   },
   "outputs": [
    {
     "data": {
      "text/plain": [
       "array(['modelMag_r-z', 'modelMag_g-z', 'psfMag_r-z', 'fiberMag_r-z',\n",
       "       'psfMag_g-z', 'fiberMag_g-z', 'fiberMag_r-i', 'modelMag_r-i',\n",
       "       'modelMag_g-i', 'fiberMag_g-i', 'psfMag_g-i', 'psfMag_r-i',\n",
       "       'modelMag_r', 'fiberMag_u-z', 'psfMag_u-z', 'PCA_r', 'modelMag_g',\n",
       "       'modelMag_z', 'modelMag_i', 'PCA_g', 'petroMag_r'], dtype=object)"
      ]
     },
     "execution_count": 124,
     "metadata": {},
     "output_type": "execute_result"
    }
   ],
   "source": [
    "feature_names_lst[2]"
   ]
  },
  {
   "cell_type": "code",
   "execution_count": 125,
   "metadata": {
    "ExecuteTime": {
     "end_time": "2020-02-29T11:28:56.816858Z",
     "start_time": "2020-02-29T11:28:56.808858Z"
    }
   },
   "outputs": [],
   "source": [
    "# 3가지 feature_selection 53/23/21\n",
    "sfm = embeded_lgb_feature\n",
    "kbest = feature_names_lst[2]\n",
    "corr = cor_feature"
   ]
  },
  {
   "cell_type": "markdown",
   "metadata": {},
   "source": [
    "### 각각하나씩 진행후 비교"
   ]
  },
  {
   "cell_type": "code",
   "execution_count": 126,
   "metadata": {
    "ExecuteTime": {
     "end_time": "2020-02-29T11:29:32.987630Z",
     "start_time": "2020-02-29T11:29:32.946631Z"
    }
   },
   "outputs": [],
   "source": [
    "n_train_X = train_X[embeded_lgb_feature]\n",
    "train_y = train_df['type_num']\n",
    "n_test_X = test_X[embeded_lgb_feature]"
   ]
  },
  {
   "cell_type": "code",
   "execution_count": 127,
   "metadata": {
    "ExecuteTime": {
     "end_time": "2020-02-29T11:29:36.354837Z",
     "start_time": "2020-02-29T11:29:36.017847Z"
    }
   },
   "outputs": [],
   "source": [
    "X_train, X_test, y_train, y_test = train_test_split(train_X, train_y, test_size=0.3, random_state=42,stratify = train_y)"
   ]
  },
  {
   "cell_type": "code",
   "execution_count": 129,
   "metadata": {
    "ExecuteTime": {
     "end_time": "2020-02-29T11:29:41.112689Z",
     "start_time": "2020-02-29T11:29:41.106689Z"
    }
   },
   "outputs": [],
   "source": [
    "lgbm_c = lgb.LGBMClassifier(num_leaves = 511, min_child_samples = 30,\n",
    "                            max_depth = 7, learning_rate = 0.01,\n",
    "                            lambda_l2 = 7, lambda_l1 = 9,\n",
    "                            n_estimators=2000, random_state = 42)"
   ]
  },
  {
   "cell_type": "code",
   "execution_count": null,
   "metadata": {
    "ExecuteTime": {
     "start_time": "2020-02-29T11:31:41.470Z"
    }
   },
   "outputs": [
    {
     "name": "stdout",
     "output_type": "stream",
     "text": [
      "Training until validation scores don't improve for 100 rounds\n",
      "[100]\ttrain's multi_logloss: 0.91607\tvalid's multi_logloss: 0.925618\n",
      "[200]\ttrain's multi_logloss: 0.577225\tvalid's multi_logloss: 0.591271\n",
      "[300]\ttrain's multi_logloss: 0.446031\tvalid's multi_logloss: 0.46401\n",
      "[400]\ttrain's multi_logloss: 0.387418\tvalid's multi_logloss: 0.409328\n",
      "[500]\ttrain's multi_logloss: 0.355736\tvalid's multi_logloss: 0.382435\n",
      "[600]\ttrain's multi_logloss: 0.336259\tvalid's multi_logloss: 0.368042\n",
      "[700]\ttrain's multi_logloss: 0.322871\tvalid's multi_logloss: 0.359553\n",
      "[800]\ttrain's multi_logloss: 0.312808\tvalid's multi_logloss: 0.354202\n",
      "[900]\ttrain's multi_logloss: 0.304292\tvalid's multi_logloss: 0.350517\n",
      "[1000]\ttrain's multi_logloss: 0.296595\tvalid's multi_logloss: 0.347954\n"
     ]
    }
   ],
   "source": [
    "lgbm_c.fit(X_train, y_train, eval_set = [(X_train,y_train),(X_test, y_test)],eval_names= ['train','valid'], \n",
    "           eval_metric = 'logloss', verbose = 100, early_stopping_rounds = 100)"
   ]
  },
  {
   "cell_type": "code",
   "execution_count": null,
   "metadata": {
    "ExecuteTime": {
     "start_time": "2020-02-29T11:31:44.680Z"
    },
    "scrolled": true
   },
   "outputs": [],
   "source": [
    "train_y_pred = lgbm_c.predict_proba(X_test)\n",
    "\n",
    "from sklearn.metrics import log_loss\n",
    "#log_loss\n",
    "log_loss(y_test,train_y_pred,labels= list(set(y_test)))"
   ]
  },
  {
   "cell_type": "code",
   "execution_count": null,
   "metadata": {
    "ExecuteTime": {
     "start_time": "2020-02-29T11:31:44.880Z"
    }
   },
   "outputs": [],
   "source": [
    "train_y_pred"
   ]
  },
  {
   "cell_type": "code",
   "execution_count": null,
   "metadata": {
    "ExecuteTime": {
     "start_time": "2020-02-29T11:31:45.197Z"
    }
   },
   "outputs": [],
   "source": [
    "test_y_pred = lgbm_c.predict_proba(test_X)"
   ]
  },
  {
   "cell_type": "code",
   "execution_count": null,
   "metadata": {
    "ExecuteTime": {
     "start_time": "2020-02-29T11:31:45.391Z"
    }
   },
   "outputs": [],
   "source": [
    "test_y_pred"
   ]
  },
  {
   "cell_type": "markdown",
   "metadata": {},
   "source": [
    "### feature_importance"
   ]
  },
  {
   "cell_type": "code",
   "execution_count": null,
   "metadata": {
    "ExecuteTime": {
     "start_time": "2020-02-29T11:31:45.935Z"
    },
    "scrolled": true
   },
   "outputs": [],
   "source": [
    "pi_df = pd.DataFrame(lgbm_c.feature_importances_, index= train_X.columns,columns= ['importance']).sort_values('importance',ascending = False)\n",
    "pi_df"
   ]
  },
  {
   "cell_type": "markdown",
   "metadata": {},
   "source": [
    "### 예측결과에 대해\n",
    "잘된예측 : 1,3,4,5,6,8,9,10,14,15,16,18  \n",
    "중간예측 : 0,2,7,13  \n",
    "망한예측 : 11,12,17"
   ]
  },
  {
   "cell_type": "code",
   "execution_count": null,
   "metadata": {
    "ExecuteTime": {
     "start_time": "2020-02-29T11:31:46.470Z"
    }
   },
   "outputs": [],
   "source": [
    "train_y_pred = lgbm_c.predict(X_test)"
   ]
  },
  {
   "cell_type": "code",
   "execution_count": null,
   "metadata": {
    "ExecuteTime": {
     "start_time": "2020-02-29T11:31:46.870Z"
    }
   },
   "outputs": [],
   "source": [
    "train_y_pred.shape"
   ]
  },
  {
   "cell_type": "code",
   "execution_count": null,
   "metadata": {
    "ExecuteTime": {
     "start_time": "2020-02-29T11:31:47.229Z"
    }
   },
   "outputs": [],
   "source": [
    "cm_result = pd.DataFrame(confusion_matrix(y_test,train_y_pred))"
   ]
  },
  {
   "cell_type": "code",
   "execution_count": null,
   "metadata": {
    "ExecuteTime": {
     "start_time": "2020-02-29T11:31:47.566Z"
    }
   },
   "outputs": [],
   "source": [
    "cm_result"
   ]
  },
  {
   "cell_type": "code",
   "execution_count": null,
   "metadata": {
    "ExecuteTime": {
     "start_time": "2020-02-29T11:31:47.798Z"
    },
    "scrolled": false
   },
   "outputs": [],
   "source": [
    "plt.figure(figsize =(15,15))\n",
    "sns.heatmap(cm_result/np.sum(cm_result),annot = True, cmap ='RdYlGn',fmt='.1%')\n",
    "plt.ylabel(\"real\",fontsize=20)\n",
    "plt.xlabel(\"predict\",fontsize=20)\n",
    "plt.show()"
   ]
  },
  {
   "cell_type": "markdown",
   "metadata": {},
   "source": [
    "### FINAL CV"
   ]
  },
  {
   "cell_type": "code",
   "execution_count": null,
   "metadata": {
    "ExecuteTime": {
     "end_time": "2020-02-28T12:09:00.542327Z",
     "start_time": "2020-02-28T11:08:59.029Z"
    },
    "scrolled": true
   },
   "outputs": [],
   "source": [
    "kf = StratifiedKFold(n_splits = 5, shuffle = True, random_state = 42)\n",
    "oof_pred = np.zeros((len(train_X), train_y.nunique()))\n",
    "y_pred = np.zeros((len(test_X), train_y.nunique()))\n",
    "\n",
    "for fold, (train_ids, val_ids) in enumerate(kf.split(train_X,train_y)):\n",
    "    print('★ Fold {}'.format(fold + 1))\n",
    "    X_train, X_val = train_X.iloc[train_ids],train_X.iloc[val_ids]\n",
    "    y_train, y_val = train_y.iloc[train_ids],train_y.iloc[val_ids]\n",
    "\n",
    "    eval_set = [(X_train, y_train),(X_val, y_val)]\n",
    "    eval_names = ['train','val']\n",
    "    lgbm_c.fit(train_X,train_y, eval_set = eval_set, eval_names = eval_names, \n",
    "               early_stopping_rounds= 100, verbose = 100)\n",
    "    oof_pred[val_ids] = lgbm_c.predict_proba(X_val)\n",
    "    y_pred += lgbm_c.predict_proba(test_X)/5\n",
    "loss_score = log_loss(train_y,oof_pred,labels= list(set(train_y)))\n",
    "print(\"oof log_loss: \",loss_score)"
   ]
  },
  {
   "cell_type": "markdown",
   "metadata": {},
   "source": [
    "# REAL"
   ]
  },
  {
   "cell_type": "code",
   "execution_count": null,
   "metadata": {
    "ExecuteTime": {
     "end_time": "2020-02-28T05:28:24.564562Z",
     "start_time": "2020-02-28T05:28:24.559563Z"
    }
   },
   "outputs": [],
   "source": [
    "lgbm_c = lgb.LGBMClassifier(num_leaves = 255, min_child_samples = 40,\n",
    "                            max_depth = 8, learning_rate = 0.1,\n",
    "                            lambda_l2 = 3, lambda_l1 = 9,\n",
    "                            n_estimators=2000, random_state = 42)"
   ]
  },
  {
   "cell_type": "code",
   "execution_count": null,
   "metadata": {
    "ExecuteTime": {
     "end_time": "2020-02-28T05:57:01.390665Z",
     "start_time": "2020-02-28T05:28:24.566563Z"
    },
    "scrolled": true
   },
   "outputs": [],
   "source": [
    "lgbm_c.fit(train_X, train_y, eval_set = [(train_X, train_y)],eval_names= 'valid', \n",
    "           eval_metric = 'logloss', verbose = 100, early_stopping_rounds = 100)"
   ]
  },
  {
   "cell_type": "code",
   "execution_count": null,
   "metadata": {
    "ExecuteTime": {
     "end_time": "2020-02-28T06:06:25.660278Z",
     "start_time": "2020-02-28T05:57:01.392665Z"
    }
   },
   "outputs": [],
   "source": [
    "f_train_y_pred = lgbm_c.predict_proba(train_X)"
   ]
  },
  {
   "cell_type": "code",
   "execution_count": null,
   "metadata": {
    "ExecuteTime": {
     "end_time": "2020-02-28T06:06:53.761411Z",
     "start_time": "2020-02-28T06:06:25.661278Z"
    }
   },
   "outputs": [],
   "source": [
    "y_pred = lgbm_c.predict_proba(test_X)"
   ]
  },
  {
   "cell_type": "code",
   "execution_count": null,
   "metadata": {
    "ExecuteTime": {
     "end_time": "2020-02-28T10:43:00.138025Z",
     "start_time": "2020-02-28T10:43:00.133026Z"
    }
   },
   "outputs": [],
   "source": [
    "y_pred"
   ]
  },
  {
   "cell_type": "code",
   "execution_count": null,
   "metadata": {
    "ExecuteTime": {
     "end_time": "2020-02-28T06:06:53.767412Z",
     "start_time": "2020-02-28T06:06:53.762412Z"
    }
   },
   "outputs": [],
   "source": [
    "y_pred"
   ]
  },
  {
   "cell_type": "code",
   "execution_count": null,
   "metadata": {
    "ExecuteTime": {
     "end_time": "2020-02-28T06:06:54.486391Z",
     "start_time": "2020-02-28T06:06:53.768412Z"
    }
   },
   "outputs": [],
   "source": [
    "submission = pd.DataFrame(data=y_pred, columns=sample_submission_df.columns, index=sample_submission_df.index)\n",
    "submission.to_csv('./submisson/submission.csv', index=True)"
   ]
  }
 ],
 "metadata": {
  "kernelspec": {
   "display_name": "Python 3",
   "language": "python",
   "name": "python3"
  },
  "language_info": {
   "codemirror_mode": {
    "name": "ipython",
    "version": 3
   },
   "file_extension": ".py",
   "mimetype": "text/x-python",
   "name": "python",
   "nbconvert_exporter": "python",
   "pygments_lexer": "ipython3",
   "version": "3.6.5"
  },
  "varInspector": {
   "cols": {
    "lenName": 16,
    "lenType": 16,
    "lenVar": 40
   },
   "kernels_config": {
    "python": {
     "delete_cmd_postfix": "",
     "delete_cmd_prefix": "del ",
     "library": "var_list.py",
     "varRefreshCmd": "print(var_dic_list())"
    },
    "r": {
     "delete_cmd_postfix": ") ",
     "delete_cmd_prefix": "rm(",
     "library": "var_list.r",
     "varRefreshCmd": "cat(var_dic_list()) "
    }
   },
   "types_to_exclude": [
    "module",
    "function",
    "builtin_function_or_method",
    "instance",
    "_Feature"
   ],
   "window_display": false
  }
 },
 "nbformat": 4,
 "nbformat_minor": 2
}
