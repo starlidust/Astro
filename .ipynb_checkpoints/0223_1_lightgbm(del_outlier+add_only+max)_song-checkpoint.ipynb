{
 "cells": [
  {
   "cell_type": "markdown",
   "metadata": {},
   "source": [
    "# Tune_lgb\n",
    "* 제출결과 : "
   ]
  },
  {
   "cell_type": "code",
   "execution_count": 1,
   "metadata": {
    "ExecuteTime": {
     "end_time": "2020-02-22T15:40:24.139000Z",
     "start_time": "2020-02-22T15:40:12.093000Z"
    }
   },
   "outputs": [
    {
     "data": {
      "text/html": [
       "<style>.container {width:100% !important; }</style>"
      ],
      "text/plain": [
       "<IPython.core.display.HTML object>"
      ]
     },
     "metadata": {},
     "output_type": "display_data"
    }
   ],
   "source": [
    "import pandas as pd\n",
    "import numpy as np\n",
    "import matplotlib.pyplot as plt\n",
    "import seaborn as sns\n",
    "\n",
    "from sklearn.ensemble import RandomForestClassifier\n",
    "from sklearn.model_selection import train_test_split\n",
    "from sklearn.metrics import confusion_matrix\n",
    "from sklearn.metrics import log_loss\n",
    "import lightgbm as lgb\n",
    "\n",
    "from IPython.core.display import display, HTML\n",
    "display(HTML('<style>.container {width:100% !important; }</style>'))"
   ]
  },
  {
   "cell_type": "code",
   "execution_count": 14,
   "metadata": {
    "ExecuteTime": {
     "end_time": "2020-02-22T15:40:48.975000Z",
     "start_time": "2020-02-22T15:40:47.999000Z"
    }
   },
   "outputs": [],
   "source": [
    "path = \"./data/\" \n",
    "train_df = pd.read_csv(path+'train.csv',index_col=0)\n",
    "test_df = pd.read_csv(path+'test.csv',index_col=0)\n",
    "sample_submission_df = pd.read_csv(path+'sample_submission.csv',index_col=0)\n",
    "pd.options.display.max_columns = 30"
   ]
  },
  {
   "cell_type": "markdown",
   "metadata": {},
   "source": [
    "## 전처리\n",
    " - 이상치 확인 및 처리"
   ]
  },
  {
   "cell_type": "code",
   "execution_count": 15,
   "metadata": {
    "ExecuteTime": {
     "end_time": "2020-02-22T15:40:49.277000Z",
     "start_time": "2020-02-22T15:40:49.054000Z"
    }
   },
   "outputs": [
    {
     "data": {
      "text/html": [
       "<div>\n",
       "<style scoped>\n",
       "    .dataframe tbody tr th:only-of-type {\n",
       "        vertical-align: middle;\n",
       "    }\n",
       "\n",
       "    .dataframe tbody tr th {\n",
       "        vertical-align: top;\n",
       "    }\n",
       "\n",
       "    .dataframe thead th {\n",
       "        text-align: right;\n",
       "    }\n",
       "</style>\n",
       "<table border=\"1\" class=\"dataframe\">\n",
       "  <thead>\n",
       "    <tr style=\"text-align: right;\">\n",
       "      <th></th>\n",
       "      <th>fiberID</th>\n",
       "      <th>psfMag_u</th>\n",
       "      <th>psfMag_g</th>\n",
       "      <th>psfMag_r</th>\n",
       "      <th>psfMag_i</th>\n",
       "      <th>psfMag_z</th>\n",
       "      <th>fiberMag_u</th>\n",
       "      <th>fiberMag_g</th>\n",
       "      <th>fiberMag_r</th>\n",
       "      <th>fiberMag_i</th>\n",
       "      <th>fiberMag_z</th>\n",
       "      <th>petroMag_u</th>\n",
       "      <th>petroMag_g</th>\n",
       "      <th>petroMag_r</th>\n",
       "      <th>petroMag_i</th>\n",
       "      <th>petroMag_z</th>\n",
       "      <th>modelMag_u</th>\n",
       "      <th>modelMag_g</th>\n",
       "      <th>modelMag_r</th>\n",
       "      <th>modelMag_i</th>\n",
       "      <th>modelMag_z</th>\n",
       "    </tr>\n",
       "  </thead>\n",
       "  <tbody>\n",
       "    <tr>\n",
       "      <td>count</td>\n",
       "      <td>199991.000000</td>\n",
       "      <td>1.999910e+05</td>\n",
       "      <td>199991.000000</td>\n",
       "      <td>199991.000000</td>\n",
       "      <td>199991.000000</td>\n",
       "      <td>199991.000000</td>\n",
       "      <td>1.999910e+05</td>\n",
       "      <td>199991.000000</td>\n",
       "      <td>199991.000000</td>\n",
       "      <td>199991.000000</td>\n",
       "      <td>199991.000000</td>\n",
       "      <td>199991.000000</td>\n",
       "      <td>199991.000000</td>\n",
       "      <td>199991.000000</td>\n",
       "      <td>199991.000000</td>\n",
       "      <td>199991.000000</td>\n",
       "      <td>199991.000000</td>\n",
       "      <td>199991.000000</td>\n",
       "      <td>199991.000000</td>\n",
       "      <td>199991.000000</td>\n",
       "      <td>199991.000000</td>\n",
       "    </tr>\n",
       "    <tr>\n",
       "      <td>mean</td>\n",
       "      <td>360.830152</td>\n",
       "      <td>-6.750146e+00</td>\n",
       "      <td>18.675373</td>\n",
       "      <td>18.401235</td>\n",
       "      <td>18.043495</td>\n",
       "      <td>17.663526</td>\n",
       "      <td>1.084986e+01</td>\n",
       "      <td>19.072693</td>\n",
       "      <td>19.134483</td>\n",
       "      <td>18.183331</td>\n",
       "      <td>18.000882</td>\n",
       "      <td>21.837903</td>\n",
       "      <td>18.454136</td>\n",
       "      <td>18.481525</td>\n",
       "      <td>17.686617</td>\n",
       "      <td>17.699207</td>\n",
       "      <td>20.110991</td>\n",
       "      <td>18.544375</td>\n",
       "      <td>18.181544</td>\n",
       "      <td>17.692395</td>\n",
       "      <td>17.189281</td>\n",
       "    </tr>\n",
       "    <tr>\n",
       "      <td>std</td>\n",
       "      <td>225.305890</td>\n",
       "      <td>1.187678e+04</td>\n",
       "      <td>155.423024</td>\n",
       "      <td>127.128078</td>\n",
       "      <td>116.622194</td>\n",
       "      <td>123.735298</td>\n",
       "      <td>4.172116e+03</td>\n",
       "      <td>749.256162</td>\n",
       "      <td>90.049058</td>\n",
       "      <td>122.378972</td>\n",
       "      <td>145.862346</td>\n",
       "      <td>789.472333</td>\n",
       "      <td>154.376277</td>\n",
       "      <td>97.240448</td>\n",
       "      <td>145.730872</td>\n",
       "      <td>142.691880</td>\n",
       "      <td>122.299062</td>\n",
       "      <td>161.728183</td>\n",
       "      <td>133.984475</td>\n",
       "      <td>131.183416</td>\n",
       "      <td>133.685138</td>\n",
       "    </tr>\n",
       "    <tr>\n",
       "      <td>min</td>\n",
       "      <td>1.000000</td>\n",
       "      <td>-5.310802e+06</td>\n",
       "      <td>-40022.466071</td>\n",
       "      <td>-27184.795793</td>\n",
       "      <td>-26566.310827</td>\n",
       "      <td>-24878.828280</td>\n",
       "      <td>-1.864766e+06</td>\n",
       "      <td>-215882.917191</td>\n",
       "      <td>-21802.656144</td>\n",
       "      <td>-20208.516262</td>\n",
       "      <td>-26505.602101</td>\n",
       "      <td>-24463.431833</td>\n",
       "      <td>-25958.752324</td>\n",
       "      <td>-23948.588523</td>\n",
       "      <td>-40438.184078</td>\n",
       "      <td>-30070.729379</td>\n",
       "      <td>-26236.578659</td>\n",
       "      <td>-36902.402336</td>\n",
       "      <td>-36439.638493</td>\n",
       "      <td>-38969.416822</td>\n",
       "      <td>-26050.710196</td>\n",
       "    </tr>\n",
       "    <tr>\n",
       "      <td>25%</td>\n",
       "      <td>174.000000</td>\n",
       "      <td>1.965259e+01</td>\n",
       "      <td>18.701180</td>\n",
       "      <td>18.048572</td>\n",
       "      <td>17.747663</td>\n",
       "      <td>17.425523</td>\n",
       "      <td>1.994040e+01</td>\n",
       "      <td>18.902851</td>\n",
       "      <td>18.259352</td>\n",
       "      <td>17.903615</td>\n",
       "      <td>17.606148</td>\n",
       "      <td>19.247795</td>\n",
       "      <td>18.113933</td>\n",
       "      <td>17.479794</td>\n",
       "      <td>17.050294</td>\n",
       "      <td>16.804705</td>\n",
       "      <td>19.266214</td>\n",
       "      <td>18.076120</td>\n",
       "      <td>17.423425</td>\n",
       "      <td>16.977671</td>\n",
       "      <td>16.705774</td>\n",
       "    </tr>\n",
       "    <tr>\n",
       "      <td>50%</td>\n",
       "      <td>349.000000</td>\n",
       "      <td>2.087136e+01</td>\n",
       "      <td>19.904235</td>\n",
       "      <td>19.454492</td>\n",
       "      <td>19.043895</td>\n",
       "      <td>18.611799</td>\n",
       "      <td>2.104910e+01</td>\n",
       "      <td>20.069038</td>\n",
       "      <td>19.631419</td>\n",
       "      <td>19.188763</td>\n",
       "      <td>18.710967</td>\n",
       "      <td>20.366848</td>\n",
       "      <td>19.586559</td>\n",
       "      <td>19.182789</td>\n",
       "      <td>18.693370</td>\n",
       "      <td>18.174592</td>\n",
       "      <td>20.406840</td>\n",
       "      <td>19.547674</td>\n",
       "      <td>19.143156</td>\n",
       "      <td>18.641756</td>\n",
       "      <td>18.100997</td>\n",
       "    </tr>\n",
       "    <tr>\n",
       "      <td>75%</td>\n",
       "      <td>526.000000</td>\n",
       "      <td>2.216043e+01</td>\n",
       "      <td>21.150297</td>\n",
       "      <td>20.515936</td>\n",
       "      <td>20.073528</td>\n",
       "      <td>19.883760</td>\n",
       "      <td>2.233754e+01</td>\n",
       "      <td>21.385830</td>\n",
       "      <td>20.773911</td>\n",
       "      <td>20.331419</td>\n",
       "      <td>20.133179</td>\n",
       "      <td>21.797480</td>\n",
       "      <td>21.004397</td>\n",
       "      <td>20.457491</td>\n",
       "      <td>20.019112</td>\n",
       "      <td>19.807652</td>\n",
       "      <td>21.992898</td>\n",
       "      <td>20.962386</td>\n",
       "      <td>20.408140</td>\n",
       "      <td>19.968846</td>\n",
       "      <td>19.819554</td>\n",
       "    </tr>\n",
       "    <tr>\n",
       "      <td>max</td>\n",
       "      <td>1000.000000</td>\n",
       "      <td>1.877392e+04</td>\n",
       "      <td>3538.984910</td>\n",
       "      <td>3048.110913</td>\n",
       "      <td>4835.218639</td>\n",
       "      <td>9823.740407</td>\n",
       "      <td>4.870154e+03</td>\n",
       "      <td>248077.513380</td>\n",
       "      <td>12084.735440</td>\n",
       "      <td>8059.638535</td>\n",
       "      <td>18358.921741</td>\n",
       "      <td>298771.019041</td>\n",
       "      <td>12139.815877</td>\n",
       "      <td>7003.136546</td>\n",
       "      <td>9772.190537</td>\n",
       "      <td>17403.789263</td>\n",
       "      <td>14488.251976</td>\n",
       "      <td>10582.058590</td>\n",
       "      <td>12237.951703</td>\n",
       "      <td>4062.499371</td>\n",
       "      <td>7420.534172</td>\n",
       "    </tr>\n",
       "  </tbody>\n",
       "</table>\n",
       "</div>"
      ],
      "text/plain": [
       "             fiberID      psfMag_u       psfMag_g       psfMag_r  \\\n",
       "count  199991.000000  1.999910e+05  199991.000000  199991.000000   \n",
       "mean      360.830152 -6.750146e+00      18.675373      18.401235   \n",
       "std       225.305890  1.187678e+04     155.423024     127.128078   \n",
       "min         1.000000 -5.310802e+06  -40022.466071  -27184.795793   \n",
       "25%       174.000000  1.965259e+01      18.701180      18.048572   \n",
       "50%       349.000000  2.087136e+01      19.904235      19.454492   \n",
       "75%       526.000000  2.216043e+01      21.150297      20.515936   \n",
       "max      1000.000000  1.877392e+04    3538.984910    3048.110913   \n",
       "\n",
       "            psfMag_i       psfMag_z    fiberMag_u     fiberMag_g  \\\n",
       "count  199991.000000  199991.000000  1.999910e+05  199991.000000   \n",
       "mean       18.043495      17.663526  1.084986e+01      19.072693   \n",
       "std       116.622194     123.735298  4.172116e+03     749.256162   \n",
       "min    -26566.310827  -24878.828280 -1.864766e+06 -215882.917191   \n",
       "25%        17.747663      17.425523  1.994040e+01      18.902851   \n",
       "50%        19.043895      18.611799  2.104910e+01      20.069038   \n",
       "75%        20.073528      19.883760  2.233754e+01      21.385830   \n",
       "max      4835.218639    9823.740407  4.870154e+03  248077.513380   \n",
       "\n",
       "          fiberMag_r     fiberMag_i     fiberMag_z     petroMag_u  \\\n",
       "count  199991.000000  199991.000000  199991.000000  199991.000000   \n",
       "mean       19.134483      18.183331      18.000882      21.837903   \n",
       "std        90.049058     122.378972     145.862346     789.472333   \n",
       "min    -21802.656144  -20208.516262  -26505.602101  -24463.431833   \n",
       "25%        18.259352      17.903615      17.606148      19.247795   \n",
       "50%        19.631419      19.188763      18.710967      20.366848   \n",
       "75%        20.773911      20.331419      20.133179      21.797480   \n",
       "max     12084.735440    8059.638535   18358.921741  298771.019041   \n",
       "\n",
       "          petroMag_g     petroMag_r     petroMag_i     petroMag_z  \\\n",
       "count  199991.000000  199991.000000  199991.000000  199991.000000   \n",
       "mean       18.454136      18.481525      17.686617      17.699207   \n",
       "std       154.376277      97.240448     145.730872     142.691880   \n",
       "min    -25958.752324  -23948.588523  -40438.184078  -30070.729379   \n",
       "25%        18.113933      17.479794      17.050294      16.804705   \n",
       "50%        19.586559      19.182789      18.693370      18.174592   \n",
       "75%        21.004397      20.457491      20.019112      19.807652   \n",
       "max     12139.815877    7003.136546    9772.190537   17403.789263   \n",
       "\n",
       "          modelMag_u     modelMag_g     modelMag_r     modelMag_i  \\\n",
       "count  199991.000000  199991.000000  199991.000000  199991.000000   \n",
       "mean       20.110991      18.544375      18.181544      17.692395   \n",
       "std       122.299062     161.728183     133.984475     131.183416   \n",
       "min    -26236.578659  -36902.402336  -36439.638493  -38969.416822   \n",
       "25%        19.266214      18.076120      17.423425      16.977671   \n",
       "50%        20.406840      19.547674      19.143156      18.641756   \n",
       "75%        21.992898      20.962386      20.408140      19.968846   \n",
       "max     14488.251976   10582.058590   12237.951703    4062.499371   \n",
       "\n",
       "          modelMag_z  \n",
       "count  199991.000000  \n",
       "mean       17.189281  \n",
       "std       133.685138  \n",
       "min    -26050.710196  \n",
       "25%        16.705774  \n",
       "50%        18.100997  \n",
       "75%        19.819554  \n",
       "max      7420.534172  "
      ]
     },
     "execution_count": 15,
     "metadata": {},
     "output_type": "execute_result"
    }
   ],
   "source": [
    "train_df.describe()"
   ]
  },
  {
   "cell_type": "code",
   "execution_count": 16,
   "metadata": {
    "ExecuteTime": {
     "end_time": "2020-02-22T15:40:49.359000Z",
     "start_time": "2020-02-22T15:40:49.354000Z"
    }
   },
   "outputs": [],
   "source": [
    "def del_outlier(data, min=0, max=60):\n",
    "    up_idx_t=()\n",
    "    dw_idx_t=()\n",
    "    train_light = data.iloc[:,2:]\n",
    "    for i in range(len(train_light.columns)):\n",
    "        col = train_light.columns[i]\n",
    "        up_idx_t+=tuple(data[data[col]>max].index)\n",
    "        dw_idx_t+=tuple(data[data[col]<min].index)\n",
    "    del_idx = set(up_idx_t+dw_idx_t)\n",
    "    \n",
    "    return data[~data.index.isin(del_idx)]"
   ]
  },
  {
   "cell_type": "code",
   "execution_count": 17,
   "metadata": {
    "ExecuteTime": {
     "end_time": "2020-02-22T15:40:49.522000Z",
     "start_time": "2020-02-22T15:40:49.440000Z"
    }
   },
   "outputs": [],
   "source": [
    "train_df = del_outlier(train_df, min=-20, max=40)"
   ]
  },
  {
   "cell_type": "code",
   "execution_count": 18,
   "metadata": {
    "ExecuteTime": {
     "end_time": "2020-02-22T15:40:49.819000Z",
     "start_time": "2020-02-22T15:40:49.601000Z"
    }
   },
   "outputs": [
    {
     "data": {
      "text/html": [
       "<div>\n",
       "<style scoped>\n",
       "    .dataframe tbody tr th:only-of-type {\n",
       "        vertical-align: middle;\n",
       "    }\n",
       "\n",
       "    .dataframe tbody tr th {\n",
       "        vertical-align: top;\n",
       "    }\n",
       "\n",
       "    .dataframe thead th {\n",
       "        text-align: right;\n",
       "    }\n",
       "</style>\n",
       "<table border=\"1\" class=\"dataframe\">\n",
       "  <thead>\n",
       "    <tr style=\"text-align: right;\">\n",
       "      <th></th>\n",
       "      <th>fiberID</th>\n",
       "      <th>psfMag_u</th>\n",
       "      <th>psfMag_g</th>\n",
       "      <th>psfMag_r</th>\n",
       "      <th>psfMag_i</th>\n",
       "      <th>psfMag_z</th>\n",
       "      <th>fiberMag_u</th>\n",
       "      <th>fiberMag_g</th>\n",
       "      <th>fiberMag_r</th>\n",
       "      <th>fiberMag_i</th>\n",
       "      <th>fiberMag_z</th>\n",
       "      <th>petroMag_u</th>\n",
       "      <th>petroMag_g</th>\n",
       "      <th>petroMag_r</th>\n",
       "      <th>petroMag_i</th>\n",
       "      <th>petroMag_z</th>\n",
       "      <th>modelMag_u</th>\n",
       "      <th>modelMag_g</th>\n",
       "      <th>modelMag_r</th>\n",
       "      <th>modelMag_i</th>\n",
       "      <th>modelMag_z</th>\n",
       "    </tr>\n",
       "  </thead>\n",
       "  <tbody>\n",
       "    <tr>\n",
       "      <td>count</td>\n",
       "      <td>199628.000000</td>\n",
       "      <td>199628.000000</td>\n",
       "      <td>199628.000000</td>\n",
       "      <td>199628.000000</td>\n",
       "      <td>199628.000000</td>\n",
       "      <td>199628.000000</td>\n",
       "      <td>199628.000000</td>\n",
       "      <td>199628.000000</td>\n",
       "      <td>199628.000000</td>\n",
       "      <td>199628.000000</td>\n",
       "      <td>199628.000000</td>\n",
       "      <td>199628.000000</td>\n",
       "      <td>199628.000000</td>\n",
       "      <td>199628.000000</td>\n",
       "      <td>199628.000000</td>\n",
       "      <td>199628.000000</td>\n",
       "      <td>199628.000000</td>\n",
       "      <td>199628.000000</td>\n",
       "      <td>199628.000000</td>\n",
       "      <td>199628.000000</td>\n",
       "      <td>199628.000000</td>\n",
       "    </tr>\n",
       "    <tr>\n",
       "      <td>mean</td>\n",
       "      <td>360.903350</td>\n",
       "      <td>20.981239</td>\n",
       "      <td>19.858791</td>\n",
       "      <td>19.285653</td>\n",
       "      <td>18.870895</td>\n",
       "      <td>18.611078</td>\n",
       "      <td>21.170523</td>\n",
       "      <td>20.089204</td>\n",
       "      <td>19.505105</td>\n",
       "      <td>19.087210</td>\n",
       "      <td>18.828255</td>\n",
       "      <td>20.704087</td>\n",
       "      <td>19.597613</td>\n",
       "      <td>19.006255</td>\n",
       "      <td>18.603519</td>\n",
       "      <td>18.390767</td>\n",
       "      <td>20.728641</td>\n",
       "      <td>19.528982</td>\n",
       "      <td>18.939000</td>\n",
       "      <td>18.519929</td>\n",
       "      <td>18.275409</td>\n",
       "    </tr>\n",
       "    <tr>\n",
       "      <td>std</td>\n",
       "      <td>225.356086</td>\n",
       "      <td>2.075093</td>\n",
       "      <td>1.857924</td>\n",
       "      <td>1.703280</td>\n",
       "      <td>1.622303</td>\n",
       "      <td>1.678630</td>\n",
       "      <td>1.965511</td>\n",
       "      <td>1.841122</td>\n",
       "      <td>1.703609</td>\n",
       "      <td>1.624830</td>\n",
       "      <td>1.676144</td>\n",
       "      <td>2.357206</td>\n",
       "      <td>2.054633</td>\n",
       "      <td>1.927493</td>\n",
       "      <td>1.870967</td>\n",
       "      <td>2.007038</td>\n",
       "      <td>2.182877</td>\n",
       "      <td>1.955100</td>\n",
       "      <td>1.858653</td>\n",
       "      <td>1.794436</td>\n",
       "      <td>1.861080</td>\n",
       "    </tr>\n",
       "    <tr>\n",
       "      <td>min</td>\n",
       "      <td>1.000000</td>\n",
       "      <td>-12.978725</td>\n",
       "      <td>2.741681</td>\n",
       "      <td>-11.043026</td>\n",
       "      <td>-6.406284</td>\n",
       "      <td>1.762241</td>\n",
       "      <td>-10.838092</td>\n",
       "      <td>-8.294703</td>\n",
       "      <td>11.795394</td>\n",
       "      <td>10.646672</td>\n",
       "      <td>8.049850</td>\n",
       "      <td>-18.750419</td>\n",
       "      <td>-18.969308</td>\n",
       "      <td>-19.989825</td>\n",
       "      <td>-15.223252</td>\n",
       "      <td>-17.035990</td>\n",
       "      <td>3.444448</td>\n",
       "      <td>12.498143</td>\n",
       "      <td>10.286917</td>\n",
       "      <td>11.337467</td>\n",
       "      <td>10.977328</td>\n",
       "    </tr>\n",
       "    <tr>\n",
       "      <td>25%</td>\n",
       "      <td>174.000000</td>\n",
       "      <td>19.651883</td>\n",
       "      <td>18.700224</td>\n",
       "      <td>18.048186</td>\n",
       "      <td>17.746876</td>\n",
       "      <td>17.424860</td>\n",
       "      <td>19.941032</td>\n",
       "      <td>18.903275</td>\n",
       "      <td>18.259596</td>\n",
       "      <td>17.904522</td>\n",
       "      <td>17.606784</td>\n",
       "      <td>19.248338</td>\n",
       "      <td>18.114027</td>\n",
       "      <td>17.480567</td>\n",
       "      <td>17.051256</td>\n",
       "      <td>16.805130</td>\n",
       "      <td>19.265055</td>\n",
       "      <td>18.075231</td>\n",
       "      <td>17.422828</td>\n",
       "      <td>16.977476</td>\n",
       "      <td>16.704970</td>\n",
       "    </tr>\n",
       "    <tr>\n",
       "      <td>50%</td>\n",
       "      <td>349.000000</td>\n",
       "      <td>20.869253</td>\n",
       "      <td>19.902826</td>\n",
       "      <td>19.453564</td>\n",
       "      <td>19.042466</td>\n",
       "      <td>18.609989</td>\n",
       "      <td>21.048078</td>\n",
       "      <td>20.068673</td>\n",
       "      <td>19.632065</td>\n",
       "      <td>19.189730</td>\n",
       "      <td>18.711210</td>\n",
       "      <td>20.365782</td>\n",
       "      <td>19.584974</td>\n",
       "      <td>19.182760</td>\n",
       "      <td>18.694139</td>\n",
       "      <td>18.173448</td>\n",
       "      <td>20.404240</td>\n",
       "      <td>19.545558</td>\n",
       "      <td>19.142608</td>\n",
       "      <td>18.641789</td>\n",
       "      <td>18.099917</td>\n",
       "    </tr>\n",
       "    <tr>\n",
       "      <td>75%</td>\n",
       "      <td>526.000000</td>\n",
       "      <td>22.155843</td>\n",
       "      <td>21.146616</td>\n",
       "      <td>20.514075</td>\n",
       "      <td>20.072422</td>\n",
       "      <td>19.882411</td>\n",
       "      <td>22.335305</td>\n",
       "      <td>21.384493</td>\n",
       "      <td>20.773867</td>\n",
       "      <td>20.332052</td>\n",
       "      <td>20.133502</td>\n",
       "      <td>21.792790</td>\n",
       "      <td>21.001517</td>\n",
       "      <td>20.456134</td>\n",
       "      <td>20.018369</td>\n",
       "      <td>19.806288</td>\n",
       "      <td>21.987570</td>\n",
       "      <td>20.959655</td>\n",
       "      <td>20.407032</td>\n",
       "      <td>19.968273</td>\n",
       "      <td>19.818616</td>\n",
       "    </tr>\n",
       "    <tr>\n",
       "      <td>max</td>\n",
       "      <td>1000.000000</td>\n",
       "      <td>38.142419</td>\n",
       "      <td>39.411617</td>\n",
       "      <td>37.348717</td>\n",
       "      <td>34.963620</td>\n",
       "      <td>32.130146</td>\n",
       "      <td>39.182814</td>\n",
       "      <td>37.745406</td>\n",
       "      <td>30.160957</td>\n",
       "      <td>32.171369</td>\n",
       "      <td>36.498179</td>\n",
       "      <td>39.979165</td>\n",
       "      <td>39.969025</td>\n",
       "      <td>39.977525</td>\n",
       "      <td>39.237553</td>\n",
       "      <td>39.794471</td>\n",
       "      <td>39.238248</td>\n",
       "      <td>39.129788</td>\n",
       "      <td>33.666494</td>\n",
       "      <td>32.740051</td>\n",
       "      <td>34.930633</td>\n",
       "    </tr>\n",
       "  </tbody>\n",
       "</table>\n",
       "</div>"
      ],
      "text/plain": [
       "             fiberID       psfMag_u       psfMag_g       psfMag_r  \\\n",
       "count  199628.000000  199628.000000  199628.000000  199628.000000   \n",
       "mean      360.903350      20.981239      19.858791      19.285653   \n",
       "std       225.356086       2.075093       1.857924       1.703280   \n",
       "min         1.000000     -12.978725       2.741681     -11.043026   \n",
       "25%       174.000000      19.651883      18.700224      18.048186   \n",
       "50%       349.000000      20.869253      19.902826      19.453564   \n",
       "75%       526.000000      22.155843      21.146616      20.514075   \n",
       "max      1000.000000      38.142419      39.411617      37.348717   \n",
       "\n",
       "            psfMag_i       psfMag_z     fiberMag_u     fiberMag_g  \\\n",
       "count  199628.000000  199628.000000  199628.000000  199628.000000   \n",
       "mean       18.870895      18.611078      21.170523      20.089204   \n",
       "std         1.622303       1.678630       1.965511       1.841122   \n",
       "min        -6.406284       1.762241     -10.838092      -8.294703   \n",
       "25%        17.746876      17.424860      19.941032      18.903275   \n",
       "50%        19.042466      18.609989      21.048078      20.068673   \n",
       "75%        20.072422      19.882411      22.335305      21.384493   \n",
       "max        34.963620      32.130146      39.182814      37.745406   \n",
       "\n",
       "          fiberMag_r     fiberMag_i     fiberMag_z     petroMag_u  \\\n",
       "count  199628.000000  199628.000000  199628.000000  199628.000000   \n",
       "mean       19.505105      19.087210      18.828255      20.704087   \n",
       "std         1.703609       1.624830       1.676144       2.357206   \n",
       "min        11.795394      10.646672       8.049850     -18.750419   \n",
       "25%        18.259596      17.904522      17.606784      19.248338   \n",
       "50%        19.632065      19.189730      18.711210      20.365782   \n",
       "75%        20.773867      20.332052      20.133502      21.792790   \n",
       "max        30.160957      32.171369      36.498179      39.979165   \n",
       "\n",
       "          petroMag_g     petroMag_r     petroMag_i     petroMag_z  \\\n",
       "count  199628.000000  199628.000000  199628.000000  199628.000000   \n",
       "mean       19.597613      19.006255      18.603519      18.390767   \n",
       "std         2.054633       1.927493       1.870967       2.007038   \n",
       "min       -18.969308     -19.989825     -15.223252     -17.035990   \n",
       "25%        18.114027      17.480567      17.051256      16.805130   \n",
       "50%        19.584974      19.182760      18.694139      18.173448   \n",
       "75%        21.001517      20.456134      20.018369      19.806288   \n",
       "max        39.969025      39.977525      39.237553      39.794471   \n",
       "\n",
       "          modelMag_u     modelMag_g     modelMag_r     modelMag_i  \\\n",
       "count  199628.000000  199628.000000  199628.000000  199628.000000   \n",
       "mean       20.728641      19.528982      18.939000      18.519929   \n",
       "std         2.182877       1.955100       1.858653       1.794436   \n",
       "min         3.444448      12.498143      10.286917      11.337467   \n",
       "25%        19.265055      18.075231      17.422828      16.977476   \n",
       "50%        20.404240      19.545558      19.142608      18.641789   \n",
       "75%        21.987570      20.959655      20.407032      19.968273   \n",
       "max        39.238248      39.129788      33.666494      32.740051   \n",
       "\n",
       "          modelMag_z  \n",
       "count  199628.000000  \n",
       "mean       18.275409  \n",
       "std         1.861080  \n",
       "min        10.977328  \n",
       "25%        16.704970  \n",
       "50%        18.099917  \n",
       "75%        19.818616  \n",
       "max        34.930633  "
      ]
     },
     "execution_count": 18,
     "metadata": {},
     "output_type": "execute_result"
    }
   ],
   "source": [
    "train_df.describe()"
   ]
  },
  {
   "cell_type": "code",
   "execution_count": 19,
   "metadata": {
    "ExecuteTime": {
     "end_time": "2020-02-22T15:40:49.897000Z",
     "start_time": "2020-02-22T15:40:49.892000Z"
    }
   },
   "outputs": [
    {
     "data": {
      "text/plain": [
       "Index(['type', 'fiberID', 'psfMag_u', 'psfMag_g', 'psfMag_r', 'psfMag_i',\n",
       "       'psfMag_z', 'fiberMag_u', 'fiberMag_g', 'fiberMag_r', 'fiberMag_i',\n",
       "       'fiberMag_z', 'petroMag_u', 'petroMag_g', 'petroMag_r', 'petroMag_i',\n",
       "       'petroMag_z', 'modelMag_u', 'modelMag_g', 'modelMag_r', 'modelMag_i',\n",
       "       'modelMag_z'],\n",
       "      dtype='object')"
      ]
     },
     "execution_count": 19,
     "metadata": {},
     "output_type": "execute_result"
    }
   ],
   "source": [
    "train_df.columns"
   ]
  },
  {
   "cell_type": "markdown",
   "metadata": {},
   "source": [
    "## DATA Setting"
   ]
  },
  {
   "cell_type": "code",
   "execution_count": 20,
   "metadata": {
    "ExecuteTime": {
     "end_time": "2020-02-22T15:40:50.057000Z",
     "start_time": "2020-02-22T15:40:49.977000Z"
    }
   },
   "outputs": [],
   "source": [
    "column_number = {}\n",
    "number_columns = {}\n",
    "for i, column in enumerate(sample_submission_df.columns):\n",
    "    column_number[column] = i\n",
    "    number_columns[i] = column\n",
    "    \n",
    "    \n",
    "def to_number(x, dic):\n",
    "    return dic[x]\n",
    "\n",
    "train_df['type_num'] = train_df['type'].apply(lambda x: to_number(x, column_number))\n"
   ]
  },
  {
   "cell_type": "code",
   "execution_count": 21,
   "metadata": {
    "ExecuteTime": {
     "end_time": "2020-02-22T15:40:50.141000Z",
     "start_time": "2020-02-22T15:40:50.135000Z"
    }
   },
   "outputs": [],
   "source": [
    "def add_minus_feature_all(data,test = False):\n",
    "    from itertools import combinations\n",
    "    n = 0\n",
    "    for count in range(5,21,5):\n",
    "        s = 2\n",
    "        if test == True :\n",
    "            s = 1\n",
    "        selected = data.columns[s:].values[n:count]\n",
    "        mag = str.split(selected[0],'_')[0]\n",
    "        for combi in list(combinations(selected,2)):\n",
    "            name_1st = str.split(combi[0],'_')[1]\n",
    "            name_2nd = str.split(combi[1],'_')[1]\n",
    "            data[mag+\"_\"+name_1st+\"-\"+name_2nd] = data[combi[0]]-data[combi[1]]\n",
    "        n=count\n",
    "    return data"
   ]
  },
  {
   "cell_type": "code",
   "execution_count": 22,
   "metadata": {
    "ExecuteTime": {
     "end_time": "2020-02-22T15:40:50.229000Z",
     "start_time": "2020-02-22T15:40:50.222000Z"
    }
   },
   "outputs": [],
   "source": [
    "def add_minus_feature(data,test = False):\n",
    "    '''\n",
    "    근접변수에 대해서만 컬럼생성 ex) 'fiberMag_u-g', 'fiberMag_g-r', 'fiberMag_r-i', 'fiberMag_i-z'\n",
    "    각 mag에서 가장 높은값의 filter를 받아오는 \"~~mag_MAX\"생성\n",
    "    결과 38개로 증가 \n",
    "    '''\n",
    "    from itertools import combinations\n",
    "    n = 0\n",
    "    m = 0\n",
    "    for count in range(5,21,5):\n",
    "        s = 2\n",
    "        if test == True :\n",
    "            s = 1\n",
    "        selected = data.columns[s:].values[n:count]\n",
    "        mag = str.split(selected[0],'_')[0]\n",
    "        data[mag+\"_MAX\"] = data[selected].apply(lambda x : str.split(np.argmax(x),'_')[1],axis = 1)\n",
    "        for i in range(0,len(selected)):        \n",
    "            if i>0: \n",
    "                name_1st = str.split(m,'_')[1]\n",
    "                name_2nd = str.split(selected[i],'_')[1]\n",
    "                data[mag+\"_\"+name_1st+\"-\"+name_2nd] = data[m]-data[selected[i]]\n",
    "            m = selected[i]    \n",
    "        n=count\n",
    "    return data"
   ]
  },
  {
   "cell_type": "code",
   "execution_count": null,
   "metadata": {
    "ExecuteTime": {
     "start_time": "2020-02-22T15:40:49.700Z"
    }
   },
   "outputs": [],
   "source": [
    "train_df = add_minus_feature(train_df)\n",
    "test_df = add_minus_feature(test_df,True)"
   ]
  },
  {
   "cell_type": "code",
   "execution_count": null,
   "metadata": {
    "ExecuteTime": {
     "start_time": "2020-02-22T15:40:50.092Z"
    }
   },
   "outputs": [],
   "source": [
    "# train_df.drop(columns=['psfMag_u', 'psfMag_g', 'psfMag_r', 'psfMag_i',\n",
    "#        'psfMag_z', 'fiberMag_u', 'fiberMag_g', 'fiberMag_r', 'fiberMag_i',\n",
    "#        'fiberMag_z', 'petroMag_u', 'petroMag_g', 'petroMag_r', 'petroMag_i',\n",
    "#        'petroMag_z', 'modelMag_u', 'modelMag_g', 'modelMag_r', 'modelMag_i',\n",
    "#        'modelMag_z'], inplace=True)\n",
    "\n",
    "# test_df.drop(columns=['psfMag_u', 'psfMag_g', 'psfMag_r', 'psfMag_i',\n",
    "#        'psfMag_z', 'fiberMag_u', 'fiberMag_g', 'fiberMag_r', 'fiberMag_i',\n",
    "#        'fiberMag_z', 'petroMag_u', 'petroMag_g', 'petroMag_r', 'petroMag_i',\n",
    "#        'petroMag_z', 'modelMag_u', 'modelMag_g', 'modelMag_r', 'modelMag_i',\n",
    "#        'modelMag_z'], inplace=True)"
   ]
  },
  {
   "cell_type": "code",
   "execution_count": null,
   "metadata": {
    "ExecuteTime": {
     "start_time": "2020-02-22T15:40:50.572Z"
    }
   },
   "outputs": [],
   "source": [
    "train_X = train_df.drop(columns=['type', 'type_num', 'fiberID'], axis=1)\n",
    "train_y = train_df['type_num']\n",
    "test_X = test_df.drop(columns=['fiberID'], axis=1)"
   ]
  },
  {
   "cell_type": "code",
   "execution_count": null,
   "metadata": {
    "ExecuteTime": {
     "start_time": "2020-02-22T15:40:53.533Z"
    },
    "scrolled": true
   },
   "outputs": [],
   "source": [
    "train_X.head()"
   ]
  },
  {
   "cell_type": "code",
   "execution_count": null,
   "metadata": {
    "ExecuteTime": {
     "start_time": "2020-02-22T15:40:54.467Z"
    },
    "scrolled": true
   },
   "outputs": [],
   "source": [
    "train_X.columns"
   ]
  },
  {
   "cell_type": "code",
   "execution_count": null,
   "metadata": {
    "ExecuteTime": {
     "start_time": "2020-02-22T15:40:55.090Z"
    }
   },
   "outputs": [],
   "source": [
    "# ## u-g, g-r, r-i, i-z 만 남기는게 좋지 않을까????\n",
    "# train_X.drop(['psfMag_u-r','psfMag_u-i','psfMag_u-z','psfMag_g-i','psfMag_g-z','psfMag_r-z',\n",
    "#              'fiberMag_u-r','fiberMag_u-i','fiberMag_u-z','fiberMag_g-i','fiberMag_g-z','fiberMag_r-z',\n",
    "#              'petroMag_u-r','petroMag_u-i','petroMag_u-z','petroMag_g-i','petroMag_g-z','petroMag_r-z',\n",
    "#              'modelMag_u-r','modelMag_u-i','modelMag_u-z','modelMag_g-i','modelMag_g-z','modelMag_r-z'] ,axis=1, inplace=True)\n",
    "\n",
    "# test_X.drop(['psfMag_u-r','psfMag_u-i','psfMag_u-z','psfMag_g-i','psfMag_g-z','psfMag_r-z',\n",
    "#              'fiberMag_u-r','fiberMag_u-i','fiberMag_u-z','fiberMag_g-i','fiberMag_g-z','fiberMag_r-z',\n",
    "#              'petroMag_u-r','petroMag_u-i','petroMag_u-z','petroMag_g-i','petroMag_g-z','petroMag_r-z',\n",
    "#              'modelMag_u-r','modelMag_u-i','modelMag_u-z','modelMag_g-i','modelMag_g-z','modelMag_r-z'] ,axis=1, inplace=True)"
   ]
  },
  {
   "cell_type": "code",
   "execution_count": 46,
   "metadata": {
    "ExecuteTime": {
     "end_time": "2020-02-19T17:03:32.194000Z",
     "start_time": "2020-02-19T17:03:32.016000Z"
    }
   },
   "outputs": [],
   "source": [
    "X_train, X_test, y_train, y_test = train_test_split(train_X, train_y, test_size=0.4, random_state=1059,stratify = train_y)"
   ]
  },
  {
   "cell_type": "code",
   "execution_count": 47,
   "metadata": {
    "ExecuteTime": {
     "end_time": "2020-02-19T17:03:32.435000Z",
     "start_time": "2020-02-19T17:03:32.429000Z"
    }
   },
   "outputs": [],
   "source": [
    "#3번 0219 \n",
    "train_ds = lgb.Dataset(X_train, label = y_train)\n",
    "test_ds = lgb.Dataset(X_test, label = y_test) \n",
    "\n",
    "params = {\n",
    "    'boosting_type': 'dart',\n",
    "    'objective': 'multiclass',\n",
    "    'num_class': train_y.nunique(),\n",
    "    'metric': {'multi_logloss','multi_logloss'},\n",
    "    'class_weight': None, \n",
    "    'colsample_bytree': 1.0,\n",
    "    'learning_rate': 0.01,\n",
    "    'max_depth': 11,\n",
    "    'min_child_samples': 20,\n",
    "    'min_child_weight': 0.001,\n",
    "    'min_split_gain': 0.0,\n",
    "    'n_jobs': -1,\n",
    "    'num_leaves': 21, \n",
    "    'random_state': 1059,\n",
    "    'reg_alpha': 0.0,\n",
    "    'reg_lambda': 0.0,\n",
    "    'subsample': 1.0, \n",
    "    'subsample_for_bin': 200000,\n",
    "    'subsample_freq': 0,\n",
    "}"
   ]
  },
  {
   "cell_type": "markdown",
   "metadata": {},
   "source": [
    "## Modeling"
   ]
  },
  {
   "cell_type": "code",
   "execution_count": 55,
   "metadata": {
    "ExecuteTime": {
     "end_time": "2020-02-20T04:26:58.785000Z",
     "start_time": "2020-02-20T01:43:20.106000Z"
    },
    "scrolled": true
   },
   "outputs": [
    {
     "name": "stderr",
     "output_type": "stream",
     "text": [
      "G:\\Anaconda3\\lib\\site-packages\\lightgbm\\callback.py:188: UserWarning: Early stopping is not available in dart mode\n",
      "  warnings.warn('Early stopping is not available in dart mode')\n"
     ]
    },
    {
     "name": "stdout",
     "output_type": "stream",
     "text": [
      "[50]\tTrain's multi_logloss: 1.69228\tTest's multi_logloss: 1.69946\n",
      "[100]\tTrain's multi_logloss: 1.66652\tTest's multi_logloss: 1.674\n",
      "[150]\tTrain's multi_logloss: 1.54075\tTest's multi_logloss: 1.54924\n",
      "[200]\tTrain's multi_logloss: 1.45616\tTest's multi_logloss: 1.4655\n",
      "[250]\tTrain's multi_logloss: 1.3247\tTest's multi_logloss: 1.33511\n",
      "[300]\tTrain's multi_logloss: 1.28191\tTest's multi_logloss: 1.29286\n",
      "[350]\tTrain's multi_logloss: 1.18931\tTest's multi_logloss: 1.20107\n",
      "[400]\tTrain's multi_logloss: 1.10986\tTest's multi_logloss: 1.1224\n",
      "[450]\tTrain's multi_logloss: 1.10757\tTest's multi_logloss: 1.12018\n",
      "[500]\tTrain's multi_logloss: 1.00782\tTest's multi_logloss: 1.0216\n",
      "[550]\tTrain's multi_logloss: 0.971036\tTest's multi_logloss: 0.985298\n",
      "[600]\tTrain's multi_logloss: 0.979179\tTest's multi_logloss: 0.993393\n",
      "[650]\tTrain's multi_logloss: 0.905774\tTest's multi_logloss: 0.92086\n",
      "[700]\tTrain's multi_logloss: 0.861625\tTest's multi_logloss: 0.877376\n",
      "[750]\tTrain's multi_logloss: 0.83203\tTest's multi_logloss: 0.848378\n",
      "[800]\tTrain's multi_logloss: 0.745761\tTest's multi_logloss: 0.763535\n",
      "[850]\tTrain's multi_logloss: 0.708399\tTest's multi_logloss: 0.727073\n",
      "[900]\tTrain's multi_logloss: 0.666546\tTest's multi_logloss: 0.686196\n",
      "[950]\tTrain's multi_logloss: 0.642935\tTest's multi_logloss: 0.663192\n",
      "[1000]\tTrain's multi_logloss: 0.620294\tTest's multi_logloss: 0.641144\n",
      "[1050]\tTrain's multi_logloss: 0.605516\tTest's multi_logloss: 0.626836\n",
      "[1100]\tTrain's multi_logloss: 0.592418\tTest's multi_logloss: 0.614262\n",
      "[1150]\tTrain's multi_logloss: 0.561715\tTest's multi_logloss: 0.584496\n",
      "[1200]\tTrain's multi_logloss: 0.545309\tTest's multi_logloss: 0.568735\n",
      "[1250]\tTrain's multi_logloss: 0.529842\tTest's multi_logloss: 0.553895\n",
      "[1300]\tTrain's multi_logloss: 0.503177\tTest's multi_logloss: 0.52838\n",
      "[1350]\tTrain's multi_logloss: 0.494706\tTest's multi_logloss: 0.520492\n",
      "[1400]\tTrain's multi_logloss: 0.484301\tTest's multi_logloss: 0.510705\n",
      "[1450]\tTrain's multi_logloss: 0.465943\tTest's multi_logloss: 0.49338\n",
      "[1500]\tTrain's multi_logloss: 0.44798\tTest's multi_logloss: 0.476621\n",
      "[1550]\tTrain's multi_logloss: 0.439628\tTest's multi_logloss: 0.468984\n",
      "[1600]\tTrain's multi_logloss: 0.428537\tTest's multi_logloss: 0.458862\n",
      "[1650]\tTrain's multi_logloss: 0.425441\tTest's multi_logloss: 0.456267\n",
      "[1700]\tTrain's multi_logloss: 0.41753\tTest's multi_logloss: 0.44917\n",
      "[1750]\tTrain's multi_logloss: 0.410934\tTest's multi_logloss: 0.443362\n",
      "[1800]\tTrain's multi_logloss: 0.401535\tTest's multi_logloss: 0.435077\n",
      "[1850]\tTrain's multi_logloss: 0.395394\tTest's multi_logloss: 0.429736\n",
      "[1900]\tTrain's multi_logloss: 0.387843\tTest's multi_logloss: 0.423183\n",
      "[1950]\tTrain's multi_logloss: 0.382328\tTest's multi_logloss: 0.418521\n",
      "[2000]\tTrain's multi_logloss: 0.376638\tTest's multi_logloss: 0.413749\n",
      "[2050]\tTrain's multi_logloss: 0.372172\tTest's multi_logloss: 0.410142\n",
      "[2100]\tTrain's multi_logloss: 0.366253\tTest's multi_logloss: 0.40532\n",
      "[2150]\tTrain's multi_logloss: 0.363125\tTest's multi_logloss: 0.402931\n",
      "[2200]\tTrain's multi_logloss: 0.362062\tTest's multi_logloss: 0.40228\n",
      "[2250]\tTrain's multi_logloss: 0.357557\tTest's multi_logloss: 0.398813\n",
      "[2300]\tTrain's multi_logloss: 0.354295\tTest's multi_logloss: 0.396426\n",
      "[2350]\tTrain's multi_logloss: 0.352858\tTest's multi_logloss: 0.395534\n",
      "[2400]\tTrain's multi_logloss: 0.349201\tTest's multi_logloss: 0.392829\n",
      "[2450]\tTrain's multi_logloss: 0.347013\tTest's multi_logloss: 0.391329\n",
      "[2500]\tTrain's multi_logloss: 0.345006\tTest's multi_logloss: 0.390058\n",
      "[2550]\tTrain's multi_logloss: 0.340562\tTest's multi_logloss: 0.386925\n",
      "[2600]\tTrain's multi_logloss: 0.336481\tTest's multi_logloss: 0.384271\n",
      "[2650]\tTrain's multi_logloss: 0.334809\tTest's multi_logloss: 0.383355\n",
      "[2700]\tTrain's multi_logloss: 0.332664\tTest's multi_logloss: 0.382053\n",
      "[2750]\tTrain's multi_logloss: 0.330887\tTest's multi_logloss: 0.381084\n",
      "[2800]\tTrain's multi_logloss: 0.327616\tTest's multi_logloss: 0.379117\n",
      "[2850]\tTrain's multi_logloss: 0.325759\tTest's multi_logloss: 0.378228\n",
      "[2900]\tTrain's multi_logloss: 0.323857\tTest's multi_logloss: 0.377281\n",
      "[2950]\tTrain's multi_logloss: 0.322618\tTest's multi_logloss: 0.376751\n",
      "[3000]\tTrain's multi_logloss: 0.321963\tTest's multi_logloss: 0.376612\n",
      "[3050]\tTrain's multi_logloss: 0.319275\tTest's multi_logloss: 0.375162\n",
      "[3100]\tTrain's multi_logloss: 0.316998\tTest's multi_logloss: 0.374\n",
      "[3150]\tTrain's multi_logloss: 0.315527\tTest's multi_logloss: 0.373352\n",
      "[3200]\tTrain's multi_logloss: 0.314169\tTest's multi_logloss: 0.37277\n",
      "[3250]\tTrain's multi_logloss: 0.311778\tTest's multi_logloss: 0.37163\n",
      "[3300]\tTrain's multi_logloss: 0.311234\tTest's multi_logloss: 0.371565\n",
      "[3350]\tTrain's multi_logloss: 0.310824\tTest's multi_logloss: 0.371575\n",
      "[3400]\tTrain's multi_logloss: 0.309976\tTest's multi_logloss: 0.371321\n",
      "[3450]\tTrain's multi_logloss: 0.308694\tTest's multi_logloss: 0.37081\n",
      "[3500]\tTrain's multi_logloss: 0.306743\tTest's multi_logloss: 0.369925\n",
      "[3550]\tTrain's multi_logloss: 0.305065\tTest's multi_logloss: 0.369218\n",
      "[3600]\tTrain's multi_logloss: 0.304018\tTest's multi_logloss: 0.368862\n",
      "[3650]\tTrain's multi_logloss: 0.303266\tTest's multi_logloss: 0.368655\n",
      "[3700]\tTrain's multi_logloss: 0.301915\tTest's multi_logloss: 0.368155\n",
      "[3750]\tTrain's multi_logloss: 0.301148\tTest's multi_logloss: 0.367934\n",
      "[3800]\tTrain's multi_logloss: 0.30039\tTest's multi_logloss: 0.367747\n",
      "[3850]\tTrain's multi_logloss: 0.298343\tTest's multi_logloss: 0.36695\n",
      "[3900]\tTrain's multi_logloss: 0.297376\tTest's multi_logloss: 0.366709\n",
      "[3950]\tTrain's multi_logloss: 0.296504\tTest's multi_logloss: 0.366511\n",
      "[4000]\tTrain's multi_logloss: 0.295045\tTest's multi_logloss: 0.366061\n",
      "[4050]\tTrain's multi_logloss: 0.293562\tTest's multi_logloss: 0.36558\n",
      "[4100]\tTrain's multi_logloss: 0.292951\tTest's multi_logloss: 0.36553\n",
      "[4150]\tTrain's multi_logloss: 0.291577\tTest's multi_logloss: 0.365196\n",
      "[4200]\tTrain's multi_logloss: 0.290411\tTest's multi_logloss: 0.364918\n",
      "[4250]\tTrain's multi_logloss: 0.289571\tTest's multi_logloss: 0.364783\n",
      "[4300]\tTrain's multi_logloss: 0.28782\tTest's multi_logloss: 0.364278\n",
      "[4350]\tTrain's multi_logloss: 0.287145\tTest's multi_logloss: 0.36421\n",
      "[4400]\tTrain's multi_logloss: 0.28618\tTest's multi_logloss: 0.364032\n",
      "[4450]\tTrain's multi_logloss: 0.285885\tTest's multi_logloss: 0.364125\n",
      "[4500]\tTrain's multi_logloss: 0.284909\tTest's multi_logloss: 0.36394\n",
      "[4550]\tTrain's multi_logloss: 0.284543\tTest's multi_logloss: 0.363995\n",
      "[4600]\tTrain's multi_logloss: 0.283566\tTest's multi_logloss: 0.363793\n",
      "[4650]\tTrain's multi_logloss: 0.283075\tTest's multi_logloss: 0.363789\n",
      "[4700]\tTrain's multi_logloss: 0.281665\tTest's multi_logloss: 0.363472\n",
      "[4750]\tTrain's multi_logloss: 0.280556\tTest's multi_logloss: 0.363274\n",
      "[4800]\tTrain's multi_logloss: 0.279468\tTest's multi_logloss: 0.363115\n",
      "[4850]\tTrain's multi_logloss: 0.278292\tTest's multi_logloss: 0.362902\n",
      "[4900]\tTrain's multi_logloss: 0.277465\tTest's multi_logloss: 0.362791\n",
      "[4950]\tTrain's multi_logloss: 0.277097\tTest's multi_logloss: 0.362857\n",
      "[5000]\tTrain's multi_logloss: 0.276271\tTest's multi_logloss: 0.362766\n",
      "[5050]\tTrain's multi_logloss: 0.275907\tTest's multi_logloss: 0.362811\n",
      "[5100]\tTrain's multi_logloss: 0.275312\tTest's multi_logloss: 0.362782\n",
      "[5150]\tTrain's multi_logloss: 0.274079\tTest's multi_logloss: 0.362528\n",
      "[5200]\tTrain's multi_logloss: 0.273025\tTest's multi_logloss: 0.362363\n",
      "[5250]\tTrain's multi_logloss: 0.272488\tTest's multi_logloss: 0.362357\n",
      "[5300]\tTrain's multi_logloss: 0.271446\tTest's multi_logloss: 0.362189\n",
      "[5350]\tTrain's multi_logloss: 0.270702\tTest's multi_logloss: 0.362114\n",
      "[5400]\tTrain's multi_logloss: 0.270191\tTest's multi_logloss: 0.362118\n",
      "[5450]\tTrain's multi_logloss: 0.269181\tTest's multi_logloss: 0.361965\n",
      "[5500]\tTrain's multi_logloss: 0.267971\tTest's multi_logloss: 0.361725\n",
      "[5550]\tTrain's multi_logloss: 0.26725\tTest's multi_logloss: 0.361659\n",
      "[5600]\tTrain's multi_logloss: 0.266471\tTest's multi_logloss: 0.361609\n",
      "[5650]\tTrain's multi_logloss: 0.26558\tTest's multi_logloss: 0.361542\n",
      "[5700]\tTrain's multi_logloss: 0.265243\tTest's multi_logloss: 0.361612\n",
      "[5750]\tTrain's multi_logloss: 0.264383\tTest's multi_logloss: 0.361558\n",
      "[5800]\tTrain's multi_logloss: 0.263443\tTest's multi_logloss: 0.361455\n",
      "[5850]\tTrain's multi_logloss: 0.262739\tTest's multi_logloss: 0.361424\n",
      "[5900]\tTrain's multi_logloss: 0.261329\tTest's multi_logloss: 0.361226\n",
      "[5950]\tTrain's multi_logloss: 0.2605\tTest's multi_logloss: 0.361154\n"
     ]
    },
    {
     "name": "stdout",
     "output_type": "stream",
     "text": [
      "[6000]\tTrain's multi_logloss: 0.259676\tTest's multi_logloss: 0.361097\n",
      "[6050]\tTrain's multi_logloss: 0.259124\tTest's multi_logloss: 0.361088\n",
      "[6100]\tTrain's multi_logloss: 0.258284\tTest's multi_logloss: 0.361025\n",
      "[6150]\tTrain's multi_logloss: 0.257338\tTest's multi_logloss: 0.360962\n",
      "[6200]\tTrain's multi_logloss: 0.256648\tTest's multi_logloss: 0.360938\n",
      "[6250]\tTrain's multi_logloss: 0.255698\tTest's multi_logloss: 0.360878\n",
      "[6300]\tTrain's multi_logloss: 0.254888\tTest's multi_logloss: 0.36082\n",
      "[6350]\tTrain's multi_logloss: 0.253908\tTest's multi_logloss: 0.360787\n",
      "[6400]\tTrain's multi_logloss: 0.252721\tTest's multi_logloss: 0.360712\n",
      "[6450]\tTrain's multi_logloss: 0.251939\tTest's multi_logloss: 0.360709\n",
      "[6500]\tTrain's multi_logloss: 0.251081\tTest's multi_logloss: 0.360703\n",
      "[6550]\tTrain's multi_logloss: 0.250653\tTest's multi_logloss: 0.360731\n",
      "[6600]\tTrain's multi_logloss: 0.249663\tTest's multi_logloss: 0.360691\n",
      "[6650]\tTrain's multi_logloss: 0.248886\tTest's multi_logloss: 0.360694\n",
      "[6700]\tTrain's multi_logloss: 0.24803\tTest's multi_logloss: 0.360657\n",
      "[6750]\tTrain's multi_logloss: 0.24751\tTest's multi_logloss: 0.360669\n",
      "[6800]\tTrain's multi_logloss: 0.246485\tTest's multi_logloss: 0.360647\n",
      "[6850]\tTrain's multi_logloss: 0.245501\tTest's multi_logloss: 0.36062\n",
      "[6900]\tTrain's multi_logloss: 0.244712\tTest's multi_logloss: 0.360629\n",
      "[6950]\tTrain's multi_logloss: 0.243951\tTest's multi_logloss: 0.360616\n",
      "[7000]\tTrain's multi_logloss: 0.242947\tTest's multi_logloss: 0.360606\n"
     ]
    }
   ],
   "source": [
    "evaluation_results = {}\n",
    "lgmb_model = lgb.train(params, train_ds,num_boost_round= 7000, \n",
    "                       valid_sets = [train_ds,test_ds], valid_names=['Train', 'Test'],\n",
    "                       evals_result=evaluation_results,\n",
    "                       verbose_eval=50, early_stopping_rounds=100)"
   ]
  },
  {
   "cell_type": "code",
   "execution_count": 56,
   "metadata": {
    "ExecuteTime": {
     "end_time": "2020-02-20T04:26:59.332000Z",
     "start_time": "2020-02-20T04:26:59.020000Z"
    }
   },
   "outputs": [
    {
     "data": {
      "image/png": "[encoded data removed]",
      "text/plain": [
       "<Figure size 1080x288 with 2 Axes>"
      ]
     },
     "metadata": {
      "needs_background": "light"
     },
     "output_type": "display_data"
    }
   ],
   "source": [
    "fig, axs = plt.subplots(1, 2, figsize=[15, 4])\n",
    "\n",
    "# Plot the log loss during training\n",
    "axs[0].plot(evaluation_results['Train']['multi_logloss'], label='Train')\n",
    "axs[0].plot(evaluation_results['Test']['multi_logloss'], label='Test')\n",
    "axs[0].set_ylabel('Log loss')\n",
    "axs[0].set_xlabel('Boosting round')\n",
    "axs[0].set_title('Training performance')\n",
    "axs[0].legend()\n",
    "\n",
    "# Plot feature importance\n",
    "importances = pd.DataFrame({'features': lgmb_model.feature_name(), \n",
    "                            'importance': lgmb_model.feature_importance()}).sort_values('importance', ascending=False).head(10)\n",
    "axs[1].bar(x=np.arange(len(importances)), height=importances['importance'])\n",
    "axs[1].set_xticks(np.arange(len(importances)))\n",
    "axs[1].set_xticklabels(importances['features'])\n",
    "axs[1].set_ylabel('Feature importance (# times used to split)')\n",
    "axs[1].set_title('Feature importance')\n",
    "plt.xticks(rotation=45)\n",
    "\n",
    "plt.show()"
   ]
  },
  {
   "cell_type": "code",
   "execution_count": 57,
   "metadata": {
    "ExecuteTime": {
     "end_time": "2020-02-20T04:34:31.971000Z",
     "start_time": "2020-02-20T04:26:59.560000Z"
    }
   },
   "outputs": [],
   "source": [
    "train_y_pred = lgmb_model.predict(X_test)\n",
    "real_y_pred = lgmb_model.predict(test_X)"
   ]
  },
  {
   "cell_type": "code",
   "execution_count": 58,
   "metadata": {
    "ExecuteTime": {
     "end_time": "2020-02-20T04:34:32.331000Z",
     "start_time": "2020-02-20T04:34:32.238000Z"
    },
    "scrolled": true
   },
   "outputs": [
    {
     "data": {
      "text/plain": [
       "0.3606064836223701"
      ]
     },
     "execution_count": 58,
     "metadata": {},
     "output_type": "execute_result"
    }
   ],
   "source": [
    "#log_loss\n",
    "log_loss(y_test,train_y_pred,labels= list(set(y_test)))"
   ]
  },
  {
   "cell_type": "code",
   "execution_count": 59,
   "metadata": {
    "ExecuteTime": {
     "end_time": "2020-02-20T04:34:32.720000Z",
     "start_time": "2020-02-20T04:34:32.675000Z"
    },
    "scrolled": false
   },
   "outputs": [
    {
     "data": {
      "text/html": [
       "<div>\n",
       "<style scoped>\n",
       "    .dataframe tbody tr th:only-of-type {\n",
       "        vertical-align: middle;\n",
       "    }\n",
       "\n",
       "    .dataframe tbody tr th {\n",
       "        vertical-align: top;\n",
       "    }\n",
       "\n",
       "    .dataframe thead th {\n",
       "        text-align: right;\n",
       "    }\n",
       "</style>\n",
       "<table border=\"1\" class=\"dataframe\">\n",
       "  <thead>\n",
       "    <tr style=\"text-align: right;\">\n",
       "      <th></th>\n",
       "      <th>importance</th>\n",
       "    </tr>\n",
       "  </thead>\n",
       "  <tbody>\n",
       "    <tr>\n",
       "      <td>modelMag_g-r</td>\n",
       "      <td>126242</td>\n",
       "    </tr>\n",
       "    <tr>\n",
       "      <td>modelMag_r-i</td>\n",
       "      <td>116736</td>\n",
       "    </tr>\n",
       "    <tr>\n",
       "      <td>fiberMag_r-i</td>\n",
       "      <td>116610</td>\n",
       "    </tr>\n",
       "    <tr>\n",
       "      <td>modelMag_i-z</td>\n",
       "      <td>108893</td>\n",
       "    </tr>\n",
       "    <tr>\n",
       "      <td>fiberMag_g-r</td>\n",
       "      <td>107108</td>\n",
       "    </tr>\n",
       "    <tr>\n",
       "      <td>psfMag_g-r</td>\n",
       "      <td>106386</td>\n",
       "    </tr>\n",
       "    <tr>\n",
       "      <td>modelMag_u-g</td>\n",
       "      <td>102138</td>\n",
       "    </tr>\n",
       "    <tr>\n",
       "      <td>psfMag_u-g</td>\n",
       "      <td>99026</td>\n",
       "    </tr>\n",
       "    <tr>\n",
       "      <td>fiberMag_u-g</td>\n",
       "      <td>86616</td>\n",
       "    </tr>\n",
       "    <tr>\n",
       "      <td>psfMag_r</td>\n",
       "      <td>85577</td>\n",
       "    </tr>\n",
       "  </tbody>\n",
       "</table>\n",
       "</div>"
      ],
      "text/plain": [
       "              importance\n",
       "modelMag_g-r      126242\n",
       "modelMag_r-i      116736\n",
       "fiberMag_r-i      116610\n",
       "modelMag_i-z      108893\n",
       "fiberMag_g-r      107108\n",
       "psfMag_g-r        106386\n",
       "modelMag_u-g      102138\n",
       "psfMag_u-g         99026\n",
       "fiberMag_u-g       86616\n",
       "psfMag_r           85577"
      ]
     },
     "execution_count": 59,
     "metadata": {},
     "output_type": "execute_result"
    }
   ],
   "source": [
    "feature_df = pd.DataFrame(lgmb_model.feature_importance(), index= train_X.columns,columns= ['importance']).sort_values('importance',ascending = False)\n",
    "feature_df.head(10)"
   ]
  },
  {
   "cell_type": "code",
   "execution_count": 60,
   "metadata": {
    "ExecuteTime": {
     "end_time": "2020-02-20T04:34:33.348000Z",
     "start_time": "2020-02-20T04:34:32.949000Z"
    }
   },
   "outputs": [],
   "source": [
    "submission = pd.DataFrame(data=real_y_pred, columns=sample_submission_df.columns, index=sample_submission_df.index)\n",
    "submission.to_csv(f'submission_lightbgm_gbdt_tune_outlier_add_only({log_loss(y_test,train_y_pred,labels= list(set(y_test)))}).csv', index=True)"
   ]
  },
  {
   "cell_type": "markdown",
   "metadata": {},
   "source": [
    "## Gridsearch_cv"
   ]
  },
  {
   "cell_type": "code",
   "execution_count": null,
   "metadata": {
    "ExecuteTime": {
     "end_time": "2020-02-18T19:51:37.413000Z",
     "start_time": "2020-02-18T19:51:19.033Z"
    }
   },
   "outputs": [],
   "source": [
    "# from sklearn.feature_selection import SelectKBest\n",
    "# model_kbest = SelectKBest()\n",
    "# from sklearn.pipeline import Pipeline"
   ]
  },
  {
   "cell_type": "code",
   "execution_count": null,
   "metadata": {
    "ExecuteTime": {
     "end_time": "2020-02-18T19:51:37.414000Z",
     "start_time": "2020-02-18T19:51:19.034Z"
    }
   },
   "outputs": [],
   "source": [
    "# #최적의 변수를 찾기 위한 KBest 함수 불러오기\n",
    "# #파이프라인 구축\n",
    "# pipe_lgbm = Pipeline([('lgbm',lgbm_c)])\n",
    "# #파라미터 생성\n",
    "# params_lgbm = {\n",
    "#           \"lgbm__max_depth\": [15,20,25],\n",
    "#          \"lgbm__learning_rate\": [0.001],\n",
    "#          \"lgbm__num_leaves\": [15,20,25],\n",
    "#          \"lgbm__n_estimators\": [200,300,400,500],\n",
    "#          \"lgbm__random_state\": [42]}"
   ]
  },
  {
   "cell_type": "code",
   "execution_count": null,
   "metadata": {
    "ExecuteTime": {
     "end_time": "2020-02-18T19:51:37.415000Z",
     "start_time": "2020-02-18T19:51:19.036Z"
    }
   },
   "outputs": [],
   "source": [
    "# #최적의 파라미터 탐색\n",
    "# from sklearn.model_selection import GridSearchCV\n",
    "# grid_search = GridSearchCV(pipe_lgbm, param_grid = params_lgbm,\n",
    "# #                           cv=3, n_jobs=-1, verbose=10)"
   ]
  },
  {
   "cell_type": "code",
   "execution_count": null,
   "metadata": {
    "ExecuteTime": {
     "end_time": "2020-02-18T19:51:37.416000Z",
     "start_time": "2020-02-18T19:51:19.038Z"
    }
   },
   "outputs": [],
   "source": [
    "# grid_search.fit(X_train, y_train)"
   ]
  },
  {
   "cell_type": "code",
   "execution_count": null,
   "metadata": {
    "ExecuteTime": {
     "end_time": "2020-02-18T19:51:37.417000Z",
     "start_time": "2020-02-18T19:51:19.040Z"
    }
   },
   "outputs": [],
   "source": [
    "# lgbm_grid = grid_search.best_estimator_\n",
    "# lgbm_grid"
   ]
  },
  {
   "cell_type": "code",
   "execution_count": null,
   "metadata": {},
   "outputs": [],
   "source": []
  }
 ],
 "metadata": {
  "kernelspec": {
   "display_name": "Python 3",
   "language": "python",
   "name": "python3"
  },
  "language_info": {
   "codemirror_mode": {
    "name": "ipython",
    "version": 3
   },
   "file_extension": ".py",
   "mimetype": "text/x-python",
   "name": "python",
   "nbconvert_exporter": "python",
   "pygments_lexer": "ipython3",
   "version": "3.6.9"
  },
  "varInspector": {
   "cols": {
    "lenName": 16,
    "lenType": 16,
    "lenVar": 40
   },
   "kernels_config": {
    "python": {
     "delete_cmd_postfix": "",
     "delete_cmd_prefix": "del ",
     "library": "var_list.py",
     "varRefreshCmd": "print(var_dic_list())"
    },
    "r": {
     "delete_cmd_postfix": ") ",
     "delete_cmd_prefix": "rm(",
     "library": "var_list.r",
     "varRefreshCmd": "cat(var_dic_list()) "
    }
   },
   "types_to_exclude": [
    "module",
    "function",
    "builtin_function_or_method",
    "instance",
    "_Feature"
   ],
   "window_display": false
  }
 },
 "nbformat": 4,
 "nbformat_minor": 2
}
