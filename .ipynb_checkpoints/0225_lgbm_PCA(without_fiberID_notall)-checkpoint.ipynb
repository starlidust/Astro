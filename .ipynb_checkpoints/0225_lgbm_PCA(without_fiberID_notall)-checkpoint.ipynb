{
 "cells": [
  {
   "cell_type": "code",
   "execution_count": 1,
   "metadata": {
    "ExecuteTime": {
     "end_time": "2020-02-27T09:21:53.114311Z",
     "start_time": "2020-02-27T09:21:51.417364Z"
    }
   },
   "outputs": [],
   "source": [
    "import pandas as pd\n",
    "import numpy as np\n",
    "import matplotlib.pyplot as plt\n",
    "import seaborn as sns\n",
    "\n",
    "from sklearn.ensemble import RandomForestClassifier\n",
    "from sklearn.model_selection import train_test_split\n",
    "from sklearn.metrics import confusion_matrix\n",
    "from sklearn.metrics import log_loss\n",
    "import lightgbm as lgb"
   ]
  },
  {
   "cell_type": "code",
   "execution_count": 2,
   "metadata": {
    "ExecuteTime": {
     "end_time": "2020-02-27T09:21:53.123311Z",
     "start_time": "2020-02-27T09:21:53.120311Z"
    }
   },
   "outputs": [],
   "source": [
    "# from google.colab import drive\n",
    "# drive.mount('/content/drive')"
   ]
  },
  {
   "cell_type": "code",
   "execution_count": 3,
   "metadata": {
    "ExecuteTime": {
     "end_time": "2020-02-27T09:21:53.154310Z",
     "start_time": "2020-02-27T09:21:53.133311Z"
    }
   },
   "outputs": [],
   "source": [
    "# #colab용\n",
    "# import os\n",
    "# os.chdir('/content/drive/My Drive/Colab Notebooks/Dacon/천체관측/')"
   ]
  },
  {
   "cell_type": "code",
   "execution_count": 4,
   "metadata": {
    "ExecuteTime": {
     "end_time": "2020-02-27T09:21:54.952255Z",
     "start_time": "2020-02-27T09:21:53.162311Z"
    }
   },
   "outputs": [],
   "source": [
    "# path = \"/content/drive/My Drive/Colab Notebooks/Dacon/천체관측/data/\" #colab\n",
    "path = \"./data/\" #local\n",
    "train_df = pd.read_csv(path+'train.csv',index_col=0)\n",
    "test_df = pd.read_csv(path+'test.csv',index_col=0)\n",
    "sample_submission_df = pd.read_csv(path+'sample_submission.csv',index_col=0)\n",
    "pd.options.display.max_columns = 30"
   ]
  },
  {
   "cell_type": "code",
   "execution_count": 5,
   "metadata": {
    "ExecuteTime": {
     "end_time": "2020-02-27T09:21:55.028252Z",
     "start_time": "2020-02-27T09:21:55.019253Z"
    }
   },
   "outputs": [],
   "source": [
    "train_cols = list(train_df.columns)\n",
    "test_cols = list(test_df.columns)\n",
    "train_cols.remove('fiberID')\n",
    "test_cols.remove('fiberID')"
   ]
  },
  {
   "cell_type": "markdown",
   "metadata": {},
   "source": [
    "## DATA Setting"
   ]
  },
  {
   "cell_type": "code",
   "execution_count": 6,
   "metadata": {
    "ExecuteTime": {
     "end_time": "2020-02-27T09:21:55.202247Z",
     "start_time": "2020-02-27T09:21:55.101250Z"
    }
   },
   "outputs": [],
   "source": [
    "column_number = {}\n",
    "number_columns = {}\n",
    "for i, column in enumerate(sample_submission_df.columns):\n",
    "    column_number[column] = i\n",
    "    number_columns[i] = column\n",
    "    \n",
    "    \n",
    "def to_number(x, dic):\n",
    "    return dic[x]\n",
    "\n",
    "train_df['type_num'] = train_df['type'].apply(lambda x: to_number(x, column_number))\n"
   ]
  },
  {
   "cell_type": "code",
   "execution_count": 7,
   "metadata": {
    "ExecuteTime": {
     "end_time": "2020-02-27T09:21:55.284246Z",
     "start_time": "2020-02-27T09:21:55.278245Z"
    }
   },
   "outputs": [],
   "source": [
    "def add_minus_feature_all(data,test = False):\n",
    "    '''\n",
    "    combination으로 모든 변수들의 조합에 대해서 컬럼생성 \n",
    "    (추가옵션)각 mag에서 가장 높은값의 filter를 받아오는 \"~~mag_MAX\"생성\n",
    "    결과 64개로 증가\n",
    "    '''\n",
    "    from itertools import combinations\n",
    "    n = 0\n",
    "    for count in range(5,21,5):\n",
    "        s = 2\n",
    "        if test == True :\n",
    "            s = 1\n",
    "        selected = data.columns[s:].values[n:count]\n",
    "        mag = str.split(selected[0],'_')[0]\n",
    "#         data[mag+\"_MAX\"] = data[selected].apply(lambda x : str.split(np.argmax(x),'_')[1],axis = 1)\n",
    "        for combi in list(combinations(selected,2)):\n",
    "            name_1st = str.split(combi[0],'_')[1]\n",
    "            name_2nd = str.split(combi[1],'_')[1]\n",
    "            data[mag+\"_\"+name_1st+\"-\"+name_2nd] = data[combi[0]]-data[combi[1]]\n",
    "        n=count\n",
    "    return data"
   ]
  },
  {
   "cell_type": "code",
   "execution_count": 8,
   "metadata": {
    "ExecuteTime": {
     "end_time": "2020-02-27T09:21:55.557237Z",
     "start_time": "2020-02-27T09:21:55.363245Z"
    }
   },
   "outputs": [
    {
     "data": {
      "text/plain": [
       "((199991, 63), (10009, 61))"
      ]
     },
     "execution_count": 8,
     "metadata": {},
     "output_type": "execute_result"
    }
   ],
   "source": [
    "train_df = add_minus_feature_all(train_df)\n",
    "test_df = add_minus_feature_all(test_df,True)\n",
    "\n",
    "train_df.shape, test_df.shape"
   ]
  },
  {
   "cell_type": "markdown",
   "metadata": {},
   "source": [
    "### PCA"
   ]
  },
  {
   "cell_type": "code",
   "execution_count": 9,
   "metadata": {
    "ExecuteTime": {
     "end_time": "2020-02-27T09:21:55.811229Z",
     "start_time": "2020-02-27T09:21:55.806228Z"
    }
   },
   "outputs": [],
   "source": [
    "from sklearn.decomposition import PCA\n",
    "pca = PCA(1)"
   ]
  },
  {
   "cell_type": "code",
   "execution_count": 10,
   "metadata": {
    "ExecuteTime": {
     "end_time": "2020-02-27T09:21:56.069220Z",
     "start_time": "2020-02-27T09:21:56.062221Z"
    }
   },
   "outputs": [],
   "source": [
    "ori_name = [\"psfMag\",\"fiberMag\",\"petroMag\",\"modelMag\"]\n",
    "add_name = [\"u\",\"g\",\"r\",\"i\",\"z\"]"
   ]
  },
  {
   "cell_type": "code",
   "execution_count": 11,
   "metadata": {
    "ExecuteTime": {
     "end_time": "2020-02-27T04:51:53.831317Z",
     "start_time": "2020-02-27T04:51:51.909375Z"
    }
   },
   "outputs": [],
   "source": [
    "for add in add_name:\n",
    "    selected = list(map(lambda x : x+\"_\"+add,ori_name))\n",
    "    train_df['PCA_'+add] = pca.fit_transform(train_df[selected])\n",
    "    test_df['PCA_'+add] = pca.fit_transform(test_df[selected])"
   ]
  },
  {
   "cell_type": "code",
   "execution_count": 11,
   "metadata": {
    "ExecuteTime": {
     "end_time": "2020-02-27T09:22:09.328811Z",
     "start_time": "2020-02-27T09:22:05.794923Z"
    }
   },
   "outputs": [
    {
     "data": {
      "text/plain": [
       "<matplotlib.axes._subplots.AxesSubplot at 0x1bd46019cf8>"
      ]
     },
     "execution_count": 11,
     "metadata": {},
     "output_type": "execute_result"
    },
    {
     "data": {
      "image/png": "[encoded data removed]",
      "text/plain": [
       "<Figure size 936x936 with 2 Axes>"
      ]
     },
     "metadata": {},
     "output_type": "display_data"
    }
   ],
   "source": [
    "plt.figure(figsize=(13,13))\n",
    "sns.heatmap(train_df.corr())"
   ]
  },
  {
   "cell_type": "code",
   "execution_count": 12,
   "metadata": {
    "ExecuteTime": {
     "end_time": "2020-02-27T09:22:09.530806Z",
     "start_time": "2020-02-27T09:22:09.524805Z"
    }
   },
   "outputs": [
    {
     "data": {
      "text/plain": [
       "Index(['type', 'fiberID', 'psfMag_u', 'psfMag_g', 'psfMag_r', 'psfMag_i',\n",
       "       'psfMag_z', 'fiberMag_u', 'fiberMag_g', 'fiberMag_r', 'fiberMag_i',\n",
       "       'fiberMag_z', 'petroMag_u', 'petroMag_g', 'petroMag_r', 'petroMag_i',\n",
       "       'petroMag_z', 'modelMag_u', 'modelMag_g', 'modelMag_r', 'modelMag_i',\n",
       "       'modelMag_z', 'type_num', 'psfMag_u-g', 'psfMag_u-r', 'psfMag_u-i',\n",
       "       'psfMag_u-z', 'psfMag_g-r', 'psfMag_g-i', 'psfMag_g-z', 'psfMag_r-i',\n",
       "       'psfMag_r-z', 'psfMag_i-z', 'fiberMag_u-g', 'fiberMag_u-r',\n",
       "       'fiberMag_u-i', 'fiberMag_u-z', 'fiberMag_g-r', 'fiberMag_g-i',\n",
       "       'fiberMag_g-z', 'fiberMag_r-i', 'fiberMag_r-z', 'fiberMag_i-z',\n",
       "       'petroMag_u-g', 'petroMag_u-r', 'petroMag_u-i', 'petroMag_u-z',\n",
       "       'petroMag_g-r', 'petroMag_g-i', 'petroMag_g-z', 'petroMag_r-i',\n",
       "       'petroMag_r-z', 'petroMag_i-z', 'modelMag_u-g', 'modelMag_u-r',\n",
       "       'modelMag_u-i', 'modelMag_u-z', 'modelMag_g-r', 'modelMag_g-i',\n",
       "       'modelMag_g-z', 'modelMag_r-i', 'modelMag_r-z', 'modelMag_i-z'],\n",
       "      dtype='object')"
      ]
     },
     "execution_count": 12,
     "metadata": {},
     "output_type": "execute_result"
    }
   ],
   "source": [
    "train_df.columns"
   ]
  },
  {
   "cell_type": "code",
   "execution_count": 13,
   "metadata": {
    "ExecuteTime": {
     "end_time": "2020-02-27T09:22:09.817796Z",
     "start_time": "2020-02-27T09:22:09.724800Z"
    }
   },
   "outputs": [],
   "source": [
    "train_X= train_df.drop(['type','type_num','fiberID'],axis = 1)\n",
    "test_X = test_df.drop(['fiberID'],axis = 1)\n",
    "train_y = train_df['type_num']"
   ]
  },
  {
   "cell_type": "code",
   "execution_count": 14,
   "metadata": {
    "ExecuteTime": {
     "end_time": "2020-02-27T09:22:10.354781Z",
     "start_time": "2020-02-27T09:22:10.084788Z"
    }
   },
   "outputs": [],
   "source": [
    "X_train, X_test, y_train, y_test = train_test_split(train_X, train_y, test_size=0.3, random_state=42,stratify = train_y)"
   ]
  },
  {
   "cell_type": "markdown",
   "metadata": {},
   "source": [
    "### modeling"
   ]
  },
  {
   "cell_type": "code",
   "execution_count": 15,
   "metadata": {
    "ExecuteTime": {
     "end_time": "2020-02-27T09:22:10.743770Z",
     "start_time": "2020-02-27T09:22:10.738768Z"
    }
   },
   "outputs": [],
   "source": [
    "lgbm_c = lgb.LGBMClassifier(num_leaves = 127, min_child_samples = 50,\n",
    "                            max_depth = 8, learning_rate = 0.01,\n",
    "                            lambda_l2 = 7, lambda_l1 = 9,\n",
    "                            n_estimators=2000, random_state = 42)"
   ]
  },
  {
   "cell_type": "code",
   "execution_count": 16,
   "metadata": {
    "ExecuteTime": {
     "end_time": "2020-02-27T10:49:33.283803Z",
     "start_time": "2020-02-27T09:22:11.707739Z"
    }
   },
   "outputs": [
    {
     "name": "stdout",
     "output_type": "stream",
     "text": [
      "Training until validation scores don't improve for 100 rounds\n",
      "[100]\ttrain's multi_logloss: 0.920887\tvalid's multi_logloss: 0.937648\n",
      "[200]\ttrain's multi_logloss: 0.58606\tvalid's multi_logloss: 0.610801\n",
      "[300]\ttrain's multi_logloss: 0.45646\tvalid's multi_logloss: 0.487013\n",
      "[400]\ttrain's multi_logloss: 0.398576\tvalid's multi_logloss: 0.434285\n",
      "[500]\ttrain's multi_logloss: 0.368316\tvalid's multi_logloss: 0.408921\n",
      "[600]\ttrain's multi_logloss: 0.349586\tvalid's multi_logloss: 0.395306\n",
      "[700]\ttrain's multi_logloss: 0.336708\tvalid's multi_logloss: 0.387411\n",
      "[800]\ttrain's multi_logloss: 0.326942\tvalid's multi_logloss: 0.382334\n",
      "[900]\ttrain's multi_logloss: 0.318644\tvalid's multi_logloss: 0.378864\n",
      "[1000]\ttrain's multi_logloss: 0.311385\tvalid's multi_logloss: 0.376572\n",
      "[1100]\ttrain's multi_logloss: 0.304802\tvalid's multi_logloss: 0.374945\n",
      "[1200]\ttrain's multi_logloss: 0.298658\tvalid's multi_logloss: 0.373629\n",
      "[1300]\ttrain's multi_logloss: 0.292749\tvalid's multi_logloss: 0.372651\n",
      "[1400]\ttrain's multi_logloss: 0.287133\tvalid's multi_logloss: 0.371897\n",
      "[1500]\ttrain's multi_logloss: 0.281887\tvalid's multi_logloss: 0.371391\n",
      "[1600]\ttrain's multi_logloss: 0.277002\tvalid's multi_logloss: 0.37093\n",
      "[1700]\ttrain's multi_logloss: 0.272128\tvalid's multi_logloss: 0.370649\n",
      "[1800]\ttrain's multi_logloss: 0.267315\tvalid's multi_logloss: 0.370245\n",
      "[1900]\ttrain's multi_logloss: 0.263047\tvalid's multi_logloss: 0.370002\n",
      "[2000]\ttrain's multi_logloss: 0.258927\tvalid's multi_logloss: 0.369949\n",
      "Did not meet early stopping. Best iteration is:\n",
      "[2000]\ttrain's multi_logloss: 0.258927\tvalid's multi_logloss: 0.369949\n"
     ]
    },
    {
     "data": {
      "text/plain": [
       "LGBMClassifier(boosting_type='gbdt', class_weight=None, colsample_bytree=1.0,\n",
       "               importance_type='split', lambda_l1=9, lambda_l2=7,\n",
       "               learning_rate=0.01, max_depth=8, min_child_samples=50,\n",
       "               min_child_weight=0.001, min_split_gain=0.0, n_estimators=2000,\n",
       "               n_jobs=-1, num_leaves=127, objective=None, random_state=42,\n",
       "               reg_alpha=0.0, reg_lambda=0.0, silent=True, subsample=1.0,\n",
       "               subsample_for_bin=200000, subsample_freq=0)"
      ]
     },
     "execution_count": 16,
     "metadata": {},
     "output_type": "execute_result"
    }
   ],
   "source": [
    "lgbm_c.fit(X_train, y_train, eval_set = [(X_train,y_train),(X_test, y_test)],eval_names= ['train','valid'], \n",
    "           eval_metric = 'logloss', verbose = 100, early_stopping_rounds = 100)"
   ]
  },
  {
   "cell_type": "code",
   "execution_count": 17,
   "metadata": {
    "ExecuteTime": {
     "end_time": "2020-02-27T10:55:57.069978Z",
     "start_time": "2020-02-27T10:49:33.734789Z"
    },
    "scrolled": true
   },
   "outputs": [
    {
     "data": {
      "text/plain": [
       "0.3693302638069559"
      ]
     },
     "execution_count": 17,
     "metadata": {},
     "output_type": "execute_result"
    }
   ],
   "source": [
    "train_y_pred = lgbm_c.predict_proba(X_test)\n",
    "\n",
    "from sklearn.metrics import log_loss\n",
    "#log_loss\n",
    "log_loss(y_test,train_y_pred,labels= list(set(y_test)))"
   ]
  },
  {
   "cell_type": "code",
   "execution_count": 18,
   "metadata": {
    "ExecuteTime": {
     "end_time": "2020-02-27T10:55:57.076978Z",
     "start_time": "2020-02-27T10:55:57.070978Z"
    }
   },
   "outputs": [
    {
     "data": {
      "text/plain": [
       "array([[3.86714433e-04, 6.38074047e-05, 1.94118475e-05, ...,\n",
       "        2.55877329e-05, 3.72563511e-05, 1.96836504e-02],\n",
       "       [7.79797288e-06, 1.77321752e-05, 1.40820595e-05, ...,\n",
       "        3.37537722e-05, 1.01438562e-04, 1.35350165e-05],\n",
       "       [1.27321716e-03, 3.71549877e-04, 6.79619516e-05, ...,\n",
       "        9.58074868e-05, 1.26006795e-04, 7.00728292e-04],\n",
       "       ...,\n",
       "       [2.00745349e-03, 1.90695401e-03, 6.26703898e-05, ...,\n",
       "        7.58574648e-05, 1.00054995e-04, 4.81316545e-01],\n",
       "       [6.91363960e-06, 1.57917064e-05, 3.80523099e-06, ...,\n",
       "        5.59533355e-06, 4.27784972e-06, 3.27705202e-04],\n",
       "       [2.94520839e-04, 1.92359434e-04, 7.76025133e-05, ...,\n",
       "        8.34420573e-05, 4.61209517e-04, 2.77388702e-04]])"
      ]
     },
     "execution_count": 18,
     "metadata": {},
     "output_type": "execute_result"
    }
   ],
   "source": [
    "train_y_pred"
   ]
  },
  {
   "cell_type": "code",
   "execution_count": 19,
   "metadata": {
    "ExecuteTime": {
     "end_time": "2020-02-27T10:56:59.722049Z",
     "start_time": "2020-02-27T10:55:57.078978Z"
    }
   },
   "outputs": [],
   "source": [
    "test_y_pred = lgbm_c.predict_proba(test_X)"
   ]
  },
  {
   "cell_type": "code",
   "execution_count": 20,
   "metadata": {
    "ExecuteTime": {
     "end_time": "2020-02-27T10:56:59.730047Z",
     "start_time": "2020-02-27T10:56:59.724048Z"
    }
   },
   "outputs": [
    {
     "data": {
      "text/plain": [
       "array([[1.50116707e-04, 2.44599496e-04, 2.15126495e-03, ...,\n",
       "        6.12333988e-04, 1.44818283e-03, 1.92464255e-04],\n",
       "       [2.55514107e-04, 3.06162884e-04, 8.63017406e-05, ...,\n",
       "        1.74183906e-04, 2.35697720e-03, 3.64493307e-04],\n",
       "       [4.66272521e-05, 1.34555424e-05, 5.77212012e-06, ...,\n",
       "        6.69607676e-06, 2.36449691e-05, 1.99889054e-05],\n",
       "       ...,\n",
       "       [1.98880277e-04, 2.14348019e-04, 6.19260708e-05, ...,\n",
       "        7.02037642e-05, 1.13270554e-04, 7.90092542e-02],\n",
       "       [1.98892652e-05, 1.95127198e-05, 5.94775362e-06, ...,\n",
       "        9.29052780e-06, 6.53228022e-06, 7.06647114e-04],\n",
       "       [1.41332841e-04, 8.37623014e-06, 4.41325095e-06, ...,\n",
       "        9.71139608e-06, 7.23673518e-06, 2.09103236e-05]])"
      ]
     },
     "execution_count": 20,
     "metadata": {},
     "output_type": "execute_result"
    }
   ],
   "source": [
    "test_y_pred"
   ]
  },
  {
   "cell_type": "markdown",
   "metadata": {},
   "source": [
    "### feature_importance"
   ]
  },
  {
   "cell_type": "code",
   "execution_count": 21,
   "metadata": {
    "ExecuteTime": {
     "end_time": "2020-02-27T10:56:59.807045Z",
     "start_time": "2020-02-27T10:56:59.732048Z"
    },
    "scrolled": true
   },
   "outputs": [
    {
     "data": {
      "text/html": [
       "<div>\n",
       "<style scoped>\n",
       "    .dataframe tbody tr th:only-of-type {\n",
       "        vertical-align: middle;\n",
       "    }\n",
       "\n",
       "    .dataframe tbody tr th {\n",
       "        vertical-align: top;\n",
       "    }\n",
       "\n",
       "    .dataframe thead th {\n",
       "        text-align: right;\n",
       "    }\n",
       "</style>\n",
       "<table border=\"1\" class=\"dataframe\">\n",
       "  <thead>\n",
       "    <tr style=\"text-align: right;\">\n",
       "      <th></th>\n",
       "      <th>importance</th>\n",
       "    </tr>\n",
       "  </thead>\n",
       "  <tbody>\n",
       "    <tr>\n",
       "      <th>psfMag_i-z</th>\n",
       "      <td>40407</td>\n",
       "    </tr>\n",
       "    <tr>\n",
       "      <th>fiberMag_i-z</th>\n",
       "      <td>37330</td>\n",
       "    </tr>\n",
       "    <tr>\n",
       "      <th>petroMag_i-z</th>\n",
       "      <td>36518</td>\n",
       "    </tr>\n",
       "    <tr>\n",
       "      <th>fiberMag_u-g</th>\n",
       "      <td>36497</td>\n",
       "    </tr>\n",
       "    <tr>\n",
       "      <th>modelMag_i-z</th>\n",
       "      <td>36453</td>\n",
       "    </tr>\n",
       "    <tr>\n",
       "      <th>psfMag_r-i</th>\n",
       "      <td>36277</td>\n",
       "    </tr>\n",
       "    <tr>\n",
       "      <th>psfMag_u-g</th>\n",
       "      <td>35775</td>\n",
       "    </tr>\n",
       "    <tr>\n",
       "      <th>psfMag_g-r</th>\n",
       "      <td>34781</td>\n",
       "    </tr>\n",
       "    <tr>\n",
       "      <th>petroMag_u-g</th>\n",
       "      <td>34550</td>\n",
       "    </tr>\n",
       "    <tr>\n",
       "      <th>modelMag_u-g</th>\n",
       "      <td>33432</td>\n",
       "    </tr>\n",
       "    <tr>\n",
       "      <th>fiberMag_r-i</th>\n",
       "      <td>33357</td>\n",
       "    </tr>\n",
       "    <tr>\n",
       "      <th>petroMag_r-i</th>\n",
       "      <td>33351</td>\n",
       "    </tr>\n",
       "    <tr>\n",
       "      <th>modelMag_r-i</th>\n",
       "      <td>33234</td>\n",
       "    </tr>\n",
       "    <tr>\n",
       "      <th>fiberMag_g-r</th>\n",
       "      <td>32863</td>\n",
       "    </tr>\n",
       "    <tr>\n",
       "      <th>psfMag_r</th>\n",
       "      <td>29089</td>\n",
       "    </tr>\n",
       "    <tr>\n",
       "      <th>psfMag_i</th>\n",
       "      <td>28732</td>\n",
       "    </tr>\n",
       "    <tr>\n",
       "      <th>petroMag_g-r</th>\n",
       "      <td>28454</td>\n",
       "    </tr>\n",
       "    <tr>\n",
       "      <th>modelMag_g-r</th>\n",
       "      <td>26960</td>\n",
       "    </tr>\n",
       "    <tr>\n",
       "      <th>fiberMag_i</th>\n",
       "      <td>25653</td>\n",
       "    </tr>\n",
       "    <tr>\n",
       "      <th>fiberMag_r-z</th>\n",
       "      <td>25581</td>\n",
       "    </tr>\n",
       "    <tr>\n",
       "      <th>psfMag_z</th>\n",
       "      <td>25139</td>\n",
       "    </tr>\n",
       "    <tr>\n",
       "      <th>petroMag_u</th>\n",
       "      <td>24154</td>\n",
       "    </tr>\n",
       "    <tr>\n",
       "      <th>modelMag_z</th>\n",
       "      <td>23472</td>\n",
       "    </tr>\n",
       "    <tr>\n",
       "      <th>petroMag_z</th>\n",
       "      <td>23237</td>\n",
       "    </tr>\n",
       "    <tr>\n",
       "      <th>modelMag_r-z</th>\n",
       "      <td>23061</td>\n",
       "    </tr>\n",
       "    <tr>\n",
       "      <th>psfMag_r-z</th>\n",
       "      <td>22341</td>\n",
       "    </tr>\n",
       "    <tr>\n",
       "      <th>psfMag_g</th>\n",
       "      <td>22318</td>\n",
       "    </tr>\n",
       "    <tr>\n",
       "      <th>fiberMag_g</th>\n",
       "      <td>22149</td>\n",
       "    </tr>\n",
       "    <tr>\n",
       "      <th>modelMag_u</th>\n",
       "      <td>21770</td>\n",
       "    </tr>\n",
       "    <tr>\n",
       "      <th>fiberMag_u</th>\n",
       "      <td>21714</td>\n",
       "    </tr>\n",
       "    <tr>\n",
       "      <th>psfMag_u</th>\n",
       "      <td>21604</td>\n",
       "    </tr>\n",
       "    <tr>\n",
       "      <th>petroMag_r</th>\n",
       "      <td>21533</td>\n",
       "    </tr>\n",
       "    <tr>\n",
       "      <th>petroMag_i</th>\n",
       "      <td>21059</td>\n",
       "    </tr>\n",
       "    <tr>\n",
       "      <th>fiberMag_r</th>\n",
       "      <td>20841</td>\n",
       "    </tr>\n",
       "    <tr>\n",
       "      <th>fiberMag_z</th>\n",
       "      <td>20779</td>\n",
       "    </tr>\n",
       "    <tr>\n",
       "      <th>fiberMag_u-r</th>\n",
       "      <td>20584</td>\n",
       "    </tr>\n",
       "    <tr>\n",
       "      <th>petroMag_r-z</th>\n",
       "      <td>20566</td>\n",
       "    </tr>\n",
       "    <tr>\n",
       "      <th>petroMag_u-r</th>\n",
       "      <td>20200</td>\n",
       "    </tr>\n",
       "    <tr>\n",
       "      <th>psfMag_u-r</th>\n",
       "      <td>19834</td>\n",
       "    </tr>\n",
       "    <tr>\n",
       "      <th>modelMag_i</th>\n",
       "      <td>18815</td>\n",
       "    </tr>\n",
       "    <tr>\n",
       "      <th>psfMag_g-i</th>\n",
       "      <td>18695</td>\n",
       "    </tr>\n",
       "    <tr>\n",
       "      <th>modelMag_u-r</th>\n",
       "      <td>18437</td>\n",
       "    </tr>\n",
       "    <tr>\n",
       "      <th>petroMag_u-z</th>\n",
       "      <td>18355</td>\n",
       "    </tr>\n",
       "    <tr>\n",
       "      <th>fiberMag_g-i</th>\n",
       "      <td>18258</td>\n",
       "    </tr>\n",
       "    <tr>\n",
       "      <th>petroMag_g-z</th>\n",
       "      <td>17660</td>\n",
       "    </tr>\n",
       "    <tr>\n",
       "      <th>modelMag_r</th>\n",
       "      <td>17013</td>\n",
       "    </tr>\n",
       "    <tr>\n",
       "      <th>petroMag_g</th>\n",
       "      <td>16904</td>\n",
       "    </tr>\n",
       "    <tr>\n",
       "      <th>petroMag_g-i</th>\n",
       "      <td>16891</td>\n",
       "    </tr>\n",
       "    <tr>\n",
       "      <th>psfMag_g-z</th>\n",
       "      <td>16747</td>\n",
       "    </tr>\n",
       "    <tr>\n",
       "      <th>petroMag_u-i</th>\n",
       "      <td>16474</td>\n",
       "    </tr>\n",
       "    <tr>\n",
       "      <th>modelMag_g</th>\n",
       "      <td>16465</td>\n",
       "    </tr>\n",
       "    <tr>\n",
       "      <th>fiberMag_g-z</th>\n",
       "      <td>16358</td>\n",
       "    </tr>\n",
       "    <tr>\n",
       "      <th>modelMag_g-i</th>\n",
       "      <td>16245</td>\n",
       "    </tr>\n",
       "    <tr>\n",
       "      <th>fiberMag_u-z</th>\n",
       "      <td>16239</td>\n",
       "    </tr>\n",
       "    <tr>\n",
       "      <th>psfMag_u-i</th>\n",
       "      <td>16170</td>\n",
       "    </tr>\n",
       "    <tr>\n",
       "      <th>fiberMag_u-i</th>\n",
       "      <td>15494</td>\n",
       "    </tr>\n",
       "    <tr>\n",
       "      <th>psfMag_u-z</th>\n",
       "      <td>13879</td>\n",
       "    </tr>\n",
       "    <tr>\n",
       "      <th>modelMag_u-i</th>\n",
       "      <td>13755</td>\n",
       "    </tr>\n",
       "    <tr>\n",
       "      <th>modelMag_u-z</th>\n",
       "      <td>13265</td>\n",
       "    </tr>\n",
       "    <tr>\n",
       "      <th>modelMag_g-z</th>\n",
       "      <td>13234</td>\n",
       "    </tr>\n",
       "  </tbody>\n",
       "</table>\n",
       "</div>"
      ],
      "text/plain": [
       "              importance\n",
       "psfMag_i-z         40407\n",
       "fiberMag_i-z       37330\n",
       "petroMag_i-z       36518\n",
       "fiberMag_u-g       36497\n",
       "modelMag_i-z       36453\n",
       "psfMag_r-i         36277\n",
       "psfMag_u-g         35775\n",
       "psfMag_g-r         34781\n",
       "petroMag_u-g       34550\n",
       "modelMag_u-g       33432\n",
       "fiberMag_r-i       33357\n",
       "petroMag_r-i       33351\n",
       "modelMag_r-i       33234\n",
       "fiberMag_g-r       32863\n",
       "psfMag_r           29089\n",
       "psfMag_i           28732\n",
       "petroMag_g-r       28454\n",
       "modelMag_g-r       26960\n",
       "fiberMag_i         25653\n",
       "fiberMag_r-z       25581\n",
       "psfMag_z           25139\n",
       "petroMag_u         24154\n",
       "modelMag_z         23472\n",
       "petroMag_z         23237\n",
       "modelMag_r-z       23061\n",
       "psfMag_r-z         22341\n",
       "psfMag_g           22318\n",
       "fiberMag_g         22149\n",
       "modelMag_u         21770\n",
       "fiberMag_u         21714\n",
       "psfMag_u           21604\n",
       "petroMag_r         21533\n",
       "petroMag_i         21059\n",
       "fiberMag_r         20841\n",
       "fiberMag_z         20779\n",
       "fiberMag_u-r       20584\n",
       "petroMag_r-z       20566\n",
       "petroMag_u-r       20200\n",
       "psfMag_u-r         19834\n",
       "modelMag_i         18815\n",
       "psfMag_g-i         18695\n",
       "modelMag_u-r       18437\n",
       "petroMag_u-z       18355\n",
       "fiberMag_g-i       18258\n",
       "petroMag_g-z       17660\n",
       "modelMag_r         17013\n",
       "petroMag_g         16904\n",
       "petroMag_g-i       16891\n",
       "psfMag_g-z         16747\n",
       "petroMag_u-i       16474\n",
       "modelMag_g         16465\n",
       "fiberMag_g-z       16358\n",
       "modelMag_g-i       16245\n",
       "fiberMag_u-z       16239\n",
       "psfMag_u-i         16170\n",
       "fiberMag_u-i       15494\n",
       "psfMag_u-z         13879\n",
       "modelMag_u-i       13755\n",
       "modelMag_u-z       13265\n",
       "modelMag_g-z       13234"
      ]
     },
     "execution_count": 21,
     "metadata": {},
     "output_type": "execute_result"
    }
   ],
   "source": [
    "pi_df = pd.DataFrame(lgbm_c.feature_importances_, index= train_X.columns,columns= ['importance']).sort_values('importance',ascending = False)\n",
    "pi_df"
   ]
  },
  {
   "cell_type": "markdown",
   "metadata": {},
   "source": [
    "### 예측결과에 대해\n",
    "잘된예측 : 1,3,4,5,6,8,9,10,14,15,16,18  \n",
    "중간예측 : 0,2,7,13  \n",
    "망한예측 : 11,12,17"
   ]
  },
  {
   "cell_type": "code",
   "execution_count": 22,
   "metadata": {
    "ExecuteTime": {
     "end_time": "2020-02-27T11:03:11.687586Z",
     "start_time": "2020-02-27T10:56:59.810045Z"
    }
   },
   "outputs": [],
   "source": [
    "train_y_pred = lgbm_c.predict(X_test)"
   ]
  },
  {
   "cell_type": "code",
   "execution_count": 23,
   "metadata": {
    "ExecuteTime": {
     "end_time": "2020-02-27T11:03:11.695586Z",
     "start_time": "2020-02-27T11:03:11.692586Z"
    }
   },
   "outputs": [
    {
     "data": {
      "text/plain": [
       "(59998,)"
      ]
     },
     "execution_count": 23,
     "metadata": {},
     "output_type": "execute_result"
    }
   ],
   "source": [
    "train_y_pred.shape"
   ]
  },
  {
   "cell_type": "code",
   "execution_count": 24,
   "metadata": {
    "ExecuteTime": {
     "end_time": "2020-02-27T11:03:11.979577Z",
     "start_time": "2020-02-27T11:03:11.696586Z"
    }
   },
   "outputs": [],
   "source": [
    "cm_result = pd.DataFrame(confusion_matrix(y_test,train_y_pred))"
   ]
  },
  {
   "cell_type": "code",
   "execution_count": 25,
   "metadata": {
    "ExecuteTime": {
     "end_time": "2020-02-27T11:03:11.997577Z",
     "start_time": "2020-02-27T11:03:11.981577Z"
    }
   },
   "outputs": [
    {
     "data": {
      "text/html": [
       "<div>\n",
       "<style scoped>\n",
       "    .dataframe tbody tr th:only-of-type {\n",
       "        vertical-align: middle;\n",
       "    }\n",
       "\n",
       "    .dataframe tbody tr th {\n",
       "        vertical-align: top;\n",
       "    }\n",
       "\n",
       "    .dataframe thead th {\n",
       "        text-align: right;\n",
       "    }\n",
       "</style>\n",
       "<table border=\"1\" class=\"dataframe\">\n",
       "  <thead>\n",
       "    <tr style=\"text-align: right;\">\n",
       "      <th></th>\n",
       "      <th>0</th>\n",
       "      <th>1</th>\n",
       "      <th>2</th>\n",
       "      <th>3</th>\n",
       "      <th>4</th>\n",
       "      <th>5</th>\n",
       "      <th>6</th>\n",
       "      <th>7</th>\n",
       "      <th>8</th>\n",
       "      <th>9</th>\n",
       "      <th>10</th>\n",
       "      <th>11</th>\n",
       "      <th>12</th>\n",
       "      <th>13</th>\n",
       "      <th>14</th>\n",
       "      <th>15</th>\n",
       "      <th>16</th>\n",
       "      <th>17</th>\n",
       "      <th>18</th>\n",
       "    </tr>\n",
       "  </thead>\n",
       "  <tbody>\n",
       "    <tr>\n",
       "      <th>0</th>\n",
       "      <td>301</td>\n",
       "      <td>0</td>\n",
       "      <td>0</td>\n",
       "      <td>0</td>\n",
       "      <td>16</td>\n",
       "      <td>65</td>\n",
       "      <td>2</td>\n",
       "      <td>118</td>\n",
       "      <td>57</td>\n",
       "      <td>0</td>\n",
       "      <td>0</td>\n",
       "      <td>20</td>\n",
       "      <td>0</td>\n",
       "      <td>1</td>\n",
       "      <td>22</td>\n",
       "      <td>8</td>\n",
       "      <td>0</td>\n",
       "      <td>0</td>\n",
       "      <td>38</td>\n",
       "    </tr>\n",
       "    <tr>\n",
       "      <th>1</th>\n",
       "      <td>1</td>\n",
       "      <td>1886</td>\n",
       "      <td>0</td>\n",
       "      <td>0</td>\n",
       "      <td>0</td>\n",
       "      <td>1</td>\n",
       "      <td>0</td>\n",
       "      <td>1</td>\n",
       "      <td>16</td>\n",
       "      <td>0</td>\n",
       "      <td>1</td>\n",
       "      <td>3</td>\n",
       "      <td>0</td>\n",
       "      <td>0</td>\n",
       "      <td>0</td>\n",
       "      <td>0</td>\n",
       "      <td>2</td>\n",
       "      <td>0</td>\n",
       "      <td>41</td>\n",
       "    </tr>\n",
       "    <tr>\n",
       "      <th>2</th>\n",
       "      <td>0</td>\n",
       "      <td>0</td>\n",
       "      <td>82</td>\n",
       "      <td>60</td>\n",
       "      <td>0</td>\n",
       "      <td>0</td>\n",
       "      <td>0</td>\n",
       "      <td>0</td>\n",
       "      <td>0</td>\n",
       "      <td>1</td>\n",
       "      <td>7</td>\n",
       "      <td>0</td>\n",
       "      <td>0</td>\n",
       "      <td>0</td>\n",
       "      <td>0</td>\n",
       "      <td>0</td>\n",
       "      <td>0</td>\n",
       "      <td>0</td>\n",
       "      <td>0</td>\n",
       "    </tr>\n",
       "    <tr>\n",
       "      <th>3</th>\n",
       "      <td>0</td>\n",
       "      <td>0</td>\n",
       "      <td>38</td>\n",
       "      <td>644</td>\n",
       "      <td>0</td>\n",
       "      <td>0</td>\n",
       "      <td>1</td>\n",
       "      <td>0</td>\n",
       "      <td>0</td>\n",
       "      <td>3</td>\n",
       "      <td>83</td>\n",
       "      <td>0</td>\n",
       "      <td>0</td>\n",
       "      <td>0</td>\n",
       "      <td>0</td>\n",
       "      <td>0</td>\n",
       "      <td>0</td>\n",
       "      <td>0</td>\n",
       "      <td>0</td>\n",
       "    </tr>\n",
       "    <tr>\n",
       "      <th>4</th>\n",
       "      <td>2</td>\n",
       "      <td>0</td>\n",
       "      <td>0</td>\n",
       "      <td>0</td>\n",
       "      <td>4240</td>\n",
       "      <td>37</td>\n",
       "      <td>1</td>\n",
       "      <td>0</td>\n",
       "      <td>13</td>\n",
       "      <td>0</td>\n",
       "      <td>0</td>\n",
       "      <td>9</td>\n",
       "      <td>0</td>\n",
       "      <td>0</td>\n",
       "      <td>0</td>\n",
       "      <td>84</td>\n",
       "      <td>0</td>\n",
       "      <td>0</td>\n",
       "      <td>0</td>\n",
       "    </tr>\n",
       "    <tr>\n",
       "      <th>5</th>\n",
       "      <td>31</td>\n",
       "      <td>0</td>\n",
       "      <td>0</td>\n",
       "      <td>0</td>\n",
       "      <td>134</td>\n",
       "      <td>3695</td>\n",
       "      <td>3</td>\n",
       "      <td>45</td>\n",
       "      <td>52</td>\n",
       "      <td>0</td>\n",
       "      <td>0</td>\n",
       "      <td>1</td>\n",
       "      <td>0</td>\n",
       "      <td>0</td>\n",
       "      <td>0</td>\n",
       "      <td>76</td>\n",
       "      <td>0</td>\n",
       "      <td>0</td>\n",
       "      <td>13</td>\n",
       "    </tr>\n",
       "    <tr>\n",
       "      <th>6</th>\n",
       "      <td>2</td>\n",
       "      <td>21</td>\n",
       "      <td>0</td>\n",
       "      <td>0</td>\n",
       "      <td>8</td>\n",
       "      <td>1</td>\n",
       "      <td>10938</td>\n",
       "      <td>2</td>\n",
       "      <td>72</td>\n",
       "      <td>1</td>\n",
       "      <td>0</td>\n",
       "      <td>42</td>\n",
       "      <td>0</td>\n",
       "      <td>85</td>\n",
       "      <td>21</td>\n",
       "      <td>11</td>\n",
       "      <td>0</td>\n",
       "      <td>0</td>\n",
       "      <td>0</td>\n",
       "    </tr>\n",
       "    <tr>\n",
       "      <th>7</th>\n",
       "      <td>188</td>\n",
       "      <td>0</td>\n",
       "      <td>0</td>\n",
       "      <td>0</td>\n",
       "      <td>0</td>\n",
       "      <td>213</td>\n",
       "      <td>1</td>\n",
       "      <td>683</td>\n",
       "      <td>19</td>\n",
       "      <td>0</td>\n",
       "      <td>0</td>\n",
       "      <td>1</td>\n",
       "      <td>0</td>\n",
       "      <td>0</td>\n",
       "      <td>0</td>\n",
       "      <td>1</td>\n",
       "      <td>0</td>\n",
       "      <td>0</td>\n",
       "      <td>290</td>\n",
       "    </tr>\n",
       "    <tr>\n",
       "      <th>8</th>\n",
       "      <td>15</td>\n",
       "      <td>10</td>\n",
       "      <td>2</td>\n",
       "      <td>8</td>\n",
       "      <td>31</td>\n",
       "      <td>252</td>\n",
       "      <td>98</td>\n",
       "      <td>33</td>\n",
       "      <td>12920</td>\n",
       "      <td>2</td>\n",
       "      <td>10</td>\n",
       "      <td>173</td>\n",
       "      <td>0</td>\n",
       "      <td>49</td>\n",
       "      <td>85</td>\n",
       "      <td>9</td>\n",
       "      <td>12</td>\n",
       "      <td>0</td>\n",
       "      <td>1195</td>\n",
       "    </tr>\n",
       "    <tr>\n",
       "      <th>9</th>\n",
       "      <td>0</td>\n",
       "      <td>0</td>\n",
       "      <td>0</td>\n",
       "      <td>0</td>\n",
       "      <td>0</td>\n",
       "      <td>0</td>\n",
       "      <td>1</td>\n",
       "      <td>0</td>\n",
       "      <td>3</td>\n",
       "      <td>34</td>\n",
       "      <td>0</td>\n",
       "      <td>0</td>\n",
       "      <td>0</td>\n",
       "      <td>0</td>\n",
       "      <td>0</td>\n",
       "      <td>0</td>\n",
       "      <td>0</td>\n",
       "      <td>0</td>\n",
       "      <td>0</td>\n",
       "    </tr>\n",
       "    <tr>\n",
       "      <th>10</th>\n",
       "      <td>0</td>\n",
       "      <td>0</td>\n",
       "      <td>7</td>\n",
       "      <td>125</td>\n",
       "      <td>0</td>\n",
       "      <td>0</td>\n",
       "      <td>1</td>\n",
       "      <td>0</td>\n",
       "      <td>1</td>\n",
       "      <td>0</td>\n",
       "      <td>3989</td>\n",
       "      <td>1</td>\n",
       "      <td>0</td>\n",
       "      <td>0</td>\n",
       "      <td>0</td>\n",
       "      <td>0</td>\n",
       "      <td>1</td>\n",
       "      <td>0</td>\n",
       "      <td>0</td>\n",
       "    </tr>\n",
       "    <tr>\n",
       "      <th>11</th>\n",
       "      <td>5</td>\n",
       "      <td>29</td>\n",
       "      <td>0</td>\n",
       "      <td>4</td>\n",
       "      <td>125</td>\n",
       "      <td>40</td>\n",
       "      <td>80</td>\n",
       "      <td>19</td>\n",
       "      <td>384</td>\n",
       "      <td>0</td>\n",
       "      <td>16</td>\n",
       "      <td>615</td>\n",
       "      <td>0</td>\n",
       "      <td>265</td>\n",
       "      <td>74</td>\n",
       "      <td>56</td>\n",
       "      <td>7</td>\n",
       "      <td>0</td>\n",
       "      <td>255</td>\n",
       "    </tr>\n",
       "    <tr>\n",
       "      <th>12</th>\n",
       "      <td>0</td>\n",
       "      <td>0</td>\n",
       "      <td>0</td>\n",
       "      <td>0</td>\n",
       "      <td>0</td>\n",
       "      <td>0</td>\n",
       "      <td>0</td>\n",
       "      <td>2</td>\n",
       "      <td>1</td>\n",
       "      <td>0</td>\n",
       "      <td>0</td>\n",
       "      <td>0</td>\n",
       "      <td>0</td>\n",
       "      <td>0</td>\n",
       "      <td>0</td>\n",
       "      <td>0</td>\n",
       "      <td>0</td>\n",
       "      <td>0</td>\n",
       "      <td>1</td>\n",
       "    </tr>\n",
       "    <tr>\n",
       "      <th>13</th>\n",
       "      <td>1</td>\n",
       "      <td>0</td>\n",
       "      <td>0</td>\n",
       "      <td>0</td>\n",
       "      <td>1</td>\n",
       "      <td>6</td>\n",
       "      <td>156</td>\n",
       "      <td>6</td>\n",
       "      <td>338</td>\n",
       "      <td>0</td>\n",
       "      <td>2</td>\n",
       "      <td>128</td>\n",
       "      <td>0</td>\n",
       "      <td>1274</td>\n",
       "      <td>3</td>\n",
       "      <td>0</td>\n",
       "      <td>0</td>\n",
       "      <td>0</td>\n",
       "      <td>225</td>\n",
       "    </tr>\n",
       "    <tr>\n",
       "      <th>14</th>\n",
       "      <td>2</td>\n",
       "      <td>0</td>\n",
       "      <td>0</td>\n",
       "      <td>0</td>\n",
       "      <td>0</td>\n",
       "      <td>0</td>\n",
       "      <td>3</td>\n",
       "      <td>1</td>\n",
       "      <td>24</td>\n",
       "      <td>0</td>\n",
       "      <td>0</td>\n",
       "      <td>28</td>\n",
       "      <td>0</td>\n",
       "      <td>1</td>\n",
       "      <td>918</td>\n",
       "      <td>0</td>\n",
       "      <td>0</td>\n",
       "      <td>0</td>\n",
       "      <td>0</td>\n",
       "    </tr>\n",
       "    <tr>\n",
       "      <th>15</th>\n",
       "      <td>0</td>\n",
       "      <td>0</td>\n",
       "      <td>0</td>\n",
       "      <td>0</td>\n",
       "      <td>89</td>\n",
       "      <td>35</td>\n",
       "      <td>0</td>\n",
       "      <td>0</td>\n",
       "      <td>0</td>\n",
       "      <td>0</td>\n",
       "      <td>0</td>\n",
       "      <td>2</td>\n",
       "      <td>0</td>\n",
       "      <td>0</td>\n",
       "      <td>0</td>\n",
       "      <td>4263</td>\n",
       "      <td>0</td>\n",
       "      <td>0</td>\n",
       "      <td>0</td>\n",
       "    </tr>\n",
       "    <tr>\n",
       "      <th>16</th>\n",
       "      <td>0</td>\n",
       "      <td>6</td>\n",
       "      <td>0</td>\n",
       "      <td>0</td>\n",
       "      <td>0</td>\n",
       "      <td>0</td>\n",
       "      <td>0</td>\n",
       "      <td>0</td>\n",
       "      <td>1</td>\n",
       "      <td>0</td>\n",
       "      <td>0</td>\n",
       "      <td>7</td>\n",
       "      <td>0</td>\n",
       "      <td>0</td>\n",
       "      <td>0</td>\n",
       "      <td>0</td>\n",
       "      <td>332</td>\n",
       "      <td>0</td>\n",
       "      <td>0</td>\n",
       "    </tr>\n",
       "    <tr>\n",
       "      <th>17</th>\n",
       "      <td>1</td>\n",
       "      <td>1</td>\n",
       "      <td>1</td>\n",
       "      <td>4</td>\n",
       "      <td>0</td>\n",
       "      <td>0</td>\n",
       "      <td>1</td>\n",
       "      <td>3</td>\n",
       "      <td>3</td>\n",
       "      <td>0</td>\n",
       "      <td>0</td>\n",
       "      <td>1</td>\n",
       "      <td>0</td>\n",
       "      <td>2</td>\n",
       "      <td>0</td>\n",
       "      <td>0</td>\n",
       "      <td>0</td>\n",
       "      <td>0</td>\n",
       "      <td>1</td>\n",
       "    </tr>\n",
       "    <tr>\n",
       "      <th>18</th>\n",
       "      <td>109</td>\n",
       "      <td>7</td>\n",
       "      <td>0</td>\n",
       "      <td>0</td>\n",
       "      <td>0</td>\n",
       "      <td>111</td>\n",
       "      <td>1</td>\n",
       "      <td>389</td>\n",
       "      <td>511</td>\n",
       "      <td>0</td>\n",
       "      <td>0</td>\n",
       "      <td>12</td>\n",
       "      <td>0</td>\n",
       "      <td>1</td>\n",
       "      <td>0</td>\n",
       "      <td>2</td>\n",
       "      <td>0</td>\n",
       "      <td>0</td>\n",
       "      <td>5385</td>\n",
       "    </tr>\n",
       "  </tbody>\n",
       "</table>\n",
       "</div>"
      ],
      "text/plain": [
       "     0     1   2    3     4     5      6    7      8   9     10   11  12  \\\n",
       "0   301     0   0    0    16    65      2  118     57   0     0   20   0   \n",
       "1     1  1886   0    0     0     1      0    1     16   0     1    3   0   \n",
       "2     0     0  82   60     0     0      0    0      0   1     7    0   0   \n",
       "3     0     0  38  644     0     0      1    0      0   3    83    0   0   \n",
       "4     2     0   0    0  4240    37      1    0     13   0     0    9   0   \n",
       "5    31     0   0    0   134  3695      3   45     52   0     0    1   0   \n",
       "6     2    21   0    0     8     1  10938    2     72   1     0   42   0   \n",
       "7   188     0   0    0     0   213      1  683     19   0     0    1   0   \n",
       "8    15    10   2    8    31   252     98   33  12920   2    10  173   0   \n",
       "9     0     0   0    0     0     0      1    0      3  34     0    0   0   \n",
       "10    0     0   7  125     0     0      1    0      1   0  3989    1   0   \n",
       "11    5    29   0    4   125    40     80   19    384   0    16  615   0   \n",
       "12    0     0   0    0     0     0      0    2      1   0     0    0   0   \n",
       "13    1     0   0    0     1     6    156    6    338   0     2  128   0   \n",
       "14    2     0   0    0     0     0      3    1     24   0     0   28   0   \n",
       "15    0     0   0    0    89    35      0    0      0   0     0    2   0   \n",
       "16    0     6   0    0     0     0      0    0      1   0     0    7   0   \n",
       "17    1     1   1    4     0     0      1    3      3   0     0    1   0   \n",
       "18  109     7   0    0     0   111      1  389    511   0     0   12   0   \n",
       "\n",
       "      13   14    15   16  17    18  \n",
       "0      1   22     8    0   0    38  \n",
       "1      0    0     0    2   0    41  \n",
       "2      0    0     0    0   0     0  \n",
       "3      0    0     0    0   0     0  \n",
       "4      0    0    84    0   0     0  \n",
       "5      0    0    76    0   0    13  \n",
       "6     85   21    11    0   0     0  \n",
       "7      0    0     1    0   0   290  \n",
       "8     49   85     9   12   0  1195  \n",
       "9      0    0     0    0   0     0  \n",
       "10     0    0     0    1   0     0  \n",
       "11   265   74    56    7   0   255  \n",
       "12     0    0     0    0   0     1  \n",
       "13  1274    3     0    0   0   225  \n",
       "14     1  918     0    0   0     0  \n",
       "15     0    0  4263    0   0     0  \n",
       "16     0    0     0  332   0     0  \n",
       "17     2    0     0    0   0     1  \n",
       "18     1    0     2    0   0  5385  "
      ]
     },
     "execution_count": 25,
     "metadata": {},
     "output_type": "execute_result"
    }
   ],
   "source": [
    "cm_result"
   ]
  },
  {
   "cell_type": "code",
   "execution_count": 26,
   "metadata": {
    "ExecuteTime": {
     "end_time": "2020-02-27T11:03:12.889549Z",
     "start_time": "2020-02-27T11:03:11.998577Z"
    },
    "scrolled": false
   },
   "outputs": [
    {
     "data": {
      "image/png": "[encoded data removed]",
      "text/plain": [
       "<Figure size 1080x1080 with 2 Axes>"
      ]
     },
     "metadata": {},
     "output_type": "display_data"
    }
   ],
   "source": [
    "plt.figure(figsize =(15,15))\n",
    "sns.heatmap(cm_result/np.sum(cm_result),annot = True, cmap ='RdYlGn',fmt='.1%')\n",
    "plt.ylabel(\"real\",fontsize=20)\n",
    "plt.xlabel(\"predict\",fontsize=20)\n",
    "plt.show()"
   ]
  },
  {
   "cell_type": "markdown",
   "metadata": {},
   "source": [
    "# REAL"
   ]
  },
  {
   "cell_type": "code",
   "execution_count": 27,
   "metadata": {
    "ExecuteTime": {
     "end_time": "2020-02-27T11:20:35.583422Z",
     "start_time": "2020-02-27T11:20:35.580422Z"
    }
   },
   "outputs": [],
   "source": [
    "lgbm_c = lgb.LGBMClassifier(num_leaves = 255, min_child_samples = 40,\n",
    "                            max_depth = 8, learning_rate = 0.1,\n",
    "                            lambda_l2 = 3, lambda_l1 = 9,\n",
    "                            n_estimators=2000, random_state = 42)"
   ]
  },
  {
   "cell_type": "code",
   "execution_count": 28,
   "metadata": {
    "ExecuteTime": {
     "end_time": "2020-02-27T12:33:08.268722Z",
     "start_time": "2020-02-27T11:20:35.584423Z"
    },
    "scrolled": true
   },
   "outputs": [
    {
     "name": "stdout",
     "output_type": "stream",
     "text": [
      "Training until validation scores don't improve for 100 rounds\n",
      "[100]\tvalid's multi_logloss: 0.311693\n",
      "[200]\tvalid's multi_logloss: 0.262301\n",
      "[300]\tvalid's multi_logloss: 0.22797\n",
      "[400]\tvalid's multi_logloss: 0.203322\n",
      "[500]\tvalid's multi_logloss: 0.184865\n",
      "[600]\tvalid's multi_logloss: 0.170962\n",
      "[700]\tvalid's multi_logloss: 0.160346\n",
      "[800]\tvalid's multi_logloss: 0.151951\n",
      "[900]\tvalid's multi_logloss: 0.14541\n",
      "[1000]\tvalid's multi_logloss: 0.139811\n",
      "[1100]\tvalid's multi_logloss: 0.135622\n",
      "[1200]\tvalid's multi_logloss: 0.132398\n",
      "[1300]\tvalid's multi_logloss: 0.130239\n",
      "[1400]\tvalid's multi_logloss: 0.128853\n",
      "[1500]\tvalid's multi_logloss: 0.128089\n",
      "[1600]\tvalid's multi_logloss: 0.128089\n",
      "[1700]\tvalid's multi_logloss: 0.128089\n",
      "[1800]\tvalid's multi_logloss: 0.128089\n",
      "[1900]\tvalid's multi_logloss: 0.128089\n",
      "[2000]\tvalid's multi_logloss: 0.128089\n",
      "Did not meet early stopping. Best iteration is:\n",
      "[1494]\tvalid's multi_logloss: 0.128089\n"
     ]
    },
    {
     "data": {
      "text/plain": [
       "LGBMClassifier(boosting_type='gbdt', class_weight=None, colsample_bytree=1.0,\n",
       "               importance_type='split', lambda_l1=9, lambda_l2=3,\n",
       "               learning_rate=0.1, max_depth=8, min_child_samples=40,\n",
       "               min_child_weight=0.001, min_split_gain=0.0, n_estimators=2000,\n",
       "               n_jobs=-1, num_leaves=255, objective=None, random_state=42,\n",
       "               reg_alpha=0.0, reg_lambda=0.0, silent=True, subsample=1.0,\n",
       "               subsample_for_bin=200000, subsample_freq=0)"
      ]
     },
     "execution_count": 28,
     "metadata": {},
     "output_type": "execute_result"
    }
   ],
   "source": [
    "lgbm_c.fit(train_X, train_y, eval_set = [(train_X, train_y)],eval_names= 'valid', \n",
    "           eval_metric = 'logloss', verbose = 100, early_stopping_rounds = 100)"
   ]
  },
  {
   "cell_type": "code",
   "execution_count": 29,
   "metadata": {
    "ExecuteTime": {
     "end_time": "2020-02-27T12:42:47.536256Z",
     "start_time": "2020-02-27T12:33:08.274721Z"
    }
   },
   "outputs": [],
   "source": [
    "f_train_y_pred = lgbm_c.predict_proba(train_X)"
   ]
  },
  {
   "cell_type": "code",
   "execution_count": 30,
   "metadata": {
    "ExecuteTime": {
     "end_time": "2020-02-27T12:43:16.269942Z",
     "start_time": "2020-02-27T12:42:47.537257Z"
    }
   },
   "outputs": [],
   "source": [
    "y_pred = lgbm_c.predict_proba(test_X)"
   ]
  },
  {
   "cell_type": "code",
   "execution_count": 31,
   "metadata": {
    "ExecuteTime": {
     "end_time": "2020-02-27T12:43:16.274942Z",
     "start_time": "2020-02-27T12:43:16.270942Z"
    }
   },
   "outputs": [
    {
     "data": {
      "text/plain": [
       "array([[2.92605800e-05, 4.53312844e-05, 3.08900665e-04, ...,\n",
       "        2.15261736e-04, 6.47776984e-04, 2.29273872e-05],\n",
       "       [1.63607645e-04, 1.54685350e-04, 5.68375955e-05, ...,\n",
       "        9.27766727e-05, 1.05175373e-03, 1.75823705e-04],\n",
       "       [5.95233970e-06, 2.77224605e-06, 1.27590371e-06, ...,\n",
       "        2.22361127e-06, 9.14687727e-06, 3.23761518e-06],\n",
       "       ...,\n",
       "       [1.93747506e-04, 2.52320770e-04, 3.83153506e-05, ...,\n",
       "        5.38152196e-05, 1.08878048e-04, 5.56453052e-02],\n",
       "       [4.81135724e-06, 5.27285321e-06, 8.26553060e-07, ...,\n",
       "        1.32387743e-06, 2.40997951e-06, 8.96437746e-05],\n",
       "       [6.73521536e-05, 1.52446837e-06, 1.14973601e-06, ...,\n",
       "        3.10893935e-06, 2.90718291e-06, 5.22591377e-06]])"
      ]
     },
     "execution_count": 31,
     "metadata": {},
     "output_type": "execute_result"
    }
   ],
   "source": [
    "y_pred"
   ]
  },
  {
   "cell_type": "code",
   "execution_count": 33,
   "metadata": {
    "ExecuteTime": {
     "end_time": "2020-02-27T06:03:22.621507Z",
     "start_time": "2020-02-27T06:03:22.006527Z"
    }
   },
   "outputs": [],
   "source": [
    "submission = pd.DataFrame(data=y_pred, columns=sample_submission_df.columns, index=sample_submission_df.index)\n",
    "submission.to_csv('./submisson/submission.csv', index=True)"
   ]
  },
  {
   "cell_type": "code",
   "execution_count": null,
   "metadata": {},
   "outputs": [],
   "source": []
  }
 ],
 "metadata": {
  "kernelspec": {
   "display_name": "Python 3",
   "language": "python",
   "name": "python3"
  },
  "language_info": {
   "codemirror_mode": {
    "name": "ipython",
    "version": 3
   },
   "file_extension": ".py",
   "mimetype": "text/x-python",
   "name": "python",
   "nbconvert_exporter": "python",
   "pygments_lexer": "ipython3",
   "version": "3.6.5"
  },
  "varInspector": {
   "cols": {
    "lenName": 16,
    "lenType": 16,
    "lenVar": 40
   },
   "kernels_config": {
    "python": {
     "delete_cmd_postfix": "",
     "delete_cmd_prefix": "del ",
     "library": "var_list.py",
     "varRefreshCmd": "print(var_dic_list())"
    },
    "r": {
     "delete_cmd_postfix": ") ",
     "delete_cmd_prefix": "rm(",
     "library": "var_list.r",
     "varRefreshCmd": "cat(var_dic_list()) "
    }
   },
   "types_to_exclude": [
    "module",
    "function",
    "builtin_function_or_method",
    "instance",
    "_Feature"
   ],
   "window_display": false
  }
 },
 "nbformat": 4,
 "nbformat_minor": 2
}
