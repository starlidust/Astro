{
 "cells": [
  {
   "cell_type": "markdown",
   "metadata": {},
   "source": [
    "# add_features\n",
    "* 새로 만들어본 변수들을 잡다하게 넣어본다 "
   ]
  },
  {
   "cell_type": "code",
   "execution_count": 1,
   "metadata": {
    "ExecuteTime": {
     "end_time": "2020-02-28T12:17:18.950717Z",
     "start_time": "2020-02-28T12:17:16.716786Z"
    }
   },
   "outputs": [],
   "source": [
    "import pandas as pd\n",
    "import numpy as np\n",
    "import matplotlib.pyplot as plt\n",
    "import seaborn as sns\n",
    "\n",
    "from sklearn.ensemble import RandomForestClassifier\n",
    "from sklearn.model_selection import train_test_split\n",
    "from sklearn.metrics import confusion_matrix\n",
    "from sklearn.metrics import log_loss\n",
    "\n",
    "\n",
    "import lightgbm as lgb\n",
    "from sklearn.model_selection import KFold, StratifiedKFold, RandomizedSearchCV, GridSearchCV"
   ]
  },
  {
   "cell_type": "code",
   "execution_count": 2,
   "metadata": {
    "ExecuteTime": {
     "end_time": "2020-02-28T12:17:18.953717Z",
     "start_time": "2020-02-28T12:17:18.951717Z"
    }
   },
   "outputs": [],
   "source": [
    "# from google.colab import drive\n",
    "# drive.mount('/content/drive')"
   ]
  },
  {
   "cell_type": "code",
   "execution_count": 3,
   "metadata": {
    "ExecuteTime": {
     "end_time": "2020-02-28T12:17:18.984718Z",
     "start_time": "2020-02-28T12:17:18.954717Z"
    }
   },
   "outputs": [],
   "source": [
    "# #colab용\n",
    "# import os\n",
    "# os.chdir('/content/drive/My Drive/Colab Notebooks/Dacon/천체관측/')"
   ]
  },
  {
   "cell_type": "code",
   "execution_count": 4,
   "metadata": {
    "ExecuteTime": {
     "end_time": "2020-02-28T12:17:21.944625Z",
     "start_time": "2020-02-28T12:17:18.988717Z"
    }
   },
   "outputs": [],
   "source": [
    "path = \"./data/\"\n",
    "train_df = pd.read_csv(path+'train.csv',index_col=0)\n",
    "test_df = pd.read_csv(path+'test.csv',index_col=0)\n",
    "sample_submission_df = pd.read_csv(path+'sample_submission.csv',index_col=0)\n",
    "pd.options.display.max_columns = 30"
   ]
  },
  {
   "cell_type": "code",
   "execution_count": 5,
   "metadata": {
    "ExecuteTime": {
     "end_time": "2020-02-28T12:17:21.951624Z",
     "start_time": "2020-02-28T12:17:21.946625Z"
    }
   },
   "outputs": [
    {
     "data": {
      "text/plain": [
       "((199991, 22), (10009, 21))"
      ]
     },
     "execution_count": 5,
     "metadata": {},
     "output_type": "execute_result"
    }
   ],
   "source": [
    "train_df.shape, test_df.shape"
   ]
  },
  {
   "cell_type": "markdown",
   "metadata": {},
   "source": [
    "## DATA Setting"
   ]
  },
  {
   "cell_type": "code",
   "execution_count": 6,
   "metadata": {
    "ExecuteTime": {
     "end_time": "2020-02-28T12:17:21.987623Z",
     "start_time": "2020-02-28T12:17:21.952626Z"
    }
   },
   "outputs": [],
   "source": [
    "def del_outlier(data, min=0, max=60):\n",
    "    up_idx_t=()\n",
    "    dw_idx_t=()\n",
    "    train_light = data.iloc[:,2:]\n",
    "    for i in range(len(train_light.columns)):\n",
    "        col = train_light.columns[i]\n",
    "        up_idx_t+=tuple(data[data[col]>max].index)\n",
    "        dw_idx_t+=tuple(data[data[col]<min].index)\n",
    "    del_idx = set(up_idx_t+dw_idx_t)\n",
    "    \n",
    "    return data[~data.index.isin(del_idx)]"
   ]
  },
  {
   "cell_type": "code",
   "execution_count": 7,
   "metadata": {
    "ExecuteTime": {
     "end_time": "2020-02-28T12:17:22.243616Z",
     "start_time": "2020-02-28T12:17:21.990625Z"
    }
   },
   "outputs": [],
   "source": [
    "train_df = del_outlier(train_df, min=-30, max=30)"
   ]
  },
  {
   "cell_type": "code",
   "execution_count": 8,
   "metadata": {
    "ExecuteTime": {
     "end_time": "2020-02-28T12:17:22.249615Z",
     "start_time": "2020-02-28T12:17:22.245616Z"
    }
   },
   "outputs": [
    {
     "data": {
      "text/plain": [
       "(198767, 22)"
      ]
     },
     "execution_count": 8,
     "metadata": {},
     "output_type": "execute_result"
    }
   ],
   "source": [
    "train_df.shape"
   ]
  },
  {
   "cell_type": "code",
   "execution_count": 9,
   "metadata": {
    "ExecuteTime": {
     "end_time": "2020-02-28T12:17:22.491608Z",
     "start_time": "2020-02-28T12:17:22.250615Z"
    }
   },
   "outputs": [],
   "source": [
    "column_number = {}\n",
    "number_columns = {}\n",
    "for i, column in enumerate(sample_submission_df.columns):\n",
    "    column_number[column] = i\n",
    "    number_columns[i] = column\n",
    "    \n",
    "    \n",
    "def to_number(x, dic):\n",
    "    return dic[x]\n",
    "\n",
    "train_df['type_num'] = train_df['type'].apply(lambda x: to_number(x, column_number))\n"
   ]
  },
  {
   "cell_type": "code",
   "execution_count": 10,
   "metadata": {
    "ExecuteTime": {
     "end_time": "2020-02-28T12:17:22.501608Z",
     "start_time": "2020-02-28T12:17:22.495610Z"
    }
   },
   "outputs": [],
   "source": [
    "def add_minus_feature(data,test = False):\n",
    "    '''\n",
    "    근접변수에 대해서만 컬럼생성 ex) 'fiberMag_u-g', 'fiberMag_g-r', 'fiberMag_r-i', 'fiberMag_i-z'\n",
    "    각 mag에서 가장 높은값의 filter를 받아오는 \"~~mag_MAX\"생성\n",
    "    결과 38개로 증가 \n",
    "    '''\n",
    "    from itertools import combinations\n",
    "    n = 0\n",
    "    m = 0\n",
    "    for count in range(5,21,5):\n",
    "        s = 2\n",
    "        if test == True :\n",
    "            s = 1\n",
    "        selected = data.columns[s:].values[n:count]\n",
    "        mag = str.split(selected[0],'_')[0]\n",
    "#         data[mag+\"_MAX\"] = data[selected].apply(lambda x : str.split(np.argmax(x),'_')[1],axis = 1)\n",
    "        for i in range(0,len(selected)):        \n",
    "            if i>0: \n",
    "                name_1st = str.split(m,'_')[1]\n",
    "                name_2nd = str.split(selected[i],'_')[1]\n",
    "                data[mag+\"_\"+name_1st+\"-\"+name_2nd] = data[m]-data[selected[i]]\n",
    "            m = selected[i]    \n",
    "        n=count\n",
    "    return data"
   ]
  },
  {
   "cell_type": "code",
   "execution_count": 11,
   "metadata": {
    "ExecuteTime": {
     "end_time": "2020-02-28T12:17:22.543607Z",
     "start_time": "2020-02-28T12:17:22.502607Z"
    }
   },
   "outputs": [],
   "source": [
    "def add_minus_feature_all(data,test = False):\n",
    "    '''\n",
    "    combination으로 모든 변수들의 조합에 대해서 컬럼생성 \n",
    "    각 mag에서 가장 높은값의 filter를 받아오는 \"~~mag_MAX\"생성\n",
    "    결과 64개로 증가\n",
    "    '''\n",
    "    from itertools import combinations\n",
    "    n = 0\n",
    "    for count in range(5,21,5):\n",
    "        s = 2\n",
    "        if test == True :\n",
    "            s = 1\n",
    "        selected = data.columns[s:].values[n:count]\n",
    "        mag = str.split(selected[0],'_')[0]\n",
    "#         data[mag+\"_MAX\"] = data[selected].apply(lambda x : str.split(np.argmax(x),'_')[1],axis = 1)\n",
    "        for combi in list(combinations(selected,2)):\n",
    "            name_1st = str.split(combi[0],'_')[1]\n",
    "            name_2nd = str.split(combi[1],'_')[1]\n",
    "            data[mag+\"_\"+name_1st+\"-\"+name_2nd] = data[combi[0]]-data[combi[1]]\n",
    "        n=count\n",
    "    return data"
   ]
  },
  {
   "cell_type": "code",
   "execution_count": 12,
   "metadata": {
    "ExecuteTime": {
     "end_time": "2020-02-28T12:17:22.865596Z",
     "start_time": "2020-02-28T12:17:22.544607Z"
    }
   },
   "outputs": [],
   "source": [
    "train_df = add_minus_feature_all(train_df)\n",
    "test_df = add_minus_feature_all(test_df,True)"
   ]
  },
  {
   "cell_type": "code",
   "execution_count": 13,
   "metadata": {
    "ExecuteTime": {
     "end_time": "2020-02-28T12:17:22.872596Z",
     "start_time": "2020-02-28T12:17:22.867597Z"
    }
   },
   "outputs": [],
   "source": [
    "def PCA_feature(data):\n",
    "    '''\n",
    "    각 ugriz밴드 끼리 PCA를 통해 추가변수 생성 시도\n",
    "    '''\n",
    "    from sklearn.decomposition import PCA\n",
    "    pca = PCA(1)\n",
    "    \n",
    "    ori_name = [\"psfMag\",\"fiberMag\",\"petroMag\",\"modelMag\"]\n",
    "    add_name = [\"u\",\"g\",\"r\",\"i\",\"z\"]\n",
    "    \n",
    "    for add in add_name:\n",
    "        selected = list(map(lambda x : x+\"_\"+add,ori_name))\n",
    "        data['PCA_'+add] = pca.fit_transform(data[selected])\n",
    "    return data"
   ]
  },
  {
   "cell_type": "code",
   "execution_count": 14,
   "metadata": {
    "ExecuteTime": {
     "end_time": "2020-02-28T12:17:26.389506Z",
     "start_time": "2020-02-28T12:17:22.874597Z"
    }
   },
   "outputs": [],
   "source": [
    "train_df = PCA_feature(train_df)\n",
    "test_df = PCA_feature(test_df)"
   ]
  },
  {
   "cell_type": "code",
   "execution_count": 15,
   "metadata": {
    "ExecuteTime": {
     "end_time": "2020-02-28T12:17:26.416505Z",
     "start_time": "2020-02-28T12:17:26.393506Z"
    }
   },
   "outputs": [],
   "source": [
    "def fiberID_agg(data):\n",
    "    '''\n",
    "    fiberID는 1~1000까지 숫자로 구성되어있는 카테고리 변수다.\n",
    "    numeric한 변수가 아니기때문에 이를 이용한 변수 생성이 필요하다 판단되어\n",
    "    ugriz밴드를 기반으로 통계적 수치 median, std를 산출한다\n",
    "    '''\n",
    "    ori_name = [\"psfMag\",\"fiberMag\",\"petroMag\",\"modelMag\"]\n",
    "    add_name = [\"u\",\"g\",\"r\",\"i\",\"z\"]\n",
    "    \n",
    "    for add in add_name:\n",
    "        selected = list(map(lambda x : x+\"_\"+add,ori_name))\n",
    "        columns = data[selected].columns \n",
    "        columns = list(columns)\n",
    "        columns.append(\"fiberID\")\n",
    "\n",
    "        #dictinary_set\n",
    "#         mean_dict = dict(data[columns].groupby(\"fiberID\").mean().mean(axis = 1))\n",
    "#         min_dict = dict(data[columns].groupby(\"fiberID\").min().min(axis = 1))\n",
    "#         max_dict = dict(data[columns].groupby(\"fiberID\").max().max(axis = 1))\n",
    "        median_dict = dict(data[columns].groupby(\"fiberID\").median().median(axis = 1))\n",
    "        std_dict = dict(data[columns].groupby(\"fiberID\").std().std(axis = 1))\n",
    "\n",
    "        #save\n",
    "#         data[\"mean_\"+add] = data.fiberID.apply(lambda x : mean_dict.get(x))\n",
    "#         data[\"min_\"+add] = data.fiberID.apply(lambda x : min_dict.get(x))\n",
    "#         data[\"max_\"+add] = data.fiberID.apply(lambda x : max_dict.get(x))\n",
    "        data[\"median_\"+add] = data.fiberID.apply(lambda x : median_dict.get(x))\n",
    "        data[\"std_\"+add] = data.fiberID.apply(lambda x : std_dict.get(x))\n",
    "    return data"
   ]
  },
  {
   "cell_type": "code",
   "execution_count": 16,
   "metadata": {
    "ExecuteTime": {
     "end_time": "2020-02-28T12:17:29.620406Z",
     "start_time": "2020-02-28T12:17:26.418504Z"
    }
   },
   "outputs": [],
   "source": [
    "train_df = fiberID_agg(train_df)\n",
    "test_df = fiberID_agg(test_df)"
   ]
  },
  {
   "cell_type": "code",
   "execution_count": 113,
   "metadata": {
    "ExecuteTime": {
     "end_time": "2020-02-29T11:20:53.946482Z",
     "start_time": "2020-02-29T11:20:53.837486Z"
    }
   },
   "outputs": [],
   "source": [
    "train_X = train_df.drop(columns=['type', 'type_num'], axis=1)\n",
    "train_y = train_df['type_num']\n",
    "test_X = test_df"
   ]
  },
  {
   "cell_type": "code",
   "execution_count": null,
   "metadata": {},
   "outputs": [],
   "source": [
    "train_X.shape, test_X.shape"
   ]
  },
  {
   "cell_type": "code",
   "execution_count": 18,
   "metadata": {
    "ExecuteTime": {
     "end_time": "2020-02-28T12:17:30.553885Z",
     "start_time": "2020-02-28T12:17:30.084392Z"
    }
   },
   "outputs": [],
   "source": [
    "X_train, X_test, y_train, y_test = train_test_split(train_X, train_y, test_size=0.3, random_state=42,stratify = train_y)"
   ]
  },
  {
   "cell_type": "code",
   "execution_count": 19,
   "metadata": {
    "ExecuteTime": {
     "end_time": "2020-02-28T12:17:36.913689Z",
     "start_time": "2020-02-28T12:17:30.554885Z"
    }
   },
   "outputs": [
    {
     "data": {
      "text/plain": [
       "<matplotlib.axes._subplots.AxesSubplot at 0x1ed12dd0668>"
      ]
     },
     "execution_count": 19,
     "metadata": {},
     "output_type": "execute_result"
    },
    {
     "data": {
      "image/png": "[encoded data removed]",
      "text/plain": [
       "<Figure size 1080x1080 with 2 Axes>"
      ]
     },
     "metadata": {},
     "output_type": "display_data"
    }
   ],
   "source": [
    "plt.figure(figsize =(15,15))\n",
    "sns.heatmap(train_df.corr())"
   ]
  },
  {
   "cell_type": "markdown",
   "metadata": {},
   "source": [
    "# FE"
   ]
  },
  {
   "cell_type": "markdown",
   "metadata": {},
   "source": [
    "### corr"
   ]
  },
  {
   "cell_type": "code",
   "execution_count": 114,
   "metadata": {
    "ExecuteTime": {
     "end_time": "2020-02-29T11:20:59.677990Z",
     "start_time": "2020-02-29T11:20:59.671980Z"
    }
   },
   "outputs": [],
   "source": [
    "default_lgbm = lgb.LGBMClassifier()"
   ]
  },
  {
   "cell_type": "code",
   "execution_count": 115,
   "metadata": {
    "ExecuteTime": {
     "end_time": "2020-02-29T11:21:01.724917Z",
     "start_time": "2020-02-29T11:21:01.707917Z"
    }
   },
   "outputs": [],
   "source": [
    "def cor_selector(X, y, parcent = 0.9):\n",
    "    '''\n",
    "    correlation을 이용한\n",
    "    X,y값을 전달하면 해당컬럼의 parcent만큼의 feature만 선택하여 feature만 반환\n",
    "    (선택된 feature들의 상관관계를 확인하려면 return을 corr_df로 변경)\n",
    "    '''\n",
    "    n_features = round(len(X.columns) * parcent)\n",
    "    cor_list = []\n",
    "    # calculate the correlation with y for each feature\n",
    "    # y와의 상관계수를 파악한다\n",
    "    for i in X.columns.tolist():\n",
    "        cor = np.corrcoef(X[i], y)[0, 1]\n",
    "        cor_list.append(cor)\n",
    "    # replace NaN with 0\n",
    "    # 0인게 있다면 NAN으로 대체한다(결측치 혹은 전부 동일한값의 경우)\n",
    "    cor_list = [0 if np.isnan(i) else i for i in cor_list]\n",
    "    # feature name\n",
    "    # 상관계수에 절대값을 사용해 부호통일후 \n",
    "    # argsort를 사용해 상관계수가 높은 n_fearture개를 선택한다\n",
    "    cor_feature = X.iloc[:,np.argsort(np.abs(cor_list))[-(n_features):]].columns.tolist()\n",
    "    selected_corr = np.abs(cor_list)[(np.argsort(np.abs(cor_list)))[-(n_features):]]\n",
    "    \n",
    "    #선택된 feature와 corr 높은순서대로 보여줌\n",
    "    corr_df = pd.DataFrame(index= cor_feature,data = selected_corr,columns=[\"corr\"]).sort_values(\"corr\",ascending=False)\n",
    "   \n",
    "    # feature selection? 0 for not select, 1 for select\n",
    "    # 전체중에서 Ture인 변수들만 선택되었음 (False는 미선택된 경우)\n",
    "    cor_support = [True if i in cor_feature else False for i in X.columns.values]\n",
    "    \n",
    "    print(str(len(cor_feature)), 'selected features')\n",
    "    return cor_feature, cor_support"
   ]
  },
  {
   "cell_type": "code",
   "execution_count": 116,
   "metadata": {
    "ExecuteTime": {
     "end_time": "2020-02-29T11:21:04.214839Z",
     "start_time": "2020-02-29T11:21:03.639859Z"
    }
   },
   "outputs": [
    {
     "name": "stdout",
     "output_type": "stream",
     "text": [
      "53 selected features\n"
     ]
    }
   ],
   "source": [
    "cor_feature, cor_support = cor_selector(train_X,train_y, 0.7)"
   ]
  },
  {
   "cell_type": "code",
   "execution_count": 161,
   "metadata": {
    "ExecuteTime": {
     "end_time": "2020-02-29T12:55:35.963511Z",
     "start_time": "2020-02-29T12:55:35.959511Z"
    }
   },
   "outputs": [
    {
     "data": {
      "text/plain": [
       "['psfMag_u',\n",
       " 'fiberMag_r',\n",
       " 'petroMag_r-z',\n",
       " 'psfMag_r-i',\n",
       " 'modelMag_r-i',\n",
       " 'fiberMag_r-i',\n",
       " 'modelMag_i-z',\n",
       " 'fiberMag_i-z',\n",
       " 'psfMag_i-z',\n",
       " 'psfMag_i',\n",
       " 'modelMag_r-z',\n",
       " 'PCA_r',\n",
       " 'psfMag_r-z',\n",
       " 'fiberMag_r-z',\n",
       " 'petroMag_g-r',\n",
       " 'petroMag_g-z',\n",
       " 'petroMag_g-i',\n",
       " 'petroMag_r',\n",
       " 'petroMag_u-g',\n",
       " 'psfMag_g-i',\n",
       " 'fiberMag_i',\n",
       " 'psfMag_z',\n",
       " 'modelMag_r',\n",
       " 'psfMag_g-z',\n",
       " 'modelMag_g-z',\n",
       " 'modelMag_g-i',\n",
       " 'fiberMag_g-z',\n",
       " 'fiberMag_g-i',\n",
       " 'psfMag_g-r',\n",
       " 'PCA_i',\n",
       " 'fiberMag_g-r',\n",
       " 'modelMag_g-r',\n",
       " 'fiberMag_z',\n",
       " 'petroMag_u-r',\n",
       " 'petroMag_u-z',\n",
       " 'petroMag_i',\n",
       " 'petroMag_u-i',\n",
       " 'PCA_z',\n",
       " 'modelMag_i',\n",
       " 'petroMag_z',\n",
       " 'modelMag_u-z',\n",
       " 'modelMag_u-g',\n",
       " 'modelMag_u-i',\n",
       " 'psfMag_u-z',\n",
       " 'modelMag_z',\n",
       " 'psfMag_u-i',\n",
       " 'psfMag_u-g',\n",
       " 'modelMag_u-r',\n",
       " 'fiberMag_u-z',\n",
       " 'fiberMag_u-i',\n",
       " 'psfMag_u-r',\n",
       " 'fiberMag_u-g',\n",
       " 'fiberMag_u-r']"
      ]
     },
     "execution_count": 161,
     "metadata": {},
     "output_type": "execute_result"
    }
   ],
   "source": [
    "cor_feature"
   ]
  },
  {
   "cell_type": "code",
   "execution_count": null,
   "metadata": {},
   "outputs": [],
   "source": [
    "fea = []\n",
    "sup = []\n",
    "cohens =[]\n",
    "for p in [0.9,0.8,0.7,0.6,0.5,0.4,0.3,0.2,0.1,0.05]:\n",
    "    cor_feature, cor_support = cor_selector(train_X, train_y, parcent = p )\n",
    "    cohen = simlpe_lgbm(default_lgbm, train_X[cor_feature], train_y, test_size=0.2)\n",
    "    fea.append(cor_feature)\n",
    "    sup.append(cor_support)\n",
    "    cohens.append(cohen)"
   ]
  },
  {
   "cell_type": "markdown",
   "metadata": {},
   "source": [
    "### SELECT_FROM_MODEL"
   ]
  },
  {
   "cell_type": "code",
   "execution_count": 117,
   "metadata": {
    "ExecuteTime": {
     "end_time": "2020-02-29T11:21:06.186779Z",
     "start_time": "2020-02-29T11:21:06.178779Z"
    }
   },
   "outputs": [],
   "source": [
    "def SFML(model, X, y):\n",
    "    '''\n",
    "    SelectFromModel를 활용 threshold는 변경가능하지만 정확힌 잘 모르겠음\n",
    "    '''\n",
    "    from sklearn.feature_selection import SelectFromModel\n",
    "    embeded_lgb_selector = SelectFromModel(default_lgbm, threshold='1.25*median')\n",
    "    embeded_lgb_selector.fit(X, y)\n",
    "    embeded_lgb_support = embeded_lgb_selector.get_support()\n",
    "    embeded_lgb_feature = X.loc[:,embeded_lgb_support].columns.tolist()\n",
    "    print(str(len(embeded_lgb_feature)), 'selected features')\n",
    "    \n",
    "    return embeded_lgb_feature, embeded_lgb_support"
   ]
  },
  {
   "cell_type": "code",
   "execution_count": 118,
   "metadata": {
    "ExecuteTime": {
     "end_time": "2020-02-29T11:22:58.057332Z",
     "start_time": "2020-02-29T11:21:08.056725Z"
    }
   },
   "outputs": [
    {
     "name": "stdout",
     "output_type": "stream",
     "text": [
      "23 selected features\n"
     ]
    }
   ],
   "source": [
    "embeded_lgb_feature,embeded_lgb_support = SFML(default_lgbm,train_X,train_y)"
   ]
  },
  {
   "cell_type": "code",
   "execution_count": 119,
   "metadata": {
    "ExecuteTime": {
     "end_time": "2020-02-29T11:23:00.896245Z",
     "start_time": "2020-02-29T11:23:00.882245Z"
    }
   },
   "outputs": [
    {
     "data": {
      "text/plain": [
       "['fiberID',\n",
       " 'psfMag_g',\n",
       " 'psfMag_r',\n",
       " 'psfMag_i',\n",
       " 'psfMag_z',\n",
       " 'fiberMag_i',\n",
       " 'modelMag_z',\n",
       " 'psfMag_u-g',\n",
       " 'psfMag_g-r',\n",
       " 'psfMag_r-i',\n",
       " 'psfMag_i-z',\n",
       " 'fiberMag_u-g',\n",
       " 'fiberMag_g-r',\n",
       " 'fiberMag_r-i',\n",
       " 'petroMag_u-g',\n",
       " 'modelMag_u-g',\n",
       " 'median_u',\n",
       " 'std_u',\n",
       " 'median_g',\n",
       " 'std_g',\n",
       " 'std_r',\n",
       " 'median_z',\n",
       " 'std_z']"
      ]
     },
     "execution_count": 119,
     "metadata": {},
     "output_type": "execute_result"
    }
   ],
   "source": [
    "embeded_lgb_feature"
   ]
  },
  {
   "cell_type": "code",
   "execution_count": 166,
   "metadata": {
    "ExecuteTime": {
     "end_time": "2020-02-29T13:01:42.092997Z",
     "start_time": "2020-02-29T13:01:42.087981Z"
    }
   },
   "outputs": [],
   "source": [
    "def simlpe_lgbm(model, X, y, test_size=0.2):\n",
    "    '''\n",
    "    RFE용으로 logloss보존\n",
    "    '''\n",
    "    from sklearn.model_selection import train_test_split\n",
    "    from sklearn.metrics import log_loss\n",
    "    \n",
    "    #train_test_split\n",
    "    X_train, X_test, y_train, y_test = train_test_split(X,y, test_size=test_size, random_state = 42)\n",
    "    model.fit(X,y)\n",
    "    \n",
    "    print(\"used col:\", X.shape[1])\n",
    "    print(\"train score:\",model.score(X_train,y_train))\n",
    "    print(\"test score:\",model.score(X_test,y_test))\n",
    "    \n",
    "    pred_y = model.predict_proba(X_test)\n",
    "    logloss = log_loss(y_test,pred_y,labels= list(set(y_test)))\n",
    "    print('logloss:',logloss)\n",
    "    \n",
    "    #report and importance\n",
    "    \n",
    "    return logloss"
   ]
  },
  {
   "cell_type": "markdown",
   "metadata": {},
   "source": [
    "### KBEST"
   ]
  },
  {
   "cell_type": "code",
   "execution_count": 42,
   "metadata": {
    "ExecuteTime": {
     "end_time": "2020-02-28T12:51:31.300936Z",
     "start_time": "2020-02-28T12:51:31.296933Z"
    }
   },
   "outputs": [],
   "source": [
    "from sklearn.feature_selection import SelectKBest, f_classif, chi2"
   ]
  },
  {
   "cell_type": "code",
   "execution_count": 167,
   "metadata": {
    "ExecuteTime": {
     "end_time": "2020-02-29T13:01:45.503996Z",
     "start_time": "2020-02-29T13:01:45.496998Z"
    }
   },
   "outputs": [],
   "source": [
    "from sklearn.feature_selection import SelectKBest, f_classif, chi2\n",
    "def Kbest_iter(X,y, score_func= f_classif, select=7, iteration = 11):\n",
    "    '''\n",
    "    Kbest를 반복하여 추출\n",
    "    추출방법은 f_classif, chi2가 분류에 적합\n",
    "    '''\n",
    "    \n",
    "    n_selects = np.arange(select,select*iteration+1,select)\n",
    "    \n",
    "    feature_names_lst = []\n",
    "    Kbest_support_lst = []\n",
    "    scores_lst =[]\n",
    "    for n in n_selects:\n",
    "        selector = SelectKBest(score_func, k = n)\n",
    "        X_new = selector.fit_transform(X, y)\n",
    "        \n",
    "        #추출대상\n",
    "        names = X.columns.values[selector.get_support()]\n",
    "        Kbest_support = selector.get_support()\n",
    "        scores = selector.scores_[selector.get_support()]\n",
    "        \n",
    "        #순서대로 정렬하기 위함\n",
    "        names_scores = list(zip(names, scores))\n",
    "        ns_df = pd.DataFrame(data = names_scores, columns=['Feat_names', 'F_Scores'])\n",
    "        ns_df_sorted = ns_df.sort_values(['F_Scores', 'Feat_names'], ascending = [False, True])\n",
    "        \n",
    "        #저장\n",
    "        feature_names_lst.append(ns_df_sorted['Feat_names'].values)\n",
    "        Kbest_support_lst.append(Kbest_support)\n",
    "        scores_lst.append(ns_df_sorted['F_Scores'].values)\n",
    "    \n",
    "    #코헨의 카파 \n",
    "    kbest_cohens=[]\n",
    "    for selected_f in feature_names_lst:\n",
    "        kbest_cohen = simlpe_lgbm(default_lgbm, X[selected_f], y, test_size=0.2)\n",
    "        kbest_cohens.append(kbest_cohen)\n",
    "\n",
    "    return kbest_cohens,feature_names_lst,Kbest_support_lst, scores_lst\n",
    "        \n",
    "    "
   ]
  },
  {
   "cell_type": "code",
   "execution_count": null,
   "metadata": {
    "ExecuteTime": {
     "start_time": "2020-02-29T13:01:46.119Z"
    }
   },
   "outputs": [
    {
     "name": "stdout",
     "output_type": "stream",
     "text": [
      "used col: 7\n",
      "train score: 0.7173312873790193\n",
      "test score: 0.7199275544599285\n",
      "logloss: 1.3977859934899166\n",
      "used col: 14\n",
      "train score: 0.8563765226742468\n",
      "test score: 0.8572219147758716\n",
      "logloss: 1.018703653388183\n"
     ]
    }
   ],
   "source": [
    "kbest_cohens,feature_names_lst,Kbest_support_lst, scores_lst = Kbest_iter(train_X,train_y, score_func= f_classif, select=7, iteration = 10)"
   ]
  },
  {
   "cell_type": "code",
   "execution_count": 125,
   "metadata": {
    "ExecuteTime": {
     "end_time": "2020-02-29T11:28:56.816858Z",
     "start_time": "2020-02-29T11:28:56.808858Z"
    }
   },
   "outputs": [],
   "source": [
    "# 3가지 feature_selection 53/23/23\n",
    "corr = cor_feature\n",
    "kbest = feature_names_lst[2]\n",
    "sfm = embeded_lgb_feature"
   ]
  },
  {
   "cell_type": "markdown",
   "metadata": {},
   "source": [
    "## 각각하나씩 진행후 비교 (corr)"
   ]
  },
  {
   "cell_type": "code",
   "execution_count": 147,
   "metadata": {
    "ExecuteTime": {
     "end_time": "2020-02-29T12:22:16.920043Z",
     "start_time": "2020-02-29T12:22:16.723050Z"
    }
   },
   "outputs": [],
   "source": [
    "n_train_X = train_X[corr]\n",
    "train_y = train_df['type_num']\n",
    "n_test_X = test_X[corr]"
   ]
  },
  {
   "cell_type": "code",
   "execution_count": 148,
   "metadata": {
    "ExecuteTime": {
     "end_time": "2020-02-29T12:22:19.935950Z",
     "start_time": "2020-02-29T12:22:19.603960Z"
    }
   },
   "outputs": [],
   "source": [
    "X_train, X_test, y_train, y_test = train_test_split(n_train_X, train_y, test_size=0.3, random_state=42,stratify = train_y)"
   ]
  },
  {
   "cell_type": "code",
   "execution_count": 149,
   "metadata": {
    "ExecuteTime": {
     "end_time": "2020-02-29T12:22:21.531901Z",
     "start_time": "2020-02-29T12:22:21.526901Z"
    }
   },
   "outputs": [],
   "source": [
    "lgbm_c = lgb.LGBMClassifier(num_leaves = 511, min_child_samples = 30,\n",
    "                            max_depth = 7, learning_rate = 0.01,\n",
    "                            lambda_l2 = 7, lambda_l1 = 9,\n",
    "                            n_estimators=2000, random_state = 42)"
   ]
  },
  {
   "cell_type": "code",
   "execution_count": 150,
   "metadata": {
    "ExecuteTime": {
     "end_time": "2020-02-29T12:39:54.493079Z",
     "start_time": "2020-02-29T12:22:25.302784Z"
    }
   },
   "outputs": [
    {
     "name": "stdout",
     "output_type": "stream",
     "text": [
      "Training until validation scores don't improve for 100 rounds\n",
      "[100]\ttrain's multi_logloss: 0.934465\tvalid's multi_logloss: 0.945101\n",
      "[200]\ttrain's multi_logloss: 0.600532\tvalid's multi_logloss: 0.61609\n",
      "[300]\ttrain's multi_logloss: 0.470066\tvalid's multi_logloss: 0.489806\n",
      "[400]\ttrain's multi_logloss: 0.412042\tvalid's multi_logloss: 0.435577\n",
      "[500]\ttrain's multi_logloss: 0.381054\tvalid's multi_logloss: 0.408683\n",
      "[600]\ttrain's multi_logloss: 0.36293\tvalid's multi_logloss: 0.394457\n",
      "[700]\ttrain's multi_logloss: 0.350425\tvalid's multi_logloss: 0.385884\n",
      "[800]\ttrain's multi_logloss: 0.341077\tvalid's multi_logloss: 0.380289\n",
      "[900]\ttrain's multi_logloss: 0.333085\tvalid's multi_logloss: 0.376341\n",
      "[1000]\ttrain's multi_logloss: 0.326364\tvalid's multi_logloss: 0.373628\n",
      "[1100]\ttrain's multi_logloss: 0.320405\tvalid's multi_logloss: 0.371512\n",
      "[1200]\ttrain's multi_logloss: 0.31489\tvalid's multi_logloss: 0.36998\n",
      "[1300]\ttrain's multi_logloss: 0.309384\tvalid's multi_logloss: 0.368729\n",
      "[1400]\ttrain's multi_logloss: 0.304505\tvalid's multi_logloss: 0.367881\n",
      "[1500]\ttrain's multi_logloss: 0.300032\tvalid's multi_logloss: 0.367241\n",
      "[1600]\ttrain's multi_logloss: 0.295618\tvalid's multi_logloss: 0.36674\n",
      "[1700]\ttrain's multi_logloss: 0.291198\tvalid's multi_logloss: 0.366169\n",
      "[1800]\ttrain's multi_logloss: 0.287052\tvalid's multi_logloss: 0.365698\n",
      "[1900]\ttrain's multi_logloss: 0.283224\tvalid's multi_logloss: 0.365382\n",
      "[2000]\ttrain's multi_logloss: 0.279606\tvalid's multi_logloss: 0.365113\n",
      "Did not meet early stopping. Best iteration is:\n",
      "[2000]\ttrain's multi_logloss: 0.279606\tvalid's multi_logloss: 0.365113\n"
     ]
    },
    {
     "data": {
      "text/plain": [
       "LGBMClassifier(boosting_type='gbdt', class_weight=None, colsample_bytree=1.0,\n",
       "               importance_type='split', lambda_l1=9, lambda_l2=7,\n",
       "               learning_rate=0.01, max_depth=7, min_child_samples=30,\n",
       "               min_child_weight=0.001, min_split_gain=0.0, n_estimators=2000,\n",
       "               n_jobs=-1, num_leaves=511, objective=None, random_state=42,\n",
       "               reg_alpha=0.0, reg_lambda=0.0, silent=True, subsample=1.0,\n",
       "               subsample_for_bin=200000, subsample_freq=0)"
      ]
     },
     "execution_count": 150,
     "metadata": {},
     "output_type": "execute_result"
    }
   ],
   "source": [
    "lgbm_c.fit(X_train, y_train, eval_set = [(X_train,y_train),(X_test, y_test)],eval_names= ['train','valid'], \n",
    "           eval_metric = 'logloss', verbose = 100, early_stopping_rounds = 100)"
   ]
  },
  {
   "cell_type": "code",
   "execution_count": 151,
   "metadata": {
    "ExecuteTime": {
     "end_time": "2020-02-29T12:47:00.004389Z",
     "start_time": "2020-02-29T12:39:57.455988Z"
    },
    "scrolled": true
   },
   "outputs": [
    {
     "data": {
      "text/plain": [
       "0.3644921425519474"
      ]
     },
     "execution_count": 151,
     "metadata": {},
     "output_type": "execute_result"
    }
   ],
   "source": [
    "train_y_pred = lgbm_c.predict_proba(X_test)\n",
    "\n",
    "from sklearn.metrics import log_loss\n",
    "#log_loss\n",
    "log_loss(y_test,train_y_pred,labels= list(set(y_test)))"
   ]
  },
  {
   "cell_type": "code",
   "execution_count": 152,
   "metadata": {
    "ExecuteTime": {
     "end_time": "2020-02-29T12:47:02.792814Z",
     "start_time": "2020-02-29T12:47:02.787814Z"
    }
   },
   "outputs": [
    {
     "data": {
      "text/plain": [
       "array([[2.33620560e-05, 1.53597336e-05, 7.73007011e-06, ...,\n",
       "        6.81641024e-06, 6.58392481e-06, 5.94748431e-05],\n",
       "       [2.69208724e-04, 1.66887260e-03, 8.53747116e-05, ...,\n",
       "        1.06185835e-04, 6.65816180e-04, 5.87093659e-01],\n",
       "       [5.22250711e-05, 1.45497773e-05, 7.68421989e-06, ...,\n",
       "        9.69511931e-06, 8.91629997e-06, 5.42765470e-05],\n",
       "       ...,\n",
       "       [4.98062189e-05, 2.87016612e-05, 1.51986130e-05, ...,\n",
       "        3.70362855e-05, 3.95152213e-05, 4.68748958e-05],\n",
       "       [1.94072498e-03, 5.55894610e-05, 2.14493750e-05, ...,\n",
       "        2.92442691e-05, 2.95886202e-05, 1.10631068e-04],\n",
       "       [1.70000721e-03, 8.79428279e-01, 9.76616925e-05, ...,\n",
       "        6.75601463e-04, 2.00427924e-04, 3.87595488e-04]])"
      ]
     },
     "execution_count": 152,
     "metadata": {},
     "output_type": "execute_result"
    }
   ],
   "source": [
    "train_y_pred"
   ]
  },
  {
   "cell_type": "code",
   "execution_count": 153,
   "metadata": {
    "ExecuteTime": {
     "end_time": "2020-02-29T12:48:10.874591Z",
     "start_time": "2020-02-29T12:47:05.451019Z"
    }
   },
   "outputs": [],
   "source": [
    "test_y_pred = lgbm_c.predict_proba(n_test_X)"
   ]
  },
  {
   "cell_type": "code",
   "execution_count": 154,
   "metadata": {
    "ExecuteTime": {
     "end_time": "2020-02-29T12:48:13.647573Z",
     "start_time": "2020-02-29T12:48:13.639573Z"
    }
   },
   "outputs": [
    {
     "data": {
      "text/plain": [
       "array([[5.26009865e-05, 6.28671504e-05, 1.22796445e-03, ...,\n",
       "        3.41334382e-04, 2.61006734e-04, 9.43440816e-05],\n",
       "       [2.53492582e-04, 4.33129838e-04, 1.65037703e-04, ...,\n",
       "        2.09592119e-04, 3.14287192e-03, 8.42937132e-04],\n",
       "       [2.59033427e-05, 1.33747723e-05, 3.85515485e-06, ...,\n",
       "        4.54317478e-06, 7.86329463e-06, 1.15231402e-05],\n",
       "       ...,\n",
       "       [1.87472187e-04, 2.49525557e-04, 1.17460787e-04, ...,\n",
       "        1.44352073e-04, 1.55323979e-04, 7.31428806e-02],\n",
       "       [2.19895090e-05, 3.27682647e-05, 8.57141128e-06, ...,\n",
       "        6.95274917e-06, 1.06644388e-05, 1.13281590e-03],\n",
       "       [1.78510961e-04, 1.20253487e-05, 5.51797086e-06, ...,\n",
       "        9.49155261e-06, 9.13219966e-06, 2.90817024e-05]])"
      ]
     },
     "execution_count": 154,
     "metadata": {},
     "output_type": "execute_result"
    }
   ],
   "source": [
    "test_y_pred"
   ]
  },
  {
   "cell_type": "markdown",
   "metadata": {},
   "source": [
    "### feature_importance"
   ]
  },
  {
   "cell_type": "code",
   "execution_count": 155,
   "metadata": {
    "ExecuteTime": {
     "end_time": "2020-02-29T12:48:16.252493Z",
     "start_time": "2020-02-29T12:48:16.227494Z"
    },
    "scrolled": true
   },
   "outputs": [
    {
     "data": {
      "text/html": [
       "<div>\n",
       "<style scoped>\n",
       "    .dataframe tbody tr th:only-of-type {\n",
       "        vertical-align: middle;\n",
       "    }\n",
       "\n",
       "    .dataframe tbody tr th {\n",
       "        vertical-align: top;\n",
       "    }\n",
       "\n",
       "    .dataframe thead th {\n",
       "        text-align: right;\n",
       "    }\n",
       "</style>\n",
       "<table border=\"1\" class=\"dataframe\">\n",
       "  <thead>\n",
       "    <tr style=\"text-align: right;\">\n",
       "      <th></th>\n",
       "      <th>importance</th>\n",
       "    </tr>\n",
       "  </thead>\n",
       "  <tbody>\n",
       "    <tr>\n",
       "      <th>psfMag_u</th>\n",
       "      <td>35768</td>\n",
       "    </tr>\n",
       "    <tr>\n",
       "      <th>psfMag_i</th>\n",
       "      <td>35759</td>\n",
       "    </tr>\n",
       "    <tr>\n",
       "      <th>psfMag_g-r</th>\n",
       "      <td>35235</td>\n",
       "    </tr>\n",
       "    <tr>\n",
       "      <th>fiberMag_i-z</th>\n",
       "      <td>33657</td>\n",
       "    </tr>\n",
       "    <tr>\n",
       "      <th>psfMag_i-z</th>\n",
       "      <td>33290</td>\n",
       "    </tr>\n",
       "    <tr>\n",
       "      <th>petroMag_u-g</th>\n",
       "      <td>32683</td>\n",
       "    </tr>\n",
       "    <tr>\n",
       "      <th>fiberMag_u-g</th>\n",
       "      <td>32162</td>\n",
       "    </tr>\n",
       "    <tr>\n",
       "      <th>modelMag_u-g</th>\n",
       "      <td>31750</td>\n",
       "    </tr>\n",
       "    <tr>\n",
       "      <th>psfMag_u-g</th>\n",
       "      <td>31093</td>\n",
       "    </tr>\n",
       "    <tr>\n",
       "      <th>modelMag_i-z</th>\n",
       "      <td>31029</td>\n",
       "    </tr>\n",
       "    <tr>\n",
       "      <th>psfMag_r-i</th>\n",
       "      <td>30480</td>\n",
       "    </tr>\n",
       "    <tr>\n",
       "      <th>fiberMag_r-i</th>\n",
       "      <td>29404</td>\n",
       "    </tr>\n",
       "    <tr>\n",
       "      <th>modelMag_g-r</th>\n",
       "      <td>29137</td>\n",
       "    </tr>\n",
       "    <tr>\n",
       "      <th>fiberMag_g-r</th>\n",
       "      <td>29060</td>\n",
       "    </tr>\n",
       "    <tr>\n",
       "      <th>modelMag_r-i</th>\n",
       "      <td>29013</td>\n",
       "    </tr>\n",
       "    <tr>\n",
       "      <th>fiberMag_r</th>\n",
       "      <td>28627</td>\n",
       "    </tr>\n",
       "    <tr>\n",
       "      <th>petroMag_g-r</th>\n",
       "      <td>25623</td>\n",
       "    </tr>\n",
       "    <tr>\n",
       "      <th>psfMag_z</th>\n",
       "      <td>25531</td>\n",
       "    </tr>\n",
       "    <tr>\n",
       "      <th>petroMag_r-z</th>\n",
       "      <td>23061</td>\n",
       "    </tr>\n",
       "    <tr>\n",
       "      <th>petroMag_z</th>\n",
       "      <td>22743</td>\n",
       "    </tr>\n",
       "    <tr>\n",
       "      <th>petroMag_r</th>\n",
       "      <td>22701</td>\n",
       "    </tr>\n",
       "    <tr>\n",
       "      <th>fiberMag_i</th>\n",
       "      <td>22653</td>\n",
       "    </tr>\n",
       "    <tr>\n",
       "      <th>petroMag_i</th>\n",
       "      <td>22235</td>\n",
       "    </tr>\n",
       "    <tr>\n",
       "      <th>fiberMag_r-z</th>\n",
       "      <td>21655</td>\n",
       "    </tr>\n",
       "    <tr>\n",
       "      <th>petroMag_u-r</th>\n",
       "      <td>21173</td>\n",
       "    </tr>\n",
       "    <tr>\n",
       "      <th>modelMag_z</th>\n",
       "      <td>20884</td>\n",
       "    </tr>\n",
       "    <tr>\n",
       "      <th>psfMag_u-r</th>\n",
       "      <td>20528</td>\n",
       "    </tr>\n",
       "    <tr>\n",
       "      <th>modelMag_r</th>\n",
       "      <td>20488</td>\n",
       "    </tr>\n",
       "    <tr>\n",
       "      <th>modelMag_r-z</th>\n",
       "      <td>20457</td>\n",
       "    </tr>\n",
       "    <tr>\n",
       "      <th>psfMag_r-z</th>\n",
       "      <td>19249</td>\n",
       "    </tr>\n",
       "    <tr>\n",
       "      <th>fiberMag_z</th>\n",
       "      <td>19223</td>\n",
       "    </tr>\n",
       "    <tr>\n",
       "      <th>fiberMag_u-r</th>\n",
       "      <td>19105</td>\n",
       "    </tr>\n",
       "    <tr>\n",
       "      <th>petroMag_g-i</th>\n",
       "      <td>17666</td>\n",
       "    </tr>\n",
       "    <tr>\n",
       "      <th>modelMag_i</th>\n",
       "      <td>17134</td>\n",
       "    </tr>\n",
       "    <tr>\n",
       "      <th>fiberMag_g-i</th>\n",
       "      <td>16964</td>\n",
       "    </tr>\n",
       "    <tr>\n",
       "      <th>petroMag_u-z</th>\n",
       "      <td>16422</td>\n",
       "    </tr>\n",
       "    <tr>\n",
       "      <th>modelMag_g-i</th>\n",
       "      <td>16413</td>\n",
       "    </tr>\n",
       "    <tr>\n",
       "      <th>petroMag_g-z</th>\n",
       "      <td>16164</td>\n",
       "    </tr>\n",
       "    <tr>\n",
       "      <th>petroMag_u-i</th>\n",
       "      <td>15979</td>\n",
       "    </tr>\n",
       "    <tr>\n",
       "      <th>modelMag_u-r</th>\n",
       "      <td>14967</td>\n",
       "    </tr>\n",
       "    <tr>\n",
       "      <th>fiberMag_u-z</th>\n",
       "      <td>14846</td>\n",
       "    </tr>\n",
       "    <tr>\n",
       "      <th>psfMag_g-i</th>\n",
       "      <td>14684</td>\n",
       "    </tr>\n",
       "    <tr>\n",
       "      <th>fiberMag_g-z</th>\n",
       "      <td>14660</td>\n",
       "    </tr>\n",
       "    <tr>\n",
       "      <th>PCA_r</th>\n",
       "      <td>14018</td>\n",
       "    </tr>\n",
       "    <tr>\n",
       "      <th>psfMag_g-z</th>\n",
       "      <td>13972</td>\n",
       "    </tr>\n",
       "    <tr>\n",
       "      <th>psfMag_u-z</th>\n",
       "      <td>13573</td>\n",
       "    </tr>\n",
       "    <tr>\n",
       "      <th>modelMag_u-i</th>\n",
       "      <td>13483</td>\n",
       "    </tr>\n",
       "    <tr>\n",
       "      <th>fiberMag_u-i</th>\n",
       "      <td>13321</td>\n",
       "    </tr>\n",
       "    <tr>\n",
       "      <th>psfMag_u-i</th>\n",
       "      <td>12665</td>\n",
       "    </tr>\n",
       "    <tr>\n",
       "      <th>modelMag_g-z</th>\n",
       "      <td>12409</td>\n",
       "    </tr>\n",
       "    <tr>\n",
       "      <th>modelMag_u-z</th>\n",
       "      <td>10727</td>\n",
       "    </tr>\n",
       "    <tr>\n",
       "      <th>PCA_z</th>\n",
       "      <td>10320</td>\n",
       "    </tr>\n",
       "    <tr>\n",
       "      <th>PCA_i</th>\n",
       "      <td>9086</td>\n",
       "    </tr>\n",
       "  </tbody>\n",
       "</table>\n",
       "</div>"
      ],
      "text/plain": [
       "              importance\n",
       "psfMag_u           35768\n",
       "psfMag_i           35759\n",
       "psfMag_g-r         35235\n",
       "fiberMag_i-z       33657\n",
       "psfMag_i-z         33290\n",
       "petroMag_u-g       32683\n",
       "fiberMag_u-g       32162\n",
       "modelMag_u-g       31750\n",
       "psfMag_u-g         31093\n",
       "modelMag_i-z       31029\n",
       "psfMag_r-i         30480\n",
       "fiberMag_r-i       29404\n",
       "modelMag_g-r       29137\n",
       "fiberMag_g-r       29060\n",
       "modelMag_r-i       29013\n",
       "fiberMag_r         28627\n",
       "petroMag_g-r       25623\n",
       "psfMag_z           25531\n",
       "petroMag_r-z       23061\n",
       "petroMag_z         22743\n",
       "petroMag_r         22701\n",
       "fiberMag_i         22653\n",
       "petroMag_i         22235\n",
       "fiberMag_r-z       21655\n",
       "petroMag_u-r       21173\n",
       "modelMag_z         20884\n",
       "psfMag_u-r         20528\n",
       "modelMag_r         20488\n",
       "modelMag_r-z       20457\n",
       "psfMag_r-z         19249\n",
       "fiberMag_z         19223\n",
       "fiberMag_u-r       19105\n",
       "petroMag_g-i       17666\n",
       "modelMag_i         17134\n",
       "fiberMag_g-i       16964\n",
       "petroMag_u-z       16422\n",
       "modelMag_g-i       16413\n",
       "petroMag_g-z       16164\n",
       "petroMag_u-i       15979\n",
       "modelMag_u-r       14967\n",
       "fiberMag_u-z       14846\n",
       "psfMag_g-i         14684\n",
       "fiberMag_g-z       14660\n",
       "PCA_r              14018\n",
       "psfMag_g-z         13972\n",
       "psfMag_u-z         13573\n",
       "modelMag_u-i       13483\n",
       "fiberMag_u-i       13321\n",
       "psfMag_u-i         12665\n",
       "modelMag_g-z       12409\n",
       "modelMag_u-z       10727\n",
       "PCA_z              10320\n",
       "PCA_i               9086"
      ]
     },
     "execution_count": 155,
     "metadata": {},
     "output_type": "execute_result"
    }
   ],
   "source": [
    "pi_df = pd.DataFrame(lgbm_c.feature_importances_, index= n_train_X.columns,columns= ['importance']).sort_values('importance',ascending = False)\n",
    "pi_df"
   ]
  },
  {
   "cell_type": "markdown",
   "metadata": {},
   "source": [
    "### 예측결과에 대해\n",
    "잘된예측 : 1,3,4,5,6,8,9,10,14,15,16,18  \n",
    "중간예측 : 0,2,7,13  \n",
    "망한예측 : 11,12,17"
   ]
  },
  {
   "cell_type": "code",
   "execution_count": 156,
   "metadata": {
    "ExecuteTime": {
     "end_time": "2020-02-29T12:55:04.167795Z",
     "start_time": "2020-02-29T12:48:18.724417Z"
    }
   },
   "outputs": [],
   "source": [
    "train_y_pred = lgbm_c.predict(X_test)"
   ]
  },
  {
   "cell_type": "code",
   "execution_count": 157,
   "metadata": {
    "ExecuteTime": {
     "end_time": "2020-02-29T12:55:07.441068Z",
     "start_time": "2020-02-29T12:55:07.437069Z"
    }
   },
   "outputs": [
    {
     "data": {
      "text/plain": [
       "(59631,)"
      ]
     },
     "execution_count": 157,
     "metadata": {},
     "output_type": "execute_result"
    }
   ],
   "source": [
    "train_y_pred.shape"
   ]
  },
  {
   "cell_type": "code",
   "execution_count": 158,
   "metadata": {
    "ExecuteTime": {
     "end_time": "2020-02-29T12:55:09.328433Z",
     "start_time": "2020-02-29T12:55:09.273434Z"
    }
   },
   "outputs": [],
   "source": [
    "cm_result = pd.DataFrame(confusion_matrix(y_test,train_y_pred))"
   ]
  },
  {
   "cell_type": "code",
   "execution_count": 159,
   "metadata": {
    "ExecuteTime": {
     "end_time": "2020-02-29T12:55:13.359358Z",
     "start_time": "2020-02-29T12:55:13.335360Z"
    }
   },
   "outputs": [
    {
     "data": {
      "text/html": [
       "<div>\n",
       "<style scoped>\n",
       "    .dataframe tbody tr th:only-of-type {\n",
       "        vertical-align: middle;\n",
       "    }\n",
       "\n",
       "    .dataframe tbody tr th {\n",
       "        vertical-align: top;\n",
       "    }\n",
       "\n",
       "    .dataframe thead th {\n",
       "        text-align: right;\n",
       "    }\n",
       "</style>\n",
       "<table border=\"1\" class=\"dataframe\">\n",
       "  <thead>\n",
       "    <tr style=\"text-align: right;\">\n",
       "      <th></th>\n",
       "      <th>0</th>\n",
       "      <th>1</th>\n",
       "      <th>2</th>\n",
       "      <th>3</th>\n",
       "      <th>4</th>\n",
       "      <th>5</th>\n",
       "      <th>6</th>\n",
       "      <th>7</th>\n",
       "      <th>8</th>\n",
       "      <th>9</th>\n",
       "      <th>10</th>\n",
       "      <th>11</th>\n",
       "      <th>12</th>\n",
       "      <th>13</th>\n",
       "      <th>14</th>\n",
       "      <th>15</th>\n",
       "      <th>16</th>\n",
       "      <th>17</th>\n",
       "      <th>18</th>\n",
       "    </tr>\n",
       "  </thead>\n",
       "  <tbody>\n",
       "    <tr>\n",
       "      <th>0</th>\n",
       "      <td>292</td>\n",
       "      <td>0</td>\n",
       "      <td>0</td>\n",
       "      <td>0</td>\n",
       "      <td>17</td>\n",
       "      <td>47</td>\n",
       "      <td>3</td>\n",
       "      <td>131</td>\n",
       "      <td>55</td>\n",
       "      <td>0</td>\n",
       "      <td>0</td>\n",
       "      <td>28</td>\n",
       "      <td>0</td>\n",
       "      <td>1</td>\n",
       "      <td>28</td>\n",
       "      <td>5</td>\n",
       "      <td>0</td>\n",
       "      <td>0</td>\n",
       "      <td>41</td>\n",
       "    </tr>\n",
       "    <tr>\n",
       "      <th>1</th>\n",
       "      <td>3</td>\n",
       "      <td>1876</td>\n",
       "      <td>0</td>\n",
       "      <td>0</td>\n",
       "      <td>0</td>\n",
       "      <td>0</td>\n",
       "      <td>0</td>\n",
       "      <td>2</td>\n",
       "      <td>15</td>\n",
       "      <td>0</td>\n",
       "      <td>4</td>\n",
       "      <td>0</td>\n",
       "      <td>0</td>\n",
       "      <td>0</td>\n",
       "      <td>0</td>\n",
       "      <td>0</td>\n",
       "      <td>4</td>\n",
       "      <td>0</td>\n",
       "      <td>47</td>\n",
       "    </tr>\n",
       "    <tr>\n",
       "      <th>2</th>\n",
       "      <td>0</td>\n",
       "      <td>0</td>\n",
       "      <td>83</td>\n",
       "      <td>49</td>\n",
       "      <td>0</td>\n",
       "      <td>0</td>\n",
       "      <td>0</td>\n",
       "      <td>0</td>\n",
       "      <td>0</td>\n",
       "      <td>0</td>\n",
       "      <td>13</td>\n",
       "      <td>0</td>\n",
       "      <td>0</td>\n",
       "      <td>0</td>\n",
       "      <td>0</td>\n",
       "      <td>0</td>\n",
       "      <td>0</td>\n",
       "      <td>0</td>\n",
       "      <td>0</td>\n",
       "    </tr>\n",
       "    <tr>\n",
       "      <th>3</th>\n",
       "      <td>0</td>\n",
       "      <td>0</td>\n",
       "      <td>35</td>\n",
       "      <td>618</td>\n",
       "      <td>0</td>\n",
       "      <td>0</td>\n",
       "      <td>0</td>\n",
       "      <td>0</td>\n",
       "      <td>2</td>\n",
       "      <td>0</td>\n",
       "      <td>98</td>\n",
       "      <td>0</td>\n",
       "      <td>0</td>\n",
       "      <td>0</td>\n",
       "      <td>0</td>\n",
       "      <td>0</td>\n",
       "      <td>0</td>\n",
       "      <td>0</td>\n",
       "      <td>0</td>\n",
       "    </tr>\n",
       "    <tr>\n",
       "      <th>4</th>\n",
       "      <td>1</td>\n",
       "      <td>0</td>\n",
       "      <td>0</td>\n",
       "      <td>0</td>\n",
       "      <td>4245</td>\n",
       "      <td>45</td>\n",
       "      <td>1</td>\n",
       "      <td>0</td>\n",
       "      <td>9</td>\n",
       "      <td>0</td>\n",
       "      <td>0</td>\n",
       "      <td>9</td>\n",
       "      <td>0</td>\n",
       "      <td>0</td>\n",
       "      <td>0</td>\n",
       "      <td>75</td>\n",
       "      <td>0</td>\n",
       "      <td>0</td>\n",
       "      <td>0</td>\n",
       "    </tr>\n",
       "    <tr>\n",
       "      <th>5</th>\n",
       "      <td>21</td>\n",
       "      <td>0</td>\n",
       "      <td>0</td>\n",
       "      <td>0</td>\n",
       "      <td>126</td>\n",
       "      <td>3696</td>\n",
       "      <td>1</td>\n",
       "      <td>60</td>\n",
       "      <td>61</td>\n",
       "      <td>0</td>\n",
       "      <td>0</td>\n",
       "      <td>2</td>\n",
       "      <td>0</td>\n",
       "      <td>0</td>\n",
       "      <td>0</td>\n",
       "      <td>71</td>\n",
       "      <td>0</td>\n",
       "      <td>0</td>\n",
       "      <td>9</td>\n",
       "    </tr>\n",
       "    <tr>\n",
       "      <th>6</th>\n",
       "      <td>0</td>\n",
       "      <td>18</td>\n",
       "      <td>0</td>\n",
       "      <td>0</td>\n",
       "      <td>13</td>\n",
       "      <td>4</td>\n",
       "      <td>10790</td>\n",
       "      <td>0</td>\n",
       "      <td>84</td>\n",
       "      <td>1</td>\n",
       "      <td>0</td>\n",
       "      <td>37</td>\n",
       "      <td>0</td>\n",
       "      <td>88</td>\n",
       "      <td>18</td>\n",
       "      <td>8</td>\n",
       "      <td>2</td>\n",
       "      <td>0</td>\n",
       "      <td>1</td>\n",
       "    </tr>\n",
       "    <tr>\n",
       "      <th>7</th>\n",
       "      <td>160</td>\n",
       "      <td>0</td>\n",
       "      <td>0</td>\n",
       "      <td>0</td>\n",
       "      <td>0</td>\n",
       "      <td>201</td>\n",
       "      <td>0</td>\n",
       "      <td>711</td>\n",
       "      <td>29</td>\n",
       "      <td>0</td>\n",
       "      <td>0</td>\n",
       "      <td>1</td>\n",
       "      <td>0</td>\n",
       "      <td>0</td>\n",
       "      <td>0</td>\n",
       "      <td>1</td>\n",
       "      <td>1</td>\n",
       "      <td>0</td>\n",
       "      <td>291</td>\n",
       "    </tr>\n",
       "    <tr>\n",
       "      <th>8</th>\n",
       "      <td>8</td>\n",
       "      <td>8</td>\n",
       "      <td>2</td>\n",
       "      <td>4</td>\n",
       "      <td>31</td>\n",
       "      <td>251</td>\n",
       "      <td>92</td>\n",
       "      <td>39</td>\n",
       "      <td>12921</td>\n",
       "      <td>1</td>\n",
       "      <td>10</td>\n",
       "      <td>162</td>\n",
       "      <td>0</td>\n",
       "      <td>49</td>\n",
       "      <td>69</td>\n",
       "      <td>13</td>\n",
       "      <td>9</td>\n",
       "      <td>0</td>\n",
       "      <td>1158</td>\n",
       "    </tr>\n",
       "    <tr>\n",
       "      <th>9</th>\n",
       "      <td>0</td>\n",
       "      <td>0</td>\n",
       "      <td>0</td>\n",
       "      <td>0</td>\n",
       "      <td>0</td>\n",
       "      <td>0</td>\n",
       "      <td>0</td>\n",
       "      <td>0</td>\n",
       "      <td>4</td>\n",
       "      <td>32</td>\n",
       "      <td>0</td>\n",
       "      <td>0</td>\n",
       "      <td>0</td>\n",
       "      <td>0</td>\n",
       "      <td>0</td>\n",
       "      <td>0</td>\n",
       "      <td>0</td>\n",
       "      <td>0</td>\n",
       "      <td>0</td>\n",
       "    </tr>\n",
       "    <tr>\n",
       "      <th>10</th>\n",
       "      <td>0</td>\n",
       "      <td>0</td>\n",
       "      <td>7</td>\n",
       "      <td>96</td>\n",
       "      <td>0</td>\n",
       "      <td>0</td>\n",
       "      <td>1</td>\n",
       "      <td>0</td>\n",
       "      <td>3</td>\n",
       "      <td>0</td>\n",
       "      <td>3996</td>\n",
       "      <td>1</td>\n",
       "      <td>0</td>\n",
       "      <td>0</td>\n",
       "      <td>0</td>\n",
       "      <td>0</td>\n",
       "      <td>0</td>\n",
       "      <td>0</td>\n",
       "      <td>0</td>\n",
       "    </tr>\n",
       "    <tr>\n",
       "      <th>11</th>\n",
       "      <td>5</td>\n",
       "      <td>35</td>\n",
       "      <td>0</td>\n",
       "      <td>0</td>\n",
       "      <td>136</td>\n",
       "      <td>31</td>\n",
       "      <td>58</td>\n",
       "      <td>11</td>\n",
       "      <td>387</td>\n",
       "      <td>1</td>\n",
       "      <td>31</td>\n",
       "      <td>580</td>\n",
       "      <td>0</td>\n",
       "      <td>244</td>\n",
       "      <td>97</td>\n",
       "      <td>57</td>\n",
       "      <td>8</td>\n",
       "      <td>0</td>\n",
       "      <td>240</td>\n",
       "    </tr>\n",
       "    <tr>\n",
       "      <th>12</th>\n",
       "      <td>1</td>\n",
       "      <td>0</td>\n",
       "      <td>0</td>\n",
       "      <td>0</td>\n",
       "      <td>0</td>\n",
       "      <td>0</td>\n",
       "      <td>0</td>\n",
       "      <td>1</td>\n",
       "      <td>1</td>\n",
       "      <td>0</td>\n",
       "      <td>0</td>\n",
       "      <td>0</td>\n",
       "      <td>0</td>\n",
       "      <td>0</td>\n",
       "      <td>0</td>\n",
       "      <td>0</td>\n",
       "      <td>0</td>\n",
       "      <td>0</td>\n",
       "      <td>1</td>\n",
       "    </tr>\n",
       "    <tr>\n",
       "      <th>13</th>\n",
       "      <td>0</td>\n",
       "      <td>0</td>\n",
       "      <td>0</td>\n",
       "      <td>0</td>\n",
       "      <td>0</td>\n",
       "      <td>1</td>\n",
       "      <td>129</td>\n",
       "      <td>6</td>\n",
       "      <td>313</td>\n",
       "      <td>0</td>\n",
       "      <td>1</td>\n",
       "      <td>156</td>\n",
       "      <td>0</td>\n",
       "      <td>1270</td>\n",
       "      <td>2</td>\n",
       "      <td>0</td>\n",
       "      <td>0</td>\n",
       "      <td>0</td>\n",
       "      <td>222</td>\n",
       "    </tr>\n",
       "    <tr>\n",
       "      <th>14</th>\n",
       "      <td>1</td>\n",
       "      <td>0</td>\n",
       "      <td>0</td>\n",
       "      <td>0</td>\n",
       "      <td>0</td>\n",
       "      <td>0</td>\n",
       "      <td>2</td>\n",
       "      <td>0</td>\n",
       "      <td>8</td>\n",
       "      <td>0</td>\n",
       "      <td>0</td>\n",
       "      <td>30</td>\n",
       "      <td>0</td>\n",
       "      <td>0</td>\n",
       "      <td>935</td>\n",
       "      <td>0</td>\n",
       "      <td>0</td>\n",
       "      <td>0</td>\n",
       "      <td>0</td>\n",
       "    </tr>\n",
       "    <tr>\n",
       "      <th>15</th>\n",
       "      <td>0</td>\n",
       "      <td>0</td>\n",
       "      <td>0</td>\n",
       "      <td>0</td>\n",
       "      <td>83</td>\n",
       "      <td>38</td>\n",
       "      <td>0</td>\n",
       "      <td>0</td>\n",
       "      <td>1</td>\n",
       "      <td>0</td>\n",
       "      <td>0</td>\n",
       "      <td>4</td>\n",
       "      <td>0</td>\n",
       "      <td>0</td>\n",
       "      <td>0</td>\n",
       "      <td>4262</td>\n",
       "      <td>0</td>\n",
       "      <td>0</td>\n",
       "      <td>0</td>\n",
       "    </tr>\n",
       "    <tr>\n",
       "      <th>16</th>\n",
       "      <td>0</td>\n",
       "      <td>10</td>\n",
       "      <td>0</td>\n",
       "      <td>0</td>\n",
       "      <td>0</td>\n",
       "      <td>0</td>\n",
       "      <td>1</td>\n",
       "      <td>0</td>\n",
       "      <td>3</td>\n",
       "      <td>0</td>\n",
       "      <td>0</td>\n",
       "      <td>11</td>\n",
       "      <td>0</td>\n",
       "      <td>0</td>\n",
       "      <td>0</td>\n",
       "      <td>0</td>\n",
       "      <td>321</td>\n",
       "      <td>0</td>\n",
       "      <td>0</td>\n",
       "    </tr>\n",
       "    <tr>\n",
       "      <th>17</th>\n",
       "      <td>1</td>\n",
       "      <td>0</td>\n",
       "      <td>0</td>\n",
       "      <td>4</td>\n",
       "      <td>0</td>\n",
       "      <td>0</td>\n",
       "      <td>3</td>\n",
       "      <td>2</td>\n",
       "      <td>3</td>\n",
       "      <td>0</td>\n",
       "      <td>0</td>\n",
       "      <td>2</td>\n",
       "      <td>0</td>\n",
       "      <td>3</td>\n",
       "      <td>0</td>\n",
       "      <td>0</td>\n",
       "      <td>0</td>\n",
       "      <td>0</td>\n",
       "      <td>0</td>\n",
       "    </tr>\n",
       "    <tr>\n",
       "      <th>18</th>\n",
       "      <td>103</td>\n",
       "      <td>5</td>\n",
       "      <td>0</td>\n",
       "      <td>0</td>\n",
       "      <td>0</td>\n",
       "      <td>91</td>\n",
       "      <td>1</td>\n",
       "      <td>360</td>\n",
       "      <td>467</td>\n",
       "      <td>0</td>\n",
       "      <td>0</td>\n",
       "      <td>15</td>\n",
       "      <td>0</td>\n",
       "      <td>1</td>\n",
       "      <td>0</td>\n",
       "      <td>2</td>\n",
       "      <td>0</td>\n",
       "      <td>0</td>\n",
       "      <td>5478</td>\n",
       "    </tr>\n",
       "  </tbody>\n",
       "</table>\n",
       "</div>"
      ],
      "text/plain": [
       "     0     1   2    3     4     5      6    7      8   9     10   11  12  \\\n",
       "0   292     0   0    0    17    47      3  131     55   0     0   28   0   \n",
       "1     3  1876   0    0     0     0      0    2     15   0     4    0   0   \n",
       "2     0     0  83   49     0     0      0    0      0   0    13    0   0   \n",
       "3     0     0  35  618     0     0      0    0      2   0    98    0   0   \n",
       "4     1     0   0    0  4245    45      1    0      9   0     0    9   0   \n",
       "5    21     0   0    0   126  3696      1   60     61   0     0    2   0   \n",
       "6     0    18   0    0    13     4  10790    0     84   1     0   37   0   \n",
       "7   160     0   0    0     0   201      0  711     29   0     0    1   0   \n",
       "8     8     8   2    4    31   251     92   39  12921   1    10  162   0   \n",
       "9     0     0   0    0     0     0      0    0      4  32     0    0   0   \n",
       "10    0     0   7   96     0     0      1    0      3   0  3996    1   0   \n",
       "11    5    35   0    0   136    31     58   11    387   1    31  580   0   \n",
       "12    1     0   0    0     0     0      0    1      1   0     0    0   0   \n",
       "13    0     0   0    0     0     1    129    6    313   0     1  156   0   \n",
       "14    1     0   0    0     0     0      2    0      8   0     0   30   0   \n",
       "15    0     0   0    0    83    38      0    0      1   0     0    4   0   \n",
       "16    0    10   0    0     0     0      1    0      3   0     0   11   0   \n",
       "17    1     0   0    4     0     0      3    2      3   0     0    2   0   \n",
       "18  103     5   0    0     0    91      1  360    467   0     0   15   0   \n",
       "\n",
       "      13   14    15   16  17    18  \n",
       "0      1   28     5    0   0    41  \n",
       "1      0    0     0    4   0    47  \n",
       "2      0    0     0    0   0     0  \n",
       "3      0    0     0    0   0     0  \n",
       "4      0    0    75    0   0     0  \n",
       "5      0    0    71    0   0     9  \n",
       "6     88   18     8    2   0     1  \n",
       "7      0    0     1    1   0   291  \n",
       "8     49   69    13    9   0  1158  \n",
       "9      0    0     0    0   0     0  \n",
       "10     0    0     0    0   0     0  \n",
       "11   244   97    57    8   0   240  \n",
       "12     0    0     0    0   0     1  \n",
       "13  1270    2     0    0   0   222  \n",
       "14     0  935     0    0   0     0  \n",
       "15     0    0  4262    0   0     0  \n",
       "16     0    0     0  321   0     0  \n",
       "17     3    0     0    0   0     0  \n",
       "18     1    0     2    0   0  5478  "
      ]
     },
     "execution_count": 159,
     "metadata": {},
     "output_type": "execute_result"
    }
   ],
   "source": [
    "cm_result"
   ]
  },
  {
   "cell_type": "code",
   "execution_count": 160,
   "metadata": {
    "ExecuteTime": {
     "end_time": "2020-02-29T12:55:16.920258Z",
     "start_time": "2020-02-29T12:55:15.966277Z"
    },
    "scrolled": false
   },
   "outputs": [
    {
     "data": {
      "image/png": "[encoded data removed]",
      "text/plain": [
       "<Figure size 1080x1080 with 2 Axes>"
      ]
     },
     "metadata": {},
     "output_type": "display_data"
    }
   ],
   "source": [
    "plt.figure(figsize =(15,15))\n",
    "sns.heatmap(cm_result/np.sum(cm_result),annot = True, cmap ='RdYlGn',fmt='.1%')\n",
    "plt.ylabel(\"real\",fontsize=20)\n",
    "plt.xlabel(\"predict\",fontsize=20)\n",
    "plt.show()"
   ]
  },
  {
   "cell_type": "markdown",
   "metadata": {},
   "source": [
    "## 각각하나씩 진행후 비교 (sfm)"
   ]
  },
  {
   "cell_type": "code",
   "execution_count": 126,
   "metadata": {
    "ExecuteTime": {
     "end_time": "2020-02-29T11:29:32.987630Z",
     "start_time": "2020-02-29T11:29:32.946631Z"
    }
   },
   "outputs": [],
   "source": [
    "n_train_X = train_X[embeded_lgb_feature]\n",
    "train_y = train_df['type_num']\n",
    "n_test_X = test_X[embeded_lgb_feature]"
   ]
  },
  {
   "cell_type": "code",
   "execution_count": 132,
   "metadata": {
    "ExecuteTime": {
     "end_time": "2020-02-29T11:55:29.293971Z",
     "start_time": "2020-02-29T11:55:29.106977Z"
    }
   },
   "outputs": [],
   "source": [
    "X_train, X_test, y_train, y_test = train_test_split(n_train_X, train_y, test_size=0.3, random_state=42,stratify = train_y)"
   ]
  },
  {
   "cell_type": "code",
   "execution_count": 133,
   "metadata": {
    "ExecuteTime": {
     "end_time": "2020-02-29T11:55:31.709897Z",
     "start_time": "2020-02-29T11:55:31.704896Z"
    }
   },
   "outputs": [],
   "source": [
    "lgbm_c = lgb.LGBMClassifier(num_leaves = 511, min_child_samples = 30,\n",
    "                            max_depth = 7, learning_rate = 0.01,\n",
    "                            lambda_l2 = 7, lambda_l1 = 9,\n",
    "                            n_estimators=2000, random_state = 42)"
   ]
  },
  {
   "cell_type": "code",
   "execution_count": 134,
   "metadata": {
    "ExecuteTime": {
     "end_time": "2020-02-29T12:05:06.420493Z",
     "start_time": "2020-02-29T11:55:33.942484Z"
    }
   },
   "outputs": [
    {
     "name": "stdout",
     "output_type": "stream",
     "text": [
      "Training until validation scores don't improve for 100 rounds\n",
      "[100]\ttrain's multi_logloss: 0.926682\tvalid's multi_logloss: 0.933081\n",
      "[200]\ttrain's multi_logloss: 0.591362\tvalid's multi_logloss: 0.601302\n",
      "[300]\ttrain's multi_logloss: 0.462592\tvalid's multi_logloss: 0.475586\n",
      "[400]\ttrain's multi_logloss: 0.405155\tvalid's multi_logloss: 0.421325\n",
      "[500]\ttrain's multi_logloss: 0.374798\tvalid's multi_logloss: 0.394721\n",
      "[600]\ttrain's multi_logloss: 0.356109\tvalid's multi_logloss: 0.380061\n",
      "[700]\ttrain's multi_logloss: 0.34292\tvalid's multi_logloss: 0.370995\n",
      "[800]\ttrain's multi_logloss: 0.332961\tvalid's multi_logloss: 0.36514\n",
      "[900]\ttrain's multi_logloss: 0.324722\tvalid's multi_logloss: 0.360941\n",
      "[1000]\ttrain's multi_logloss: 0.317681\tvalid's multi_logloss: 0.358092\n",
      "[1100]\ttrain's multi_logloss: 0.311253\tvalid's multi_logloss: 0.356066\n",
      "[1200]\ttrain's multi_logloss: 0.305449\tvalid's multi_logloss: 0.354558\n",
      "[1300]\ttrain's multi_logloss: 0.30006\tvalid's multi_logloss: 0.35334\n",
      "[1400]\ttrain's multi_logloss: 0.294981\tvalid's multi_logloss: 0.352462\n",
      "[1500]\ttrain's multi_logloss: 0.290134\tvalid's multi_logloss: 0.351846\n",
      "[1600]\ttrain's multi_logloss: 0.285604\tvalid's multi_logloss: 0.351314\n",
      "[1700]\ttrain's multi_logloss: 0.281003\tvalid's multi_logloss: 0.350905\n",
      "[1800]\ttrain's multi_logloss: 0.276755\tvalid's multi_logloss: 0.350611\n",
      "[1900]\ttrain's multi_logloss: 0.272848\tvalid's multi_logloss: 0.350396\n",
      "[2000]\ttrain's multi_logloss: 0.269243\tvalid's multi_logloss: 0.350256\n",
      "Did not meet early stopping. Best iteration is:\n",
      "[2000]\ttrain's multi_logloss: 0.269243\tvalid's multi_logloss: 0.350256\n"
     ]
    },
    {
     "data": {
      "text/plain": [
       "LGBMClassifier(boosting_type='gbdt', class_weight=None, colsample_bytree=1.0,\n",
       "               importance_type='split', lambda_l1=9, lambda_l2=7,\n",
       "               learning_rate=0.01, max_depth=7, min_child_samples=30,\n",
       "               min_child_weight=0.001, min_split_gain=0.0, n_estimators=2000,\n",
       "               n_jobs=-1, num_leaves=511, objective=None, random_state=42,\n",
       "               reg_alpha=0.0, reg_lambda=0.0, silent=True, subsample=1.0,\n",
       "               subsample_for_bin=200000, subsample_freq=0)"
      ]
     },
     "execution_count": 134,
     "metadata": {},
     "output_type": "execute_result"
    }
   ],
   "source": [
    "lgbm_c.fit(X_train, y_train, eval_set = [(X_train,y_train),(X_test, y_test)],eval_names= ['train','valid'], \n",
    "           eval_metric = 'logloss', verbose = 100, early_stopping_rounds = 100)"
   ]
  },
  {
   "cell_type": "code",
   "execution_count": 135,
   "metadata": {
    "ExecuteTime": {
     "end_time": "2020-02-29T12:11:51.251769Z",
     "start_time": "2020-02-29T12:05:08.750974Z"
    },
    "scrolled": true
   },
   "outputs": [
    {
     "data": {
      "text/plain": [
       "0.34963466232781926"
      ]
     },
     "execution_count": 135,
     "metadata": {},
     "output_type": "execute_result"
    }
   ],
   "source": [
    "train_y_pred = lgbm_c.predict_proba(X_test)\n",
    "\n",
    "from sklearn.metrics import log_loss\n",
    "#log_loss\n",
    "log_loss(y_test,train_y_pred,labels= list(set(y_test)))"
   ]
  },
  {
   "cell_type": "code",
   "execution_count": 136,
   "metadata": {
    "ExecuteTime": {
     "end_time": "2020-02-29T12:11:53.529908Z",
     "start_time": "2020-02-29T12:11:53.519908Z"
    }
   },
   "outputs": [
    {
     "data": {
      "text/plain": [
       "array([[9.55475491e-06, 6.09802793e-06, 1.84902969e-06, ...,\n",
       "        3.22605051e-06, 2.06227378e-06, 2.69340485e-05],\n",
       "       [3.07785248e-04, 5.56895182e-04, 6.40413278e-05, ...,\n",
       "        7.46222460e-05, 4.56093793e-04, 6.03854573e-01],\n",
       "       [3.09701654e-04, 4.01258694e-05, 1.65407285e-05, ...,\n",
       "        1.79112338e-05, 2.75527878e-05, 3.47381304e-04],\n",
       "       ...,\n",
       "       [9.58953938e-05, 1.61176194e-04, 6.37799708e-05, ...,\n",
       "        1.72282841e-04, 9.93112897e-04, 1.76567410e-04],\n",
       "       [2.77097798e-03, 5.76701643e-05, 2.65412181e-05, ...,\n",
       "        2.32880168e-05, 3.95956696e-05, 1.29575771e-04],\n",
       "       [1.65449326e-03, 8.90947749e-01, 9.68536377e-05, ...,\n",
       "        9.67741580e-04, 2.85150068e-04, 1.78161056e-04]])"
      ]
     },
     "execution_count": 136,
     "metadata": {},
     "output_type": "execute_result"
    }
   ],
   "source": [
    "train_y_pred"
   ]
  },
  {
   "cell_type": "code",
   "execution_count": 138,
   "metadata": {
    "ExecuteTime": {
     "end_time": "2020-02-29T12:13:51.098564Z",
     "start_time": "2020-02-29T12:12:36.836853Z"
    }
   },
   "outputs": [],
   "source": [
    "test_y_pred = lgbm_c.predict_proba(n_test_X)"
   ]
  },
  {
   "cell_type": "code",
   "execution_count": 139,
   "metadata": {
    "ExecuteTime": {
     "end_time": "2020-02-29T12:13:53.554489Z",
     "start_time": "2020-02-29T12:13:53.546488Z"
    }
   },
   "outputs": [
    {
     "data": {
      "text/plain": [
       "array([[1.19557881e-04, 1.97613033e-04, 2.65485006e-03, ...,\n",
       "        4.75658023e-04, 5.27706180e-04, 7.67474354e-05],\n",
       "       [5.08127702e-04, 7.73766263e-04, 2.13999834e-04, ...,\n",
       "        3.95387176e-04, 8.23773077e-03, 5.54507038e-03],\n",
       "       [5.36254615e-05, 1.83059355e-04, 5.68867656e-06, ...,\n",
       "        1.19778216e-05, 1.64537463e-05, 1.37273845e-05],\n",
       "       ...,\n",
       "       [1.37287388e-05, 1.94574988e-05, 1.79719189e-06, ...,\n",
       "        4.74622185e-06, 3.50396161e-06, 2.56154753e-04],\n",
       "       [1.34259168e-05, 1.95976597e-05, 2.32859716e-06, ...,\n",
       "        4.16460203e-06, 2.98716113e-06, 1.49602123e-04],\n",
       "       [6.15788807e-04, 5.38977928e-05, 1.54708853e-05, ...,\n",
       "        3.34549033e-05, 1.68706851e-05, 2.48572825e-04]])"
      ]
     },
     "execution_count": 139,
     "metadata": {},
     "output_type": "execute_result"
    }
   ],
   "source": [
    "test_y_pred"
   ]
  },
  {
   "cell_type": "markdown",
   "metadata": {},
   "source": [
    "### feature_importance"
   ]
  },
  {
   "cell_type": "code",
   "execution_count": 141,
   "metadata": {
    "ExecuteTime": {
     "end_time": "2020-02-29T12:14:13.155709Z",
     "start_time": "2020-02-29T12:14:13.100712Z"
    },
    "scrolled": true
   },
   "outputs": [
    {
     "data": {
      "text/html": [
       "<div>\n",
       "<style scoped>\n",
       "    .dataframe tbody tr th:only-of-type {\n",
       "        vertical-align: middle;\n",
       "    }\n",
       "\n",
       "    .dataframe tbody tr th {\n",
       "        vertical-align: top;\n",
       "    }\n",
       "\n",
       "    .dataframe thead th {\n",
       "        text-align: right;\n",
       "    }\n",
       "</style>\n",
       "<table border=\"1\" class=\"dataframe\">\n",
       "  <thead>\n",
       "    <tr style=\"text-align: right;\">\n",
       "      <th></th>\n",
       "      <th>importance</th>\n",
       "    </tr>\n",
       "  </thead>\n",
       "  <tbody>\n",
       "    <tr>\n",
       "      <th>fiberMag_r-i</th>\n",
       "      <td>65812</td>\n",
       "    </tr>\n",
       "    <tr>\n",
       "      <th>psfMag_i-z</th>\n",
       "      <td>65222</td>\n",
       "    </tr>\n",
       "    <tr>\n",
       "      <th>modelMag_z</th>\n",
       "      <td>64208</td>\n",
       "    </tr>\n",
       "    <tr>\n",
       "      <th>fiberMag_g-r</th>\n",
       "      <td>63004</td>\n",
       "    </tr>\n",
       "    <tr>\n",
       "      <th>psfMag_g-r</th>\n",
       "      <td>62726</td>\n",
       "    </tr>\n",
       "    <tr>\n",
       "      <th>fiberID</th>\n",
       "      <td>61704</td>\n",
       "    </tr>\n",
       "    <tr>\n",
       "      <th>psfMag_r-i</th>\n",
       "      <td>58923</td>\n",
       "    </tr>\n",
       "    <tr>\n",
       "      <th>petroMag_u-g</th>\n",
       "      <td>52205</td>\n",
       "    </tr>\n",
       "    <tr>\n",
       "      <th>std_g</th>\n",
       "      <td>51478</td>\n",
       "    </tr>\n",
       "    <tr>\n",
       "      <th>psfMag_g</th>\n",
       "      <td>51384</td>\n",
       "    </tr>\n",
       "    <tr>\n",
       "      <th>modelMag_u-g</th>\n",
       "      <td>51160</td>\n",
       "    </tr>\n",
       "    <tr>\n",
       "      <th>std_u</th>\n",
       "      <td>51136</td>\n",
       "    </tr>\n",
       "    <tr>\n",
       "      <th>fiberMag_u-g</th>\n",
       "      <td>47934</td>\n",
       "    </tr>\n",
       "    <tr>\n",
       "      <th>fiberMag_i</th>\n",
       "      <td>47730</td>\n",
       "    </tr>\n",
       "    <tr>\n",
       "      <th>std_r</th>\n",
       "      <td>46370</td>\n",
       "    </tr>\n",
       "    <tr>\n",
       "      <th>psfMag_u-g</th>\n",
       "      <td>45502</td>\n",
       "    </tr>\n",
       "    <tr>\n",
       "      <th>std_z</th>\n",
       "      <td>44182</td>\n",
       "    </tr>\n",
       "    <tr>\n",
       "      <th>psfMag_r</th>\n",
       "      <td>43970</td>\n",
       "    </tr>\n",
       "    <tr>\n",
       "      <th>median_z</th>\n",
       "      <td>43336</td>\n",
       "    </tr>\n",
       "    <tr>\n",
       "      <th>median_u</th>\n",
       "      <td>41646</td>\n",
       "    </tr>\n",
       "    <tr>\n",
       "      <th>psfMag_z</th>\n",
       "      <td>38824</td>\n",
       "    </tr>\n",
       "    <tr>\n",
       "      <th>psfMag_i</th>\n",
       "      <td>35230</td>\n",
       "    </tr>\n",
       "    <tr>\n",
       "      <th>median_g</th>\n",
       "      <td>33867</td>\n",
       "    </tr>\n",
       "  </tbody>\n",
       "</table>\n",
       "</div>"
      ],
      "text/plain": [
       "              importance\n",
       "fiberMag_r-i       65812\n",
       "psfMag_i-z         65222\n",
       "modelMag_z         64208\n",
       "fiberMag_g-r       63004\n",
       "psfMag_g-r         62726\n",
       "fiberID            61704\n",
       "psfMag_r-i         58923\n",
       "petroMag_u-g       52205\n",
       "std_g              51478\n",
       "psfMag_g           51384\n",
       "modelMag_u-g       51160\n",
       "std_u              51136\n",
       "fiberMag_u-g       47934\n",
       "fiberMag_i         47730\n",
       "std_r              46370\n",
       "psfMag_u-g         45502\n",
       "std_z              44182\n",
       "psfMag_r           43970\n",
       "median_z           43336\n",
       "median_u           41646\n",
       "psfMag_z           38824\n",
       "psfMag_i           35230\n",
       "median_g           33867"
      ]
     },
     "execution_count": 141,
     "metadata": {},
     "output_type": "execute_result"
    }
   ],
   "source": [
    "pi_df = pd.DataFrame(lgbm_c.feature_importances_, index= n_train_X.columns,columns= ['importance']).sort_values('importance',ascending = False)\n",
    "pi_df"
   ]
  },
  {
   "cell_type": "markdown",
   "metadata": {},
   "source": [
    "### 예측결과에 대해\n",
    "잘된예측 : 1,3,4,5,6,8,9,10,14,15,16,18  \n",
    "중간예측 : 0,2,7,13  \n",
    "망한예측 : 11,12,17"
   ]
  },
  {
   "cell_type": "code",
   "execution_count": 142,
   "metadata": {
    "ExecuteTime": {
     "end_time": "2020-02-29T12:22:02.543015Z",
     "start_time": "2020-02-29T12:14:28.176150Z"
    }
   },
   "outputs": [],
   "source": [
    "train_y_pred = lgbm_c.predict(X_test)"
   ]
  },
  {
   "cell_type": "code",
   "execution_count": 143,
   "metadata": {
    "ExecuteTime": {
     "end_time": "2020-02-29T12:22:05.188535Z",
     "start_time": "2020-02-29T12:22:05.183535Z"
    }
   },
   "outputs": [
    {
     "data": {
      "text/plain": [
       "(59631,)"
      ]
     },
     "execution_count": 143,
     "metadata": {},
     "output_type": "execute_result"
    }
   ],
   "source": [
    "train_y_pred.shape"
   ]
  },
  {
   "cell_type": "code",
   "execution_count": 144,
   "metadata": {
    "ExecuteTime": {
     "end_time": "2020-02-29T12:22:06.774368Z",
     "start_time": "2020-02-29T12:22:06.698368Z"
    }
   },
   "outputs": [],
   "source": [
    "cm_result = pd.DataFrame(confusion_matrix(y_test,train_y_pred))"
   ]
  },
  {
   "cell_type": "code",
   "execution_count": 145,
   "metadata": {
    "ExecuteTime": {
     "end_time": "2020-02-29T12:22:09.915093Z",
     "start_time": "2020-02-29T12:22:09.888095Z"
    }
   },
   "outputs": [
    {
     "data": {
      "text/html": [
       "<div>\n",
       "<style scoped>\n",
       "    .dataframe tbody tr th:only-of-type {\n",
       "        vertical-align: middle;\n",
       "    }\n",
       "\n",
       "    .dataframe tbody tr th {\n",
       "        vertical-align: top;\n",
       "    }\n",
       "\n",
       "    .dataframe thead th {\n",
       "        text-align: right;\n",
       "    }\n",
       "</style>\n",
       "<table border=\"1\" class=\"dataframe\">\n",
       "  <thead>\n",
       "    <tr style=\"text-align: right;\">\n",
       "      <th></th>\n",
       "      <th>0</th>\n",
       "      <th>1</th>\n",
       "      <th>2</th>\n",
       "      <th>3</th>\n",
       "      <th>4</th>\n",
       "      <th>5</th>\n",
       "      <th>6</th>\n",
       "      <th>7</th>\n",
       "      <th>8</th>\n",
       "      <th>9</th>\n",
       "      <th>10</th>\n",
       "      <th>11</th>\n",
       "      <th>12</th>\n",
       "      <th>13</th>\n",
       "      <th>14</th>\n",
       "      <th>15</th>\n",
       "      <th>16</th>\n",
       "      <th>17</th>\n",
       "      <th>18</th>\n",
       "    </tr>\n",
       "  </thead>\n",
       "  <tbody>\n",
       "    <tr>\n",
       "      <th>0</th>\n",
       "      <td>279</td>\n",
       "      <td>0</td>\n",
       "      <td>0</td>\n",
       "      <td>0</td>\n",
       "      <td>15</td>\n",
       "      <td>56</td>\n",
       "      <td>3</td>\n",
       "      <td>134</td>\n",
       "      <td>44</td>\n",
       "      <td>0</td>\n",
       "      <td>0</td>\n",
       "      <td>34</td>\n",
       "      <td>0</td>\n",
       "      <td>0</td>\n",
       "      <td>28</td>\n",
       "      <td>4</td>\n",
       "      <td>0</td>\n",
       "      <td>0</td>\n",
       "      <td>51</td>\n",
       "    </tr>\n",
       "    <tr>\n",
       "      <th>1</th>\n",
       "      <td>1</td>\n",
       "      <td>1872</td>\n",
       "      <td>0</td>\n",
       "      <td>0</td>\n",
       "      <td>0</td>\n",
       "      <td>0</td>\n",
       "      <td>0</td>\n",
       "      <td>3</td>\n",
       "      <td>15</td>\n",
       "      <td>0</td>\n",
       "      <td>4</td>\n",
       "      <td>2</td>\n",
       "      <td>0</td>\n",
       "      <td>0</td>\n",
       "      <td>0</td>\n",
       "      <td>0</td>\n",
       "      <td>5</td>\n",
       "      <td>0</td>\n",
       "      <td>49</td>\n",
       "    </tr>\n",
       "    <tr>\n",
       "      <th>2</th>\n",
       "      <td>0</td>\n",
       "      <td>0</td>\n",
       "      <td>80</td>\n",
       "      <td>49</td>\n",
       "      <td>0</td>\n",
       "      <td>0</td>\n",
       "      <td>0</td>\n",
       "      <td>0</td>\n",
       "      <td>0</td>\n",
       "      <td>0</td>\n",
       "      <td>16</td>\n",
       "      <td>0</td>\n",
       "      <td>0</td>\n",
       "      <td>0</td>\n",
       "      <td>0</td>\n",
       "      <td>0</td>\n",
       "      <td>0</td>\n",
       "      <td>0</td>\n",
       "      <td>0</td>\n",
       "    </tr>\n",
       "    <tr>\n",
       "      <th>3</th>\n",
       "      <td>0</td>\n",
       "      <td>0</td>\n",
       "      <td>36</td>\n",
       "      <td>622</td>\n",
       "      <td>0</td>\n",
       "      <td>0</td>\n",
       "      <td>0</td>\n",
       "      <td>0</td>\n",
       "      <td>2</td>\n",
       "      <td>0</td>\n",
       "      <td>93</td>\n",
       "      <td>0</td>\n",
       "      <td>0</td>\n",
       "      <td>0</td>\n",
       "      <td>0</td>\n",
       "      <td>0</td>\n",
       "      <td>0</td>\n",
       "      <td>0</td>\n",
       "      <td>0</td>\n",
       "    </tr>\n",
       "    <tr>\n",
       "      <th>4</th>\n",
       "      <td>0</td>\n",
       "      <td>0</td>\n",
       "      <td>0</td>\n",
       "      <td>0</td>\n",
       "      <td>4240</td>\n",
       "      <td>44</td>\n",
       "      <td>1</td>\n",
       "      <td>0</td>\n",
       "      <td>8</td>\n",
       "      <td>0</td>\n",
       "      <td>0</td>\n",
       "      <td>8</td>\n",
       "      <td>0</td>\n",
       "      <td>0</td>\n",
       "      <td>0</td>\n",
       "      <td>84</td>\n",
       "      <td>0</td>\n",
       "      <td>0</td>\n",
       "      <td>0</td>\n",
       "    </tr>\n",
       "    <tr>\n",
       "      <th>5</th>\n",
       "      <td>25</td>\n",
       "      <td>0</td>\n",
       "      <td>0</td>\n",
       "      <td>0</td>\n",
       "      <td>132</td>\n",
       "      <td>3704</td>\n",
       "      <td>0</td>\n",
       "      <td>57</td>\n",
       "      <td>42</td>\n",
       "      <td>0</td>\n",
       "      <td>0</td>\n",
       "      <td>0</td>\n",
       "      <td>0</td>\n",
       "      <td>0</td>\n",
       "      <td>0</td>\n",
       "      <td>75</td>\n",
       "      <td>0</td>\n",
       "      <td>0</td>\n",
       "      <td>12</td>\n",
       "    </tr>\n",
       "    <tr>\n",
       "      <th>6</th>\n",
       "      <td>3</td>\n",
       "      <td>18</td>\n",
       "      <td>0</td>\n",
       "      <td>0</td>\n",
       "      <td>15</td>\n",
       "      <td>4</td>\n",
       "      <td>10778</td>\n",
       "      <td>0</td>\n",
       "      <td>83</td>\n",
       "      <td>1</td>\n",
       "      <td>1</td>\n",
       "      <td>36</td>\n",
       "      <td>0</td>\n",
       "      <td>95</td>\n",
       "      <td>18</td>\n",
       "      <td>9</td>\n",
       "      <td>2</td>\n",
       "      <td>0</td>\n",
       "      <td>1</td>\n",
       "    </tr>\n",
       "    <tr>\n",
       "      <th>7</th>\n",
       "      <td>152</td>\n",
       "      <td>0</td>\n",
       "      <td>0</td>\n",
       "      <td>0</td>\n",
       "      <td>0</td>\n",
       "      <td>207</td>\n",
       "      <td>0</td>\n",
       "      <td>700</td>\n",
       "      <td>34</td>\n",
       "      <td>0</td>\n",
       "      <td>0</td>\n",
       "      <td>1</td>\n",
       "      <td>0</td>\n",
       "      <td>0</td>\n",
       "      <td>0</td>\n",
       "      <td>1</td>\n",
       "      <td>0</td>\n",
       "      <td>0</td>\n",
       "      <td>300</td>\n",
       "    </tr>\n",
       "    <tr>\n",
       "      <th>8</th>\n",
       "      <td>15</td>\n",
       "      <td>5</td>\n",
       "      <td>1</td>\n",
       "      <td>4</td>\n",
       "      <td>24</td>\n",
       "      <td>222</td>\n",
       "      <td>107</td>\n",
       "      <td>26</td>\n",
       "      <td>13248</td>\n",
       "      <td>0</td>\n",
       "      <td>11</td>\n",
       "      <td>179</td>\n",
       "      <td>0</td>\n",
       "      <td>90</td>\n",
       "      <td>65</td>\n",
       "      <td>12</td>\n",
       "      <td>11</td>\n",
       "      <td>0</td>\n",
       "      <td>807</td>\n",
       "    </tr>\n",
       "    <tr>\n",
       "      <th>9</th>\n",
       "      <td>0</td>\n",
       "      <td>0</td>\n",
       "      <td>0</td>\n",
       "      <td>0</td>\n",
       "      <td>0</td>\n",
       "      <td>0</td>\n",
       "      <td>0</td>\n",
       "      <td>0</td>\n",
       "      <td>0</td>\n",
       "      <td>36</td>\n",
       "      <td>0</td>\n",
       "      <td>0</td>\n",
       "      <td>0</td>\n",
       "      <td>0</td>\n",
       "      <td>0</td>\n",
       "      <td>0</td>\n",
       "      <td>0</td>\n",
       "      <td>0</td>\n",
       "      <td>0</td>\n",
       "    </tr>\n",
       "    <tr>\n",
       "      <th>10</th>\n",
       "      <td>0</td>\n",
       "      <td>2</td>\n",
       "      <td>6</td>\n",
       "      <td>97</td>\n",
       "      <td>0</td>\n",
       "      <td>0</td>\n",
       "      <td>0</td>\n",
       "      <td>0</td>\n",
       "      <td>5</td>\n",
       "      <td>0</td>\n",
       "      <td>3993</td>\n",
       "      <td>1</td>\n",
       "      <td>0</td>\n",
       "      <td>0</td>\n",
       "      <td>0</td>\n",
       "      <td>0</td>\n",
       "      <td>0</td>\n",
       "      <td>0</td>\n",
       "      <td>0</td>\n",
       "    </tr>\n",
       "    <tr>\n",
       "      <th>11</th>\n",
       "      <td>9</td>\n",
       "      <td>34</td>\n",
       "      <td>0</td>\n",
       "      <td>0</td>\n",
       "      <td>143</td>\n",
       "      <td>33</td>\n",
       "      <td>69</td>\n",
       "      <td>8</td>\n",
       "      <td>354</td>\n",
       "      <td>1</td>\n",
       "      <td>33</td>\n",
       "      <td>578</td>\n",
       "      <td>0</td>\n",
       "      <td>247</td>\n",
       "      <td>93</td>\n",
       "      <td>52</td>\n",
       "      <td>7</td>\n",
       "      <td>0</td>\n",
       "      <td>260</td>\n",
       "    </tr>\n",
       "    <tr>\n",
       "      <th>12</th>\n",
       "      <td>0</td>\n",
       "      <td>0</td>\n",
       "      <td>0</td>\n",
       "      <td>0</td>\n",
       "      <td>0</td>\n",
       "      <td>0</td>\n",
       "      <td>0</td>\n",
       "      <td>2</td>\n",
       "      <td>1</td>\n",
       "      <td>0</td>\n",
       "      <td>0</td>\n",
       "      <td>0</td>\n",
       "      <td>0</td>\n",
       "      <td>0</td>\n",
       "      <td>0</td>\n",
       "      <td>0</td>\n",
       "      <td>0</td>\n",
       "      <td>0</td>\n",
       "      <td>1</td>\n",
       "    </tr>\n",
       "    <tr>\n",
       "      <th>13</th>\n",
       "      <td>1</td>\n",
       "      <td>0</td>\n",
       "      <td>0</td>\n",
       "      <td>0</td>\n",
       "      <td>0</td>\n",
       "      <td>3</td>\n",
       "      <td>161</td>\n",
       "      <td>4</td>\n",
       "      <td>253</td>\n",
       "      <td>0</td>\n",
       "      <td>1</td>\n",
       "      <td>139</td>\n",
       "      <td>0</td>\n",
       "      <td>1278</td>\n",
       "      <td>4</td>\n",
       "      <td>0</td>\n",
       "      <td>0</td>\n",
       "      <td>0</td>\n",
       "      <td>256</td>\n",
       "    </tr>\n",
       "    <tr>\n",
       "      <th>14</th>\n",
       "      <td>4</td>\n",
       "      <td>0</td>\n",
       "      <td>0</td>\n",
       "      <td>0</td>\n",
       "      <td>0</td>\n",
       "      <td>0</td>\n",
       "      <td>2</td>\n",
       "      <td>0</td>\n",
       "      <td>14</td>\n",
       "      <td>0</td>\n",
       "      <td>0</td>\n",
       "      <td>29</td>\n",
       "      <td>0</td>\n",
       "      <td>0</td>\n",
       "      <td>926</td>\n",
       "      <td>0</td>\n",
       "      <td>1</td>\n",
       "      <td>0</td>\n",
       "      <td>0</td>\n",
       "    </tr>\n",
       "    <tr>\n",
       "      <th>15</th>\n",
       "      <td>0</td>\n",
       "      <td>0</td>\n",
       "      <td>0</td>\n",
       "      <td>0</td>\n",
       "      <td>79</td>\n",
       "      <td>36</td>\n",
       "      <td>0</td>\n",
       "      <td>0</td>\n",
       "      <td>2</td>\n",
       "      <td>0</td>\n",
       "      <td>0</td>\n",
       "      <td>4</td>\n",
       "      <td>0</td>\n",
       "      <td>0</td>\n",
       "      <td>0</td>\n",
       "      <td>4267</td>\n",
       "      <td>0</td>\n",
       "      <td>0</td>\n",
       "      <td>0</td>\n",
       "    </tr>\n",
       "    <tr>\n",
       "      <th>16</th>\n",
       "      <td>0</td>\n",
       "      <td>12</td>\n",
       "      <td>0</td>\n",
       "      <td>0</td>\n",
       "      <td>0</td>\n",
       "      <td>0</td>\n",
       "      <td>2</td>\n",
       "      <td>0</td>\n",
       "      <td>0</td>\n",
       "      <td>0</td>\n",
       "      <td>0</td>\n",
       "      <td>12</td>\n",
       "      <td>0</td>\n",
       "      <td>0</td>\n",
       "      <td>0</td>\n",
       "      <td>0</td>\n",
       "      <td>320</td>\n",
       "      <td>0</td>\n",
       "      <td>0</td>\n",
       "    </tr>\n",
       "    <tr>\n",
       "      <th>17</th>\n",
       "      <td>0</td>\n",
       "      <td>0</td>\n",
       "      <td>0</td>\n",
       "      <td>4</td>\n",
       "      <td>0</td>\n",
       "      <td>0</td>\n",
       "      <td>3</td>\n",
       "      <td>3</td>\n",
       "      <td>3</td>\n",
       "      <td>0</td>\n",
       "      <td>0</td>\n",
       "      <td>2</td>\n",
       "      <td>0</td>\n",
       "      <td>3</td>\n",
       "      <td>0</td>\n",
       "      <td>0</td>\n",
       "      <td>0</td>\n",
       "      <td>0</td>\n",
       "      <td>0</td>\n",
       "    </tr>\n",
       "    <tr>\n",
       "      <th>18</th>\n",
       "      <td>97</td>\n",
       "      <td>6</td>\n",
       "      <td>0</td>\n",
       "      <td>0</td>\n",
       "      <td>0</td>\n",
       "      <td>91</td>\n",
       "      <td>1</td>\n",
       "      <td>350</td>\n",
       "      <td>329</td>\n",
       "      <td>0</td>\n",
       "      <td>0</td>\n",
       "      <td>9</td>\n",
       "      <td>0</td>\n",
       "      <td>6</td>\n",
       "      <td>0</td>\n",
       "      <td>2</td>\n",
       "      <td>0</td>\n",
       "      <td>0</td>\n",
       "      <td>5632</td>\n",
       "    </tr>\n",
       "  </tbody>\n",
       "</table>\n",
       "</div>"
      ],
      "text/plain": [
       "     0     1   2    3     4     5      6    7      8   9     10   11  12  \\\n",
       "0   279     0   0    0    15    56      3  134     44   0     0   34   0   \n",
       "1     1  1872   0    0     0     0      0    3     15   0     4    2   0   \n",
       "2     0     0  80   49     0     0      0    0      0   0    16    0   0   \n",
       "3     0     0  36  622     0     0      0    0      2   0    93    0   0   \n",
       "4     0     0   0    0  4240    44      1    0      8   0     0    8   0   \n",
       "5    25     0   0    0   132  3704      0   57     42   0     0    0   0   \n",
       "6     3    18   0    0    15     4  10778    0     83   1     1   36   0   \n",
       "7   152     0   0    0     0   207      0  700     34   0     0    1   0   \n",
       "8    15     5   1    4    24   222    107   26  13248   0    11  179   0   \n",
       "9     0     0   0    0     0     0      0    0      0  36     0    0   0   \n",
       "10    0     2   6   97     0     0      0    0      5   0  3993    1   0   \n",
       "11    9    34   0    0   143    33     69    8    354   1    33  578   0   \n",
       "12    0     0   0    0     0     0      0    2      1   0     0    0   0   \n",
       "13    1     0   0    0     0     3    161    4    253   0     1  139   0   \n",
       "14    4     0   0    0     0     0      2    0     14   0     0   29   0   \n",
       "15    0     0   0    0    79    36      0    0      2   0     0    4   0   \n",
       "16    0    12   0    0     0     0      2    0      0   0     0   12   0   \n",
       "17    0     0   0    4     0     0      3    3      3   0     0    2   0   \n",
       "18   97     6   0    0     0    91      1  350    329   0     0    9   0   \n",
       "\n",
       "      13   14    15   16  17    18  \n",
       "0      0   28     4    0   0    51  \n",
       "1      0    0     0    5   0    49  \n",
       "2      0    0     0    0   0     0  \n",
       "3      0    0     0    0   0     0  \n",
       "4      0    0    84    0   0     0  \n",
       "5      0    0    75    0   0    12  \n",
       "6     95   18     9    2   0     1  \n",
       "7      0    0     1    0   0   300  \n",
       "8     90   65    12   11   0   807  \n",
       "9      0    0     0    0   0     0  \n",
       "10     0    0     0    0   0     0  \n",
       "11   247   93    52    7   0   260  \n",
       "12     0    0     0    0   0     1  \n",
       "13  1278    4     0    0   0   256  \n",
       "14     0  926     0    1   0     0  \n",
       "15     0    0  4267    0   0     0  \n",
       "16     0    0     0  320   0     0  \n",
       "17     3    0     0    0   0     0  \n",
       "18     6    0     2    0   0  5632  "
      ]
     },
     "execution_count": 145,
     "metadata": {},
     "output_type": "execute_result"
    }
   ],
   "source": [
    "cm_result"
   ]
  },
  {
   "cell_type": "code",
   "execution_count": 146,
   "metadata": {
    "ExecuteTime": {
     "end_time": "2020-02-29T12:22:13.249990Z",
     "start_time": "2020-02-29T12:22:11.218052Z"
    },
    "scrolled": false
   },
   "outputs": [
    {
     "data": {
      "image/png": "[encoded data removed]",
      "text/plain": [
       "<Figure size 1080x1080 with 2 Axes>"
      ]
     },
     "metadata": {},
     "output_type": "display_data"
    }
   ],
   "source": [
    "plt.figure(figsize =(15,15))\n",
    "sns.heatmap(cm_result/np.sum(cm_result),annot = True, cmap ='RdYlGn',fmt='.1%')\n",
    "plt.ylabel(\"real\",fontsize=20)\n",
    "plt.xlabel(\"predict\",fontsize=20)\n",
    "plt.show()"
   ]
  },
  {
   "cell_type": "code",
   "execution_count": null,
   "metadata": {},
   "outputs": [],
   "source": []
  },
  {
   "cell_type": "markdown",
   "metadata": {},
   "source": [
    "### FINAL CV"
   ]
  },
  {
   "cell_type": "code",
   "execution_count": null,
   "metadata": {
    "ExecuteTime": {
     "end_time": "2020-02-28T12:09:00.542327Z",
     "start_time": "2020-02-28T11:08:59.029Z"
    },
    "scrolled": true
   },
   "outputs": [],
   "source": [
    "kf = StratifiedKFold(n_splits = 5, shuffle = True, random_state = 42)\n",
    "oof_pred = np.zeros((len(train_X), train_y.nunique()))\n",
    "y_pred = np.zeros((len(test_X), train_y.nunique()))\n",
    "\n",
    "for fold, (train_ids, val_ids) in enumerate(kf.split(train_X,train_y)):\n",
    "    print('★ Fold {}'.format(fold + 1))\n",
    "    X_train, X_val = train_X.iloc[train_ids],train_X.iloc[val_ids]\n",
    "    y_train, y_val = train_y.iloc[train_ids],train_y.iloc[val_ids]\n",
    "\n",
    "    eval_set = [(X_train, y_train),(X_val, y_val)]\n",
    "    eval_names = ['train','val']\n",
    "    lgbm_c.fit(train_X,train_y, eval_set = eval_set, eval_names = eval_names, \n",
    "               early_stopping_rounds= 100, verbose = 100)\n",
    "    oof_pred[val_ids] = lgbm_c.predict_proba(X_val)\n",
    "    y_pred += lgbm_c.predict_proba(test_X)/5\n",
    "loss_score = log_loss(train_y,oof_pred,labels= list(set(train_y)))\n",
    "print(\"oof log_loss: \",loss_score)"
   ]
  },
  {
   "cell_type": "markdown",
   "metadata": {},
   "source": [
    "# REAL"
   ]
  },
  {
   "cell_type": "code",
   "execution_count": null,
   "metadata": {
    "ExecuteTime": {
     "end_time": "2020-02-28T05:28:24.564562Z",
     "start_time": "2020-02-28T05:28:24.559563Z"
    }
   },
   "outputs": [],
   "source": [
    "lgbm_c = lgb.LGBMClassifier(num_leaves = 255, min_child_samples = 40,\n",
    "                            max_depth = 8, learning_rate = 0.1,\n",
    "                            lambda_l2 = 3, lambda_l1 = 9,\n",
    "                            n_estimators=2000, random_state = 42)"
   ]
  },
  {
   "cell_type": "code",
   "execution_count": null,
   "metadata": {
    "ExecuteTime": {
     "end_time": "2020-02-28T05:57:01.390665Z",
     "start_time": "2020-02-28T05:28:24.566563Z"
    },
    "scrolled": true
   },
   "outputs": [],
   "source": [
    "lgbm_c.fit(train_X, train_y, eval_set = [(train_X, train_y)],eval_names= 'valid', \n",
    "           eval_metric = 'logloss', verbose = 100, early_stopping_rounds = 100)"
   ]
  },
  {
   "cell_type": "code",
   "execution_count": null,
   "metadata": {
    "ExecuteTime": {
     "end_time": "2020-02-28T06:06:25.660278Z",
     "start_time": "2020-02-28T05:57:01.392665Z"
    }
   },
   "outputs": [],
   "source": [
    "f_train_y_pred = lgbm_c.predict_proba(train_X)"
   ]
  },
  {
   "cell_type": "code",
   "execution_count": null,
   "metadata": {
    "ExecuteTime": {
     "end_time": "2020-02-28T06:06:53.761411Z",
     "start_time": "2020-02-28T06:06:25.661278Z"
    }
   },
   "outputs": [],
   "source": [
    "y_pred = lgbm_c.predict_proba(test_X)"
   ]
  },
  {
   "cell_type": "code",
   "execution_count": null,
   "metadata": {
    "ExecuteTime": {
     "end_time": "2020-02-28T10:43:00.138025Z",
     "start_time": "2020-02-28T10:43:00.133026Z"
    }
   },
   "outputs": [],
   "source": [
    "y_pred"
   ]
  },
  {
   "cell_type": "code",
   "execution_count": null,
   "metadata": {
    "ExecuteTime": {
     "end_time": "2020-02-28T06:06:53.767412Z",
     "start_time": "2020-02-28T06:06:53.762412Z"
    }
   },
   "outputs": [],
   "source": [
    "y_pred"
   ]
  },
  {
   "cell_type": "code",
   "execution_count": null,
   "metadata": {
    "ExecuteTime": {
     "end_time": "2020-02-28T06:06:54.486391Z",
     "start_time": "2020-02-28T06:06:53.768412Z"
    }
   },
   "outputs": [],
   "source": [
    "submission = pd.DataFrame(data=y_pred, columns=sample_submission_df.columns, index=sample_submission_df.index)\n",
    "submission.to_csv('./submisson/submission.csv', index=True)"
   ]
  }
 ],
 "metadata": {
  "kernelspec": {
   "display_name": "Python 3",
   "language": "python",
   "name": "python3"
  },
  "language_info": {
   "codemirror_mode": {
    "name": "ipython",
    "version": 3
   },
   "file_extension": ".py",
   "mimetype": "text/x-python",
   "name": "python",
   "nbconvert_exporter": "python",
   "pygments_lexer": "ipython3",
   "version": "3.6.5"
  },
  "varInspector": {
   "cols": {
    "lenName": 16,
    "lenType": 16,
    "lenVar": 40
   },
   "kernels_config": {
    "python": {
     "delete_cmd_postfix": "",
     "delete_cmd_prefix": "del ",
     "library": "var_list.py",
     "varRefreshCmd": "print(var_dic_list())"
    },
    "r": {
     "delete_cmd_postfix": ") ",
     "delete_cmd_prefix": "rm(",
     "library": "var_list.r",
     "varRefreshCmd": "cat(var_dic_list()) "
    }
   },
   "types_to_exclude": [
    "module",
    "function",
    "builtin_function_or_method",
    "instance",
    "_Feature"
   ],
   "window_display": false
  }
 },
 "nbformat": 4,
 "nbformat_minor": 2
}
