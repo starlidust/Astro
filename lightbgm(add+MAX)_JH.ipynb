{
 "cells": [
  {
   "cell_type": "markdown",
   "metadata": {},
   "source": [
    "# Add\n",
    "* u-g,g-r,r-i,i-z만 사용\n",
    "* category_features 사용위해 lgb.train사용\n",
    "* 제출결과 : 0.4161080142"
   ]
  },
  {
   "cell_type": "code",
   "execution_count": 1,
   "metadata": {
    "ExecuteTime": {
     "end_time": "2020-02-15T12:32:03.926194Z",
     "start_time": "2020-02-15T12:32:00.150295Z"
    }
   },
   "outputs": [
    {
     "name": "stderr",
     "output_type": "stream",
     "text": [
      "C:\\Users\\starl\\Anaconda3\\lib\\site-packages\\sklearn\\ensemble\\weight_boosting.py:29: DeprecationWarning: numpy.core.umath_tests is an internal NumPy module and should not be imported. It will be removed in a future NumPy release.\n",
      "  from numpy.core.umath_tests import inner1d\n"
     ]
    }
   ],
   "source": [
    "import pandas as pd\n",
    "import numpy as np\n",
    "import matplotlib.pyplot as plt\n",
    "import seaborn as sns\n",
    "\n",
    "from sklearn.ensemble import RandomForestClassifier\n",
    "from sklearn.model_selection import train_test_split\n",
    "from sklearn.metrics import confusion_matrix\n",
    "from sklearn.metrics import log_loss\n",
    "import lightgbm as lgb"
   ]
  },
  {
   "cell_type": "code",
   "execution_count": 2,
   "metadata": {
    "ExecuteTime": {
     "end_time": "2020-02-15T12:32:03.930180Z",
     "start_time": "2020-02-15T12:32:03.928179Z"
    }
   },
   "outputs": [],
   "source": [
    "# from google.colab import drive\n",
    "# drive.mount('/content/drive')"
   ]
  },
  {
   "cell_type": "code",
   "execution_count": 3,
   "metadata": {
    "ExecuteTime": {
     "end_time": "2020-02-15T12:32:03.963219Z",
     "start_time": "2020-02-15T12:32:03.932179Z"
    }
   },
   "outputs": [],
   "source": [
    "# #colab용\n",
    "# import os\n",
    "# os.chdir('/content/drive/My Drive/Colab Notebooks/Dacon/천체관측/')"
   ]
  },
  {
   "cell_type": "code",
   "execution_count": 4,
   "metadata": {
    "ExecuteTime": {
     "end_time": "2020-02-15T12:32:05.982204Z",
     "start_time": "2020-02-15T12:32:03.965219Z"
    }
   },
   "outputs": [],
   "source": [
    "# path = \"/content/drive/My Drive/Colab Notebooks/Dacon/천체관측/data/\" #colab\n",
    "path = \"./data/\" #local\n",
    "train_df = pd.read_csv(path+'train.csv',index_col=0)\n",
    "test_df = pd.read_csv(path+'test.csv',index_col=0)\n",
    "sample_submission_df = pd.read_csv(path+'sample_submission.csv',index_col=0)\n",
    "pd.options.display.max_columns = 30"
   ]
  },
  {
   "cell_type": "code",
   "execution_count": 5,
   "metadata": {
    "ExecuteTime": {
     "end_time": "2020-02-15T12:32:05.987158Z",
     "start_time": "2020-02-15T12:32:05.984158Z"
    }
   },
   "outputs": [],
   "source": [
    "train_cols = list(train_df.columns)\n",
    "test_cols = list(test_df.columns)\n",
    "train_cols.remove('fiberID')\n",
    "test_cols.remove('fiberID')"
   ]
  },
  {
   "cell_type": "markdown",
   "metadata": {},
   "source": [
    "## DATA Setting"
   ]
  },
  {
   "cell_type": "code",
   "execution_count": 6,
   "metadata": {
    "ExecuteTime": {
     "end_time": "2020-02-15T12:32:06.125153Z",
     "start_time": "2020-02-15T12:32:05.992157Z"
    }
   },
   "outputs": [],
   "source": [
    "column_number = {}\n",
    "number_columns = {}\n",
    "for i, column in enumerate(sample_submission_df.columns):\n",
    "    column_number[column] = i\n",
    "    number_columns[i] = column\n",
    "    \n",
    "    \n",
    "def to_number(x, dic):\n",
    "    return dic[x]\n",
    "\n",
    "train_df['type_num'] = train_df['type'].apply(lambda x: to_number(x, column_number))\n"
   ]
  },
  {
   "cell_type": "code",
   "execution_count": 7,
   "metadata": {
    "ExecuteTime": {
     "end_time": "2020-02-15T12:32:06.130152Z",
     "start_time": "2020-02-15T12:32:06.126152Z"
    }
   },
   "outputs": [],
   "source": [
    "def add_minus_feature_all(data,test = False):\n",
    "    '''\n",
    "    combination으로 모든 변수들의 조합에 대해서 컬럼생성 \n",
    "    각 mag에서 가장 높은값의 filter를 받아오는 \"~~mag_MAX\"생성\n",
    "    결과 64개로 증가\n",
    "    '''\n",
    "    from itertools import combinations\n",
    "    n = 0\n",
    "    for count in range(5,21,5):\n",
    "        s = 2\n",
    "        if test == True :\n",
    "            s = 1\n",
    "        selected = data.columns[s:].values[n:count]\n",
    "        mag = str.split(selected[0],'_')[0]\n",
    "        data[mag+\"_MAX\"] = data[selected].apply(lambda x : str.split(np.argmax(x),'_')[1],axis = 1)\n",
    "        for combi in list(combinations(selected,2)):\n",
    "            name_1st = str.split(combi[0],'_')[1]\n",
    "            name_2nd = str.split(combi[1],'_')[1]\n",
    "            data[mag+\"_\"+name_1st+\"-\"+name_2nd] = data[combi[0]]-data[combi[1]]\n",
    "        n=count\n",
    "    return data"
   ]
  },
  {
   "cell_type": "code",
   "execution_count": 8,
   "metadata": {
    "ExecuteTime": {
     "end_time": "2020-02-15T12:32:06.165151Z",
     "start_time": "2020-02-15T12:32:06.131152Z"
    }
   },
   "outputs": [],
   "source": [
    "def add_minus_feature(data,test = False):\n",
    "    '''\n",
    "    근접변수에 대해서만 컬럼생성 ex) 'fiberMag_u-g', 'fiberMag_g-r', 'fiberMag_r-i', 'fiberMag_i-z'\n",
    "    각 mag에서 가장 높은값의 filter를 받아오는 \"~~mag_MAX\"생성\n",
    "    결과 38개로 증가 \n",
    "    '''\n",
    "    from itertools import combinations\n",
    "    n = 0\n",
    "    m = 0\n",
    "    for count in range(5,21,5):\n",
    "        s = 2\n",
    "        if test == True :\n",
    "            s = 1\n",
    "        selected = data.columns[s:].values[n:count]\n",
    "        mag = str.split(selected[0],'_')[0]\n",
    "        data[mag+\"_MAX\"] = data[selected].apply(lambda x : str.split(np.argmax(x),'_')[1],axis = 1)\n",
    "        for i in range(0,len(selected)):        \n",
    "            if i>0: \n",
    "                name_1st = str.split(m,'_')[1]\n",
    "                name_2nd = str.split(selected[i],'_')[1]\n",
    "                data[mag+\"_\"+name_1st+\"-\"+name_2nd] = data[m]-data[selected[i]]\n",
    "            m = selected[i]    \n",
    "        n=count\n",
    "    return data"
   ]
  },
  {
   "cell_type": "code",
   "execution_count": 9,
   "metadata": {
    "ExecuteTime": {
     "end_time": "2020-02-15T12:33:29.435905Z",
     "start_time": "2020-02-15T12:32:06.166152Z"
    },
    "scrolled": true
   },
   "outputs": [
    {
     "name": "stderr",
     "output_type": "stream",
     "text": [
      "C:\\Users\\starl\\Anaconda3\\lib\\site-packages\\numpy\\core\\fromnumeric.py:61: FutureWarning: 'argmax' is deprecated, use 'idxmax' instead. The behavior of 'argmax'\n",
      "will be corrected to return the positional maximum in the future.\n",
      "Use 'series.values.argmax' to get the position of the maximum now.\n",
      "  return bound(*args, **kwds)\n"
     ]
    }
   ],
   "source": [
    "train_df = add_minus_feature(train_df)\n",
    "test_df = add_minus_feature(test_df,True)"
   ]
  },
  {
   "cell_type": "code",
   "execution_count": 10,
   "metadata": {
    "ExecuteTime": {
     "end_time": "2020-02-15T12:33:29.446905Z",
     "start_time": "2020-02-15T12:33:29.437906Z"
    }
   },
   "outputs": [],
   "source": [
    "def label_encode(data):\n",
    "    '''\n",
    "    각 mag에서 가장 높은값의 filter를 labelencoding \n",
    "    '''\n",
    "    from sklearn.preprocessing import LabelEncoder\n",
    "    le = LabelEncoder()\n",
    "    taget_cols = ['psfMag_MAX','fiberMag_MAX','petroMag_MAX','modelMag_MAX']\n",
    "    for col in taget_cols:\n",
    "        data[col] = le.fit_transform(data[col])\n",
    "    return data"
   ]
  },
  {
   "cell_type": "code",
   "execution_count": 11,
   "metadata": {
    "ExecuteTime": {
     "end_time": "2020-02-15T12:33:30.201882Z",
     "start_time": "2020-02-15T12:33:29.449910Z"
    }
   },
   "outputs": [],
   "source": [
    "train_df = label_encode(train_df)\n",
    "test_df = label_encode(test_df)"
   ]
  },
  {
   "cell_type": "code",
   "execution_count": 34,
   "metadata": {
    "ExecuteTime": {
     "end_time": "2020-02-15T13:48:23.019284Z",
     "start_time": "2020-02-15T13:48:23.014300Z"
    }
   },
   "outputs": [
    {
     "data": {
      "text/plain": [
       "['type',\n",
       " 'psfMag_u',\n",
       " 'psfMag_g',\n",
       " 'psfMag_r',\n",
       " 'psfMag_i',\n",
       " 'psfMag_z',\n",
       " 'fiberMag_u',\n",
       " 'fiberMag_g',\n",
       " 'fiberMag_r',\n",
       " 'fiberMag_i',\n",
       " 'fiberMag_z',\n",
       " 'petroMag_u',\n",
       " 'petroMag_g',\n",
       " 'petroMag_r',\n",
       " 'petroMag_i',\n",
       " 'petroMag_z',\n",
       " 'modelMag_u',\n",
       " 'modelMag_g',\n",
       " 'modelMag_r',\n",
       " 'modelMag_i',\n",
       " 'modelMag_z']"
      ]
     },
     "execution_count": 34,
     "metadata": {},
     "output_type": "execute_result"
    }
   ],
   "source": [
    "train_cols"
   ]
  },
  {
   "cell_type": "code",
   "execution_count": 35,
   "metadata": {
    "ExecuteTime": {
     "end_time": "2020-02-15T13:48:37.624322Z",
     "start_time": "2020-02-15T13:48:37.594322Z"
    }
   },
   "outputs": [],
   "source": [
    "train_X = train_df.drop(columns=train_cols, axis=1)"
   ]
  },
  {
   "cell_type": "code",
   "execution_count": 49,
   "metadata": {
    "ExecuteTime": {
     "end_time": "2020-02-15T13:51:05.855735Z",
     "start_time": "2020-02-15T13:51:05.799738Z"
    }
   },
   "outputs": [],
   "source": [
    "train_X = train_df.drop(columns=train_cols, axis=1)\n",
    "train_X = train_X.drop(columns=\"type_num\", axis=1)\n",
    "train_y = train_df['type_num']\n",
    "test_X = test_df.drop(columns=test_cols, axis=1)"
   ]
  },
  {
   "cell_type": "code",
   "execution_count": 71,
   "metadata": {
    "ExecuteTime": {
     "end_time": "2020-02-15T14:15:56.888411Z",
     "start_time": "2020-02-15T14:15:56.884401Z"
    }
   },
   "outputs": [
    {
     "data": {
      "text/plain": [
       "Index(['fiberID', 'psfMag_MAX', 'psfMag_u-g', 'psfMag_g-r', 'psfMag_r-i',\n",
       "       'psfMag_i-z', 'fiberMag_MAX', 'fiberMag_u-g', 'fiberMag_g-r',\n",
       "       'fiberMag_r-i', 'fiberMag_i-z', 'petroMag_MAX', 'petroMag_u-g',\n",
       "       'petroMag_g-r', 'petroMag_r-i', 'petroMag_i-z', 'modelMag_MAX',\n",
       "       'modelMag_u-g', 'modelMag_g-r', 'modelMag_r-i', 'modelMag_i-z'],\n",
       "      dtype='object')"
      ]
     },
     "execution_count": 71,
     "metadata": {},
     "output_type": "execute_result"
    }
   ],
   "source": [
    "train_X.columns"
   ]
  },
  {
   "cell_type": "code",
   "execution_count": 70,
   "metadata": {
    "ExecuteTime": {
     "end_time": "2020-02-15T14:15:50.944377Z",
     "start_time": "2020-02-15T14:15:50.940386Z"
    }
   },
   "outputs": [
    {
     "data": {
      "text/plain": [
       "((199991, 21), (10009, 21))"
      ]
     },
     "execution_count": 70,
     "metadata": {},
     "output_type": "execute_result"
    }
   ],
   "source": [
    "train_X.shape, test_X.shape"
   ]
  },
  {
   "cell_type": "code",
   "execution_count": 50,
   "metadata": {
    "ExecuteTime": {
     "end_time": "2020-02-15T13:51:08.431490Z",
     "start_time": "2020-02-15T13:51:08.288492Z"
    }
   },
   "outputs": [],
   "source": [
    "X_train, X_test, y_train, y_test = train_test_split(train_X, train_y, test_size=0.3, random_state=42,stratify = train_y)"
   ]
  },
  {
   "cell_type": "code",
   "execution_count": 51,
   "metadata": {
    "ExecuteTime": {
     "end_time": "2020-02-15T13:51:10.221141Z",
     "start_time": "2020-02-15T13:51:10.216144Z"
    }
   },
   "outputs": [],
   "source": [
    "train_ds = lgb.Dataset(X_train, label = y_train, categorical_feature=['fiberID'])\n",
    "test_ds = lgb.Dataset(X_test, label = y_test, categorical_feature=['fiberID']) "
   ]
  },
  {
   "cell_type": "code",
   "execution_count": 52,
   "metadata": {
    "ExecuteTime": {
     "end_time": "2020-02-15T13:51:12.028086Z",
     "start_time": "2020-02-15T13:51:12.023087Z"
    }
   },
   "outputs": [],
   "source": [
    "params = {\n",
    "    'boosting_type': 'gbdt',\n",
    "    'objective': 'multiclass',\n",
    "    'num_class': train_y.nunique(),\n",
    "    'metric': {'multi_logloss','multi_logloss'},\n",
    "    'num_leaves': 25,\n",
    "    'learning_rate': 0.005,\n",
    "    'max_depth' : 12,\n",
    "    'random_state' : 42\n",
    "}"
   ]
  },
  {
   "cell_type": "markdown",
   "metadata": {},
   "source": [
    "## Modeling"
   ]
  },
  {
   "cell_type": "code",
   "execution_count": 53,
   "metadata": {
    "ExecuteTime": {
     "end_time": "2020-02-15T13:58:44.303746Z",
     "start_time": "2020-02-15T13:51:13.803030Z"
    }
   },
   "outputs": [
    {
     "name": "stderr",
     "output_type": "stream",
     "text": [
      "C:\\Users\\starl\\Anaconda3\\lib\\site-packages\\lightgbm\\basic.py:1291: UserWarning: Using categorical_feature in Dataset.\n",
      "  warnings.warn('Using categorical_feature in Dataset.')\n"
     ]
    },
    {
     "name": "stdout",
     "output_type": "stream",
     "text": [
      "Training until validation scores don't improve for 100 rounds\n",
      "[100]\tTrain's multi_logloss: 1.47025\tTest's multi_logloss: 1.49631\n",
      "[200]\tTrain's multi_logloss: 1.13066\tTest's multi_logloss: 1.17235\n",
      "[300]\tTrain's multi_logloss: 0.931942\tTest's multi_logloss: 0.988827\n",
      "[400]\tTrain's multi_logloss: 0.804524\tTest's multi_logloss: 0.875971\n",
      "[500]\tTrain's multi_logloss: 0.717211\tTest's multi_logloss: 0.802581\n",
      "[600]\tTrain's multi_logloss: 0.654185\tTest's multi_logloss: 0.752662\n",
      "[700]\tTrain's multi_logloss: 0.606466\tTest's multi_logloss: 0.717857\n",
      "[800]\tTrain's multi_logloss: 0.570279\tTest's multi_logloss: 0.694173\n",
      "[900]\tTrain's multi_logloss: 0.541602\tTest's multi_logloss: 0.677602\n",
      "[1000]\tTrain's multi_logloss: 0.5181\tTest's multi_logloss: 0.665158\n",
      "[1100]\tTrain's multi_logloss: 0.49828\tTest's multi_logloss: 0.655944\n",
      "[1200]\tTrain's multi_logloss: 0.481117\tTest's multi_logloss: 0.648947\n",
      "[1300]\tTrain's multi_logloss: 0.466246\tTest's multi_logloss: 0.643657\n",
      "[1400]\tTrain's multi_logloss: 0.45288\tTest's multi_logloss: 0.63941\n",
      "[1500]\tTrain's multi_logloss: 0.44086\tTest's multi_logloss: 0.636333\n",
      "[1600]\tTrain's multi_logloss: 0.429816\tTest's multi_logloss: 0.633948\n",
      "[1700]\tTrain's multi_logloss: 0.419582\tTest's multi_logloss: 0.632244\n",
      "[1800]\tTrain's multi_logloss: 0.410064\tTest's multi_logloss: 0.63105\n",
      "[1900]\tTrain's multi_logloss: 0.401145\tTest's multi_logloss: 0.6302\n",
      "[2000]\tTrain's multi_logloss: 0.392871\tTest's multi_logloss: 0.62968\n",
      "[2100]\tTrain's multi_logloss: 0.385108\tTest's multi_logloss: 0.629493\n",
      "[2200]\tTrain's multi_logloss: 0.377784\tTest's multi_logloss: 0.629475\n",
      "[2300]\tTrain's multi_logloss: 0.370718\tTest's multi_logloss: 0.629482\n",
      "Early stopping, best iteration is:\n",
      "[2274]\tTrain's multi_logloss: 0.372545\tTest's multi_logloss: 0.629447\n"
     ]
    }
   ],
   "source": [
    "evaluation_results = {}\n",
    "lgmb_model = lgb.train(params, train_ds,num_boost_round= 20000, \n",
    "                       valid_sets = [train_ds,test_ds], valid_names=['Train', 'Test'],\n",
    "                       evals_result=evaluation_results,\n",
    "                       verbose_eval=100, early_stopping_rounds=100)"
   ]
  },
  {
   "cell_type": "code",
   "execution_count": 54,
   "metadata": {
    "ExecuteTime": {
     "end_time": "2020-02-15T13:58:46.068128Z",
     "start_time": "2020-02-15T13:58:45.863109Z"
    }
   },
   "outputs": [
    {
     "data": {
      "image/png": "[encoded data removed]",
      "text/plain": [
       "<Figure size 1080x288 with 2 Axes>"
      ]
     },
     "metadata": {},
     "output_type": "display_data"
    }
   ],
   "source": [
    "fig, axs = plt.subplots(1, 2, figsize=[15, 4])\n",
    "\n",
    "# Plot the log loss during training\n",
    "axs[0].plot(evaluation_results['Train']['multi_logloss'], label='Train')\n",
    "axs[0].plot(evaluation_results['Test']['multi_logloss'], label='Test')\n",
    "axs[0].set_ylabel('Log loss')\n",
    "axs[0].set_xlabel('Boosting round')\n",
    "axs[0].set_title('Training performance')\n",
    "axs[0].legend()\n",
    "\n",
    "# Plot feature importance\n",
    "importances = pd.DataFrame({'features': lgmb_model.feature_name(), \n",
    "                            'importance': lgmb_model.feature_importance()}).sort_values('importance', ascending=False).head(10)\n",
    "axs[1].bar(x=np.arange(len(importances)), height=importances['importance'])\n",
    "axs[1].set_xticks(np.arange(len(importances)))\n",
    "axs[1].set_xticklabels(importances['features'])\n",
    "axs[1].set_ylabel('Feature importance (# times used to split)')\n",
    "axs[1].set_title('Feature importance')\n",
    "plt.xticks(rotation=45)\n",
    "\n",
    "plt.show()"
   ]
  },
  {
   "cell_type": "code",
   "execution_count": 55,
   "metadata": {
    "ExecuteTime": {
     "end_time": "2020-02-15T14:01:55.336317Z",
     "start_time": "2020-02-15T13:58:46.070113Z"
    }
   },
   "outputs": [],
   "source": [
    "train_y_pred = lgmb_model.predict(X_test)"
   ]
  },
  {
   "cell_type": "code",
   "execution_count": 56,
   "metadata": {
    "ExecuteTime": {
     "end_time": "2020-02-15T14:01:55.342317Z",
     "start_time": "2020-02-15T14:01:55.337317Z"
    }
   },
   "outputs": [
    {
     "data": {
      "text/plain": [
       "(59998, 19)"
      ]
     },
     "execution_count": 56,
     "metadata": {},
     "output_type": "execute_result"
    }
   ],
   "source": [
    "train_y_pred.shape"
   ]
  },
  {
   "cell_type": "code",
   "execution_count": 57,
   "metadata": {
    "ExecuteTime": {
     "end_time": "2020-02-15T14:01:55.466314Z",
     "start_time": "2020-02-15T14:01:55.343317Z"
    },
    "scrolled": true
   },
   "outputs": [
    {
     "data": {
      "text/plain": [
       "0.6294473071857893"
      ]
     },
     "execution_count": 57,
     "metadata": {},
     "output_type": "execute_result"
    }
   ],
   "source": [
    "#log_loss\n",
    "log_loss(y_test,train_y_pred,labels= list(set(y_test)))"
   ]
  },
  {
   "cell_type": "code",
   "execution_count": 58,
   "metadata": {
    "ExecuteTime": {
     "end_time": "2020-02-15T14:01:55.482313Z",
     "start_time": "2020-02-15T14:01:55.468313Z"
    }
   },
   "outputs": [
    {
     "data": {
      "text/plain": [
       "array([289881,   2045,  45751,  45328,  38318,  38195,   2029,  47856,\n",
       "        50052,  49608,  50459,   4528,  53912,  43363,  41866,  49551,\n",
       "         1823,  46691,  49178,  44554,  41956])"
      ]
     },
     "execution_count": 58,
     "metadata": {},
     "output_type": "execute_result"
    }
   ],
   "source": [
    "lgmb_model.feature_importance()"
   ]
  },
  {
   "cell_type": "markdown",
   "metadata": {},
   "source": [
    "### feature_importance"
   ]
  },
  {
   "cell_type": "code",
   "execution_count": 59,
   "metadata": {
    "ExecuteTime": {
     "end_time": "2020-02-15T14:01:55.523312Z",
     "start_time": "2020-02-15T14:01:55.483313Z"
    }
   },
   "outputs": [
    {
     "data": {
      "text/html": [
       "<div>\n",
       "<style scoped>\n",
       "    .dataframe tbody tr th:only-of-type {\n",
       "        vertical-align: middle;\n",
       "    }\n",
       "\n",
       "    .dataframe tbody tr th {\n",
       "        vertical-align: top;\n",
       "    }\n",
       "\n",
       "    .dataframe thead th {\n",
       "        text-align: right;\n",
       "    }\n",
       "</style>\n",
       "<table border=\"1\" class=\"dataframe\">\n",
       "  <thead>\n",
       "    <tr style=\"text-align: right;\">\n",
       "      <th></th>\n",
       "      <th>importance</th>\n",
       "    </tr>\n",
       "  </thead>\n",
       "  <tbody>\n",
       "    <tr>\n",
       "      <th>fiberID</th>\n",
       "      <td>289881</td>\n",
       "    </tr>\n",
       "    <tr>\n",
       "      <th>petroMag_u-g</th>\n",
       "      <td>53912</td>\n",
       "    </tr>\n",
       "    <tr>\n",
       "      <th>fiberMag_i-z</th>\n",
       "      <td>50459</td>\n",
       "    </tr>\n",
       "    <tr>\n",
       "      <th>fiberMag_g-r</th>\n",
       "      <td>50052</td>\n",
       "    </tr>\n",
       "    <tr>\n",
       "      <th>fiberMag_r-i</th>\n",
       "      <td>49608</td>\n",
       "    </tr>\n",
       "    <tr>\n",
       "      <th>petroMag_i-z</th>\n",
       "      <td>49551</td>\n",
       "    </tr>\n",
       "    <tr>\n",
       "      <th>modelMag_g-r</th>\n",
       "      <td>49178</td>\n",
       "    </tr>\n",
       "    <tr>\n",
       "      <th>fiberMag_u-g</th>\n",
       "      <td>47856</td>\n",
       "    </tr>\n",
       "    <tr>\n",
       "      <th>modelMag_u-g</th>\n",
       "      <td>46691</td>\n",
       "    </tr>\n",
       "    <tr>\n",
       "      <th>psfMag_u-g</th>\n",
       "      <td>45751</td>\n",
       "    </tr>\n",
       "  </tbody>\n",
       "</table>\n",
       "</div>"
      ],
      "text/plain": [
       "              importance\n",
       "fiberID           289881\n",
       "petroMag_u-g       53912\n",
       "fiberMag_i-z       50459\n",
       "fiberMag_g-r       50052\n",
       "fiberMag_r-i       49608\n",
       "petroMag_i-z       49551\n",
       "modelMag_g-r       49178\n",
       "fiberMag_u-g       47856\n",
       "modelMag_u-g       46691\n",
       "psfMag_u-g         45751"
      ]
     },
     "execution_count": 59,
     "metadata": {},
     "output_type": "execute_result"
    }
   ],
   "source": [
    "pi_df = pd.DataFrame(lgmb_model.feature_importance(), index= train_X.columns,columns= ['importance']).sort_values('importance',ascending = False)\n",
    "pi_df.head(10)"
   ]
  },
  {
   "cell_type": "markdown",
   "metadata": {},
   "source": [
    "### 예측결과에 대해\n",
    "* 12번이 모두 6번으로 몰림\n",
    "중간예측 : 0,2,7,11\n",
    "망한예측 : 12,17"
   ]
  },
  {
   "cell_type": "code",
   "execution_count": 60,
   "metadata": {
    "ExecuteTime": {
     "end_time": "2020-02-15T14:01:55.590309Z",
     "start_time": "2020-02-15T14:01:55.524312Z"
    }
   },
   "outputs": [],
   "source": [
    "cm_result = pd.DataFrame(confusion_matrix(y_test,np.argmax(train_y_pred,axis = 1)))"
   ]
  },
  {
   "cell_type": "code",
   "execution_count": 61,
   "metadata": {
    "ExecuteTime": {
     "end_time": "2020-02-15T14:01:55.609309Z",
     "start_time": "2020-02-15T14:01:55.591309Z"
    }
   },
   "outputs": [
    {
     "data": {
      "text/html": [
       "<div>\n",
       "<style scoped>\n",
       "    .dataframe tbody tr th:only-of-type {\n",
       "        vertical-align: middle;\n",
       "    }\n",
       "\n",
       "    .dataframe tbody tr th {\n",
       "        vertical-align: top;\n",
       "    }\n",
       "\n",
       "    .dataframe thead th {\n",
       "        text-align: right;\n",
       "    }\n",
       "</style>\n",
       "<table border=\"1\" class=\"dataframe\">\n",
       "  <thead>\n",
       "    <tr style=\"text-align: right;\">\n",
       "      <th></th>\n",
       "      <th>0</th>\n",
       "      <th>1</th>\n",
       "      <th>2</th>\n",
       "      <th>3</th>\n",
       "      <th>4</th>\n",
       "      <th>5</th>\n",
       "      <th>6</th>\n",
       "      <th>7</th>\n",
       "      <th>8</th>\n",
       "      <th>9</th>\n",
       "      <th>10</th>\n",
       "      <th>11</th>\n",
       "      <th>12</th>\n",
       "      <th>13</th>\n",
       "      <th>14</th>\n",
       "      <th>15</th>\n",
       "      <th>16</th>\n",
       "      <th>17</th>\n",
       "      <th>18</th>\n",
       "    </tr>\n",
       "  </thead>\n",
       "  <tbody>\n",
       "    <tr>\n",
       "      <th>0</th>\n",
       "      <td>136</td>\n",
       "      <td>0</td>\n",
       "      <td>0</td>\n",
       "      <td>0</td>\n",
       "      <td>46</td>\n",
       "      <td>27</td>\n",
       "      <td>7</td>\n",
       "      <td>195</td>\n",
       "      <td>63</td>\n",
       "      <td>0</td>\n",
       "      <td>0</td>\n",
       "      <td>10</td>\n",
       "      <td>0</td>\n",
       "      <td>0</td>\n",
       "      <td>18</td>\n",
       "      <td>5</td>\n",
       "      <td>0</td>\n",
       "      <td>0</td>\n",
       "      <td>141</td>\n",
       "    </tr>\n",
       "    <tr>\n",
       "      <th>1</th>\n",
       "      <td>0</td>\n",
       "      <td>1842</td>\n",
       "      <td>0</td>\n",
       "      <td>0</td>\n",
       "      <td>0</td>\n",
       "      <td>0</td>\n",
       "      <td>1</td>\n",
       "      <td>4</td>\n",
       "      <td>21</td>\n",
       "      <td>0</td>\n",
       "      <td>10</td>\n",
       "      <td>11</td>\n",
       "      <td>0</td>\n",
       "      <td>4</td>\n",
       "      <td>0</td>\n",
       "      <td>0</td>\n",
       "      <td>15</td>\n",
       "      <td>0</td>\n",
       "      <td>44</td>\n",
       "    </tr>\n",
       "    <tr>\n",
       "      <th>2</th>\n",
       "      <td>0</td>\n",
       "      <td>0</td>\n",
       "      <td>67</td>\n",
       "      <td>74</td>\n",
       "      <td>0</td>\n",
       "      <td>0</td>\n",
       "      <td>0</td>\n",
       "      <td>0</td>\n",
       "      <td>0</td>\n",
       "      <td>0</td>\n",
       "      <td>9</td>\n",
       "      <td>0</td>\n",
       "      <td>0</td>\n",
       "      <td>0</td>\n",
       "      <td>0</td>\n",
       "      <td>0</td>\n",
       "      <td>0</td>\n",
       "      <td>0</td>\n",
       "      <td>0</td>\n",
       "    </tr>\n",
       "    <tr>\n",
       "      <th>3</th>\n",
       "      <td>0</td>\n",
       "      <td>0</td>\n",
       "      <td>40</td>\n",
       "      <td>616</td>\n",
       "      <td>0</td>\n",
       "      <td>0</td>\n",
       "      <td>1</td>\n",
       "      <td>0</td>\n",
       "      <td>3</td>\n",
       "      <td>0</td>\n",
       "      <td>108</td>\n",
       "      <td>0</td>\n",
       "      <td>0</td>\n",
       "      <td>1</td>\n",
       "      <td>0</td>\n",
       "      <td>0</td>\n",
       "      <td>0</td>\n",
       "      <td>0</td>\n",
       "      <td>0</td>\n",
       "    </tr>\n",
       "    <tr>\n",
       "      <th>4</th>\n",
       "      <td>2</td>\n",
       "      <td>0</td>\n",
       "      <td>0</td>\n",
       "      <td>0</td>\n",
       "      <td>3209</td>\n",
       "      <td>74</td>\n",
       "      <td>18</td>\n",
       "      <td>0</td>\n",
       "      <td>25</td>\n",
       "      <td>0</td>\n",
       "      <td>0</td>\n",
       "      <td>8</td>\n",
       "      <td>0</td>\n",
       "      <td>0</td>\n",
       "      <td>0</td>\n",
       "      <td>1050</td>\n",
       "      <td>0</td>\n",
       "      <td>0</td>\n",
       "      <td>0</td>\n",
       "    </tr>\n",
       "    <tr>\n",
       "      <th>5</th>\n",
       "      <td>17</td>\n",
       "      <td>0</td>\n",
       "      <td>1</td>\n",
       "      <td>1</td>\n",
       "      <td>236</td>\n",
       "      <td>3471</td>\n",
       "      <td>10</td>\n",
       "      <td>102</td>\n",
       "      <td>90</td>\n",
       "      <td>0</td>\n",
       "      <td>0</td>\n",
       "      <td>1</td>\n",
       "      <td>0</td>\n",
       "      <td>0</td>\n",
       "      <td>0</td>\n",
       "      <td>87</td>\n",
       "      <td>0</td>\n",
       "      <td>0</td>\n",
       "      <td>34</td>\n",
       "    </tr>\n",
       "    <tr>\n",
       "      <th>6</th>\n",
       "      <td>3</td>\n",
       "      <td>22</td>\n",
       "      <td>0</td>\n",
       "      <td>0</td>\n",
       "      <td>21</td>\n",
       "      <td>8</td>\n",
       "      <td>10547</td>\n",
       "      <td>6</td>\n",
       "      <td>288</td>\n",
       "      <td>0</td>\n",
       "      <td>0</td>\n",
       "      <td>56</td>\n",
       "      <td>0</td>\n",
       "      <td>192</td>\n",
       "      <td>52</td>\n",
       "      <td>5</td>\n",
       "      <td>2</td>\n",
       "      <td>0</td>\n",
       "      <td>2</td>\n",
       "    </tr>\n",
       "    <tr>\n",
       "      <th>7</th>\n",
       "      <td>115</td>\n",
       "      <td>0</td>\n",
       "      <td>0</td>\n",
       "      <td>0</td>\n",
       "      <td>1</td>\n",
       "      <td>197</td>\n",
       "      <td>0</td>\n",
       "      <td>592</td>\n",
       "      <td>64</td>\n",
       "      <td>0</td>\n",
       "      <td>0</td>\n",
       "      <td>1</td>\n",
       "      <td>0</td>\n",
       "      <td>0</td>\n",
       "      <td>0</td>\n",
       "      <td>1</td>\n",
       "      <td>0</td>\n",
       "      <td>1</td>\n",
       "      <td>424</td>\n",
       "    </tr>\n",
       "    <tr>\n",
       "      <th>8</th>\n",
       "      <td>5</td>\n",
       "      <td>21</td>\n",
       "      <td>2</td>\n",
       "      <td>5</td>\n",
       "      <td>63</td>\n",
       "      <td>216</td>\n",
       "      <td>363</td>\n",
       "      <td>35</td>\n",
       "      <td>12240</td>\n",
       "      <td>0</td>\n",
       "      <td>9</td>\n",
       "      <td>127</td>\n",
       "      <td>0</td>\n",
       "      <td>122</td>\n",
       "      <td>68</td>\n",
       "      <td>9</td>\n",
       "      <td>17</td>\n",
       "      <td>0</td>\n",
       "      <td>1602</td>\n",
       "    </tr>\n",
       "    <tr>\n",
       "      <th>9</th>\n",
       "      <td>0</td>\n",
       "      <td>0</td>\n",
       "      <td>0</td>\n",
       "      <td>1</td>\n",
       "      <td>0</td>\n",
       "      <td>0</td>\n",
       "      <td>1</td>\n",
       "      <td>1</td>\n",
       "      <td>28</td>\n",
       "      <td>5</td>\n",
       "      <td>0</td>\n",
       "      <td>1</td>\n",
       "      <td>0</td>\n",
       "      <td>1</td>\n",
       "      <td>0</td>\n",
       "      <td>0</td>\n",
       "      <td>0</td>\n",
       "      <td>0</td>\n",
       "      <td>0</td>\n",
       "    </tr>\n",
       "    <tr>\n",
       "      <th>10</th>\n",
       "      <td>0</td>\n",
       "      <td>0</td>\n",
       "      <td>14</td>\n",
       "      <td>187</td>\n",
       "      <td>0</td>\n",
       "      <td>0</td>\n",
       "      <td>0</td>\n",
       "      <td>0</td>\n",
       "      <td>2</td>\n",
       "      <td>0</td>\n",
       "      <td>3917</td>\n",
       "      <td>4</td>\n",
       "      <td>0</td>\n",
       "      <td>1</td>\n",
       "      <td>0</td>\n",
       "      <td>0</td>\n",
       "      <td>0</td>\n",
       "      <td>0</td>\n",
       "      <td>0</td>\n",
       "    </tr>\n",
       "    <tr>\n",
       "      <th>11</th>\n",
       "      <td>10</td>\n",
       "      <td>65</td>\n",
       "      <td>0</td>\n",
       "      <td>4</td>\n",
       "      <td>178</td>\n",
       "      <td>22</td>\n",
       "      <td>396</td>\n",
       "      <td>14</td>\n",
       "      <td>463</td>\n",
       "      <td>0</td>\n",
       "      <td>18</td>\n",
       "      <td>200</td>\n",
       "      <td>0</td>\n",
       "      <td>252</td>\n",
       "      <td>64</td>\n",
       "      <td>41</td>\n",
       "      <td>11</td>\n",
       "      <td>0</td>\n",
       "      <td>236</td>\n",
       "    </tr>\n",
       "    <tr>\n",
       "      <th>12</th>\n",
       "      <td>0</td>\n",
       "      <td>0</td>\n",
       "      <td>0</td>\n",
       "      <td>0</td>\n",
       "      <td>0</td>\n",
       "      <td>1</td>\n",
       "      <td>0</td>\n",
       "      <td>1</td>\n",
       "      <td>1</td>\n",
       "      <td>0</td>\n",
       "      <td>0</td>\n",
       "      <td>0</td>\n",
       "      <td>0</td>\n",
       "      <td>0</td>\n",
       "      <td>0</td>\n",
       "      <td>0</td>\n",
       "      <td>0</td>\n",
       "      <td>0</td>\n",
       "      <td>1</td>\n",
       "    </tr>\n",
       "    <tr>\n",
       "      <th>13</th>\n",
       "      <td>1</td>\n",
       "      <td>2</td>\n",
       "      <td>0</td>\n",
       "      <td>0</td>\n",
       "      <td>3</td>\n",
       "      <td>3</td>\n",
       "      <td>614</td>\n",
       "      <td>6</td>\n",
       "      <td>415</td>\n",
       "      <td>0</td>\n",
       "      <td>2</td>\n",
       "      <td>93</td>\n",
       "      <td>0</td>\n",
       "      <td>817</td>\n",
       "      <td>5</td>\n",
       "      <td>0</td>\n",
       "      <td>2</td>\n",
       "      <td>0</td>\n",
       "      <td>177</td>\n",
       "    </tr>\n",
       "    <tr>\n",
       "      <th>14</th>\n",
       "      <td>8</td>\n",
       "      <td>1</td>\n",
       "      <td>0</td>\n",
       "      <td>0</td>\n",
       "      <td>0</td>\n",
       "      <td>0</td>\n",
       "      <td>175</td>\n",
       "      <td>1</td>\n",
       "      <td>39</td>\n",
       "      <td>0</td>\n",
       "      <td>0</td>\n",
       "      <td>35</td>\n",
       "      <td>0</td>\n",
       "      <td>10</td>\n",
       "      <td>708</td>\n",
       "      <td>0</td>\n",
       "      <td>0</td>\n",
       "      <td>0</td>\n",
       "      <td>0</td>\n",
       "    </tr>\n",
       "    <tr>\n",
       "      <th>15</th>\n",
       "      <td>0</td>\n",
       "      <td>0</td>\n",
       "      <td>0</td>\n",
       "      <td>0</td>\n",
       "      <td>841</td>\n",
       "      <td>49</td>\n",
       "      <td>5</td>\n",
       "      <td>0</td>\n",
       "      <td>20</td>\n",
       "      <td>0</td>\n",
       "      <td>0</td>\n",
       "      <td>2</td>\n",
       "      <td>0</td>\n",
       "      <td>0</td>\n",
       "      <td>0</td>\n",
       "      <td>3472</td>\n",
       "      <td>0</td>\n",
       "      <td>0</td>\n",
       "      <td>0</td>\n",
       "    </tr>\n",
       "    <tr>\n",
       "      <th>16</th>\n",
       "      <td>0</td>\n",
       "      <td>26</td>\n",
       "      <td>0</td>\n",
       "      <td>0</td>\n",
       "      <td>0</td>\n",
       "      <td>0</td>\n",
       "      <td>0</td>\n",
       "      <td>0</td>\n",
       "      <td>5</td>\n",
       "      <td>0</td>\n",
       "      <td>1</td>\n",
       "      <td>9</td>\n",
       "      <td>0</td>\n",
       "      <td>7</td>\n",
       "      <td>0</td>\n",
       "      <td>0</td>\n",
       "      <td>298</td>\n",
       "      <td>0</td>\n",
       "      <td>0</td>\n",
       "    </tr>\n",
       "    <tr>\n",
       "      <th>17</th>\n",
       "      <td>0</td>\n",
       "      <td>1</td>\n",
       "      <td>1</td>\n",
       "      <td>4</td>\n",
       "      <td>0</td>\n",
       "      <td>0</td>\n",
       "      <td>3</td>\n",
       "      <td>1</td>\n",
       "      <td>4</td>\n",
       "      <td>0</td>\n",
       "      <td>0</td>\n",
       "      <td>0</td>\n",
       "      <td>0</td>\n",
       "      <td>0</td>\n",
       "      <td>0</td>\n",
       "      <td>0</td>\n",
       "      <td>0</td>\n",
       "      <td>0</td>\n",
       "      <td>4</td>\n",
       "    </tr>\n",
       "    <tr>\n",
       "      <th>18</th>\n",
       "      <td>83</td>\n",
       "      <td>18</td>\n",
       "      <td>0</td>\n",
       "      <td>0</td>\n",
       "      <td>0</td>\n",
       "      <td>169</td>\n",
       "      <td>0</td>\n",
       "      <td>430</td>\n",
       "      <td>1299</td>\n",
       "      <td>0</td>\n",
       "      <td>0</td>\n",
       "      <td>2</td>\n",
       "      <td>0</td>\n",
       "      <td>6</td>\n",
       "      <td>0</td>\n",
       "      <td>2</td>\n",
       "      <td>0</td>\n",
       "      <td>0</td>\n",
       "      <td>4519</td>\n",
       "    </tr>\n",
       "  </tbody>\n",
       "</table>\n",
       "</div>"
      ],
      "text/plain": [
       "     0     1   2    3     4     5      6    7      8   9     10   11  12   13  \\\n",
       "0   136     0   0    0    46    27      7  195     63   0     0   10   0    0   \n",
       "1     0  1842   0    0     0     0      1    4     21   0    10   11   0    4   \n",
       "2     0     0  67   74     0     0      0    0      0   0     9    0   0    0   \n",
       "3     0     0  40  616     0     0      1    0      3   0   108    0   0    1   \n",
       "4     2     0   0    0  3209    74     18    0     25   0     0    8   0    0   \n",
       "5    17     0   1    1   236  3471     10  102     90   0     0    1   0    0   \n",
       "6     3    22   0    0    21     8  10547    6    288   0     0   56   0  192   \n",
       "7   115     0   0    0     1   197      0  592     64   0     0    1   0    0   \n",
       "8     5    21   2    5    63   216    363   35  12240   0     9  127   0  122   \n",
       "9     0     0   0    1     0     0      1    1     28   5     0    1   0    1   \n",
       "10    0     0  14  187     0     0      0    0      2   0  3917    4   0    1   \n",
       "11   10    65   0    4   178    22    396   14    463   0    18  200   0  252   \n",
       "12    0     0   0    0     0     1      0    1      1   0     0    0   0    0   \n",
       "13    1     2   0    0     3     3    614    6    415   0     2   93   0  817   \n",
       "14    8     1   0    0     0     0    175    1     39   0     0   35   0   10   \n",
       "15    0     0   0    0   841    49      5    0     20   0     0    2   0    0   \n",
       "16    0    26   0    0     0     0      0    0      5   0     1    9   0    7   \n",
       "17    0     1   1    4     0     0      3    1      4   0     0    0   0    0   \n",
       "18   83    18   0    0     0   169      0  430   1299   0     0    2   0    6   \n",
       "\n",
       "     14    15   16  17    18  \n",
       "0    18     5    0   0   141  \n",
       "1     0     0   15   0    44  \n",
       "2     0     0    0   0     0  \n",
       "3     0     0    0   0     0  \n",
       "4     0  1050    0   0     0  \n",
       "5     0    87    0   0    34  \n",
       "6    52     5    2   0     2  \n",
       "7     0     1    0   1   424  \n",
       "8    68     9   17   0  1602  \n",
       "9     0     0    0   0     0  \n",
       "10    0     0    0   0     0  \n",
       "11   64    41   11   0   236  \n",
       "12    0     0    0   0     1  \n",
       "13    5     0    2   0   177  \n",
       "14  708     0    0   0     0  \n",
       "15    0  3472    0   0     0  \n",
       "16    0     0  298   0     0  \n",
       "17    0     0    0   0     4  \n",
       "18    0     2    0   0  4519  "
      ]
     },
     "execution_count": 61,
     "metadata": {},
     "output_type": "execute_result"
    }
   ],
   "source": [
    "cm_result"
   ]
  },
  {
   "cell_type": "code",
   "execution_count": 62,
   "metadata": {
    "ExecuteTime": {
     "end_time": "2020-02-15T14:01:56.473292Z",
     "start_time": "2020-02-15T14:01:55.610308Z"
    },
    "scrolled": false
   },
   "outputs": [
    {
     "data": {
      "image/png": "[encoded data removed]",
      "text/plain": [
       "<Figure size 1080x1080 with 2 Axes>"
      ]
     },
     "metadata": {},
     "output_type": "display_data"
    }
   ],
   "source": [
    "plt.figure(figsize =(15,15))\n",
    "sns.heatmap(cm_result/np.sum(cm_result),annot = True, cmap ='RdYlGn',fmt='.1%')\n",
    "plt.ylabel(\"real\",fontsize=20)\n",
    "plt.xlabel(\"predict\",fontsize=20)\n",
    "plt.show()"
   ]
  },
  {
   "cell_type": "markdown",
   "metadata": {},
   "source": [
    "# REAL"
   ]
  },
  {
   "cell_type": "code",
   "execution_count": 63,
   "metadata": {
    "ExecuteTime": {
     "end_time": "2020-02-15T14:01:56.478296Z",
     "start_time": "2020-02-15T14:01:56.475283Z"
    }
   },
   "outputs": [],
   "source": [
    "train_ds = lgb.Dataset(train_X, label = train_y, categorical_feature=['fiberID'])"
   ]
  },
  {
   "cell_type": "code",
   "execution_count": 64,
   "metadata": {
    "ExecuteTime": {
     "end_time": "2020-02-15T14:08:47.677793Z",
     "start_time": "2020-02-15T14:01:56.480282Z"
    }
   },
   "outputs": [
    {
     "name": "stderr",
     "output_type": "stream",
     "text": [
      "C:\\Users\\starl\\Anaconda3\\lib\\site-packages\\lightgbm\\basic.py:1291: UserWarning: Using categorical_feature in Dataset.\n",
      "  warnings.warn('Using categorical_feature in Dataset.')\n"
     ]
    }
   ],
   "source": [
    "lgmb_model = lgb.train(params, train_ds,num_boost_round= 2000, verbose_eval=100)"
   ]
  },
  {
   "cell_type": "code",
   "execution_count": 65,
   "metadata": {
    "ExecuteTime": {
     "end_time": "2020-02-15T14:08:47.684797Z",
     "start_time": "2020-02-15T14:08:47.678796Z"
    }
   },
   "outputs": [
    {
     "data": {
      "text/plain": [
       "(199991, 21)"
      ]
     },
     "execution_count": 65,
     "metadata": {},
     "output_type": "execute_result"
    }
   ],
   "source": [
    "train_X.shape"
   ]
  },
  {
   "cell_type": "code",
   "execution_count": 66,
   "metadata": {
    "ExecuteTime": {
     "end_time": "2020-02-15T14:08:47.896967Z",
     "start_time": "2020-02-15T14:08:47.686811Z"
    }
   },
   "outputs": [
    {
     "data": {
      "text/plain": [
       "(10009, 21)"
      ]
     },
     "execution_count": 66,
     "metadata": {},
     "output_type": "execute_result"
    }
   ],
   "source": [
    "test_X.shape"
   ]
  },
  {
   "cell_type": "code",
   "execution_count": 67,
   "metadata": {
    "ExecuteTime": {
     "end_time": "2020-02-15T14:09:15.279126Z",
     "start_time": "2020-02-15T14:08:47.904981Z"
    }
   },
   "outputs": [],
   "source": [
    "y_pred = lgmb_model.predict(test_X)"
   ]
  },
  {
   "cell_type": "code",
   "execution_count": 68,
   "metadata": {
    "ExecuteTime": {
     "end_time": "2020-02-15T14:09:15.286126Z",
     "start_time": "2020-02-15T14:09:15.280126Z"
    }
   },
   "outputs": [
    {
     "data": {
      "text/plain": [
       "array([[4.19043761e-05, 2.62228621e-04, 7.35085131e-05, ...,\n",
       "        9.76341891e-05, 4.43091117e-06, 3.06003893e-04],\n",
       "       [4.46367274e-04, 1.07480779e-03, 1.89992585e-05, ...,\n",
       "        5.30003809e-05, 6.48034488e-06, 1.97359208e-03],\n",
       "       [1.19185021e-04, 6.45605571e-05, 3.44668324e-06, ...,\n",
       "        8.22278134e-06, 1.34464154e-06, 1.74256234e-04],\n",
       "       ...,\n",
       "       [1.90486959e-03, 4.07903642e-04, 2.20201700e-05, ...,\n",
       "        5.25337058e-05, 6.71692256e-06, 3.14896790e-02],\n",
       "       [1.86719490e-04, 1.13258853e-04, 1.20305021e-06, ...,\n",
       "        2.87012705e-06, 1.07779749e-06, 6.02503953e-03],\n",
       "       [1.49264791e-03, 1.08125171e-04, 5.83700267e-06, ...,\n",
       "        1.39253866e-05, 1.78051533e-06, 5.73382727e-04]])"
      ]
     },
     "execution_count": 68,
     "metadata": {},
     "output_type": "execute_result"
    }
   ],
   "source": [
    "y_pred"
   ]
  },
  {
   "cell_type": "code",
   "execution_count": 69,
   "metadata": {
    "ExecuteTime": {
     "end_time": "2020-02-15T14:09:15.696848Z",
     "start_time": "2020-02-15T14:09:15.287126Z"
    }
   },
   "outputs": [],
   "source": [
    "submission = pd.DataFrame(data=y_pred, columns=sample_submission_df.columns, index=sample_submission_df.index)\n",
    "submission.to_csv('./submisson/submission.csv', index=True)"
   ]
  },
  {
   "cell_type": "code",
   "execution_count": null,
   "metadata": {},
   "outputs": [],
   "source": []
  }
 ],
 "metadata": {
  "kernelspec": {
   "display_name": "Python 3",
   "language": "python",
   "name": "python3"
  },
  "language_info": {
   "codemirror_mode": {
    "name": "ipython",
    "version": 3
   },
   "file_extension": ".py",
   "mimetype": "text/x-python",
   "name": "python",
   "nbconvert_exporter": "python",
   "pygments_lexer": "ipython3",
   "version": "3.6.5"
  },
  "varInspector": {
   "cols": {
    "lenName": 16,
    "lenType": 16,
    "lenVar": 40
   },
   "kernels_config": {
    "python": {
     "delete_cmd_postfix": "",
     "delete_cmd_prefix": "del ",
     "library": "var_list.py",
     "varRefreshCmd": "print(var_dic_list())"
    },
    "r": {
     "delete_cmd_postfix": ") ",
     "delete_cmd_prefix": "rm(",
     "library": "var_list.r",
     "varRefreshCmd": "cat(var_dic_list()) "
    }
   },
   "types_to_exclude": [
    "module",
    "function",
    "builtin_function_or_method",
    "instance",
    "_Feature"
   ],
   "window_display": false
  }
 },
 "nbformat": 4,
 "nbformat_minor": 2
}
